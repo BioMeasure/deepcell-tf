{
 "cells": [
  {
   "cell_type": "code",
   "execution_count": 1,
   "metadata": {},
   "outputs": [],
   "source": [
    "import numpy as np\n",
    "import skimage.io\n",
    "import skimage.measure\n",
    "#from scipy.ndimage.measurements import label\n",
    "import tifffile as tiff\n",
    "import matplotlib.pyplot as plt"
   ]
  },
  {
   "cell_type": "code",
   "execution_count": 2,
   "metadata": {},
   "outputs": [],
   "source": [
    "def im_prep(str_pred, str_mask, win_size):\n",
    "    prediction = skimage.io.imread(str_pred)\n",
    "    mask = skimage.io.imread(str_mask)\n",
    "    \n",
    "    mask = mask[win_size:-win_size, win_size:-win_size]\n",
    "    mask = np.pad(mask, (win_size, win_size), 'constant')\n",
    "    prediction = np.pad(prediction, (win_size, win_size), 'constant')\n",
    "    \n",
    "    return prediction, mask\n"
   ]
  },
  {
   "cell_type": "code",
   "execution_count": 3,
   "metadata": {},
   "outputs": [],
   "source": [
    "wshed_pred, wshed_mask = im_prep('wshed_pred.tif', 'wshed_mask.tif', 15)"
   ]
  },
  {
   "cell_type": "code",
   "execution_count": 10,
   "metadata": {},
   "outputs": [],
   "source": [
    "import matplotlib.pyplot as plt\n",
    "\n",
    "plt.rcParams['figure.figsize'] = [10,10]"
   ]
  },
  {
   "cell_type": "code",
   "execution_count": null,
   "metadata": {
    "scrolled": true
   },
   "outputs": [],
   "source": [
    "plt.subplot(1,1,1)"
   ]
  },
  {
   "cell_type": "code",
   "execution_count": null,
   "metadata": {
    "scrolled": true
   },
   "outputs": [],
   "source": [
    "plt.imshow(wshed_pred)"
   ]
  },
  {
   "cell_type": "code",
   "execution_count": null,
   "metadata": {},
   "outputs": [],
   "source": [
    "plt.imshow(wshed_mask)"
   ]
  },
  {
   "cell_type": "code",
   "execution_count": 4,
   "metadata": {},
   "outputs": [
    {
     "name": "stdout",
     "output_type": "stream",
     "text": [
      "watershed mask max is:  255  shape is:  (2048, 2048)\n",
      "watershed prediction max is:  5798  shape is:  (2048, 2048)\n"
     ]
    }
   ],
   "source": [
    "print('watershed mask max is: ', wshed_mask.max(), ' shape is: ', wshed_mask.shape)\n",
    "print('watershed prediction max is: ', wshed_pred.max(), ' shape is: ', wshed_pred.shape)"
   ]
  },
  {
   "cell_type": "code",
   "execution_count": null,
   "metadata": {},
   "outputs": [],
   "source": [
    "def dice_pixel(pred_input, truth_input):\n",
    "    pred = np.copy(pred_input)\n",
    "    truth = np.copy(truth_input)\n",
    "    \n",
    "    pred[pred != 0] = 1\n",
    "    truth[truth != 0] = 1    \n",
    "    \n",
    "    true_pos = 0\n",
    "    false_pos = 0\n",
    "    false_neg = 0\n",
    "    \n",
    "    if pred.shape != truth.shape:\n",
    "        print('shape of inputs need to match. Shape of prediction is: ', pred.shape, ' Shape of mask is: ', truth.shape)\n",
    "    \n",
    "    for y,x in np.ndindex(wshed_pred.shape):\n",
    "        if((pred[y][x]==1) & (truth[y][x]==1)):\n",
    "            true_pos += 1\n",
    "        elif((pred[y][x]==1) & (truth[y][x]==0)):\n",
    "            false_pos += 1\n",
    "        elif((pred[y][x]==0) & (truth[y][x]==1)):\n",
    "            false_neg += 1\n",
    "    \n",
    "    dice_pixel = (2*true_pos)/(2*true_pos + false_pos + false_neg)\n",
    "    \n",
    "    print('pixelwise dice/F1 score is: ', dice_pixel)\n",
    "    \n",
    "    \n",
    "    \n",
    "    \n",
    "    "
   ]
  },
  {
   "cell_type": "code",
   "execution_count": null,
   "metadata": {},
   "outputs": [],
   "source": [
    "dice_pixel(wshed_pred, wshed_mask)"
   ]
  },
  {
   "cell_type": "code",
   "execution_count": 5,
   "metadata": {},
   "outputs": [],
   "source": [
    "def dice_pixel_quick(pred_input, truth_input):\n",
    "    \n",
    "    pred = np.copy(pred_input)\n",
    "    truth = np.copy(truth_input)\n",
    "    \n",
    "    pred[pred != 0] = 1\n",
    "    truth[truth != 0] = 1    \n",
    "    \n",
    "    true_pos = 0\n",
    "    false_pos = 0\n",
    "    false_neg = 0\n",
    "    \n",
    "    if pred.shape != truth.shape:\n",
    "        raise ValueError('shape of inputs need to match. Shape of prediction is: ', pred.shape, ' Shape of mask is: ', truth.shape)\n",
    "    \n",
    "    if((pred.sum() + truth.sum()) == 0):\n",
    "        print('arrays are empty. Dice score is technically 1.0')\n",
    "        return 1.0\n",
    "    \n",
    "    intersection = np.logical_and(pred, truth)\n",
    "\n",
    "    dice_pixel = (2*intersection.sum() / (pred.sum() + truth.sum()))\n",
    "    jaccard_pixel = dice_pixel/(2-dice_pixel)\n",
    "    \n",
    "#    for y,x in np.ndindex(wshed_pred.shape):\n",
    "#        if((pred[y][x]==1) & (truth[y][x]==1)):\n",
    "#            true_pos += 1\n",
    "#        elif((pred[y][x]==1) & (truth[y][x]==0)):\n",
    "#            false_pos += 1\n",
    "#        elif((pred[y][x]==0) & (truth[y][x]==1)):\n",
    "#            false_neg += 1\n",
    "    \n",
    "#    dice_pixel = (2*true_pos)/(2*true_pos + false_pos + false_neg)\n",
    "    \n",
    "    print('pixelwise dice/F1 index is: ', dice_pixel)\n",
    "    print('pixelwise jaccard index is: ', jaccard_pixel)\n",
    "#    return dice_pixel, jaccard_pixel"
   ]
  },
  {
   "cell_type": "code",
   "execution_count": 6,
   "metadata": {},
   "outputs": [
    {
     "name": "stdout",
     "output_type": "stream",
     "text": [
      "pixelwise dice/F1 index is:  0.8812708067220768\n",
      "pixelwise jaccard index is:  0.7877427459811938\n"
     ]
    }
   ],
   "source": [
    "dice_pixel_quick(wshed_pred, wshed_mask)"
   ]
  },
  {
   "cell_type": "code",
   "execution_count": 53,
   "metadata": {},
   "outputs": [],
   "source": [
    "def gen_iou_matrix(pred_input, truth_input, threshold):\n",
    "    \n",
    "    pred = np.copy(pred_input)\n",
    "    truth = np.copy(truth_input)\n",
    "    \n",
    "#    print('watershed mask max is: ', truth.max())\n",
    "#    print('watershed prediction max is: ', pred.max())\n",
    "    \n",
    "#    pred[pred != 0] = 1\n",
    "#    truth[truth != 0] = 1\n",
    "    \n",
    "#    pred = skimage.measure.label(pred, connectivity = 2)\n",
    "    truth = skimage.measure.label(truth, connectivity = 2)\n",
    "    \n",
    "    print('watershed mask max post-label is: ', truth.max())\n",
    "    print('watershed prediction max post-label is: ', pred.max())\n",
    "    \n",
    "   # plt.imshow(truth)\n",
    "    \n",
    "    iou_matrix = np.zeros((truth.max(), pred.max()))\n",
    "    \n",
    "    print('shape of intersection over union matrix is: ', iou_matrix.shape)\n",
    "    \n",
    "    for n,m in np.ndindex(iou_matrix.shape):\n",
    "        \n",
    "  #      if(n == 0):\n",
    "  #          print('checkpoint')\n",
    "        \n",
    "     #   print(pred.shape, truth.shape)\n",
    "        \n",
    "        pred_cpy = np.copy(pred)\n",
    "        truth_cpy = np.copy(truth)\n",
    "        \n",
    "        pred_cpy[pred_cpy != m+1] = 0\n",
    "        truth_cpy[truth_cpy != n+1] = 0\n",
    "    \n",
    "        intersection = np.logical_and(pred_cpy, truth_cpy)\n",
    "        union = np.logical_or(pred_cpy, truth_cpy)\n",
    "        \n",
    "    #    intersection = np.logical_and((pred[pred==(m+1)]), (truth[truth==(n+1)]))\n",
    "    #    union = np.logical_or((pred[pred==(m+1)]), (truth[truth==(n+1)]))\n",
    "        \n",
    "        iou = np.sum(intersection) / np.sum(union)\n",
    "        \n",
    "        if iou > threshold:\n",
    "            iou = 1\n",
    "        else:\n",
    "            iou = 0\n",
    "        \n",
    "    print('sum is: ', np.sum(iou_matrix))\n",
    "    \n",
    "    return iou_matrix, pred.max(), truth.max()"
   ]
  },
  {
   "cell_type": "code",
   "execution_count": 54,
   "metadata": {},
   "outputs": [],
   "source": [
    "def dice_jaccard_object(pred, truth, threshold=0.5):\n",
    "    \n",
    "    iou_matrix, pred_max, truth_max = gen_iou_matrix(pred, truth, 0.5)\n",
    "    iou_sum = np.sum(iou_matrix)\n",
    "    dice_object = 2*iou_sum / (2*iou_sum + pred_max-iou_sum + truth_max-iou_sum)\n",
    "    \n",
    "    print('object-based dice/F1 score is: ', dice_object)"
   ]
  },
  {
   "cell_type": "code",
   "execution_count": null,
   "metadata": {},
   "outputs": [
    {
     "name": "stdout",
     "output_type": "stream",
     "text": [
      "watershed mask max post-label is:  4569\n",
      "watershed prediction max post-label is:  5798\n",
      "shape of intersection over union matrix is:  (4569, 5798)\n"
     ]
    }
   ],
   "source": [
    "dice_jaccard_object(wshed_pred, wshed_mask)"
   ]
  },
  {
   "cell_type": "code",
   "execution_count": null,
   "metadata": {},
   "outputs": [],
   "source": []
  }
 ],
 "metadata": {
  "kernelspec": {
   "display_name": "Python 3",
   "language": "python",
   "name": "python3"
  },
  "language_info": {
   "codemirror_mode": {
    "name": "ipython",
    "version": 3
   },
   "file_extension": ".py",
   "mimetype": "text/x-python",
   "name": "python",
   "nbconvert_exporter": "python",
   "pygments_lexer": "ipython3",
   "version": "3.6.5"
  }
 },
 "nbformat": 4,
 "nbformat_minor": 2
}
