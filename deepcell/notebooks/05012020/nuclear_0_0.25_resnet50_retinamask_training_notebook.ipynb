{
 "cells": [
  {
   "cell_type": "markdown",
   "metadata": {
    "papermill": {
     "duration": 0.018273,
     "end_time": "2020-05-02T03:41:36.102177",
     "exception": false,
     "start_time": "2020-05-02T03:41:36.083904",
     "status": "completed"
    },
    "tags": []
   },
   "source": [
    "# General nuclear segmentation training notebook\n",
    "\n",
    "This notebook trains a model to perform nuclear segmentation of fluorescent microscopy images."
   ]
  },
  {
   "cell_type": "markdown",
   "metadata": {
    "papermill": {
     "duration": 0.013002,
     "end_time": "2020-05-02T03:41:36.128166",
     "exception": false,
     "start_time": "2020-05-02T03:41:36.115164",
     "status": "completed"
    },
    "tags": []
   },
   "source": [
    "## Part 1: Import relevant python packages\n",
    "\n",
    "This section imports python packages that are used throughout the notebook and defines parameters that can be used with papermill"
   ]
  },
  {
   "cell_type": "code",
   "execution_count": 1,
   "metadata": {
    "papermill": {
     "duration": 21.618858,
     "end_time": "2020-05-02T03:41:57.759961",
     "exception": false,
     "start_time": "2020-05-02T03:41:36.141103",
     "status": "completed"
    },
    "tags": []
   },
   "outputs": [],
   "source": [
    "import os\n",
    "import errno\n",
    "\n",
    "import numpy as np\n",
    "\n",
    "import tensorflow as tf\n",
    "gpus = tf.config.experimental.list_physical_devices('GPU')\n",
    "for gpu in gpus:\n",
    "      tf.config.experimental.set_memory_growth(gpu, True)\n",
    "        \n",
    "import deepcell"
   ]
  },
  {
   "cell_type": "code",
   "execution_count": 2,
   "metadata": {
    "papermill": {
     "duration": 0.021963,
     "end_time": "2020-05-02T03:41:57.795510",
     "exception": false,
     "start_time": "2020-05-02T03:41:57.773547",
     "status": "completed"
    },
    "tags": [
     "parameters"
    ]
   },
   "outputs": [],
   "source": [
    "# Define parameters that can be set with papermill\n",
    "backbone = 'resnet50'\n",
    "dataset_name='general_nuclear'\n",
    "n_epochs = 8\n",
    "date = '04242020'\n",
    "dataset_fraction = .01\n",
    "train_test_seed = 0\n",
    "train_permutation_seed = 0\n",
    "train_val_seed=314\n",
    "model_type = 'watershed'\n",
    "batch_size = 4 if model_type == 'retinamask' else 16"
   ]
  },
  {
   "cell_type": "code",
   "execution_count": 3,
   "metadata": {
    "papermill": {
     "duration": 0.02098,
     "end_time": "2020-05-02T03:41:57.829321",
     "exception": false,
     "start_time": "2020-05-02T03:41:57.808341",
     "status": "completed"
    },
    "tags": [
     "injected-parameters"
    ]
   },
   "outputs": [],
   "source": [
    "# Parameters\n",
    "n_epochs = 16\n",
    "batch_size = 4\n",
    "date = \"05012020\"\n",
    "filename = \"nuclear_0_0.25_resnet50_retinamask\"\n",
    "train_permutation_seed = 0\n",
    "dataset_fraction = 0.25\n",
    "backbone = \"resnet50\"\n",
    "model_type = \"retinamask\"\n"
   ]
  },
  {
   "cell_type": "markdown",
   "metadata": {
    "papermill": {
     "duration": 0.012864,
     "end_time": "2020-05-02T03:41:57.855018",
     "exception": false,
     "start_time": "2020-05-02T03:41:57.842154",
     "status": "completed"
    },
    "tags": []
   },
   "source": [
    "## Part 2: Load training data and create data generators\n",
    "\n",
    "Data generators augment data and feed it into the model training process. Here, we define the generators that will be used to train our segmentation model."
   ]
  },
  {
   "cell_type": "code",
   "execution_count": 4,
   "metadata": {
    "papermill": {
     "duration": 174.394164,
     "end_time": "2020-05-02T03:44:52.262080",
     "exception": false,
     "start_time": "2020-05-02T03:41:57.867916",
     "status": "completed"
    },
    "scrolled": false,
    "tags": []
   },
   "outputs": [
    {
     "name": "stdout",
     "output_type": "stream",
     "text": [
      "(180, 40, 216, 256, 1) (180, 40, 216, 256, 1)\n"
     ]
    },
    {
     "name": "stdout",
     "output_type": "stream",
     "text": [
      "(259, 30, 135, 160, 1) (259, 30, 135, 160, 1)\n"
     ]
    },
    {
     "name": "stdout",
     "output_type": "stream",
     "text": [
      "(240, 30, 154, 182, 1) (240, 30, 154, 182, 1)\n"
     ]
    },
    {
     "name": "stdout",
     "output_type": "stream",
     "text": [
      "(124, 30, 202, 240, 1) (124, 30, 202, 240, 1)\n"
     ]
    },
    {
     "name": "stdout",
     "output_type": "stream",
     "text": [
      "Reshaped feature data from (27, 40, 216, 256, 1) to (108, 40, 128, 128, 1)\n",
      "Reshaped training data from (27, 40, 216, 256, 1) to (108, 40, 128, 128, 1)\n"
     ]
    },
    {
     "name": "stdout",
     "output_type": "stream",
     "text": [
      "Reshaped feature data from (39, 30, 135, 160, 1) to (156, 30, 128, 128, 1)\n",
      "Reshaped training data from (39, 30, 135, 160, 1) to (156, 30, 128, 128, 1)\n"
     ]
    },
    {
     "name": "stdout",
     "output_type": "stream",
     "text": [
      "Reshaped feature data from (40, 30, 154, 182, 1) to (160, 30, 128, 128, 1)\n",
      "Reshaped training data from (40, 30, 154, 182, 1) to (160, 30, 128, 128, 1)\n"
     ]
    },
    {
     "name": "stdout",
     "output_type": "stream",
     "text": [
      "Reshaped feature data from (22, 30, 202, 240, 1) to (88, 30, 128, 128, 1)\n",
      "Reshaped training data from (22, 30, 202, 240, 1) to (88, 30, 128, 128, 1)\n"
     ]
    },
    {
     "name": "stdout",
     "output_type": "stream",
     "text": [
      "Reshaped feature data from (6, 40, 216, 256, 1) to (24, 40, 128, 128, 1)\n",
      "Reshaped training data from (6, 40, 216, 256, 1) to (24, 40, 128, 128, 1)\n"
     ]
    },
    {
     "name": "stdout",
     "output_type": "stream",
     "text": [
      "Reshaped feature data from (10, 30, 135, 160, 1) to (40, 30, 128, 128, 1)\n",
      "Reshaped training data from (10, 30, 135, 160, 1) to (40, 30, 128, 128, 1)\n"
     ]
    },
    {
     "name": "stdout",
     "output_type": "stream",
     "text": [
      "Reshaped feature data from (12, 30, 154, 182, 1) to (48, 30, 128, 128, 1)\n",
      "Reshaped training data from (12, 30, 154, 182, 1) to (48, 30, 128, 128, 1)\n"
     ]
    },
    {
     "name": "stdout",
     "output_type": "stream",
     "text": [
      "Reshaped feature data from (4, 30, 202, 240, 1) to (16, 30, 128, 128, 1)\n",
      "Reshaped training data from (4, 30, 202, 240, 1) to (16, 30, 128, 128, 1)\n"
     ]
    },
    {
     "name": "stdout",
     "output_type": "stream",
     "text": [
      "Reshaped feature data from (36, 40, 128, 128, 1) to (36, 40, 128, 128, 1)\n",
      "Reshaped training data from (36, 40, 128, 128, 1) to (36, 40, 128, 128, 1)\n"
     ]
    },
    {
     "name": "stdout",
     "output_type": "stream",
     "text": [
      "Reshaped feature data from (52, 30, 128, 128, 1) to (52, 30, 128, 128, 1)\n",
      "Reshaped training data from (52, 30, 128, 128, 1) to (52, 30, 128, 128, 1)\n"
     ]
    },
    {
     "name": "stdout",
     "output_type": "stream",
     "text": [
      "Reshaped feature data from (48, 30, 128, 128, 1) to (48, 30, 128, 128, 1)\n",
      "Reshaped training data from (48, 30, 128, 128, 1) to (48, 30, 128, 128, 1)\n"
     ]
    },
    {
     "name": "stdout",
     "output_type": "stream",
     "text": [
      "Reshaped feature data from (25, 30, 202, 240, 1) to (100, 30, 128, 128, 1)\n",
      "Reshaped training data from (25, 30, 202, 240, 1) to (100, 30, 128, 128, 1)\n"
     ]
    },
    {
     "name": "stdout",
     "output_type": "stream",
     "text": [
      "(16440, 128, 128, 1) (16440, 128, 128, 1) (4080, 128, 128, 1) (4080, 128, 128, 1)\n",
      "Number of training tracks 1978\n",
      "Number of validation tracks 490\n",
      "Number of testing tracks 1925\n",
      "Number of training cells 47129\n",
      "Number of validation cells 11541\n",
      "Number of testing cells 42731\n"
     ]
    }
   ],
   "source": [
    "from deepcell.utils.data_utils import get_data, reshape_movie\n",
    "from deepcell import image_generators\n",
    "from deepcell.utils import train_utils\n",
    "from sklearn.model_selection import train_test_split\n",
    "from deepcell_tracking.utils import load_trks\n",
    "\n",
    "# Helper function - get unique tracks\n",
    "def get_n_tracks(array):\n",
    "    # array with dims (batch, time, x, y, c)\n",
    "    n_tracks = 0\n",
    "    for b in array:\n",
    "        n_tracks += len(np.unique(b)) - 1\n",
    "    return n_tracks\n",
    "\n",
    "# Helper function - get unique cells\n",
    "def get_n_cells(array):\n",
    "    # array with dims (batch, time, x, y, c)\n",
    "    n_cells = 0\n",
    "    for b in array:\n",
    "        for t in b:\n",
    "            n_cells += len(np.unique(t)) - 1\n",
    "    return n_cells\n",
    "\n",
    "# Helper function - convert indices\n",
    "def convert_indices(indices, X_list):\n",
    "    N_batches = np.array([x.shape[0] for x in X_list])\n",
    "    N_cumsum = np.cumsum(N_batches)\n",
    "    converted_index = []\n",
    "    for i in range(len(X_list)):\n",
    "        if i==0:\n",
    "            i_index = indices[indices < N_cumsum[i]]\n",
    "            converted_index.append(i_index)\n",
    "        else:\n",
    "            i_index = indices[np.logical_and(indices < N_cumsum[i], indices >= N_cumsum[i-1])] - N_cumsum[i-1]\n",
    "            converted_index.append(i_index)    \n",
    "    return converted_index\n",
    "\n",
    "# Helper function - reshape movies\n",
    "def reshape_list_of_movies(X_list, y_list, reshape_size=128, crop=False):\n",
    "    X_reshape = []\n",
    "    y_reshape = []\n",
    "    for Xl, yl in zip(X_list, y_list):\n",
    "        Xr, yr = reshape_movie(Xl, yl, reshape_size=reshape_size)\n",
    "        Xr = Xr.reshape((-1, reshape_size, reshape_size, Xr.shape[-1]))\n",
    "        yr = yr.reshape((-1, reshape_size, reshape_size, yr.shape[-1]))\n",
    "        X_reshape.append(Xr)\n",
    "        y_reshape.append(yr)\n",
    "    X_reshape = np.concatenate(X_reshape, axis=0)\n",
    "    y_reshape = np.concatenate(y_reshape, axis=0)\n",
    "    \n",
    "    return X_reshape, y_reshape\n",
    "\n",
    "# Load datasets \n",
    "dataset_direc = '/data/training_data/'\n",
    "\n",
    "hela_filename = 'HeLa_S3.trks'\n",
    "hek_filename = 'HEK293.trks'\n",
    "nih_filename = '3T3_NIH.trks'\n",
    "raw_filename = 'RAW2647.trks'\n",
    "\n",
    "filenames = [hela_filename, hek_filename, nih_filename, raw_filename]\n",
    "\n",
    "X_train = []\n",
    "y_train = []\n",
    "\n",
    "X_test = []\n",
    "y_test = []\n",
    "\n",
    "for filename in filenames:\n",
    "    path = os.path.join(dataset_direc, filename)\n",
    "    training_data = load_trks(path)\n",
    "    X = training_data['X']\n",
    "    y = training_data['y']\n",
    "    \n",
    "    print(X.shape, y.shape)\n",
    "    \n",
    "    # Split into training and testing dataset\n",
    "    Xt, Xtest, yt, ytest = train_test_split(X, y, test_size=0.2, random_state=train_test_seed)\n",
    "    \n",
    "    # Crop test dataset\n",
    "    X_test = [arr[:,:,0:128,0:128,:] for arr in X_test]\n",
    "    y_test = [arr[:,:,0:128,0:128,:] for arr in y_test]\n",
    "    \n",
    "    X_train.append(Xt)\n",
    "    y_train.append(yt)\n",
    "    X_test.append(Xtest)\n",
    "    y_test.append(ytest)\n",
    "    \n",
    "# Select subset of the training data\n",
    "N_batches = sum([x.shape[0] for x in X_train])\n",
    "index = np.arange(N_batches)\n",
    "dataset_size = int(dataset_fraction * N_batches)\n",
    "permuted_index = np.random.RandomState(seed=train_permutation_seed).permutation(index)\n",
    "reduced_index = permuted_index[0:dataset_size]\n",
    "converted_index = convert_indices(reduced_index, X_train)\n",
    "\n",
    "X_reduced = [x[ci] for x, ci in zip(X_train, converted_index)]\n",
    "y_reduced = [y[ci] for y, ci in zip(y_train, converted_index)]\n",
    "\n",
    "# Split into training and validation datasets\n",
    "N_batches = sum([x.shape[0] for x in X_reduced])\n",
    "index = np.arange(N_batches)\n",
    "val_size = int(0.2 * N_batches)\n",
    "permuted_index = np.random.RandomState(seed=train_val_seed).permutation(index)\n",
    "val_index = permuted_index[0:val_size]\n",
    "train_index = permuted_index[val_size:]\n",
    "\n",
    "val_ci = convert_indices(val_index, X_reduced)\n",
    "train_ci = convert_indices(train_index, X_reduced)\n",
    "\n",
    "X_train = [x[ci] for x, ci in zip(X_reduced, train_ci)]\n",
    "y_train = [y[ci] for y, ci in zip(y_reduced, train_ci)]\n",
    "\n",
    "X_val = [x[ci] for x, ci in zip(X_reduced, val_ci)]\n",
    "y_val = [y[ci] for y, ci in zip(y_reduced, val_ci)]\n",
    "    \n",
    "# Record the number of tracks and cells\n",
    "n_tracks_train = sum([get_n_tracks(y) for y in y_train])\n",
    "n_tracks_val = sum([get_n_tracks(y) for y in y_val])\n",
    "n_tracks_test = sum([get_n_tracks(y) for y in y_test])\n",
    "\n",
    "n_cells_train = sum([get_n_cells(y) for y in y_train])\n",
    "n_cells_val = sum([get_n_cells(y) for y in y_val])\n",
    "n_cells_test = sum([get_n_cells(y) for y in y_test])\n",
    "    \n",
    "# Reshape the datasets\n",
    "X_train, y_train = reshape_list_of_movies(X_train, y_train)\n",
    "X_val, y_val = reshape_list_of_movies(X_val, y_val)\n",
    "X_test, y_test = reshape_list_of_movies(X_test, y_test)\n",
    "\n",
    "train_dict = {'X':X_train, 'y':y_train}\n",
    "val_dict = {'X':X_val, 'y':y_val}\n",
    "test_dict = {'X':X_test, 'y':y_test}\n",
    "\n",
    "print(X_train.shape, y_train.shape, X_val.shape, y_val.shape)\n",
    "print('Number of training tracks {}'.format(n_tracks_train))\n",
    "print('Number of validation tracks {}'.format(n_tracks_val))\n",
    "print('Number of testing tracks {}'.format(n_tracks_test))\n",
    "\n",
    "print('Number of training cells {}'.format(n_cells_train))\n",
    "print('Number of validation cells {}'.format(n_cells_val))\n",
    "print('Number of testing cells {}'.format(n_cells_test))"
   ]
  },
  {
   "cell_type": "code",
   "execution_count": 5,
   "metadata": {
    "papermill": {
     "duration": 5.688558,
     "end_time": "2020-05-02T03:44:57.971223",
     "exception": false,
     "start_time": "2020-05-02T03:44:52.282665",
     "status": "completed"
    },
    "tags": []
   },
   "outputs": [
    {
     "name": "stderr",
     "output_type": "stream",
     "text": [
      "WARNING: Logging before flag parsing goes to stderr.\n",
      "W0502 03:44:55.698128 140051641706304 retinanet.py:357] Removing 3672 of 16440 images with fewer than 3 objects.\n"
     ]
    },
    {
     "name": "stderr",
     "output_type": "stream",
     "text": [
      "W0502 03:44:57.684911 140051641706304 retinanet.py:357] Removing 891 of 4080 images with fewer than 3 objects.\n"
     ]
    }
   ],
   "source": [
    "from deepcell.utils.retinanet_anchor_utils import generate_anchor_params\n",
    "from tensorflow.python.keras import backend as K\n",
    "\n",
    "# Get anchor settings for RetinaMask models\n",
    "pyramid_levels = ['P3', 'P4']\n",
    "anchor_size_dict = {'P3':16, 'P4':32}\n",
    "anchor_params = generate_anchor_params(pyramid_levels, anchor_size_dict)\n",
    "\n",
    "# Data augmentation parameters\n",
    "generator_kwargs = {}\n",
    "generator_kwargs['rotation_range'] = 180\n",
    "generator_kwargs['shear_range'] = 0\n",
    "generator_kwargs['zoom_range'] = 0.25\n",
    "generator_kwargs['horizontal_flip'] = True\n",
    "generator_kwargs['vertical_flip'] = True\n",
    "\n",
    "generator_val_kwargs = {}\n",
    "generator_val_kwargs['rotation_range'] = 0\n",
    "generator_val_kwargs['shear_range'] = 0\n",
    "generator_val_kwargs['zoom_range'] = 0\n",
    "generator_val_kwargs['horizontal_flip'] = False\n",
    "generator_val_kwargs['vertical_flip'] = False\n",
    "\n",
    "# Minimum number of objects in an image\n",
    "min_objects = 3 if model_type == 'retinamask' else 0\n",
    "\n",
    "# Random seed\n",
    "seed=808\n",
    "\n",
    "if model_type == 'watershed':\n",
    "    datagen = image_generators.SemanticDataGenerator(**generator_kwargs)\n",
    "    datagen_val = image_generators.SemanticDataGenerator(**generator_val_kwargs)\n",
    "    \n",
    "    train_data = datagen.flow(\n",
    "        train_dict,\n",
    "        seed=seed,\n",
    "        transforms=['centroid', 'watershed-cont', 'fgbg'],\n",
    "        transforms_kwargs={'watershed-cont': {'erosion_width': 1}, 'centroid': {'alpha':'auto', 'beta':0.5}},\n",
    "        min_objects=min_objects,\n",
    "        batch_size=batch_size)\n",
    "\n",
    "    val_data = datagen_val.flow(\n",
    "        val_dict,\n",
    "        seed=seed,\n",
    "        transforms=['centroid', 'watershed-cont', 'fgbg'],\n",
    "        transforms_kwargs={'watershed-cont': {'erosion_width': 1}, 'centroid': {'alpha':'auto', 'beta':0.5}},\n",
    "        min_objects=min_objects,\n",
    "        batch_size=batch_size)\n",
    "    \n",
    "elif model_type == 'pixelwise':\n",
    "    datagen = image_generators.SemanticDataGenerator(**generator_kwargs)\n",
    "    datagen_val = image_generators.SemanticDataGenerator(**generator_val_kwargs)\n",
    "    \n",
    "    train_data = datagen.flow(\n",
    "        train_dict,\n",
    "        seed=seed,\n",
    "        transforms=['pixelwise'],\n",
    "        transforms_kwargs={},\n",
    "        min_objects=min_objects,\n",
    "        batch_size=batch_size)\n",
    "\n",
    "    val_data = datagen_val.flow(\n",
    "        val_dict,\n",
    "        seed=seed,\n",
    "        transforms=['pixelwise'],\n",
    "        transforms_kwargs={},\n",
    "        min_objects=min_objects,\n",
    "        batch_size=batch_size)\n",
    "\n",
    "elif model_type == 'retinamask':\n",
    "    datagen = image_generators.RetinaNetGenerator(**generator_kwargs)\n",
    "    datagen_val = image_generators.RetinaNetGenerator(**generator_val_kwargs)\n",
    "    \n",
    "    train_data = datagen.flow(\n",
    "        train_dict=train_dict,\n",
    "        seed=seed,\n",
    "        transforms=[],\n",
    "        transforms_kwargs={},\n",
    "        min_objects=min_objects,\n",
    "        batch_size=batch_size,\n",
    "        anchor_params=anchor_params,\n",
    "        pyramid_levels=pyramid_levels,\n",
    "        include_masks=True)\n",
    "    \n",
    "    val_data = datagen_val.flow(\n",
    "        train_dict=val_dict,\n",
    "        seed=seed,\n",
    "        transforms=[],\n",
    "        transforms_kwargs={},\n",
    "        min_objects=min_objects,\n",
    "        batch_size=batch_size,\n",
    "        anchor_params=anchor_params,\n",
    "        pyramid_levels=pyramid_levels,\n",
    "        include_masks=True)\n",
    "    "
   ]
  },
  {
   "cell_type": "markdown",
   "metadata": {
    "papermill": {
     "duration": 0.020664,
     "end_time": "2020-05-02T03:44:58.012634",
     "exception": false,
     "start_time": "2020-05-02T03:44:57.991970",
     "status": "completed"
    },
    "tags": []
   },
   "source": [
    "## Part 3: Define model\n",
    "\n",
    "Here we define a PanopticNet to perform the image segmentation. This model will predict the inner distance and outer distance transform (as done in ), as well as the foreground-background transform."
   ]
  },
  {
   "cell_type": "code",
   "execution_count": 6,
   "metadata": {
    "papermill": {
     "duration": 45.012392,
     "end_time": "2020-05-02T03:45:43.050208",
     "exception": false,
     "start_time": "2020-05-02T03:44:58.037816",
     "status": "completed"
    },
    "scrolled": true,
    "tags": []
   },
   "outputs": [
    {
     "name": "stderr",
     "output_type": "stream",
     "text": [
      "W0502 03:44:58.090724 140051641706304 deprecation.py:506] From /usr/local/lib/python3.6/dist-packages/tensorflow/python/ops/init_ops.py:1251: calling VarianceScaling.__init__ (from tensorflow.python.ops.init_ops) with dtype is deprecated and will be removed in a future version.\n",
      "Instructions for updating:\n",
      "Call initializer instance with the dtype argument instead of passing it to the constructor\n"
     ]
    },
    {
     "name": "stdout",
     "output_type": "stream",
     "text": [
      "Downloading data from https://github.com/keras-team/keras-applications/releases/download/resnet/resnet50_weights_tf_dim_ordering_tf_kernels_notop.h5\n"
     ]
    },
    {
     "name": "stdout",
     "output_type": "stream",
     "text": [
      "\r",
      "    8192/94765736 [..............................] - ETA: 1s"
     ]
    },
    {
     "name": "stdout",
     "output_type": "stream",
     "text": [
      "\b\b\b\b\b\b\b\b\b\b\b\b\b\b\b\b\b\b\b\b\b\b\b\b\b\b\b\b\b\b\b\b\b\b\b\b\b\b\b\b\b\b\b\b\b\b\b\b\b\b\b\b\b\b\b\b\b\b\b\b\r",
      "   24576/94765736 [..............................] - ETA: 4:00"
     ]
    },
    {
     "name": "stdout",
     "output_type": "stream",
     "text": [
      "\b\b\b\b\b\b\b\b\b\b\b\b\b\b\b\b\b\b\b\b\b\b\b\b\b\b\b\b\b\b\b\b\b\b\b\b\b\b\b\b\b\b\b\b\b\b\b\b\b\b\b\b\b\b\b\b\b\b\b\b\b\b\r",
      "   57344/94765736 [..............................] - ETA: 3:27"
     ]
    },
    {
     "name": "stdout",
     "output_type": "stream",
     "text": [
      "\b\b\b\b\b\b\b\b\b\b\b\b\b\b\b\b\b\b\b\b\b\b\b\b\b\b\b\b\b\b\b\b\b\b\b\b\b\b\b\b\b\b\b\b\b\b\b\b\b\b\b\b\b\b\b\b\b\b\b\b\b\b\r",
      "   90112/94765736 [..............................] - ETA: 3:17"
     ]
    },
    {
     "name": "stdout",
     "output_type": "stream",
     "text": [
      "\b\b\b\b\b\b\b\b\b\b\b\b\b\b\b\b\b\b\b\b\b\b\b\b\b\b\b\b\b\b\b\b\b\b\b\b\b\b\b\b\b\b\b\b\b\b\b\b\b\b\b\b\b\b\b\b\b\b\b\b\b\b\r",
      "  163840/94765736 [..............................] - ETA: 2:25"
     ]
    },
    {
     "name": "stdout",
     "output_type": "stream",
     "text": [
      "\b\b\b\b\b\b\b\b\b\b\b\b\b\b\b\b\b\b\b\b\b\b\b\b\b\b\b\b\b\b\b\b\b\b\b\b\b\b\b\b\b\b\b\b\b\b\b\b\b\b\b\b\b\b\b\b\b\b\b\b\b\b\r",
      "  319488/94765736 [..............................] - ETA: 1:32"
     ]
    },
    {
     "name": "stdout",
     "output_type": "stream",
     "text": [
      "\b\b\b\b\b\b\b\b\b\b\b\b\b\b\b\b\b\b\b\b\b\b\b\b\b\b\b\b\b\b\b\b\b\b\b\b\b\b\b\b\b\b\b\b\b\b\b\b\b\b\b\b\b\b\b\b\b\b\b\b\b\b\r",
      "  540672/94765736 [..............................] - ETA: 1:05"
     ]
    },
    {
     "name": "stdout",
     "output_type": "stream",
     "text": [
      "\b\b\b\b\b\b\b\b\b\b\b\b\b\b\b\b\b\b\b\b\b\b\b\b\b\b\b\b\b\b\b\b\b\b\b\b\b\b\b\b\b\b\b\b\b\b\b\b\b\b\b\b\b\b\b\b\b\b\b\b\b\b\r",
      " 1015808/94765736 [..............................] - ETA: 40s "
     ]
    },
    {
     "name": "stdout",
     "output_type": "stream",
     "text": [
      "\b\b\b\b\b\b\b\b\b\b\b\b\b\b\b\b\b\b\b\b\b\b\b\b\b\b\b\b\b\b\b\b\b\b\b\b\b\b\b\b\b\b\b\b\b\b\b\b\b\b\b\b\b\b\b\b\b\b\b\b\b\r",
      " 1572864/94765736 [..............................] - ETA: 29s"
     ]
    },
    {
     "name": "stdout",
     "output_type": "stream",
     "text": [
      "\b\b\b\b\b\b\b\b\b\b\b\b\b\b\b\b\b\b\b\b\b\b\b\b\b\b\b\b\b\b\b\b\b\b\b\b\b\b\b\b\b\b\b\b\b\b\b\b\b\b\b\b\b\b\b\b\b\b\b\b\b\r",
      " 2727936/94765736 [..............................] - ETA: 19s"
     ]
    },
    {
     "name": "stdout",
     "output_type": "stream",
     "text": [
      "\b\b\b\b\b\b\b\b\b\b\b\b\b\b\b\b\b\b\b\b\b\b\b\b\b\b\b\b\b\b\b\b\b\b\b\b\b\b\b\b\b\b\b\b\b\b\b\b\b\b\b\b\b\b\b\b\b\b\b\b\b\r",
      " 4333568/94765736 [>.............................] - ETA: 13s"
     ]
    },
    {
     "name": "stdout",
     "output_type": "stream",
     "text": [
      "\b\b\b\b\b\b\b\b\b\b\b\b\b\b\b\b\b\b\b\b\b\b\b\b\b\b\b\b\b\b\b\b\b\b\b\b\b\b\b\b\b\b\b\b\b\b\b\b\b\b\b\b\b\b\b\b\b\b\b\b\b\r",
      " 6873088/94765736 [=>............................] - ETA: 8s "
     ]
    },
    {
     "name": "stdout",
     "output_type": "stream",
     "text": [
      "\b\b\b\b\b\b\b\b\b\b\b\b\b\b\b\b\b\b\b\b\b\b\b\b\b\b\b\b\b\b\b\b\b\b\b\b\b\b\b\b\b\b\b\b\b\b\b\b\b\b\b\b\b\b\b\b\b\b\b\b\r",
      " 9166848/94765736 [=>............................] - ETA: 7s"
     ]
    },
    {
     "name": "stdout",
     "output_type": "stream",
     "text": [
      "\b\b\b\b\b\b\b\b\b\b\b\b\b\b\b\b\b\b\b\b\b\b\b\b\b\b\b\b\b\b\b\b\b\b\b\b\b\b\b\b\b\b\b\b\b\b\b\b\b\b\b\b\b\b\b\b\b\b\b\b\r",
      "11509760/94765736 [==>...........................] - ETA: 5s"
     ]
    },
    {
     "name": "stdout",
     "output_type": "stream",
     "text": [
      "\b\b\b\b\b\b\b\b\b\b\b\b\b\b\b\b\b\b\b\b\b\b\b\b\b\b\b\b\b\b\b\b\b\b\b\b\b\b\b\b\b\b\b\b\b\b\b\b\b\b\b\b\b\b\b\b\b\b\b\b\r",
      "13787136/94765736 [===>..........................] - ETA: 5s"
     ]
    },
    {
     "name": "stdout",
     "output_type": "stream",
     "text": [
      "\b\b\b\b\b\b\b\b\b\b\b\b\b\b\b\b\b\b\b\b\b\b\b\b\b\b\b\b\b\b\b\b\b\b\b\b\b\b\b\b\b\b\b\b\b\b\b\b\b\b\b\b\b\b\b\b\b\b\b\b\r",
      "16195584/94765736 [====>.........................] - ETA: 4s"
     ]
    },
    {
     "name": "stdout",
     "output_type": "stream",
     "text": [
      "\b\b\b\b\b\b\b\b\b\b\b\b\b\b\b\b\b\b\b\b\b\b\b\b\b\b\b\b\b\b\b\b\b\b\b\b\b\b\b\b\b\b\b\b\b\b\b\b\b\b\b\b\b\b\b\b\b\b\b\b\r",
      "18456576/94765736 [====>.........................] - ETA: 4s"
     ]
    },
    {
     "name": "stdout",
     "output_type": "stream",
     "text": [
      "\b\b\b\b\b\b\b\b\b\b\b\b\b\b\b\b\b\b\b\b\b\b\b\b\b\b\b\b\b\b\b\b\b\b\b\b\b\b\b\b\b\b\b\b\b\b\b\b\b\b\b\b\b\b\b\b\b\b\b\b\r",
      "20783104/94765736 [=====>........................] - ETA: 3s"
     ]
    },
    {
     "name": "stdout",
     "output_type": "stream",
     "text": [
      "\b\b\b\b\b\b\b\b\b\b\b\b\b\b\b\b\b\b\b\b\b\b\b\b\b\b\b\b\b\b\b\b\b\b\b\b\b\b\b\b\b\b\b\b\b\b\b\b\b\b\b\b\b\b\b\b\b\b\b\b\r",
      "23044096/94765736 [======>.......................] - ETA: 3s"
     ]
    },
    {
     "name": "stdout",
     "output_type": "stream",
     "text": [
      "\b\b\b\b\b\b\b\b\b\b\b\b\b\b\b\b\b\b\b\b\b\b\b\b\b\b\b\b\b\b\b\b\b\b\b\b\b\b\b\b\b\b\b\b\b\b\b\b\b\b\b\b\b\b\b\b\b\b\b\b\r",
      "25321472/94765736 [=======>......................] - ETA: 3s"
     ]
    },
    {
     "name": "stdout",
     "output_type": "stream",
     "text": [
      "\b\b\b\b\b\b\b\b\b\b\b\b\b\b\b\b\b\b\b\b\b\b\b\b\b\b\b\b\b\b\b\b\b\b\b\b\b\b\b\b\b\b\b\b\b\b\b\b\b\b\b\b\b\b\b\b\b\b\b\b\r",
      "27549696/94765736 [=======>......................] - ETA: 3s"
     ]
    },
    {
     "name": "stdout",
     "output_type": "stream",
     "text": [
      "\b\b\b\b\b\b\b\b\b\b\b\b\b\b\b\b\b\b\b\b\b\b\b\b\b\b\b\b\b\b\b\b\b\b\b\b\b\b\b\b\b\b\b\b\b\b\b\b\b\b\b\b\b\b\b\b\b\b\b\b\r",
      "29990912/94765736 [========>.....................] - ETA: 2s"
     ]
    },
    {
     "name": "stdout",
     "output_type": "stream",
     "text": [
      "\b\b\b\b\b\b\b\b\b\b\b\b\b\b\b\b\b\b\b\b\b\b\b\b\b\b\b\b\b\b\b\b\b\b\b\b\b\b\b\b\b\b\b\b\b\b\b\b\b\b\b\b\b\b\b\b\b\b\b\b\r",
      "32366592/94765736 [=========>....................] - ETA: 2s"
     ]
    },
    {
     "name": "stdout",
     "output_type": "stream",
     "text": [
      "\b\b\b\b\b\b\b\b\b\b\b\b\b\b\b\b\b\b\b\b\b\b\b\b\b\b\b\b\b\b\b\b\b\b\b\b\b\b\b\b\b\b\b\b\b\b\b\b\b\b\b\b\b\b\b\b\b\b\b\b\r",
      "34824192/94765736 [==========>...................] - ETA: 2s"
     ]
    },
    {
     "name": "stdout",
     "output_type": "stream",
     "text": [
      "\b\b\b\b\b\b\b\b\b\b\b\b\b\b\b\b\b\b\b\b\b\b\b\b\b\b\b\b\b\b\b\b\b\b\b\b\b\b\b\b\b\b\b\b\b\b\b\b\b\b\b\b\b\b\b\b\b\b\b\b\r",
      "37085184/94765736 [==========>...................] - ETA: 2s"
     ]
    },
    {
     "name": "stdout",
     "output_type": "stream",
     "text": [
      "\b\b\b\b\b\b\b\b\b\b\b\b\b\b\b\b\b\b\b\b\b\b\b\b\b\b\b\b\b\b\b\b\b\b\b\b\b\b\b\b\b\b\b\b\b\b\b\b\b\b\b\b\b\b\b\b\b\b\b\b\r",
      "39542784/94765736 [===========>..................] - ETA: 2s"
     ]
    },
    {
     "name": "stdout",
     "output_type": "stream",
     "text": [
      "\b\b\b\b\b\b\b\b\b\b\b\b\b\b\b\b\b\b\b\b\b\b\b\b\b\b\b\b\b\b\b\b\b\b\b\b\b\b\b\b\b\b\b\b\b\b\b\b\b\b\b\b\b\b\b\b\b\b\b\b\r",
      "41852928/94765736 [============>.................] - ETA: 2s"
     ]
    },
    {
     "name": "stdout",
     "output_type": "stream",
     "text": [
      "\b\b\b\b\b\b\b\b\b\b\b\b\b\b\b\b\b\b\b\b\b\b\b\b\b\b\b\b\b\b\b\b\b\b\b\b\b\b\b\b\b\b\b\b\b\b\b\b\b\b\b\b\b\b\b\b\b\b\b\b\r",
      "44195840/94765736 [============>.................] - ETA: 1s"
     ]
    },
    {
     "name": "stdout",
     "output_type": "stream",
     "text": [
      "\b\b\b\b\b\b\b\b\b\b\b\b\b\b\b\b\b\b\b\b\b\b\b\b\b\b\b\b\b\b\b\b\b\b\b\b\b\b\b\b\b\b\b\b\b\b\b\b\b\b\b\b\b\b\b\b\b\b\b\b\r",
      "46473216/94765736 [=============>................] - ETA: 1s"
     ]
    },
    {
     "name": "stdout",
     "output_type": "stream",
     "text": [
      "\b\b\b\b\b\b\b\b\b\b\b\b\b\b\b\b\b\b\b\b\b\b\b\b\b\b\b\b\b\b\b\b\b\b\b\b\b\b\b\b\b\b\b\b\b\b\b\b\b\b\b\b\b\b\b\b\b\b\b\b\r",
      "48848896/94765736 [==============>...............] - ETA: 1s"
     ]
    },
    {
     "name": "stdout",
     "output_type": "stream",
     "text": [
      "\b\b\b\b\b\b\b\b\b\b\b\b\b\b\b\b\b\b\b\b\b\b\b\b\b\b\b\b\b\b\b\b\b\b\b\b\b\b\b\b\b\b\b\b\b\b\b\b\b\b\b\b\b\b\b\b\b\b\b\b\r",
      "51191808/94765736 [===============>..............] - ETA: 1s"
     ]
    },
    {
     "name": "stdout",
     "output_type": "stream",
     "text": [
      "\b\b\b\b\b\b\b\b\b\b\b\b\b\b\b\b\b\b\b\b\b\b\b\b\b\b\b\b\b\b\b\b\b\b\b\b\b\b\b\b\b\b\b\b\b\b\b\b\b\b\b\b\b\b\b\b\b\b\b\b\r",
      "53600256/94765736 [===============>..............] - ETA: 1s"
     ]
    },
    {
     "name": "stdout",
     "output_type": "stream",
     "text": [
      "\b\b\b\b\b\b\b\b\b\b\b\b\b\b\b\b\b\b\b\b\b\b\b\b\b\b\b\b\b\b\b\b\b\b\b\b\b\b\b\b\b\b\b\b\b\b\b\b\b\b\b\b\b\b\b\b\b\b\b\b\r",
      "56008704/94765736 [================>.............] - ETA: 1s"
     ]
    },
    {
     "name": "stdout",
     "output_type": "stream",
     "text": [
      "\b\b\b\b\b\b\b\b\b\b\b\b\b\b\b\b\b\b\b\b\b\b\b\b\b\b\b\b\b\b\b\b\b\b\b\b\b\b\b\b\b\b\b\b\b\b\b\b\b\b\b\b\b\b\b\b\b\b\b\b\r",
      "58318848/94765736 [=================>............] - ETA: 1s"
     ]
    },
    {
     "name": "stdout",
     "output_type": "stream",
     "text": [
      "\b\b\b\b\b\b\b\b\b\b\b\b\b\b\b\b\b\b\b\b\b\b\b\b\b\b\b\b\b\b\b\b\b\b\b\b\b\b\b\b\b\b\b\b\b\b\b\b\b\b\b\b\b\b\b\b\b\b\b\b\r",
      "60710912/94765736 [==================>...........] - ETA: 1s"
     ]
    },
    {
     "name": "stdout",
     "output_type": "stream",
     "text": [
      "\b\b\b\b\b\b\b\b\b\b\b\b\b\b\b\b\b\b\b\b\b\b\b\b\b\b\b\b\b\b\b\b\b\b\b\b\b\b\b\b\b\b\b\b\b\b\b\b\b\b\b\b\b\b\b\b\b\b\b\b\r",
      "63086592/94765736 [==================>...........] - ETA: 1s"
     ]
    },
    {
     "name": "stdout",
     "output_type": "stream",
     "text": [
      "\b\b\b\b\b\b\b\b\b\b\b\b\b\b\b\b\b\b\b\b\b\b\b\b\b\b\b\b\b\b\b\b\b\b\b\b\b\b\b\b\b\b\b\b\b\b\b\b\b\b\b\b\b\b\b\b\b\b\b\b\r",
      "65462272/94765736 [===================>..........] - ETA: 1s"
     ]
    },
    {
     "name": "stdout",
     "output_type": "stream",
     "text": [
      "\b\b\b\b\b\b\b\b\b\b\b\b\b\b\b\b\b\b\b\b\b\b\b\b\b\b\b\b\b\b\b\b\b\b\b\b\b\b\b\b\b\b\b\b\b\b\b\b\b\b\b\b\b\b\b\b\b\b\b\b\r",
      "67821568/94765736 [====================>.........] - ETA: 0s"
     ]
    },
    {
     "name": "stdout",
     "output_type": "stream",
     "text": [
      "\b\b\b\b\b\b\b\b\b\b\b\b\b\b\b\b\b\b\b\b\b\b\b\b\b\b\b\b\b\b\b\b\b\b\b\b\b\b\b\b\b\b\b\b\b\b\b\b\b\b\b\b\b\b\b\b\b\b\b\b\r",
      "70180864/94765736 [=====================>........] - ETA: 0s"
     ]
    },
    {
     "name": "stdout",
     "output_type": "stream",
     "text": [
      "\b\b\b\b\b\b\b\b\b\b\b\b\b\b\b\b\b\b\b\b\b\b\b\b\b\b\b\b\b\b\b\b\b\b\b\b\b\b\b\b\b\b\b\b\b\b\b\b\b\b\b\b\b\b\b\b\b\b\b\b\r",
      "72540160/94765736 [=====================>........] - ETA: 0s"
     ]
    },
    {
     "name": "stdout",
     "output_type": "stream",
     "text": [
      "\b\b\b\b\b\b\b\b\b\b\b\b\b\b\b\b\b\b\b\b\b\b\b\b\b\b\b\b\b\b\b\b\b\b\b\b\b\b\b\b\b\b\b\b\b\b\b\b\b\b\b\b\b\b\b\b\b\b\b\b\r",
      "75030528/94765736 [======================>.......] - ETA: 0s"
     ]
    },
    {
     "name": "stdout",
     "output_type": "stream",
     "text": [
      "\b\b\b\b\b\b\b\b\b\b\b\b\b\b\b\b\b\b\b\b\b\b\b\b\b\b\b\b\b\b\b\b\b\b\b\b\b\b\b\b\b\b\b\b\b\b\b\b\b\b\b\b\b\b\b\b\b\b\b\b\r",
      "77471744/94765736 [=======================>......] - ETA: 0s"
     ]
    },
    {
     "name": "stdout",
     "output_type": "stream",
     "text": [
      "\b\b\b\b\b\b\b\b\b\b\b\b\b\b\b\b\b\b\b\b\b\b\b\b\b\b\b\b\b\b\b\b\b\b\b\b\b\b\b\b\b\b\b\b\b\b\b\b\b\b\b\b\b\b\b\b\b\b\b\b\r",
      "79896576/94765736 [========================>.....] - ETA: 0s"
     ]
    },
    {
     "name": "stdout",
     "output_type": "stream",
     "text": [
      "\b\b\b\b\b\b\b\b\b\b\b\b\b\b\b\b\b\b\b\b\b\b\b\b\b\b\b\b\b\b\b\b\b\b\b\b\b\b\b\b\b\b\b\b\b\b\b\b\b\b\b\b\b\b\b\b\b\b\b\b\r",
      "82370560/94765736 [=========================>....] - ETA: 0s"
     ]
    },
    {
     "name": "stdout",
     "output_type": "stream",
     "text": [
      "\b\b\b\b\b\b\b\b\b\b\b\b\b\b\b\b\b\b\b\b\b\b\b\b\b\b\b\b\b\b\b\b\b\b\b\b\b\b\b\b\b\b\b\b\b\b\b\b\b\b\b\b\b\b\b\b\b\b\b\b\r",
      "84746240/94765736 [=========================>....] - ETA: 0s"
     ]
    },
    {
     "name": "stdout",
     "output_type": "stream",
     "text": [
      "\b\b\b\b\b\b\b\b\b\b\b\b\b\b\b\b\b\b\b\b\b\b\b\b\b\b\b\b\b\b\b\b\b\b\b\b\b\b\b\b\b\b\b\b\b\b\b\b\b\b\b\b\b\b\b\b\b\b\b\b\r",
      "87171072/94765736 [==========================>...] - ETA: 0s"
     ]
    },
    {
     "name": "stdout",
     "output_type": "stream",
     "text": [
      "\b\b\b\b\b\b\b\b\b\b\b\b\b\b\b\b\b\b\b\b\b\b\b\b\b\b\b\b\b\b\b\b\b\b\b\b\b\b\b\b\b\b\b\b\b\b\b\b\b\b\b\b\b\b\b\b\b\b\b\b\r",
      "89530368/94765736 [===========================>..] - ETA: 0s"
     ]
    },
    {
     "name": "stdout",
     "output_type": "stream",
     "text": [
      "\b\b\b\b\b\b\b\b\b\b\b\b\b\b\b\b\b\b\b\b\b\b\b\b\b\b\b\b\b\b\b\b\b\b\b\b\b\b\b\b\b\b\b\b\b\b\b\b\b\b\b\b\b\b\b\b\b\b\b\b\r",
      "91922432/94765736 [============================>.] - ETA: 0s"
     ]
    },
    {
     "name": "stdout",
     "output_type": "stream",
     "text": [
      "\b\b\b\b\b\b\b\b\b\b\b\b\b\b\b\b\b\b\b\b\b\b\b\b\b\b\b\b\b\b\b\b\b\b\b\b\b\b\b\b\b\b\b\b\b\b\b\b\b\b\b\b\b\b\b\b\b\b\b\b\r",
      "94232576/94765736 [============================>.] - ETA: 0s"
     ]
    },
    {
     "name": "stdout",
     "output_type": "stream",
     "text": [
      "\b\b\b\b\b\b\b\b\b\b\b\b\b\b\b\b\b\b\b\b\b\b\b\b\b\b\b\b\b\b\b\b\b\b\b\b\b\b\b\b\b\b\b\b\b\b\b\b\b\b\b\b\b\b\b\b\b\b\b\b\r",
      "94773248/94765736 [==============================] - 3s 0us/step\n"
     ]
    },
    {
     "name": "stderr",
     "output_type": "stream",
     "text": [
      "W0502 03:45:34.851558 140051641706304 deprecation.py:506] From /usr/local/lib/python3.6/dist-packages/tensorflow/python/keras/initializers.py:143: calling RandomNormal.__init__ (from tensorflow.python.ops.init_ops) with dtype is deprecated and will be removed in a future version.\n",
      "Instructions for updating:\n",
      "Call initializer instance with the dtype argument instead of passing it to the constructor\n"
     ]
    },
    {
     "name": "stderr",
     "output_type": "stream",
     "text": [
      "W0502 03:45:40.912940 140051641706304 deprecation.py:323] From /usr/local/lib/python3.6/dist-packages/tensorflow/python/autograph/impl/api.py:255: add_dispatch_support.<locals>.wrapper (from tensorflow.python.ops.array_ops) is deprecated and will be removed in a future version.\n",
      "Instructions for updating:\n",
      "Use tf.where in 2.0, which has the same broadcast rule as np.where\n"
     ]
    },
    {
     "name": "stderr",
     "output_type": "stream",
     "text": [
      "W0502 03:45:41.986406 140051641706304 deprecation.py:506] From /usr/local/lib/python3.6/dist-packages/tensorflow/python/autograph/impl/api.py:255: calling crop_and_resize_v1 (from tensorflow.python.ops.image_ops_impl) with box_ind is deprecated and will be removed in a future version.\n",
      "Instructions for updating:\n",
      "box_ind is deprecated, use box_indices instead\n"
     ]
    },
    {
     "name": "stderr",
     "output_type": "stream",
     "text": [
      "W0502 03:45:42.309074 140051641706304 training_utils.py:1101] Output filtered_detections missing from loss dictionary. We assume this was done on purpose. The fit and evaluate APIs will not be expecting any data to be passed to filtered_detections.\n"
     ]
    },
    {
     "name": "stderr",
     "output_type": "stream",
     "text": [
      "W0502 03:45:42.310261 140051641706304 training_utils.py:1101] Output filtered_detections_1 missing from loss dictionary. We assume this was done on purpose. The fit and evaluate APIs will not be expecting any data to be passed to filtered_detections_1.\n"
     ]
    },
    {
     "name": "stderr",
     "output_type": "stream",
     "text": [
      "W0502 03:45:42.310819 140051641706304 training_utils.py:1101] Output filtered_detections_2 missing from loss dictionary. We assume this was done on purpose. The fit and evaluate APIs will not be expecting any data to be passed to filtered_detections_2.\n"
     ]
    },
    {
     "name": "stderr",
     "output_type": "stream",
     "text": [
      "W0502 03:45:42.311439 140051641706304 training_utils.py:1101] Output mask_submodel missing from loss dictionary. We assume this was done on purpose. The fit and evaluate APIs will not be expecting any data to be passed to mask_submodel.\n"
     ]
    },
    {
     "name": "stdout",
     "output_type": "stream",
     "text": [
      "Model: \"resnet50_retinanet_mask\"\n",
      "__________________________________________________________________________________________________\n",
      "Layer (type)                    Output Shape         Param #     Connected to                     \n",
      "==================================================================================================\n",
      "input_1 (InputLayer)            [(None, 128, 128, 1) 0                                            \n",
      "__________________________________________________________________________________________________\n",
      "image_normalization2d (ImageNor (None, 128, 128, 1)  0           input_1[0][0]                    \n",
      "__________________________________________________________________________________________________\n",
      "tensor_product (TensorProduct)  (None, 128, 128, 3)  6           image_normalization2d[0][0]      \n",
      "__________________________________________________________________________________________________\n",
      "conv1_pad (ZeroPadding2D)       (None, 134, 134, 3)  0           tensor_product[0][0]             \n",
      "__________________________________________________________________________________________________\n",
      "conv1_conv (Conv2D)             (None, 64, 64, 64)   9472        conv1_pad[0][0]                  \n",
      "__________________________________________________________________________________________________\n",
      "conv1_bn (BatchNormalization)   (None, 64, 64, 64)   256         conv1_conv[0][0]                 \n",
      "__________________________________________________________________________________________________\n",
      "conv1_relu (Activation)         (None, 64, 64, 64)   0           conv1_bn[0][0]                   \n",
      "__________________________________________________________________________________________________\n",
      "pool1_pad (ZeroPadding2D)       (None, 66, 66, 64)   0           conv1_relu[0][0]                 \n",
      "__________________________________________________________________________________________________\n",
      "pool1_pool (MaxPooling2D)       (None, 32, 32, 64)   0           pool1_pad[0][0]                  \n",
      "__________________________________________________________________________________________________\n",
      "conv2_block1_1_conv (Conv2D)    (None, 32, 32, 64)   4160        pool1_pool[0][0]                 \n",
      "__________________________________________________________________________________________________\n",
      "conv2_block1_1_bn (BatchNormali (None, 32, 32, 64)   256         conv2_block1_1_conv[0][0]        \n",
      "__________________________________________________________________________________________________\n",
      "conv2_block1_1_relu (Activation (None, 32, 32, 64)   0           conv2_block1_1_bn[0][0]          \n",
      "__________________________________________________________________________________________________\n",
      "conv2_block1_2_conv (Conv2D)    (None, 32, 32, 64)   36928       conv2_block1_1_relu[0][0]        \n",
      "__________________________________________________________________________________________________\n",
      "conv2_block1_2_bn (BatchNormali (None, 32, 32, 64)   256         conv2_block1_2_conv[0][0]        \n",
      "__________________________________________________________________________________________________\n",
      "conv2_block1_2_relu (Activation (None, 32, 32, 64)   0           conv2_block1_2_bn[0][0]          \n",
      "__________________________________________________________________________________________________\n",
      "conv2_block1_0_conv (Conv2D)    (None, 32, 32, 256)  16640       pool1_pool[0][0]                 \n",
      "__________________________________________________________________________________________________\n",
      "conv2_block1_3_conv (Conv2D)    (None, 32, 32, 256)  16640       conv2_block1_2_relu[0][0]        \n",
      "__________________________________________________________________________________________________\n",
      "conv2_block1_0_bn (BatchNormali (None, 32, 32, 256)  1024        conv2_block1_0_conv[0][0]        \n",
      "__________________________________________________________________________________________________\n",
      "conv2_block1_3_bn (BatchNormali (None, 32, 32, 256)  1024        conv2_block1_3_conv[0][0]        \n",
      "__________________________________________________________________________________________________\n",
      "conv2_block1_add (Add)          (None, 32, 32, 256)  0           conv2_block1_0_bn[0][0]          \n",
      "                                                                 conv2_block1_3_bn[0][0]          \n",
      "__________________________________________________________________________________________________\n",
      "conv2_block1_out (Activation)   (None, 32, 32, 256)  0           conv2_block1_add[0][0]           \n",
      "__________________________________________________________________________________________________\n",
      "conv2_block2_1_conv (Conv2D)    (None, 32, 32, 64)   16448       conv2_block1_out[0][0]           \n",
      "__________________________________________________________________________________________________\n",
      "conv2_block2_1_bn (BatchNormali (None, 32, 32, 64)   256         conv2_block2_1_conv[0][0]        \n",
      "__________________________________________________________________________________________________\n",
      "conv2_block2_1_relu (Activation (None, 32, 32, 64)   0           conv2_block2_1_bn[0][0]          \n",
      "__________________________________________________________________________________________________\n",
      "conv2_block2_2_conv (Conv2D)    (None, 32, 32, 64)   36928       conv2_block2_1_relu[0][0]        \n",
      "__________________________________________________________________________________________________\n",
      "conv2_block2_2_bn (BatchNormali (None, 32, 32, 64)   256         conv2_block2_2_conv[0][0]        \n",
      "__________________________________________________________________________________________________\n",
      "conv2_block2_2_relu (Activation (None, 32, 32, 64)   0           conv2_block2_2_bn[0][0]          \n",
      "__________________________________________________________________________________________________\n",
      "conv2_block2_3_conv (Conv2D)    (None, 32, 32, 256)  16640       conv2_block2_2_relu[0][0]        \n",
      "__________________________________________________________________________________________________\n",
      "conv2_block2_3_bn (BatchNormali (None, 32, 32, 256)  1024        conv2_block2_3_conv[0][0]        \n",
      "__________________________________________________________________________________________________\n",
      "conv2_block2_add (Add)          (None, 32, 32, 256)  0           conv2_block1_out[0][0]           \n",
      "                                                                 conv2_block2_3_bn[0][0]          \n",
      "__________________________________________________________________________________________________\n",
      "conv2_block2_out (Activation)   (None, 32, 32, 256)  0           conv2_block2_add[0][0]           \n",
      "__________________________________________________________________________________________________\n",
      "conv2_block3_1_conv (Conv2D)    (None, 32, 32, 64)   16448       conv2_block2_out[0][0]           \n",
      "__________________________________________________________________________________________________\n",
      "conv2_block3_1_bn (BatchNormali (None, 32, 32, 64)   256         conv2_block3_1_conv[0][0]        \n",
      "__________________________________________________________________________________________________\n",
      "conv2_block3_1_relu (Activation (None, 32, 32, 64)   0           conv2_block3_1_bn[0][0]          \n",
      "__________________________________________________________________________________________________\n",
      "conv2_block3_2_conv (Conv2D)    (None, 32, 32, 64)   36928       conv2_block3_1_relu[0][0]        \n",
      "__________________________________________________________________________________________________\n",
      "conv2_block3_2_bn (BatchNormali (None, 32, 32, 64)   256         conv2_block3_2_conv[0][0]        \n",
      "__________________________________________________________________________________________________\n",
      "conv2_block3_2_relu (Activation (None, 32, 32, 64)   0           conv2_block3_2_bn[0][0]          \n",
      "__________________________________________________________________________________________________\n",
      "conv2_block3_3_conv (Conv2D)    (None, 32, 32, 256)  16640       conv2_block3_2_relu[0][0]        \n",
      "__________________________________________________________________________________________________\n",
      "conv2_block3_3_bn (BatchNormali (None, 32, 32, 256)  1024        conv2_block3_3_conv[0][0]        \n",
      "__________________________________________________________________________________________________\n",
      "conv2_block3_add (Add)          (None, 32, 32, 256)  0           conv2_block2_out[0][0]           \n",
      "                                                                 conv2_block3_3_bn[0][0]          \n",
      "__________________________________________________________________________________________________\n",
      "conv2_block3_out (Activation)   (None, 32, 32, 256)  0           conv2_block3_add[0][0]           \n",
      "__________________________________________________________________________________________________\n",
      "conv3_block1_1_conv (Conv2D)    (None, 16, 16, 128)  32896       conv2_block3_out[0][0]           \n",
      "__________________________________________________________________________________________________\n",
      "conv3_block1_1_bn (BatchNormali (None, 16, 16, 128)  512         conv3_block1_1_conv[0][0]        \n",
      "__________________________________________________________________________________________________\n",
      "conv3_block1_1_relu (Activation (None, 16, 16, 128)  0           conv3_block1_1_bn[0][0]          \n",
      "__________________________________________________________________________________________________\n",
      "conv3_block1_2_conv (Conv2D)    (None, 16, 16, 128)  147584      conv3_block1_1_relu[0][0]        \n",
      "__________________________________________________________________________________________________\n",
      "conv3_block1_2_bn (BatchNormali (None, 16, 16, 128)  512         conv3_block1_2_conv[0][0]        \n",
      "__________________________________________________________________________________________________\n",
      "conv3_block1_2_relu (Activation (None, 16, 16, 128)  0           conv3_block1_2_bn[0][0]          \n",
      "__________________________________________________________________________________________________\n",
      "conv3_block1_0_conv (Conv2D)    (None, 16, 16, 512)  131584      conv2_block3_out[0][0]           \n",
      "__________________________________________________________________________________________________\n",
      "conv3_block1_3_conv (Conv2D)    (None, 16, 16, 512)  66048       conv3_block1_2_relu[0][0]        \n",
      "__________________________________________________________________________________________________\n",
      "conv3_block1_0_bn (BatchNormali (None, 16, 16, 512)  2048        conv3_block1_0_conv[0][0]        \n",
      "__________________________________________________________________________________________________\n",
      "conv3_block1_3_bn (BatchNormali (None, 16, 16, 512)  2048        conv3_block1_3_conv[0][0]        \n",
      "__________________________________________________________________________________________________\n",
      "conv3_block1_add (Add)          (None, 16, 16, 512)  0           conv3_block1_0_bn[0][0]          \n",
      "                                                                 conv3_block1_3_bn[0][0]          \n",
      "__________________________________________________________________________________________________\n",
      "conv3_block1_out (Activation)   (None, 16, 16, 512)  0           conv3_block1_add[0][0]           \n",
      "__________________________________________________________________________________________________\n",
      "conv3_block2_1_conv (Conv2D)    (None, 16, 16, 128)  65664       conv3_block1_out[0][0]           \n",
      "__________________________________________________________________________________________________\n",
      "conv3_block2_1_bn (BatchNormali (None, 16, 16, 128)  512         conv3_block2_1_conv[0][0]        \n",
      "__________________________________________________________________________________________________\n",
      "conv3_block2_1_relu (Activation (None, 16, 16, 128)  0           conv3_block2_1_bn[0][0]          \n",
      "__________________________________________________________________________________________________\n",
      "conv3_block2_2_conv (Conv2D)    (None, 16, 16, 128)  147584      conv3_block2_1_relu[0][0]        \n",
      "__________________________________________________________________________________________________\n",
      "conv3_block2_2_bn (BatchNormali (None, 16, 16, 128)  512         conv3_block2_2_conv[0][0]        \n",
      "__________________________________________________________________________________________________\n",
      "conv3_block2_2_relu (Activation (None, 16, 16, 128)  0           conv3_block2_2_bn[0][0]          \n",
      "__________________________________________________________________________________________________\n",
      "conv3_block2_3_conv (Conv2D)    (None, 16, 16, 512)  66048       conv3_block2_2_relu[0][0]        \n",
      "__________________________________________________________________________________________________\n",
      "conv3_block2_3_bn (BatchNormali (None, 16, 16, 512)  2048        conv3_block2_3_conv[0][0]        \n",
      "__________________________________________________________________________________________________\n",
      "conv3_block2_add (Add)          (None, 16, 16, 512)  0           conv3_block1_out[0][0]           \n",
      "                                                                 conv3_block2_3_bn[0][0]          \n",
      "__________________________________________________________________________________________________\n",
      "conv3_block2_out (Activation)   (None, 16, 16, 512)  0           conv3_block2_add[0][0]           \n",
      "__________________________________________________________________________________________________\n",
      "conv3_block3_1_conv (Conv2D)    (None, 16, 16, 128)  65664       conv3_block2_out[0][0]           \n",
      "__________________________________________________________________________________________________\n",
      "conv3_block3_1_bn (BatchNormali (None, 16, 16, 128)  512         conv3_block3_1_conv[0][0]        \n",
      "__________________________________________________________________________________________________\n",
      "conv3_block3_1_relu (Activation (None, 16, 16, 128)  0           conv3_block3_1_bn[0][0]          \n",
      "__________________________________________________________________________________________________\n",
      "conv3_block3_2_conv (Conv2D)    (None, 16, 16, 128)  147584      conv3_block3_1_relu[0][0]        \n",
      "__________________________________________________________________________________________________\n",
      "conv3_block3_2_bn (BatchNormali (None, 16, 16, 128)  512         conv3_block3_2_conv[0][0]        \n",
      "__________________________________________________________________________________________________\n",
      "conv3_block3_2_relu (Activation (None, 16, 16, 128)  0           conv3_block3_2_bn[0][0]          \n",
      "__________________________________________________________________________________________________\n",
      "conv3_block3_3_conv (Conv2D)    (None, 16, 16, 512)  66048       conv3_block3_2_relu[0][0]        \n",
      "__________________________________________________________________________________________________\n",
      "conv3_block3_3_bn (BatchNormali (None, 16, 16, 512)  2048        conv3_block3_3_conv[0][0]        \n",
      "__________________________________________________________________________________________________\n",
      "conv3_block3_add (Add)          (None, 16, 16, 512)  0           conv3_block2_out[0][0]           \n",
      "                                                                 conv3_block3_3_bn[0][0]          \n",
      "__________________________________________________________________________________________________\n",
      "conv3_block3_out (Activation)   (None, 16, 16, 512)  0           conv3_block3_add[0][0]           \n",
      "__________________________________________________________________________________________________\n",
      "conv3_block4_1_conv (Conv2D)    (None, 16, 16, 128)  65664       conv3_block3_out[0][0]           \n",
      "__________________________________________________________________________________________________\n",
      "conv3_block4_1_bn (BatchNormali (None, 16, 16, 128)  512         conv3_block4_1_conv[0][0]        \n",
      "__________________________________________________________________________________________________\n",
      "conv3_block4_1_relu (Activation (None, 16, 16, 128)  0           conv3_block4_1_bn[0][0]          \n",
      "__________________________________________________________________________________________________\n",
      "conv3_block4_2_conv (Conv2D)    (None, 16, 16, 128)  147584      conv3_block4_1_relu[0][0]        \n",
      "__________________________________________________________________________________________________\n",
      "conv3_block4_2_bn (BatchNormali (None, 16, 16, 128)  512         conv3_block4_2_conv[0][0]        \n",
      "__________________________________________________________________________________________________\n",
      "conv3_block4_2_relu (Activation (None, 16, 16, 128)  0           conv3_block4_2_bn[0][0]          \n",
      "__________________________________________________________________________________________________\n",
      "conv3_block4_3_conv (Conv2D)    (None, 16, 16, 512)  66048       conv3_block4_2_relu[0][0]        \n",
      "__________________________________________________________________________________________________\n",
      "conv3_block4_3_bn (BatchNormali (None, 16, 16, 512)  2048        conv3_block4_3_conv[0][0]        \n",
      "__________________________________________________________________________________________________\n",
      "conv3_block4_add (Add)          (None, 16, 16, 512)  0           conv3_block3_out[0][0]           \n",
      "                                                                 conv3_block4_3_bn[0][0]          \n",
      "__________________________________________________________________________________________________\n",
      "conv3_block4_out (Activation)   (None, 16, 16, 512)  0           conv3_block4_add[0][0]           \n",
      "__________________________________________________________________________________________________\n",
      "conv4_block1_1_conv (Conv2D)    (None, 8, 8, 256)    131328      conv3_block4_out[0][0]           \n",
      "__________________________________________________________________________________________________\n",
      "conv4_block1_1_bn (BatchNormali (None, 8, 8, 256)    1024        conv4_block1_1_conv[0][0]        \n",
      "__________________________________________________________________________________________________\n",
      "conv4_block1_1_relu (Activation (None, 8, 8, 256)    0           conv4_block1_1_bn[0][0]          \n",
      "__________________________________________________________________________________________________\n",
      "conv4_block1_2_conv (Conv2D)    (None, 8, 8, 256)    590080      conv4_block1_1_relu[0][0]        \n",
      "__________________________________________________________________________________________________\n",
      "conv4_block1_2_bn (BatchNormali (None, 8, 8, 256)    1024        conv4_block1_2_conv[0][0]        \n",
      "__________________________________________________________________________________________________\n",
      "conv4_block1_2_relu (Activation (None, 8, 8, 256)    0           conv4_block1_2_bn[0][0]          \n",
      "__________________________________________________________________________________________________\n",
      "conv4_block1_0_conv (Conv2D)    (None, 8, 8, 1024)   525312      conv3_block4_out[0][0]           \n",
      "__________________________________________________________________________________________________\n",
      "conv4_block1_3_conv (Conv2D)    (None, 8, 8, 1024)   263168      conv4_block1_2_relu[0][0]        \n",
      "__________________________________________________________________________________________________\n",
      "conv4_block1_0_bn (BatchNormali (None, 8, 8, 1024)   4096        conv4_block1_0_conv[0][0]        \n",
      "__________________________________________________________________________________________________\n",
      "conv4_block1_3_bn (BatchNormali (None, 8, 8, 1024)   4096        conv4_block1_3_conv[0][0]        \n",
      "__________________________________________________________________________________________________\n",
      "conv4_block1_add (Add)          (None, 8, 8, 1024)   0           conv4_block1_0_bn[0][0]          \n",
      "                                                                 conv4_block1_3_bn[0][0]          \n",
      "__________________________________________________________________________________________________\n",
      "conv4_block1_out (Activation)   (None, 8, 8, 1024)   0           conv4_block1_add[0][0]           \n",
      "__________________________________________________________________________________________________\n",
      "conv4_block2_1_conv (Conv2D)    (None, 8, 8, 256)    262400      conv4_block1_out[0][0]           \n",
      "__________________________________________________________________________________________________\n",
      "conv4_block2_1_bn (BatchNormali (None, 8, 8, 256)    1024        conv4_block2_1_conv[0][0]        \n",
      "__________________________________________________________________________________________________\n",
      "conv4_block2_1_relu (Activation (None, 8, 8, 256)    0           conv4_block2_1_bn[0][0]          \n",
      "__________________________________________________________________________________________________\n",
      "conv4_block2_2_conv (Conv2D)    (None, 8, 8, 256)    590080      conv4_block2_1_relu[0][0]        \n",
      "__________________________________________________________________________________________________\n",
      "conv4_block2_2_bn (BatchNormali (None, 8, 8, 256)    1024        conv4_block2_2_conv[0][0]        \n",
      "__________________________________________________________________________________________________\n",
      "conv4_block2_2_relu (Activation (None, 8, 8, 256)    0           conv4_block2_2_bn[0][0]          \n",
      "__________________________________________________________________________________________________\n",
      "conv4_block2_3_conv (Conv2D)    (None, 8, 8, 1024)   263168      conv4_block2_2_relu[0][0]        \n",
      "__________________________________________________________________________________________________\n",
      "conv4_block2_3_bn (BatchNormali (None, 8, 8, 1024)   4096        conv4_block2_3_conv[0][0]        \n",
      "__________________________________________________________________________________________________\n",
      "conv4_block2_add (Add)          (None, 8, 8, 1024)   0           conv4_block1_out[0][0]           \n",
      "                                                                 conv4_block2_3_bn[0][0]          \n",
      "__________________________________________________________________________________________________\n",
      "conv4_block2_out (Activation)   (None, 8, 8, 1024)   0           conv4_block2_add[0][0]           \n",
      "__________________________________________________________________________________________________\n",
      "conv4_block3_1_conv (Conv2D)    (None, 8, 8, 256)    262400      conv4_block2_out[0][0]           \n",
      "__________________________________________________________________________________________________\n",
      "conv4_block3_1_bn (BatchNormali (None, 8, 8, 256)    1024        conv4_block3_1_conv[0][0]        \n",
      "__________________________________________________________________________________________________\n",
      "conv4_block3_1_relu (Activation (None, 8, 8, 256)    0           conv4_block3_1_bn[0][0]          \n",
      "__________________________________________________________________________________________________\n",
      "conv4_block3_2_conv (Conv2D)    (None, 8, 8, 256)    590080      conv4_block3_1_relu[0][0]        \n",
      "__________________________________________________________________________________________________\n",
      "conv4_block3_2_bn (BatchNormali (None, 8, 8, 256)    1024        conv4_block3_2_conv[0][0]        \n",
      "__________________________________________________________________________________________________\n",
      "conv4_block3_2_relu (Activation (None, 8, 8, 256)    0           conv4_block3_2_bn[0][0]          \n",
      "__________________________________________________________________________________________________\n",
      "conv4_block3_3_conv (Conv2D)    (None, 8, 8, 1024)   263168      conv4_block3_2_relu[0][0]        \n",
      "__________________________________________________________________________________________________\n",
      "conv4_block3_3_bn (BatchNormali (None, 8, 8, 1024)   4096        conv4_block3_3_conv[0][0]        \n",
      "__________________________________________________________________________________________________\n",
      "conv4_block3_add (Add)          (None, 8, 8, 1024)   0           conv4_block2_out[0][0]           \n",
      "                                                                 conv4_block3_3_bn[0][0]          \n",
      "__________________________________________________________________________________________________\n",
      "conv4_block3_out (Activation)   (None, 8, 8, 1024)   0           conv4_block3_add[0][0]           \n",
      "__________________________________________________________________________________________________\n",
      "conv4_block4_1_conv (Conv2D)    (None, 8, 8, 256)    262400      conv4_block3_out[0][0]           \n",
      "__________________________________________________________________________________________________\n",
      "conv4_block4_1_bn (BatchNormali (None, 8, 8, 256)    1024        conv4_block4_1_conv[0][0]        \n",
      "__________________________________________________________________________________________________\n",
      "conv4_block4_1_relu (Activation (None, 8, 8, 256)    0           conv4_block4_1_bn[0][0]          \n",
      "__________________________________________________________________________________________________\n",
      "conv4_block4_2_conv (Conv2D)    (None, 8, 8, 256)    590080      conv4_block4_1_relu[0][0]        \n",
      "__________________________________________________________________________________________________\n",
      "conv4_block4_2_bn (BatchNormali (None, 8, 8, 256)    1024        conv4_block4_2_conv[0][0]        \n",
      "__________________________________________________________________________________________________\n",
      "conv4_block4_2_relu (Activation (None, 8, 8, 256)    0           conv4_block4_2_bn[0][0]          \n",
      "__________________________________________________________________________________________________\n",
      "conv4_block4_3_conv (Conv2D)    (None, 8, 8, 1024)   263168      conv4_block4_2_relu[0][0]        \n",
      "__________________________________________________________________________________________________\n",
      "conv4_block4_3_bn (BatchNormali (None, 8, 8, 1024)   4096        conv4_block4_3_conv[0][0]        \n",
      "__________________________________________________________________________________________________\n",
      "conv4_block4_add (Add)          (None, 8, 8, 1024)   0           conv4_block3_out[0][0]           \n",
      "                                                                 conv4_block4_3_bn[0][0]          \n",
      "__________________________________________________________________________________________________\n",
      "conv4_block4_out (Activation)   (None, 8, 8, 1024)   0           conv4_block4_add[0][0]           \n",
      "__________________________________________________________________________________________________\n",
      "conv4_block5_1_conv (Conv2D)    (None, 8, 8, 256)    262400      conv4_block4_out[0][0]           \n",
      "__________________________________________________________________________________________________\n",
      "conv4_block5_1_bn (BatchNormali (None, 8, 8, 256)    1024        conv4_block5_1_conv[0][0]        \n",
      "__________________________________________________________________________________________________\n",
      "conv4_block5_1_relu (Activation (None, 8, 8, 256)    0           conv4_block5_1_bn[0][0]          \n",
      "__________________________________________________________________________________________________\n",
      "conv4_block5_2_conv (Conv2D)    (None, 8, 8, 256)    590080      conv4_block5_1_relu[0][0]        \n",
      "__________________________________________________________________________________________________\n",
      "conv4_block5_2_bn (BatchNormali (None, 8, 8, 256)    1024        conv4_block5_2_conv[0][0]        \n",
      "__________________________________________________________________________________________________\n",
      "conv4_block5_2_relu (Activation (None, 8, 8, 256)    0           conv4_block5_2_bn[0][0]          \n",
      "__________________________________________________________________________________________________\n",
      "conv4_block5_3_conv (Conv2D)    (None, 8, 8, 1024)   263168      conv4_block5_2_relu[0][0]        \n",
      "__________________________________________________________________________________________________\n",
      "conv4_block5_3_bn (BatchNormali (None, 8, 8, 1024)   4096        conv4_block5_3_conv[0][0]        \n",
      "__________________________________________________________________________________________________\n",
      "conv4_block5_add (Add)          (None, 8, 8, 1024)   0           conv4_block4_out[0][0]           \n",
      "                                                                 conv4_block5_3_bn[0][0]          \n",
      "__________________________________________________________________________________________________\n",
      "conv4_block5_out (Activation)   (None, 8, 8, 1024)   0           conv4_block5_add[0][0]           \n",
      "__________________________________________________________________________________________________\n",
      "conv4_block6_1_conv (Conv2D)    (None, 8, 8, 256)    262400      conv4_block5_out[0][0]           \n",
      "__________________________________________________________________________________________________\n",
      "conv4_block6_1_bn (BatchNormali (None, 8, 8, 256)    1024        conv4_block6_1_conv[0][0]        \n",
      "__________________________________________________________________________________________________\n",
      "conv4_block6_1_relu (Activation (None, 8, 8, 256)    0           conv4_block6_1_bn[0][0]          \n",
      "__________________________________________________________________________________________________\n",
      "conv4_block6_2_conv (Conv2D)    (None, 8, 8, 256)    590080      conv4_block6_1_relu[0][0]        \n",
      "__________________________________________________________________________________________________\n",
      "conv4_block6_2_bn (BatchNormali (None, 8, 8, 256)    1024        conv4_block6_2_conv[0][0]        \n",
      "__________________________________________________________________________________________________\n",
      "conv4_block6_2_relu (Activation (None, 8, 8, 256)    0           conv4_block6_2_bn[0][0]          \n",
      "__________________________________________________________________________________________________\n",
      "conv4_block6_3_conv (Conv2D)    (None, 8, 8, 1024)   263168      conv4_block6_2_relu[0][0]        \n",
      "__________________________________________________________________________________________________\n",
      "conv4_block6_3_bn (BatchNormali (None, 8, 8, 1024)   4096        conv4_block6_3_conv[0][0]        \n",
      "__________________________________________________________________________________________________\n",
      "conv4_block6_add (Add)          (None, 8, 8, 1024)   0           conv4_block5_out[0][0]           \n",
      "                                                                 conv4_block6_3_bn[0][0]          \n",
      "__________________________________________________________________________________________________\n",
      "conv4_block6_out (Activation)   (None, 8, 8, 1024)   0           conv4_block6_add[0][0]           \n",
      "__________________________________________________________________________________________________\n",
      "conv5_block1_1_conv (Conv2D)    (None, 4, 4, 512)    524800      conv4_block6_out[0][0]           \n",
      "__________________________________________________________________________________________________\n",
      "conv5_block1_1_bn (BatchNormali (None, 4, 4, 512)    2048        conv5_block1_1_conv[0][0]        \n",
      "__________________________________________________________________________________________________\n",
      "conv5_block1_1_relu (Activation (None, 4, 4, 512)    0           conv5_block1_1_bn[0][0]          \n",
      "__________________________________________________________________________________________________\n",
      "conv5_block1_2_conv (Conv2D)    (None, 4, 4, 512)    2359808     conv5_block1_1_relu[0][0]        \n",
      "__________________________________________________________________________________________________\n",
      "conv5_block1_2_bn (BatchNormali (None, 4, 4, 512)    2048        conv5_block1_2_conv[0][0]        \n",
      "__________________________________________________________________________________________________\n",
      "conv5_block1_2_relu (Activation (None, 4, 4, 512)    0           conv5_block1_2_bn[0][0]          \n",
      "__________________________________________________________________________________________________\n",
      "conv5_block1_0_conv (Conv2D)    (None, 4, 4, 2048)   2099200     conv4_block6_out[0][0]           \n",
      "__________________________________________________________________________________________________\n",
      "conv5_block1_3_conv (Conv2D)    (None, 4, 4, 2048)   1050624     conv5_block1_2_relu[0][0]        \n",
      "__________________________________________________________________________________________________\n",
      "conv5_block1_0_bn (BatchNormali (None, 4, 4, 2048)   8192        conv5_block1_0_conv[0][0]        \n",
      "__________________________________________________________________________________________________\n",
      "conv5_block1_3_bn (BatchNormali (None, 4, 4, 2048)   8192        conv5_block1_3_conv[0][0]        \n",
      "__________________________________________________________________________________________________\n",
      "conv5_block1_add (Add)          (None, 4, 4, 2048)   0           conv5_block1_0_bn[0][0]          \n",
      "                                                                 conv5_block1_3_bn[0][0]          \n",
      "__________________________________________________________________________________________________\n",
      "conv5_block1_out (Activation)   (None, 4, 4, 2048)   0           conv5_block1_add[0][0]           \n",
      "__________________________________________________________________________________________________\n",
      "conv5_block2_1_conv (Conv2D)    (None, 4, 4, 512)    1049088     conv5_block1_out[0][0]           \n",
      "__________________________________________________________________________________________________\n",
      "conv5_block2_1_bn (BatchNormali (None, 4, 4, 512)    2048        conv5_block2_1_conv[0][0]        \n",
      "__________________________________________________________________________________________________\n",
      "conv5_block2_1_relu (Activation (None, 4, 4, 512)    0           conv5_block2_1_bn[0][0]          \n",
      "__________________________________________________________________________________________________\n",
      "conv5_block2_2_conv (Conv2D)    (None, 4, 4, 512)    2359808     conv5_block2_1_relu[0][0]        \n",
      "__________________________________________________________________________________________________\n",
      "conv5_block2_2_bn (BatchNormali (None, 4, 4, 512)    2048        conv5_block2_2_conv[0][0]        \n",
      "__________________________________________________________________________________________________\n",
      "conv5_block2_2_relu (Activation (None, 4, 4, 512)    0           conv5_block2_2_bn[0][0]          \n",
      "__________________________________________________________________________________________________\n",
      "conv5_block2_3_conv (Conv2D)    (None, 4, 4, 2048)   1050624     conv5_block2_2_relu[0][0]        \n",
      "__________________________________________________________________________________________________\n",
      "conv5_block2_3_bn (BatchNormali (None, 4, 4, 2048)   8192        conv5_block2_3_conv[0][0]        \n",
      "__________________________________________________________________________________________________\n",
      "conv5_block2_add (Add)          (None, 4, 4, 2048)   0           conv5_block1_out[0][0]           \n",
      "                                                                 conv5_block2_3_bn[0][0]          \n",
      "__________________________________________________________________________________________________\n",
      "conv5_block2_out (Activation)   (None, 4, 4, 2048)   0           conv5_block2_add[0][0]           \n",
      "__________________________________________________________________________________________________\n",
      "conv5_block3_1_conv (Conv2D)    (None, 4, 4, 512)    1049088     conv5_block2_out[0][0]           \n",
      "__________________________________________________________________________________________________\n",
      "conv5_block3_1_bn (BatchNormali (None, 4, 4, 512)    2048        conv5_block3_1_conv[0][0]        \n",
      "__________________________________________________________________________________________________\n",
      "conv5_block3_1_relu (Activation (None, 4, 4, 512)    0           conv5_block3_1_bn[0][0]          \n",
      "__________________________________________________________________________________________________\n",
      "conv5_block3_2_conv (Conv2D)    (None, 4, 4, 512)    2359808     conv5_block3_1_relu[0][0]        \n",
      "__________________________________________________________________________________________________\n",
      "conv5_block3_2_bn (BatchNormali (None, 4, 4, 512)    2048        conv5_block3_2_conv[0][0]        \n",
      "__________________________________________________________________________________________________\n",
      "conv5_block3_2_relu (Activation (None, 4, 4, 512)    0           conv5_block3_2_bn[0][0]          \n",
      "__________________________________________________________________________________________________\n",
      "conv5_block3_3_conv (Conv2D)    (None, 4, 4, 2048)   1050624     conv5_block3_2_relu[0][0]        \n",
      "__________________________________________________________________________________________________\n",
      "conv5_block3_3_bn (BatchNormali (None, 4, 4, 2048)   8192        conv5_block3_3_conv[0][0]        \n",
      "__________________________________________________________________________________________________\n",
      "conv5_block3_add (Add)          (None, 4, 4, 2048)   0           conv5_block2_out[0][0]           \n",
      "                                                                 conv5_block3_3_bn[0][0]          \n",
      "__________________________________________________________________________________________________\n",
      "conv5_block3_out (Activation)   (None, 4, 4, 2048)   0           conv5_block3_add[0][0]           \n",
      "__________________________________________________________________________________________________\n",
      "C5_reduced (Conv2D)             (None, 4, 4, 256)    524544      conv5_block3_out[0][0]           \n",
      "__________________________________________________________________________________________________\n",
      "C4_reduced (Conv2D)             (None, 8, 8, 256)    262400      conv4_block6_out[0][0]           \n",
      "__________________________________________________________________________________________________\n",
      "P5_upsampled (UpsampleLike)     (None, None, None, 2 0           C5_reduced[0][0]                 \n",
      "                                                                 conv4_block6_out[0][0]           \n",
      "__________________________________________________________________________________________________\n",
      "P4_merged (Add)                 (None, 8, 8, 256)    0           C4_reduced[0][0]                 \n",
      "                                                                 P5_upsampled[0][0]               \n",
      "__________________________________________________________________________________________________\n",
      "C3_reduced (Conv2D)             (None, 16, 16, 256)  131328      conv3_block4_out[0][0]           \n",
      "__________________________________________________________________________________________________\n",
      "P4_upsampled (UpsampleLike)     (None, None, None, 2 0           P4_merged[0][0]                  \n",
      "                                                                 conv3_block4_out[0][0]           \n",
      "__________________________________________________________________________________________________\n",
      "P3_merged (Add)                 (None, 16, 16, 256)  0           C3_reduced[0][0]                 \n",
      "                                                                 P4_upsampled[0][0]               \n",
      "__________________________________________________________________________________________________\n",
      "P3 (Conv2D)                     (None, 16, 16, 256)  590080      P3_merged[0][0]                  \n",
      "__________________________________________________________________________________________________\n",
      "P4 (Conv2D)                     (None, 8, 8, 256)    590080      P4_merged[0][0]                  \n",
      "__________________________________________________________________________________________________\n",
      "regression_submodel (Model)     (None, None, 4)      2443300     P3[0][0]                         \n",
      "                                                                 P4[0][0]                         \n",
      "__________________________________________________________________________________________________\n",
      "anchors_0 (Anchors)             (None, None, 4)      36          P3[0][0]                         \n",
      "__________________________________________________________________________________________________\n",
      "anchors_1 (Anchors)             (None, None, 4)      36          P4[0][0]                         \n",
      "__________________________________________________________________________________________________\n",
      "regression (Concatenate)        (None, None, 4)      0           regression_submodel[1][0]        \n",
      "                                                                 regression_submodel[2][0]        \n",
      "__________________________________________________________________________________________________\n",
      "anchors (Concatenate)           (None, None, 4)      0           anchors_0[0][0]                  \n",
      "                                                                 anchors_1[0][0]                  \n",
      "__________________________________________________________________________________________________\n",
      "classification_submodel (Model) (None, None, 1)      2381065     P3[0][0]                         \n",
      "                                                                 P4[0][0]                         \n",
      "__________________________________________________________________________________________________\n",
      "boxes (RegressBoxes)            (None, None, 4)      0           anchors[0][0]                    \n",
      "                                                                 regression[0][0]                 \n",
      "__________________________________________________________________________________________________\n",
      "classification (Concatenate)    (None, None, 1)      0           classification_submodel[1][0]    \n",
      "                                                                 classification_submodel[2][0]    \n",
      "__________________________________________________________________________________________________\n",
      "clipped_boxes (ClipBoxes)       (None, None, 4)      0           input_1[0][0]                    \n",
      "                                                                 boxes[0][0]                      \n",
      "__________________________________________________________________________________________________\n",
      "filtered_detections (FilterDete [(None, 100, 4), (No 0           clipped_boxes[0][0]              \n",
      "                                                                 classification[0][0]             \n",
      "__________________________________________________________________________________________________\n",
      "upsample_like (UpsampleLike)    (None, None, None, 2 0           P3[0][0]                         \n",
      "                                                                 input_1[0][0]                    \n",
      "__________________________________________________________________________________________________\n",
      "roi_align (RoiAlign)            (None, 100, 14, 14,  0           filtered_detections[0][0]        \n",
      "                                                                 upsample_like[0][0]              \n",
      "__________________________________________________________________________________________________\n",
      "mask_submodel (Model)           multiple             2950657     roi_align[0][0]                  \n",
      "__________________________________________________________________________________________________\n",
      "masks (ConcatenateBoxes)        (None, 100, None)    0           filtered_detections[0][0]        \n",
      "                                                                 mask_submodel[1][0]              \n",
      "==================================================================================================\n",
      "Total params: 33,461,244\n",
      "Trainable params: 33,408,124\n",
      "Non-trainable params: 53,120\n",
      "__________________________________________________________________________________________________\n"
     ]
    }
   ],
   "source": [
    "from deepcell.model_zoo.panopticnet import PanopticNet\n",
    "from deepcell.model_zoo.retinamask import RetinaMask\n",
    "from deepcell import losses\n",
    "from tensorflow.keras.optimizers import Adam\n",
    "from tensorflow.python.keras.losses import MSE\n",
    "\n",
    "# Define optimizer\n",
    "optimizer = Adam(lr=1e-4, clipnorm=0.001)\n",
    "    \n",
    "if model_type == 'watershed':\n",
    "    model = PanopticNet(backbone,\n",
    "                       input_shape=train_data.x.shape[1:],\n",
    "                       norm_method='whole_image',\n",
    "                       num_semantic_heads=3,\n",
    "                       num_semantic_classes=[1,1,2],\n",
    "                       location=True,\n",
    "                       include_top=True,\n",
    "                       interpolation='bilinear',\n",
    "                       lite=True)\n",
    "\n",
    "    # Define loss\n",
    "    loss_layers = ['semantic_0', 'semantic_1', 'semantic_2']\n",
    "    loss = {}\n",
    "\n",
    "    for layer_name in loss_layers:\n",
    "        n_classes = model.get_layer(layer_name).output_shape[-1]\n",
    "        if n_classes > 1:\n",
    "            def loss_function(y_true, y_pred):\n",
    "                return 0.01 * losses.weighted_categorical_crossentropy(\n",
    "                    y_true, y_pred, n_classes=n_classes)\n",
    "            loss[layer_name] = loss_function\n",
    "        elif n_classes == 1:\n",
    "            loss[layer_name] = MSE\n",
    "\n",
    "    # Compile model\n",
    "    model.compile(loss=loss, optimizer=optimizer)\n",
    "    \n",
    "elif model_type == 'pixelwise':\n",
    "    model = PanopticNet(backbone,\n",
    "                       input_shape=train_data.x.shape[1:],\n",
    "                       norm_method='whole_image',\n",
    "                       num_semantic_heads=1,\n",
    "                       num_semantic_classes=[3],\n",
    "                       location=False,\n",
    "                       include_top=True)\n",
    "\n",
    "    # Define loss\n",
    "    loss = {}\n",
    "    \n",
    "    def loss_function(y_true, y_pred):\n",
    "        return losses.weighted_categorical_crossentropy(\n",
    "                    y_true, y_pred, n_classes=3)\n",
    "    \n",
    "    loss['semantic_0'] = loss_function\n",
    "    \n",
    "    # Compile model\n",
    "    model.compile(loss=loss, optimizer=optimizer)\n",
    "    \n",
    "elif model_type == 'retinamask':\n",
    "    model = RetinaMask(backbone,\n",
    "                      num_classes=1,\n",
    "                      input_shape=train_data.x.shape[1:],\n",
    "                      norm_method='whole_image',\n",
    "                      use_imagenet=True,\n",
    "                      pyramid_levels=pyramid_levels,\n",
    "                      anchor_params=anchor_params)\n",
    "    \n",
    "    # Define loss\n",
    "    retinanet_losses = losses.RetinaNetLosses()\n",
    "    loss = {\n",
    "        'regression': retinanet_losses.regress_loss,\n",
    "        'classification': retinanet_losses.classification_loss,\n",
    "        'masks': retinanet_losses.mask_loss\n",
    "    }\n",
    "    \n",
    "    # Compile model\n",
    "    model.compile(loss=loss, optimizer=optimizer)\n",
    "    \n",
    "model.summary()"
   ]
  },
  {
   "cell_type": "markdown",
   "metadata": {
    "papermill": {
     "duration": 0.044176,
     "end_time": "2020-05-02T03:45:43.139304",
     "exception": false,
     "start_time": "2020-05-02T03:45:43.095128",
     "status": "completed"
    },
    "tags": []
   },
   "source": [
    "## Part 4: Define model training parameters\n",
    "\n",
    "Here, we define all of the parameters needed for training. The model trainer objects will record these metadata after training."
   ]
  },
  {
   "cell_type": "code",
   "execution_count": 7,
   "metadata": {
    "papermill": {
     "duration": 0.065283,
     "end_time": "2020-05-02T03:45:43.249669",
     "exception": false,
     "start_time": "2020-05-02T03:45:43.184386",
     "status": "completed"
    },
    "tags": []
   },
   "outputs": [],
   "source": [
    "model_name = 'nuclear_{}_{}_{}_{}'.format(str(train_permutation_seed), dataset_fraction, backbone, model_type)\n",
    "model_path = os.path.join('/data', 'models', date, model_name)\n",
    "dataset_metadata={'name': dataset_name,\n",
    "                  'other': 'Pooled nuclear data from HEK293, HeLa-S3, NIH-3T3, and RAW264.7 cells.'}\n",
    "training_kwargs = {}\n",
    "training_kwargs['batch_size'] = batch_size\n",
    "training_kwargs['lr'] = 1e-5 if model_type=='retinamask' else 1e-4\n",
    "training_kwargs['lr_decay'] = 0.95\n",
    "training_kwargs['training_seed'] = 0\n",
    "training_kwargs['n_epochs'] = n_epochs\n",
    "training_kwargs['training_steps_per_epoch'] = 82800//16 if model_type == 'retinamask' else 82800 // training_kwargs['batch_size']\n",
    "training_kwargs['validation_steps_per_epoch'] = val_data.y.shape[0] // training_kwargs['batch_size']"
   ]
  },
  {
   "cell_type": "markdown",
   "metadata": {
    "papermill": {
     "duration": 0.044422,
     "end_time": "2020-05-02T03:45:43.338772",
     "exception": false,
     "start_time": "2020-05-02T03:45:43.294350",
     "status": "completed"
    },
    "tags": []
   },
   "source": [
    "## Part 5: Create the model trainer and train the model\n",
    "\n",
    "Here, we create the model trainer, train the model, and export the model - along with the metadata and benchmarks"
   ]
  },
  {
   "cell_type": "code",
   "execution_count": 8,
   "metadata": {
    "papermill": {
     "duration": 0.371095,
     "end_time": "2020-05-02T03:45:43.755751",
     "exception": false,
     "start_time": "2020-05-02T03:45:43.384656",
     "status": "completed"
    },
    "tags": []
   },
   "outputs": [],
   "source": [
    "from __future__ import absolute_import\n",
    "from __future__ import print_function\n",
    "from __future__ import division\n",
    "\n",
    "import os\n",
    "import json\n",
    "import hashlib\n",
    "import numpy as np\n",
    "\n",
    "from skimage.morphology import remove_small_objects\n",
    "\n",
    "from deepcell.utils.export_utils import export_model\n",
    "from deepcell.utils.train_utils import rate_scheduler, get_callbacks\n",
    "from deepcell.metrics import Metrics\n",
    "\n",
    "from tensorflow.python.compiler.tensorrt import trt_convert as trt\n",
    "\n",
    "class ModelTrainer(object):\n",
    "    def __init__(self, \n",
    "                model,\n",
    "                model_name,\n",
    "                model_path,\n",
    "                train_generator,\n",
    "                validation_generator,\n",
    "                benchmarking_data=None,\n",
    "                log_dir=None,\n",
    "                tfserving_path=None,\n",
    "                training_callbacks='default',\n",
    "                max_batch_size=256,\n",
    "                export_precisions = ['fp16'],\n",
    "                postprocessing_fn=None,\n",
    "                postprocessing_kwargs={},\n",
    "                predict_batch_size=4,\n",
    "                model_version=0,\n",
    "                min_size=100,\n",
    "                dataset_metadata={},\n",
    "                training_kwargs={}):\n",
    "    \n",
    "        \"\"\"\n",
    "        Model trainer class for segmentation models. This class eases model development by\n",
    "        linking relevant metadata (dataset, training parameters, benchmarking) to the model\n",
    "        training process.\n",
    "        \"\"\"\n",
    "\n",
    "        # Add model information\n",
    "        self.model = model\n",
    "        self.model_name = model_name\n",
    "        self.model_path = model_path\n",
    "        self.model_version = model_version\n",
    "\n",
    "        # Add dataset information\n",
    "        self.train_generator = train_generator\n",
    "        self.validation_generator = validation_generator\n",
    "        self.benchmarking_data = benchmarking_data\n",
    "        self.dataset_metadata = dataset_metadata\n",
    "        self.postprocessing_fn = postprocessing_fn\n",
    "        self.postprocessing_kwargs = postprocessing_kwargs\n",
    "        self.predict_batch_size = predict_batch_size\n",
    "\n",
    "        # Add benchmarking information\n",
    "        self.min_size = min_size\n",
    "\n",
    "        # Add export information\n",
    "        self.max_batch_size = max_batch_size\n",
    "        self.export_precisions = export_precisions\n",
    "\n",
    "        # Add directories for logging and model export\n",
    "        if log_dir is None:\n",
    "            self.log_dir = os.path.join(model_path, 'logging')\n",
    "        else:\n",
    "            self.log_dir = log_dir\n",
    "        \n",
    "        if tfserving_path is None:\n",
    "            self.tfserving_path = os.path.join(model_path, 'serving')\n",
    "        else:\n",
    "            self.tfserving_path = tfserving_path\n",
    "\n",
    "        # Add training kwargs\n",
    "        self.batch_size = training_kwargs.pop('batch_size', 1)\n",
    "        self.training_steps_per_epoch = training_kwargs.pop('training_steps_per_epoch', \n",
    "                                                self.train_generator.y.shape[0] // self.batch_size)\n",
    "        self.validation_steps_per_epoch = training_kwargs.pop('validation_steps_per_epoch', \n",
    "                                                self.validation_generator.y.shape[0] // self.batch_size)\n",
    "        self.n_epochs = training_kwargs.pop('n_epochs', 8)\n",
    "        self.lr = training_kwargs.pop('lr', 1e-5)\n",
    "        self.lr_decay = training_kwargs.pop('lr_decay', 0.95)\n",
    "        self.lr_sched = training_kwargs.pop('lr_sched', rate_scheduler(lr=self.lr, decay=self.lr_decay))\n",
    "\n",
    "        # Add callbacks\n",
    "        if training_callbacks == 'default':\n",
    "            model_name = os.path.join(model_path, model_name + '.h5')\n",
    "            self.training_callbacks = get_callbacks(model_name, lr_sched=self.lr_sched,\n",
    "                                        tensorboard_log_dir=self.log_dir,\n",
    "                                        save_weights_only=False,\n",
    "                                        monitor='val_loss', verbose=1)\n",
    "        else:\n",
    "            self.training_callbacks = training_callbacks\n",
    "\n",
    "        self.trained = False\n",
    "\n",
    "        return None\n",
    "\n",
    "    def _create_hash(self):\n",
    "        if not self.trained:\n",
    "            raise ValueError('Can only create a hash for a trained model')\n",
    "        else:\n",
    "            weights = []\n",
    "            for layer in self.model.layers:\n",
    "                weights += layer.get_weights()\n",
    "            summed_weights_list = [np.sum(w) for w in weights]\n",
    "            summed_weights = sum(summed_weights_list)\n",
    "            model_hash = hashlib.md5(str(summed_weights).encode())\n",
    "            self.model_hash = model_hash.hexdigest()\n",
    "\n",
    "    def _fit(self):\n",
    "        loss_history = self.model.fit_generator(\n",
    "        self.train_generator,\n",
    "        steps_per_epoch=self.training_steps_per_epoch,\n",
    "        epochs=self.n_epochs,\n",
    "        validation_data=self.validation_generator,\n",
    "        validation_steps=self.validation_steps_per_epoch,\n",
    "        callbacks=self.training_callbacks,\n",
    "        verbose=2)\n",
    "\n",
    "        self.trained = True\n",
    "        self.loss_history = loss_history\n",
    "\n",
    "        return None\n",
    "\n",
    "    def _benchmark(self):\n",
    "        if not self.trained:\n",
    "            raise ValueError('Model training is not complete')\n",
    "        else:\n",
    "            if self.benchmarking_data is None:\n",
    "                x = self.validation_generator.x.copy()\n",
    "                y_true = self.validation_generator.y.copy()\n",
    "            else:\n",
    "                x = self.benchmarking_data['X']\n",
    "                y_true = self.benchmarking_data['y']\n",
    "\n",
    "            outputs = self.model.predict(x, batch_size=self.predict_batch_size)\n",
    "            y_pred = self.postprocessing_fn(outputs, **self.postprocessing_kwargs)\n",
    "\n",
    "            if len(y_pred.shape) == 3:\n",
    "                y_pred = np.expand_dims(y_pred, axis=-1)    #TODO: This is a hack because the postprocessing fn returns\n",
    "                                                            #masks with no channel dimensions. This should be fixed.\n",
    "            \n",
    "            benchmarks = Metrics(self.model_name, seg=False)\n",
    "            benchmarks.calc_object_stats(y_true, y_pred)\n",
    "\n",
    "            # Save benchmarks in dict\n",
    "            self.benchmarks = {}\n",
    "            for key in benchmarks.stats.keys():\n",
    "                self.benchmarks[key] = int(benchmarks.stats[key].sum())\n",
    "\n",
    "            for i in range(y_pred.shape[0]):\n",
    "                y_pred[i] = remove_small_objects(y_pred[i].astype(int), min_size=self.min_size)\n",
    "                y_true[i] = remove_small_objects(y_true[i].astype(int), min_size=self.min_size)\n",
    "\n",
    "            benchmarks = Metrics(self.model_name + ' - Removed objects less than {} pixels'.format(self.min_size), \n",
    "                                    seg=False)\n",
    "            benchmarks.calc_object_stats(y_true, y_pred)\n",
    "\n",
    "            # Save benchmarks in dict\n",
    "            self.benchmarks_remove_small_objects = {}\n",
    "            for key in benchmarks.stats.keys():\n",
    "                self.benchmarks_remove_small_objects[key] = int(benchmarks.stats[key].sum())\n",
    "\n",
    "        return None\n",
    "\n",
    "    def _create_training_metadata(self):\n",
    "        training_metadata = {}\n",
    "        training_metadata['batch_size'] = self.batch_size\n",
    "        training_metadata['lr'] = self.lr\n",
    "        training_metadata['lr_decay'] = self.lr_decay\n",
    "        training_metadata['n_epochs'] = self.n_epochs\n",
    "        training_metadata['training_steps_per_epoch'] = self.training_steps_per_epoch\n",
    "        training_metadata['validation_steps_per_epoch'] = self.validation_steps_per_epoch\n",
    "\n",
    "        self.training_metadata = training_metadata\n",
    "\n",
    "        return None\n",
    "\n",
    "    def _export_tf_serving(self):\n",
    "        export_model(self.model, self.tfserving_path, model_version=self.model_version)\n",
    "\n",
    "        # Convert model to TensorRT with float16\n",
    "        if 'fp16' in self.export_precisions:\n",
    "            export_model_dir = os.path.join(self.tfserving_path, str(self.model_version))\n",
    "            export_model_dir_fp16 = os.path.join(self.tfserving_path + '_fp16', str(self.model_version))\n",
    "\n",
    "            converter = trt.TrtGraphConverter(input_saved_model_dir=export_model_dir,\n",
    "                                            max_batch_size=self.max_batch_size,\n",
    "                                            precision_mode='fp16')\n",
    "            converter.convert()\n",
    "            converter.save(export_model_dir_fp16)\n",
    "\n",
    "        return None\n",
    "\n",
    "    def create_model(self, export_serving=False, export_lite=False):\n",
    "\n",
    "        # Train model\n",
    "        self._fit()\n",
    "\n",
    "        # Load best performing weights\n",
    "        model_name = os.path.join(self.model_path, self.model_name + '.h5')\n",
    "        self.model.load_weights(model_name)\n",
    "\n",
    "        # Create model hash\n",
    "        self._create_hash()\n",
    "\n",
    "        # Create benchmarks\n",
    "        self._benchmark()\n",
    "\n",
    "        # Create model metadata\n",
    "        self._create_training_metadata()\n",
    "\n",
    "        # Save model\n",
    "        model_name = os.path.join(self.model_path, self.model_name + '_' + self.model_hash + '.h5')\n",
    "        self.model.save(model_name)\n",
    "\n",
    "        # Save loss history\n",
    "        loss_name = os.path.join(self.model_path, self.model_name + '_loss_' + self.model_hash + '.npz')\n",
    "        np.savez(loss_name, loss_history=self.loss_history.history)\n",
    "\n",
    "        # Save metadata (training and dataset) and benchmarks\n",
    "        metadata = {}\n",
    "        metadata['model_hash'] = self.model_hash\n",
    "        metadata['training_metadata'] = self.training_metadata\n",
    "        metadata['dataset_metadata'] = self.dataset_metadata\n",
    "        metadata['benchmarks'] = self.benchmarks\n",
    "        metadata['benchmarks_remove_small_objects'] = self.benchmarks_remove_small_objects\n",
    "\n",
    "        # TODO: Saving the benchmarking object in this way saves each individual benchmark.\n",
    "        # This should be refactored to save the sums.\n",
    "\n",
    "        metadata_name = os.path.join(self.model_path, self.model_name + '_' + self.model_hash + '.json')\n",
    "        \n",
    "        with open(metadata_name, 'w') as json_file:\n",
    "            json.dump(metadata, json_file)\n",
    "\n",
    "        # Export tf serving model\n",
    "        if export_serving:\n",
    "            self._export_tf_serving()\n",
    "\n",
    "        return None"
   ]
  },
  {
   "cell_type": "code",
   "execution_count": 9,
   "metadata": {
    "papermill": {
     "duration": 18362.204851,
     "end_time": "2020-05-02T08:51:46.005903",
     "exception": false,
     "start_time": "2020-05-02T03:45:43.801052",
     "status": "completed"
    },
    "scrolled": false,
    "tags": []
   },
   "outputs": [
    {
     "name": "stdout",
     "output_type": "stream",
     "text": [
      "Epoch 1/16\n"
     ]
    },
    {
     "name": "stderr",
     "output_type": "stream",
     "text": [
      "/usr/local/lib/python3.6/dist-packages/tensorflow/python/ops/gradients_util.py:93: UserWarning: Converting sparse IndexedSlices to a dense Tensor of unknown shape. This may consume a large amount of memory.\n",
      "  \"Converting sparse IndexedSlices to a dense Tensor of unknown shape. \"\n"
     ]
    },
    {
     "name": "stderr",
     "output_type": "stream",
     "text": [
      "/usr/local/lib/python3.6/dist-packages/tensorflow/python/ops/gradients_util.py:93: UserWarning: Converting sparse IndexedSlices to a dense Tensor of unknown shape. This may consume a large amount of memory.\n",
      "  \"Converting sparse IndexedSlices to a dense Tensor of unknown shape. \"\n"
     ]
    },
    {
     "name": "stderr",
     "output_type": "stream",
     "text": [
      "W0502 03:46:32.541132 140051641706304 callbacks.py:257] Method (on_train_batch_end) is slow compared to the batch update (0.302866). Check your callbacks.\n"
     ]
    },
    {
     "name": "stdout",
     "output_type": "stream",
     "text": [
      "\n",
      "Epoch 00001: val_loss improved from inf to 1.06762, saving model to /data/models/05012020/nuclear_0_0.25_resnet50_retinamask/nuclear_0_0.25_resnet50_retinamask.h5\n"
     ]
    },
    {
     "name": "stdout",
     "output_type": "stream",
     "text": [
      "5175/5175 - 1243s - loss: 1.7785 - regression_loss: 1.2897 - classification_loss: 0.1952 - masks_loss: 0.2937 - val_loss: 1.0676 - val_regression_loss: 0.7485 - val_classification_loss: 0.0764 - val_masks_loss: 0.2427\n"
     ]
    },
    {
     "name": "stdout",
     "output_type": "stream",
     "text": [
      "Epoch 2/16\n"
     ]
    },
    {
     "name": "stdout",
     "output_type": "stream",
     "text": [
      "\n",
      "Epoch 00002: val_loss improved from 1.06762 to 0.91596, saving model to /data/models/05012020/nuclear_0_0.25_resnet50_retinamask/nuclear_0_0.25_resnet50_retinamask.h5\n"
     ]
    },
    {
     "name": "stdout",
     "output_type": "stream",
     "text": [
      "5175/5175 - 1148s - loss: 1.1174 - regression_loss: 0.7768 - classification_loss: 0.0872 - masks_loss: 0.2534 - val_loss: 0.9160 - val_regression_loss: 0.6113 - val_classification_loss: 0.0622 - val_masks_loss: 0.2425\n"
     ]
    },
    {
     "name": "stdout",
     "output_type": "stream",
     "text": [
      "Epoch 3/16\n"
     ]
    },
    {
     "name": "stdout",
     "output_type": "stream",
     "text": [
      "\n",
      "Epoch 00003: val_loss improved from 0.91596 to 0.84879, saving model to /data/models/05012020/nuclear_0_0.25_resnet50_retinamask/nuclear_0_0.25_resnet50_retinamask.h5\n"
     ]
    },
    {
     "name": "stdout",
     "output_type": "stream",
     "text": [
      "5175/5175 - 1141s - loss: 1.0088 - regression_loss: 0.6842 - classification_loss: 0.0771 - masks_loss: 0.2475 - val_loss: 0.8488 - val_regression_loss: 0.5724 - val_classification_loss: 0.0603 - val_masks_loss: 0.2161\n"
     ]
    },
    {
     "name": "stdout",
     "output_type": "stream",
     "text": [
      "Epoch 4/16\n"
     ]
    },
    {
     "name": "stdout",
     "output_type": "stream",
     "text": [
      "\n",
      "Epoch 00004: val_loss did not improve from 0.84879\n",
      "5175/5175 - 1147s - loss: 0.9400 - regression_loss: 0.6283 - classification_loss: 0.0686 - masks_loss: 0.2431 - val_loss: 0.8543 - val_regression_loss: 0.5857 - val_classification_loss: 0.0517 - val_masks_loss: 0.2169\n"
     ]
    },
    {
     "name": "stdout",
     "output_type": "stream",
     "text": [
      "Epoch 5/16\n"
     ]
    },
    {
     "name": "stdout",
     "output_type": "stream",
     "text": [
      "\n",
      "Epoch 00005: val_loss improved from 0.84879 to 0.80712, saving model to /data/models/05012020/nuclear_0_0.25_resnet50_retinamask/nuclear_0_0.25_resnet50_retinamask.h5\n"
     ]
    },
    {
     "name": "stdout",
     "output_type": "stream",
     "text": [
      "5175/5175 - 1161s - loss: 0.8988 - regression_loss: 0.5940 - classification_loss: 0.0637 - masks_loss: 0.2411 - val_loss: 0.8071 - val_regression_loss: 0.5424 - val_classification_loss: 0.0494 - val_masks_loss: 0.2153\n"
     ]
    },
    {
     "name": "stdout",
     "output_type": "stream",
     "text": [
      "Epoch 6/16\n"
     ]
    },
    {
     "name": "stdout",
     "output_type": "stream",
     "text": [
      "\n",
      "Epoch 00006: val_loss improved from 0.80712 to 0.78481, saving model to /data/models/05012020/nuclear_0_0.25_resnet50_retinamask/nuclear_0_0.25_resnet50_retinamask.h5\n"
     ]
    },
    {
     "name": "stdout",
     "output_type": "stream",
     "text": [
      "5175/5175 - 1158s - loss: 0.8727 - regression_loss: 0.5731 - classification_loss: 0.0609 - masks_loss: 0.2387 - val_loss: 0.7848 - val_regression_loss: 0.5198 - val_classification_loss: 0.0476 - val_masks_loss: 0.2174\n"
     ]
    },
    {
     "name": "stdout",
     "output_type": "stream",
     "text": [
      "Epoch 7/16\n"
     ]
    },
    {
     "name": "stdout",
     "output_type": "stream",
     "text": [
      "\n",
      "Epoch 00007: val_loss did not improve from 0.78481\n",
      "5175/5175 - 1138s - loss: 0.8542 - regression_loss: 0.5569 - classification_loss: 0.0601 - masks_loss: 0.2372 - val_loss: 0.7869 - val_regression_loss: 0.5228 - val_classification_loss: 0.0497 - val_masks_loss: 0.2145\n"
     ]
    },
    {
     "name": "stdout",
     "output_type": "stream",
     "text": [
      "Epoch 8/16\n"
     ]
    },
    {
     "name": "stdout",
     "output_type": "stream",
     "text": [
      "\n",
      "Epoch 00008: val_loss improved from 0.78481 to 0.77465, saving model to /data/models/05012020/nuclear_0_0.25_resnet50_retinamask/nuclear_0_0.25_resnet50_retinamask.h5\n"
     ]
    },
    {
     "name": "stdout",
     "output_type": "stream",
     "text": [
      "5175/5175 - 1096s - loss: 0.8387 - regression_loss: 0.5444 - classification_loss: 0.0581 - masks_loss: 0.2363 - val_loss: 0.7747 - val_regression_loss: 0.5077 - val_classification_loss: 0.0459 - val_masks_loss: 0.2210\n"
     ]
    },
    {
     "name": "stdout",
     "output_type": "stream",
     "text": [
      "Epoch 9/16\n"
     ]
    },
    {
     "name": "stdout",
     "output_type": "stream",
     "text": [
      "\n",
      "Epoch 00009: val_loss improved from 0.77465 to 0.75655, saving model to /data/models/05012020/nuclear_0_0.25_resnet50_retinamask/nuclear_0_0.25_resnet50_retinamask.h5\n"
     ]
    },
    {
     "name": "stdout",
     "output_type": "stream",
     "text": [
      "5175/5175 - 1095s - loss: 0.8251 - regression_loss: 0.5325 - classification_loss: 0.0570 - masks_loss: 0.2356 - val_loss: 0.7566 - val_regression_loss: 0.4959 - val_classification_loss: 0.0439 - val_masks_loss: 0.2168\n"
     ]
    },
    {
     "name": "stdout",
     "output_type": "stream",
     "text": [
      "Epoch 10/16\n"
     ]
    },
    {
     "name": "stdout",
     "output_type": "stream",
     "text": [
      "\n",
      "Epoch 00010: val_loss did not improve from 0.75655\n",
      "5175/5175 - 1092s - loss: 0.8108 - regression_loss: 0.5232 - classification_loss: 0.0545 - masks_loss: 0.2330 - val_loss: 0.7664 - val_regression_loss: 0.5069 - val_classification_loss: 0.0475 - val_masks_loss: 0.2120\n"
     ]
    },
    {
     "name": "stdout",
     "output_type": "stream",
     "text": [
      "Epoch 11/16\n"
     ]
    },
    {
     "name": "stdout",
     "output_type": "stream",
     "text": [
      "\n",
      "Epoch 00011: val_loss did not improve from 0.75655\n",
      "5175/5175 - 1089s - loss: 0.7999 - regression_loss: 0.5142 - classification_loss: 0.0536 - masks_loss: 0.2320 - val_loss: 0.7709 - val_regression_loss: 0.5117 - val_classification_loss: 0.0464 - val_masks_loss: 0.2129\n"
     ]
    },
    {
     "name": "stdout",
     "output_type": "stream",
     "text": [
      "Epoch 12/16\n"
     ]
    },
    {
     "name": "stdout",
     "output_type": "stream",
     "text": [
      "\n",
      "Epoch 00012: val_loss did not improve from 0.75655\n",
      "5175/5175 - 1090s - loss: 0.7976 - regression_loss: 0.5111 - classification_loss: 0.0556 - masks_loss: 0.2309 - val_loss: 0.7605 - val_regression_loss: 0.4950 - val_classification_loss: 0.0515 - val_masks_loss: 0.2140\n"
     ]
    },
    {
     "name": "stdout",
     "output_type": "stream",
     "text": [
      "Epoch 13/16\n"
     ]
    },
    {
     "name": "stdout",
     "output_type": "stream",
     "text": [
      "\n",
      "Epoch 00013: val_loss improved from 0.75655 to 0.74070, saving model to /data/models/05012020/nuclear_0_0.25_resnet50_retinamask/nuclear_0_0.25_resnet50_retinamask.h5\n"
     ]
    },
    {
     "name": "stdout",
     "output_type": "stream",
     "text": [
      "5175/5175 - 1094s - loss: 0.7885 - regression_loss: 0.5056 - classification_loss: 0.0535 - masks_loss: 0.2293 - val_loss: 0.7407 - val_regression_loss: 0.4873 - val_classification_loss: 0.0442 - val_masks_loss: 0.2091\n"
     ]
    },
    {
     "name": "stdout",
     "output_type": "stream",
     "text": [
      "Epoch 14/16\n"
     ]
    },
    {
     "name": "stdout",
     "output_type": "stream",
     "text": [
      "\n",
      "Epoch 00014: val_loss did not improve from 0.74070\n",
      "5175/5175 - 1091s - loss: 0.7786 - regression_loss: 0.4969 - classification_loss: 0.0523 - masks_loss: 0.2294 - val_loss: 0.7481 - val_regression_loss: 0.4819 - val_classification_loss: 0.0529 - val_masks_loss: 0.2134\n"
     ]
    },
    {
     "name": "stdout",
     "output_type": "stream",
     "text": [
      "Epoch 15/16\n"
     ]
    },
    {
     "name": "stdout",
     "output_type": "stream",
     "text": [
      "\n",
      "Epoch 00015: val_loss did not improve from 0.74070\n",
      "5175/5175 - 1093s - loss: 0.7783 - regression_loss: 0.4971 - classification_loss: 0.0518 - masks_loss: 0.2294 - val_loss: 0.7576 - val_regression_loss: 0.5006 - val_classification_loss: 0.0458 - val_masks_loss: 0.2112\n"
     ]
    },
    {
     "name": "stdout",
     "output_type": "stream",
     "text": [
      "Epoch 16/16\n"
     ]
    },
    {
     "name": "stdout",
     "output_type": "stream",
     "text": [
      "\n",
      "Epoch 00016: val_loss improved from 0.74070 to 0.73722, saving model to /data/models/05012020/nuclear_0_0.25_resnet50_retinamask/nuclear_0_0.25_resnet50_retinamask.h5\n"
     ]
    },
    {
     "name": "stdout",
     "output_type": "stream",
     "text": [
      "5175/5175 - 1092s - loss: 0.7628 - regression_loss: 0.4875 - classification_loss: 0.0496 - masks_loss: 0.2257 - val_loss: 0.7372 - val_regression_loss: 0.4791 - val_classification_loss: 0.0486 - val_masks_loss: 0.2096\n"
     ]
    },
    {
     "name": "stderr",
     "output_type": "stream",
     "text": [
      "/usr/local/lib/python3.6/dist-packages/deepcell_toolbox/retinanet.py:295: UserWarning: Random walker only segments unlabeled areas, where labels == 0. No zero valued areas in labels were found. Returning provided labels.\n",
      "  segments = random_walker(foreground, markers)\n"
     ]
    },
    {
     "name": "stderr",
     "output_type": "stream",
     "text": [
      "/usr/local/lib/python3.6/dist-packages/deepcell_toolbox/retinanet.py:295: UserWarning: Random walker only segments unlabeled areas, where labels == 0. No zero valued areas in labels were found. Returning provided labels.\n",
      "  segments = random_walker(foreground, markers)\n",
      "/usr/local/lib/python3.6/dist-packages/deepcell_toolbox/retinanet.py:295: UserWarning: Random walker only segments unlabeled areas, where labels == 0. No zero valued areas in labels were found. Returning provided labels.\n",
      "  segments = random_walker(foreground, markers)\n",
      "/usr/local/lib/python3.6/dist-packages/deepcell_toolbox/retinanet.py:295: UserWarning: Random walker only segments unlabeled areas, where labels == 0. No zero valued areas in labels were found. Returning provided labels.\n",
      "  segments = random_walker(foreground, markers)\n"
     ]
    },
    {
     "name": "stderr",
     "output_type": "stream",
     "text": [
      "/usr/local/lib/python3.6/dist-packages/deepcell_toolbox/retinanet.py:295: UserWarning: Random walker only segments unlabeled areas, where labels == 0. No zero valued areas in labels were found. Returning provided labels.\n",
      "  segments = random_walker(foreground, markers)\n",
      "/usr/local/lib/python3.6/dist-packages/deepcell_toolbox/retinanet.py:295: UserWarning: Random walker only segments unlabeled areas, where labels == 0. No zero valued areas in labels were found. Returning provided labels.\n",
      "  segments = random_walker(foreground, markers)\n"
     ]
    },
    {
     "name": "stderr",
     "output_type": "stream",
     "text": [
      "/usr/local/lib/python3.6/dist-packages/deepcell_toolbox/retinanet.py:295: UserWarning: Random walker only segments unlabeled areas, where labels == 0. No zero valued areas in labels were found. Returning provided labels.\n",
      "  segments = random_walker(foreground, markers)\n"
     ]
    },
    {
     "name": "stderr",
     "output_type": "stream",
     "text": [
      "/usr/local/lib/python3.6/dist-packages/deepcell_toolbox/retinanet.py:295: UserWarning: Random walker only segments unlabeled areas, where labels == 0. No zero valued areas in labels were found. Returning provided labels.\n",
      "  segments = random_walker(foreground, markers)\n"
     ]
    },
    {
     "name": "stderr",
     "output_type": "stream",
     "text": [
      "W0502 08:48:06.001417 140051641706304 metrics.py:103] DICE score is technically 1.0, but prediction and truth arrays are empty. \n"
     ]
    },
    {
     "name": "stderr",
     "output_type": "stream",
     "text": [
      "/usr/local/lib/python3.6/dist-packages/deepcell/metrics.py:111: RuntimeWarning: invalid value encountered in long_scalars\n",
      "  dice = (2 * intersection.sum() / (pred.sum() + truth.sum()))\n",
      "/usr/local/lib/python3.6/dist-packages/deepcell/metrics.py:112: RuntimeWarning: invalid value encountered in long_scalars\n",
      "  jaccard = intersection.sum() / union.sum()\n",
      "/usr/local/lib/python3.6/dist-packages/deepcell/metrics.py:113: RuntimeWarning: invalid value encountered in long_scalars\n",
      "  precision = intersection.sum() / pred.sum()\n",
      "/usr/local/lib/python3.6/dist-packages/deepcell/metrics.py:114: RuntimeWarning: invalid value encountered in long_scalars\n",
      "  recall = intersection.sum() / truth.sum()\n",
      "W0502 08:48:06.021273 140051641706304 metrics.py:103] DICE score is technically 1.0, but prediction and truth arrays are empty. \n"
     ]
    },
    {
     "name": "stderr",
     "output_type": "stream",
     "text": [
      "W0502 08:48:06.032644 140051641706304 metrics.py:103] DICE score is technically 1.0, but prediction and truth arrays are empty. \n"
     ]
    },
    {
     "name": "stderr",
     "output_type": "stream",
     "text": [
      "W0502 08:48:06.043615 140051641706304 metrics.py:103] DICE score is technically 1.0, but prediction and truth arrays are empty. \n"
     ]
    },
    {
     "name": "stderr",
     "output_type": "stream",
     "text": [
      "W0502 08:48:06.054112 140051641706304 metrics.py:103] DICE score is technically 1.0, but prediction and truth arrays are empty. \n"
     ]
    },
    {
     "name": "stderr",
     "output_type": "stream",
     "text": [
      "W0502 08:48:06.064845 140051641706304 metrics.py:103] DICE score is technically 1.0, but prediction and truth arrays are empty. \n"
     ]
    },
    {
     "name": "stderr",
     "output_type": "stream",
     "text": [
      "W0502 08:48:06.075500 140051641706304 metrics.py:103] DICE score is technically 1.0, but prediction and truth arrays are empty. \n"
     ]
    },
    {
     "name": "stderr",
     "output_type": "stream",
     "text": [
      "W0502 08:48:06.086349 140051641706304 metrics.py:103] DICE score is technically 1.0, but prediction and truth arrays are empty. \n"
     ]
    },
    {
     "name": "stderr",
     "output_type": "stream",
     "text": [
      "W0502 08:48:06.097513 140051641706304 metrics.py:103] DICE score is technically 1.0, but prediction and truth arrays are empty. \n"
     ]
    },
    {
     "name": "stderr",
     "output_type": "stream",
     "text": [
      "W0502 08:48:06.108335 140051641706304 metrics.py:103] DICE score is technically 1.0, but prediction and truth arrays are empty. \n"
     ]
    },
    {
     "name": "stderr",
     "output_type": "stream",
     "text": [
      "W0502 08:48:06.119277 140051641706304 metrics.py:103] DICE score is technically 1.0, but prediction and truth arrays are empty. \n"
     ]
    },
    {
     "name": "stderr",
     "output_type": "stream",
     "text": [
      "W0502 08:48:06.129494 140051641706304 metrics.py:103] DICE score is technically 1.0, but prediction and truth arrays are empty. \n"
     ]
    },
    {
     "name": "stderr",
     "output_type": "stream",
     "text": [
      "W0502 08:48:06.139985 140051641706304 metrics.py:103] DICE score is technically 1.0, but prediction and truth arrays are empty. \n"
     ]
    },
    {
     "name": "stderr",
     "output_type": "stream",
     "text": [
      "W0502 08:48:06.150691 140051641706304 metrics.py:103] DICE score is technically 1.0, but prediction and truth arrays are empty. \n"
     ]
    },
    {
     "name": "stderr",
     "output_type": "stream",
     "text": [
      "W0502 08:48:06.161326 140051641706304 metrics.py:103] DICE score is technically 1.0, but prediction and truth arrays are empty. \n"
     ]
    },
    {
     "name": "stderr",
     "output_type": "stream",
     "text": [
      "W0502 08:48:06.171946 140051641706304 metrics.py:103] DICE score is technically 1.0, but prediction and truth arrays are empty. \n"
     ]
    },
    {
     "name": "stderr",
     "output_type": "stream",
     "text": [
      "W0502 08:48:06.182530 140051641706304 metrics.py:103] DICE score is technically 1.0, but prediction and truth arrays are empty. \n"
     ]
    },
    {
     "name": "stderr",
     "output_type": "stream",
     "text": [
      "W0502 08:48:06.193013 140051641706304 metrics.py:103] DICE score is technically 1.0, but prediction and truth arrays are empty. \n"
     ]
    },
    {
     "name": "stderr",
     "output_type": "stream",
     "text": [
      "W0502 08:48:06.203850 140051641706304 metrics.py:103] DICE score is technically 1.0, but prediction and truth arrays are empty. \n"
     ]
    },
    {
     "name": "stderr",
     "output_type": "stream",
     "text": [
      "W0502 08:48:06.214835 140051641706304 metrics.py:103] DICE score is technically 1.0, but prediction and truth arrays are empty. \n"
     ]
    },
    {
     "name": "stderr",
     "output_type": "stream",
     "text": [
      "W0502 08:48:06.225759 140051641706304 metrics.py:103] DICE score is technically 1.0, but prediction and truth arrays are empty. \n"
     ]
    },
    {
     "name": "stderr",
     "output_type": "stream",
     "text": [
      "W0502 08:48:06.236033 140051641706304 metrics.py:103] DICE score is technically 1.0, but prediction and truth arrays are empty. \n"
     ]
    },
    {
     "name": "stderr",
     "output_type": "stream",
     "text": [
      "W0502 08:48:06.246389 140051641706304 metrics.py:103] DICE score is technically 1.0, but prediction and truth arrays are empty. \n"
     ]
    },
    {
     "name": "stderr",
     "output_type": "stream",
     "text": [
      "W0502 08:48:06.257201 140051641706304 metrics.py:103] DICE score is technically 1.0, but prediction and truth arrays are empty. \n"
     ]
    },
    {
     "name": "stderr",
     "output_type": "stream",
     "text": [
      "W0502 08:48:06.267683 140051641706304 metrics.py:103] DICE score is technically 1.0, but prediction and truth arrays are empty. \n"
     ]
    },
    {
     "name": "stderr",
     "output_type": "stream",
     "text": [
      "W0502 08:48:06.278379 140051641706304 metrics.py:103] DICE score is technically 1.0, but prediction and truth arrays are empty. \n"
     ]
    },
    {
     "name": "stderr",
     "output_type": "stream",
     "text": [
      "W0502 08:48:06.289144 140051641706304 metrics.py:103] DICE score is technically 1.0, but prediction and truth arrays are empty. \n"
     ]
    },
    {
     "name": "stderr",
     "output_type": "stream",
     "text": [
      "W0502 08:48:06.300312 140051641706304 metrics.py:103] DICE score is technically 1.0, but prediction and truth arrays are empty. \n"
     ]
    },
    {
     "name": "stderr",
     "output_type": "stream",
     "text": [
      "W0502 08:48:06.310880 140051641706304 metrics.py:103] DICE score is technically 1.0, but prediction and truth arrays are empty. \n"
     ]
    },
    {
     "name": "stderr",
     "output_type": "stream",
     "text": [
      "W0502 08:48:06.321345 140051641706304 metrics.py:103] DICE score is technically 1.0, but prediction and truth arrays are empty. \n"
     ]
    },
    {
     "name": "stderr",
     "output_type": "stream",
     "text": [
      "W0502 08:48:06.332460 140051641706304 metrics.py:103] DICE score is technically 1.0, but prediction and truth arrays are empty. \n"
     ]
    },
    {
     "name": "stderr",
     "output_type": "stream",
     "text": [
      "W0502 08:48:06.343253 140051641706304 metrics.py:103] DICE score is technically 1.0, but prediction and truth arrays are empty. \n"
     ]
    },
    {
     "name": "stderr",
     "output_type": "stream",
     "text": [
      "W0502 08:48:06.353954 140051641706304 metrics.py:103] DICE score is technically 1.0, but prediction and truth arrays are empty. \n"
     ]
    },
    {
     "name": "stderr",
     "output_type": "stream",
     "text": [
      "W0502 08:48:06.364777 140051641706304 metrics.py:103] DICE score is technically 1.0, but prediction and truth arrays are empty. \n"
     ]
    },
    {
     "name": "stderr",
     "output_type": "stream",
     "text": [
      "W0502 08:48:06.375387 140051641706304 metrics.py:103] DICE score is technically 1.0, but prediction and truth arrays are empty. \n"
     ]
    },
    {
     "name": "stderr",
     "output_type": "stream",
     "text": [
      "W0502 08:48:06.385843 140051641706304 metrics.py:103] DICE score is technically 1.0, but prediction and truth arrays are empty. \n"
     ]
    },
    {
     "name": "stderr",
     "output_type": "stream",
     "text": [
      "W0502 08:48:06.396172 140051641706304 metrics.py:103] DICE score is technically 1.0, but prediction and truth arrays are empty. \n"
     ]
    },
    {
     "name": "stderr",
     "output_type": "stream",
     "text": [
      "W0502 08:48:06.406749 140051641706304 metrics.py:103] DICE score is technically 1.0, but prediction and truth arrays are empty. \n"
     ]
    },
    {
     "name": "stderr",
     "output_type": "stream",
     "text": [
      "W0502 08:48:06.417445 140051641706304 metrics.py:103] DICE score is technically 1.0, but prediction and truth arrays are empty. \n"
     ]
    },
    {
     "name": "stderr",
     "output_type": "stream",
     "text": [
      "W0502 08:48:06.428114 140051641706304 metrics.py:103] DICE score is technically 1.0, but prediction and truth arrays are empty. \n"
     ]
    },
    {
     "name": "stderr",
     "output_type": "stream",
     "text": [
      "W0502 08:48:08.928787 140051641706304 metrics.py:103] DICE score is technically 1.0, but prediction and truth arrays are empty. \n"
     ]
    },
    {
     "name": "stderr",
     "output_type": "stream",
     "text": [
      "W0502 08:48:08.939883 140051641706304 metrics.py:103] DICE score is technically 1.0, but prediction and truth arrays are empty. \n"
     ]
    },
    {
     "name": "stderr",
     "output_type": "stream",
     "text": [
      "W0502 08:48:08.950232 140051641706304 metrics.py:103] DICE score is technically 1.0, but prediction and truth arrays are empty. \n"
     ]
    },
    {
     "name": "stderr",
     "output_type": "stream",
     "text": [
      "W0502 08:48:08.960627 140051641706304 metrics.py:103] DICE score is technically 1.0, but prediction and truth arrays are empty. \n"
     ]
    },
    {
     "name": "stderr",
     "output_type": "stream",
     "text": [
      "W0502 08:48:08.970727 140051641706304 metrics.py:103] DICE score is technically 1.0, but prediction and truth arrays are empty. \n"
     ]
    },
    {
     "name": "stderr",
     "output_type": "stream",
     "text": [
      "W0502 08:48:08.981326 140051641706304 metrics.py:103] DICE score is technically 1.0, but prediction and truth arrays are empty. \n"
     ]
    },
    {
     "name": "stderr",
     "output_type": "stream",
     "text": [
      "W0502 08:48:08.991972 140051641706304 metrics.py:103] DICE score is technically 1.0, but prediction and truth arrays are empty. \n"
     ]
    },
    {
     "name": "stderr",
     "output_type": "stream",
     "text": [
      "W0502 08:48:09.002786 140051641706304 metrics.py:103] DICE score is technically 1.0, but prediction and truth arrays are empty. \n"
     ]
    },
    {
     "name": "stderr",
     "output_type": "stream",
     "text": [
      "W0502 08:48:09.013881 140051641706304 metrics.py:103] DICE score is technically 1.0, but prediction and truth arrays are empty. \n"
     ]
    },
    {
     "name": "stderr",
     "output_type": "stream",
     "text": [
      "W0502 08:48:09.024652 140051641706304 metrics.py:103] DICE score is technically 1.0, but prediction and truth arrays are empty. \n"
     ]
    },
    {
     "name": "stderr",
     "output_type": "stream",
     "text": [
      "W0502 08:48:09.035171 140051641706304 metrics.py:103] DICE score is technically 1.0, but prediction and truth arrays are empty. \n"
     ]
    },
    {
     "name": "stderr",
     "output_type": "stream",
     "text": [
      "W0502 08:48:09.045726 140051641706304 metrics.py:103] DICE score is technically 1.0, but prediction and truth arrays are empty. \n"
     ]
    },
    {
     "name": "stderr",
     "output_type": "stream",
     "text": [
      "W0502 08:48:09.056263 140051641706304 metrics.py:103] DICE score is technically 1.0, but prediction and truth arrays are empty. \n"
     ]
    },
    {
     "name": "stderr",
     "output_type": "stream",
     "text": [
      "W0502 08:48:09.066707 140051641706304 metrics.py:103] DICE score is technically 1.0, but prediction and truth arrays are empty. \n"
     ]
    },
    {
     "name": "stderr",
     "output_type": "stream",
     "text": [
      "W0502 08:48:09.077064 140051641706304 metrics.py:103] DICE score is technically 1.0, but prediction and truth arrays are empty. \n"
     ]
    },
    {
     "name": "stderr",
     "output_type": "stream",
     "text": [
      "W0502 08:48:09.087185 140051641706304 metrics.py:103] DICE score is technically 1.0, but prediction and truth arrays are empty. \n"
     ]
    },
    {
     "name": "stderr",
     "output_type": "stream",
     "text": [
      "W0502 08:48:09.097180 140051641706304 metrics.py:103] DICE score is technically 1.0, but prediction and truth arrays are empty. \n"
     ]
    },
    {
     "name": "stderr",
     "output_type": "stream",
     "text": [
      "W0502 08:48:09.107609 140051641706304 metrics.py:103] DICE score is technically 1.0, but prediction and truth arrays are empty. \n"
     ]
    },
    {
     "name": "stderr",
     "output_type": "stream",
     "text": [
      "W0502 08:48:09.118171 140051641706304 metrics.py:103] DICE score is technically 1.0, but prediction and truth arrays are empty. \n"
     ]
    },
    {
     "name": "stderr",
     "output_type": "stream",
     "text": [
      "W0502 08:48:09.128708 140051641706304 metrics.py:103] DICE score is technically 1.0, but prediction and truth arrays are empty. \n"
     ]
    },
    {
     "name": "stderr",
     "output_type": "stream",
     "text": [
      "W0502 08:48:09.139525 140051641706304 metrics.py:103] DICE score is technically 1.0, but prediction and truth arrays are empty. \n"
     ]
    },
    {
     "name": "stderr",
     "output_type": "stream",
     "text": [
      "W0502 08:48:09.159740 140051641706304 metrics.py:103] DICE score is technically 1.0, but prediction and truth arrays are empty. \n"
     ]
    },
    {
     "name": "stderr",
     "output_type": "stream",
     "text": [
      "W0502 08:48:09.170683 140051641706304 metrics.py:103] DICE score is technically 1.0, but prediction and truth arrays are empty. \n"
     ]
    },
    {
     "name": "stderr",
     "output_type": "stream",
     "text": [
      "W0502 08:48:09.181155 140051641706304 metrics.py:103] DICE score is technically 1.0, but prediction and truth arrays are empty. \n"
     ]
    },
    {
     "name": "stderr",
     "output_type": "stream",
     "text": [
      "W0502 08:48:09.191759 140051641706304 metrics.py:103] DICE score is technically 1.0, but prediction and truth arrays are empty. \n"
     ]
    },
    {
     "name": "stderr",
     "output_type": "stream",
     "text": [
      "W0502 08:48:09.202257 140051641706304 metrics.py:103] DICE score is technically 1.0, but prediction and truth arrays are empty. \n"
     ]
    },
    {
     "name": "stderr",
     "output_type": "stream",
     "text": [
      "W0502 08:48:09.213263 140051641706304 metrics.py:103] DICE score is technically 1.0, but prediction and truth arrays are empty. \n"
     ]
    },
    {
     "name": "stderr",
     "output_type": "stream",
     "text": [
      "W0502 08:48:09.224054 140051641706304 metrics.py:103] DICE score is technically 1.0, but prediction and truth arrays are empty. \n"
     ]
    },
    {
     "name": "stderr",
     "output_type": "stream",
     "text": [
      "W0502 08:48:09.234585 140051641706304 metrics.py:103] DICE score is technically 1.0, but prediction and truth arrays are empty. \n"
     ]
    },
    {
     "name": "stderr",
     "output_type": "stream",
     "text": [
      "W0502 08:48:09.245091 140051641706304 metrics.py:103] DICE score is technically 1.0, but prediction and truth arrays are empty. \n"
     ]
    },
    {
     "name": "stderr",
     "output_type": "stream",
     "text": [
      "W0502 08:48:09.255568 140051641706304 metrics.py:103] DICE score is technically 1.0, but prediction and truth arrays are empty. \n"
     ]
    },
    {
     "name": "stderr",
     "output_type": "stream",
     "text": [
      "W0502 08:48:09.266326 140051641706304 metrics.py:103] DICE score is technically 1.0, but prediction and truth arrays are empty. \n"
     ]
    },
    {
     "name": "stderr",
     "output_type": "stream",
     "text": [
      "W0502 08:48:09.276853 140051641706304 metrics.py:103] DICE score is technically 1.0, but prediction and truth arrays are empty. \n"
     ]
    },
    {
     "name": "stderr",
     "output_type": "stream",
     "text": [
      "W0502 08:48:09.286983 140051641706304 metrics.py:103] DICE score is technically 1.0, but prediction and truth arrays are empty. \n"
     ]
    },
    {
     "name": "stderr",
     "output_type": "stream",
     "text": [
      "W0502 08:48:09.297514 140051641706304 metrics.py:103] DICE score is technically 1.0, but prediction and truth arrays are empty. \n"
     ]
    },
    {
     "name": "stderr",
     "output_type": "stream",
     "text": [
      "W0502 08:48:09.308111 140051641706304 metrics.py:103] DICE score is technically 1.0, but prediction and truth arrays are empty. \n"
     ]
    },
    {
     "name": "stderr",
     "output_type": "stream",
     "text": [
      "W0502 08:48:09.318299 140051641706304 metrics.py:103] DICE score is technically 1.0, but prediction and truth arrays are empty. \n"
     ]
    },
    {
     "name": "stderr",
     "output_type": "stream",
     "text": [
      "W0502 08:48:09.328998 140051641706304 metrics.py:103] DICE score is technically 1.0, but prediction and truth arrays are empty. \n"
     ]
    },
    {
     "name": "stderr",
     "output_type": "stream",
     "text": [
      "W0502 08:48:09.339661 140051641706304 metrics.py:103] DICE score is technically 1.0, but prediction and truth arrays are empty. \n"
     ]
    },
    {
     "name": "stderr",
     "output_type": "stream",
     "text": [
      "W0502 08:48:15.359010 140051641706304 metrics.py:103] DICE score is technically 1.0, but prediction and truth arrays are empty. \n"
     ]
    },
    {
     "name": "stderr",
     "output_type": "stream",
     "text": [
      "W0502 08:48:15.369701 140051641706304 metrics.py:103] DICE score is technically 1.0, but prediction and truth arrays are empty. \n"
     ]
    },
    {
     "name": "stderr",
     "output_type": "stream",
     "text": [
      "W0502 08:48:15.380392 140051641706304 metrics.py:103] DICE score is technically 1.0, but prediction and truth arrays are empty. \n"
     ]
    },
    {
     "name": "stderr",
     "output_type": "stream",
     "text": [
      "W0502 08:48:15.391280 140051641706304 metrics.py:103] DICE score is technically 1.0, but prediction and truth arrays are empty. \n"
     ]
    },
    {
     "name": "stderr",
     "output_type": "stream",
     "text": [
      "W0502 08:48:15.401720 140051641706304 metrics.py:103] DICE score is technically 1.0, but prediction and truth arrays are empty. \n"
     ]
    },
    {
     "name": "stderr",
     "output_type": "stream",
     "text": [
      "W0502 08:48:15.412412 140051641706304 metrics.py:103] DICE score is technically 1.0, but prediction and truth arrays are empty. \n"
     ]
    },
    {
     "name": "stderr",
     "output_type": "stream",
     "text": [
      "W0502 08:48:15.423365 140051641706304 metrics.py:103] DICE score is technically 1.0, but prediction and truth arrays are empty. \n"
     ]
    },
    {
     "name": "stderr",
     "output_type": "stream",
     "text": [
      "W0502 08:48:15.433860 140051641706304 metrics.py:103] DICE score is technically 1.0, but prediction and truth arrays are empty. \n"
     ]
    },
    {
     "name": "stderr",
     "output_type": "stream",
     "text": [
      "W0502 08:48:15.444405 140051641706304 metrics.py:103] DICE score is technically 1.0, but prediction and truth arrays are empty. \n"
     ]
    },
    {
     "name": "stderr",
     "output_type": "stream",
     "text": [
      "W0502 08:48:15.454632 140051641706304 metrics.py:103] DICE score is technically 1.0, but prediction and truth arrays are empty. \n"
     ]
    },
    {
     "name": "stderr",
     "output_type": "stream",
     "text": [
      "W0502 08:48:15.465139 140051641706304 metrics.py:103] DICE score is technically 1.0, but prediction and truth arrays are empty. \n"
     ]
    },
    {
     "name": "stderr",
     "output_type": "stream",
     "text": [
      "W0502 08:48:15.475557 140051641706304 metrics.py:103] DICE score is technically 1.0, but prediction and truth arrays are empty. \n"
     ]
    },
    {
     "name": "stderr",
     "output_type": "stream",
     "text": [
      "W0502 08:48:15.485929 140051641706304 metrics.py:103] DICE score is technically 1.0, but prediction and truth arrays are empty. \n"
     ]
    },
    {
     "name": "stderr",
     "output_type": "stream",
     "text": [
      "W0502 08:48:15.496520 140051641706304 metrics.py:103] DICE score is technically 1.0, but prediction and truth arrays are empty. \n"
     ]
    },
    {
     "name": "stderr",
     "output_type": "stream",
     "text": [
      "W0502 08:48:15.507107 140051641706304 metrics.py:103] DICE score is technically 1.0, but prediction and truth arrays are empty. \n"
     ]
    },
    {
     "name": "stderr",
     "output_type": "stream",
     "text": [
      "W0502 08:48:15.517436 140051641706304 metrics.py:103] DICE score is technically 1.0, but prediction and truth arrays are empty. \n"
     ]
    },
    {
     "name": "stderr",
     "output_type": "stream",
     "text": [
      "W0502 08:48:15.528163 140051641706304 metrics.py:103] DICE score is technically 1.0, but prediction and truth arrays are empty. \n"
     ]
    },
    {
     "name": "stderr",
     "output_type": "stream",
     "text": [
      "W0502 08:48:15.538885 140051641706304 metrics.py:103] DICE score is technically 1.0, but prediction and truth arrays are empty. \n"
     ]
    },
    {
     "name": "stderr",
     "output_type": "stream",
     "text": [
      "W0502 08:48:15.549740 140051641706304 metrics.py:103] DICE score is technically 1.0, but prediction and truth arrays are empty. \n"
     ]
    },
    {
     "name": "stderr",
     "output_type": "stream",
     "text": [
      "W0502 08:48:15.560168 140051641706304 metrics.py:103] DICE score is technically 1.0, but prediction and truth arrays are empty. \n"
     ]
    },
    {
     "name": "stderr",
     "output_type": "stream",
     "text": [
      "W0502 08:48:15.570218 140051641706304 metrics.py:103] DICE score is technically 1.0, but prediction and truth arrays are empty. \n"
     ]
    },
    {
     "name": "stderr",
     "output_type": "stream",
     "text": [
      "W0502 08:48:15.580447 140051641706304 metrics.py:103] DICE score is technically 1.0, but prediction and truth arrays are empty. \n"
     ]
    },
    {
     "name": "stderr",
     "output_type": "stream",
     "text": [
      "W0502 08:48:15.591014 140051641706304 metrics.py:103] DICE score is technically 1.0, but prediction and truth arrays are empty. \n"
     ]
    },
    {
     "name": "stderr",
     "output_type": "stream",
     "text": [
      "W0502 08:48:15.601408 140051641706304 metrics.py:103] DICE score is technically 1.0, but prediction and truth arrays are empty. \n"
     ]
    },
    {
     "name": "stderr",
     "output_type": "stream",
     "text": [
      "W0502 08:48:15.612165 140051641706304 metrics.py:103] DICE score is technically 1.0, but prediction and truth arrays are empty. \n"
     ]
    },
    {
     "name": "stderr",
     "output_type": "stream",
     "text": [
      "W0502 08:48:15.622428 140051641706304 metrics.py:103] DICE score is technically 1.0, but prediction and truth arrays are empty. \n"
     ]
    },
    {
     "name": "stderr",
     "output_type": "stream",
     "text": [
      "W0502 08:48:15.633169 140051641706304 metrics.py:103] DICE score is technically 1.0, but prediction and truth arrays are empty. \n"
     ]
    },
    {
     "name": "stderr",
     "output_type": "stream",
     "text": [
      "W0502 08:48:15.644419 140051641706304 metrics.py:103] DICE score is technically 1.0, but prediction and truth arrays are empty. \n"
     ]
    },
    {
     "name": "stderr",
     "output_type": "stream",
     "text": [
      "W0502 08:48:15.654912 140051641706304 metrics.py:103] DICE score is technically 1.0, but prediction and truth arrays are empty. \n"
     ]
    },
    {
     "name": "stderr",
     "output_type": "stream",
     "text": [
      "W0502 08:48:15.664961 140051641706304 metrics.py:103] DICE score is technically 1.0, but prediction and truth arrays are empty. \n"
     ]
    },
    {
     "name": "stderr",
     "output_type": "stream",
     "text": [
      "W0502 08:48:15.675174 140051641706304 metrics.py:103] DICE score is technically 1.0, but prediction and truth arrays are empty. \n"
     ]
    },
    {
     "name": "stderr",
     "output_type": "stream",
     "text": [
      "W0502 08:48:15.685674 140051641706304 metrics.py:103] DICE score is technically 1.0, but prediction and truth arrays are empty. \n"
     ]
    },
    {
     "name": "stderr",
     "output_type": "stream",
     "text": [
      "W0502 08:48:15.696328 140051641706304 metrics.py:103] DICE score is technically 1.0, but prediction and truth arrays are empty. \n"
     ]
    },
    {
     "name": "stderr",
     "output_type": "stream",
     "text": [
      "W0502 08:48:15.707177 140051641706304 metrics.py:103] DICE score is technically 1.0, but prediction and truth arrays are empty. \n"
     ]
    },
    {
     "name": "stderr",
     "output_type": "stream",
     "text": [
      "W0502 08:48:15.717991 140051641706304 metrics.py:103] DICE score is technically 1.0, but prediction and truth arrays are empty. \n"
     ]
    },
    {
     "name": "stderr",
     "output_type": "stream",
     "text": [
      "W0502 08:48:15.728960 140051641706304 metrics.py:103] DICE score is technically 1.0, but prediction and truth arrays are empty. \n"
     ]
    },
    {
     "name": "stderr",
     "output_type": "stream",
     "text": [
      "W0502 08:48:15.739707 140051641706304 metrics.py:103] DICE score is technically 1.0, but prediction and truth arrays are empty. \n"
     ]
    },
    {
     "name": "stderr",
     "output_type": "stream",
     "text": [
      "W0502 08:48:15.750057 140051641706304 metrics.py:103] DICE score is technically 1.0, but prediction and truth arrays are empty. \n"
     ]
    },
    {
     "name": "stderr",
     "output_type": "stream",
     "text": [
      "W0502 08:48:15.760350 140051641706304 metrics.py:103] DICE score is technically 1.0, but prediction and truth arrays are empty. \n"
     ]
    },
    {
     "name": "stderr",
     "output_type": "stream",
     "text": [
      "W0502 08:48:15.770449 140051641706304 metrics.py:103] DICE score is technically 1.0, but prediction and truth arrays are empty. \n"
     ]
    },
    {
     "name": "stderr",
     "output_type": "stream",
     "text": [
      "W0502 08:48:16.489334 140051641706304 metrics.py:103] DICE score is technically 1.0, but prediction and truth arrays are empty. \n"
     ]
    },
    {
     "name": "stderr",
     "output_type": "stream",
     "text": [
      "W0502 08:48:16.500527 140051641706304 metrics.py:103] DICE score is technically 1.0, but prediction and truth arrays are empty. \n"
     ]
    },
    {
     "name": "stderr",
     "output_type": "stream",
     "text": [
      "W0502 08:48:16.510958 140051641706304 metrics.py:103] DICE score is technically 1.0, but prediction and truth arrays are empty. \n"
     ]
    },
    {
     "name": "stderr",
     "output_type": "stream",
     "text": [
      "W0502 08:48:16.521521 140051641706304 metrics.py:103] DICE score is technically 1.0, but prediction and truth arrays are empty. \n"
     ]
    },
    {
     "name": "stderr",
     "output_type": "stream",
     "text": [
      "W0502 08:48:16.532277 140051641706304 metrics.py:103] DICE score is technically 1.0, but prediction and truth arrays are empty. \n"
     ]
    },
    {
     "name": "stderr",
     "output_type": "stream",
     "text": [
      "W0502 08:48:16.543006 140051641706304 metrics.py:103] DICE score is technically 1.0, but prediction and truth arrays are empty. \n"
     ]
    },
    {
     "name": "stderr",
     "output_type": "stream",
     "text": [
      "W0502 08:48:16.553326 140051641706304 metrics.py:103] DICE score is technically 1.0, but prediction and truth arrays are empty. \n"
     ]
    },
    {
     "name": "stderr",
     "output_type": "stream",
     "text": [
      "W0502 08:48:16.563623 140051641706304 metrics.py:103] DICE score is technically 1.0, but prediction and truth arrays are empty. \n"
     ]
    },
    {
     "name": "stderr",
     "output_type": "stream",
     "text": [
      "W0502 08:48:16.573977 140051641706304 metrics.py:103] DICE score is technically 1.0, but prediction and truth arrays are empty. \n"
     ]
    },
    {
     "name": "stderr",
     "output_type": "stream",
     "text": [
      "W0502 08:48:16.584305 140051641706304 metrics.py:103] DICE score is technically 1.0, but prediction and truth arrays are empty. \n"
     ]
    },
    {
     "name": "stderr",
     "output_type": "stream",
     "text": [
      "W0502 08:48:16.594704 140051641706304 metrics.py:103] DICE score is technically 1.0, but prediction and truth arrays are empty. \n"
     ]
    },
    {
     "name": "stderr",
     "output_type": "stream",
     "text": [
      "W0502 08:48:16.605418 140051641706304 metrics.py:103] DICE score is technically 1.0, but prediction and truth arrays are empty. \n"
     ]
    },
    {
     "name": "stderr",
     "output_type": "stream",
     "text": [
      "W0502 08:48:16.615834 140051641706304 metrics.py:103] DICE score is technically 1.0, but prediction and truth arrays are empty. \n"
     ]
    },
    {
     "name": "stderr",
     "output_type": "stream",
     "text": [
      "W0502 08:48:16.626254 140051641706304 metrics.py:103] DICE score is technically 1.0, but prediction and truth arrays are empty. \n"
     ]
    },
    {
     "name": "stderr",
     "output_type": "stream",
     "text": [
      "W0502 08:48:16.636888 140051641706304 metrics.py:103] DICE score is technically 1.0, but prediction and truth arrays are empty. \n"
     ]
    },
    {
     "name": "stderr",
     "output_type": "stream",
     "text": [
      "W0502 08:48:16.646879 140051641706304 metrics.py:103] DICE score is technically 1.0, but prediction and truth arrays are empty. \n"
     ]
    },
    {
     "name": "stderr",
     "output_type": "stream",
     "text": [
      "W0502 08:48:16.657327 140051641706304 metrics.py:103] DICE score is technically 1.0, but prediction and truth arrays are empty. \n"
     ]
    },
    {
     "name": "stderr",
     "output_type": "stream",
     "text": [
      "W0502 08:48:16.667614 140051641706304 metrics.py:103] DICE score is technically 1.0, but prediction and truth arrays are empty. \n"
     ]
    },
    {
     "name": "stderr",
     "output_type": "stream",
     "text": [
      "W0502 08:48:16.678281 140051641706304 metrics.py:103] DICE score is technically 1.0, but prediction and truth arrays are empty. \n"
     ]
    },
    {
     "name": "stderr",
     "output_type": "stream",
     "text": [
      "W0502 08:48:16.689154 140051641706304 metrics.py:103] DICE score is technically 1.0, but prediction and truth arrays are empty. \n"
     ]
    },
    {
     "name": "stderr",
     "output_type": "stream",
     "text": [
      "W0502 08:48:16.699384 140051641706304 metrics.py:103] DICE score is technically 1.0, but prediction and truth arrays are empty. \n"
     ]
    },
    {
     "name": "stderr",
     "output_type": "stream",
     "text": [
      "W0502 08:48:16.710362 140051641706304 metrics.py:103] DICE score is technically 1.0, but prediction and truth arrays are empty. \n"
     ]
    },
    {
     "name": "stderr",
     "output_type": "stream",
     "text": [
      "W0502 08:48:16.721243 140051641706304 metrics.py:103] DICE score is technically 1.0, but prediction and truth arrays are empty. \n"
     ]
    },
    {
     "name": "stderr",
     "output_type": "stream",
     "text": [
      "W0502 08:48:16.732146 140051641706304 metrics.py:103] DICE score is technically 1.0, but prediction and truth arrays are empty. \n"
     ]
    },
    {
     "name": "stderr",
     "output_type": "stream",
     "text": [
      "W0502 08:48:16.742887 140051641706304 metrics.py:103] DICE score is technically 1.0, but prediction and truth arrays are empty. \n"
     ]
    },
    {
     "name": "stderr",
     "output_type": "stream",
     "text": [
      "W0502 08:48:16.753305 140051641706304 metrics.py:103] DICE score is technically 1.0, but prediction and truth arrays are empty. \n"
     ]
    },
    {
     "name": "stderr",
     "output_type": "stream",
     "text": [
      "W0502 08:48:16.763625 140051641706304 metrics.py:103] DICE score is technically 1.0, but prediction and truth arrays are empty. \n"
     ]
    },
    {
     "name": "stderr",
     "output_type": "stream",
     "text": [
      "W0502 08:48:16.774150 140051641706304 metrics.py:103] DICE score is technically 1.0, but prediction and truth arrays are empty. \n"
     ]
    },
    {
     "name": "stderr",
     "output_type": "stream",
     "text": [
      "W0502 08:48:16.784287 140051641706304 metrics.py:103] DICE score is technically 1.0, but prediction and truth arrays are empty. \n"
     ]
    },
    {
     "name": "stderr",
     "output_type": "stream",
     "text": [
      "W0502 08:48:16.794653 140051641706304 metrics.py:103] DICE score is technically 1.0, but prediction and truth arrays are empty. \n"
     ]
    },
    {
     "name": "stderr",
     "output_type": "stream",
     "text": [
      "W0502 08:48:16.804721 140051641706304 metrics.py:103] DICE score is technically 1.0, but prediction and truth arrays are empty. \n"
     ]
    },
    {
     "name": "stderr",
     "output_type": "stream",
     "text": [
      "W0502 08:48:16.815143 140051641706304 metrics.py:103] DICE score is technically 1.0, but prediction and truth arrays are empty. \n"
     ]
    },
    {
     "name": "stderr",
     "output_type": "stream",
     "text": [
      "W0502 08:48:16.825242 140051641706304 metrics.py:103] DICE score is technically 1.0, but prediction and truth arrays are empty. \n"
     ]
    },
    {
     "name": "stderr",
     "output_type": "stream",
     "text": [
      "W0502 08:48:16.835762 140051641706304 metrics.py:103] DICE score is technically 1.0, but prediction and truth arrays are empty. \n"
     ]
    },
    {
     "name": "stderr",
     "output_type": "stream",
     "text": [
      "W0502 08:48:16.846655 140051641706304 metrics.py:103] DICE score is technically 1.0, but prediction and truth arrays are empty. \n"
     ]
    },
    {
     "name": "stderr",
     "output_type": "stream",
     "text": [
      "W0502 08:48:16.857301 140051641706304 metrics.py:103] DICE score is technically 1.0, but prediction and truth arrays are empty. \n"
     ]
    },
    {
     "name": "stderr",
     "output_type": "stream",
     "text": [
      "W0502 08:48:16.867837 140051641706304 metrics.py:103] DICE score is technically 1.0, but prediction and truth arrays are empty. \n"
     ]
    },
    {
     "name": "stderr",
     "output_type": "stream",
     "text": [
      "W0502 08:48:16.878691 140051641706304 metrics.py:103] DICE score is technically 1.0, but prediction and truth arrays are empty. \n"
     ]
    },
    {
     "name": "stderr",
     "output_type": "stream",
     "text": [
      "W0502 08:48:17.550544 140051641706304 metrics.py:103] DICE score is technically 1.0, but prediction and truth arrays are empty. \n"
     ]
    },
    {
     "name": "stderr",
     "output_type": "stream",
     "text": [
      "W0502 08:48:17.561324 140051641706304 metrics.py:103] DICE score is technically 1.0, but prediction and truth arrays are empty. \n"
     ]
    },
    {
     "name": "stderr",
     "output_type": "stream",
     "text": [
      "W0502 08:48:17.571695 140051641706304 metrics.py:103] DICE score is technically 1.0, but prediction and truth arrays are empty. \n"
     ]
    },
    {
     "name": "stderr",
     "output_type": "stream",
     "text": [
      "W0502 08:48:17.582148 140051641706304 metrics.py:103] DICE score is technically 1.0, but prediction and truth arrays are empty. \n"
     ]
    },
    {
     "name": "stderr",
     "output_type": "stream",
     "text": [
      "W0502 08:48:17.592424 140051641706304 metrics.py:103] DICE score is technically 1.0, but prediction and truth arrays are empty. \n"
     ]
    },
    {
     "name": "stderr",
     "output_type": "stream",
     "text": [
      "W0502 08:48:17.602791 140051641706304 metrics.py:103] DICE score is technically 1.0, but prediction and truth arrays are empty. \n"
     ]
    },
    {
     "name": "stderr",
     "output_type": "stream",
     "text": [
      "W0502 08:48:17.613157 140051641706304 metrics.py:103] DICE score is technically 1.0, but prediction and truth arrays are empty. \n"
     ]
    },
    {
     "name": "stderr",
     "output_type": "stream",
     "text": [
      "W0502 08:48:17.623477 140051641706304 metrics.py:103] DICE score is technically 1.0, but prediction and truth arrays are empty. \n"
     ]
    },
    {
     "name": "stderr",
     "output_type": "stream",
     "text": [
      "W0502 08:48:17.633699 140051641706304 metrics.py:103] DICE score is technically 1.0, but prediction and truth arrays are empty. \n"
     ]
    },
    {
     "name": "stderr",
     "output_type": "stream",
     "text": [
      "W0502 08:48:17.644350 140051641706304 metrics.py:103] DICE score is technically 1.0, but prediction and truth arrays are empty. \n"
     ]
    },
    {
     "name": "stderr",
     "output_type": "stream",
     "text": [
      "W0502 08:48:17.654475 140051641706304 metrics.py:103] DICE score is technically 1.0, but prediction and truth arrays are empty. \n"
     ]
    },
    {
     "name": "stderr",
     "output_type": "stream",
     "text": [
      "W0502 08:48:17.664433 140051641706304 metrics.py:103] DICE score is technically 1.0, but prediction and truth arrays are empty. \n"
     ]
    },
    {
     "name": "stderr",
     "output_type": "stream",
     "text": [
      "W0502 08:48:17.674550 140051641706304 metrics.py:103] DICE score is technically 1.0, but prediction and truth arrays are empty. \n"
     ]
    },
    {
     "name": "stderr",
     "output_type": "stream",
     "text": [
      "W0502 08:48:17.684847 140051641706304 metrics.py:103] DICE score is technically 1.0, but prediction and truth arrays are empty. \n"
     ]
    },
    {
     "name": "stderr",
     "output_type": "stream",
     "text": [
      "W0502 08:48:17.695187 140051641706304 metrics.py:103] DICE score is technically 1.0, but prediction and truth arrays are empty. \n"
     ]
    },
    {
     "name": "stderr",
     "output_type": "stream",
     "text": [
      "W0502 08:48:17.705530 140051641706304 metrics.py:103] DICE score is technically 1.0, but prediction and truth arrays are empty. \n"
     ]
    },
    {
     "name": "stderr",
     "output_type": "stream",
     "text": [
      "W0502 08:48:17.716000 140051641706304 metrics.py:103] DICE score is technically 1.0, but prediction and truth arrays are empty. \n"
     ]
    },
    {
     "name": "stderr",
     "output_type": "stream",
     "text": [
      "W0502 08:48:17.726863 140051641706304 metrics.py:103] DICE score is technically 1.0, but prediction and truth arrays are empty. \n"
     ]
    },
    {
     "name": "stderr",
     "output_type": "stream",
     "text": [
      "W0502 08:48:17.737846 140051641706304 metrics.py:103] DICE score is technically 1.0, but prediction and truth arrays are empty. \n"
     ]
    },
    {
     "name": "stderr",
     "output_type": "stream",
     "text": [
      "W0502 08:48:17.747847 140051641706304 metrics.py:103] DICE score is technically 1.0, but prediction and truth arrays are empty. \n"
     ]
    },
    {
     "name": "stderr",
     "output_type": "stream",
     "text": [
      "W0502 08:48:17.758379 140051641706304 metrics.py:103] DICE score is technically 1.0, but prediction and truth arrays are empty. \n"
     ]
    },
    {
     "name": "stderr",
     "output_type": "stream",
     "text": [
      "W0502 08:48:17.768990 140051641706304 metrics.py:103] DICE score is technically 1.0, but prediction and truth arrays are empty. \n"
     ]
    },
    {
     "name": "stderr",
     "output_type": "stream",
     "text": [
      "W0502 08:48:17.779610 140051641706304 metrics.py:103] DICE score is technically 1.0, but prediction and truth arrays are empty. \n"
     ]
    },
    {
     "name": "stderr",
     "output_type": "stream",
     "text": [
      "W0502 08:48:17.789703 140051641706304 metrics.py:103] DICE score is technically 1.0, but prediction and truth arrays are empty. \n"
     ]
    },
    {
     "name": "stderr",
     "output_type": "stream",
     "text": [
      "W0502 08:48:17.800148 140051641706304 metrics.py:103] DICE score is technically 1.0, but prediction and truth arrays are empty. \n"
     ]
    },
    {
     "name": "stderr",
     "output_type": "stream",
     "text": [
      "W0502 08:48:17.810659 140051641706304 metrics.py:103] DICE score is technically 1.0, but prediction and truth arrays are empty. \n"
     ]
    },
    {
     "name": "stderr",
     "output_type": "stream",
     "text": [
      "W0502 08:48:17.821172 140051641706304 metrics.py:103] DICE score is technically 1.0, but prediction and truth arrays are empty. \n"
     ]
    },
    {
     "name": "stderr",
     "output_type": "stream",
     "text": [
      "W0502 08:48:17.831820 140051641706304 metrics.py:103] DICE score is technically 1.0, but prediction and truth arrays are empty. \n"
     ]
    },
    {
     "name": "stderr",
     "output_type": "stream",
     "text": [
      "W0502 08:48:17.843894 140051641706304 metrics.py:103] DICE score is technically 1.0, but prediction and truth arrays are empty. \n"
     ]
    },
    {
     "name": "stderr",
     "output_type": "stream",
     "text": [
      "W0502 08:48:17.854266 140051641706304 metrics.py:103] DICE score is technically 1.0, but prediction and truth arrays are empty. \n"
     ]
    },
    {
     "name": "stderr",
     "output_type": "stream",
     "text": [
      "W0502 08:48:17.864441 140051641706304 metrics.py:103] DICE score is technically 1.0, but prediction and truth arrays are empty. \n"
     ]
    },
    {
     "name": "stderr",
     "output_type": "stream",
     "text": [
      "W0502 08:48:17.874776 140051641706304 metrics.py:103] DICE score is technically 1.0, but prediction and truth arrays are empty. \n"
     ]
    },
    {
     "name": "stderr",
     "output_type": "stream",
     "text": [
      "W0502 08:48:17.885390 140051641706304 metrics.py:103] DICE score is technically 1.0, but prediction and truth arrays are empty. \n"
     ]
    },
    {
     "name": "stderr",
     "output_type": "stream",
     "text": [
      "W0502 08:48:17.896054 140051641706304 metrics.py:103] DICE score is technically 1.0, but prediction and truth arrays are empty. \n"
     ]
    },
    {
     "name": "stderr",
     "output_type": "stream",
     "text": [
      "W0502 08:48:17.906374 140051641706304 metrics.py:103] DICE score is technically 1.0, but prediction and truth arrays are empty. \n"
     ]
    },
    {
     "name": "stderr",
     "output_type": "stream",
     "text": [
      "W0502 08:48:17.917064 140051641706304 metrics.py:103] DICE score is technically 1.0, but prediction and truth arrays are empty. \n"
     ]
    },
    {
     "name": "stderr",
     "output_type": "stream",
     "text": [
      "W0502 08:48:17.927624 140051641706304 metrics.py:103] DICE score is technically 1.0, but prediction and truth arrays are empty. \n"
     ]
    },
    {
     "name": "stderr",
     "output_type": "stream",
     "text": [
      "W0502 08:48:17.939139 140051641706304 metrics.py:103] DICE score is technically 1.0, but prediction and truth arrays are empty. \n"
     ]
    },
    {
     "name": "stderr",
     "output_type": "stream",
     "text": [
      "W0502 08:48:17.949858 140051641706304 metrics.py:103] DICE score is technically 1.0, but prediction and truth arrays are empty. \n"
     ]
    },
    {
     "name": "stderr",
     "output_type": "stream",
     "text": [
      "W0502 08:48:17.960902 140051641706304 metrics.py:103] DICE score is technically 1.0, but prediction and truth arrays are empty. \n"
     ]
    },
    {
     "name": "stderr",
     "output_type": "stream",
     "text": [
      "W0502 08:48:17.971366 140051641706304 metrics.py:103] DICE score is technically 1.0, but prediction and truth arrays are empty. \n"
     ]
    },
    {
     "name": "stderr",
     "output_type": "stream",
     "text": [
      "W0502 08:48:17.982028 140051641706304 metrics.py:103] DICE score is technically 1.0, but prediction and truth arrays are empty. \n"
     ]
    },
    {
     "name": "stderr",
     "output_type": "stream",
     "text": [
      "W0502 08:48:17.992295 140051641706304 metrics.py:103] DICE score is technically 1.0, but prediction and truth arrays are empty. \n"
     ]
    },
    {
     "name": "stderr",
     "output_type": "stream",
     "text": [
      "W0502 08:48:18.003008 140051641706304 metrics.py:103] DICE score is technically 1.0, but prediction and truth arrays are empty. \n"
     ]
    },
    {
     "name": "stderr",
     "output_type": "stream",
     "text": [
      "W0502 08:48:18.013712 140051641706304 metrics.py:103] DICE score is technically 1.0, but prediction and truth arrays are empty. \n"
     ]
    },
    {
     "name": "stderr",
     "output_type": "stream",
     "text": [
      "W0502 08:48:18.024612 140051641706304 metrics.py:103] DICE score is technically 1.0, but prediction and truth arrays are empty. \n"
     ]
    },
    {
     "name": "stderr",
     "output_type": "stream",
     "text": [
      "W0502 08:48:18.035947 140051641706304 metrics.py:103] DICE score is technically 1.0, but prediction and truth arrays are empty. \n"
     ]
    },
    {
     "name": "stderr",
     "output_type": "stream",
     "text": [
      "W0502 08:48:18.046503 140051641706304 metrics.py:103] DICE score is technically 1.0, but prediction and truth arrays are empty. \n"
     ]
    },
    {
     "name": "stderr",
     "output_type": "stream",
     "text": [
      "W0502 08:48:18.056751 140051641706304 metrics.py:103] DICE score is technically 1.0, but prediction and truth arrays are empty. \n"
     ]
    },
    {
     "name": "stderr",
     "output_type": "stream",
     "text": [
      "W0502 08:48:18.067452 140051641706304 metrics.py:103] DICE score is technically 1.0, but prediction and truth arrays are empty. \n"
     ]
    },
    {
     "name": "stderr",
     "output_type": "stream",
     "text": [
      "W0502 08:48:18.078478 140051641706304 metrics.py:103] DICE score is technically 1.0, but prediction and truth arrays are empty. \n"
     ]
    },
    {
     "name": "stderr",
     "output_type": "stream",
     "text": [
      "W0502 08:48:18.089138 140051641706304 metrics.py:103] DICE score is technically 1.0, but prediction and truth arrays are empty. \n"
     ]
    },
    {
     "name": "stderr",
     "output_type": "stream",
     "text": [
      "W0502 08:48:18.099240 140051641706304 metrics.py:103] DICE score is technically 1.0, but prediction and truth arrays are empty. \n"
     ]
    },
    {
     "name": "stderr",
     "output_type": "stream",
     "text": [
      "W0502 08:48:18.109476 140051641706304 metrics.py:103] DICE score is technically 1.0, but prediction and truth arrays are empty. \n"
     ]
    },
    {
     "name": "stderr",
     "output_type": "stream",
     "text": [
      "W0502 08:48:18.119863 140051641706304 metrics.py:103] DICE score is technically 1.0, but prediction and truth arrays are empty. \n"
     ]
    },
    {
     "name": "stderr",
     "output_type": "stream",
     "text": [
      "W0502 08:48:18.130318 140051641706304 metrics.py:103] DICE score is technically 1.0, but prediction and truth arrays are empty. \n"
     ]
    },
    {
     "name": "stderr",
     "output_type": "stream",
     "text": [
      "W0502 08:48:18.140465 140051641706304 metrics.py:103] DICE score is technically 1.0, but prediction and truth arrays are empty. \n"
     ]
    },
    {
     "name": "stderr",
     "output_type": "stream",
     "text": [
      "W0502 08:48:18.150914 140051641706304 metrics.py:103] DICE score is technically 1.0, but prediction and truth arrays are empty. \n"
     ]
    },
    {
     "name": "stderr",
     "output_type": "stream",
     "text": [
      "W0502 08:48:18.161307 140051641706304 metrics.py:103] DICE score is technically 1.0, but prediction and truth arrays are empty. \n"
     ]
    },
    {
     "name": "stderr",
     "output_type": "stream",
     "text": [
      "W0502 08:48:18.171422 140051641706304 metrics.py:103] DICE score is technically 1.0, but prediction and truth arrays are empty. \n"
     ]
    },
    {
     "name": "stderr",
     "output_type": "stream",
     "text": [
      "W0502 08:48:18.181652 140051641706304 metrics.py:103] DICE score is technically 1.0, but prediction and truth arrays are empty. \n"
     ]
    },
    {
     "name": "stderr",
     "output_type": "stream",
     "text": [
      "W0502 08:48:18.192681 140051641706304 metrics.py:103] DICE score is technically 1.0, but prediction and truth arrays are empty. \n"
     ]
    },
    {
     "name": "stderr",
     "output_type": "stream",
     "text": [
      "W0502 08:48:18.203390 140051641706304 metrics.py:103] DICE score is technically 1.0, but prediction and truth arrays are empty. \n"
     ]
    },
    {
     "name": "stderr",
     "output_type": "stream",
     "text": [
      "W0502 08:48:18.214172 140051641706304 metrics.py:103] DICE score is technically 1.0, but prediction and truth arrays are empty. \n"
     ]
    },
    {
     "name": "stderr",
     "output_type": "stream",
     "text": [
      "W0502 08:48:18.225231 140051641706304 metrics.py:103] DICE score is technically 1.0, but prediction and truth arrays are empty. \n"
     ]
    },
    {
     "name": "stderr",
     "output_type": "stream",
     "text": [
      "W0502 08:48:18.235630 140051641706304 metrics.py:103] DICE score is technically 1.0, but prediction and truth arrays are empty. \n"
     ]
    },
    {
     "name": "stderr",
     "output_type": "stream",
     "text": [
      "W0502 08:48:18.245943 140051641706304 metrics.py:103] DICE score is technically 1.0, but prediction and truth arrays are empty. \n"
     ]
    },
    {
     "name": "stderr",
     "output_type": "stream",
     "text": [
      "W0502 08:48:18.256153 140051641706304 metrics.py:103] DICE score is technically 1.0, but prediction and truth arrays are empty. \n"
     ]
    },
    {
     "name": "stderr",
     "output_type": "stream",
     "text": [
      "W0502 08:48:18.266336 140051641706304 metrics.py:103] DICE score is technically 1.0, but prediction and truth arrays are empty. \n"
     ]
    },
    {
     "name": "stderr",
     "output_type": "stream",
     "text": [
      "W0502 08:48:18.276664 140051641706304 metrics.py:103] DICE score is technically 1.0, but prediction and truth arrays are empty. \n"
     ]
    },
    {
     "name": "stderr",
     "output_type": "stream",
     "text": [
      "W0502 08:48:18.287303 140051641706304 metrics.py:103] DICE score is technically 1.0, but prediction and truth arrays are empty. \n"
     ]
    },
    {
     "name": "stderr",
     "output_type": "stream",
     "text": [
      "W0502 08:48:18.381196 140051641706304 metrics.py:103] DICE score is technically 1.0, but prediction and truth arrays are empty. \n"
     ]
    },
    {
     "name": "stderr",
     "output_type": "stream",
     "text": [
      "W0502 08:48:18.391549 140051641706304 metrics.py:103] DICE score is technically 1.0, but prediction and truth arrays are empty. \n"
     ]
    },
    {
     "name": "stderr",
     "output_type": "stream",
     "text": [
      "W0502 08:48:18.402333 140051641706304 metrics.py:103] DICE score is technically 1.0, but prediction and truth arrays are empty. \n"
     ]
    },
    {
     "name": "stderr",
     "output_type": "stream",
     "text": [
      "W0502 08:48:18.412963 140051641706304 metrics.py:103] DICE score is technically 1.0, but prediction and truth arrays are empty. \n"
     ]
    },
    {
     "name": "stderr",
     "output_type": "stream",
     "text": [
      "W0502 08:48:18.423807 140051641706304 metrics.py:103] DICE score is technically 1.0, but prediction and truth arrays are empty. \n"
     ]
    },
    {
     "name": "stderr",
     "output_type": "stream",
     "text": [
      "W0502 08:48:18.434501 140051641706304 metrics.py:103] DICE score is technically 1.0, but prediction and truth arrays are empty. \n"
     ]
    },
    {
     "name": "stderr",
     "output_type": "stream",
     "text": [
      "W0502 08:48:18.445027 140051641706304 metrics.py:103] DICE score is technically 1.0, but prediction and truth arrays are empty. \n"
     ]
    },
    {
     "name": "stderr",
     "output_type": "stream",
     "text": [
      "W0502 08:48:18.455700 140051641706304 metrics.py:103] DICE score is technically 1.0, but prediction and truth arrays are empty. \n"
     ]
    },
    {
     "name": "stderr",
     "output_type": "stream",
     "text": [
      "W0502 08:48:18.466253 140051641706304 metrics.py:103] DICE score is technically 1.0, but prediction and truth arrays are empty. \n"
     ]
    },
    {
     "name": "stderr",
     "output_type": "stream",
     "text": [
      "W0502 08:48:18.477012 140051641706304 metrics.py:103] DICE score is technically 1.0, but prediction and truth arrays are empty. \n"
     ]
    },
    {
     "name": "stderr",
     "output_type": "stream",
     "text": [
      "W0502 08:48:18.487662 140051641706304 metrics.py:103] DICE score is technically 1.0, but prediction and truth arrays are empty. \n"
     ]
    },
    {
     "name": "stderr",
     "output_type": "stream",
     "text": [
      "W0502 08:48:18.498452 140051641706304 metrics.py:103] DICE score is technically 1.0, but prediction and truth arrays are empty. \n"
     ]
    },
    {
     "name": "stderr",
     "output_type": "stream",
     "text": [
      "W0502 08:48:18.508675 140051641706304 metrics.py:103] DICE score is technically 1.0, but prediction and truth arrays are empty. \n"
     ]
    },
    {
     "name": "stderr",
     "output_type": "stream",
     "text": [
      "W0502 08:48:18.519688 140051641706304 metrics.py:103] DICE score is technically 1.0, but prediction and truth arrays are empty. \n"
     ]
    },
    {
     "name": "stderr",
     "output_type": "stream",
     "text": [
      "W0502 08:48:18.530555 140051641706304 metrics.py:103] DICE score is technically 1.0, but prediction and truth arrays are empty. \n"
     ]
    },
    {
     "name": "stderr",
     "output_type": "stream",
     "text": [
      "W0502 08:48:18.541187 140051641706304 metrics.py:103] DICE score is technically 1.0, but prediction and truth arrays are empty. \n"
     ]
    },
    {
     "name": "stderr",
     "output_type": "stream",
     "text": [
      "W0502 08:48:18.551824 140051641706304 metrics.py:103] DICE score is technically 1.0, but prediction and truth arrays are empty. \n"
     ]
    },
    {
     "name": "stderr",
     "output_type": "stream",
     "text": [
      "W0502 08:48:18.562340 140051641706304 metrics.py:103] DICE score is technically 1.0, but prediction and truth arrays are empty. \n"
     ]
    },
    {
     "name": "stderr",
     "output_type": "stream",
     "text": [
      "W0502 08:48:18.572696 140051641706304 metrics.py:103] DICE score is technically 1.0, but prediction and truth arrays are empty. \n"
     ]
    },
    {
     "name": "stderr",
     "output_type": "stream",
     "text": [
      "W0502 08:48:18.583506 140051641706304 metrics.py:103] DICE score is technically 1.0, but prediction and truth arrays are empty. \n"
     ]
    },
    {
     "name": "stderr",
     "output_type": "stream",
     "text": [
      "W0502 08:48:18.594213 140051641706304 metrics.py:103] DICE score is technically 1.0, but prediction and truth arrays are empty. \n"
     ]
    },
    {
     "name": "stderr",
     "output_type": "stream",
     "text": [
      "W0502 08:48:18.604614 140051641706304 metrics.py:103] DICE score is technically 1.0, but prediction and truth arrays are empty. \n"
     ]
    },
    {
     "name": "stderr",
     "output_type": "stream",
     "text": [
      "W0502 08:48:18.615420 140051641706304 metrics.py:103] DICE score is technically 1.0, but prediction and truth arrays are empty. \n"
     ]
    },
    {
     "name": "stderr",
     "output_type": "stream",
     "text": [
      "W0502 08:48:18.625867 140051641706304 metrics.py:103] DICE score is technically 1.0, but prediction and truth arrays are empty. \n"
     ]
    },
    {
     "name": "stderr",
     "output_type": "stream",
     "text": [
      "W0502 08:48:18.635944 140051641706304 metrics.py:103] DICE score is technically 1.0, but prediction and truth arrays are empty. \n"
     ]
    },
    {
     "name": "stderr",
     "output_type": "stream",
     "text": [
      "W0502 08:48:18.646384 140051641706304 metrics.py:103] DICE score is technically 1.0, but prediction and truth arrays are empty. \n"
     ]
    },
    {
     "name": "stderr",
     "output_type": "stream",
     "text": [
      "W0502 08:48:18.656806 140051641706304 metrics.py:103] DICE score is technically 1.0, but prediction and truth arrays are empty. \n"
     ]
    },
    {
     "name": "stderr",
     "output_type": "stream",
     "text": [
      "W0502 08:48:18.667031 140051641706304 metrics.py:103] DICE score is technically 1.0, but prediction and truth arrays are empty. \n"
     ]
    },
    {
     "name": "stderr",
     "output_type": "stream",
     "text": [
      "W0502 08:48:18.677537 140051641706304 metrics.py:103] DICE score is technically 1.0, but prediction and truth arrays are empty. \n"
     ]
    },
    {
     "name": "stderr",
     "output_type": "stream",
     "text": [
      "W0502 08:48:18.688225 140051641706304 metrics.py:103] DICE score is technically 1.0, but prediction and truth arrays are empty. \n"
     ]
    },
    {
     "name": "stderr",
     "output_type": "stream",
     "text": [
      "W0502 08:48:18.698694 140051641706304 metrics.py:103] DICE score is technically 1.0, but prediction and truth arrays are empty. \n"
     ]
    },
    {
     "name": "stderr",
     "output_type": "stream",
     "text": [
      "W0502 08:48:18.709360 140051641706304 metrics.py:103] DICE score is technically 1.0, but prediction and truth arrays are empty. \n"
     ]
    },
    {
     "name": "stderr",
     "output_type": "stream",
     "text": [
      "W0502 08:48:18.720180 140051641706304 metrics.py:103] DICE score is technically 1.0, but prediction and truth arrays are empty. \n"
     ]
    },
    {
     "name": "stderr",
     "output_type": "stream",
     "text": [
      "W0502 08:48:18.731128 140051641706304 metrics.py:103] DICE score is technically 1.0, but prediction and truth arrays are empty. \n"
     ]
    },
    {
     "name": "stderr",
     "output_type": "stream",
     "text": [
      "W0502 08:48:18.741896 140051641706304 metrics.py:103] DICE score is technically 1.0, but prediction and truth arrays are empty. \n"
     ]
    },
    {
     "name": "stderr",
     "output_type": "stream",
     "text": [
      "W0502 08:48:18.752353 140051641706304 metrics.py:103] DICE score is technically 1.0, but prediction and truth arrays are empty. \n"
     ]
    },
    {
     "name": "stderr",
     "output_type": "stream",
     "text": [
      "W0502 08:48:18.762651 140051641706304 metrics.py:103] DICE score is technically 1.0, but prediction and truth arrays are empty. \n"
     ]
    },
    {
     "name": "stderr",
     "output_type": "stream",
     "text": [
      "W0502 08:48:18.773178 140051641706304 metrics.py:103] DICE score is technically 1.0, but prediction and truth arrays are empty. \n"
     ]
    },
    {
     "name": "stderr",
     "output_type": "stream",
     "text": [
      "W0502 08:48:18.783286 140051641706304 metrics.py:103] DICE score is technically 1.0, but prediction and truth arrays are empty. \n"
     ]
    },
    {
     "name": "stderr",
     "output_type": "stream",
     "text": [
      "W0502 08:48:18.793675 140051641706304 metrics.py:103] DICE score is technically 1.0, but prediction and truth arrays are empty. \n"
     ]
    },
    {
     "name": "stderr",
     "output_type": "stream",
     "text": [
      "W0502 08:48:22.723407 140051641706304 metrics.py:103] DICE score is technically 1.0, but prediction and truth arrays are empty. \n"
     ]
    },
    {
     "name": "stderr",
     "output_type": "stream",
     "text": [
      "W0502 08:48:22.734626 140051641706304 metrics.py:103] DICE score is technically 1.0, but prediction and truth arrays are empty. \n"
     ]
    },
    {
     "name": "stderr",
     "output_type": "stream",
     "text": [
      "W0502 08:48:22.745548 140051641706304 metrics.py:103] DICE score is technically 1.0, but prediction and truth arrays are empty. \n"
     ]
    },
    {
     "name": "stderr",
     "output_type": "stream",
     "text": [
      "W0502 08:48:22.756500 140051641706304 metrics.py:103] DICE score is technically 1.0, but prediction and truth arrays are empty. \n"
     ]
    },
    {
     "name": "stderr",
     "output_type": "stream",
     "text": [
      "W0502 08:48:22.766707 140051641706304 metrics.py:103] DICE score is technically 1.0, but prediction and truth arrays are empty. \n"
     ]
    },
    {
     "name": "stderr",
     "output_type": "stream",
     "text": [
      "W0502 08:48:22.777335 140051641706304 metrics.py:103] DICE score is technically 1.0, but prediction and truth arrays are empty. \n"
     ]
    },
    {
     "name": "stderr",
     "output_type": "stream",
     "text": [
      "W0502 08:48:22.787852 140051641706304 metrics.py:103] DICE score is technically 1.0, but prediction and truth arrays are empty. \n"
     ]
    },
    {
     "name": "stderr",
     "output_type": "stream",
     "text": [
      "W0502 08:48:22.798438 140051641706304 metrics.py:103] DICE score is technically 1.0, but prediction and truth arrays are empty. \n"
     ]
    },
    {
     "name": "stderr",
     "output_type": "stream",
     "text": [
      "W0502 08:48:22.809168 140051641706304 metrics.py:103] DICE score is technically 1.0, but prediction and truth arrays are empty. \n"
     ]
    },
    {
     "name": "stderr",
     "output_type": "stream",
     "text": [
      "W0502 08:48:22.819745 140051641706304 metrics.py:103] DICE score is technically 1.0, but prediction and truth arrays are empty. \n"
     ]
    },
    {
     "name": "stderr",
     "output_type": "stream",
     "text": [
      "W0502 08:48:22.830421 140051641706304 metrics.py:103] DICE score is technically 1.0, but prediction and truth arrays are empty. \n"
     ]
    },
    {
     "name": "stderr",
     "output_type": "stream",
     "text": [
      "W0502 08:48:22.841144 140051641706304 metrics.py:103] DICE score is technically 1.0, but prediction and truth arrays are empty. \n"
     ]
    },
    {
     "name": "stderr",
     "output_type": "stream",
     "text": [
      "W0502 08:48:22.851971 140051641706304 metrics.py:103] DICE score is technically 1.0, but prediction and truth arrays are empty. \n"
     ]
    },
    {
     "name": "stderr",
     "output_type": "stream",
     "text": [
      "W0502 08:48:22.862472 140051641706304 metrics.py:103] DICE score is technically 1.0, but prediction and truth arrays are empty. \n"
     ]
    },
    {
     "name": "stderr",
     "output_type": "stream",
     "text": [
      "W0502 08:48:22.873016 140051641706304 metrics.py:103] DICE score is technically 1.0, but prediction and truth arrays are empty. \n"
     ]
    },
    {
     "name": "stderr",
     "output_type": "stream",
     "text": [
      "W0502 08:48:22.883561 140051641706304 metrics.py:103] DICE score is technically 1.0, but prediction and truth arrays are empty. \n"
     ]
    },
    {
     "name": "stderr",
     "output_type": "stream",
     "text": [
      "W0502 08:48:22.893954 140051641706304 metrics.py:103] DICE score is technically 1.0, but prediction and truth arrays are empty. \n"
     ]
    },
    {
     "name": "stderr",
     "output_type": "stream",
     "text": [
      "W0502 08:48:22.904625 140051641706304 metrics.py:103] DICE score is technically 1.0, but prediction and truth arrays are empty. \n"
     ]
    },
    {
     "name": "stderr",
     "output_type": "stream",
     "text": [
      "W0502 08:48:22.915285 140051641706304 metrics.py:103] DICE score is technically 1.0, but prediction and truth arrays are empty. \n"
     ]
    },
    {
     "name": "stderr",
     "output_type": "stream",
     "text": [
      "W0502 08:48:22.926051 140051641706304 metrics.py:103] DICE score is technically 1.0, but prediction and truth arrays are empty. \n"
     ]
    },
    {
     "name": "stderr",
     "output_type": "stream",
     "text": [
      "W0502 08:48:22.936636 140051641706304 metrics.py:103] DICE score is technically 1.0, but prediction and truth arrays are empty. \n"
     ]
    },
    {
     "name": "stderr",
     "output_type": "stream",
     "text": [
      "W0502 08:48:22.947237 140051641706304 metrics.py:103] DICE score is technically 1.0, but prediction and truth arrays are empty. \n"
     ]
    },
    {
     "name": "stderr",
     "output_type": "stream",
     "text": [
      "W0502 08:48:22.957651 140051641706304 metrics.py:103] DICE score is technically 1.0, but prediction and truth arrays are empty. \n"
     ]
    },
    {
     "name": "stderr",
     "output_type": "stream",
     "text": [
      "W0502 08:48:22.968007 140051641706304 metrics.py:103] DICE score is technically 1.0, but prediction and truth arrays are empty. \n"
     ]
    },
    {
     "name": "stderr",
     "output_type": "stream",
     "text": [
      "W0502 08:48:22.978378 140051641706304 metrics.py:103] DICE score is technically 1.0, but prediction and truth arrays are empty. \n"
     ]
    },
    {
     "name": "stderr",
     "output_type": "stream",
     "text": [
      "W0502 08:48:22.989400 140051641706304 metrics.py:103] DICE score is technically 1.0, but prediction and truth arrays are empty. \n"
     ]
    },
    {
     "name": "stderr",
     "output_type": "stream",
     "text": [
      "W0502 08:48:23.000273 140051641706304 metrics.py:103] DICE score is technically 1.0, but prediction and truth arrays are empty. \n"
     ]
    },
    {
     "name": "stderr",
     "output_type": "stream",
     "text": [
      "W0502 08:48:23.011184 140051641706304 metrics.py:103] DICE score is technically 1.0, but prediction and truth arrays are empty. \n"
     ]
    },
    {
     "name": "stderr",
     "output_type": "stream",
     "text": [
      "W0502 08:48:23.022200 140051641706304 metrics.py:103] DICE score is technically 1.0, but prediction and truth arrays are empty. \n"
     ]
    },
    {
     "name": "stderr",
     "output_type": "stream",
     "text": [
      "W0502 08:48:23.033056 140051641706304 metrics.py:103] DICE score is technically 1.0, but prediction and truth arrays are empty. \n"
     ]
    },
    {
     "name": "stderr",
     "output_type": "stream",
     "text": [
      "W0502 08:48:23.043766 140051641706304 metrics.py:103] DICE score is technically 1.0, but prediction and truth arrays are empty. \n"
     ]
    },
    {
     "name": "stderr",
     "output_type": "stream",
     "text": [
      "W0502 08:48:23.055140 140051641706304 metrics.py:103] DICE score is technically 1.0, but prediction and truth arrays are empty. \n"
     ]
    },
    {
     "name": "stderr",
     "output_type": "stream",
     "text": [
      "W0502 08:48:23.065808 140051641706304 metrics.py:103] DICE score is technically 1.0, but prediction and truth arrays are empty. \n"
     ]
    },
    {
     "name": "stderr",
     "output_type": "stream",
     "text": [
      "W0502 08:48:23.076431 140051641706304 metrics.py:103] DICE score is technically 1.0, but prediction and truth arrays are empty. \n"
     ]
    },
    {
     "name": "stderr",
     "output_type": "stream",
     "text": [
      "W0502 08:48:23.086939 140051641706304 metrics.py:103] DICE score is technically 1.0, but prediction and truth arrays are empty. \n"
     ]
    },
    {
     "name": "stderr",
     "output_type": "stream",
     "text": [
      "W0502 08:48:23.097599 140051641706304 metrics.py:103] DICE score is technically 1.0, but prediction and truth arrays are empty. \n"
     ]
    },
    {
     "name": "stderr",
     "output_type": "stream",
     "text": [
      "W0502 08:48:23.108115 140051641706304 metrics.py:103] DICE score is technically 1.0, but prediction and truth arrays are empty. \n"
     ]
    },
    {
     "name": "stderr",
     "output_type": "stream",
     "text": [
      "W0502 08:48:23.118874 140051641706304 metrics.py:103] DICE score is technically 1.0, but prediction and truth arrays are empty. \n"
     ]
    },
    {
     "name": "stderr",
     "output_type": "stream",
     "text": [
      "W0502 08:48:23.129589 140051641706304 metrics.py:103] DICE score is technically 1.0, but prediction and truth arrays are empty. \n"
     ]
    },
    {
     "name": "stderr",
     "output_type": "stream",
     "text": [
      "W0502 08:48:23.140125 140051641706304 metrics.py:103] DICE score is technically 1.0, but prediction and truth arrays are empty. \n"
     ]
    },
    {
     "name": "stderr",
     "output_type": "stream",
     "text": [
      "W0502 08:49:25.804710 140051641706304 metrics.py:103] DICE score is technically 1.0, but prediction and truth arrays are empty. \n"
     ]
    },
    {
     "name": "stderr",
     "output_type": "stream",
     "text": [
      "W0502 08:49:27.533711 140051641706304 metrics.py:103] DICE score is technically 1.0, but prediction and truth arrays are empty. \n"
     ]
    },
    {
     "name": "stderr",
     "output_type": "stream",
     "text": [
      "W0502 08:49:27.544857 140051641706304 metrics.py:103] DICE score is technically 1.0, but prediction and truth arrays are empty. \n"
     ]
    },
    {
     "name": "stderr",
     "output_type": "stream",
     "text": [
      "W0502 08:49:27.555431 140051641706304 metrics.py:103] DICE score is technically 1.0, but prediction and truth arrays are empty. \n"
     ]
    },
    {
     "name": "stderr",
     "output_type": "stream",
     "text": [
      "W0502 08:49:27.566247 140051641706304 metrics.py:103] DICE score is technically 1.0, but prediction and truth arrays are empty. \n"
     ]
    },
    {
     "name": "stderr",
     "output_type": "stream",
     "text": [
      "W0502 08:49:27.577215 140051641706304 metrics.py:103] DICE score is technically 1.0, but prediction and truth arrays are empty. \n"
     ]
    },
    {
     "name": "stderr",
     "output_type": "stream",
     "text": [
      "W0502 08:49:31.830143 140051641706304 metrics.py:103] DICE score is technically 1.0, but prediction and truth arrays are empty. \n"
     ]
    },
    {
     "name": "stderr",
     "output_type": "stream",
     "text": [
      "W0502 08:49:31.841073 140051641706304 metrics.py:103] DICE score is technically 1.0, but prediction and truth arrays are empty. \n"
     ]
    },
    {
     "name": "stderr",
     "output_type": "stream",
     "text": [
      "W0502 08:49:31.851300 140051641706304 metrics.py:103] DICE score is technically 1.0, but prediction and truth arrays are empty. \n"
     ]
    },
    {
     "name": "stderr",
     "output_type": "stream",
     "text": [
      "W0502 08:49:31.861870 140051641706304 metrics.py:103] DICE score is technically 1.0, but prediction and truth arrays are empty. \n"
     ]
    },
    {
     "name": "stderr",
     "output_type": "stream",
     "text": [
      "W0502 08:49:31.872200 140051641706304 metrics.py:103] DICE score is technically 1.0, but prediction and truth arrays are empty. \n"
     ]
    },
    {
     "name": "stderr",
     "output_type": "stream",
     "text": [
      "W0502 08:49:31.882859 140051641706304 metrics.py:103] DICE score is technically 1.0, but prediction and truth arrays are empty. \n"
     ]
    },
    {
     "name": "stderr",
     "output_type": "stream",
     "text": [
      "W0502 08:49:31.893085 140051641706304 metrics.py:103] DICE score is technically 1.0, but prediction and truth arrays are empty. \n"
     ]
    },
    {
     "name": "stderr",
     "output_type": "stream",
     "text": [
      "W0502 08:49:31.903534 140051641706304 metrics.py:103] DICE score is technically 1.0, but prediction and truth arrays are empty. \n"
     ]
    },
    {
     "name": "stderr",
     "output_type": "stream",
     "text": [
      "W0502 08:49:31.914180 140051641706304 metrics.py:103] DICE score is technically 1.0, but prediction and truth arrays are empty. \n"
     ]
    },
    {
     "name": "stderr",
     "output_type": "stream",
     "text": [
      "W0502 08:49:31.924843 140051641706304 metrics.py:103] DICE score is technically 1.0, but prediction and truth arrays are empty. \n"
     ]
    },
    {
     "name": "stderr",
     "output_type": "stream",
     "text": [
      "W0502 08:49:31.935049 140051641706304 metrics.py:103] DICE score is technically 1.0, but prediction and truth arrays are empty. \n"
     ]
    },
    {
     "name": "stderr",
     "output_type": "stream",
     "text": [
      "W0502 08:49:31.945765 140051641706304 metrics.py:103] DICE score is technically 1.0, but prediction and truth arrays are empty. \n"
     ]
    },
    {
     "name": "stderr",
     "output_type": "stream",
     "text": [
      "W0502 08:49:31.956242 140051641706304 metrics.py:103] DICE score is technically 1.0, but prediction and truth arrays are empty. \n"
     ]
    },
    {
     "name": "stderr",
     "output_type": "stream",
     "text": [
      "W0502 08:49:31.966992 140051641706304 metrics.py:103] DICE score is technically 1.0, but prediction and truth arrays are empty. \n"
     ]
    },
    {
     "name": "stderr",
     "output_type": "stream",
     "text": [
      "W0502 08:49:31.977778 140051641706304 metrics.py:103] DICE score is technically 1.0, but prediction and truth arrays are empty. \n"
     ]
    },
    {
     "name": "stderr",
     "output_type": "stream",
     "text": [
      "W0502 08:49:31.989131 140051641706304 metrics.py:103] DICE score is technically 1.0, but prediction and truth arrays are empty. \n"
     ]
    },
    {
     "name": "stderr",
     "output_type": "stream",
     "text": [
      "W0502 08:49:31.999846 140051641706304 metrics.py:103] DICE score is technically 1.0, but prediction and truth arrays are empty. \n"
     ]
    },
    {
     "name": "stderr",
     "output_type": "stream",
     "text": [
      "W0502 08:49:32.010582 140051641706304 metrics.py:103] DICE score is technically 1.0, but prediction and truth arrays are empty. \n"
     ]
    },
    {
     "name": "stderr",
     "output_type": "stream",
     "text": [
      "W0502 08:49:32.021666 140051641706304 metrics.py:103] DICE score is technically 1.0, but prediction and truth arrays are empty. \n"
     ]
    },
    {
     "name": "stderr",
     "output_type": "stream",
     "text": [
      "W0502 08:49:32.033242 140051641706304 metrics.py:103] DICE score is technically 1.0, but prediction and truth arrays are empty. \n"
     ]
    },
    {
     "name": "stderr",
     "output_type": "stream",
     "text": [
      "W0502 08:49:32.044176 140051641706304 metrics.py:103] DICE score is technically 1.0, but prediction and truth arrays are empty. \n"
     ]
    },
    {
     "name": "stderr",
     "output_type": "stream",
     "text": [
      "W0502 08:49:32.055346 140051641706304 metrics.py:103] DICE score is technically 1.0, but prediction and truth arrays are empty. \n"
     ]
    },
    {
     "name": "stderr",
     "output_type": "stream",
     "text": [
      "W0502 08:49:32.066556 140051641706304 metrics.py:103] DICE score is technically 1.0, but prediction and truth arrays are empty. \n"
     ]
    },
    {
     "name": "stderr",
     "output_type": "stream",
     "text": [
      "W0502 08:49:32.077720 140051641706304 metrics.py:103] DICE score is technically 1.0, but prediction and truth arrays are empty. \n"
     ]
    },
    {
     "name": "stderr",
     "output_type": "stream",
     "text": [
      "W0502 08:49:32.088962 140051641706304 metrics.py:103] DICE score is technically 1.0, but prediction and truth arrays are empty. \n"
     ]
    },
    {
     "name": "stderr",
     "output_type": "stream",
     "text": [
      "W0502 08:49:32.100006 140051641706304 metrics.py:103] DICE score is technically 1.0, but prediction and truth arrays are empty. \n"
     ]
    },
    {
     "name": "stderr",
     "output_type": "stream",
     "text": [
      "W0502 08:49:32.110996 140051641706304 metrics.py:103] DICE score is technically 1.0, but prediction and truth arrays are empty. \n"
     ]
    },
    {
     "name": "stderr",
     "output_type": "stream",
     "text": [
      "W0502 08:49:32.121602 140051641706304 metrics.py:103] DICE score is technically 1.0, but prediction and truth arrays are empty. \n"
     ]
    },
    {
     "name": "stderr",
     "output_type": "stream",
     "text": [
      "W0502 08:49:32.132435 140051641706304 metrics.py:103] DICE score is technically 1.0, but prediction and truth arrays are empty. \n"
     ]
    },
    {
     "name": "stderr",
     "output_type": "stream",
     "text": [
      "W0502 08:49:32.143216 140051641706304 metrics.py:103] DICE score is technically 1.0, but prediction and truth arrays are empty. \n"
     ]
    },
    {
     "name": "stderr",
     "output_type": "stream",
     "text": [
      "W0502 08:49:32.579045 140051641706304 metrics.py:103] DICE score is technically 1.0, but prediction and truth arrays are empty. \n"
     ]
    },
    {
     "name": "stderr",
     "output_type": "stream",
     "text": [
      "W0502 08:49:32.608643 140051641706304 metrics.py:103] DICE score is technically 1.0, but prediction and truth arrays are empty. \n"
     ]
    },
    {
     "name": "stderr",
     "output_type": "stream",
     "text": [
      "W0502 08:49:32.619486 140051641706304 metrics.py:103] DICE score is technically 1.0, but prediction and truth arrays are empty. \n"
     ]
    },
    {
     "name": "stderr",
     "output_type": "stream",
     "text": [
      "W0502 08:49:32.630115 140051641706304 metrics.py:103] DICE score is technically 1.0, but prediction and truth arrays are empty. \n"
     ]
    },
    {
     "name": "stderr",
     "output_type": "stream",
     "text": [
      "W0502 08:49:32.640731 140051641706304 metrics.py:103] DICE score is technically 1.0, but prediction and truth arrays are empty. \n"
     ]
    },
    {
     "name": "stderr",
     "output_type": "stream",
     "text": [
      "W0502 08:49:32.651163 140051641706304 metrics.py:103] DICE score is technically 1.0, but prediction and truth arrays are empty. \n"
     ]
    },
    {
     "name": "stderr",
     "output_type": "stream",
     "text": [
      "W0502 08:49:32.661588 140051641706304 metrics.py:103] DICE score is technically 1.0, but prediction and truth arrays are empty. \n"
     ]
    },
    {
     "name": "stderr",
     "output_type": "stream",
     "text": [
      "W0502 08:49:32.672116 140051641706304 metrics.py:103] DICE score is technically 1.0, but prediction and truth arrays are empty. \n"
     ]
    },
    {
     "name": "stderr",
     "output_type": "stream",
     "text": [
      "W0502 08:49:32.682661 140051641706304 metrics.py:103] DICE score is technically 1.0, but prediction and truth arrays are empty. \n"
     ]
    },
    {
     "name": "stderr",
     "output_type": "stream",
     "text": [
      "W0502 08:49:32.693737 140051641706304 metrics.py:103] DICE score is technically 1.0, but prediction and truth arrays are empty. \n"
     ]
    },
    {
     "name": "stderr",
     "output_type": "stream",
     "text": [
      "W0502 08:49:32.704696 140051641706304 metrics.py:103] DICE score is technically 1.0, but prediction and truth arrays are empty. \n"
     ]
    },
    {
     "name": "stderr",
     "output_type": "stream",
     "text": [
      "W0502 08:49:32.715179 140051641706304 metrics.py:103] DICE score is technically 1.0, but prediction and truth arrays are empty. \n"
     ]
    },
    {
     "name": "stderr",
     "output_type": "stream",
     "text": [
      "W0502 08:49:32.726027 140051641706304 metrics.py:103] DICE score is technically 1.0, but prediction and truth arrays are empty. \n"
     ]
    },
    {
     "name": "stderr",
     "output_type": "stream",
     "text": [
      "W0502 08:49:32.737023 140051641706304 metrics.py:103] DICE score is technically 1.0, but prediction and truth arrays are empty. \n"
     ]
    },
    {
     "name": "stderr",
     "output_type": "stream",
     "text": [
      "W0502 08:49:32.747927 140051641706304 metrics.py:103] DICE score is technically 1.0, but prediction and truth arrays are empty. \n"
     ]
    },
    {
     "name": "stderr",
     "output_type": "stream",
     "text": [
      "W0502 08:49:32.758889 140051641706304 metrics.py:103] DICE score is technically 1.0, but prediction and truth arrays are empty. \n"
     ]
    },
    {
     "name": "stderr",
     "output_type": "stream",
     "text": [
      "W0502 08:49:32.769234 140051641706304 metrics.py:103] DICE score is technically 1.0, but prediction and truth arrays are empty. \n"
     ]
    },
    {
     "name": "stderr",
     "output_type": "stream",
     "text": [
      "W0502 08:49:32.779976 140051641706304 metrics.py:103] DICE score is technically 1.0, but prediction and truth arrays are empty. \n"
     ]
    },
    {
     "name": "stderr",
     "output_type": "stream",
     "text": [
      "W0502 08:49:32.791397 140051641706304 metrics.py:103] DICE score is technically 1.0, but prediction and truth arrays are empty. \n"
     ]
    },
    {
     "name": "stderr",
     "output_type": "stream",
     "text": [
      "W0502 08:49:32.802017 140051641706304 metrics.py:103] DICE score is technically 1.0, but prediction and truth arrays are empty. \n"
     ]
    },
    {
     "name": "stderr",
     "output_type": "stream",
     "text": [
      "W0502 08:49:32.812798 140051641706304 metrics.py:103] DICE score is technically 1.0, but prediction and truth arrays are empty. \n"
     ]
    },
    {
     "name": "stderr",
     "output_type": "stream",
     "text": [
      "W0502 08:49:32.823958 140051641706304 metrics.py:103] DICE score is technically 1.0, but prediction and truth arrays are empty. \n"
     ]
    },
    {
     "name": "stderr",
     "output_type": "stream",
     "text": [
      "W0502 08:49:32.834360 140051641706304 metrics.py:103] DICE score is technically 1.0, but prediction and truth arrays are empty. \n"
     ]
    },
    {
     "name": "stderr",
     "output_type": "stream",
     "text": [
      "W0502 08:49:32.845289 140051641706304 metrics.py:103] DICE score is technically 1.0, but prediction and truth arrays are empty. \n"
     ]
    },
    {
     "name": "stderr",
     "output_type": "stream",
     "text": [
      "W0502 08:49:32.866480 140051641706304 metrics.py:103] DICE score is technically 1.0, but prediction and truth arrays are empty. \n"
     ]
    },
    {
     "name": "stderr",
     "output_type": "stream",
     "text": [
      "W0502 08:49:32.877704 140051641706304 metrics.py:103] DICE score is technically 1.0, but prediction and truth arrays are empty. \n"
     ]
    },
    {
     "name": "stderr",
     "output_type": "stream",
     "text": [
      "W0502 08:49:32.888394 140051641706304 metrics.py:103] DICE score is technically 1.0, but prediction and truth arrays are empty. \n"
     ]
    },
    {
     "name": "stderr",
     "output_type": "stream",
     "text": [
      "W0502 08:49:38.986287 140051641706304 metrics.py:103] DICE score is technically 1.0, but prediction and truth arrays are empty. \n"
     ]
    },
    {
     "name": "stderr",
     "output_type": "stream",
     "text": [
      "W0502 08:49:39.285497 140051641706304 metrics.py:103] DICE score is technically 1.0, but prediction and truth arrays are empty. \n"
     ]
    },
    {
     "name": "stderr",
     "output_type": "stream",
     "text": [
      "W0502 08:49:39.296485 140051641706304 metrics.py:103] DICE score is technically 1.0, but prediction and truth arrays are empty. \n"
     ]
    },
    {
     "name": "stderr",
     "output_type": "stream",
     "text": [
      "W0502 08:49:40.132454 140051641706304 metrics.py:103] DICE score is technically 1.0, but prediction and truth arrays are empty. \n"
     ]
    },
    {
     "name": "stderr",
     "output_type": "stream",
     "text": [
      "W0502 08:49:40.143381 140051641706304 metrics.py:103] DICE score is technically 1.0, but prediction and truth arrays are empty. \n"
     ]
    },
    {
     "name": "stderr",
     "output_type": "stream",
     "text": [
      "W0502 08:49:40.154248 140051641706304 metrics.py:103] DICE score is technically 1.0, but prediction and truth arrays are empty. \n"
     ]
    },
    {
     "name": "stderr",
     "output_type": "stream",
     "text": [
      "W0502 08:49:40.164818 140051641706304 metrics.py:103] DICE score is technically 1.0, but prediction and truth arrays are empty. \n"
     ]
    },
    {
     "name": "stderr",
     "output_type": "stream",
     "text": [
      "W0502 08:49:40.175285 140051641706304 metrics.py:103] DICE score is technically 1.0, but prediction and truth arrays are empty. \n"
     ]
    },
    {
     "name": "stderr",
     "output_type": "stream",
     "text": [
      "W0502 08:49:40.185748 140051641706304 metrics.py:103] DICE score is technically 1.0, but prediction and truth arrays are empty. \n"
     ]
    },
    {
     "name": "stderr",
     "output_type": "stream",
     "text": [
      "W0502 08:49:40.196687 140051641706304 metrics.py:103] DICE score is technically 1.0, but prediction and truth arrays are empty. \n"
     ]
    },
    {
     "name": "stderr",
     "output_type": "stream",
     "text": [
      "W0502 08:49:40.207371 140051641706304 metrics.py:103] DICE score is technically 1.0, but prediction and truth arrays are empty. \n"
     ]
    },
    {
     "name": "stderr",
     "output_type": "stream",
     "text": [
      "W0502 08:49:40.218516 140051641706304 metrics.py:103] DICE score is technically 1.0, but prediction and truth arrays are empty. \n"
     ]
    },
    {
     "name": "stderr",
     "output_type": "stream",
     "text": [
      "W0502 08:49:40.229231 140051641706304 metrics.py:103] DICE score is technically 1.0, but prediction and truth arrays are empty. \n"
     ]
    },
    {
     "name": "stderr",
     "output_type": "stream",
     "text": [
      "W0502 08:49:40.239888 140051641706304 metrics.py:103] DICE score is technically 1.0, but prediction and truth arrays are empty. \n"
     ]
    },
    {
     "name": "stderr",
     "output_type": "stream",
     "text": [
      "W0502 08:49:40.250524 140051641706304 metrics.py:103] DICE score is technically 1.0, but prediction and truth arrays are empty. \n"
     ]
    },
    {
     "name": "stderr",
     "output_type": "stream",
     "text": [
      "W0502 08:49:40.261830 140051641706304 metrics.py:103] DICE score is technically 1.0, but prediction and truth arrays are empty. \n"
     ]
    },
    {
     "name": "stderr",
     "output_type": "stream",
     "text": [
      "W0502 08:49:40.272753 140051641706304 metrics.py:103] DICE score is technically 1.0, but prediction and truth arrays are empty. \n"
     ]
    },
    {
     "name": "stderr",
     "output_type": "stream",
     "text": [
      "W0502 08:49:40.283602 140051641706304 metrics.py:103] DICE score is technically 1.0, but prediction and truth arrays are empty. \n"
     ]
    },
    {
     "name": "stderr",
     "output_type": "stream",
     "text": [
      "W0502 08:49:40.294861 140051641706304 metrics.py:103] DICE score is technically 1.0, but prediction and truth arrays are empty. \n"
     ]
    },
    {
     "name": "stderr",
     "output_type": "stream",
     "text": [
      "W0502 08:49:40.305524 140051641706304 metrics.py:103] DICE score is technically 1.0, but prediction and truth arrays are empty. \n"
     ]
    },
    {
     "name": "stderr",
     "output_type": "stream",
     "text": [
      "W0502 08:49:40.316333 140051641706304 metrics.py:103] DICE score is technically 1.0, but prediction and truth arrays are empty. \n"
     ]
    },
    {
     "name": "stderr",
     "output_type": "stream",
     "text": [
      "W0502 08:49:40.327122 140051641706304 metrics.py:103] DICE score is technically 1.0, but prediction and truth arrays are empty. \n"
     ]
    },
    {
     "name": "stderr",
     "output_type": "stream",
     "text": [
      "W0502 08:49:40.337597 140051641706304 metrics.py:103] DICE score is technically 1.0, but prediction and truth arrays are empty. \n"
     ]
    },
    {
     "name": "stderr",
     "output_type": "stream",
     "text": [
      "W0502 08:49:40.348293 140051641706304 metrics.py:103] DICE score is technically 1.0, but prediction and truth arrays are empty. \n"
     ]
    },
    {
     "name": "stderr",
     "output_type": "stream",
     "text": [
      "W0502 08:49:40.358887 140051641706304 metrics.py:103] DICE score is technically 1.0, but prediction and truth arrays are empty. \n"
     ]
    },
    {
     "name": "stderr",
     "output_type": "stream",
     "text": [
      "W0502 08:49:40.369896 140051641706304 metrics.py:103] DICE score is technically 1.0, but prediction and truth arrays are empty. \n"
     ]
    },
    {
     "name": "stderr",
     "output_type": "stream",
     "text": [
      "W0502 08:49:40.380791 140051641706304 metrics.py:103] DICE score is technically 1.0, but prediction and truth arrays are empty. \n"
     ]
    },
    {
     "name": "stderr",
     "output_type": "stream",
     "text": [
      "W0502 08:49:40.391566 140051641706304 metrics.py:103] DICE score is technically 1.0, but prediction and truth arrays are empty. \n"
     ]
    },
    {
     "name": "stderr",
     "output_type": "stream",
     "text": [
      "W0502 08:49:40.402560 140051641706304 metrics.py:103] DICE score is technically 1.0, but prediction and truth arrays are empty. \n"
     ]
    },
    {
     "name": "stderr",
     "output_type": "stream",
     "text": [
      "W0502 08:49:40.413334 140051641706304 metrics.py:103] DICE score is technically 1.0, but prediction and truth arrays are empty. \n"
     ]
    },
    {
     "name": "stderr",
     "output_type": "stream",
     "text": [
      "W0502 08:49:40.424126 140051641706304 metrics.py:103] DICE score is technically 1.0, but prediction and truth arrays are empty. \n"
     ]
    },
    {
     "name": "stderr",
     "output_type": "stream",
     "text": [
      "W0502 08:49:40.444624 140051641706304 metrics.py:103] DICE score is technically 1.0, but prediction and truth arrays are empty. \n"
     ]
    },
    {
     "name": "stderr",
     "output_type": "stream",
     "text": [
      "W0502 08:49:40.882949 140051641706304 metrics.py:103] DICE score is technically 1.0, but prediction and truth arrays are empty. \n"
     ]
    },
    {
     "name": "stderr",
     "output_type": "stream",
     "text": [
      "W0502 08:49:40.894090 140051641706304 metrics.py:103] DICE score is technically 1.0, but prediction and truth arrays are empty. \n"
     ]
    },
    {
     "name": "stderr",
     "output_type": "stream",
     "text": [
      "W0502 08:49:40.904749 140051641706304 metrics.py:103] DICE score is technically 1.0, but prediction and truth arrays are empty. \n"
     ]
    },
    {
     "name": "stderr",
     "output_type": "stream",
     "text": [
      "W0502 08:49:40.915642 140051641706304 metrics.py:103] DICE score is technically 1.0, but prediction and truth arrays are empty. \n"
     ]
    },
    {
     "name": "stderr",
     "output_type": "stream",
     "text": [
      "W0502 08:49:40.926557 140051641706304 metrics.py:103] DICE score is technically 1.0, but prediction and truth arrays are empty. \n"
     ]
    },
    {
     "name": "stderr",
     "output_type": "stream",
     "text": [
      "W0502 08:49:40.937304 140051641706304 metrics.py:103] DICE score is technically 1.0, but prediction and truth arrays are empty. \n"
     ]
    },
    {
     "name": "stderr",
     "output_type": "stream",
     "text": [
      "W0502 08:49:40.947987 140051641706304 metrics.py:103] DICE score is technically 1.0, but prediction and truth arrays are empty. \n"
     ]
    },
    {
     "name": "stderr",
     "output_type": "stream",
     "text": [
      "W0502 08:49:40.958764 140051641706304 metrics.py:103] DICE score is technically 1.0, but prediction and truth arrays are empty. \n"
     ]
    },
    {
     "name": "stderr",
     "output_type": "stream",
     "text": [
      "W0502 08:49:40.969413 140051641706304 metrics.py:103] DICE score is technically 1.0, but prediction and truth arrays are empty. \n"
     ]
    },
    {
     "name": "stderr",
     "output_type": "stream",
     "text": [
      "W0502 08:49:40.980056 140051641706304 metrics.py:103] DICE score is technically 1.0, but prediction and truth arrays are empty. \n"
     ]
    },
    {
     "name": "stderr",
     "output_type": "stream",
     "text": [
      "W0502 08:49:40.990997 140051641706304 metrics.py:103] DICE score is technically 1.0, but prediction and truth arrays are empty. \n"
     ]
    },
    {
     "name": "stderr",
     "output_type": "stream",
     "text": [
      "W0502 08:49:41.001874 140051641706304 metrics.py:103] DICE score is technically 1.0, but prediction and truth arrays are empty. \n"
     ]
    },
    {
     "name": "stderr",
     "output_type": "stream",
     "text": [
      "W0502 08:49:41.012788 140051641706304 metrics.py:103] DICE score is technically 1.0, but prediction and truth arrays are empty. \n"
     ]
    },
    {
     "name": "stderr",
     "output_type": "stream",
     "text": [
      "W0502 08:49:41.023742 140051641706304 metrics.py:103] DICE score is technically 1.0, but prediction and truth arrays are empty. \n"
     ]
    },
    {
     "name": "stderr",
     "output_type": "stream",
     "text": [
      "W0502 08:49:41.034532 140051641706304 metrics.py:103] DICE score is technically 1.0, but prediction and truth arrays are empty. \n"
     ]
    },
    {
     "name": "stderr",
     "output_type": "stream",
     "text": [
      "W0502 08:49:41.045157 140051641706304 metrics.py:103] DICE score is technically 1.0, but prediction and truth arrays are empty. \n"
     ]
    },
    {
     "name": "stderr",
     "output_type": "stream",
     "text": [
      "W0502 08:49:41.056118 140051641706304 metrics.py:103] DICE score is technically 1.0, but prediction and truth arrays are empty. \n"
     ]
    },
    {
     "name": "stderr",
     "output_type": "stream",
     "text": [
      "W0502 08:49:41.066702 140051641706304 metrics.py:103] DICE score is technically 1.0, but prediction and truth arrays are empty. \n"
     ]
    },
    {
     "name": "stderr",
     "output_type": "stream",
     "text": [
      "W0502 08:49:41.077495 140051641706304 metrics.py:103] DICE score is technically 1.0, but prediction and truth arrays are empty. \n"
     ]
    },
    {
     "name": "stderr",
     "output_type": "stream",
     "text": [
      "W0502 08:49:41.088223 140051641706304 metrics.py:103] DICE score is technically 1.0, but prediction and truth arrays are empty. \n"
     ]
    },
    {
     "name": "stderr",
     "output_type": "stream",
     "text": [
      "W0502 08:49:41.099238 140051641706304 metrics.py:103] DICE score is technically 1.0, but prediction and truth arrays are empty. \n"
     ]
    },
    {
     "name": "stderr",
     "output_type": "stream",
     "text": [
      "W0502 08:49:41.110201 140051641706304 metrics.py:103] DICE score is technically 1.0, but prediction and truth arrays are empty. \n"
     ]
    },
    {
     "name": "stderr",
     "output_type": "stream",
     "text": [
      "W0502 08:49:41.121212 140051641706304 metrics.py:103] DICE score is technically 1.0, but prediction and truth arrays are empty. \n"
     ]
    },
    {
     "name": "stderr",
     "output_type": "stream",
     "text": [
      "W0502 08:49:41.131944 140051641706304 metrics.py:103] DICE score is technically 1.0, but prediction and truth arrays are empty. \n"
     ]
    },
    {
     "name": "stderr",
     "output_type": "stream",
     "text": [
      "W0502 08:49:41.142560 140051641706304 metrics.py:103] DICE score is technically 1.0, but prediction and truth arrays are empty. \n"
     ]
    },
    {
     "name": "stderr",
     "output_type": "stream",
     "text": [
      "W0502 08:49:41.153625 140051641706304 metrics.py:103] DICE score is technically 1.0, but prediction and truth arrays are empty. \n"
     ]
    },
    {
     "name": "stderr",
     "output_type": "stream",
     "text": [
      "W0502 08:49:41.164533 140051641706304 metrics.py:103] DICE score is technically 1.0, but prediction and truth arrays are empty. \n"
     ]
    },
    {
     "name": "stderr",
     "output_type": "stream",
     "text": [
      "W0502 08:49:41.175441 140051641706304 metrics.py:103] DICE score is technically 1.0, but prediction and truth arrays are empty. \n"
     ]
    },
    {
     "name": "stderr",
     "output_type": "stream",
     "text": [
      "W0502 08:49:41.196201 140051641706304 metrics.py:103] DICE score is technically 1.0, but prediction and truth arrays are empty. \n"
     ]
    },
    {
     "name": "stderr",
     "output_type": "stream",
     "text": [
      "W0502 08:49:42.750619 140051641706304 metrics.py:103] DICE score is technically 1.0, but prediction and truth arrays are empty. \n"
     ]
    },
    {
     "name": "stderr",
     "output_type": "stream",
     "text": [
      "W0502 08:49:42.761677 140051641706304 metrics.py:103] DICE score is technically 1.0, but prediction and truth arrays are empty. \n"
     ]
    },
    {
     "name": "stderr",
     "output_type": "stream",
     "text": [
      "W0502 08:49:42.772462 140051641706304 metrics.py:103] DICE score is technically 1.0, but prediction and truth arrays are empty. \n"
     ]
    },
    {
     "name": "stderr",
     "output_type": "stream",
     "text": [
      "W0502 08:49:42.783390 140051641706304 metrics.py:103] DICE score is technically 1.0, but prediction and truth arrays are empty. \n"
     ]
    },
    {
     "name": "stderr",
     "output_type": "stream",
     "text": [
      "W0502 08:49:42.793715 140051641706304 metrics.py:103] DICE score is technically 1.0, but prediction and truth arrays are empty. \n"
     ]
    },
    {
     "name": "stderr",
     "output_type": "stream",
     "text": [
      "W0502 08:49:42.804079 140051641706304 metrics.py:103] DICE score is technically 1.0, but prediction and truth arrays are empty. \n"
     ]
    },
    {
     "name": "stderr",
     "output_type": "stream",
     "text": [
      "W0502 08:49:42.814433 140051641706304 metrics.py:103] DICE score is technically 1.0, but prediction and truth arrays are empty. \n"
     ]
    },
    {
     "name": "stderr",
     "output_type": "stream",
     "text": [
      "W0502 08:49:42.825274 140051641706304 metrics.py:103] DICE score is technically 1.0, but prediction and truth arrays are empty. \n"
     ]
    },
    {
     "name": "stderr",
     "output_type": "stream",
     "text": [
      "W0502 08:49:42.835928 140051641706304 metrics.py:103] DICE score is technically 1.0, but prediction and truth arrays are empty. \n"
     ]
    },
    {
     "name": "stderr",
     "output_type": "stream",
     "text": [
      "W0502 08:49:42.847167 140051641706304 metrics.py:103] DICE score is technically 1.0, but prediction and truth arrays are empty. \n"
     ]
    },
    {
     "name": "stderr",
     "output_type": "stream",
     "text": [
      "W0502 08:49:42.857561 140051641706304 metrics.py:103] DICE score is technically 1.0, but prediction and truth arrays are empty. \n"
     ]
    },
    {
     "name": "stderr",
     "output_type": "stream",
     "text": [
      "W0502 08:49:42.868153 140051641706304 metrics.py:103] DICE score is technically 1.0, but prediction and truth arrays are empty. \n"
     ]
    },
    {
     "name": "stderr",
     "output_type": "stream",
     "text": [
      "W0502 08:49:42.878674 140051641706304 metrics.py:103] DICE score is technically 1.0, but prediction and truth arrays are empty. \n"
     ]
    },
    {
     "name": "stderr",
     "output_type": "stream",
     "text": [
      "W0502 08:49:42.889142 140051641706304 metrics.py:103] DICE score is technically 1.0, but prediction and truth arrays are empty. \n"
     ]
    },
    {
     "name": "stderr",
     "output_type": "stream",
     "text": [
      "W0502 08:49:42.900042 140051641706304 metrics.py:103] DICE score is technically 1.0, but prediction and truth arrays are empty. \n"
     ]
    },
    {
     "name": "stderr",
     "output_type": "stream",
     "text": [
      "W0502 08:49:42.910544 140051641706304 metrics.py:103] DICE score is technically 1.0, but prediction and truth arrays are empty. \n"
     ]
    },
    {
     "name": "stderr",
     "output_type": "stream",
     "text": [
      "W0502 08:49:42.921410 140051641706304 metrics.py:103] DICE score is technically 1.0, but prediction and truth arrays are empty. \n"
     ]
    },
    {
     "name": "stderr",
     "output_type": "stream",
     "text": [
      "W0502 08:49:42.932057 140051641706304 metrics.py:103] DICE score is technically 1.0, but prediction and truth arrays are empty. \n"
     ]
    },
    {
     "name": "stderr",
     "output_type": "stream",
     "text": [
      "W0502 08:49:42.942569 140051641706304 metrics.py:103] DICE score is technically 1.0, but prediction and truth arrays are empty. \n"
     ]
    },
    {
     "name": "stderr",
     "output_type": "stream",
     "text": [
      "W0502 08:49:42.953087 140051641706304 metrics.py:103] DICE score is technically 1.0, but prediction and truth arrays are empty. \n"
     ]
    },
    {
     "name": "stderr",
     "output_type": "stream",
     "text": [
      "W0502 08:49:42.963225 140051641706304 metrics.py:103] DICE score is technically 1.0, but prediction and truth arrays are empty. \n"
     ]
    },
    {
     "name": "stderr",
     "output_type": "stream",
     "text": [
      "W0502 08:49:42.983466 140051641706304 metrics.py:103] DICE score is technically 1.0, but prediction and truth arrays are empty. \n"
     ]
    },
    {
     "name": "stderr",
     "output_type": "stream",
     "text": [
      "W0502 08:49:43.003817 140051641706304 metrics.py:103] DICE score is technically 1.0, but prediction and truth arrays are empty. \n"
     ]
    },
    {
     "name": "stderr",
     "output_type": "stream",
     "text": [
      "W0502 08:49:43.014647 140051641706304 metrics.py:103] DICE score is technically 1.0, but prediction and truth arrays are empty. \n"
     ]
    },
    {
     "name": "stderr",
     "output_type": "stream",
     "text": [
      "W0502 08:49:43.026239 140051641706304 metrics.py:103] DICE score is technically 1.0, but prediction and truth arrays are empty. \n"
     ]
    },
    {
     "name": "stderr",
     "output_type": "stream",
     "text": [
      "W0502 08:49:43.037045 140051641706304 metrics.py:103] DICE score is technically 1.0, but prediction and truth arrays are empty. \n"
     ]
    },
    {
     "name": "stderr",
     "output_type": "stream",
     "text": [
      "W0502 08:49:43.047571 140051641706304 metrics.py:103] DICE score is technically 1.0, but prediction and truth arrays are empty. \n"
     ]
    },
    {
     "name": "stderr",
     "output_type": "stream",
     "text": [
      "W0502 08:49:43.058020 140051641706304 metrics.py:103] DICE score is technically 1.0, but prediction and truth arrays are empty. \n"
     ]
    },
    {
     "name": "stderr",
     "output_type": "stream",
     "text": [
      "W0502 08:49:43.744699 140051641706304 metrics.py:103] DICE score is technically 1.0, but prediction and truth arrays are empty. \n"
     ]
    },
    {
     "name": "stderr",
     "output_type": "stream",
     "text": [
      "W0502 08:49:43.755435 140051641706304 metrics.py:103] DICE score is technically 1.0, but prediction and truth arrays are empty. \n"
     ]
    },
    {
     "name": "stderr",
     "output_type": "stream",
     "text": [
      "W0502 08:49:43.765980 140051641706304 metrics.py:103] DICE score is technically 1.0, but prediction and truth arrays are empty. \n"
     ]
    },
    {
     "name": "stderr",
     "output_type": "stream",
     "text": [
      "W0502 08:49:43.776539 140051641706304 metrics.py:103] DICE score is technically 1.0, but prediction and truth arrays are empty. \n"
     ]
    },
    {
     "name": "stderr",
     "output_type": "stream",
     "text": [
      "W0502 08:49:43.787183 140051641706304 metrics.py:103] DICE score is technically 1.0, but prediction and truth arrays are empty. \n"
     ]
    },
    {
     "name": "stderr",
     "output_type": "stream",
     "text": [
      "W0502 08:49:43.797706 140051641706304 metrics.py:103] DICE score is technically 1.0, but prediction and truth arrays are empty. \n"
     ]
    },
    {
     "name": "stderr",
     "output_type": "stream",
     "text": [
      "W0502 08:49:43.808354 140051641706304 metrics.py:103] DICE score is technically 1.0, but prediction and truth arrays are empty. \n"
     ]
    },
    {
     "name": "stderr",
     "output_type": "stream",
     "text": [
      "W0502 08:49:43.819490 140051641706304 metrics.py:103] DICE score is technically 1.0, but prediction and truth arrays are empty. \n"
     ]
    },
    {
     "name": "stderr",
     "output_type": "stream",
     "text": [
      "W0502 08:49:43.830379 140051641706304 metrics.py:103] DICE score is technically 1.0, but prediction and truth arrays are empty. \n"
     ]
    },
    {
     "name": "stderr",
     "output_type": "stream",
     "text": [
      "W0502 08:49:43.840473 140051641706304 metrics.py:103] DICE score is technically 1.0, but prediction and truth arrays are empty. \n"
     ]
    },
    {
     "name": "stderr",
     "output_type": "stream",
     "text": [
      "W0502 08:49:43.851121 140051641706304 metrics.py:103] DICE score is technically 1.0, but prediction and truth arrays are empty. \n"
     ]
    },
    {
     "name": "stderr",
     "output_type": "stream",
     "text": [
      "W0502 08:49:43.861719 140051641706304 metrics.py:103] DICE score is technically 1.0, but prediction and truth arrays are empty. \n"
     ]
    },
    {
     "name": "stderr",
     "output_type": "stream",
     "text": [
      "W0502 08:49:43.872134 140051641706304 metrics.py:103] DICE score is technically 1.0, but prediction and truth arrays are empty. \n"
     ]
    },
    {
     "name": "stderr",
     "output_type": "stream",
     "text": [
      "W0502 08:49:43.882658 140051641706304 metrics.py:103] DICE score is technically 1.0, but prediction and truth arrays are empty. \n"
     ]
    },
    {
     "name": "stderr",
     "output_type": "stream",
     "text": [
      "W0502 08:49:43.893136 140051641706304 metrics.py:103] DICE score is technically 1.0, but prediction and truth arrays are empty. \n"
     ]
    },
    {
     "name": "stderr",
     "output_type": "stream",
     "text": [
      "W0502 08:49:43.903991 140051641706304 metrics.py:103] DICE score is technically 1.0, but prediction and truth arrays are empty. \n"
     ]
    },
    {
     "name": "stderr",
     "output_type": "stream",
     "text": [
      "W0502 08:49:43.914988 140051641706304 metrics.py:103] DICE score is technically 1.0, but prediction and truth arrays are empty. \n"
     ]
    },
    {
     "name": "stderr",
     "output_type": "stream",
     "text": [
      "W0502 08:49:43.925711 140051641706304 metrics.py:103] DICE score is technically 1.0, but prediction and truth arrays are empty. \n"
     ]
    },
    {
     "name": "stderr",
     "output_type": "stream",
     "text": [
      "W0502 08:49:43.936681 140051641706304 metrics.py:103] DICE score is technically 1.0, but prediction and truth arrays are empty. \n"
     ]
    },
    {
     "name": "stderr",
     "output_type": "stream",
     "text": [
      "W0502 08:49:43.947413 140051641706304 metrics.py:103] DICE score is technically 1.0, but prediction and truth arrays are empty. \n"
     ]
    },
    {
     "name": "stderr",
     "output_type": "stream",
     "text": [
      "W0502 08:49:43.967973 140051641706304 metrics.py:103] DICE score is technically 1.0, but prediction and truth arrays are empty. \n"
     ]
    },
    {
     "name": "stderr",
     "output_type": "stream",
     "text": [
      "W0502 08:49:43.978704 140051641706304 metrics.py:103] DICE score is technically 1.0, but prediction and truth arrays are empty. \n"
     ]
    },
    {
     "name": "stderr",
     "output_type": "stream",
     "text": [
      "W0502 08:49:43.989344 140051641706304 metrics.py:103] DICE score is technically 1.0, but prediction and truth arrays are empty. \n"
     ]
    },
    {
     "name": "stderr",
     "output_type": "stream",
     "text": [
      "W0502 08:49:44.000089 140051641706304 metrics.py:103] DICE score is technically 1.0, but prediction and truth arrays are empty. \n"
     ]
    },
    {
     "name": "stderr",
     "output_type": "stream",
     "text": [
      "W0502 08:49:44.010973 140051641706304 metrics.py:103] DICE score is technically 1.0, but prediction and truth arrays are empty. \n"
     ]
    },
    {
     "name": "stderr",
     "output_type": "stream",
     "text": [
      "W0502 08:49:44.021474 140051641706304 metrics.py:103] DICE score is technically 1.0, but prediction and truth arrays are empty. \n"
     ]
    },
    {
     "name": "stderr",
     "output_type": "stream",
     "text": [
      "W0502 08:49:44.032131 140051641706304 metrics.py:103] DICE score is technically 1.0, but prediction and truth arrays are empty. \n"
     ]
    },
    {
     "name": "stderr",
     "output_type": "stream",
     "text": [
      "W0502 08:49:44.042654 140051641706304 metrics.py:103] DICE score is technically 1.0, but prediction and truth arrays are empty. \n"
     ]
    },
    {
     "name": "stderr",
     "output_type": "stream",
     "text": [
      "W0502 08:49:46.279224 140051641706304 metrics.py:103] DICE score is technically 1.0, but prediction and truth arrays are empty. \n"
     ]
    },
    {
     "name": "stderr",
     "output_type": "stream",
     "text": [
      "W0502 08:49:46.290317 140051641706304 metrics.py:103] DICE score is technically 1.0, but prediction and truth arrays are empty. \n"
     ]
    },
    {
     "name": "stderr",
     "output_type": "stream",
     "text": [
      "W0502 08:49:46.300897 140051641706304 metrics.py:103] DICE score is technically 1.0, but prediction and truth arrays are empty. \n"
     ]
    },
    {
     "name": "stderr",
     "output_type": "stream",
     "text": [
      "W0502 08:49:46.321063 140051641706304 metrics.py:103] DICE score is technically 1.0, but prediction and truth arrays are empty. \n"
     ]
    },
    {
     "name": "stderr",
     "output_type": "stream",
     "text": [
      "W0502 08:49:46.332108 140051641706304 metrics.py:103] DICE score is technically 1.0, but prediction and truth arrays are empty. \n"
     ]
    },
    {
     "name": "stderr",
     "output_type": "stream",
     "text": [
      "W0502 08:49:46.342962 140051641706304 metrics.py:103] DICE score is technically 1.0, but prediction and truth arrays are empty. \n"
     ]
    },
    {
     "name": "stderr",
     "output_type": "stream",
     "text": [
      "W0502 08:49:46.353294 140051641706304 metrics.py:103] DICE score is technically 1.0, but prediction and truth arrays are empty. \n"
     ]
    },
    {
     "name": "stderr",
     "output_type": "stream",
     "text": [
      "W0502 08:49:46.363936 140051641706304 metrics.py:103] DICE score is technically 1.0, but prediction and truth arrays are empty. \n"
     ]
    },
    {
     "name": "stderr",
     "output_type": "stream",
     "text": [
      "W0502 08:49:46.374930 140051641706304 metrics.py:103] DICE score is technically 1.0, but prediction and truth arrays are empty. \n"
     ]
    },
    {
     "name": "stderr",
     "output_type": "stream",
     "text": [
      "W0502 08:49:46.385587 140051641706304 metrics.py:103] DICE score is technically 1.0, but prediction and truth arrays are empty. \n"
     ]
    },
    {
     "name": "stderr",
     "output_type": "stream",
     "text": [
      "W0502 08:49:46.396072 140051641706304 metrics.py:103] DICE score is technically 1.0, but prediction and truth arrays are empty. \n"
     ]
    },
    {
     "name": "stderr",
     "output_type": "stream",
     "text": [
      "W0502 08:49:46.406656 140051641706304 metrics.py:103] DICE score is technically 1.0, but prediction and truth arrays are empty. \n"
     ]
    },
    {
     "name": "stderr",
     "output_type": "stream",
     "text": [
      "W0502 08:49:46.417625 140051641706304 metrics.py:103] DICE score is technically 1.0, but prediction and truth arrays are empty. \n"
     ]
    },
    {
     "name": "stderr",
     "output_type": "stream",
     "text": [
      "W0502 08:49:46.428704 140051641706304 metrics.py:103] DICE score is technically 1.0, but prediction and truth arrays are empty. \n"
     ]
    },
    {
     "name": "stderr",
     "output_type": "stream",
     "text": [
      "W0502 08:49:46.439517 140051641706304 metrics.py:103] DICE score is technically 1.0, but prediction and truth arrays are empty. \n"
     ]
    },
    {
     "name": "stderr",
     "output_type": "stream",
     "text": [
      "W0502 08:49:46.449943 140051641706304 metrics.py:103] DICE score is technically 1.0, but prediction and truth arrays are empty. \n"
     ]
    },
    {
     "name": "stderr",
     "output_type": "stream",
     "text": [
      "W0502 08:49:46.460225 140051641706304 metrics.py:103] DICE score is technically 1.0, but prediction and truth arrays are empty. \n"
     ]
    },
    {
     "name": "stderr",
     "output_type": "stream",
     "text": [
      "W0502 08:49:46.470420 140051641706304 metrics.py:103] DICE score is technically 1.0, but prediction and truth arrays are empty. \n"
     ]
    },
    {
     "name": "stderr",
     "output_type": "stream",
     "text": [
      "W0502 08:49:46.930915 140051641706304 metrics.py:103] DICE score is technically 1.0, but prediction and truth arrays are empty. \n"
     ]
    },
    {
     "name": "stderr",
     "output_type": "stream",
     "text": [
      "W0502 08:49:46.941913 140051641706304 metrics.py:103] DICE score is technically 1.0, but prediction and truth arrays are empty. \n"
     ]
    },
    {
     "name": "stderr",
     "output_type": "stream",
     "text": [
      "W0502 08:49:46.952843 140051641706304 metrics.py:103] DICE score is technically 1.0, but prediction and truth arrays are empty. \n"
     ]
    },
    {
     "name": "stderr",
     "output_type": "stream",
     "text": [
      "W0502 08:49:46.972839 140051641706304 metrics.py:103] DICE score is technically 1.0, but prediction and truth arrays are empty. \n"
     ]
    },
    {
     "name": "stderr",
     "output_type": "stream",
     "text": [
      "W0502 08:49:46.983459 140051641706304 metrics.py:103] DICE score is technically 1.0, but prediction and truth arrays are empty. \n"
     ]
    },
    {
     "name": "stderr",
     "output_type": "stream",
     "text": [
      "W0502 08:49:46.994370 140051641706304 metrics.py:103] DICE score is technically 1.0, but prediction and truth arrays are empty. \n"
     ]
    },
    {
     "name": "stderr",
     "output_type": "stream",
     "text": [
      "W0502 08:49:47.005692 140051641706304 metrics.py:103] DICE score is technically 1.0, but prediction and truth arrays are empty. \n"
     ]
    },
    {
     "name": "stderr",
     "output_type": "stream",
     "text": [
      "W0502 08:49:47.017177 140051641706304 metrics.py:103] DICE score is technically 1.0, but prediction and truth arrays are empty. \n"
     ]
    },
    {
     "name": "stderr",
     "output_type": "stream",
     "text": [
      "W0502 08:49:47.028435 140051641706304 metrics.py:103] DICE score is technically 1.0, but prediction and truth arrays are empty. \n"
     ]
    },
    {
     "name": "stderr",
     "output_type": "stream",
     "text": [
      "W0502 08:49:47.039654 140051641706304 metrics.py:103] DICE score is technically 1.0, but prediction and truth arrays are empty. \n"
     ]
    },
    {
     "name": "stderr",
     "output_type": "stream",
     "text": [
      "W0502 08:49:47.051009 140051641706304 metrics.py:103] DICE score is technically 1.0, but prediction and truth arrays are empty. \n"
     ]
    },
    {
     "name": "stderr",
     "output_type": "stream",
     "text": [
      "W0502 08:49:47.062284 140051641706304 metrics.py:103] DICE score is technically 1.0, but prediction and truth arrays are empty. \n"
     ]
    },
    {
     "name": "stderr",
     "output_type": "stream",
     "text": [
      "W0502 08:49:47.073828 140051641706304 metrics.py:103] DICE score is technically 1.0, but prediction and truth arrays are empty. \n"
     ]
    },
    {
     "name": "stderr",
     "output_type": "stream",
     "text": [
      "W0502 08:49:47.085097 140051641706304 metrics.py:103] DICE score is technically 1.0, but prediction and truth arrays are empty. \n"
     ]
    },
    {
     "name": "stderr",
     "output_type": "stream",
     "text": [
      "W0502 08:49:47.096777 140051641706304 metrics.py:103] DICE score is technically 1.0, but prediction and truth arrays are empty. \n"
     ]
    },
    {
     "name": "stderr",
     "output_type": "stream",
     "text": [
      "W0502 08:49:47.108409 140051641706304 metrics.py:103] DICE score is technically 1.0, but prediction and truth arrays are empty. \n"
     ]
    },
    {
     "name": "stderr",
     "output_type": "stream",
     "text": [
      "W0502 08:49:47.119691 140051641706304 metrics.py:103] DICE score is technically 1.0, but prediction and truth arrays are empty. \n"
     ]
    },
    {
     "name": "stderr",
     "output_type": "stream",
     "text": [
      "W0502 08:49:47.131035 140051641706304 metrics.py:103] DICE score is technically 1.0, but prediction and truth arrays are empty. \n"
     ]
    },
    {
     "name": "stderr",
     "output_type": "stream",
     "text": [
      "W0502 08:49:47.142436 140051641706304 metrics.py:103] DICE score is technically 1.0, but prediction and truth arrays are empty. \n"
     ]
    },
    {
     "name": "stderr",
     "output_type": "stream",
     "text": [
      "W0502 08:49:47.153894 140051641706304 metrics.py:103] DICE score is technically 1.0, but prediction and truth arrays are empty. \n"
     ]
    },
    {
     "name": "stderr",
     "output_type": "stream",
     "text": [
      "W0502 08:49:47.165187 140051641706304 metrics.py:103] DICE score is technically 1.0, but prediction and truth arrays are empty. \n"
     ]
    },
    {
     "name": "stderr",
     "output_type": "stream",
     "text": [
      "W0502 08:49:47.176488 140051641706304 metrics.py:103] DICE score is technically 1.0, but prediction and truth arrays are empty. \n"
     ]
    },
    {
     "name": "stderr",
     "output_type": "stream",
     "text": [
      "W0502 08:49:47.188137 140051641706304 metrics.py:103] DICE score is technically 1.0, but prediction and truth arrays are empty. \n"
     ]
    },
    {
     "name": "stderr",
     "output_type": "stream",
     "text": [
      "W0502 08:49:47.199745 140051641706304 metrics.py:103] DICE score is technically 1.0, but prediction and truth arrays are empty. \n"
     ]
    },
    {
     "name": "stderr",
     "output_type": "stream",
     "text": [
      "W0502 08:49:47.210901 140051641706304 metrics.py:103] DICE score is technically 1.0, but prediction and truth arrays are empty. \n"
     ]
    },
    {
     "name": "stderr",
     "output_type": "stream",
     "text": [
      "W0502 08:49:47.222105 140051641706304 metrics.py:103] DICE score is technically 1.0, but prediction and truth arrays are empty. \n"
     ]
    },
    {
     "name": "stderr",
     "output_type": "stream",
     "text": [
      "W0502 08:49:47.233412 140051641706304 metrics.py:103] DICE score is technically 1.0, but prediction and truth arrays are empty. \n"
     ]
    },
    {
     "name": "stderr",
     "output_type": "stream",
     "text": [
      "W0502 08:49:47.244604 140051641706304 metrics.py:103] DICE score is technically 1.0, but prediction and truth arrays are empty. \n"
     ]
    },
    {
     "name": "stderr",
     "output_type": "stream",
     "text": [
      "W0502 08:49:47.255427 140051641706304 metrics.py:103] DICE score is technically 1.0, but prediction and truth arrays are empty. \n"
     ]
    },
    {
     "name": "stderr",
     "output_type": "stream",
     "text": [
      "W0502 08:49:47.670786 140051641706304 metrics.py:103] DICE score is technically 1.0, but prediction and truth arrays are empty. \n"
     ]
    },
    {
     "name": "stderr",
     "output_type": "stream",
     "text": [
      "W0502 08:49:47.681837 140051641706304 metrics.py:103] DICE score is technically 1.0, but prediction and truth arrays are empty. \n"
     ]
    },
    {
     "name": "stderr",
     "output_type": "stream",
     "text": [
      "W0502 08:49:47.692594 140051641706304 metrics.py:103] DICE score is technically 1.0, but prediction and truth arrays are empty. \n"
     ]
    },
    {
     "name": "stderr",
     "output_type": "stream",
     "text": [
      "W0502 08:49:47.723041 140051641706304 metrics.py:103] DICE score is technically 1.0, but prediction and truth arrays are empty. \n"
     ]
    },
    {
     "name": "stderr",
     "output_type": "stream",
     "text": [
      "W0502 08:49:47.734092 140051641706304 metrics.py:103] DICE score is technically 1.0, but prediction and truth arrays are empty. \n"
     ]
    },
    {
     "name": "stderr",
     "output_type": "stream",
     "text": [
      "W0502 08:49:47.745108 140051641706304 metrics.py:103] DICE score is technically 1.0, but prediction and truth arrays are empty. \n"
     ]
    },
    {
     "name": "stderr",
     "output_type": "stream",
     "text": [
      "W0502 08:49:47.765540 140051641706304 metrics.py:103] DICE score is technically 1.0, but prediction and truth arrays are empty. \n"
     ]
    },
    {
     "name": "stderr",
     "output_type": "stream",
     "text": [
      "W0502 08:49:47.776534 140051641706304 metrics.py:103] DICE score is technically 1.0, but prediction and truth arrays are empty. \n"
     ]
    },
    {
     "name": "stderr",
     "output_type": "stream",
     "text": [
      "W0502 08:49:49.200160 140051641706304 metrics.py:103] DICE score is technically 1.0, but prediction and truth arrays are empty. \n"
     ]
    },
    {
     "name": "stderr",
     "output_type": "stream",
     "text": [
      "W0502 08:49:49.211268 140051641706304 metrics.py:103] DICE score is technically 1.0, but prediction and truth arrays are empty. \n"
     ]
    },
    {
     "name": "stderr",
     "output_type": "stream",
     "text": [
      "W0502 08:49:49.222195 140051641706304 metrics.py:103] DICE score is technically 1.0, but prediction and truth arrays are empty. \n"
     ]
    },
    {
     "name": "stderr",
     "output_type": "stream",
     "text": [
      "W0502 08:49:49.233051 140051641706304 metrics.py:103] DICE score is technically 1.0, but prediction and truth arrays are empty. \n"
     ]
    },
    {
     "name": "stderr",
     "output_type": "stream",
     "text": [
      "W0502 08:49:49.243767 140051641706304 metrics.py:103] DICE score is technically 1.0, but prediction and truth arrays are empty. \n"
     ]
    },
    {
     "name": "stderr",
     "output_type": "stream",
     "text": [
      "W0502 08:49:49.254628 140051641706304 metrics.py:103] DICE score is technically 1.0, but prediction and truth arrays are empty. \n"
     ]
    },
    {
     "name": "stderr",
     "output_type": "stream",
     "text": [
      "W0502 08:49:49.265159 140051641706304 metrics.py:103] DICE score is technically 1.0, but prediction and truth arrays are empty. \n"
     ]
    },
    {
     "name": "stderr",
     "output_type": "stream",
     "text": [
      "W0502 08:49:49.275824 140051641706304 metrics.py:103] DICE score is technically 1.0, but prediction and truth arrays are empty. \n"
     ]
    },
    {
     "name": "stderr",
     "output_type": "stream",
     "text": [
      "W0502 08:49:49.286825 140051641706304 metrics.py:103] DICE score is technically 1.0, but prediction and truth arrays are empty. \n"
     ]
    },
    {
     "name": "stderr",
     "output_type": "stream",
     "text": [
      "W0502 08:49:49.297805 140051641706304 metrics.py:103] DICE score is technically 1.0, but prediction and truth arrays are empty. \n"
     ]
    },
    {
     "name": "stderr",
     "output_type": "stream",
     "text": [
      "W0502 08:49:49.308413 140051641706304 metrics.py:103] DICE score is technically 1.0, but prediction and truth arrays are empty. \n"
     ]
    },
    {
     "name": "stderr",
     "output_type": "stream",
     "text": [
      "W0502 08:49:49.319084 140051641706304 metrics.py:103] DICE score is technically 1.0, but prediction and truth arrays are empty. \n"
     ]
    },
    {
     "name": "stderr",
     "output_type": "stream",
     "text": [
      "W0502 08:49:49.329830 140051641706304 metrics.py:103] DICE score is technically 1.0, but prediction and truth arrays are empty. \n"
     ]
    },
    {
     "name": "stderr",
     "output_type": "stream",
     "text": [
      "W0502 08:49:49.340582 140051641706304 metrics.py:103] DICE score is technically 1.0, but prediction and truth arrays are empty. \n"
     ]
    },
    {
     "name": "stderr",
     "output_type": "stream",
     "text": [
      "W0502 08:49:49.351417 140051641706304 metrics.py:103] DICE score is technically 1.0, but prediction and truth arrays are empty. \n"
     ]
    },
    {
     "name": "stderr",
     "output_type": "stream",
     "text": [
      "W0502 08:49:49.362014 140051641706304 metrics.py:103] DICE score is technically 1.0, but prediction and truth arrays are empty. \n"
     ]
    },
    {
     "name": "stderr",
     "output_type": "stream",
     "text": [
      "W0502 08:49:49.372674 140051641706304 metrics.py:103] DICE score is technically 1.0, but prediction and truth arrays are empty. \n"
     ]
    },
    {
     "name": "stderr",
     "output_type": "stream",
     "text": [
      "W0502 08:49:49.383526 140051641706304 metrics.py:103] DICE score is technically 1.0, but prediction and truth arrays are empty. \n"
     ]
    },
    {
     "name": "stderr",
     "output_type": "stream",
     "text": [
      "W0502 08:49:49.394471 140051641706304 metrics.py:103] DICE score is technically 1.0, but prediction and truth arrays are empty. \n"
     ]
    },
    {
     "name": "stderr",
     "output_type": "stream",
     "text": [
      "W0502 08:49:49.405444 140051641706304 metrics.py:103] DICE score is technically 1.0, but prediction and truth arrays are empty. \n"
     ]
    },
    {
     "name": "stderr",
     "output_type": "stream",
     "text": [
      "W0502 08:49:49.416752 140051641706304 metrics.py:103] DICE score is technically 1.0, but prediction and truth arrays are empty. \n"
     ]
    },
    {
     "name": "stderr",
     "output_type": "stream",
     "text": [
      "W0502 08:49:49.427809 140051641706304 metrics.py:103] DICE score is technically 1.0, but prediction and truth arrays are empty. \n"
     ]
    },
    {
     "name": "stderr",
     "output_type": "stream",
     "text": [
      "W0502 08:49:49.438977 140051641706304 metrics.py:103] DICE score is technically 1.0, but prediction and truth arrays are empty. \n"
     ]
    },
    {
     "name": "stderr",
     "output_type": "stream",
     "text": [
      "W0502 08:49:49.449914 140051641706304 metrics.py:103] DICE score is technically 1.0, but prediction and truth arrays are empty. \n"
     ]
    },
    {
     "name": "stderr",
     "output_type": "stream",
     "text": [
      "W0502 08:49:49.460941 140051641706304 metrics.py:103] DICE score is technically 1.0, but prediction and truth arrays are empty. \n"
     ]
    },
    {
     "name": "stderr",
     "output_type": "stream",
     "text": [
      "W0502 08:49:49.471721 140051641706304 metrics.py:103] DICE score is technically 1.0, but prediction and truth arrays are empty. \n"
     ]
    },
    {
     "name": "stderr",
     "output_type": "stream",
     "text": [
      "W0502 08:49:49.482807 140051641706304 metrics.py:103] DICE score is technically 1.0, but prediction and truth arrays are empty. \n"
     ]
    },
    {
     "name": "stderr",
     "output_type": "stream",
     "text": [
      "W0502 08:49:49.494310 140051641706304 metrics.py:103] DICE score is technically 1.0, but prediction and truth arrays are empty. \n"
     ]
    },
    {
     "name": "stderr",
     "output_type": "stream",
     "text": [
      "W0502 08:49:49.505676 140051641706304 metrics.py:103] DICE score is technically 1.0, but prediction and truth arrays are empty. \n"
     ]
    },
    {
     "name": "stderr",
     "output_type": "stream",
     "text": [
      "W0502 08:49:49.517611 140051641706304 metrics.py:103] DICE score is technically 1.0, but prediction and truth arrays are empty. \n"
     ]
    },
    {
     "name": "stderr",
     "output_type": "stream",
     "text": [
      "/usr/local/lib/python3.6/dist-packages/deepcell/metrics.py:115: RuntimeWarning: invalid value encountered in double_scalars\n",
      "  Fmeasure = (2 * precision * recall) / (precision + recall)\n"
     ]
    },
    {
     "name": "stdout",
     "output_type": "stream",
     "text": [
      "\n",
      "____________Object-based statistics____________\n",
      "\n",
      "Number of true cells:\t\t 47124\n",
      "Number of predicted cells:\t 40461\n",
      "\n",
      "Correct detections:  38139\tRecall: 80.93328240387063488014973700046539306640625%\n",
      "Incorrect detections: 2322\tPrecision: 94.26114035738117991058970801532268524169921875%\n",
      "\n",
      "Gained detections: 2013\tPerc Error: 18.527381500230095667802743264473974704742431640625%\n",
      "Missed detections: 8641\tPerc Error: 79.5306028531983457696696859784424304962158203125%\n",
      "Merges: 114\t\tPerc Error: 1.0492406810860561705567306489683687686920166015625%\n",
      "Splits: 88\t\tPerc Error: 0.80994017487344682759697889196104370057582855224609375%\n",
      "Catastrophes: 9\t\tPerc Error: 0.082834790612057063174944460115511901676654815673828125%\n",
      "\n",
      "Gained detections from splits: 89\n",
      "Missed detections from merges: 124\n",
      "True detections involved in catastrophes: 18\n",
      "Predicted detections involved in catastrophes: 18 \n",
      "\n",
      "Average Pixel IOU (Jaccard Index): 0.81034399384601474292111333852517418563365936279296875 \n",
      "\n"
     ]
    },
    {
     "name": "stderr",
     "output_type": "stream",
     "text": [
      "/usr/local/lib/python3.6/dist-packages/ipykernel_launcher.py:157: UserWarning: Only one label was provided to `remove_small_objects`. Did you mean to use a boolean array?\n",
      "/usr/local/lib/python3.6/dist-packages/ipykernel_launcher.py:158: UserWarning: Only one label was provided to `remove_small_objects`. Did you mean to use a boolean array?\n"
     ]
    },
    {
     "name": "stderr",
     "output_type": "stream",
     "text": [
      "W0502 08:50:05.035613 140051641706304 metrics.py:103] DICE score is technically 1.0, but prediction and truth arrays are empty. \n"
     ]
    },
    {
     "name": "stderr",
     "output_type": "stream",
     "text": [
      "W0502 08:50:05.046647 140051641706304 metrics.py:103] DICE score is technically 1.0, but prediction and truth arrays are empty. \n"
     ]
    },
    {
     "name": "stderr",
     "output_type": "stream",
     "text": [
      "W0502 08:50:05.057762 140051641706304 metrics.py:103] DICE score is technically 1.0, but prediction and truth arrays are empty. \n"
     ]
    },
    {
     "name": "stderr",
     "output_type": "stream",
     "text": [
      "W0502 08:50:05.068729 140051641706304 metrics.py:103] DICE score is technically 1.0, but prediction and truth arrays are empty. \n"
     ]
    },
    {
     "name": "stderr",
     "output_type": "stream",
     "text": [
      "W0502 08:50:05.079534 140051641706304 metrics.py:103] DICE score is technically 1.0, but prediction and truth arrays are empty. \n"
     ]
    },
    {
     "name": "stderr",
     "output_type": "stream",
     "text": [
      "W0502 08:50:05.090140 140051641706304 metrics.py:103] DICE score is technically 1.0, but prediction and truth arrays are empty. \n"
     ]
    },
    {
     "name": "stderr",
     "output_type": "stream",
     "text": [
      "W0502 08:50:05.101112 140051641706304 metrics.py:103] DICE score is technically 1.0, but prediction and truth arrays are empty. \n"
     ]
    },
    {
     "name": "stderr",
     "output_type": "stream",
     "text": [
      "W0502 08:50:05.112076 140051641706304 metrics.py:103] DICE score is technically 1.0, but prediction and truth arrays are empty. \n"
     ]
    },
    {
     "name": "stderr",
     "output_type": "stream",
     "text": [
      "W0502 08:50:05.123143 140051641706304 metrics.py:103] DICE score is technically 1.0, but prediction and truth arrays are empty. \n"
     ]
    },
    {
     "name": "stderr",
     "output_type": "stream",
     "text": [
      "W0502 08:50:05.133749 140051641706304 metrics.py:103] DICE score is technically 1.0, but prediction and truth arrays are empty. \n"
     ]
    },
    {
     "name": "stderr",
     "output_type": "stream",
     "text": [
      "W0502 08:50:05.144289 140051641706304 metrics.py:103] DICE score is technically 1.0, but prediction and truth arrays are empty. \n"
     ]
    },
    {
     "name": "stderr",
     "output_type": "stream",
     "text": [
      "W0502 08:50:05.154822 140051641706304 metrics.py:103] DICE score is technically 1.0, but prediction and truth arrays are empty. \n"
     ]
    },
    {
     "name": "stderr",
     "output_type": "stream",
     "text": [
      "W0502 08:50:05.165594 140051641706304 metrics.py:103] DICE score is technically 1.0, but prediction and truth arrays are empty. \n"
     ]
    },
    {
     "name": "stderr",
     "output_type": "stream",
     "text": [
      "W0502 08:50:05.176480 140051641706304 metrics.py:103] DICE score is technically 1.0, but prediction and truth arrays are empty. \n"
     ]
    },
    {
     "name": "stderr",
     "output_type": "stream",
     "text": [
      "W0502 08:50:05.186954 140051641706304 metrics.py:103] DICE score is technically 1.0, but prediction and truth arrays are empty. \n"
     ]
    },
    {
     "name": "stderr",
     "output_type": "stream",
     "text": [
      "W0502 08:50:05.197342 140051641706304 metrics.py:103] DICE score is technically 1.0, but prediction and truth arrays are empty. \n"
     ]
    },
    {
     "name": "stderr",
     "output_type": "stream",
     "text": [
      "W0502 08:50:05.208152 140051641706304 metrics.py:103] DICE score is technically 1.0, but prediction and truth arrays are empty. \n"
     ]
    },
    {
     "name": "stderr",
     "output_type": "stream",
     "text": [
      "W0502 08:50:05.219531 140051641706304 metrics.py:103] DICE score is technically 1.0, but prediction and truth arrays are empty. \n"
     ]
    },
    {
     "name": "stderr",
     "output_type": "stream",
     "text": [
      "W0502 08:50:05.230470 140051641706304 metrics.py:103] DICE score is technically 1.0, but prediction and truth arrays are empty. \n"
     ]
    },
    {
     "name": "stderr",
     "output_type": "stream",
     "text": [
      "W0502 08:50:05.241513 140051641706304 metrics.py:103] DICE score is technically 1.0, but prediction and truth arrays are empty. \n"
     ]
    },
    {
     "name": "stderr",
     "output_type": "stream",
     "text": [
      "W0502 08:50:05.252245 140051641706304 metrics.py:103] DICE score is technically 1.0, but prediction and truth arrays are empty. \n"
     ]
    },
    {
     "name": "stderr",
     "output_type": "stream",
     "text": [
      "W0502 08:50:05.263205 140051641706304 metrics.py:103] DICE score is technically 1.0, but prediction and truth arrays are empty. \n"
     ]
    },
    {
     "name": "stderr",
     "output_type": "stream",
     "text": [
      "W0502 08:50:05.274312 140051641706304 metrics.py:103] DICE score is technically 1.0, but prediction and truth arrays are empty. \n"
     ]
    },
    {
     "name": "stderr",
     "output_type": "stream",
     "text": [
      "W0502 08:50:05.285272 140051641706304 metrics.py:103] DICE score is technically 1.0, but prediction and truth arrays are empty. \n"
     ]
    },
    {
     "name": "stderr",
     "output_type": "stream",
     "text": [
      "W0502 08:50:05.296534 140051641706304 metrics.py:103] DICE score is technically 1.0, but prediction and truth arrays are empty. \n"
     ]
    },
    {
     "name": "stderr",
     "output_type": "stream",
     "text": [
      "W0502 08:50:05.307681 140051641706304 metrics.py:103] DICE score is technically 1.0, but prediction and truth arrays are empty. \n"
     ]
    },
    {
     "name": "stderr",
     "output_type": "stream",
     "text": [
      "W0502 08:50:05.318590 140051641706304 metrics.py:103] DICE score is technically 1.0, but prediction and truth arrays are empty. \n"
     ]
    },
    {
     "name": "stderr",
     "output_type": "stream",
     "text": [
      "W0502 08:50:05.330381 140051641706304 metrics.py:103] DICE score is technically 1.0, but prediction and truth arrays are empty. \n"
     ]
    },
    {
     "name": "stderr",
     "output_type": "stream",
     "text": [
      "W0502 08:50:05.341293 140051641706304 metrics.py:103] DICE score is technically 1.0, but prediction and truth arrays are empty. \n"
     ]
    },
    {
     "name": "stderr",
     "output_type": "stream",
     "text": [
      "W0502 08:50:05.352540 140051641706304 metrics.py:103] DICE score is technically 1.0, but prediction and truth arrays are empty. \n"
     ]
    },
    {
     "name": "stderr",
     "output_type": "stream",
     "text": [
      "W0502 08:50:05.363736 140051641706304 metrics.py:103] DICE score is technically 1.0, but prediction and truth arrays are empty. \n"
     ]
    },
    {
     "name": "stderr",
     "output_type": "stream",
     "text": [
      "W0502 08:50:05.374988 140051641706304 metrics.py:103] DICE score is technically 1.0, but prediction and truth arrays are empty. \n"
     ]
    },
    {
     "name": "stderr",
     "output_type": "stream",
     "text": [
      "W0502 08:50:05.386135 140051641706304 metrics.py:103] DICE score is technically 1.0, but prediction and truth arrays are empty. \n"
     ]
    },
    {
     "name": "stderr",
     "output_type": "stream",
     "text": [
      "W0502 08:50:05.396795 140051641706304 metrics.py:103] DICE score is technically 1.0, but prediction and truth arrays are empty. \n"
     ]
    },
    {
     "name": "stderr",
     "output_type": "stream",
     "text": [
      "W0502 08:50:05.407169 140051641706304 metrics.py:103] DICE score is technically 1.0, but prediction and truth arrays are empty. \n"
     ]
    },
    {
     "name": "stderr",
     "output_type": "stream",
     "text": [
      "W0502 08:50:05.418308 140051641706304 metrics.py:103] DICE score is technically 1.0, but prediction and truth arrays are empty. \n"
     ]
    },
    {
     "name": "stderr",
     "output_type": "stream",
     "text": [
      "W0502 08:50:05.429410 140051641706304 metrics.py:103] DICE score is technically 1.0, but prediction and truth arrays are empty. \n"
     ]
    },
    {
     "name": "stderr",
     "output_type": "stream",
     "text": [
      "W0502 08:50:05.440678 140051641706304 metrics.py:103] DICE score is technically 1.0, but prediction and truth arrays are empty. \n"
     ]
    },
    {
     "name": "stderr",
     "output_type": "stream",
     "text": [
      "W0502 08:50:05.451615 140051641706304 metrics.py:103] DICE score is technically 1.0, but prediction and truth arrays are empty. \n"
     ]
    },
    {
     "name": "stderr",
     "output_type": "stream",
     "text": [
      "W0502 08:50:05.462553 140051641706304 metrics.py:103] DICE score is technically 1.0, but prediction and truth arrays are empty. \n"
     ]
    },
    {
     "name": "stderr",
     "output_type": "stream",
     "text": [
      "W0502 08:50:05.507293 140051641706304 metrics.py:103] DICE score is technically 1.0, but prediction and truth arrays are empty. \n"
     ]
    },
    {
     "name": "stderr",
     "output_type": "stream",
     "text": [
      "W0502 08:50:05.528155 140051641706304 metrics.py:103] DICE score is technically 1.0, but prediction and truth arrays are empty. \n"
     ]
    },
    {
     "name": "stderr",
     "output_type": "stream",
     "text": [
      "W0502 08:50:05.539150 140051641706304 metrics.py:103] DICE score is technically 1.0, but prediction and truth arrays are empty. \n"
     ]
    },
    {
     "name": "stderr",
     "output_type": "stream",
     "text": [
      "W0502 08:50:05.608812 140051641706304 metrics.py:103] DICE score is technically 1.0, but prediction and truth arrays are empty. \n"
     ]
    },
    {
     "name": "stderr",
     "output_type": "stream",
     "text": [
      "W0502 08:50:05.629496 140051641706304 metrics.py:103] DICE score is technically 1.0, but prediction and truth arrays are empty. \n"
     ]
    },
    {
     "name": "stderr",
     "output_type": "stream",
     "text": [
      "W0502 08:50:05.640077 140051641706304 metrics.py:103] DICE score is technically 1.0, but prediction and truth arrays are empty. \n"
     ]
    },
    {
     "name": "stderr",
     "output_type": "stream",
     "text": [
      "W0502 08:50:05.651013 140051641706304 metrics.py:103] DICE score is technically 1.0, but prediction and truth arrays are empty. \n"
     ]
    },
    {
     "name": "stderr",
     "output_type": "stream",
     "text": [
      "W0502 08:50:05.661545 140051641706304 metrics.py:103] DICE score is technically 1.0, but prediction and truth arrays are empty. \n"
     ]
    },
    {
     "name": "stderr",
     "output_type": "stream",
     "text": [
      "W0502 08:50:05.672766 140051641706304 metrics.py:103] DICE score is technically 1.0, but prediction and truth arrays are empty. \n"
     ]
    },
    {
     "name": "stderr",
     "output_type": "stream",
     "text": [
      "W0502 08:50:07.966218 140051641706304 metrics.py:103] DICE score is technically 1.0, but prediction and truth arrays are empty. \n"
     ]
    },
    {
     "name": "stderr",
     "output_type": "stream",
     "text": [
      "W0502 08:50:07.976966 140051641706304 metrics.py:103] DICE score is technically 1.0, but prediction and truth arrays are empty. \n"
     ]
    },
    {
     "name": "stderr",
     "output_type": "stream",
     "text": [
      "W0502 08:50:07.987792 140051641706304 metrics.py:103] DICE score is technically 1.0, but prediction and truth arrays are empty. \n"
     ]
    },
    {
     "name": "stderr",
     "output_type": "stream",
     "text": [
      "W0502 08:50:07.998610 140051641706304 metrics.py:103] DICE score is technically 1.0, but prediction and truth arrays are empty. \n"
     ]
    },
    {
     "name": "stderr",
     "output_type": "stream",
     "text": [
      "W0502 08:50:08.009519 140051641706304 metrics.py:103] DICE score is technically 1.0, but prediction and truth arrays are empty. \n"
     ]
    },
    {
     "name": "stderr",
     "output_type": "stream",
     "text": [
      "W0502 08:50:08.020257 140051641706304 metrics.py:103] DICE score is technically 1.0, but prediction and truth arrays are empty. \n"
     ]
    },
    {
     "name": "stderr",
     "output_type": "stream",
     "text": [
      "W0502 08:50:08.030969 140051641706304 metrics.py:103] DICE score is technically 1.0, but prediction and truth arrays are empty. \n"
     ]
    },
    {
     "name": "stderr",
     "output_type": "stream",
     "text": [
      "W0502 08:50:08.041871 140051641706304 metrics.py:103] DICE score is technically 1.0, but prediction and truth arrays are empty. \n"
     ]
    },
    {
     "name": "stderr",
     "output_type": "stream",
     "text": [
      "W0502 08:50:08.052465 140051641706304 metrics.py:103] DICE score is technically 1.0, but prediction and truth arrays are empty. \n"
     ]
    },
    {
     "name": "stderr",
     "output_type": "stream",
     "text": [
      "W0502 08:50:08.062997 140051641706304 metrics.py:103] DICE score is technically 1.0, but prediction and truth arrays are empty. \n"
     ]
    },
    {
     "name": "stderr",
     "output_type": "stream",
     "text": [
      "W0502 08:50:08.073591 140051641706304 metrics.py:103] DICE score is technically 1.0, but prediction and truth arrays are empty. \n"
     ]
    },
    {
     "name": "stderr",
     "output_type": "stream",
     "text": [
      "W0502 08:50:08.084206 140051641706304 metrics.py:103] DICE score is technically 1.0, but prediction and truth arrays are empty. \n"
     ]
    },
    {
     "name": "stderr",
     "output_type": "stream",
     "text": [
      "W0502 08:50:08.094478 140051641706304 metrics.py:103] DICE score is technically 1.0, but prediction and truth arrays are empty. \n"
     ]
    },
    {
     "name": "stderr",
     "output_type": "stream",
     "text": [
      "W0502 08:50:08.105372 140051641706304 metrics.py:103] DICE score is technically 1.0, but prediction and truth arrays are empty. \n"
     ]
    },
    {
     "name": "stderr",
     "output_type": "stream",
     "text": [
      "W0502 08:50:08.115971 140051641706304 metrics.py:103] DICE score is technically 1.0, but prediction and truth arrays are empty. \n"
     ]
    },
    {
     "name": "stderr",
     "output_type": "stream",
     "text": [
      "W0502 08:50:08.126683 140051641706304 metrics.py:103] DICE score is technically 1.0, but prediction and truth arrays are empty. \n"
     ]
    },
    {
     "name": "stderr",
     "output_type": "stream",
     "text": [
      "W0502 08:50:08.137368 140051641706304 metrics.py:103] DICE score is technically 1.0, but prediction and truth arrays are empty. \n"
     ]
    },
    {
     "name": "stderr",
     "output_type": "stream",
     "text": [
      "W0502 08:50:08.148141 140051641706304 metrics.py:103] DICE score is technically 1.0, but prediction and truth arrays are empty. \n"
     ]
    },
    {
     "name": "stderr",
     "output_type": "stream",
     "text": [
      "W0502 08:50:08.158729 140051641706304 metrics.py:103] DICE score is technically 1.0, but prediction and truth arrays are empty. \n"
     ]
    },
    {
     "name": "stderr",
     "output_type": "stream",
     "text": [
      "W0502 08:50:08.170370 140051641706304 metrics.py:103] DICE score is technically 1.0, but prediction and truth arrays are empty. \n"
     ]
    },
    {
     "name": "stderr",
     "output_type": "stream",
     "text": [
      "W0502 08:50:08.181441 140051641706304 metrics.py:103] DICE score is technically 1.0, but prediction and truth arrays are empty. \n"
     ]
    },
    {
     "name": "stderr",
     "output_type": "stream",
     "text": [
      "W0502 08:50:08.192511 140051641706304 metrics.py:103] DICE score is technically 1.0, but prediction and truth arrays are empty. \n"
     ]
    },
    {
     "name": "stderr",
     "output_type": "stream",
     "text": [
      "W0502 08:50:08.203584 140051641706304 metrics.py:103] DICE score is technically 1.0, but prediction and truth arrays are empty. \n"
     ]
    },
    {
     "name": "stderr",
     "output_type": "stream",
     "text": [
      "W0502 08:50:08.214964 140051641706304 metrics.py:103] DICE score is technically 1.0, but prediction and truth arrays are empty. \n"
     ]
    },
    {
     "name": "stderr",
     "output_type": "stream",
     "text": [
      "W0502 08:50:08.226232 140051641706304 metrics.py:103] DICE score is technically 1.0, but prediction and truth arrays are empty. \n"
     ]
    },
    {
     "name": "stderr",
     "output_type": "stream",
     "text": [
      "W0502 08:50:08.237001 140051641706304 metrics.py:103] DICE score is technically 1.0, but prediction and truth arrays are empty. \n"
     ]
    },
    {
     "name": "stderr",
     "output_type": "stream",
     "text": [
      "W0502 08:50:08.247772 140051641706304 metrics.py:103] DICE score is technically 1.0, but prediction and truth arrays are empty. \n"
     ]
    },
    {
     "name": "stderr",
     "output_type": "stream",
     "text": [
      "W0502 08:50:08.258667 140051641706304 metrics.py:103] DICE score is technically 1.0, but prediction and truth arrays are empty. \n"
     ]
    },
    {
     "name": "stderr",
     "output_type": "stream",
     "text": [
      "W0502 08:50:08.269559 140051641706304 metrics.py:103] DICE score is technically 1.0, but prediction and truth arrays are empty. \n"
     ]
    },
    {
     "name": "stderr",
     "output_type": "stream",
     "text": [
      "W0502 08:50:08.280703 140051641706304 metrics.py:103] DICE score is technically 1.0, but prediction and truth arrays are empty. \n"
     ]
    },
    {
     "name": "stderr",
     "output_type": "stream",
     "text": [
      "W0502 08:50:08.291134 140051641706304 metrics.py:103] DICE score is technically 1.0, but prediction and truth arrays are empty. \n"
     ]
    },
    {
     "name": "stderr",
     "output_type": "stream",
     "text": [
      "W0502 08:50:08.301942 140051641706304 metrics.py:103] DICE score is technically 1.0, but prediction and truth arrays are empty. \n"
     ]
    },
    {
     "name": "stderr",
     "output_type": "stream",
     "text": [
      "W0502 08:50:08.312754 140051641706304 metrics.py:103] DICE score is technically 1.0, but prediction and truth arrays are empty. \n"
     ]
    },
    {
     "name": "stderr",
     "output_type": "stream",
     "text": [
      "W0502 08:50:08.323288 140051641706304 metrics.py:103] DICE score is technically 1.0, but prediction and truth arrays are empty. \n"
     ]
    },
    {
     "name": "stderr",
     "output_type": "stream",
     "text": [
      "W0502 08:50:08.334516 140051641706304 metrics.py:103] DICE score is technically 1.0, but prediction and truth arrays are empty. \n"
     ]
    },
    {
     "name": "stderr",
     "output_type": "stream",
     "text": [
      "W0502 08:50:08.345219 140051641706304 metrics.py:103] DICE score is technically 1.0, but prediction and truth arrays are empty. \n"
     ]
    },
    {
     "name": "stderr",
     "output_type": "stream",
     "text": [
      "W0502 08:50:08.355862 140051641706304 metrics.py:103] DICE score is technically 1.0, but prediction and truth arrays are empty. \n"
     ]
    },
    {
     "name": "stderr",
     "output_type": "stream",
     "text": [
      "W0502 08:50:08.366591 140051641706304 metrics.py:103] DICE score is technically 1.0, but prediction and truth arrays are empty. \n"
     ]
    },
    {
     "name": "stderr",
     "output_type": "stream",
     "text": [
      "W0502 08:50:08.377313 140051641706304 metrics.py:103] DICE score is technically 1.0, but prediction and truth arrays are empty. \n"
     ]
    },
    {
     "name": "stderr",
     "output_type": "stream",
     "text": [
      "W0502 08:50:08.387792 140051641706304 metrics.py:103] DICE score is technically 1.0, but prediction and truth arrays are empty. \n"
     ]
    },
    {
     "name": "stderr",
     "output_type": "stream",
     "text": [
      "W0502 08:50:13.772937 140051641706304 metrics.py:103] DICE score is technically 1.0, but prediction and truth arrays are empty. \n"
     ]
    },
    {
     "name": "stderr",
     "output_type": "stream",
     "text": [
      "W0502 08:50:13.784130 140051641706304 metrics.py:103] DICE score is technically 1.0, but prediction and truth arrays are empty. \n"
     ]
    },
    {
     "name": "stderr",
     "output_type": "stream",
     "text": [
      "W0502 08:50:13.795363 140051641706304 metrics.py:103] DICE score is technically 1.0, but prediction and truth arrays are empty. \n"
     ]
    },
    {
     "name": "stderr",
     "output_type": "stream",
     "text": [
      "W0502 08:50:13.806623 140051641706304 metrics.py:103] DICE score is technically 1.0, but prediction and truth arrays are empty. \n"
     ]
    },
    {
     "name": "stderr",
     "output_type": "stream",
     "text": [
      "W0502 08:50:13.817853 140051641706304 metrics.py:103] DICE score is technically 1.0, but prediction and truth arrays are empty. \n"
     ]
    },
    {
     "name": "stderr",
     "output_type": "stream",
     "text": [
      "W0502 08:50:13.828904 140051641706304 metrics.py:103] DICE score is technically 1.0, but prediction and truth arrays are empty. \n"
     ]
    },
    {
     "name": "stderr",
     "output_type": "stream",
     "text": [
      "W0502 08:50:13.840036 140051641706304 metrics.py:103] DICE score is technically 1.0, but prediction and truth arrays are empty. \n"
     ]
    },
    {
     "name": "stderr",
     "output_type": "stream",
     "text": [
      "W0502 08:50:13.851284 140051641706304 metrics.py:103] DICE score is technically 1.0, but prediction and truth arrays are empty. \n"
     ]
    },
    {
     "name": "stderr",
     "output_type": "stream",
     "text": [
      "W0502 08:50:13.862458 140051641706304 metrics.py:103] DICE score is technically 1.0, but prediction and truth arrays are empty. \n"
     ]
    },
    {
     "name": "stderr",
     "output_type": "stream",
     "text": [
      "W0502 08:50:13.873787 140051641706304 metrics.py:103] DICE score is technically 1.0, but prediction and truth arrays are empty. \n"
     ]
    },
    {
     "name": "stderr",
     "output_type": "stream",
     "text": [
      "W0502 08:50:13.885040 140051641706304 metrics.py:103] DICE score is technically 1.0, but prediction and truth arrays are empty. \n"
     ]
    },
    {
     "name": "stderr",
     "output_type": "stream",
     "text": [
      "W0502 08:50:13.896480 140051641706304 metrics.py:103] DICE score is technically 1.0, but prediction and truth arrays are empty. \n"
     ]
    },
    {
     "name": "stderr",
     "output_type": "stream",
     "text": [
      "W0502 08:50:13.907409 140051641706304 metrics.py:103] DICE score is technically 1.0, but prediction and truth arrays are empty. \n"
     ]
    },
    {
     "name": "stderr",
     "output_type": "stream",
     "text": [
      "W0502 08:50:13.918649 140051641706304 metrics.py:103] DICE score is technically 1.0, but prediction and truth arrays are empty. \n"
     ]
    },
    {
     "name": "stderr",
     "output_type": "stream",
     "text": [
      "W0502 08:50:13.929585 140051641706304 metrics.py:103] DICE score is technically 1.0, but prediction and truth arrays are empty. \n"
     ]
    },
    {
     "name": "stderr",
     "output_type": "stream",
     "text": [
      "W0502 08:50:13.940796 140051641706304 metrics.py:103] DICE score is technically 1.0, but prediction and truth arrays are empty. \n"
     ]
    },
    {
     "name": "stderr",
     "output_type": "stream",
     "text": [
      "W0502 08:50:13.952060 140051641706304 metrics.py:103] DICE score is technically 1.0, but prediction and truth arrays are empty. \n"
     ]
    },
    {
     "name": "stderr",
     "output_type": "stream",
     "text": [
      "W0502 08:50:13.962756 140051641706304 metrics.py:103] DICE score is technically 1.0, but prediction and truth arrays are empty. \n"
     ]
    },
    {
     "name": "stderr",
     "output_type": "stream",
     "text": [
      "W0502 08:50:13.973699 140051641706304 metrics.py:103] DICE score is technically 1.0, but prediction and truth arrays are empty. \n"
     ]
    },
    {
     "name": "stderr",
     "output_type": "stream",
     "text": [
      "W0502 08:50:13.984742 140051641706304 metrics.py:103] DICE score is technically 1.0, but prediction and truth arrays are empty. \n"
     ]
    },
    {
     "name": "stderr",
     "output_type": "stream",
     "text": [
      "W0502 08:50:13.995539 140051641706304 metrics.py:103] DICE score is technically 1.0, but prediction and truth arrays are empty. \n"
     ]
    },
    {
     "name": "stderr",
     "output_type": "stream",
     "text": [
      "W0502 08:50:14.006157 140051641706304 metrics.py:103] DICE score is technically 1.0, but prediction and truth arrays are empty. \n"
     ]
    },
    {
     "name": "stderr",
     "output_type": "stream",
     "text": [
      "W0502 08:50:14.016975 140051641706304 metrics.py:103] DICE score is technically 1.0, but prediction and truth arrays are empty. \n"
     ]
    },
    {
     "name": "stderr",
     "output_type": "stream",
     "text": [
      "W0502 08:50:14.028106 140051641706304 metrics.py:103] DICE score is technically 1.0, but prediction and truth arrays are empty. \n"
     ]
    },
    {
     "name": "stderr",
     "output_type": "stream",
     "text": [
      "W0502 08:50:14.039172 140051641706304 metrics.py:103] DICE score is technically 1.0, but prediction and truth arrays are empty. \n"
     ]
    },
    {
     "name": "stderr",
     "output_type": "stream",
     "text": [
      "W0502 08:50:14.049678 140051641706304 metrics.py:103] DICE score is technically 1.0, but prediction and truth arrays are empty. \n"
     ]
    },
    {
     "name": "stderr",
     "output_type": "stream",
     "text": [
      "W0502 08:50:14.060516 140051641706304 metrics.py:103] DICE score is technically 1.0, but prediction and truth arrays are empty. \n"
     ]
    },
    {
     "name": "stderr",
     "output_type": "stream",
     "text": [
      "W0502 08:50:14.071088 140051641706304 metrics.py:103] DICE score is technically 1.0, but prediction and truth arrays are empty. \n"
     ]
    },
    {
     "name": "stderr",
     "output_type": "stream",
     "text": [
      "W0502 08:50:14.082058 140051641706304 metrics.py:103] DICE score is technically 1.0, but prediction and truth arrays are empty. \n"
     ]
    },
    {
     "name": "stderr",
     "output_type": "stream",
     "text": [
      "W0502 08:50:14.093007 140051641706304 metrics.py:103] DICE score is technically 1.0, but prediction and truth arrays are empty. \n"
     ]
    },
    {
     "name": "stderr",
     "output_type": "stream",
     "text": [
      "W0502 08:50:14.103881 140051641706304 metrics.py:103] DICE score is technically 1.0, but prediction and truth arrays are empty. \n"
     ]
    },
    {
     "name": "stderr",
     "output_type": "stream",
     "text": [
      "W0502 08:50:14.114977 140051641706304 metrics.py:103] DICE score is technically 1.0, but prediction and truth arrays are empty. \n"
     ]
    },
    {
     "name": "stderr",
     "output_type": "stream",
     "text": [
      "W0502 08:50:14.125956 140051641706304 metrics.py:103] DICE score is technically 1.0, but prediction and truth arrays are empty. \n"
     ]
    },
    {
     "name": "stderr",
     "output_type": "stream",
     "text": [
      "W0502 08:50:14.136962 140051641706304 metrics.py:103] DICE score is technically 1.0, but prediction and truth arrays are empty. \n"
     ]
    },
    {
     "name": "stderr",
     "output_type": "stream",
     "text": [
      "W0502 08:50:14.147564 140051641706304 metrics.py:103] DICE score is technically 1.0, but prediction and truth arrays are empty. \n"
     ]
    },
    {
     "name": "stderr",
     "output_type": "stream",
     "text": [
      "W0502 08:50:14.158607 140051641706304 metrics.py:103] DICE score is technically 1.0, but prediction and truth arrays are empty. \n"
     ]
    },
    {
     "name": "stderr",
     "output_type": "stream",
     "text": [
      "W0502 08:50:14.169621 140051641706304 metrics.py:103] DICE score is technically 1.0, but prediction and truth arrays are empty. \n"
     ]
    },
    {
     "name": "stderr",
     "output_type": "stream",
     "text": [
      "W0502 08:50:14.180551 140051641706304 metrics.py:103] DICE score is technically 1.0, but prediction and truth arrays are empty. \n"
     ]
    },
    {
     "name": "stderr",
     "output_type": "stream",
     "text": [
      "W0502 08:50:14.191411 140051641706304 metrics.py:103] DICE score is technically 1.0, but prediction and truth arrays are empty. \n"
     ]
    },
    {
     "name": "stderr",
     "output_type": "stream",
     "text": [
      "W0502 08:50:14.202443 140051641706304 metrics.py:103] DICE score is technically 1.0, but prediction and truth arrays are empty. \n"
     ]
    },
    {
     "name": "stderr",
     "output_type": "stream",
     "text": [
      "W0502 08:50:14.780850 140051641706304 metrics.py:103] DICE score is technically 1.0, but prediction and truth arrays are empty. \n"
     ]
    },
    {
     "name": "stderr",
     "output_type": "stream",
     "text": [
      "W0502 08:50:14.791633 140051641706304 metrics.py:103] DICE score is technically 1.0, but prediction and truth arrays are empty. \n"
     ]
    },
    {
     "name": "stderr",
     "output_type": "stream",
     "text": [
      "W0502 08:50:14.802390 140051641706304 metrics.py:103] DICE score is technically 1.0, but prediction and truth arrays are empty. \n"
     ]
    },
    {
     "name": "stderr",
     "output_type": "stream",
     "text": [
      "W0502 08:50:14.813060 140051641706304 metrics.py:103] DICE score is technically 1.0, but prediction and truth arrays are empty. \n"
     ]
    },
    {
     "name": "stderr",
     "output_type": "stream",
     "text": [
      "W0502 08:50:14.823547 140051641706304 metrics.py:103] DICE score is technically 1.0, but prediction and truth arrays are empty. \n"
     ]
    },
    {
     "name": "stderr",
     "output_type": "stream",
     "text": [
      "W0502 08:50:14.834068 140051641706304 metrics.py:103] DICE score is technically 1.0, but prediction and truth arrays are empty. \n"
     ]
    },
    {
     "name": "stderr",
     "output_type": "stream",
     "text": [
      "W0502 08:50:14.844781 140051641706304 metrics.py:103] DICE score is technically 1.0, but prediction and truth arrays are empty. \n"
     ]
    },
    {
     "name": "stderr",
     "output_type": "stream",
     "text": [
      "W0502 08:50:14.855368 140051641706304 metrics.py:103] DICE score is technically 1.0, but prediction and truth arrays are empty. \n"
     ]
    },
    {
     "name": "stderr",
     "output_type": "stream",
     "text": [
      "W0502 08:50:14.865726 140051641706304 metrics.py:103] DICE score is technically 1.0, but prediction and truth arrays are empty. \n"
     ]
    },
    {
     "name": "stderr",
     "output_type": "stream",
     "text": [
      "W0502 08:50:14.875998 140051641706304 metrics.py:103] DICE score is technically 1.0, but prediction and truth arrays are empty. \n"
     ]
    },
    {
     "name": "stderr",
     "output_type": "stream",
     "text": [
      "W0502 08:50:14.886442 140051641706304 metrics.py:103] DICE score is technically 1.0, but prediction and truth arrays are empty. \n"
     ]
    },
    {
     "name": "stderr",
     "output_type": "stream",
     "text": [
      "W0502 08:50:14.896688 140051641706304 metrics.py:103] DICE score is technically 1.0, but prediction and truth arrays are empty. \n"
     ]
    },
    {
     "name": "stderr",
     "output_type": "stream",
     "text": [
      "W0502 08:50:14.907223 140051641706304 metrics.py:103] DICE score is technically 1.0, but prediction and truth arrays are empty. \n"
     ]
    },
    {
     "name": "stderr",
     "output_type": "stream",
     "text": [
      "W0502 08:50:14.917443 140051641706304 metrics.py:103] DICE score is technically 1.0, but prediction and truth arrays are empty. \n"
     ]
    },
    {
     "name": "stderr",
     "output_type": "stream",
     "text": [
      "W0502 08:50:14.928061 140051641706304 metrics.py:103] DICE score is technically 1.0, but prediction and truth arrays are empty. \n"
     ]
    },
    {
     "name": "stderr",
     "output_type": "stream",
     "text": [
      "W0502 08:50:14.938690 140051641706304 metrics.py:103] DICE score is technically 1.0, but prediction and truth arrays are empty. \n"
     ]
    },
    {
     "name": "stderr",
     "output_type": "stream",
     "text": [
      "W0502 08:50:14.949096 140051641706304 metrics.py:103] DICE score is technically 1.0, but prediction and truth arrays are empty. \n"
     ]
    },
    {
     "name": "stderr",
     "output_type": "stream",
     "text": [
      "W0502 08:50:14.959756 140051641706304 metrics.py:103] DICE score is technically 1.0, but prediction and truth arrays are empty. \n"
     ]
    },
    {
     "name": "stderr",
     "output_type": "stream",
     "text": [
      "W0502 08:50:14.970219 140051641706304 metrics.py:103] DICE score is technically 1.0, but prediction and truth arrays are empty. \n"
     ]
    },
    {
     "name": "stderr",
     "output_type": "stream",
     "text": [
      "W0502 08:50:14.980672 140051641706304 metrics.py:103] DICE score is technically 1.0, but prediction and truth arrays are empty. \n"
     ]
    },
    {
     "name": "stderr",
     "output_type": "stream",
     "text": [
      "W0502 08:50:14.992326 140051641706304 metrics.py:103] DICE score is technically 1.0, but prediction and truth arrays are empty. \n"
     ]
    },
    {
     "name": "stderr",
     "output_type": "stream",
     "text": [
      "W0502 08:50:15.003018 140051641706304 metrics.py:103] DICE score is technically 1.0, but prediction and truth arrays are empty. \n"
     ]
    },
    {
     "name": "stderr",
     "output_type": "stream",
     "text": [
      "W0502 08:50:15.013792 140051641706304 metrics.py:103] DICE score is technically 1.0, but prediction and truth arrays are empty. \n"
     ]
    },
    {
     "name": "stderr",
     "output_type": "stream",
     "text": [
      "W0502 08:50:15.024398 140051641706304 metrics.py:103] DICE score is technically 1.0, but prediction and truth arrays are empty. \n"
     ]
    },
    {
     "name": "stderr",
     "output_type": "stream",
     "text": [
      "W0502 08:50:15.035090 140051641706304 metrics.py:103] DICE score is technically 1.0, but prediction and truth arrays are empty. \n"
     ]
    },
    {
     "name": "stderr",
     "output_type": "stream",
     "text": [
      "W0502 08:50:15.045464 140051641706304 metrics.py:103] DICE score is technically 1.0, but prediction and truth arrays are empty. \n"
     ]
    },
    {
     "name": "stderr",
     "output_type": "stream",
     "text": [
      "W0502 08:50:15.056102 140051641706304 metrics.py:103] DICE score is technically 1.0, but prediction and truth arrays are empty. \n"
     ]
    },
    {
     "name": "stderr",
     "output_type": "stream",
     "text": [
      "W0502 08:50:15.066771 140051641706304 metrics.py:103] DICE score is technically 1.0, but prediction and truth arrays are empty. \n"
     ]
    },
    {
     "name": "stderr",
     "output_type": "stream",
     "text": [
      "W0502 08:50:15.077408 140051641706304 metrics.py:103] DICE score is technically 1.0, but prediction and truth arrays are empty. \n"
     ]
    },
    {
     "name": "stderr",
     "output_type": "stream",
     "text": [
      "W0502 08:50:15.087720 140051641706304 metrics.py:103] DICE score is technically 1.0, but prediction and truth arrays are empty. \n"
     ]
    },
    {
     "name": "stderr",
     "output_type": "stream",
     "text": [
      "W0502 08:50:15.098538 140051641706304 metrics.py:103] DICE score is technically 1.0, but prediction and truth arrays are empty. \n"
     ]
    },
    {
     "name": "stderr",
     "output_type": "stream",
     "text": [
      "W0502 08:50:15.109520 140051641706304 metrics.py:103] DICE score is technically 1.0, but prediction and truth arrays are empty. \n"
     ]
    },
    {
     "name": "stderr",
     "output_type": "stream",
     "text": [
      "W0502 08:50:15.120399 140051641706304 metrics.py:103] DICE score is technically 1.0, but prediction and truth arrays are empty. \n"
     ]
    },
    {
     "name": "stderr",
     "output_type": "stream",
     "text": [
      "W0502 08:50:15.131339 140051641706304 metrics.py:103] DICE score is technically 1.0, but prediction and truth arrays are empty. \n"
     ]
    },
    {
     "name": "stderr",
     "output_type": "stream",
     "text": [
      "W0502 08:50:15.142175 140051641706304 metrics.py:103] DICE score is technically 1.0, but prediction and truth arrays are empty. \n"
     ]
    },
    {
     "name": "stderr",
     "output_type": "stream",
     "text": [
      "W0502 08:50:15.153138 140051641706304 metrics.py:103] DICE score is technically 1.0, but prediction and truth arrays are empty. \n"
     ]
    },
    {
     "name": "stderr",
     "output_type": "stream",
     "text": [
      "W0502 08:50:15.163723 140051641706304 metrics.py:103] DICE score is technically 1.0, but prediction and truth arrays are empty. \n"
     ]
    },
    {
     "name": "stderr",
     "output_type": "stream",
     "text": [
      "W0502 08:50:15.174543 140051641706304 metrics.py:103] DICE score is technically 1.0, but prediction and truth arrays are empty. \n"
     ]
    },
    {
     "name": "stderr",
     "output_type": "stream",
     "text": [
      "W0502 08:50:15.821678 140051641706304 metrics.py:103] DICE score is technically 1.0, but prediction and truth arrays are empty. \n"
     ]
    },
    {
     "name": "stderr",
     "output_type": "stream",
     "text": [
      "W0502 08:50:15.832813 140051641706304 metrics.py:103] DICE score is technically 1.0, but prediction and truth arrays are empty. \n"
     ]
    },
    {
     "name": "stderr",
     "output_type": "stream",
     "text": [
      "W0502 08:50:15.843427 140051641706304 metrics.py:103] DICE score is technically 1.0, but prediction and truth arrays are empty. \n"
     ]
    },
    {
     "name": "stderr",
     "output_type": "stream",
     "text": [
      "W0502 08:50:15.854012 140051641706304 metrics.py:103] DICE score is technically 1.0, but prediction and truth arrays are empty. \n"
     ]
    },
    {
     "name": "stderr",
     "output_type": "stream",
     "text": [
      "W0502 08:50:15.864350 140051641706304 metrics.py:103] DICE score is technically 1.0, but prediction and truth arrays are empty. \n"
     ]
    },
    {
     "name": "stderr",
     "output_type": "stream",
     "text": [
      "W0502 08:50:15.875134 140051641706304 metrics.py:103] DICE score is technically 1.0, but prediction and truth arrays are empty. \n"
     ]
    },
    {
     "name": "stderr",
     "output_type": "stream",
     "text": [
      "W0502 08:50:15.885765 140051641706304 metrics.py:103] DICE score is technically 1.0, but prediction and truth arrays are empty. \n"
     ]
    },
    {
     "name": "stderr",
     "output_type": "stream",
     "text": [
      "W0502 08:50:15.896518 140051641706304 metrics.py:103] DICE score is technically 1.0, but prediction and truth arrays are empty. \n"
     ]
    },
    {
     "name": "stderr",
     "output_type": "stream",
     "text": [
      "W0502 08:50:15.906688 140051641706304 metrics.py:103] DICE score is technically 1.0, but prediction and truth arrays are empty. \n"
     ]
    },
    {
     "name": "stderr",
     "output_type": "stream",
     "text": [
      "W0502 08:50:15.917331 140051641706304 metrics.py:103] DICE score is technically 1.0, but prediction and truth arrays are empty. \n"
     ]
    },
    {
     "name": "stderr",
     "output_type": "stream",
     "text": [
      "W0502 08:50:15.927898 140051641706304 metrics.py:103] DICE score is technically 1.0, but prediction and truth arrays are empty. \n"
     ]
    },
    {
     "name": "stderr",
     "output_type": "stream",
     "text": [
      "W0502 08:50:15.938384 140051641706304 metrics.py:103] DICE score is technically 1.0, but prediction and truth arrays are empty. \n"
     ]
    },
    {
     "name": "stderr",
     "output_type": "stream",
     "text": [
      "W0502 08:50:15.948689 140051641706304 metrics.py:103] DICE score is technically 1.0, but prediction and truth arrays are empty. \n"
     ]
    },
    {
     "name": "stderr",
     "output_type": "stream",
     "text": [
      "W0502 08:50:15.959238 140051641706304 metrics.py:103] DICE score is technically 1.0, but prediction and truth arrays are empty. \n"
     ]
    },
    {
     "name": "stderr",
     "output_type": "stream",
     "text": [
      "W0502 08:50:15.969231 140051641706304 metrics.py:103] DICE score is technically 1.0, but prediction and truth arrays are empty. \n"
     ]
    },
    {
     "name": "stderr",
     "output_type": "stream",
     "text": [
      "W0502 08:50:15.979612 140051641706304 metrics.py:103] DICE score is technically 1.0, but prediction and truth arrays are empty. \n"
     ]
    },
    {
     "name": "stderr",
     "output_type": "stream",
     "text": [
      "W0502 08:50:15.990270 140051641706304 metrics.py:103] DICE score is technically 1.0, but prediction and truth arrays are empty. \n"
     ]
    },
    {
     "name": "stderr",
     "output_type": "stream",
     "text": [
      "W0502 08:50:16.000558 140051641706304 metrics.py:103] DICE score is technically 1.0, but prediction and truth arrays are empty. \n"
     ]
    },
    {
     "name": "stderr",
     "output_type": "stream",
     "text": [
      "W0502 08:50:16.010888 140051641706304 metrics.py:103] DICE score is technically 1.0, but prediction and truth arrays are empty. \n"
     ]
    },
    {
     "name": "stderr",
     "output_type": "stream",
     "text": [
      "W0502 08:50:16.021442 140051641706304 metrics.py:103] DICE score is technically 1.0, but prediction and truth arrays are empty. \n"
     ]
    },
    {
     "name": "stderr",
     "output_type": "stream",
     "text": [
      "W0502 08:50:16.032096 140051641706304 metrics.py:103] DICE score is technically 1.0, but prediction and truth arrays are empty. \n"
     ]
    },
    {
     "name": "stderr",
     "output_type": "stream",
     "text": [
      "W0502 08:50:16.042985 140051641706304 metrics.py:103] DICE score is technically 1.0, but prediction and truth arrays are empty. \n"
     ]
    },
    {
     "name": "stderr",
     "output_type": "stream",
     "text": [
      "W0502 08:50:16.053317 140051641706304 metrics.py:103] DICE score is technically 1.0, but prediction and truth arrays are empty. \n"
     ]
    },
    {
     "name": "stderr",
     "output_type": "stream",
     "text": [
      "W0502 08:50:16.063814 140051641706304 metrics.py:103] DICE score is technically 1.0, but prediction and truth arrays are empty. \n"
     ]
    },
    {
     "name": "stderr",
     "output_type": "stream",
     "text": [
      "W0502 08:50:16.074360 140051641706304 metrics.py:103] DICE score is technically 1.0, but prediction and truth arrays are empty. \n"
     ]
    },
    {
     "name": "stderr",
     "output_type": "stream",
     "text": [
      "W0502 08:50:16.085062 140051641706304 metrics.py:103] DICE score is technically 1.0, but prediction and truth arrays are empty. \n"
     ]
    },
    {
     "name": "stderr",
     "output_type": "stream",
     "text": [
      "W0502 08:50:16.095758 140051641706304 metrics.py:103] DICE score is technically 1.0, but prediction and truth arrays are empty. \n"
     ]
    },
    {
     "name": "stderr",
     "output_type": "stream",
     "text": [
      "W0502 08:50:16.106262 140051641706304 metrics.py:103] DICE score is technically 1.0, but prediction and truth arrays are empty. \n"
     ]
    },
    {
     "name": "stderr",
     "output_type": "stream",
     "text": [
      "W0502 08:50:16.116762 140051641706304 metrics.py:103] DICE score is technically 1.0, but prediction and truth arrays are empty. \n"
     ]
    },
    {
     "name": "stderr",
     "output_type": "stream",
     "text": [
      "W0502 08:50:16.127599 140051641706304 metrics.py:103] DICE score is technically 1.0, but prediction and truth arrays are empty. \n"
     ]
    },
    {
     "name": "stderr",
     "output_type": "stream",
     "text": [
      "W0502 08:50:16.138245 140051641706304 metrics.py:103] DICE score is technically 1.0, but prediction and truth arrays are empty. \n"
     ]
    },
    {
     "name": "stderr",
     "output_type": "stream",
     "text": [
      "W0502 08:50:16.148710 140051641706304 metrics.py:103] DICE score is technically 1.0, but prediction and truth arrays are empty. \n"
     ]
    },
    {
     "name": "stderr",
     "output_type": "stream",
     "text": [
      "W0502 08:50:16.158965 140051641706304 metrics.py:103] DICE score is technically 1.0, but prediction and truth arrays are empty. \n"
     ]
    },
    {
     "name": "stderr",
     "output_type": "stream",
     "text": [
      "W0502 08:50:16.169389 140051641706304 metrics.py:103] DICE score is technically 1.0, but prediction and truth arrays are empty. \n"
     ]
    },
    {
     "name": "stderr",
     "output_type": "stream",
     "text": [
      "W0502 08:50:16.180064 140051641706304 metrics.py:103] DICE score is technically 1.0, but prediction and truth arrays are empty. \n"
     ]
    },
    {
     "name": "stderr",
     "output_type": "stream",
     "text": [
      "W0502 08:50:16.190855 140051641706304 metrics.py:103] DICE score is technically 1.0, but prediction and truth arrays are empty. \n"
     ]
    },
    {
     "name": "stderr",
     "output_type": "stream",
     "text": [
      "W0502 08:50:16.201398 140051641706304 metrics.py:103] DICE score is technically 1.0, but prediction and truth arrays are empty. \n"
     ]
    },
    {
     "name": "stderr",
     "output_type": "stream",
     "text": [
      "W0502 08:50:16.212101 140051641706304 metrics.py:103] DICE score is technically 1.0, but prediction and truth arrays are empty. \n"
     ]
    },
    {
     "name": "stderr",
     "output_type": "stream",
     "text": [
      "W0502 08:50:16.222843 140051641706304 metrics.py:103] DICE score is technically 1.0, but prediction and truth arrays are empty. \n"
     ]
    },
    {
     "name": "stderr",
     "output_type": "stream",
     "text": [
      "W0502 08:50:16.233719 140051641706304 metrics.py:103] DICE score is technically 1.0, but prediction and truth arrays are empty. \n"
     ]
    },
    {
     "name": "stderr",
     "output_type": "stream",
     "text": [
      "W0502 08:50:16.244230 140051641706304 metrics.py:103] DICE score is technically 1.0, but prediction and truth arrays are empty. \n"
     ]
    },
    {
     "name": "stderr",
     "output_type": "stream",
     "text": [
      "W0502 08:50:16.254431 140051641706304 metrics.py:103] DICE score is technically 1.0, but prediction and truth arrays are empty. \n"
     ]
    },
    {
     "name": "stderr",
     "output_type": "stream",
     "text": [
      "W0502 08:50:16.264934 140051641706304 metrics.py:103] DICE score is technically 1.0, but prediction and truth arrays are empty. \n"
     ]
    },
    {
     "name": "stderr",
     "output_type": "stream",
     "text": [
      "W0502 08:50:16.275433 140051641706304 metrics.py:103] DICE score is technically 1.0, but prediction and truth arrays are empty. \n"
     ]
    },
    {
     "name": "stderr",
     "output_type": "stream",
     "text": [
      "W0502 08:50:16.285591 140051641706304 metrics.py:103] DICE score is technically 1.0, but prediction and truth arrays are empty. \n"
     ]
    },
    {
     "name": "stderr",
     "output_type": "stream",
     "text": [
      "W0502 08:50:16.296153 140051641706304 metrics.py:103] DICE score is technically 1.0, but prediction and truth arrays are empty. \n"
     ]
    },
    {
     "name": "stderr",
     "output_type": "stream",
     "text": [
      "W0502 08:50:16.306457 140051641706304 metrics.py:103] DICE score is technically 1.0, but prediction and truth arrays are empty. \n"
     ]
    },
    {
     "name": "stderr",
     "output_type": "stream",
     "text": [
      "W0502 08:50:16.316977 140051641706304 metrics.py:103] DICE score is technically 1.0, but prediction and truth arrays are empty. \n"
     ]
    },
    {
     "name": "stderr",
     "output_type": "stream",
     "text": [
      "W0502 08:50:16.327578 140051641706304 metrics.py:103] DICE score is technically 1.0, but prediction and truth arrays are empty. \n"
     ]
    },
    {
     "name": "stderr",
     "output_type": "stream",
     "text": [
      "W0502 08:50:16.338280 140051641706304 metrics.py:103] DICE score is technically 1.0, but prediction and truth arrays are empty. \n"
     ]
    },
    {
     "name": "stderr",
     "output_type": "stream",
     "text": [
      "W0502 08:50:16.348421 140051641706304 metrics.py:103] DICE score is technically 1.0, but prediction and truth arrays are empty. \n"
     ]
    },
    {
     "name": "stderr",
     "output_type": "stream",
     "text": [
      "W0502 08:50:16.359567 140051641706304 metrics.py:103] DICE score is technically 1.0, but prediction and truth arrays are empty. \n"
     ]
    },
    {
     "name": "stderr",
     "output_type": "stream",
     "text": [
      "W0502 08:50:16.370144 140051641706304 metrics.py:103] DICE score is technically 1.0, but prediction and truth arrays are empty. \n"
     ]
    },
    {
     "name": "stderr",
     "output_type": "stream",
     "text": [
      "W0502 08:50:16.380758 140051641706304 metrics.py:103] DICE score is technically 1.0, but prediction and truth arrays are empty. \n"
     ]
    },
    {
     "name": "stderr",
     "output_type": "stream",
     "text": [
      "W0502 08:50:16.391392 140051641706304 metrics.py:103] DICE score is technically 1.0, but prediction and truth arrays are empty. \n"
     ]
    },
    {
     "name": "stderr",
     "output_type": "stream",
     "text": [
      "W0502 08:50:16.401563 140051641706304 metrics.py:103] DICE score is technically 1.0, but prediction and truth arrays are empty. \n"
     ]
    },
    {
     "name": "stderr",
     "output_type": "stream",
     "text": [
      "W0502 08:50:16.411887 140051641706304 metrics.py:103] DICE score is technically 1.0, but prediction and truth arrays are empty. \n"
     ]
    },
    {
     "name": "stderr",
     "output_type": "stream",
     "text": [
      "W0502 08:50:16.422556 140051641706304 metrics.py:103] DICE score is technically 1.0, but prediction and truth arrays are empty. \n"
     ]
    },
    {
     "name": "stderr",
     "output_type": "stream",
     "text": [
      "W0502 08:50:16.433141 140051641706304 metrics.py:103] DICE score is technically 1.0, but prediction and truth arrays are empty. \n"
     ]
    },
    {
     "name": "stderr",
     "output_type": "stream",
     "text": [
      "W0502 08:50:16.444074 140051641706304 metrics.py:103] DICE score is technically 1.0, but prediction and truth arrays are empty. \n"
     ]
    },
    {
     "name": "stderr",
     "output_type": "stream",
     "text": [
      "W0502 08:50:16.454529 140051641706304 metrics.py:103] DICE score is technically 1.0, but prediction and truth arrays are empty. \n"
     ]
    },
    {
     "name": "stderr",
     "output_type": "stream",
     "text": [
      "W0502 08:50:16.464993 140051641706304 metrics.py:103] DICE score is technically 1.0, but prediction and truth arrays are empty. \n"
     ]
    },
    {
     "name": "stderr",
     "output_type": "stream",
     "text": [
      "W0502 08:50:16.475600 140051641706304 metrics.py:103] DICE score is technically 1.0, but prediction and truth arrays are empty. \n"
     ]
    },
    {
     "name": "stderr",
     "output_type": "stream",
     "text": [
      "W0502 08:50:16.486268 140051641706304 metrics.py:103] DICE score is technically 1.0, but prediction and truth arrays are empty. \n"
     ]
    },
    {
     "name": "stderr",
     "output_type": "stream",
     "text": [
      "W0502 08:50:16.496872 140051641706304 metrics.py:103] DICE score is technically 1.0, but prediction and truth arrays are empty. \n"
     ]
    },
    {
     "name": "stderr",
     "output_type": "stream",
     "text": [
      "W0502 08:50:16.507391 140051641706304 metrics.py:103] DICE score is technically 1.0, but prediction and truth arrays are empty. \n"
     ]
    },
    {
     "name": "stderr",
     "output_type": "stream",
     "text": [
      "W0502 08:50:16.518198 140051641706304 metrics.py:103] DICE score is technically 1.0, but prediction and truth arrays are empty. \n"
     ]
    },
    {
     "name": "stderr",
     "output_type": "stream",
     "text": [
      "W0502 08:50:16.528833 140051641706304 metrics.py:103] DICE score is technically 1.0, but prediction and truth arrays are empty. \n"
     ]
    },
    {
     "name": "stderr",
     "output_type": "stream",
     "text": [
      "W0502 08:50:16.539286 140051641706304 metrics.py:103] DICE score is technically 1.0, but prediction and truth arrays are empty. \n"
     ]
    },
    {
     "name": "stderr",
     "output_type": "stream",
     "text": [
      "W0502 08:50:16.550317 140051641706304 metrics.py:103] DICE score is technically 1.0, but prediction and truth arrays are empty. \n"
     ]
    },
    {
     "name": "stderr",
     "output_type": "stream",
     "text": [
      "W0502 08:50:16.561218 140051641706304 metrics.py:103] DICE score is technically 1.0, but prediction and truth arrays are empty. \n"
     ]
    },
    {
     "name": "stderr",
     "output_type": "stream",
     "text": [
      "W0502 08:50:16.571719 140051641706304 metrics.py:103] DICE score is technically 1.0, but prediction and truth arrays are empty. \n"
     ]
    },
    {
     "name": "stderr",
     "output_type": "stream",
     "text": [
      "W0502 08:50:16.582289 140051641706304 metrics.py:103] DICE score is technically 1.0, but prediction and truth arrays are empty. \n"
     ]
    },
    {
     "name": "stderr",
     "output_type": "stream",
     "text": [
      "W0502 08:50:16.592673 140051641706304 metrics.py:103] DICE score is technically 1.0, but prediction and truth arrays are empty. \n"
     ]
    },
    {
     "name": "stderr",
     "output_type": "stream",
     "text": [
      "W0502 08:50:16.603319 140051641706304 metrics.py:103] DICE score is technically 1.0, but prediction and truth arrays are empty. \n"
     ]
    },
    {
     "name": "stderr",
     "output_type": "stream",
     "text": [
      "W0502 08:50:16.613957 140051641706304 metrics.py:103] DICE score is technically 1.0, but prediction and truth arrays are empty. \n"
     ]
    },
    {
     "name": "stderr",
     "output_type": "stream",
     "text": [
      "W0502 08:50:16.624666 140051641706304 metrics.py:103] DICE score is technically 1.0, but prediction and truth arrays are empty. \n"
     ]
    },
    {
     "name": "stderr",
     "output_type": "stream",
     "text": [
      "W0502 08:50:16.635302 140051641706304 metrics.py:103] DICE score is technically 1.0, but prediction and truth arrays are empty. \n"
     ]
    },
    {
     "name": "stderr",
     "output_type": "stream",
     "text": [
      "W0502 08:50:16.645936 140051641706304 metrics.py:103] DICE score is technically 1.0, but prediction and truth arrays are empty. \n"
     ]
    },
    {
     "name": "stderr",
     "output_type": "stream",
     "text": [
      "W0502 08:50:16.656593 140051641706304 metrics.py:103] DICE score is technically 1.0, but prediction and truth arrays are empty. \n"
     ]
    },
    {
     "name": "stderr",
     "output_type": "stream",
     "text": [
      "W0502 08:50:16.667518 140051641706304 metrics.py:103] DICE score is technically 1.0, but prediction and truth arrays are empty. \n"
     ]
    },
    {
     "name": "stderr",
     "output_type": "stream",
     "text": [
      "W0502 08:50:16.678203 140051641706304 metrics.py:103] DICE score is technically 1.0, but prediction and truth arrays are empty. \n"
     ]
    },
    {
     "name": "stderr",
     "output_type": "stream",
     "text": [
      "W0502 08:50:16.688909 140051641706304 metrics.py:103] DICE score is technically 1.0, but prediction and truth arrays are empty. \n"
     ]
    },
    {
     "name": "stderr",
     "output_type": "stream",
     "text": [
      "W0502 08:50:16.699775 140051641706304 metrics.py:103] DICE score is technically 1.0, but prediction and truth arrays are empty. \n"
     ]
    },
    {
     "name": "stderr",
     "output_type": "stream",
     "text": [
      "W0502 08:50:16.710469 140051641706304 metrics.py:103] DICE score is technically 1.0, but prediction and truth arrays are empty. \n"
     ]
    },
    {
     "name": "stderr",
     "output_type": "stream",
     "text": [
      "W0502 08:50:16.721040 140051641706304 metrics.py:103] DICE score is technically 1.0, but prediction and truth arrays are empty. \n"
     ]
    },
    {
     "name": "stderr",
     "output_type": "stream",
     "text": [
      "W0502 08:50:16.731882 140051641706304 metrics.py:103] DICE score is technically 1.0, but prediction and truth arrays are empty. \n"
     ]
    },
    {
     "name": "stderr",
     "output_type": "stream",
     "text": [
      "W0502 08:50:16.742930 140051641706304 metrics.py:103] DICE score is technically 1.0, but prediction and truth arrays are empty. \n"
     ]
    },
    {
     "name": "stderr",
     "output_type": "stream",
     "text": [
      "W0502 08:50:16.753804 140051641706304 metrics.py:103] DICE score is technically 1.0, but prediction and truth arrays are empty. \n"
     ]
    },
    {
     "name": "stderr",
     "output_type": "stream",
     "text": [
      "W0502 08:50:16.764743 140051641706304 metrics.py:103] DICE score is technically 1.0, but prediction and truth arrays are empty. \n"
     ]
    },
    {
     "name": "stderr",
     "output_type": "stream",
     "text": [
      "W0502 08:50:16.775143 140051641706304 metrics.py:103] DICE score is technically 1.0, but prediction and truth arrays are empty. \n"
     ]
    },
    {
     "name": "stderr",
     "output_type": "stream",
     "text": [
      "W0502 08:50:16.785748 140051641706304 metrics.py:103] DICE score is technically 1.0, but prediction and truth arrays are empty. \n"
     ]
    },
    {
     "name": "stderr",
     "output_type": "stream",
     "text": [
      "W0502 08:50:16.796532 140051641706304 metrics.py:103] DICE score is technically 1.0, but prediction and truth arrays are empty. \n"
     ]
    },
    {
     "name": "stderr",
     "output_type": "stream",
     "text": [
      "W0502 08:50:16.807094 140051641706304 metrics.py:103] DICE score is technically 1.0, but prediction and truth arrays are empty. \n"
     ]
    },
    {
     "name": "stderr",
     "output_type": "stream",
     "text": [
      "W0502 08:50:16.817854 140051641706304 metrics.py:103] DICE score is technically 1.0, but prediction and truth arrays are empty. \n"
     ]
    },
    {
     "name": "stderr",
     "output_type": "stream",
     "text": [
      "W0502 08:50:16.828317 140051641706304 metrics.py:103] DICE score is technically 1.0, but prediction and truth arrays are empty. \n"
     ]
    },
    {
     "name": "stderr",
     "output_type": "stream",
     "text": [
      "W0502 08:50:16.839079 140051641706304 metrics.py:103] DICE score is technically 1.0, but prediction and truth arrays are empty. \n"
     ]
    },
    {
     "name": "stderr",
     "output_type": "stream",
     "text": [
      "W0502 08:50:16.849494 140051641706304 metrics.py:103] DICE score is technically 1.0, but prediction and truth arrays are empty. \n"
     ]
    },
    {
     "name": "stderr",
     "output_type": "stream",
     "text": [
      "W0502 08:50:16.860213 140051641706304 metrics.py:103] DICE score is technically 1.0, but prediction and truth arrays are empty. \n"
     ]
    },
    {
     "name": "stderr",
     "output_type": "stream",
     "text": [
      "W0502 08:50:16.870717 140051641706304 metrics.py:103] DICE score is technically 1.0, but prediction and truth arrays are empty. \n"
     ]
    },
    {
     "name": "stderr",
     "output_type": "stream",
     "text": [
      "W0502 08:50:16.881462 140051641706304 metrics.py:103] DICE score is technically 1.0, but prediction and truth arrays are empty. \n"
     ]
    },
    {
     "name": "stderr",
     "output_type": "stream",
     "text": [
      "W0502 08:50:16.892070 140051641706304 metrics.py:103] DICE score is technically 1.0, but prediction and truth arrays are empty. \n"
     ]
    },
    {
     "name": "stderr",
     "output_type": "stream",
     "text": [
      "W0502 08:50:16.902486 140051641706304 metrics.py:103] DICE score is technically 1.0, but prediction and truth arrays are empty. \n"
     ]
    },
    {
     "name": "stderr",
     "output_type": "stream",
     "text": [
      "W0502 08:50:16.913089 140051641706304 metrics.py:103] DICE score is technically 1.0, but prediction and truth arrays are empty. \n"
     ]
    },
    {
     "name": "stderr",
     "output_type": "stream",
     "text": [
      "W0502 08:50:16.923730 140051641706304 metrics.py:103] DICE score is technically 1.0, but prediction and truth arrays are empty. \n"
     ]
    },
    {
     "name": "stderr",
     "output_type": "stream",
     "text": [
      "W0502 08:50:16.934338 140051641706304 metrics.py:103] DICE score is technically 1.0, but prediction and truth arrays are empty. \n"
     ]
    },
    {
     "name": "stderr",
     "output_type": "stream",
     "text": [
      "W0502 08:50:16.944871 140051641706304 metrics.py:103] DICE score is technically 1.0, but prediction and truth arrays are empty. \n"
     ]
    },
    {
     "name": "stderr",
     "output_type": "stream",
     "text": [
      "W0502 08:50:16.955644 140051641706304 metrics.py:103] DICE score is technically 1.0, but prediction and truth arrays are empty. \n"
     ]
    },
    {
     "name": "stderr",
     "output_type": "stream",
     "text": [
      "W0502 08:50:16.966057 140051641706304 metrics.py:103] DICE score is technically 1.0, but prediction and truth arrays are empty. \n"
     ]
    },
    {
     "name": "stderr",
     "output_type": "stream",
     "text": [
      "W0502 08:50:16.976282 140051641706304 metrics.py:103] DICE score is technically 1.0, but prediction and truth arrays are empty. \n"
     ]
    },
    {
     "name": "stderr",
     "output_type": "stream",
     "text": [
      "W0502 08:50:16.986802 140051641706304 metrics.py:103] DICE score is technically 1.0, but prediction and truth arrays are empty. \n"
     ]
    },
    {
     "name": "stderr",
     "output_type": "stream",
     "text": [
      "W0502 08:50:16.997448 140051641706304 metrics.py:103] DICE score is technically 1.0, but prediction and truth arrays are empty. \n"
     ]
    },
    {
     "name": "stderr",
     "output_type": "stream",
     "text": [
      "W0502 08:50:17.007843 140051641706304 metrics.py:103] DICE score is technically 1.0, but prediction and truth arrays are empty. \n"
     ]
    },
    {
     "name": "stderr",
     "output_type": "stream",
     "text": [
      "W0502 08:50:17.018396 140051641706304 metrics.py:103] DICE score is technically 1.0, but prediction and truth arrays are empty. \n"
     ]
    },
    {
     "name": "stderr",
     "output_type": "stream",
     "text": [
      "W0502 08:50:17.029160 140051641706304 metrics.py:103] DICE score is technically 1.0, but prediction and truth arrays are empty. \n"
     ]
    },
    {
     "name": "stderr",
     "output_type": "stream",
     "text": [
      "W0502 08:50:17.039822 140051641706304 metrics.py:103] DICE score is technically 1.0, but prediction and truth arrays are empty. \n"
     ]
    },
    {
     "name": "stderr",
     "output_type": "stream",
     "text": [
      "W0502 08:50:17.050134 140051641706304 metrics.py:103] DICE score is technically 1.0, but prediction and truth arrays are empty. \n"
     ]
    },
    {
     "name": "stderr",
     "output_type": "stream",
     "text": [
      "W0502 08:50:17.060591 140051641706304 metrics.py:103] DICE score is technically 1.0, but prediction and truth arrays are empty. \n"
     ]
    },
    {
     "name": "stderr",
     "output_type": "stream",
     "text": [
      "W0502 08:50:17.071136 140051641706304 metrics.py:103] DICE score is technically 1.0, but prediction and truth arrays are empty. \n"
     ]
    },
    {
     "name": "stderr",
     "output_type": "stream",
     "text": [
      "W0502 08:50:17.081949 140051641706304 metrics.py:103] DICE score is technically 1.0, but prediction and truth arrays are empty. \n"
     ]
    },
    {
     "name": "stderr",
     "output_type": "stream",
     "text": [
      "W0502 08:50:20.649363 140051641706304 metrics.py:103] DICE score is technically 1.0, but prediction and truth arrays are empty. \n"
     ]
    },
    {
     "name": "stderr",
     "output_type": "stream",
     "text": [
      "W0502 08:50:20.660352 140051641706304 metrics.py:103] DICE score is technically 1.0, but prediction and truth arrays are empty. \n"
     ]
    },
    {
     "name": "stderr",
     "output_type": "stream",
     "text": [
      "W0502 08:50:20.670732 140051641706304 metrics.py:103] DICE score is technically 1.0, but prediction and truth arrays are empty. \n"
     ]
    },
    {
     "name": "stderr",
     "output_type": "stream",
     "text": [
      "W0502 08:50:20.681311 140051641706304 metrics.py:103] DICE score is technically 1.0, but prediction and truth arrays are empty. \n"
     ]
    },
    {
     "name": "stderr",
     "output_type": "stream",
     "text": [
      "W0502 08:50:20.691690 140051641706304 metrics.py:103] DICE score is technically 1.0, but prediction and truth arrays are empty. \n"
     ]
    },
    {
     "name": "stderr",
     "output_type": "stream",
     "text": [
      "W0502 08:50:20.702410 140051641706304 metrics.py:103] DICE score is technically 1.0, but prediction and truth arrays are empty. \n"
     ]
    },
    {
     "name": "stderr",
     "output_type": "stream",
     "text": [
      "W0502 08:50:20.713017 140051641706304 metrics.py:103] DICE score is technically 1.0, but prediction and truth arrays are empty. \n"
     ]
    },
    {
     "name": "stderr",
     "output_type": "stream",
     "text": [
      "W0502 08:50:20.723552 140051641706304 metrics.py:103] DICE score is technically 1.0, but prediction and truth arrays are empty. \n"
     ]
    },
    {
     "name": "stderr",
     "output_type": "stream",
     "text": [
      "W0502 08:50:20.734227 140051641706304 metrics.py:103] DICE score is technically 1.0, but prediction and truth arrays are empty. \n"
     ]
    },
    {
     "name": "stderr",
     "output_type": "stream",
     "text": [
      "W0502 08:50:20.745058 140051641706304 metrics.py:103] DICE score is technically 1.0, but prediction and truth arrays are empty. \n"
     ]
    },
    {
     "name": "stderr",
     "output_type": "stream",
     "text": [
      "W0502 08:50:20.755685 140051641706304 metrics.py:103] DICE score is technically 1.0, but prediction and truth arrays are empty. \n"
     ]
    },
    {
     "name": "stderr",
     "output_type": "stream",
     "text": [
      "W0502 08:50:20.766221 140051641706304 metrics.py:103] DICE score is technically 1.0, but prediction and truth arrays are empty. \n"
     ]
    },
    {
     "name": "stderr",
     "output_type": "stream",
     "text": [
      "W0502 08:50:20.776601 140051641706304 metrics.py:103] DICE score is technically 1.0, but prediction and truth arrays are empty. \n"
     ]
    },
    {
     "name": "stderr",
     "output_type": "stream",
     "text": [
      "W0502 08:50:20.787032 140051641706304 metrics.py:103] DICE score is technically 1.0, but prediction and truth arrays are empty. \n"
     ]
    },
    {
     "name": "stderr",
     "output_type": "stream",
     "text": [
      "W0502 08:50:20.797474 140051641706304 metrics.py:103] DICE score is technically 1.0, but prediction and truth arrays are empty. \n"
     ]
    },
    {
     "name": "stderr",
     "output_type": "stream",
     "text": [
      "W0502 08:50:20.808174 140051641706304 metrics.py:103] DICE score is technically 1.0, but prediction and truth arrays are empty. \n"
     ]
    },
    {
     "name": "stderr",
     "output_type": "stream",
     "text": [
      "W0502 08:50:20.818734 140051641706304 metrics.py:103] DICE score is technically 1.0, but prediction and truth arrays are empty. \n"
     ]
    },
    {
     "name": "stderr",
     "output_type": "stream",
     "text": [
      "W0502 08:50:20.829142 140051641706304 metrics.py:103] DICE score is technically 1.0, but prediction and truth arrays are empty. \n"
     ]
    },
    {
     "name": "stderr",
     "output_type": "stream",
     "text": [
      "W0502 08:50:20.839637 140051641706304 metrics.py:103] DICE score is technically 1.0, but prediction and truth arrays are empty. \n"
     ]
    },
    {
     "name": "stderr",
     "output_type": "stream",
     "text": [
      "W0502 08:50:20.849999 140051641706304 metrics.py:103] DICE score is technically 1.0, but prediction and truth arrays are empty. \n"
     ]
    },
    {
     "name": "stderr",
     "output_type": "stream",
     "text": [
      "W0502 08:50:20.860640 140051641706304 metrics.py:103] DICE score is technically 1.0, but prediction and truth arrays are empty. \n"
     ]
    },
    {
     "name": "stderr",
     "output_type": "stream",
     "text": [
      "W0502 08:50:20.871006 140051641706304 metrics.py:103] DICE score is technically 1.0, but prediction and truth arrays are empty. \n"
     ]
    },
    {
     "name": "stderr",
     "output_type": "stream",
     "text": [
      "W0502 08:50:20.881472 140051641706304 metrics.py:103] DICE score is technically 1.0, but prediction and truth arrays are empty. \n"
     ]
    },
    {
     "name": "stderr",
     "output_type": "stream",
     "text": [
      "W0502 08:50:20.892174 140051641706304 metrics.py:103] DICE score is technically 1.0, but prediction and truth arrays are empty. \n"
     ]
    },
    {
     "name": "stderr",
     "output_type": "stream",
     "text": [
      "W0502 08:50:20.902716 140051641706304 metrics.py:103] DICE score is technically 1.0, but prediction and truth arrays are empty. \n"
     ]
    },
    {
     "name": "stderr",
     "output_type": "stream",
     "text": [
      "W0502 08:50:20.913305 140051641706304 metrics.py:103] DICE score is technically 1.0, but prediction and truth arrays are empty. \n"
     ]
    },
    {
     "name": "stderr",
     "output_type": "stream",
     "text": [
      "W0502 08:50:20.924228 140051641706304 metrics.py:103] DICE score is technically 1.0, but prediction and truth arrays are empty. \n"
     ]
    },
    {
     "name": "stderr",
     "output_type": "stream",
     "text": [
      "W0502 08:50:20.934760 140051641706304 metrics.py:103] DICE score is technically 1.0, but prediction and truth arrays are empty. \n"
     ]
    },
    {
     "name": "stderr",
     "output_type": "stream",
     "text": [
      "W0502 08:50:20.945087 140051641706304 metrics.py:103] DICE score is technically 1.0, but prediction and truth arrays are empty. \n"
     ]
    },
    {
     "name": "stderr",
     "output_type": "stream",
     "text": [
      "W0502 08:50:20.955681 140051641706304 metrics.py:103] DICE score is technically 1.0, but prediction and truth arrays are empty. \n"
     ]
    },
    {
     "name": "stderr",
     "output_type": "stream",
     "text": [
      "W0502 08:50:20.966162 140051641706304 metrics.py:103] DICE score is technically 1.0, but prediction and truth arrays are empty. \n"
     ]
    },
    {
     "name": "stderr",
     "output_type": "stream",
     "text": [
      "W0502 08:50:20.976589 140051641706304 metrics.py:103] DICE score is technically 1.0, but prediction and truth arrays are empty. \n"
     ]
    },
    {
     "name": "stderr",
     "output_type": "stream",
     "text": [
      "W0502 08:50:20.986894 140051641706304 metrics.py:103] DICE score is technically 1.0, but prediction and truth arrays are empty. \n"
     ]
    },
    {
     "name": "stderr",
     "output_type": "stream",
     "text": [
      "W0502 08:50:20.997395 140051641706304 metrics.py:103] DICE score is technically 1.0, but prediction and truth arrays are empty. \n"
     ]
    },
    {
     "name": "stderr",
     "output_type": "stream",
     "text": [
      "W0502 08:50:21.008317 140051641706304 metrics.py:103] DICE score is technically 1.0, but prediction and truth arrays are empty. \n"
     ]
    },
    {
     "name": "stderr",
     "output_type": "stream",
     "text": [
      "W0502 08:50:21.019131 140051641706304 metrics.py:103] DICE score is technically 1.0, but prediction and truth arrays are empty. \n"
     ]
    },
    {
     "name": "stderr",
     "output_type": "stream",
     "text": [
      "W0502 08:50:21.029830 140051641706304 metrics.py:103] DICE score is technically 1.0, but prediction and truth arrays are empty. \n"
     ]
    },
    {
     "name": "stderr",
     "output_type": "stream",
     "text": [
      "W0502 08:50:21.040334 140051641706304 metrics.py:103] DICE score is technically 1.0, but prediction and truth arrays are empty. \n"
     ]
    },
    {
     "name": "stderr",
     "output_type": "stream",
     "text": [
      "W0502 08:50:21.051573 140051641706304 metrics.py:103] DICE score is technically 1.0, but prediction and truth arrays are empty. \n"
     ]
    },
    {
     "name": "stderr",
     "output_type": "stream",
     "text": [
      "W0502 08:50:21.061789 140051641706304 metrics.py:103] DICE score is technically 1.0, but prediction and truth arrays are empty. \n"
     ]
    },
    {
     "name": "stderr",
     "output_type": "stream",
     "text": [
      "W0502 08:51:12.717443 140051641706304 metrics.py:103] DICE score is technically 1.0, but prediction and truth arrays are empty. \n"
     ]
    },
    {
     "name": "stderr",
     "output_type": "stream",
     "text": [
      "W0502 08:51:12.728235 140051641706304 metrics.py:103] DICE score is technically 1.0, but prediction and truth arrays are empty. \n"
     ]
    },
    {
     "name": "stderr",
     "output_type": "stream",
     "text": [
      "W0502 08:51:12.739292 140051641706304 metrics.py:103] DICE score is technically 1.0, but prediction and truth arrays are empty. \n"
     ]
    },
    {
     "name": "stderr",
     "output_type": "stream",
     "text": [
      "W0502 08:51:12.750328 140051641706304 metrics.py:103] DICE score is technically 1.0, but prediction and truth arrays are empty. \n"
     ]
    },
    {
     "name": "stderr",
     "output_type": "stream",
     "text": [
      "W0502 08:51:12.760822 140051641706304 metrics.py:103] DICE score is technically 1.0, but prediction and truth arrays are empty. \n"
     ]
    },
    {
     "name": "stderr",
     "output_type": "stream",
     "text": [
      "W0502 08:51:12.771487 140051641706304 metrics.py:103] DICE score is technically 1.0, but prediction and truth arrays are empty. \n"
     ]
    },
    {
     "name": "stderr",
     "output_type": "stream",
     "text": [
      "W0502 08:51:12.782259 140051641706304 metrics.py:103] DICE score is technically 1.0, but prediction and truth arrays are empty. \n"
     ]
    },
    {
     "name": "stderr",
     "output_type": "stream",
     "text": [
      "W0502 08:51:12.792906 140051641706304 metrics.py:103] DICE score is technically 1.0, but prediction and truth arrays are empty. \n"
     ]
    },
    {
     "name": "stderr",
     "output_type": "stream",
     "text": [
      "W0502 08:51:12.803504 140051641706304 metrics.py:103] DICE score is technically 1.0, but prediction and truth arrays are empty. \n"
     ]
    },
    {
     "name": "stderr",
     "output_type": "stream",
     "text": [
      "W0502 08:51:12.814132 140051641706304 metrics.py:103] DICE score is technically 1.0, but prediction and truth arrays are empty. \n"
     ]
    },
    {
     "name": "stderr",
     "output_type": "stream",
     "text": [
      "W0502 08:51:12.825137 140051641706304 metrics.py:103] DICE score is technically 1.0, but prediction and truth arrays are empty. \n"
     ]
    },
    {
     "name": "stderr",
     "output_type": "stream",
     "text": [
      "W0502 08:51:12.835828 140051641706304 metrics.py:103] DICE score is technically 1.0, but prediction and truth arrays are empty. \n"
     ]
    },
    {
     "name": "stderr",
     "output_type": "stream",
     "text": [
      "W0502 08:51:12.846143 140051641706304 metrics.py:103] DICE score is technically 1.0, but prediction and truth arrays are empty. \n"
     ]
    },
    {
     "name": "stderr",
     "output_type": "stream",
     "text": [
      "W0502 08:51:12.866962 140051641706304 metrics.py:103] DICE score is technically 1.0, but prediction and truth arrays are empty. \n"
     ]
    },
    {
     "name": "stderr",
     "output_type": "stream",
     "text": [
      "W0502 08:51:12.877616 140051641706304 metrics.py:103] DICE score is technically 1.0, but prediction and truth arrays are empty. \n"
     ]
    },
    {
     "name": "stderr",
     "output_type": "stream",
     "text": [
      "W0502 08:51:14.179235 140051641706304 metrics.py:103] DICE score is technically 1.0, but prediction and truth arrays are empty. \n"
     ]
    },
    {
     "name": "stderr",
     "output_type": "stream",
     "text": [
      "W0502 08:51:14.190110 140051641706304 metrics.py:103] DICE score is technically 1.0, but prediction and truth arrays are empty. \n"
     ]
    },
    {
     "name": "stderr",
     "output_type": "stream",
     "text": [
      "W0502 08:51:14.200912 140051641706304 metrics.py:103] DICE score is technically 1.0, but prediction and truth arrays are empty. \n"
     ]
    },
    {
     "name": "stderr",
     "output_type": "stream",
     "text": [
      "W0502 08:51:14.211603 140051641706304 metrics.py:103] DICE score is technically 1.0, but prediction and truth arrays are empty. \n"
     ]
    },
    {
     "name": "stderr",
     "output_type": "stream",
     "text": [
      "W0502 08:51:14.222907 140051641706304 metrics.py:103] DICE score is technically 1.0, but prediction and truth arrays are empty. \n"
     ]
    },
    {
     "name": "stderr",
     "output_type": "stream",
     "text": [
      "W0502 08:51:14.233779 140051641706304 metrics.py:103] DICE score is technically 1.0, but prediction and truth arrays are empty. \n"
     ]
    },
    {
     "name": "stderr",
     "output_type": "stream",
     "text": [
      "W0502 08:51:14.244446 140051641706304 metrics.py:103] DICE score is technically 1.0, but prediction and truth arrays are empty. \n"
     ]
    },
    {
     "name": "stderr",
     "output_type": "stream",
     "text": [
      "W0502 08:51:14.274195 140051641706304 metrics.py:103] DICE score is technically 1.0, but prediction and truth arrays are empty. \n"
     ]
    },
    {
     "name": "stderr",
     "output_type": "stream",
     "text": [
      "W0502 08:51:14.284892 140051641706304 metrics.py:103] DICE score is technically 1.0, but prediction and truth arrays are empty. \n"
     ]
    },
    {
     "name": "stderr",
     "output_type": "stream",
     "text": [
      "W0502 08:51:14.295541 140051641706304 metrics.py:103] DICE score is technically 1.0, but prediction and truth arrays are empty. \n"
     ]
    },
    {
     "name": "stderr",
     "output_type": "stream",
     "text": [
      "W0502 08:51:14.306222 140051641706304 metrics.py:103] DICE score is technically 1.0, but prediction and truth arrays are empty. \n"
     ]
    },
    {
     "name": "stderr",
     "output_type": "stream",
     "text": [
      "W0502 08:51:14.325900 140051641706304 metrics.py:103] DICE score is technically 1.0, but prediction and truth arrays are empty. \n"
     ]
    },
    {
     "name": "stderr",
     "output_type": "stream",
     "text": [
      "W0502 08:51:14.345753 140051641706304 metrics.py:103] DICE score is technically 1.0, but prediction and truth arrays are empty. \n"
     ]
    },
    {
     "name": "stderr",
     "output_type": "stream",
     "text": [
      "W0502 08:51:14.395115 140051641706304 metrics.py:103] DICE score is technically 1.0, but prediction and truth arrays are empty. \n"
     ]
    },
    {
     "name": "stderr",
     "output_type": "stream",
     "text": [
      "W0502 08:51:14.406117 140051641706304 metrics.py:103] DICE score is technically 1.0, but prediction and truth arrays are empty. \n"
     ]
    },
    {
     "name": "stderr",
     "output_type": "stream",
     "text": [
      "W0502 08:51:14.416971 140051641706304 metrics.py:103] DICE score is technically 1.0, but prediction and truth arrays are empty. \n"
     ]
    },
    {
     "name": "stderr",
     "output_type": "stream",
     "text": [
      "W0502 08:51:15.151276 140051641706304 metrics.py:103] DICE score is technically 1.0, but prediction and truth arrays are empty. \n"
     ]
    },
    {
     "name": "stderr",
     "output_type": "stream",
     "text": [
      "W0502 08:51:15.162621 140051641706304 metrics.py:103] DICE score is technically 1.0, but prediction and truth arrays are empty. \n"
     ]
    },
    {
     "name": "stderr",
     "output_type": "stream",
     "text": [
      "W0502 08:51:15.173732 140051641706304 metrics.py:103] DICE score is technically 1.0, but prediction and truth arrays are empty. \n"
     ]
    },
    {
     "name": "stderr",
     "output_type": "stream",
     "text": [
      "W0502 08:51:17.907927 140051641706304 metrics.py:103] DICE score is technically 1.0, but prediction and truth arrays are empty. \n"
     ]
    },
    {
     "name": "stderr",
     "output_type": "stream",
     "text": [
      "W0502 08:51:17.918872 140051641706304 metrics.py:103] DICE score is technically 1.0, but prediction and truth arrays are empty. \n"
     ]
    },
    {
     "name": "stderr",
     "output_type": "stream",
     "text": [
      "W0502 08:51:17.929929 140051641706304 metrics.py:103] DICE score is technically 1.0, but prediction and truth arrays are empty. \n"
     ]
    },
    {
     "name": "stderr",
     "output_type": "stream",
     "text": [
      "W0502 08:51:17.940308 140051641706304 metrics.py:103] DICE score is technically 1.0, but prediction and truth arrays are empty. \n"
     ]
    },
    {
     "name": "stderr",
     "output_type": "stream",
     "text": [
      "W0502 08:51:17.950539 140051641706304 metrics.py:103] DICE score is technically 1.0, but prediction and truth arrays are empty. \n"
     ]
    },
    {
     "name": "stderr",
     "output_type": "stream",
     "text": [
      "W0502 08:51:17.961384 140051641706304 metrics.py:103] DICE score is technically 1.0, but prediction and truth arrays are empty. \n"
     ]
    },
    {
     "name": "stderr",
     "output_type": "stream",
     "text": [
      "W0502 08:51:17.971560 140051641706304 metrics.py:103] DICE score is technically 1.0, but prediction and truth arrays are empty. \n"
     ]
    },
    {
     "name": "stderr",
     "output_type": "stream",
     "text": [
      "W0502 08:51:17.982232 140051641706304 metrics.py:103] DICE score is technically 1.0, but prediction and truth arrays are empty. \n"
     ]
    },
    {
     "name": "stderr",
     "output_type": "stream",
     "text": [
      "W0502 08:51:17.993177 140051641706304 metrics.py:103] DICE score is technically 1.0, but prediction and truth arrays are empty. \n"
     ]
    },
    {
     "name": "stderr",
     "output_type": "stream",
     "text": [
      "W0502 08:51:18.004912 140051641706304 metrics.py:103] DICE score is technically 1.0, but prediction and truth arrays are empty. \n"
     ]
    },
    {
     "name": "stderr",
     "output_type": "stream",
     "text": [
      "W0502 08:51:18.015697 140051641706304 metrics.py:103] DICE score is technically 1.0, but prediction and truth arrays are empty. \n"
     ]
    },
    {
     "name": "stderr",
     "output_type": "stream",
     "text": [
      "W0502 08:51:18.026701 140051641706304 metrics.py:103] DICE score is technically 1.0, but prediction and truth arrays are empty. \n"
     ]
    },
    {
     "name": "stderr",
     "output_type": "stream",
     "text": [
      "W0502 08:51:18.037595 140051641706304 metrics.py:103] DICE score is technically 1.0, but prediction and truth arrays are empty. \n"
     ]
    },
    {
     "name": "stderr",
     "output_type": "stream",
     "text": [
      "W0502 08:51:18.048545 140051641706304 metrics.py:103] DICE score is technically 1.0, but prediction and truth arrays are empty. \n"
     ]
    },
    {
     "name": "stderr",
     "output_type": "stream",
     "text": [
      "W0502 08:51:18.059600 140051641706304 metrics.py:103] DICE score is technically 1.0, but prediction and truth arrays are empty. \n"
     ]
    },
    {
     "name": "stderr",
     "output_type": "stream",
     "text": [
      "W0502 08:51:18.070318 140051641706304 metrics.py:103] DICE score is technically 1.0, but prediction and truth arrays are empty. \n"
     ]
    },
    {
     "name": "stderr",
     "output_type": "stream",
     "text": [
      "W0502 08:51:18.081150 140051641706304 metrics.py:103] DICE score is technically 1.0, but prediction and truth arrays are empty. \n"
     ]
    },
    {
     "name": "stderr",
     "output_type": "stream",
     "text": [
      "W0502 08:51:18.091280 140051641706304 metrics.py:103] DICE score is technically 1.0, but prediction and truth arrays are empty. \n"
     ]
    },
    {
     "name": "stderr",
     "output_type": "stream",
     "text": [
      "W0502 08:51:18.102049 140051641706304 metrics.py:103] DICE score is technically 1.0, but prediction and truth arrays are empty. \n"
     ]
    },
    {
     "name": "stderr",
     "output_type": "stream",
     "text": [
      "W0502 08:51:18.112875 140051641706304 metrics.py:103] DICE score is technically 1.0, but prediction and truth arrays are empty. \n"
     ]
    },
    {
     "name": "stderr",
     "output_type": "stream",
     "text": [
      "W0502 08:51:18.123810 140051641706304 metrics.py:103] DICE score is technically 1.0, but prediction and truth arrays are empty. \n"
     ]
    },
    {
     "name": "stderr",
     "output_type": "stream",
     "text": [
      "W0502 08:51:18.134793 140051641706304 metrics.py:103] DICE score is technically 1.0, but prediction and truth arrays are empty. \n"
     ]
    },
    {
     "name": "stderr",
     "output_type": "stream",
     "text": [
      "W0502 08:51:18.145835 140051641706304 metrics.py:103] DICE score is technically 1.0, but prediction and truth arrays are empty. \n"
     ]
    },
    {
     "name": "stderr",
     "output_type": "stream",
     "text": [
      "W0502 08:51:18.156809 140051641706304 metrics.py:103] DICE score is technically 1.0, but prediction and truth arrays are empty. \n"
     ]
    },
    {
     "name": "stderr",
     "output_type": "stream",
     "text": [
      "W0502 08:51:18.167737 140051641706304 metrics.py:103] DICE score is technically 1.0, but prediction and truth arrays are empty. \n"
     ]
    },
    {
     "name": "stderr",
     "output_type": "stream",
     "text": [
      "W0502 08:51:18.178776 140051641706304 metrics.py:103] DICE score is technically 1.0, but prediction and truth arrays are empty. \n"
     ]
    },
    {
     "name": "stderr",
     "output_type": "stream",
     "text": [
      "W0502 08:51:18.189592 140051641706304 metrics.py:103] DICE score is technically 1.0, but prediction and truth arrays are empty. \n"
     ]
    },
    {
     "name": "stderr",
     "output_type": "stream",
     "text": [
      "W0502 08:51:18.200563 140051641706304 metrics.py:103] DICE score is technically 1.0, but prediction and truth arrays are empty. \n"
     ]
    },
    {
     "name": "stderr",
     "output_type": "stream",
     "text": [
      "W0502 08:51:18.211461 140051641706304 metrics.py:103] DICE score is technically 1.0, but prediction and truth arrays are empty. \n"
     ]
    },
    {
     "name": "stderr",
     "output_type": "stream",
     "text": [
      "W0502 08:51:18.222962 140051641706304 metrics.py:103] DICE score is technically 1.0, but prediction and truth arrays are empty. \n"
     ]
    },
    {
     "name": "stderr",
     "output_type": "stream",
     "text": [
      "W0502 08:51:18.568782 140051641706304 metrics.py:103] DICE score is technically 1.0, but prediction and truth arrays are empty. \n"
     ]
    },
    {
     "name": "stderr",
     "output_type": "stream",
     "text": [
      "W0502 08:51:18.600330 140051641706304 metrics.py:103] DICE score is technically 1.0, but prediction and truth arrays are empty. \n"
     ]
    },
    {
     "name": "stderr",
     "output_type": "stream",
     "text": [
      "W0502 08:51:18.611326 140051641706304 metrics.py:103] DICE score is technically 1.0, but prediction and truth arrays are empty. \n"
     ]
    },
    {
     "name": "stderr",
     "output_type": "stream",
     "text": [
      "W0502 08:51:18.622726 140051641706304 metrics.py:103] DICE score is technically 1.0, but prediction and truth arrays are empty. \n"
     ]
    },
    {
     "name": "stderr",
     "output_type": "stream",
     "text": [
      "W0502 08:51:18.633744 140051641706304 metrics.py:103] DICE score is technically 1.0, but prediction and truth arrays are empty. \n"
     ]
    },
    {
     "name": "stderr",
     "output_type": "stream",
     "text": [
      "W0502 08:51:18.644874 140051641706304 metrics.py:103] DICE score is technically 1.0, but prediction and truth arrays are empty. \n"
     ]
    },
    {
     "name": "stderr",
     "output_type": "stream",
     "text": [
      "W0502 08:51:18.655732 140051641706304 metrics.py:103] DICE score is technically 1.0, but prediction and truth arrays are empty. \n"
     ]
    },
    {
     "name": "stderr",
     "output_type": "stream",
     "text": [
      "W0502 08:51:18.666607 140051641706304 metrics.py:103] DICE score is technically 1.0, but prediction and truth arrays are empty. \n"
     ]
    },
    {
     "name": "stderr",
     "output_type": "stream",
     "text": [
      "W0502 08:51:18.677232 140051641706304 metrics.py:103] DICE score is technically 1.0, but prediction and truth arrays are empty. \n"
     ]
    },
    {
     "name": "stderr",
     "output_type": "stream",
     "text": [
      "W0502 08:51:18.687854 140051641706304 metrics.py:103] DICE score is technically 1.0, but prediction and truth arrays are empty. \n"
     ]
    },
    {
     "name": "stderr",
     "output_type": "stream",
     "text": [
      "W0502 08:51:18.698415 140051641706304 metrics.py:103] DICE score is technically 1.0, but prediction and truth arrays are empty. \n"
     ]
    },
    {
     "name": "stderr",
     "output_type": "stream",
     "text": [
      "W0502 08:51:18.709189 140051641706304 metrics.py:103] DICE score is technically 1.0, but prediction and truth arrays are empty. \n"
     ]
    },
    {
     "name": "stderr",
     "output_type": "stream",
     "text": [
      "W0502 08:51:18.720067 140051641706304 metrics.py:103] DICE score is technically 1.0, but prediction and truth arrays are empty. \n"
     ]
    },
    {
     "name": "stderr",
     "output_type": "stream",
     "text": [
      "W0502 08:51:18.730822 140051641706304 metrics.py:103] DICE score is technically 1.0, but prediction and truth arrays are empty. \n"
     ]
    },
    {
     "name": "stderr",
     "output_type": "stream",
     "text": [
      "W0502 08:51:18.741829 140051641706304 metrics.py:103] DICE score is technically 1.0, but prediction and truth arrays are empty. \n"
     ]
    },
    {
     "name": "stderr",
     "output_type": "stream",
     "text": [
      "W0502 08:51:18.752550 140051641706304 metrics.py:103] DICE score is technically 1.0, but prediction and truth arrays are empty. \n"
     ]
    },
    {
     "name": "stderr",
     "output_type": "stream",
     "text": [
      "W0502 08:51:18.763471 140051641706304 metrics.py:103] DICE score is technically 1.0, but prediction and truth arrays are empty. \n"
     ]
    },
    {
     "name": "stderr",
     "output_type": "stream",
     "text": [
      "W0502 08:51:18.774686 140051641706304 metrics.py:103] DICE score is technically 1.0, but prediction and truth arrays are empty. \n"
     ]
    },
    {
     "name": "stderr",
     "output_type": "stream",
     "text": [
      "W0502 08:51:18.785481 140051641706304 metrics.py:103] DICE score is technically 1.0, but prediction and truth arrays are empty. \n"
     ]
    },
    {
     "name": "stderr",
     "output_type": "stream",
     "text": [
      "W0502 08:51:18.795777 140051641706304 metrics.py:103] DICE score is technically 1.0, but prediction and truth arrays are empty. \n"
     ]
    },
    {
     "name": "stderr",
     "output_type": "stream",
     "text": [
      "W0502 08:51:18.806772 140051641706304 metrics.py:103] DICE score is technically 1.0, but prediction and truth arrays are empty. \n"
     ]
    },
    {
     "name": "stderr",
     "output_type": "stream",
     "text": [
      "W0502 08:51:18.817559 140051641706304 metrics.py:103] DICE score is technically 1.0, but prediction and truth arrays are empty. \n"
     ]
    },
    {
     "name": "stderr",
     "output_type": "stream",
     "text": [
      "W0502 08:51:18.828833 140051641706304 metrics.py:103] DICE score is technically 1.0, but prediction and truth arrays are empty. \n"
     ]
    },
    {
     "name": "stderr",
     "output_type": "stream",
     "text": [
      "W0502 08:51:18.839709 140051641706304 metrics.py:103] DICE score is technically 1.0, but prediction and truth arrays are empty. \n"
     ]
    },
    {
     "name": "stderr",
     "output_type": "stream",
     "text": [
      "W0502 08:51:18.860350 140051641706304 metrics.py:103] DICE score is technically 1.0, but prediction and truth arrays are empty. \n"
     ]
    },
    {
     "name": "stderr",
     "output_type": "stream",
     "text": [
      "W0502 08:51:18.871258 140051641706304 metrics.py:103] DICE score is technically 1.0, but prediction and truth arrays are empty. \n"
     ]
    },
    {
     "name": "stderr",
     "output_type": "stream",
     "text": [
      "W0502 08:51:18.882006 140051641706304 metrics.py:103] DICE score is technically 1.0, but prediction and truth arrays are empty. \n"
     ]
    },
    {
     "name": "stderr",
     "output_type": "stream",
     "text": [
      "W0502 08:51:23.644314 140051641706304 metrics.py:103] DICE score is technically 1.0, but prediction and truth arrays are empty. \n"
     ]
    },
    {
     "name": "stderr",
     "output_type": "stream",
     "text": [
      "W0502 08:51:23.655523 140051641706304 metrics.py:103] DICE score is technically 1.0, but prediction and truth arrays are empty. \n"
     ]
    },
    {
     "name": "stderr",
     "output_type": "stream",
     "text": [
      "W0502 08:51:23.895678 140051641706304 metrics.py:103] DICE score is technically 1.0, but prediction and truth arrays are empty. \n"
     ]
    },
    {
     "name": "stderr",
     "output_type": "stream",
     "text": [
      "W0502 08:51:23.906982 140051641706304 metrics.py:103] DICE score is technically 1.0, but prediction and truth arrays are empty. \n"
     ]
    },
    {
     "name": "stderr",
     "output_type": "stream",
     "text": [
      "W0502 08:51:23.917969 140051641706304 metrics.py:103] DICE score is technically 1.0, but prediction and truth arrays are empty. \n"
     ]
    },
    {
     "name": "stderr",
     "output_type": "stream",
     "text": [
      "W0502 08:51:23.928578 140051641706304 metrics.py:103] DICE score is technically 1.0, but prediction and truth arrays are empty. \n"
     ]
    },
    {
     "name": "stderr",
     "output_type": "stream",
     "text": [
      "W0502 08:51:24.662826 140051641706304 metrics.py:103] DICE score is technically 1.0, but prediction and truth arrays are empty. \n"
     ]
    },
    {
     "name": "stderr",
     "output_type": "stream",
     "text": [
      "W0502 08:51:24.673720 140051641706304 metrics.py:103] DICE score is technically 1.0, but prediction and truth arrays are empty. \n"
     ]
    },
    {
     "name": "stderr",
     "output_type": "stream",
     "text": [
      "W0502 08:51:24.684433 140051641706304 metrics.py:103] DICE score is technically 1.0, but prediction and truth arrays are empty. \n"
     ]
    },
    {
     "name": "stderr",
     "output_type": "stream",
     "text": [
      "W0502 08:51:24.696021 140051641706304 metrics.py:103] DICE score is technically 1.0, but prediction and truth arrays are empty. \n"
     ]
    },
    {
     "name": "stderr",
     "output_type": "stream",
     "text": [
      "W0502 08:51:24.706726 140051641706304 metrics.py:103] DICE score is technically 1.0, but prediction and truth arrays are empty. \n"
     ]
    },
    {
     "name": "stderr",
     "output_type": "stream",
     "text": [
      "W0502 08:51:24.717122 140051641706304 metrics.py:103] DICE score is technically 1.0, but prediction and truth arrays are empty. \n"
     ]
    },
    {
     "name": "stderr",
     "output_type": "stream",
     "text": [
      "W0502 08:51:24.727814 140051641706304 metrics.py:103] DICE score is technically 1.0, but prediction and truth arrays are empty. \n"
     ]
    },
    {
     "name": "stderr",
     "output_type": "stream",
     "text": [
      "W0502 08:51:24.738794 140051641706304 metrics.py:103] DICE score is technically 1.0, but prediction and truth arrays are empty. \n"
     ]
    },
    {
     "name": "stderr",
     "output_type": "stream",
     "text": [
      "W0502 08:51:24.749908 140051641706304 metrics.py:103] DICE score is technically 1.0, but prediction and truth arrays are empty. \n"
     ]
    },
    {
     "name": "stderr",
     "output_type": "stream",
     "text": [
      "W0502 08:51:24.760694 140051641706304 metrics.py:103] DICE score is technically 1.0, but prediction and truth arrays are empty. \n"
     ]
    },
    {
     "name": "stderr",
     "output_type": "stream",
     "text": [
      "W0502 08:51:24.771167 140051641706304 metrics.py:103] DICE score is technically 1.0, but prediction and truth arrays are empty. \n"
     ]
    },
    {
     "name": "stderr",
     "output_type": "stream",
     "text": [
      "W0502 08:51:24.782048 140051641706304 metrics.py:103] DICE score is technically 1.0, but prediction and truth arrays are empty. \n"
     ]
    },
    {
     "name": "stderr",
     "output_type": "stream",
     "text": [
      "W0502 08:51:24.792752 140051641706304 metrics.py:103] DICE score is technically 1.0, but prediction and truth arrays are empty. \n"
     ]
    },
    {
     "name": "stderr",
     "output_type": "stream",
     "text": [
      "W0502 08:51:24.803432 140051641706304 metrics.py:103] DICE score is technically 1.0, but prediction and truth arrays are empty. \n"
     ]
    },
    {
     "name": "stderr",
     "output_type": "stream",
     "text": [
      "W0502 08:51:24.814452 140051641706304 metrics.py:103] DICE score is technically 1.0, but prediction and truth arrays are empty. \n"
     ]
    },
    {
     "name": "stderr",
     "output_type": "stream",
     "text": [
      "W0502 08:51:24.825161 140051641706304 metrics.py:103] DICE score is technically 1.0, but prediction and truth arrays are empty. \n"
     ]
    },
    {
     "name": "stderr",
     "output_type": "stream",
     "text": [
      "W0502 08:51:24.836072 140051641706304 metrics.py:103] DICE score is technically 1.0, but prediction and truth arrays are empty. \n"
     ]
    },
    {
     "name": "stderr",
     "output_type": "stream",
     "text": [
      "W0502 08:51:24.846888 140051641706304 metrics.py:103] DICE score is technically 1.0, but prediction and truth arrays are empty. \n"
     ]
    },
    {
     "name": "stderr",
     "output_type": "stream",
     "text": [
      "W0502 08:51:24.857658 140051641706304 metrics.py:103] DICE score is technically 1.0, but prediction and truth arrays are empty. \n"
     ]
    },
    {
     "name": "stderr",
     "output_type": "stream",
     "text": [
      "W0502 08:51:24.868795 140051641706304 metrics.py:103] DICE score is technically 1.0, but prediction and truth arrays are empty. \n"
     ]
    },
    {
     "name": "stderr",
     "output_type": "stream",
     "text": [
      "W0502 08:51:24.879656 140051641706304 metrics.py:103] DICE score is technically 1.0, but prediction and truth arrays are empty. \n"
     ]
    },
    {
     "name": "stderr",
     "output_type": "stream",
     "text": [
      "W0502 08:51:24.890955 140051641706304 metrics.py:103] DICE score is technically 1.0, but prediction and truth arrays are empty. \n"
     ]
    },
    {
     "name": "stderr",
     "output_type": "stream",
     "text": [
      "W0502 08:51:24.901911 140051641706304 metrics.py:103] DICE score is technically 1.0, but prediction and truth arrays are empty. \n"
     ]
    },
    {
     "name": "stderr",
     "output_type": "stream",
     "text": [
      "W0502 08:51:24.912845 140051641706304 metrics.py:103] DICE score is technically 1.0, but prediction and truth arrays are empty. \n"
     ]
    },
    {
     "name": "stderr",
     "output_type": "stream",
     "text": [
      "W0502 08:51:24.923771 140051641706304 metrics.py:103] DICE score is technically 1.0, but prediction and truth arrays are empty. \n"
     ]
    },
    {
     "name": "stderr",
     "output_type": "stream",
     "text": [
      "W0502 08:51:24.934778 140051641706304 metrics.py:103] DICE score is technically 1.0, but prediction and truth arrays are empty. \n"
     ]
    },
    {
     "name": "stderr",
     "output_type": "stream",
     "text": [
      "W0502 08:51:24.945680 140051641706304 metrics.py:103] DICE score is technically 1.0, but prediction and truth arrays are empty. \n"
     ]
    },
    {
     "name": "stderr",
     "output_type": "stream",
     "text": [
      "W0502 08:51:24.956684 140051641706304 metrics.py:103] DICE score is technically 1.0, but prediction and truth arrays are empty. \n"
     ]
    },
    {
     "name": "stderr",
     "output_type": "stream",
     "text": [
      "W0502 08:51:24.976998 140051641706304 metrics.py:103] DICE score is technically 1.0, but prediction and truth arrays are empty. \n"
     ]
    },
    {
     "name": "stderr",
     "output_type": "stream",
     "text": [
      "W0502 08:51:25.315370 140051641706304 metrics.py:103] DICE score is technically 1.0, but prediction and truth arrays are empty. \n"
     ]
    },
    {
     "name": "stderr",
     "output_type": "stream",
     "text": [
      "W0502 08:51:25.326567 140051641706304 metrics.py:103] DICE score is technically 1.0, but prediction and truth arrays are empty. \n"
     ]
    },
    {
     "name": "stderr",
     "output_type": "stream",
     "text": [
      "W0502 08:51:25.337218 140051641706304 metrics.py:103] DICE score is technically 1.0, but prediction and truth arrays are empty. \n"
     ]
    },
    {
     "name": "stderr",
     "output_type": "stream",
     "text": [
      "W0502 08:51:25.348049 140051641706304 metrics.py:103] DICE score is technically 1.0, but prediction and truth arrays are empty. \n"
     ]
    },
    {
     "name": "stderr",
     "output_type": "stream",
     "text": [
      "W0502 08:51:25.358600 140051641706304 metrics.py:103] DICE score is technically 1.0, but prediction and truth arrays are empty. \n"
     ]
    },
    {
     "name": "stderr",
     "output_type": "stream",
     "text": [
      "W0502 08:51:25.369273 140051641706304 metrics.py:103] DICE score is technically 1.0, but prediction and truth arrays are empty. \n"
     ]
    },
    {
     "name": "stderr",
     "output_type": "stream",
     "text": [
      "W0502 08:51:25.380075 140051641706304 metrics.py:103] DICE score is technically 1.0, but prediction and truth arrays are empty. \n"
     ]
    },
    {
     "name": "stderr",
     "output_type": "stream",
     "text": [
      "W0502 08:51:25.391103 140051641706304 metrics.py:103] DICE score is technically 1.0, but prediction and truth arrays are empty. \n"
     ]
    },
    {
     "name": "stderr",
     "output_type": "stream",
     "text": [
      "W0502 08:51:25.401826 140051641706304 metrics.py:103] DICE score is technically 1.0, but prediction and truth arrays are empty. \n"
     ]
    },
    {
     "name": "stderr",
     "output_type": "stream",
     "text": [
      "W0502 08:51:25.412478 140051641706304 metrics.py:103] DICE score is technically 1.0, but prediction and truth arrays are empty. \n"
     ]
    },
    {
     "name": "stderr",
     "output_type": "stream",
     "text": [
      "W0502 08:51:25.423285 140051641706304 metrics.py:103] DICE score is technically 1.0, but prediction and truth arrays are empty. \n"
     ]
    },
    {
     "name": "stderr",
     "output_type": "stream",
     "text": [
      "W0502 08:51:25.434165 140051641706304 metrics.py:103] DICE score is technically 1.0, but prediction and truth arrays are empty. \n"
     ]
    },
    {
     "name": "stderr",
     "output_type": "stream",
     "text": [
      "W0502 08:51:25.445219 140051641706304 metrics.py:103] DICE score is technically 1.0, but prediction and truth arrays are empty. \n"
     ]
    },
    {
     "name": "stderr",
     "output_type": "stream",
     "text": [
      "W0502 08:51:25.455704 140051641706304 metrics.py:103] DICE score is technically 1.0, but prediction and truth arrays are empty. \n"
     ]
    },
    {
     "name": "stderr",
     "output_type": "stream",
     "text": [
      "W0502 08:51:25.466401 140051641706304 metrics.py:103] DICE score is technically 1.0, but prediction and truth arrays are empty. \n"
     ]
    },
    {
     "name": "stderr",
     "output_type": "stream",
     "text": [
      "W0502 08:51:25.476766 140051641706304 metrics.py:103] DICE score is technically 1.0, but prediction and truth arrays are empty. \n"
     ]
    },
    {
     "name": "stderr",
     "output_type": "stream",
     "text": [
      "W0502 08:51:25.487459 140051641706304 metrics.py:103] DICE score is technically 1.0, but prediction and truth arrays are empty. \n"
     ]
    },
    {
     "name": "stderr",
     "output_type": "stream",
     "text": [
      "W0502 08:51:25.498034 140051641706304 metrics.py:103] DICE score is technically 1.0, but prediction and truth arrays are empty. \n"
     ]
    },
    {
     "name": "stderr",
     "output_type": "stream",
     "text": [
      "W0502 08:51:25.508787 140051641706304 metrics.py:103] DICE score is technically 1.0, but prediction and truth arrays are empty. \n"
     ]
    },
    {
     "name": "stderr",
     "output_type": "stream",
     "text": [
      "W0502 08:51:25.519425 140051641706304 metrics.py:103] DICE score is technically 1.0, but prediction and truth arrays are empty. \n"
     ]
    },
    {
     "name": "stderr",
     "output_type": "stream",
     "text": [
      "W0502 08:51:25.530384 140051641706304 metrics.py:103] DICE score is technically 1.0, but prediction and truth arrays are empty. \n"
     ]
    },
    {
     "name": "stderr",
     "output_type": "stream",
     "text": [
      "W0502 08:51:25.541488 140051641706304 metrics.py:103] DICE score is technically 1.0, but prediction and truth arrays are empty. \n"
     ]
    },
    {
     "name": "stderr",
     "output_type": "stream",
     "text": [
      "W0502 08:51:25.552629 140051641706304 metrics.py:103] DICE score is technically 1.0, but prediction and truth arrays are empty. \n"
     ]
    },
    {
     "name": "stderr",
     "output_type": "stream",
     "text": [
      "W0502 08:51:25.563805 140051641706304 metrics.py:103] DICE score is technically 1.0, but prediction and truth arrays are empty. \n"
     ]
    },
    {
     "name": "stderr",
     "output_type": "stream",
     "text": [
      "W0502 08:51:25.575397 140051641706304 metrics.py:103] DICE score is technically 1.0, but prediction and truth arrays are empty. \n"
     ]
    },
    {
     "name": "stderr",
     "output_type": "stream",
     "text": [
      "W0502 08:51:25.586276 140051641706304 metrics.py:103] DICE score is technically 1.0, but prediction and truth arrays are empty. \n"
     ]
    },
    {
     "name": "stderr",
     "output_type": "stream",
     "text": [
      "W0502 08:51:25.597139 140051641706304 metrics.py:103] DICE score is technically 1.0, but prediction and truth arrays are empty. \n"
     ]
    },
    {
     "name": "stderr",
     "output_type": "stream",
     "text": [
      "W0502 08:51:25.608206 140051641706304 metrics.py:103] DICE score is technically 1.0, but prediction and truth arrays are empty. \n"
     ]
    },
    {
     "name": "stderr",
     "output_type": "stream",
     "text": [
      "W0502 08:51:25.629105 140051641706304 metrics.py:103] DICE score is technically 1.0, but prediction and truth arrays are empty. \n"
     ]
    },
    {
     "name": "stderr",
     "output_type": "stream",
     "text": [
      "W0502 08:51:27.009546 140051641706304 metrics.py:103] DICE score is technically 1.0, but prediction and truth arrays are empty. \n"
     ]
    },
    {
     "name": "stderr",
     "output_type": "stream",
     "text": [
      "W0502 08:51:27.020963 140051641706304 metrics.py:103] DICE score is technically 1.0, but prediction and truth arrays are empty. \n"
     ]
    },
    {
     "name": "stderr",
     "output_type": "stream",
     "text": [
      "W0502 08:51:27.032229 140051641706304 metrics.py:103] DICE score is technically 1.0, but prediction and truth arrays are empty. \n"
     ]
    },
    {
     "name": "stderr",
     "output_type": "stream",
     "text": [
      "W0502 08:51:27.043314 140051641706304 metrics.py:103] DICE score is technically 1.0, but prediction and truth arrays are empty. \n"
     ]
    },
    {
     "name": "stderr",
     "output_type": "stream",
     "text": [
      "W0502 08:51:27.054260 140051641706304 metrics.py:103] DICE score is technically 1.0, but prediction and truth arrays are empty. \n"
     ]
    },
    {
     "name": "stderr",
     "output_type": "stream",
     "text": [
      "W0502 08:51:27.064880 140051641706304 metrics.py:103] DICE score is technically 1.0, but prediction and truth arrays are empty. \n"
     ]
    },
    {
     "name": "stderr",
     "output_type": "stream",
     "text": [
      "W0502 08:51:27.075696 140051641706304 metrics.py:103] DICE score is technically 1.0, but prediction and truth arrays are empty. \n"
     ]
    },
    {
     "name": "stderr",
     "output_type": "stream",
     "text": [
      "W0502 08:51:27.086494 140051641706304 metrics.py:103] DICE score is technically 1.0, but prediction and truth arrays are empty. \n"
     ]
    },
    {
     "name": "stderr",
     "output_type": "stream",
     "text": [
      "W0502 08:51:27.097486 140051641706304 metrics.py:103] DICE score is technically 1.0, but prediction and truth arrays are empty. \n"
     ]
    },
    {
     "name": "stderr",
     "output_type": "stream",
     "text": [
      "W0502 08:51:27.108191 140051641706304 metrics.py:103] DICE score is technically 1.0, but prediction and truth arrays are empty. \n"
     ]
    },
    {
     "name": "stderr",
     "output_type": "stream",
     "text": [
      "W0502 08:51:27.119047 140051641706304 metrics.py:103] DICE score is technically 1.0, but prediction and truth arrays are empty. \n"
     ]
    },
    {
     "name": "stderr",
     "output_type": "stream",
     "text": [
      "W0502 08:51:27.129952 140051641706304 metrics.py:103] DICE score is technically 1.0, but prediction and truth arrays are empty. \n"
     ]
    },
    {
     "name": "stderr",
     "output_type": "stream",
     "text": [
      "W0502 08:51:27.140988 140051641706304 metrics.py:103] DICE score is technically 1.0, but prediction and truth arrays are empty. \n"
     ]
    },
    {
     "name": "stderr",
     "output_type": "stream",
     "text": [
      "W0502 08:51:27.151666 140051641706304 metrics.py:103] DICE score is technically 1.0, but prediction and truth arrays are empty. \n"
     ]
    },
    {
     "name": "stderr",
     "output_type": "stream",
     "text": [
      "W0502 08:51:27.162430 140051641706304 metrics.py:103] DICE score is technically 1.0, but prediction and truth arrays are empty. \n"
     ]
    },
    {
     "name": "stderr",
     "output_type": "stream",
     "text": [
      "W0502 08:51:27.173137 140051641706304 metrics.py:103] DICE score is technically 1.0, but prediction and truth arrays are empty. \n"
     ]
    },
    {
     "name": "stderr",
     "output_type": "stream",
     "text": [
      "W0502 08:51:27.184010 140051641706304 metrics.py:103] DICE score is technically 1.0, but prediction and truth arrays are empty. \n"
     ]
    },
    {
     "name": "stderr",
     "output_type": "stream",
     "text": [
      "W0502 08:51:27.194706 140051641706304 metrics.py:103] DICE score is technically 1.0, but prediction and truth arrays are empty. \n"
     ]
    },
    {
     "name": "stderr",
     "output_type": "stream",
     "text": [
      "W0502 08:51:27.205885 140051641706304 metrics.py:103] DICE score is technically 1.0, but prediction and truth arrays are empty. \n"
     ]
    },
    {
     "name": "stderr",
     "output_type": "stream",
     "text": [
      "W0502 08:51:27.217390 140051641706304 metrics.py:103] DICE score is technically 1.0, but prediction and truth arrays are empty. \n"
     ]
    },
    {
     "name": "stderr",
     "output_type": "stream",
     "text": [
      "W0502 08:51:27.228824 140051641706304 metrics.py:103] DICE score is technically 1.0, but prediction and truth arrays are empty. \n"
     ]
    },
    {
     "name": "stderr",
     "output_type": "stream",
     "text": [
      "W0502 08:51:27.249934 140051641706304 metrics.py:103] DICE score is technically 1.0, but prediction and truth arrays are empty. \n"
     ]
    },
    {
     "name": "stderr",
     "output_type": "stream",
     "text": [
      "W0502 08:51:27.270635 140051641706304 metrics.py:103] DICE score is technically 1.0, but prediction and truth arrays are empty. \n"
     ]
    },
    {
     "name": "stderr",
     "output_type": "stream",
     "text": [
      "W0502 08:51:27.281642 140051641706304 metrics.py:103] DICE score is technically 1.0, but prediction and truth arrays are empty. \n"
     ]
    },
    {
     "name": "stderr",
     "output_type": "stream",
     "text": [
      "W0502 08:51:27.292472 140051641706304 metrics.py:103] DICE score is technically 1.0, but prediction and truth arrays are empty. \n"
     ]
    },
    {
     "name": "stderr",
     "output_type": "stream",
     "text": [
      "W0502 08:51:27.303231 140051641706304 metrics.py:103] DICE score is technically 1.0, but prediction and truth arrays are empty. \n"
     ]
    },
    {
     "name": "stderr",
     "output_type": "stream",
     "text": [
      "W0502 08:51:27.313973 140051641706304 metrics.py:103] DICE score is technically 1.0, but prediction and truth arrays are empty. \n"
     ]
    },
    {
     "name": "stderr",
     "output_type": "stream",
     "text": [
      "W0502 08:51:27.324906 140051641706304 metrics.py:103] DICE score is technically 1.0, but prediction and truth arrays are empty. \n"
     ]
    },
    {
     "name": "stderr",
     "output_type": "stream",
     "text": [
      "W0502 08:51:27.965788 140051641706304 metrics.py:103] DICE score is technically 1.0, but prediction and truth arrays are empty. \n"
     ]
    },
    {
     "name": "stderr",
     "output_type": "stream",
     "text": [
      "W0502 08:51:27.976887 140051641706304 metrics.py:103] DICE score is technically 1.0, but prediction and truth arrays are empty. \n"
     ]
    },
    {
     "name": "stderr",
     "output_type": "stream",
     "text": [
      "W0502 08:51:27.988022 140051641706304 metrics.py:103] DICE score is technically 1.0, but prediction and truth arrays are empty. \n"
     ]
    },
    {
     "name": "stderr",
     "output_type": "stream",
     "text": [
      "W0502 08:51:27.999111 140051641706304 metrics.py:103] DICE score is technically 1.0, but prediction and truth arrays are empty. \n"
     ]
    },
    {
     "name": "stderr",
     "output_type": "stream",
     "text": [
      "W0502 08:51:28.010176 140051641706304 metrics.py:103] DICE score is technically 1.0, but prediction and truth arrays are empty. \n"
     ]
    },
    {
     "name": "stderr",
     "output_type": "stream",
     "text": [
      "W0502 08:51:28.021116 140051641706304 metrics.py:103] DICE score is technically 1.0, but prediction and truth arrays are empty. \n"
     ]
    },
    {
     "name": "stderr",
     "output_type": "stream",
     "text": [
      "W0502 08:51:28.032168 140051641706304 metrics.py:103] DICE score is technically 1.0, but prediction and truth arrays are empty. \n"
     ]
    },
    {
     "name": "stderr",
     "output_type": "stream",
     "text": [
      "W0502 08:51:28.043104 140051641706304 metrics.py:103] DICE score is technically 1.0, but prediction and truth arrays are empty. \n"
     ]
    },
    {
     "name": "stderr",
     "output_type": "stream",
     "text": [
      "W0502 08:51:28.053803 140051641706304 metrics.py:103] DICE score is technically 1.0, but prediction and truth arrays are empty. \n"
     ]
    },
    {
     "name": "stderr",
     "output_type": "stream",
     "text": [
      "W0502 08:51:28.064827 140051641706304 metrics.py:103] DICE score is technically 1.0, but prediction and truth arrays are empty. \n"
     ]
    },
    {
     "name": "stderr",
     "output_type": "stream",
     "text": [
      "W0502 08:51:28.075959 140051641706304 metrics.py:103] DICE score is technically 1.0, but prediction and truth arrays are empty. \n"
     ]
    },
    {
     "name": "stderr",
     "output_type": "stream",
     "text": [
      "W0502 08:51:28.086831 140051641706304 metrics.py:103] DICE score is technically 1.0, but prediction and truth arrays are empty. \n"
     ]
    },
    {
     "name": "stderr",
     "output_type": "stream",
     "text": [
      "W0502 08:51:28.097889 140051641706304 metrics.py:103] DICE score is technically 1.0, but prediction and truth arrays are empty. \n"
     ]
    },
    {
     "name": "stderr",
     "output_type": "stream",
     "text": [
      "W0502 08:51:28.108993 140051641706304 metrics.py:103] DICE score is technically 1.0, but prediction and truth arrays are empty. \n"
     ]
    },
    {
     "name": "stderr",
     "output_type": "stream",
     "text": [
      "W0502 08:51:28.120022 140051641706304 metrics.py:103] DICE score is technically 1.0, but prediction and truth arrays are empty. \n"
     ]
    },
    {
     "name": "stderr",
     "output_type": "stream",
     "text": [
      "W0502 08:51:28.131089 140051641706304 metrics.py:103] DICE score is technically 1.0, but prediction and truth arrays are empty. \n"
     ]
    },
    {
     "name": "stderr",
     "output_type": "stream",
     "text": [
      "W0502 08:51:28.141747 140051641706304 metrics.py:103] DICE score is technically 1.0, but prediction and truth arrays are empty. \n"
     ]
    },
    {
     "name": "stderr",
     "output_type": "stream",
     "text": [
      "W0502 08:51:28.152482 140051641706304 metrics.py:103] DICE score is technically 1.0, but prediction and truth arrays are empty. \n"
     ]
    },
    {
     "name": "stderr",
     "output_type": "stream",
     "text": [
      "W0502 08:51:28.163477 140051641706304 metrics.py:103] DICE score is technically 1.0, but prediction and truth arrays are empty. \n"
     ]
    },
    {
     "name": "stderr",
     "output_type": "stream",
     "text": [
      "W0502 08:51:28.174214 140051641706304 metrics.py:103] DICE score is technically 1.0, but prediction and truth arrays are empty. \n"
     ]
    },
    {
     "name": "stderr",
     "output_type": "stream",
     "text": [
      "W0502 08:51:28.185332 140051641706304 metrics.py:103] DICE score is technically 1.0, but prediction and truth arrays are empty. \n"
     ]
    },
    {
     "name": "stderr",
     "output_type": "stream",
     "text": [
      "W0502 08:51:28.196407 140051641706304 metrics.py:103] DICE score is technically 1.0, but prediction and truth arrays are empty. \n"
     ]
    },
    {
     "name": "stderr",
     "output_type": "stream",
     "text": [
      "W0502 08:51:28.207520 140051641706304 metrics.py:103] DICE score is technically 1.0, but prediction and truth arrays are empty. \n"
     ]
    },
    {
     "name": "stderr",
     "output_type": "stream",
     "text": [
      "W0502 08:51:28.218665 140051641706304 metrics.py:103] DICE score is technically 1.0, but prediction and truth arrays are empty. \n"
     ]
    },
    {
     "name": "stderr",
     "output_type": "stream",
     "text": [
      "W0502 08:51:28.229490 140051641706304 metrics.py:103] DICE score is technically 1.0, but prediction and truth arrays are empty. \n"
     ]
    },
    {
     "name": "stderr",
     "output_type": "stream",
     "text": [
      "W0502 08:51:28.240660 140051641706304 metrics.py:103] DICE score is technically 1.0, but prediction and truth arrays are empty. \n"
     ]
    },
    {
     "name": "stderr",
     "output_type": "stream",
     "text": [
      "W0502 08:51:28.251393 140051641706304 metrics.py:103] DICE score is technically 1.0, but prediction and truth arrays are empty. \n"
     ]
    },
    {
     "name": "stderr",
     "output_type": "stream",
     "text": [
      "W0502 08:51:28.262252 140051641706304 metrics.py:103] DICE score is technically 1.0, but prediction and truth arrays are empty. \n"
     ]
    },
    {
     "name": "stderr",
     "output_type": "stream",
     "text": [
      "W0502 08:51:28.273490 140051641706304 metrics.py:103] DICE score is technically 1.0, but prediction and truth arrays are empty. \n"
     ]
    },
    {
     "name": "stderr",
     "output_type": "stream",
     "text": [
      "W0502 08:51:28.304810 140051641706304 metrics.py:103] DICE score is technically 1.0, but prediction and truth arrays are empty. \n"
     ]
    },
    {
     "name": "stderr",
     "output_type": "stream",
     "text": [
      "W0502 08:51:28.315884 140051641706304 metrics.py:103] DICE score is technically 1.0, but prediction and truth arrays are empty. \n"
     ]
    },
    {
     "name": "stderr",
     "output_type": "stream",
     "text": [
      "W0502 08:51:29.029408 140051641706304 metrics.py:103] DICE score is technically 1.0, but prediction and truth arrays are empty. \n"
     ]
    },
    {
     "name": "stderr",
     "output_type": "stream",
     "text": [
      "W0502 08:51:29.040797 140051641706304 metrics.py:103] DICE score is technically 1.0, but prediction and truth arrays are empty. \n"
     ]
    },
    {
     "name": "stderr",
     "output_type": "stream",
     "text": [
      "W0502 08:51:29.082119 140051641706304 metrics.py:103] DICE score is technically 1.0, but prediction and truth arrays are empty. \n"
     ]
    },
    {
     "name": "stderr",
     "output_type": "stream",
     "text": [
      "W0502 08:51:29.141987 140051641706304 metrics.py:103] DICE score is technically 1.0, but prediction and truth arrays are empty. \n"
     ]
    },
    {
     "name": "stderr",
     "output_type": "stream",
     "text": [
      "W0502 08:51:29.152777 140051641706304 metrics.py:103] DICE score is technically 1.0, but prediction and truth arrays are empty. \n"
     ]
    },
    {
     "name": "stderr",
     "output_type": "stream",
     "text": [
      "W0502 08:51:29.163618 140051641706304 metrics.py:103] DICE score is technically 1.0, but prediction and truth arrays are empty. \n"
     ]
    },
    {
     "name": "stderr",
     "output_type": "stream",
     "text": [
      "W0502 08:51:29.174175 140051641706304 metrics.py:103] DICE score is technically 1.0, but prediction and truth arrays are empty. \n"
     ]
    },
    {
     "name": "stderr",
     "output_type": "stream",
     "text": [
      "W0502 08:51:29.184998 140051641706304 metrics.py:103] DICE score is technically 1.0, but prediction and truth arrays are empty. \n"
     ]
    },
    {
     "name": "stderr",
     "output_type": "stream",
     "text": [
      "W0502 08:51:29.196186 140051641706304 metrics.py:103] DICE score is technically 1.0, but prediction and truth arrays are empty. \n"
     ]
    },
    {
     "name": "stderr",
     "output_type": "stream",
     "text": [
      "W0502 08:51:29.226898 140051641706304 metrics.py:103] DICE score is technically 1.0, but prediction and truth arrays are empty. \n"
     ]
    },
    {
     "name": "stderr",
     "output_type": "stream",
     "text": [
      "W0502 08:51:30.075087 140051641706304 metrics.py:103] DICE score is technically 1.0, but prediction and truth arrays are empty. \n"
     ]
    },
    {
     "name": "stderr",
     "output_type": "stream",
     "text": [
      "W0502 08:51:30.086414 140051641706304 metrics.py:103] DICE score is technically 1.0, but prediction and truth arrays are empty. \n"
     ]
    },
    {
     "name": "stderr",
     "output_type": "stream",
     "text": [
      "W0502 08:51:30.098094 140051641706304 metrics.py:103] DICE score is technically 1.0, but prediction and truth arrays are empty. \n"
     ]
    },
    {
     "name": "stderr",
     "output_type": "stream",
     "text": [
      "W0502 08:51:30.109020 140051641706304 metrics.py:103] DICE score is technically 1.0, but prediction and truth arrays are empty. \n"
     ]
    },
    {
     "name": "stderr",
     "output_type": "stream",
     "text": [
      "W0502 08:51:30.120464 140051641706304 metrics.py:103] DICE score is technically 1.0, but prediction and truth arrays are empty. \n"
     ]
    },
    {
     "name": "stderr",
     "output_type": "stream",
     "text": [
      "W0502 08:51:30.131536 140051641706304 metrics.py:103] DICE score is technically 1.0, but prediction and truth arrays are empty. \n"
     ]
    },
    {
     "name": "stderr",
     "output_type": "stream",
     "text": [
      "W0502 08:51:30.142891 140051641706304 metrics.py:103] DICE score is technically 1.0, but prediction and truth arrays are empty. \n"
     ]
    },
    {
     "name": "stderr",
     "output_type": "stream",
     "text": [
      "W0502 08:51:30.163850 140051641706304 metrics.py:103] DICE score is technically 1.0, but prediction and truth arrays are empty. \n"
     ]
    },
    {
     "name": "stderr",
     "output_type": "stream",
     "text": [
      "W0502 08:51:30.175451 140051641706304 metrics.py:103] DICE score is technically 1.0, but prediction and truth arrays are empty. \n"
     ]
    },
    {
     "name": "stderr",
     "output_type": "stream",
     "text": [
      "W0502 08:51:30.186270 140051641706304 metrics.py:103] DICE score is technically 1.0, but prediction and truth arrays are empty. \n"
     ]
    },
    {
     "name": "stderr",
     "output_type": "stream",
     "text": [
      "W0502 08:51:30.197310 140051641706304 metrics.py:103] DICE score is technically 1.0, but prediction and truth arrays are empty. \n"
     ]
    },
    {
     "name": "stderr",
     "output_type": "stream",
     "text": [
      "W0502 08:51:30.208178 140051641706304 metrics.py:103] DICE score is technically 1.0, but prediction and truth arrays are empty. \n"
     ]
    },
    {
     "name": "stderr",
     "output_type": "stream",
     "text": [
      "W0502 08:51:30.219642 140051641706304 metrics.py:103] DICE score is technically 1.0, but prediction and truth arrays are empty. \n"
     ]
    },
    {
     "name": "stderr",
     "output_type": "stream",
     "text": [
      "W0502 08:51:30.230429 140051641706304 metrics.py:103] DICE score is technically 1.0, but prediction and truth arrays are empty. \n"
     ]
    },
    {
     "name": "stderr",
     "output_type": "stream",
     "text": [
      "W0502 08:51:30.240765 140051641706304 metrics.py:103] DICE score is technically 1.0, but prediction and truth arrays are empty. \n"
     ]
    },
    {
     "name": "stderr",
     "output_type": "stream",
     "text": [
      "W0502 08:51:30.251592 140051641706304 metrics.py:103] DICE score is technically 1.0, but prediction and truth arrays are empty. \n"
     ]
    },
    {
     "name": "stderr",
     "output_type": "stream",
     "text": [
      "W0502 08:51:30.262467 140051641706304 metrics.py:103] DICE score is technically 1.0, but prediction and truth arrays are empty. \n"
     ]
    },
    {
     "name": "stderr",
     "output_type": "stream",
     "text": [
      "W0502 08:51:30.273382 140051641706304 metrics.py:103] DICE score is technically 1.0, but prediction and truth arrays are empty. \n"
     ]
    },
    {
     "name": "stderr",
     "output_type": "stream",
     "text": [
      "W0502 08:51:30.284560 140051641706304 metrics.py:103] DICE score is technically 1.0, but prediction and truth arrays are empty. \n"
     ]
    },
    {
     "name": "stderr",
     "output_type": "stream",
     "text": [
      "W0502 08:51:30.295620 140051641706304 metrics.py:103] DICE score is technically 1.0, but prediction and truth arrays are empty. \n"
     ]
    },
    {
     "name": "stderr",
     "output_type": "stream",
     "text": [
      "W0502 08:51:30.306662 140051641706304 metrics.py:103] DICE score is technically 1.0, but prediction and truth arrays are empty. \n"
     ]
    },
    {
     "name": "stderr",
     "output_type": "stream",
     "text": [
      "W0502 08:51:30.318546 140051641706304 metrics.py:103] DICE score is technically 1.0, but prediction and truth arrays are empty. \n"
     ]
    },
    {
     "name": "stderr",
     "output_type": "stream",
     "text": [
      "W0502 08:51:30.329581 140051641706304 metrics.py:103] DICE score is technically 1.0, but prediction and truth arrays are empty. \n"
     ]
    },
    {
     "name": "stderr",
     "output_type": "stream",
     "text": [
      "W0502 08:51:30.340523 140051641706304 metrics.py:103] DICE score is technically 1.0, but prediction and truth arrays are empty. \n"
     ]
    },
    {
     "name": "stderr",
     "output_type": "stream",
     "text": [
      "W0502 08:51:30.351879 140051641706304 metrics.py:103] DICE score is technically 1.0, but prediction and truth arrays are empty. \n"
     ]
    },
    {
     "name": "stderr",
     "output_type": "stream",
     "text": [
      "W0502 08:51:30.362795 140051641706304 metrics.py:103] DICE score is technically 1.0, but prediction and truth arrays are empty. \n"
     ]
    },
    {
     "name": "stderr",
     "output_type": "stream",
     "text": [
      "W0502 08:51:30.373783 140051641706304 metrics.py:103] DICE score is technically 1.0, but prediction and truth arrays are empty. \n"
     ]
    },
    {
     "name": "stderr",
     "output_type": "stream",
     "text": [
      "W0502 08:51:30.384782 140051641706304 metrics.py:103] DICE score is technically 1.0, but prediction and truth arrays are empty. \n"
     ]
    },
    {
     "name": "stderr",
     "output_type": "stream",
     "text": [
      "W0502 08:51:30.395993 140051641706304 metrics.py:103] DICE score is technically 1.0, but prediction and truth arrays are empty. \n"
     ]
    },
    {
     "name": "stderr",
     "output_type": "stream",
     "text": [
      "W0502 08:51:30.773645 140051641706304 metrics.py:103] DICE score is technically 1.0, but prediction and truth arrays are empty. \n"
     ]
    },
    {
     "name": "stderr",
     "output_type": "stream",
     "text": [
      "W0502 08:51:30.784738 140051641706304 metrics.py:103] DICE score is technically 1.0, but prediction and truth arrays are empty. \n"
     ]
    },
    {
     "name": "stderr",
     "output_type": "stream",
     "text": [
      "W0502 08:51:30.795697 140051641706304 metrics.py:103] DICE score is technically 1.0, but prediction and truth arrays are empty. \n"
     ]
    },
    {
     "name": "stderr",
     "output_type": "stream",
     "text": [
      "W0502 08:51:30.816317 140051641706304 metrics.py:103] DICE score is technically 1.0, but prediction and truth arrays are empty. \n"
     ]
    },
    {
     "name": "stderr",
     "output_type": "stream",
     "text": [
      "W0502 08:51:30.827162 140051641706304 metrics.py:103] DICE score is technically 1.0, but prediction and truth arrays are empty. \n"
     ]
    },
    {
     "name": "stderr",
     "output_type": "stream",
     "text": [
      "W0502 08:51:30.838010 140051641706304 metrics.py:103] DICE score is technically 1.0, but prediction and truth arrays are empty. \n"
     ]
    },
    {
     "name": "stderr",
     "output_type": "stream",
     "text": [
      "W0502 08:51:30.848843 140051641706304 metrics.py:103] DICE score is technically 1.0, but prediction and truth arrays are empty. \n"
     ]
    },
    {
     "name": "stderr",
     "output_type": "stream",
     "text": [
      "W0502 08:51:30.859522 140051641706304 metrics.py:103] DICE score is technically 1.0, but prediction and truth arrays are empty. \n"
     ]
    },
    {
     "name": "stderr",
     "output_type": "stream",
     "text": [
      "W0502 08:51:30.870457 140051641706304 metrics.py:103] DICE score is technically 1.0, but prediction and truth arrays are empty. \n"
     ]
    },
    {
     "name": "stderr",
     "output_type": "stream",
     "text": [
      "W0502 08:51:30.881367 140051641706304 metrics.py:103] DICE score is technically 1.0, but prediction and truth arrays are empty. \n"
     ]
    },
    {
     "name": "stderr",
     "output_type": "stream",
     "text": [
      "W0502 08:51:30.892162 140051641706304 metrics.py:103] DICE score is technically 1.0, but prediction and truth arrays are empty. \n"
     ]
    },
    {
     "name": "stderr",
     "output_type": "stream",
     "text": [
      "W0502 08:51:30.903111 140051641706304 metrics.py:103] DICE score is technically 1.0, but prediction and truth arrays are empty. \n"
     ]
    },
    {
     "name": "stderr",
     "output_type": "stream",
     "text": [
      "W0502 08:51:30.913965 140051641706304 metrics.py:103] DICE score is technically 1.0, but prediction and truth arrays are empty. \n"
     ]
    },
    {
     "name": "stderr",
     "output_type": "stream",
     "text": [
      "W0502 08:51:30.924571 140051641706304 metrics.py:103] DICE score is technically 1.0, but prediction and truth arrays are empty. \n"
     ]
    },
    {
     "name": "stderr",
     "output_type": "stream",
     "text": [
      "W0502 08:51:30.935171 140051641706304 metrics.py:103] DICE score is technically 1.0, but prediction and truth arrays are empty. \n"
     ]
    },
    {
     "name": "stderr",
     "output_type": "stream",
     "text": [
      "W0502 08:51:30.945832 140051641706304 metrics.py:103] DICE score is technically 1.0, but prediction and truth arrays are empty. \n"
     ]
    },
    {
     "name": "stderr",
     "output_type": "stream",
     "text": [
      "W0502 08:51:30.956323 140051641706304 metrics.py:103] DICE score is technically 1.0, but prediction and truth arrays are empty. \n"
     ]
    },
    {
     "name": "stderr",
     "output_type": "stream",
     "text": [
      "W0502 08:51:30.966903 140051641706304 metrics.py:103] DICE score is technically 1.0, but prediction and truth arrays are empty. \n"
     ]
    },
    {
     "name": "stderr",
     "output_type": "stream",
     "text": [
      "W0502 08:51:30.977679 140051641706304 metrics.py:103] DICE score is technically 1.0, but prediction and truth arrays are empty. \n"
     ]
    },
    {
     "name": "stderr",
     "output_type": "stream",
     "text": [
      "W0502 08:51:30.988658 140051641706304 metrics.py:103] DICE score is technically 1.0, but prediction and truth arrays are empty. \n"
     ]
    },
    {
     "name": "stderr",
     "output_type": "stream",
     "text": [
      "W0502 08:51:30.999384 140051641706304 metrics.py:103] DICE score is technically 1.0, but prediction and truth arrays are empty. \n"
     ]
    },
    {
     "name": "stderr",
     "output_type": "stream",
     "text": [
      "W0502 08:51:31.010144 140051641706304 metrics.py:103] DICE score is technically 1.0, but prediction and truth arrays are empty. \n"
     ]
    },
    {
     "name": "stderr",
     "output_type": "stream",
     "text": [
      "W0502 08:51:31.021372 140051641706304 metrics.py:103] DICE score is technically 1.0, but prediction and truth arrays are empty. \n"
     ]
    },
    {
     "name": "stderr",
     "output_type": "stream",
     "text": [
      "W0502 08:51:31.032386 140051641706304 metrics.py:103] DICE score is technically 1.0, but prediction and truth arrays are empty. \n"
     ]
    },
    {
     "name": "stderr",
     "output_type": "stream",
     "text": [
      "W0502 08:51:31.043709 140051641706304 metrics.py:103] DICE score is technically 1.0, but prediction and truth arrays are empty. \n"
     ]
    },
    {
     "name": "stderr",
     "output_type": "stream",
     "text": [
      "W0502 08:51:31.055325 140051641706304 metrics.py:103] DICE score is technically 1.0, but prediction and truth arrays are empty. \n"
     ]
    },
    {
     "name": "stderr",
     "output_type": "stream",
     "text": [
      "W0502 08:51:31.066427 140051641706304 metrics.py:103] DICE score is technically 1.0, but prediction and truth arrays are empty. \n"
     ]
    },
    {
     "name": "stderr",
     "output_type": "stream",
     "text": [
      "W0502 08:51:31.077330 140051641706304 metrics.py:103] DICE score is technically 1.0, but prediction and truth arrays are empty. \n"
     ]
    },
    {
     "name": "stderr",
     "output_type": "stream",
     "text": [
      "W0502 08:51:31.088396 140051641706304 metrics.py:103] DICE score is technically 1.0, but prediction and truth arrays are empty. \n"
     ]
    },
    {
     "name": "stderr",
     "output_type": "stream",
     "text": [
      "W0502 08:51:31.455886 140051641706304 metrics.py:103] DICE score is technically 1.0, but prediction and truth arrays are empty. \n"
     ]
    },
    {
     "name": "stderr",
     "output_type": "stream",
     "text": [
      "W0502 08:51:31.467111 140051641706304 metrics.py:103] DICE score is technically 1.0, but prediction and truth arrays are empty. \n"
     ]
    },
    {
     "name": "stderr",
     "output_type": "stream",
     "text": [
      "W0502 08:51:31.477828 140051641706304 metrics.py:103] DICE score is technically 1.0, but prediction and truth arrays are empty. \n"
     ]
    },
    {
     "name": "stderr",
     "output_type": "stream",
     "text": [
      "W0502 08:51:31.489042 140051641706304 metrics.py:103] DICE score is technically 1.0, but prediction and truth arrays are empty. \n"
     ]
    },
    {
     "name": "stderr",
     "output_type": "stream",
     "text": [
      "W0502 08:51:31.500407 140051641706304 metrics.py:103] DICE score is technically 1.0, but prediction and truth arrays are empty. \n"
     ]
    },
    {
     "name": "stderr",
     "output_type": "stream",
     "text": [
      "W0502 08:51:31.512094 140051641706304 metrics.py:103] DICE score is technically 1.0, but prediction and truth arrays are empty. \n"
     ]
    },
    {
     "name": "stderr",
     "output_type": "stream",
     "text": [
      "W0502 08:51:31.523030 140051641706304 metrics.py:103] DICE score is technically 1.0, but prediction and truth arrays are empty. \n"
     ]
    },
    {
     "name": "stderr",
     "output_type": "stream",
     "text": [
      "W0502 08:51:31.533691 140051641706304 metrics.py:103] DICE score is technically 1.0, but prediction and truth arrays are empty. \n"
     ]
    },
    {
     "name": "stderr",
     "output_type": "stream",
     "text": [
      "W0502 08:51:31.545547 140051641706304 metrics.py:103] DICE score is technically 1.0, but prediction and truth arrays are empty. \n"
     ]
    },
    {
     "name": "stderr",
     "output_type": "stream",
     "text": [
      "W0502 08:51:31.556760 140051641706304 metrics.py:103] DICE score is technically 1.0, but prediction and truth arrays are empty. \n"
     ]
    },
    {
     "name": "stderr",
     "output_type": "stream",
     "text": [
      "W0502 08:51:31.567800 140051641706304 metrics.py:103] DICE score is technically 1.0, but prediction and truth arrays are empty. \n"
     ]
    },
    {
     "name": "stderr",
     "output_type": "stream",
     "text": [
      "W0502 08:51:31.578912 140051641706304 metrics.py:103] DICE score is technically 1.0, but prediction and truth arrays are empty. \n"
     ]
    },
    {
     "name": "stderr",
     "output_type": "stream",
     "text": [
      "W0502 08:51:31.589796 140051641706304 metrics.py:103] DICE score is technically 1.0, but prediction and truth arrays are empty. \n"
     ]
    },
    {
     "name": "stderr",
     "output_type": "stream",
     "text": [
      "W0502 08:51:31.600804 140051641706304 metrics.py:103] DICE score is technically 1.0, but prediction and truth arrays are empty. \n"
     ]
    },
    {
     "name": "stderr",
     "output_type": "stream",
     "text": [
      "W0502 08:51:31.611531 140051641706304 metrics.py:103] DICE score is technically 1.0, but prediction and truth arrays are empty. \n"
     ]
    },
    {
     "name": "stderr",
     "output_type": "stream",
     "text": [
      "W0502 08:51:32.845167 140051641706304 metrics.py:103] DICE score is technically 1.0, but prediction and truth arrays are empty. \n"
     ]
    },
    {
     "name": "stderr",
     "output_type": "stream",
     "text": [
      "W0502 08:51:32.855780 140051641706304 metrics.py:103] DICE score is technically 1.0, but prediction and truth arrays are empty. \n"
     ]
    },
    {
     "name": "stderr",
     "output_type": "stream",
     "text": [
      "W0502 08:51:32.866751 140051641706304 metrics.py:103] DICE score is technically 1.0, but prediction and truth arrays are empty. \n"
     ]
    },
    {
     "name": "stderr",
     "output_type": "stream",
     "text": [
      "W0502 08:51:32.877591 140051641706304 metrics.py:103] DICE score is technically 1.0, but prediction and truth arrays are empty. \n"
     ]
    },
    {
     "name": "stderr",
     "output_type": "stream",
     "text": [
      "W0502 08:51:32.888462 140051641706304 metrics.py:103] DICE score is technically 1.0, but prediction and truth arrays are empty. \n"
     ]
    },
    {
     "name": "stderr",
     "output_type": "stream",
     "text": [
      "W0502 08:51:32.899344 140051641706304 metrics.py:103] DICE score is technically 1.0, but prediction and truth arrays are empty. \n"
     ]
    },
    {
     "name": "stderr",
     "output_type": "stream",
     "text": [
      "W0502 08:51:32.910200 140051641706304 metrics.py:103] DICE score is technically 1.0, but prediction and truth arrays are empty. \n"
     ]
    },
    {
     "name": "stderr",
     "output_type": "stream",
     "text": [
      "W0502 08:51:32.920878 140051641706304 metrics.py:103] DICE score is technically 1.0, but prediction and truth arrays are empty. \n"
     ]
    },
    {
     "name": "stderr",
     "output_type": "stream",
     "text": [
      "W0502 08:51:32.931931 140051641706304 metrics.py:103] DICE score is technically 1.0, but prediction and truth arrays are empty. \n"
     ]
    },
    {
     "name": "stderr",
     "output_type": "stream",
     "text": [
      "W0502 08:51:32.942956 140051641706304 metrics.py:103] DICE score is technically 1.0, but prediction and truth arrays are empty. \n"
     ]
    },
    {
     "name": "stderr",
     "output_type": "stream",
     "text": [
      "W0502 08:51:32.954005 140051641706304 metrics.py:103] DICE score is technically 1.0, but prediction and truth arrays are empty. \n"
     ]
    },
    {
     "name": "stderr",
     "output_type": "stream",
     "text": [
      "W0502 08:51:32.965072 140051641706304 metrics.py:103] DICE score is technically 1.0, but prediction and truth arrays are empty. \n"
     ]
    },
    {
     "name": "stderr",
     "output_type": "stream",
     "text": [
      "W0502 08:51:32.975641 140051641706304 metrics.py:103] DICE score is technically 1.0, but prediction and truth arrays are empty. \n"
     ]
    },
    {
     "name": "stderr",
     "output_type": "stream",
     "text": [
      "W0502 08:51:32.986714 140051641706304 metrics.py:103] DICE score is technically 1.0, but prediction and truth arrays are empty. \n"
     ]
    },
    {
     "name": "stderr",
     "output_type": "stream",
     "text": [
      "W0502 08:51:32.997772 140051641706304 metrics.py:103] DICE score is technically 1.0, but prediction and truth arrays are empty. \n"
     ]
    },
    {
     "name": "stderr",
     "output_type": "stream",
     "text": [
      "W0502 08:51:33.008809 140051641706304 metrics.py:103] DICE score is technically 1.0, but prediction and truth arrays are empty. \n"
     ]
    },
    {
     "name": "stderr",
     "output_type": "stream",
     "text": [
      "W0502 08:51:33.019791 140051641706304 metrics.py:103] DICE score is technically 1.0, but prediction and truth arrays are empty. \n"
     ]
    },
    {
     "name": "stderr",
     "output_type": "stream",
     "text": [
      "W0502 08:51:33.030828 140051641706304 metrics.py:103] DICE score is technically 1.0, but prediction and truth arrays are empty. \n"
     ]
    },
    {
     "name": "stderr",
     "output_type": "stream",
     "text": [
      "W0502 08:51:33.041868 140051641706304 metrics.py:103] DICE score is technically 1.0, but prediction and truth arrays are empty. \n"
     ]
    },
    {
     "name": "stderr",
     "output_type": "stream",
     "text": [
      "W0502 08:51:33.053209 140051641706304 metrics.py:103] DICE score is technically 1.0, but prediction and truth arrays are empty. \n"
     ]
    },
    {
     "name": "stderr",
     "output_type": "stream",
     "text": [
      "W0502 08:51:33.064324 140051641706304 metrics.py:103] DICE score is technically 1.0, but prediction and truth arrays are empty. \n"
     ]
    },
    {
     "name": "stderr",
     "output_type": "stream",
     "text": [
      "W0502 08:51:33.075169 140051641706304 metrics.py:103] DICE score is technically 1.0, but prediction and truth arrays are empty. \n"
     ]
    },
    {
     "name": "stderr",
     "output_type": "stream",
     "text": [
      "W0502 08:51:33.086263 140051641706304 metrics.py:103] DICE score is technically 1.0, but prediction and truth arrays are empty. \n"
     ]
    },
    {
     "name": "stderr",
     "output_type": "stream",
     "text": [
      "W0502 08:51:33.097185 140051641706304 metrics.py:103] DICE score is technically 1.0, but prediction and truth arrays are empty. \n"
     ]
    },
    {
     "name": "stderr",
     "output_type": "stream",
     "text": [
      "W0502 08:51:33.108355 140051641706304 metrics.py:103] DICE score is technically 1.0, but prediction and truth arrays are empty. \n"
     ]
    },
    {
     "name": "stderr",
     "output_type": "stream",
     "text": [
      "W0502 08:51:33.118924 140051641706304 metrics.py:103] DICE score is technically 1.0, but prediction and truth arrays are empty. \n"
     ]
    },
    {
     "name": "stderr",
     "output_type": "stream",
     "text": [
      "W0502 08:51:33.129598 140051641706304 metrics.py:103] DICE score is technically 1.0, but prediction and truth arrays are empty. \n"
     ]
    },
    {
     "name": "stderr",
     "output_type": "stream",
     "text": [
      "W0502 08:51:33.140486 140051641706304 metrics.py:103] DICE score is technically 1.0, but prediction and truth arrays are empty. \n"
     ]
    },
    {
     "name": "stderr",
     "output_type": "stream",
     "text": [
      "W0502 08:51:33.151512 140051641706304 metrics.py:103] DICE score is technically 1.0, but prediction and truth arrays are empty. \n"
     ]
    },
    {
     "name": "stderr",
     "output_type": "stream",
     "text": [
      "W0502 08:51:33.162409 140051641706304 metrics.py:103] DICE score is technically 1.0, but prediction and truth arrays are empty. \n"
     ]
    },
    {
     "name": "stderr",
     "output_type": "stream",
     "text": [
      "W0502 08:51:34.891201 140051641706304 metrics.py:103] DICE score is technically 1.0, but prediction and truth arrays are empty. \n"
     ]
    },
    {
     "name": "stderr",
     "output_type": "stream",
     "text": [
      "W0502 08:51:34.942744 140051641706304 metrics.py:103] DICE score is technically 1.0, but prediction and truth arrays are empty. \n"
     ]
    },
    {
     "name": "stderr",
     "output_type": "stream",
     "text": [
      "W0502 08:51:34.989626 140051641706304 metrics.py:103] DICE score is technically 1.0, but prediction and truth arrays are empty. \n"
     ]
    },
    {
     "name": "stderr",
     "output_type": "stream",
     "text": [
      "W0502 08:51:35.054434 140051641706304 metrics.py:103] DICE score is technically 1.0, but prediction and truth arrays are empty. \n"
     ]
    },
    {
     "name": "stderr",
     "output_type": "stream",
     "text": [
      "W0502 08:51:35.065171 140051641706304 metrics.py:103] DICE score is technically 1.0, but prediction and truth arrays are empty. \n"
     ]
    },
    {
     "name": "stderr",
     "output_type": "stream",
     "text": [
      "W0502 08:51:35.084908 140051641706304 metrics.py:103] DICE score is technically 1.0, but prediction and truth arrays are empty. \n"
     ]
    },
    {
     "name": "stderr",
     "output_type": "stream",
     "text": [
      "W0502 08:51:35.096039 140051641706304 metrics.py:103] DICE score is technically 1.0, but prediction and truth arrays are empty. \n"
     ]
    },
    {
     "name": "stderr",
     "output_type": "stream",
     "text": [
      "W0502 08:51:35.163657 140051641706304 metrics.py:103] DICE score is technically 1.0, but prediction and truth arrays are empty. \n"
     ]
    },
    {
     "name": "stderr",
     "output_type": "stream",
     "text": [
      "W0502 08:51:38.970460 140051641706304 metrics.py:103] DICE score is technically 1.0, but prediction and truth arrays are empty. \n"
     ]
    },
    {
     "name": "stderr",
     "output_type": "stream",
     "text": [
      "W0502 08:51:38.981674 140051641706304 metrics.py:103] DICE score is technically 1.0, but prediction and truth arrays are empty. \n"
     ]
    },
    {
     "name": "stderr",
     "output_type": "stream",
     "text": [
      "W0502 08:51:40.995987 140051641706304 metrics.py:103] DICE score is technically 1.0, but prediction and truth arrays are empty. \n"
     ]
    },
    {
     "name": "stderr",
     "output_type": "stream",
     "text": [
      "W0502 08:51:41.007274 140051641706304 metrics.py:103] DICE score is technically 1.0, but prediction and truth arrays are empty. \n"
     ]
    },
    {
     "name": "stderr",
     "output_type": "stream",
     "text": [
      "W0502 08:51:41.047575 140051641706304 metrics.py:103] DICE score is technically 1.0, but prediction and truth arrays are empty. \n"
     ]
    },
    {
     "name": "stderr",
     "output_type": "stream",
     "text": [
      "W0502 08:51:41.067265 140051641706304 metrics.py:103] DICE score is technically 1.0, but prediction and truth arrays are empty. \n"
     ]
    },
    {
     "name": "stderr",
     "output_type": "stream",
     "text": [
      "W0502 08:51:41.077880 140051641706304 metrics.py:103] DICE score is technically 1.0, but prediction and truth arrays are empty. \n"
     ]
    },
    {
     "name": "stdout",
     "output_type": "stream",
     "text": [
      "\n",
      "____________Object-based statistics____________\n",
      "\n",
      "Number of true cells:\t\t 39608\n",
      "Number of predicted cells:\t 39587\n",
      "\n",
      "Correct detections:  37503\tRecall: 94.6854170874570826299532200209796428680419921875%\n",
      "Incorrect detections: 2084\tPrecision: 94.73564554020259720346075482666492462158203125%\n",
      "\n",
      "Gained detections: 1814\tPerc Error: 47.58656873032528977773836231790482997894287109375%\n",
      "Missed detections: 1816\tPerc Error: 47.63903462749212991411695838905870914459228515625%\n",
      "Merges: 95\t\tPerc Error: 2.492130115424973979543210589326918125152587890625%\n",
      "Splits: 79\t\tPerc Error: 2.07240293809024134219498591846786439418792724609375%\n",
      "Catastrophes: 8\t\tPerc Error: 0.20986358866736620765180987291387282311916351318359375%\n",
      "\n",
      "Gained detections from splits: 80\n",
      "Missed detections from merges: 99\n",
      "True detections involved in catastrophes: 16\n",
      "Predicted detections involved in catastrophes: 16 \n",
      "\n",
      "Average Pixel IOU (Jaccard Index): 0.82739160233308772784965867685968987643718719482421875 \n",
      "\n"
     ]
    }
   ],
   "source": [
    "from deepcell_toolbox import retinamask_postprocess\n",
    "from deepcell_toolbox.deep_watershed import deep_watershed as watershed_postprocess \n",
    "from functools import partial\n",
    "from scipy import ndimage\n",
    "\n",
    "if model_type == 'watershed':\n",
    "    postprocessing_fn = watershed_postprocess\n",
    "elif model_type == 'pixelwise':\n",
    "    def pixelwise(prediction, threshold=.5):\n",
    "        \"\"\"Post-processing for pixelwise transform predictions.\n",
    "        Uses the interior predictions to uniquely label every instance.\n",
    "        Args:\n",
    "            prediction: pixelwise transform prediction\n",
    "            threshold: confidence threshold for interior predictions\n",
    "        Returns:\n",
    "            post-processed data with each cell uniquely annotated\n",
    "        \"\"\"\n",
    "        labeled = []\n",
    "        for b in range(prediction.shape[0]):\n",
    "            pred = prediction[b]\n",
    "            interior = pred[..., 1] > threshold\n",
    "            data = np.expand_dims(interior, axis=-1)\n",
    "            label_image = ndimage.label(data)[0]\n",
    "            labeled.append(label_image)\n",
    "        labeled = np.stack(labeled, axis=0)\n",
    "        return labeled\n",
    "    postprocessing_fn = pixelwise\n",
    "elif model_type == 'retinamask':\n",
    "    postprocessing_fn = partial(retinamask_postprocess, image_shape=(128,128))\n",
    "    \n",
    "model_trainer = ModelTrainer(model,\n",
    "                            model_name,\n",
    "                            model_path,\n",
    "                            train_data,\n",
    "                            val_data,\n",
    "                            benchmarking_data = test_dict,\n",
    "                            postprocessing_fn=postprocessing_fn,\n",
    "                            predict_batch_size=32,\n",
    "                            dataset_metadata=dataset_metadata,\n",
    "                            training_kwargs=training_kwargs)\n",
    "\n",
    "model_trainer.create_model()"
   ]
  },
  {
   "cell_type": "code",
   "execution_count": null,
   "metadata": {
    "papermill": {
     "duration": 0.547571,
     "end_time": "2020-05-02T08:51:47.089935",
     "exception": false,
     "start_time": "2020-05-02T08:51:46.542364",
     "status": "completed"
    },
    "tags": []
   },
   "outputs": [],
   "source": []
  }
 ],
 "metadata": {
  "kernelspec": {
   "display_name": "Python 3",
   "language": "python",
   "name": "python3"
  },
  "language_info": {
   "codemirror_mode": {
    "name": "ipython",
    "version": 3
   },
   "file_extension": ".py",
   "mimetype": "text/x-python",
   "name": "python",
   "nbconvert_exporter": "python",
   "pygments_lexer": "ipython3",
   "version": "3.6.8"
  },
  "papermill": {
   "duration": 18616.458774,
   "end_time": "2020-05-02T08:51:51.548796",
   "environment_variables": {},
   "exception": null,
   "input_path": "/notebooks/papermill/Papermill - Nuclear Accuracy - Proper Split.ipynb",
   "output_path": "/notebooks/05012020/nuclear_0_0.25_resnet50_retinamask_training_notebook.ipynb",
   "parameters": {
    "backbone": "resnet50",
    "batch_size": 4,
    "dataset_fraction": 0.25,
    "date": "05012020",
    "filename": "nuclear_0_0.25_resnet50_retinamask",
    "model_type": "retinamask",
    "n_epochs": 16,
    "train_permutation_seed": 0
   },
   "start_time": "2020-05-02T03:41:35.090022",
   "version": "1.2.1"
  }
 },
 "nbformat": 4,
 "nbformat_minor": 2
}