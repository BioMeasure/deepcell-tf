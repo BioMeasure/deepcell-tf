{
 "cells": [
  {
   "cell_type": "markdown",
   "metadata": {
    "papermill": {
     "duration": 0.018983,
     "end_time": "2020-05-02T03:22:31.400663",
     "exception": false,
     "start_time": "2020-05-02T03:22:31.381680",
     "status": "completed"
    },
    "tags": []
   },
   "source": [
    "# General nuclear segmentation training notebook\n",
    "\n",
    "This notebook trains a model to perform nuclear segmentation of fluorescent microscopy images."
   ]
  },
  {
   "cell_type": "markdown",
   "metadata": {
    "papermill": {
     "duration": 0.012543,
     "end_time": "2020-05-02T03:22:31.426100",
     "exception": false,
     "start_time": "2020-05-02T03:22:31.413557",
     "status": "completed"
    },
    "tags": []
   },
   "source": [
    "## Part 1: Import relevant python packages\n",
    "\n",
    "This section imports python packages that are used throughout the notebook and defines parameters that can be used with papermill"
   ]
  },
  {
   "cell_type": "code",
   "execution_count": 1,
   "metadata": {
    "papermill": {
     "duration": 2.85817,
     "end_time": "2020-05-02T03:22:34.296676",
     "exception": false,
     "start_time": "2020-05-02T03:22:31.438506",
     "status": "completed"
    },
    "tags": []
   },
   "outputs": [],
   "source": [
    "import os\n",
    "import errno\n",
    "\n",
    "import numpy as np\n",
    "\n",
    "import tensorflow as tf\n",
    "gpus = tf.config.experimental.list_physical_devices('GPU')\n",
    "for gpu in gpus:\n",
    "      tf.config.experimental.set_memory_growth(gpu, True)\n",
    "        \n",
    "import deepcell"
   ]
  },
  {
   "cell_type": "code",
   "execution_count": 2,
   "metadata": {
    "papermill": {
     "duration": 0.024937,
     "end_time": "2020-05-02T03:22:34.341242",
     "exception": false,
     "start_time": "2020-05-02T03:22:34.316305",
     "status": "completed"
    },
    "tags": [
     "parameters"
    ]
   },
   "outputs": [],
   "source": [
    "# Define parameters that can be set with papermill\n",
    "backbone = 'resnet50'\n",
    "dataset_name='general_nuclear'\n",
    "n_epochs = 8\n",
    "date = '04242020'\n",
    "dataset_fraction = .01\n",
    "train_test_seed = 0\n",
    "train_permutation_seed = 0\n",
    "train_val_seed=314\n",
    "model_type = 'watershed'\n",
    "batch_size = 4 if model_type == 'retinamask' else 16"
   ]
  },
  {
   "cell_type": "code",
   "execution_count": 3,
   "metadata": {
    "papermill": {
     "duration": 0.025108,
     "end_time": "2020-05-02T03:22:34.382607",
     "exception": false,
     "start_time": "2020-05-02T03:22:34.357499",
     "status": "completed"
    },
    "tags": [
     "injected-parameters"
    ]
   },
   "outputs": [],
   "source": [
    "# Parameters\n",
    "n_epochs = 16\n",
    "batch_size = 16\n",
    "date = \"05012020\"\n",
    "filename = \"nuclear_1_1_mobilenetv2_watershed\"\n",
    "train_permutation_seed = 1\n",
    "dataset_fraction = 1\n",
    "backbone = \"mobilenetv2\"\n",
    "model_type = \"watershed\"\n"
   ]
  },
  {
   "cell_type": "markdown",
   "metadata": {
    "papermill": {
     "duration": 0.013455,
     "end_time": "2020-05-02T03:22:34.412449",
     "exception": false,
     "start_time": "2020-05-02T03:22:34.398994",
     "status": "completed"
    },
    "tags": []
   },
   "source": [
    "## Part 2: Load training data and create data generators\n",
    "\n",
    "Data generators augment data and feed it into the model training process. Here, we define the generators that will be used to train our segmentation model."
   ]
  },
  {
   "cell_type": "code",
   "execution_count": 4,
   "metadata": {
    "papermill": {
     "duration": 194.503709,
     "end_time": "2020-05-02T03:25:48.930009",
     "exception": false,
     "start_time": "2020-05-02T03:22:34.426300",
     "status": "completed"
    },
    "scrolled": false,
    "tags": []
   },
   "outputs": [
    {
     "name": "stdout",
     "output_type": "stream",
     "text": [
      "(180, 40, 216, 256, 1) (180, 40, 216, 256, 1)\n"
     ]
    },
    {
     "name": "stdout",
     "output_type": "stream",
     "text": [
      "(259, 30, 135, 160, 1) (259, 30, 135, 160, 1)\n"
     ]
    },
    {
     "name": "stdout",
     "output_type": "stream",
     "text": [
      "(240, 30, 154, 182, 1) (240, 30, 154, 182, 1)\n"
     ]
    },
    {
     "name": "stdout",
     "output_type": "stream",
     "text": [
      "(124, 30, 202, 240, 1) (124, 30, 202, 240, 1)\n"
     ]
    },
    {
     "name": "stdout",
     "output_type": "stream",
     "text": [
      "Reshaped feature data from (127, 40, 216, 256, 1) to (508, 40, 128, 128, 1)\n",
      "Reshaped training data from (127, 40, 216, 256, 1) to (508, 40, 128, 128, 1)\n"
     ]
    },
    {
     "name": "stdout",
     "output_type": "stream",
     "text": [
      "Reshaped feature data from (159, 30, 135, 160, 1) to (636, 30, 128, 128, 1)\n",
      "Reshaped training data from (159, 30, 135, 160, 1) to (636, 30, 128, 128, 1)\n"
     ]
    },
    {
     "name": "stdout",
     "output_type": "stream",
     "text": [
      "Reshaped feature data from (151, 30, 154, 182, 1) to (604, 30, 128, 128, 1)\n",
      "Reshaped training data from (151, 30, 154, 182, 1) to (604, 30, 128, 128, 1)\n"
     ]
    },
    {
     "name": "stdout",
     "output_type": "stream",
     "text": [
      "Reshaped feature data from (77, 30, 202, 240, 1) to (308, 30, 128, 128, 1)\n",
      "Reshaped training data from (77, 30, 202, 240, 1) to (308, 30, 128, 128, 1)\n"
     ]
    },
    {
     "name": "stdout",
     "output_type": "stream",
     "text": [
      "Reshaped feature data from (17, 40, 216, 256, 1) to (68, 40, 128, 128, 1)\n",
      "Reshaped training data from (17, 40, 216, 256, 1) to (68, 40, 128, 128, 1)\n"
     ]
    },
    {
     "name": "stdout",
     "output_type": "stream",
     "text": [
      "Reshaped feature data from (48, 30, 135, 160, 1) to (192, 30, 128, 128, 1)\n",
      "Reshaped training data from (48, 30, 135, 160, 1) to (192, 30, 128, 128, 1)\n"
     ]
    },
    {
     "name": "stdout",
     "output_type": "stream",
     "text": [
      "Reshaped feature data from (41, 30, 154, 182, 1) to (164, 30, 128, 128, 1)\n",
      "Reshaped training data from (41, 30, 154, 182, 1) to (164, 30, 128, 128, 1)\n"
     ]
    },
    {
     "name": "stdout",
     "output_type": "stream",
     "text": [
      "Reshaped feature data from (22, 30, 202, 240, 1) to (88, 30, 128, 128, 1)\n",
      "Reshaped training data from (22, 30, 202, 240, 1) to (88, 30, 128, 128, 1)\n"
     ]
    },
    {
     "name": "stdout",
     "output_type": "stream",
     "text": [
      "Reshaped feature data from (36, 40, 128, 128, 1) to (36, 40, 128, 128, 1)\n",
      "Reshaped training data from (36, 40, 128, 128, 1) to (36, 40, 128, 128, 1)\n"
     ]
    },
    {
     "name": "stdout",
     "output_type": "stream",
     "text": [
      "Reshaped feature data from (52, 30, 128, 128, 1) to (52, 30, 128, 128, 1)\n",
      "Reshaped training data from (52, 30, 128, 128, 1) to (52, 30, 128, 128, 1)\n"
     ]
    },
    {
     "name": "stdout",
     "output_type": "stream",
     "text": [
      "Reshaped feature data from (48, 30, 128, 128, 1) to (48, 30, 128, 128, 1)\n",
      "Reshaped training data from (48, 30, 128, 128, 1) to (48, 30, 128, 128, 1)\n"
     ]
    },
    {
     "name": "stdout",
     "output_type": "stream",
     "text": [
      "Reshaped feature data from (25, 30, 202, 240, 1) to (100, 30, 128, 128, 1)\n",
      "Reshaped training data from (25, 30, 202, 240, 1) to (100, 30, 128, 128, 1)\n"
     ]
    },
    {
     "name": "stdout",
     "output_type": "stream",
     "text": [
      "(66760, 128, 128, 1) (66760, 128, 128, 1) (16040, 128, 128, 1) (16040, 128, 128, 1)\n",
      "Number of training tracks 8067\n",
      "Number of validation tracks 2122\n",
      "Number of testing tracks 1925\n",
      "Number of training cells 192772\n",
      "Number of validation cells 49646\n",
      "Number of testing cells 42731\n"
     ]
    }
   ],
   "source": [
    "from deepcell.utils.data_utils import get_data, reshape_movie\n",
    "from deepcell import image_generators\n",
    "from deepcell.utils import train_utils\n",
    "from sklearn.model_selection import train_test_split\n",
    "from deepcell_tracking.utils import load_trks\n",
    "\n",
    "# Helper function - get unique tracks\n",
    "def get_n_tracks(array):\n",
    "    # array with dims (batch, time, x, y, c)\n",
    "    n_tracks = 0\n",
    "    for b in array:\n",
    "        n_tracks += len(np.unique(b)) - 1\n",
    "    return n_tracks\n",
    "\n",
    "# Helper function - get unique cells\n",
    "def get_n_cells(array):\n",
    "    # array with dims (batch, time, x, y, c)\n",
    "    n_cells = 0\n",
    "    for b in array:\n",
    "        for t in b:\n",
    "            n_cells += len(np.unique(t)) - 1\n",
    "    return n_cells\n",
    "\n",
    "# Helper function - convert indices\n",
    "def convert_indices(indices, X_list):\n",
    "    N_batches = np.array([x.shape[0] for x in X_list])\n",
    "    N_cumsum = np.cumsum(N_batches)\n",
    "    converted_index = []\n",
    "    for i in range(len(X_list)):\n",
    "        if i==0:\n",
    "            i_index = indices[indices < N_cumsum[i]]\n",
    "            converted_index.append(i_index)\n",
    "        else:\n",
    "            i_index = indices[np.logical_and(indices < N_cumsum[i], indices >= N_cumsum[i-1])] - N_cumsum[i-1]\n",
    "            converted_index.append(i_index)    \n",
    "    return converted_index\n",
    "\n",
    "# Helper function - reshape movies\n",
    "def reshape_list_of_movies(X_list, y_list, reshape_size=128, crop=False):\n",
    "    X_reshape = []\n",
    "    y_reshape = []\n",
    "    for Xl, yl in zip(X_list, y_list):\n",
    "        Xr, yr = reshape_movie(Xl, yl, reshape_size=reshape_size)\n",
    "        Xr = Xr.reshape((-1, reshape_size, reshape_size, Xr.shape[-1]))\n",
    "        yr = yr.reshape((-1, reshape_size, reshape_size, yr.shape[-1]))\n",
    "        X_reshape.append(Xr)\n",
    "        y_reshape.append(yr)\n",
    "    X_reshape = np.concatenate(X_reshape, axis=0)\n",
    "    y_reshape = np.concatenate(y_reshape, axis=0)\n",
    "    \n",
    "    return X_reshape, y_reshape\n",
    "\n",
    "# Load datasets \n",
    "dataset_direc = '/data/training_data/'\n",
    "\n",
    "hela_filename = 'HeLa_S3.trks'\n",
    "hek_filename = 'HEK293.trks'\n",
    "nih_filename = '3T3_NIH.trks'\n",
    "raw_filename = 'RAW2647.trks'\n",
    "\n",
    "filenames = [hela_filename, hek_filename, nih_filename, raw_filename]\n",
    "\n",
    "X_train = []\n",
    "y_train = []\n",
    "\n",
    "X_test = []\n",
    "y_test = []\n",
    "\n",
    "for filename in filenames:\n",
    "    path = os.path.join(dataset_direc, filename)\n",
    "    training_data = load_trks(path)\n",
    "    X = training_data['X']\n",
    "    y = training_data['y']\n",
    "    \n",
    "    print(X.shape, y.shape)\n",
    "    \n",
    "    # Split into training and testing dataset\n",
    "    Xt, Xtest, yt, ytest = train_test_split(X, y, test_size=0.2, random_state=train_test_seed)\n",
    "    \n",
    "    # Crop test dataset\n",
    "    X_test = [arr[:,:,0:128,0:128,:] for arr in X_test]\n",
    "    y_test = [arr[:,:,0:128,0:128,:] for arr in y_test]\n",
    "    \n",
    "    X_train.append(Xt)\n",
    "    y_train.append(yt)\n",
    "    X_test.append(Xtest)\n",
    "    y_test.append(ytest)\n",
    "    \n",
    "# Select subset of the training data\n",
    "N_batches = sum([x.shape[0] for x in X_train])\n",
    "index = np.arange(N_batches)\n",
    "dataset_size = int(dataset_fraction * N_batches)\n",
    "permuted_index = np.random.RandomState(seed=train_permutation_seed).permutation(index)\n",
    "reduced_index = permuted_index[0:dataset_size]\n",
    "converted_index = convert_indices(reduced_index, X_train)\n",
    "\n",
    "X_reduced = [x[ci] for x, ci in zip(X_train, converted_index)]\n",
    "y_reduced = [y[ci] for y, ci in zip(y_train, converted_index)]\n",
    "\n",
    "# Split into training and validation datasets\n",
    "N_batches = sum([x.shape[0] for x in X_reduced])\n",
    "index = np.arange(N_batches)\n",
    "val_size = int(0.2 * N_batches)\n",
    "permuted_index = np.random.RandomState(seed=train_val_seed).permutation(index)\n",
    "val_index = permuted_index[0:val_size]\n",
    "train_index = permuted_index[val_size:]\n",
    "\n",
    "val_ci = convert_indices(val_index, X_reduced)\n",
    "train_ci = convert_indices(train_index, X_reduced)\n",
    "\n",
    "X_train = [x[ci] for x, ci in zip(X_reduced, train_ci)]\n",
    "y_train = [y[ci] for y, ci in zip(y_reduced, train_ci)]\n",
    "\n",
    "X_val = [x[ci] for x, ci in zip(X_reduced, val_ci)]\n",
    "y_val = [y[ci] for y, ci in zip(y_reduced, val_ci)]\n",
    "    \n",
    "# Record the number of tracks and cells\n",
    "n_tracks_train = sum([get_n_tracks(y) for y in y_train])\n",
    "n_tracks_val = sum([get_n_tracks(y) for y in y_val])\n",
    "n_tracks_test = sum([get_n_tracks(y) for y in y_test])\n",
    "\n",
    "n_cells_train = sum([get_n_cells(y) for y in y_train])\n",
    "n_cells_val = sum([get_n_cells(y) for y in y_val])\n",
    "n_cells_test = sum([get_n_cells(y) for y in y_test])\n",
    "    \n",
    "# Reshape the datasets\n",
    "X_train, y_train = reshape_list_of_movies(X_train, y_train)\n",
    "X_val, y_val = reshape_list_of_movies(X_val, y_val)\n",
    "X_test, y_test = reshape_list_of_movies(X_test, y_test)\n",
    "\n",
    "train_dict = {'X':X_train, 'y':y_train}\n",
    "val_dict = {'X':X_val, 'y':y_val}\n",
    "test_dict = {'X':X_test, 'y':y_test}\n",
    "\n",
    "print(X_train.shape, y_train.shape, X_val.shape, y_val.shape)\n",
    "print('Number of training tracks {}'.format(n_tracks_train))\n",
    "print('Number of validation tracks {}'.format(n_tracks_val))\n",
    "print('Number of testing tracks {}'.format(n_tracks_test))\n",
    "\n",
    "print('Number of training cells {}'.format(n_cells_train))\n",
    "print('Number of validation cells {}'.format(n_cells_val))\n",
    "print('Number of testing cells {}'.format(n_cells_test))"
   ]
  },
  {
   "cell_type": "code",
   "execution_count": 5,
   "metadata": {
    "papermill": {
     "duration": 779.804907,
     "end_time": "2020-05-02T03:38:48.765141",
     "exception": false,
     "start_time": "2020-05-02T03:25:48.960234",
     "status": "completed"
    },
    "tags": []
   },
   "outputs": [],
   "source": [
    "from deepcell.utils.retinanet_anchor_utils import generate_anchor_params\n",
    "from tensorflow.python.keras import backend as K\n",
    "\n",
    "# Get anchor settings for RetinaMask models\n",
    "pyramid_levels = ['P3', 'P4']\n",
    "anchor_size_dict = {'P3':16, 'P4':32}\n",
    "anchor_params = generate_anchor_params(pyramid_levels, anchor_size_dict)\n",
    "\n",
    "# Data augmentation parameters\n",
    "generator_kwargs = {}\n",
    "generator_kwargs['rotation_range'] = 180\n",
    "generator_kwargs['shear_range'] = 0\n",
    "generator_kwargs['zoom_range'] = 0.25\n",
    "generator_kwargs['horizontal_flip'] = True\n",
    "generator_kwargs['vertical_flip'] = True\n",
    "\n",
    "generator_val_kwargs = {}\n",
    "generator_val_kwargs['rotation_range'] = 0\n",
    "generator_val_kwargs['shear_range'] = 0\n",
    "generator_val_kwargs['zoom_range'] = 0\n",
    "generator_val_kwargs['horizontal_flip'] = False\n",
    "generator_val_kwargs['vertical_flip'] = False\n",
    "\n",
    "# Minimum number of objects in an image\n",
    "min_objects = 3 if model_type == 'retinamask' else 0\n",
    "\n",
    "# Random seed\n",
    "seed=808\n",
    "\n",
    "if model_type == 'watershed':\n",
    "    datagen = image_generators.SemanticDataGenerator(**generator_kwargs)\n",
    "    datagen_val = image_generators.SemanticDataGenerator(**generator_val_kwargs)\n",
    "    \n",
    "    train_data = datagen.flow(\n",
    "        train_dict,\n",
    "        seed=seed,\n",
    "        transforms=['centroid', 'watershed-cont', 'fgbg'],\n",
    "        transforms_kwargs={'watershed-cont': {'erosion_width': 1}, 'centroid': {'alpha':'auto', 'beta':0.5}},\n",
    "        min_objects=min_objects,\n",
    "        batch_size=batch_size)\n",
    "\n",
    "    val_data = datagen_val.flow(\n",
    "        val_dict,\n",
    "        seed=seed,\n",
    "        transforms=['centroid', 'watershed-cont', 'fgbg'],\n",
    "        transforms_kwargs={'watershed-cont': {'erosion_width': 1}, 'centroid': {'alpha':'auto', 'beta':0.5}},\n",
    "        min_objects=min_objects,\n",
    "        batch_size=batch_size)\n",
    "    \n",
    "elif model_type == 'pixelwise':\n",
    "    datagen = image_generators.SemanticDataGenerator(**generator_kwargs)\n",
    "    datagen_val = image_generators.SemanticDataGenerator(**generator_val_kwargs)\n",
    "    \n",
    "    train_data = datagen.flow(\n",
    "        train_dict,\n",
    "        seed=seed,\n",
    "        transforms=['pixelwise'],\n",
    "        transforms_kwargs={},\n",
    "        min_objects=min_objects,\n",
    "        batch_size=batch_size)\n",
    "\n",
    "    val_data = datagen_val.flow(\n",
    "        val_dict,\n",
    "        seed=seed,\n",
    "        transforms=['pixelwise'],\n",
    "        transforms_kwargs={},\n",
    "        min_objects=min_objects,\n",
    "        batch_size=batch_size)\n",
    "\n",
    "elif model_type == 'retinamask':\n",
    "    datagen = image_generators.RetinaNetGenerator(**generator_kwargs)\n",
    "    datagen_val = image_generators.RetinaNetGenerator(**generator_val_kwargs)\n",
    "    \n",
    "    train_data = datagen.flow(\n",
    "        train_dict=train_dict,\n",
    "        seed=seed,\n",
    "        transforms=[],\n",
    "        transforms_kwargs={},\n",
    "        min_objects=min_objects,\n",
    "        batch_size=batch_size,\n",
    "        anchor_params=anchor_params,\n",
    "        pyramid_levels=pyramid_levels,\n",
    "        include_masks=True)\n",
    "    \n",
    "    val_data = datagen_val.flow(\n",
    "        train_dict=val_dict,\n",
    "        seed=seed,\n",
    "        transforms=[],\n",
    "        transforms_kwargs={},\n",
    "        min_objects=min_objects,\n",
    "        batch_size=batch_size,\n",
    "        anchor_params=anchor_params,\n",
    "        pyramid_levels=pyramid_levels,\n",
    "        include_masks=True)\n",
    "    "
   ]
  },
  {
   "cell_type": "markdown",
   "metadata": {
    "papermill": {
     "duration": 0.024004,
     "end_time": "2020-05-02T03:38:48.819397",
     "exception": false,
     "start_time": "2020-05-02T03:38:48.795393",
     "status": "completed"
    },
    "tags": []
   },
   "source": [
    "## Part 3: Define model\n",
    "\n",
    "Here we define a PanopticNet to perform the image segmentation. This model will predict the inner distance and outer distance transform (as done in ), as well as the foreground-background transform."
   ]
  },
  {
   "cell_type": "code",
   "execution_count": 6,
   "metadata": {
    "papermill": {
     "duration": 27.022892,
     "end_time": "2020-05-02T03:39:15.866597",
     "exception": false,
     "start_time": "2020-05-02T03:38:48.843705",
     "status": "completed"
    },
    "scrolled": true,
    "tags": []
   },
   "outputs": [
    {
     "name": "stderr",
     "output_type": "stream",
     "text": [
      "WARNING: Logging before flag parsing goes to stderr.\n",
      "W0502 03:38:48.906306 139661827884864 deprecation.py:506] From /usr/local/lib/python3.6/dist-packages/tensorflow/python/ops/init_ops.py:1251: calling VarianceScaling.__init__ (from tensorflow.python.ops.init_ops) with dtype is deprecated and will be removed in a future version.\n",
      "Instructions for updating:\n",
      "Call initializer instance with the dtype argument instead of passing it to the constructor\n"
     ]
    },
    {
     "name": "stderr",
     "output_type": "stream",
     "text": [
      "/usr/local/lib/python3.6/dist-packages/keras_applications/mobilenet_v2.py:294: UserWarning: `input_shape` is undefined or non-square, or `rows` is not in [96, 128, 160, 192, 224]. Weights for input shape (224, 224) will be loaded as the default.\n",
      "  warnings.warn('`input_shape` is undefined or non-square, '\n"
     ]
    },
    {
     "name": "stdout",
     "output_type": "stream",
     "text": [
      "Model: \"panopticnet\"\n",
      "__________________________________________________________________________________________________\n",
      "Layer (type)                    Output Shape         Param #     Connected to                     \n",
      "==================================================================================================\n",
      "input_0 (InputLayer)            [(None, 128, 128, 1) 0                                            \n",
      "__________________________________________________________________________________________________\n",
      "norm (ImageNormalization2D)     (None, 128, 128, 1)  0           input_0[0][0]                    \n",
      "__________________________________________________________________________________________________\n",
      "location (Location2D)           (None, 128, 128, 2)  0           norm[0][0]                       \n",
      "__________________________________________________________________________________________________\n",
      "concatenate_location (Concatena (None, 128, 128, 3)  0           norm[0][0]                       \n",
      "                                                                 location[0][0]                   \n",
      "__________________________________________________________________________________________________\n",
      "conv_channels (Conv2D)          (None, 128, 128, 3)  12          concatenate_location[0][0]       \n",
      "__________________________________________________________________________________________________\n",
      "Conv1_pad (ZeroPadding2D)       (None, 129, 129, 3)  0           conv_channels[0][0]              \n",
      "__________________________________________________________________________________________________\n",
      "Conv1 (Conv2D)                  (None, 64, 64, 32)   864         Conv1_pad[0][0]                  \n",
      "__________________________________________________________________________________________________\n",
      "bn_Conv1 (BatchNormalization)   (None, 64, 64, 32)   128         Conv1[0][0]                      \n",
      "__________________________________________________________________________________________________\n",
      "Conv1_relu (ReLU)               (None, 64, 64, 32)   0           bn_Conv1[0][0]                   \n",
      "__________________________________________________________________________________________________\n",
      "expanded_conv_depthwise (Depthw (None, 64, 64, 32)   288         Conv1_relu[0][0]                 \n",
      "__________________________________________________________________________________________________\n",
      "expanded_conv_depthwise_BN (Bat (None, 64, 64, 32)   128         expanded_conv_depthwise[0][0]    \n",
      "__________________________________________________________________________________________________\n",
      "expanded_conv_depthwise_relu (R (None, 64, 64, 32)   0           expanded_conv_depthwise_BN[0][0] \n",
      "__________________________________________________________________________________________________\n",
      "expanded_conv_project (Conv2D)  (None, 64, 64, 16)   512         expanded_conv_depthwise_relu[0][0\n",
      "__________________________________________________________________________________________________\n",
      "expanded_conv_project_BN (Batch (None, 64, 64, 16)   64          expanded_conv_project[0][0]      \n",
      "__________________________________________________________________________________________________\n",
      "block_1_expand (Conv2D)         (None, 64, 64, 96)   1536        expanded_conv_project_BN[0][0]   \n",
      "__________________________________________________________________________________________________\n",
      "block_1_expand_BN (BatchNormali (None, 64, 64, 96)   384         block_1_expand[0][0]             \n",
      "__________________________________________________________________________________________________\n",
      "block_1_expand_relu (ReLU)      (None, 64, 64, 96)   0           block_1_expand_BN[0][0]          \n",
      "__________________________________________________________________________________________________\n",
      "block_1_pad (ZeroPadding2D)     (None, 65, 65, 96)   0           block_1_expand_relu[0][0]        \n",
      "__________________________________________________________________________________________________\n",
      "block_1_depthwise (DepthwiseCon (None, 32, 32, 96)   864         block_1_pad[0][0]                \n",
      "__________________________________________________________________________________________________\n",
      "block_1_depthwise_BN (BatchNorm (None, 32, 32, 96)   384         block_1_depthwise[0][0]          \n",
      "__________________________________________________________________________________________________\n",
      "block_1_depthwise_relu (ReLU)   (None, 32, 32, 96)   0           block_1_depthwise_BN[0][0]       \n",
      "__________________________________________________________________________________________________\n",
      "block_1_project (Conv2D)        (None, 32, 32, 24)   2304        block_1_depthwise_relu[0][0]     \n",
      "__________________________________________________________________________________________________\n",
      "block_1_project_BN (BatchNormal (None, 32, 32, 24)   96          block_1_project[0][0]            \n",
      "__________________________________________________________________________________________________\n",
      "block_2_expand (Conv2D)         (None, 32, 32, 144)  3456        block_1_project_BN[0][0]         \n",
      "__________________________________________________________________________________________________\n",
      "block_2_expand_BN (BatchNormali (None, 32, 32, 144)  576         block_2_expand[0][0]             \n",
      "__________________________________________________________________________________________________\n",
      "block_2_expand_relu (ReLU)      (None, 32, 32, 144)  0           block_2_expand_BN[0][0]          \n",
      "__________________________________________________________________________________________________\n",
      "block_2_depthwise (DepthwiseCon (None, 32, 32, 144)  1296        block_2_expand_relu[0][0]        \n",
      "__________________________________________________________________________________________________\n",
      "block_2_depthwise_BN (BatchNorm (None, 32, 32, 144)  576         block_2_depthwise[0][0]          \n",
      "__________________________________________________________________________________________________\n",
      "block_2_depthwise_relu (ReLU)   (None, 32, 32, 144)  0           block_2_depthwise_BN[0][0]       \n",
      "__________________________________________________________________________________________________\n",
      "block_2_project (Conv2D)        (None, 32, 32, 24)   3456        block_2_depthwise_relu[0][0]     \n",
      "__________________________________________________________________________________________________\n",
      "block_2_project_BN (BatchNormal (None, 32, 32, 24)   96          block_2_project[0][0]            \n",
      "__________________________________________________________________________________________________\n",
      "block_2_add (Add)               (None, 32, 32, 24)   0           block_1_project_BN[0][0]         \n",
      "                                                                 block_2_project_BN[0][0]         \n",
      "__________________________________________________________________________________________________\n",
      "block_3_expand (Conv2D)         (None, 32, 32, 144)  3456        block_2_add[0][0]                \n",
      "__________________________________________________________________________________________________\n",
      "block_3_expand_BN (BatchNormali (None, 32, 32, 144)  576         block_3_expand[0][0]             \n",
      "__________________________________________________________________________________________________\n",
      "block_3_expand_relu (ReLU)      (None, 32, 32, 144)  0           block_3_expand_BN[0][0]          \n",
      "__________________________________________________________________________________________________\n",
      "block_3_pad (ZeroPadding2D)     (None, 33, 33, 144)  0           block_3_expand_relu[0][0]        \n",
      "__________________________________________________________________________________________________\n",
      "block_3_depthwise (DepthwiseCon (None, 16, 16, 144)  1296        block_3_pad[0][0]                \n",
      "__________________________________________________________________________________________________\n",
      "block_3_depthwise_BN (BatchNorm (None, 16, 16, 144)  576         block_3_depthwise[0][0]          \n",
      "__________________________________________________________________________________________________\n",
      "block_3_depthwise_relu (ReLU)   (None, 16, 16, 144)  0           block_3_depthwise_BN[0][0]       \n",
      "__________________________________________________________________________________________________\n",
      "block_3_project (Conv2D)        (None, 16, 16, 32)   4608        block_3_depthwise_relu[0][0]     \n",
      "__________________________________________________________________________________________________\n",
      "block_3_project_BN (BatchNormal (None, 16, 16, 32)   128         block_3_project[0][0]            \n",
      "__________________________________________________________________________________________________\n",
      "block_4_expand (Conv2D)         (None, 16, 16, 192)  6144        block_3_project_BN[0][0]         \n",
      "__________________________________________________________________________________________________\n",
      "block_4_expand_BN (BatchNormali (None, 16, 16, 192)  768         block_4_expand[0][0]             \n",
      "__________________________________________________________________________________________________\n",
      "block_4_expand_relu (ReLU)      (None, 16, 16, 192)  0           block_4_expand_BN[0][0]          \n",
      "__________________________________________________________________________________________________\n",
      "block_4_depthwise (DepthwiseCon (None, 16, 16, 192)  1728        block_4_expand_relu[0][0]        \n",
      "__________________________________________________________________________________________________\n",
      "block_4_depthwise_BN (BatchNorm (None, 16, 16, 192)  768         block_4_depthwise[0][0]          \n",
      "__________________________________________________________________________________________________\n",
      "block_4_depthwise_relu (ReLU)   (None, 16, 16, 192)  0           block_4_depthwise_BN[0][0]       \n",
      "__________________________________________________________________________________________________\n",
      "block_4_project (Conv2D)        (None, 16, 16, 32)   6144        block_4_depthwise_relu[0][0]     \n",
      "__________________________________________________________________________________________________\n",
      "block_4_project_BN (BatchNormal (None, 16, 16, 32)   128         block_4_project[0][0]            \n",
      "__________________________________________________________________________________________________\n",
      "block_4_add (Add)               (None, 16, 16, 32)   0           block_3_project_BN[0][0]         \n",
      "                                                                 block_4_project_BN[0][0]         \n",
      "__________________________________________________________________________________________________\n",
      "block_5_expand (Conv2D)         (None, 16, 16, 192)  6144        block_4_add[0][0]                \n",
      "__________________________________________________________________________________________________\n",
      "block_5_expand_BN (BatchNormali (None, 16, 16, 192)  768         block_5_expand[0][0]             \n",
      "__________________________________________________________________________________________________\n",
      "block_5_expand_relu (ReLU)      (None, 16, 16, 192)  0           block_5_expand_BN[0][0]          \n",
      "__________________________________________________________________________________________________\n",
      "block_5_depthwise (DepthwiseCon (None, 16, 16, 192)  1728        block_5_expand_relu[0][0]        \n",
      "__________________________________________________________________________________________________\n",
      "block_5_depthwise_BN (BatchNorm (None, 16, 16, 192)  768         block_5_depthwise[0][0]          \n",
      "__________________________________________________________________________________________________\n",
      "block_5_depthwise_relu (ReLU)   (None, 16, 16, 192)  0           block_5_depthwise_BN[0][0]       \n",
      "__________________________________________________________________________________________________\n",
      "block_5_project (Conv2D)        (None, 16, 16, 32)   6144        block_5_depthwise_relu[0][0]     \n",
      "__________________________________________________________________________________________________\n",
      "block_5_project_BN (BatchNormal (None, 16, 16, 32)   128         block_5_project[0][0]            \n",
      "__________________________________________________________________________________________________\n",
      "block_5_add (Add)               (None, 16, 16, 32)   0           block_4_add[0][0]                \n",
      "                                                                 block_5_project_BN[0][0]         \n",
      "__________________________________________________________________________________________________\n",
      "block_6_expand (Conv2D)         (None, 16, 16, 192)  6144        block_5_add[0][0]                \n",
      "__________________________________________________________________________________________________\n",
      "block_6_expand_BN (BatchNormali (None, 16, 16, 192)  768         block_6_expand[0][0]             \n",
      "__________________________________________________________________________________________________\n",
      "block_6_expand_relu (ReLU)      (None, 16, 16, 192)  0           block_6_expand_BN[0][0]          \n",
      "__________________________________________________________________________________________________\n",
      "block_6_pad (ZeroPadding2D)     (None, 17, 17, 192)  0           block_6_expand_relu[0][0]        \n",
      "__________________________________________________________________________________________________\n",
      "block_6_depthwise (DepthwiseCon (None, 8, 8, 192)    1728        block_6_pad[0][0]                \n",
      "__________________________________________________________________________________________________\n",
      "block_6_depthwise_BN (BatchNorm (None, 8, 8, 192)    768         block_6_depthwise[0][0]          \n",
      "__________________________________________________________________________________________________\n",
      "block_6_depthwise_relu (ReLU)   (None, 8, 8, 192)    0           block_6_depthwise_BN[0][0]       \n",
      "__________________________________________________________________________________________________\n",
      "block_6_project (Conv2D)        (None, 8, 8, 64)     12288       block_6_depthwise_relu[0][0]     \n",
      "__________________________________________________________________________________________________\n",
      "block_6_project_BN (BatchNormal (None, 8, 8, 64)     256         block_6_project[0][0]            \n",
      "__________________________________________________________________________________________________\n",
      "block_7_expand (Conv2D)         (None, 8, 8, 384)    24576       block_6_project_BN[0][0]         \n",
      "__________________________________________________________________________________________________\n",
      "block_7_expand_BN (BatchNormali (None, 8, 8, 384)    1536        block_7_expand[0][0]             \n",
      "__________________________________________________________________________________________________\n",
      "block_7_expand_relu (ReLU)      (None, 8, 8, 384)    0           block_7_expand_BN[0][0]          \n",
      "__________________________________________________________________________________________________\n",
      "block_7_depthwise (DepthwiseCon (None, 8, 8, 384)    3456        block_7_expand_relu[0][0]        \n",
      "__________________________________________________________________________________________________\n",
      "block_7_depthwise_BN (BatchNorm (None, 8, 8, 384)    1536        block_7_depthwise[0][0]          \n",
      "__________________________________________________________________________________________________\n",
      "block_7_depthwise_relu (ReLU)   (None, 8, 8, 384)    0           block_7_depthwise_BN[0][0]       \n",
      "__________________________________________________________________________________________________\n",
      "block_7_project (Conv2D)        (None, 8, 8, 64)     24576       block_7_depthwise_relu[0][0]     \n",
      "__________________________________________________________________________________________________\n",
      "block_7_project_BN (BatchNormal (None, 8, 8, 64)     256         block_7_project[0][0]            \n",
      "__________________________________________________________________________________________________\n",
      "block_7_add (Add)               (None, 8, 8, 64)     0           block_6_project_BN[0][0]         \n",
      "                                                                 block_7_project_BN[0][0]         \n",
      "__________________________________________________________________________________________________\n",
      "block_8_expand (Conv2D)         (None, 8, 8, 384)    24576       block_7_add[0][0]                \n",
      "__________________________________________________________________________________________________\n",
      "block_8_expand_BN (BatchNormali (None, 8, 8, 384)    1536        block_8_expand[0][0]             \n",
      "__________________________________________________________________________________________________\n",
      "block_8_expand_relu (ReLU)      (None, 8, 8, 384)    0           block_8_expand_BN[0][0]          \n",
      "__________________________________________________________________________________________________\n",
      "block_8_depthwise (DepthwiseCon (None, 8, 8, 384)    3456        block_8_expand_relu[0][0]        \n",
      "__________________________________________________________________________________________________\n",
      "block_8_depthwise_BN (BatchNorm (None, 8, 8, 384)    1536        block_8_depthwise[0][0]          \n",
      "__________________________________________________________________________________________________\n",
      "block_8_depthwise_relu (ReLU)   (None, 8, 8, 384)    0           block_8_depthwise_BN[0][0]       \n",
      "__________________________________________________________________________________________________\n",
      "block_8_project (Conv2D)        (None, 8, 8, 64)     24576       block_8_depthwise_relu[0][0]     \n",
      "__________________________________________________________________________________________________\n",
      "block_8_project_BN (BatchNormal (None, 8, 8, 64)     256         block_8_project[0][0]            \n",
      "__________________________________________________________________________________________________\n",
      "block_8_add (Add)               (None, 8, 8, 64)     0           block_7_add[0][0]                \n",
      "                                                                 block_8_project_BN[0][0]         \n",
      "__________________________________________________________________________________________________\n",
      "block_9_expand (Conv2D)         (None, 8, 8, 384)    24576       block_8_add[0][0]                \n",
      "__________________________________________________________________________________________________\n",
      "block_9_expand_BN (BatchNormali (None, 8, 8, 384)    1536        block_9_expand[0][0]             \n",
      "__________________________________________________________________________________________________\n",
      "block_9_expand_relu (ReLU)      (None, 8, 8, 384)    0           block_9_expand_BN[0][0]          \n",
      "__________________________________________________________________________________________________\n",
      "block_9_depthwise (DepthwiseCon (None, 8, 8, 384)    3456        block_9_expand_relu[0][0]        \n",
      "__________________________________________________________________________________________________\n",
      "block_9_depthwise_BN (BatchNorm (None, 8, 8, 384)    1536        block_9_depthwise[0][0]          \n",
      "__________________________________________________________________________________________________\n",
      "block_9_depthwise_relu (ReLU)   (None, 8, 8, 384)    0           block_9_depthwise_BN[0][0]       \n",
      "__________________________________________________________________________________________________\n",
      "block_9_project (Conv2D)        (None, 8, 8, 64)     24576       block_9_depthwise_relu[0][0]     \n",
      "__________________________________________________________________________________________________\n",
      "block_9_project_BN (BatchNormal (None, 8, 8, 64)     256         block_9_project[0][0]            \n",
      "__________________________________________________________________________________________________\n",
      "block_9_add (Add)               (None, 8, 8, 64)     0           block_8_add[0][0]                \n",
      "                                                                 block_9_project_BN[0][0]         \n",
      "__________________________________________________________________________________________________\n",
      "block_10_expand (Conv2D)        (None, 8, 8, 384)    24576       block_9_add[0][0]                \n",
      "__________________________________________________________________________________________________\n",
      "block_10_expand_BN (BatchNormal (None, 8, 8, 384)    1536        block_10_expand[0][0]            \n",
      "__________________________________________________________________________________________________\n",
      "block_10_expand_relu (ReLU)     (None, 8, 8, 384)    0           block_10_expand_BN[0][0]         \n",
      "__________________________________________________________________________________________________\n",
      "block_10_depthwise (DepthwiseCo (None, 8, 8, 384)    3456        block_10_expand_relu[0][0]       \n",
      "__________________________________________________________________________________________________\n",
      "block_10_depthwise_BN (BatchNor (None, 8, 8, 384)    1536        block_10_depthwise[0][0]         \n",
      "__________________________________________________________________________________________________\n",
      "block_10_depthwise_relu (ReLU)  (None, 8, 8, 384)    0           block_10_depthwise_BN[0][0]      \n",
      "__________________________________________________________________________________________________\n",
      "block_10_project (Conv2D)       (None, 8, 8, 96)     36864       block_10_depthwise_relu[0][0]    \n",
      "__________________________________________________________________________________________________\n",
      "block_10_project_BN (BatchNorma (None, 8, 8, 96)     384         block_10_project[0][0]           \n",
      "__________________________________________________________________________________________________\n",
      "block_11_expand (Conv2D)        (None, 8, 8, 576)    55296       block_10_project_BN[0][0]        \n",
      "__________________________________________________________________________________________________\n",
      "block_11_expand_BN (BatchNormal (None, 8, 8, 576)    2304        block_11_expand[0][0]            \n",
      "__________________________________________________________________________________________________\n",
      "block_11_expand_relu (ReLU)     (None, 8, 8, 576)    0           block_11_expand_BN[0][0]         \n",
      "__________________________________________________________________________________________________\n",
      "block_11_depthwise (DepthwiseCo (None, 8, 8, 576)    5184        block_11_expand_relu[0][0]       \n",
      "__________________________________________________________________________________________________\n",
      "block_11_depthwise_BN (BatchNor (None, 8, 8, 576)    2304        block_11_depthwise[0][0]         \n",
      "__________________________________________________________________________________________________\n",
      "block_11_depthwise_relu (ReLU)  (None, 8, 8, 576)    0           block_11_depthwise_BN[0][0]      \n",
      "__________________________________________________________________________________________________\n",
      "block_11_project (Conv2D)       (None, 8, 8, 96)     55296       block_11_depthwise_relu[0][0]    \n",
      "__________________________________________________________________________________________________\n",
      "block_11_project_BN (BatchNorma (None, 8, 8, 96)     384         block_11_project[0][0]           \n",
      "__________________________________________________________________________________________________\n",
      "block_11_add (Add)              (None, 8, 8, 96)     0           block_10_project_BN[0][0]        \n",
      "                                                                 block_11_project_BN[0][0]        \n",
      "__________________________________________________________________________________________________\n",
      "block_12_expand (Conv2D)        (None, 8, 8, 576)    55296       block_11_add[0][0]               \n",
      "__________________________________________________________________________________________________\n",
      "block_12_expand_BN (BatchNormal (None, 8, 8, 576)    2304        block_12_expand[0][0]            \n",
      "__________________________________________________________________________________________________\n",
      "block_12_expand_relu (ReLU)     (None, 8, 8, 576)    0           block_12_expand_BN[0][0]         \n",
      "__________________________________________________________________________________________________\n",
      "block_12_depthwise (DepthwiseCo (None, 8, 8, 576)    5184        block_12_expand_relu[0][0]       \n",
      "__________________________________________________________________________________________________\n",
      "block_12_depthwise_BN (BatchNor (None, 8, 8, 576)    2304        block_12_depthwise[0][0]         \n",
      "__________________________________________________________________________________________________\n",
      "block_12_depthwise_relu (ReLU)  (None, 8, 8, 576)    0           block_12_depthwise_BN[0][0]      \n",
      "__________________________________________________________________________________________________\n",
      "block_12_project (Conv2D)       (None, 8, 8, 96)     55296       block_12_depthwise_relu[0][0]    \n",
      "__________________________________________________________________________________________________\n",
      "block_12_project_BN (BatchNorma (None, 8, 8, 96)     384         block_12_project[0][0]           \n",
      "__________________________________________________________________________________________________\n",
      "block_12_add (Add)              (None, 8, 8, 96)     0           block_11_add[0][0]               \n",
      "                                                                 block_12_project_BN[0][0]        \n",
      "__________________________________________________________________________________________________\n",
      "block_13_expand (Conv2D)        (None, 8, 8, 576)    55296       block_12_add[0][0]               \n",
      "__________________________________________________________________________________________________\n",
      "block_13_expand_BN (BatchNormal (None, 8, 8, 576)    2304        block_13_expand[0][0]            \n",
      "__________________________________________________________________________________________________\n",
      "block_13_expand_relu (ReLU)     (None, 8, 8, 576)    0           block_13_expand_BN[0][0]         \n",
      "__________________________________________________________________________________________________\n",
      "block_13_pad (ZeroPadding2D)    (None, 9, 9, 576)    0           block_13_expand_relu[0][0]       \n",
      "__________________________________________________________________________________________________\n",
      "block_13_depthwise (DepthwiseCo (None, 4, 4, 576)    5184        block_13_pad[0][0]               \n",
      "__________________________________________________________________________________________________\n",
      "block_13_depthwise_BN (BatchNor (None, 4, 4, 576)    2304        block_13_depthwise[0][0]         \n",
      "__________________________________________________________________________________________________\n",
      "block_13_depthwise_relu (ReLU)  (None, 4, 4, 576)    0           block_13_depthwise_BN[0][0]      \n",
      "__________________________________________________________________________________________________\n",
      "block_13_project (Conv2D)       (None, 4, 4, 160)    92160       block_13_depthwise_relu[0][0]    \n",
      "__________________________________________________________________________________________________\n",
      "block_13_project_BN (BatchNorma (None, 4, 4, 160)    640         block_13_project[0][0]           \n",
      "__________________________________________________________________________________________________\n",
      "block_14_expand (Conv2D)        (None, 4, 4, 960)    153600      block_13_project_BN[0][0]        \n",
      "__________________________________________________________________________________________________\n",
      "block_14_expand_BN (BatchNormal (None, 4, 4, 960)    3840        block_14_expand[0][0]            \n",
      "__________________________________________________________________________________________________\n",
      "block_14_expand_relu (ReLU)     (None, 4, 4, 960)    0           block_14_expand_BN[0][0]         \n",
      "__________________________________________________________________________________________________\n",
      "block_14_depthwise (DepthwiseCo (None, 4, 4, 960)    8640        block_14_expand_relu[0][0]       \n",
      "__________________________________________________________________________________________________\n",
      "block_14_depthwise_BN (BatchNor (None, 4, 4, 960)    3840        block_14_depthwise[0][0]         \n",
      "__________________________________________________________________________________________________\n",
      "block_14_depthwise_relu (ReLU)  (None, 4, 4, 960)    0           block_14_depthwise_BN[0][0]      \n",
      "__________________________________________________________________________________________________\n",
      "block_14_project (Conv2D)       (None, 4, 4, 160)    153600      block_14_depthwise_relu[0][0]    \n",
      "__________________________________________________________________________________________________\n",
      "block_14_project_BN (BatchNorma (None, 4, 4, 160)    640         block_14_project[0][0]           \n",
      "__________________________________________________________________________________________________\n",
      "block_14_add (Add)              (None, 4, 4, 160)    0           block_13_project_BN[0][0]        \n",
      "                                                                 block_14_project_BN[0][0]        \n",
      "__________________________________________________________________________________________________\n",
      "block_15_expand (Conv2D)        (None, 4, 4, 960)    153600      block_14_add[0][0]               \n",
      "__________________________________________________________________________________________________\n",
      "block_15_expand_BN (BatchNormal (None, 4, 4, 960)    3840        block_15_expand[0][0]            \n",
      "__________________________________________________________________________________________________\n",
      "block_15_expand_relu (ReLU)     (None, 4, 4, 960)    0           block_15_expand_BN[0][0]         \n",
      "__________________________________________________________________________________________________\n",
      "block_15_depthwise (DepthwiseCo (None, 4, 4, 960)    8640        block_15_expand_relu[0][0]       \n",
      "__________________________________________________________________________________________________\n",
      "block_15_depthwise_BN (BatchNor (None, 4, 4, 960)    3840        block_15_depthwise[0][0]         \n",
      "__________________________________________________________________________________________________\n",
      "block_15_depthwise_relu (ReLU)  (None, 4, 4, 960)    0           block_15_depthwise_BN[0][0]      \n",
      "__________________________________________________________________________________________________\n",
      "block_15_project (Conv2D)       (None, 4, 4, 160)    153600      block_15_depthwise_relu[0][0]    \n",
      "__________________________________________________________________________________________________\n",
      "block_15_project_BN (BatchNorma (None, 4, 4, 160)    640         block_15_project[0][0]           \n",
      "__________________________________________________________________________________________________\n",
      "block_15_add (Add)              (None, 4, 4, 160)    0           block_14_add[0][0]               \n",
      "                                                                 block_15_project_BN[0][0]        \n",
      "__________________________________________________________________________________________________\n",
      "block_16_expand (Conv2D)        (None, 4, 4, 960)    153600      block_15_add[0][0]               \n",
      "__________________________________________________________________________________________________\n",
      "block_16_expand_BN (BatchNormal (None, 4, 4, 960)    3840        block_16_expand[0][0]            \n",
      "__________________________________________________________________________________________________\n",
      "block_16_expand_relu (ReLU)     (None, 4, 4, 960)    0           block_16_expand_BN[0][0]         \n",
      "__________________________________________________________________________________________________\n",
      "block_16_depthwise (DepthwiseCo (None, 4, 4, 960)    8640        block_16_expand_relu[0][0]       \n",
      "__________________________________________________________________________________________________\n",
      "block_16_depthwise_BN (BatchNor (None, 4, 4, 960)    3840        block_16_depthwise[0][0]         \n",
      "__________________________________________________________________________________________________\n",
      "block_16_depthwise_relu (ReLU)  (None, 4, 4, 960)    0           block_16_depthwise_BN[0][0]      \n",
      "__________________________________________________________________________________________________\n",
      "block_16_project (Conv2D)       (None, 4, 4, 320)    307200      block_16_depthwise_relu[0][0]    \n",
      "__________________________________________________________________________________________________\n",
      "block_16_project_BN (BatchNorma (None, 4, 4, 320)    1280        block_16_project[0][0]           \n",
      "__________________________________________________________________________________________________\n",
      "C5_reduced (Conv2D)             (None, 4, 4, 256)    82176       block_16_project_BN[0][0]        \n",
      "__________________________________________________________________________________________________\n",
      "C4_reduced (Conv2D)             (None, 8, 8, 256)    24832       block_12_add[0][0]               \n",
      "__________________________________________________________________________________________________\n",
      "P5_upsampled (UpSampling2D)     (None, 8, 8, 256)    0           C5_reduced[0][0]                 \n",
      "__________________________________________________________________________________________________\n",
      "P4_merged (Add)                 (None, 8, 8, 256)    0           C4_reduced[0][0]                 \n",
      "                                                                 P5_upsampled[0][0]               \n",
      "__________________________________________________________________________________________________\n",
      "C3_reduced (Conv2D)             (None, 16, 16, 256)  8448        block_5_add[0][0]                \n",
      "__________________________________________________________________________________________________\n",
      "P4_upsampled (UpSampling2D)     (None, 16, 16, 256)  0           P4_merged[0][0]                  \n",
      "__________________________________________________________________________________________________\n",
      "P3_merged (Add)                 (None, 16, 16, 256)  0           C3_reduced[0][0]                 \n",
      "                                                                 P4_upsampled[0][0]               \n",
      "__________________________________________________________________________________________________\n",
      "P3 (DepthwiseConv2D)            (None, 16, 16, 256)  2560        P3_merged[0][0]                  \n",
      "__________________________________________________________________________________________________\n",
      "conv_0_semantic_upsample_0 (Con (None, 16, 16, 64)   147520      P3[0][0]                         \n",
      "__________________________________________________________________________________________________\n",
      "conv_0_semantic_upsample_1 (Con (None, 16, 16, 64)   147520      P3[0][0]                         \n",
      "__________________________________________________________________________________________________\n",
      "conv_0_semantic_upsample_2 (Con (None, 16, 16, 64)   147520      P3[0][0]                         \n",
      "__________________________________________________________________________________________________\n",
      "upsampling_0_semantic_upsample_ (None, 32, 32, 64)   0           conv_0_semantic_upsample_0[0][0] \n",
      "__________________________________________________________________________________________________\n",
      "upsampling_0_semantic_upsample_ (None, 32, 32, 64)   0           conv_0_semantic_upsample_1[0][0] \n",
      "__________________________________________________________________________________________________\n",
      "upsampling_0_semantic_upsample_ (None, 32, 32, 64)   0           conv_0_semantic_upsample_2[0][0] \n",
      "__________________________________________________________________________________________________\n",
      "conv_1_semantic_upsample_0 (Con (None, 32, 32, 64)   36928       upsampling_0_semantic_upsample_0[\n",
      "__________________________________________________________________________________________________\n",
      "conv_1_semantic_upsample_1 (Con (None, 32, 32, 64)   36928       upsampling_0_semantic_upsample_1[\n",
      "__________________________________________________________________________________________________\n",
      "conv_1_semantic_upsample_2 (Con (None, 32, 32, 64)   36928       upsampling_0_semantic_upsample_2[\n",
      "__________________________________________________________________________________________________\n",
      "upsampling_1_semantic_upsample_ (None, 64, 64, 64)   0           conv_1_semantic_upsample_0[0][0] \n",
      "__________________________________________________________________________________________________\n",
      "upsampling_1_semantic_upsample_ (None, 64, 64, 64)   0           conv_1_semantic_upsample_1[0][0] \n",
      "__________________________________________________________________________________________________\n",
      "upsampling_1_semantic_upsample_ (None, 64, 64, 64)   0           conv_1_semantic_upsample_2[0][0] \n",
      "__________________________________________________________________________________________________\n",
      "conv_2_semantic_upsample_0 (Con (None, 64, 64, 64)   36928       upsampling_1_semantic_upsample_0[\n",
      "__________________________________________________________________________________________________\n",
      "conv_2_semantic_upsample_1 (Con (None, 64, 64, 64)   36928       upsampling_1_semantic_upsample_1[\n",
      "__________________________________________________________________________________________________\n",
      "conv_2_semantic_upsample_2 (Con (None, 64, 64, 64)   36928       upsampling_1_semantic_upsample_2[\n",
      "__________________________________________________________________________________________________\n",
      "upsampling_2_semantic_upsample_ (None, 128, 128, 64) 0           conv_2_semantic_upsample_0[0][0] \n",
      "__________________________________________________________________________________________________\n",
      "upsampling_2_semantic_upsample_ (None, 128, 128, 64) 0           conv_2_semantic_upsample_1[0][0] \n",
      "__________________________________________________________________________________________________\n",
      "upsampling_2_semantic_upsample_ (None, 128, 128, 64) 0           conv_2_semantic_upsample_2[0][0] \n",
      "__________________________________________________________________________________________________\n",
      "conv_0_semantic_0 (Conv2D)      (None, 128, 128, 128 8320        upsampling_2_semantic_upsample_0[\n",
      "__________________________________________________________________________________________________\n",
      "conv_0_semantic_1 (Conv2D)      (None, 128, 128, 128 8320        upsampling_2_semantic_upsample_1[\n",
      "__________________________________________________________________________________________________\n",
      "conv_0_semantic_2 (Conv2D)      (None, 128, 128, 128 8320        upsampling_2_semantic_upsample_2[\n",
      "__________________________________________________________________________________________________\n",
      "batch_normalization (BatchNorma (None, 128, 128, 128 512         conv_0_semantic_0[0][0]          \n",
      "__________________________________________________________________________________________________\n",
      "batch_normalization_1 (BatchNor (None, 128, 128, 128 512         conv_0_semantic_1[0][0]          \n",
      "__________________________________________________________________________________________________\n",
      "batch_normalization_2 (BatchNor (None, 128, 128, 128 512         conv_0_semantic_2[0][0]          \n",
      "__________________________________________________________________________________________________\n",
      "relu_0_semantic_0 (Activation)  (None, 128, 128, 128 0           batch_normalization[0][0]        \n",
      "__________________________________________________________________________________________________\n",
      "relu_0_semantic_1 (Activation)  (None, 128, 128, 128 0           batch_normalization_1[0][0]      \n",
      "__________________________________________________________________________________________________\n",
      "relu_0_semantic_2 (Activation)  (None, 128, 128, 128 0           batch_normalization_2[0][0]      \n",
      "__________________________________________________________________________________________________\n",
      "conv_1_semantic_0 (Conv2D)      (None, 128, 128, 1)  129         relu_0_semantic_0[0][0]          \n",
      "__________________________________________________________________________________________________\n",
      "conv_1_semantic_1 (Conv2D)      (None, 128, 128, 1)  129         relu_0_semantic_1[0][0]          \n",
      "__________________________________________________________________________________________________\n",
      "conv_1_semantic_2 (Conv2D)      (None, 128, 128, 2)  258         relu_0_semantic_2[0][0]          \n",
      "__________________________________________________________________________________________________\n",
      "semantic_0 (Activation)         (None, 128, 128, 1)  0           conv_1_semantic_0[0][0]          \n",
      "__________________________________________________________________________________________________\n",
      "semantic_1 (Activation)         (None, 128, 128, 1)  0           conv_1_semantic_1[0][0]          \n",
      "__________________________________________________________________________________________________\n",
      "semantic_2 (Softmax)            (None, 128, 128, 2)  0           conv_1_semantic_2[0][0]          \n",
      "==================================================================================================\n",
      "Total params: 2,652,432\n",
      "Trainable params: 2,620,112\n",
      "Non-trainable params: 32,320\n",
      "__________________________________________________________________________________________________\n"
     ]
    }
   ],
   "source": [
    "from deepcell.model_zoo.panopticnet import PanopticNet\n",
    "from deepcell.model_zoo.retinamask import RetinaMask\n",
    "from deepcell import losses\n",
    "from tensorflow.keras.optimizers import Adam\n",
    "from tensorflow.python.keras.losses import MSE\n",
    "\n",
    "# Define optimizer\n",
    "optimizer = Adam(lr=1e-4, clipnorm=0.001)\n",
    "    \n",
    "if model_type == 'watershed':\n",
    "    model = PanopticNet(backbone,\n",
    "                       input_shape=train_data.x.shape[1:],\n",
    "                       norm_method='whole_image',\n",
    "                       num_semantic_heads=3,\n",
    "                       num_semantic_classes=[1,1,2],\n",
    "                       location=True,\n",
    "                       include_top=True,\n",
    "                       interpolation='bilinear',\n",
    "                       lite=True)\n",
    "\n",
    "    # Define loss\n",
    "    loss_layers = ['semantic_0', 'semantic_1', 'semantic_2']\n",
    "    loss = {}\n",
    "\n",
    "    for layer_name in loss_layers:\n",
    "        n_classes = model.get_layer(layer_name).output_shape[-1]\n",
    "        if n_classes > 1:\n",
    "            def loss_function(y_true, y_pred):\n",
    "                return 0.01 * losses.weighted_categorical_crossentropy(\n",
    "                    y_true, y_pred, n_classes=n_classes)\n",
    "            loss[layer_name] = loss_function\n",
    "        elif n_classes == 1:\n",
    "            loss[layer_name] = MSE\n",
    "\n",
    "    # Compile model\n",
    "    model.compile(loss=loss, optimizer=optimizer)\n",
    "    \n",
    "elif model_type == 'pixelwise':\n",
    "    model = PanopticNet(backbone,\n",
    "                       input_shape=train_data.x.shape[1:],\n",
    "                       norm_method='whole_image',\n",
    "                       num_semantic_heads=1,\n",
    "                       num_semantic_classes=[3],\n",
    "                       location=False,\n",
    "                       include_top=True)\n",
    "\n",
    "    # Define loss\n",
    "    loss = {}\n",
    "    \n",
    "    def loss_function(y_true, y_pred):\n",
    "        return losses.weighted_categorical_crossentropy(\n",
    "                    y_true, y_pred, n_classes=3)\n",
    "    \n",
    "    loss['semantic_0'] = loss_function\n",
    "    \n",
    "    # Compile model\n",
    "    model.compile(loss=loss, optimizer=optimizer)\n",
    "    \n",
    "elif model_type == 'retinamask':\n",
    "    model = RetinaMask(backbone,\n",
    "                      num_classes=1,\n",
    "                      input_shape=train_data.x.shape[1:],\n",
    "                      norm_method='whole_image',\n",
    "                      use_imagenet=True,\n",
    "                      pyramid_levels=pyramid_levels,\n",
    "                      anchor_params=anchor_params)\n",
    "    \n",
    "    # Define loss\n",
    "    retinanet_losses = losses.RetinaNetLosses()\n",
    "    loss = {\n",
    "        'regression': retinanet_losses.regress_loss,\n",
    "        'classification': retinanet_losses.classification_loss,\n",
    "        'masks': retinanet_losses.mask_loss\n",
    "    }\n",
    "    \n",
    "    # Compile model\n",
    "    model.compile(loss=loss, optimizer=optimizer)\n",
    "    \n",
    "model.summary()"
   ]
  },
  {
   "cell_type": "markdown",
   "metadata": {
    "papermill": {
     "duration": 0.026983,
     "end_time": "2020-05-02T03:39:15.925492",
     "exception": false,
     "start_time": "2020-05-02T03:39:15.898509",
     "status": "completed"
    },
    "tags": []
   },
   "source": [
    "## Part 4: Define model training parameters\n",
    "\n",
    "Here, we define all of the parameters needed for training. The model trainer objects will record these metadata after training."
   ]
  },
  {
   "cell_type": "code",
   "execution_count": 7,
   "metadata": {
    "papermill": {
     "duration": 0.047643,
     "end_time": "2020-05-02T03:39:15.999889",
     "exception": false,
     "start_time": "2020-05-02T03:39:15.952246",
     "status": "completed"
    },
    "tags": []
   },
   "outputs": [],
   "source": [
    "model_name = 'nuclear_{}_{}_{}_{}'.format(str(train_permutation_seed), dataset_fraction, backbone, model_type)\n",
    "model_path = os.path.join('/data', 'models', date, model_name)\n",
    "dataset_metadata={'name': dataset_name,\n",
    "                  'other': 'Pooled nuclear data from HEK293, HeLa-S3, NIH-3T3, and RAW264.7 cells.'}\n",
    "training_kwargs = {}\n",
    "training_kwargs['batch_size'] = batch_size\n",
    "training_kwargs['lr'] = 1e-5 if model_type=='retinamask' else 1e-4\n",
    "training_kwargs['lr_decay'] = 0.95\n",
    "training_kwargs['training_seed'] = 0\n",
    "training_kwargs['n_epochs'] = n_epochs\n",
    "training_kwargs['training_steps_per_epoch'] = 82800//16 if model_type == 'retinamask' else 82800 // training_kwargs['batch_size']\n",
    "training_kwargs['validation_steps_per_epoch'] = val_data.y.shape[0] // training_kwargs['batch_size']"
   ]
  },
  {
   "cell_type": "markdown",
   "metadata": {
    "papermill": {
     "duration": 0.026462,
     "end_time": "2020-05-02T03:39:16.056053",
     "exception": false,
     "start_time": "2020-05-02T03:39:16.029591",
     "status": "completed"
    },
    "tags": []
   },
   "source": [
    "## Part 5: Create the model trainer and train the model\n",
    "\n",
    "Here, we create the model trainer, train the model, and export the model - along with the metadata and benchmarks"
   ]
  },
  {
   "cell_type": "code",
   "execution_count": 8,
   "metadata": {
    "papermill": {
     "duration": 0.102298,
     "end_time": "2020-05-02T03:39:16.185025",
     "exception": false,
     "start_time": "2020-05-02T03:39:16.082727",
     "status": "completed"
    },
    "tags": []
   },
   "outputs": [],
   "source": [
    "from __future__ import absolute_import\n",
    "from __future__ import print_function\n",
    "from __future__ import division\n",
    "\n",
    "import os\n",
    "import json\n",
    "import hashlib\n",
    "import numpy as np\n",
    "\n",
    "from skimage.morphology import remove_small_objects\n",
    "\n",
    "from deepcell.utils.export_utils import export_model\n",
    "from deepcell.utils.train_utils import rate_scheduler, get_callbacks\n",
    "from deepcell.metrics import Metrics\n",
    "\n",
    "from tensorflow.python.compiler.tensorrt import trt_convert as trt\n",
    "\n",
    "class ModelTrainer(object):\n",
    "    def __init__(self, \n",
    "                model,\n",
    "                model_name,\n",
    "                model_path,\n",
    "                train_generator,\n",
    "                validation_generator,\n",
    "                benchmarking_data=None,\n",
    "                log_dir=None,\n",
    "                tfserving_path=None,\n",
    "                training_callbacks='default',\n",
    "                max_batch_size=256,\n",
    "                export_precisions = ['fp16'],\n",
    "                postprocessing_fn=None,\n",
    "                postprocessing_kwargs={},\n",
    "                predict_batch_size=4,\n",
    "                model_version=0,\n",
    "                min_size=100,\n",
    "                dataset_metadata={},\n",
    "                training_kwargs={}):\n",
    "    \n",
    "        \"\"\"\n",
    "        Model trainer class for segmentation models. This class eases model development by\n",
    "        linking relevant metadata (dataset, training parameters, benchmarking) to the model\n",
    "        training process.\n",
    "        \"\"\"\n",
    "\n",
    "        # Add model information\n",
    "        self.model = model\n",
    "        self.model_name = model_name\n",
    "        self.model_path = model_path\n",
    "        self.model_version = model_version\n",
    "\n",
    "        # Add dataset information\n",
    "        self.train_generator = train_generator\n",
    "        self.validation_generator = validation_generator\n",
    "        self.benchmarking_data = benchmarking_data\n",
    "        self.dataset_metadata = dataset_metadata\n",
    "        self.postprocessing_fn = postprocessing_fn\n",
    "        self.postprocessing_kwargs = postprocessing_kwargs\n",
    "        self.predict_batch_size = predict_batch_size\n",
    "\n",
    "        # Add benchmarking information\n",
    "        self.min_size = min_size\n",
    "\n",
    "        # Add export information\n",
    "        self.max_batch_size = max_batch_size\n",
    "        self.export_precisions = export_precisions\n",
    "\n",
    "        # Add directories for logging and model export\n",
    "        if log_dir is None:\n",
    "            self.log_dir = os.path.join(model_path, 'logging')\n",
    "        else:\n",
    "            self.log_dir = log_dir\n",
    "        \n",
    "        if tfserving_path is None:\n",
    "            self.tfserving_path = os.path.join(model_path, 'serving')\n",
    "        else:\n",
    "            self.tfserving_path = tfserving_path\n",
    "\n",
    "        # Add training kwargs\n",
    "        self.batch_size = training_kwargs.pop('batch_size', 1)\n",
    "        self.training_steps_per_epoch = training_kwargs.pop('training_steps_per_epoch', \n",
    "                                                self.train_generator.y.shape[0] // self.batch_size)\n",
    "        self.validation_steps_per_epoch = training_kwargs.pop('validation_steps_per_epoch', \n",
    "                                                self.validation_generator.y.shape[0] // self.batch_size)\n",
    "        self.n_epochs = training_kwargs.pop('n_epochs', 8)\n",
    "        self.lr = training_kwargs.pop('lr', 1e-5)\n",
    "        self.lr_decay = training_kwargs.pop('lr_decay', 0.95)\n",
    "        self.lr_sched = training_kwargs.pop('lr_sched', rate_scheduler(lr=self.lr, decay=self.lr_decay))\n",
    "\n",
    "        # Add callbacks\n",
    "        if training_callbacks == 'default':\n",
    "            model_name = os.path.join(model_path, model_name + '.h5')\n",
    "            self.training_callbacks = get_callbacks(model_name, lr_sched=self.lr_sched,\n",
    "                                        tensorboard_log_dir=self.log_dir,\n",
    "                                        save_weights_only=False,\n",
    "                                        monitor='val_loss', verbose=1)\n",
    "        else:\n",
    "            self.training_callbacks = training_callbacks\n",
    "\n",
    "        self.trained = False\n",
    "\n",
    "        return None\n",
    "\n",
    "    def _create_hash(self):\n",
    "        if not self.trained:\n",
    "            raise ValueError('Can only create a hash for a trained model')\n",
    "        else:\n",
    "            weights = []\n",
    "            for layer in self.model.layers:\n",
    "                weights += layer.get_weights()\n",
    "            summed_weights_list = [np.sum(w) for w in weights]\n",
    "            summed_weights = sum(summed_weights_list)\n",
    "            model_hash = hashlib.md5(str(summed_weights).encode())\n",
    "            self.model_hash = model_hash.hexdigest()\n",
    "\n",
    "    def _fit(self):\n",
    "        loss_history = self.model.fit_generator(\n",
    "        self.train_generator,\n",
    "        steps_per_epoch=self.training_steps_per_epoch,\n",
    "        epochs=self.n_epochs,\n",
    "        validation_data=self.validation_generator,\n",
    "        validation_steps=self.validation_steps_per_epoch,\n",
    "        callbacks=self.training_callbacks,\n",
    "        verbose=2)\n",
    "\n",
    "        self.trained = True\n",
    "        self.loss_history = loss_history\n",
    "\n",
    "        return None\n",
    "\n",
    "    def _benchmark(self):\n",
    "        if not self.trained:\n",
    "            raise ValueError('Model training is not complete')\n",
    "        else:\n",
    "            if self.benchmarking_data is None:\n",
    "                x = self.validation_generator.x.copy()\n",
    "                y_true = self.validation_generator.y.copy()\n",
    "            else:\n",
    "                x = self.benchmarking_data['X']\n",
    "                y_true = self.benchmarking_data['y']\n",
    "\n",
    "            outputs = self.model.predict(x, batch_size=self.predict_batch_size)\n",
    "            y_pred = self.postprocessing_fn(outputs, **self.postprocessing_kwargs)\n",
    "\n",
    "            if len(y_pred.shape) == 3:\n",
    "                y_pred = np.expand_dims(y_pred, axis=-1)    #TODO: This is a hack because the postprocessing fn returns\n",
    "                                                            #masks with no channel dimensions. This should be fixed.\n",
    "            \n",
    "            benchmarks = Metrics(self.model_name, seg=False)\n",
    "            benchmarks.calc_object_stats(y_true, y_pred)\n",
    "\n",
    "            # Save benchmarks in dict\n",
    "            self.benchmarks = {}\n",
    "            for key in benchmarks.stats.keys():\n",
    "                self.benchmarks[key] = int(benchmarks.stats[key].sum())\n",
    "\n",
    "            for i in range(y_pred.shape[0]):\n",
    "                y_pred[i] = remove_small_objects(y_pred[i].astype(int), min_size=self.min_size)\n",
    "                y_true[i] = remove_small_objects(y_true[i].astype(int), min_size=self.min_size)\n",
    "\n",
    "            benchmarks = Metrics(self.model_name + ' - Removed objects less than {} pixels'.format(self.min_size), \n",
    "                                    seg=False)\n",
    "            benchmarks.calc_object_stats(y_true, y_pred)\n",
    "\n",
    "            # Save benchmarks in dict\n",
    "            self.benchmarks_remove_small_objects = {}\n",
    "            for key in benchmarks.stats.keys():\n",
    "                self.benchmarks_remove_small_objects[key] = int(benchmarks.stats[key].sum())\n",
    "\n",
    "        return None\n",
    "\n",
    "    def _create_training_metadata(self):\n",
    "        training_metadata = {}\n",
    "        training_metadata['batch_size'] = self.batch_size\n",
    "        training_metadata['lr'] = self.lr\n",
    "        training_metadata['lr_decay'] = self.lr_decay\n",
    "        training_metadata['n_epochs'] = self.n_epochs\n",
    "        training_metadata['training_steps_per_epoch'] = self.training_steps_per_epoch\n",
    "        training_metadata['validation_steps_per_epoch'] = self.validation_steps_per_epoch\n",
    "\n",
    "        self.training_metadata = training_metadata\n",
    "\n",
    "        return None\n",
    "\n",
    "    def _export_tf_serving(self):\n",
    "        export_model(self.model, self.tfserving_path, model_version=self.model_version)\n",
    "\n",
    "        # Convert model to TensorRT with float16\n",
    "        if 'fp16' in self.export_precisions:\n",
    "            export_model_dir = os.path.join(self.tfserving_path, str(self.model_version))\n",
    "            export_model_dir_fp16 = os.path.join(self.tfserving_path + '_fp16', str(self.model_version))\n",
    "\n",
    "            converter = trt.TrtGraphConverter(input_saved_model_dir=export_model_dir,\n",
    "                                            max_batch_size=self.max_batch_size,\n",
    "                                            precision_mode='fp16')\n",
    "            converter.convert()\n",
    "            converter.save(export_model_dir_fp16)\n",
    "\n",
    "        return None\n",
    "\n",
    "    def create_model(self, export_serving=False, export_lite=False):\n",
    "\n",
    "        # Train model\n",
    "        self._fit()\n",
    "\n",
    "        # Load best performing weights\n",
    "        model_name = os.path.join(self.model_path, self.model_name + '.h5')\n",
    "        self.model.load_weights(model_name)\n",
    "\n",
    "        # Create model hash\n",
    "        self._create_hash()\n",
    "\n",
    "        # Create benchmarks\n",
    "        self._benchmark()\n",
    "\n",
    "        # Create model metadata\n",
    "        self._create_training_metadata()\n",
    "\n",
    "        # Save model\n",
    "        model_name = os.path.join(self.model_path, self.model_name + '_' + self.model_hash + '.h5')\n",
    "        self.model.save(model_name)\n",
    "\n",
    "        # Save loss history\n",
    "        loss_name = os.path.join(self.model_path, self.model_name + '_loss_' + self.model_hash + '.npz')\n",
    "        np.savez(loss_name, loss_history=self.loss_history.history)\n",
    "\n",
    "        # Save metadata (training and dataset) and benchmarks\n",
    "        metadata = {}\n",
    "        metadata['model_hash'] = self.model_hash\n",
    "        metadata['training_metadata'] = self.training_metadata\n",
    "        metadata['dataset_metadata'] = self.dataset_metadata\n",
    "        metadata['benchmarks'] = self.benchmarks\n",
    "        metadata['benchmarks_remove_small_objects'] = self.benchmarks_remove_small_objects\n",
    "\n",
    "        # TODO: Saving the benchmarking object in this way saves each individual benchmark.\n",
    "        # This should be refactored to save the sums.\n",
    "\n",
    "        metadata_name = os.path.join(self.model_path, self.model_name + '_' + self.model_hash + '.json')\n",
    "        \n",
    "        with open(metadata_name, 'w') as json_file:\n",
    "            json.dump(metadata, json_file)\n",
    "\n",
    "        # Export tf serving model\n",
    "        if export_serving:\n",
    "            self._export_tf_serving()\n",
    "\n",
    "        return None"
   ]
  },
  {
   "cell_type": "code",
   "execution_count": 9,
   "metadata": {
    "papermill": {
     "duration": 14771.981338,
     "end_time": "2020-05-02T07:45:28.196772",
     "exception": false,
     "start_time": "2020-05-02T03:39:16.215434",
     "status": "completed"
    },
    "scrolled": false,
    "tags": []
   },
   "outputs": [
    {
     "name": "stdout",
     "output_type": "stream",
     "text": [
      "Epoch 1/16\n"
     ]
    },
    {
     "name": "stderr",
     "output_type": "stream",
     "text": [
      "W0502 03:39:24.189790 139661827884864 deprecation.py:323] From /usr/local/lib/python3.6/dist-packages/tensorflow/python/ops/math_grad.py:1250: add_dispatch_support.<locals>.wrapper (from tensorflow.python.ops.array_ops) is deprecated and will be removed in a future version.\n",
      "Instructions for updating:\n",
      "Use tf.where in 2.0, which has the same broadcast rule as np.where\n"
     ]
    },
    {
     "name": "stderr",
     "output_type": "stream",
     "text": [
      "W0502 03:39:47.976087 139661827884864 callbacks.py:257] Method (on_train_batch_end) is slow compared to the batch update (0.933902). Check your callbacks.\n"
     ]
    },
    {
     "name": "stderr",
     "output_type": "stream",
     "text": [
      "W0502 03:39:48.137167 139661827884864 callbacks.py:257] Method (on_train_batch_end) is slow compared to the batch update (0.236117). Check your callbacks.\n"
     ]
    },
    {
     "name": "stdout",
     "output_type": "stream",
     "text": [
      "\n",
      "Epoch 00001: val_loss improved from inf to 0.00638, saving model to /data/models/05012020/nuclear_1_1_mobilenetv2_watershed/nuclear_1_1_mobilenetv2_watershed.h5\n"
     ]
    },
    {
     "name": "stdout",
     "output_type": "stream",
     "text": [
      "5175/5175 - 953s - loss: 0.0082 - semantic_0_loss: 0.0034 - semantic_1_loss: 0.0040 - semantic_2_loss: 7.8370e-04 - val_loss: 0.0064 - val_semantic_0_loss: 0.0030 - val_semantic_1_loss: 0.0028 - val_semantic_2_loss: 5.7954e-04\n"
     ]
    },
    {
     "name": "stdout",
     "output_type": "stream",
     "text": [
      "Epoch 2/16\n"
     ]
    },
    {
     "name": "stdout",
     "output_type": "stream",
     "text": [
      "\n",
      "Epoch 00002: val_loss improved from 0.00638 to 0.00592, saving model to /data/models/05012020/nuclear_1_1_mobilenetv2_watershed/nuclear_1_1_mobilenetv2_watershed.h5\n"
     ]
    },
    {
     "name": "stdout",
     "output_type": "stream",
     "text": [
      "5175/5175 - 900s - loss: 0.0058 - semantic_0_loss: 0.0022 - semantic_1_loss: 0.0029 - semantic_2_loss: 6.5867e-04 - val_loss: 0.0059 - val_semantic_0_loss: 0.0027 - val_semantic_1_loss: 0.0026 - val_semantic_2_loss: 6.1155e-04\n"
     ]
    },
    {
     "name": "stdout",
     "output_type": "stream",
     "text": [
      "Epoch 3/16\n"
     ]
    },
    {
     "name": "stdout",
     "output_type": "stream",
     "text": [
      "\n",
      "Epoch 00003: val_loss improved from 0.00592 to 0.00573, saving model to /data/models/05012020/nuclear_1_1_mobilenetv2_watershed/nuclear_1_1_mobilenetv2_watershed.h5\n"
     ]
    },
    {
     "name": "stdout",
     "output_type": "stream",
     "text": [
      "5175/5175 - 902s - loss: 0.0054 - semantic_0_loss: 0.0020 - semantic_1_loss: 0.0028 - semantic_2_loss: 6.3482e-04 - val_loss: 0.0057 - val_semantic_0_loss: 0.0027 - val_semantic_1_loss: 0.0025 - val_semantic_2_loss: 5.6130e-04\n"
     ]
    },
    {
     "name": "stdout",
     "output_type": "stream",
     "text": [
      "Epoch 4/16\n"
     ]
    },
    {
     "name": "stdout",
     "output_type": "stream",
     "text": [
      "\n",
      "Epoch 00004: val_loss improved from 0.00573 to 0.00550, saving model to /data/models/05012020/nuclear_1_1_mobilenetv2_watershed/nuclear_1_1_mobilenetv2_watershed.h5\n"
     ]
    },
    {
     "name": "stdout",
     "output_type": "stream",
     "text": [
      "5175/5175 - 899s - loss: 0.0052 - semantic_0_loss: 0.0019 - semantic_1_loss: 0.0026 - semantic_2_loss: 6.1775e-04 - val_loss: 0.0055 - val_semantic_0_loss: 0.0025 - val_semantic_1_loss: 0.0024 - val_semantic_2_loss: 5.7366e-04\n"
     ]
    },
    {
     "name": "stdout",
     "output_type": "stream",
     "text": [
      "Epoch 5/16\n"
     ]
    },
    {
     "name": "stdout",
     "output_type": "stream",
     "text": [
      "\n",
      "Epoch 00005: val_loss improved from 0.00550 to 0.00533, saving model to /data/models/05012020/nuclear_1_1_mobilenetv2_watershed/nuclear_1_1_mobilenetv2_watershed.h5\n"
     ]
    },
    {
     "name": "stdout",
     "output_type": "stream",
     "text": [
      "5175/5175 - 903s - loss: 0.0050 - semantic_0_loss: 0.0019 - semantic_1_loss: 0.0026 - semantic_2_loss: 6.0648e-04 - val_loss: 0.0053 - val_semantic_0_loss: 0.0024 - val_semantic_1_loss: 0.0023 - val_semantic_2_loss: 5.4174e-04\n"
     ]
    },
    {
     "name": "stdout",
     "output_type": "stream",
     "text": [
      "Epoch 6/16\n"
     ]
    },
    {
     "name": "stdout",
     "output_type": "stream",
     "text": [
      "\n",
      "Epoch 00006: val_loss improved from 0.00533 to 0.00524, saving model to /data/models/05012020/nuclear_1_1_mobilenetv2_watershed/nuclear_1_1_mobilenetv2_watershed.h5\n"
     ]
    },
    {
     "name": "stdout",
     "output_type": "stream",
     "text": [
      "5175/5175 - 902s - loss: 0.0049 - semantic_0_loss: 0.0018 - semantic_1_loss: 0.0025 - semantic_2_loss: 5.9834e-04 - val_loss: 0.0052 - val_semantic_0_loss: 0.0024 - val_semantic_1_loss: 0.0023 - val_semantic_2_loss: 5.6794e-04\n"
     ]
    },
    {
     "name": "stdout",
     "output_type": "stream",
     "text": [
      "Epoch 7/16\n"
     ]
    },
    {
     "name": "stdout",
     "output_type": "stream",
     "text": [
      "\n",
      "Epoch 00007: val_loss did not improve from 0.00524\n"
     ]
    },
    {
     "name": "stdout",
     "output_type": "stream",
     "text": [
      "5175/5175 - 897s - loss: 0.0048 - semantic_0_loss: 0.0018 - semantic_1_loss: 0.0025 - semantic_2_loss: 5.8911e-04 - val_loss: 0.0054 - val_semantic_0_loss: 0.0024 - val_semantic_1_loss: 0.0024 - val_semantic_2_loss: 5.8642e-04\n"
     ]
    },
    {
     "name": "stdout",
     "output_type": "stream",
     "text": [
      "Epoch 8/16\n"
     ]
    },
    {
     "name": "stdout",
     "output_type": "stream",
     "text": [
      "\n",
      "Epoch 00008: val_loss did not improve from 0.00524\n",
      "5175/5175 - 893s - loss: 0.0047 - semantic_0_loss: 0.0017 - semantic_1_loss: 0.0024 - semantic_2_loss: 5.8220e-04 - val_loss: 0.0054 - val_semantic_0_loss: 0.0024 - val_semantic_1_loss: 0.0024 - val_semantic_2_loss: 5.9726e-04\n"
     ]
    },
    {
     "name": "stdout",
     "output_type": "stream",
     "text": [
      "Epoch 9/16\n"
     ]
    },
    {
     "name": "stdout",
     "output_type": "stream",
     "text": [
      "\n",
      "Epoch 00009: val_loss did not improve from 0.00524\n",
      "5175/5175 - 898s - loss: 0.0046 - semantic_0_loss: 0.0017 - semantic_1_loss: 0.0024 - semantic_2_loss: 5.7576e-04 - val_loss: 0.0053 - val_semantic_0_loss: 0.0023 - val_semantic_1_loss: 0.0024 - val_semantic_2_loss: 5.7668e-04\n"
     ]
    },
    {
     "name": "stdout",
     "output_type": "stream",
     "text": [
      "Epoch 10/16\n"
     ]
    },
    {
     "name": "stdout",
     "output_type": "stream",
     "text": [
      "\n",
      "Epoch 00010: val_loss improved from 0.00524 to 0.00521, saving model to /data/models/05012020/nuclear_1_1_mobilenetv2_watershed/nuclear_1_1_mobilenetv2_watershed.h5\n"
     ]
    },
    {
     "name": "stdout",
     "output_type": "stream",
     "text": [
      "5175/5175 - 901s - loss: 0.0046 - semantic_0_loss: 0.0017 - semantic_1_loss: 0.0023 - semantic_2_loss: 5.7087e-04 - val_loss: 0.0052 - val_semantic_0_loss: 0.0023 - val_semantic_1_loss: 0.0024 - val_semantic_2_loss: 5.6314e-04\n"
     ]
    },
    {
     "name": "stdout",
     "output_type": "stream",
     "text": [
      "Epoch 11/16\n"
     ]
    },
    {
     "name": "stdout",
     "output_type": "stream",
     "text": [
      "\n",
      "Epoch 00011: val_loss did not improve from 0.00521\n",
      "5175/5175 - 898s - loss: 0.0045 - semantic_0_loss: 0.0016 - semantic_1_loss: 0.0023 - semantic_2_loss: 5.6503e-04 - val_loss: 0.0052 - val_semantic_0_loss: 0.0023 - val_semantic_1_loss: 0.0023 - val_semantic_2_loss: 5.6802e-04\n"
     ]
    },
    {
     "name": "stdout",
     "output_type": "stream",
     "text": [
      "Epoch 12/16\n"
     ]
    },
    {
     "name": "stdout",
     "output_type": "stream",
     "text": [
      "\n",
      "Epoch 00012: val_loss improved from 0.00521 to 0.00520, saving model to /data/models/05012020/nuclear_1_1_mobilenetv2_watershed/nuclear_1_1_mobilenetv2_watershed.h5\n"
     ]
    },
    {
     "name": "stdout",
     "output_type": "stream",
     "text": [
      "5175/5175 - 906s - loss: 0.0044 - semantic_0_loss: 0.0016 - semantic_1_loss: 0.0023 - semantic_2_loss: 5.6075e-04 - val_loss: 0.0052 - val_semantic_0_loss: 0.0023 - val_semantic_1_loss: 0.0023 - val_semantic_2_loss: 5.6875e-04\n"
     ]
    },
    {
     "name": "stdout",
     "output_type": "stream",
     "text": [
      "Epoch 13/16\n"
     ]
    },
    {
     "name": "stdout",
     "output_type": "stream",
     "text": [
      "\n",
      "Epoch 00013: val_loss improved from 0.00520 to 0.00492, saving model to /data/models/05012020/nuclear_1_1_mobilenetv2_watershed/nuclear_1_1_mobilenetv2_watershed.h5\n"
     ]
    },
    {
     "name": "stdout",
     "output_type": "stream",
     "text": [
      "5175/5175 - 902s - loss: 0.0044 - semantic_0_loss: 0.0016 - semantic_1_loss: 0.0023 - semantic_2_loss: 5.5670e-04 - val_loss: 0.0049 - val_semantic_0_loss: 0.0021 - val_semantic_1_loss: 0.0023 - val_semantic_2_loss: 5.5001e-04\n"
     ]
    },
    {
     "name": "stdout",
     "output_type": "stream",
     "text": [
      "Epoch 14/16\n"
     ]
    },
    {
     "name": "stdout",
     "output_type": "stream",
     "text": [
      "\n",
      "Epoch 00014: val_loss did not improve from 0.00492\n"
     ]
    },
    {
     "name": "stdout",
     "output_type": "stream",
     "text": [
      "5175/5175 - 897s - loss: 0.0043 - semantic_0_loss: 0.0016 - semantic_1_loss: 0.0022 - semantic_2_loss: 5.5347e-04 - val_loss: 0.0053 - val_semantic_0_loss: 0.0024 - val_semantic_1_loss: 0.0024 - val_semantic_2_loss: 5.6961e-04\n"
     ]
    },
    {
     "name": "stdout",
     "output_type": "stream",
     "text": [
      "Epoch 15/16\n"
     ]
    },
    {
     "name": "stdout",
     "output_type": "stream",
     "text": [
      "\n",
      "Epoch 00015: val_loss did not improve from 0.00492\n",
      "5175/5175 - 896s - loss: 0.0043 - semantic_0_loss: 0.0015 - semantic_1_loss: 0.0022 - semantic_2_loss: 5.5090e-04 - val_loss: 0.0052 - val_semantic_0_loss: 0.0023 - val_semantic_1_loss: 0.0023 - val_semantic_2_loss: 5.5604e-04\n"
     ]
    },
    {
     "name": "stdout",
     "output_type": "stream",
     "text": [
      "Epoch 16/16\n"
     ]
    },
    {
     "name": "stdout",
     "output_type": "stream",
     "text": [
      "\n",
      "Epoch 00016: val_loss improved from 0.00492 to 0.00480, saving model to /data/models/05012020/nuclear_1_1_mobilenetv2_watershed/nuclear_1_1_mobilenetv2_watershed.h5\n"
     ]
    },
    {
     "name": "stdout",
     "output_type": "stream",
     "text": [
      "5175/5175 - 900s - loss: 0.0043 - semantic_0_loss: 0.0015 - semantic_1_loss: 0.0022 - semantic_2_loss: 5.4765e-04 - val_loss: 0.0048 - val_semantic_0_loss: 0.0020 - val_semantic_1_loss: 0.0022 - val_semantic_2_loss: 5.5105e-04\n"
     ]
    },
    {
     "name": "stderr",
     "output_type": "stream",
     "text": [
      "W0502 07:41:07.802218 139661827884864 metrics.py:103] DICE score is technically 1.0, but prediction and truth arrays are empty. \n"
     ]
    },
    {
     "name": "stderr",
     "output_type": "stream",
     "text": [
      "/usr/local/lib/python3.6/dist-packages/deepcell/metrics.py:111: RuntimeWarning: invalid value encountered in long_scalars\n",
      "  dice = (2 * intersection.sum() / (pred.sum() + truth.sum()))\n",
      "/usr/local/lib/python3.6/dist-packages/deepcell/metrics.py:112: RuntimeWarning: invalid value encountered in long_scalars\n",
      "  jaccard = intersection.sum() / union.sum()\n",
      "/usr/local/lib/python3.6/dist-packages/deepcell/metrics.py:113: RuntimeWarning: invalid value encountered in long_scalars\n",
      "  precision = intersection.sum() / pred.sum()\n",
      "/usr/local/lib/python3.6/dist-packages/deepcell/metrics.py:114: RuntimeWarning: invalid value encountered in long_scalars\n",
      "  recall = intersection.sum() / truth.sum()\n",
      "W0502 07:41:07.831527 139661827884864 metrics.py:103] DICE score is technically 1.0, but prediction and truth arrays are empty. \n"
     ]
    },
    {
     "name": "stderr",
     "output_type": "stream",
     "text": [
      "W0502 07:41:07.848924 139661827884864 metrics.py:103] DICE score is technically 1.0, but prediction and truth arrays are empty. \n"
     ]
    },
    {
     "name": "stderr",
     "output_type": "stream",
     "text": [
      "W0502 07:41:07.861640 139661827884864 metrics.py:103] DICE score is technically 1.0, but prediction and truth arrays are empty. \n"
     ]
    },
    {
     "name": "stderr",
     "output_type": "stream",
     "text": [
      "W0502 07:41:07.874286 139661827884864 metrics.py:103] DICE score is technically 1.0, but prediction and truth arrays are empty. \n"
     ]
    },
    {
     "name": "stderr",
     "output_type": "stream",
     "text": [
      "W0502 07:41:07.886919 139661827884864 metrics.py:103] DICE score is technically 1.0, but prediction and truth arrays are empty. \n"
     ]
    },
    {
     "name": "stderr",
     "output_type": "stream",
     "text": [
      "W0502 07:41:07.899559 139661827884864 metrics.py:103] DICE score is technically 1.0, but prediction and truth arrays are empty. \n"
     ]
    },
    {
     "name": "stderr",
     "output_type": "stream",
     "text": [
      "W0502 07:41:07.912246 139661827884864 metrics.py:103] DICE score is technically 1.0, but prediction and truth arrays are empty. \n"
     ]
    },
    {
     "name": "stderr",
     "output_type": "stream",
     "text": [
      "W0502 07:41:07.928105 139661827884864 metrics.py:103] DICE score is technically 1.0, but prediction and truth arrays are empty. \n"
     ]
    },
    {
     "name": "stderr",
     "output_type": "stream",
     "text": [
      "W0502 07:41:07.945490 139661827884864 metrics.py:103] DICE score is technically 1.0, but prediction and truth arrays are empty. \n"
     ]
    },
    {
     "name": "stderr",
     "output_type": "stream",
     "text": [
      "W0502 07:41:07.962642 139661827884864 metrics.py:103] DICE score is technically 1.0, but prediction and truth arrays are empty. \n"
     ]
    },
    {
     "name": "stderr",
     "output_type": "stream",
     "text": [
      "W0502 07:41:07.979847 139661827884864 metrics.py:103] DICE score is technically 1.0, but prediction and truth arrays are empty. \n"
     ]
    },
    {
     "name": "stderr",
     "output_type": "stream",
     "text": [
      "W0502 07:41:07.996356 139661827884864 metrics.py:103] DICE score is technically 1.0, but prediction and truth arrays are empty. \n"
     ]
    },
    {
     "name": "stderr",
     "output_type": "stream",
     "text": [
      "W0502 07:41:08.013911 139661827884864 metrics.py:103] DICE score is technically 1.0, but prediction and truth arrays are empty. \n"
     ]
    },
    {
     "name": "stderr",
     "output_type": "stream",
     "text": [
      "W0502 07:41:08.028037 139661827884864 metrics.py:103] DICE score is technically 1.0, but prediction and truth arrays are empty. \n"
     ]
    },
    {
     "name": "stderr",
     "output_type": "stream",
     "text": [
      "W0502 07:41:08.042117 139661827884864 metrics.py:103] DICE score is technically 1.0, but prediction and truth arrays are empty. \n"
     ]
    },
    {
     "name": "stderr",
     "output_type": "stream",
     "text": [
      "W0502 07:41:08.056504 139661827884864 metrics.py:103] DICE score is technically 1.0, but prediction and truth arrays are empty. \n"
     ]
    },
    {
     "name": "stderr",
     "output_type": "stream",
     "text": [
      "W0502 07:41:08.070741 139661827884864 metrics.py:103] DICE score is technically 1.0, but prediction and truth arrays are empty. \n"
     ]
    },
    {
     "name": "stderr",
     "output_type": "stream",
     "text": [
      "W0502 07:41:08.084975 139661827884864 metrics.py:103] DICE score is technically 1.0, but prediction and truth arrays are empty. \n"
     ]
    },
    {
     "name": "stderr",
     "output_type": "stream",
     "text": [
      "W0502 07:41:08.099800 139661827884864 metrics.py:103] DICE score is technically 1.0, but prediction and truth arrays are empty. \n"
     ]
    },
    {
     "name": "stderr",
     "output_type": "stream",
     "text": [
      "W0502 07:41:08.125209 139661827884864 metrics.py:103] DICE score is technically 1.0, but prediction and truth arrays are empty. \n"
     ]
    },
    {
     "name": "stderr",
     "output_type": "stream",
     "text": [
      "W0502 07:41:08.147211 139661827884864 metrics.py:103] DICE score is technically 1.0, but prediction and truth arrays are empty. \n"
     ]
    },
    {
     "name": "stderr",
     "output_type": "stream",
     "text": [
      "W0502 07:41:08.165451 139661827884864 metrics.py:103] DICE score is technically 1.0, but prediction and truth arrays are empty. \n"
     ]
    },
    {
     "name": "stderr",
     "output_type": "stream",
     "text": [
      "W0502 07:41:08.180577 139661827884864 metrics.py:103] DICE score is technically 1.0, but prediction and truth arrays are empty. "
     ]
    },
    {
     "name": "stderr",
     "output_type": "stream",
     "text": [
      "\n"
     ]
    },
    {
     "name": "stderr",
     "output_type": "stream",
     "text": [
      "W0502 07:41:08.202848 139661827884864 metrics.py:103] DICE score is technically 1.0, but prediction and truth arrays are empty. \n"
     ]
    },
    {
     "name": "stderr",
     "output_type": "stream",
     "text": [
      "W0502 07:41:08.225808 139661827884864 metrics.py:103] DICE score is technically 1.0, but prediction and truth arrays are empty. \n"
     ]
    },
    {
     "name": "stderr",
     "output_type": "stream",
     "text": [
      "W0502 07:41:08.247792 139661827884864 metrics.py:103] DICE score is technically 1.0, but prediction and truth arrays are empty. \n"
     ]
    },
    {
     "name": "stderr",
     "output_type": "stream",
     "text": [
      "W0502 07:41:08.270243 139661827884864 metrics.py:103] DICE score is technically 1.0, but prediction and truth arrays are empty. \n"
     ]
    },
    {
     "name": "stderr",
     "output_type": "stream",
     "text": [
      "W0502 07:41:08.286473 139661827884864 metrics.py:103] DICE score is technically 1.0, but prediction and truth arrays are empty. \n"
     ]
    },
    {
     "name": "stderr",
     "output_type": "stream",
     "text": [
      "W0502 07:41:08.300605 139661827884864 metrics.py:103] DICE score is technically 1.0, but prediction and truth arrays are empty. \n"
     ]
    },
    {
     "name": "stderr",
     "output_type": "stream",
     "text": [
      "W0502 07:41:08.313438 139661827884864 metrics.py:103] DICE score is technically 1.0, but prediction and truth arrays are empty. \n"
     ]
    },
    {
     "name": "stderr",
     "output_type": "stream",
     "text": [
      "W0502 07:41:08.333768 139661827884864 metrics.py:103] DICE score is technically 1.0, but prediction and truth arrays are empty. \n"
     ]
    },
    {
     "name": "stderr",
     "output_type": "stream",
     "text": [
      "W0502 07:41:08.347986 139661827884864 metrics.py:103] DICE score is technically 1.0, but prediction and truth arrays are empty. \n"
     ]
    },
    {
     "name": "stderr",
     "output_type": "stream",
     "text": [
      "W0502 07:41:08.362132 139661827884864 metrics.py:103] DICE score is technically 1.0, but prediction and truth arrays are empty. \n"
     ]
    },
    {
     "name": "stderr",
     "output_type": "stream",
     "text": [
      "W0502 07:41:08.376343 139661827884864 metrics.py:103] DICE score is technically 1.0, but prediction and truth arrays are empty. \n"
     ]
    },
    {
     "name": "stderr",
     "output_type": "stream",
     "text": [
      "W0502 07:41:08.391000 139661827884864 metrics.py:103] DICE score is technically 1.0, but prediction and truth arrays are empty. \n"
     ]
    },
    {
     "name": "stderr",
     "output_type": "stream",
     "text": [
      "W0502 07:41:08.405229 139661827884864 metrics.py:103] DICE score is technically 1.0, but prediction and truth arrays are empty. \n"
     ]
    },
    {
     "name": "stderr",
     "output_type": "stream",
     "text": [
      "W0502 07:41:08.419396 139661827884864 metrics.py:103] DICE score is technically 1.0, but prediction and truth arrays are empty. \n"
     ]
    },
    {
     "name": "stderr",
     "output_type": "stream",
     "text": [
      "W0502 07:41:08.433852 139661827884864 metrics.py:103] DICE score is technically 1.0, but prediction and truth arrays are empty. \n"
     ]
    },
    {
     "name": "stderr",
     "output_type": "stream",
     "text": [
      "W0502 07:41:08.447916 139661827884864 metrics.py:103] DICE score is technically 1.0, but prediction and truth arrays are empty. \n"
     ]
    },
    {
     "name": "stderr",
     "output_type": "stream",
     "text": [
      "W0502 07:41:11.369163 139661827884864 metrics.py:103] DICE score is technically 1.0, but prediction and truth arrays are empty. \n"
     ]
    },
    {
     "name": "stderr",
     "output_type": "stream",
     "text": [
      "W0502 07:41:11.389927 139661827884864 metrics.py:103] DICE score is technically 1.0, but prediction and truth arrays are empty. \n"
     ]
    },
    {
     "name": "stderr",
     "output_type": "stream",
     "text": [
      "W0502 07:41:11.404096 139661827884864 metrics.py:103] DICE score is technically 1.0, but prediction and truth arrays are empty. \n"
     ]
    },
    {
     "name": "stderr",
     "output_type": "stream",
     "text": [
      "W0502 07:41:11.418188 139661827884864 metrics.py:103] DICE score is technically 1.0, but prediction and truth arrays are empty. \n"
     ]
    },
    {
     "name": "stderr",
     "output_type": "stream",
     "text": [
      "W0502 07:41:11.432197 139661827884864 metrics.py:103] DICE score is technically 1.0, but prediction and truth arrays are empty. \n"
     ]
    },
    {
     "name": "stderr",
     "output_type": "stream",
     "text": [
      "W0502 07:41:11.451521 139661827884864 metrics.py:103] DICE score is technically 1.0, but prediction and truth arrays are empty. \n"
     ]
    },
    {
     "name": "stderr",
     "output_type": "stream",
     "text": [
      "W0502 07:41:11.465615 139661827884864 metrics.py:103] DICE score is technically 1.0, but prediction and truth arrays are empty. \n"
     ]
    },
    {
     "name": "stderr",
     "output_type": "stream",
     "text": [
      "W0502 07:41:11.479682 139661827884864 metrics.py:103] DICE score is technically 1.0, but prediction and truth arrays are empty. \n"
     ]
    },
    {
     "name": "stderr",
     "output_type": "stream",
     "text": [
      "W0502 07:41:11.493985 139661827884864 metrics.py:103] DICE score is technically 1.0, but prediction and truth arrays are empty. \n"
     ]
    },
    {
     "name": "stderr",
     "output_type": "stream",
     "text": [
      "W0502 07:41:11.508674 139661827884864 metrics.py:103] DICE score is technically 1.0, but prediction and truth arrays are empty. \n"
     ]
    },
    {
     "name": "stderr",
     "output_type": "stream",
     "text": [
      "W0502 07:41:11.523064 139661827884864 metrics.py:103] DICE score is technically 1.0, but prediction and truth arrays are empty. \n"
     ]
    },
    {
     "name": "stderr",
     "output_type": "stream",
     "text": [
      "W0502 07:41:11.537374 139661827884864 metrics.py:103] DICE score is technically 1.0, but prediction and truth arrays are empty. \n"
     ]
    },
    {
     "name": "stderr",
     "output_type": "stream",
     "text": [
      "W0502 07:41:11.552042 139661827884864 metrics.py:103] DICE score is technically 1.0, but prediction and truth arrays are empty. \n"
     ]
    },
    {
     "name": "stderr",
     "output_type": "stream",
     "text": [
      "W0502 07:41:11.566416 139661827884864 metrics.py:103] DICE score is technically 1.0, but prediction and truth arrays are empty. \n"
     ]
    },
    {
     "name": "stderr",
     "output_type": "stream",
     "text": [
      "W0502 07:41:11.580682 139661827884864 metrics.py:103] DICE score is technically 1.0, but prediction and truth arrays are empty. \n"
     ]
    },
    {
     "name": "stderr",
     "output_type": "stream",
     "text": [
      "W0502 07:41:11.595043 139661827884864 metrics.py:103] DICE score is technically 1.0, but prediction and truth arrays are empty. \n"
     ]
    },
    {
     "name": "stderr",
     "output_type": "stream",
     "text": [
      "W0502 07:41:11.609346 139661827884864 metrics.py:103] DICE score is technically 1.0, but prediction and truth arrays are empty. \n"
     ]
    },
    {
     "name": "stderr",
     "output_type": "stream",
     "text": [
      "W0502 07:41:11.626497 139661827884864 metrics.py:103] DICE score is technically 1.0, but prediction and truth arrays are empty. \n"
     ]
    },
    {
     "name": "stderr",
     "output_type": "stream",
     "text": [
      "W0502 07:41:11.640792 139661827884864 metrics.py:103] DICE score is technically 1.0, but prediction and truth arrays are empty. \n"
     ]
    },
    {
     "name": "stderr",
     "output_type": "stream",
     "text": [
      "W0502 07:41:11.654695 139661827884864 metrics.py:103] DICE score is technically 1.0, but prediction and truth arrays are empty. \n"
     ]
    },
    {
     "name": "stderr",
     "output_type": "stream",
     "text": [
      "W0502 07:41:11.668585 139661827884864 metrics.py:103] DICE score is technically 1.0, but prediction and truth arrays are empty. \n"
     ]
    },
    {
     "name": "stderr",
     "output_type": "stream",
     "text": [
      "W0502 07:41:11.694916 139661827884864 metrics.py:103] DICE score is technically 1.0, but prediction and truth arrays are empty. \n"
     ]
    },
    {
     "name": "stderr",
     "output_type": "stream",
     "text": [
      "W0502 07:41:11.708787 139661827884864 metrics.py:103] DICE score is technically 1.0, but prediction and truth arrays are empty. \n"
     ]
    },
    {
     "name": "stderr",
     "output_type": "stream",
     "text": [
      "W0502 07:41:11.722790 139661827884864 metrics.py:103] DICE score is technically 1.0, but prediction and truth arrays are empty. \n"
     ]
    },
    {
     "name": "stderr",
     "output_type": "stream",
     "text": [
      "W0502 07:41:11.737371 139661827884864 metrics.py:103] DICE score is technically 1.0, but prediction and truth arrays are empty. \n"
     ]
    },
    {
     "name": "stderr",
     "output_type": "stream",
     "text": [
      "W0502 07:41:11.751501 139661827884864 metrics.py:103] DICE score is technically 1.0, but prediction and truth arrays are empty. \n"
     ]
    },
    {
     "name": "stderr",
     "output_type": "stream",
     "text": [
      "W0502 07:41:11.765477 139661827884864 metrics.py:103] DICE score is technically 1.0, but prediction and truth arrays are empty. \n"
     ]
    },
    {
     "name": "stderr",
     "output_type": "stream",
     "text": [
      "W0502 07:41:11.779434 139661827884864 metrics.py:103] DICE score is technically 1.0, but prediction and truth arrays are empty. \n"
     ]
    },
    {
     "name": "stderr",
     "output_type": "stream",
     "text": [
      "W0502 07:41:11.793390 139661827884864 metrics.py:103] DICE score is technically 1.0, but prediction and truth arrays are empty. \n"
     ]
    },
    {
     "name": "stderr",
     "output_type": "stream",
     "text": [
      "W0502 07:41:11.807375 139661827884864 metrics.py:103] DICE score is technically 1.0, but prediction and truth arrays are empty. \n"
     ]
    },
    {
     "name": "stderr",
     "output_type": "stream",
     "text": [
      "W0502 07:41:11.821489 139661827884864 metrics.py:103] DICE score is technically 1.0, but prediction and truth arrays are empty. \n"
     ]
    },
    {
     "name": "stderr",
     "output_type": "stream",
     "text": [
      "W0502 07:41:11.835693 139661827884864 metrics.py:103] DICE score is technically 1.0, but prediction and truth arrays are empty. \n"
     ]
    },
    {
     "name": "stderr",
     "output_type": "stream",
     "text": [
      "W0502 07:41:11.849926 139661827884864 metrics.py:103] DICE score is technically 1.0, but prediction and truth arrays are empty. \n"
     ]
    },
    {
     "name": "stderr",
     "output_type": "stream",
     "text": [
      "W0502 07:41:11.864012 139661827884864 metrics.py:103] DICE score is technically 1.0, but prediction and truth arrays are empty. \n"
     ]
    },
    {
     "name": "stderr",
     "output_type": "stream",
     "text": [
      "W0502 07:41:11.878214 139661827884864 metrics.py:103] DICE score is technically 1.0, but prediction and truth arrays are empty. \n"
     ]
    },
    {
     "name": "stderr",
     "output_type": "stream",
     "text": [
      "W0502 07:41:11.891593 139661827884864 metrics.py:103] DICE score is technically 1.0, but prediction and truth arrays are empty. \n"
     ]
    },
    {
     "name": "stderr",
     "output_type": "stream",
     "text": [
      "W0502 07:41:11.904754 139661827884864 metrics.py:103] DICE score is technically 1.0, but prediction and truth arrays are empty. \n"
     ]
    },
    {
     "name": "stderr",
     "output_type": "stream",
     "text": [
      "W0502 07:41:11.922257 139661827884864 metrics.py:103] DICE score is technically 1.0, but prediction and truth arrays are empty. \n"
     ]
    },
    {
     "name": "stderr",
     "output_type": "stream",
     "text": [
      "W0502 07:41:11.936432 139661827884864 metrics.py:103] DICE score is technically 1.0, but prediction and truth arrays are empty. \n"
     ]
    },
    {
     "name": "stderr",
     "output_type": "stream",
     "text": [
      "W0502 07:41:18.592107 139661827884864 metrics.py:103] DICE score is technically 1.0, but prediction and truth arrays are empty. \n"
     ]
    },
    {
     "name": "stderr",
     "output_type": "stream",
     "text": [
      "W0502 07:41:18.605156 139661827884864 metrics.py:103] DICE score is technically 1.0, but prediction and truth arrays are empty. \n"
     ]
    },
    {
     "name": "stderr",
     "output_type": "stream",
     "text": [
      "W0502 07:41:18.617943 139661827884864 metrics.py:103] DICE score is technically 1.0, but prediction and truth arrays are empty. \n"
     ]
    },
    {
     "name": "stderr",
     "output_type": "stream",
     "text": [
      "W0502 07:41:18.630649 139661827884864 metrics.py:103] DICE score is technically 1.0, but prediction and truth arrays are empty. \n"
     ]
    },
    {
     "name": "stderr",
     "output_type": "stream",
     "text": [
      "W0502 07:41:18.643422 139661827884864 metrics.py:103] DICE score is technically 1.0, but prediction and truth arrays are empty. \n"
     ]
    },
    {
     "name": "stderr",
     "output_type": "stream",
     "text": [
      "W0502 07:41:18.656738 139661827884864 metrics.py:103] DICE score is technically 1.0, but prediction and truth arrays are empty. \n"
     ]
    },
    {
     "name": "stderr",
     "output_type": "stream",
     "text": [
      "W0502 07:41:18.669388 139661827884864 metrics.py:103] DICE score is technically 1.0, but prediction and truth arrays are empty. \n"
     ]
    },
    {
     "name": "stderr",
     "output_type": "stream",
     "text": [
      "W0502 07:41:18.681930 139661827884864 metrics.py:103] DICE score is technically 1.0, but prediction and truth arrays are empty. \n"
     ]
    },
    {
     "name": "stderr",
     "output_type": "stream",
     "text": [
      "W0502 07:41:18.694402 139661827884864 metrics.py:103] DICE score is technically 1.0, but prediction and truth arrays are empty. \n"
     ]
    },
    {
     "name": "stderr",
     "output_type": "stream",
     "text": [
      "W0502 07:41:18.707293 139661827884864 metrics.py:103] DICE score is technically 1.0, but prediction and truth arrays are empty. \n"
     ]
    },
    {
     "name": "stderr",
     "output_type": "stream",
     "text": [
      "W0502 07:41:18.720382 139661827884864 metrics.py:103] DICE score is technically 1.0, but prediction and truth arrays are empty. \n"
     ]
    },
    {
     "name": "stderr",
     "output_type": "stream",
     "text": [
      "W0502 07:41:18.733192 139661827884864 metrics.py:103] DICE score is technically 1.0, but prediction and truth arrays are empty. \n"
     ]
    },
    {
     "name": "stderr",
     "output_type": "stream",
     "text": [
      "W0502 07:41:18.745995 139661827884864 metrics.py:103] DICE score is technically 1.0, but prediction and truth arrays are empty. \n"
     ]
    },
    {
     "name": "stderr",
     "output_type": "stream",
     "text": [
      "W0502 07:41:18.758737 139661827884864 metrics.py:103] DICE score is technically 1.0, but prediction and truth arrays are empty. \n"
     ]
    },
    {
     "name": "stderr",
     "output_type": "stream",
     "text": [
      "W0502 07:41:18.771474 139661827884864 metrics.py:103] DICE score is technically 1.0, but prediction and truth arrays are empty. \n"
     ]
    },
    {
     "name": "stderr",
     "output_type": "stream",
     "text": [
      "W0502 07:41:18.784182 139661827884864 metrics.py:103] DICE score is technically 1.0, but prediction and truth arrays are empty. \n"
     ]
    },
    {
     "name": "stderr",
     "output_type": "stream",
     "text": [
      "W0502 07:41:18.797142 139661827884864 metrics.py:103] DICE score is technically 1.0, but prediction and truth arrays are empty. \n"
     ]
    },
    {
     "name": "stderr",
     "output_type": "stream",
     "text": [
      "W0502 07:41:18.810073 139661827884864 metrics.py:103] DICE score is technically 1.0, but prediction and truth arrays are empty. \n"
     ]
    },
    {
     "name": "stderr",
     "output_type": "stream",
     "text": [
      "W0502 07:41:18.822956 139661827884864 metrics.py:103] DICE score is technically 1.0, but prediction and truth arrays are empty. \n"
     ]
    },
    {
     "name": "stderr",
     "output_type": "stream",
     "text": [
      "W0502 07:41:18.836274 139661827884864 metrics.py:103] DICE score is technically 1.0, but prediction and truth arrays are empty. \n"
     ]
    },
    {
     "name": "stderr",
     "output_type": "stream",
     "text": [
      "W0502 07:41:18.849854 139661827884864 metrics.py:103] DICE score is technically 1.0, but prediction and truth arrays are empty. \n"
     ]
    },
    {
     "name": "stderr",
     "output_type": "stream",
     "text": [
      "W0502 07:41:18.862567 139661827884864 metrics.py:103] DICE score is technically 1.0, but prediction and truth arrays are empty. \n"
     ]
    },
    {
     "name": "stderr",
     "output_type": "stream",
     "text": [
      "W0502 07:41:18.875545 139661827884864 metrics.py:103] DICE score is technically 1.0, but prediction and truth arrays are empty. \n"
     ]
    },
    {
     "name": "stderr",
     "output_type": "stream",
     "text": [
      "W0502 07:41:18.888428 139661827884864 metrics.py:103] DICE score is technically 1.0, but prediction and truth arrays are empty. \n"
     ]
    },
    {
     "name": "stderr",
     "output_type": "stream",
     "text": [
      "W0502 07:41:18.901425 139661827884864 metrics.py:103] DICE score is technically 1.0, but prediction and truth arrays are empty. \n"
     ]
    },
    {
     "name": "stderr",
     "output_type": "stream",
     "text": [
      "W0502 07:41:18.914054 139661827884864 metrics.py:103] DICE score is technically 1.0, but prediction and truth arrays are empty. \n"
     ]
    },
    {
     "name": "stderr",
     "output_type": "stream",
     "text": [
      "W0502 07:41:18.926555 139661827884864 metrics.py:103] DICE score is technically 1.0, but prediction and truth arrays are empty. \n"
     ]
    },
    {
     "name": "stderr",
     "output_type": "stream",
     "text": [
      "W0502 07:41:18.939088 139661827884864 metrics.py:103] DICE score is technically 1.0, but prediction and truth arrays are empty. \n"
     ]
    },
    {
     "name": "stderr",
     "output_type": "stream",
     "text": [
      "W0502 07:41:18.951880 139661827884864 metrics.py:103] DICE score is technically 1.0, but prediction and truth arrays are empty. \n"
     ]
    },
    {
     "name": "stderr",
     "output_type": "stream",
     "text": [
      "W0502 07:41:18.964767 139661827884864 metrics.py:103] DICE score is technically 1.0, but prediction and truth arrays are empty. \n"
     ]
    },
    {
     "name": "stderr",
     "output_type": "stream",
     "text": [
      "W0502 07:41:18.977671 139661827884864 metrics.py:103] DICE score is technically 1.0, but prediction and truth arrays are empty. \n"
     ]
    },
    {
     "name": "stderr",
     "output_type": "stream",
     "text": [
      "W0502 07:41:18.990711 139661827884864 metrics.py:103] DICE score is technically 1.0, but prediction and truth arrays are empty. \n"
     ]
    },
    {
     "name": "stderr",
     "output_type": "stream",
     "text": [
      "W0502 07:41:19.003665 139661827884864 metrics.py:103] DICE score is technically 1.0, but prediction and truth arrays are empty. \n"
     ]
    },
    {
     "name": "stderr",
     "output_type": "stream",
     "text": [
      "W0502 07:41:19.016969 139661827884864 metrics.py:103] DICE score is technically 1.0, but prediction and truth arrays are empty. \n"
     ]
    },
    {
     "name": "stderr",
     "output_type": "stream",
     "text": [
      "W0502 07:41:19.030203 139661827884864 metrics.py:103] DICE score is technically 1.0, but prediction and truth arrays are empty. \n"
     ]
    },
    {
     "name": "stderr",
     "output_type": "stream",
     "text": [
      "W0502 07:41:19.043222 139661827884864 metrics.py:103] DICE score is technically 1.0, but prediction and truth arrays are empty. \n"
     ]
    },
    {
     "name": "stderr",
     "output_type": "stream",
     "text": [
      "W0502 07:41:19.056155 139661827884864 metrics.py:103] DICE score is technically 1.0, but prediction and truth arrays are empty. \n"
     ]
    },
    {
     "name": "stderr",
     "output_type": "stream",
     "text": [
      "W0502 07:41:19.069080 139661827884864 metrics.py:103] DICE score is technically 1.0, but prediction and truth arrays are empty. \n"
     ]
    },
    {
     "name": "stderr",
     "output_type": "stream",
     "text": [
      "W0502 07:41:19.082145 139661827884864 metrics.py:103] DICE score is technically 1.0, but prediction and truth arrays are empty. \n"
     ]
    },
    {
     "name": "stderr",
     "output_type": "stream",
     "text": [
      "W0502 07:41:19.095083 139661827884864 metrics.py:103] DICE score is technically 1.0, but prediction and truth arrays are empty. \n"
     ]
    },
    {
     "name": "stderr",
     "output_type": "stream",
     "text": [
      "W0502 07:41:19.856613 139661827884864 metrics.py:103] DICE score is technically 1.0, but prediction and truth arrays are empty. \n"
     ]
    },
    {
     "name": "stderr",
     "output_type": "stream",
     "text": [
      "W0502 07:41:19.869032 139661827884864 metrics.py:103] DICE score is technically 1.0, but prediction and truth arrays are empty. \n"
     ]
    },
    {
     "name": "stderr",
     "output_type": "stream",
     "text": [
      "W0502 07:41:19.881212 139661827884864 metrics.py:103] DICE score is technically 1.0, but prediction and truth arrays are empty. \n"
     ]
    },
    {
     "name": "stderr",
     "output_type": "stream",
     "text": [
      "W0502 07:41:19.893437 139661827884864 metrics.py:103] DICE score is technically 1.0, but prediction and truth arrays are empty. \n"
     ]
    },
    {
     "name": "stderr",
     "output_type": "stream",
     "text": [
      "W0502 07:41:19.905682 139661827884864 metrics.py:103] DICE score is technically 1.0, but prediction and truth arrays are empty. \n"
     ]
    },
    {
     "name": "stderr",
     "output_type": "stream",
     "text": [
      "W0502 07:41:19.918633 139661827884864 metrics.py:103] DICE score is technically 1.0, but prediction and truth arrays are empty. \n"
     ]
    },
    {
     "name": "stderr",
     "output_type": "stream",
     "text": [
      "W0502 07:41:19.931159 139661827884864 metrics.py:103] DICE score is technically 1.0, but prediction and truth arrays are empty. \n"
     ]
    },
    {
     "name": "stderr",
     "output_type": "stream",
     "text": [
      "W0502 07:41:19.943636 139661827884864 metrics.py:103] DICE score is technically 1.0, but prediction and truth arrays are empty. \n"
     ]
    },
    {
     "name": "stderr",
     "output_type": "stream",
     "text": [
      "W0502 07:41:19.956109 139661827884864 metrics.py:103] DICE score is technically 1.0, but prediction and truth arrays are empty. \n"
     ]
    },
    {
     "name": "stderr",
     "output_type": "stream",
     "text": [
      "W0502 07:41:19.968582 139661827884864 metrics.py:103] DICE score is technically 1.0, but prediction and truth arrays are empty. \n"
     ]
    },
    {
     "name": "stderr",
     "output_type": "stream",
     "text": [
      "W0502 07:41:19.981062 139661827884864 metrics.py:103] DICE score is technically 1.0, but prediction and truth arrays are empty. \n"
     ]
    },
    {
     "name": "stderr",
     "output_type": "stream",
     "text": [
      "W0502 07:41:19.993591 139661827884864 metrics.py:103] DICE score is technically 1.0, but prediction and truth arrays are empty. \n"
     ]
    },
    {
     "name": "stderr",
     "output_type": "stream",
     "text": [
      "W0502 07:41:20.006061 139661827884864 metrics.py:103] DICE score is technically 1.0, but prediction and truth arrays are empty. \n"
     ]
    },
    {
     "name": "stderr",
     "output_type": "stream",
     "text": [
      "W0502 07:41:20.018513 139661827884864 metrics.py:103] DICE score is technically 1.0, but prediction and truth arrays are empty. \n"
     ]
    },
    {
     "name": "stderr",
     "output_type": "stream",
     "text": [
      "W0502 07:41:20.030951 139661827884864 metrics.py:103] DICE score is technically 1.0, but prediction and truth arrays are empty. \n"
     ]
    },
    {
     "name": "stderr",
     "output_type": "stream",
     "text": [
      "W0502 07:41:20.043406 139661827884864 metrics.py:103] DICE score is technically 1.0, but prediction and truth arrays are empty. \n"
     ]
    },
    {
     "name": "stderr",
     "output_type": "stream",
     "text": [
      "W0502 07:41:20.055832 139661827884864 metrics.py:103] DICE score is technically 1.0, but prediction and truth arrays are empty. \n"
     ]
    },
    {
     "name": "stderr",
     "output_type": "stream",
     "text": [
      "W0502 07:41:20.068313 139661827884864 metrics.py:103] DICE score is technically 1.0, but prediction and truth arrays are empty. \n"
     ]
    },
    {
     "name": "stderr",
     "output_type": "stream",
     "text": [
      "W0502 07:41:20.080749 139661827884864 metrics.py:103] DICE score is technically 1.0, but prediction and truth arrays are empty. \n"
     ]
    },
    {
     "name": "stderr",
     "output_type": "stream",
     "text": [
      "W0502 07:41:20.093243 139661827884864 metrics.py:103] DICE score is technically 1.0, but prediction and truth arrays are empty. \n"
     ]
    },
    {
     "name": "stderr",
     "output_type": "stream",
     "text": [
      "W0502 07:41:20.106178 139661827884864 metrics.py:103] DICE score is technically 1.0, but prediction and truth arrays are empty. \n"
     ]
    },
    {
     "name": "stderr",
     "output_type": "stream",
     "text": [
      "W0502 07:41:20.118827 139661827884864 metrics.py:103] DICE score is technically 1.0, but prediction and truth arrays are empty. \n"
     ]
    },
    {
     "name": "stderr",
     "output_type": "stream",
     "text": [
      "W0502 07:41:20.131318 139661827884864 metrics.py:103] DICE score is technically 1.0, but prediction and truth arrays are empty. \n"
     ]
    },
    {
     "name": "stderr",
     "output_type": "stream",
     "text": [
      "W0502 07:41:20.143830 139661827884864 metrics.py:103] DICE score is technically 1.0, but prediction and truth arrays are empty. \n"
     ]
    },
    {
     "name": "stderr",
     "output_type": "stream",
     "text": [
      "W0502 07:41:20.156349 139661827884864 metrics.py:103] DICE score is technically 1.0, but prediction and truth arrays are empty. \n"
     ]
    },
    {
     "name": "stderr",
     "output_type": "stream",
     "text": [
      "W0502 07:41:20.168840 139661827884864 metrics.py:103] DICE score is technically 1.0, but prediction and truth arrays are empty. "
     ]
    },
    {
     "name": "stderr",
     "output_type": "stream",
     "text": [
      "\n"
     ]
    },
    {
     "name": "stderr",
     "output_type": "stream",
     "text": [
      "W0502 07:41:20.181794 139661827884864 metrics.py:103] DICE score is technically 1.0, but prediction and truth arrays are empty. \n"
     ]
    },
    {
     "name": "stderr",
     "output_type": "stream",
     "text": [
      "W0502 07:41:20.194325 139661827884864 metrics.py:103] DICE score is technically 1.0, but prediction and truth arrays are empty. \n"
     ]
    },
    {
     "name": "stderr",
     "output_type": "stream",
     "text": [
      "W0502 07:41:20.206886 139661827884864 metrics.py:103] DICE score is technically 1.0, but prediction and truth arrays are empty. \n"
     ]
    },
    {
     "name": "stderr",
     "output_type": "stream",
     "text": [
      "W0502 07:41:20.219449 139661827884864 metrics.py:103] DICE score is technically 1.0, but prediction and truth arrays are empty. \n"
     ]
    },
    {
     "name": "stderr",
     "output_type": "stream",
     "text": [
      "W0502 07:41:20.231919 139661827884864 metrics.py:103] DICE score is technically 1.0, but prediction and truth arrays are empty. \n"
     ]
    },
    {
     "name": "stderr",
     "output_type": "stream",
     "text": [
      "W0502 07:41:20.244370 139661827884864 metrics.py:103] DICE score is technically 1.0, but prediction and truth arrays are empty. \n"
     ]
    },
    {
     "name": "stderr",
     "output_type": "stream",
     "text": [
      "W0502 07:41:20.256898 139661827884864 metrics.py:103] DICE score is technically 1.0, but prediction and truth arrays are empty. \n"
     ]
    },
    {
     "name": "stderr",
     "output_type": "stream",
     "text": [
      "W0502 07:41:20.269342 139661827884864 metrics.py:103] DICE score is technically 1.0, but prediction and truth arrays are empty. \n"
     ]
    },
    {
     "name": "stderr",
     "output_type": "stream",
     "text": [
      "W0502 07:41:20.282419 139661827884864 metrics.py:103] DICE score is technically 1.0, but prediction and truth arrays are empty. \n"
     ]
    },
    {
     "name": "stderr",
     "output_type": "stream",
     "text": [
      "W0502 07:41:20.295064 139661827884864 metrics.py:103] DICE score is technically 1.0, but prediction and truth arrays are empty. \n"
     ]
    },
    {
     "name": "stderr",
     "output_type": "stream",
     "text": [
      "W0502 07:41:20.307647 139661827884864 metrics.py:103] DICE score is technically 1.0, but prediction and truth arrays are empty. \n"
     ]
    },
    {
     "name": "stderr",
     "output_type": "stream",
     "text": [
      "W0502 07:41:20.320147 139661827884864 metrics.py:103] DICE score is technically 1.0, but prediction and truth arrays are empty. \n"
     ]
    },
    {
     "name": "stderr",
     "output_type": "stream",
     "text": [
      "W0502 07:41:21.154172 139661827884864 metrics.py:103] DICE score is technically 1.0, but prediction and truth arrays are empty. \n"
     ]
    },
    {
     "name": "stderr",
     "output_type": "stream",
     "text": [
      "W0502 07:41:21.166956 139661827884864 metrics.py:103] DICE score is technically 1.0, but prediction and truth arrays are empty. \n"
     ]
    },
    {
     "name": "stderr",
     "output_type": "stream",
     "text": [
      "W0502 07:41:21.180092 139661827884864 metrics.py:103] DICE score is technically 1.0, but prediction and truth arrays are empty. \n"
     ]
    },
    {
     "name": "stderr",
     "output_type": "stream",
     "text": [
      "W0502 07:41:21.193850 139661827884864 metrics.py:103] DICE score is technically 1.0, but prediction and truth arrays are empty. \n"
     ]
    },
    {
     "name": "stderr",
     "output_type": "stream",
     "text": [
      "W0502 07:41:21.206579 139661827884864 metrics.py:103] DICE score is technically 1.0, but prediction and truth arrays are empty. \n"
     ]
    },
    {
     "name": "stderr",
     "output_type": "stream",
     "text": [
      "W0502 07:41:21.219261 139661827884864 metrics.py:103] DICE score is technically 1.0, but prediction and truth arrays are empty. \n"
     ]
    },
    {
     "name": "stderr",
     "output_type": "stream",
     "text": [
      "W0502 07:41:21.231929 139661827884864 metrics.py:103] DICE score is technically 1.0, but prediction and truth arrays are empty. \n"
     ]
    },
    {
     "name": "stderr",
     "output_type": "stream",
     "text": [
      "W0502 07:41:21.244598 139661827884864 metrics.py:103] DICE score is technically 1.0, but prediction and truth arrays are empty. \n"
     ]
    },
    {
     "name": "stderr",
     "output_type": "stream",
     "text": [
      "W0502 07:41:21.257385 139661827884864 metrics.py:103] DICE score is technically 1.0, but prediction and truth arrays are empty. \n"
     ]
    },
    {
     "name": "stderr",
     "output_type": "stream",
     "text": [
      "W0502 07:41:21.270066 139661827884864 metrics.py:103] DICE score is technically 1.0, but prediction and truth arrays are empty. \n"
     ]
    },
    {
     "name": "stderr",
     "output_type": "stream",
     "text": [
      "W0502 07:41:21.282734 139661827884864 metrics.py:103] DICE score is technically 1.0, but prediction and truth arrays are empty. \n"
     ]
    },
    {
     "name": "stderr",
     "output_type": "stream",
     "text": [
      "W0502 07:41:21.295375 139661827884864 metrics.py:103] DICE score is technically 1.0, but prediction and truth arrays are empty. \n"
     ]
    },
    {
     "name": "stderr",
     "output_type": "stream",
     "text": [
      "W0502 07:41:21.308065 139661827884864 metrics.py:103] DICE score is technically 1.0, but prediction and truth arrays are empty. \n"
     ]
    },
    {
     "name": "stderr",
     "output_type": "stream",
     "text": [
      "W0502 07:41:21.320755 139661827884864 metrics.py:103] DICE score is technically 1.0, but prediction and truth arrays are empty. \n"
     ]
    },
    {
     "name": "stderr",
     "output_type": "stream",
     "text": [
      "W0502 07:41:21.333407 139661827884864 metrics.py:103] DICE score is technically 1.0, but prediction and truth arrays are empty. \n"
     ]
    },
    {
     "name": "stderr",
     "output_type": "stream",
     "text": [
      "W0502 07:41:21.346083 139661827884864 metrics.py:103] DICE score is technically 1.0, but prediction and truth arrays are empty. \n"
     ]
    },
    {
     "name": "stderr",
     "output_type": "stream",
     "text": [
      "W0502 07:41:21.359520 139661827884864 metrics.py:103] DICE score is technically 1.0, but prediction and truth arrays are empty. \n"
     ]
    },
    {
     "name": "stderr",
     "output_type": "stream",
     "text": [
      "W0502 07:41:21.372553 139661827884864 metrics.py:103] DICE score is technically 1.0, but prediction and truth arrays are empty. \n"
     ]
    },
    {
     "name": "stderr",
     "output_type": "stream",
     "text": [
      "W0502 07:41:21.385440 139661827884864 metrics.py:103] DICE score is technically 1.0, but prediction and truth arrays are empty. \n"
     ]
    },
    {
     "name": "stderr",
     "output_type": "stream",
     "text": [
      "W0502 07:41:21.398344 139661827884864 metrics.py:103] DICE score is technically 1.0, but prediction and truth arrays are empty. \n"
     ]
    },
    {
     "name": "stderr",
     "output_type": "stream",
     "text": [
      "W0502 07:41:21.411379 139661827884864 metrics.py:103] DICE score is technically 1.0, but prediction and truth arrays are empty. \n"
     ]
    },
    {
     "name": "stderr",
     "output_type": "stream",
     "text": [
      "W0502 07:41:21.424452 139661827884864 metrics.py:103] DICE score is technically 1.0, but prediction and truth arrays are empty. \n"
     ]
    },
    {
     "name": "stderr",
     "output_type": "stream",
     "text": [
      "W0502 07:41:21.437271 139661827884864 metrics.py:103] DICE score is technically 1.0, but prediction and truth arrays are empty. \n"
     ]
    },
    {
     "name": "stderr",
     "output_type": "stream",
     "text": [
      "W0502 07:41:21.450169 139661827884864 metrics.py:103] DICE score is technically 1.0, but prediction and truth arrays are empty. \n"
     ]
    },
    {
     "name": "stderr",
     "output_type": "stream",
     "text": [
      "W0502 07:41:21.463122 139661827884864 metrics.py:103] DICE score is technically 1.0, but prediction and truth arrays are empty. \n"
     ]
    },
    {
     "name": "stderr",
     "output_type": "stream",
     "text": [
      "W0502 07:41:21.476054 139661827884864 metrics.py:103] DICE score is technically 1.0, but prediction and truth arrays are empty. \n"
     ]
    },
    {
     "name": "stderr",
     "output_type": "stream",
     "text": [
      "W0502 07:41:21.489008 139661827884864 metrics.py:103] DICE score is technically 1.0, but prediction and truth arrays are empty. \n"
     ]
    },
    {
     "name": "stderr",
     "output_type": "stream",
     "text": [
      "W0502 07:41:21.501870 139661827884864 metrics.py:103] DICE score is technically 1.0, but prediction and truth arrays are empty. \n"
     ]
    },
    {
     "name": "stderr",
     "output_type": "stream",
     "text": [
      "W0502 07:41:21.514977 139661827884864 metrics.py:103] DICE score is technically 1.0, but prediction and truth arrays are empty. \n"
     ]
    },
    {
     "name": "stderr",
     "output_type": "stream",
     "text": [
      "W0502 07:41:21.527974 139661827884864 metrics.py:103] DICE score is technically 1.0, but prediction and truth arrays are empty. \n"
     ]
    },
    {
     "name": "stderr",
     "output_type": "stream",
     "text": [
      "W0502 07:41:21.541531 139661827884864 metrics.py:103] DICE score is technically 1.0, but prediction and truth arrays are empty. \n"
     ]
    },
    {
     "name": "stderr",
     "output_type": "stream",
     "text": [
      "W0502 07:41:21.554430 139661827884864 metrics.py:103] DICE score is technically 1.0, but prediction and truth arrays are empty. \n"
     ]
    },
    {
     "name": "stderr",
     "output_type": "stream",
     "text": [
      "W0502 07:41:21.567507 139661827884864 metrics.py:103] DICE score is technically 1.0, but prediction and truth arrays are empty. \n"
     ]
    },
    {
     "name": "stderr",
     "output_type": "stream",
     "text": [
      "W0502 07:41:21.580889 139661827884864 metrics.py:103] DICE score is technically 1.0, but prediction and truth arrays are empty. \n"
     ]
    },
    {
     "name": "stderr",
     "output_type": "stream",
     "text": [
      "W0502 07:41:21.594158 139661827884864 metrics.py:103] DICE score is technically 1.0, but prediction and truth arrays are empty. \n"
     ]
    },
    {
     "name": "stderr",
     "output_type": "stream",
     "text": [
      "W0502 07:41:21.611265 139661827884864 metrics.py:103] DICE score is technically 1.0, but prediction and truth arrays are empty. \n"
     ]
    },
    {
     "name": "stderr",
     "output_type": "stream",
     "text": [
      "W0502 07:41:21.624065 139661827884864 metrics.py:103] DICE score is technically 1.0, but prediction and truth arrays are empty. \n"
     ]
    },
    {
     "name": "stderr",
     "output_type": "stream",
     "text": [
      "W0502 07:41:21.636835 139661827884864 metrics.py:103] DICE score is technically 1.0, but prediction and truth arrays are empty. \n"
     ]
    },
    {
     "name": "stderr",
     "output_type": "stream",
     "text": [
      "W0502 07:41:21.649509 139661827884864 metrics.py:103] DICE score is technically 1.0, but prediction and truth arrays are empty. \n"
     ]
    },
    {
     "name": "stderr",
     "output_type": "stream",
     "text": [
      "W0502 07:41:21.662177 139661827884864 metrics.py:103] DICE score is technically 1.0, but prediction and truth arrays are empty. \n"
     ]
    },
    {
     "name": "stderr",
     "output_type": "stream",
     "text": [
      "W0502 07:41:21.674866 139661827884864 metrics.py:103] DICE score is technically 1.0, but prediction and truth arrays are empty. \n"
     ]
    },
    {
     "name": "stderr",
     "output_type": "stream",
     "text": [
      "W0502 07:41:21.687552 139661827884864 metrics.py:103] DICE score is technically 1.0, but prediction and truth arrays are empty. \n"
     ]
    },
    {
     "name": "stderr",
     "output_type": "stream",
     "text": [
      "W0502 07:41:21.700939 139661827884864 metrics.py:103] DICE score is technically 1.0, but prediction and truth arrays are empty. \n"
     ]
    },
    {
     "name": "stderr",
     "output_type": "stream",
     "text": [
      "W0502 07:41:21.714104 139661827884864 metrics.py:103] DICE score is technically 1.0, but prediction and truth arrays are empty. \n"
     ]
    },
    {
     "name": "stderr",
     "output_type": "stream",
     "text": [
      "W0502 07:41:21.727527 139661827884864 metrics.py:103] DICE score is technically 1.0, but prediction and truth arrays are empty. \n"
     ]
    },
    {
     "name": "stderr",
     "output_type": "stream",
     "text": [
      "W0502 07:41:21.740272 139661827884864 metrics.py:103] DICE score is technically 1.0, but prediction and truth arrays are empty. \n"
     ]
    },
    {
     "name": "stderr",
     "output_type": "stream",
     "text": [
      "W0502 07:41:21.753018 139661827884864 metrics.py:103] DICE score is technically 1.0, but prediction and truth arrays are empty. \n"
     ]
    },
    {
     "name": "stderr",
     "output_type": "stream",
     "text": [
      "W0502 07:41:21.766205 139661827884864 metrics.py:103] DICE score is technically 1.0, but prediction and truth arrays are empty. \n"
     ]
    },
    {
     "name": "stderr",
     "output_type": "stream",
     "text": [
      "W0502 07:41:21.779464 139661827884864 metrics.py:103] DICE score is technically 1.0, but prediction and truth arrays are empty. \n"
     ]
    },
    {
     "name": "stderr",
     "output_type": "stream",
     "text": [
      "W0502 07:41:21.792780 139661827884864 metrics.py:103] DICE score is technically 1.0, but prediction and truth arrays are empty. \n"
     ]
    },
    {
     "name": "stderr",
     "output_type": "stream",
     "text": [
      "W0502 07:41:21.806084 139661827884864 metrics.py:103] DICE score is technically 1.0, but prediction and truth arrays are empty. \n"
     ]
    },
    {
     "name": "stderr",
     "output_type": "stream",
     "text": [
      "W0502 07:41:21.819284 139661827884864 metrics.py:103] DICE score is technically 1.0, but prediction and truth arrays are empty. \n"
     ]
    },
    {
     "name": "stderr",
     "output_type": "stream",
     "text": [
      "W0502 07:41:21.832390 139661827884864 metrics.py:103] DICE score is technically 1.0, but prediction and truth arrays are empty. \n"
     ]
    },
    {
     "name": "stderr",
     "output_type": "stream",
     "text": [
      "W0502 07:41:21.845448 139661827884864 metrics.py:103] DICE score is technically 1.0, but prediction and truth arrays are empty. \n"
     ]
    },
    {
     "name": "stderr",
     "output_type": "stream",
     "text": [
      "W0502 07:41:21.858584 139661827884864 metrics.py:103] DICE score is technically 1.0, but prediction and truth arrays are empty. \n"
     ]
    },
    {
     "name": "stderr",
     "output_type": "stream",
     "text": [
      "W0502 07:41:21.871749 139661827884864 metrics.py:103] DICE score is technically 1.0, but prediction and truth arrays are empty. \n"
     ]
    },
    {
     "name": "stderr",
     "output_type": "stream",
     "text": [
      "W0502 07:41:21.884963 139661827884864 metrics.py:103] DICE score is technically 1.0, but prediction and truth arrays are empty. \n"
     ]
    },
    {
     "name": "stderr",
     "output_type": "stream",
     "text": [
      "W0502 07:41:21.898275 139661827884864 metrics.py:103] DICE score is technically 1.0, but prediction and truth arrays are empty. \n"
     ]
    },
    {
     "name": "stderr",
     "output_type": "stream",
     "text": [
      "W0502 07:41:21.911729 139661827884864 metrics.py:103] DICE score is technically 1.0, but prediction and truth arrays are empty. \n"
     ]
    },
    {
     "name": "stderr",
     "output_type": "stream",
     "text": [
      "W0502 07:41:21.925122 139661827884864 metrics.py:103] DICE score is technically 1.0, but prediction and truth arrays are empty. \n"
     ]
    },
    {
     "name": "stderr",
     "output_type": "stream",
     "text": [
      "W0502 07:41:21.939049 139661827884864 metrics.py:103] DICE score is technically 1.0, but prediction and truth arrays are empty. \n"
     ]
    },
    {
     "name": "stderr",
     "output_type": "stream",
     "text": [
      "W0502 07:41:21.951778 139661827884864 metrics.py:103] DICE score is technically 1.0, but prediction and truth arrays are empty. \n"
     ]
    },
    {
     "name": "stderr",
     "output_type": "stream",
     "text": [
      "W0502 07:41:21.964620 139661827884864 metrics.py:103] DICE score is technically 1.0, but prediction and truth arrays are empty. \n"
     ]
    },
    {
     "name": "stderr",
     "output_type": "stream",
     "text": [
      "W0502 07:41:21.977496 139661827884864 metrics.py:103] DICE score is technically 1.0, but prediction and truth arrays are empty. \n"
     ]
    },
    {
     "name": "stderr",
     "output_type": "stream",
     "text": [
      "W0502 07:41:21.990584 139661827884864 metrics.py:103] DICE score is technically 1.0, but prediction and truth arrays are empty. \n"
     ]
    },
    {
     "name": "stderr",
     "output_type": "stream",
     "text": [
      "W0502 07:41:22.003831 139661827884864 metrics.py:103] DICE score is technically 1.0, but prediction and truth arrays are empty. \n"
     ]
    },
    {
     "name": "stderr",
     "output_type": "stream",
     "text": [
      "W0502 07:41:22.017112 139661827884864 metrics.py:103] DICE score is technically 1.0, but prediction and truth arrays are empty. \n"
     ]
    },
    {
     "name": "stderr",
     "output_type": "stream",
     "text": [
      "W0502 07:41:22.030459 139661827884864 metrics.py:103] DICE score is technically 1.0, but prediction and truth arrays are empty. \n"
     ]
    },
    {
     "name": "stderr",
     "output_type": "stream",
     "text": [
      "W0502 07:41:22.043709 139661827884864 metrics.py:103] DICE score is technically 1.0, but prediction and truth arrays are empty. \n"
     ]
    },
    {
     "name": "stderr",
     "output_type": "stream",
     "text": [
      "W0502 07:41:22.056610 139661827884864 metrics.py:103] DICE score is technically 1.0, but prediction and truth arrays are empty. \n"
     ]
    },
    {
     "name": "stderr",
     "output_type": "stream",
     "text": [
      "W0502 07:41:22.069550 139661827884864 metrics.py:103] DICE score is technically 1.0, but prediction and truth arrays are empty. \n"
     ]
    },
    {
     "name": "stderr",
     "output_type": "stream",
     "text": [
      "/usr/local/lib/python3.6/dist-packages/deepcell/metrics.py:115: RuntimeWarning: invalid value encountered in double_scalars\n",
      "  Fmeasure = (2 * precision * recall) / (precision + recall)\n"
     ]
    },
    {
     "name": "stderr",
     "output_type": "stream",
     "text": [
      "W0502 07:41:22.194120 139661827884864 metrics.py:103] DICE score is technically 1.0, but prediction and truth arrays are empty. \n"
     ]
    },
    {
     "name": "stderr",
     "output_type": "stream",
     "text": [
      "W0502 07:41:22.206932 139661827884864 metrics.py:103] DICE score is technically 1.0, but prediction and truth arrays are empty. \n"
     ]
    },
    {
     "name": "stderr",
     "output_type": "stream",
     "text": [
      "W0502 07:41:22.219436 139661827884864 metrics.py:103] DICE score is technically 1.0, but prediction and truth arrays are empty. \n"
     ]
    },
    {
     "name": "stderr",
     "output_type": "stream",
     "text": [
      "W0502 07:41:22.232043 139661827884864 metrics.py:103] DICE score is technically 1.0, but prediction and truth arrays are empty. \n"
     ]
    },
    {
     "name": "stderr",
     "output_type": "stream",
     "text": [
      "W0502 07:41:22.244781 139661827884864 metrics.py:103] DICE score is technically 1.0, but prediction and truth arrays are empty. \n"
     ]
    },
    {
     "name": "stderr",
     "output_type": "stream",
     "text": [
      "W0502 07:41:22.257677 139661827884864 metrics.py:103] DICE score is technically 1.0, but prediction and truth arrays are empty. \n"
     ]
    },
    {
     "name": "stderr",
     "output_type": "stream",
     "text": [
      "W0502 07:41:22.270890 139661827884864 metrics.py:103] DICE score is technically 1.0, but prediction and truth arrays are empty. \n"
     ]
    },
    {
     "name": "stderr",
     "output_type": "stream",
     "text": [
      "W0502 07:41:22.283652 139661827884864 metrics.py:103] DICE score is technically 1.0, but prediction and truth arrays are empty. \n"
     ]
    },
    {
     "name": "stderr",
     "output_type": "stream",
     "text": [
      "W0502 07:41:22.296473 139661827884864 metrics.py:103] DICE score is technically 1.0, but prediction and truth arrays are empty. \n"
     ]
    },
    {
     "name": "stderr",
     "output_type": "stream",
     "text": [
      "W0502 07:41:22.309320 139661827884864 metrics.py:103] DICE score is technically 1.0, but prediction and truth arrays are empty. \n"
     ]
    },
    {
     "name": "stderr",
     "output_type": "stream",
     "text": [
      "W0502 07:41:22.322000 139661827884864 metrics.py:103] DICE score is technically 1.0, but prediction and truth arrays are empty. \n"
     ]
    },
    {
     "name": "stderr",
     "output_type": "stream",
     "text": [
      "W0502 07:41:22.334907 139661827884864 metrics.py:103] DICE score is technically 1.0, but prediction and truth arrays are empty. \n"
     ]
    },
    {
     "name": "stderr",
     "output_type": "stream",
     "text": [
      "W0502 07:41:22.347603 139661827884864 metrics.py:103] DICE score is technically 1.0, but prediction and truth arrays are empty. \n"
     ]
    },
    {
     "name": "stderr",
     "output_type": "stream",
     "text": [
      "W0502 07:41:22.360359 139661827884864 metrics.py:103] DICE score is technically 1.0, but prediction and truth arrays are empty. \n"
     ]
    },
    {
     "name": "stderr",
     "output_type": "stream",
     "text": [
      "W0502 07:41:22.372925 139661827884864 metrics.py:103] DICE score is technically 1.0, but prediction and truth arrays are empty. \n"
     ]
    },
    {
     "name": "stderr",
     "output_type": "stream",
     "text": [
      "W0502 07:41:22.385375 139661827884864 metrics.py:103] DICE score is technically 1.0, but prediction and truth arrays are empty. \n"
     ]
    },
    {
     "name": "stderr",
     "output_type": "stream",
     "text": [
      "W0502 07:41:22.397892 139661827884864 metrics.py:103] DICE score is technically 1.0, but prediction and truth arrays are empty. \n"
     ]
    },
    {
     "name": "stderr",
     "output_type": "stream",
     "text": [
      "W0502 07:41:22.410627 139661827884864 metrics.py:103] DICE score is technically 1.0, but prediction and truth arrays are empty. \n"
     ]
    },
    {
     "name": "stderr",
     "output_type": "stream",
     "text": [
      "W0502 07:41:22.423466 139661827884864 metrics.py:103] DICE score is technically 1.0, but prediction and truth arrays are empty. \n"
     ]
    },
    {
     "name": "stderr",
     "output_type": "stream",
     "text": [
      "W0502 07:41:22.436478 139661827884864 metrics.py:103] DICE score is technically 1.0, but prediction and truth arrays are empty. \n"
     ]
    },
    {
     "name": "stderr",
     "output_type": "stream",
     "text": [
      "W0502 07:41:22.450078 139661827884864 metrics.py:103] DICE score is technically 1.0, but prediction and truth arrays are empty. \n"
     ]
    },
    {
     "name": "stderr",
     "output_type": "stream",
     "text": [
      "W0502 07:41:22.463043 139661827884864 metrics.py:103] DICE score is technically 1.0, but prediction and truth arrays are empty. \n"
     ]
    },
    {
     "name": "stderr",
     "output_type": "stream",
     "text": [
      "W0502 07:41:22.475859 139661827884864 metrics.py:103] DICE score is technically 1.0, but prediction and truth arrays are empty. \n"
     ]
    },
    {
     "name": "stderr",
     "output_type": "stream",
     "text": [
      "W0502 07:41:22.488747 139661827884864 metrics.py:103] DICE score is technically 1.0, but prediction and truth arrays are empty. \n"
     ]
    },
    {
     "name": "stderr",
     "output_type": "stream",
     "text": [
      "W0502 07:41:22.501660 139661827884864 metrics.py:103] DICE score is technically 1.0, but prediction and truth arrays are empty. \n"
     ]
    },
    {
     "name": "stderr",
     "output_type": "stream",
     "text": [
      "W0502 07:41:22.514656 139661827884864 metrics.py:103] DICE score is technically 1.0, but prediction and truth arrays are empty. \n"
     ]
    },
    {
     "name": "stderr",
     "output_type": "stream",
     "text": [
      "W0502 07:41:22.527568 139661827884864 metrics.py:103] DICE score is technically 1.0, but prediction and truth arrays are empty. \n"
     ]
    },
    {
     "name": "stderr",
     "output_type": "stream",
     "text": [
      "W0502 07:41:22.540578 139661827884864 metrics.py:103] DICE score is technically 1.0, but prediction and truth arrays are empty. \n"
     ]
    },
    {
     "name": "stderr",
     "output_type": "stream",
     "text": [
      "W0502 07:41:22.553578 139661827884864 metrics.py:103] DICE score is technically 1.0, but prediction and truth arrays are empty. \n"
     ]
    },
    {
     "name": "stderr",
     "output_type": "stream",
     "text": [
      "W0502 07:41:22.566697 139661827884864 metrics.py:103] DICE score is technically 1.0, but prediction and truth arrays are empty. \n"
     ]
    },
    {
     "name": "stderr",
     "output_type": "stream",
     "text": [
      "W0502 07:41:22.579964 139661827884864 metrics.py:103] DICE score is technically 1.0, but prediction and truth arrays are empty. \n"
     ]
    },
    {
     "name": "stderr",
     "output_type": "stream",
     "text": [
      "W0502 07:41:22.593568 139661827884864 metrics.py:103] DICE score is technically 1.0, but prediction and truth arrays are empty. \n"
     ]
    },
    {
     "name": "stderr",
     "output_type": "stream",
     "text": [
      "W0502 07:41:22.606773 139661827884864 metrics.py:103] DICE score is technically 1.0, but prediction and truth arrays are empty. \n"
     ]
    },
    {
     "name": "stderr",
     "output_type": "stream",
     "text": [
      "W0502 07:41:22.620507 139661827884864 metrics.py:103] DICE score is technically 1.0, but prediction and truth arrays are empty. \n"
     ]
    },
    {
     "name": "stderr",
     "output_type": "stream",
     "text": [
      "W0502 07:41:22.633471 139661827884864 metrics.py:103] DICE score is technically 1.0, but prediction and truth arrays are empty. \n"
     ]
    },
    {
     "name": "stderr",
     "output_type": "stream",
     "text": [
      "W0502 07:41:22.646118 139661827884864 metrics.py:103] DICE score is technically 1.0, but prediction and truth arrays are empty. \n"
     ]
    },
    {
     "name": "stderr",
     "output_type": "stream",
     "text": [
      "W0502 07:41:22.658779 139661827884864 metrics.py:103] DICE score is technically 1.0, but prediction and truth arrays are empty. \n"
     ]
    },
    {
     "name": "stderr",
     "output_type": "stream",
     "text": [
      "W0502 07:41:22.671804 139661827884864 metrics.py:103] DICE score is technically 1.0, but prediction and truth arrays are empty. \n"
     ]
    },
    {
     "name": "stderr",
     "output_type": "stream",
     "text": [
      "W0502 07:41:22.684426 139661827884864 metrics.py:103] DICE score is technically 1.0, but prediction and truth arrays are empty. \n"
     ]
    },
    {
     "name": "stderr",
     "output_type": "stream",
     "text": [
      "W0502 07:41:22.697696 139661827884864 metrics.py:103] DICE score is technically 1.0, but prediction and truth arrays are empty. \n"
     ]
    },
    {
     "name": "stderr",
     "output_type": "stream",
     "text": [
      "W0502 07:41:27.189130 139661827884864 metrics.py:103] DICE score is technically 1.0, but prediction and truth arrays are empty. \n"
     ]
    },
    {
     "name": "stderr",
     "output_type": "stream",
     "text": [
      "W0502 07:41:27.201625 139661827884864 metrics.py:103] DICE score is technically 1.0, but prediction and truth arrays are empty. \n"
     ]
    },
    {
     "name": "stderr",
     "output_type": "stream",
     "text": [
      "W0502 07:41:27.214151 139661827884864 metrics.py:103] DICE score is technically 1.0, but prediction and truth arrays are empty. \n"
     ]
    },
    {
     "name": "stderr",
     "output_type": "stream",
     "text": [
      "W0502 07:41:27.226410 139661827884864 metrics.py:103] DICE score is technically 1.0, but prediction and truth arrays are empty. \n"
     ]
    },
    {
     "name": "stderr",
     "output_type": "stream",
     "text": [
      "W0502 07:41:27.238862 139661827884864 metrics.py:103] DICE score is technically 1.0, but prediction and truth arrays are empty. \n"
     ]
    },
    {
     "name": "stderr",
     "output_type": "stream",
     "text": [
      "W0502 07:41:27.251095 139661827884864 metrics.py:103] DICE score is technically 1.0, but prediction and truth arrays are empty. \n"
     ]
    },
    {
     "name": "stderr",
     "output_type": "stream",
     "text": [
      "W0502 07:41:27.263734 139661827884864 metrics.py:103] DICE score is technically 1.0, but prediction and truth arrays are empty. \n"
     ]
    },
    {
     "name": "stderr",
     "output_type": "stream",
     "text": [
      "W0502 07:41:27.276121 139661827884864 metrics.py:103] DICE score is technically 1.0, but prediction and truth arrays are empty. \n"
     ]
    },
    {
     "name": "stderr",
     "output_type": "stream",
     "text": [
      "W0502 07:41:27.288625 139661827884864 metrics.py:103] DICE score is technically 1.0, but prediction and truth arrays are empty. \n"
     ]
    },
    {
     "name": "stderr",
     "output_type": "stream",
     "text": [
      "W0502 07:41:27.300978 139661827884864 metrics.py:103] DICE score is technically 1.0, but prediction and truth arrays are empty. \n"
     ]
    },
    {
     "name": "stderr",
     "output_type": "stream",
     "text": [
      "W0502 07:41:27.313433 139661827884864 metrics.py:103] DICE score is technically 1.0, but prediction and truth arrays are empty. \n"
     ]
    },
    {
     "name": "stderr",
     "output_type": "stream",
     "text": [
      "W0502 07:41:27.325938 139661827884864 metrics.py:103] DICE score is technically 1.0, but prediction and truth arrays are empty. \n"
     ]
    },
    {
     "name": "stderr",
     "output_type": "stream",
     "text": [
      "W0502 07:41:27.338919 139661827884864 metrics.py:103] DICE score is technically 1.0, but prediction and truth arrays are empty. \n"
     ]
    },
    {
     "name": "stderr",
     "output_type": "stream",
     "text": [
      "W0502 07:41:27.351593 139661827884864 metrics.py:103] DICE score is technically 1.0, but prediction and truth arrays are empty. \n"
     ]
    },
    {
     "name": "stderr",
     "output_type": "stream",
     "text": [
      "W0502 07:41:27.364361 139661827884864 metrics.py:103] DICE score is technically 1.0, but prediction and truth arrays are empty. \n"
     ]
    },
    {
     "name": "stderr",
     "output_type": "stream",
     "text": [
      "W0502 07:41:27.377119 139661827884864 metrics.py:103] DICE score is technically 1.0, but prediction and truth arrays are empty. \n"
     ]
    },
    {
     "name": "stderr",
     "output_type": "stream",
     "text": [
      "W0502 07:41:27.389954 139661827884864 metrics.py:103] DICE score is technically 1.0, but prediction and truth arrays are empty. \n"
     ]
    },
    {
     "name": "stderr",
     "output_type": "stream",
     "text": [
      "W0502 07:41:27.402561 139661827884864 metrics.py:103] DICE score is technically 1.0, but prediction and truth arrays are empty. \n"
     ]
    },
    {
     "name": "stderr",
     "output_type": "stream",
     "text": [
      "W0502 07:41:27.415271 139661827884864 metrics.py:103] DICE score is technically 1.0, but prediction and truth arrays are empty. \n"
     ]
    },
    {
     "name": "stderr",
     "output_type": "stream",
     "text": [
      "W0502 07:41:27.427829 139661827884864 metrics.py:103] DICE score is technically 1.0, but prediction and truth arrays are empty. \n"
     ]
    },
    {
     "name": "stderr",
     "output_type": "stream",
     "text": [
      "W0502 07:41:27.440585 139661827884864 metrics.py:103] DICE score is technically 1.0, but prediction and truth arrays are empty. \n"
     ]
    },
    {
     "name": "stderr",
     "output_type": "stream",
     "text": [
      "W0502 07:41:27.453475 139661827884864 metrics.py:103] DICE score is technically 1.0, but prediction and truth arrays are empty. \n"
     ]
    },
    {
     "name": "stderr",
     "output_type": "stream",
     "text": [
      "W0502 07:41:27.466323 139661827884864 metrics.py:103] DICE score is technically 1.0, but prediction and truth arrays are empty. \n"
     ]
    },
    {
     "name": "stderr",
     "output_type": "stream",
     "text": [
      "W0502 07:41:27.479182 139661827884864 metrics.py:103] DICE score is technically 1.0, but prediction and truth arrays are empty. \n"
     ]
    },
    {
     "name": "stderr",
     "output_type": "stream",
     "text": [
      "W0502 07:41:27.492044 139661827884864 metrics.py:103] DICE score is technically 1.0, but prediction and truth arrays are empty. \n"
     ]
    },
    {
     "name": "stderr",
     "output_type": "stream",
     "text": [
      "W0502 07:41:27.504979 139661827884864 metrics.py:103] DICE score is technically 1.0, but prediction and truth arrays are empty. \n"
     ]
    },
    {
     "name": "stderr",
     "output_type": "stream",
     "text": [
      "W0502 07:41:27.518590 139661827884864 metrics.py:103] DICE score is technically 1.0, but prediction and truth arrays are empty. \n"
     ]
    },
    {
     "name": "stderr",
     "output_type": "stream",
     "text": [
      "W0502 07:41:27.531858 139661827884864 metrics.py:103] DICE score is technically 1.0, but prediction and truth arrays are empty. \n"
     ]
    },
    {
     "name": "stderr",
     "output_type": "stream",
     "text": [
      "W0502 07:41:27.545053 139661827884864 metrics.py:103] DICE score is technically 1.0, but prediction and truth arrays are empty. \n"
     ]
    },
    {
     "name": "stderr",
     "output_type": "stream",
     "text": [
      "W0502 07:41:27.558097 139661827884864 metrics.py:103] DICE score is technically 1.0, but prediction and truth arrays are empty. \n"
     ]
    },
    {
     "name": "stderr",
     "output_type": "stream",
     "text": [
      "W0502 07:41:27.571306 139661827884864 metrics.py:103] DICE score is technically 1.0, but prediction and truth arrays are empty. \n"
     ]
    },
    {
     "name": "stderr",
     "output_type": "stream",
     "text": [
      "W0502 07:41:27.584644 139661827884864 metrics.py:103] DICE score is technically 1.0, but prediction and truth arrays are empty. \n"
     ]
    },
    {
     "name": "stderr",
     "output_type": "stream",
     "text": [
      "W0502 07:41:27.597975 139661827884864 metrics.py:103] DICE score is technically 1.0, but prediction and truth arrays are empty. \n"
     ]
    },
    {
     "name": "stderr",
     "output_type": "stream",
     "text": [
      "W0502 07:41:27.611112 139661827884864 metrics.py:103] DICE score is technically 1.0, but prediction and truth arrays are empty. \n"
     ]
    },
    {
     "name": "stderr",
     "output_type": "stream",
     "text": [
      "W0502 07:41:27.624820 139661827884864 metrics.py:103] DICE score is technically 1.0, but prediction and truth arrays are empty. \n"
     ]
    },
    {
     "name": "stderr",
     "output_type": "stream",
     "text": [
      "W0502 07:41:27.637876 139661827884864 metrics.py:103] DICE score is technically 1.0, but prediction and truth arrays are empty. \n"
     ]
    },
    {
     "name": "stderr",
     "output_type": "stream",
     "text": [
      "W0502 07:41:27.650784 139661827884864 metrics.py:103] DICE score is technically 1.0, but prediction and truth arrays are empty. \n"
     ]
    },
    {
     "name": "stderr",
     "output_type": "stream",
     "text": [
      "W0502 07:41:27.664007 139661827884864 metrics.py:103] DICE score is technically 1.0, but prediction and truth arrays are empty. \n"
     ]
    },
    {
     "name": "stderr",
     "output_type": "stream",
     "text": [
      "W0502 07:41:27.677334 139661827884864 metrics.py:103] DICE score is technically 1.0, but prediction and truth arrays are empty. \n"
     ]
    },
    {
     "name": "stderr",
     "output_type": "stream",
     "text": [
      "W0502 07:42:41.232804 139661827884864 metrics.py:103] DICE score is technically 1.0, but prediction and truth arrays are empty. \n"
     ]
    },
    {
     "name": "stderr",
     "output_type": "stream",
     "text": [
      "W0502 07:42:41.245223 139661827884864 metrics.py:103] DICE score is technically 1.0, but prediction and truth arrays are empty. \n"
     ]
    },
    {
     "name": "stderr",
     "output_type": "stream",
     "text": [
      "W0502 07:42:41.257503 139661827884864 metrics.py:103] DICE score is technically 1.0, but prediction and truth arrays are empty. \n"
     ]
    },
    {
     "name": "stderr",
     "output_type": "stream",
     "text": [
      "W0502 07:42:41.270250 139661827884864 metrics.py:103] DICE score is technically 1.0, but prediction and truth arrays are empty. \n"
     ]
    },
    {
     "name": "stderr",
     "output_type": "stream",
     "text": [
      "W0502 07:42:41.282998 139661827884864 metrics.py:103] DICE score is technically 1.0, but prediction and truth arrays are empty. \n"
     ]
    },
    {
     "name": "stderr",
     "output_type": "stream",
     "text": [
      "W0502 07:42:46.158157 139661827884864 metrics.py:103] DICE score is technically 1.0, but prediction and truth arrays are empty. \n"
     ]
    },
    {
     "name": "stderr",
     "output_type": "stream",
     "text": [
      "W0502 07:42:46.171079 139661827884864 metrics.py:103] DICE score is technically 1.0, but prediction and truth arrays are empty. \n"
     ]
    },
    {
     "name": "stderr",
     "output_type": "stream",
     "text": [
      "W0502 07:42:46.183924 139661827884864 metrics.py:103] DICE score is technically 1.0, but prediction and truth arrays are empty. \n"
     ]
    },
    {
     "name": "stderr",
     "output_type": "stream",
     "text": [
      "W0502 07:42:46.196681 139661827884864 metrics.py:103] DICE score is technically 1.0, but prediction and truth arrays are empty. \n"
     ]
    },
    {
     "name": "stderr",
     "output_type": "stream",
     "text": [
      "W0502 07:42:46.209532 139661827884864 metrics.py:103] DICE score is technically 1.0, but prediction and truth arrays are empty. \n"
     ]
    },
    {
     "name": "stderr",
     "output_type": "stream",
     "text": [
      "W0502 07:42:46.223936 139661827884864 metrics.py:103] DICE score is technically 1.0, but prediction and truth arrays are empty. \n"
     ]
    },
    {
     "name": "stderr",
     "output_type": "stream",
     "text": [
      "W0502 07:42:46.237268 139661827884864 metrics.py:103] DICE score is technically 1.0, but prediction and truth arrays are empty. \n"
     ]
    },
    {
     "name": "stderr",
     "output_type": "stream",
     "text": [
      "W0502 07:42:46.250463 139661827884864 metrics.py:103] DICE score is technically 1.0, but prediction and truth arrays are empty. \n"
     ]
    },
    {
     "name": "stderr",
     "output_type": "stream",
     "text": [
      "W0502 07:42:46.263338 139661827884864 metrics.py:103] DICE score is technically 1.0, but prediction and truth arrays are empty. \n"
     ]
    },
    {
     "name": "stderr",
     "output_type": "stream",
     "text": [
      "W0502 07:42:46.276214 139661827884864 metrics.py:103] DICE score is technically 1.0, but prediction and truth arrays are empty. \n"
     ]
    },
    {
     "name": "stderr",
     "output_type": "stream",
     "text": [
      "W0502 07:42:46.289539 139661827884864 metrics.py:103] DICE score is technically 1.0, but prediction and truth arrays are empty. \n"
     ]
    },
    {
     "name": "stderr",
     "output_type": "stream",
     "text": [
      "W0502 07:42:46.302399 139661827884864 metrics.py:103] DICE score is technically 1.0, but prediction and truth arrays are empty. \n"
     ]
    },
    {
     "name": "stderr",
     "output_type": "stream",
     "text": [
      "W0502 07:42:46.315217 139661827884864 metrics.py:103] DICE score is technically 1.0, but prediction and truth arrays are empty. \n"
     ]
    },
    {
     "name": "stderr",
     "output_type": "stream",
     "text": [
      "W0502 07:42:46.328077 139661827884864 metrics.py:103] DICE score is technically 1.0, but prediction and truth arrays are empty. \n"
     ]
    },
    {
     "name": "stderr",
     "output_type": "stream",
     "text": [
      "W0502 07:42:46.340974 139661827884864 metrics.py:103] DICE score is technically 1.0, but prediction and truth arrays are empty. \n"
     ]
    },
    {
     "name": "stderr",
     "output_type": "stream",
     "text": [
      "W0502 07:42:46.353770 139661827884864 metrics.py:103] DICE score is technically 1.0, but prediction and truth arrays are empty. \n"
     ]
    },
    {
     "name": "stderr",
     "output_type": "stream",
     "text": [
      "W0502 07:42:46.366785 139661827884864 metrics.py:103] DICE score is technically 1.0, but prediction and truth arrays are empty. \n"
     ]
    },
    {
     "name": "stderr",
     "output_type": "stream",
     "text": [
      "W0502 07:42:46.380088 139661827884864 metrics.py:103] DICE score is technically 1.0, but prediction and truth arrays are empty. \n"
     ]
    },
    {
     "name": "stderr",
     "output_type": "stream",
     "text": [
      "W0502 07:42:46.393143 139661827884864 metrics.py:103] DICE score is technically 1.0, but prediction and truth arrays are empty. \n"
     ]
    },
    {
     "name": "stderr",
     "output_type": "stream",
     "text": [
      "W0502 07:42:46.406650 139661827884864 metrics.py:103] DICE score is technically 1.0, but prediction and truth arrays are empty. \n"
     ]
    },
    {
     "name": "stderr",
     "output_type": "stream",
     "text": [
      "W0502 07:42:46.420086 139661827884864 metrics.py:103] DICE score is technically 1.0, but prediction and truth arrays are empty. \n"
     ]
    },
    {
     "name": "stderr",
     "output_type": "stream",
     "text": [
      "W0502 07:42:46.433316 139661827884864 metrics.py:103] DICE score is technically 1.0, but prediction and truth arrays are empty. \n"
     ]
    },
    {
     "name": "stderr",
     "output_type": "stream",
     "text": [
      "W0502 07:42:46.446561 139661827884864 metrics.py:103] DICE score is technically 1.0, but prediction and truth arrays are empty. \n"
     ]
    },
    {
     "name": "stderr",
     "output_type": "stream",
     "text": [
      "W0502 07:42:46.459855 139661827884864 metrics.py:103] DICE score is technically 1.0, but prediction and truth arrays are empty. \n"
     ]
    },
    {
     "name": "stderr",
     "output_type": "stream",
     "text": [
      "W0502 07:42:46.474017 139661827884864 metrics.py:103] DICE score is technically 1.0, but prediction and truth arrays are empty. \n"
     ]
    },
    {
     "name": "stderr",
     "output_type": "stream",
     "text": [
      "W0502 07:42:46.486855 139661827884864 metrics.py:103] DICE score is technically 1.0, but prediction and truth arrays are empty. \n"
     ]
    },
    {
     "name": "stderr",
     "output_type": "stream",
     "text": [
      "W0502 07:42:46.499643 139661827884864 metrics.py:103] DICE score is technically 1.0, but prediction and truth arrays are empty. \n"
     ]
    },
    {
     "name": "stderr",
     "output_type": "stream",
     "text": [
      "W0502 07:42:46.512269 139661827884864 metrics.py:103] DICE score is technically 1.0, but prediction and truth arrays are empty. \n"
     ]
    },
    {
     "name": "stderr",
     "output_type": "stream",
     "text": [
      "W0502 07:42:46.524829 139661827884864 metrics.py:103] DICE score is technically 1.0, but prediction and truth arrays are empty. \n"
     ]
    },
    {
     "name": "stderr",
     "output_type": "stream",
     "text": [
      "W0502 07:42:46.537606 139661827884864 metrics.py:103] DICE score is technically 1.0, but prediction and truth arrays are empty. \n"
     ]
    },
    {
     "name": "stderr",
     "output_type": "stream",
     "text": [
      "W0502 07:42:47.005292 139661827884864 metrics.py:103] DICE score is technically 1.0, but prediction and truth arrays are empty. \n"
     ]
    },
    {
     "name": "stderr",
     "output_type": "stream",
     "text": [
      "W0502 07:42:47.040756 139661827884864 metrics.py:103] DICE score is technically 1.0, but prediction and truth arrays are empty. \n"
     ]
    },
    {
     "name": "stderr",
     "output_type": "stream",
     "text": [
      "W0502 07:42:47.053056 139661827884864 metrics.py:103] DICE score is technically 1.0, but prediction and truth arrays are empty. \n"
     ]
    },
    {
     "name": "stderr",
     "output_type": "stream",
     "text": [
      "W0502 07:42:47.065410 139661827884864 metrics.py:103] DICE score is technically 1.0, but prediction and truth arrays are empty. \n"
     ]
    },
    {
     "name": "stderr",
     "output_type": "stream",
     "text": [
      "W0502 07:42:47.077999 139661827884864 metrics.py:103] DICE score is technically 1.0, but prediction and truth arrays are empty. \n"
     ]
    },
    {
     "name": "stderr",
     "output_type": "stream",
     "text": [
      "W0502 07:42:47.090635 139661827884864 metrics.py:103] DICE score is technically 1.0, but prediction and truth arrays are empty. \n"
     ]
    },
    {
     "name": "stderr",
     "output_type": "stream",
     "text": [
      "W0502 07:42:47.103324 139661827884864 metrics.py:103] DICE score is technically 1.0, but prediction and truth arrays are empty. \n"
     ]
    },
    {
     "name": "stderr",
     "output_type": "stream",
     "text": [
      "W0502 07:42:47.116465 139661827884864 metrics.py:103] DICE score is technically 1.0, but prediction and truth arrays are empty. \n"
     ]
    },
    {
     "name": "stderr",
     "output_type": "stream",
     "text": [
      "W0502 07:42:47.129705 139661827884864 metrics.py:103] DICE score is technically 1.0, but prediction and truth arrays are empty. \n"
     ]
    },
    {
     "name": "stderr",
     "output_type": "stream",
     "text": [
      "W0502 07:42:47.142510 139661827884864 metrics.py:103] DICE score is technically 1.0, but prediction and truth arrays are empty. \n"
     ]
    },
    {
     "name": "stderr",
     "output_type": "stream",
     "text": [
      "W0502 07:42:47.155292 139661827884864 metrics.py:103] DICE score is technically 1.0, but prediction and truth arrays are empty. \n"
     ]
    },
    {
     "name": "stderr",
     "output_type": "stream",
     "text": [
      "W0502 07:42:47.168170 139661827884864 metrics.py:103] DICE score is technically 1.0, but prediction and truth arrays are empty. \n"
     ]
    },
    {
     "name": "stderr",
     "output_type": "stream",
     "text": [
      "W0502 07:42:47.184801 139661827884864 metrics.py:103] DICE score is technically 1.0, but prediction and truth arrays are empty. \n"
     ]
    },
    {
     "name": "stderr",
     "output_type": "stream",
     "text": [
      "W0502 07:42:47.197655 139661827884864 metrics.py:103] DICE score is technically 1.0, but prediction and truth arrays are empty. \n"
     ]
    },
    {
     "name": "stderr",
     "output_type": "stream",
     "text": [
      "W0502 07:42:47.210635 139661827884864 metrics.py:103] DICE score is technically 1.0, but prediction and truth arrays are empty. \n"
     ]
    },
    {
     "name": "stderr",
     "output_type": "stream",
     "text": [
      "W0502 07:42:47.223386 139661827884864 metrics.py:103] DICE score is technically 1.0, but prediction and truth arrays are empty. \n"
     ]
    },
    {
     "name": "stderr",
     "output_type": "stream",
     "text": [
      "W0502 07:42:47.236189 139661827884864 metrics.py:103] DICE score is technically 1.0, but prediction and truth arrays are empty. \n"
     ]
    },
    {
     "name": "stderr",
     "output_type": "stream",
     "text": [
      "W0502 07:42:47.249577 139661827884864 metrics.py:103] DICE score is technically 1.0, but prediction and truth arrays are empty. \n"
     ]
    },
    {
     "name": "stderr",
     "output_type": "stream",
     "text": [
      "W0502 07:42:47.263002 139661827884864 metrics.py:103] DICE score is technically 1.0, but prediction and truth arrays are empty. \n"
     ]
    },
    {
     "name": "stderr",
     "output_type": "stream",
     "text": [
      "W0502 07:42:47.275892 139661827884864 metrics.py:103] DICE score is technically 1.0, but prediction and truth arrays are empty. \n"
     ]
    },
    {
     "name": "stderr",
     "output_type": "stream",
     "text": [
      "W0502 07:42:47.289227 139661827884864 metrics.py:103] DICE score is technically 1.0, but prediction and truth arrays are empty. \n"
     ]
    },
    {
     "name": "stderr",
     "output_type": "stream",
     "text": [
      "W0502 07:42:47.306490 139661827884864 metrics.py:103] DICE score is technically 1.0, but prediction and truth arrays are empty. \n"
     ]
    },
    {
     "name": "stderr",
     "output_type": "stream",
     "text": [
      "W0502 07:42:47.326694 139661827884864 metrics.py:103] DICE score is technically 1.0, but prediction and truth arrays are empty. \n"
     ]
    },
    {
     "name": "stderr",
     "output_type": "stream",
     "text": [
      "W0502 07:42:47.346348 139661827884864 metrics.py:103] DICE score is technically 1.0, but prediction and truth arrays are empty. \n"
     ]
    },
    {
     "name": "stderr",
     "output_type": "stream",
     "text": [
      "W0502 07:42:47.359619 139661827884864 metrics.py:103] DICE score is technically 1.0, but prediction and truth arrays are empty. \n"
     ]
    },
    {
     "name": "stderr",
     "output_type": "stream",
     "text": [
      "W0502 07:42:47.372838 139661827884864 metrics.py:103] DICE score is technically 1.0, but prediction and truth arrays are empty. \n"
     ]
    },
    {
     "name": "stderr",
     "output_type": "stream",
     "text": [
      "W0502 07:42:47.386359 139661827884864 metrics.py:103] DICE score is technically 1.0, but prediction and truth arrays are empty. \n"
     ]
    },
    {
     "name": "stderr",
     "output_type": "stream",
     "text": [
      "W0502 07:42:47.399164 139661827884864 metrics.py:103] DICE score is technically 1.0, but prediction and truth arrays are empty. \n"
     ]
    },
    {
     "name": "stderr",
     "output_type": "stream",
     "text": [
      "W0502 07:42:54.094821 139661827884864 metrics.py:103] DICE score is technically 1.0, but prediction and truth arrays are empty. \n"
     ]
    },
    {
     "name": "stderr",
     "output_type": "stream",
     "text": [
      "W0502 07:42:54.448736 139661827884864 metrics.py:103] DICE score is technically 1.0, but prediction and truth arrays are empty. \n"
     ]
    },
    {
     "name": "stderr",
     "output_type": "stream",
     "text": [
      "W0502 07:42:54.461882 139661827884864 metrics.py:103] DICE score is technically 1.0, but prediction and truth arrays are empty. \n"
     ]
    },
    {
     "name": "stderr",
     "output_type": "stream",
     "text": [
      "W0502 07:42:55.373874 139661827884864 metrics.py:103] DICE score is technically 1.0, but prediction and truth arrays are empty. \n"
     ]
    },
    {
     "name": "stderr",
     "output_type": "stream",
     "text": [
      "W0502 07:42:55.386360 139661827884864 metrics.py:103] DICE score is technically 1.0, but prediction and truth arrays are empty. \n"
     ]
    },
    {
     "name": "stderr",
     "output_type": "stream",
     "text": [
      "W0502 07:42:55.398915 139661827884864 metrics.py:103] DICE score is technically 1.0, but prediction and truth arrays are empty. \n"
     ]
    },
    {
     "name": "stderr",
     "output_type": "stream",
     "text": [
      "W0502 07:42:55.411434 139661827884864 metrics.py:103] DICE score is technically 1.0, but prediction and truth arrays are empty. \n"
     ]
    },
    {
     "name": "stderr",
     "output_type": "stream",
     "text": [
      "W0502 07:42:55.424223 139661827884864 metrics.py:103] DICE score is technically 1.0, but prediction and truth arrays are empty. \n"
     ]
    },
    {
     "name": "stderr",
     "output_type": "stream",
     "text": [
      "W0502 07:42:55.437031 139661827884864 metrics.py:103] DICE score is technically 1.0, but prediction and truth arrays are empty. \n"
     ]
    },
    {
     "name": "stderr",
     "output_type": "stream",
     "text": [
      "W0502 07:42:55.450210 139661827884864 metrics.py:103] DICE score is technically 1.0, but prediction and truth arrays are empty. \n"
     ]
    },
    {
     "name": "stderr",
     "output_type": "stream",
     "text": [
      "W0502 07:42:55.463515 139661827884864 metrics.py:103] DICE score is technically 1.0, but prediction and truth arrays are empty. \n"
     ]
    },
    {
     "name": "stderr",
     "output_type": "stream",
     "text": [
      "W0502 07:42:55.476397 139661827884864 metrics.py:103] DICE score is technically 1.0, but prediction and truth arrays are empty. \n"
     ]
    },
    {
     "name": "stderr",
     "output_type": "stream",
     "text": [
      "W0502 07:42:55.489293 139661827884864 metrics.py:103] DICE score is technically 1.0, but prediction and truth arrays are empty. \n"
     ]
    },
    {
     "name": "stderr",
     "output_type": "stream",
     "text": [
      "W0502 07:42:55.502155 139661827884864 metrics.py:103] DICE score is technically 1.0, but prediction and truth arrays are empty. \n"
     ]
    },
    {
     "name": "stderr",
     "output_type": "stream",
     "text": [
      "W0502 07:42:55.515020 139661827884864 metrics.py:103] DICE score is technically 1.0, but prediction and truth arrays are empty. \n"
     ]
    },
    {
     "name": "stderr",
     "output_type": "stream",
     "text": [
      "W0502 07:42:55.528967 139661827884864 metrics.py:103] DICE score is technically 1.0, but prediction and truth arrays are empty. \n"
     ]
    },
    {
     "name": "stderr",
     "output_type": "stream",
     "text": [
      "W0502 07:42:55.541720 139661827884864 metrics.py:103] DICE score is technically 1.0, but prediction and truth arrays are empty. \n"
     ]
    },
    {
     "name": "stderr",
     "output_type": "stream",
     "text": [
      "W0502 07:42:55.554449 139661827884864 metrics.py:103] DICE score is technically 1.0, but prediction and truth arrays are empty. \n"
     ]
    },
    {
     "name": "stderr",
     "output_type": "stream",
     "text": [
      "W0502 07:42:55.567236 139661827884864 metrics.py:103] DICE score is technically 1.0, but prediction and truth arrays are empty. \n"
     ]
    },
    {
     "name": "stderr",
     "output_type": "stream",
     "text": [
      "W0502 07:42:55.580086 139661827884864 metrics.py:103] DICE score is technically 1.0, but prediction and truth arrays are empty. \n"
     ]
    },
    {
     "name": "stderr",
     "output_type": "stream",
     "text": [
      "W0502 07:42:55.593281 139661827884864 metrics.py:103] DICE score is technically 1.0, but prediction and truth arrays are empty. \n"
     ]
    },
    {
     "name": "stderr",
     "output_type": "stream",
     "text": [
      "W0502 07:42:55.606583 139661827884864 metrics.py:103] DICE score is technically 1.0, but prediction and truth arrays are empty. \n"
     ]
    },
    {
     "name": "stderr",
     "output_type": "stream",
     "text": [
      "W0502 07:42:55.619996 139661827884864 metrics.py:103] DICE score is technically 1.0, but prediction and truth arrays are empty. \n"
     ]
    },
    {
     "name": "stderr",
     "output_type": "stream",
     "text": [
      "W0502 07:42:55.633356 139661827884864 metrics.py:103] DICE score is technically 1.0, but prediction and truth arrays are empty. \n"
     ]
    },
    {
     "name": "stderr",
     "output_type": "stream",
     "text": [
      "W0502 07:42:55.652662 139661827884864 metrics.py:103] DICE score is technically 1.0, but prediction and truth arrays are empty. \n"
     ]
    },
    {
     "name": "stderr",
     "output_type": "stream",
     "text": [
      "W0502 07:42:55.667089 139661827884864 metrics.py:103] DICE score is technically 1.0, but prediction and truth arrays are empty. \n"
     ]
    },
    {
     "name": "stderr",
     "output_type": "stream",
     "text": [
      "W0502 07:42:55.681654 139661827884864 metrics.py:103] DICE score is technically 1.0, but prediction and truth arrays are empty. \n"
     ]
    },
    {
     "name": "stderr",
     "output_type": "stream",
     "text": [
      "W0502 07:42:55.696950 139661827884864 metrics.py:103] DICE score is technically 1.0, but prediction and truth arrays are empty. \n"
     ]
    },
    {
     "name": "stderr",
     "output_type": "stream",
     "text": [
      "W0502 07:42:55.711848 139661827884864 metrics.py:103] DICE score is technically 1.0, but prediction and truth arrays are empty. \n"
     ]
    },
    {
     "name": "stderr",
     "output_type": "stream",
     "text": [
      "W0502 07:42:55.726839 139661827884864 metrics.py:103] DICE score is technically 1.0, but prediction and truth arrays are empty. \n"
     ]
    },
    {
     "name": "stderr",
     "output_type": "stream",
     "text": [
      "W0502 07:42:55.741506 139661827884864 metrics.py:103] DICE score is technically 1.0, but prediction and truth arrays are empty. \n"
     ]
    },
    {
     "name": "stderr",
     "output_type": "stream",
     "text": [
      "W0502 07:42:55.756164 139661827884864 metrics.py:103] DICE score is technically 1.0, but prediction and truth arrays are empty. \n"
     ]
    },
    {
     "name": "stderr",
     "output_type": "stream",
     "text": [
      "W0502 07:42:55.770385 139661827884864 metrics.py:103] DICE score is technically 1.0, but prediction and truth arrays are empty. \n"
     ]
    },
    {
     "name": "stderr",
     "output_type": "stream",
     "text": [
      "W0502 07:42:56.232540 139661827884864 metrics.py:103] DICE score is technically 1.0, but prediction and truth arrays are empty. \n"
     ]
    },
    {
     "name": "stderr",
     "output_type": "stream",
     "text": [
      "W0502 07:42:56.245314 139661827884864 metrics.py:103] DICE score is technically 1.0, but prediction and truth arrays are empty. \n"
     ]
    },
    {
     "name": "stderr",
     "output_type": "stream",
     "text": [
      "W0502 07:42:56.258144 139661827884864 metrics.py:103] DICE score is technically 1.0, but prediction and truth arrays are empty. \n"
     ]
    },
    {
     "name": "stderr",
     "output_type": "stream",
     "text": [
      "W0502 07:42:56.270807 139661827884864 metrics.py:103] DICE score is technically 1.0, but prediction and truth arrays are empty. \n"
     ]
    },
    {
     "name": "stderr",
     "output_type": "stream",
     "text": [
      "W0502 07:42:56.283472 139661827884864 metrics.py:103] DICE score is technically 1.0, but prediction and truth arrays are empty. \n"
     ]
    },
    {
     "name": "stderr",
     "output_type": "stream",
     "text": [
      "W0502 07:42:56.296025 139661827884864 metrics.py:103] DICE score is technically 1.0, but prediction and truth arrays are empty. \n"
     ]
    },
    {
     "name": "stderr",
     "output_type": "stream",
     "text": [
      "W0502 07:42:56.311780 139661827884864 metrics.py:103] DICE score is technically 1.0, but prediction and truth arrays are empty. \n"
     ]
    },
    {
     "name": "stderr",
     "output_type": "stream",
     "text": [
      "W0502 07:42:56.325494 139661827884864 metrics.py:103] DICE score is technically 1.0, but prediction and truth arrays are empty. \n"
     ]
    },
    {
     "name": "stderr",
     "output_type": "stream",
     "text": [
      "W0502 07:42:56.338227 139661827884864 metrics.py:103] DICE score is technically 1.0, but prediction and truth arrays are empty. \n"
     ]
    },
    {
     "name": "stderr",
     "output_type": "stream",
     "text": [
      "W0502 07:42:56.351167 139661827884864 metrics.py:103] DICE score is technically 1.0, but prediction and truth arrays are empty. \n"
     ]
    },
    {
     "name": "stderr",
     "output_type": "stream",
     "text": [
      "W0502 07:42:56.364293 139661827884864 metrics.py:103] DICE score is technically 1.0, but prediction and truth arrays are empty. \n"
     ]
    },
    {
     "name": "stderr",
     "output_type": "stream",
     "text": [
      "W0502 07:42:56.377160 139661827884864 metrics.py:103] DICE score is technically 1.0, but prediction and truth arrays are empty. \n"
     ]
    },
    {
     "name": "stderr",
     "output_type": "stream",
     "text": [
      "W0502 07:42:56.389954 139661827884864 metrics.py:103] DICE score is technically 1.0, but prediction and truth arrays are empty. \n"
     ]
    },
    {
     "name": "stderr",
     "output_type": "stream",
     "text": [
      "W0502 07:42:56.402686 139661827884864 metrics.py:103] DICE score is technically 1.0, but prediction and truth arrays are empty. \n"
     ]
    },
    {
     "name": "stderr",
     "output_type": "stream",
     "text": [
      "W0502 07:42:56.417484 139661827884864 metrics.py:103] DICE score is technically 1.0, but prediction and truth arrays are empty. \n"
     ]
    },
    {
     "name": "stderr",
     "output_type": "stream",
     "text": [
      "W0502 07:42:56.437379 139661827884864 metrics.py:103] DICE score is technically 1.0, but prediction and truth arrays are empty. \n"
     ]
    },
    {
     "name": "stderr",
     "output_type": "stream",
     "text": [
      "W0502 07:42:56.458167 139661827884864 metrics.py:103] DICE score is technically 1.0, but prediction and truth arrays are empty. \n"
     ]
    },
    {
     "name": "stderr",
     "output_type": "stream",
     "text": [
      "W0502 07:42:56.477952 139661827884864 metrics.py:103] DICE score is technically 1.0, but prediction and truth arrays are empty. \n"
     ]
    },
    {
     "name": "stderr",
     "output_type": "stream",
     "text": [
      "W0502 07:42:56.496402 139661827884864 metrics.py:103] DICE score is technically 1.0, but prediction and truth arrays are empty. \n"
     ]
    },
    {
     "name": "stderr",
     "output_type": "stream",
     "text": [
      "W0502 07:42:56.509268 139661827884864 metrics.py:103] DICE score is technically 1.0, but prediction and truth arrays are empty. \n"
     ]
    },
    {
     "name": "stderr",
     "output_type": "stream",
     "text": [
      "W0502 07:42:56.522186 139661827884864 metrics.py:103] DICE score is technically 1.0, but prediction and truth arrays are empty. \n"
     ]
    },
    {
     "name": "stderr",
     "output_type": "stream",
     "text": [
      "W0502 07:42:56.535347 139661827884864 metrics.py:103] DICE score is technically 1.0, but prediction and truth arrays are empty. \n"
     ]
    },
    {
     "name": "stderr",
     "output_type": "stream",
     "text": [
      "W0502 07:42:56.549165 139661827884864 metrics.py:103] DICE score is technically 1.0, but prediction and truth arrays are empty. \n"
     ]
    },
    {
     "name": "stderr",
     "output_type": "stream",
     "text": [
      "W0502 07:42:56.562657 139661827884864 metrics.py:103] DICE score is technically 1.0, but prediction and truth arrays are empty. \n"
     ]
    },
    {
     "name": "stderr",
     "output_type": "stream",
     "text": [
      "W0502 07:42:56.576061 139661827884864 metrics.py:103] DICE score is technically 1.0, but prediction and truth arrays are empty. \n"
     ]
    },
    {
     "name": "stderr",
     "output_type": "stream",
     "text": [
      "W0502 07:42:56.589204 139661827884864 metrics.py:103] DICE score is technically 1.0, but prediction and truth arrays are empty. \n"
     ]
    },
    {
     "name": "stderr",
     "output_type": "stream",
     "text": [
      "W0502 07:42:56.602290 139661827884864 metrics.py:103] DICE score is technically 1.0, but prediction and truth arrays are empty. \n"
     ]
    },
    {
     "name": "stderr",
     "output_type": "stream",
     "text": [
      "W0502 07:42:56.615096 139661827884864 metrics.py:103] DICE score is technically 1.0, but prediction and truth arrays are empty. \n"
     ]
    },
    {
     "name": "stderr",
     "output_type": "stream",
     "text": [
      "W0502 07:42:56.627927 139661827884864 metrics.py:103] DICE score is technically 1.0, but prediction and truth arrays are empty. \n"
     ]
    },
    {
     "name": "stderr",
     "output_type": "stream",
     "text": [
      "W0502 07:42:56.640868 139661827884864 metrics.py:103] DICE score is technically 1.0, but prediction and truth arrays are empty. \n"
     ]
    },
    {
     "name": "stderr",
     "output_type": "stream",
     "text": [
      "W0502 07:42:58.384944 139661827884864 metrics.py:103] DICE score is technically 1.0, but prediction and truth arrays are empty. \n"
     ]
    },
    {
     "name": "stderr",
     "output_type": "stream",
     "text": [
      "W0502 07:42:58.398302 139661827884864 metrics.py:103] DICE score is technically 1.0, but prediction and truth arrays are empty. \n"
     ]
    },
    {
     "name": "stderr",
     "output_type": "stream",
     "text": [
      "W0502 07:42:58.414337 139661827884864 metrics.py:103] DICE score is technically 1.0, but prediction and truth arrays are empty. \n"
     ]
    },
    {
     "name": "stderr",
     "output_type": "stream",
     "text": [
      "W0502 07:42:58.427745 139661827884864 metrics.py:103] DICE score is technically 1.0, but prediction and truth arrays are empty. \n"
     ]
    },
    {
     "name": "stderr",
     "output_type": "stream",
     "text": [
      "W0502 07:42:58.440535 139661827884864 metrics.py:103] DICE score is technically 1.0, but prediction and truth arrays are empty. \n"
     ]
    },
    {
     "name": "stderr",
     "output_type": "stream",
     "text": [
      "W0502 07:42:58.453219 139661827884864 metrics.py:103] DICE score is technically 1.0, but prediction and truth arrays are empty. \n"
     ]
    },
    {
     "name": "stderr",
     "output_type": "stream",
     "text": [
      "W0502 07:42:58.465806 139661827884864 metrics.py:103] DICE score is technically 1.0, but prediction and truth arrays are empty. \n"
     ]
    },
    {
     "name": "stderr",
     "output_type": "stream",
     "text": [
      "W0502 07:42:58.478358 139661827884864 metrics.py:103] DICE score is technically 1.0, but prediction and truth arrays are empty. \n"
     ]
    },
    {
     "name": "stderr",
     "output_type": "stream",
     "text": [
      "W0502 07:42:58.490733 139661827884864 metrics.py:103] DICE score is technically 1.0, but prediction and truth arrays are empty. \n"
     ]
    },
    {
     "name": "stderr",
     "output_type": "stream",
     "text": [
      "W0502 07:42:58.503340 139661827884864 metrics.py:103] DICE score is technically 1.0, but prediction and truth arrays are empty. \n"
     ]
    },
    {
     "name": "stderr",
     "output_type": "stream",
     "text": [
      "W0502 07:42:58.515588 139661827884864 metrics.py:103] DICE score is technically 1.0, but prediction and truth arrays are empty. \n"
     ]
    },
    {
     "name": "stderr",
     "output_type": "stream",
     "text": [
      "W0502 07:42:58.529137 139661827884864 metrics.py:103] DICE score is technically 1.0, but prediction and truth arrays are empty. \n"
     ]
    },
    {
     "name": "stderr",
     "output_type": "stream",
     "text": [
      "W0502 07:42:58.541690 139661827884864 metrics.py:103] DICE score is technically 1.0, but prediction and truth arrays are empty. \n"
     ]
    },
    {
     "name": "stderr",
     "output_type": "stream",
     "text": [
      "W0502 07:42:58.554282 139661827884864 metrics.py:103] DICE score is technically 1.0, but prediction and truth arrays are empty. \n"
     ]
    },
    {
     "name": "stderr",
     "output_type": "stream",
     "text": [
      "W0502 07:42:58.566882 139661827884864 metrics.py:103] DICE score is technically 1.0, but prediction and truth arrays are empty. \n"
     ]
    },
    {
     "name": "stderr",
     "output_type": "stream",
     "text": [
      "W0502 07:42:58.579647 139661827884864 metrics.py:103] DICE score is technically 1.0, but prediction and truth arrays are empty. \n"
     ]
    },
    {
     "name": "stderr",
     "output_type": "stream",
     "text": [
      "W0502 07:42:58.594951 139661827884864 metrics.py:103] DICE score is technically 1.0, but prediction and truth arrays are empty. \n"
     ]
    },
    {
     "name": "stderr",
     "output_type": "stream",
     "text": [
      "W0502 07:42:58.609616 139661827884864 metrics.py:103] DICE score is technically 1.0, but prediction and truth arrays are empty. \n"
     ]
    },
    {
     "name": "stderr",
     "output_type": "stream",
     "text": [
      "W0502 07:42:58.622895 139661827884864 metrics.py:103] DICE score is technically 1.0, but prediction and truth arrays are empty. \n"
     ]
    },
    {
     "name": "stderr",
     "output_type": "stream",
     "text": [
      "W0502 07:42:58.636102 139661827884864 metrics.py:103] DICE score is technically 1.0, but prediction and truth arrays are empty. \n"
     ]
    },
    {
     "name": "stderr",
     "output_type": "stream",
     "text": [
      "W0502 07:42:58.649304 139661827884864 metrics.py:103] DICE score is technically 1.0, but prediction and truth arrays are empty. \n"
     ]
    },
    {
     "name": "stderr",
     "output_type": "stream",
     "text": [
      "W0502 07:42:58.662369 139661827884864 metrics.py:103] DICE score is technically 1.0, but prediction and truth arrays are empty. \n"
     ]
    },
    {
     "name": "stderr",
     "output_type": "stream",
     "text": [
      "W0502 07:42:58.675588 139661827884864 metrics.py:103] DICE score is technically 1.0, but prediction and truth arrays are empty. \n"
     ]
    },
    {
     "name": "stderr",
     "output_type": "stream",
     "text": [
      "W0502 07:42:58.688445 139661827884864 metrics.py:103] DICE score is technically 1.0, but prediction and truth arrays are empty. \n"
     ]
    },
    {
     "name": "stderr",
     "output_type": "stream",
     "text": [
      "W0502 07:42:58.701719 139661827884864 metrics.py:103] DICE score is technically 1.0, but prediction and truth arrays are empty. \n"
     ]
    },
    {
     "name": "stderr",
     "output_type": "stream",
     "text": [
      "W0502 07:42:58.716129 139661827884864 metrics.py:103] DICE score is technically 1.0, but prediction and truth arrays are empty. \n"
     ]
    },
    {
     "name": "stderr",
     "output_type": "stream",
     "text": [
      "W0502 07:42:58.735513 139661827884864 metrics.py:103] DICE score is technically 1.0, but prediction and truth arrays are empty. \n"
     ]
    },
    {
     "name": "stderr",
     "output_type": "stream",
     "text": [
      "W0502 07:42:58.755139 139661827884864 metrics.py:103] DICE score is technically 1.0, but prediction and truth arrays are empty. \n"
     ]
    },
    {
     "name": "stderr",
     "output_type": "stream",
     "text": [
      "W0502 07:42:58.770206 139661827884864 metrics.py:103] DICE score is technically 1.0, but prediction and truth arrays are empty. \n"
     ]
    },
    {
     "name": "stderr",
     "output_type": "stream",
     "text": [
      "W0502 07:42:58.783340 139661827884864 metrics.py:103] DICE score is technically 1.0, but prediction and truth arrays are empty. \n"
     ]
    },
    {
     "name": "stderr",
     "output_type": "stream",
     "text": [
      "W0502 07:42:59.584598 139661827884864 metrics.py:103] DICE score is technically 1.0, but prediction and truth arrays are empty. \n"
     ]
    },
    {
     "name": "stderr",
     "output_type": "stream",
     "text": [
      "W0502 07:42:59.597728 139661827884864 metrics.py:103] DICE score is technically 1.0, but prediction and truth arrays are empty. \n"
     ]
    },
    {
     "name": "stderr",
     "output_type": "stream",
     "text": [
      "W0502 07:42:59.610553 139661827884864 metrics.py:103] DICE score is technically 1.0, but prediction and truth arrays are empty. \n"
     ]
    },
    {
     "name": "stderr",
     "output_type": "stream",
     "text": [
      "W0502 07:42:59.623487 139661827884864 metrics.py:103] DICE score is technically 1.0, but prediction and truth arrays are empty. \n"
     ]
    },
    {
     "name": "stderr",
     "output_type": "stream",
     "text": [
      "W0502 07:42:59.636462 139661827884864 metrics.py:103] DICE score is technically 1.0, but prediction and truth arrays are empty. \n"
     ]
    },
    {
     "name": "stderr",
     "output_type": "stream",
     "text": [
      "W0502 07:42:59.650073 139661827884864 metrics.py:103] DICE score is technically 1.0, but prediction and truth arrays are empty. \n"
     ]
    },
    {
     "name": "stderr",
     "output_type": "stream",
     "text": [
      "W0502 07:42:59.663035 139661827884864 metrics.py:103] DICE score is technically 1.0, but prediction and truth arrays are empty. \n"
     ]
    },
    {
     "name": "stderr",
     "output_type": "stream",
     "text": [
      "W0502 07:42:59.675845 139661827884864 metrics.py:103] DICE score is technically 1.0, but prediction and truth arrays are empty. \n"
     ]
    },
    {
     "name": "stderr",
     "output_type": "stream",
     "text": [
      "W0502 07:42:59.688663 139661827884864 metrics.py:103] DICE score is technically 1.0, but prediction and truth arrays are empty. \n"
     ]
    },
    {
     "name": "stderr",
     "output_type": "stream",
     "text": [
      "W0502 07:42:59.701493 139661827884864 metrics.py:103] DICE score is technically 1.0, but prediction and truth arrays are empty. \n"
     ]
    },
    {
     "name": "stderr",
     "output_type": "stream",
     "text": [
      "W0502 07:42:59.714338 139661827884864 metrics.py:103] DICE score is technically 1.0, but prediction and truth arrays are empty. \n"
     ]
    },
    {
     "name": "stderr",
     "output_type": "stream",
     "text": [
      "W0502 07:42:59.727142 139661827884864 metrics.py:103] DICE score is technically 1.0, but prediction and truth arrays are empty. \n"
     ]
    },
    {
     "name": "stderr",
     "output_type": "stream",
     "text": [
      "W0502 07:42:59.739936 139661827884864 metrics.py:103] DICE score is technically 1.0, but prediction and truth arrays are empty. \n"
     ]
    },
    {
     "name": "stderr",
     "output_type": "stream",
     "text": [
      "W0502 07:42:59.752688 139661827884864 metrics.py:103] DICE score is technically 1.0, but prediction and truth arrays are empty. \n"
     ]
    },
    {
     "name": "stderr",
     "output_type": "stream",
     "text": [
      "W0502 07:42:59.765475 139661827884864 metrics.py:103] DICE score is technically 1.0, but prediction and truth arrays are empty. \n"
     ]
    },
    {
     "name": "stderr",
     "output_type": "stream",
     "text": [
      "W0502 07:42:59.778231 139661827884864 metrics.py:103] DICE score is technically 1.0, but prediction and truth arrays are empty. \n"
     ]
    },
    {
     "name": "stderr",
     "output_type": "stream",
     "text": [
      "W0502 07:42:59.791230 139661827884864 metrics.py:103] DICE score is technically 1.0, but prediction and truth arrays are empty. \n"
     ]
    },
    {
     "name": "stderr",
     "output_type": "stream",
     "text": [
      "W0502 07:42:59.804642 139661827884864 metrics.py:103] DICE score is technically 1.0, but prediction and truth arrays are empty. \n"
     ]
    },
    {
     "name": "stderr",
     "output_type": "stream",
     "text": [
      "W0502 07:42:59.817826 139661827884864 metrics.py:103] DICE score is technically 1.0, but prediction and truth arrays are empty. \n"
     ]
    },
    {
     "name": "stderr",
     "output_type": "stream",
     "text": [
      "W0502 07:42:59.831725 139661827884864 metrics.py:103] DICE score is technically 1.0, but prediction and truth arrays are empty. \n"
     ]
    },
    {
     "name": "stderr",
     "output_type": "stream",
     "text": [
      "W0502 07:42:59.857051 139661827884864 metrics.py:103] DICE score is technically 1.0, but prediction and truth arrays are empty. \n"
     ]
    },
    {
     "name": "stderr",
     "output_type": "stream",
     "text": [
      "W0502 07:42:59.872245 139661827884864 metrics.py:103] DICE score is technically 1.0, but prediction and truth arrays are empty. \n"
     ]
    },
    {
     "name": "stderr",
     "output_type": "stream",
     "text": [
      "W0502 07:42:59.887062 139661827884864 metrics.py:103] DICE score is technically 1.0, but prediction and truth arrays are empty. \n"
     ]
    },
    {
     "name": "stderr",
     "output_type": "stream",
     "text": [
      "W0502 07:42:59.900036 139661827884864 metrics.py:103] DICE score is technically 1.0, but prediction and truth arrays are empty. \n"
     ]
    },
    {
     "name": "stderr",
     "output_type": "stream",
     "text": [
      "W0502 07:42:59.913038 139661827884864 metrics.py:103] DICE score is technically 1.0, but prediction and truth arrays are empty. \n"
     ]
    },
    {
     "name": "stderr",
     "output_type": "stream",
     "text": [
      "W0502 07:42:59.925965 139661827884864 metrics.py:103] DICE score is technically 1.0, but prediction and truth arrays are empty. \n"
     ]
    },
    {
     "name": "stderr",
     "output_type": "stream",
     "text": [
      "W0502 07:42:59.938778 139661827884864 metrics.py:103] DICE score is technically 1.0, but prediction and truth arrays are empty. \n"
     ]
    },
    {
     "name": "stderr",
     "output_type": "stream",
     "text": [
      "W0502 07:42:59.951575 139661827884864 metrics.py:103] DICE score is technically 1.0, but prediction and truth arrays are empty. \n"
     ]
    },
    {
     "name": "stderr",
     "output_type": "stream",
     "text": [
      "W0502 07:43:02.574137 139661827884864 metrics.py:103] DICE score is technically 1.0, but prediction and truth arrays are empty. \n"
     ]
    },
    {
     "name": "stderr",
     "output_type": "stream",
     "text": [
      "W0502 07:43:02.611548 139661827884864 metrics.py:103] DICE score is technically 1.0, but prediction and truth arrays are empty. \n"
     ]
    },
    {
     "name": "stderr",
     "output_type": "stream",
     "text": [
      "W0502 07:43:02.625399 139661827884864 metrics.py:103] DICE score is technically 1.0, but prediction and truth arrays are empty. \n"
     ]
    },
    {
     "name": "stderr",
     "output_type": "stream",
     "text": [
      "W0502 07:43:02.637770 139661827884864 metrics.py:103] DICE score is technically 1.0, but prediction and truth arrays are empty. \n"
     ]
    },
    {
     "name": "stderr",
     "output_type": "stream",
     "text": [
      "W0502 07:43:02.661377 139661827884864 metrics.py:103] DICE score is technically 1.0, but prediction and truth arrays are empty. \n"
     ]
    },
    {
     "name": "stderr",
     "output_type": "stream",
     "text": [
      "W0502 07:43:02.673645 139661827884864 metrics.py:103] DICE score is technically 1.0, but prediction and truth arrays are empty. \n"
     ]
    },
    {
     "name": "stderr",
     "output_type": "stream",
     "text": [
      "W0502 07:43:02.685796 139661827884864 metrics.py:103] DICE score is technically 1.0, but prediction and truth arrays are empty. \n"
     ]
    },
    {
     "name": "stderr",
     "output_type": "stream",
     "text": [
      "W0502 07:43:02.698049 139661827884864 metrics.py:103] DICE score is technically 1.0, but prediction and truth arrays are empty. \n"
     ]
    },
    {
     "name": "stderr",
     "output_type": "stream",
     "text": [
      "W0502 07:43:02.710489 139661827884864 metrics.py:103] DICE score is technically 1.0, but prediction and truth arrays are empty. \n"
     ]
    },
    {
     "name": "stderr",
     "output_type": "stream",
     "text": [
      "W0502 07:43:02.723297 139661827884864 metrics.py:103] DICE score is technically 1.0, but prediction and truth arrays are empty. \n"
     ]
    },
    {
     "name": "stderr",
     "output_type": "stream",
     "text": [
      "W0502 07:43:02.736200 139661827884864 metrics.py:103] DICE score is technically 1.0, but prediction and truth arrays are empty. \n"
     ]
    },
    {
     "name": "stderr",
     "output_type": "stream",
     "text": [
      "W0502 07:43:02.749573 139661827884864 metrics.py:103] DICE score is technically 1.0, but prediction and truth arrays are empty. \n"
     ]
    },
    {
     "name": "stderr",
     "output_type": "stream",
     "text": [
      "W0502 07:43:02.762121 139661827884864 metrics.py:103] DICE score is technically 1.0, but prediction and truth arrays are empty. \n"
     ]
    },
    {
     "name": "stderr",
     "output_type": "stream",
     "text": [
      "W0502 07:43:02.774561 139661827884864 metrics.py:103] DICE score is technically 1.0, but prediction and truth arrays are empty. \n"
     ]
    },
    {
     "name": "stderr",
     "output_type": "stream",
     "text": [
      "W0502 07:43:02.786960 139661827884864 metrics.py:103] DICE score is technically 1.0, but prediction and truth arrays are empty. \n"
     ]
    },
    {
     "name": "stderr",
     "output_type": "stream",
     "text": [
      "W0502 07:43:02.799523 139661827884864 metrics.py:103] DICE score is technically 1.0, but prediction and truth arrays are empty. \n"
     ]
    },
    {
     "name": "stderr",
     "output_type": "stream",
     "text": [
      "W0502 07:43:02.817444 139661827884864 metrics.py:103] DICE score is technically 1.0, but prediction and truth arrays are empty. \n"
     ]
    },
    {
     "name": "stderr",
     "output_type": "stream",
     "text": [
      "W0502 07:43:02.838362 139661827884864 metrics.py:103] DICE score is technically 1.0, but prediction and truth arrays are empty. \n"
     ]
    },
    {
     "name": "stderr",
     "output_type": "stream",
     "text": [
      "W0502 07:43:02.858426 139661827884864 metrics.py:103] DICE score is technically 1.0, but prediction and truth arrays are empty. \n"
     ]
    },
    {
     "name": "stderr",
     "output_type": "stream",
     "text": [
      "W0502 07:43:03.364212 139661827884864 metrics.py:103] DICE score is technically 1.0, but prediction and truth arrays are empty. \n"
     ]
    },
    {
     "name": "stderr",
     "output_type": "stream",
     "text": [
      "W0502 07:43:03.380100 139661827884864 metrics.py:103] DICE score is technically 1.0, but prediction and truth arrays are empty. \n"
     ]
    },
    {
     "name": "stderr",
     "output_type": "stream",
     "text": [
      "W0502 07:43:03.394567 139661827884864 metrics.py:103] DICE score is technically 1.0, but prediction and truth arrays are empty. \n"
     ]
    },
    {
     "name": "stderr",
     "output_type": "stream",
     "text": [
      "W0502 07:43:03.407377 139661827884864 metrics.py:103] DICE score is technically 1.0, but prediction and truth arrays are empty. \n"
     ]
    },
    {
     "name": "stderr",
     "output_type": "stream",
     "text": [
      "W0502 07:43:03.420170 139661827884864 metrics.py:103] DICE score is technically 1.0, but prediction and truth arrays are empty. \n"
     ]
    },
    {
     "name": "stderr",
     "output_type": "stream",
     "text": [
      "W0502 07:43:03.432978 139661827884864 metrics.py:103] DICE score is technically 1.0, but prediction and truth arrays are empty. \n"
     ]
    },
    {
     "name": "stderr",
     "output_type": "stream",
     "text": [
      "W0502 07:43:03.445731 139661827884864 metrics.py:103] DICE score is technically 1.0, but prediction and truth arrays are empty. \n"
     ]
    },
    {
     "name": "stderr",
     "output_type": "stream",
     "text": [
      "W0502 07:43:03.458475 139661827884864 metrics.py:103] DICE score is technically 1.0, but prediction and truth arrays are empty. \n"
     ]
    },
    {
     "name": "stderr",
     "output_type": "stream",
     "text": [
      "W0502 07:43:03.471280 139661827884864 metrics.py:103] DICE score is technically 1.0, but prediction and truth arrays are empty. \n"
     ]
    },
    {
     "name": "stderr",
     "output_type": "stream",
     "text": [
      "W0502 07:43:03.483750 139661827884864 metrics.py:103] DICE score is technically 1.0, but prediction and truth arrays are empty. \n"
     ]
    },
    {
     "name": "stderr",
     "output_type": "stream",
     "text": [
      "W0502 07:43:03.496899 139661827884864 metrics.py:103] DICE score is technically 1.0, but prediction and truth arrays are empty. \n"
     ]
    },
    {
     "name": "stderr",
     "output_type": "stream",
     "text": [
      "W0502 07:43:03.510122 139661827884864 metrics.py:103] DICE score is technically 1.0, but prediction and truth arrays are empty. \n"
     ]
    },
    {
     "name": "stderr",
     "output_type": "stream",
     "text": [
      "W0502 07:43:03.522934 139661827884864 metrics.py:103] DICE score is technically 1.0, but prediction and truth arrays are empty. \n"
     ]
    },
    {
     "name": "stderr",
     "output_type": "stream",
     "text": [
      "W0502 07:43:03.535707 139661827884864 metrics.py:103] DICE score is technically 1.0, but prediction and truth arrays are empty. \n"
     ]
    },
    {
     "name": "stderr",
     "output_type": "stream",
     "text": [
      "W0502 07:43:03.548093 139661827884864 metrics.py:103] DICE score is technically 1.0, but prediction and truth arrays are empty. \n"
     ]
    },
    {
     "name": "stderr",
     "output_type": "stream",
     "text": [
      "W0502 07:43:03.560470 139661827884864 metrics.py:103] DICE score is technically 1.0, but prediction and truth arrays are empty. \n"
     ]
    },
    {
     "name": "stderr",
     "output_type": "stream",
     "text": [
      "W0502 07:43:03.573950 139661827884864 metrics.py:103] DICE score is technically 1.0, but prediction and truth arrays are empty. \n"
     ]
    },
    {
     "name": "stderr",
     "output_type": "stream",
     "text": [
      "W0502 07:43:03.586667 139661827884864 metrics.py:103] DICE score is technically 1.0, but prediction and truth arrays are empty. \n"
     ]
    },
    {
     "name": "stderr",
     "output_type": "stream",
     "text": [
      "W0502 07:43:03.607011 139661827884864 metrics.py:103] DICE score is technically 1.0, but prediction and truth arrays are empty. \n"
     ]
    },
    {
     "name": "stderr",
     "output_type": "stream",
     "text": [
      "W0502 07:43:03.621290 139661827884864 metrics.py:103] DICE score is technically 1.0, but prediction and truth arrays are empty. \n"
     ]
    },
    {
     "name": "stderr",
     "output_type": "stream",
     "text": [
      "W0502 07:43:03.635475 139661827884864 metrics.py:103] DICE score is technically 1.0, but prediction and truth arrays are empty. \n"
     ]
    },
    {
     "name": "stderr",
     "output_type": "stream",
     "text": [
      "W0502 07:43:03.649757 139661827884864 metrics.py:103] DICE score is technically 1.0, but prediction and truth arrays are empty. \n"
     ]
    },
    {
     "name": "stderr",
     "output_type": "stream",
     "text": [
      "W0502 07:43:03.664109 139661827884864 metrics.py:103] DICE score is technically 1.0, but prediction and truth arrays are empty. \n"
     ]
    },
    {
     "name": "stderr",
     "output_type": "stream",
     "text": [
      "W0502 07:43:03.679240 139661827884864 metrics.py:103] DICE score is technically 1.0, but prediction and truth arrays are empty. \n"
     ]
    },
    {
     "name": "stderr",
     "output_type": "stream",
     "text": [
      "W0502 07:43:03.694044 139661827884864 metrics.py:103] DICE score is technically 1.0, but prediction and truth arrays are empty. \n"
     ]
    },
    {
     "name": "stderr",
     "output_type": "stream",
     "text": [
      "W0502 07:43:03.708363 139661827884864 metrics.py:103] DICE score is technically 1.0, but prediction and truth arrays are empty. \n"
     ]
    },
    {
     "name": "stderr",
     "output_type": "stream",
     "text": [
      "W0502 07:43:03.722691 139661827884864 metrics.py:103] DICE score is technically 1.0, but prediction and truth arrays are empty. \n"
     ]
    },
    {
     "name": "stderr",
     "output_type": "stream",
     "text": [
      "W0502 07:43:03.736865 139661827884864 metrics.py:103] DICE score is technically 1.0, but prediction and truth arrays are empty. \n"
     ]
    },
    {
     "name": "stderr",
     "output_type": "stream",
     "text": [
      "W0502 07:43:03.751044 139661827884864 metrics.py:103] DICE score is technically 1.0, but prediction and truth arrays are empty. \n"
     ]
    },
    {
     "name": "stderr",
     "output_type": "stream",
     "text": [
      "W0502 07:43:03.764033 139661827884864 metrics.py:103] DICE score is technically 1.0, but prediction and truth arrays are empty. \n"
     ]
    },
    {
     "name": "stderr",
     "output_type": "stream",
     "text": [
      "W0502 07:43:04.260612 139661827884864 metrics.py:103] DICE score is technically 1.0, but prediction and truth arrays are empty. \n"
     ]
    },
    {
     "name": "stderr",
     "output_type": "stream",
     "text": [
      "W0502 07:43:04.274154 139661827884864 metrics.py:103] DICE score is technically 1.0, but prediction and truth arrays are empty. \n"
     ]
    },
    {
     "name": "stderr",
     "output_type": "stream",
     "text": [
      "W0502 07:43:04.287115 139661827884864 metrics.py:103] DICE score is technically 1.0, but prediction and truth arrays are empty. \n"
     ]
    },
    {
     "name": "stderr",
     "output_type": "stream",
     "text": [
      "W0502 07:43:04.323693 139661827884864 metrics.py:103] DICE score is technically 1.0, but prediction and truth arrays are empty. \n"
     ]
    },
    {
     "name": "stderr",
     "output_type": "stream",
     "text": [
      "W0502 07:43:04.336509 139661827884864 metrics.py:103] DICE score is technically 1.0, but prediction and truth arrays are empty. \n"
     ]
    },
    {
     "name": "stderr",
     "output_type": "stream",
     "text": [
      "W0502 07:43:04.349254 139661827884864 metrics.py:103] DICE score is technically 1.0, but prediction and truth arrays are empty. \n"
     ]
    },
    {
     "name": "stderr",
     "output_type": "stream",
     "text": [
      "W0502 07:43:04.373777 139661827884864 metrics.py:103] DICE score is technically 1.0, but prediction and truth arrays are empty. \n"
     ]
    },
    {
     "name": "stderr",
     "output_type": "stream",
     "text": [
      "W0502 07:43:04.387213 139661827884864 metrics.py:103] DICE score is technically 1.0, but prediction and truth arrays are empty. \n"
     ]
    },
    {
     "name": "stderr",
     "output_type": "stream",
     "text": [
      "W0502 07:43:06.003927 139661827884864 metrics.py:103] DICE score is technically 1.0, but prediction and truth arrays are empty. \n"
     ]
    },
    {
     "name": "stderr",
     "output_type": "stream",
     "text": [
      "W0502 07:43:06.016938 139661827884864 metrics.py:103] DICE score is technically 1.0, but prediction and truth arrays are empty. \n"
     ]
    },
    {
     "name": "stderr",
     "output_type": "stream",
     "text": [
      "W0502 07:43:06.030841 139661827884864 metrics.py:103] DICE score is technically 1.0, but prediction and truth arrays are empty. \n"
     ]
    },
    {
     "name": "stderr",
     "output_type": "stream",
     "text": [
      "W0502 07:43:06.043873 139661827884864 metrics.py:103] DICE score is technically 1.0, but prediction and truth arrays are empty. \n"
     ]
    },
    {
     "name": "stderr",
     "output_type": "stream",
     "text": [
      "W0502 07:43:06.056859 139661827884864 metrics.py:103] DICE score is technically 1.0, but prediction and truth arrays are empty. \n"
     ]
    },
    {
     "name": "stderr",
     "output_type": "stream",
     "text": [
      "W0502 07:43:06.069742 139661827884864 metrics.py:103] DICE score is technically 1.0, but prediction and truth arrays are empty. \n"
     ]
    },
    {
     "name": "stderr",
     "output_type": "stream",
     "text": [
      "W0502 07:43:06.082576 139661827884864 metrics.py:103] DICE score is technically 1.0, but prediction and truth arrays are empty. \n"
     ]
    },
    {
     "name": "stderr",
     "output_type": "stream",
     "text": [
      "W0502 07:43:06.095592 139661827884864 metrics.py:103] DICE score is technically 1.0, but prediction and truth arrays are empty. \n"
     ]
    },
    {
     "name": "stderr",
     "output_type": "stream",
     "text": [
      "W0502 07:43:06.108516 139661827884864 metrics.py:103] DICE score is technically 1.0, but prediction and truth arrays are empty. \n"
     ]
    },
    {
     "name": "stderr",
     "output_type": "stream",
     "text": [
      "W0502 07:43:06.121400 139661827884864 metrics.py:103] DICE score is technically 1.0, but prediction and truth arrays are empty. \n"
     ]
    },
    {
     "name": "stderr",
     "output_type": "stream",
     "text": [
      "W0502 07:43:06.134257 139661827884864 metrics.py:103] DICE score is technically 1.0, but prediction and truth arrays are empty. \n"
     ]
    },
    {
     "name": "stderr",
     "output_type": "stream",
     "text": [
      "W0502 07:43:06.147099 139661827884864 metrics.py:103] DICE score is technically 1.0, but prediction and truth arrays are empty. \n"
     ]
    },
    {
     "name": "stderr",
     "output_type": "stream",
     "text": [
      "W0502 07:43:06.159953 139661827884864 metrics.py:103] DICE score is technically 1.0, but prediction and truth arrays are empty. \n"
     ]
    },
    {
     "name": "stderr",
     "output_type": "stream",
     "text": [
      "W0502 07:43:06.172874 139661827884864 metrics.py:103] DICE score is technically 1.0, but prediction and truth arrays are empty. \n"
     ]
    },
    {
     "name": "stderr",
     "output_type": "stream",
     "text": [
      "W0502 07:43:06.185712 139661827884864 metrics.py:103] DICE score is technically 1.0, but prediction and truth arrays are empty. \n"
     ]
    },
    {
     "name": "stderr",
     "output_type": "stream",
     "text": [
      "W0502 07:43:06.198597 139661827884864 metrics.py:103] DICE score is technically 1.0, but prediction and truth arrays are empty. \n"
     ]
    },
    {
     "name": "stderr",
     "output_type": "stream",
     "text": [
      "W0502 07:43:06.212276 139661827884864 metrics.py:103] DICE score is technically 1.0, but prediction and truth arrays are empty. \n"
     ]
    },
    {
     "name": "stderr",
     "output_type": "stream",
     "text": [
      "W0502 07:43:06.225509 139661827884864 metrics.py:103] DICE score is technically 1.0, but prediction and truth arrays are empty. \n"
     ]
    },
    {
     "name": "stderr",
     "output_type": "stream",
     "text": [
      "W0502 07:43:06.238648 139661827884864 metrics.py:103] DICE score is technically 1.0, but prediction and truth arrays are empty. \n"
     ]
    },
    {
     "name": "stderr",
     "output_type": "stream",
     "text": [
      "W0502 07:43:06.251798 139661827884864 metrics.py:103] DICE score is technically 1.0, but prediction and truth arrays are empty. \n"
     ]
    },
    {
     "name": "stderr",
     "output_type": "stream",
     "text": [
      "W0502 07:43:06.265108 139661827884864 metrics.py:103] DICE score is technically 1.0, but prediction and truth arrays are empty. \n"
     ]
    },
    {
     "name": "stderr",
     "output_type": "stream",
     "text": [
      "W0502 07:43:06.278526 139661827884864 metrics.py:103] DICE score is technically 1.0, but prediction and truth arrays are empty. \n"
     ]
    },
    {
     "name": "stderr",
     "output_type": "stream",
     "text": [
      "W0502 07:43:06.291909 139661827884864 metrics.py:103] DICE score is technically 1.0, but prediction and truth arrays are empty. \n"
     ]
    },
    {
     "name": "stderr",
     "output_type": "stream",
     "text": [
      "W0502 07:43:06.305231 139661827884864 metrics.py:103] DICE score is technically 1.0, but prediction and truth arrays are empty. \n"
     ]
    },
    {
     "name": "stderr",
     "output_type": "stream",
     "text": [
      "W0502 07:43:06.318638 139661827884864 metrics.py:103] DICE score is technically 1.0, but prediction and truth arrays are empty. \n"
     ]
    },
    {
     "name": "stderr",
     "output_type": "stream",
     "text": [
      "W0502 07:43:06.332102 139661827884864 metrics.py:103] DICE score is technically 1.0, but prediction and truth arrays are empty. \n"
     ]
    },
    {
     "name": "stderr",
     "output_type": "stream",
     "text": [
      "W0502 07:43:06.345609 139661827884864 metrics.py:103] DICE score is technically 1.0, but prediction and truth arrays are empty. \n"
     ]
    },
    {
     "name": "stderr",
     "output_type": "stream",
     "text": [
      "W0502 07:43:06.358965 139661827884864 metrics.py:103] DICE score is technically 1.0, but prediction and truth arrays are empty. \n"
     ]
    },
    {
     "name": "stderr",
     "output_type": "stream",
     "text": [
      "W0502 07:43:06.372037 139661827884864 metrics.py:103] DICE score is technically 1.0, but prediction and truth arrays are empty. \n"
     ]
    },
    {
     "name": "stderr",
     "output_type": "stream",
     "text": [
      "W0502 07:43:06.385218 139661827884864 metrics.py:103] DICE score is technically 1.0, but prediction and truth arrays are empty. \n"
     ]
    },
    {
     "name": "stdout",
     "output_type": "stream",
     "text": [
      "\n",
      "____________Object-based statistics____________\n",
      "\n",
      "Number of true cells:\t\t 47124\n",
      "Number of predicted cells:\t 45650\n",
      "\n",
      "Correct detections:  41492\tRecall: 88.0485527544351072037898120470345020294189453125%\n",
      "Incorrect detections: 4158\tPrecision: 90.8915662650602342864658567123115062713623046875%\n",
      "\n",
      "Gained detections: 3798\tPerc Error: 41.6356062267046667102476931177079677581787109375%\n",
      "Missed detections: 5006\tPerc Error: 54.8783161587371210998753667809069156646728515625%\n",
      "Merges: 277\t\tPerc Error: 3.03661477746108321440487998188473284244537353515625%\n",
      "Splits: 35\t\tPerc Error: 0.383687787765840837561626130991498939692974090576171875%\n",
      "Catastrophes: 6\t\tPerc Error: 0.0657750493312869999318337477234308607876300811767578125%\n",
      "\n",
      "Gained detections from splits: 36\n",
      "Missed detections from merges: 301\n",
      "True detections involved in catastrophes: 13\n",
      "Predicted detections involved in catastrophes: 12 \n",
      "\n",
      "Average Pixel IOU (Jaccard Index): 0.833706037531289023689851092058233916759490966796875 \n",
      "\n"
     ]
    },
    {
     "name": "stderr",
     "output_type": "stream",
     "text": [
      "/usr/local/lib/python3.6/dist-packages/ipykernel_launcher.py:157: UserWarning: Only one label was provided to `remove_small_objects`. Did you mean to use a boolean array?\n",
      "/usr/local/lib/python3.6/dist-packages/ipykernel_launcher.py:158: UserWarning: Only one label was provided to `remove_small_objects`. Did you mean to use a boolean array?\n"
     ]
    },
    {
     "name": "stderr",
     "output_type": "stream",
     "text": [
      "W0502 07:43:23.666246 139661827884864 metrics.py:103] DICE score is technically 1.0, but prediction and truth arrays are empty. \n"
     ]
    },
    {
     "name": "stderr",
     "output_type": "stream",
     "text": [
      "W0502 07:43:23.679087 139661827884864 metrics.py:103] DICE score is technically 1.0, but prediction and truth arrays are empty. \n"
     ]
    },
    {
     "name": "stderr",
     "output_type": "stream",
     "text": [
      "W0502 07:43:23.691918 139661827884864 metrics.py:103] DICE score is technically 1.0, but prediction and truth arrays are empty. \n"
     ]
    },
    {
     "name": "stderr",
     "output_type": "stream",
     "text": [
      "W0502 07:43:23.704626 139661827884864 metrics.py:103] DICE score is technically 1.0, but prediction and truth arrays are empty. \n"
     ]
    },
    {
     "name": "stderr",
     "output_type": "stream",
     "text": [
      "W0502 07:43:23.717391 139661827884864 metrics.py:103] DICE score is technically 1.0, but prediction and truth arrays are empty. \n"
     ]
    },
    {
     "name": "stderr",
     "output_type": "stream",
     "text": [
      "W0502 07:43:23.730164 139661827884864 metrics.py:103] DICE score is technically 1.0, but prediction and truth arrays are empty. \n"
     ]
    },
    {
     "name": "stderr",
     "output_type": "stream",
     "text": [
      "W0502 07:43:23.742937 139661827884864 metrics.py:103] DICE score is technically 1.0, but prediction and truth arrays are empty. \n"
     ]
    },
    {
     "name": "stderr",
     "output_type": "stream",
     "text": [
      "W0502 07:43:23.755676 139661827884864 metrics.py:103] DICE score is technically 1.0, but prediction and truth arrays are empty. \n"
     ]
    },
    {
     "name": "stderr",
     "output_type": "stream",
     "text": [
      "W0502 07:43:23.768467 139661827884864 metrics.py:103] DICE score is technically 1.0, but prediction and truth arrays are empty. \n"
     ]
    },
    {
     "name": "stderr",
     "output_type": "stream",
     "text": [
      "W0502 07:43:23.781232 139661827884864 metrics.py:103] DICE score is technically 1.0, but prediction and truth arrays are empty. \n"
     ]
    },
    {
     "name": "stderr",
     "output_type": "stream",
     "text": [
      "W0502 07:43:23.794069 139661827884864 metrics.py:103] DICE score is technically 1.0, but prediction and truth arrays are empty. \n"
     ]
    },
    {
     "name": "stderr",
     "output_type": "stream",
     "text": [
      "W0502 07:43:23.807423 139661827884864 metrics.py:103] DICE score is technically 1.0, but prediction and truth arrays are empty. \n"
     ]
    },
    {
     "name": "stderr",
     "output_type": "stream",
     "text": [
      "W0502 07:43:23.820244 139661827884864 metrics.py:103] DICE score is technically 1.0, but prediction and truth arrays are empty. \n"
     ]
    },
    {
     "name": "stderr",
     "output_type": "stream",
     "text": [
      "W0502 07:43:23.833002 139661827884864 metrics.py:103] DICE score is technically 1.0, but prediction and truth arrays are empty. \n"
     ]
    },
    {
     "name": "stderr",
     "output_type": "stream",
     "text": [
      "W0502 07:43:23.845715 139661827884864 metrics.py:103] DICE score is technically 1.0, but prediction and truth arrays are empty. \n"
     ]
    },
    {
     "name": "stderr",
     "output_type": "stream",
     "text": [
      "W0502 07:43:23.858503 139661827884864 metrics.py:103] DICE score is technically 1.0, but prediction and truth arrays are empty. \n"
     ]
    },
    {
     "name": "stderr",
     "output_type": "stream",
     "text": [
      "W0502 07:43:23.875819 139661827884864 metrics.py:103] DICE score is technically 1.0, but prediction and truth arrays are empty. \n"
     ]
    },
    {
     "name": "stderr",
     "output_type": "stream",
     "text": [
      "W0502 07:43:23.888777 139661827884864 metrics.py:103] DICE score is technically 1.0, but prediction and truth arrays are empty. \n"
     ]
    },
    {
     "name": "stderr",
     "output_type": "stream",
     "text": [
      "W0502 07:43:23.901223 139661827884864 metrics.py:103] DICE score is technically 1.0, but prediction and truth arrays are empty. \n"
     ]
    },
    {
     "name": "stderr",
     "output_type": "stream",
     "text": [
      "W0502 07:43:23.913554 139661827884864 metrics.py:103] DICE score is technically 1.0, but prediction and truth arrays are empty. \n"
     ]
    },
    {
     "name": "stderr",
     "output_type": "stream",
     "text": [
      "W0502 07:43:23.925659 139661827884864 metrics.py:103] DICE score is technically 1.0, but prediction and truth arrays are empty. \n"
     ]
    },
    {
     "name": "stderr",
     "output_type": "stream",
     "text": [
      "W0502 07:43:23.937792 139661827884864 metrics.py:103] DICE score is technically 1.0, but prediction and truth arrays are empty. \n"
     ]
    },
    {
     "name": "stderr",
     "output_type": "stream",
     "text": [
      "W0502 07:43:23.950182 139661827884864 metrics.py:103] DICE score is technically 1.0, but prediction and truth arrays are empty. \n"
     ]
    },
    {
     "name": "stderr",
     "output_type": "stream",
     "text": [
      "W0502 07:43:23.962536 139661827884864 metrics.py:103] DICE score is technically 1.0, but prediction and truth arrays are empty. \n"
     ]
    },
    {
     "name": "stderr",
     "output_type": "stream",
     "text": [
      "W0502 07:43:23.974922 139661827884864 metrics.py:103] DICE score is technically 1.0, but prediction and truth arrays are empty. \n"
     ]
    },
    {
     "name": "stderr",
     "output_type": "stream",
     "text": [
      "W0502 07:43:23.988194 139661827884864 metrics.py:103] DICE score is technically 1.0, but prediction and truth arrays are empty. \n"
     ]
    },
    {
     "name": "stderr",
     "output_type": "stream",
     "text": [
      "W0502 07:43:24.000983 139661827884864 metrics.py:103] DICE score is technically 1.0, but prediction and truth arrays are empty. \n"
     ]
    },
    {
     "name": "stderr",
     "output_type": "stream",
     "text": [
      "W0502 07:43:24.013668 139661827884864 metrics.py:103] DICE score is technically 1.0, but prediction and truth arrays are empty. \n"
     ]
    },
    {
     "name": "stderr",
     "output_type": "stream",
     "text": [
      "W0502 07:43:24.026556 139661827884864 metrics.py:103] DICE score is technically 1.0, but prediction and truth arrays are empty. \n"
     ]
    },
    {
     "name": "stderr",
     "output_type": "stream",
     "text": [
      "W0502 07:43:24.039582 139661827884864 metrics.py:103] DICE score is technically 1.0, but prediction and truth arrays are empty. \n"
     ]
    },
    {
     "name": "stderr",
     "output_type": "stream",
     "text": [
      "W0502 07:43:24.059370 139661827884864 metrics.py:103] DICE score is technically 1.0, but prediction and truth arrays are empty. \n"
     ]
    },
    {
     "name": "stderr",
     "output_type": "stream",
     "text": [
      "W0502 07:43:24.080162 139661827884864 metrics.py:103] DICE score is technically 1.0, but prediction and truth arrays are empty. \n"
     ]
    },
    {
     "name": "stderr",
     "output_type": "stream",
     "text": [
      "W0502 07:43:24.100518 139661827884864 metrics.py:103] DICE score is technically 1.0, but prediction and truth arrays are empty. \n"
     ]
    },
    {
     "name": "stderr",
     "output_type": "stream",
     "text": [
      "W0502 07:43:24.118957 139661827884864 metrics.py:103] DICE score is technically 1.0, but prediction and truth arrays are empty. \n"
     ]
    },
    {
     "name": "stderr",
     "output_type": "stream",
     "text": [
      "W0502 07:43:24.131979 139661827884864 metrics.py:103] DICE score is technically 1.0, but prediction and truth arrays are empty. \n"
     ]
    },
    {
     "name": "stderr",
     "output_type": "stream",
     "text": [
      "W0502 07:43:24.145083 139661827884864 metrics.py:103] DICE score is technically 1.0, but prediction and truth arrays are empty. \n"
     ]
    },
    {
     "name": "stderr",
     "output_type": "stream",
     "text": [
      "W0502 07:43:24.158144 139661827884864 metrics.py:103] DICE score is technically 1.0, but prediction and truth arrays are empty. \n"
     ]
    },
    {
     "name": "stderr",
     "output_type": "stream",
     "text": [
      "W0502 07:43:24.171152 139661827884864 metrics.py:103] DICE score is technically 1.0, but prediction and truth arrays are empty. \n"
     ]
    },
    {
     "name": "stderr",
     "output_type": "stream",
     "text": [
      "W0502 07:43:24.184389 139661827884864 metrics.py:103] DICE score is technically 1.0, but prediction and truth arrays are empty. \n"
     ]
    },
    {
     "name": "stderr",
     "output_type": "stream",
     "text": [
      "W0502 07:43:24.197444 139661827884864 metrics.py:103] DICE score is technically 1.0, but prediction and truth arrays are empty. \n"
     ]
    },
    {
     "name": "stderr",
     "output_type": "stream",
     "text": [
      "W0502 07:43:24.238786 139661827884864 metrics.py:103] DICE score is technically 1.0, but prediction and truth arrays are empty. \n"
     ]
    },
    {
     "name": "stderr",
     "output_type": "stream",
     "text": [
      "W0502 07:43:24.263745 139661827884864 metrics.py:103] DICE score is technically 1.0, but prediction and truth arrays are empty. \n"
     ]
    },
    {
     "name": "stderr",
     "output_type": "stream",
     "text": [
      "W0502 07:43:24.276371 139661827884864 metrics.py:103] DICE score is technically 1.0, but prediction and truth arrays are empty. \n"
     ]
    },
    {
     "name": "stderr",
     "output_type": "stream",
     "text": [
      "W0502 07:43:24.357672 139661827884864 metrics.py:103] DICE score is technically 1.0, but prediction and truth arrays are empty. \n"
     ]
    },
    {
     "name": "stderr",
     "output_type": "stream",
     "text": [
      "W0502 07:43:24.381943 139661827884864 metrics.py:103] DICE score is technically 1.0, but prediction and truth arrays are empty. \n"
     ]
    },
    {
     "name": "stderr",
     "output_type": "stream",
     "text": [
      "W0502 07:43:24.396199 139661827884864 metrics.py:103] DICE score is technically 1.0, but prediction and truth arrays are empty. \n"
     ]
    },
    {
     "name": "stderr",
     "output_type": "stream",
     "text": [
      "W0502 07:43:24.410935 139661827884864 metrics.py:103] DICE score is technically 1.0, but prediction and truth arrays are empty. \n"
     ]
    },
    {
     "name": "stderr",
     "output_type": "stream",
     "text": [
      "W0502 07:43:24.423938 139661827884864 metrics.py:103] DICE score is technically 1.0, but prediction and truth arrays are empty. \n"
     ]
    },
    {
     "name": "stderr",
     "output_type": "stream",
     "text": [
      "W0502 07:43:24.436702 139661827884864 metrics.py:103] DICE score is technically 1.0, but prediction and truth arrays are empty. \n"
     ]
    },
    {
     "name": "stderr",
     "output_type": "stream",
     "text": [
      "W0502 07:43:26.917223 139661827884864 metrics.py:103] DICE score is technically 1.0, but prediction and truth arrays are empty. \n"
     ]
    },
    {
     "name": "stderr",
     "output_type": "stream",
     "text": [
      "W0502 07:43:26.930229 139661827884864 metrics.py:103] DICE score is technically 1.0, but prediction and truth arrays are empty. \n"
     ]
    },
    {
     "name": "stderr",
     "output_type": "stream",
     "text": [
      "W0502 07:43:26.942865 139661827884864 metrics.py:103] DICE score is technically 1.0, but prediction and truth arrays are empty. \n"
     ]
    },
    {
     "name": "stderr",
     "output_type": "stream",
     "text": [
      "W0502 07:43:26.955890 139661827884864 metrics.py:103] DICE score is technically 1.0, but prediction and truth arrays are empty. \n"
     ]
    },
    {
     "name": "stderr",
     "output_type": "stream",
     "text": [
      "W0502 07:43:26.968661 139661827884864 metrics.py:103] DICE score is technically 1.0, but prediction and truth arrays are empty. \n"
     ]
    },
    {
     "name": "stderr",
     "output_type": "stream",
     "text": [
      "W0502 07:43:26.981395 139661827884864 metrics.py:103] DICE score is technically 1.0, but prediction and truth arrays are empty. \n"
     ]
    },
    {
     "name": "stderr",
     "output_type": "stream",
     "text": [
      "W0502 07:43:26.994033 139661827884864 metrics.py:103] DICE score is technically 1.0, but prediction and truth arrays are empty. \n"
     ]
    },
    {
     "name": "stderr",
     "output_type": "stream",
     "text": [
      "W0502 07:43:27.006654 139661827884864 metrics.py:103] DICE score is technically 1.0, but prediction and truth arrays are empty. \n"
     ]
    },
    {
     "name": "stderr",
     "output_type": "stream",
     "text": [
      "W0502 07:43:27.019315 139661827884864 metrics.py:103] DICE score is technically 1.0, but prediction and truth arrays are empty. \n"
     ]
    },
    {
     "name": "stderr",
     "output_type": "stream",
     "text": [
      "W0502 07:43:27.031962 139661827884864 metrics.py:103] DICE score is technically 1.0, but prediction and truth arrays are empty. \n"
     ]
    },
    {
     "name": "stderr",
     "output_type": "stream",
     "text": [
      "W0502 07:43:27.044605 139661827884864 metrics.py:103] DICE score is technically 1.0, but prediction and truth arrays are empty. \n"
     ]
    },
    {
     "name": "stderr",
     "output_type": "stream",
     "text": [
      "W0502 07:43:27.057264 139661827884864 metrics.py:103] DICE score is technically 1.0, but prediction and truth arrays are empty. \n"
     ]
    },
    {
     "name": "stderr",
     "output_type": "stream",
     "text": [
      "W0502 07:43:27.070219 139661827884864 metrics.py:103] DICE score is technically 1.0, but prediction and truth arrays are empty. \n"
     ]
    },
    {
     "name": "stderr",
     "output_type": "stream",
     "text": [
      "W0502 07:43:27.083211 139661827884864 metrics.py:103] DICE score is technically 1.0, but prediction and truth arrays are empty. \n"
     ]
    },
    {
     "name": "stderr",
     "output_type": "stream",
     "text": [
      "W0502 07:43:27.095862 139661827884864 metrics.py:103] DICE score is technically 1.0, but prediction and truth arrays are empty. \n"
     ]
    },
    {
     "name": "stderr",
     "output_type": "stream",
     "text": [
      "W0502 07:43:27.108519 139661827884864 metrics.py:103] DICE score is technically 1.0, but prediction and truth arrays are empty. \n"
     ]
    },
    {
     "name": "stderr",
     "output_type": "stream",
     "text": [
      "W0502 07:43:27.121375 139661827884864 metrics.py:103] DICE score is technically 1.0, but prediction and truth arrays are empty. \n"
     ]
    },
    {
     "name": "stderr",
     "output_type": "stream",
     "text": [
      "W0502 07:43:27.134583 139661827884864 metrics.py:103] DICE score is technically 1.0, but prediction and truth arrays are empty. \n"
     ]
    },
    {
     "name": "stderr",
     "output_type": "stream",
     "text": [
      "W0502 07:43:27.147381 139661827884864 metrics.py:103] DICE score is technically 1.0, but prediction and truth arrays are empty. \n"
     ]
    },
    {
     "name": "stderr",
     "output_type": "stream",
     "text": [
      "W0502 07:43:27.160183 139661827884864 metrics.py:103] DICE score is technically 1.0, but prediction and truth arrays are empty. \n"
     ]
    },
    {
     "name": "stderr",
     "output_type": "stream",
     "text": [
      "W0502 07:43:27.173033 139661827884864 metrics.py:103] DICE score is technically 1.0, but prediction and truth arrays are empty. \n"
     ]
    },
    {
     "name": "stderr",
     "output_type": "stream",
     "text": [
      "W0502 07:43:27.186002 139661827884864 metrics.py:103] DICE score is technically 1.0, but prediction and truth arrays are empty. \n"
     ]
    },
    {
     "name": "stderr",
     "output_type": "stream",
     "text": [
      "W0502 07:43:27.198829 139661827884864 metrics.py:103] DICE score is technically 1.0, but prediction and truth arrays are empty. \n"
     ]
    },
    {
     "name": "stderr",
     "output_type": "stream",
     "text": [
      "W0502 07:43:27.211642 139661827884864 metrics.py:103] DICE score is technically 1.0, but prediction and truth arrays are empty. \n"
     ]
    },
    {
     "name": "stderr",
     "output_type": "stream",
     "text": [
      "W0502 07:43:27.224925 139661827884864 metrics.py:103] DICE score is technically 1.0, but prediction and truth arrays are empty. \n"
     ]
    },
    {
     "name": "stderr",
     "output_type": "stream",
     "text": [
      "W0502 07:43:27.237703 139661827884864 metrics.py:103] DICE score is technically 1.0, but prediction and truth arrays are empty. \n"
     ]
    },
    {
     "name": "stderr",
     "output_type": "stream",
     "text": [
      "W0502 07:43:27.250908 139661827884864 metrics.py:103] DICE score is technically 1.0, but prediction and truth arrays are empty. \n"
     ]
    },
    {
     "name": "stderr",
     "output_type": "stream",
     "text": [
      "W0502 07:43:27.263941 139661827884864 metrics.py:103] DICE score is technically 1.0, but prediction and truth arrays are empty. \n"
     ]
    },
    {
     "name": "stderr",
     "output_type": "stream",
     "text": [
      "W0502 07:43:27.276519 139661827884864 metrics.py:103] DICE score is technically 1.0, but prediction and truth arrays are empty. \n"
     ]
    },
    {
     "name": "stderr",
     "output_type": "stream",
     "text": [
      "W0502 07:43:27.289186 139661827884864 metrics.py:103] DICE score is technically 1.0, but prediction and truth arrays are empty. \n"
     ]
    },
    {
     "name": "stderr",
     "output_type": "stream",
     "text": [
      "W0502 07:43:27.301737 139661827884864 metrics.py:103] DICE score is technically 1.0, but prediction and truth arrays are empty. \n"
     ]
    },
    {
     "name": "stderr",
     "output_type": "stream",
     "text": [
      "W0502 07:43:27.314755 139661827884864 metrics.py:103] DICE score is technically 1.0, but prediction and truth arrays are empty. \n"
     ]
    },
    {
     "name": "stderr",
     "output_type": "stream",
     "text": [
      "W0502 07:43:27.327564 139661827884864 metrics.py:103] DICE score is technically 1.0, but prediction and truth arrays are empty. \n"
     ]
    },
    {
     "name": "stderr",
     "output_type": "stream",
     "text": [
      "W0502 07:43:27.340205 139661827884864 metrics.py:103] DICE score is technically 1.0, but prediction and truth arrays are empty. \n"
     ]
    },
    {
     "name": "stderr",
     "output_type": "stream",
     "text": [
      "W0502 07:43:27.352881 139661827884864 metrics.py:103] DICE score is technically 1.0, but prediction and truth arrays are empty. \n"
     ]
    },
    {
     "name": "stderr",
     "output_type": "stream",
     "text": [
      "W0502 07:43:27.365639 139661827884864 metrics.py:103] DICE score is technically 1.0, but prediction and truth arrays are empty. \n"
     ]
    },
    {
     "name": "stderr",
     "output_type": "stream",
     "text": [
      "W0502 07:43:27.378319 139661827884864 metrics.py:103] DICE score is technically 1.0, but prediction and truth arrays are empty. \n"
     ]
    },
    {
     "name": "stderr",
     "output_type": "stream",
     "text": [
      "W0502 07:43:27.391098 139661827884864 metrics.py:103] DICE score is technically 1.0, but prediction and truth arrays are empty. \n"
     ]
    },
    {
     "name": "stderr",
     "output_type": "stream",
     "text": [
      "W0502 07:43:27.403881 139661827884864 metrics.py:103] DICE score is technically 1.0, but prediction and truth arrays are empty. \n"
     ]
    },
    {
     "name": "stderr",
     "output_type": "stream",
     "text": [
      "W0502 07:43:27.416646 139661827884864 metrics.py:103] DICE score is technically 1.0, but prediction and truth arrays are empty. \n"
     ]
    },
    {
     "name": "stderr",
     "output_type": "stream",
     "text": [
      "W0502 07:43:33.304493 139661827884864 metrics.py:103] DICE score is technically 1.0, but prediction and truth arrays are empty. \n"
     ]
    },
    {
     "name": "stderr",
     "output_type": "stream",
     "text": [
      "W0502 07:43:33.317374 139661827884864 metrics.py:103] DICE score is technically 1.0, but prediction and truth arrays are empty. \n"
     ]
    },
    {
     "name": "stderr",
     "output_type": "stream",
     "text": [
      "W0502 07:43:33.329887 139661827884864 metrics.py:103] DICE score is technically 1.0, but prediction and truth arrays are empty. \n"
     ]
    },
    {
     "name": "stderr",
     "output_type": "stream",
     "text": [
      "W0502 07:43:33.342178 139661827884864 metrics.py:103] DICE score is technically 1.0, but prediction and truth arrays are empty. \n"
     ]
    },
    {
     "name": "stderr",
     "output_type": "stream",
     "text": [
      "W0502 07:43:33.354683 139661827884864 metrics.py:103] DICE score is technically 1.0, but prediction and truth arrays are empty. \n"
     ]
    },
    {
     "name": "stderr",
     "output_type": "stream",
     "text": [
      "W0502 07:43:33.367181 139661827884864 metrics.py:103] DICE score is technically 1.0, but prediction and truth arrays are empty. \n"
     ]
    },
    {
     "name": "stderr",
     "output_type": "stream",
     "text": [
      "W0502 07:43:33.380605 139661827884864 metrics.py:103] DICE score is technically 1.0, but prediction and truth arrays are empty. \n"
     ]
    },
    {
     "name": "stderr",
     "output_type": "stream",
     "text": [
      "W0502 07:43:33.393452 139661827884864 metrics.py:103] DICE score is technically 1.0, but prediction and truth arrays are empty. \n"
     ]
    },
    {
     "name": "stderr",
     "output_type": "stream",
     "text": [
      "W0502 07:43:33.406178 139661827884864 metrics.py:103] DICE score is technically 1.0, but prediction and truth arrays are empty. \n"
     ]
    },
    {
     "name": "stderr",
     "output_type": "stream",
     "text": [
      "W0502 07:43:33.418857 139661827884864 metrics.py:103] DICE score is technically 1.0, but prediction and truth arrays are empty. \n"
     ]
    },
    {
     "name": "stderr",
     "output_type": "stream",
     "text": [
      "W0502 07:43:33.432269 139661827884864 metrics.py:103] DICE score is technically 1.0, but prediction and truth arrays are empty. \n"
     ]
    },
    {
     "name": "stderr",
     "output_type": "stream",
     "text": [
      "W0502 07:43:33.445151 139661827884864 metrics.py:103] DICE score is technically 1.0, but prediction and truth arrays are empty. \n"
     ]
    },
    {
     "name": "stderr",
     "output_type": "stream",
     "text": [
      "W0502 07:43:33.457931 139661827884864 metrics.py:103] DICE score is technically 1.0, but prediction and truth arrays are empty. \n"
     ]
    },
    {
     "name": "stderr",
     "output_type": "stream",
     "text": [
      "W0502 07:43:33.470585 139661827884864 metrics.py:103] DICE score is technically 1.0, but prediction and truth arrays are empty. \n"
     ]
    },
    {
     "name": "stderr",
     "output_type": "stream",
     "text": [
      "W0502 07:43:33.483302 139661827884864 metrics.py:103] DICE score is technically 1.0, but prediction and truth arrays are empty. \n"
     ]
    },
    {
     "name": "stderr",
     "output_type": "stream",
     "text": [
      "W0502 07:43:33.496015 139661827884864 metrics.py:103] DICE score is technically 1.0, but prediction and truth arrays are empty. \n"
     ]
    },
    {
     "name": "stderr",
     "output_type": "stream",
     "text": [
      "W0502 07:43:33.508951 139661827884864 metrics.py:103] DICE score is technically 1.0, but prediction and truth arrays are empty. \n"
     ]
    },
    {
     "name": "stderr",
     "output_type": "stream",
     "text": [
      "W0502 07:43:33.521689 139661827884864 metrics.py:103] DICE score is technically 1.0, but prediction and truth arrays are empty. \n"
     ]
    },
    {
     "name": "stderr",
     "output_type": "stream",
     "text": [
      "W0502 07:43:33.534618 139661827884864 metrics.py:103] DICE score is technically 1.0, but prediction and truth arrays are empty. \n"
     ]
    },
    {
     "name": "stderr",
     "output_type": "stream",
     "text": [
      "W0502 07:43:33.547490 139661827884864 metrics.py:103] DICE score is technically 1.0, but prediction and truth arrays are empty. \n"
     ]
    },
    {
     "name": "stderr",
     "output_type": "stream",
     "text": [
      "W0502 07:43:33.561037 139661827884864 metrics.py:103] DICE score is technically 1.0, but prediction and truth arrays are empty. \n"
     ]
    },
    {
     "name": "stderr",
     "output_type": "stream",
     "text": [
      "W0502 07:43:33.574230 139661827884864 metrics.py:103] DICE score is technically 1.0, but prediction and truth arrays are empty. \n"
     ]
    },
    {
     "name": "stderr",
     "output_type": "stream",
     "text": [
      "W0502 07:43:33.587042 139661827884864 metrics.py:103] DICE score is technically 1.0, but prediction and truth arrays are empty. \n"
     ]
    },
    {
     "name": "stderr",
     "output_type": "stream",
     "text": [
      "W0502 07:43:33.600125 139661827884864 metrics.py:103] DICE score is technically 1.0, but prediction and truth arrays are empty. \n"
     ]
    },
    {
     "name": "stderr",
     "output_type": "stream",
     "text": [
      "W0502 07:43:33.613631 139661827884864 metrics.py:103] DICE score is technically 1.0, but prediction and truth arrays are empty. \n"
     ]
    },
    {
     "name": "stderr",
     "output_type": "stream",
     "text": [
      "W0502 07:43:33.626830 139661827884864 metrics.py:103] DICE score is technically 1.0, but prediction and truth arrays are empty. \n"
     ]
    },
    {
     "name": "stderr",
     "output_type": "stream",
     "text": [
      "W0502 07:43:33.639906 139661827884864 metrics.py:103] DICE score is technically 1.0, but prediction and truth arrays are empty. \n"
     ]
    },
    {
     "name": "stderr",
     "output_type": "stream",
     "text": [
      "W0502 07:43:33.652949 139661827884864 metrics.py:103] DICE score is technically 1.0, but prediction and truth arrays are empty. \n"
     ]
    },
    {
     "name": "stderr",
     "output_type": "stream",
     "text": [
      "W0502 07:43:33.666027 139661827884864 metrics.py:103] DICE score is technically 1.0, but prediction and truth arrays are empty. \n"
     ]
    },
    {
     "name": "stderr",
     "output_type": "stream",
     "text": [
      "W0502 07:43:33.679137 139661827884864 metrics.py:103] DICE score is technically 1.0, but prediction and truth arrays are empty. \n"
     ]
    },
    {
     "name": "stderr",
     "output_type": "stream",
     "text": [
      "W0502 07:43:33.692313 139661827884864 metrics.py:103] DICE score is technically 1.0, but prediction and truth arrays are empty. \n"
     ]
    },
    {
     "name": "stderr",
     "output_type": "stream",
     "text": [
      "W0502 07:43:33.705469 139661827884864 metrics.py:103] DICE score is technically 1.0, but prediction and truth arrays are empty. \n"
     ]
    },
    {
     "name": "stderr",
     "output_type": "stream",
     "text": [
      "W0502 07:43:33.718667 139661827884864 metrics.py:103] DICE score is technically 1.0, but prediction and truth arrays are empty. \n"
     ]
    },
    {
     "name": "stderr",
     "output_type": "stream",
     "text": [
      "W0502 07:43:33.731587 139661827884864 metrics.py:103] DICE score is technically 1.0, but prediction and truth arrays are empty. \n"
     ]
    },
    {
     "name": "stderr",
     "output_type": "stream",
     "text": [
      "W0502 07:43:33.745251 139661827884864 metrics.py:103] DICE score is technically 1.0, but prediction and truth arrays are empty. \n"
     ]
    },
    {
     "name": "stderr",
     "output_type": "stream",
     "text": [
      "W0502 07:43:33.757826 139661827884864 metrics.py:103] DICE score is technically 1.0, but prediction and truth arrays are empty. \n"
     ]
    },
    {
     "name": "stderr",
     "output_type": "stream",
     "text": [
      "W0502 07:43:33.770677 139661827884864 metrics.py:103] DICE score is technically 1.0, but prediction and truth arrays are empty. \n"
     ]
    },
    {
     "name": "stderr",
     "output_type": "stream",
     "text": [
      "W0502 07:43:33.783685 139661827884864 metrics.py:103] DICE score is technically 1.0, but prediction and truth arrays are empty. \n"
     ]
    },
    {
     "name": "stderr",
     "output_type": "stream",
     "text": [
      "W0502 07:43:33.796831 139661827884864 metrics.py:103] DICE score is technically 1.0, but prediction and truth arrays are empty. \n"
     ]
    },
    {
     "name": "stderr",
     "output_type": "stream",
     "text": [
      "W0502 07:43:33.810064 139661827884864 metrics.py:103] DICE score is technically 1.0, but prediction and truth arrays are empty. \n"
     ]
    },
    {
     "name": "stderr",
     "output_type": "stream",
     "text": [
      "W0502 07:43:34.464153 139661827884864 metrics.py:103] DICE score is technically 1.0, but prediction and truth arrays are empty. \n"
     ]
    },
    {
     "name": "stderr",
     "output_type": "stream",
     "text": [
      "W0502 07:43:34.477108 139661827884864 metrics.py:103] DICE score is technically 1.0, but prediction and truth arrays are empty. \n"
     ]
    },
    {
     "name": "stderr",
     "output_type": "stream",
     "text": [
      "W0502 07:43:34.489748 139661827884864 metrics.py:103] DICE score is technically 1.0, but prediction and truth arrays are empty. \n"
     ]
    },
    {
     "name": "stderr",
     "output_type": "stream",
     "text": [
      "W0502 07:43:34.502369 139661827884864 metrics.py:103] DICE score is technically 1.0, but prediction and truth arrays are empty. \n"
     ]
    },
    {
     "name": "stderr",
     "output_type": "stream",
     "text": [
      "W0502 07:43:34.515027 139661827884864 metrics.py:103] DICE score is technically 1.0, but prediction and truth arrays are empty. \n"
     ]
    },
    {
     "name": "stderr",
     "output_type": "stream",
     "text": [
      "W0502 07:43:34.527635 139661827884864 metrics.py:103] DICE score is technically 1.0, but prediction and truth arrays are empty. \n"
     ]
    },
    {
     "name": "stderr",
     "output_type": "stream",
     "text": [
      "W0502 07:43:34.540278 139661827884864 metrics.py:103] DICE score is technically 1.0, but prediction and truth arrays are empty. \n"
     ]
    },
    {
     "name": "stderr",
     "output_type": "stream",
     "text": [
      "W0502 07:43:34.552914 139661827884864 metrics.py:103] DICE score is technically 1.0, but prediction and truth arrays are empty. \n"
     ]
    },
    {
     "name": "stderr",
     "output_type": "stream",
     "text": [
      "W0502 07:43:34.565480 139661827884864 metrics.py:103] DICE score is technically 1.0, but prediction and truth arrays are empty. \n"
     ]
    },
    {
     "name": "stderr",
     "output_type": "stream",
     "text": [
      "W0502 07:43:34.578068 139661827884864 metrics.py:103] DICE score is technically 1.0, but prediction and truth arrays are empty. \n"
     ]
    },
    {
     "name": "stderr",
     "output_type": "stream",
     "text": [
      "W0502 07:43:34.590752 139661827884864 metrics.py:103] DICE score is technically 1.0, but prediction and truth arrays are empty. \n"
     ]
    },
    {
     "name": "stderr",
     "output_type": "stream",
     "text": [
      "W0502 07:43:34.603322 139661827884864 metrics.py:103] DICE score is technically 1.0, but prediction and truth arrays are empty. \n"
     ]
    },
    {
     "name": "stderr",
     "output_type": "stream",
     "text": [
      "W0502 07:43:34.616973 139661827884864 metrics.py:103] DICE score is technically 1.0, but prediction and truth arrays are empty. \n"
     ]
    },
    {
     "name": "stderr",
     "output_type": "stream",
     "text": [
      "W0502 07:43:34.629347 139661827884864 metrics.py:103] DICE score is technically 1.0, but prediction and truth arrays are empty. \n"
     ]
    },
    {
     "name": "stderr",
     "output_type": "stream",
     "text": [
      "W0502 07:43:34.641805 139661827884864 metrics.py:103] DICE score is technically 1.0, but prediction and truth arrays are empty. \n"
     ]
    },
    {
     "name": "stderr",
     "output_type": "stream",
     "text": [
      "W0502 07:43:34.654777 139661827884864 metrics.py:103] DICE score is technically 1.0, but prediction and truth arrays are empty. \n"
     ]
    },
    {
     "name": "stderr",
     "output_type": "stream",
     "text": [
      "W0502 07:43:34.667540 139661827884864 metrics.py:103] DICE score is technically 1.0, but prediction and truth arrays are empty. \n"
     ]
    },
    {
     "name": "stderr",
     "output_type": "stream",
     "text": [
      "W0502 07:43:34.680196 139661827884864 metrics.py:103] DICE score is technically 1.0, but prediction and truth arrays are empty. \n"
     ]
    },
    {
     "name": "stderr",
     "output_type": "stream",
     "text": [
      "W0502 07:43:34.692868 139661827884864 metrics.py:103] DICE score is technically 1.0, but prediction and truth arrays are empty. \n"
     ]
    },
    {
     "name": "stderr",
     "output_type": "stream",
     "text": [
      "W0502 07:43:34.706481 139661827884864 metrics.py:103] DICE score is technically 1.0, but prediction and truth arrays are empty. \n"
     ]
    },
    {
     "name": "stderr",
     "output_type": "stream",
     "text": [
      "W0502 07:43:34.722044 139661827884864 metrics.py:103] DICE score is technically 1.0, but prediction and truth arrays are empty. \n"
     ]
    },
    {
     "name": "stderr",
     "output_type": "stream",
     "text": [
      "W0502 07:43:34.735039 139661827884864 metrics.py:103] DICE score is technically 1.0, but prediction and truth arrays are empty. \n"
     ]
    },
    {
     "name": "stderr",
     "output_type": "stream",
     "text": [
      "W0502 07:43:34.748094 139661827884864 metrics.py:103] DICE score is technically 1.0, but prediction and truth arrays are empty. \n"
     ]
    },
    {
     "name": "stderr",
     "output_type": "stream",
     "text": [
      "W0502 07:43:34.761221 139661827884864 metrics.py:103] DICE score is technically 1.0, but prediction and truth arrays are empty. \n"
     ]
    },
    {
     "name": "stderr",
     "output_type": "stream",
     "text": [
      "W0502 07:43:34.773933 139661827884864 metrics.py:103] DICE score is technically 1.0, but prediction and truth arrays are empty. \n"
     ]
    },
    {
     "name": "stderr",
     "output_type": "stream",
     "text": [
      "W0502 07:43:34.786951 139661827884864 metrics.py:103] DICE score is technically 1.0, but prediction and truth arrays are empty. \n"
     ]
    },
    {
     "name": "stderr",
     "output_type": "stream",
     "text": [
      "W0502 07:43:34.799996 139661827884864 metrics.py:103] DICE score is technically 1.0, but prediction and truth arrays are empty. \n"
     ]
    },
    {
     "name": "stderr",
     "output_type": "stream",
     "text": [
      "W0502 07:43:34.812975 139661827884864 metrics.py:103] DICE score is technically 1.0, but prediction and truth arrays are empty. \n"
     ]
    },
    {
     "name": "stderr",
     "output_type": "stream",
     "text": [
      "W0502 07:43:34.826698 139661827884864 metrics.py:103] DICE score is technically 1.0, but prediction and truth arrays are empty. \n"
     ]
    },
    {
     "name": "stderr",
     "output_type": "stream",
     "text": [
      "W0502 07:43:34.839967 139661827884864 metrics.py:103] DICE score is technically 1.0, but prediction and truth arrays are empty. \n"
     ]
    },
    {
     "name": "stderr",
     "output_type": "stream",
     "text": [
      "W0502 07:43:34.853079 139661827884864 metrics.py:103] DICE score is technically 1.0, but prediction and truth arrays are empty. \n"
     ]
    },
    {
     "name": "stderr",
     "output_type": "stream",
     "text": [
      "W0502 07:43:34.866264 139661827884864 metrics.py:103] DICE score is technically 1.0, but prediction and truth arrays are empty. \n"
     ]
    },
    {
     "name": "stderr",
     "output_type": "stream",
     "text": [
      "W0502 07:43:34.879328 139661827884864 metrics.py:103] DICE score is technically 1.0, but prediction and truth arrays are empty. \n"
     ]
    },
    {
     "name": "stderr",
     "output_type": "stream",
     "text": [
      "W0502 07:43:34.892018 139661827884864 metrics.py:103] DICE score is technically 1.0, but prediction and truth arrays are empty. \n"
     ]
    },
    {
     "name": "stderr",
     "output_type": "stream",
     "text": [
      "W0502 07:43:34.904739 139661827884864 metrics.py:103] DICE score is technically 1.0, but prediction and truth arrays are empty. \n"
     ]
    },
    {
     "name": "stderr",
     "output_type": "stream",
     "text": [
      "W0502 07:43:34.917407 139661827884864 metrics.py:103] DICE score is technically 1.0, but prediction and truth arrays are empty. \n"
     ]
    },
    {
     "name": "stderr",
     "output_type": "stream",
     "text": [
      "W0502 07:43:34.930405 139661827884864 metrics.py:103] DICE score is technically 1.0, but prediction and truth arrays are empty. \n"
     ]
    },
    {
     "name": "stderr",
     "output_type": "stream",
     "text": [
      "W0502 07:43:34.943428 139661827884864 metrics.py:103] DICE score is technically 1.0, but prediction and truth arrays are empty. \n"
     ]
    },
    {
     "name": "stderr",
     "output_type": "stream",
     "text": [
      "W0502 07:43:35.684148 139661827884864 metrics.py:103] DICE score is technically 1.0, but prediction and truth arrays are empty. \n"
     ]
    },
    {
     "name": "stderr",
     "output_type": "stream",
     "text": [
      "W0502 07:43:35.696794 139661827884864 metrics.py:103] DICE score is technically 1.0, but prediction and truth arrays are empty. \n"
     ]
    },
    {
     "name": "stderr",
     "output_type": "stream",
     "text": [
      "W0502 07:43:35.709145 139661827884864 metrics.py:103] DICE score is technically 1.0, but prediction and truth arrays are empty. \n"
     ]
    },
    {
     "name": "stderr",
     "output_type": "stream",
     "text": [
      "W0502 07:43:35.721378 139661827884864 metrics.py:103] DICE score is technically 1.0, but prediction and truth arrays are empty. \n"
     ]
    },
    {
     "name": "stderr",
     "output_type": "stream",
     "text": [
      "W0502 07:43:35.733891 139661827884864 metrics.py:103] DICE score is technically 1.0, but prediction and truth arrays are empty. \n"
     ]
    },
    {
     "name": "stderr",
     "output_type": "stream",
     "text": [
      "W0502 07:43:35.747235 139661827884864 metrics.py:103] DICE score is technically 1.0, but prediction and truth arrays are empty. \n"
     ]
    },
    {
     "name": "stderr",
     "output_type": "stream",
     "text": [
      "W0502 07:43:35.760114 139661827884864 metrics.py:103] DICE score is technically 1.0, but prediction and truth arrays are empty. \n"
     ]
    },
    {
     "name": "stderr",
     "output_type": "stream",
     "text": [
      "W0502 07:43:35.772897 139661827884864 metrics.py:103] DICE score is technically 1.0, but prediction and truth arrays are empty. \n"
     ]
    },
    {
     "name": "stderr",
     "output_type": "stream",
     "text": [
      "W0502 07:43:35.785635 139661827884864 metrics.py:103] DICE score is technically 1.0, but prediction and truth arrays are empty. \n"
     ]
    },
    {
     "name": "stderr",
     "output_type": "stream",
     "text": [
      "W0502 07:43:35.798396 139661827884864 metrics.py:103] DICE score is technically 1.0, but prediction and truth arrays are empty. \n"
     ]
    },
    {
     "name": "stderr",
     "output_type": "stream",
     "text": [
      "W0502 07:43:35.811283 139661827884864 metrics.py:103] DICE score is technically 1.0, but prediction and truth arrays are empty. \n"
     ]
    },
    {
     "name": "stderr",
     "output_type": "stream",
     "text": [
      "W0502 07:43:35.824137 139661827884864 metrics.py:103] DICE score is technically 1.0, but prediction and truth arrays are empty. \n"
     ]
    },
    {
     "name": "stderr",
     "output_type": "stream",
     "text": [
      "W0502 07:43:35.836970 139661827884864 metrics.py:103] DICE score is technically 1.0, but prediction and truth arrays are empty. \n"
     ]
    },
    {
     "name": "stderr",
     "output_type": "stream",
     "text": [
      "W0502 07:43:35.849730 139661827884864 metrics.py:103] DICE score is technically 1.0, but prediction and truth arrays are empty. \n"
     ]
    },
    {
     "name": "stderr",
     "output_type": "stream",
     "text": [
      "W0502 07:43:35.862528 139661827884864 metrics.py:103] DICE score is technically 1.0, but prediction and truth arrays are empty. \n"
     ]
    },
    {
     "name": "stderr",
     "output_type": "stream",
     "text": [
      "W0502 07:43:35.875313 139661827884864 metrics.py:103] DICE score is technically 1.0, but prediction and truth arrays are empty. \n"
     ]
    },
    {
     "name": "stderr",
     "output_type": "stream",
     "text": [
      "W0502 07:43:35.888260 139661827884864 metrics.py:103] DICE score is technically 1.0, but prediction and truth arrays are empty. \n"
     ]
    },
    {
     "name": "stderr",
     "output_type": "stream",
     "text": [
      "W0502 07:43:35.901226 139661827884864 metrics.py:103] DICE score is technically 1.0, but prediction and truth arrays are empty. \n"
     ]
    },
    {
     "name": "stderr",
     "output_type": "stream",
     "text": [
      "W0502 07:43:35.914207 139661827884864 metrics.py:103] DICE score is technically 1.0, but prediction and truth arrays are empty. \n"
     ]
    },
    {
     "name": "stderr",
     "output_type": "stream",
     "text": [
      "W0502 07:43:35.926814 139661827884864 metrics.py:103] DICE score is technically 1.0, but prediction and truth arrays are empty. \n"
     ]
    },
    {
     "name": "stderr",
     "output_type": "stream",
     "text": [
      "W0502 07:43:35.939506 139661827884864 metrics.py:103] DICE score is technically 1.0, but prediction and truth arrays are empty. \n"
     ]
    },
    {
     "name": "stderr",
     "output_type": "stream",
     "text": [
      "W0502 07:43:35.952282 139661827884864 metrics.py:103] DICE score is technically 1.0, but prediction and truth arrays are empty. \n"
     ]
    },
    {
     "name": "stderr",
     "output_type": "stream",
     "text": [
      "W0502 07:43:35.965199 139661827884864 metrics.py:103] DICE score is technically 1.0, but prediction and truth arrays are empty. \n"
     ]
    },
    {
     "name": "stderr",
     "output_type": "stream",
     "text": [
      "W0502 07:43:35.978111 139661827884864 metrics.py:103] DICE score is technically 1.0, but prediction and truth arrays are empty. \n"
     ]
    },
    {
     "name": "stderr",
     "output_type": "stream",
     "text": [
      "W0502 07:43:35.991044 139661827884864 metrics.py:103] DICE score is technically 1.0, but prediction and truth arrays are empty. \n"
     ]
    },
    {
     "name": "stderr",
     "output_type": "stream",
     "text": [
      "W0502 07:43:36.003893 139661827884864 metrics.py:103] DICE score is technically 1.0, but prediction and truth arrays are empty. \n"
     ]
    },
    {
     "name": "stderr",
     "output_type": "stream",
     "text": [
      "W0502 07:43:36.016831 139661827884864 metrics.py:103] DICE score is technically 1.0, but prediction and truth arrays are empty. \n"
     ]
    },
    {
     "name": "stderr",
     "output_type": "stream",
     "text": [
      "W0502 07:43:36.029716 139661827884864 metrics.py:103] DICE score is technically 1.0, but prediction and truth arrays are empty. \n"
     ]
    },
    {
     "name": "stderr",
     "output_type": "stream",
     "text": [
      "W0502 07:43:36.042627 139661827884864 metrics.py:103] DICE score is technically 1.0, but prediction and truth arrays are empty. \n"
     ]
    },
    {
     "name": "stderr",
     "output_type": "stream",
     "text": [
      "W0502 07:43:36.055558 139661827884864 metrics.py:103] DICE score is technically 1.0, but prediction and truth arrays are empty. \n"
     ]
    },
    {
     "name": "stderr",
     "output_type": "stream",
     "text": [
      "W0502 07:43:36.068540 139661827884864 metrics.py:103] DICE score is technically 1.0, but prediction and truth arrays are empty. \n"
     ]
    },
    {
     "name": "stderr",
     "output_type": "stream",
     "text": [
      "W0502 07:43:36.081490 139661827884864 metrics.py:103] DICE score is technically 1.0, but prediction and truth arrays are empty. \n"
     ]
    },
    {
     "name": "stderr",
     "output_type": "stream",
     "text": [
      "W0502 07:43:36.094453 139661827884864 metrics.py:103] DICE score is technically 1.0, but prediction and truth arrays are empty. \n"
     ]
    },
    {
     "name": "stderr",
     "output_type": "stream",
     "text": [
      "W0502 07:43:36.115345 139661827884864 metrics.py:103] DICE score is technically 1.0, but prediction and truth arrays are empty. \n"
     ]
    },
    {
     "name": "stderr",
     "output_type": "stream",
     "text": [
      "W0502 07:43:36.129642 139661827884864 metrics.py:103] DICE score is technically 1.0, but prediction and truth arrays are empty. \n"
     ]
    },
    {
     "name": "stderr",
     "output_type": "stream",
     "text": [
      "W0502 07:43:36.143813 139661827884864 metrics.py:103] DICE score is technically 1.0, but prediction and truth arrays are empty. \n"
     ]
    },
    {
     "name": "stderr",
     "output_type": "stream",
     "text": [
      "W0502 07:43:36.159056 139661827884864 metrics.py:103] DICE score is technically 1.0, but prediction and truth arrays are empty. \n"
     ]
    },
    {
     "name": "stderr",
     "output_type": "stream",
     "text": [
      "W0502 07:43:36.179598 139661827884864 metrics.py:103] DICE score is technically 1.0, but prediction and truth arrays are empty. \n"
     ]
    },
    {
     "name": "stderr",
     "output_type": "stream",
     "text": [
      "W0502 07:43:36.202120 139661827884864 metrics.py:103] DICE score is technically 1.0, but prediction and truth arrays are empty. \n"
     ]
    },
    {
     "name": "stderr",
     "output_type": "stream",
     "text": [
      "W0502 07:43:36.222675 139661827884864 metrics.py:103] DICE score is technically 1.0, but prediction and truth arrays are empty. \n"
     ]
    },
    {
     "name": "stderr",
     "output_type": "stream",
     "text": [
      "W0502 07:43:36.237030 139661827884864 metrics.py:103] DICE score is technically 1.0, but prediction and truth arrays are empty. \n"
     ]
    },
    {
     "name": "stderr",
     "output_type": "stream",
     "text": [
      "W0502 07:43:36.251554 139661827884864 metrics.py:103] DICE score is technically 1.0, but prediction and truth arrays are empty. \n"
     ]
    },
    {
     "name": "stderr",
     "output_type": "stream",
     "text": [
      "W0502 07:43:36.266306 139661827884864 metrics.py:103] DICE score is technically 1.0, but prediction and truth arrays are empty. \n"
     ]
    },
    {
     "name": "stderr",
     "output_type": "stream",
     "text": [
      "W0502 07:43:36.280531 139661827884864 metrics.py:103] DICE score is technically 1.0, but prediction and truth arrays are empty. \n"
     ]
    },
    {
     "name": "stderr",
     "output_type": "stream",
     "text": [
      "W0502 07:43:36.294875 139661827884864 metrics.py:103] DICE score is technically 1.0, but prediction and truth arrays are empty. \n"
     ]
    },
    {
     "name": "stderr",
     "output_type": "stream",
     "text": [
      "W0502 07:43:36.309147 139661827884864 metrics.py:103] DICE score is technically 1.0, but prediction and truth arrays are empty. \n"
     ]
    },
    {
     "name": "stderr",
     "output_type": "stream",
     "text": [
      "W0502 07:43:36.323627 139661827884864 metrics.py:103] DICE score is technically 1.0, but prediction and truth arrays are empty. \n"
     ]
    },
    {
     "name": "stderr",
     "output_type": "stream",
     "text": [
      "W0502 07:43:36.337889 139661827884864 metrics.py:103] DICE score is technically 1.0, but prediction and truth arrays are empty. \n"
     ]
    },
    {
     "name": "stderr",
     "output_type": "stream",
     "text": [
      "W0502 07:43:36.352308 139661827884864 metrics.py:103] DICE score is technically 1.0, but prediction and truth arrays are empty. \n"
     ]
    },
    {
     "name": "stderr",
     "output_type": "stream",
     "text": [
      "W0502 07:43:36.366387 139661827884864 metrics.py:103] DICE score is technically 1.0, but prediction and truth arrays are empty. \n"
     ]
    },
    {
     "name": "stderr",
     "output_type": "stream",
     "text": [
      "W0502 07:43:36.378907 139661827884864 metrics.py:103] DICE score is technically 1.0, but prediction and truth arrays are empty. \n"
     ]
    },
    {
     "name": "stderr",
     "output_type": "stream",
     "text": [
      "W0502 07:43:36.391427 139661827884864 metrics.py:103] DICE score is technically 1.0, but prediction and truth arrays are empty. \n"
     ]
    },
    {
     "name": "stderr",
     "output_type": "stream",
     "text": [
      "W0502 07:43:36.404012 139661827884864 metrics.py:103] DICE score is technically 1.0, but prediction and truth arrays are empty. \n"
     ]
    },
    {
     "name": "stderr",
     "output_type": "stream",
     "text": [
      "W0502 07:43:36.416537 139661827884864 metrics.py:103] DICE score is technically 1.0, but prediction and truth arrays are empty. \n"
     ]
    },
    {
     "name": "stderr",
     "output_type": "stream",
     "text": [
      "W0502 07:43:36.429222 139661827884864 metrics.py:103] DICE score is technically 1.0, but prediction and truth arrays are empty. \n"
     ]
    },
    {
     "name": "stderr",
     "output_type": "stream",
     "text": [
      "W0502 07:43:36.441980 139661827884864 metrics.py:103] DICE score is technically 1.0, but prediction and truth arrays are empty. \n"
     ]
    },
    {
     "name": "stderr",
     "output_type": "stream",
     "text": [
      "W0502 07:43:36.454523 139661827884864 metrics.py:103] DICE score is technically 1.0, but prediction and truth arrays are empty. \n"
     ]
    },
    {
     "name": "stderr",
     "output_type": "stream",
     "text": [
      "W0502 07:43:36.467746 139661827884864 metrics.py:103] DICE score is technically 1.0, but prediction and truth arrays are empty. \n"
     ]
    },
    {
     "name": "stderr",
     "output_type": "stream",
     "text": [
      "W0502 07:43:36.480251 139661827884864 metrics.py:103] DICE score is technically 1.0, but prediction and truth arrays are empty. \n"
     ]
    },
    {
     "name": "stderr",
     "output_type": "stream",
     "text": [
      "W0502 07:43:36.492425 139661827884864 metrics.py:103] DICE score is technically 1.0, but prediction and truth arrays are empty. \n"
     ]
    },
    {
     "name": "stderr",
     "output_type": "stream",
     "text": [
      "W0502 07:43:36.504606 139661827884864 metrics.py:103] DICE score is technically 1.0, but prediction and truth arrays are empty. \n"
     ]
    },
    {
     "name": "stderr",
     "output_type": "stream",
     "text": [
      "W0502 07:43:36.517313 139661827884864 metrics.py:103] DICE score is technically 1.0, but prediction and truth arrays are empty. \n"
     ]
    },
    {
     "name": "stderr",
     "output_type": "stream",
     "text": [
      "W0502 07:43:36.530202 139661827884864 metrics.py:103] DICE score is technically 1.0, but prediction and truth arrays are empty. \n"
     ]
    },
    {
     "name": "stderr",
     "output_type": "stream",
     "text": [
      "W0502 07:43:36.542973 139661827884864 metrics.py:103] DICE score is technically 1.0, but prediction and truth arrays are empty. \n"
     ]
    },
    {
     "name": "stderr",
     "output_type": "stream",
     "text": [
      "W0502 07:43:36.555668 139661827884864 metrics.py:103] DICE score is technically 1.0, but prediction and truth arrays are empty. \n"
     ]
    },
    {
     "name": "stderr",
     "output_type": "stream",
     "text": [
      "W0502 07:43:36.568316 139661827884864 metrics.py:103] DICE score is technically 1.0, but prediction and truth arrays are empty. \n"
     ]
    },
    {
     "name": "stderr",
     "output_type": "stream",
     "text": [
      "W0502 07:43:36.581141 139661827884864 metrics.py:103] DICE score is technically 1.0, but prediction and truth arrays are empty. \n"
     ]
    },
    {
     "name": "stderr",
     "output_type": "stream",
     "text": [
      "W0502 07:43:36.593865 139661827884864 metrics.py:103] DICE score is technically 1.0, but prediction and truth arrays are empty. \n"
     ]
    },
    {
     "name": "stderr",
     "output_type": "stream",
     "text": [
      "W0502 07:43:36.606545 139661827884864 metrics.py:103] DICE score is technically 1.0, but prediction and truth arrays are empty. \n"
     ]
    },
    {
     "name": "stderr",
     "output_type": "stream",
     "text": [
      "W0502 07:43:36.619212 139661827884864 metrics.py:103] DICE score is technically 1.0, but prediction and truth arrays are empty. \n"
     ]
    },
    {
     "name": "stderr",
     "output_type": "stream",
     "text": [
      "W0502 07:43:36.632318 139661827884864 metrics.py:103] DICE score is technically 1.0, but prediction and truth arrays are empty. \n"
     ]
    },
    {
     "name": "stderr",
     "output_type": "stream",
     "text": [
      "W0502 07:43:36.645455 139661827884864 metrics.py:103] DICE score is technically 1.0, but prediction and truth arrays are empty. \n"
     ]
    },
    {
     "name": "stderr",
     "output_type": "stream",
     "text": [
      "W0502 07:43:36.659301 139661827884864 metrics.py:103] DICE score is technically 1.0, but prediction and truth arrays are empty. \n"
     ]
    },
    {
     "name": "stderr",
     "output_type": "stream",
     "text": [
      "W0502 07:43:36.672160 139661827884864 metrics.py:103] DICE score is technically 1.0, but prediction and truth arrays are empty. \n"
     ]
    },
    {
     "name": "stderr",
     "output_type": "stream",
     "text": [
      "W0502 07:43:36.685093 139661827884864 metrics.py:103] DICE score is technically 1.0, but prediction and truth arrays are empty. \n"
     ]
    },
    {
     "name": "stderr",
     "output_type": "stream",
     "text": [
      "W0502 07:43:36.697799 139661827884864 metrics.py:103] DICE score is technically 1.0, but prediction and truth arrays are empty. \n"
     ]
    },
    {
     "name": "stderr",
     "output_type": "stream",
     "text": [
      "W0502 07:43:36.710676 139661827884864 metrics.py:103] DICE score is technically 1.0, but prediction and truth arrays are empty. \n"
     ]
    },
    {
     "name": "stderr",
     "output_type": "stream",
     "text": [
      "W0502 07:43:36.723544 139661827884864 metrics.py:103] DICE score is technically 1.0, but prediction and truth arrays are empty. \n"
     ]
    },
    {
     "name": "stderr",
     "output_type": "stream",
     "text": [
      "W0502 07:43:36.736531 139661827884864 metrics.py:103] DICE score is technically 1.0, but prediction and truth arrays are empty. \n"
     ]
    },
    {
     "name": "stderr",
     "output_type": "stream",
     "text": [
      "W0502 07:43:36.749372 139661827884864 metrics.py:103] DICE score is technically 1.0, but prediction and truth arrays are empty. \n"
     ]
    },
    {
     "name": "stderr",
     "output_type": "stream",
     "text": [
      "W0502 07:43:36.762300 139661827884864 metrics.py:103] DICE score is technically 1.0, but prediction and truth arrays are empty. \n"
     ]
    },
    {
     "name": "stderr",
     "output_type": "stream",
     "text": [
      "W0502 07:43:36.775237 139661827884864 metrics.py:103] DICE score is technically 1.0, but prediction and truth arrays are empty. \n"
     ]
    },
    {
     "name": "stderr",
     "output_type": "stream",
     "text": [
      "W0502 07:43:36.787932 139661827884864 metrics.py:103] DICE score is technically 1.0, but prediction and truth arrays are empty. \n"
     ]
    },
    {
     "name": "stderr",
     "output_type": "stream",
     "text": [
      "W0502 07:43:36.800913 139661827884864 metrics.py:103] DICE score is technically 1.0, but prediction and truth arrays are empty. \n"
     ]
    },
    {
     "name": "stderr",
     "output_type": "stream",
     "text": [
      "W0502 07:43:36.813596 139661827884864 metrics.py:103] DICE score is technically 1.0, but prediction and truth arrays are empty. \n"
     ]
    },
    {
     "name": "stderr",
     "output_type": "stream",
     "text": [
      "W0502 07:43:36.826875 139661827884864 metrics.py:103] DICE score is technically 1.0, but prediction and truth arrays are empty. \n"
     ]
    },
    {
     "name": "stderr",
     "output_type": "stream",
     "text": [
      "W0502 07:43:36.839905 139661827884864 metrics.py:103] DICE score is technically 1.0, but prediction and truth arrays are empty. \n"
     ]
    },
    {
     "name": "stderr",
     "output_type": "stream",
     "text": [
      "W0502 07:43:36.852836 139661827884864 metrics.py:103] DICE score is technically 1.0, but prediction and truth arrays are empty. \n"
     ]
    },
    {
     "name": "stderr",
     "output_type": "stream",
     "text": [
      "W0502 07:43:36.865728 139661827884864 metrics.py:103] DICE score is technically 1.0, but prediction and truth arrays are empty. \n"
     ]
    },
    {
     "name": "stderr",
     "output_type": "stream",
     "text": [
      "W0502 07:43:36.878583 139661827884864 metrics.py:103] DICE score is technically 1.0, but prediction and truth arrays are empty. \n"
     ]
    },
    {
     "name": "stderr",
     "output_type": "stream",
     "text": [
      "W0502 07:43:36.891238 139661827884864 metrics.py:103] DICE score is technically 1.0, but prediction and truth arrays are empty. \n"
     ]
    },
    {
     "name": "stderr",
     "output_type": "stream",
     "text": [
      "W0502 07:43:36.904043 139661827884864 metrics.py:103] DICE score is technically 1.0, but prediction and truth arrays are empty. \n"
     ]
    },
    {
     "name": "stderr",
     "output_type": "stream",
     "text": [
      "W0502 07:43:36.916911 139661827884864 metrics.py:103] DICE score is technically 1.0, but prediction and truth arrays are empty. \n"
     ]
    },
    {
     "name": "stderr",
     "output_type": "stream",
     "text": [
      "W0502 07:43:36.929740 139661827884864 metrics.py:103] DICE score is technically 1.0, but prediction and truth arrays are empty. \n"
     ]
    },
    {
     "name": "stderr",
     "output_type": "stream",
     "text": [
      "W0502 07:43:36.942608 139661827884864 metrics.py:103] DICE score is technically 1.0, but prediction and truth arrays are empty. \n"
     ]
    },
    {
     "name": "stderr",
     "output_type": "stream",
     "text": [
      "W0502 07:43:36.955307 139661827884864 metrics.py:103] DICE score is technically 1.0, but prediction and truth arrays are empty. \n"
     ]
    },
    {
     "name": "stderr",
     "output_type": "stream",
     "text": [
      "W0502 07:43:36.967982 139661827884864 metrics.py:103] DICE score is technically 1.0, but prediction and truth arrays are empty. \n"
     ]
    },
    {
     "name": "stderr",
     "output_type": "stream",
     "text": [
      "W0502 07:43:36.980906 139661827884864 metrics.py:103] DICE score is technically 1.0, but prediction and truth arrays are empty. \n"
     ]
    },
    {
     "name": "stderr",
     "output_type": "stream",
     "text": [
      "W0502 07:43:36.993858 139661827884864 metrics.py:103] DICE score is technically 1.0, but prediction and truth arrays are empty. \n"
     ]
    },
    {
     "name": "stderr",
     "output_type": "stream",
     "text": [
      "W0502 07:43:37.007298 139661827884864 metrics.py:103] DICE score is technically 1.0, but prediction and truth arrays are empty. \n"
     ]
    },
    {
     "name": "stderr",
     "output_type": "stream",
     "text": [
      "W0502 07:43:37.020137 139661827884864 metrics.py:103] DICE score is technically 1.0, but prediction and truth arrays are empty. \n"
     ]
    },
    {
     "name": "stderr",
     "output_type": "stream",
     "text": [
      "W0502 07:43:37.033132 139661827884864 metrics.py:103] DICE score is technically 1.0, but prediction and truth arrays are empty. \n"
     ]
    },
    {
     "name": "stderr",
     "output_type": "stream",
     "text": [
      "W0502 07:43:37.045892 139661827884864 metrics.py:103] DICE score is technically 1.0, but prediction and truth arrays are empty. \n"
     ]
    },
    {
     "name": "stderr",
     "output_type": "stream",
     "text": [
      "W0502 07:43:37.058758 139661827884864 metrics.py:103] DICE score is technically 1.0, but prediction and truth arrays are empty. \n"
     ]
    },
    {
     "name": "stderr",
     "output_type": "stream",
     "text": [
      "W0502 07:43:37.071686 139661827884864 metrics.py:103] DICE score is technically 1.0, but prediction and truth arrays are empty. \n"
     ]
    },
    {
     "name": "stderr",
     "output_type": "stream",
     "text": [
      "W0502 07:43:37.084432 139661827884864 metrics.py:103] DICE score is technically 1.0, but prediction and truth arrays are empty. \n"
     ]
    },
    {
     "name": "stderr",
     "output_type": "stream",
     "text": [
      "W0502 07:43:37.097255 139661827884864 metrics.py:103] DICE score is technically 1.0, but prediction and truth arrays are empty. \n"
     ]
    },
    {
     "name": "stderr",
     "output_type": "stream",
     "text": [
      "W0502 07:43:37.110082 139661827884864 metrics.py:103] DICE score is technically 1.0, but prediction and truth arrays are empty. \n"
     ]
    },
    {
     "name": "stderr",
     "output_type": "stream",
     "text": [
      "W0502 07:43:37.122956 139661827884864 metrics.py:103] DICE score is technically 1.0, but prediction and truth arrays are empty. \n"
     ]
    },
    {
     "name": "stderr",
     "output_type": "stream",
     "text": [
      "W0502 07:43:37.135542 139661827884864 metrics.py:103] DICE score is technically 1.0, but prediction and truth arrays are empty. \n"
     ]
    },
    {
     "name": "stderr",
     "output_type": "stream",
     "text": [
      "W0502 07:43:37.148054 139661827884864 metrics.py:103] DICE score is technically 1.0, but prediction and truth arrays are empty. \n"
     ]
    },
    {
     "name": "stderr",
     "output_type": "stream",
     "text": [
      "W0502 07:43:37.160692 139661827884864 metrics.py:103] DICE score is technically 1.0, but prediction and truth arrays are empty. \n"
     ]
    },
    {
     "name": "stderr",
     "output_type": "stream",
     "text": [
      "W0502 07:43:37.173608 139661827884864 metrics.py:103] DICE score is technically 1.0, but prediction and truth arrays are empty. \n"
     ]
    },
    {
     "name": "stderr",
     "output_type": "stream",
     "text": [
      "W0502 07:43:37.186734 139661827884864 metrics.py:103] DICE score is technically 1.0, but prediction and truth arrays are empty. \n"
     ]
    },
    {
     "name": "stderr",
     "output_type": "stream",
     "text": [
      "W0502 07:43:37.199252 139661827884864 metrics.py:103] DICE score is technically 1.0, but prediction and truth arrays are empty. \n"
     ]
    },
    {
     "name": "stderr",
     "output_type": "stream",
     "text": [
      "W0502 07:43:37.211681 139661827884864 metrics.py:103] DICE score is technically 1.0, but prediction and truth arrays are empty. \n"
     ]
    },
    {
     "name": "stderr",
     "output_type": "stream",
     "text": [
      "W0502 07:43:37.224344 139661827884864 metrics.py:103] DICE score is technically 1.0, but prediction and truth arrays are empty. \n"
     ]
    },
    {
     "name": "stderr",
     "output_type": "stream",
     "text": [
      "W0502 07:43:37.237156 139661827884864 metrics.py:103] DICE score is technically 1.0, but prediction and truth arrays are empty. \n"
     ]
    },
    {
     "name": "stderr",
     "output_type": "stream",
     "text": [
      "W0502 07:43:37.249940 139661827884864 metrics.py:103] DICE score is technically 1.0, but prediction and truth arrays are empty. \n"
     ]
    },
    {
     "name": "stderr",
     "output_type": "stream",
     "text": [
      "W0502 07:43:37.262661 139661827884864 metrics.py:103] DICE score is technically 1.0, but prediction and truth arrays are empty. \n"
     ]
    },
    {
     "name": "stderr",
     "output_type": "stream",
     "text": [
      "W0502 07:43:41.547546 139661827884864 metrics.py:103] DICE score is technically 1.0, but prediction and truth arrays are empty. \n"
     ]
    },
    {
     "name": "stderr",
     "output_type": "stream",
     "text": [
      "W0502 07:43:41.560469 139661827884864 metrics.py:103] DICE score is technically 1.0, but prediction and truth arrays are empty. \n"
     ]
    },
    {
     "name": "stderr",
     "output_type": "stream",
     "text": [
      "W0502 07:43:41.573039 139661827884864 metrics.py:103] DICE score is technically 1.0, but prediction and truth arrays are empty. \n"
     ]
    },
    {
     "name": "stderr",
     "output_type": "stream",
     "text": [
      "W0502 07:43:41.585643 139661827884864 metrics.py:103] DICE score is technically 1.0, but prediction and truth arrays are empty. \n"
     ]
    },
    {
     "name": "stderr",
     "output_type": "stream",
     "text": [
      "W0502 07:43:41.598225 139661827884864 metrics.py:103] DICE score is technically 1.0, but prediction and truth arrays are empty. \n"
     ]
    },
    {
     "name": "stderr",
     "output_type": "stream",
     "text": [
      "W0502 07:43:41.610829 139661827884864 metrics.py:103] DICE score is technically 1.0, but prediction and truth arrays are empty. \n"
     ]
    },
    {
     "name": "stderr",
     "output_type": "stream",
     "text": [
      "W0502 07:43:41.623375 139661827884864 metrics.py:103] DICE score is technically 1.0, but prediction and truth arrays are empty. \n"
     ]
    },
    {
     "name": "stderr",
     "output_type": "stream",
     "text": [
      "W0502 07:43:41.635966 139661827884864 metrics.py:103] DICE score is technically 1.0, but prediction and truth arrays are empty. \n"
     ]
    },
    {
     "name": "stderr",
     "output_type": "stream",
     "text": [
      "W0502 07:43:41.648572 139661827884864 metrics.py:103] DICE score is technically 1.0, but prediction and truth arrays are empty. \n"
     ]
    },
    {
     "name": "stderr",
     "output_type": "stream",
     "text": [
      "W0502 07:43:41.661218 139661827884864 metrics.py:103] DICE score is technically 1.0, but prediction and truth arrays are empty. \n"
     ]
    },
    {
     "name": "stderr",
     "output_type": "stream",
     "text": [
      "W0502 07:43:41.674160 139661827884864 metrics.py:103] DICE score is technically 1.0, but prediction and truth arrays are empty. \n"
     ]
    },
    {
     "name": "stderr",
     "output_type": "stream",
     "text": [
      "W0502 07:43:41.686790 139661827884864 metrics.py:103] DICE score is technically 1.0, but prediction and truth arrays are empty. \n"
     ]
    },
    {
     "name": "stderr",
     "output_type": "stream",
     "text": [
      "W0502 07:43:41.699386 139661827884864 metrics.py:103] DICE score is technically 1.0, but prediction and truth arrays are empty. \n"
     ]
    },
    {
     "name": "stderr",
     "output_type": "stream",
     "text": [
      "W0502 07:43:41.712052 139661827884864 metrics.py:103] DICE score is technically 1.0, but prediction and truth arrays are empty. \n"
     ]
    },
    {
     "name": "stderr",
     "output_type": "stream",
     "text": [
      "W0502 07:43:41.725069 139661827884864 metrics.py:103] DICE score is technically 1.0, but prediction and truth arrays are empty. \n"
     ]
    },
    {
     "name": "stderr",
     "output_type": "stream",
     "text": [
      "W0502 07:43:41.737784 139661827884864 metrics.py:103] DICE score is technically 1.0, but prediction and truth arrays are empty. \n"
     ]
    },
    {
     "name": "stderr",
     "output_type": "stream",
     "text": [
      "W0502 07:43:41.750434 139661827884864 metrics.py:103] DICE score is technically 1.0, but prediction and truth arrays are empty. \n"
     ]
    },
    {
     "name": "stderr",
     "output_type": "stream",
     "text": [
      "W0502 07:43:41.763044 139661827884864 metrics.py:103] DICE score is technically 1.0, but prediction and truth arrays are empty. \n"
     ]
    },
    {
     "name": "stderr",
     "output_type": "stream",
     "text": [
      "W0502 07:43:41.775624 139661827884864 metrics.py:103] DICE score is technically 1.0, but prediction and truth arrays are empty. \n"
     ]
    },
    {
     "name": "stderr",
     "output_type": "stream",
     "text": [
      "W0502 07:43:41.788196 139661827884864 metrics.py:103] DICE score is technically 1.0, but prediction and truth arrays are empty. \n"
     ]
    },
    {
     "name": "stderr",
     "output_type": "stream",
     "text": [
      "W0502 07:43:41.800910 139661827884864 metrics.py:103] DICE score is technically 1.0, but prediction and truth arrays are empty. \n"
     ]
    },
    {
     "name": "stderr",
     "output_type": "stream",
     "text": [
      "W0502 07:43:41.813503 139661827884864 metrics.py:103] DICE score is technically 1.0, but prediction and truth arrays are empty. \n"
     ]
    },
    {
     "name": "stderr",
     "output_type": "stream",
     "text": [
      "W0502 07:43:41.826144 139661827884864 metrics.py:103] DICE score is technically 1.0, but prediction and truth arrays are empty. \n"
     ]
    },
    {
     "name": "stderr",
     "output_type": "stream",
     "text": [
      "W0502 07:43:41.838806 139661827884864 metrics.py:103] DICE score is technically 1.0, but prediction and truth arrays are empty. \n"
     ]
    },
    {
     "name": "stderr",
     "output_type": "stream",
     "text": [
      "W0502 07:43:41.851448 139661827884864 metrics.py:103] DICE score is technically 1.0, but prediction and truth arrays are empty. \n"
     ]
    },
    {
     "name": "stderr",
     "output_type": "stream",
     "text": [
      "W0502 07:43:41.863934 139661827884864 metrics.py:103] DICE score is technically 1.0, but prediction and truth arrays are empty. \n"
     ]
    },
    {
     "name": "stderr",
     "output_type": "stream",
     "text": [
      "W0502 07:43:41.876409 139661827884864 metrics.py:103] DICE score is technically 1.0, but prediction and truth arrays are empty. \n"
     ]
    },
    {
     "name": "stderr",
     "output_type": "stream",
     "text": [
      "W0502 07:43:41.888919 139661827884864 metrics.py:103] DICE score is technically 1.0, but prediction and truth arrays are empty. \n"
     ]
    },
    {
     "name": "stderr",
     "output_type": "stream",
     "text": [
      "W0502 07:43:41.902178 139661827884864 metrics.py:103] DICE score is technically 1.0, but prediction and truth arrays are empty. \n"
     ]
    },
    {
     "name": "stderr",
     "output_type": "stream",
     "text": [
      "W0502 07:43:41.915007 139661827884864 metrics.py:103] DICE score is technically 1.0, but prediction and truth arrays are empty. \n"
     ]
    },
    {
     "name": "stderr",
     "output_type": "stream",
     "text": [
      "W0502 07:43:41.927637 139661827884864 metrics.py:103] DICE score is technically 1.0, but prediction and truth arrays are empty. \n"
     ]
    },
    {
     "name": "stderr",
     "output_type": "stream",
     "text": [
      "W0502 07:43:41.940376 139661827884864 metrics.py:103] DICE score is technically 1.0, but prediction and truth arrays are empty. \n"
     ]
    },
    {
     "name": "stderr",
     "output_type": "stream",
     "text": [
      "W0502 07:43:41.953058 139661827884864 metrics.py:103] DICE score is technically 1.0, but prediction and truth arrays are empty. \n"
     ]
    },
    {
     "name": "stderr",
     "output_type": "stream",
     "text": [
      "W0502 07:43:41.965705 139661827884864 metrics.py:103] DICE score is technically 1.0, but prediction and truth arrays are empty. \n"
     ]
    },
    {
     "name": "stderr",
     "output_type": "stream",
     "text": [
      "W0502 07:43:41.978356 139661827884864 metrics.py:103] DICE score is technically 1.0, but prediction and truth arrays are empty. \n"
     ]
    },
    {
     "name": "stderr",
     "output_type": "stream",
     "text": [
      "W0502 07:43:41.990967 139661827884864 metrics.py:103] DICE score is technically 1.0, but prediction and truth arrays are empty. \n"
     ]
    },
    {
     "name": "stderr",
     "output_type": "stream",
     "text": [
      "W0502 07:43:42.003567 139661827884864 metrics.py:103] DICE score is technically 1.0, but prediction and truth arrays are empty. \n"
     ]
    },
    {
     "name": "stderr",
     "output_type": "stream",
     "text": [
      "W0502 07:43:42.016188 139661827884864 metrics.py:103] DICE score is technically 1.0, but prediction and truth arrays are empty. \n"
     ]
    },
    {
     "name": "stderr",
     "output_type": "stream",
     "text": [
      "W0502 07:43:42.028892 139661827884864 metrics.py:103] DICE score is technically 1.0, but prediction and truth arrays are empty. \n"
     ]
    },
    {
     "name": "stderr",
     "output_type": "stream",
     "text": [
      "W0502 07:43:42.041564 139661827884864 metrics.py:103] DICE score is technically 1.0, but prediction and truth arrays are empty. \n"
     ]
    },
    {
     "name": "stderr",
     "output_type": "stream",
     "text": [
      "W0502 07:44:44.234134 139661827884864 metrics.py:103] DICE score is technically 1.0, but prediction and truth arrays are empty. \n"
     ]
    },
    {
     "name": "stderr",
     "output_type": "stream",
     "text": [
      "W0502 07:44:44.247065 139661827884864 metrics.py:103] DICE score is technically 1.0, but prediction and truth arrays are empty. \n"
     ]
    },
    {
     "name": "stderr",
     "output_type": "stream",
     "text": [
      "W0502 07:44:44.259754 139661827884864 metrics.py:103] DICE score is technically 1.0, but prediction and truth arrays are empty. \n"
     ]
    },
    {
     "name": "stderr",
     "output_type": "stream",
     "text": [
      "W0502 07:44:44.272557 139661827884864 metrics.py:103] DICE score is technically 1.0, but prediction and truth arrays are empty. \n"
     ]
    },
    {
     "name": "stderr",
     "output_type": "stream",
     "text": [
      "W0502 07:44:44.285275 139661827884864 metrics.py:103] DICE score is technically 1.0, but prediction and truth arrays are empty. \n"
     ]
    },
    {
     "name": "stderr",
     "output_type": "stream",
     "text": [
      "W0502 07:44:44.298145 139661827884864 metrics.py:103] DICE score is technically 1.0, but prediction and truth arrays are empty. \n"
     ]
    },
    {
     "name": "stderr",
     "output_type": "stream",
     "text": [
      "W0502 07:44:44.310920 139661827884864 metrics.py:103] DICE score is technically 1.0, but prediction and truth arrays are empty. \n"
     ]
    },
    {
     "name": "stderr",
     "output_type": "stream",
     "text": [
      "W0502 07:44:44.323651 139661827884864 metrics.py:103] DICE score is technically 1.0, but prediction and truth arrays are empty. \n"
     ]
    },
    {
     "name": "stderr",
     "output_type": "stream",
     "text": [
      "W0502 07:44:44.336425 139661827884864 metrics.py:103] DICE score is technically 1.0, but prediction and truth arrays are empty. \n"
     ]
    },
    {
     "name": "stderr",
     "output_type": "stream",
     "text": [
      "W0502 07:44:44.349176 139661827884864 metrics.py:103] DICE score is technically 1.0, but prediction and truth arrays are empty. \n"
     ]
    },
    {
     "name": "stderr",
     "output_type": "stream",
     "text": [
      "W0502 07:44:44.361912 139661827884864 metrics.py:103] DICE score is technically 1.0, but prediction and truth arrays are empty. \n"
     ]
    },
    {
     "name": "stderr",
     "output_type": "stream",
     "text": [
      "W0502 07:44:44.374599 139661827884864 metrics.py:103] DICE score is technically 1.0, but prediction and truth arrays are empty. \n"
     ]
    },
    {
     "name": "stderr",
     "output_type": "stream",
     "text": [
      "W0502 07:44:44.411390 139661827884864 metrics.py:103] DICE score is technically 1.0, but prediction and truth arrays are empty. \n"
     ]
    },
    {
     "name": "stderr",
     "output_type": "stream",
     "text": [
      "W0502 07:44:44.425201 139661827884864 metrics.py:103] DICE score is technically 1.0, but prediction and truth arrays are empty. \n"
     ]
    },
    {
     "name": "stderr",
     "output_type": "stream",
     "text": [
      "W0502 07:44:46.070729 139661827884864 metrics.py:103] DICE score is technically 1.0, but prediction and truth arrays are empty. \n"
     ]
    },
    {
     "name": "stderr",
     "output_type": "stream",
     "text": [
      "W0502 07:44:46.083770 139661827884864 metrics.py:103] DICE score is technically 1.0, but prediction and truth arrays are empty. \n"
     ]
    },
    {
     "name": "stderr",
     "output_type": "stream",
     "text": [
      "W0502 07:44:46.096503 139661827884864 metrics.py:103] DICE score is technically 1.0, but prediction and truth arrays are empty. \n"
     ]
    },
    {
     "name": "stderr",
     "output_type": "stream",
     "text": [
      "W0502 07:44:46.109286 139661827884864 metrics.py:103] DICE score is technically 1.0, but prediction and truth arrays are empty. \n"
     ]
    },
    {
     "name": "stderr",
     "output_type": "stream",
     "text": [
      "W0502 07:44:46.122007 139661827884864 metrics.py:103] DICE score is technically 1.0, but prediction and truth arrays are empty. \n"
     ]
    },
    {
     "name": "stderr",
     "output_type": "stream",
     "text": [
      "W0502 07:44:46.134773 139661827884864 metrics.py:103] DICE score is technically 1.0, but prediction and truth arrays are empty. \n"
     ]
    },
    {
     "name": "stderr",
     "output_type": "stream",
     "text": [
      "W0502 07:44:46.147532 139661827884864 metrics.py:103] DICE score is technically 1.0, but prediction and truth arrays are empty. \n"
     ]
    },
    {
     "name": "stderr",
     "output_type": "stream",
     "text": [
      "W0502 07:44:46.184339 139661827884864 metrics.py:103] DICE score is technically 1.0, but prediction and truth arrays are empty. \n"
     ]
    },
    {
     "name": "stderr",
     "output_type": "stream",
     "text": [
      "W0502 07:44:46.197348 139661827884864 metrics.py:103] DICE score is technically 1.0, but prediction and truth arrays are empty. \n"
     ]
    },
    {
     "name": "stderr",
     "output_type": "stream",
     "text": [
      "W0502 07:44:46.210690 139661827884864 metrics.py:103] DICE score is technically 1.0, but prediction and truth arrays are empty. \n"
     ]
    },
    {
     "name": "stderr",
     "output_type": "stream",
     "text": [
      "W0502 07:44:46.223513 139661827884864 metrics.py:103] DICE score is technically 1.0, but prediction and truth arrays are empty. \n"
     ]
    },
    {
     "name": "stderr",
     "output_type": "stream",
     "text": [
      "W0502 07:44:46.247365 139661827884864 metrics.py:103] DICE score is technically 1.0, but prediction and truth arrays are empty. \n"
     ]
    },
    {
     "name": "stderr",
     "output_type": "stream",
     "text": [
      "W0502 07:44:46.260107 139661827884864 metrics.py:103] DICE score is technically 1.0, but prediction and truth arrays are empty. \n"
     ]
    },
    {
     "name": "stderr",
     "output_type": "stream",
     "text": [
      "W0502 07:44:46.273103 139661827884864 metrics.py:103] DICE score is technically 1.0, but prediction and truth arrays are empty. \n"
     ]
    },
    {
     "name": "stderr",
     "output_type": "stream",
     "text": [
      "W0502 07:44:46.320647 139661827884864 metrics.py:103] DICE score is technically 1.0, but prediction and truth arrays are empty. \n"
     ]
    },
    {
     "name": "stderr",
     "output_type": "stream",
     "text": [
      "W0502 07:44:46.333544 139661827884864 metrics.py:103] DICE score is technically 1.0, but prediction and truth arrays are empty. \n"
     ]
    },
    {
     "name": "stderr",
     "output_type": "stream",
     "text": [
      "W0502 07:44:46.346348 139661827884864 metrics.py:103] DICE score is technically 1.0, but prediction and truth arrays are empty. \n"
     ]
    },
    {
     "name": "stderr",
     "output_type": "stream",
     "text": [
      "W0502 07:44:46.359159 139661827884864 metrics.py:103] DICE score is technically 1.0, but prediction and truth arrays are empty. \n"
     ]
    },
    {
     "name": "stderr",
     "output_type": "stream",
     "text": [
      "W0502 07:44:50.537329 139661827884864 metrics.py:103] DICE score is technically 1.0, but prediction and truth arrays are empty. \n"
     ]
    },
    {
     "name": "stderr",
     "output_type": "stream",
     "text": [
      "W0502 07:44:50.550650 139661827884864 metrics.py:103] DICE score is technically 1.0, but prediction and truth arrays are empty. \n"
     ]
    },
    {
     "name": "stderr",
     "output_type": "stream",
     "text": [
      "W0502 07:44:50.563467 139661827884864 metrics.py:103] DICE score is technically 1.0, but prediction and truth arrays are empty. \n"
     ]
    },
    {
     "name": "stderr",
     "output_type": "stream",
     "text": [
      "W0502 07:44:50.576325 139661827884864 metrics.py:103] DICE score is technically 1.0, but prediction and truth arrays are empty. \n"
     ]
    },
    {
     "name": "stderr",
     "output_type": "stream",
     "text": [
      "W0502 07:44:50.589169 139661827884864 metrics.py:103] DICE score is technically 1.0, but prediction and truth arrays are empty. \n"
     ]
    },
    {
     "name": "stderr",
     "output_type": "stream",
     "text": [
      "W0502 07:44:50.607824 139661827884864 metrics.py:103] DICE score is technically 1.0, but prediction and truth arrays are empty. \n"
     ]
    },
    {
     "name": "stderr",
     "output_type": "stream",
     "text": [
      "W0502 07:44:50.628348 139661827884864 metrics.py:103] DICE score is technically 1.0, but prediction and truth arrays are empty. \n"
     ]
    },
    {
     "name": "stderr",
     "output_type": "stream",
     "text": [
      "W0502 07:44:50.648659 139661827884864 metrics.py:103] DICE score is technically 1.0, but prediction and truth arrays are empty. \n"
     ]
    },
    {
     "name": "stderr",
     "output_type": "stream",
     "text": [
      "W0502 07:44:50.668716 139661827884864 metrics.py:103] DICE score is technically 1.0, but prediction and truth arrays are empty. \n"
     ]
    },
    {
     "name": "stderr",
     "output_type": "stream",
     "text": [
      "W0502 07:44:50.681457 139661827884864 metrics.py:103] DICE score is technically 1.0, but prediction and truth arrays are empty. \n"
     ]
    },
    {
     "name": "stderr",
     "output_type": "stream",
     "text": [
      "W0502 07:44:50.694221 139661827884864 metrics.py:103] DICE score is technically 1.0, but prediction and truth arrays are empty. \n"
     ]
    },
    {
     "name": "stderr",
     "output_type": "stream",
     "text": [
      "W0502 07:44:50.706892 139661827884864 metrics.py:103] DICE score is technically 1.0, but prediction and truth arrays are empty. \n"
     ]
    },
    {
     "name": "stderr",
     "output_type": "stream",
     "text": [
      "W0502 07:44:50.719515 139661827884864 metrics.py:103] DICE score is technically 1.0, but prediction and truth arrays are empty. \n"
     ]
    },
    {
     "name": "stderr",
     "output_type": "stream",
     "text": [
      "W0502 07:44:50.733000 139661827884864 metrics.py:103] DICE score is technically 1.0, but prediction and truth arrays are empty. \n"
     ]
    },
    {
     "name": "stderr",
     "output_type": "stream",
     "text": [
      "W0502 07:44:50.746310 139661827884864 metrics.py:103] DICE score is technically 1.0, but prediction and truth arrays are empty. \n"
     ]
    },
    {
     "name": "stderr",
     "output_type": "stream",
     "text": [
      "W0502 07:44:50.759562 139661827884864 metrics.py:103] DICE score is technically 1.0, but prediction and truth arrays are empty. \n"
     ]
    },
    {
     "name": "stderr",
     "output_type": "stream",
     "text": [
      "W0502 07:44:50.774677 139661827884864 metrics.py:103] DICE score is technically 1.0, but prediction and truth arrays are empty. \n"
     ]
    },
    {
     "name": "stderr",
     "output_type": "stream",
     "text": [
      "W0502 07:44:50.788916 139661827884864 metrics.py:103] DICE score is technically 1.0, but prediction and truth arrays are empty. \n"
     ]
    },
    {
     "name": "stderr",
     "output_type": "stream",
     "text": [
      "W0502 07:44:50.801832 139661827884864 metrics.py:103] DICE score is technically 1.0, but prediction and truth arrays are empty. \n"
     ]
    },
    {
     "name": "stderr",
     "output_type": "stream",
     "text": [
      "W0502 07:44:50.814998 139661827884864 metrics.py:103] DICE score is technically 1.0, but prediction and truth arrays are empty. \n"
     ]
    },
    {
     "name": "stderr",
     "output_type": "stream",
     "text": [
      "W0502 07:44:50.827755 139661827884864 metrics.py:103] DICE score is technically 1.0, but prediction and truth arrays are empty. \n"
     ]
    },
    {
     "name": "stderr",
     "output_type": "stream",
     "text": [
      "W0502 07:44:50.840506 139661827884864 metrics.py:103] DICE score is technically 1.0, but prediction and truth arrays are empty. \n"
     ]
    },
    {
     "name": "stderr",
     "output_type": "stream",
     "text": [
      "W0502 07:44:50.853435 139661827884864 metrics.py:103] DICE score is technically 1.0, but prediction and truth arrays are empty. \n"
     ]
    },
    {
     "name": "stderr",
     "output_type": "stream",
     "text": [
      "W0502 07:44:50.866288 139661827884864 metrics.py:103] DICE score is technically 1.0, but prediction and truth arrays are empty. \n"
     ]
    },
    {
     "name": "stderr",
     "output_type": "stream",
     "text": [
      "W0502 07:44:50.879537 139661827884864 metrics.py:103] DICE score is technically 1.0, but prediction and truth arrays are empty. \n"
     ]
    },
    {
     "name": "stderr",
     "output_type": "stream",
     "text": [
      "W0502 07:44:50.892395 139661827884864 metrics.py:103] DICE score is technically 1.0, but prediction and truth arrays are empty. \n"
     ]
    },
    {
     "name": "stderr",
     "output_type": "stream",
     "text": [
      "W0502 07:44:50.905427 139661827884864 metrics.py:103] DICE score is technically 1.0, but prediction and truth arrays are empty. \n"
     ]
    },
    {
     "name": "stderr",
     "output_type": "stream",
     "text": [
      "W0502 07:44:50.918939 139661827884864 metrics.py:103] DICE score is technically 1.0, but prediction and truth arrays are empty. \n"
     ]
    },
    {
     "name": "stderr",
     "output_type": "stream",
     "text": [
      "W0502 07:44:50.931935 139661827884864 metrics.py:103] DICE score is technically 1.0, but prediction and truth arrays are empty. \n"
     ]
    },
    {
     "name": "stderr",
     "output_type": "stream",
     "text": [
      "W0502 07:44:50.945097 139661827884864 metrics.py:103] DICE score is technically 1.0, but prediction and truth arrays are empty. \n"
     ]
    },
    {
     "name": "stderr",
     "output_type": "stream",
     "text": [
      "W0502 07:44:51.380085 139661827884864 metrics.py:103] DICE score is technically 1.0, but prediction and truth arrays are empty. \n"
     ]
    },
    {
     "name": "stderr",
     "output_type": "stream",
     "text": [
      "W0502 07:44:51.415556 139661827884864 metrics.py:103] DICE score is technically 1.0, but prediction and truth arrays are empty. \n"
     ]
    },
    {
     "name": "stderr",
     "output_type": "stream",
     "text": [
      "W0502 07:44:51.428466 139661827884864 metrics.py:103] DICE score is technically 1.0, but prediction and truth arrays are empty. \n"
     ]
    },
    {
     "name": "stderr",
     "output_type": "stream",
     "text": [
      "W0502 07:44:51.441351 139661827884864 metrics.py:103] DICE score is technically 1.0, but prediction and truth arrays are empty. \n"
     ]
    },
    {
     "name": "stderr",
     "output_type": "stream",
     "text": [
      "W0502 07:44:51.454862 139661827884864 metrics.py:103] DICE score is technically 1.0, but prediction and truth arrays are empty. \n"
     ]
    },
    {
     "name": "stderr",
     "output_type": "stream",
     "text": [
      "W0502 07:44:51.467890 139661827884864 metrics.py:103] DICE score is technically 1.0, but prediction and truth arrays are empty. \n"
     ]
    },
    {
     "name": "stderr",
     "output_type": "stream",
     "text": [
      "W0502 07:44:51.480803 139661827884864 metrics.py:103] DICE score is technically 1.0, but prediction and truth arrays are empty. \n"
     ]
    },
    {
     "name": "stderr",
     "output_type": "stream",
     "text": [
      "W0502 07:44:51.493699 139661827884864 metrics.py:103] DICE score is technically 1.0, but prediction and truth arrays are empty. \n"
     ]
    },
    {
     "name": "stderr",
     "output_type": "stream",
     "text": [
      "W0502 07:44:51.506580 139661827884864 metrics.py:103] DICE score is technically 1.0, but prediction and truth arrays are empty. \n"
     ]
    },
    {
     "name": "stderr",
     "output_type": "stream",
     "text": [
      "W0502 07:44:51.519580 139661827884864 metrics.py:103] DICE score is technically 1.0, but prediction and truth arrays are empty. \n"
     ]
    },
    {
     "name": "stderr",
     "output_type": "stream",
     "text": [
      "W0502 07:44:51.532567 139661827884864 metrics.py:103] DICE score is technically 1.0, but prediction and truth arrays are empty. \n"
     ]
    },
    {
     "name": "stderr",
     "output_type": "stream",
     "text": [
      "W0502 07:44:51.545422 139661827884864 metrics.py:103] DICE score is technically 1.0, but prediction and truth arrays are empty. \n"
     ]
    },
    {
     "name": "stderr",
     "output_type": "stream",
     "text": [
      "W0502 07:44:51.558432 139661827884864 metrics.py:103] DICE score is technically 1.0, but prediction and truth arrays are empty. \n"
     ]
    },
    {
     "name": "stderr",
     "output_type": "stream",
     "text": [
      "W0502 07:44:51.571280 139661827884864 metrics.py:103] DICE score is technically 1.0, but prediction and truth arrays are empty. \n"
     ]
    },
    {
     "name": "stderr",
     "output_type": "stream",
     "text": [
      "W0502 07:44:51.584281 139661827884864 metrics.py:103] DICE score is technically 1.0, but prediction and truth arrays are empty. \n"
     ]
    },
    {
     "name": "stderr",
     "output_type": "stream",
     "text": [
      "W0502 07:44:51.597182 139661827884864 metrics.py:103] DICE score is technically 1.0, but prediction and truth arrays are empty. \n"
     ]
    },
    {
     "name": "stderr",
     "output_type": "stream",
     "text": [
      "W0502 07:44:51.610025 139661827884864 metrics.py:103] DICE score is technically 1.0, but prediction and truth arrays are empty. \n"
     ]
    },
    {
     "name": "stderr",
     "output_type": "stream",
     "text": [
      "W0502 07:44:51.622981 139661827884864 metrics.py:103] DICE score is technically 1.0, but prediction and truth arrays are empty. \n"
     ]
    },
    {
     "name": "stderr",
     "output_type": "stream",
     "text": [
      "W0502 07:44:51.636787 139661827884864 metrics.py:103] DICE score is technically 1.0, but prediction and truth arrays are empty. \n"
     ]
    },
    {
     "name": "stderr",
     "output_type": "stream",
     "text": [
      "W0502 07:44:51.650304 139661827884864 metrics.py:103] DICE score is technically 1.0, but prediction and truth arrays are empty. \n"
     ]
    },
    {
     "name": "stderr",
     "output_type": "stream",
     "text": [
      "W0502 07:44:51.663658 139661827884864 metrics.py:103] DICE score is technically 1.0, but prediction and truth arrays are empty. \n"
     ]
    },
    {
     "name": "stderr",
     "output_type": "stream",
     "text": [
      "W0502 07:44:51.676973 139661827884864 metrics.py:103] DICE score is technically 1.0, but prediction and truth arrays are empty. \n"
     ]
    },
    {
     "name": "stderr",
     "output_type": "stream",
     "text": [
      "W0502 07:44:51.690076 139661827884864 metrics.py:103] DICE score is technically 1.0, but prediction and truth arrays are empty. \n"
     ]
    },
    {
     "name": "stderr",
     "output_type": "stream",
     "text": [
      "W0502 07:44:51.703202 139661827884864 metrics.py:103] DICE score is technically 1.0, but prediction and truth arrays are empty. \n"
     ]
    },
    {
     "name": "stderr",
     "output_type": "stream",
     "text": [
      "W0502 07:44:51.716366 139661827884864 metrics.py:103] DICE score is technically 1.0, but prediction and truth arrays are empty. \n"
     ]
    },
    {
     "name": "stderr",
     "output_type": "stream",
     "text": [
      "W0502 07:44:51.729692 139661827884864 metrics.py:103] DICE score is technically 1.0, but prediction and truth arrays are empty. \n"
     ]
    },
    {
     "name": "stderr",
     "output_type": "stream",
     "text": [
      "W0502 07:44:51.742697 139661827884864 metrics.py:103] DICE score is technically 1.0, but prediction and truth arrays are empty. \n"
     ]
    },
    {
     "name": "stderr",
     "output_type": "stream",
     "text": [
      "W0502 07:44:51.756314 139661827884864 metrics.py:103] DICE score is technically 1.0, but prediction and truth arrays are empty. \n"
     ]
    },
    {
     "name": "stderr",
     "output_type": "stream",
     "text": [
      "W0502 07:44:57.600055 139661827884864 metrics.py:103] DICE score is technically 1.0, but prediction and truth arrays are empty. \n"
     ]
    },
    {
     "name": "stderr",
     "output_type": "stream",
     "text": [
      "W0502 07:44:57.620467 139661827884864 metrics.py:103] DICE score is technically 1.0, but prediction and truth arrays are empty. \n"
     ]
    },
    {
     "name": "stderr",
     "output_type": "stream",
     "text": [
      "W0502 07:44:57.927861 139661827884864 metrics.py:103] DICE score is technically 1.0, but prediction and truth arrays are empty. \n"
     ]
    },
    {
     "name": "stderr",
     "output_type": "stream",
     "text": [
      "W0502 07:44:57.940805 139661827884864 metrics.py:103] DICE score is technically 1.0, but prediction and truth arrays are empty. \n"
     ]
    },
    {
     "name": "stderr",
     "output_type": "stream",
     "text": [
      "W0502 07:44:57.953531 139661827884864 metrics.py:103] DICE score is technically 1.0, but prediction and truth arrays are empty. \n"
     ]
    },
    {
     "name": "stderr",
     "output_type": "stream",
     "text": [
      "W0502 07:44:57.966470 139661827884864 metrics.py:103] DICE score is technically 1.0, but prediction and truth arrays are empty. \n"
     ]
    },
    {
     "name": "stderr",
     "output_type": "stream",
     "text": [
      "W0502 07:44:58.881392 139661827884864 metrics.py:103] DICE score is technically 1.0, but prediction and truth arrays are empty. \n"
     ]
    },
    {
     "name": "stderr",
     "output_type": "stream",
     "text": [
      "W0502 07:44:58.894338 139661827884864 metrics.py:103] DICE score is technically 1.0, but prediction and truth arrays are empty. \n"
     ]
    },
    {
     "name": "stderr",
     "output_type": "stream",
     "text": [
      "W0502 07:44:58.907056 139661827884864 metrics.py:103] DICE score is technically 1.0, but prediction and truth arrays are empty. \n"
     ]
    },
    {
     "name": "stderr",
     "output_type": "stream",
     "text": [
      "W0502 07:44:58.919887 139661827884864 metrics.py:103] DICE score is technically 1.0, but prediction and truth arrays are empty. \n"
     ]
    },
    {
     "name": "stderr",
     "output_type": "stream",
     "text": [
      "W0502 07:44:58.932554 139661827884864 metrics.py:103] DICE score is technically 1.0, but prediction and truth arrays are empty. \n"
     ]
    },
    {
     "name": "stderr",
     "output_type": "stream",
     "text": [
      "W0502 07:44:58.945212 139661827884864 metrics.py:103] DICE score is technically 1.0, but prediction and truth arrays are empty. \n"
     ]
    },
    {
     "name": "stderr",
     "output_type": "stream",
     "text": [
      "W0502 07:44:58.957938 139661827884864 metrics.py:103] DICE score is technically 1.0, but prediction and truth arrays are empty. \n"
     ]
    },
    {
     "name": "stderr",
     "output_type": "stream",
     "text": [
      "W0502 07:44:58.970712 139661827884864 metrics.py:103] DICE score is technically 1.0, but prediction and truth arrays are empty. \n"
     ]
    },
    {
     "name": "stderr",
     "output_type": "stream",
     "text": [
      "W0502 07:44:58.983434 139661827884864 metrics.py:103] DICE score is technically 1.0, but prediction and truth arrays are empty. \n"
     ]
    },
    {
     "name": "stderr",
     "output_type": "stream",
     "text": [
      "W0502 07:44:58.996186 139661827884864 metrics.py:103] DICE score is technically 1.0, but prediction and truth arrays are empty. \n"
     ]
    },
    {
     "name": "stderr",
     "output_type": "stream",
     "text": [
      "W0502 07:44:59.008984 139661827884864 metrics.py:103] DICE score is technically 1.0, but prediction and truth arrays are empty. \n"
     ]
    },
    {
     "name": "stderr",
     "output_type": "stream",
     "text": [
      "W0502 07:44:59.022055 139661827884864 metrics.py:103] DICE score is technically 1.0, but prediction and truth arrays are empty. \n"
     ]
    },
    {
     "name": "stderr",
     "output_type": "stream",
     "text": [
      "W0502 07:44:59.035003 139661827884864 metrics.py:103] DICE score is technically 1.0, but prediction and truth arrays are empty. \n"
     ]
    },
    {
     "name": "stderr",
     "output_type": "stream",
     "text": [
      "W0502 07:44:59.047762 139661827884864 metrics.py:103] DICE score is technically 1.0, but prediction and truth arrays are empty. \n"
     ]
    },
    {
     "name": "stderr",
     "output_type": "stream",
     "text": [
      "W0502 07:44:59.060486 139661827884864 metrics.py:103] DICE score is technically 1.0, but prediction and truth arrays are empty. \n"
     ]
    },
    {
     "name": "stderr",
     "output_type": "stream",
     "text": [
      "W0502 07:44:59.073171 139661827884864 metrics.py:103] DICE score is technically 1.0, but prediction and truth arrays are empty. \n"
     ]
    },
    {
     "name": "stderr",
     "output_type": "stream",
     "text": [
      "W0502 07:44:59.089250 139661827884864 metrics.py:103] DICE score is technically 1.0, but prediction and truth arrays are empty. \n"
     ]
    },
    {
     "name": "stderr",
     "output_type": "stream",
     "text": [
      "W0502 07:44:59.109369 139661827884864 metrics.py:103] DICE score is technically 1.0, but prediction and truth arrays are empty. \n"
     ]
    },
    {
     "name": "stderr",
     "output_type": "stream",
     "text": [
      "W0502 07:44:59.129854 139661827884864 metrics.py:103] DICE score is technically 1.0, but prediction and truth arrays are empty. \n"
     ]
    },
    {
     "name": "stderr",
     "output_type": "stream",
     "text": [
      "W0502 07:44:59.149557 139661827884864 metrics.py:103] DICE score is technically 1.0, but prediction and truth arrays are empty. \n"
     ]
    },
    {
     "name": "stderr",
     "output_type": "stream",
     "text": [
      "W0502 07:44:59.163152 139661827884864 metrics.py:103] DICE score is technically 1.0, but prediction and truth arrays are empty. \n"
     ]
    },
    {
     "name": "stderr",
     "output_type": "stream",
     "text": [
      "W0502 07:44:59.176159 139661827884864 metrics.py:103] DICE score is technically 1.0, but prediction and truth arrays are empty. \n"
     ]
    },
    {
     "name": "stderr",
     "output_type": "stream",
     "text": [
      "W0502 07:44:59.188728 139661827884864 metrics.py:103] DICE score is technically 1.0, but prediction and truth arrays are empty. \n"
     ]
    },
    {
     "name": "stderr",
     "output_type": "stream",
     "text": [
      "W0502 07:44:59.201388 139661827884864 metrics.py:103] DICE score is technically 1.0, but prediction and truth arrays are empty. \n"
     ]
    },
    {
     "name": "stderr",
     "output_type": "stream",
     "text": [
      "W0502 07:44:59.214357 139661827884864 metrics.py:103] DICE score is technically 1.0, but prediction and truth arrays are empty. \n"
     ]
    },
    {
     "name": "stderr",
     "output_type": "stream",
     "text": [
      "W0502 07:44:59.227654 139661827884864 metrics.py:103] DICE score is technically 1.0, but prediction and truth arrays are empty. \n"
     ]
    },
    {
     "name": "stderr",
     "output_type": "stream",
     "text": [
      "W0502 07:44:59.240457 139661827884864 metrics.py:103] DICE score is technically 1.0, but prediction and truth arrays are empty. \n"
     ]
    },
    {
     "name": "stderr",
     "output_type": "stream",
     "text": [
      "W0502 07:44:59.253495 139661827884864 metrics.py:103] DICE score is technically 1.0, but prediction and truth arrays are empty. \n"
     ]
    },
    {
     "name": "stderr",
     "output_type": "stream",
     "text": [
      "W0502 07:44:59.266856 139661827884864 metrics.py:103] DICE score is technically 1.0, but prediction and truth arrays are empty. \n"
     ]
    },
    {
     "name": "stderr",
     "output_type": "stream",
     "text": [
      "W0502 07:44:59.281993 139661827884864 metrics.py:103] DICE score is technically 1.0, but prediction and truth arrays are empty. \n"
     ]
    },
    {
     "name": "stderr",
     "output_type": "stream",
     "text": [
      "W0502 07:44:59.697968 139661827884864 metrics.py:103] DICE score is technically 1.0, but prediction and truth arrays are empty. \n"
     ]
    },
    {
     "name": "stderr",
     "output_type": "stream",
     "text": [
      "W0502 07:44:59.710973 139661827884864 metrics.py:103] DICE score is technically 1.0, but prediction and truth arrays are empty. \n"
     ]
    },
    {
     "name": "stderr",
     "output_type": "stream",
     "text": [
      "W0502 07:44:59.723717 139661827884864 metrics.py:103] DICE score is technically 1.0, but prediction and truth arrays are empty. \n"
     ]
    },
    {
     "name": "stderr",
     "output_type": "stream",
     "text": [
      "W0502 07:44:59.736448 139661827884864 metrics.py:103] DICE score is technically 1.0, but prediction and truth arrays are empty. \n"
     ]
    },
    {
     "name": "stderr",
     "output_type": "stream",
     "text": [
      "W0502 07:44:59.749324 139661827884864 metrics.py:103] DICE score is technically 1.0, but prediction and truth arrays are empty. \n"
     ]
    },
    {
     "name": "stderr",
     "output_type": "stream",
     "text": [
      "W0502 07:44:59.762603 139661827884864 metrics.py:103] DICE score is technically 1.0, but prediction and truth arrays are empty. \n"
     ]
    },
    {
     "name": "stderr",
     "output_type": "stream",
     "text": [
      "W0502 07:44:59.775585 139661827884864 metrics.py:103] DICE score is technically 1.0, but prediction and truth arrays are empty. \n"
     ]
    },
    {
     "name": "stderr",
     "output_type": "stream",
     "text": [
      "W0502 07:44:59.788370 139661827884864 metrics.py:103] DICE score is technically 1.0, but prediction and truth arrays are empty. \n"
     ]
    },
    {
     "name": "stderr",
     "output_type": "stream",
     "text": [
      "W0502 07:44:59.801175 139661827884864 metrics.py:103] DICE score is technically 1.0, but prediction and truth arrays are empty. \n"
     ]
    },
    {
     "name": "stderr",
     "output_type": "stream",
     "text": [
      "W0502 07:44:59.813936 139661827884864 metrics.py:103] DICE score is technically 1.0, but prediction and truth arrays are empty. \n"
     ]
    },
    {
     "name": "stderr",
     "output_type": "stream",
     "text": [
      "W0502 07:44:59.826864 139661827884864 metrics.py:103] DICE score is technically 1.0, but prediction and truth arrays are empty. \n"
     ]
    },
    {
     "name": "stderr",
     "output_type": "stream",
     "text": [
      "W0502 07:44:59.839680 139661827884864 metrics.py:103] DICE score is technically 1.0, but prediction and truth arrays are empty. \n"
     ]
    },
    {
     "name": "stderr",
     "output_type": "stream",
     "text": [
      "W0502 07:44:59.852413 139661827884864 metrics.py:103] DICE score is technically 1.0, but prediction and truth arrays are empty. \n"
     ]
    },
    {
     "name": "stderr",
     "output_type": "stream",
     "text": [
      "W0502 07:44:59.865152 139661827884864 metrics.py:103] DICE score is technically 1.0, but prediction and truth arrays are empty. \n"
     ]
    },
    {
     "name": "stderr",
     "output_type": "stream",
     "text": [
      "W0502 07:44:59.877850 139661827884864 metrics.py:103] DICE score is technically 1.0, but prediction and truth arrays are empty. \n"
     ]
    },
    {
     "name": "stderr",
     "output_type": "stream",
     "text": [
      "W0502 07:44:59.890702 139661827884864 metrics.py:103] DICE score is technically 1.0, but prediction and truth arrays are empty. \n"
     ]
    },
    {
     "name": "stderr",
     "output_type": "stream",
     "text": [
      "W0502 07:44:59.903666 139661827884864 metrics.py:103] DICE score is technically 1.0, but prediction and truth arrays are empty. \n"
     ]
    },
    {
     "name": "stderr",
     "output_type": "stream",
     "text": [
      "W0502 07:44:59.916668 139661827884864 metrics.py:103] DICE score is technically 1.0, but prediction and truth arrays are empty. \n"
     ]
    },
    {
     "name": "stderr",
     "output_type": "stream",
     "text": [
      "W0502 07:44:59.929802 139661827884864 metrics.py:103] DICE score is technically 1.0, but prediction and truth arrays are empty. \n"
     ]
    },
    {
     "name": "stderr",
     "output_type": "stream",
     "text": [
      "W0502 07:44:59.943863 139661827884864 metrics.py:103] DICE score is technically 1.0, but prediction and truth arrays are empty. \n"
     ]
    },
    {
     "name": "stderr",
     "output_type": "stream",
     "text": [
      "W0502 07:44:59.963947 139661827884864 metrics.py:103] DICE score is technically 1.0, but prediction and truth arrays are empty. \n"
     ]
    },
    {
     "name": "stderr",
     "output_type": "stream",
     "text": [
      "W0502 07:44:59.983932 139661827884864 metrics.py:103] DICE score is technically 1.0, but prediction and truth arrays are empty. \n"
     ]
    },
    {
     "name": "stderr",
     "output_type": "stream",
     "text": [
      "W0502 07:44:59.999886 139661827884864 metrics.py:103] DICE score is technically 1.0, but prediction and truth arrays are empty. \n"
     ]
    },
    {
     "name": "stderr",
     "output_type": "stream",
     "text": [
      "W0502 07:45:00.013106 139661827884864 metrics.py:103] DICE score is technically 1.0, but prediction and truth arrays are empty. \n"
     ]
    },
    {
     "name": "stderr",
     "output_type": "stream",
     "text": [
      "W0502 07:45:00.025999 139661827884864 metrics.py:103] DICE score is technically 1.0, but prediction and truth arrays are empty. \n"
     ]
    },
    {
     "name": "stderr",
     "output_type": "stream",
     "text": [
      "W0502 07:45:00.038829 139661827884864 metrics.py:103] DICE score is technically 1.0, but prediction and truth arrays are empty. \n"
     ]
    },
    {
     "name": "stderr",
     "output_type": "stream",
     "text": [
      "W0502 07:45:00.051609 139661827884864 metrics.py:103] DICE score is technically 1.0, but prediction and truth arrays are empty. \n"
     ]
    },
    {
     "name": "stderr",
     "output_type": "stream",
     "text": [
      "W0502 07:45:00.064444 139661827884864 metrics.py:103] DICE score is technically 1.0, but prediction and truth arrays are empty. \n"
     ]
    },
    {
     "name": "stderr",
     "output_type": "stream",
     "text": [
      "W0502 07:45:00.077240 139661827884864 metrics.py:103] DICE score is technically 1.0, but prediction and truth arrays are empty. \n"
     ]
    },
    {
     "name": "stderr",
     "output_type": "stream",
     "text": [
      "W0502 07:45:00.089800 139661827884864 metrics.py:103] DICE score is technically 1.0, but prediction and truth arrays are empty. \n"
     ]
    },
    {
     "name": "stderr",
     "output_type": "stream",
     "text": [
      "W0502 07:45:01.674464 139661827884864 metrics.py:103] DICE score is technically 1.0, but prediction and truth arrays are empty. \n"
     ]
    },
    {
     "name": "stderr",
     "output_type": "stream",
     "text": [
      "W0502 07:45:01.687374 139661827884864 metrics.py:103] DICE score is technically 1.0, but prediction and truth arrays are empty. \n"
     ]
    },
    {
     "name": "stderr",
     "output_type": "stream",
     "text": [
      "W0502 07:45:01.700179 139661827884864 metrics.py:103] DICE score is technically 1.0, but prediction and truth arrays are empty. \n"
     ]
    },
    {
     "name": "stderr",
     "output_type": "stream",
     "text": [
      "W0502 07:45:01.712691 139661827884864 metrics.py:103] DICE score is technically 1.0, but prediction and truth arrays are empty. \n"
     ]
    },
    {
     "name": "stderr",
     "output_type": "stream",
     "text": [
      "W0502 07:45:01.725257 139661827884864 metrics.py:103] DICE score is technically 1.0, but prediction and truth arrays are empty. \n"
     ]
    },
    {
     "name": "stderr",
     "output_type": "stream",
     "text": [
      "W0502 07:45:01.737881 139661827884864 metrics.py:103] DICE score is technically 1.0, but prediction and truth arrays are empty. \n"
     ]
    },
    {
     "name": "stderr",
     "output_type": "stream",
     "text": [
      "W0502 07:45:01.750083 139661827884864 metrics.py:103] DICE score is technically 1.0, but prediction and truth arrays are empty. \n"
     ]
    },
    {
     "name": "stderr",
     "output_type": "stream",
     "text": [
      "W0502 07:45:01.763387 139661827884864 metrics.py:103] DICE score is technically 1.0, but prediction and truth arrays are empty. \n"
     ]
    },
    {
     "name": "stderr",
     "output_type": "stream",
     "text": [
      "W0502 07:45:01.776466 139661827884864 metrics.py:103] DICE score is technically 1.0, but prediction and truth arrays are empty. \n"
     ]
    },
    {
     "name": "stderr",
     "output_type": "stream",
     "text": [
      "W0502 07:45:01.788821 139661827884864 metrics.py:103] DICE score is technically 1.0, but prediction and truth arrays are empty. \n"
     ]
    },
    {
     "name": "stderr",
     "output_type": "stream",
     "text": [
      "W0502 07:45:01.801425 139661827884864 metrics.py:103] DICE score is technically 1.0, but prediction and truth arrays are empty. \n"
     ]
    },
    {
     "name": "stderr",
     "output_type": "stream",
     "text": [
      "W0502 07:45:01.814009 139661827884864 metrics.py:103] DICE score is technically 1.0, but prediction and truth arrays are empty. \n"
     ]
    },
    {
     "name": "stderr",
     "output_type": "stream",
     "text": [
      "W0502 07:45:01.826610 139661827884864 metrics.py:103] DICE score is technically 1.0, but prediction and truth arrays are empty. \n"
     ]
    },
    {
     "name": "stderr",
     "output_type": "stream",
     "text": [
      "W0502 07:45:01.839298 139661827884864 metrics.py:103] DICE score is technically 1.0, but prediction and truth arrays are empty. \n"
     ]
    },
    {
     "name": "stderr",
     "output_type": "stream",
     "text": [
      "W0502 07:45:01.851933 139661827884864 metrics.py:103] DICE score is technically 1.0, but prediction and truth arrays are empty. \n"
     ]
    },
    {
     "name": "stderr",
     "output_type": "stream",
     "text": [
      "W0502 07:45:01.864612 139661827884864 metrics.py:103] DICE score is technically 1.0, but prediction and truth arrays are empty. \n"
     ]
    },
    {
     "name": "stderr",
     "output_type": "stream",
     "text": [
      "W0502 07:45:01.877450 139661827884864 metrics.py:103] DICE score is technically 1.0, but prediction and truth arrays are empty. \n"
     ]
    },
    {
     "name": "stderr",
     "output_type": "stream",
     "text": [
      "W0502 07:45:01.890145 139661827884864 metrics.py:103] DICE score is technically 1.0, but prediction and truth arrays are empty. \n"
     ]
    },
    {
     "name": "stderr",
     "output_type": "stream",
     "text": [
      "W0502 07:45:01.902860 139661827884864 metrics.py:103] DICE score is technically 1.0, but prediction and truth arrays are empty. \n"
     ]
    },
    {
     "name": "stderr",
     "output_type": "stream",
     "text": [
      "W0502 07:45:01.915953 139661827884864 metrics.py:103] DICE score is technically 1.0, but prediction and truth arrays are empty. \n"
     ]
    },
    {
     "name": "stderr",
     "output_type": "stream",
     "text": [
      "W0502 07:45:01.928741 139661827884864 metrics.py:103] DICE score is technically 1.0, but prediction and truth arrays are empty. \n"
     ]
    },
    {
     "name": "stderr",
     "output_type": "stream",
     "text": [
      "W0502 07:45:01.941881 139661827884864 metrics.py:103] DICE score is technically 1.0, but prediction and truth arrays are empty. \n"
     ]
    },
    {
     "name": "stderr",
     "output_type": "stream",
     "text": [
      "W0502 07:45:01.955470 139661827884864 metrics.py:103] DICE score is technically 1.0, but prediction and truth arrays are empty. \n"
     ]
    },
    {
     "name": "stderr",
     "output_type": "stream",
     "text": [
      "W0502 07:45:01.968449 139661827884864 metrics.py:103] DICE score is technically 1.0, but prediction and truth arrays are empty. \n"
     ]
    },
    {
     "name": "stderr",
     "output_type": "stream",
     "text": [
      "W0502 07:45:01.981244 139661827884864 metrics.py:103] DICE score is technically 1.0, but prediction and truth arrays are empty. \n"
     ]
    },
    {
     "name": "stderr",
     "output_type": "stream",
     "text": [
      "W0502 07:45:01.994030 139661827884864 metrics.py:103] DICE score is technically 1.0, but prediction and truth arrays are empty. \n"
     ]
    },
    {
     "name": "stderr",
     "output_type": "stream",
     "text": [
      "W0502 07:45:02.007016 139661827884864 metrics.py:103] DICE score is technically 1.0, but prediction and truth arrays are empty. \n"
     ]
    },
    {
     "name": "stderr",
     "output_type": "stream",
     "text": [
      "W0502 07:45:02.019948 139661827884864 metrics.py:103] DICE score is technically 1.0, but prediction and truth arrays are empty. \n"
     ]
    },
    {
     "name": "stderr",
     "output_type": "stream",
     "text": [
      "W0502 07:45:02.032739 139661827884864 metrics.py:103] DICE score is technically 1.0, but prediction and truth arrays are empty. \n"
     ]
    },
    {
     "name": "stderr",
     "output_type": "stream",
     "text": [
      "W0502 07:45:02.045608 139661827884864 metrics.py:103] DICE score is technically 1.0, but prediction and truth arrays are empty. \n"
     ]
    },
    {
     "name": "stderr",
     "output_type": "stream",
     "text": [
      "W0502 07:45:02.774791 139661827884864 metrics.py:103] DICE score is technically 1.0, but prediction and truth arrays are empty. \n"
     ]
    },
    {
     "name": "stderr",
     "output_type": "stream",
     "text": [
      "W0502 07:45:02.787726 139661827884864 metrics.py:103] DICE score is technically 1.0, but prediction and truth arrays are empty. \n"
     ]
    },
    {
     "name": "stderr",
     "output_type": "stream",
     "text": [
      "W0502 07:45:02.800403 139661827884864 metrics.py:103] DICE score is technically 1.0, but prediction and truth arrays are empty. \n"
     ]
    },
    {
     "name": "stderr",
     "output_type": "stream",
     "text": [
      "W0502 07:45:02.813012 139661827884864 metrics.py:103] DICE score is technically 1.0, but prediction and truth arrays are empty. \n"
     ]
    },
    {
     "name": "stderr",
     "output_type": "stream",
     "text": [
      "W0502 07:45:02.825484 139661827884864 metrics.py:103] DICE score is technically 1.0, but prediction and truth arrays are empty. \n"
     ]
    },
    {
     "name": "stderr",
     "output_type": "stream",
     "text": [
      "W0502 07:45:02.838189 139661827884864 metrics.py:103] DICE score is technically 1.0, but prediction and truth arrays are empty. \n"
     ]
    },
    {
     "name": "stderr",
     "output_type": "stream",
     "text": [
      "W0502 07:45:02.851585 139661827884864 metrics.py:103] DICE score is technically 1.0, but prediction and truth arrays are empty. \n"
     ]
    },
    {
     "name": "stderr",
     "output_type": "stream",
     "text": [
      "W0502 07:45:02.864375 139661827884864 metrics.py:103] DICE score is technically 1.0, but prediction and truth arrays are empty. \n"
     ]
    },
    {
     "name": "stderr",
     "output_type": "stream",
     "text": [
      "W0502 07:45:02.877079 139661827884864 metrics.py:103] DICE score is technically 1.0, but prediction and truth arrays are empty. \n"
     ]
    },
    {
     "name": "stderr",
     "output_type": "stream",
     "text": [
      "W0502 07:45:02.889815 139661827884864 metrics.py:103] DICE score is technically 1.0, but prediction and truth arrays are empty. \n"
     ]
    },
    {
     "name": "stderr",
     "output_type": "stream",
     "text": [
      "W0502 07:45:02.902486 139661827884864 metrics.py:103] DICE score is technically 1.0, but prediction and truth arrays are empty. \n"
     ]
    },
    {
     "name": "stderr",
     "output_type": "stream",
     "text": [
      "W0502 07:45:02.915129 139661827884864 metrics.py:103] DICE score is technically 1.0, but prediction and truth arrays are empty. \n"
     ]
    },
    {
     "name": "stderr",
     "output_type": "stream",
     "text": [
      "W0502 07:45:02.927768 139661827884864 metrics.py:103] DICE score is technically 1.0, but prediction and truth arrays are empty. \n"
     ]
    },
    {
     "name": "stderr",
     "output_type": "stream",
     "text": [
      "W0502 07:45:02.940445 139661827884864 metrics.py:103] DICE score is technically 1.0, but prediction and truth arrays are empty. \n"
     ]
    },
    {
     "name": "stderr",
     "output_type": "stream",
     "text": [
      "W0502 07:45:02.953087 139661827884864 metrics.py:103] DICE score is technically 1.0, but prediction and truth arrays are empty. \n"
     ]
    },
    {
     "name": "stderr",
     "output_type": "stream",
     "text": [
      "W0502 07:45:02.965736 139661827884864 metrics.py:103] DICE score is technically 1.0, but prediction and truth arrays are empty. \n"
     ]
    },
    {
     "name": "stderr",
     "output_type": "stream",
     "text": [
      "W0502 07:45:02.978580 139661827884864 metrics.py:103] DICE score is technically 1.0, but prediction and truth arrays are empty. \n"
     ]
    },
    {
     "name": "stderr",
     "output_type": "stream",
     "text": [
      "W0502 07:45:02.991444 139661827884864 metrics.py:103] DICE score is technically 1.0, but prediction and truth arrays are empty. \n"
     ]
    },
    {
     "name": "stderr",
     "output_type": "stream",
     "text": [
      "W0502 07:45:03.004236 139661827884864 metrics.py:103] DICE score is technically 1.0, but prediction and truth arrays are empty. \n"
     ]
    },
    {
     "name": "stderr",
     "output_type": "stream",
     "text": [
      "W0502 07:45:03.017263 139661827884864 metrics.py:103] DICE score is technically 1.0, but prediction and truth arrays are empty. \n"
     ]
    },
    {
     "name": "stderr",
     "output_type": "stream",
     "text": [
      "W0502 07:45:03.030840 139661827884864 metrics.py:103] DICE score is technically 1.0, but prediction and truth arrays are empty. \n"
     ]
    },
    {
     "name": "stderr",
     "output_type": "stream",
     "text": [
      "W0502 07:45:03.043789 139661827884864 metrics.py:103] DICE score is technically 1.0, but prediction and truth arrays are empty. \n"
     ]
    },
    {
     "name": "stderr",
     "output_type": "stream",
     "text": [
      "W0502 07:45:03.057006 139661827884864 metrics.py:103] DICE score is technically 1.0, but prediction and truth arrays are empty. \n"
     ]
    },
    {
     "name": "stderr",
     "output_type": "stream",
     "text": [
      "W0502 07:45:03.069984 139661827884864 metrics.py:103] DICE score is technically 1.0, but prediction and truth arrays are empty. \n"
     ]
    },
    {
     "name": "stderr",
     "output_type": "stream",
     "text": [
      "W0502 07:45:03.082935 139661827884864 metrics.py:103] DICE score is technically 1.0, but prediction and truth arrays are empty. \n"
     ]
    },
    {
     "name": "stderr",
     "output_type": "stream",
     "text": [
      "W0502 07:45:03.096554 139661827884864 metrics.py:103] DICE score is technically 1.0, but prediction and truth arrays are empty. \n"
     ]
    },
    {
     "name": "stderr",
     "output_type": "stream",
     "text": [
      "W0502 07:45:03.109338 139661827884864 metrics.py:103] DICE score is technically 1.0, but prediction and truth arrays are empty. \n"
     ]
    },
    {
     "name": "stderr",
     "output_type": "stream",
     "text": [
      "W0502 07:45:03.122284 139661827884864 metrics.py:103] DICE score is technically 1.0, but prediction and truth arrays are empty. \n"
     ]
    },
    {
     "name": "stderr",
     "output_type": "stream",
     "text": [
      "W0502 07:45:03.135218 139661827884864 metrics.py:103] DICE score is technically 1.0, but prediction and truth arrays are empty. \n"
     ]
    },
    {
     "name": "stderr",
     "output_type": "stream",
     "text": [
      "W0502 07:45:03.172347 139661827884864 metrics.py:103] DICE score is technically 1.0, but prediction and truth arrays are empty. \n"
     ]
    },
    {
     "name": "stderr",
     "output_type": "stream",
     "text": [
      "W0502 07:45:03.185431 139661827884864 metrics.py:103] DICE score is technically 1.0, but prediction and truth arrays are empty. \n"
     ]
    },
    {
     "name": "stderr",
     "output_type": "stream",
     "text": [
      "W0502 07:45:04.022592 139661827884864 metrics.py:103] DICE score is technically 1.0, but prediction and truth arrays are empty. \n"
     ]
    },
    {
     "name": "stderr",
     "output_type": "stream",
     "text": [
      "W0502 07:45:04.035539 139661827884864 metrics.py:103] DICE score is technically 1.0, but prediction and truth arrays are empty. \n"
     ]
    },
    {
     "name": "stderr",
     "output_type": "stream",
     "text": [
      "W0502 07:45:04.083093 139661827884864 metrics.py:103] DICE score is technically 1.0, but prediction and truth arrays are empty. \n"
     ]
    },
    {
     "name": "stderr",
     "output_type": "stream",
     "text": [
      "W0502 07:45:04.155172 139661827884864 metrics.py:103] DICE score is technically 1.0, but prediction and truth arrays are empty. \n"
     ]
    },
    {
     "name": "stderr",
     "output_type": "stream",
     "text": [
      "W0502 07:45:04.168093 139661827884864 metrics.py:103] DICE score is technically 1.0, but prediction and truth arrays are empty. \n"
     ]
    },
    {
     "name": "stderr",
     "output_type": "stream",
     "text": [
      "W0502 07:45:04.180836 139661827884864 metrics.py:103] DICE score is technically 1.0, but prediction and truth arrays are empty. \n"
     ]
    },
    {
     "name": "stderr",
     "output_type": "stream",
     "text": [
      "W0502 07:45:04.193513 139661827884864 metrics.py:103] DICE score is technically 1.0, but prediction and truth arrays are empty. \n"
     ]
    },
    {
     "name": "stderr",
     "output_type": "stream",
     "text": [
      "W0502 07:45:04.206163 139661827884864 metrics.py:103] DICE score is technically 1.0, but prediction and truth arrays are empty. \n"
     ]
    },
    {
     "name": "stderr",
     "output_type": "stream",
     "text": [
      "W0502 07:45:04.218790 139661827884864 metrics.py:103] DICE score is technically 1.0, but prediction and truth arrays are empty. \n"
     ]
    },
    {
     "name": "stderr",
     "output_type": "stream",
     "text": [
      "W0502 07:45:04.254921 139661827884864 metrics.py:103] DICE score is technically 1.0, but prediction and truth arrays are empty. \n"
     ]
    },
    {
     "name": "stderr",
     "output_type": "stream",
     "text": [
      "W0502 07:45:05.265886 139661827884864 metrics.py:103] DICE score is technically 1.0, but prediction and truth arrays are empty. \n"
     ]
    },
    {
     "name": "stderr",
     "output_type": "stream",
     "text": [
      "W0502 07:45:05.282787 139661827884864 metrics.py:103] DICE score is technically 1.0, but prediction and truth arrays are empty. \n"
     ]
    },
    {
     "name": "stderr",
     "output_type": "stream",
     "text": [
      "W0502 07:45:05.302370 139661827884864 metrics.py:103] DICE score is technically 1.0, but prediction and truth arrays are empty. \n"
     ]
    },
    {
     "name": "stderr",
     "output_type": "stream",
     "text": [
      "W0502 07:45:05.321841 139661827884864 metrics.py:103] DICE score is technically 1.0, but prediction and truth arrays are empty. \n"
     ]
    },
    {
     "name": "stderr",
     "output_type": "stream",
     "text": [
      "W0502 07:45:05.340186 139661827884864 metrics.py:103] DICE score is technically 1.0, but prediction and truth arrays are empty. \n"
     ]
    },
    {
     "name": "stderr",
     "output_type": "stream",
     "text": [
      "W0502 07:45:05.353749 139661827884864 metrics.py:103] DICE score is technically 1.0, but prediction and truth arrays are empty. \n"
     ]
    },
    {
     "name": "stderr",
     "output_type": "stream",
     "text": [
      "W0502 07:45:05.365878 139661827884864 metrics.py:103] DICE score is technically 1.0, but prediction and truth arrays are empty. \n"
     ]
    },
    {
     "name": "stderr",
     "output_type": "stream",
     "text": [
      "W0502 07:45:05.377856 139661827884864 metrics.py:103] DICE score is technically 1.0, but prediction and truth arrays are empty. \n"
     ]
    },
    {
     "name": "stderr",
     "output_type": "stream",
     "text": [
      "W0502 07:45:05.389871 139661827884864 metrics.py:103] DICE score is technically 1.0, but prediction and truth arrays are empty. \n"
     ]
    },
    {
     "name": "stderr",
     "output_type": "stream",
     "text": [
      "W0502 07:45:05.402666 139661827884864 metrics.py:103] DICE score is technically 1.0, but prediction and truth arrays are empty. \n"
     ]
    },
    {
     "name": "stderr",
     "output_type": "stream",
     "text": [
      "W0502 07:45:05.422563 139661827884864 metrics.py:103] DICE score is technically 1.0, but prediction and truth arrays are empty. \n"
     ]
    },
    {
     "name": "stderr",
     "output_type": "stream",
     "text": [
      "W0502 07:45:05.436700 139661827884864 metrics.py:103] DICE score is technically 1.0, but prediction and truth arrays are empty. \n"
     ]
    },
    {
     "name": "stderr",
     "output_type": "stream",
     "text": [
      "W0502 07:45:05.450780 139661827884864 metrics.py:103] DICE score is technically 1.0, but prediction and truth arrays are empty. \n"
     ]
    },
    {
     "name": "stderr",
     "output_type": "stream",
     "text": [
      "W0502 07:45:05.464858 139661827884864 metrics.py:103] DICE score is technically 1.0, but prediction and truth arrays are empty. \n"
     ]
    },
    {
     "name": "stderr",
     "output_type": "stream",
     "text": [
      "W0502 07:45:05.479514 139661827884864 metrics.py:103] DICE score is technically 1.0, but prediction and truth arrays are empty. \n"
     ]
    },
    {
     "name": "stderr",
     "output_type": "stream",
     "text": [
      "W0502 07:45:05.493862 139661827884864 metrics.py:103] DICE score is technically 1.0, but prediction and truth arrays are empty. \n"
     ]
    },
    {
     "name": "stderr",
     "output_type": "stream",
     "text": [
      "W0502 07:45:05.508216 139661827884864 metrics.py:103] DICE score is technically 1.0, but prediction and truth arrays are empty. \n"
     ]
    },
    {
     "name": "stderr",
     "output_type": "stream",
     "text": [
      "W0502 07:45:05.522429 139661827884864 metrics.py:103] DICE score is technically 1.0, but prediction and truth arrays are empty. \n"
     ]
    },
    {
     "name": "stderr",
     "output_type": "stream",
     "text": [
      "W0502 07:45:05.536587 139661827884864 metrics.py:103] DICE score is technically 1.0, but prediction and truth arrays are empty. \n"
     ]
    },
    {
     "name": "stderr",
     "output_type": "stream",
     "text": [
      "W0502 07:45:05.551246 139661827884864 metrics.py:103] DICE score is technically 1.0, but prediction and truth arrays are empty. \n"
     ]
    },
    {
     "name": "stderr",
     "output_type": "stream",
     "text": [
      "W0502 07:45:05.565573 139661827884864 metrics.py:103] DICE score is technically 1.0, but prediction and truth arrays are empty. \n"
     ]
    },
    {
     "name": "stderr",
     "output_type": "stream",
     "text": [
      "W0502 07:45:05.579658 139661827884864 metrics.py:103] DICE score is technically 1.0, but prediction and truth arrays are empty. \n"
     ]
    },
    {
     "name": "stderr",
     "output_type": "stream",
     "text": [
      "W0502 07:45:05.593428 139661827884864 metrics.py:103] DICE score is technically 1.0, but prediction and truth arrays are empty. \n"
     ]
    },
    {
     "name": "stderr",
     "output_type": "stream",
     "text": [
      "W0502 07:45:05.606453 139661827884864 metrics.py:103] DICE score is technically 1.0, but prediction and truth arrays are empty. \n"
     ]
    },
    {
     "name": "stderr",
     "output_type": "stream",
     "text": [
      "W0502 07:45:05.619349 139661827884864 metrics.py:103] DICE score is technically 1.0, but prediction and truth arrays are empty. \n"
     ]
    },
    {
     "name": "stderr",
     "output_type": "stream",
     "text": [
      "W0502 07:45:05.632868 139661827884864 metrics.py:103] DICE score is technically 1.0, but prediction and truth arrays are empty. \n"
     ]
    },
    {
     "name": "stderr",
     "output_type": "stream",
     "text": [
      "W0502 07:45:05.646251 139661827884864 metrics.py:103] DICE score is technically 1.0, but prediction and truth arrays are empty. \n"
     ]
    },
    {
     "name": "stderr",
     "output_type": "stream",
     "text": [
      "W0502 07:45:05.660063 139661827884864 metrics.py:103] DICE score is technically 1.0, but prediction and truth arrays are empty. \n"
     ]
    },
    {
     "name": "stderr",
     "output_type": "stream",
     "text": [
      "W0502 07:45:05.672676 139661827884864 metrics.py:103] DICE score is technically 1.0, but prediction and truth arrays are empty. \n"
     ]
    },
    {
     "name": "stderr",
     "output_type": "stream",
     "text": [
      "W0502 07:45:05.685197 139661827884864 metrics.py:103] DICE score is technically 1.0, but prediction and truth arrays are empty. \n"
     ]
    },
    {
     "name": "stderr",
     "output_type": "stream",
     "text": [
      "W0502 07:45:06.122524 139661827884864 metrics.py:103] DICE score is technically 1.0, but prediction and truth arrays are empty. \n"
     ]
    },
    {
     "name": "stderr",
     "output_type": "stream",
     "text": [
      "W0502 07:45:06.135461 139661827884864 metrics.py:103] DICE score is technically 1.0, but prediction and truth arrays are empty. \n"
     ]
    },
    {
     "name": "stderr",
     "output_type": "stream",
     "text": [
      "W0502 07:45:06.147846 139661827884864 metrics.py:103] DICE score is technically 1.0, but prediction and truth arrays are empty. \n"
     ]
    },
    {
     "name": "stderr",
     "output_type": "stream",
     "text": [
      "W0502 07:45:06.160223 139661827884864 metrics.py:103] DICE score is technically 1.0, but prediction and truth arrays are empty. \n"
     ]
    },
    {
     "name": "stderr",
     "output_type": "stream",
     "text": [
      "W0502 07:45:06.172551 139661827884864 metrics.py:103] DICE score is technically 1.0, but prediction and truth arrays are empty. \n"
     ]
    },
    {
     "name": "stderr",
     "output_type": "stream",
     "text": [
      "W0502 07:45:06.184923 139661827884864 metrics.py:103] DICE score is technically 1.0, but prediction and truth arrays are empty. \n"
     ]
    },
    {
     "name": "stderr",
     "output_type": "stream",
     "text": [
      "W0502 07:45:06.197554 139661827884864 metrics.py:103] DICE score is technically 1.0, but prediction and truth arrays are empty. \n"
     ]
    },
    {
     "name": "stderr",
     "output_type": "stream",
     "text": [
      "W0502 07:45:06.210045 139661827884864 metrics.py:103] DICE score is technically 1.0, but prediction and truth arrays are empty. \n"
     ]
    },
    {
     "name": "stderr",
     "output_type": "stream",
     "text": [
      "W0502 07:45:06.222555 139661827884864 metrics.py:103] DICE score is technically 1.0, but prediction and truth arrays are empty. \n"
     ]
    },
    {
     "name": "stderr",
     "output_type": "stream",
     "text": [
      "W0502 07:45:06.235061 139661827884864 metrics.py:103] DICE score is technically 1.0, but prediction and truth arrays are empty. \n"
     ]
    },
    {
     "name": "stderr",
     "output_type": "stream",
     "text": [
      "W0502 07:45:06.247602 139661827884864 metrics.py:103] DICE score is technically 1.0, but prediction and truth arrays are empty. \n"
     ]
    },
    {
     "name": "stderr",
     "output_type": "stream",
     "text": [
      "W0502 07:45:06.260119 139661827884864 metrics.py:103] DICE score is technically 1.0, but prediction and truth arrays are empty. \n"
     ]
    },
    {
     "name": "stderr",
     "output_type": "stream",
     "text": [
      "W0502 07:45:06.272645 139661827884864 metrics.py:103] DICE score is technically 1.0, but prediction and truth arrays are empty. \n"
     ]
    },
    {
     "name": "stderr",
     "output_type": "stream",
     "text": [
      "W0502 07:45:06.285195 139661827884864 metrics.py:103] DICE score is technically 1.0, but prediction and truth arrays are empty. \n"
     ]
    },
    {
     "name": "stderr",
     "output_type": "stream",
     "text": [
      "W0502 07:45:06.297768 139661827884864 metrics.py:103] DICE score is technically 1.0, but prediction and truth arrays are empty. \n"
     ]
    },
    {
     "name": "stderr",
     "output_type": "stream",
     "text": [
      "W0502 07:45:06.311184 139661827884864 metrics.py:103] DICE score is technically 1.0, but prediction and truth arrays are empty. \n"
     ]
    },
    {
     "name": "stderr",
     "output_type": "stream",
     "text": [
      "W0502 07:45:06.324914 139661827884864 metrics.py:103] DICE score is technically 1.0, but prediction and truth arrays are empty. \n"
     ]
    },
    {
     "name": "stderr",
     "output_type": "stream",
     "text": [
      "W0502 07:45:06.338173 139661827884864 metrics.py:103] DICE score is technically 1.0, but prediction and truth arrays are empty. \n"
     ]
    },
    {
     "name": "stderr",
     "output_type": "stream",
     "text": [
      "W0502 07:45:06.351425 139661827884864 metrics.py:103] DICE score is technically 1.0, but prediction and truth arrays are empty. \n"
     ]
    },
    {
     "name": "stderr",
     "output_type": "stream",
     "text": [
      "W0502 07:45:06.365359 139661827884864 metrics.py:103] DICE score is technically 1.0, but prediction and truth arrays are empty. \n"
     ]
    },
    {
     "name": "stderr",
     "output_type": "stream",
     "text": [
      "W0502 07:45:06.381879 139661827884864 metrics.py:103] DICE score is technically 1.0, but prediction and truth arrays are empty. \n"
     ]
    },
    {
     "name": "stderr",
     "output_type": "stream",
     "text": [
      "W0502 07:45:06.395374 139661827884864 metrics.py:103] DICE score is technically 1.0, but prediction and truth arrays are empty. \n"
     ]
    },
    {
     "name": "stderr",
     "output_type": "stream",
     "text": [
      "W0502 07:45:06.408922 139661827884864 metrics.py:103] DICE score is technically 1.0, but prediction and truth arrays are empty. \n"
     ]
    },
    {
     "name": "stderr",
     "output_type": "stream",
     "text": [
      "W0502 07:45:06.421702 139661827884864 metrics.py:103] DICE score is technically 1.0, but prediction and truth arrays are empty. \n"
     ]
    },
    {
     "name": "stderr",
     "output_type": "stream",
     "text": [
      "W0502 07:45:06.434497 139661827884864 metrics.py:103] DICE score is technically 1.0, but prediction and truth arrays are empty. \n"
     ]
    },
    {
     "name": "stderr",
     "output_type": "stream",
     "text": [
      "W0502 07:45:06.447195 139661827884864 metrics.py:103] DICE score is technically 1.0, but prediction and truth arrays are empty. \n"
     ]
    },
    {
     "name": "stderr",
     "output_type": "stream",
     "text": [
      "W0502 07:45:06.459990 139661827884864 metrics.py:103] DICE score is technically 1.0, but prediction and truth arrays are empty. \n"
     ]
    },
    {
     "name": "stderr",
     "output_type": "stream",
     "text": [
      "W0502 07:45:06.472693 139661827884864 metrics.py:103] DICE score is technically 1.0, but prediction and truth arrays are empty. \n"
     ]
    },
    {
     "name": "stderr",
     "output_type": "stream",
     "text": [
      "W0502 07:45:06.486229 139661827884864 metrics.py:103] DICE score is technically 1.0, but prediction and truth arrays are empty. \n"
     ]
    },
    {
     "name": "stderr",
     "output_type": "stream",
     "text": [
      "W0502 07:45:06.504221 139661827884864 metrics.py:103] DICE score is technically 1.0, but prediction and truth arrays are empty. \n"
     ]
    },
    {
     "name": "stderr",
     "output_type": "stream",
     "text": [
      "W0502 07:45:06.970865 139661827884864 metrics.py:103] DICE score is technically 1.0, but prediction and truth arrays are empty. \n"
     ]
    },
    {
     "name": "stderr",
     "output_type": "stream",
     "text": [
      "W0502 07:45:06.983958 139661827884864 metrics.py:103] DICE score is technically 1.0, but prediction and truth arrays are empty. \n"
     ]
    },
    {
     "name": "stderr",
     "output_type": "stream",
     "text": [
      "W0502 07:45:06.997225 139661827884864 metrics.py:103] DICE score is technically 1.0, but prediction and truth arrays are empty. \n"
     ]
    },
    {
     "name": "stderr",
     "output_type": "stream",
     "text": [
      "W0502 07:45:07.010003 139661827884864 metrics.py:103] DICE score is technically 1.0, but prediction and truth arrays are empty. \n"
     ]
    },
    {
     "name": "stderr",
     "output_type": "stream",
     "text": [
      "W0502 07:45:07.022752 139661827884864 metrics.py:103] DICE score is technically 1.0, but prediction and truth arrays are empty. \n"
     ]
    },
    {
     "name": "stderr",
     "output_type": "stream",
     "text": [
      "W0502 07:45:07.036256 139661827884864 metrics.py:103] DICE score is technically 1.0, but prediction and truth arrays are empty. \n"
     ]
    },
    {
     "name": "stderr",
     "output_type": "stream",
     "text": [
      "W0502 07:45:07.049262 139661827884864 metrics.py:103] DICE score is technically 1.0, but prediction and truth arrays are empty. \n"
     ]
    },
    {
     "name": "stderr",
     "output_type": "stream",
     "text": [
      "W0502 07:45:07.062023 139661827884864 metrics.py:103] DICE score is technically 1.0, but prediction and truth arrays are empty. \n"
     ]
    },
    {
     "name": "stderr",
     "output_type": "stream",
     "text": [
      "W0502 07:45:07.074839 139661827884864 metrics.py:103] DICE score is technically 1.0, but prediction and truth arrays are empty. \n"
     ]
    },
    {
     "name": "stderr",
     "output_type": "stream",
     "text": [
      "W0502 07:45:07.087625 139661827884864 metrics.py:103] DICE score is technically 1.0, but prediction and truth arrays are empty. \n"
     ]
    },
    {
     "name": "stderr",
     "output_type": "stream",
     "text": [
      "W0502 07:45:07.100449 139661827884864 metrics.py:103] DICE score is technically 1.0, but prediction and truth arrays are empty. \n"
     ]
    },
    {
     "name": "stderr",
     "output_type": "stream",
     "text": [
      "W0502 07:45:07.113271 139661827884864 metrics.py:103] DICE score is technically 1.0, but prediction and truth arrays are empty. \n"
     ]
    },
    {
     "name": "stderr",
     "output_type": "stream",
     "text": [
      "W0502 07:45:07.126008 139661827884864 metrics.py:103] DICE score is technically 1.0, but prediction and truth arrays are empty. \n"
     ]
    },
    {
     "name": "stderr",
     "output_type": "stream",
     "text": [
      "W0502 07:45:07.138773 139661827884864 metrics.py:103] DICE score is technically 1.0, but prediction and truth arrays are empty. \n"
     ]
    },
    {
     "name": "stderr",
     "output_type": "stream",
     "text": [
      "W0502 07:45:07.151565 139661827884864 metrics.py:103] DICE score is technically 1.0, but prediction and truth arrays are empty. \n"
     ]
    },
    {
     "name": "stderr",
     "output_type": "stream",
     "text": [
      "W0502 07:45:08.706547 139661827884864 metrics.py:103] DICE score is technically 1.0, but prediction and truth arrays are empty. \n"
     ]
    },
    {
     "name": "stderr",
     "output_type": "stream",
     "text": [
      "W0502 07:45:08.720066 139661827884864 metrics.py:103] DICE score is technically 1.0, but prediction and truth arrays are empty. \n"
     ]
    },
    {
     "name": "stderr",
     "output_type": "stream",
     "text": [
      "W0502 07:45:08.733091 139661827884864 metrics.py:103] DICE score is technically 1.0, but prediction and truth arrays are empty. \n"
     ]
    },
    {
     "name": "stderr",
     "output_type": "stream",
     "text": [
      "W0502 07:45:08.746049 139661827884864 metrics.py:103] DICE score is technically 1.0, but prediction and truth arrays are empty. \n"
     ]
    },
    {
     "name": "stderr",
     "output_type": "stream",
     "text": [
      "W0502 07:45:08.759100 139661827884864 metrics.py:103] DICE score is technically 1.0, but prediction and truth arrays are empty. \n"
     ]
    },
    {
     "name": "stderr",
     "output_type": "stream",
     "text": [
      "W0502 07:45:08.772005 139661827884864 metrics.py:103] DICE score is technically 1.0, but prediction and truth arrays are empty. \n"
     ]
    },
    {
     "name": "stderr",
     "output_type": "stream",
     "text": [
      "W0502 07:45:08.784973 139661827884864 metrics.py:103] DICE score is technically 1.0, but prediction and truth arrays are empty. \n"
     ]
    },
    {
     "name": "stderr",
     "output_type": "stream",
     "text": [
      "W0502 07:45:08.797918 139661827884864 metrics.py:103] DICE score is technically 1.0, but prediction and truth arrays are empty. \n"
     ]
    },
    {
     "name": "stderr",
     "output_type": "stream",
     "text": [
      "W0502 07:45:08.810658 139661827884864 metrics.py:103] DICE score is technically 1.0, but prediction and truth arrays are empty. \n"
     ]
    },
    {
     "name": "stderr",
     "output_type": "stream",
     "text": [
      "W0502 07:45:08.823130 139661827884864 metrics.py:103] DICE score is technically 1.0, but prediction and truth arrays are empty. \n"
     ]
    },
    {
     "name": "stderr",
     "output_type": "stream",
     "text": [
      "W0502 07:45:08.838245 139661827884864 metrics.py:103] DICE score is technically 1.0, but prediction and truth arrays are empty. \n"
     ]
    },
    {
     "name": "stderr",
     "output_type": "stream",
     "text": [
      "W0502 07:45:08.855788 139661827884864 metrics.py:103] DICE score is technically 1.0, but prediction and truth arrays are empty. \n"
     ]
    },
    {
     "name": "stderr",
     "output_type": "stream",
     "text": [
      "W0502 07:45:08.870375 139661827884864 metrics.py:103] DICE score is technically 1.0, but prediction and truth arrays are empty. \n"
     ]
    },
    {
     "name": "stderr",
     "output_type": "stream",
     "text": [
      "W0502 07:45:08.883497 139661827884864 metrics.py:103] DICE score is technically 1.0, but prediction and truth arrays are empty. \n"
     ]
    },
    {
     "name": "stderr",
     "output_type": "stream",
     "text": [
      "W0502 07:45:08.896414 139661827884864 metrics.py:103] DICE score is technically 1.0, but prediction and truth arrays are empty. \n"
     ]
    },
    {
     "name": "stderr",
     "output_type": "stream",
     "text": [
      "W0502 07:45:08.909494 139661827884864 metrics.py:103] DICE score is technically 1.0, but prediction and truth arrays are empty. \n"
     ]
    },
    {
     "name": "stderr",
     "output_type": "stream",
     "text": [
      "W0502 07:45:08.922684 139661827884864 metrics.py:103] DICE score is technically 1.0, but prediction and truth arrays are empty. \n"
     ]
    },
    {
     "name": "stderr",
     "output_type": "stream",
     "text": [
      "W0502 07:45:08.935776 139661827884864 metrics.py:103] DICE score is technically 1.0, but prediction and truth arrays are empty. \n"
     ]
    },
    {
     "name": "stderr",
     "output_type": "stream",
     "text": [
      "W0502 07:45:08.948781 139661827884864 metrics.py:103] DICE score is technically 1.0, but prediction and truth arrays are empty. \n"
     ]
    },
    {
     "name": "stderr",
     "output_type": "stream",
     "text": [
      "W0502 07:45:08.961810 139661827884864 metrics.py:103] DICE score is technically 1.0, but prediction and truth arrays are empty. \n"
     ]
    },
    {
     "name": "stderr",
     "output_type": "stream",
     "text": [
      "W0502 07:45:08.974844 139661827884864 metrics.py:103] DICE score is technically 1.0, but prediction and truth arrays are empty. \n"
     ]
    },
    {
     "name": "stderr",
     "output_type": "stream",
     "text": [
      "W0502 07:45:08.987853 139661827884864 metrics.py:103] DICE score is technically 1.0, but prediction and truth arrays are empty. \n"
     ]
    },
    {
     "name": "stderr",
     "output_type": "stream",
     "text": [
      "W0502 07:45:09.001192 139661827884864 metrics.py:103] DICE score is technically 1.0, but prediction and truth arrays are empty. \n"
     ]
    },
    {
     "name": "stderr",
     "output_type": "stream",
     "text": [
      "W0502 07:45:09.016943 139661827884864 metrics.py:103] DICE score is technically 1.0, but prediction and truth arrays are empty. \n"
     ]
    },
    {
     "name": "stderr",
     "output_type": "stream",
     "text": [
      "W0502 07:45:09.036033 139661827884864 metrics.py:103] DICE score is technically 1.0, but prediction and truth arrays are empty. \n"
     ]
    },
    {
     "name": "stderr",
     "output_type": "stream",
     "text": [
      "W0502 07:45:09.050608 139661827884864 metrics.py:103] DICE score is technically 1.0, but prediction and truth arrays are empty. \n"
     ]
    },
    {
     "name": "stderr",
     "output_type": "stream",
     "text": [
      "W0502 07:45:09.064102 139661827884864 metrics.py:103] DICE score is technically 1.0, but prediction and truth arrays are empty. \n"
     ]
    },
    {
     "name": "stderr",
     "output_type": "stream",
     "text": [
      "W0502 07:45:09.077367 139661827884864 metrics.py:103] DICE score is technically 1.0, but prediction and truth arrays are empty. \n"
     ]
    },
    {
     "name": "stderr",
     "output_type": "stream",
     "text": [
      "W0502 07:45:09.090539 139661827884864 metrics.py:103] DICE score is technically 1.0, but prediction and truth arrays are empty. \n"
     ]
    },
    {
     "name": "stderr",
     "output_type": "stream",
     "text": [
      "W0502 07:45:09.103959 139661827884864 metrics.py:103] DICE score is technically 1.0, but prediction and truth arrays are empty. \n"
     ]
    },
    {
     "name": "stderr",
     "output_type": "stream",
     "text": [
      "W0502 07:45:11.320627 139661827884864 metrics.py:103] DICE score is technically 1.0, but prediction and truth arrays are empty. \n"
     ]
    },
    {
     "name": "stderr",
     "output_type": "stream",
     "text": [
      "W0502 07:45:11.383551 139661827884864 metrics.py:103] DICE score is technically 1.0, but prediction and truth arrays are empty. \n"
     ]
    },
    {
     "name": "stderr",
     "output_type": "stream",
     "text": [
      "W0502 07:45:11.444625 139661827884864 metrics.py:103] DICE score is technically 1.0, but prediction and truth arrays are empty. \n"
     ]
    },
    {
     "name": "stderr",
     "output_type": "stream",
     "text": [
      "W0502 07:45:11.509885 139661827884864 metrics.py:103] DICE score is technically 1.0, but prediction and truth arrays are empty. \n"
     ]
    },
    {
     "name": "stderr",
     "output_type": "stream",
     "text": [
      "W0502 07:45:11.523229 139661827884864 metrics.py:103] DICE score is technically 1.0, but prediction and truth arrays are empty. \n"
     ]
    },
    {
     "name": "stderr",
     "output_type": "stream",
     "text": [
      "W0502 07:45:11.536164 139661827884864 metrics.py:103] DICE score is technically 1.0, but prediction and truth arrays are empty. \n"
     ]
    },
    {
     "name": "stderr",
     "output_type": "stream",
     "text": [
      "W0502 07:45:11.549199 139661827884864 metrics.py:103] DICE score is technically 1.0, but prediction and truth arrays are empty. \n"
     ]
    },
    {
     "name": "stderr",
     "output_type": "stream",
     "text": [
      "W0502 07:45:11.562144 139661827884864 metrics.py:103] DICE score is technically 1.0, but prediction and truth arrays are empty. \n"
     ]
    },
    {
     "name": "stderr",
     "output_type": "stream",
     "text": [
      "W0502 07:45:11.648969 139661827884864 metrics.py:103] DICE score is technically 1.0, but prediction and truth arrays are empty. \n"
     ]
    },
    {
     "name": "stderr",
     "output_type": "stream",
     "text": [
      "W0502 07:45:16.176799 139661827884864 metrics.py:103] DICE score is technically 1.0, but prediction and truth arrays are empty. \n"
     ]
    },
    {
     "name": "stderr",
     "output_type": "stream",
     "text": [
      "W0502 07:45:18.614167 139661827884864 metrics.py:103] DICE score is technically 1.0, but prediction and truth arrays are empty. \n"
     ]
    },
    {
     "name": "stderr",
     "output_type": "stream",
     "text": [
      "W0502 07:45:18.627546 139661827884864 metrics.py:103] DICE score is technically 1.0, but prediction and truth arrays are empty. \n"
     ]
    },
    {
     "name": "stderr",
     "output_type": "stream",
     "text": [
      "W0502 07:45:18.675657 139661827884864 metrics.py:103] DICE score is technically 1.0, but prediction and truth arrays are empty. \n"
     ]
    },
    {
     "name": "stderr",
     "output_type": "stream",
     "text": [
      "W0502 07:45:18.700907 139661827884864 metrics.py:103] DICE score is technically 1.0, but prediction and truth arrays are empty. \n"
     ]
    },
    {
     "name": "stderr",
     "output_type": "stream",
     "text": [
      "W0502 07:45:18.713913 139661827884864 metrics.py:103] DICE score is technically 1.0, but prediction and truth arrays are empty. \n"
     ]
    },
    {
     "name": "stderr",
     "output_type": "stream",
     "text": [
      "W0502 07:45:18.751419 139661827884864 metrics.py:103] DICE score is technically 1.0, but prediction and truth arrays are empty. \n"
     ]
    },
    {
     "name": "stdout",
     "output_type": "stream",
     "text": [
      "\n",
      "____________Object-based statistics____________\n",
      "\n",
      "Number of true cells:\t\t 39608\n",
      "Number of predicted cells:\t 38711\n",
      "\n",
      "Correct detections:  37406\tRecall: 94.4405170672591367519999039359390735626220703125%\n",
      "Incorrect detections: 1305\tPrecision: 96.6288651804396749867009930312633514404296875%\n",
      "\n",
      "Gained detections: 1054\tPerc Error: 34.64825772518080526651829131878912448883056640625%\n",
      "Missed detections: 1759\tPerc Error: 57.82380013149244035730589530430734157562255859375%\n",
      "Merges: 208\t\tPerc Error: 6.83760683760683729559559651534073054790496826171875%\n",
      "Splits: 18\t\tPerc Error: 0.59171597633136097105222006575786508619785308837890625%\n",
      "Catastrophes: 3\t\tPerc Error: 0.098619329388560161842036677626310847699642181396484375%\n",
      "\n",
      "Gained detections from splits: 19\n",
      "Missed detections from merges: 211\n",
      "True detections involved in catastrophes: 6\n",
      "Predicted detections involved in catastrophes: 6 \n",
      "\n",
      "Average Pixel IOU (Jaccard Index): 0.834016837719330883516022367984987795352935791015625 \n",
      "\n"
     ]
    }
   ],
   "source": [
    "from deepcell_toolbox import retinamask_postprocess\n",
    "from deepcell_toolbox.deep_watershed import deep_watershed as watershed_postprocess \n",
    "from functools import partial\n",
    "from scipy import ndimage\n",
    "\n",
    "if model_type == 'watershed':\n",
    "    postprocessing_fn = watershed_postprocess\n",
    "elif model_type == 'pixelwise':\n",
    "    def pixelwise(prediction, threshold=.5):\n",
    "        \"\"\"Post-processing for pixelwise transform predictions.\n",
    "        Uses the interior predictions to uniquely label every instance.\n",
    "        Args:\n",
    "            prediction: pixelwise transform prediction\n",
    "            threshold: confidence threshold for interior predictions\n",
    "        Returns:\n",
    "            post-processed data with each cell uniquely annotated\n",
    "        \"\"\"\n",
    "        labeled = []\n",
    "        for b in range(prediction.shape[0]):\n",
    "            pred = prediction[b]\n",
    "            interior = pred[..., 1] > threshold\n",
    "            data = np.expand_dims(interior, axis=-1)\n",
    "            label_image = ndimage.label(data)[0]\n",
    "            labeled.append(label_image)\n",
    "        labeled = np.stack(labeled, axis=0)\n",
    "        return labeled\n",
    "    postprocessing_fn = pixelwise\n",
    "elif model_type == 'retinamask':\n",
    "    postprocessing_fn = partial(retinamask_postprocess, image_shape=(128,128))\n",
    "    \n",
    "model_trainer = ModelTrainer(model,\n",
    "                            model_name,\n",
    "                            model_path,\n",
    "                            train_data,\n",
    "                            val_data,\n",
    "                            benchmarking_data = test_dict,\n",
    "                            postprocessing_fn=postprocessing_fn,\n",
    "                            predict_batch_size=32,\n",
    "                            dataset_metadata=dataset_metadata,\n",
    "                            training_kwargs=training_kwargs)\n",
    "\n",
    "model_trainer.create_model()"
   ]
  },
  {
   "cell_type": "code",
   "execution_count": null,
   "metadata": {
    "papermill": {
     "duration": 0.592275,
     "end_time": "2020-05-02T07:45:29.384349",
     "exception": false,
     "start_time": "2020-05-02T07:45:28.792074",
     "status": "completed"
    },
    "tags": []
   },
   "outputs": [],
   "source": []
  }
 ],
 "metadata": {
  "kernelspec": {
   "display_name": "Python 3",
   "language": "python",
   "name": "python3"
  },
  "language_info": {
   "codemirror_mode": {
    "name": "ipython",
    "version": 3
   },
   "file_extension": ".py",
   "mimetype": "text/x-python",
   "name": "python",
   "nbconvert_exporter": "python",
   "pygments_lexer": "ipython3",
   "version": "3.6.8"
  },
  "papermill": {
   "duration": 15784.447356,
   "end_time": "2020-05-02T07:45:35.010140",
   "environment_variables": {},
   "exception": null,
   "input_path": "/notebooks/papermill/Papermill - Nuclear Accuracy - Proper Split.ipynb",
   "output_path": "/notebooks/05012020/nuclear_1_1_mobilenetv2_watershed_training_notebook.ipynb",
   "parameters": {
    "backbone": "mobilenetv2",
    "batch_size": 16,
    "dataset_fraction": 1,
    "date": "05012020",
    "filename": "nuclear_1_1_mobilenetv2_watershed",
    "model_type": "watershed",
    "n_epochs": 16,
    "train_permutation_seed": 1
   },
   "start_time": "2020-05-02T03:22:30.562784",
   "version": "1.2.1"
  }
 },
 "nbformat": 4,
 "nbformat_minor": 2
}