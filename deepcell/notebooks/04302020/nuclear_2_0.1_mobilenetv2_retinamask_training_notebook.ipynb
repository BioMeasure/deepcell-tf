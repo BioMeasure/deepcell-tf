{
 "cells": [
  {
   "cell_type": "markdown",
   "metadata": {
    "papermill": {
     "duration": 0.014307,
     "end_time": "2020-04-30T18:53:05.636514",
     "exception": false,
     "start_time": "2020-04-30T18:53:05.622207",
     "status": "completed"
    },
    "tags": []
   },
   "source": [
    "# General nuclear segmentation training notebook\n",
    "\n",
    "This notebook trains a model to perform nuclear segmentation of fluorescent microscopy images."
   ]
  },
  {
   "cell_type": "markdown",
   "metadata": {
    "papermill": {
     "duration": 0.012342,
     "end_time": "2020-04-30T18:53:05.665663",
     "exception": false,
     "start_time": "2020-04-30T18:53:05.653321",
     "status": "completed"
    },
    "tags": []
   },
   "source": [
    "## Part 1: Import relevant python packages\n",
    "\n",
    "This section imports python packages that are used throughout the notebook and defines parameters that can be used with papermill"
   ]
  },
  {
   "cell_type": "code",
   "execution_count": 1,
   "metadata": {
    "papermill": {
     "duration": 2.974915,
     "end_time": "2020-04-30T18:53:08.656001",
     "exception": false,
     "start_time": "2020-04-30T18:53:05.681086",
     "status": "completed"
    },
    "tags": []
   },
   "outputs": [],
   "source": [
    "import os\n",
    "import errno\n",
    "\n",
    "import numpy as np\n",
    "\n",
    "import tensorflow as tf\n",
    "gpus = tf.config.experimental.list_physical_devices('GPU')\n",
    "for gpu in gpus:\n",
    "      tf.config.experimental.set_memory_growth(gpu, True)\n",
    "        \n",
    "import deepcell"
   ]
  },
  {
   "cell_type": "code",
   "execution_count": 2,
   "metadata": {
    "papermill": {
     "duration": 0.022725,
     "end_time": "2020-04-30T18:53:08.692705",
     "exception": false,
     "start_time": "2020-04-30T18:53:08.669980",
     "status": "completed"
    },
    "tags": [
     "parameters"
    ]
   },
   "outputs": [],
   "source": [
    "# Define parameters that can be set with papermill\n",
    "backbone = 'resnet50'\n",
    "dataset_name='general_nuclear'\n",
    "n_epochs = 8\n",
    "date = '04242020'\n",
    "dataset_fraction = .01\n",
    "train_test_seed = 0\n",
    "train_permutation_seed = 0\n",
    "train_val_seed=314\n",
    "model_type = 'watershed'\n",
    "batch_size = 4 if model_type == 'retinamask' else 16"
   ]
  },
  {
   "cell_type": "code",
   "execution_count": 3,
   "metadata": {
    "papermill": {
     "duration": 0.018968,
     "end_time": "2020-04-30T18:53:08.723882",
     "exception": false,
     "start_time": "2020-04-30T18:53:08.704914",
     "status": "completed"
    },
    "tags": [
     "injected-parameters"
    ]
   },
   "outputs": [],
   "source": [
    "# Parameters\n",
    "n_epochs = 16\n",
    "batch_size = 4\n",
    "date = \"04302020\"\n",
    "filename = \"nuclear_2_0.1_mobilenetv2_retinamask\"\n",
    "train_permutation_seed = 2\n",
    "dataset_fraction = 0.1\n",
    "backbone = \"mobilenetv2\"\n",
    "model_type = \"retinamask\"\n"
   ]
  },
  {
   "cell_type": "markdown",
   "metadata": {
    "papermill": {
     "duration": 0.011384,
     "end_time": "2020-04-30T18:53:08.746996",
     "exception": false,
     "start_time": "2020-04-30T18:53:08.735612",
     "status": "completed"
    },
    "tags": []
   },
   "source": [
    "## Part 2: Load training data and create data generators\n",
    "\n",
    "Data generators augment data and feed it into the model training process. Here, we define the generators that will be used to train our segmentation model."
   ]
  },
  {
   "cell_type": "code",
   "execution_count": 4,
   "metadata": {
    "papermill": {
     "duration": 64.322889,
     "end_time": "2020-04-30T18:54:13.081819",
     "exception": false,
     "start_time": "2020-04-30T18:53:08.758930",
     "status": "completed"
    },
    "scrolled": false,
    "tags": []
   },
   "outputs": [
    {
     "name": "stdout",
     "output_type": "stream",
     "text": [
      "(180, 40, 216, 256, 1) (180, 40, 216, 256, 1)\n"
     ]
    },
    {
     "name": "stdout",
     "output_type": "stream",
     "text": [
      "(259, 30, 135, 160, 1) (259, 30, 135, 160, 1)\n"
     ]
    },
    {
     "name": "stdout",
     "output_type": "stream",
     "text": [
      "(240, 30, 154, 182, 1) (240, 30, 154, 182, 1)\n"
     ]
    },
    {
     "name": "stdout",
     "output_type": "stream",
     "text": [
      "(124, 30, 202, 240, 1) (124, 30, 202, 240, 1)\n"
     ]
    },
    {
     "name": "stdout",
     "output_type": "stream",
     "text": [
      "Reshaped feature data from (11, 40, 216, 256, 1) to (44, 40, 128, 128, 1)\n",
      "Reshaped training data from (11, 40, 216, 256, 1) to (44, 40, 128, 128, 1)\n"
     ]
    },
    {
     "name": "stdout",
     "output_type": "stream",
     "text": [
      "Reshaped feature data from (13, 30, 135, 160, 1) to (52, 30, 128, 128, 1)\n",
      "Reshaped training data from (13, 30, 135, 160, 1) to (52, 30, 128, 128, 1)\n"
     ]
    },
    {
     "name": "stdout",
     "output_type": "stream",
     "text": [
      "Reshaped feature data from (18, 30, 154, 182, 1) to (72, 30, 128, 128, 1)\n",
      "Reshaped training data from (18, 30, 154, 182, 1) to (72, 30, 128, 128, 1)\n"
     ]
    },
    {
     "name": "stdout",
     "output_type": "stream",
     "text": [
      "Reshaped feature data from (10, 30, 202, 240, 1) to (40, 30, 128, 128, 1)\n",
      "Reshaped training data from (10, 30, 202, 240, 1) to (40, 30, 128, 128, 1)\n"
     ]
    },
    {
     "name": "stdout",
     "output_type": "stream",
     "text": [
      "Reshaped feature data from (2, 40, 216, 256, 1) to (8, 40, 128, 128, 1)\n",
      "Reshaped training data from (2, 40, 216, 256, 1) to (8, 40, 128, 128, 1)\n"
     ]
    },
    {
     "name": "stdout",
     "output_type": "stream",
     "text": [
      "Reshaped feature data from (8, 30, 135, 160, 1) to (32, 30, 128, 128, 1)\n",
      "Reshaped training data from (8, 30, 135, 160, 1) to (32, 30, 128, 128, 1)\n",
      "Reshaped feature data from (1, 30, 154, 182, 1) to (4, 30, 128, 128, 1)\n",
      "Reshaped training data from (1, 30, 154, 182, 1) to (4, 30, 128, 128, 1)\n"
     ]
    },
    {
     "name": "stdout",
     "output_type": "stream",
     "text": [
      "Reshaped feature data from (1, 30, 202, 240, 1) to (4, 30, 128, 128, 1)\n",
      "Reshaped training data from (1, 30, 202, 240, 1) to (4, 30, 128, 128, 1)\n"
     ]
    },
    {
     "name": "stdout",
     "output_type": "stream",
     "text": [
      "Reshaped feature data from (36, 40, 128, 128, 1) to (36, 40, 128, 128, 1)\n",
      "Reshaped training data from (36, 40, 128, 128, 1) to (36, 40, 128, 128, 1)\n"
     ]
    },
    {
     "name": "stdout",
     "output_type": "stream",
     "text": [
      "Reshaped feature data from (52, 30, 128, 128, 1) to (52, 30, 128, 128, 1)\n",
      "Reshaped training data from (52, 30, 128, 128, 1) to (52, 30, 128, 128, 1)\n"
     ]
    },
    {
     "name": "stdout",
     "output_type": "stream",
     "text": [
      "Reshaped feature data from (48, 30, 128, 128, 1) to (48, 30, 128, 128, 1)\n",
      "Reshaped training data from (48, 30, 128, 128, 1) to (48, 30, 128, 128, 1)\n"
     ]
    },
    {
     "name": "stdout",
     "output_type": "stream",
     "text": [
      "Reshaped feature data from (25, 30, 202, 240, 1) to (100, 30, 128, 128, 1)\n",
      "Reshaped training data from (25, 30, 202, 240, 1) to (100, 30, 128, 128, 1)\n"
     ]
    },
    {
     "name": "stdout",
     "output_type": "stream",
     "text": [
      "(6680, 128, 128, 1) (6680, 128, 128, 1) (1520, 128, 128, 1) (1520, 128, 128, 1)\n",
      "Number of training tracks 747\n",
      "Number of validation tracks 233\n",
      "Number of testing tracks 1925\n",
      "Number of training cells 18426\n",
      "Number of validation cells 5081\n",
      "Number of testing cells 42731\n"
     ]
    }
   ],
   "source": [
    "from deepcell.utils.data_utils import get_data, reshape_movie\n",
    "from deepcell import image_generators\n",
    "from deepcell.utils import train_utils\n",
    "from sklearn.model_selection import train_test_split\n",
    "from deepcell_tracking.utils import load_trks\n",
    "\n",
    "# Helper function - get unique tracks\n",
    "def get_n_tracks(array):\n",
    "    # array with dims (batch, time, x, y, c)\n",
    "    n_tracks = 0\n",
    "    for b in array:\n",
    "        n_tracks += len(np.unique(b)) - 1\n",
    "    return n_tracks\n",
    "\n",
    "# Helper function - get unique cells\n",
    "def get_n_cells(array):\n",
    "    # array with dims (batch, time, x, y, c)\n",
    "    n_cells = 0\n",
    "    for b in array:\n",
    "        for t in b:\n",
    "            n_cells += len(np.unique(t)) - 1\n",
    "    return n_cells\n",
    "\n",
    "# Helper function - convert indices\n",
    "def convert_indices(indices, X_list):\n",
    "    N_batches = np.array([x.shape[0] for x in X_list])\n",
    "    N_cumsum = np.cumsum(N_batches)\n",
    "    converted_index = []\n",
    "    for i in range(len(X_list)):\n",
    "        if i==0:\n",
    "            i_index = indices[indices < N_cumsum[i]]\n",
    "            converted_index.append(i_index)\n",
    "        else:\n",
    "            i_index = indices[np.logical_and(indices < N_cumsum[i], indices >= N_cumsum[i-1])] - N_cumsum[i-1]\n",
    "            converted_index.append(i_index)    \n",
    "    return converted_index\n",
    "\n",
    "# Helper function - reshape movies\n",
    "def reshape_list_of_movies(X_list, y_list, reshape_size=128, crop=False):\n",
    "    X_reshape = []\n",
    "    y_reshape = []\n",
    "    for Xl, yl in zip(X_list, y_list):\n",
    "        Xr, yr = reshape_movie(Xl, yl, reshape_size=reshape_size)\n",
    "        Xr = Xr.reshape((-1, reshape_size, reshape_size, Xr.shape[-1]))\n",
    "        yr = yr.reshape((-1, reshape_size, reshape_size, yr.shape[-1]))\n",
    "        X_reshape.append(Xr)\n",
    "        y_reshape.append(yr)\n",
    "    X_reshape = np.concatenate(X_reshape, axis=0)\n",
    "    y_reshape = np.concatenate(y_reshape, axis=0)\n",
    "    \n",
    "    return X_reshape, y_reshape\n",
    "\n",
    "# Load datasets \n",
    "dataset_direc = '/data/training_data/'\n",
    "\n",
    "hela_filename = 'HeLa_S3.trks'\n",
    "hek_filename = 'HEK293.trks'\n",
    "nih_filename = '3T3_NIH.trks'\n",
    "raw_filename = 'RAW2647.trks'\n",
    "\n",
    "filenames = [hela_filename, hek_filename, nih_filename, raw_filename]\n",
    "\n",
    "X_train = []\n",
    "y_train = []\n",
    "\n",
    "X_test = []\n",
    "y_test = []\n",
    "\n",
    "for filename in filenames:\n",
    "    path = os.path.join(dataset_direc, filename)\n",
    "    training_data = load_trks(path)\n",
    "    X = training_data['X']\n",
    "    y = training_data['y']\n",
    "    \n",
    "    print(X.shape, y.shape)\n",
    "    \n",
    "    # Split into training and testing dataset\n",
    "    Xt, Xtest, yt, ytest = train_test_split(X, y, test_size=0.2, random_state=train_test_seed)\n",
    "    \n",
    "    # Crop test dataset\n",
    "    X_test = [arr[:,:,0:128,0:128,:] for arr in X_test]\n",
    "    y_test = [arr[:,:,0:128,0:128,:] for arr in y_test]\n",
    "    \n",
    "    X_train.append(Xt)\n",
    "    y_train.append(yt)\n",
    "    X_test.append(Xtest)\n",
    "    y_test.append(ytest)\n",
    "    \n",
    "# Select subset of the training data\n",
    "N_batches = sum([x.shape[0] for x in X_train])\n",
    "index = np.arange(N_batches)\n",
    "dataset_size = int(dataset_fraction * N_batches)\n",
    "permuted_index = np.random.RandomState(seed=train_permutation_seed).permutation(index)\n",
    "reduced_index = permuted_index[0:dataset_size]\n",
    "converted_index = convert_indices(reduced_index, X_train)\n",
    "\n",
    "X_reduced = [x[ci] for x, ci in zip(X_train, converted_index)]\n",
    "y_reduced = [y[ci] for y, ci in zip(y_train, converted_index)]\n",
    "\n",
    "# Split into training and validation datasets\n",
    "N_batches = sum([x.shape[0] for x in X_reduced])\n",
    "index = np.arange(N_batches)\n",
    "val_size = int(0.2 * N_batches)\n",
    "permuted_index = np.random.RandomState(seed=train_val_seed).permutation(index)\n",
    "val_index = permuted_index[0:val_size]\n",
    "train_index = permuted_index[val_size:]\n",
    "\n",
    "val_ci = convert_indices(val_index, X_reduced)\n",
    "train_ci = convert_indices(train_index, X_reduced)\n",
    "\n",
    "X_train = [x[ci] for x, ci in zip(X_reduced, train_ci)]\n",
    "y_train = [y[ci] for y, ci in zip(y_reduced, train_ci)]\n",
    "\n",
    "X_val = [x[ci] for x, ci in zip(X_reduced, val_ci)]\n",
    "y_val = [y[ci] for y, ci in zip(y_reduced, val_ci)]\n",
    "    \n",
    "# Record the number of tracks and cells\n",
    "n_tracks_train = sum([get_n_tracks(y) for y in y_train])\n",
    "n_tracks_val = sum([get_n_tracks(y) for y in y_val])\n",
    "n_tracks_test = sum([get_n_tracks(y) for y in y_test])\n",
    "\n",
    "n_cells_train = sum([get_n_cells(y) for y in y_train])\n",
    "n_cells_val = sum([get_n_cells(y) for y in y_val])\n",
    "n_cells_test = sum([get_n_cells(y) for y in y_test])\n",
    "    \n",
    "# Reshape the datasets\n",
    "X_train, y_train = reshape_list_of_movies(X_train, y_train)\n",
    "X_val, y_val = reshape_list_of_movies(X_val, y_val)\n",
    "X_test, y_test = reshape_list_of_movies(X_test, y_test)\n",
    "\n",
    "train_dict = {'X':X_train, 'y':y_train}\n",
    "val_dict = {'X':X_val, 'y':y_val}\n",
    "test_dict = {'X':X_test, 'y':y_test}\n",
    "\n",
    "print(X_train.shape, y_train.shape, X_val.shape, y_val.shape)\n",
    "print('Number of training tracks {}'.format(n_tracks_train))\n",
    "print('Number of validation tracks {}'.format(n_tracks_val))\n",
    "print('Number of testing tracks {}'.format(n_tracks_test))\n",
    "\n",
    "print('Number of training cells {}'.format(n_cells_train))\n",
    "print('Number of validation cells {}'.format(n_cells_val))\n",
    "print('Number of testing cells {}'.format(n_cells_test))"
   ]
  },
  {
   "cell_type": "code",
   "execution_count": 5,
   "metadata": {
    "papermill": {
     "duration": 2.362204,
     "end_time": "2020-04-30T18:54:15.462182",
     "exception": false,
     "start_time": "2020-04-30T18:54:13.099978",
     "status": "completed"
    },
    "tags": []
   },
   "outputs": [
    {
     "name": "stderr",
     "output_type": "stream",
     "text": [
      "WARNING: Logging before flag parsing goes to stderr.\n",
      "W0430 18:54:14.564471 140594404546368 retinanet.py:357] Removing 1281 of 6680 images with fewer than 3 objects.\n"
     ]
    },
    {
     "name": "stderr",
     "output_type": "stream",
     "text": [
      "W0430 18:54:15.343963 140594404546368 retinanet.py:357] Removing 244 of 1520 images with fewer than 3 objects.\n"
     ]
    }
   ],
   "source": [
    "from deepcell.utils.retinanet_anchor_utils import generate_anchor_params\n",
    "from tensorflow.python.keras import backend as K\n",
    "\n",
    "# Get anchor settings for RetinaMask models\n",
    "pyramid_levels = ['P3', 'P4']\n",
    "anchor_size_dict = {'P3':16, 'P4':32}\n",
    "anchor_params = generate_anchor_params(pyramid_levels, anchor_size_dict)\n",
    "\n",
    "# Data augmentation parameters\n",
    "generator_kwargs = {}\n",
    "generator_kwargs['rotation_range'] = 180\n",
    "generator_kwargs['shear_range'] = 0\n",
    "generator_kwargs['zoom_range'] = 0.25\n",
    "generator_kwargs['horizontal_flip'] = True\n",
    "generator_kwargs['vertical_flip'] = True\n",
    "\n",
    "generator_val_kwargs = {}\n",
    "generator_val_kwargs['rotation_range'] = 0\n",
    "generator_val_kwargs['shear_range'] = 0\n",
    "generator_val_kwargs['zoom_range'] = 0\n",
    "generator_val_kwargs['horizontal_flip'] = False\n",
    "generator_val_kwargs['vertical_flip'] = False\n",
    "\n",
    "# Minimum number of objects in an image\n",
    "min_objects = 3 if model_type == 'retinamask' else 0\n",
    "\n",
    "# Random seed\n",
    "seed=808\n",
    "\n",
    "if model_type == 'watershed':\n",
    "    datagen = image_generators.SemanticDataGenerator(**generator_kwargs)\n",
    "    datagen_val = image_generators.SemanticDataGenerator(**generator_val_kwargs)\n",
    "    \n",
    "    train_data = datagen.flow(\n",
    "        train_dict,\n",
    "        seed=seed,\n",
    "        transforms=['centroid', 'watershed-cont', 'fgbg'],\n",
    "        transforms_kwargs={'watershed-cont': {'erosion_width': 1}, 'centroid': {'alpha':'auto', 'beta':0.5}},\n",
    "        min_objects=min_objects,\n",
    "        batch_size=batch_size)\n",
    "\n",
    "    val_data = datagen_val.flow(\n",
    "        val_dict,\n",
    "        seed=seed,\n",
    "        transforms=['centroid', 'watershed-cont', 'fgbg'],\n",
    "        transforms_kwargs={'watershed-cont': {'erosion_width': 1}, 'centroid': {'alpha':'auto', 'beta':0.5}},\n",
    "        min_objects=min_objects,\n",
    "        batch_size=batch_size)\n",
    "    \n",
    "elif model_type == 'pixelwise':\n",
    "    datagen = image_generators.SemanticDataGenerator(**generator_kwargs)\n",
    "    datagen_val = image_generators.SemanticDataGenerator(**generator_val_kwargs)\n",
    "    \n",
    "    train_data = datagen.flow(\n",
    "        train_dict,\n",
    "        seed=seed,\n",
    "        transforms=['pixelwise'],\n",
    "        transforms_kwargs={},\n",
    "        min_objects=min_objects,\n",
    "        batch_size=batch_size)\n",
    "\n",
    "    val_data = datagen_val.flow(\n",
    "        val_dict,\n",
    "        seed=seed,\n",
    "        transforms=['pixelwise'],\n",
    "        transforms_kwargs={},\n",
    "        min_objects=min_objects,\n",
    "        batch_size=batch_size)\n",
    "\n",
    "elif model_type == 'retinamask':\n",
    "    datagen = image_generators.RetinaNetGenerator(**generator_kwargs)\n",
    "    datagen_val = image_generators.RetinaNetGenerator(**generator_val_kwargs)\n",
    "    \n",
    "    train_data = datagen.flow(\n",
    "        train_dict=train_dict,\n",
    "        seed=seed,\n",
    "        transforms=[],\n",
    "        transforms_kwargs={},\n",
    "        min_objects=min_objects,\n",
    "        batch_size=batch_size,\n",
    "        anchor_params=anchor_params,\n",
    "        pyramid_levels=pyramid_levels,\n",
    "        include_masks=True)\n",
    "    \n",
    "    val_data = datagen_val.flow(\n",
    "        train_dict=val_dict,\n",
    "        seed=seed,\n",
    "        transforms=[],\n",
    "        transforms_kwargs={},\n",
    "        min_objects=min_objects,\n",
    "        batch_size=batch_size,\n",
    "        anchor_params=anchor_params,\n",
    "        pyramid_levels=pyramid_levels,\n",
    "        include_masks=True)\n",
    "    "
   ]
  },
  {
   "cell_type": "markdown",
   "metadata": {
    "papermill": {
     "duration": 0.028935,
     "end_time": "2020-04-30T18:54:15.511051",
     "exception": false,
     "start_time": "2020-04-30T18:54:15.482116",
     "status": "completed"
    },
    "tags": []
   },
   "source": [
    "## Part 3: Define model\n",
    "\n",
    "Here we define a PanopticNet to perform the image segmentation. This model will predict the inner distance and outer distance transform (as done in ), as well as the foreground-background transform."
   ]
  },
  {
   "cell_type": "code",
   "execution_count": 6,
   "metadata": {
    "papermill": {
     "duration": 33.656053,
     "end_time": "2020-04-30T18:54:49.204319",
     "exception": false,
     "start_time": "2020-04-30T18:54:15.548266",
     "status": "completed"
    },
    "scrolled": true,
    "tags": []
   },
   "outputs": [
    {
     "name": "stderr",
     "output_type": "stream",
     "text": [
      "W0430 18:54:15.595624 140594404546368 deprecation.py:506] From /usr/local/lib/python3.6/dist-packages/tensorflow/python/ops/init_ops.py:1251: calling VarianceScaling.__init__ (from tensorflow.python.ops.init_ops) with dtype is deprecated and will be removed in a future version.\n",
      "Instructions for updating:\n",
      "Call initializer instance with the dtype argument instead of passing it to the constructor\n"
     ]
    },
    {
     "name": "stderr",
     "output_type": "stream",
     "text": [
      "/usr/local/lib/python3.6/dist-packages/keras_applications/mobilenet_v2.py:294: UserWarning: `input_shape` is undefined or non-square, or `rows` is not in [96, 128, 160, 192, 224]. Weights for input shape (224, 224) will be loaded as the default.\n",
      "  warnings.warn('`input_shape` is undefined or non-square, '\n"
     ]
    },
    {
     "name": "stderr",
     "output_type": "stream",
     "text": [
      "W0430 18:54:41.336805 140594404546368 deprecation.py:506] From /usr/local/lib/python3.6/dist-packages/tensorflow/python/keras/initializers.py:143: calling RandomNormal.__init__ (from tensorflow.python.ops.init_ops) with dtype is deprecated and will be removed in a future version.\n",
      "Instructions for updating:\n",
      "Call initializer instance with the dtype argument instead of passing it to the constructor\n"
     ]
    },
    {
     "name": "stderr",
     "output_type": "stream",
     "text": [
      "W0430 18:54:47.219143 140594404546368 deprecation.py:323] From /usr/local/lib/python3.6/dist-packages/tensorflow/python/autograph/impl/api.py:255: add_dispatch_support.<locals>.wrapper (from tensorflow.python.ops.array_ops) is deprecated and will be removed in a future version.\n",
      "Instructions for updating:\n",
      "Use tf.where in 2.0, which has the same broadcast rule as np.where\n"
     ]
    },
    {
     "name": "stderr",
     "output_type": "stream",
     "text": [
      "W0430 18:54:48.246999 140594404546368 deprecation.py:506] From /usr/local/lib/python3.6/dist-packages/tensorflow/python/autograph/impl/api.py:255: calling crop_and_resize_v1 (from tensorflow.python.ops.image_ops_impl) with box_ind is deprecated and will be removed in a future version.\n",
      "Instructions for updating:\n",
      "box_ind is deprecated, use box_indices instead\n"
     ]
    },
    {
     "name": "stderr",
     "output_type": "stream",
     "text": [
      "W0430 18:54:48.557818 140594404546368 training_utils.py:1101] Output filtered_detections missing from loss dictionary. We assume this was done on purpose. The fit and evaluate APIs will not be expecting any data to be passed to filtered_detections.\n"
     ]
    },
    {
     "name": "stderr",
     "output_type": "stream",
     "text": [
      "W0430 18:54:48.558764 140594404546368 training_utils.py:1101] Output filtered_detections_1 missing from loss dictionary. We assume this was done on purpose. The fit and evaluate APIs will not be expecting any data to be passed to filtered_detections_1.\n"
     ]
    },
    {
     "name": "stderr",
     "output_type": "stream",
     "text": [
      "W0430 18:54:48.559458 140594404546368 training_utils.py:1101] Output filtered_detections_2 missing from loss dictionary. We assume this was done on purpose. The fit and evaluate APIs will not be expecting any data to be passed to filtered_detections_2.\n"
     ]
    },
    {
     "name": "stderr",
     "output_type": "stream",
     "text": [
      "W0430 18:54:48.560781 140594404546368 training_utils.py:1101] Output mask_submodel missing from loss dictionary. We assume this was done on purpose. The fit and evaluate APIs will not be expecting any data to be passed to mask_submodel.\n"
     ]
    },
    {
     "name": "stdout",
     "output_type": "stream",
     "text": [
      "Model: \"mobilenetv2_retinanet_mask\"\n",
      "__________________________________________________________________________________________________\n",
      "Layer (type)                    Output Shape         Param #     Connected to                     \n",
      "==================================================================================================\n",
      "input_1 (InputLayer)            [(None, 128, 128, 1) 0                                            \n",
      "__________________________________________________________________________________________________\n",
      "image_normalization2d (ImageNor (None, 128, 128, 1)  0           input_1[0][0]                    \n",
      "__________________________________________________________________________________________________\n",
      "tensor_product (TensorProduct)  (None, 128, 128, 3)  6           image_normalization2d[0][0]      \n",
      "__________________________________________________________________________________________________\n",
      "Conv1_pad (ZeroPadding2D)       (None, 129, 129, 3)  0           tensor_product[0][0]             \n",
      "__________________________________________________________________________________________________\n",
      "Conv1 (Conv2D)                  (None, 64, 64, 32)   864         Conv1_pad[0][0]                  \n",
      "__________________________________________________________________________________________________\n",
      "bn_Conv1 (BatchNormalization)   (None, 64, 64, 32)   128         Conv1[0][0]                      \n",
      "__________________________________________________________________________________________________\n",
      "Conv1_relu (ReLU)               (None, 64, 64, 32)   0           bn_Conv1[0][0]                   \n",
      "__________________________________________________________________________________________________\n",
      "expanded_conv_depthwise (Depthw (None, 64, 64, 32)   288         Conv1_relu[0][0]                 \n",
      "__________________________________________________________________________________________________\n",
      "expanded_conv_depthwise_BN (Bat (None, 64, 64, 32)   128         expanded_conv_depthwise[0][0]    \n",
      "__________________________________________________________________________________________________\n",
      "expanded_conv_depthwise_relu (R (None, 64, 64, 32)   0           expanded_conv_depthwise_BN[0][0] \n",
      "__________________________________________________________________________________________________\n",
      "expanded_conv_project (Conv2D)  (None, 64, 64, 16)   512         expanded_conv_depthwise_relu[0][0\n",
      "__________________________________________________________________________________________________\n",
      "expanded_conv_project_BN (Batch (None, 64, 64, 16)   64          expanded_conv_project[0][0]      \n",
      "__________________________________________________________________________________________________\n",
      "block_1_expand (Conv2D)         (None, 64, 64, 96)   1536        expanded_conv_project_BN[0][0]   \n",
      "__________________________________________________________________________________________________\n",
      "block_1_expand_BN (BatchNormali (None, 64, 64, 96)   384         block_1_expand[0][0]             \n",
      "__________________________________________________________________________________________________\n",
      "block_1_expand_relu (ReLU)      (None, 64, 64, 96)   0           block_1_expand_BN[0][0]          \n",
      "__________________________________________________________________________________________________\n",
      "block_1_pad (ZeroPadding2D)     (None, 65, 65, 96)   0           block_1_expand_relu[0][0]        \n",
      "__________________________________________________________________________________________________\n",
      "block_1_depthwise (DepthwiseCon (None, 32, 32, 96)   864         block_1_pad[0][0]                \n",
      "__________________________________________________________________________________________________\n",
      "block_1_depthwise_BN (BatchNorm (None, 32, 32, 96)   384         block_1_depthwise[0][0]          \n",
      "__________________________________________________________________________________________________\n",
      "block_1_depthwise_relu (ReLU)   (None, 32, 32, 96)   0           block_1_depthwise_BN[0][0]       \n",
      "__________________________________________________________________________________________________\n",
      "block_1_project (Conv2D)        (None, 32, 32, 24)   2304        block_1_depthwise_relu[0][0]     \n",
      "__________________________________________________________________________________________________\n",
      "block_1_project_BN (BatchNormal (None, 32, 32, 24)   96          block_1_project[0][0]            \n",
      "__________________________________________________________________________________________________\n",
      "block_2_expand (Conv2D)         (None, 32, 32, 144)  3456        block_1_project_BN[0][0]         \n",
      "__________________________________________________________________________________________________\n",
      "block_2_expand_BN (BatchNormali (None, 32, 32, 144)  576         block_2_expand[0][0]             \n",
      "__________________________________________________________________________________________________\n",
      "block_2_expand_relu (ReLU)      (None, 32, 32, 144)  0           block_2_expand_BN[0][0]          \n",
      "__________________________________________________________________________________________________\n",
      "block_2_depthwise (DepthwiseCon (None, 32, 32, 144)  1296        block_2_expand_relu[0][0]        \n",
      "__________________________________________________________________________________________________\n",
      "block_2_depthwise_BN (BatchNorm (None, 32, 32, 144)  576         block_2_depthwise[0][0]          \n",
      "__________________________________________________________________________________________________\n",
      "block_2_depthwise_relu (ReLU)   (None, 32, 32, 144)  0           block_2_depthwise_BN[0][0]       \n",
      "__________________________________________________________________________________________________\n",
      "block_2_project (Conv2D)        (None, 32, 32, 24)   3456        block_2_depthwise_relu[0][0]     \n",
      "__________________________________________________________________________________________________\n",
      "block_2_project_BN (BatchNormal (None, 32, 32, 24)   96          block_2_project[0][0]            \n",
      "__________________________________________________________________________________________________\n",
      "block_2_add (Add)               (None, 32, 32, 24)   0           block_1_project_BN[0][0]         \n",
      "                                                                 block_2_project_BN[0][0]         \n",
      "__________________________________________________________________________________________________\n",
      "block_3_expand (Conv2D)         (None, 32, 32, 144)  3456        block_2_add[0][0]                \n",
      "__________________________________________________________________________________________________\n",
      "block_3_expand_BN (BatchNormali (None, 32, 32, 144)  576         block_3_expand[0][0]             \n",
      "__________________________________________________________________________________________________\n",
      "block_3_expand_relu (ReLU)      (None, 32, 32, 144)  0           block_3_expand_BN[0][0]          \n",
      "__________________________________________________________________________________________________\n",
      "block_3_pad (ZeroPadding2D)     (None, 33, 33, 144)  0           block_3_expand_relu[0][0]        \n",
      "__________________________________________________________________________________________________\n",
      "block_3_depthwise (DepthwiseCon (None, 16, 16, 144)  1296        block_3_pad[0][0]                \n",
      "__________________________________________________________________________________________________\n",
      "block_3_depthwise_BN (BatchNorm (None, 16, 16, 144)  576         block_3_depthwise[0][0]          \n",
      "__________________________________________________________________________________________________\n",
      "block_3_depthwise_relu (ReLU)   (None, 16, 16, 144)  0           block_3_depthwise_BN[0][0]       \n",
      "__________________________________________________________________________________________________\n",
      "block_3_project (Conv2D)        (None, 16, 16, 32)   4608        block_3_depthwise_relu[0][0]     \n",
      "__________________________________________________________________________________________________\n",
      "block_3_project_BN (BatchNormal (None, 16, 16, 32)   128         block_3_project[0][0]            \n",
      "__________________________________________________________________________________________________\n",
      "block_4_expand (Conv2D)         (None, 16, 16, 192)  6144        block_3_project_BN[0][0]         \n",
      "__________________________________________________________________________________________________\n",
      "block_4_expand_BN (BatchNormali (None, 16, 16, 192)  768         block_4_expand[0][0]             \n",
      "__________________________________________________________________________________________________\n",
      "block_4_expand_relu (ReLU)      (None, 16, 16, 192)  0           block_4_expand_BN[0][0]          \n",
      "__________________________________________________________________________________________________\n",
      "block_4_depthwise (DepthwiseCon (None, 16, 16, 192)  1728        block_4_expand_relu[0][0]        \n",
      "__________________________________________________________________________________________________\n",
      "block_4_depthwise_BN (BatchNorm (None, 16, 16, 192)  768         block_4_depthwise[0][0]          \n",
      "__________________________________________________________________________________________________\n",
      "block_4_depthwise_relu (ReLU)   (None, 16, 16, 192)  0           block_4_depthwise_BN[0][0]       \n",
      "__________________________________________________________________________________________________\n",
      "block_4_project (Conv2D)        (None, 16, 16, 32)   6144        block_4_depthwise_relu[0][0]     \n",
      "__________________________________________________________________________________________________\n",
      "block_4_project_BN (BatchNormal (None, 16, 16, 32)   128         block_4_project[0][0]            \n",
      "__________________________________________________________________________________________________\n",
      "block_4_add (Add)               (None, 16, 16, 32)   0           block_3_project_BN[0][0]         \n",
      "                                                                 block_4_project_BN[0][0]         \n",
      "__________________________________________________________________________________________________\n",
      "block_5_expand (Conv2D)         (None, 16, 16, 192)  6144        block_4_add[0][0]                \n",
      "__________________________________________________________________________________________________\n",
      "block_5_expand_BN (BatchNormali (None, 16, 16, 192)  768         block_5_expand[0][0]             \n",
      "__________________________________________________________________________________________________\n",
      "block_5_expand_relu (ReLU)      (None, 16, 16, 192)  0           block_5_expand_BN[0][0]          \n",
      "__________________________________________________________________________________________________\n",
      "block_5_depthwise (DepthwiseCon (None, 16, 16, 192)  1728        block_5_expand_relu[0][0]        \n",
      "__________________________________________________________________________________________________\n",
      "block_5_depthwise_BN (BatchNorm (None, 16, 16, 192)  768         block_5_depthwise[0][0]          \n",
      "__________________________________________________________________________________________________\n",
      "block_5_depthwise_relu (ReLU)   (None, 16, 16, 192)  0           block_5_depthwise_BN[0][0]       \n",
      "__________________________________________________________________________________________________\n",
      "block_5_project (Conv2D)        (None, 16, 16, 32)   6144        block_5_depthwise_relu[0][0]     \n",
      "__________________________________________________________________________________________________\n",
      "block_5_project_BN (BatchNormal (None, 16, 16, 32)   128         block_5_project[0][0]            \n",
      "__________________________________________________________________________________________________\n",
      "block_5_add (Add)               (None, 16, 16, 32)   0           block_4_add[0][0]                \n",
      "                                                                 block_5_project_BN[0][0]         \n",
      "__________________________________________________________________________________________________\n",
      "block_6_expand (Conv2D)         (None, 16, 16, 192)  6144        block_5_add[0][0]                \n",
      "__________________________________________________________________________________________________\n",
      "block_6_expand_BN (BatchNormali (None, 16, 16, 192)  768         block_6_expand[0][0]             \n",
      "__________________________________________________________________________________________________\n",
      "block_6_expand_relu (ReLU)      (None, 16, 16, 192)  0           block_6_expand_BN[0][0]          \n",
      "__________________________________________________________________________________________________\n",
      "block_6_pad (ZeroPadding2D)     (None, 17, 17, 192)  0           block_6_expand_relu[0][0]        \n",
      "__________________________________________________________________________________________________\n",
      "block_6_depthwise (DepthwiseCon (None, 8, 8, 192)    1728        block_6_pad[0][0]                \n",
      "__________________________________________________________________________________________________\n",
      "block_6_depthwise_BN (BatchNorm (None, 8, 8, 192)    768         block_6_depthwise[0][0]          \n",
      "__________________________________________________________________________________________________\n",
      "block_6_depthwise_relu (ReLU)   (None, 8, 8, 192)    0           block_6_depthwise_BN[0][0]       \n",
      "__________________________________________________________________________________________________\n",
      "block_6_project (Conv2D)        (None, 8, 8, 64)     12288       block_6_depthwise_relu[0][0]     \n",
      "__________________________________________________________________________________________________\n",
      "block_6_project_BN (BatchNormal (None, 8, 8, 64)     256         block_6_project[0][0]            \n",
      "__________________________________________________________________________________________________\n",
      "block_7_expand (Conv2D)         (None, 8, 8, 384)    24576       block_6_project_BN[0][0]         \n",
      "__________________________________________________________________________________________________\n",
      "block_7_expand_BN (BatchNormali (None, 8, 8, 384)    1536        block_7_expand[0][0]             \n",
      "__________________________________________________________________________________________________\n",
      "block_7_expand_relu (ReLU)      (None, 8, 8, 384)    0           block_7_expand_BN[0][0]          \n",
      "__________________________________________________________________________________________________\n",
      "block_7_depthwise (DepthwiseCon (None, 8, 8, 384)    3456        block_7_expand_relu[0][0]        \n",
      "__________________________________________________________________________________________________\n",
      "block_7_depthwise_BN (BatchNorm (None, 8, 8, 384)    1536        block_7_depthwise[0][0]          \n",
      "__________________________________________________________________________________________________\n",
      "block_7_depthwise_relu (ReLU)   (None, 8, 8, 384)    0           block_7_depthwise_BN[0][0]       \n",
      "__________________________________________________________________________________________________\n",
      "block_7_project (Conv2D)        (None, 8, 8, 64)     24576       block_7_depthwise_relu[0][0]     \n",
      "__________________________________________________________________________________________________\n",
      "block_7_project_BN (BatchNormal (None, 8, 8, 64)     256         block_7_project[0][0]            \n",
      "__________________________________________________________________________________________________\n",
      "block_7_add (Add)               (None, 8, 8, 64)     0           block_6_project_BN[0][0]         \n",
      "                                                                 block_7_project_BN[0][0]         \n",
      "__________________________________________________________________________________________________\n",
      "block_8_expand (Conv2D)         (None, 8, 8, 384)    24576       block_7_add[0][0]                \n",
      "__________________________________________________________________________________________________\n",
      "block_8_expand_BN (BatchNormali (None, 8, 8, 384)    1536        block_8_expand[0][0]             \n",
      "__________________________________________________________________________________________________\n",
      "block_8_expand_relu (ReLU)      (None, 8, 8, 384)    0           block_8_expand_BN[0][0]          \n",
      "__________________________________________________________________________________________________\n",
      "block_8_depthwise (DepthwiseCon (None, 8, 8, 384)    3456        block_8_expand_relu[0][0]        \n",
      "__________________________________________________________________________________________________\n",
      "block_8_depthwise_BN (BatchNorm (None, 8, 8, 384)    1536        block_8_depthwise[0][0]          \n",
      "__________________________________________________________________________________________________\n",
      "block_8_depthwise_relu (ReLU)   (None, 8, 8, 384)    0           block_8_depthwise_BN[0][0]       \n",
      "__________________________________________________________________________________________________\n",
      "block_8_project (Conv2D)        (None, 8, 8, 64)     24576       block_8_depthwise_relu[0][0]     \n",
      "__________________________________________________________________________________________________\n",
      "block_8_project_BN (BatchNormal (None, 8, 8, 64)     256         block_8_project[0][0]            \n",
      "__________________________________________________________________________________________________\n",
      "block_8_add (Add)               (None, 8, 8, 64)     0           block_7_add[0][0]                \n",
      "                                                                 block_8_project_BN[0][0]         \n",
      "__________________________________________________________________________________________________\n",
      "block_9_expand (Conv2D)         (None, 8, 8, 384)    24576       block_8_add[0][0]                \n",
      "__________________________________________________________________________________________________\n",
      "block_9_expand_BN (BatchNormali (None, 8, 8, 384)    1536        block_9_expand[0][0]             \n",
      "__________________________________________________________________________________________________\n",
      "block_9_expand_relu (ReLU)      (None, 8, 8, 384)    0           block_9_expand_BN[0][0]          \n",
      "__________________________________________________________________________________________________\n",
      "block_9_depthwise (DepthwiseCon (None, 8, 8, 384)    3456        block_9_expand_relu[0][0]        \n",
      "__________________________________________________________________________________________________\n",
      "block_9_depthwise_BN (BatchNorm (None, 8, 8, 384)    1536        block_9_depthwise[0][0]          \n",
      "__________________________________________________________________________________________________\n",
      "block_9_depthwise_relu (ReLU)   (None, 8, 8, 384)    0           block_9_depthwise_BN[0][0]       \n",
      "__________________________________________________________________________________________________\n",
      "block_9_project (Conv2D)        (None, 8, 8, 64)     24576       block_9_depthwise_relu[0][0]     \n",
      "__________________________________________________________________________________________________\n",
      "block_9_project_BN (BatchNormal (None, 8, 8, 64)     256         block_9_project[0][0]            \n",
      "__________________________________________________________________________________________________\n",
      "block_9_add (Add)               (None, 8, 8, 64)     0           block_8_add[0][0]                \n",
      "                                                                 block_9_project_BN[0][0]         \n",
      "__________________________________________________________________________________________________\n",
      "block_10_expand (Conv2D)        (None, 8, 8, 384)    24576       block_9_add[0][0]                \n",
      "__________________________________________________________________________________________________\n",
      "block_10_expand_BN (BatchNormal (None, 8, 8, 384)    1536        block_10_expand[0][0]            \n",
      "__________________________________________________________________________________________________\n",
      "block_10_expand_relu (ReLU)     (None, 8, 8, 384)    0           block_10_expand_BN[0][0]         \n",
      "__________________________________________________________________________________________________\n",
      "block_10_depthwise (DepthwiseCo (None, 8, 8, 384)    3456        block_10_expand_relu[0][0]       \n",
      "__________________________________________________________________________________________________\n",
      "block_10_depthwise_BN (BatchNor (None, 8, 8, 384)    1536        block_10_depthwise[0][0]         \n",
      "__________________________________________________________________________________________________\n",
      "block_10_depthwise_relu (ReLU)  (None, 8, 8, 384)    0           block_10_depthwise_BN[0][0]      \n",
      "__________________________________________________________________________________________________\n",
      "block_10_project (Conv2D)       (None, 8, 8, 96)     36864       block_10_depthwise_relu[0][0]    \n",
      "__________________________________________________________________________________________________\n",
      "block_10_project_BN (BatchNorma (None, 8, 8, 96)     384         block_10_project[0][0]           \n",
      "__________________________________________________________________________________________________\n",
      "block_11_expand (Conv2D)        (None, 8, 8, 576)    55296       block_10_project_BN[0][0]        \n",
      "__________________________________________________________________________________________________\n",
      "block_11_expand_BN (BatchNormal (None, 8, 8, 576)    2304        block_11_expand[0][0]            \n",
      "__________________________________________________________________________________________________\n",
      "block_11_expand_relu (ReLU)     (None, 8, 8, 576)    0           block_11_expand_BN[0][0]         \n",
      "__________________________________________________________________________________________________\n",
      "block_11_depthwise (DepthwiseCo (None, 8, 8, 576)    5184        block_11_expand_relu[0][0]       \n",
      "__________________________________________________________________________________________________\n",
      "block_11_depthwise_BN (BatchNor (None, 8, 8, 576)    2304        block_11_depthwise[0][0]         \n",
      "__________________________________________________________________________________________________\n",
      "block_11_depthwise_relu (ReLU)  (None, 8, 8, 576)    0           block_11_depthwise_BN[0][0]      \n",
      "__________________________________________________________________________________________________\n",
      "block_11_project (Conv2D)       (None, 8, 8, 96)     55296       block_11_depthwise_relu[0][0]    \n",
      "__________________________________________________________________________________________________\n",
      "block_11_project_BN (BatchNorma (None, 8, 8, 96)     384         block_11_project[0][0]           \n",
      "__________________________________________________________________________________________________\n",
      "block_11_add (Add)              (None, 8, 8, 96)     0           block_10_project_BN[0][0]        \n",
      "                                                                 block_11_project_BN[0][0]        \n",
      "__________________________________________________________________________________________________\n",
      "block_12_expand (Conv2D)        (None, 8, 8, 576)    55296       block_11_add[0][0]               \n",
      "__________________________________________________________________________________________________\n",
      "block_12_expand_BN (BatchNormal (None, 8, 8, 576)    2304        block_12_expand[0][0]            \n",
      "__________________________________________________________________________________________________\n",
      "block_12_expand_relu (ReLU)     (None, 8, 8, 576)    0           block_12_expand_BN[0][0]         \n",
      "__________________________________________________________________________________________________\n",
      "block_12_depthwise (DepthwiseCo (None, 8, 8, 576)    5184        block_12_expand_relu[0][0]       \n",
      "__________________________________________________________________________________________________\n",
      "block_12_depthwise_BN (BatchNor (None, 8, 8, 576)    2304        block_12_depthwise[0][0]         \n",
      "__________________________________________________________________________________________________\n",
      "block_12_depthwise_relu (ReLU)  (None, 8, 8, 576)    0           block_12_depthwise_BN[0][0]      \n",
      "__________________________________________________________________________________________________\n",
      "block_12_project (Conv2D)       (None, 8, 8, 96)     55296       block_12_depthwise_relu[0][0]    \n",
      "__________________________________________________________________________________________________\n",
      "block_12_project_BN (BatchNorma (None, 8, 8, 96)     384         block_12_project[0][0]           \n",
      "__________________________________________________________________________________________________\n",
      "block_12_add (Add)              (None, 8, 8, 96)     0           block_11_add[0][0]               \n",
      "                                                                 block_12_project_BN[0][0]        \n",
      "__________________________________________________________________________________________________\n",
      "block_13_expand (Conv2D)        (None, 8, 8, 576)    55296       block_12_add[0][0]               \n",
      "__________________________________________________________________________________________________\n",
      "block_13_expand_BN (BatchNormal (None, 8, 8, 576)    2304        block_13_expand[0][0]            \n",
      "__________________________________________________________________________________________________\n",
      "block_13_expand_relu (ReLU)     (None, 8, 8, 576)    0           block_13_expand_BN[0][0]         \n",
      "__________________________________________________________________________________________________\n",
      "block_13_pad (ZeroPadding2D)    (None, 9, 9, 576)    0           block_13_expand_relu[0][0]       \n",
      "__________________________________________________________________________________________________\n",
      "block_13_depthwise (DepthwiseCo (None, 4, 4, 576)    5184        block_13_pad[0][0]               \n",
      "__________________________________________________________________________________________________\n",
      "block_13_depthwise_BN (BatchNor (None, 4, 4, 576)    2304        block_13_depthwise[0][0]         \n",
      "__________________________________________________________________________________________________\n",
      "block_13_depthwise_relu (ReLU)  (None, 4, 4, 576)    0           block_13_depthwise_BN[0][0]      \n",
      "__________________________________________________________________________________________________\n",
      "block_13_project (Conv2D)       (None, 4, 4, 160)    92160       block_13_depthwise_relu[0][0]    \n",
      "__________________________________________________________________________________________________\n",
      "block_13_project_BN (BatchNorma (None, 4, 4, 160)    640         block_13_project[0][0]           \n",
      "__________________________________________________________________________________________________\n",
      "block_14_expand (Conv2D)        (None, 4, 4, 960)    153600      block_13_project_BN[0][0]        \n",
      "__________________________________________________________________________________________________\n",
      "block_14_expand_BN (BatchNormal (None, 4, 4, 960)    3840        block_14_expand[0][0]            \n",
      "__________________________________________________________________________________________________\n",
      "block_14_expand_relu (ReLU)     (None, 4, 4, 960)    0           block_14_expand_BN[0][0]         \n",
      "__________________________________________________________________________________________________\n",
      "block_14_depthwise (DepthwiseCo (None, 4, 4, 960)    8640        block_14_expand_relu[0][0]       \n",
      "__________________________________________________________________________________________________\n",
      "block_14_depthwise_BN (BatchNor (None, 4, 4, 960)    3840        block_14_depthwise[0][0]         \n",
      "__________________________________________________________________________________________________\n",
      "block_14_depthwise_relu (ReLU)  (None, 4, 4, 960)    0           block_14_depthwise_BN[0][0]      \n",
      "__________________________________________________________________________________________________\n",
      "block_14_project (Conv2D)       (None, 4, 4, 160)    153600      block_14_depthwise_relu[0][0]    \n",
      "__________________________________________________________________________________________________\n",
      "block_14_project_BN (BatchNorma (None, 4, 4, 160)    640         block_14_project[0][0]           \n",
      "__________________________________________________________________________________________________\n",
      "block_14_add (Add)              (None, 4, 4, 160)    0           block_13_project_BN[0][0]        \n",
      "                                                                 block_14_project_BN[0][0]        \n",
      "__________________________________________________________________________________________________\n",
      "block_15_expand (Conv2D)        (None, 4, 4, 960)    153600      block_14_add[0][0]               \n",
      "__________________________________________________________________________________________________\n",
      "block_15_expand_BN (BatchNormal (None, 4, 4, 960)    3840        block_15_expand[0][0]            \n",
      "__________________________________________________________________________________________________\n",
      "block_15_expand_relu (ReLU)     (None, 4, 4, 960)    0           block_15_expand_BN[0][0]         \n",
      "__________________________________________________________________________________________________\n",
      "block_15_depthwise (DepthwiseCo (None, 4, 4, 960)    8640        block_15_expand_relu[0][0]       \n",
      "__________________________________________________________________________________________________\n",
      "block_15_depthwise_BN (BatchNor (None, 4, 4, 960)    3840        block_15_depthwise[0][0]         \n",
      "__________________________________________________________________________________________________\n",
      "block_15_depthwise_relu (ReLU)  (None, 4, 4, 960)    0           block_15_depthwise_BN[0][0]      \n",
      "__________________________________________________________________________________________________\n",
      "block_15_project (Conv2D)       (None, 4, 4, 160)    153600      block_15_depthwise_relu[0][0]    \n",
      "__________________________________________________________________________________________________\n",
      "block_15_project_BN (BatchNorma (None, 4, 4, 160)    640         block_15_project[0][0]           \n",
      "__________________________________________________________________________________________________\n",
      "block_15_add (Add)              (None, 4, 4, 160)    0           block_14_add[0][0]               \n",
      "                                                                 block_15_project_BN[0][0]        \n",
      "__________________________________________________________________________________________________\n",
      "block_16_expand (Conv2D)        (None, 4, 4, 960)    153600      block_15_add[0][0]               \n",
      "__________________________________________________________________________________________________\n",
      "block_16_expand_BN (BatchNormal (None, 4, 4, 960)    3840        block_16_expand[0][0]            \n",
      "__________________________________________________________________________________________________\n",
      "block_16_expand_relu (ReLU)     (None, 4, 4, 960)    0           block_16_expand_BN[0][0]         \n",
      "__________________________________________________________________________________________________\n",
      "block_16_depthwise (DepthwiseCo (None, 4, 4, 960)    8640        block_16_expand_relu[0][0]       \n",
      "__________________________________________________________________________________________________\n",
      "block_16_depthwise_BN (BatchNor (None, 4, 4, 960)    3840        block_16_depthwise[0][0]         \n",
      "__________________________________________________________________________________________________\n",
      "block_16_depthwise_relu (ReLU)  (None, 4, 4, 960)    0           block_16_depthwise_BN[0][0]      \n",
      "__________________________________________________________________________________________________\n",
      "block_16_project (Conv2D)       (None, 4, 4, 320)    307200      block_16_depthwise_relu[0][0]    \n",
      "__________________________________________________________________________________________________\n",
      "block_16_project_BN (BatchNorma (None, 4, 4, 320)    1280        block_16_project[0][0]           \n",
      "__________________________________________________________________________________________________\n",
      "C5_reduced (Conv2D)             (None, 4, 4, 256)    82176       block_16_project_BN[0][0]        \n",
      "__________________________________________________________________________________________________\n",
      "C4_reduced (Conv2D)             (None, 8, 8, 256)    24832       block_12_add[0][0]               \n",
      "__________________________________________________________________________________________________\n",
      "P5_upsampled (UpsampleLike)     (None, None, None, 2 0           C5_reduced[0][0]                 \n",
      "                                                                 block_12_add[0][0]               \n",
      "__________________________________________________________________________________________________\n",
      "P4_merged (Add)                 (None, 8, 8, 256)    0           C4_reduced[0][0]                 \n",
      "                                                                 P5_upsampled[0][0]               \n",
      "__________________________________________________________________________________________________\n",
      "C3_reduced (Conv2D)             (None, 16, 16, 256)  8448        block_5_add[0][0]                \n",
      "__________________________________________________________________________________________________\n",
      "P4_upsampled (UpsampleLike)     (None, None, None, 2 0           P4_merged[0][0]                  \n",
      "                                                                 block_5_add[0][0]                \n",
      "__________________________________________________________________________________________________\n",
      "P3_merged (Add)                 (None, 16, 16, 256)  0           C3_reduced[0][0]                 \n",
      "                                                                 P4_upsampled[0][0]               \n",
      "__________________________________________________________________________________________________\n",
      "P3 (Conv2D)                     (None, 16, 16, 256)  590080      P3_merged[0][0]                  \n",
      "__________________________________________________________________________________________________\n",
      "P4 (Conv2D)                     (None, 8, 8, 256)    590080      P4_merged[0][0]                  \n",
      "__________________________________________________________________________________________________\n",
      "regression_submodel (Model)     (None, None, 4)      2443300     P3[0][0]                         \n",
      "                                                                 P4[0][0]                         \n",
      "__________________________________________________________________________________________________\n",
      "anchors_0 (Anchors)             (None, None, 4)      36          P3[0][0]                         \n",
      "__________________________________________________________________________________________________\n",
      "anchors_1 (Anchors)             (None, None, 4)      36          P4[0][0]                         \n",
      "__________________________________________________________________________________________________\n",
      "regression (Concatenate)        (None, None, 4)      0           regression_submodel[1][0]        \n",
      "                                                                 regression_submodel[2][0]        \n",
      "__________________________________________________________________________________________________\n",
      "anchors (Concatenate)           (None, None, 4)      0           anchors_0[0][0]                  \n",
      "                                                                 anchors_1[0][0]                  \n",
      "__________________________________________________________________________________________________\n",
      "classification_submodel (Model) (None, None, 1)      2381065     P3[0][0]                         \n",
      "                                                                 P4[0][0]                         \n",
      "__________________________________________________________________________________________________\n",
      "boxes (RegressBoxes)            (None, None, 4)      0           anchors[0][0]                    \n",
      "                                                                 regression[0][0]                 \n",
      "__________________________________________________________________________________________________\n",
      "classification (Concatenate)    (None, None, 1)      0           classification_submodel[1][0]    \n",
      "                                                                 classification_submodel[2][0]    \n",
      "__________________________________________________________________________________________________\n",
      "clipped_boxes (ClipBoxes)       (None, None, 4)      0           input_1[0][0]                    \n",
      "                                                                 boxes[0][0]                      \n",
      "__________________________________________________________________________________________________\n",
      "filtered_detections (FilterDete [(None, 100, 4), (No 0           clipped_boxes[0][0]              \n",
      "                                                                 classification[0][0]             \n",
      "__________________________________________________________________________________________________\n",
      "upsample_like (UpsampleLike)    (None, None, None, 2 0           P3[0][0]                         \n",
      "                                                                 input_1[0][0]                    \n",
      "__________________________________________________________________________________________________\n",
      "roi_align (RoiAlign)            (None, 100, 14, 14,  0           filtered_detections[0][0]        \n",
      "                                                                 upsample_like[0][0]              \n",
      "__________________________________________________________________________________________________\n",
      "mask_submodel (Model)           multiple             2950657     roi_align[0][0]                  \n",
      "__________________________________________________________________________________________________\n",
      "masks (ConcatenateBoxes)        (None, 100, None)    0           filtered_detections[0][0]        \n",
      "                                                                 mask_submodel[1][0]              \n",
      "==================================================================================================\n",
      "Total params: 10,913,980\n",
      "Trainable params: 10,882,428\n",
      "Non-trainable params: 31,552\n",
      "__________________________________________________________________________________________________\n"
     ]
    }
   ],
   "source": [
    "from deepcell.model_zoo.panopticnet import PanopticNet\n",
    "from deepcell.model_zoo.retinamask import RetinaMask\n",
    "from deepcell import losses\n",
    "from tensorflow.keras.optimizers import Adam\n",
    "from tensorflow.python.keras.losses import MSE\n",
    "\n",
    "# Define optimizer\n",
    "optimizer = Adam(lr=1e-4, clipnorm=0.001)\n",
    "    \n",
    "if model_type == 'watershed':\n",
    "    model = PanopticNet(backbone,\n",
    "                       input_shape=train_data.x.shape[1:],\n",
    "                       norm_method='whole_image',\n",
    "                       num_semantic_heads=3,\n",
    "                       num_semantic_classes=[1,1,2],\n",
    "                       location=True,\n",
    "                       include_top=True,\n",
    "                       interpolation='bilinear',\n",
    "                       lite=True)\n",
    "\n",
    "    # Define loss\n",
    "    loss_layers = ['semantic_0', 'semantic_1', 'semantic_2']\n",
    "    loss = {}\n",
    "\n",
    "    for layer_name in loss_layers:\n",
    "        n_classes = model.get_layer(layer_name).output_shape[-1]\n",
    "        if n_classes > 1:\n",
    "            def loss_function(y_true, y_pred):\n",
    "                return 0.01 * losses.weighted_categorical_crossentropy(\n",
    "                    y_true, y_pred, n_classes=n_classes)\n",
    "            loss[layer_name] = loss_function\n",
    "        elif n_classes == 1:\n",
    "            loss[layer_name] = MSE\n",
    "\n",
    "    # Compile model\n",
    "    model.compile(loss=loss, optimizer=optimizer)\n",
    "    \n",
    "elif model_type == 'pixelwise':\n",
    "    model = PanopticNet(backbone,\n",
    "                       input_shape=train_data.x.shape[1:],\n",
    "                       norm_method='whole_image',\n",
    "                       num_semantic_heads=1,\n",
    "                       num_semantic_classes=[3],\n",
    "                       location=False,\n",
    "                       include_top=True)\n",
    "\n",
    "    # Define loss\n",
    "    loss = {}\n",
    "    \n",
    "    def loss_function(y_true, y_pred):\n",
    "        return losses.weighted_categorical_crossentropy(\n",
    "                    y_true, y_pred, n_classes=3)\n",
    "    \n",
    "    loss['semantic_0'] = loss_function\n",
    "    \n",
    "    # Compile model\n",
    "    model.compile(loss=loss, optimizer=optimizer)\n",
    "    \n",
    "elif model_type == 'retinamask':\n",
    "    model = RetinaMask(backbone,\n",
    "                      num_classes=1,\n",
    "                      input_shape=train_data.x.shape[1:],\n",
    "                      norm_method='whole_image',\n",
    "                      use_imagenet=True,\n",
    "                      pyramid_levels=pyramid_levels,\n",
    "                      anchor_params=anchor_params)\n",
    "    \n",
    "    # Define loss\n",
    "    retinanet_losses = losses.RetinaNetLosses()\n",
    "    loss = {\n",
    "        'regression': retinanet_losses.regress_loss,\n",
    "        'classification': retinanet_losses.classification_loss,\n",
    "        'masks': retinanet_losses.mask_loss\n",
    "    }\n",
    "    \n",
    "    # Compile model\n",
    "    model.compile(loss=loss, optimizer=optimizer)\n",
    "    \n",
    "model.summary()"
   ]
  },
  {
   "cell_type": "markdown",
   "metadata": {
    "papermill": {
     "duration": 0.022626,
     "end_time": "2020-04-30T18:54:49.250580",
     "exception": false,
     "start_time": "2020-04-30T18:54:49.227954",
     "status": "completed"
    },
    "tags": []
   },
   "source": [
    "## Part 4: Define model training parameters\n",
    "\n",
    "Here, we define all of the parameters needed for training. The model trainer objects will record these metadata after training."
   ]
  },
  {
   "cell_type": "code",
   "execution_count": 7,
   "metadata": {
    "papermill": {
     "duration": 0.040959,
     "end_time": "2020-04-30T18:54:49.316278",
     "exception": false,
     "start_time": "2020-04-30T18:54:49.275319",
     "status": "completed"
    },
    "tags": []
   },
   "outputs": [],
   "source": [
    "model_name = 'nuclear_{}_{}_{}_{}'.format(str(train_permutation_seed), dataset_fraction, backbone, model_type)\n",
    "model_path = os.path.join('/data', 'models', date, model_name)\n",
    "dataset_metadata={'name': dataset_name,\n",
    "                  'other': 'Pooled nuclear data from HEK293, HeLa-S3, NIH-3T3, and RAW264.7 cells.'}\n",
    "training_kwargs = {}\n",
    "training_kwargs['batch_size'] = batch_size\n",
    "training_kwargs['lr'] = 1e-5 if model_type=='retinamask' else 1e-4\n",
    "training_kwargs['lr_decay'] = 0.95\n",
    "training_kwargs['training_seed'] = 0\n",
    "training_kwargs['n_epochs'] = n_epochs\n",
    "training_kwargs['training_steps_per_epoch'] = 82800//16 if model_type == 'retinamask' else 82800 // training_kwargs['batch_size']\n",
    "training_kwargs['validation_steps_per_epoch'] = val_data.y.shape[0] // training_kwargs['batch_size']"
   ]
  },
  {
   "cell_type": "markdown",
   "metadata": {
    "papermill": {
     "duration": 0.02747,
     "end_time": "2020-04-30T18:54:49.367381",
     "exception": false,
     "start_time": "2020-04-30T18:54:49.339911",
     "status": "completed"
    },
    "tags": []
   },
   "source": [
    "## Part 5: Create the model trainer and train the model\n",
    "\n",
    "Here, we create the model trainer, train the model, and export the model - along with the metadata and benchmarks"
   ]
  },
  {
   "cell_type": "code",
   "execution_count": 8,
   "metadata": {
    "papermill": {
     "duration": 0.087211,
     "end_time": "2020-04-30T18:54:49.480627",
     "exception": false,
     "start_time": "2020-04-30T18:54:49.393416",
     "status": "completed"
    },
    "tags": []
   },
   "outputs": [],
   "source": [
    "from __future__ import absolute_import\n",
    "from __future__ import print_function\n",
    "from __future__ import division\n",
    "\n",
    "import os\n",
    "import json\n",
    "import hashlib\n",
    "import numpy as np\n",
    "\n",
    "from skimage.morphology import remove_small_objects\n",
    "\n",
    "from deepcell.utils.export_utils import export_model\n",
    "from deepcell.utils.train_utils import rate_scheduler, get_callbacks\n",
    "from deepcell.metrics import Metrics\n",
    "\n",
    "from tensorflow.python.compiler.tensorrt import trt_convert as trt\n",
    "\n",
    "class ModelTrainer(object):\n",
    "    def __init__(self, \n",
    "                model,\n",
    "                model_name,\n",
    "                model_path,\n",
    "                train_generator,\n",
    "                validation_generator,\n",
    "                benchmarking_data=None,\n",
    "                log_dir=None,\n",
    "                tfserving_path=None,\n",
    "                training_callbacks='default',\n",
    "                max_batch_size=256,\n",
    "                export_precisions = ['fp16'],\n",
    "                postprocessing_fn=None,\n",
    "                postprocessing_kwargs={},\n",
    "                predict_batch_size=4,\n",
    "                model_version=0,\n",
    "                min_size=100,\n",
    "                dataset_metadata={},\n",
    "                training_kwargs={}):\n",
    "    \n",
    "        \"\"\"\n",
    "        Model trainer class for segmentation models. This class eases model development by\n",
    "        linking relevant metadata (dataset, training parameters, benchmarking) to the model\n",
    "        training process.\n",
    "        \"\"\"\n",
    "\n",
    "        # Add model information\n",
    "        self.model = model\n",
    "        self.model_name = model_name\n",
    "        self.model_path = model_path\n",
    "        self.model_version = model_version\n",
    "\n",
    "        # Add dataset information\n",
    "        self.train_generator = train_generator\n",
    "        self.validation_generator = validation_generator\n",
    "        self.benchmarking_data = benchmarking_data\n",
    "        self.dataset_metadata = dataset_metadata\n",
    "        self.postprocessing_fn = postprocessing_fn\n",
    "        self.postprocessing_kwargs = postprocessing_kwargs\n",
    "        self.predict_batch_size = predict_batch_size\n",
    "\n",
    "        # Add benchmarking information\n",
    "        self.min_size = min_size\n",
    "\n",
    "        # Add export information\n",
    "        self.max_batch_size = max_batch_size\n",
    "        self.export_precisions = export_precisions\n",
    "\n",
    "        # Add directories for logging and model export\n",
    "        if log_dir is None:\n",
    "            self.log_dir = os.path.join(model_path, 'logging')\n",
    "        else:\n",
    "            self.log_dir = log_dir\n",
    "        \n",
    "        if tfserving_path is None:\n",
    "            self.tfserving_path = os.path.join(model_path, 'serving')\n",
    "        else:\n",
    "            self.tfserving_path = tfserving_path\n",
    "\n",
    "        # Add training kwargs\n",
    "        self.batch_size = training_kwargs.pop('batch_size', 1)\n",
    "        self.training_steps_per_epoch = training_kwargs.pop('training_steps_per_epoch', \n",
    "                                                self.train_generator.y.shape[0] // self.batch_size)\n",
    "        self.validation_steps_per_epoch = training_kwargs.pop('validation_steps_per_epoch', \n",
    "                                                self.validation_generator.y.shape[0] // self.batch_size)\n",
    "        self.n_epochs = training_kwargs.pop('n_epochs', 8)\n",
    "        self.lr = training_kwargs.pop('lr', 1e-5)\n",
    "        self.lr_decay = training_kwargs.pop('lr_decay', 0.95)\n",
    "        self.lr_sched = training_kwargs.pop('lr_sched', rate_scheduler(lr=self.lr, decay=self.lr_decay))\n",
    "\n",
    "        # Add callbacks\n",
    "        if training_callbacks == 'default':\n",
    "            model_name = os.path.join(model_path, model_name + '.h5')\n",
    "            self.training_callbacks = get_callbacks(model_name, lr_sched=self.lr_sched,\n",
    "                                        tensorboard_log_dir=self.log_dir,\n",
    "                                        save_weights_only=False,\n",
    "                                        monitor='val_loss', verbose=1)\n",
    "        else:\n",
    "            self.training_callbacks = training_callbacks\n",
    "\n",
    "        self.trained = False\n",
    "\n",
    "        return None\n",
    "\n",
    "    def _create_hash(self):\n",
    "        if not self.trained:\n",
    "            raise ValueError('Can only create a hash for a trained model')\n",
    "        else:\n",
    "            weights = []\n",
    "            for layer in self.model.layers:\n",
    "                weights += layer.get_weights()\n",
    "            summed_weights_list = [np.sum(w) for w in weights]\n",
    "            summed_weights = sum(summed_weights_list)\n",
    "            model_hash = hashlib.md5(str(summed_weights).encode())\n",
    "            self.model_hash = model_hash.hexdigest()\n",
    "\n",
    "    def _fit(self):\n",
    "        loss_history = self.model.fit_generator(\n",
    "        self.train_generator,\n",
    "        steps_per_epoch=self.training_steps_per_epoch,\n",
    "        epochs=self.n_epochs,\n",
    "        validation_data=self.validation_generator,\n",
    "        validation_steps=self.validation_steps_per_epoch,\n",
    "        callbacks=self.training_callbacks,\n",
    "        verbose=2)\n",
    "\n",
    "        self.trained = True\n",
    "        self.loss_history = loss_history\n",
    "\n",
    "        return None\n",
    "\n",
    "    def _benchmark(self):\n",
    "        if not self.trained:\n",
    "            raise ValueError('Model training is not complete')\n",
    "        else:\n",
    "            if self.benchmarking_data is None:\n",
    "                x = self.validation_generator.x.copy()\n",
    "                y_true = self.validation_generator.y.copy()\n",
    "            else:\n",
    "                x = self.benchmarking_data['X']\n",
    "                y_true = self.benchmarking_data['y']\n",
    "\n",
    "            outputs = self.model.predict(x, batch_size=self.predict_batch_size)\n",
    "            y_pred = self.postprocessing_fn(outputs, **self.postprocessing_kwargs)\n",
    "\n",
    "            if len(y_pred.shape) == 3:\n",
    "                y_pred = np.expand_dims(y_pred, axis=-1)    #TODO: This is a hack because the postprocessing fn returns\n",
    "                                                            #masks with no channel dimensions. This should be fixed.\n",
    "            \n",
    "            benchmarks = Metrics(self.model_name, seg=False)\n",
    "            benchmarks.calc_object_stats(y_true, y_pred)\n",
    "\n",
    "            # Save benchmarks in dict\n",
    "            self.benchmarks = {}\n",
    "            for key in benchmarks.stats.keys():\n",
    "                self.benchmarks[key] = int(benchmarks.stats[key].sum())\n",
    "\n",
    "            for i in range(y_pred.shape[0]):\n",
    "                y_pred[i] = remove_small_objects(y_pred[i].astype(int), min_size=self.min_size)\n",
    "                y_true[i] = remove_small_objects(y_true[i].astype(int), min_size=self.min_size)\n",
    "\n",
    "            benchmarks = Metrics(self.model_name + ' - Removed objects less than {} pixels'.format(self.min_size), \n",
    "                                    seg=False)\n",
    "            benchmarks.calc_object_stats(y_true, y_pred)\n",
    "\n",
    "            # Save benchmarks in dict\n",
    "            self.benchmarks_remove_small_objects = {}\n",
    "            for key in benchmarks.stats.keys():\n",
    "                self.benchmarks_remove_small_objects[key] = int(benchmarks.stats[key].sum())\n",
    "\n",
    "        return None\n",
    "\n",
    "    def _create_training_metadata(self):\n",
    "        training_metadata = {}\n",
    "        training_metadata['batch_size'] = self.batch_size\n",
    "        training_metadata['lr'] = self.lr\n",
    "        training_metadata['lr_decay'] = self.lr_decay\n",
    "        training_metadata['n_epochs'] = self.n_epochs\n",
    "        training_metadata['training_steps_per_epoch'] = self.training_steps_per_epoch\n",
    "        training_metadata['validation_steps_per_epoch'] = self.validation_steps_per_epoch\n",
    "\n",
    "        self.training_metadata = training_metadata\n",
    "\n",
    "        return None\n",
    "\n",
    "    def _export_tf_serving(self):\n",
    "        export_model(self.model, self.tfserving_path, model_version=self.model_version)\n",
    "\n",
    "        # Convert model to TensorRT with float16\n",
    "        if 'fp16' in self.export_precisions:\n",
    "            export_model_dir = os.path.join(self.tfserving_path, str(self.model_version))\n",
    "            export_model_dir_fp16 = os.path.join(self.tfserving_path + '_fp16', str(self.model_version))\n",
    "\n",
    "            converter = trt.TrtGraphConverter(input_saved_model_dir=export_model_dir,\n",
    "                                            max_batch_size=self.max_batch_size,\n",
    "                                            precision_mode='fp16')\n",
    "            converter.convert()\n",
    "            converter.save(export_model_dir_fp16)\n",
    "\n",
    "        return None\n",
    "\n",
    "    def create_model(self, export_serving=False, export_lite=False):\n",
    "\n",
    "        # Train model\n",
    "        self._fit()\n",
    "\n",
    "        # Load best performing weights\n",
    "        model_name = os.path.join(self.model_path, self.model_name + '.h5')\n",
    "        self.model.load_weights(model_name)\n",
    "\n",
    "        # Create model hash\n",
    "        self._create_hash()\n",
    "\n",
    "        # Create benchmarks\n",
    "        self._benchmark()\n",
    "\n",
    "        # Create model metadata\n",
    "        self._create_training_metadata()\n",
    "\n",
    "        # Save model\n",
    "        model_name = os.path.join(self.model_path, self.model_name + '_' + self.model_hash + '.h5')\n",
    "        self.model.save(model_name)\n",
    "\n",
    "        # Save loss history\n",
    "        loss_name = os.path.join(self.model_path, self.model_name + '_loss_' + self.model_hash + '.npz')\n",
    "        np.savez(loss_name, loss_history=self.loss_history.history)\n",
    "\n",
    "        # Save metadata (training and dataset) and benchmarks\n",
    "        metadata = {}\n",
    "        metadata['model_hash'] = self.model_hash\n",
    "        metadata['training_metadata'] = self.training_metadata\n",
    "        metadata['dataset_metadata'] = self.dataset_metadata\n",
    "        metadata['benchmarks'] = self.benchmarks\n",
    "        metadata['benchmarks_remove_small_objects'] = self.benchmarks_remove_small_objects\n",
    "\n",
    "        # TODO: Saving the benchmarking object in this way saves each individual benchmark.\n",
    "        # This should be refactored to save the sums.\n",
    "\n",
    "        metadata_name = os.path.join(self.model_path, self.model_name + '_' + self.model_hash + '.json')\n",
    "        \n",
    "        with open(metadata_name, 'w') as json_file:\n",
    "            json.dump(metadata, json_file)\n",
    "\n",
    "        # Export tf serving model\n",
    "        if export_serving:\n",
    "            self._export_tf_serving()\n",
    "\n",
    "        return None"
   ]
  },
  {
   "cell_type": "code",
   "execution_count": 9,
   "metadata": {
    "papermill": {
     "duration": 16264.437904,
     "end_time": "2020-04-30T23:25:53.942225",
     "exception": false,
     "start_time": "2020-04-30T18:54:49.504321",
     "status": "completed"
    },
    "scrolled": false,
    "tags": []
   },
   "outputs": [
    {
     "name": "stdout",
     "output_type": "stream",
     "text": [
      "Epoch 1/16\n"
     ]
    },
    {
     "name": "stderr",
     "output_type": "stream",
     "text": [
      "/usr/local/lib/python3.6/dist-packages/tensorflow/python/ops/gradients_util.py:93: UserWarning: Converting sparse IndexedSlices to a dense Tensor of unknown shape. This may consume a large amount of memory.\n",
      "  \"Converting sparse IndexedSlices to a dense Tensor of unknown shape. \"\n"
     ]
    },
    {
     "name": "stderr",
     "output_type": "stream",
     "text": [
      "/usr/local/lib/python3.6/dist-packages/tensorflow/python/ops/gradients_util.py:93: UserWarning: Converting sparse IndexedSlices to a dense Tensor of unknown shape. This may consume a large amount of memory.\n",
      "  \"Converting sparse IndexedSlices to a dense Tensor of unknown shape. \"\n"
     ]
    },
    {
     "name": "stderr",
     "output_type": "stream",
     "text": [
      "W0430 18:55:24.900401 140594404546368 callbacks.py:257] Method (on_train_batch_end) is slow compared to the batch update (0.278403). Check your callbacks.\n"
     ]
    },
    {
     "name": "stdout",
     "output_type": "stream",
     "text": [
      "\n",
      "Epoch 00001: val_loss improved from inf to 1.28362, saving model to /data/models/04302020/nuclear_2_0.1_mobilenetv2_retinamask/nuclear_2_0.1_mobilenetv2_retinamask.h5\n"
     ]
    },
    {
     "name": "stdout",
     "output_type": "stream",
     "text": [
      "5175/5175 - 1047s - loss: 1.5923 - regression_loss: 1.1659 - classification_loss: 0.1704 - masks_loss: 0.2560 - val_loss: 1.2836 - val_regression_loss: 0.9302 - val_classification_loss: 0.1043 - val_masks_loss: 0.2491\n"
     ]
    },
    {
     "name": "stdout",
     "output_type": "stream",
     "text": [
      "Epoch 2/16\n"
     ]
    },
    {
     "name": "stdout",
     "output_type": "stream",
     "text": [
      "\n",
      "Epoch 00002: val_loss improved from 1.28362 to 1.20696, saving model to /data/models/04302020/nuclear_2_0.1_mobilenetv2_retinamask/nuclear_2_0.1_mobilenetv2_retinamask.h5\n"
     ]
    },
    {
     "name": "stdout",
     "output_type": "stream",
     "text": [
      "5175/5175 - 996s - loss: 1.0747 - regression_loss: 0.7527 - classification_loss: 0.0861 - masks_loss: 0.2360 - val_loss: 1.2070 - val_regression_loss: 0.8773 - val_classification_loss: 0.0882 - val_masks_loss: 0.2415\n"
     ]
    },
    {
     "name": "stdout",
     "output_type": "stream",
     "text": [
      "Epoch 3/16\n"
     ]
    },
    {
     "name": "stdout",
     "output_type": "stream",
     "text": [
      "\n",
      "Epoch 00003: val_loss improved from 1.20696 to 1.06457, saving model to /data/models/04302020/nuclear_2_0.1_mobilenetv2_retinamask/nuclear_2_0.1_mobilenetv2_retinamask.h5\n"
     ]
    },
    {
     "name": "stdout",
     "output_type": "stream",
     "text": [
      "5175/5175 - 985s - loss: 0.9846 - regression_loss: 0.6754 - classification_loss: 0.0750 - masks_loss: 0.2342 - val_loss: 1.0646 - val_regression_loss: 0.7506 - val_classification_loss: 0.0791 - val_masks_loss: 0.2348\n"
     ]
    },
    {
     "name": "stdout",
     "output_type": "stream",
     "text": [
      "Epoch 4/16\n"
     ]
    },
    {
     "name": "stdout",
     "output_type": "stream",
     "text": [
      "\n",
      "Epoch 00004: val_loss improved from 1.06457 to 1.01329, saving model to /data/models/04302020/nuclear_2_0.1_mobilenetv2_retinamask/nuclear_2_0.1_mobilenetv2_retinamask.h5\n"
     ]
    },
    {
     "name": "stdout",
     "output_type": "stream",
     "text": [
      "5175/5175 - 984s - loss: 0.9314 - regression_loss: 0.6304 - classification_loss: 0.0694 - masks_loss: 0.2316 - val_loss: 1.0133 - val_regression_loss: 0.7089 - val_classification_loss: 0.0737 - val_masks_loss: 0.2307\n"
     ]
    },
    {
     "name": "stdout",
     "output_type": "stream",
     "text": [
      "Epoch 5/16\n"
     ]
    },
    {
     "name": "stdout",
     "output_type": "stream",
     "text": [
      "\n",
      "Epoch 00005: val_loss did not improve from 1.01329\n",
      "5175/5175 - 980s - loss: 0.8967 - regression_loss: 0.6023 - classification_loss: 0.0646 - masks_loss: 0.2298 - val_loss: 1.1026 - val_regression_loss: 0.7812 - val_classification_loss: 0.0773 - val_masks_loss: 0.2441\n"
     ]
    },
    {
     "name": "stdout",
     "output_type": "stream",
     "text": [
      "Epoch 6/16\n"
     ]
    },
    {
     "name": "stdout",
     "output_type": "stream",
     "text": [
      "\n",
      "Epoch 00006: val_loss did not improve from 1.01329\n",
      "5175/5175 - 981s - loss: 0.8719 - regression_loss: 0.5816 - classification_loss: 0.0625 - masks_loss: 0.2278 - val_loss: 1.0446 - val_regression_loss: 0.7298 - val_classification_loss: 0.0760 - val_masks_loss: 0.2387\n"
     ]
    },
    {
     "name": "stdout",
     "output_type": "stream",
     "text": [
      "Epoch 7/16\n"
     ]
    },
    {
     "name": "stdout",
     "output_type": "stream",
     "text": [
      "\n",
      "Epoch 00007: val_loss did not improve from 1.01329\n",
      "5175/5175 - 985s - loss: 0.8533 - regression_loss: 0.5673 - classification_loss: 0.0601 - masks_loss: 0.2259 - val_loss: 1.0405 - val_regression_loss: 0.7341 - val_classification_loss: 0.0723 - val_masks_loss: 0.2341\n"
     ]
    },
    {
     "name": "stdout",
     "output_type": "stream",
     "text": [
      "Epoch 8/16\n"
     ]
    },
    {
     "name": "stdout",
     "output_type": "stream",
     "text": [
      "\n",
      "Epoch 00008: val_loss improved from 1.01329 to 0.97581, saving model to /data/models/04302020/nuclear_2_0.1_mobilenetv2_retinamask/nuclear_2_0.1_mobilenetv2_retinamask.h5\n"
     ]
    },
    {
     "name": "stdout",
     "output_type": "stream",
     "text": [
      "5175/5175 - 984s - loss: 0.8397 - regression_loss: 0.5554 - classification_loss: 0.0583 - masks_loss: 0.2260 - val_loss: 0.9758 - val_regression_loss: 0.6794 - val_classification_loss: 0.0608 - val_masks_loss: 0.2357\n"
     ]
    },
    {
     "name": "stdout",
     "output_type": "stream",
     "text": [
      "Epoch 9/16\n"
     ]
    },
    {
     "name": "stdout",
     "output_type": "stream",
     "text": [
      "\n",
      "Epoch 00009: val_loss improved from 0.97581 to 0.96341, saving model to /data/models/04302020/nuclear_2_0.1_mobilenetv2_retinamask/nuclear_2_0.1_mobilenetv2_retinamask.h5\n"
     ]
    },
    {
     "name": "stdout",
     "output_type": "stream",
     "text": [
      "5175/5175 - 980s - loss: 0.8254 - regression_loss: 0.5436 - classification_loss: 0.0574 - masks_loss: 0.2245 - val_loss: 0.9634 - val_regression_loss: 0.6623 - val_classification_loss: 0.0707 - val_masks_loss: 0.2304\n"
     ]
    },
    {
     "name": "stdout",
     "output_type": "stream",
     "text": [
      "Epoch 10/16\n"
     ]
    },
    {
     "name": "stdout",
     "output_type": "stream",
     "text": [
      "\n",
      "Epoch 00010: val_loss did not improve from 0.96341\n",
      "5175/5175 - 978s - loss: 0.8158 - regression_loss: 0.5366 - classification_loss: 0.0554 - masks_loss: 0.2238 - val_loss: 0.9664 - val_regression_loss: 0.6699 - val_classification_loss: 0.0695 - val_masks_loss: 0.2270\n"
     ]
    },
    {
     "name": "stdout",
     "output_type": "stream",
     "text": [
      "Epoch 11/16\n"
     ]
    },
    {
     "name": "stdout",
     "output_type": "stream",
     "text": [
      "\n",
      "Epoch 00011: val_loss improved from 0.96341 to 0.93799, saving model to /data/models/04302020/nuclear_2_0.1_mobilenetv2_retinamask/nuclear_2_0.1_mobilenetv2_retinamask.h5\n"
     ]
    },
    {
     "name": "stdout",
     "output_type": "stream",
     "text": [
      "5175/5175 - 988s - loss: 0.8073 - regression_loss: 0.5296 - classification_loss: 0.0554 - masks_loss: 0.2223 - val_loss: 0.9380 - val_regression_loss: 0.6489 - val_classification_loss: 0.0625 - val_masks_loss: 0.2266\n"
     ]
    },
    {
     "name": "stdout",
     "output_type": "stream",
     "text": [
      "Epoch 12/16\n"
     ]
    },
    {
     "name": "stdout",
     "output_type": "stream",
     "text": [
      "\n",
      "Epoch 00012: val_loss did not improve from 0.93799\n",
      "5175/5175 - 991s - loss: 0.7985 - regression_loss: 0.5221 - classification_loss: 0.0542 - masks_loss: 0.2222 - val_loss: 0.9480 - val_regression_loss: 0.6536 - val_classification_loss: 0.0671 - val_masks_loss: 0.2273\n"
     ]
    },
    {
     "name": "stdout",
     "output_type": "stream",
     "text": [
      "Epoch 13/16\n"
     ]
    },
    {
     "name": "stdout",
     "output_type": "stream",
     "text": [
      "\n",
      "Epoch 00013: val_loss did not improve from 0.93799\n",
      "5175/5175 - 982s - loss: 0.7922 - regression_loss: 0.5173 - classification_loss: 0.0531 - masks_loss: 0.2217 - val_loss: 0.9592 - val_regression_loss: 0.6705 - val_classification_loss: 0.0608 - val_masks_loss: 0.2279\n"
     ]
    },
    {
     "name": "stdout",
     "output_type": "stream",
     "text": [
      "Epoch 14/16\n"
     ]
    },
    {
     "name": "stdout",
     "output_type": "stream",
     "text": [
      "\n",
      "Epoch 00014: val_loss did not improve from 0.93799\n",
      "5175/5175 - 983s - loss: 0.7843 - regression_loss: 0.5106 - classification_loss: 0.0529 - masks_loss: 0.2208 - val_loss: 0.9551 - val_regression_loss: 0.6633 - val_classification_loss: 0.0628 - val_masks_loss: 0.2291\n"
     ]
    },
    {
     "name": "stdout",
     "output_type": "stream",
     "text": [
      "Epoch 15/16\n"
     ]
    },
    {
     "name": "stdout",
     "output_type": "stream",
     "text": [
      "\n",
      "Epoch 00015: val_loss improved from 0.93799 to 0.90821, saving model to /data/models/04302020/nuclear_2_0.1_mobilenetv2_retinamask/nuclear_2_0.1_mobilenetv2_retinamask.h5\n"
     ]
    },
    {
     "name": "stdout",
     "output_type": "stream",
     "text": [
      "5175/5175 - 996s - loss: 0.7812 - regression_loss: 0.5077 - classification_loss: 0.0529 - masks_loss: 0.2206 - val_loss: 0.9082 - val_regression_loss: 0.6233 - val_classification_loss: 0.0591 - val_masks_loss: 0.2259\n"
     ]
    },
    {
     "name": "stdout",
     "output_type": "stream",
     "text": [
      "Epoch 16/16\n"
     ]
    },
    {
     "name": "stdout",
     "output_type": "stream",
     "text": [
      "\n",
      "Epoch 00016: val_loss did not improve from 0.90821\n",
      "5175/5175 - 1021s - loss: 0.7752 - regression_loss: 0.5033 - classification_loss: 0.0519 - masks_loss: 0.2199 - val_loss: 0.9181 - val_regression_loss: 0.6322 - val_classification_loss: 0.0598 - val_masks_loss: 0.2261\n"
     ]
    },
    {
     "name": "stderr",
     "output_type": "stream",
     "text": [
      "/usr/local/lib/python3.6/dist-packages/deepcell_toolbox/retinanet.py:295: UserWarning: Random walker only segments unlabeled areas, where labels == 0. No zero valued areas in labels were found. Returning provided labels.\n",
      "  segments = random_walker(foreground, markers)\n"
     ]
    },
    {
     "name": "stderr",
     "output_type": "stream",
     "text": [
      "/usr/local/lib/python3.6/dist-packages/deepcell_toolbox/retinanet.py:295: UserWarning: Random walker only segments unlabeled areas, where labels == 0. No zero valued areas in labels were found. Returning provided labels.\n",
      "  segments = random_walker(foreground, markers)\n",
      "/usr/local/lib/python3.6/dist-packages/deepcell_toolbox/retinanet.py:295: UserWarning: Random walker only segments unlabeled areas, where labels == 0. No zero valued areas in labels were found. Returning provided labels.\n",
      "  segments = random_walker(foreground, markers)\n"
     ]
    },
    {
     "name": "stderr",
     "output_type": "stream",
     "text": [
      "/usr/local/lib/python3.6/dist-packages/deepcell_toolbox/retinanet.py:295: UserWarning: Random walker only segments unlabeled areas, where labels == 0. No zero valued areas in labels were found. Returning provided labels.\n",
      "  segments = random_walker(foreground, markers)\n"
     ]
    },
    {
     "name": "stderr",
     "output_type": "stream",
     "text": [
      "/usr/local/lib/python3.6/dist-packages/deepcell_toolbox/retinanet.py:295: UserWarning: Random walker only segments unlabeled areas, where labels == 0. No zero valued areas in labels were found. Returning provided labels.\n",
      "  segments = random_walker(foreground, markers)\n"
     ]
    },
    {
     "name": "stderr",
     "output_type": "stream",
     "text": [
      "/usr/local/lib/python3.6/dist-packages/deepcell_toolbox/retinanet.py:295: UserWarning: Random walker only segments unlabeled areas, where labels == 0. No zero valued areas in labels were found. Returning provided labels.\n",
      "  segments = random_walker(foreground, markers)\n",
      "/usr/local/lib/python3.6/dist-packages/deepcell_toolbox/retinanet.py:295: UserWarning: Random walker only segments unlabeled areas, where labels == 0. No zero valued areas in labels were found. Returning provided labels.\n",
      "  segments = random_walker(foreground, markers)\n",
      "/usr/local/lib/python3.6/dist-packages/deepcell_toolbox/retinanet.py:295: UserWarning: Random walker only segments unlabeled areas, where labels == 0. No zero valued areas in labels were found. Returning provided labels.\n",
      "  segments = random_walker(foreground, markers)\n"
     ]
    },
    {
     "name": "stderr",
     "output_type": "stream",
     "text": [
      "/usr/local/lib/python3.6/dist-packages/deepcell_toolbox/retinanet.py:295: UserWarning: Random walker only segments unlabeled areas, where labels == 0. No zero valued areas in labels were found. Returning provided labels.\n",
      "  segments = random_walker(foreground, markers)\n"
     ]
    },
    {
     "name": "stderr",
     "output_type": "stream",
     "text": [
      "/usr/local/lib/python3.6/dist-packages/deepcell_toolbox/retinanet.py:295: UserWarning: Random walker only segments unlabeled areas, where labels == 0. No zero valued areas in labels were found. Returning provided labels.\n",
      "  segments = random_walker(foreground, markers)\n"
     ]
    },
    {
     "name": "stderr",
     "output_type": "stream",
     "text": [
      "/usr/local/lib/python3.6/dist-packages/deepcell_toolbox/retinanet.py:295: UserWarning: Random walker only segments unlabeled areas, where labels == 0. No zero valued areas in labels were found. Returning provided labels.\n",
      "  segments = random_walker(foreground, markers)\n"
     ]
    },
    {
     "name": "stderr",
     "output_type": "stream",
     "text": [
      "/usr/local/lib/python3.6/dist-packages/deepcell_toolbox/retinanet.py:295: UserWarning: Random walker only segments unlabeled areas, where labels == 0. No zero valued areas in labels were found. Returning provided labels.\n",
      "  segments = random_walker(foreground, markers)\n"
     ]
    },
    {
     "name": "stderr",
     "output_type": "stream",
     "text": [
      "/usr/local/lib/python3.6/dist-packages/deepcell_toolbox/retinanet.py:295: UserWarning: Random walker only segments unlabeled areas, where labels == 0. No zero valued areas in labels were found. Returning provided labels.\n",
      "  segments = random_walker(foreground, markers)\n"
     ]
    },
    {
     "name": "stderr",
     "output_type": "stream",
     "text": [
      "/usr/local/lib/python3.6/dist-packages/deepcell_toolbox/retinanet.py:295: UserWarning: Random walker only segments unlabeled areas, where labels == 0. No zero valued areas in labels were found. Returning provided labels.\n",
      "  segments = random_walker(foreground, markers)\n",
      "/usr/local/lib/python3.6/dist-packages/deepcell_toolbox/retinanet.py:295: UserWarning: Random walker only segments unlabeled areas, where labels == 0. No zero valued areas in labels were found. Returning provided labels.\n",
      "  segments = random_walker(foreground, markers)\n"
     ]
    },
    {
     "name": "stderr",
     "output_type": "stream",
     "text": [
      "/usr/local/lib/python3.6/dist-packages/deepcell_toolbox/retinanet.py:295: UserWarning: Random walker only segments unlabeled areas, where labels == 0. No zero valued areas in labels were found. Returning provided labels.\n",
      "  segments = random_walker(foreground, markers)\n"
     ]
    },
    {
     "name": "stderr",
     "output_type": "stream",
     "text": [
      "/usr/local/lib/python3.6/dist-packages/deepcell_toolbox/retinanet.py:295: UserWarning: Random walker only segments unlabeled areas, where labels == 0. No zero valued areas in labels were found. Returning provided labels.\n",
      "  segments = random_walker(foreground, markers)\n"
     ]
    },
    {
     "name": "stderr",
     "output_type": "stream",
     "text": [
      "/usr/local/lib/python3.6/dist-packages/deepcell_toolbox/retinanet.py:295: UserWarning: Random walker only segments unlabeled areas, where labels == 0. No zero valued areas in labels were found. Returning provided labels.\n",
      "  segments = random_walker(foreground, markers)\n",
      "/usr/local/lib/python3.6/dist-packages/deepcell_toolbox/retinanet.py:295: UserWarning: Random walker only segments unlabeled areas, where labels == 0. No zero valued areas in labels were found. Returning provided labels.\n",
      "  segments = random_walker(foreground, markers)\n"
     ]
    },
    {
     "name": "stderr",
     "output_type": "stream",
     "text": [
      "/usr/local/lib/python3.6/dist-packages/deepcell_toolbox/retinanet.py:295: UserWarning: Random walker only segments unlabeled areas, where labels == 0. No zero valued areas in labels were found. Returning provided labels.\n",
      "  segments = random_walker(foreground, markers)\n"
     ]
    },
    {
     "name": "stderr",
     "output_type": "stream",
     "text": [
      "/usr/local/lib/python3.6/dist-packages/deepcell_toolbox/retinanet.py:295: UserWarning: Random walker only segments unlabeled areas, where labels == 0. No zero valued areas in labels were found. Returning provided labels.\n",
      "  segments = random_walker(foreground, markers)\n"
     ]
    },
    {
     "name": "stderr",
     "output_type": "stream",
     "text": [
      "/usr/local/lib/python3.6/dist-packages/deepcell_toolbox/retinanet.py:295: UserWarning: Random walker only segments unlabeled areas, where labels == 0. No zero valued areas in labels were found. Returning provided labels.\n",
      "  segments = random_walker(foreground, markers)\n"
     ]
    },
    {
     "name": "stderr",
     "output_type": "stream",
     "text": [
      "/usr/local/lib/python3.6/dist-packages/deepcell_toolbox/retinanet.py:295: UserWarning: Random walker only segments unlabeled areas, where labels == 0. No zero valued areas in labels were found. Returning provided labels.\n",
      "  segments = random_walker(foreground, markers)\n"
     ]
    },
    {
     "name": "stderr",
     "output_type": "stream",
     "text": [
      "/usr/local/lib/python3.6/dist-packages/deepcell_toolbox/retinanet.py:295: UserWarning: Random walker only segments unlabeled areas, where labels == 0. No zero valued areas in labels were found. Returning provided labels.\n",
      "  segments = random_walker(foreground, markers)\n"
     ]
    },
    {
     "name": "stderr",
     "output_type": "stream",
     "text": [
      "/usr/local/lib/python3.6/dist-packages/deepcell_toolbox/retinanet.py:295: UserWarning: Random walker only segments unlabeled areas, where labels == 0. No zero valued areas in labels were found. Returning provided labels.\n",
      "  segments = random_walker(foreground, markers)\n"
     ]
    },
    {
     "name": "stderr",
     "output_type": "stream",
     "text": [
      "/usr/local/lib/python3.6/dist-packages/deepcell_toolbox/retinanet.py:295: UserWarning: Random walker only segments unlabeled areas, where labels == 0. No zero valued areas in labels were found. Returning provided labels.\n",
      "  segments = random_walker(foreground, markers)\n"
     ]
    },
    {
     "name": "stderr",
     "output_type": "stream",
     "text": [
      "W0430 23:21:59.089494 140594404546368 metrics.py:103] DICE score is technically 1.0, but prediction and truth arrays are empty. \n"
     ]
    },
    {
     "name": "stderr",
     "output_type": "stream",
     "text": [
      "/usr/local/lib/python3.6/dist-packages/deepcell/metrics.py:111: RuntimeWarning: invalid value encountered in long_scalars\n",
      "  dice = (2 * intersection.sum() / (pred.sum() + truth.sum()))\n",
      "/usr/local/lib/python3.6/dist-packages/deepcell/metrics.py:112: RuntimeWarning: invalid value encountered in long_scalars\n",
      "  jaccard = intersection.sum() / union.sum()\n",
      "/usr/local/lib/python3.6/dist-packages/deepcell/metrics.py:113: RuntimeWarning: invalid value encountered in long_scalars\n",
      "  precision = intersection.sum() / pred.sum()\n",
      "/usr/local/lib/python3.6/dist-packages/deepcell/metrics.py:114: RuntimeWarning: invalid value encountered in long_scalars\n",
      "  recall = intersection.sum() / truth.sum()\n",
      "W0430 23:21:59.108067 140594404546368 metrics.py:103] DICE score is technically 1.0, but prediction and truth arrays are empty. \n"
     ]
    },
    {
     "name": "stderr",
     "output_type": "stream",
     "text": [
      "W0430 23:21:59.119548 140594404546368 metrics.py:103] DICE score is technically 1.0, but prediction and truth arrays are empty. \n"
     ]
    },
    {
     "name": "stderr",
     "output_type": "stream",
     "text": [
      "W0430 23:21:59.130419 140594404546368 metrics.py:103] DICE score is technically 1.0, but prediction and truth arrays are empty. \n"
     ]
    },
    {
     "name": "stderr",
     "output_type": "stream",
     "text": [
      "W0430 23:21:59.141950 140594404546368 metrics.py:103] DICE score is technically 1.0, but prediction and truth arrays are empty. \n"
     ]
    },
    {
     "name": "stderr",
     "output_type": "stream",
     "text": [
      "W0430 23:21:59.152580 140594404546368 metrics.py:103] DICE score is technically 1.0, but prediction and truth arrays are empty. \n"
     ]
    },
    {
     "name": "stderr",
     "output_type": "stream",
     "text": [
      "W0430 23:21:59.166523 140594404546368 metrics.py:103] DICE score is technically 1.0, but prediction and truth arrays are empty. \n"
     ]
    },
    {
     "name": "stderr",
     "output_type": "stream",
     "text": [
      "W0430 23:21:59.181660 140594404546368 metrics.py:103] DICE score is technically 1.0, but prediction and truth arrays are empty. \n"
     ]
    },
    {
     "name": "stderr",
     "output_type": "stream",
     "text": [
      "W0430 23:21:59.195104 140594404546368 metrics.py:103] DICE score is technically 1.0, but prediction and truth arrays are empty. \n"
     ]
    },
    {
     "name": "stderr",
     "output_type": "stream",
     "text": [
      "W0430 23:21:59.207055 140594404546368 metrics.py:103] DICE score is technically 1.0, but prediction and truth arrays are empty. \n"
     ]
    },
    {
     "name": "stderr",
     "output_type": "stream",
     "text": [
      "W0430 23:21:59.217659 140594404546368 metrics.py:103] DICE score is technically 1.0, but prediction and truth arrays are empty. \n"
     ]
    },
    {
     "name": "stderr",
     "output_type": "stream",
     "text": [
      "W0430 23:21:59.227961 140594404546368 metrics.py:103] DICE score is technically 1.0, but prediction and truth arrays are empty. \n"
     ]
    },
    {
     "name": "stderr",
     "output_type": "stream",
     "text": [
      "W0430 23:21:59.240422 140594404546368 metrics.py:103] DICE score is technically 1.0, but prediction and truth arrays are empty. \n"
     ]
    },
    {
     "name": "stderr",
     "output_type": "stream",
     "text": [
      "W0430 23:21:59.254355 140594404546368 metrics.py:103] DICE score is technically 1.0, but prediction and truth arrays are empty. \n"
     ]
    },
    {
     "name": "stderr",
     "output_type": "stream",
     "text": [
      "W0430 23:21:59.264561 140594404546368 metrics.py:103] DICE score is technically 1.0, but prediction and truth arrays are empty. \n"
     ]
    },
    {
     "name": "stderr",
     "output_type": "stream",
     "text": [
      "W0430 23:21:59.274582 140594404546368 metrics.py:103] DICE score is technically 1.0, but prediction and truth arrays are empty. \n"
     ]
    },
    {
     "name": "stderr",
     "output_type": "stream",
     "text": [
      "W0430 23:21:59.288272 140594404546368 metrics.py:103] DICE score is technically 1.0, but prediction and truth arrays are empty. \n"
     ]
    },
    {
     "name": "stderr",
     "output_type": "stream",
     "text": [
      "W0430 23:21:59.299915 140594404546368 metrics.py:103] DICE score is technically 1.0, but prediction and truth arrays are empty. \n"
     ]
    },
    {
     "name": "stderr",
     "output_type": "stream",
     "text": [
      "W0430 23:21:59.310292 140594404546368 metrics.py:103] DICE score is technically 1.0, but prediction and truth arrays are empty. \n"
     ]
    },
    {
     "name": "stderr",
     "output_type": "stream",
     "text": [
      "W0430 23:21:59.320726 140594404546368 metrics.py:103] DICE score is technically 1.0, but prediction and truth arrays are empty. \n"
     ]
    },
    {
     "name": "stderr",
     "output_type": "stream",
     "text": [
      "W0430 23:21:59.330961 140594404546368 metrics.py:103] DICE score is technically 1.0, but prediction and truth arrays are empty. \n"
     ]
    },
    {
     "name": "stderr",
     "output_type": "stream",
     "text": [
      "W0430 23:21:59.341438 140594404546368 metrics.py:103] DICE score is technically 1.0, but prediction and truth arrays are empty. \n"
     ]
    },
    {
     "name": "stderr",
     "output_type": "stream",
     "text": [
      "W0430 23:21:59.351524 140594404546368 metrics.py:103] DICE score is technically 1.0, but prediction and truth arrays are empty. \n"
     ]
    },
    {
     "name": "stderr",
     "output_type": "stream",
     "text": [
      "W0430 23:21:59.362293 140594404546368 metrics.py:103] DICE score is technically 1.0, but prediction and truth arrays are empty. \n"
     ]
    },
    {
     "name": "stderr",
     "output_type": "stream",
     "text": [
      "W0430 23:21:59.372738 140594404546368 metrics.py:103] DICE score is technically 1.0, but prediction and truth arrays are empty. \n"
     ]
    },
    {
     "name": "stderr",
     "output_type": "stream",
     "text": [
      "W0430 23:21:59.383247 140594404546368 metrics.py:103] DICE score is technically 1.0, but prediction and truth arrays are empty. \n"
     ]
    },
    {
     "name": "stderr",
     "output_type": "stream",
     "text": [
      "W0430 23:21:59.394032 140594404546368 metrics.py:103] DICE score is technically 1.0, but prediction and truth arrays are empty. \n"
     ]
    },
    {
     "name": "stderr",
     "output_type": "stream",
     "text": [
      "W0430 23:21:59.408016 140594404546368 metrics.py:103] DICE score is technically 1.0, but prediction and truth arrays are empty. \n"
     ]
    },
    {
     "name": "stderr",
     "output_type": "stream",
     "text": [
      "W0430 23:21:59.423729 140594404546368 metrics.py:103] DICE score is technically 1.0, but prediction and truth arrays are empty. \n"
     ]
    },
    {
     "name": "stderr",
     "output_type": "stream",
     "text": [
      "W0430 23:21:59.440989 140594404546368 metrics.py:103] DICE score is technically 1.0, but prediction and truth arrays are empty. \n"
     ]
    },
    {
     "name": "stderr",
     "output_type": "stream",
     "text": [
      "W0430 23:21:59.453480 140594404546368 metrics.py:103] DICE score is technically 1.0, but prediction and truth arrays are empty. \n"
     ]
    },
    {
     "name": "stderr",
     "output_type": "stream",
     "text": [
      "W0430 23:21:59.464551 140594404546368 metrics.py:103] DICE score is technically 1.0, but prediction and truth arrays are empty. \n"
     ]
    },
    {
     "name": "stderr",
     "output_type": "stream",
     "text": [
      "W0430 23:21:59.475210 140594404546368 metrics.py:103] DICE score is technically 1.0, but prediction and truth arrays are empty. \n"
     ]
    },
    {
     "name": "stderr",
     "output_type": "stream",
     "text": [
      "W0430 23:21:59.485676 140594404546368 metrics.py:103] DICE score is technically 1.0, but prediction and truth arrays are empty. \n"
     ]
    },
    {
     "name": "stderr",
     "output_type": "stream",
     "text": [
      "W0430 23:21:59.498949 140594404546368 metrics.py:103] DICE score is technically 1.0, but prediction and truth arrays are empty. \n"
     ]
    },
    {
     "name": "stderr",
     "output_type": "stream",
     "text": [
      "W0430 23:21:59.509856 140594404546368 metrics.py:103] DICE score is technically 1.0, but prediction and truth arrays are empty. \n"
     ]
    },
    {
     "name": "stderr",
     "output_type": "stream",
     "text": [
      "W0430 23:21:59.520731 140594404546368 metrics.py:103] DICE score is technically 1.0, but prediction and truth arrays are empty. \n"
     ]
    },
    {
     "name": "stderr",
     "output_type": "stream",
     "text": [
      "W0430 23:21:59.531137 140594404546368 metrics.py:103] DICE score is technically 1.0, but prediction and truth arrays are empty. \n"
     ]
    },
    {
     "name": "stderr",
     "output_type": "stream",
     "text": [
      "W0430 23:21:59.541788 140594404546368 metrics.py:103] DICE score is technically 1.0, but prediction and truth arrays are empty. \n"
     ]
    },
    {
     "name": "stderr",
     "output_type": "stream",
     "text": [
      "W0430 23:21:59.552397 140594404546368 metrics.py:103] DICE score is technically 1.0, but prediction and truth arrays are empty. \n"
     ]
    },
    {
     "name": "stderr",
     "output_type": "stream",
     "text": [
      "W0430 23:22:02.019278 140594404546368 metrics.py:103] DICE score is technically 1.0, but prediction and truth arrays are empty. \n"
     ]
    },
    {
     "name": "stderr",
     "output_type": "stream",
     "text": [
      "W0430 23:22:02.030124 140594404546368 metrics.py:103] DICE score is technically 1.0, but prediction and truth arrays are empty. \n"
     ]
    },
    {
     "name": "stderr",
     "output_type": "stream",
     "text": [
      "W0430 23:22:02.041020 140594404546368 metrics.py:103] DICE score is technically 1.0, but prediction and truth arrays are empty. \n"
     ]
    },
    {
     "name": "stderr",
     "output_type": "stream",
     "text": [
      "W0430 23:22:02.051542 140594404546368 metrics.py:103] DICE score is technically 1.0, but prediction and truth arrays are empty. \n"
     ]
    },
    {
     "name": "stderr",
     "output_type": "stream",
     "text": [
      "W0430 23:22:02.062351 140594404546368 metrics.py:103] DICE score is technically 1.0, but prediction and truth arrays are empty. \n"
     ]
    },
    {
     "name": "stderr",
     "output_type": "stream",
     "text": [
      "W0430 23:22:02.076450 140594404546368 metrics.py:103] DICE score is technically 1.0, but prediction and truth arrays are empty. \n"
     ]
    },
    {
     "name": "stderr",
     "output_type": "stream",
     "text": [
      "W0430 23:22:02.092662 140594404546368 metrics.py:103] DICE score is technically 1.0, but prediction and truth arrays are empty. \n"
     ]
    },
    {
     "name": "stderr",
     "output_type": "stream",
     "text": [
      "W0430 23:22:02.104021 140594404546368 metrics.py:103] DICE score is technically 1.0, but prediction and truth arrays are empty. \n"
     ]
    },
    {
     "name": "stderr",
     "output_type": "stream",
     "text": [
      "W0430 23:22:02.115335 140594404546368 metrics.py:103] DICE score is technically 1.0, but prediction and truth arrays are empty. \n"
     ]
    },
    {
     "name": "stderr",
     "output_type": "stream",
     "text": [
      "W0430 23:22:02.126755 140594404546368 metrics.py:103] DICE score is technically 1.0, but prediction and truth arrays are empty. \n"
     ]
    },
    {
     "name": "stderr",
     "output_type": "stream",
     "text": [
      "W0430 23:22:02.137065 140594404546368 metrics.py:103] DICE score is technically 1.0, but prediction and truth arrays are empty. \n"
     ]
    },
    {
     "name": "stderr",
     "output_type": "stream",
     "text": [
      "W0430 23:22:02.147206 140594404546368 metrics.py:103] DICE score is technically 1.0, but prediction and truth arrays are empty. \n"
     ]
    },
    {
     "name": "stderr",
     "output_type": "stream",
     "text": [
      "W0430 23:22:02.158770 140594404546368 metrics.py:103] DICE score is technically 1.0, but prediction and truth arrays are empty. \n"
     ]
    },
    {
     "name": "stderr",
     "output_type": "stream",
     "text": [
      "W0430 23:22:02.171543 140594404546368 metrics.py:103] DICE score is technically 1.0, but prediction and truth arrays are empty. \n"
     ]
    },
    {
     "name": "stderr",
     "output_type": "stream",
     "text": [
      "W0430 23:22:02.182112 140594404546368 metrics.py:103] DICE score is technically 1.0, but prediction and truth arrays are empty. \n"
     ]
    },
    {
     "name": "stderr",
     "output_type": "stream",
     "text": [
      "W0430 23:22:02.192494 140594404546368 metrics.py:103] DICE score is technically 1.0, but prediction and truth arrays are empty. \n"
     ]
    },
    {
     "name": "stderr",
     "output_type": "stream",
     "text": [
      "W0430 23:22:02.203292 140594404546368 metrics.py:103] DICE score is technically 1.0, but prediction and truth arrays are empty. \n"
     ]
    },
    {
     "name": "stderr",
     "output_type": "stream",
     "text": [
      "W0430 23:22:02.213998 140594404546368 metrics.py:103] DICE score is technically 1.0, but prediction and truth arrays are empty. \n"
     ]
    },
    {
     "name": "stderr",
     "output_type": "stream",
     "text": [
      "W0430 23:22:02.225405 140594404546368 metrics.py:103] DICE score is technically 1.0, but prediction and truth arrays are empty. \n"
     ]
    },
    {
     "name": "stderr",
     "output_type": "stream",
     "text": [
      "W0430 23:22:02.236149 140594404546368 metrics.py:103] DICE score is technically 1.0, but prediction and truth arrays are empty. \n"
     ]
    },
    {
     "name": "stderr",
     "output_type": "stream",
     "text": [
      "W0430 23:22:02.247111 140594404546368 metrics.py:103] DICE score is technically 1.0, but prediction and truth arrays are empty. \n"
     ]
    },
    {
     "name": "stderr",
     "output_type": "stream",
     "text": [
      "W0430 23:22:02.267468 140594404546368 metrics.py:103] DICE score is technically 1.0, but prediction and truth arrays are empty. \n"
     ]
    },
    {
     "name": "stderr",
     "output_type": "stream",
     "text": [
      "W0430 23:22:02.279824 140594404546368 metrics.py:103] DICE score is technically 1.0, but prediction and truth arrays are empty. \n"
     ]
    },
    {
     "name": "stderr",
     "output_type": "stream",
     "text": [
      "W0430 23:22:02.295411 140594404546368 metrics.py:103] DICE score is technically 1.0, but prediction and truth arrays are empty. \n"
     ]
    },
    {
     "name": "stderr",
     "output_type": "stream",
     "text": [
      "W0430 23:22:02.311566 140594404546368 metrics.py:103] DICE score is technically 1.0, but prediction and truth arrays are empty. \n"
     ]
    },
    {
     "name": "stderr",
     "output_type": "stream",
     "text": [
      "W0430 23:22:02.322983 140594404546368 metrics.py:103] DICE score is technically 1.0, but prediction and truth arrays are empty. \n"
     ]
    },
    {
     "name": "stderr",
     "output_type": "stream",
     "text": [
      "W0430 23:22:02.336577 140594404546368 metrics.py:103] DICE score is technically 1.0, but prediction and truth arrays are empty. \n"
     ]
    },
    {
     "name": "stderr",
     "output_type": "stream",
     "text": [
      "W0430 23:22:02.346733 140594404546368 metrics.py:103] DICE score is technically 1.0, but prediction and truth arrays are empty. \n"
     ]
    },
    {
     "name": "stderr",
     "output_type": "stream",
     "text": [
      "W0430 23:22:02.357191 140594404546368 metrics.py:103] DICE score is technically 1.0, but prediction and truth arrays are empty. \n"
     ]
    },
    {
     "name": "stderr",
     "output_type": "stream",
     "text": [
      "W0430 23:22:02.370199 140594404546368 metrics.py:103] DICE score is technically 1.0, but prediction and truth arrays are empty. \n"
     ]
    },
    {
     "name": "stderr",
     "output_type": "stream",
     "text": [
      "W0430 23:22:02.386158 140594404546368 metrics.py:103] DICE score is technically 1.0, but prediction and truth arrays are empty. \n"
     ]
    },
    {
     "name": "stderr",
     "output_type": "stream",
     "text": [
      "W0430 23:22:02.402314 140594404546368 metrics.py:103] DICE score is technically 1.0, but prediction and truth arrays are empty. \n"
     ]
    },
    {
     "name": "stderr",
     "output_type": "stream",
     "text": [
      "W0430 23:22:02.413213 140594404546368 metrics.py:103] DICE score is technically 1.0, but prediction and truth arrays are empty. \n"
     ]
    },
    {
     "name": "stderr",
     "output_type": "stream",
     "text": [
      "W0430 23:22:02.424108 140594404546368 metrics.py:103] DICE score is technically 1.0, but prediction and truth arrays are empty. \n"
     ]
    },
    {
     "name": "stderr",
     "output_type": "stream",
     "text": [
      "W0430 23:22:02.435319 140594404546368 metrics.py:103] DICE score is technically 1.0, but prediction and truth arrays are empty. \n"
     ]
    },
    {
     "name": "stderr",
     "output_type": "stream",
     "text": [
      "W0430 23:22:02.446313 140594404546368 metrics.py:103] DICE score is technically 1.0, but prediction and truth arrays are empty. \n"
     ]
    },
    {
     "name": "stderr",
     "output_type": "stream",
     "text": [
      "W0430 23:22:02.457539 140594404546368 metrics.py:103] DICE score is technically 1.0, but prediction and truth arrays are empty. \n"
     ]
    },
    {
     "name": "stderr",
     "output_type": "stream",
     "text": [
      "W0430 23:22:02.468780 140594404546368 metrics.py:103] DICE score is technically 1.0, but prediction and truth arrays are empty. \n"
     ]
    },
    {
     "name": "stderr",
     "output_type": "stream",
     "text": [
      "W0430 23:22:02.479861 140594404546368 metrics.py:103] DICE score is technically 1.0, but prediction and truth arrays are empty. \n"
     ]
    },
    {
     "name": "stderr",
     "output_type": "stream",
     "text": [
      "W0430 23:22:08.684749 140594404546368 metrics.py:103] DICE score is technically 1.0, but prediction and truth arrays are empty. \n"
     ]
    },
    {
     "name": "stderr",
     "output_type": "stream",
     "text": [
      "W0430 23:22:08.696531 140594404546368 metrics.py:103] DICE score is technically 1.0, but prediction and truth arrays are empty. \n"
     ]
    },
    {
     "name": "stderr",
     "output_type": "stream",
     "text": [
      "W0430 23:22:08.707861 140594404546368 metrics.py:103] DICE score is technically 1.0, but prediction and truth arrays are empty. \n"
     ]
    },
    {
     "name": "stderr",
     "output_type": "stream",
     "text": [
      "W0430 23:22:08.719001 140594404546368 metrics.py:103] DICE score is technically 1.0, but prediction and truth arrays are empty. \n"
     ]
    },
    {
     "name": "stderr",
     "output_type": "stream",
     "text": [
      "W0430 23:22:08.732864 140594404546368 metrics.py:103] DICE score is technically 1.0, but prediction and truth arrays are empty. \n"
     ]
    },
    {
     "name": "stderr",
     "output_type": "stream",
     "text": [
      "W0430 23:22:08.743927 140594404546368 metrics.py:103] DICE score is technically 1.0, but prediction and truth arrays are empty. \n"
     ]
    },
    {
     "name": "stderr",
     "output_type": "stream",
     "text": [
      "W0430 23:22:08.754103 140594404546368 metrics.py:103] DICE score is technically 1.0, but prediction and truth arrays are empty. \n"
     ]
    },
    {
     "name": "stderr",
     "output_type": "stream",
     "text": [
      "W0430 23:22:08.765261 140594404546368 metrics.py:103] DICE score is technically 1.0, but prediction and truth arrays are empty. \n"
     ]
    },
    {
     "name": "stderr",
     "output_type": "stream",
     "text": [
      "W0430 23:22:08.779527 140594404546368 metrics.py:103] DICE score is technically 1.0, but prediction and truth arrays are empty. \n"
     ]
    },
    {
     "name": "stderr",
     "output_type": "stream",
     "text": [
      "W0430 23:22:08.790495 140594404546368 metrics.py:103] DICE score is technically 1.0, but prediction and truth arrays are empty. \n"
     ]
    },
    {
     "name": "stderr",
     "output_type": "stream",
     "text": [
      "W0430 23:22:08.801352 140594404546368 metrics.py:103] DICE score is technically 1.0, but prediction and truth arrays are empty. \n"
     ]
    },
    {
     "name": "stderr",
     "output_type": "stream",
     "text": [
      "W0430 23:22:08.811911 140594404546368 metrics.py:103] DICE score is technically 1.0, but prediction and truth arrays are empty. \n"
     ]
    },
    {
     "name": "stderr",
     "output_type": "stream",
     "text": [
      "W0430 23:22:08.822720 140594404546368 metrics.py:103] DICE score is technically 1.0, but prediction and truth arrays are empty. \n"
     ]
    },
    {
     "name": "stderr",
     "output_type": "stream",
     "text": [
      "W0430 23:22:08.833438 140594404546368 metrics.py:103] DICE score is technically 1.0, but prediction and truth arrays are empty. \n"
     ]
    },
    {
     "name": "stderr",
     "output_type": "stream",
     "text": [
      "W0430 23:22:08.844223 140594404546368 metrics.py:103] DICE score is technically 1.0, but prediction and truth arrays are empty. \n"
     ]
    },
    {
     "name": "stderr",
     "output_type": "stream",
     "text": [
      "W0430 23:22:08.854811 140594404546368 metrics.py:103] DICE score is technically 1.0, but prediction and truth arrays are empty. \n"
     ]
    },
    {
     "name": "stderr",
     "output_type": "stream",
     "text": [
      "W0430 23:22:08.865428 140594404546368 metrics.py:103] DICE score is technically 1.0, but prediction and truth arrays are empty. \n"
     ]
    },
    {
     "name": "stderr",
     "output_type": "stream",
     "text": [
      "W0430 23:22:08.876317 140594404546368 metrics.py:103] DICE score is technically 1.0, but prediction and truth arrays are empty. \n"
     ]
    },
    {
     "name": "stderr",
     "output_type": "stream",
     "text": [
      "W0430 23:22:08.888594 140594404546368 metrics.py:103] DICE score is technically 1.0, but prediction and truth arrays are empty. \n"
     ]
    },
    {
     "name": "stderr",
     "output_type": "stream",
     "text": [
      "W0430 23:22:08.901396 140594404546368 metrics.py:103] DICE score is technically 1.0, but prediction and truth arrays are empty. \n"
     ]
    },
    {
     "name": "stderr",
     "output_type": "stream",
     "text": [
      "W0430 23:22:08.918267 140594404546368 metrics.py:103] DICE score is technically 1.0, but prediction and truth arrays are empty. \n"
     ]
    },
    {
     "name": "stderr",
     "output_type": "stream",
     "text": [
      "W0430 23:22:08.929432 140594404546368 metrics.py:103] DICE score is technically 1.0, but prediction and truth arrays are empty. \n"
     ]
    },
    {
     "name": "stderr",
     "output_type": "stream",
     "text": [
      "W0430 23:22:08.944749 140594404546368 metrics.py:103] DICE score is technically 1.0, but prediction and truth arrays are empty. \n"
     ]
    },
    {
     "name": "stderr",
     "output_type": "stream",
     "text": [
      "W0430 23:22:08.956355 140594404546368 metrics.py:103] DICE score is technically 1.0, but prediction and truth arrays are empty. \n"
     ]
    },
    {
     "name": "stderr",
     "output_type": "stream",
     "text": [
      "W0430 23:22:08.966777 140594404546368 metrics.py:103] DICE score is technically 1.0, but prediction and truth arrays are empty. \n"
     ]
    },
    {
     "name": "stderr",
     "output_type": "stream",
     "text": [
      "W0430 23:22:08.978489 140594404546368 metrics.py:103] DICE score is technically 1.0, but prediction and truth arrays are empty. \n"
     ]
    },
    {
     "name": "stderr",
     "output_type": "stream",
     "text": [
      "W0430 23:22:08.993020 140594404546368 metrics.py:103] DICE score is technically 1.0, but prediction and truth arrays are empty. \n"
     ]
    },
    {
     "name": "stderr",
     "output_type": "stream",
     "text": [
      "W0430 23:22:09.003984 140594404546368 metrics.py:103] DICE score is technically 1.0, but prediction and truth arrays are empty. \n"
     ]
    },
    {
     "name": "stderr",
     "output_type": "stream",
     "text": [
      "W0430 23:22:09.014713 140594404546368 metrics.py:103] DICE score is technically 1.0, but prediction and truth arrays are empty. \n"
     ]
    },
    {
     "name": "stderr",
     "output_type": "stream",
     "text": [
      "W0430 23:22:09.026036 140594404546368 metrics.py:103] DICE score is technically 1.0, but prediction and truth arrays are empty. \n"
     ]
    },
    {
     "name": "stderr",
     "output_type": "stream",
     "text": [
      "W0430 23:22:09.037146 140594404546368 metrics.py:103] DICE score is technically 1.0, but prediction and truth arrays are empty. \n"
     ]
    },
    {
     "name": "stderr",
     "output_type": "stream",
     "text": [
      "W0430 23:22:09.047676 140594404546368 metrics.py:103] DICE score is technically 1.0, but prediction and truth arrays are empty. \n"
     ]
    },
    {
     "name": "stderr",
     "output_type": "stream",
     "text": [
      "W0430 23:22:09.059022 140594404546368 metrics.py:103] DICE score is technically 1.0, but prediction and truth arrays are empty. \n"
     ]
    },
    {
     "name": "stderr",
     "output_type": "stream",
     "text": [
      "W0430 23:22:09.069849 140594404546368 metrics.py:103] DICE score is technically 1.0, but prediction and truth arrays are empty. \n"
     ]
    },
    {
     "name": "stderr",
     "output_type": "stream",
     "text": [
      "W0430 23:22:09.081001 140594404546368 metrics.py:103] DICE score is technically 1.0, but prediction and truth arrays are empty. \n"
     ]
    },
    {
     "name": "stderr",
     "output_type": "stream",
     "text": [
      "W0430 23:22:09.091667 140594404546368 metrics.py:103] DICE score is technically 1.0, but prediction and truth arrays are empty. \n"
     ]
    },
    {
     "name": "stderr",
     "output_type": "stream",
     "text": [
      "W0430 23:22:09.104645 140594404546368 metrics.py:103] DICE score is technically 1.0, but prediction and truth arrays are empty. \n"
     ]
    },
    {
     "name": "stderr",
     "output_type": "stream",
     "text": [
      "W0430 23:22:09.115836 140594404546368 metrics.py:103] DICE score is technically 1.0, but prediction and truth arrays are empty. \n"
     ]
    },
    {
     "name": "stderr",
     "output_type": "stream",
     "text": [
      "W0430 23:22:09.127082 140594404546368 metrics.py:103] DICE score is technically 1.0, but prediction and truth arrays are empty. \n"
     ]
    },
    {
     "name": "stderr",
     "output_type": "stream",
     "text": [
      "W0430 23:22:09.138878 140594404546368 metrics.py:103] DICE score is technically 1.0, but prediction and truth arrays are empty. \n"
     ]
    },
    {
     "name": "stderr",
     "output_type": "stream",
     "text": [
      "W0430 23:22:09.906806 140594404546368 metrics.py:103] DICE score is technically 1.0, but prediction and truth arrays are empty. \n"
     ]
    },
    {
     "name": "stderr",
     "output_type": "stream",
     "text": [
      "W0430 23:22:09.918582 140594404546368 metrics.py:103] DICE score is technically 1.0, but prediction and truth arrays are empty. \n"
     ]
    },
    {
     "name": "stderr",
     "output_type": "stream",
     "text": [
      "W0430 23:22:09.929800 140594404546368 metrics.py:103] DICE score is technically 1.0, but prediction and truth arrays are empty. \n"
     ]
    },
    {
     "name": "stderr",
     "output_type": "stream",
     "text": [
      "W0430 23:22:09.940581 140594404546368 metrics.py:103] DICE score is technically 1.0, but prediction and truth arrays are empty. \n"
     ]
    },
    {
     "name": "stderr",
     "output_type": "stream",
     "text": [
      "W0430 23:22:09.951325 140594404546368 metrics.py:103] DICE score is technically 1.0, but prediction and truth arrays are empty. \n"
     ]
    },
    {
     "name": "stderr",
     "output_type": "stream",
     "text": [
      "W0430 23:22:09.962688 140594404546368 metrics.py:103] DICE score is technically 1.0, but prediction and truth arrays are empty. \n"
     ]
    },
    {
     "name": "stderr",
     "output_type": "stream",
     "text": [
      "W0430 23:22:09.975814 140594404546368 metrics.py:103] DICE score is technically 1.0, but prediction and truth arrays are empty. \n"
     ]
    },
    {
     "name": "stderr",
     "output_type": "stream",
     "text": [
      "W0430 23:22:09.986669 140594404546368 metrics.py:103] DICE score is technically 1.0, but prediction and truth arrays are empty. \n"
     ]
    },
    {
     "name": "stderr",
     "output_type": "stream",
     "text": [
      "W0430 23:22:09.997419 140594404546368 metrics.py:103] DICE score is technically 1.0, but prediction and truth arrays are empty. \n"
     ]
    },
    {
     "name": "stderr",
     "output_type": "stream",
     "text": [
      "W0430 23:22:10.010470 140594404546368 metrics.py:103] DICE score is technically 1.0, but prediction and truth arrays are empty. \n"
     ]
    },
    {
     "name": "stderr",
     "output_type": "stream",
     "text": [
      "W0430 23:22:10.021767 140594404546368 metrics.py:103] DICE score is technically 1.0, but prediction and truth arrays are empty. \n"
     ]
    },
    {
     "name": "stderr",
     "output_type": "stream",
     "text": [
      "W0430 23:22:10.032458 140594404546368 metrics.py:103] DICE score is technically 1.0, but prediction and truth arrays are empty. \n"
     ]
    },
    {
     "name": "stderr",
     "output_type": "stream",
     "text": [
      "W0430 23:22:10.043033 140594404546368 metrics.py:103] DICE score is technically 1.0, but prediction and truth arrays are empty. \n"
     ]
    },
    {
     "name": "stderr",
     "output_type": "stream",
     "text": [
      "W0430 23:22:10.053528 140594404546368 metrics.py:103] DICE score is technically 1.0, but prediction and truth arrays are empty. \n"
     ]
    },
    {
     "name": "stderr",
     "output_type": "stream",
     "text": [
      "W0430 23:22:10.063860 140594404546368 metrics.py:103] DICE score is technically 1.0, but prediction and truth arrays are empty. \n"
     ]
    },
    {
     "name": "stderr",
     "output_type": "stream",
     "text": [
      "W0430 23:22:10.074502 140594404546368 metrics.py:103] DICE score is technically 1.0, but prediction and truth arrays are empty. \n"
     ]
    },
    {
     "name": "stderr",
     "output_type": "stream",
     "text": [
      "W0430 23:22:10.084889 140594404546368 metrics.py:103] DICE score is technically 1.0, but prediction and truth arrays are empty. \n"
     ]
    },
    {
     "name": "stderr",
     "output_type": "stream",
     "text": [
      "W0430 23:22:10.095585 140594404546368 metrics.py:103] DICE score is technically 1.0, but prediction and truth arrays are empty. \n"
     ]
    },
    {
     "name": "stderr",
     "output_type": "stream",
     "text": [
      "W0430 23:22:10.106267 140594404546368 metrics.py:103] DICE score is technically 1.0, but prediction and truth arrays are empty. \n"
     ]
    },
    {
     "name": "stderr",
     "output_type": "stream",
     "text": [
      "W0430 23:22:10.117329 140594404546368 metrics.py:103] DICE score is technically 1.0, but prediction and truth arrays are empty. \n"
     ]
    },
    {
     "name": "stderr",
     "output_type": "stream",
     "text": [
      "W0430 23:22:10.131750 140594404546368 metrics.py:103] DICE score is technically 1.0, but prediction and truth arrays are empty. \n"
     ]
    },
    {
     "name": "stderr",
     "output_type": "stream",
     "text": [
      "W0430 23:22:10.143013 140594404546368 metrics.py:103] DICE score is technically 1.0, but prediction and truth arrays are empty. \n"
     ]
    },
    {
     "name": "stderr",
     "output_type": "stream",
     "text": [
      "W0430 23:22:10.153777 140594404546368 metrics.py:103] DICE score is technically 1.0, but prediction and truth arrays are empty. \n"
     ]
    },
    {
     "name": "stderr",
     "output_type": "stream",
     "text": [
      "W0430 23:22:10.166790 140594404546368 metrics.py:103] DICE score is technically 1.0, but prediction and truth arrays are empty. \n"
     ]
    },
    {
     "name": "stderr",
     "output_type": "stream",
     "text": [
      "W0430 23:22:10.180632 140594404546368 metrics.py:103] DICE score is technically 1.0, but prediction and truth arrays are empty. \n"
     ]
    },
    {
     "name": "stderr",
     "output_type": "stream",
     "text": [
      "W0430 23:22:10.190898 140594404546368 metrics.py:103] DICE score is technically 1.0, but prediction and truth arrays are empty. \n"
     ]
    },
    {
     "name": "stderr",
     "output_type": "stream",
     "text": [
      "W0430 23:22:10.202680 140594404546368 metrics.py:103] DICE score is technically 1.0, but prediction and truth arrays are empty. \n"
     ]
    },
    {
     "name": "stderr",
     "output_type": "stream",
     "text": [
      "W0430 23:22:10.218816 140594404546368 metrics.py:103] DICE score is technically 1.0, but prediction and truth arrays are empty. \n"
     ]
    },
    {
     "name": "stderr",
     "output_type": "stream",
     "text": [
      "W0430 23:22:10.229691 140594404546368 metrics.py:103] DICE score is technically 1.0, but prediction and truth arrays are empty. \n"
     ]
    },
    {
     "name": "stderr",
     "output_type": "stream",
     "text": [
      "W0430 23:22:10.240967 140594404546368 metrics.py:103] DICE score is technically 1.0, but prediction and truth arrays are empty. \n"
     ]
    },
    {
     "name": "stderr",
     "output_type": "stream",
     "text": [
      "W0430 23:22:10.252086 140594404546368 metrics.py:103] DICE score is technically 1.0, but prediction and truth arrays are empty. \n"
     ]
    },
    {
     "name": "stderr",
     "output_type": "stream",
     "text": [
      "W0430 23:22:10.262885 140594404546368 metrics.py:103] DICE score is technically 1.0, but prediction and truth arrays are empty. \n"
     ]
    },
    {
     "name": "stderr",
     "output_type": "stream",
     "text": [
      "W0430 23:22:10.273765 140594404546368 metrics.py:103] DICE score is technically 1.0, but prediction and truth arrays are empty. \n"
     ]
    },
    {
     "name": "stderr",
     "output_type": "stream",
     "text": [
      "W0430 23:22:10.284674 140594404546368 metrics.py:103] DICE score is technically 1.0, but prediction and truth arrays are empty. \n"
     ]
    },
    {
     "name": "stderr",
     "output_type": "stream",
     "text": [
      "W0430 23:22:10.295483 140594404546368 metrics.py:103] DICE score is technically 1.0, but prediction and truth arrays are empty. \n"
     ]
    },
    {
     "name": "stderr",
     "output_type": "stream",
     "text": [
      "W0430 23:22:10.307234 140594404546368 metrics.py:103] DICE score is technically 1.0, but prediction and truth arrays are empty. \n"
     ]
    },
    {
     "name": "stderr",
     "output_type": "stream",
     "text": [
      "W0430 23:22:10.318904 140594404546368 metrics.py:103] DICE score is technically 1.0, but prediction and truth arrays are empty. \n"
     ]
    },
    {
     "name": "stderr",
     "output_type": "stream",
     "text": [
      "W0430 23:22:10.330198 140594404546368 metrics.py:103] DICE score is technically 1.0, but prediction and truth arrays are empty. \n"
     ]
    },
    {
     "name": "stderr",
     "output_type": "stream",
     "text": [
      "W0430 23:22:11.097019 140594404546368 metrics.py:103] DICE score is technically 1.0, but prediction and truth arrays are empty. \n"
     ]
    },
    {
     "name": "stderr",
     "output_type": "stream",
     "text": [
      "W0430 23:22:11.107626 140594404546368 metrics.py:103] DICE score is technically 1.0, but prediction and truth arrays are empty. \n"
     ]
    },
    {
     "name": "stderr",
     "output_type": "stream",
     "text": [
      "W0430 23:22:11.118219 140594404546368 metrics.py:103] DICE score is technically 1.0, but prediction and truth arrays are empty. \n"
     ]
    },
    {
     "name": "stderr",
     "output_type": "stream",
     "text": [
      "W0430 23:22:11.129114 140594404546368 metrics.py:103] DICE score is technically 1.0, but prediction and truth arrays are empty. \n"
     ]
    },
    {
     "name": "stderr",
     "output_type": "stream",
     "text": [
      "W0430 23:22:11.139759 140594404546368 metrics.py:103] DICE score is technically 1.0, but prediction and truth arrays are empty. \n"
     ]
    },
    {
     "name": "stderr",
     "output_type": "stream",
     "text": [
      "W0430 23:22:11.150834 140594404546368 metrics.py:103] DICE score is technically 1.0, but prediction and truth arrays are empty. \n"
     ]
    },
    {
     "name": "stderr",
     "output_type": "stream",
     "text": [
      "W0430 23:22:11.163369 140594404546368 metrics.py:103] DICE score is technically 1.0, but prediction and truth arrays are empty. \n"
     ]
    },
    {
     "name": "stderr",
     "output_type": "stream",
     "text": [
      "W0430 23:22:11.174619 140594404546368 metrics.py:103] DICE score is technically 1.0, but prediction and truth arrays are empty. \n"
     ]
    },
    {
     "name": "stderr",
     "output_type": "stream",
     "text": [
      "W0430 23:22:11.185835 140594404546368 metrics.py:103] DICE score is technically 1.0, but prediction and truth arrays are empty. \n"
     ]
    },
    {
     "name": "stderr",
     "output_type": "stream",
     "text": [
      "W0430 23:22:11.196752 140594404546368 metrics.py:103] DICE score is technically 1.0, but prediction and truth arrays are empty. \n"
     ]
    },
    {
     "name": "stderr",
     "output_type": "stream",
     "text": [
      "W0430 23:22:11.207581 140594404546368 metrics.py:103] DICE score is technically 1.0, but prediction and truth arrays are empty. \n"
     ]
    },
    {
     "name": "stderr",
     "output_type": "stream",
     "text": [
      "W0430 23:22:11.221269 140594404546368 metrics.py:103] DICE score is technically 1.0, but prediction and truth arrays are empty. \n"
     ]
    },
    {
     "name": "stderr",
     "output_type": "stream",
     "text": [
      "W0430 23:22:11.233375 140594404546368 metrics.py:103] DICE score is technically 1.0, but prediction and truth arrays are empty. \n"
     ]
    },
    {
     "name": "stderr",
     "output_type": "stream",
     "text": [
      "W0430 23:22:11.249018 140594404546368 metrics.py:103] DICE score is technically 1.0, but prediction and truth arrays are empty. \n"
     ]
    },
    {
     "name": "stderr",
     "output_type": "stream",
     "text": [
      "W0430 23:22:11.262572 140594404546368 metrics.py:103] DICE score is technically 1.0, but prediction and truth arrays are empty. \n"
     ]
    },
    {
     "name": "stderr",
     "output_type": "stream",
     "text": [
      "W0430 23:22:11.278681 140594404546368 metrics.py:103] DICE score is technically 1.0, but prediction and truth arrays are empty. \n"
     ]
    },
    {
     "name": "stderr",
     "output_type": "stream",
     "text": [
      "W0430 23:22:11.293550 140594404546368 metrics.py:103] DICE score is technically 1.0, but prediction and truth arrays are empty. \n"
     ]
    },
    {
     "name": "stderr",
     "output_type": "stream",
     "text": [
      "W0430 23:22:11.304255 140594404546368 metrics.py:103] DICE score is technically 1.0, but prediction and truth arrays are empty. \n"
     ]
    },
    {
     "name": "stderr",
     "output_type": "stream",
     "text": [
      "W0430 23:22:11.314947 140594404546368 metrics.py:103] DICE score is technically 1.0, but prediction and truth arrays are empty. \n"
     ]
    },
    {
     "name": "stderr",
     "output_type": "stream",
     "text": [
      "W0430 23:22:11.325445 140594404546368 metrics.py:103] DICE score is technically 1.0, but prediction and truth arrays are empty. \n"
     ]
    },
    {
     "name": "stderr",
     "output_type": "stream",
     "text": [
      "W0430 23:22:11.335923 140594404546368 metrics.py:103] DICE score is technically 1.0, but prediction and truth arrays are empty. \n"
     ]
    },
    {
     "name": "stderr",
     "output_type": "stream",
     "text": [
      "W0430 23:22:11.346634 140594404546368 metrics.py:103] DICE score is technically 1.0, but prediction and truth arrays are empty. \n"
     ]
    },
    {
     "name": "stderr",
     "output_type": "stream",
     "text": [
      "W0430 23:22:11.357126 140594404546368 metrics.py:103] DICE score is technically 1.0, but prediction and truth arrays are empty. \n"
     ]
    },
    {
     "name": "stderr",
     "output_type": "stream",
     "text": [
      "W0430 23:22:11.367663 140594404546368 metrics.py:103] DICE score is technically 1.0, but prediction and truth arrays are empty. \n"
     ]
    },
    {
     "name": "stderr",
     "output_type": "stream",
     "text": [
      "W0430 23:22:11.381184 140594404546368 metrics.py:103] DICE score is technically 1.0, but prediction and truth arrays are empty. \n"
     ]
    },
    {
     "name": "stderr",
     "output_type": "stream",
     "text": [
      "W0430 23:22:11.397810 140594404546368 metrics.py:103] DICE score is technically 1.0, but prediction and truth arrays are empty. \n"
     ]
    },
    {
     "name": "stderr",
     "output_type": "stream",
     "text": [
      "W0430 23:22:11.413819 140594404546368 metrics.py:103] DICE score is technically 1.0, but prediction and truth arrays are empty. \n"
     ]
    },
    {
     "name": "stderr",
     "output_type": "stream",
     "text": [
      "W0430 23:22:11.426334 140594404546368 metrics.py:103] DICE score is technically 1.0, but prediction and truth arrays are empty. \n"
     ]
    },
    {
     "name": "stderr",
     "output_type": "stream",
     "text": [
      "W0430 23:22:11.437994 140594404546368 metrics.py:103] DICE score is technically 1.0, but prediction and truth arrays are empty. \n"
     ]
    },
    {
     "name": "stderr",
     "output_type": "stream",
     "text": [
      "W0430 23:22:11.448817 140594404546368 metrics.py:103] DICE score is technically 1.0, but prediction and truth arrays are empty. \n"
     ]
    },
    {
     "name": "stderr",
     "output_type": "stream",
     "text": [
      "W0430 23:22:11.463921 140594404546368 metrics.py:103] DICE score is technically 1.0, but prediction and truth arrays are empty. \n"
     ]
    },
    {
     "name": "stderr",
     "output_type": "stream",
     "text": [
      "W0430 23:22:11.477688 140594404546368 metrics.py:103] DICE score is technically 1.0, but prediction and truth arrays are empty. \n"
     ]
    },
    {
     "name": "stderr",
     "output_type": "stream",
     "text": [
      "W0430 23:22:11.488875 140594404546368 metrics.py:103] DICE score is technically 1.0, but prediction and truth arrays are empty. \n"
     ]
    },
    {
     "name": "stderr",
     "output_type": "stream",
     "text": [
      "W0430 23:22:11.499912 140594404546368 metrics.py:103] DICE score is technically 1.0, but prediction and truth arrays are empty. \n"
     ]
    },
    {
     "name": "stderr",
     "output_type": "stream",
     "text": [
      "W0430 23:22:11.510913 140594404546368 metrics.py:103] DICE score is technically 1.0, but prediction and truth arrays are empty. \n"
     ]
    },
    {
     "name": "stderr",
     "output_type": "stream",
     "text": [
      "W0430 23:22:11.522326 140594404546368 metrics.py:103] DICE score is technically 1.0, but prediction and truth arrays are empty. \n"
     ]
    },
    {
     "name": "stderr",
     "output_type": "stream",
     "text": [
      "W0430 23:22:11.533362 140594404546368 metrics.py:103] DICE score is technically 1.0, but prediction and truth arrays are empty. \n"
     ]
    },
    {
     "name": "stderr",
     "output_type": "stream",
     "text": [
      "W0430 23:22:11.544172 140594404546368 metrics.py:103] DICE score is technically 1.0, but prediction and truth arrays are empty. \n"
     ]
    },
    {
     "name": "stderr",
     "output_type": "stream",
     "text": [
      "W0430 23:22:11.555358 140594404546368 metrics.py:103] DICE score is technically 1.0, but prediction and truth arrays are empty. \n"
     ]
    },
    {
     "name": "stderr",
     "output_type": "stream",
     "text": [
      "W0430 23:22:11.566359 140594404546368 metrics.py:103] DICE score is technically 1.0, but prediction and truth arrays are empty. \n"
     ]
    },
    {
     "name": "stderr",
     "output_type": "stream",
     "text": [
      "W0430 23:22:11.577016 140594404546368 metrics.py:103] DICE score is technically 1.0, but prediction and truth arrays are empty. \n"
     ]
    },
    {
     "name": "stderr",
     "output_type": "stream",
     "text": [
      "W0430 23:22:11.590066 140594404546368 metrics.py:103] DICE score is technically 1.0, but prediction and truth arrays are empty. \n"
     ]
    },
    {
     "name": "stderr",
     "output_type": "stream",
     "text": [
      "W0430 23:22:11.606122 140594404546368 metrics.py:103] DICE score is technically 1.0, but prediction and truth arrays are empty. \n"
     ]
    },
    {
     "name": "stderr",
     "output_type": "stream",
     "text": [
      "W0430 23:22:11.624050 140594404546368 metrics.py:103] DICE score is technically 1.0, but prediction and truth arrays are empty. \n"
     ]
    },
    {
     "name": "stderr",
     "output_type": "stream",
     "text": [
      "W0430 23:22:11.639774 140594404546368 metrics.py:103] DICE score is technically 1.0, but prediction and truth arrays are empty. \n"
     ]
    },
    {
     "name": "stderr",
     "output_type": "stream",
     "text": [
      "W0430 23:22:11.654999 140594404546368 metrics.py:103] DICE score is technically 1.0, but prediction and truth arrays are empty. \n"
     ]
    },
    {
     "name": "stderr",
     "output_type": "stream",
     "text": [
      "W0430 23:22:11.665778 140594404546368 metrics.py:103] DICE score is technically 1.0, but prediction and truth arrays are empty. \n"
     ]
    },
    {
     "name": "stderr",
     "output_type": "stream",
     "text": [
      "W0430 23:22:11.676565 140594404546368 metrics.py:103] DICE score is technically 1.0, but prediction and truth arrays are empty. \n"
     ]
    },
    {
     "name": "stderr",
     "output_type": "stream",
     "text": [
      "W0430 23:22:11.689879 140594404546368 metrics.py:103] DICE score is technically 1.0, but prediction and truth arrays are empty. \n"
     ]
    },
    {
     "name": "stderr",
     "output_type": "stream",
     "text": [
      "W0430 23:22:11.701061 140594404546368 metrics.py:103] DICE score is technically 1.0, but prediction and truth arrays are empty. \n"
     ]
    },
    {
     "name": "stderr",
     "output_type": "stream",
     "text": [
      "W0430 23:22:11.712242 140594404546368 metrics.py:103] DICE score is technically 1.0, but prediction and truth arrays are empty. \n"
     ]
    },
    {
     "name": "stderr",
     "output_type": "stream",
     "text": [
      "W0430 23:22:11.723214 140594404546368 metrics.py:103] DICE score is technically 1.0, but prediction and truth arrays are empty. \n"
     ]
    },
    {
     "name": "stderr",
     "output_type": "stream",
     "text": [
      "W0430 23:22:11.733575 140594404546368 metrics.py:103] DICE score is technically 1.0, but prediction and truth arrays are empty. \n"
     ]
    },
    {
     "name": "stderr",
     "output_type": "stream",
     "text": [
      "W0430 23:22:11.744555 140594404546368 metrics.py:103] DICE score is technically 1.0, but prediction and truth arrays are empty. \n"
     ]
    },
    {
     "name": "stderr",
     "output_type": "stream",
     "text": [
      "W0430 23:22:11.755697 140594404546368 metrics.py:103] DICE score is technically 1.0, but prediction and truth arrays are empty. \n"
     ]
    },
    {
     "name": "stderr",
     "output_type": "stream",
     "text": [
      "W0430 23:22:11.766094 140594404546368 metrics.py:103] DICE score is technically 1.0, but prediction and truth arrays are empty. \n"
     ]
    },
    {
     "name": "stderr",
     "output_type": "stream",
     "text": [
      "W0430 23:22:11.777441 140594404546368 metrics.py:103] DICE score is technically 1.0, but prediction and truth arrays are empty. \n"
     ]
    },
    {
     "name": "stderr",
     "output_type": "stream",
     "text": [
      "W0430 23:22:11.788511 140594404546368 metrics.py:103] DICE score is technically 1.0, but prediction and truth arrays are empty. \n"
     ]
    },
    {
     "name": "stderr",
     "output_type": "stream",
     "text": [
      "W0430 23:22:11.801993 140594404546368 metrics.py:103] DICE score is technically 1.0, but prediction and truth arrays are empty. \n"
     ]
    },
    {
     "name": "stderr",
     "output_type": "stream",
     "text": [
      "W0430 23:22:11.813121 140594404546368 metrics.py:103] DICE score is technically 1.0, but prediction and truth arrays are empty. \n"
     ]
    },
    {
     "name": "stderr",
     "output_type": "stream",
     "text": [
      "W0430 23:22:11.824056 140594404546368 metrics.py:103] DICE score is technically 1.0, but prediction and truth arrays are empty. \n"
     ]
    },
    {
     "name": "stderr",
     "output_type": "stream",
     "text": [
      "W0430 23:22:11.836346 140594404546368 metrics.py:103] DICE score is technically 1.0, but prediction and truth arrays are empty. \n"
     ]
    },
    {
     "name": "stderr",
     "output_type": "stream",
     "text": [
      "W0430 23:22:11.851888 140594404546368 metrics.py:103] DICE score is technically 1.0, but prediction and truth arrays are empty. \n"
     ]
    },
    {
     "name": "stderr",
     "output_type": "stream",
     "text": [
      "W0430 23:22:11.863496 140594404546368 metrics.py:103] DICE score is technically 1.0, but prediction and truth arrays are empty. \n"
     ]
    },
    {
     "name": "stderr",
     "output_type": "stream",
     "text": [
      "W0430 23:22:11.874821 140594404546368 metrics.py:103] DICE score is technically 1.0, but prediction and truth arrays are empty. \n"
     ]
    },
    {
     "name": "stderr",
     "output_type": "stream",
     "text": [
      "W0430 23:22:11.889053 140594404546368 metrics.py:103] DICE score is technically 1.0, but prediction and truth arrays are empty. \n"
     ]
    },
    {
     "name": "stderr",
     "output_type": "stream",
     "text": [
      "W0430 23:22:11.899640 140594404546368 metrics.py:103] DICE score is technically 1.0, but prediction and truth arrays are empty. \n"
     ]
    },
    {
     "name": "stderr",
     "output_type": "stream",
     "text": [
      "W0430 23:22:11.910492 140594404546368 metrics.py:103] DICE score is technically 1.0, but prediction and truth arrays are empty. \n"
     ]
    },
    {
     "name": "stderr",
     "output_type": "stream",
     "text": [
      "W0430 23:22:11.921113 140594404546368 metrics.py:103] DICE score is technically 1.0, but prediction and truth arrays are empty. \n"
     ]
    },
    {
     "name": "stderr",
     "output_type": "stream",
     "text": [
      "W0430 23:22:11.932390 140594404546368 metrics.py:103] DICE score is technically 1.0, but prediction and truth arrays are empty. \n"
     ]
    },
    {
     "name": "stderr",
     "output_type": "stream",
     "text": [
      "W0430 23:22:11.943331 140594404546368 metrics.py:103] DICE score is technically 1.0, but prediction and truth arrays are empty. \n"
     ]
    },
    {
     "name": "stderr",
     "output_type": "stream",
     "text": [
      "W0430 23:22:12.046246 140594404546368 metrics.py:103] DICE score is technically 1.0, but prediction and truth arrays are empty. \n"
     ]
    },
    {
     "name": "stderr",
     "output_type": "stream",
     "text": [
      "W0430 23:22:12.058046 140594404546368 metrics.py:103] DICE score is technically 1.0, but prediction and truth arrays are empty. \n"
     ]
    },
    {
     "name": "stderr",
     "output_type": "stream",
     "text": [
      "W0430 23:22:12.069157 140594404546368 metrics.py:103] DICE score is technically 1.0, but prediction and truth arrays are empty. \n"
     ]
    },
    {
     "name": "stderr",
     "output_type": "stream",
     "text": [
      "W0430 23:22:12.080771 140594404546368 metrics.py:103] DICE score is technically 1.0, but prediction and truth arrays are empty. \n"
     ]
    },
    {
     "name": "stderr",
     "output_type": "stream",
     "text": [
      "W0430 23:22:12.093714 140594404546368 metrics.py:103] DICE score is technically 1.0, but prediction and truth arrays are empty. \n"
     ]
    },
    {
     "name": "stderr",
     "output_type": "stream",
     "text": [
      "W0430 23:22:12.104777 140594404546368 metrics.py:103] DICE score is technically 1.0, but prediction and truth arrays are empty. \n"
     ]
    },
    {
     "name": "stderr",
     "output_type": "stream",
     "text": [
      "W0430 23:22:12.116186 140594404546368 metrics.py:103] DICE score is technically 1.0, but prediction and truth arrays are empty. \n"
     ]
    },
    {
     "name": "stderr",
     "output_type": "stream",
     "text": [
      "W0430 23:22:12.127815 140594404546368 metrics.py:103] DICE score is technically 1.0, but prediction and truth arrays are empty. \n"
     ]
    },
    {
     "name": "stderr",
     "output_type": "stream",
     "text": [
      "W0430 23:22:12.138830 140594404546368 metrics.py:103] DICE score is technically 1.0, but prediction and truth arrays are empty. \n"
     ]
    },
    {
     "name": "stderr",
     "output_type": "stream",
     "text": [
      "W0430 23:22:12.150100 140594404546368 metrics.py:103] DICE score is technically 1.0, but prediction and truth arrays are empty. \n"
     ]
    },
    {
     "name": "stderr",
     "output_type": "stream",
     "text": [
      "W0430 23:22:12.160707 140594404546368 metrics.py:103] DICE score is technically 1.0, but prediction and truth arrays are empty. \n"
     ]
    },
    {
     "name": "stderr",
     "output_type": "stream",
     "text": [
      "W0430 23:22:12.170909 140594404546368 metrics.py:103] DICE score is technically 1.0, but prediction and truth arrays are empty. \n"
     ]
    },
    {
     "name": "stderr",
     "output_type": "stream",
     "text": [
      "W0430 23:22:12.181462 140594404546368 metrics.py:103] DICE score is technically 1.0, but prediction and truth arrays are empty. \n"
     ]
    },
    {
     "name": "stderr",
     "output_type": "stream",
     "text": [
      "W0430 23:22:12.191803 140594404546368 metrics.py:103] DICE score is technically 1.0, but prediction and truth arrays are empty. \n"
     ]
    },
    {
     "name": "stderr",
     "output_type": "stream",
     "text": [
      "W0430 23:22:12.204725 140594404546368 metrics.py:103] DICE score is technically 1.0, but prediction and truth arrays are empty. \n"
     ]
    },
    {
     "name": "stderr",
     "output_type": "stream",
     "text": [
      "W0430 23:22:12.221308 140594404546368 metrics.py:103] DICE score is technically 1.0, but prediction and truth arrays are empty. \n"
     ]
    },
    {
     "name": "stderr",
     "output_type": "stream",
     "text": [
      "W0430 23:22:12.237835 140594404546368 metrics.py:103] DICE score is technically 1.0, but prediction and truth arrays are empty. \n"
     ]
    },
    {
     "name": "stderr",
     "output_type": "stream",
     "text": [
      "W0430 23:22:12.255353 140594404546368 metrics.py:103] DICE score is technically 1.0, but prediction and truth arrays are empty. \n"
     ]
    },
    {
     "name": "stderr",
     "output_type": "stream",
     "text": [
      "W0430 23:22:12.266370 140594404546368 metrics.py:103] DICE score is technically 1.0, but prediction and truth arrays are empty. \n"
     ]
    },
    {
     "name": "stderr",
     "output_type": "stream",
     "text": [
      "W0430 23:22:12.276716 140594404546368 metrics.py:103] DICE score is technically 1.0, but prediction and truth arrays are empty. \n"
     ]
    },
    {
     "name": "stderr",
     "output_type": "stream",
     "text": [
      "W0430 23:22:12.288382 140594404546368 metrics.py:103] DICE score is technically 1.0, but prediction and truth arrays are empty. \n"
     ]
    },
    {
     "name": "stderr",
     "output_type": "stream",
     "text": [
      "W0430 23:22:12.300878 140594404546368 metrics.py:103] DICE score is technically 1.0, but prediction and truth arrays are empty. \n"
     ]
    },
    {
     "name": "stderr",
     "output_type": "stream",
     "text": [
      "W0430 23:22:12.312144 140594404546368 metrics.py:103] DICE score is technically 1.0, but prediction and truth arrays are empty. \n"
     ]
    },
    {
     "name": "stderr",
     "output_type": "stream",
     "text": [
      "W0430 23:22:12.323157 140594404546368 metrics.py:103] DICE score is technically 1.0, but prediction and truth arrays are empty. \n"
     ]
    },
    {
     "name": "stderr",
     "output_type": "stream",
     "text": [
      "W0430 23:22:12.334499 140594404546368 metrics.py:103] DICE score is technically 1.0, but prediction and truth arrays are empty. \n"
     ]
    },
    {
     "name": "stderr",
     "output_type": "stream",
     "text": [
      "W0430 23:22:12.345366 140594404546368 metrics.py:103] DICE score is technically 1.0, but prediction and truth arrays are empty. \n"
     ]
    },
    {
     "name": "stderr",
     "output_type": "stream",
     "text": [
      "W0430 23:22:12.356303 140594404546368 metrics.py:103] DICE score is technically 1.0, but prediction and truth arrays are empty. \n"
     ]
    },
    {
     "name": "stderr",
     "output_type": "stream",
     "text": [
      "W0430 23:22:12.367499 140594404546368 metrics.py:103] DICE score is technically 1.0, but prediction and truth arrays are empty. \n"
     ]
    },
    {
     "name": "stderr",
     "output_type": "stream",
     "text": [
      "W0430 23:22:12.379313 140594404546368 metrics.py:103] DICE score is technically 1.0, but prediction and truth arrays are empty. \n"
     ]
    },
    {
     "name": "stderr",
     "output_type": "stream",
     "text": [
      "W0430 23:22:12.390380 140594404546368 metrics.py:103] DICE score is technically 1.0, but prediction and truth arrays are empty. \n"
     ]
    },
    {
     "name": "stderr",
     "output_type": "stream",
     "text": [
      "W0430 23:22:12.401279 140594404546368 metrics.py:103] DICE score is technically 1.0, but prediction and truth arrays are empty. \n"
     ]
    },
    {
     "name": "stderr",
     "output_type": "stream",
     "text": [
      "W0430 23:22:12.413829 140594404546368 metrics.py:103] DICE score is technically 1.0, but prediction and truth arrays are empty. \n"
     ]
    },
    {
     "name": "stderr",
     "output_type": "stream",
     "text": [
      "W0430 23:22:12.425376 140594404546368 metrics.py:103] DICE score is technically 1.0, but prediction and truth arrays are empty. \n"
     ]
    },
    {
     "name": "stderr",
     "output_type": "stream",
     "text": [
      "W0430 23:22:12.436491 140594404546368 metrics.py:103] DICE score is technically 1.0, but prediction and truth arrays are empty. \n"
     ]
    },
    {
     "name": "stderr",
     "output_type": "stream",
     "text": [
      "W0430 23:22:12.447110 140594404546368 metrics.py:103] DICE score is technically 1.0, but prediction and truth arrays are empty. \n"
     ]
    },
    {
     "name": "stderr",
     "output_type": "stream",
     "text": [
      "W0430 23:22:12.463284 140594404546368 metrics.py:103] DICE score is technically 1.0, but prediction and truth arrays are empty. \n"
     ]
    },
    {
     "name": "stderr",
     "output_type": "stream",
     "text": [
      "W0430 23:22:12.475049 140594404546368 metrics.py:103] DICE score is technically 1.0, but prediction and truth arrays are empty. \n"
     ]
    },
    {
     "name": "stderr",
     "output_type": "stream",
     "text": [
      "W0430 23:22:12.485683 140594404546368 metrics.py:103] DICE score is technically 1.0, but prediction and truth arrays are empty. \n"
     ]
    },
    {
     "name": "stderr",
     "output_type": "stream",
     "text": [
      "W0430 23:22:12.497823 140594404546368 metrics.py:103] DICE score is technically 1.0, but prediction and truth arrays are empty. \n"
     ]
    },
    {
     "name": "stderr",
     "output_type": "stream",
     "text": [
      "W0430 23:22:12.511735 140594404546368 metrics.py:103] DICE score is technically 1.0, but prediction and truth arrays are empty. \n"
     ]
    },
    {
     "name": "stderr",
     "output_type": "stream",
     "text": [
      "W0430 23:22:16.602629 140594404546368 metrics.py:103] DICE score is technically 1.0, but prediction and truth arrays are empty. \n"
     ]
    },
    {
     "name": "stderr",
     "output_type": "stream",
     "text": [
      "W0430 23:22:16.613471 140594404546368 metrics.py:103] DICE score is technically 1.0, but prediction and truth arrays are empty. \n"
     ]
    },
    {
     "name": "stderr",
     "output_type": "stream",
     "text": [
      "W0430 23:22:16.626106 140594404546368 metrics.py:103] DICE score is technically 1.0, but prediction and truth arrays are empty. \n"
     ]
    },
    {
     "name": "stderr",
     "output_type": "stream",
     "text": [
      "W0430 23:22:16.637071 140594404546368 metrics.py:103] DICE score is technically 1.0, but prediction and truth arrays are empty. \n"
     ]
    },
    {
     "name": "stderr",
     "output_type": "stream",
     "text": [
      "W0430 23:22:16.647970 140594404546368 metrics.py:103] DICE score is technically 1.0, but prediction and truth arrays are empty. \n"
     ]
    },
    {
     "name": "stderr",
     "output_type": "stream",
     "text": [
      "W0430 23:22:16.658942 140594404546368 metrics.py:103] DICE score is technically 1.0, but prediction and truth arrays are empty. \n"
     ]
    },
    {
     "name": "stderr",
     "output_type": "stream",
     "text": [
      "W0430 23:22:16.669778 140594404546368 metrics.py:103] DICE score is technically 1.0, but prediction and truth arrays are empty. \n"
     ]
    },
    {
     "name": "stderr",
     "output_type": "stream",
     "text": [
      "W0430 23:22:16.680472 140594404546368 metrics.py:103] DICE score is technically 1.0, but prediction and truth arrays are empty. \n"
     ]
    },
    {
     "name": "stderr",
     "output_type": "stream",
     "text": [
      "W0430 23:22:16.691222 140594404546368 metrics.py:103] DICE score is technically 1.0, but prediction and truth arrays are empty. \n"
     ]
    },
    {
     "name": "stderr",
     "output_type": "stream",
     "text": [
      "W0430 23:22:16.702530 140594404546368 metrics.py:103] DICE score is technically 1.0, but prediction and truth arrays are empty. \n"
     ]
    },
    {
     "name": "stderr",
     "output_type": "stream",
     "text": [
      "W0430 23:22:16.713513 140594404546368 metrics.py:103] DICE score is technically 1.0, but prediction and truth arrays are empty. \n"
     ]
    },
    {
     "name": "stderr",
     "output_type": "stream",
     "text": [
      "W0430 23:22:16.724513 140594404546368 metrics.py:103] DICE score is technically 1.0, but prediction and truth arrays are empty. \n"
     ]
    },
    {
     "name": "stderr",
     "output_type": "stream",
     "text": [
      "W0430 23:22:16.735150 140594404546368 metrics.py:103] DICE score is technically 1.0, but prediction and truth arrays are empty. \n"
     ]
    },
    {
     "name": "stderr",
     "output_type": "stream",
     "text": [
      "W0430 23:22:16.747643 140594404546368 metrics.py:103] DICE score is technically 1.0, but prediction and truth arrays are empty. \n"
     ]
    },
    {
     "name": "stderr",
     "output_type": "stream",
     "text": [
      "W0430 23:22:16.759115 140594404546368 metrics.py:103] DICE score is technically 1.0, but prediction and truth arrays are empty. \n"
     ]
    },
    {
     "name": "stderr",
     "output_type": "stream",
     "text": [
      "W0430 23:22:16.770068 140594404546368 metrics.py:103] DICE score is technically 1.0, but prediction and truth arrays are empty. \n"
     ]
    },
    {
     "name": "stderr",
     "output_type": "stream",
     "text": [
      "W0430 23:22:16.781593 140594404546368 metrics.py:103] DICE score is technically 1.0, but prediction and truth arrays are empty. \n"
     ]
    },
    {
     "name": "stderr",
     "output_type": "stream",
     "text": [
      "W0430 23:22:16.794986 140594404546368 metrics.py:103] DICE score is technically 1.0, but prediction and truth arrays are empty. \n"
     ]
    },
    {
     "name": "stderr",
     "output_type": "stream",
     "text": [
      "W0430 23:22:16.805478 140594404546368 metrics.py:103] DICE score is technically 1.0, but prediction and truth arrays are empty. \n"
     ]
    },
    {
     "name": "stderr",
     "output_type": "stream",
     "text": [
      "W0430 23:22:16.816602 140594404546368 metrics.py:103] DICE score is technically 1.0, but prediction and truth arrays are empty. \n"
     ]
    },
    {
     "name": "stderr",
     "output_type": "stream",
     "text": [
      "W0430 23:22:16.828953 140594404546368 metrics.py:103] DICE score is technically 1.0, but prediction and truth arrays are empty. \n"
     ]
    },
    {
     "name": "stderr",
     "output_type": "stream",
     "text": [
      "W0430 23:22:16.841737 140594404546368 metrics.py:103] DICE score is technically 1.0, but prediction and truth arrays are empty. \n"
     ]
    },
    {
     "name": "stderr",
     "output_type": "stream",
     "text": [
      "W0430 23:22:16.852649 140594404546368 metrics.py:103] DICE score is technically 1.0, but prediction and truth arrays are empty. \n"
     ]
    },
    {
     "name": "stderr",
     "output_type": "stream",
     "text": [
      "W0430 23:22:16.863558 140594404546368 metrics.py:103] DICE score is technically 1.0, but prediction and truth arrays are empty. \n"
     ]
    },
    {
     "name": "stderr",
     "output_type": "stream",
     "text": [
      "W0430 23:22:16.874220 140594404546368 metrics.py:103] DICE score is technically 1.0, but prediction and truth arrays are empty. \n"
     ]
    },
    {
     "name": "stderr",
     "output_type": "stream",
     "text": [
      "W0430 23:22:16.884847 140594404546368 metrics.py:103] DICE score is technically 1.0, but prediction and truth arrays are empty. \n"
     ]
    },
    {
     "name": "stderr",
     "output_type": "stream",
     "text": [
      "W0430 23:22:16.895450 140594404546368 metrics.py:103] DICE score is technically 1.0, but prediction and truth arrays are empty. \n"
     ]
    },
    {
     "name": "stderr",
     "output_type": "stream",
     "text": [
      "W0430 23:22:16.905900 140594404546368 metrics.py:103] DICE score is technically 1.0, but prediction and truth arrays are empty. \n"
     ]
    },
    {
     "name": "stderr",
     "output_type": "stream",
     "text": [
      "W0430 23:22:16.916122 140594404546368 metrics.py:103] DICE score is technically 1.0, but prediction and truth arrays are empty. \n"
     ]
    },
    {
     "name": "stderr",
     "output_type": "stream",
     "text": [
      "W0430 23:22:16.926969 140594404546368 metrics.py:103] DICE score is technically 1.0, but prediction and truth arrays are empty. \n"
     ]
    },
    {
     "name": "stderr",
     "output_type": "stream",
     "text": [
      "W0430 23:22:16.937586 140594404546368 metrics.py:103] DICE score is technically 1.0, but prediction and truth arrays are empty. \n"
     ]
    },
    {
     "name": "stderr",
     "output_type": "stream",
     "text": [
      "W0430 23:22:16.950315 140594404546368 metrics.py:103] DICE score is technically 1.0, but prediction and truth arrays are empty. \n"
     ]
    },
    {
     "name": "stderr",
     "output_type": "stream",
     "text": [
      "W0430 23:22:16.961348 140594404546368 metrics.py:103] DICE score is technically 1.0, but prediction and truth arrays are empty. \n"
     ]
    },
    {
     "name": "stderr",
     "output_type": "stream",
     "text": [
      "W0430 23:22:16.972126 140594404546368 metrics.py:103] DICE score is technically 1.0, but prediction and truth arrays are empty. \n"
     ]
    },
    {
     "name": "stderr",
     "output_type": "stream",
     "text": [
      "W0430 23:22:16.983673 140594404546368 metrics.py:103] DICE score is technically 1.0, but prediction and truth arrays are empty. \n"
     ]
    },
    {
     "name": "stderr",
     "output_type": "stream",
     "text": [
      "W0430 23:22:16.998389 140594404546368 metrics.py:103] DICE score is technically 1.0, but prediction and truth arrays are empty. \n"
     ]
    },
    {
     "name": "stderr",
     "output_type": "stream",
     "text": [
      "W0430 23:22:17.009526 140594404546368 metrics.py:103] DICE score is technically 1.0, but prediction and truth arrays are empty. \n"
     ]
    },
    {
     "name": "stderr",
     "output_type": "stream",
     "text": [
      "W0430 23:22:17.020139 140594404546368 metrics.py:103] DICE score is technically 1.0, but prediction and truth arrays are empty. \n"
     ]
    },
    {
     "name": "stderr",
     "output_type": "stream",
     "text": [
      "W0430 23:22:17.033100 140594404546368 metrics.py:103] DICE score is technically 1.0, but prediction and truth arrays are empty. \n"
     ]
    },
    {
     "name": "stderr",
     "output_type": "stream",
     "text": [
      "W0430 23:22:17.045411 140594404546368 metrics.py:103] DICE score is technically 1.0, but prediction and truth arrays are empty. \n"
     ]
    },
    {
     "name": "stderr",
     "output_type": "stream",
     "text": [
      "W0430 23:23:24.441989 140594404546368 metrics.py:103] DICE score is technically 1.0, but prediction and truth arrays are empty. \n"
     ]
    },
    {
     "name": "stderr",
     "output_type": "stream",
     "text": [
      "W0430 23:23:26.290716 140594404546368 metrics.py:103] DICE score is technically 1.0, but prediction and truth arrays are empty. \n"
     ]
    },
    {
     "name": "stderr",
     "output_type": "stream",
     "text": [
      "W0430 23:23:26.304014 140594404546368 metrics.py:103] DICE score is technically 1.0, but prediction and truth arrays are empty. \n"
     ]
    },
    {
     "name": "stderr",
     "output_type": "stream",
     "text": [
      "W0430 23:23:26.314544 140594404546368 metrics.py:103] DICE score is technically 1.0, but prediction and truth arrays are empty. \n"
     ]
    },
    {
     "name": "stderr",
     "output_type": "stream",
     "text": [
      "W0430 23:23:26.324716 140594404546368 metrics.py:103] DICE score is technically 1.0, but prediction and truth arrays are empty. \n"
     ]
    },
    {
     "name": "stderr",
     "output_type": "stream",
     "text": [
      "W0430 23:23:26.338419 140594404546368 metrics.py:103] DICE score is technically 1.0, but prediction and truth arrays are empty. \n"
     ]
    },
    {
     "name": "stderr",
     "output_type": "stream",
     "text": [
      "W0430 23:23:31.063574 140594404546368 metrics.py:103] DICE score is technically 1.0, but prediction and truth arrays are empty. \n"
     ]
    },
    {
     "name": "stderr",
     "output_type": "stream",
     "text": [
      "W0430 23:23:31.077505 140594404546368 metrics.py:103] DICE score is technically 1.0, but prediction and truth arrays are empty. \n"
     ]
    },
    {
     "name": "stderr",
     "output_type": "stream",
     "text": [
      "W0430 23:23:31.089139 140594404546368 metrics.py:103] DICE score is technically 1.0, but prediction and truth arrays are empty. \n"
     ]
    },
    {
     "name": "stderr",
     "output_type": "stream",
     "text": [
      "W0430 23:23:31.100233 140594404546368 metrics.py:103] DICE score is technically 1.0, but prediction and truth arrays are empty. \n"
     ]
    },
    {
     "name": "stderr",
     "output_type": "stream",
     "text": [
      "W0430 23:23:31.111184 140594404546368 metrics.py:103] DICE score is technically 1.0, but prediction and truth arrays are empty. \n"
     ]
    },
    {
     "name": "stderr",
     "output_type": "stream",
     "text": [
      "W0430 23:23:31.122112 140594404546368 metrics.py:103] DICE score is technically 1.0, but prediction and truth arrays are empty. \n"
     ]
    },
    {
     "name": "stderr",
     "output_type": "stream",
     "text": [
      "W0430 23:23:31.132837 140594404546368 metrics.py:103] DICE score is technically 1.0, but prediction and truth arrays are empty. \n"
     ]
    },
    {
     "name": "stderr",
     "output_type": "stream",
     "text": [
      "W0430 23:23:31.143531 140594404546368 metrics.py:103] DICE score is technically 1.0, but prediction and truth arrays are empty. \n"
     ]
    },
    {
     "name": "stderr",
     "output_type": "stream",
     "text": [
      "W0430 23:23:31.154524 140594404546368 metrics.py:103] DICE score is technically 1.0, but prediction and truth arrays are empty. \n"
     ]
    },
    {
     "name": "stderr",
     "output_type": "stream",
     "text": [
      "W0430 23:23:31.175095 140594404546368 metrics.py:103] DICE score is technically 1.0, but prediction and truth arrays are empty. \n"
     ]
    },
    {
     "name": "stderr",
     "output_type": "stream",
     "text": [
      "W0430 23:23:31.187811 140594404546368 metrics.py:103] DICE score is technically 1.0, but prediction and truth arrays are empty. \n"
     ]
    },
    {
     "name": "stderr",
     "output_type": "stream",
     "text": [
      "W0430 23:23:31.219303 140594404546368 metrics.py:103] DICE score is technically 1.0, but prediction and truth arrays are empty. \n"
     ]
    },
    {
     "name": "stderr",
     "output_type": "stream",
     "text": [
      "W0430 23:23:31.234512 140594404546368 metrics.py:103] DICE score is technically 1.0, but prediction and truth arrays are empty. \n"
     ]
    },
    {
     "name": "stderr",
     "output_type": "stream",
     "text": [
      "W0430 23:23:31.246564 140594404546368 metrics.py:103] DICE score is technically 1.0, but prediction and truth arrays are empty. \n"
     ]
    },
    {
     "name": "stderr",
     "output_type": "stream",
     "text": [
      "W0430 23:23:31.267233 140594404546368 metrics.py:103] DICE score is technically 1.0, but prediction and truth arrays are empty. \n"
     ]
    },
    {
     "name": "stderr",
     "output_type": "stream",
     "text": [
      "W0430 23:23:31.282471 140594404546368 metrics.py:103] DICE score is technically 1.0, but prediction and truth arrays are empty. \n"
     ]
    },
    {
     "name": "stderr",
     "output_type": "stream",
     "text": [
      "W0430 23:23:31.293654 140594404546368 metrics.py:103] DICE score is technically 1.0, but prediction and truth arrays are empty. \n"
     ]
    },
    {
     "name": "stderr",
     "output_type": "stream",
     "text": [
      "W0430 23:23:31.304529 140594404546368 metrics.py:103] DICE score is technically 1.0, but prediction and truth arrays are empty. \n"
     ]
    },
    {
     "name": "stderr",
     "output_type": "stream",
     "text": [
      "W0430 23:23:31.315128 140594404546368 metrics.py:103] DICE score is technically 1.0, but prediction and truth arrays are empty. \n"
     ]
    },
    {
     "name": "stderr",
     "output_type": "stream",
     "text": [
      "W0430 23:23:31.325582 140594404546368 metrics.py:103] DICE score is technically 1.0, but prediction and truth arrays are empty. \n"
     ]
    },
    {
     "name": "stderr",
     "output_type": "stream",
     "text": [
      "W0430 23:23:31.335913 140594404546368 metrics.py:103] DICE score is technically 1.0, but prediction and truth arrays are empty. \n"
     ]
    },
    {
     "name": "stderr",
     "output_type": "stream",
     "text": [
      "W0430 23:23:31.346522 140594404546368 metrics.py:103] DICE score is technically 1.0, but prediction and truth arrays are empty. \n"
     ]
    },
    {
     "name": "stderr",
     "output_type": "stream",
     "text": [
      "W0430 23:23:31.357092 140594404546368 metrics.py:103] DICE score is technically 1.0, but prediction and truth arrays are empty. \n"
     ]
    },
    {
     "name": "stderr",
     "output_type": "stream",
     "text": [
      "W0430 23:23:31.367532 140594404546368 metrics.py:103] DICE score is technically 1.0, but prediction and truth arrays are empty. \n"
     ]
    },
    {
     "name": "stderr",
     "output_type": "stream",
     "text": [
      "W0430 23:23:31.378211 140594404546368 metrics.py:103] DICE score is technically 1.0, but prediction and truth arrays are empty. \n"
     ]
    },
    {
     "name": "stderr",
     "output_type": "stream",
     "text": [
      "W0430 23:23:31.388876 140594404546368 metrics.py:103] DICE score is technically 1.0, but prediction and truth arrays are empty. \n"
     ]
    },
    {
     "name": "stderr",
     "output_type": "stream",
     "text": [
      "W0430 23:23:31.401170 140594404546368 metrics.py:103] DICE score is technically 1.0, but prediction and truth arrays are empty. \n"
     ]
    },
    {
     "name": "stderr",
     "output_type": "stream",
     "text": [
      "W0430 23:23:31.895586 140594404546368 metrics.py:103] DICE score is technically 1.0, but prediction and truth arrays are empty. \n"
     ]
    },
    {
     "name": "stderr",
     "output_type": "stream",
     "text": [
      "W0430 23:23:31.907547 140594404546368 metrics.py:103] DICE score is technically 1.0, but prediction and truth arrays are empty. \n"
     ]
    },
    {
     "name": "stderr",
     "output_type": "stream",
     "text": [
      "W0430 23:23:31.918420 140594404546368 metrics.py:103] DICE score is technically 1.0, but prediction and truth arrays are empty. \n"
     ]
    },
    {
     "name": "stderr",
     "output_type": "stream",
     "text": [
      "W0430 23:23:31.929336 140594404546368 metrics.py:103] DICE score is technically 1.0, but prediction and truth arrays are empty. \n"
     ]
    },
    {
     "name": "stderr",
     "output_type": "stream",
     "text": [
      "W0430 23:23:31.948412 140594404546368 metrics.py:103] DICE score is technically 1.0, but prediction and truth arrays are empty. \n"
     ]
    },
    {
     "name": "stderr",
     "output_type": "stream",
     "text": [
      "W0430 23:23:31.958705 140594404546368 metrics.py:103] DICE score is technically 1.0, but prediction and truth arrays are empty. \n"
     ]
    },
    {
     "name": "stderr",
     "output_type": "stream",
     "text": [
      "W0430 23:23:31.969308 140594404546368 metrics.py:103] DICE score is technically 1.0, but prediction and truth arrays are empty. \n"
     ]
    },
    {
     "name": "stderr",
     "output_type": "stream",
     "text": [
      "W0430 23:23:31.980314 140594404546368 metrics.py:103] DICE score is technically 1.0, but prediction and truth arrays are empty. \n"
     ]
    },
    {
     "name": "stderr",
     "output_type": "stream",
     "text": [
      "W0430 23:23:31.991377 140594404546368 metrics.py:103] DICE score is technically 1.0, but prediction and truth arrays are empty. \n"
     ]
    },
    {
     "name": "stderr",
     "output_type": "stream",
     "text": [
      "W0430 23:23:32.002306 140594404546368 metrics.py:103] DICE score is technically 1.0, but prediction and truth arrays are empty. \n"
     ]
    },
    {
     "name": "stderr",
     "output_type": "stream",
     "text": [
      "W0430 23:23:32.015434 140594404546368 metrics.py:103] DICE score is technically 1.0, but prediction and truth arrays are empty. \n"
     ]
    },
    {
     "name": "stderr",
     "output_type": "stream",
     "text": [
      "W0430 23:23:32.032253 140594404546368 metrics.py:103] DICE score is technically 1.0, but prediction and truth arrays are empty. \n"
     ]
    },
    {
     "name": "stderr",
     "output_type": "stream",
     "text": [
      "W0430 23:23:32.043974 140594404546368 metrics.py:103] DICE score is technically 1.0, but prediction and truth arrays are empty. \n"
     ]
    },
    {
     "name": "stderr",
     "output_type": "stream",
     "text": [
      "W0430 23:23:32.058728 140594404546368 metrics.py:103] DICE score is technically 1.0, but prediction and truth arrays are empty. \n"
     ]
    },
    {
     "name": "stderr",
     "output_type": "stream",
     "text": [
      "W0430 23:23:32.069133 140594404546368 metrics.py:103] DICE score is technically 1.0, but prediction and truth arrays are empty. \n"
     ]
    },
    {
     "name": "stderr",
     "output_type": "stream",
     "text": [
      "W0430 23:23:32.079623 140594404546368 metrics.py:103] DICE score is technically 1.0, but prediction and truth arrays are empty. \n"
     ]
    },
    {
     "name": "stderr",
     "output_type": "stream",
     "text": [
      "W0430 23:23:32.091312 140594404546368 metrics.py:103] DICE score is technically 1.0, but prediction and truth arrays are empty. \n"
     ]
    },
    {
     "name": "stderr",
     "output_type": "stream",
     "text": [
      "W0430 23:23:32.107302 140594404546368 metrics.py:103] DICE score is technically 1.0, but prediction and truth arrays are empty. \n"
     ]
    },
    {
     "name": "stderr",
     "output_type": "stream",
     "text": [
      "W0430 23:23:32.123659 140594404546368 metrics.py:103] DICE score is technically 1.0, but prediction and truth arrays are empty. \n"
     ]
    },
    {
     "name": "stderr",
     "output_type": "stream",
     "text": [
      "W0430 23:23:32.135776 140594404546368 metrics.py:103] DICE score is technically 1.0, but prediction and truth arrays are empty. \n"
     ]
    },
    {
     "name": "stderr",
     "output_type": "stream",
     "text": [
      "W0430 23:23:32.146640 140594404546368 metrics.py:103] DICE score is technically 1.0, but prediction and truth arrays are empty. \n"
     ]
    },
    {
     "name": "stderr",
     "output_type": "stream",
     "text": [
      "W0430 23:23:32.158359 140594404546368 metrics.py:103] DICE score is technically 1.0, but prediction and truth arrays are empty. \n"
     ]
    },
    {
     "name": "stderr",
     "output_type": "stream",
     "text": [
      "W0430 23:23:32.168719 140594404546368 metrics.py:103] DICE score is technically 1.0, but prediction and truth arrays are empty. \n"
     ]
    },
    {
     "name": "stderr",
     "output_type": "stream",
     "text": [
      "W0430 23:23:32.179216 140594404546368 metrics.py:103] DICE score is technically 1.0, but prediction and truth arrays are empty. \n"
     ]
    },
    {
     "name": "stderr",
     "output_type": "stream",
     "text": [
      "W0430 23:23:32.190424 140594404546368 metrics.py:103] DICE score is technically 1.0, but prediction and truth arrays are empty. \n"
     ]
    },
    {
     "name": "stderr",
     "output_type": "stream",
     "text": [
      "W0430 23:23:32.201320 140594404546368 metrics.py:103] DICE score is technically 1.0, but prediction and truth arrays are empty. \n"
     ]
    },
    {
     "name": "stderr",
     "output_type": "stream",
     "text": [
      "W0430 23:23:32.213317 140594404546368 metrics.py:103] DICE score is technically 1.0, but prediction and truth arrays are empty. \n"
     ]
    },
    {
     "name": "stderr",
     "output_type": "stream",
     "text": [
      "W0430 23:23:32.228235 140594404546368 metrics.py:103] DICE score is technically 1.0, but prediction and truth arrays are empty. \n"
     ]
    },
    {
     "name": "stderr",
     "output_type": "stream",
     "text": [
      "W0430 23:23:32.244649 140594404546368 metrics.py:103] DICE score is technically 1.0, but prediction and truth arrays are empty. \n"
     ]
    },
    {
     "name": "stderr",
     "output_type": "stream",
     "text": [
      "W0430 23:23:38.830657 140594404546368 metrics.py:103] DICE score is technically 1.0, but prediction and truth arrays are empty. \n"
     ]
    },
    {
     "name": "stderr",
     "output_type": "stream",
     "text": [
      "W0430 23:23:39.154775 140594404546368 metrics.py:103] DICE score is technically 1.0, but prediction and truth arrays are empty. \n"
     ]
    },
    {
     "name": "stderr",
     "output_type": "stream",
     "text": [
      "W0430 23:23:39.166466 140594404546368 metrics.py:103] DICE score is technically 1.0, but prediction and truth arrays are empty. \n"
     ]
    },
    {
     "name": "stderr",
     "output_type": "stream",
     "text": [
      "W0430 23:23:40.048954 140594404546368 metrics.py:103] DICE score is technically 1.0, but prediction and truth arrays are empty. \n"
     ]
    },
    {
     "name": "stderr",
     "output_type": "stream",
     "text": [
      "W0430 23:23:40.063218 140594404546368 metrics.py:103] DICE score is technically 1.0, but prediction and truth arrays are empty. \n"
     ]
    },
    {
     "name": "stderr",
     "output_type": "stream",
     "text": [
      "W0430 23:23:40.073618 140594404546368 metrics.py:103] DICE score is technically 1.0, but prediction and truth arrays are empty. \n"
     ]
    },
    {
     "name": "stderr",
     "output_type": "stream",
     "text": [
      "W0430 23:23:40.084001 140594404546368 metrics.py:103] DICE score is technically 1.0, but prediction and truth arrays are empty. \n"
     ]
    },
    {
     "name": "stderr",
     "output_type": "stream",
     "text": [
      "W0430 23:23:40.095156 140594404546368 metrics.py:103] DICE score is technically 1.0, but prediction and truth arrays are empty. \n"
     ]
    },
    {
     "name": "stderr",
     "output_type": "stream",
     "text": [
      "W0430 23:23:40.109090 140594404546368 metrics.py:103] DICE score is technically 1.0, but prediction and truth arrays are empty. \n"
     ]
    },
    {
     "name": "stderr",
     "output_type": "stream",
     "text": [
      "W0430 23:23:40.119876 140594404546368 metrics.py:103] DICE score is technically 1.0, but prediction and truth arrays are empty. \n"
     ]
    },
    {
     "name": "stderr",
     "output_type": "stream",
     "text": [
      "W0430 23:23:40.130482 140594404546368 metrics.py:103] DICE score is technically 1.0, but prediction and truth arrays are empty. \n"
     ]
    },
    {
     "name": "stderr",
     "output_type": "stream",
     "text": [
      "W0430 23:23:40.141187 140594404546368 metrics.py:103] DICE score is technically 1.0, but prediction and truth arrays are empty. \n"
     ]
    },
    {
     "name": "stderr",
     "output_type": "stream",
     "text": [
      "W0430 23:23:40.151632 140594404546368 metrics.py:103] DICE score is technically 1.0, but prediction and truth arrays are empty. \n"
     ]
    },
    {
     "name": "stderr",
     "output_type": "stream",
     "text": [
      "W0430 23:23:40.162726 140594404546368 metrics.py:103] DICE score is technically 1.0, but prediction and truth arrays are empty. \n"
     ]
    },
    {
     "name": "stderr",
     "output_type": "stream",
     "text": [
      "W0430 23:23:40.173792 140594404546368 metrics.py:103] DICE score is technically 1.0, but prediction and truth arrays are empty. \n"
     ]
    },
    {
     "name": "stderr",
     "output_type": "stream",
     "text": [
      "W0430 23:23:40.184837 140594404546368 metrics.py:103] DICE score is technically 1.0, but prediction and truth arrays are empty. \n"
     ]
    },
    {
     "name": "stderr",
     "output_type": "stream",
     "text": [
      "W0430 23:23:40.196150 140594404546368 metrics.py:103] DICE score is technically 1.0, but prediction and truth arrays are empty. \n"
     ]
    },
    {
     "name": "stderr",
     "output_type": "stream",
     "text": [
      "W0430 23:23:40.206882 140594404546368 metrics.py:103] DICE score is technically 1.0, but prediction and truth arrays are empty. \n"
     ]
    },
    {
     "name": "stderr",
     "output_type": "stream",
     "text": [
      "W0430 23:23:40.221318 140594404546368 metrics.py:103] DICE score is technically 1.0, but prediction and truth arrays are empty. \n"
     ]
    },
    {
     "name": "stderr",
     "output_type": "stream",
     "text": [
      "W0430 23:23:40.237131 140594404546368 metrics.py:103] DICE score is technically 1.0, but prediction and truth arrays are empty. \n"
     ]
    },
    {
     "name": "stderr",
     "output_type": "stream",
     "text": [
      "W0430 23:23:40.249940 140594404546368 metrics.py:103] DICE score is technically 1.0, but prediction and truth arrays are empty. \n"
     ]
    },
    {
     "name": "stderr",
     "output_type": "stream",
     "text": [
      "W0430 23:23:40.263460 140594404546368 metrics.py:103] DICE score is technically 1.0, but prediction and truth arrays are empty. "
     ]
    },
    {
     "name": "stderr",
     "output_type": "stream",
     "text": [
      "\n"
     ]
    },
    {
     "name": "stderr",
     "output_type": "stream",
     "text": [
      "W0430 23:23:40.275746 140594404546368 metrics.py:103] DICE score is technically 1.0, but prediction and truth arrays are empty. \n"
     ]
    },
    {
     "name": "stderr",
     "output_type": "stream",
     "text": [
      "W0430 23:23:40.286674 140594404546368 metrics.py:103] DICE score is technically 1.0, but prediction and truth arrays are empty. \n"
     ]
    },
    {
     "name": "stderr",
     "output_type": "stream",
     "text": [
      "W0430 23:23:40.297660 140594404546368 metrics.py:103] DICE score is technically 1.0, but prediction and truth arrays are empty. \n"
     ]
    },
    {
     "name": "stderr",
     "output_type": "stream",
     "text": [
      "W0430 23:23:40.311829 140594404546368 metrics.py:103] DICE score is technically 1.0, but prediction and truth arrays are empty. \n"
     ]
    },
    {
     "name": "stderr",
     "output_type": "stream",
     "text": [
      "W0430 23:23:40.328818 140594404546368 metrics.py:103] DICE score is technically 1.0, but prediction and truth arrays are empty. \n"
     ]
    },
    {
     "name": "stderr",
     "output_type": "stream",
     "text": [
      "W0430 23:23:40.343575 140594404546368 metrics.py:103] DICE score is technically 1.0, but prediction and truth arrays are empty. \n"
     ]
    },
    {
     "name": "stderr",
     "output_type": "stream",
     "text": [
      "W0430 23:23:40.353923 140594404546368 metrics.py:103] DICE score is technically 1.0, but prediction and truth arrays are empty. \n"
     ]
    },
    {
     "name": "stderr",
     "output_type": "stream",
     "text": [
      "W0430 23:23:40.364312 140594404546368 metrics.py:103] DICE score is technically 1.0, but prediction and truth arrays are empty. \n"
     ]
    },
    {
     "name": "stderr",
     "output_type": "stream",
     "text": [
      "W0430 23:23:40.374892 140594404546368 metrics.py:103] DICE score is technically 1.0, but prediction and truth arrays are empty. \n"
     ]
    },
    {
     "name": "stderr",
     "output_type": "stream",
     "text": [
      "W0430 23:23:40.385262 140594404546368 metrics.py:103] DICE score is technically 1.0, but prediction and truth arrays are empty. \n"
     ]
    },
    {
     "name": "stderr",
     "output_type": "stream",
     "text": [
      "W0430 23:23:40.395800 140594404546368 metrics.py:103] DICE score is technically 1.0, but prediction and truth arrays are empty. \n"
     ]
    },
    {
     "name": "stderr",
     "output_type": "stream",
     "text": [
      "W0430 23:23:40.855460 140594404546368 metrics.py:103] DICE score is technically 1.0, but prediction and truth arrays are empty. \n"
     ]
    },
    {
     "name": "stderr",
     "output_type": "stream",
     "text": [
      "W0430 23:23:40.866109 140594404546368 metrics.py:103] DICE score is technically 1.0, but prediction and truth arrays are empty. \n"
     ]
    },
    {
     "name": "stderr",
     "output_type": "stream",
     "text": [
      "W0430 23:23:40.879564 140594404546368 metrics.py:103] DICE score is technically 1.0, but prediction and truth arrays are empty. \n"
     ]
    },
    {
     "name": "stderr",
     "output_type": "stream",
     "text": [
      "W0430 23:23:40.894232 140594404546368 metrics.py:103] DICE score is technically 1.0, but prediction and truth arrays are empty. \n"
     ]
    },
    {
     "name": "stderr",
     "output_type": "stream",
     "text": [
      "W0430 23:23:40.904932 140594404546368 metrics.py:103] DICE score is technically 1.0, but prediction and truth arrays are empty. \n"
     ]
    },
    {
     "name": "stderr",
     "output_type": "stream",
     "text": [
      "W0430 23:23:40.918056 140594404546368 metrics.py:103] DICE score is technically 1.0, but prediction and truth arrays are empty. \n"
     ]
    },
    {
     "name": "stderr",
     "output_type": "stream",
     "text": [
      "W0430 23:23:40.930721 140594404546368 metrics.py:103] DICE score is technically 1.0, but prediction and truth arrays are empty. \n"
     ]
    },
    {
     "name": "stderr",
     "output_type": "stream",
     "text": [
      "W0430 23:23:40.941553 140594404546368 metrics.py:103] DICE score is technically 1.0, but prediction and truth arrays are empty. \n"
     ]
    },
    {
     "name": "stderr",
     "output_type": "stream",
     "text": [
      "W0430 23:23:40.951892 140594404546368 metrics.py:103] DICE score is technically 1.0, but prediction and truth arrays are empty. \n"
     ]
    },
    {
     "name": "stderr",
     "output_type": "stream",
     "text": [
      "W0430 23:23:40.961951 140594404546368 metrics.py:103] DICE score is technically 1.0, but prediction and truth arrays are empty. \n"
     ]
    },
    {
     "name": "stderr",
     "output_type": "stream",
     "text": [
      "W0430 23:23:40.971992 140594404546368 metrics.py:103] DICE score is technically 1.0, but prediction and truth arrays are empty. \n"
     ]
    },
    {
     "name": "stderr",
     "output_type": "stream",
     "text": [
      "W0430 23:23:40.982247 140594404546368 metrics.py:103] DICE score is technically 1.0, but prediction and truth arrays are empty. \n"
     ]
    },
    {
     "name": "stderr",
     "output_type": "stream",
     "text": [
      "W0430 23:23:40.993134 140594404546368 metrics.py:103] DICE score is technically 1.0, but prediction and truth arrays are empty. \n"
     ]
    },
    {
     "name": "stderr",
     "output_type": "stream",
     "text": [
      "W0430 23:23:41.003624 140594404546368 metrics.py:103] DICE score is technically 1.0, but prediction and truth arrays are empty. \n"
     ]
    },
    {
     "name": "stderr",
     "output_type": "stream",
     "text": [
      "W0430 23:23:41.013959 140594404546368 metrics.py:103] DICE score is technically 1.0, but prediction and truth arrays are empty. \n"
     ]
    },
    {
     "name": "stderr",
     "output_type": "stream",
     "text": [
      "W0430 23:23:41.024962 140594404546368 metrics.py:103] DICE score is technically 1.0, but prediction and truth arrays are empty. \n"
     ]
    },
    {
     "name": "stderr",
     "output_type": "stream",
     "text": [
      "W0430 23:23:41.037253 140594404546368 metrics.py:103] DICE score is technically 1.0, but prediction and truth arrays are empty. \n"
     ]
    },
    {
     "name": "stderr",
     "output_type": "stream",
     "text": [
      "W0430 23:23:41.047997 140594404546368 metrics.py:103] DICE score is technically 1.0, but prediction and truth arrays are empty. \n"
     ]
    },
    {
     "name": "stderr",
     "output_type": "stream",
     "text": [
      "W0430 23:23:41.058952 140594404546368 metrics.py:103] DICE score is technically 1.0, but prediction and truth arrays are empty. \n"
     ]
    },
    {
     "name": "stderr",
     "output_type": "stream",
     "text": [
      "W0430 23:23:41.069916 140594404546368 metrics.py:103] DICE score is technically 1.0, but prediction and truth arrays are empty. \n"
     ]
    },
    {
     "name": "stderr",
     "output_type": "stream",
     "text": [
      "W0430 23:23:41.084177 140594404546368 metrics.py:103] DICE score is technically 1.0, but prediction and truth arrays are empty. \n"
     ]
    },
    {
     "name": "stderr",
     "output_type": "stream",
     "text": [
      "W0430 23:23:41.094638 140594404546368 metrics.py:103] DICE score is technically 1.0, but prediction and truth arrays are empty. \n"
     ]
    },
    {
     "name": "stderr",
     "output_type": "stream",
     "text": [
      "W0430 23:23:41.105161 140594404546368 metrics.py:103] DICE score is technically 1.0, but prediction and truth arrays are empty. \n"
     ]
    },
    {
     "name": "stderr",
     "output_type": "stream",
     "text": [
      "W0430 23:23:41.117350 140594404546368 metrics.py:103] DICE score is technically 1.0, but prediction and truth arrays are empty. \n"
     ]
    },
    {
     "name": "stderr",
     "output_type": "stream",
     "text": [
      "W0430 23:23:41.129527 140594404546368 metrics.py:103] DICE score is technically 1.0, but prediction and truth arrays are empty. \n"
     ]
    },
    {
     "name": "stderr",
     "output_type": "stream",
     "text": [
      "W0430 23:23:41.140144 140594404546368 metrics.py:103] DICE score is technically 1.0, but prediction and truth arrays are empty. \n"
     ]
    },
    {
     "name": "stderr",
     "output_type": "stream",
     "text": [
      "W0430 23:23:41.150906 140594404546368 metrics.py:103] DICE score is technically 1.0, but prediction and truth arrays are empty. \n"
     ]
    },
    {
     "name": "stderr",
     "output_type": "stream",
     "text": [
      "W0430 23:23:41.161422 140594404546368 metrics.py:103] DICE score is technically 1.0, but prediction and truth arrays are empty. \n"
     ]
    },
    {
     "name": "stderr",
     "output_type": "stream",
     "text": [
      "W0430 23:23:41.171663 140594404546368 metrics.py:103] DICE score is technically 1.0, but prediction and truth arrays are empty. \n"
     ]
    },
    {
     "name": "stderr",
     "output_type": "stream",
     "text": [
      "W0430 23:23:41.182161 140594404546368 metrics.py:103] DICE score is technically 1.0, but prediction and truth arrays are empty. \n"
     ]
    },
    {
     "name": "stderr",
     "output_type": "stream",
     "text": [
      "W0430 23:23:42.833269 140594404546368 metrics.py:103] DICE score is technically 1.0, but prediction and truth arrays are empty. \n"
     ]
    },
    {
     "name": "stderr",
     "output_type": "stream",
     "text": [
      "W0430 23:23:42.844175 140594404546368 metrics.py:103] DICE score is technically 1.0, but prediction and truth arrays are empty. \n"
     ]
    },
    {
     "name": "stderr",
     "output_type": "stream",
     "text": [
      "W0430 23:23:42.858781 140594404546368 metrics.py:103] DICE score is technically 1.0, but prediction and truth arrays are empty. \n"
     ]
    },
    {
     "name": "stderr",
     "output_type": "stream",
     "text": [
      "W0430 23:23:42.871360 140594404546368 metrics.py:103] DICE score is technically 1.0, but prediction and truth arrays are empty. \n"
     ]
    },
    {
     "name": "stderr",
     "output_type": "stream",
     "text": [
      "W0430 23:23:42.882416 140594404546368 metrics.py:103] DICE score is technically 1.0, but prediction and truth arrays are empty. \n"
     ]
    },
    {
     "name": "stderr",
     "output_type": "stream",
     "text": [
      "W0430 23:23:42.897136 140594404546368 metrics.py:103] DICE score is technically 1.0, but prediction and truth arrays are empty. \n"
     ]
    },
    {
     "name": "stderr",
     "output_type": "stream",
     "text": [
      "W0430 23:23:42.911759 140594404546368 metrics.py:103] DICE score is technically 1.0, but prediction and truth arrays are empty. \n"
     ]
    },
    {
     "name": "stderr",
     "output_type": "stream",
     "text": [
      "W0430 23:23:42.926375 140594404546368 metrics.py:103] DICE score is technically 1.0, but prediction and truth arrays are empty. \n"
     ]
    },
    {
     "name": "stderr",
     "output_type": "stream",
     "text": [
      "W0430 23:23:42.940542 140594404546368 metrics.py:103] DICE score is technically 1.0, but prediction and truth arrays are empty. \n"
     ]
    },
    {
     "name": "stderr",
     "output_type": "stream",
     "text": [
      "W0430 23:23:42.951668 140594404546368 metrics.py:103] DICE score is technically 1.0, but prediction and truth arrays are empty. \n"
     ]
    },
    {
     "name": "stderr",
     "output_type": "stream",
     "text": [
      "W0430 23:23:42.962188 140594404546368 metrics.py:103] DICE score is technically 1.0, but prediction and truth arrays are empty. \n"
     ]
    },
    {
     "name": "stderr",
     "output_type": "stream",
     "text": [
      "W0430 23:23:42.972891 140594404546368 metrics.py:103] DICE score is technically 1.0, but prediction and truth arrays are empty. \n"
     ]
    },
    {
     "name": "stderr",
     "output_type": "stream",
     "text": [
      "W0430 23:23:42.983618 140594404546368 metrics.py:103] DICE score is technically 1.0, but prediction and truth arrays are empty. \n"
     ]
    },
    {
     "name": "stderr",
     "output_type": "stream",
     "text": [
      "W0430 23:23:42.994300 140594404546368 metrics.py:103] DICE score is technically 1.0, but prediction and truth arrays are empty. \n"
     ]
    },
    {
     "name": "stderr",
     "output_type": "stream",
     "text": [
      "W0430 23:23:43.005163 140594404546368 metrics.py:103] DICE score is technically 1.0, but prediction and truth arrays are empty. \n"
     ]
    },
    {
     "name": "stderr",
     "output_type": "stream",
     "text": [
      "W0430 23:23:43.015617 140594404546368 metrics.py:103] DICE score is technically 1.0, but prediction and truth arrays are empty. \n"
     ]
    },
    {
     "name": "stderr",
     "output_type": "stream",
     "text": [
      "W0430 23:23:43.036334 140594404546368 metrics.py:103] DICE score is technically 1.0, but prediction and truth arrays are empty. \n"
     ]
    },
    {
     "name": "stderr",
     "output_type": "stream",
     "text": [
      "W0430 23:23:43.059648 140594404546368 metrics.py:103] DICE score is technically 1.0, but prediction and truth arrays are empty. \n"
     ]
    },
    {
     "name": "stderr",
     "output_type": "stream",
     "text": [
      "W0430 23:23:43.070578 140594404546368 metrics.py:103] DICE score is technically 1.0, but prediction and truth arrays are empty. \n"
     ]
    },
    {
     "name": "stderr",
     "output_type": "stream",
     "text": [
      "W0430 23:23:43.081531 140594404546368 metrics.py:103] DICE score is technically 1.0, but prediction and truth arrays are empty. \n"
     ]
    },
    {
     "name": "stderr",
     "output_type": "stream",
     "text": [
      "W0430 23:23:43.093177 140594404546368 metrics.py:103] DICE score is technically 1.0, but prediction and truth arrays are empty. \n"
     ]
    },
    {
     "name": "stderr",
     "output_type": "stream",
     "text": [
      "W0430 23:23:43.107584 140594404546368 metrics.py:103] DICE score is technically 1.0, but prediction and truth arrays are empty. \n"
     ]
    },
    {
     "name": "stderr",
     "output_type": "stream",
     "text": [
      "W0430 23:23:43.119123 140594404546368 metrics.py:103] DICE score is technically 1.0, but prediction and truth arrays are empty. \n"
     ]
    },
    {
     "name": "stderr",
     "output_type": "stream",
     "text": [
      "W0430 23:23:43.129692 140594404546368 metrics.py:103] DICE score is technically 1.0, but prediction and truth arrays are empty. \n"
     ]
    },
    {
     "name": "stderr",
     "output_type": "stream",
     "text": [
      "W0430 23:23:43.142963 140594404546368 metrics.py:103] DICE score is technically 1.0, but prediction and truth arrays are empty. \n"
     ]
    },
    {
     "name": "stderr",
     "output_type": "stream",
     "text": [
      "W0430 23:23:43.154570 140594404546368 metrics.py:103] DICE score is technically 1.0, but prediction and truth arrays are empty. \n"
     ]
    },
    {
     "name": "stderr",
     "output_type": "stream",
     "text": [
      "W0430 23:23:43.165615 140594404546368 metrics.py:103] DICE score is technically 1.0, but prediction and truth arrays are empty. \n"
     ]
    },
    {
     "name": "stderr",
     "output_type": "stream",
     "text": [
      "W0430 23:23:43.176548 140594404546368 metrics.py:103] DICE score is technically 1.0, but prediction and truth arrays are empty. \n"
     ]
    },
    {
     "name": "stderr",
     "output_type": "stream",
     "text": [
      "W0430 23:23:43.871261 140594404546368 metrics.py:103] DICE score is technically 1.0, but prediction and truth arrays are empty. \n"
     ]
    },
    {
     "name": "stderr",
     "output_type": "stream",
     "text": [
      "W0430 23:23:43.882148 140594404546368 metrics.py:103] DICE score is technically 1.0, but prediction and truth arrays are empty. \n"
     ]
    },
    {
     "name": "stderr",
     "output_type": "stream",
     "text": [
      "W0430 23:23:43.893145 140594404546368 metrics.py:103] DICE score is technically 1.0, but prediction and truth arrays are empty. \n"
     ]
    },
    {
     "name": "stderr",
     "output_type": "stream",
     "text": [
      "W0430 23:23:43.904349 140594404546368 metrics.py:103] DICE score is technically 1.0, but prediction and truth arrays are empty. \n"
     ]
    },
    {
     "name": "stderr",
     "output_type": "stream",
     "text": [
      "W0430 23:23:43.917446 140594404546368 metrics.py:103] DICE score is technically 1.0, but prediction and truth arrays are empty. \n"
     ]
    },
    {
     "name": "stderr",
     "output_type": "stream",
     "text": [
      "W0430 23:23:43.928270 140594404546368 metrics.py:103] DICE score is technically 1.0, but prediction and truth arrays are empty. \n"
     ]
    },
    {
     "name": "stderr",
     "output_type": "stream",
     "text": [
      "W0430 23:23:43.938548 140594404546368 metrics.py:103] DICE score is technically 1.0, but prediction and truth arrays are empty. \n"
     ]
    },
    {
     "name": "stderr",
     "output_type": "stream",
     "text": [
      "W0430 23:23:43.949409 140594404546368 metrics.py:103] DICE score is technically 1.0, but prediction and truth arrays are empty. \n"
     ]
    },
    {
     "name": "stderr",
     "output_type": "stream",
     "text": [
      "W0430 23:23:43.965035 140594404546368 metrics.py:103] DICE score is technically 1.0, but prediction and truth arrays are empty. \n"
     ]
    },
    {
     "name": "stderr",
     "output_type": "stream",
     "text": [
      "W0430 23:23:43.977635 140594404546368 metrics.py:103] DICE score is technically 1.0, but prediction and truth arrays are empty. \n"
     ]
    },
    {
     "name": "stderr",
     "output_type": "stream",
     "text": [
      "W0430 23:23:43.988095 140594404546368 metrics.py:103] DICE score is technically 1.0, but prediction and truth arrays are empty. \n"
     ]
    },
    {
     "name": "stderr",
     "output_type": "stream",
     "text": [
      "W0430 23:23:43.999136 140594404546368 metrics.py:103] DICE score is technically 1.0, but prediction and truth arrays are empty. \n"
     ]
    },
    {
     "name": "stderr",
     "output_type": "stream",
     "text": [
      "W0430 23:23:44.009870 140594404546368 metrics.py:103] DICE score is technically 1.0, but prediction and truth arrays are empty. \n"
     ]
    },
    {
     "name": "stderr",
     "output_type": "stream",
     "text": [
      "W0430 23:23:44.020755 140594404546368 metrics.py:103] DICE score is technically 1.0, but prediction and truth arrays are empty. \n"
     ]
    },
    {
     "name": "stderr",
     "output_type": "stream",
     "text": [
      "W0430 23:23:44.031338 140594404546368 metrics.py:103] DICE score is technically 1.0, but prediction and truth arrays are empty. \n"
     ]
    },
    {
     "name": "stderr",
     "output_type": "stream",
     "text": [
      "W0430 23:23:44.041857 140594404546368 metrics.py:103] DICE score is technically 1.0, but prediction and truth arrays are empty. \n"
     ]
    },
    {
     "name": "stderr",
     "output_type": "stream",
     "text": [
      "W0430 23:23:44.055102 140594404546368 metrics.py:103] DICE score is technically 1.0, but prediction and truth arrays are empty. \n"
     ]
    },
    {
     "name": "stderr",
     "output_type": "stream",
     "text": [
      "W0430 23:23:44.065183 140594404546368 metrics.py:103] DICE score is technically 1.0, but prediction and truth arrays are empty. \n"
     ]
    },
    {
     "name": "stderr",
     "output_type": "stream",
     "text": [
      "W0430 23:23:44.077560 140594404546368 metrics.py:103] DICE score is technically 1.0, but prediction and truth arrays are empty. \n"
     ]
    },
    {
     "name": "stderr",
     "output_type": "stream",
     "text": [
      "W0430 23:23:44.088192 140594404546368 metrics.py:103] DICE score is technically 1.0, but prediction and truth arrays are empty. \n"
     ]
    },
    {
     "name": "stderr",
     "output_type": "stream",
     "text": [
      "W0430 23:23:44.108326 140594404546368 metrics.py:103] DICE score is technically 1.0, but prediction and truth arrays are empty. \n"
     ]
    },
    {
     "name": "stderr",
     "output_type": "stream",
     "text": [
      "W0430 23:23:44.124851 140594404546368 metrics.py:103] DICE score is technically 1.0, but prediction and truth arrays are empty. \n"
     ]
    },
    {
     "name": "stderr",
     "output_type": "stream",
     "text": [
      "W0430 23:23:44.135668 140594404546368 metrics.py:103] DICE score is technically 1.0, but prediction and truth arrays are empty. \n"
     ]
    },
    {
     "name": "stderr",
     "output_type": "stream",
     "text": [
      "W0430 23:23:44.146289 140594404546368 metrics.py:103] DICE score is technically 1.0, but prediction and truth arrays are empty. \n"
     ]
    },
    {
     "name": "stderr",
     "output_type": "stream",
     "text": [
      "W0430 23:23:44.160334 140594404546368 metrics.py:103] DICE score is technically 1.0, but prediction and truth arrays are empty. \n"
     ]
    },
    {
     "name": "stderr",
     "output_type": "stream",
     "text": [
      "W0430 23:23:44.172003 140594404546368 metrics.py:103] DICE score is technically 1.0, but prediction and truth arrays are empty. \n"
     ]
    },
    {
     "name": "stderr",
     "output_type": "stream",
     "text": [
      "W0430 23:23:44.182690 140594404546368 metrics.py:103] DICE score is technically 1.0, but prediction and truth arrays are empty. \n"
     ]
    },
    {
     "name": "stderr",
     "output_type": "stream",
     "text": [
      "W0430 23:23:44.194004 140594404546368 metrics.py:103] DICE score is technically 1.0, but prediction and truth arrays are empty. \n"
     ]
    },
    {
     "name": "stderr",
     "output_type": "stream",
     "text": [
      "W0430 23:23:46.581274 140594404546368 metrics.py:103] DICE score is technically 1.0, but prediction and truth arrays are empty. \n"
     ]
    },
    {
     "name": "stderr",
     "output_type": "stream",
     "text": [
      "W0430 23:23:46.612630 140594404546368 metrics.py:103] DICE score is technically 1.0, but prediction and truth arrays are empty. \n"
     ]
    },
    {
     "name": "stderr",
     "output_type": "stream",
     "text": [
      "W0430 23:23:46.627151 140594404546368 metrics.py:103] DICE score is technically 1.0, but prediction and truth arrays are empty. \n"
     ]
    },
    {
     "name": "stderr",
     "output_type": "stream",
     "text": [
      "W0430 23:23:46.637889 140594404546368 metrics.py:103] DICE score is technically 1.0, but prediction and truth arrays are empty. \n"
     ]
    },
    {
     "name": "stderr",
     "output_type": "stream",
     "text": [
      "W0430 23:23:46.658819 140594404546368 metrics.py:103] DICE score is technically 1.0, but prediction and truth arrays are empty. \n"
     ]
    },
    {
     "name": "stderr",
     "output_type": "stream",
     "text": [
      "W0430 23:23:46.669373 140594404546368 metrics.py:103] DICE score is technically 1.0, but prediction and truth arrays are empty. \n"
     ]
    },
    {
     "name": "stderr",
     "output_type": "stream",
     "text": [
      "W0430 23:23:46.680677 140594404546368 metrics.py:103] DICE score is technically 1.0, but prediction and truth arrays are empty. \n"
     ]
    },
    {
     "name": "stderr",
     "output_type": "stream",
     "text": [
      "W0430 23:23:46.691551 140594404546368 metrics.py:103] DICE score is technically 1.0, but prediction and truth arrays are empty. \n"
     ]
    },
    {
     "name": "stderr",
     "output_type": "stream",
     "text": [
      "W0430 23:23:46.702756 140594404546368 metrics.py:103] DICE score is technically 1.0, but prediction and truth arrays are empty. \n"
     ]
    },
    {
     "name": "stderr",
     "output_type": "stream",
     "text": [
      "W0430 23:23:46.714072 140594404546368 metrics.py:103] DICE score is technically 1.0, but prediction and truth arrays are empty. \n"
     ]
    },
    {
     "name": "stderr",
     "output_type": "stream",
     "text": [
      "W0430 23:23:46.724998 140594404546368 metrics.py:103] DICE score is technically 1.0, but prediction and truth arrays are empty. \n"
     ]
    },
    {
     "name": "stderr",
     "output_type": "stream",
     "text": [
      "W0430 23:23:46.738353 140594404546368 metrics.py:103] DICE score is technically 1.0, but prediction and truth arrays are empty. \n"
     ]
    },
    {
     "name": "stderr",
     "output_type": "stream",
     "text": [
      "W0430 23:23:46.749392 140594404546368 metrics.py:103] DICE score is technically 1.0, but prediction and truth arrays are empty. \n"
     ]
    },
    {
     "name": "stderr",
     "output_type": "stream",
     "text": [
      "W0430 23:23:46.760110 140594404546368 metrics.py:103] DICE score is technically 1.0, but prediction and truth arrays are empty. \n"
     ]
    },
    {
     "name": "stderr",
     "output_type": "stream",
     "text": [
      "W0430 23:23:46.772323 140594404546368 metrics.py:103] DICE score is technically 1.0, but prediction and truth arrays are empty. \n"
     ]
    },
    {
     "name": "stderr",
     "output_type": "stream",
     "text": [
      "W0430 23:23:46.787055 140594404546368 metrics.py:103] DICE score is technically 1.0, but prediction and truth arrays are empty. \n"
     ]
    },
    {
     "name": "stderr",
     "output_type": "stream",
     "text": [
      "W0430 23:23:46.797825 140594404546368 metrics.py:103] DICE score is technically 1.0, but prediction and truth arrays are empty. \n"
     ]
    },
    {
     "name": "stderr",
     "output_type": "stream",
     "text": [
      "W0430 23:23:46.808710 140594404546368 metrics.py:103] DICE score is technically 1.0, but prediction and truth arrays are empty. \n"
     ]
    },
    {
     "name": "stderr",
     "output_type": "stream",
     "text": [
      "W0430 23:23:46.822180 140594404546368 metrics.py:103] DICE score is technically 1.0, but prediction and truth arrays are empty. \n"
     ]
    },
    {
     "name": "stderr",
     "output_type": "stream",
     "text": [
      "W0430 23:23:47.343830 140594404546368 metrics.py:103] DICE score is technically 1.0, but prediction and truth arrays are empty. \n"
     ]
    },
    {
     "name": "stderr",
     "output_type": "stream",
     "text": [
      "W0430 23:23:47.357363 140594404546368 metrics.py:103] DICE score is technically 1.0, but prediction and truth arrays are empty. \n"
     ]
    },
    {
     "name": "stderr",
     "output_type": "stream",
     "text": [
      "W0430 23:23:47.368636 140594404546368 metrics.py:103] DICE score is technically 1.0, but prediction and truth arrays are empty. \n"
     ]
    },
    {
     "name": "stderr",
     "output_type": "stream",
     "text": [
      "W0430 23:23:47.379619 140594404546368 metrics.py:103] DICE score is technically 1.0, but prediction and truth arrays are empty. \n"
     ]
    },
    {
     "name": "stderr",
     "output_type": "stream",
     "text": [
      "W0430 23:23:47.390285 140594404546368 metrics.py:103] DICE score is technically 1.0, but prediction and truth arrays are empty. \n"
     ]
    },
    {
     "name": "stderr",
     "output_type": "stream",
     "text": [
      "W0430 23:23:47.402495 140594404546368 metrics.py:103] DICE score is technically 1.0, but prediction and truth arrays are empty. \n"
     ]
    },
    {
     "name": "stderr",
     "output_type": "stream",
     "text": [
      "W0430 23:23:47.413463 140594404546368 metrics.py:103] DICE score is technically 1.0, but prediction and truth arrays are empty. \n"
     ]
    },
    {
     "name": "stderr",
     "output_type": "stream",
     "text": [
      "W0430 23:23:47.423561 140594404546368 metrics.py:103] DICE score is technically 1.0, but prediction and truth arrays are empty. \n"
     ]
    },
    {
     "name": "stderr",
     "output_type": "stream",
     "text": [
      "W0430 23:23:47.433731 140594404546368 metrics.py:103] DICE score is technically 1.0, but prediction and truth arrays are empty. \n"
     ]
    },
    {
     "name": "stderr",
     "output_type": "stream",
     "text": [
      "W0430 23:23:47.446936 140594404546368 metrics.py:103] DICE score is technically 1.0, but prediction and truth arrays are empty. \n"
     ]
    },
    {
     "name": "stderr",
     "output_type": "stream",
     "text": [
      "W0430 23:23:47.457604 140594404546368 metrics.py:103] DICE score is technically 1.0, but prediction and truth arrays are empty. \n"
     ]
    },
    {
     "name": "stderr",
     "output_type": "stream",
     "text": [
      "W0430 23:23:47.468012 140594404546368 metrics.py:103] DICE score is technically 1.0, but prediction and truth arrays are empty. \n"
     ]
    },
    {
     "name": "stderr",
     "output_type": "stream",
     "text": [
      "W0430 23:23:47.478553 140594404546368 metrics.py:103] DICE score is technically 1.0, but prediction and truth arrays are empty. \n"
     ]
    },
    {
     "name": "stderr",
     "output_type": "stream",
     "text": [
      "W0430 23:23:47.488910 140594404546368 metrics.py:103] DICE score is technically 1.0, but prediction and truth arrays are empty. \n"
     ]
    },
    {
     "name": "stderr",
     "output_type": "stream",
     "text": [
      "W0430 23:23:47.499481 140594404546368 metrics.py:103] DICE score is technically 1.0, but prediction and truth arrays are empty. \n"
     ]
    },
    {
     "name": "stderr",
     "output_type": "stream",
     "text": [
      "W0430 23:23:47.509887 140594404546368 metrics.py:103] DICE score is technically 1.0, but prediction and truth arrays are empty. \n"
     ]
    },
    {
     "name": "stderr",
     "output_type": "stream",
     "text": [
      "W0430 23:23:47.520403 140594404546368 metrics.py:103] DICE score is technically 1.0, but prediction and truth arrays are empty. \n"
     ]
    },
    {
     "name": "stderr",
     "output_type": "stream",
     "text": [
      "W0430 23:23:47.530795 140594404546368 metrics.py:103] DICE score is technically 1.0, but prediction and truth arrays are empty. \n"
     ]
    },
    {
     "name": "stderr",
     "output_type": "stream",
     "text": [
      "W0430 23:23:47.540881 140594404546368 metrics.py:103] DICE score is technically 1.0, but prediction and truth arrays are empty. \n"
     ]
    },
    {
     "name": "stderr",
     "output_type": "stream",
     "text": [
      "W0430 23:23:47.551337 140594404546368 metrics.py:103] DICE score is technically 1.0, but prediction and truth arrays are empty. \n"
     ]
    },
    {
     "name": "stderr",
     "output_type": "stream",
     "text": [
      "W0430 23:23:47.565753 140594404546368 metrics.py:103] DICE score is technically 1.0, but prediction and truth arrays are empty. \n"
     ]
    },
    {
     "name": "stderr",
     "output_type": "stream",
     "text": [
      "W0430 23:23:47.577802 140594404546368 metrics.py:103] DICE score is technically 1.0, but prediction and truth arrays are empty. \n"
     ]
    },
    {
     "name": "stderr",
     "output_type": "stream",
     "text": [
      "W0430 23:23:47.588578 140594404546368 metrics.py:103] DICE score is technically 1.0, but prediction and truth arrays are empty. \n"
     ]
    },
    {
     "name": "stderr",
     "output_type": "stream",
     "text": [
      "W0430 23:23:47.599283 140594404546368 metrics.py:103] DICE score is technically 1.0, but prediction and truth arrays are empty. \n"
     ]
    },
    {
     "name": "stderr",
     "output_type": "stream",
     "text": [
      "W0430 23:23:47.613426 140594404546368 metrics.py:103] DICE score is technically 1.0, but prediction and truth arrays are empty. \n"
     ]
    },
    {
     "name": "stderr",
     "output_type": "stream",
     "text": [
      "W0430 23:23:47.624632 140594404546368 metrics.py:103] DICE score is technically 1.0, but prediction and truth arrays are empty. \n"
     ]
    },
    {
     "name": "stderr",
     "output_type": "stream",
     "text": [
      "W0430 23:23:47.635207 140594404546368 metrics.py:103] DICE score is technically 1.0, but prediction and truth arrays are empty. \n"
     ]
    },
    {
     "name": "stderr",
     "output_type": "stream",
     "text": [
      "W0430 23:23:47.649726 140594404546368 metrics.py:103] DICE score is technically 1.0, but prediction and truth arrays are empty. \n"
     ]
    },
    {
     "name": "stderr",
     "output_type": "stream",
     "text": [
      "W0430 23:23:47.661793 140594404546368 metrics.py:103] DICE score is technically 1.0, but prediction and truth arrays are empty. \n"
     ]
    },
    {
     "name": "stderr",
     "output_type": "stream",
     "text": [
      "W0430 23:23:47.673387 140594404546368 metrics.py:103] DICE score is technically 1.0, but prediction and truth arrays are empty. \n"
     ]
    },
    {
     "name": "stderr",
     "output_type": "stream",
     "text": [
      "W0430 23:23:48.152118 140594404546368 metrics.py:103] DICE score is technically 1.0, but prediction and truth arrays are empty. \n"
     ]
    },
    {
     "name": "stderr",
     "output_type": "stream",
     "text": [
      "W0430 23:23:48.163452 140594404546368 metrics.py:103] DICE score is technically 1.0, but prediction and truth arrays are empty. \n"
     ]
    },
    {
     "name": "stderr",
     "output_type": "stream",
     "text": [
      "W0430 23:23:48.176559 140594404546368 metrics.py:103] DICE score is technically 1.0, but prediction and truth arrays are empty. \n"
     ]
    },
    {
     "name": "stderr",
     "output_type": "stream",
     "text": [
      "W0430 23:23:48.222489 140594404546368 metrics.py:103] DICE score is technically 1.0, but prediction and truth arrays are empty. \n"
     ]
    },
    {
     "name": "stderr",
     "output_type": "stream",
     "text": [
      "W0430 23:23:48.234071 140594404546368 metrics.py:103] DICE score is technically 1.0, but prediction and truth arrays are empty. \n"
     ]
    },
    {
     "name": "stderr",
     "output_type": "stream",
     "text": [
      "W0430 23:23:48.244547 140594404546368 metrics.py:103] DICE score is technically 1.0, but prediction and truth arrays are empty. \n"
     ]
    },
    {
     "name": "stderr",
     "output_type": "stream",
     "text": [
      "W0430 23:23:48.268807 140594404546368 metrics.py:103] DICE score is technically 1.0, but prediction and truth arrays are empty. \n"
     ]
    },
    {
     "name": "stderr",
     "output_type": "stream",
     "text": [
      "W0430 23:23:48.279891 140594404546368 metrics.py:103] DICE score is technically 1.0, but prediction and truth arrays are empty. \n"
     ]
    },
    {
     "name": "stderr",
     "output_type": "stream",
     "text": [
      "W0430 23:23:49.842650 140594404546368 metrics.py:103] DICE score is technically 1.0, but prediction and truth arrays are empty. \n"
     ]
    },
    {
     "name": "stderr",
     "output_type": "stream",
     "text": [
      "W0430 23:23:49.854668 140594404546368 metrics.py:103] DICE score is technically 1.0, but prediction and truth arrays are empty. \n"
     ]
    },
    {
     "name": "stderr",
     "output_type": "stream",
     "text": [
      "W0430 23:23:49.867733 140594404546368 metrics.py:103] DICE score is technically 1.0, but prediction and truth arrays are empty. \n"
     ]
    },
    {
     "name": "stderr",
     "output_type": "stream",
     "text": [
      "W0430 23:23:49.878480 140594404546368 metrics.py:103] DICE score is technically 1.0, but prediction and truth arrays are empty. \n"
     ]
    },
    {
     "name": "stderr",
     "output_type": "stream",
     "text": [
      "W0430 23:23:49.889150 140594404546368 metrics.py:103] DICE score is technically 1.0, but prediction and truth arrays are empty. \n"
     ]
    },
    {
     "name": "stderr",
     "output_type": "stream",
     "text": [
      "W0430 23:23:49.902847 140594404546368 metrics.py:103] DICE score is technically 1.0, but prediction and truth arrays are empty. \n"
     ]
    },
    {
     "name": "stderr",
     "output_type": "stream",
     "text": [
      "W0430 23:23:49.913999 140594404546368 metrics.py:103] DICE score is technically 1.0, but prediction and truth arrays are empty. \n"
     ]
    },
    {
     "name": "stderr",
     "output_type": "stream",
     "text": [
      "W0430 23:23:49.925150 140594404546368 metrics.py:103] DICE score is technically 1.0, but prediction and truth arrays are empty. \n"
     ]
    },
    {
     "name": "stderr",
     "output_type": "stream",
     "text": [
      "W0430 23:23:49.935762 140594404546368 metrics.py:103] DICE score is technically 1.0, but prediction and truth arrays are empty. \n"
     ]
    },
    {
     "name": "stderr",
     "output_type": "stream",
     "text": [
      "W0430 23:23:49.946138 140594404546368 metrics.py:103] DICE score is technically 1.0, but prediction and truth arrays are empty. \n"
     ]
    },
    {
     "name": "stderr",
     "output_type": "stream",
     "text": [
      "W0430 23:23:49.957033 140594404546368 metrics.py:103] DICE score is technically 1.0, but prediction and truth arrays are empty. \n"
     ]
    },
    {
     "name": "stderr",
     "output_type": "stream",
     "text": [
      "W0430 23:23:49.967805 140594404546368 metrics.py:103] DICE score is technically 1.0, but prediction and truth arrays are empty. \n"
     ]
    },
    {
     "name": "stderr",
     "output_type": "stream",
     "text": [
      "W0430 23:23:49.978577 140594404546368 metrics.py:103] DICE score is technically 1.0, but prediction and truth arrays are empty. \n"
     ]
    },
    {
     "name": "stderr",
     "output_type": "stream",
     "text": [
      "W0430 23:23:49.989506 140594404546368 metrics.py:103] DICE score is technically 1.0, but prediction and truth arrays are empty. \n"
     ]
    },
    {
     "name": "stderr",
     "output_type": "stream",
     "text": [
      "W0430 23:23:50.000696 140594404546368 metrics.py:103] DICE score is technically 1.0, but prediction and truth arrays are empty. \n"
     ]
    },
    {
     "name": "stderr",
     "output_type": "stream",
     "text": [
      "W0430 23:23:50.012833 140594404546368 metrics.py:103] DICE score is technically 1.0, but prediction and truth arrays are empty. \n"
     ]
    },
    {
     "name": "stderr",
     "output_type": "stream",
     "text": [
      "W0430 23:23:50.024143 140594404546368 metrics.py:103] DICE score is technically 1.0, but prediction and truth arrays are empty. \n"
     ]
    },
    {
     "name": "stderr",
     "output_type": "stream",
     "text": [
      "W0430 23:23:50.040469 140594404546368 metrics.py:103] DICE score is technically 1.0, but prediction and truth arrays are empty. \n"
     ]
    },
    {
     "name": "stderr",
     "output_type": "stream",
     "text": [
      "W0430 23:23:50.056743 140594404546368 metrics.py:103] DICE score is technically 1.0, but prediction and truth arrays are empty. \n"
     ]
    },
    {
     "name": "stderr",
     "output_type": "stream",
     "text": [
      "W0430 23:23:50.078600 140594404546368 metrics.py:103] DICE score is technically 1.0, but prediction and truth arrays are empty. \n"
     ]
    },
    {
     "name": "stderr",
     "output_type": "stream",
     "text": [
      "W0430 23:23:50.088595 140594404546368 metrics.py:103] DICE score is technically 1.0, but prediction and truth arrays are empty. \n"
     ]
    },
    {
     "name": "stderr",
     "output_type": "stream",
     "text": [
      "W0430 23:23:50.098697 140594404546368 metrics.py:103] DICE score is technically 1.0, but prediction and truth arrays are empty. \n"
     ]
    },
    {
     "name": "stderr",
     "output_type": "stream",
     "text": [
      "W0430 23:23:50.110814 140594404546368 metrics.py:103] DICE score is technically 1.0, but prediction and truth arrays are empty. \n"
     ]
    },
    {
     "name": "stderr",
     "output_type": "stream",
     "text": [
      "W0430 23:23:50.123084 140594404546368 metrics.py:103] DICE score is technically 1.0, but prediction and truth arrays are empty. \n"
     ]
    },
    {
     "name": "stderr",
     "output_type": "stream",
     "text": [
      "W0430 23:23:50.143465 140594404546368 metrics.py:103] DICE score is technically 1.0, but prediction and truth arrays are empty. \n"
     ]
    },
    {
     "name": "stderr",
     "output_type": "stream",
     "text": [
      "W0430 23:23:50.154194 140594404546368 metrics.py:103] DICE score is technically 1.0, but prediction and truth arrays are empty. \n"
     ]
    },
    {
     "name": "stderr",
     "output_type": "stream",
     "text": [
      "W0430 23:23:50.165295 140594404546368 metrics.py:103] DICE score is technically 1.0, but prediction and truth arrays are empty. \n"
     ]
    },
    {
     "name": "stderr",
     "output_type": "stream",
     "text": [
      "W0430 23:23:50.175958 140594404546368 metrics.py:103] DICE score is technically 1.0, but prediction and truth arrays are empty. \n"
     ]
    },
    {
     "name": "stdout",
     "output_type": "stream",
     "text": [
      "\n",
      "____________Object-based statistics____________\n",
      "\n",
      "Number of true cells:\t\t 47124\n",
      "Number of predicted cells:\t 39164\n",
      "\n",
      "Correct detections:  37286\tRecall: 79.1231644172820693938774638809263706207275390625%\n",
      "Incorrect detections: 1878\tPrecision: 95.2047798999080754356327815912663936614990234375%\n",
      "\n",
      "Gained detections: 1351\tPerc Error: 12.39790768101312323778984136879444122314453125%\n",
      "Missed detections: 9163\tPerc Error: 84.0873634945397867568317451514303684234619140625%\n",
      "Merges: 243\t\tPerc Error: 2.229971551803248797085643673199228942394256591796875%\n",
      "Splits: 106\t\tPerc Error: 0.97274479214462694631748718165908940136432647705078125%\n",
      "Catastrophes: 34\t\tPerc Error: 0.312012480499219979623859444473055191338062286376953125%\n",
      "\n",
      "Gained detections from splits: 108\n",
      "Missed detections from merges: 257\n",
      "True detections involved in catastrophes: 69\n",
      "Predicted detections involved in catastrophes: 70 \n",
      "\n",
      "Average Pixel IOU (Jaccard Index): 0.8075380075642766275478834359091706573963165283203125 \n",
      "\n"
     ]
    },
    {
     "name": "stderr",
     "output_type": "stream",
     "text": [
      "/usr/local/lib/python3.6/dist-packages/ipykernel_launcher.py:157: UserWarning: Only one label was provided to `remove_small_objects`. Did you mean to use a boolean array?\n",
      "/usr/local/lib/python3.6/dist-packages/ipykernel_launcher.py:158: UserWarning: Only one label was provided to `remove_small_objects`. Did you mean to use a boolean array?\n"
     ]
    },
    {
     "name": "stderr",
     "output_type": "stream",
     "text": [
      "W0430 23:24:06.701938 140594404546368 metrics.py:103] DICE score is technically 1.0, but prediction and truth arrays are empty. \n"
     ]
    },
    {
     "name": "stderr",
     "output_type": "stream",
     "text": [
      "W0430 23:24:06.712789 140594404546368 metrics.py:103] DICE score is technically 1.0, but prediction and truth arrays are empty. \n"
     ]
    },
    {
     "name": "stderr",
     "output_type": "stream",
     "text": [
      "W0430 23:24:06.723237 140594404546368 metrics.py:103] DICE score is technically 1.0, but prediction and truth arrays are empty. \n"
     ]
    },
    {
     "name": "stderr",
     "output_type": "stream",
     "text": [
      "W0430 23:24:06.733674 140594404546368 metrics.py:103] DICE score is technically 1.0, but prediction and truth arrays are empty. \n"
     ]
    },
    {
     "name": "stderr",
     "output_type": "stream",
     "text": [
      "W0430 23:24:06.744333 140594404546368 metrics.py:103] DICE score is technically 1.0, but prediction and truth arrays are empty. \n"
     ]
    },
    {
     "name": "stderr",
     "output_type": "stream",
     "text": [
      "W0430 23:24:06.754592 140594404546368 metrics.py:103] DICE score is technically 1.0, but prediction and truth arrays are empty. \n"
     ]
    },
    {
     "name": "stderr",
     "output_type": "stream",
     "text": [
      "W0430 23:24:06.764982 140594404546368 metrics.py:103] DICE score is technically 1.0, but prediction and truth arrays are empty. \n"
     ]
    },
    {
     "name": "stderr",
     "output_type": "stream",
     "text": [
      "W0430 23:24:06.775263 140594404546368 metrics.py:103] DICE score is technically 1.0, but prediction and truth arrays are empty. \n"
     ]
    },
    {
     "name": "stderr",
     "output_type": "stream",
     "text": [
      "W0430 23:24:06.786293 140594404546368 metrics.py:103] DICE score is technically 1.0, but prediction and truth arrays are empty. \n"
     ]
    },
    {
     "name": "stderr",
     "output_type": "stream",
     "text": [
      "W0430 23:24:06.797515 140594404546368 metrics.py:103] DICE score is technically 1.0, but prediction and truth arrays are empty. \n"
     ]
    },
    {
     "name": "stderr",
     "output_type": "stream",
     "text": [
      "W0430 23:24:06.809384 140594404546368 metrics.py:103] DICE score is technically 1.0, but prediction and truth arrays are empty. \n"
     ]
    },
    {
     "name": "stderr",
     "output_type": "stream",
     "text": [
      "W0430 23:24:06.820567 140594404546368 metrics.py:103] DICE score is technically 1.0, but prediction and truth arrays are empty. \n"
     ]
    },
    {
     "name": "stderr",
     "output_type": "stream",
     "text": [
      "W0430 23:24:06.831003 140594404546368 metrics.py:103] DICE score is technically 1.0, but prediction and truth arrays are empty. \n"
     ]
    },
    {
     "name": "stderr",
     "output_type": "stream",
     "text": [
      "W0430 23:24:06.841556 140594404546368 metrics.py:103] DICE score is technically 1.0, but prediction and truth arrays are empty. \n"
     ]
    },
    {
     "name": "stderr",
     "output_type": "stream",
     "text": [
      "W0430 23:24:06.853163 140594404546368 metrics.py:103] DICE score is technically 1.0, but prediction and truth arrays are empty. \n"
     ]
    },
    {
     "name": "stderr",
     "output_type": "stream",
     "text": [
      "W0430 23:24:06.864935 140594404546368 metrics.py:103] DICE score is technically 1.0, but prediction and truth arrays are empty. \n"
     ]
    },
    {
     "name": "stderr",
     "output_type": "stream",
     "text": [
      "W0430 23:24:06.875531 140594404546368 metrics.py:103] DICE score is technically 1.0, but prediction and truth arrays are empty. \n"
     ]
    },
    {
     "name": "stderr",
     "output_type": "stream",
     "text": [
      "W0430 23:24:06.885984 140594404546368 metrics.py:103] DICE score is technically 1.0, but prediction and truth arrays are empty. \n"
     ]
    },
    {
     "name": "stderr",
     "output_type": "stream",
     "text": [
      "W0430 23:24:06.896651 140594404546368 metrics.py:103] DICE score is technically 1.0, but prediction and truth arrays are empty. \n"
     ]
    },
    {
     "name": "stderr",
     "output_type": "stream",
     "text": [
      "W0430 23:24:06.909465 140594404546368 metrics.py:103] DICE score is technically 1.0, but prediction and truth arrays are empty. \n"
     ]
    },
    {
     "name": "stderr",
     "output_type": "stream",
     "text": [
      "W0430 23:24:06.920478 140594404546368 metrics.py:103] DICE score is technically 1.0, but prediction and truth arrays are empty. \n"
     ]
    },
    {
     "name": "stderr",
     "output_type": "stream",
     "text": [
      "W0430 23:24:06.930841 140594404546368 metrics.py:103] DICE score is technically 1.0, but prediction and truth arrays are empty. \n"
     ]
    },
    {
     "name": "stderr",
     "output_type": "stream",
     "text": [
      "W0430 23:24:06.941365 140594404546368 metrics.py:103] DICE score is technically 1.0, but prediction and truth arrays are empty. \n"
     ]
    },
    {
     "name": "stderr",
     "output_type": "stream",
     "text": [
      "W0430 23:24:06.952069 140594404546368 metrics.py:103] DICE score is technically 1.0, but prediction and truth arrays are empty. \n"
     ]
    },
    {
     "name": "stderr",
     "output_type": "stream",
     "text": [
      "W0430 23:24:06.962912 140594404546368 metrics.py:103] DICE score is technically 1.0, but prediction and truth arrays are empty. \n"
     ]
    },
    {
     "name": "stderr",
     "output_type": "stream",
     "text": [
      "W0430 23:24:06.973310 140594404546368 metrics.py:103] DICE score is technically 1.0, but prediction and truth arrays are empty. \n"
     ]
    },
    {
     "name": "stderr",
     "output_type": "stream",
     "text": [
      "W0430 23:24:06.984147 140594404546368 metrics.py:103] DICE score is technically 1.0, but prediction and truth arrays are empty. \n"
     ]
    },
    {
     "name": "stderr",
     "output_type": "stream",
     "text": [
      "W0430 23:24:06.994718 140594404546368 metrics.py:103] DICE score is technically 1.0, but prediction and truth arrays are empty. \n"
     ]
    },
    {
     "name": "stderr",
     "output_type": "stream",
     "text": [
      "W0430 23:24:07.006235 140594404546368 metrics.py:103] DICE score is technically 1.0, but prediction and truth arrays are empty. \n"
     ]
    },
    {
     "name": "stderr",
     "output_type": "stream",
     "text": [
      "W0430 23:24:07.020630 140594404546368 metrics.py:103] DICE score is technically 1.0, but prediction and truth arrays are empty. \n"
     ]
    },
    {
     "name": "stderr",
     "output_type": "stream",
     "text": [
      "W0430 23:24:07.031190 140594404546368 metrics.py:103] DICE score is technically 1.0, but prediction and truth arrays are empty. \n"
     ]
    },
    {
     "name": "stderr",
     "output_type": "stream",
     "text": [
      "W0430 23:24:07.041871 140594404546368 metrics.py:103] DICE score is technically 1.0, but prediction and truth arrays are empty. \n"
     ]
    },
    {
     "name": "stderr",
     "output_type": "stream",
     "text": [
      "W0430 23:24:07.054306 140594404546368 metrics.py:103] DICE score is technically 1.0, but prediction and truth arrays are empty. \n"
     ]
    },
    {
     "name": "stderr",
     "output_type": "stream",
     "text": [
      "W0430 23:24:07.065487 140594404546368 metrics.py:103] DICE score is technically 1.0, but prediction and truth arrays are empty. \n"
     ]
    },
    {
     "name": "stderr",
     "output_type": "stream",
     "text": [
      "W0430 23:24:07.075898 140594404546368 metrics.py:103] DICE score is technically 1.0, but prediction and truth arrays are empty. \n"
     ]
    },
    {
     "name": "stderr",
     "output_type": "stream",
     "text": [
      "W0430 23:24:07.086146 140594404546368 metrics.py:103] DICE score is technically 1.0, but prediction and truth arrays are empty. \n"
     ]
    },
    {
     "name": "stderr",
     "output_type": "stream",
     "text": [
      "W0430 23:24:07.098289 140594404546368 metrics.py:103] DICE score is technically 1.0, but prediction and truth arrays are empty. \n"
     ]
    },
    {
     "name": "stderr",
     "output_type": "stream",
     "text": [
      "W0430 23:24:07.110524 140594404546368 metrics.py:103] DICE score is technically 1.0, but prediction and truth arrays are empty. \n"
     ]
    },
    {
     "name": "stderr",
     "output_type": "stream",
     "text": [
      "W0430 23:24:07.121005 140594404546368 metrics.py:103] DICE score is technically 1.0, but prediction and truth arrays are empty. \n"
     ]
    },
    {
     "name": "stderr",
     "output_type": "stream",
     "text": [
      "W0430 23:24:07.130917 140594404546368 metrics.py:103] DICE score is technically 1.0, but prediction and truth arrays are empty. \n"
     ]
    },
    {
     "name": "stderr",
     "output_type": "stream",
     "text": [
      "W0430 23:24:07.173783 140594404546368 metrics.py:103] DICE score is technically 1.0, but prediction and truth arrays are empty. \n"
     ]
    },
    {
     "name": "stderr",
     "output_type": "stream",
     "text": [
      "W0430 23:24:07.194398 140594404546368 metrics.py:103] DICE score is technically 1.0, but prediction and truth arrays are empty. \n"
     ]
    },
    {
     "name": "stderr",
     "output_type": "stream",
     "text": [
      "W0430 23:24:07.205101 140594404546368 metrics.py:103] DICE score is technically 1.0, but prediction and truth arrays are empty. \n"
     ]
    },
    {
     "name": "stderr",
     "output_type": "stream",
     "text": [
      "W0430 23:24:07.280326 140594404546368 metrics.py:103] DICE score is technically 1.0, but prediction and truth arrays are empty. \n"
     ]
    },
    {
     "name": "stderr",
     "output_type": "stream",
     "text": [
      "W0430 23:24:07.300860 140594404546368 metrics.py:103] DICE score is technically 1.0, but prediction and truth arrays are empty. \n"
     ]
    },
    {
     "name": "stderr",
     "output_type": "stream",
     "text": [
      "W0430 23:24:07.315405 140594404546368 metrics.py:103] DICE score is technically 1.0, but prediction and truth arrays are empty. \n"
     ]
    },
    {
     "name": "stderr",
     "output_type": "stream",
     "text": [
      "W0430 23:24:07.325986 140594404546368 metrics.py:103] DICE score is technically 1.0, but prediction and truth arrays are empty. \n"
     ]
    },
    {
     "name": "stderr",
     "output_type": "stream",
     "text": [
      "W0430 23:24:07.336857 140594404546368 metrics.py:103] DICE score is technically 1.0, but prediction and truth arrays are empty. \n"
     ]
    },
    {
     "name": "stderr",
     "output_type": "stream",
     "text": [
      "W0430 23:24:07.347022 140594404546368 metrics.py:103] DICE score is technically 1.0, but prediction and truth arrays are empty. \n"
     ]
    },
    {
     "name": "stderr",
     "output_type": "stream",
     "text": [
      "W0430 23:24:09.536682 140594404546368 metrics.py:103] DICE score is technically 1.0, but prediction and truth arrays are empty. \n"
     ]
    },
    {
     "name": "stderr",
     "output_type": "stream",
     "text": [
      "W0430 23:24:09.550080 140594404546368 metrics.py:103] DICE score is technically 1.0, but prediction and truth arrays are empty. \n"
     ]
    },
    {
     "name": "stderr",
     "output_type": "stream",
     "text": [
      "W0430 23:24:09.560454 140594404546368 metrics.py:103] DICE score is technically 1.0, but prediction and truth arrays are empty. \n"
     ]
    },
    {
     "name": "stderr",
     "output_type": "stream",
     "text": [
      "W0430 23:24:09.570692 140594404546368 metrics.py:103] DICE score is technically 1.0, but prediction and truth arrays are empty. \n"
     ]
    },
    {
     "name": "stderr",
     "output_type": "stream",
     "text": [
      "W0430 23:24:09.581053 140594404546368 metrics.py:103] DICE score is technically 1.0, but prediction and truth arrays are empty. \n"
     ]
    },
    {
     "name": "stderr",
     "output_type": "stream",
     "text": [
      "W0430 23:24:09.591699 140594404546368 metrics.py:103] DICE score is technically 1.0, but prediction and truth arrays are empty. \n"
     ]
    },
    {
     "name": "stderr",
     "output_type": "stream",
     "text": [
      "W0430 23:24:09.601852 140594404546368 metrics.py:103] DICE score is technically 1.0, but prediction and truth arrays are empty. \n"
     ]
    },
    {
     "name": "stderr",
     "output_type": "stream",
     "text": [
      "W0430 23:24:09.612130 140594404546368 metrics.py:103] DICE score is technically 1.0, but prediction and truth arrays are empty. \n"
     ]
    },
    {
     "name": "stderr",
     "output_type": "stream",
     "text": [
      "W0430 23:24:09.622903 140594404546368 metrics.py:103] DICE score is technically 1.0, but prediction and truth arrays are empty. \n"
     ]
    },
    {
     "name": "stderr",
     "output_type": "stream",
     "text": [
      "W0430 23:24:09.633320 140594404546368 metrics.py:103] DICE score is technically 1.0, but prediction and truth arrays are empty. \n"
     ]
    },
    {
     "name": "stderr",
     "output_type": "stream",
     "text": [
      "W0430 23:24:09.644414 140594404546368 metrics.py:103] DICE score is technically 1.0, but prediction and truth arrays are empty. \n"
     ]
    },
    {
     "name": "stderr",
     "output_type": "stream",
     "text": [
      "W0430 23:24:09.656514 140594404546368 metrics.py:103] DICE score is technically 1.0, but prediction and truth arrays are empty. \n"
     ]
    },
    {
     "name": "stderr",
     "output_type": "stream",
     "text": [
      "W0430 23:24:09.672039 140594404546368 metrics.py:103] DICE score is technically 1.0, but prediction and truth arrays are empty. \n"
     ]
    },
    {
     "name": "stderr",
     "output_type": "stream",
     "text": [
      "W0430 23:24:09.686129 140594404546368 metrics.py:103] DICE score is technically 1.0, but prediction and truth arrays are empty. \n"
     ]
    },
    {
     "name": "stderr",
     "output_type": "stream",
     "text": [
      "W0430 23:24:09.697196 140594404546368 metrics.py:103] DICE score is technically 1.0, but prediction and truth arrays are empty. \n"
     ]
    },
    {
     "name": "stderr",
     "output_type": "stream",
     "text": [
      "W0430 23:24:09.710320 140594404546368 metrics.py:103] DICE score is technically 1.0, but prediction and truth arrays are empty. \n"
     ]
    },
    {
     "name": "stderr",
     "output_type": "stream",
     "text": [
      "W0430 23:24:09.720915 140594404546368 metrics.py:103] DICE score is technically 1.0, but prediction and truth arrays are empty. \n"
     ]
    },
    {
     "name": "stderr",
     "output_type": "stream",
     "text": [
      "W0430 23:24:09.731260 140594404546368 metrics.py:103] DICE score is technically 1.0, but prediction and truth arrays are empty. \n"
     ]
    },
    {
     "name": "stderr",
     "output_type": "stream",
     "text": [
      "W0430 23:24:09.744310 140594404546368 metrics.py:103] DICE score is technically 1.0, but prediction and truth arrays are empty. \n"
     ]
    },
    {
     "name": "stderr",
     "output_type": "stream",
     "text": [
      "W0430 23:24:09.755238 140594404546368 metrics.py:103] DICE score is technically 1.0, but prediction and truth arrays are empty. \n"
     ]
    },
    {
     "name": "stderr",
     "output_type": "stream",
     "text": [
      "W0430 23:24:09.765827 140594404546368 metrics.py:103] DICE score is technically 1.0, but prediction and truth arrays are empty. \n"
     ]
    },
    {
     "name": "stderr",
     "output_type": "stream",
     "text": [
      "W0430 23:24:09.776093 140594404546368 metrics.py:103] DICE score is technically 1.0, but prediction and truth arrays are empty. \n"
     ]
    },
    {
     "name": "stderr",
     "output_type": "stream",
     "text": [
      "W0430 23:24:09.787447 140594404546368 metrics.py:103] DICE score is technically 1.0, but prediction and truth arrays are empty. \n"
     ]
    },
    {
     "name": "stderr",
     "output_type": "stream",
     "text": [
      "W0430 23:24:09.798919 140594404546368 metrics.py:103] DICE score is technically 1.0, but prediction and truth arrays are empty. \n"
     ]
    },
    {
     "name": "stderr",
     "output_type": "stream",
     "text": [
      "W0430 23:24:09.810123 140594404546368 metrics.py:103] DICE score is technically 1.0, but prediction and truth arrays are empty. \n"
     ]
    },
    {
     "name": "stderr",
     "output_type": "stream",
     "text": [
      "W0430 23:24:09.821361 140594404546368 metrics.py:103] DICE score is technically 1.0, but prediction and truth arrays are empty. \n"
     ]
    },
    {
     "name": "stderr",
     "output_type": "stream",
     "text": [
      "W0430 23:24:09.831831 140594404546368 metrics.py:103] DICE score is technically 1.0, but prediction and truth arrays are empty. \n"
     ]
    },
    {
     "name": "stderr",
     "output_type": "stream",
     "text": [
      "W0430 23:24:09.843276 140594404546368 metrics.py:103] DICE score is technically 1.0, but prediction and truth arrays are empty. \n"
     ]
    },
    {
     "name": "stderr",
     "output_type": "stream",
     "text": [
      "W0430 23:24:09.854020 140594404546368 metrics.py:103] DICE score is technically 1.0, but prediction and truth arrays are empty. \n"
     ]
    },
    {
     "name": "stderr",
     "output_type": "stream",
     "text": [
      "W0430 23:24:09.866993 140594404546368 metrics.py:103] DICE score is technically 1.0, but prediction and truth arrays are empty. \n"
     ]
    },
    {
     "name": "stderr",
     "output_type": "stream",
     "text": [
      "W0430 23:24:09.884045 140594404546368 metrics.py:103] DICE score is technically 1.0, but prediction and truth arrays are empty. \n"
     ]
    },
    {
     "name": "stderr",
     "output_type": "stream",
     "text": [
      "W0430 23:24:09.900768 140594404546368 metrics.py:103] DICE score is technically 1.0, but prediction and truth arrays are empty. \n"
     ]
    },
    {
     "name": "stderr",
     "output_type": "stream",
     "text": [
      "W0430 23:24:09.915556 140594404546368 metrics.py:103] DICE score is technically 1.0, but prediction and truth arrays are empty. \n"
     ]
    },
    {
     "name": "stderr",
     "output_type": "stream",
     "text": [
      "W0430 23:24:09.927123 140594404546368 metrics.py:103] DICE score is technically 1.0, but prediction and truth arrays are empty. \n"
     ]
    },
    {
     "name": "stderr",
     "output_type": "stream",
     "text": [
      "W0430 23:24:09.937861 140594404546368 metrics.py:103] DICE score is technically 1.0, but prediction and truth arrays are empty. \n"
     ]
    },
    {
     "name": "stderr",
     "output_type": "stream",
     "text": [
      "W0430 23:24:09.948560 140594404546368 metrics.py:103] DICE score is technically 1.0, but prediction and truth arrays are empty. \n"
     ]
    },
    {
     "name": "stderr",
     "output_type": "stream",
     "text": [
      "W0430 23:24:09.961537 140594404546368 metrics.py:103] DICE score is technically 1.0, but prediction and truth arrays are empty. \n"
     ]
    },
    {
     "name": "stderr",
     "output_type": "stream",
     "text": [
      "W0430 23:24:09.972525 140594404546368 metrics.py:103] DICE score is technically 1.0, but prediction and truth arrays are empty. \n"
     ]
    },
    {
     "name": "stderr",
     "output_type": "stream",
     "text": [
      "W0430 23:24:09.983423 140594404546368 metrics.py:103] DICE score is technically 1.0, but prediction and truth arrays are empty. \n"
     ]
    },
    {
     "name": "stderr",
     "output_type": "stream",
     "text": [
      "W0430 23:24:09.994973 140594404546368 metrics.py:103] DICE score is technically 1.0, but prediction and truth arrays are empty. \n"
     ]
    },
    {
     "name": "stderr",
     "output_type": "stream",
     "text": [
      "W0430 23:24:15.331495 140594404546368 metrics.py:103] DICE score is technically 1.0, but prediction and truth arrays are empty. \n"
     ]
    },
    {
     "name": "stderr",
     "output_type": "stream",
     "text": [
      "W0430 23:24:15.342072 140594404546368 metrics.py:103] DICE score is technically 1.0, but prediction and truth arrays are empty. \n"
     ]
    },
    {
     "name": "stderr",
     "output_type": "stream",
     "text": [
      "W0430 23:24:15.352837 140594404546368 metrics.py:103] DICE score is technically 1.0, but prediction and truth arrays are empty. \n"
     ]
    },
    {
     "name": "stderr",
     "output_type": "stream",
     "text": [
      "W0430 23:24:15.363275 140594404546368 metrics.py:103] DICE score is technically 1.0, but prediction and truth arrays are empty. \n"
     ]
    },
    {
     "name": "stderr",
     "output_type": "stream",
     "text": [
      "W0430 23:24:15.373443 140594404546368 metrics.py:103] DICE score is technically 1.0, but prediction and truth arrays are empty. \n"
     ]
    },
    {
     "name": "stderr",
     "output_type": "stream",
     "text": [
      "W0430 23:24:15.387829 140594404546368 metrics.py:103] DICE score is technically 1.0, but prediction and truth arrays are empty. \n"
     ]
    },
    {
     "name": "stderr",
     "output_type": "stream",
     "text": [
      "W0430 23:24:15.401723 140594404546368 metrics.py:103] DICE score is technically 1.0, but prediction and truth arrays are empty. \n"
     ]
    },
    {
     "name": "stderr",
     "output_type": "stream",
     "text": [
      "W0430 23:24:15.412642 140594404546368 metrics.py:103] DICE score is technically 1.0, but prediction and truth arrays are empty. \n"
     ]
    },
    {
     "name": "stderr",
     "output_type": "stream",
     "text": [
      "W0430 23:24:15.425013 140594404546368 metrics.py:103] DICE score is technically 1.0, but prediction and truth arrays are empty. \n"
     ]
    },
    {
     "name": "stderr",
     "output_type": "stream",
     "text": [
      "W0430 23:24:15.438961 140594404546368 metrics.py:103] DICE score is technically 1.0, but prediction and truth arrays are empty. \n"
     ]
    },
    {
     "name": "stderr",
     "output_type": "stream",
     "text": [
      "W0430 23:24:15.449222 140594404546368 metrics.py:103] DICE score is technically 1.0, but prediction and truth arrays are empty. \n"
     ]
    },
    {
     "name": "stderr",
     "output_type": "stream",
     "text": [
      "W0430 23:24:15.460663 140594404546368 metrics.py:103] DICE score is technically 1.0, but prediction and truth arrays are empty. \n"
     ]
    },
    {
     "name": "stderr",
     "output_type": "stream",
     "text": [
      "W0430 23:24:15.472685 140594404546368 metrics.py:103] DICE score is technically 1.0, but prediction and truth arrays are empty. \n"
     ]
    },
    {
     "name": "stderr",
     "output_type": "stream",
     "text": [
      "W0430 23:24:15.483501 140594404546368 metrics.py:103] DICE score is technically 1.0, but prediction and truth arrays are empty. \n"
     ]
    },
    {
     "name": "stderr",
     "output_type": "stream",
     "text": [
      "W0430 23:24:15.493975 140594404546368 metrics.py:103] DICE score is technically 1.0, but prediction and truth arrays are empty. \n"
     ]
    },
    {
     "name": "stderr",
     "output_type": "stream",
     "text": [
      "W0430 23:24:15.504685 140594404546368 metrics.py:103] DICE score is technically 1.0, but prediction and truth arrays are empty. \n"
     ]
    },
    {
     "name": "stderr",
     "output_type": "stream",
     "text": [
      "W0430 23:24:15.515973 140594404546368 metrics.py:103] DICE score is technically 1.0, but prediction and truth arrays are empty. \n"
     ]
    },
    {
     "name": "stderr",
     "output_type": "stream",
     "text": [
      "W0430 23:24:15.526708 140594404546368 metrics.py:103] DICE score is technically 1.0, but prediction and truth arrays are empty. \n"
     ]
    },
    {
     "name": "stderr",
     "output_type": "stream",
     "text": [
      "W0430 23:24:15.537779 140594404546368 metrics.py:103] DICE score is technically 1.0, but prediction and truth arrays are empty. \n"
     ]
    },
    {
     "name": "stderr",
     "output_type": "stream",
     "text": [
      "W0430 23:24:15.548979 140594404546368 metrics.py:103] DICE score is technically 1.0, but prediction and truth arrays are empty. \n"
     ]
    },
    {
     "name": "stderr",
     "output_type": "stream",
     "text": [
      "W0430 23:24:15.560138 140594404546368 metrics.py:103] DICE score is technically 1.0, but prediction and truth arrays are empty. \n"
     ]
    },
    {
     "name": "stderr",
     "output_type": "stream",
     "text": [
      "W0430 23:24:15.571162 140594404546368 metrics.py:103] DICE score is technically 1.0, but prediction and truth arrays are empty. \n"
     ]
    },
    {
     "name": "stderr",
     "output_type": "stream",
     "text": [
      "W0430 23:24:15.583701 140594404546368 metrics.py:103] DICE score is technically 1.0, but prediction and truth arrays are empty. \n"
     ]
    },
    {
     "name": "stderr",
     "output_type": "stream",
     "text": [
      "W0430 23:24:15.594822 140594404546368 metrics.py:103] DICE score is technically 1.0, but prediction and truth arrays are empty. \n"
     ]
    },
    {
     "name": "stderr",
     "output_type": "stream",
     "text": [
      "W0430 23:24:15.605920 140594404546368 metrics.py:103] DICE score is technically 1.0, but prediction and truth arrays are empty. \n"
     ]
    },
    {
     "name": "stderr",
     "output_type": "stream",
     "text": [
      "W0430 23:24:15.616594 140594404546368 metrics.py:103] DICE score is technically 1.0, but prediction and truth arrays are empty. \n"
     ]
    },
    {
     "name": "stderr",
     "output_type": "stream",
     "text": [
      "W0430 23:24:15.627641 140594404546368 metrics.py:103] DICE score is technically 1.0, but prediction and truth arrays are empty. \n"
     ]
    },
    {
     "name": "stderr",
     "output_type": "stream",
     "text": [
      "W0430 23:24:15.641026 140594404546368 metrics.py:103] DICE score is technically 1.0, but prediction and truth arrays are empty. \n"
     ]
    },
    {
     "name": "stderr",
     "output_type": "stream",
     "text": [
      "W0430 23:24:15.652096 140594404546368 metrics.py:103] DICE score is technically 1.0, but prediction and truth arrays are empty. \n"
     ]
    },
    {
     "name": "stderr",
     "output_type": "stream",
     "text": [
      "W0430 23:24:15.662455 140594404546368 metrics.py:103] DICE score is technically 1.0, but prediction and truth arrays are empty. \n"
     ]
    },
    {
     "name": "stderr",
     "output_type": "stream",
     "text": [
      "W0430 23:24:15.673217 140594404546368 metrics.py:103] DICE score is technically 1.0, but prediction and truth arrays are empty. \n"
     ]
    },
    {
     "name": "stderr",
     "output_type": "stream",
     "text": [
      "W0430 23:24:15.689249 140594404546368 metrics.py:103] DICE score is technically 1.0, but prediction and truth arrays are empty. \n"
     ]
    },
    {
     "name": "stderr",
     "output_type": "stream",
     "text": [
      "W0430 23:24:15.707242 140594404546368 metrics.py:103] DICE score is technically 1.0, but prediction and truth arrays are empty. \n"
     ]
    },
    {
     "name": "stderr",
     "output_type": "stream",
     "text": [
      "W0430 23:24:15.719733 140594404546368 metrics.py:103] DICE score is technically 1.0, but prediction and truth arrays are empty. \n"
     ]
    },
    {
     "name": "stderr",
     "output_type": "stream",
     "text": [
      "W0430 23:24:15.730342 140594404546368 metrics.py:103] DICE score is technically 1.0, but prediction and truth arrays are empty. \n"
     ]
    },
    {
     "name": "stderr",
     "output_type": "stream",
     "text": [
      "W0430 23:24:15.741277 140594404546368 metrics.py:103] DICE score is technically 1.0, but prediction and truth arrays are empty. \n"
     ]
    },
    {
     "name": "stderr",
     "output_type": "stream",
     "text": [
      "W0430 23:24:15.751873 140594404546368 metrics.py:103] DICE score is technically 1.0, but prediction and truth arrays are empty. \n"
     ]
    },
    {
     "name": "stderr",
     "output_type": "stream",
     "text": [
      "W0430 23:24:15.762709 140594404546368 metrics.py:103] DICE score is technically 1.0, but prediction and truth arrays are empty. \n"
     ]
    },
    {
     "name": "stderr",
     "output_type": "stream",
     "text": [
      "W0430 23:24:15.773388 140594404546368 metrics.py:103] DICE score is technically 1.0, but prediction and truth arrays are empty. \n"
     ]
    },
    {
     "name": "stderr",
     "output_type": "stream",
     "text": [
      "W0430 23:24:15.784636 140594404546368 metrics.py:103] DICE score is technically 1.0, but prediction and truth arrays are empty. \n"
     ]
    },
    {
     "name": "stderr",
     "output_type": "stream",
     "text": [
      "W0430 23:24:16.419721 140594404546368 metrics.py:103] DICE score is technically 1.0, but prediction and truth arrays are empty. \n"
     ]
    },
    {
     "name": "stderr",
     "output_type": "stream",
     "text": [
      "W0430 23:24:16.430680 140594404546368 metrics.py:103] DICE score is technically 1.0, but prediction and truth arrays are empty. \n"
     ]
    },
    {
     "name": "stderr",
     "output_type": "stream",
     "text": [
      "W0430 23:24:16.441729 140594404546368 metrics.py:103] DICE score is technically 1.0, but prediction and truth arrays are empty. \n"
     ]
    },
    {
     "name": "stderr",
     "output_type": "stream",
     "text": [
      "W0430 23:24:16.454718 140594404546368 metrics.py:103] DICE score is technically 1.0, but prediction and truth arrays are empty. \n"
     ]
    },
    {
     "name": "stderr",
     "output_type": "stream",
     "text": [
      "W0430 23:24:16.465380 140594404546368 metrics.py:103] DICE score is technically 1.0, but prediction and truth arrays are empty. \n"
     ]
    },
    {
     "name": "stderr",
     "output_type": "stream",
     "text": [
      "W0430 23:24:16.475941 140594404546368 metrics.py:103] DICE score is technically 1.0, but prediction and truth arrays are empty. \n"
     ]
    },
    {
     "name": "stderr",
     "output_type": "stream",
     "text": [
      "W0430 23:24:16.487160 140594404546368 metrics.py:103] DICE score is technically 1.0, but prediction and truth arrays are empty. \n"
     ]
    },
    {
     "name": "stderr",
     "output_type": "stream",
     "text": [
      "W0430 23:24:16.501229 140594404546368 metrics.py:103] DICE score is technically 1.0, but prediction and truth arrays are empty. \n"
     ]
    },
    {
     "name": "stderr",
     "output_type": "stream",
     "text": [
      "W0430 23:24:16.511908 140594404546368 metrics.py:103] DICE score is technically 1.0, but prediction and truth arrays are empty. \n"
     ]
    },
    {
     "name": "stderr",
     "output_type": "stream",
     "text": [
      "W0430 23:24:16.522564 140594404546368 metrics.py:103] DICE score is technically 1.0, but prediction and truth arrays are empty. \n"
     ]
    },
    {
     "name": "stderr",
     "output_type": "stream",
     "text": [
      "W0430 23:24:16.533147 140594404546368 metrics.py:103] DICE score is technically 1.0, but prediction and truth arrays are empty. \n"
     ]
    },
    {
     "name": "stderr",
     "output_type": "stream",
     "text": [
      "W0430 23:24:16.543479 140594404546368 metrics.py:103] DICE score is technically 1.0, but prediction and truth arrays are empty. \n"
     ]
    },
    {
     "name": "stderr",
     "output_type": "stream",
     "text": [
      "W0430 23:24:16.553745 140594404546368 metrics.py:103] DICE score is technically 1.0, but prediction and truth arrays are empty. \n"
     ]
    },
    {
     "name": "stderr",
     "output_type": "stream",
     "text": [
      "W0430 23:24:16.564263 140594404546368 metrics.py:103] DICE score is technically 1.0, but prediction and truth arrays are empty. \n"
     ]
    },
    {
     "name": "stderr",
     "output_type": "stream",
     "text": [
      "W0430 23:24:16.574349 140594404546368 metrics.py:103] DICE score is technically 1.0, but prediction and truth arrays are empty. \n"
     ]
    },
    {
     "name": "stderr",
     "output_type": "stream",
     "text": [
      "W0430 23:24:16.585139 140594404546368 metrics.py:103] DICE score is technically 1.0, but prediction and truth arrays are empty. \n"
     ]
    },
    {
     "name": "stderr",
     "output_type": "stream",
     "text": [
      "W0430 23:24:16.596014 140594404546368 metrics.py:103] DICE score is technically 1.0, but prediction and truth arrays are empty. \n"
     ]
    },
    {
     "name": "stderr",
     "output_type": "stream",
     "text": [
      "W0430 23:24:16.607419 140594404546368 metrics.py:103] DICE score is technically 1.0, but prediction and truth arrays are empty. \n"
     ]
    },
    {
     "name": "stderr",
     "output_type": "stream",
     "text": [
      "W0430 23:24:16.619202 140594404546368 metrics.py:103] DICE score is technically 1.0, but prediction and truth arrays are empty. \n"
     ]
    },
    {
     "name": "stderr",
     "output_type": "stream",
     "text": [
      "W0430 23:24:16.634613 140594404546368 metrics.py:103] DICE score is technically 1.0, but prediction and truth arrays are empty. \n"
     ]
    },
    {
     "name": "stderr",
     "output_type": "stream",
     "text": [
      "W0430 23:24:16.646394 140594404546368 metrics.py:103] DICE score is technically 1.0, but prediction and truth arrays are empty. \n"
     ]
    },
    {
     "name": "stderr",
     "output_type": "stream",
     "text": [
      "W0430 23:24:16.659359 140594404546368 metrics.py:103] DICE score is technically 1.0, but prediction and truth arrays are empty. \n"
     ]
    },
    {
     "name": "stderr",
     "output_type": "stream",
     "text": [
      "W0430 23:24:16.670305 140594404546368 metrics.py:103] DICE score is technically 1.0, but prediction and truth arrays are empty. \n"
     ]
    },
    {
     "name": "stderr",
     "output_type": "stream",
     "text": [
      "W0430 23:24:16.681532 140594404546368 metrics.py:103] DICE score is technically 1.0, but prediction and truth arrays are empty. \n"
     ]
    },
    {
     "name": "stderr",
     "output_type": "stream",
     "text": [
      "W0430 23:24:16.693177 140594404546368 metrics.py:103] DICE score is technically 1.0, but prediction and truth arrays are empty. \n"
     ]
    },
    {
     "name": "stderr",
     "output_type": "stream",
     "text": [
      "W0430 23:24:16.706690 140594404546368 metrics.py:103] DICE score is technically 1.0, but prediction and truth arrays are empty. \n"
     ]
    },
    {
     "name": "stderr",
     "output_type": "stream",
     "text": [
      "W0430 23:24:16.718084 140594404546368 metrics.py:103] DICE score is technically 1.0, but prediction and truth arrays are empty. \n"
     ]
    },
    {
     "name": "stderr",
     "output_type": "stream",
     "text": [
      "W0430 23:24:16.729054 140594404546368 metrics.py:103] DICE score is technically 1.0, but prediction and truth arrays are empty. \n"
     ]
    },
    {
     "name": "stderr",
     "output_type": "stream",
     "text": [
      "W0430 23:24:16.740337 140594404546368 metrics.py:103] DICE score is technically 1.0, but prediction and truth arrays are empty. \n"
     ]
    },
    {
     "name": "stderr",
     "output_type": "stream",
     "text": [
      "W0430 23:24:16.751411 140594404546368 metrics.py:103] DICE score is technically 1.0, but prediction and truth arrays are empty. \n"
     ]
    },
    {
     "name": "stderr",
     "output_type": "stream",
     "text": [
      "W0430 23:24:16.762736 140594404546368 metrics.py:103] DICE score is technically 1.0, but prediction and truth arrays are empty. \n"
     ]
    },
    {
     "name": "stderr",
     "output_type": "stream",
     "text": [
      "W0430 23:24:16.773528 140594404546368 metrics.py:103] DICE score is technically 1.0, but prediction and truth arrays are empty. \n"
     ]
    },
    {
     "name": "stderr",
     "output_type": "stream",
     "text": [
      "W0430 23:24:16.784645 140594404546368 metrics.py:103] DICE score is technically 1.0, but prediction and truth arrays are empty. \n"
     ]
    },
    {
     "name": "stderr",
     "output_type": "stream",
     "text": [
      "W0430 23:24:16.795544 140594404546368 metrics.py:103] DICE score is technically 1.0, but prediction and truth arrays are empty. \n"
     ]
    },
    {
     "name": "stderr",
     "output_type": "stream",
     "text": [
      "W0430 23:24:16.806164 140594404546368 metrics.py:103] DICE score is technically 1.0, but prediction and truth arrays are empty. \n"
     ]
    },
    {
     "name": "stderr",
     "output_type": "stream",
     "text": [
      "W0430 23:24:16.819959 140594404546368 metrics.py:103] DICE score is technically 1.0, but prediction and truth arrays are empty. \n"
     ]
    },
    {
     "name": "stderr",
     "output_type": "stream",
     "text": [
      "W0430 23:24:16.830984 140594404546368 metrics.py:103] DICE score is technically 1.0, but prediction and truth arrays are empty. \n"
     ]
    },
    {
     "name": "stderr",
     "output_type": "stream",
     "text": [
      "W0430 23:24:16.842104 140594404546368 metrics.py:103] DICE score is technically 1.0, but prediction and truth arrays are empty. \n"
     ]
    },
    {
     "name": "stderr",
     "output_type": "stream",
     "text": [
      "W0430 23:24:17.462787 140594404546368 metrics.py:103] DICE score is technically 1.0, but prediction and truth arrays are empty. \n"
     ]
    },
    {
     "name": "stderr",
     "output_type": "stream",
     "text": [
      "W0430 23:24:17.476515 140594404546368 metrics.py:103] DICE score is technically 1.0, but prediction and truth arrays are empty. \n"
     ]
    },
    {
     "name": "stderr",
     "output_type": "stream",
     "text": [
      "W0430 23:24:17.487130 140594404546368 metrics.py:103] DICE score is technically 1.0, but prediction and truth arrays are empty. \n"
     ]
    },
    {
     "name": "stderr",
     "output_type": "stream",
     "text": [
      "W0430 23:24:17.497868 140594404546368 metrics.py:103] DICE score is technically 1.0, but prediction and truth arrays are empty. \n"
     ]
    },
    {
     "name": "stderr",
     "output_type": "stream",
     "text": [
      "W0430 23:24:17.511250 140594404546368 metrics.py:103] DICE score is technically 1.0, but prediction and truth arrays are empty. \n"
     ]
    },
    {
     "name": "stderr",
     "output_type": "stream",
     "text": [
      "W0430 23:24:17.522227 140594404546368 metrics.py:103] DICE score is technically 1.0, but prediction and truth arrays are empty. \n"
     ]
    },
    {
     "name": "stderr",
     "output_type": "stream",
     "text": [
      "W0430 23:24:17.532860 140594404546368 metrics.py:103] DICE score is technically 1.0, but prediction and truth arrays are empty. \n"
     ]
    },
    {
     "name": "stderr",
     "output_type": "stream",
     "text": [
      "W0430 23:24:17.543342 140594404546368 metrics.py:103] DICE score is technically 1.0, but prediction and truth arrays are empty. \n"
     ]
    },
    {
     "name": "stderr",
     "output_type": "stream",
     "text": [
      "W0430 23:24:17.553407 140594404546368 metrics.py:103] DICE score is technically 1.0, but prediction and truth arrays are empty. \n"
     ]
    },
    {
     "name": "stderr",
     "output_type": "stream",
     "text": [
      "W0430 23:24:17.563762 140594404546368 metrics.py:103] DICE score is technically 1.0, but prediction and truth arrays are empty. \n"
     ]
    },
    {
     "name": "stderr",
     "output_type": "stream",
     "text": [
      "W0430 23:24:17.574037 140594404546368 metrics.py:103] DICE score is technically 1.0, but prediction and truth arrays are empty. \n"
     ]
    },
    {
     "name": "stderr",
     "output_type": "stream",
     "text": [
      "W0430 23:24:17.584562 140594404546368 metrics.py:103] DICE score is technically 1.0, but prediction and truth arrays are empty. \n"
     ]
    },
    {
     "name": "stderr",
     "output_type": "stream",
     "text": [
      "W0430 23:24:17.594831 140594404546368 metrics.py:103] DICE score is technically 1.0, but prediction and truth arrays are empty. \n"
     ]
    },
    {
     "name": "stderr",
     "output_type": "stream",
     "text": [
      "W0430 23:24:17.605162 140594404546368 metrics.py:103] DICE score is technically 1.0, but prediction and truth arrays are empty. \n"
     ]
    },
    {
     "name": "stderr",
     "output_type": "stream",
     "text": [
      "W0430 23:24:17.615451 140594404546368 metrics.py:103] DICE score is technically 1.0, but prediction and truth arrays are empty. \n"
     ]
    },
    {
     "name": "stderr",
     "output_type": "stream",
     "text": [
      "W0430 23:24:17.627842 140594404546368 metrics.py:103] DICE score is technically 1.0, but prediction and truth arrays are empty. \n"
     ]
    },
    {
     "name": "stderr",
     "output_type": "stream",
     "text": [
      "W0430 23:24:17.638795 140594404546368 metrics.py:103] DICE score is technically 1.0, but prediction and truth arrays are empty. \n"
     ]
    },
    {
     "name": "stderr",
     "output_type": "stream",
     "text": [
      "W0430 23:24:17.649653 140594404546368 metrics.py:103] DICE score is technically 1.0, but prediction and truth arrays are empty. \n"
     ]
    },
    {
     "name": "stderr",
     "output_type": "stream",
     "text": [
      "W0430 23:24:17.661034 140594404546368 metrics.py:103] DICE score is technically 1.0, but prediction and truth arrays are empty. \n"
     ]
    },
    {
     "name": "stderr",
     "output_type": "stream",
     "text": [
      "W0430 23:24:17.676389 140594404546368 metrics.py:103] DICE score is technically 1.0, but prediction and truth arrays are empty. \n"
     ]
    },
    {
     "name": "stderr",
     "output_type": "stream",
     "text": [
      "W0430 23:24:17.691437 140594404546368 metrics.py:103] DICE score is technically 1.0, but prediction and truth arrays are empty. \n"
     ]
    },
    {
     "name": "stderr",
     "output_type": "stream",
     "text": [
      "W0430 23:24:17.707468 140594404546368 metrics.py:103] DICE score is technically 1.0, but prediction and truth arrays are empty. \n"
     ]
    },
    {
     "name": "stderr",
     "output_type": "stream",
     "text": [
      "W0430 23:24:17.720292 140594404546368 metrics.py:103] DICE score is technically 1.0, but prediction and truth arrays are empty. \n"
     ]
    },
    {
     "name": "stderr",
     "output_type": "stream",
     "text": [
      "W0430 23:24:17.730927 140594404546368 metrics.py:103] DICE score is technically 1.0, but prediction and truth arrays are empty. \n"
     ]
    },
    {
     "name": "stderr",
     "output_type": "stream",
     "text": [
      "W0430 23:24:17.741437 140594404546368 metrics.py:103] DICE score is technically 1.0, but prediction and truth arrays are empty. \n"
     ]
    },
    {
     "name": "stderr",
     "output_type": "stream",
     "text": [
      "W0430 23:24:17.752403 140594404546368 metrics.py:103] DICE score is technically 1.0, but prediction and truth arrays are empty. \n"
     ]
    },
    {
     "name": "stderr",
     "output_type": "stream",
     "text": [
      "W0430 23:24:17.763169 140594404546368 metrics.py:103] DICE score is technically 1.0, but prediction and truth arrays are empty. \n"
     ]
    },
    {
     "name": "stderr",
     "output_type": "stream",
     "text": [
      "W0430 23:24:17.773602 140594404546368 metrics.py:103] DICE score is technically 1.0, but prediction and truth arrays are empty. \n"
     ]
    },
    {
     "name": "stderr",
     "output_type": "stream",
     "text": [
      "W0430 23:24:17.784056 140594404546368 metrics.py:103] DICE score is technically 1.0, but prediction and truth arrays are empty. \n"
     ]
    },
    {
     "name": "stderr",
     "output_type": "stream",
     "text": [
      "W0430 23:24:17.795152 140594404546368 metrics.py:103] DICE score is technically 1.0, but prediction and truth arrays are empty. \n"
     ]
    },
    {
     "name": "stderr",
     "output_type": "stream",
     "text": [
      "W0430 23:24:17.805332 140594404546368 metrics.py:103] DICE score is technically 1.0, but prediction and truth arrays are empty. \n"
     ]
    },
    {
     "name": "stderr",
     "output_type": "stream",
     "text": [
      "W0430 23:24:17.815554 140594404546368 metrics.py:103] DICE score is technically 1.0, but prediction and truth arrays are empty. \n"
     ]
    },
    {
     "name": "stderr",
     "output_type": "stream",
     "text": [
      "W0430 23:24:17.828765 140594404546368 metrics.py:103] DICE score is technically 1.0, but prediction and truth arrays are empty. \n"
     ]
    },
    {
     "name": "stderr",
     "output_type": "stream",
     "text": [
      "W0430 23:24:17.839383 140594404546368 metrics.py:103] DICE score is technically 1.0, but prediction and truth arrays are empty. \n"
     ]
    },
    {
     "name": "stderr",
     "output_type": "stream",
     "text": [
      "W0430 23:24:17.849734 140594404546368 metrics.py:103] DICE score is technically 1.0, but prediction and truth arrays are empty. \n"
     ]
    },
    {
     "name": "stderr",
     "output_type": "stream",
     "text": [
      "W0430 23:24:17.860111 140594404546368 metrics.py:103] DICE score is technically 1.0, but prediction and truth arrays are empty. \n"
     ]
    },
    {
     "name": "stderr",
     "output_type": "stream",
     "text": [
      "W0430 23:24:17.875860 140594404546368 metrics.py:103] DICE score is technically 1.0, but prediction and truth arrays are empty. \n"
     ]
    },
    {
     "name": "stderr",
     "output_type": "stream",
     "text": [
      "W0430 23:24:17.886017 140594404546368 metrics.py:103] DICE score is technically 1.0, but prediction and truth arrays are empty. \n"
     ]
    },
    {
     "name": "stderr",
     "output_type": "stream",
     "text": [
      "W0430 23:24:17.896815 140594404546368 metrics.py:103] DICE score is technically 1.0, but prediction and truth arrays are empty. \n"
     ]
    },
    {
     "name": "stderr",
     "output_type": "stream",
     "text": [
      "W0430 23:24:17.908387 140594404546368 metrics.py:103] DICE score is technically 1.0, but prediction and truth arrays are empty. \n"
     ]
    },
    {
     "name": "stderr",
     "output_type": "stream",
     "text": [
      "W0430 23:24:17.921668 140594404546368 metrics.py:103] DICE score is technically 1.0, but prediction and truth arrays are empty. \n"
     ]
    },
    {
     "name": "stderr",
     "output_type": "stream",
     "text": [
      "W0430 23:24:17.931777 140594404546368 metrics.py:103] DICE score is technically 1.0, but prediction and truth arrays are empty. \n"
     ]
    },
    {
     "name": "stderr",
     "output_type": "stream",
     "text": [
      "W0430 23:24:17.942820 140594404546368 metrics.py:103] DICE score is technically 1.0, but prediction and truth arrays are empty. \n"
     ]
    },
    {
     "name": "stderr",
     "output_type": "stream",
     "text": [
      "W0430 23:24:17.953065 140594404546368 metrics.py:103] DICE score is technically 1.0, but prediction and truth arrays are empty. \n"
     ]
    },
    {
     "name": "stderr",
     "output_type": "stream",
     "text": [
      "W0430 23:24:17.963221 140594404546368 metrics.py:103] DICE score is technically 1.0, but prediction and truth arrays are empty. \n"
     ]
    },
    {
     "name": "stderr",
     "output_type": "stream",
     "text": [
      "W0430 23:24:17.973665 140594404546368 metrics.py:103] DICE score is technically 1.0, but prediction and truth arrays are empty. \n"
     ]
    },
    {
     "name": "stderr",
     "output_type": "stream",
     "text": [
      "W0430 23:24:17.984987 140594404546368 metrics.py:103] DICE score is technically 1.0, but prediction and truth arrays are empty. \n"
     ]
    },
    {
     "name": "stderr",
     "output_type": "stream",
     "text": [
      "W0430 23:24:17.996016 140594404546368 metrics.py:103] DICE score is technically 1.0, but prediction and truth arrays are empty. \n"
     ]
    },
    {
     "name": "stderr",
     "output_type": "stream",
     "text": [
      "W0430 23:24:18.006589 140594404546368 metrics.py:103] DICE score is technically 1.0, but prediction and truth arrays are empty. \n"
     ]
    },
    {
     "name": "stderr",
     "output_type": "stream",
     "text": [
      "W0430 23:24:18.017285 140594404546368 metrics.py:103] DICE score is technically 1.0, but prediction and truth arrays are empty. \n"
     ]
    },
    {
     "name": "stderr",
     "output_type": "stream",
     "text": [
      "W0430 23:24:18.030068 140594404546368 metrics.py:103] DICE score is technically 1.0, but prediction and truth arrays are empty. \n"
     ]
    },
    {
     "name": "stderr",
     "output_type": "stream",
     "text": [
      "W0430 23:24:18.041507 140594404546368 metrics.py:103] DICE score is technically 1.0, but prediction and truth arrays are empty. \n"
     ]
    },
    {
     "name": "stderr",
     "output_type": "stream",
     "text": [
      "W0430 23:24:18.052894 140594404546368 metrics.py:103] DICE score is technically 1.0, but prediction and truth arrays are empty. \n"
     ]
    },
    {
     "name": "stderr",
     "output_type": "stream",
     "text": [
      "W0430 23:24:18.064810 140594404546368 metrics.py:103] DICE score is technically 1.0, but prediction and truth arrays are empty. \n"
     ]
    },
    {
     "name": "stderr",
     "output_type": "stream",
     "text": [
      "W0430 23:24:18.078967 140594404546368 metrics.py:103] DICE score is technically 1.0, but prediction and truth arrays are empty. \n"
     ]
    },
    {
     "name": "stderr",
     "output_type": "stream",
     "text": [
      "W0430 23:24:18.089612 140594404546368 metrics.py:103] DICE score is technically 1.0, but prediction and truth arrays are empty. \n"
     ]
    },
    {
     "name": "stderr",
     "output_type": "stream",
     "text": [
      "W0430 23:24:18.100008 140594404546368 metrics.py:103] DICE score is technically 1.0, but prediction and truth arrays are empty. \n"
     ]
    },
    {
     "name": "stderr",
     "output_type": "stream",
     "text": [
      "W0430 23:24:18.110917 140594404546368 metrics.py:103] DICE score is technically 1.0, but prediction and truth arrays are empty. \n"
     ]
    },
    {
     "name": "stderr",
     "output_type": "stream",
     "text": [
      "W0430 23:24:18.123451 140594404546368 metrics.py:103] DICE score is technically 1.0, but prediction and truth arrays are empty. \n"
     ]
    },
    {
     "name": "stderr",
     "output_type": "stream",
     "text": [
      "W0430 23:24:18.134319 140594404546368 metrics.py:103] DICE score is technically 1.0, but prediction and truth arrays are empty. \n"
     ]
    },
    {
     "name": "stderr",
     "output_type": "stream",
     "text": [
      "W0430 23:24:18.144794 140594404546368 metrics.py:103] DICE score is technically 1.0, but prediction and truth arrays are empty. \n"
     ]
    },
    {
     "name": "stderr",
     "output_type": "stream",
     "text": [
      "W0430 23:24:18.155254 140594404546368 metrics.py:103] DICE score is technically 1.0, but prediction and truth arrays are empty. \n"
     ]
    },
    {
     "name": "stderr",
     "output_type": "stream",
     "text": [
      "W0430 23:24:18.165374 140594404546368 metrics.py:103] DICE score is technically 1.0, but prediction and truth arrays are empty. \n"
     ]
    },
    {
     "name": "stderr",
     "output_type": "stream",
     "text": [
      "W0430 23:24:18.176153 140594404546368 metrics.py:103] DICE score is technically 1.0, but prediction and truth arrays are empty. \n"
     ]
    },
    {
     "name": "stderr",
     "output_type": "stream",
     "text": [
      "W0430 23:24:18.186522 140594404546368 metrics.py:103] DICE score is technically 1.0, but prediction and truth arrays are empty. \n"
     ]
    },
    {
     "name": "stderr",
     "output_type": "stream",
     "text": [
      "W0430 23:24:18.197381 140594404546368 metrics.py:103] DICE score is technically 1.0, but prediction and truth arrays are empty. \n"
     ]
    },
    {
     "name": "stderr",
     "output_type": "stream",
     "text": [
      "W0430 23:24:18.208344 140594404546368 metrics.py:103] DICE score is technically 1.0, but prediction and truth arrays are empty. \n"
     ]
    },
    {
     "name": "stderr",
     "output_type": "stream",
     "text": [
      "W0430 23:24:18.219665 140594404546368 metrics.py:103] DICE score is technically 1.0, but prediction and truth arrays are empty. \n"
     ]
    },
    {
     "name": "stderr",
     "output_type": "stream",
     "text": [
      "W0430 23:24:18.231405 140594404546368 metrics.py:103] DICE score is technically 1.0, but prediction and truth arrays are empty. \n"
     ]
    },
    {
     "name": "stderr",
     "output_type": "stream",
     "text": [
      "W0430 23:24:18.242882 140594404546368 metrics.py:103] DICE score is technically 1.0, but prediction and truth arrays are empty. \n"
     ]
    },
    {
     "name": "stderr",
     "output_type": "stream",
     "text": [
      "W0430 23:24:18.253527 140594404546368 metrics.py:103] DICE score is technically 1.0, but prediction and truth arrays are empty. \n"
     ]
    },
    {
     "name": "stderr",
     "output_type": "stream",
     "text": [
      "W0430 23:24:18.264124 140594404546368 metrics.py:103] DICE score is technically 1.0, but prediction and truth arrays are empty. \n"
     ]
    },
    {
     "name": "stderr",
     "output_type": "stream",
     "text": [
      "W0430 23:24:18.275033 140594404546368 metrics.py:103] DICE score is technically 1.0, but prediction and truth arrays are empty. \n"
     ]
    },
    {
     "name": "stderr",
     "output_type": "stream",
     "text": [
      "W0430 23:24:18.290828 140594404546368 metrics.py:103] DICE score is technically 1.0, but prediction and truth arrays are empty. \n"
     ]
    },
    {
     "name": "stderr",
     "output_type": "stream",
     "text": [
      "W0430 23:24:18.301493 140594404546368 metrics.py:103] DICE score is technically 1.0, but prediction and truth arrays are empty. \n"
     ]
    },
    {
     "name": "stderr",
     "output_type": "stream",
     "text": [
      "W0430 23:24:18.311758 140594404546368 metrics.py:103] DICE score is technically 1.0, but prediction and truth arrays are empty. \n"
     ]
    },
    {
     "name": "stderr",
     "output_type": "stream",
     "text": [
      "W0430 23:24:18.324463 140594404546368 metrics.py:103] DICE score is technically 1.0, but prediction and truth arrays are empty. \n"
     ]
    },
    {
     "name": "stderr",
     "output_type": "stream",
     "text": [
      "W0430 23:24:18.341320 140594404546368 metrics.py:103] DICE score is technically 1.0, but prediction and truth arrays are empty. \n"
     ]
    },
    {
     "name": "stderr",
     "output_type": "stream",
     "text": [
      "W0430 23:24:18.353889 140594404546368 metrics.py:103] DICE score is technically 1.0, but prediction and truth arrays are empty. \n"
     ]
    },
    {
     "name": "stderr",
     "output_type": "stream",
     "text": [
      "W0430 23:24:18.364694 140594404546368 metrics.py:103] DICE score is technically 1.0, but prediction and truth arrays are empty. \n"
     ]
    },
    {
     "name": "stderr",
     "output_type": "stream",
     "text": [
      "W0430 23:24:18.375674 140594404546368 metrics.py:103] DICE score is technically 1.0, but prediction and truth arrays are empty. \n"
     ]
    },
    {
     "name": "stderr",
     "output_type": "stream",
     "text": [
      "W0430 23:24:18.386346 140594404546368 metrics.py:103] DICE score is technically 1.0, but prediction and truth arrays are empty. \n"
     ]
    },
    {
     "name": "stderr",
     "output_type": "stream",
     "text": [
      "W0430 23:24:18.397550 140594404546368 metrics.py:103] DICE score is technically 1.0, but prediction and truth arrays are empty. \n"
     ]
    },
    {
     "name": "stderr",
     "output_type": "stream",
     "text": [
      "W0430 23:24:18.408240 140594404546368 metrics.py:103] DICE score is technically 1.0, but prediction and truth arrays are empty. \n"
     ]
    },
    {
     "name": "stderr",
     "output_type": "stream",
     "text": [
      "W0430 23:24:18.418811 140594404546368 metrics.py:103] DICE score is technically 1.0, but prediction and truth arrays are empty. \n"
     ]
    },
    {
     "name": "stderr",
     "output_type": "stream",
     "text": [
      "W0430 23:24:18.429410 140594404546368 metrics.py:103] DICE score is technically 1.0, but prediction and truth arrays are empty. \n"
     ]
    },
    {
     "name": "stderr",
     "output_type": "stream",
     "text": [
      "W0430 23:24:18.442273 140594404546368 metrics.py:103] DICE score is technically 1.0, but prediction and truth arrays are empty. \n"
     ]
    },
    {
     "name": "stderr",
     "output_type": "stream",
     "text": [
      "W0430 23:24:18.453281 140594404546368 metrics.py:103] DICE score is technically 1.0, but prediction and truth arrays are empty. \n"
     ]
    },
    {
     "name": "stderr",
     "output_type": "stream",
     "text": [
      "W0430 23:24:18.463952 140594404546368 metrics.py:103] DICE score is technically 1.0, but prediction and truth arrays are empty. \n"
     ]
    },
    {
     "name": "stderr",
     "output_type": "stream",
     "text": [
      "W0430 23:24:18.474816 140594404546368 metrics.py:103] DICE score is technically 1.0, but prediction and truth arrays are empty. \n"
     ]
    },
    {
     "name": "stderr",
     "output_type": "stream",
     "text": [
      "W0430 23:24:18.488307 140594404546368 metrics.py:103] DICE score is technically 1.0, but prediction and truth arrays are empty. \n"
     ]
    },
    {
     "name": "stderr",
     "output_type": "stream",
     "text": [
      "W0430 23:24:18.501533 140594404546368 metrics.py:103] DICE score is technically 1.0, but prediction and truth arrays are empty. \n"
     ]
    },
    {
     "name": "stderr",
     "output_type": "stream",
     "text": [
      "W0430 23:24:18.511955 140594404546368 metrics.py:103] DICE score is technically 1.0, but prediction and truth arrays are empty. \n"
     ]
    },
    {
     "name": "stderr",
     "output_type": "stream",
     "text": [
      "W0430 23:24:18.522505 140594404546368 metrics.py:103] DICE score is technically 1.0, but prediction and truth arrays are empty. \n"
     ]
    },
    {
     "name": "stderr",
     "output_type": "stream",
     "text": [
      "W0430 23:24:18.536313 140594404546368 metrics.py:103] DICE score is technically 1.0, but prediction and truth arrays are empty. \n"
     ]
    },
    {
     "name": "stderr",
     "output_type": "stream",
     "text": [
      "W0430 23:24:18.547352 140594404546368 metrics.py:103] DICE score is technically 1.0, but prediction and truth arrays are empty. \n"
     ]
    },
    {
     "name": "stderr",
     "output_type": "stream",
     "text": [
      "W0430 23:24:18.557952 140594404546368 metrics.py:103] DICE score is technically 1.0, but prediction and truth arrays are empty. \n"
     ]
    },
    {
     "name": "stderr",
     "output_type": "stream",
     "text": [
      "W0430 23:24:18.568207 140594404546368 metrics.py:103] DICE score is technically 1.0, but prediction and truth arrays are empty. \n"
     ]
    },
    {
     "name": "stderr",
     "output_type": "stream",
     "text": [
      "W0430 23:24:18.578555 140594404546368 metrics.py:103] DICE score is technically 1.0, but prediction and truth arrays are empty. \n"
     ]
    },
    {
     "name": "stderr",
     "output_type": "stream",
     "text": [
      "W0430 23:24:18.589399 140594404546368 metrics.py:103] DICE score is technically 1.0, but prediction and truth arrays are empty. \n"
     ]
    },
    {
     "name": "stderr",
     "output_type": "stream",
     "text": [
      "W0430 23:24:18.599862 140594404546368 metrics.py:103] DICE score is technically 1.0, but prediction and truth arrays are empty. \n"
     ]
    },
    {
     "name": "stderr",
     "output_type": "stream",
     "text": [
      "W0430 23:24:18.610137 140594404546368 metrics.py:103] DICE score is technically 1.0, but prediction and truth arrays are empty. \n"
     ]
    },
    {
     "name": "stderr",
     "output_type": "stream",
     "text": [
      "W0430 23:24:18.620278 140594404546368 metrics.py:103] DICE score is technically 1.0, but prediction and truth arrays are empty. \n"
     ]
    },
    {
     "name": "stderr",
     "output_type": "stream",
     "text": [
      "W0430 23:24:18.630570 140594404546368 metrics.py:103] DICE score is technically 1.0, but prediction and truth arrays are empty. \n"
     ]
    },
    {
     "name": "stderr",
     "output_type": "stream",
     "text": [
      "W0430 23:24:18.641176 140594404546368 metrics.py:103] DICE score is technically 1.0, but prediction and truth arrays are empty. \n"
     ]
    },
    {
     "name": "stderr",
     "output_type": "stream",
     "text": [
      "W0430 23:24:18.655798 140594404546368 metrics.py:103] DICE score is technically 1.0, but prediction and truth arrays are empty. \n"
     ]
    },
    {
     "name": "stderr",
     "output_type": "stream",
     "text": [
      "W0430 23:24:18.669714 140594404546368 metrics.py:103] DICE score is technically 1.0, but prediction and truth arrays are empty. \n"
     ]
    },
    {
     "name": "stderr",
     "output_type": "stream",
     "text": [
      "W0430 23:24:18.680656 140594404546368 metrics.py:103] DICE score is technically 1.0, but prediction and truth arrays are empty. \n"
     ]
    },
    {
     "name": "stderr",
     "output_type": "stream",
     "text": [
      "W0430 23:24:18.694079 140594404546368 metrics.py:103] DICE score is technically 1.0, but prediction and truth arrays are empty. \n"
     ]
    },
    {
     "name": "stderr",
     "output_type": "stream",
     "text": [
      "W0430 23:24:18.705317 140594404546368 metrics.py:103] DICE score is technically 1.0, but prediction and truth arrays are empty. \n"
     ]
    },
    {
     "name": "stderr",
     "output_type": "stream",
     "text": [
      "W0430 23:24:18.716811 140594404546368 metrics.py:103] DICE score is technically 1.0, but prediction and truth arrays are empty. \n"
     ]
    },
    {
     "name": "stderr",
     "output_type": "stream",
     "text": [
      "W0430 23:24:18.727410 140594404546368 metrics.py:103] DICE score is technically 1.0, but prediction and truth arrays are empty. \n"
     ]
    },
    {
     "name": "stderr",
     "output_type": "stream",
     "text": [
      "W0430 23:24:18.741655 140594404546368 metrics.py:103] DICE score is technically 1.0, but prediction and truth arrays are empty. \n"
     ]
    },
    {
     "name": "stderr",
     "output_type": "stream",
     "text": [
      "W0430 23:24:18.752093 140594404546368 metrics.py:103] DICE score is technically 1.0, but prediction and truth arrays are empty. \n"
     ]
    },
    {
     "name": "stderr",
     "output_type": "stream",
     "text": [
      "W0430 23:24:18.762791 140594404546368 metrics.py:103] DICE score is technically 1.0, but prediction and truth arrays are empty. \n"
     ]
    },
    {
     "name": "stderr",
     "output_type": "stream",
     "text": [
      "W0430 23:24:18.773254 140594404546368 metrics.py:103] DICE score is technically 1.0, but prediction and truth arrays are empty. \n"
     ]
    },
    {
     "name": "stderr",
     "output_type": "stream",
     "text": [
      "W0430 23:24:18.784214 140594404546368 metrics.py:103] DICE score is technically 1.0, but prediction and truth arrays are empty. \n"
     ]
    },
    {
     "name": "stderr",
     "output_type": "stream",
     "text": [
      "W0430 23:24:18.795205 140594404546368 metrics.py:103] DICE score is technically 1.0, but prediction and truth arrays are empty. \n"
     ]
    },
    {
     "name": "stderr",
     "output_type": "stream",
     "text": [
      "W0430 23:24:18.805613 140594404546368 metrics.py:103] DICE score is technically 1.0, but prediction and truth arrays are empty. \n"
     ]
    },
    {
     "name": "stderr",
     "output_type": "stream",
     "text": [
      "W0430 23:24:18.816276 140594404546368 metrics.py:103] DICE score is technically 1.0, but prediction and truth arrays are empty. \n"
     ]
    },
    {
     "name": "stderr",
     "output_type": "stream",
     "text": [
      "W0430 23:24:22.472263 140594404546368 metrics.py:103] DICE score is technically 1.0, but prediction and truth arrays are empty. \n"
     ]
    },
    {
     "name": "stderr",
     "output_type": "stream",
     "text": [
      "W0430 23:24:22.483226 140594404546368 metrics.py:103] DICE score is technically 1.0, but prediction and truth arrays are empty. \n"
     ]
    },
    {
     "name": "stderr",
     "output_type": "stream",
     "text": [
      "W0430 23:24:22.493930 140594404546368 metrics.py:103] DICE score is technically 1.0, but prediction and truth arrays are empty. \n"
     ]
    },
    {
     "name": "stderr",
     "output_type": "stream",
     "text": [
      "W0430 23:24:22.504691 140594404546368 metrics.py:103] DICE score is technically 1.0, but prediction and truth arrays are empty. \n"
     ]
    },
    {
     "name": "stderr",
     "output_type": "stream",
     "text": [
      "W0430 23:24:22.515125 140594404546368 metrics.py:103] DICE score is technically 1.0, but prediction and truth arrays are empty. \n"
     ]
    },
    {
     "name": "stderr",
     "output_type": "stream",
     "text": [
      "W0430 23:24:22.525765 140594404546368 metrics.py:103] DICE score is technically 1.0, but prediction and truth arrays are empty. \n"
     ]
    },
    {
     "name": "stderr",
     "output_type": "stream",
     "text": [
      "W0430 23:24:22.536204 140594404546368 metrics.py:103] DICE score is technically 1.0, but prediction and truth arrays are empty. \n"
     ]
    },
    {
     "name": "stderr",
     "output_type": "stream",
     "text": [
      "W0430 23:24:22.549671 140594404546368 metrics.py:103] DICE score is technically 1.0, but prediction and truth arrays are empty. \n"
     ]
    },
    {
     "name": "stderr",
     "output_type": "stream",
     "text": [
      "W0430 23:24:22.560336 140594404546368 metrics.py:103] DICE score is technically 1.0, but prediction and truth arrays are empty. \n"
     ]
    },
    {
     "name": "stderr",
     "output_type": "stream",
     "text": [
      "W0430 23:24:22.570479 140594404546368 metrics.py:103] DICE score is technically 1.0, but prediction and truth arrays are empty. \n"
     ]
    },
    {
     "name": "stderr",
     "output_type": "stream",
     "text": [
      "W0430 23:24:22.581945 140594404546368 metrics.py:103] DICE score is technically 1.0, but prediction and truth arrays are empty. \n"
     ]
    },
    {
     "name": "stderr",
     "output_type": "stream",
     "text": [
      "W0430 23:24:22.593954 140594404546368 metrics.py:103] DICE score is technically 1.0, but prediction and truth arrays are empty. \n"
     ]
    },
    {
     "name": "stderr",
     "output_type": "stream",
     "text": [
      "W0430 23:24:22.604810 140594404546368 metrics.py:103] DICE score is technically 1.0, but prediction and truth arrays are empty. \n"
     ]
    },
    {
     "name": "stderr",
     "output_type": "stream",
     "text": [
      "W0430 23:24:22.615179 140594404546368 metrics.py:103] DICE score is technically 1.0, but prediction and truth arrays are empty. \n"
     ]
    },
    {
     "name": "stderr",
     "output_type": "stream",
     "text": [
      "W0430 23:24:22.626675 140594404546368 metrics.py:103] DICE score is technically 1.0, but prediction and truth arrays are empty. \n"
     ]
    },
    {
     "name": "stderr",
     "output_type": "stream",
     "text": [
      "W0430 23:24:22.642354 140594404546368 metrics.py:103] DICE score is technically 1.0, but prediction and truth arrays are empty. \n"
     ]
    },
    {
     "name": "stderr",
     "output_type": "stream",
     "text": [
      "W0430 23:24:22.655947 140594404546368 metrics.py:103] DICE score is technically 1.0, but prediction and truth arrays are empty. \n"
     ]
    },
    {
     "name": "stderr",
     "output_type": "stream",
     "text": [
      "W0430 23:24:22.666556 140594404546368 metrics.py:103] DICE score is technically 1.0, but prediction and truth arrays are empty. \n"
     ]
    },
    {
     "name": "stderr",
     "output_type": "stream",
     "text": [
      "W0430 23:24:22.677513 140594404546368 metrics.py:103] DICE score is technically 1.0, but prediction and truth arrays are empty. \n"
     ]
    },
    {
     "name": "stderr",
     "output_type": "stream",
     "text": [
      "W0430 23:24:22.688005 140594404546368 metrics.py:103] DICE score is technically 1.0, but prediction and truth arrays are empty. \n"
     ]
    },
    {
     "name": "stderr",
     "output_type": "stream",
     "text": [
      "W0430 23:24:22.698629 140594404546368 metrics.py:103] DICE score is technically 1.0, but prediction and truth arrays are empty. \n"
     ]
    },
    {
     "name": "stderr",
     "output_type": "stream",
     "text": [
      "W0430 23:24:22.709429 140594404546368 metrics.py:103] DICE score is technically 1.0, but prediction and truth arrays are empty. \n"
     ]
    },
    {
     "name": "stderr",
     "output_type": "stream",
     "text": [
      "W0430 23:24:22.719515 140594404546368 metrics.py:103] DICE score is technically 1.0, but prediction and truth arrays are empty. \n"
     ]
    },
    {
     "name": "stderr",
     "output_type": "stream",
     "text": [
      "W0430 23:24:22.730002 140594404546368 metrics.py:103] DICE score is technically 1.0, but prediction and truth arrays are empty. \n"
     ]
    },
    {
     "name": "stderr",
     "output_type": "stream",
     "text": [
      "W0430 23:24:22.740674 140594404546368 metrics.py:103] DICE score is technically 1.0, but prediction and truth arrays are empty. \n"
     ]
    },
    {
     "name": "stderr",
     "output_type": "stream",
     "text": [
      "W0430 23:24:22.756192 140594404546368 metrics.py:103] DICE score is technically 1.0, but prediction and truth arrays are empty. \n"
     ]
    },
    {
     "name": "stderr",
     "output_type": "stream",
     "text": [
      "W0430 23:24:22.770839 140594404546368 metrics.py:103] DICE score is technically 1.0, but prediction and truth arrays are empty. \n"
     ]
    },
    {
     "name": "stderr",
     "output_type": "stream",
     "text": [
      "W0430 23:24:22.781875 140594404546368 metrics.py:103] DICE score is technically 1.0, but prediction and truth arrays are empty. \n"
     ]
    },
    {
     "name": "stderr",
     "output_type": "stream",
     "text": [
      "W0430 23:24:22.794649 140594404546368 metrics.py:103] DICE score is technically 1.0, but prediction and truth arrays are empty. \n"
     ]
    },
    {
     "name": "stderr",
     "output_type": "stream",
     "text": [
      "W0430 23:24:22.805008 140594404546368 metrics.py:103] DICE score is technically 1.0, but prediction and truth arrays are empty. \n"
     ]
    },
    {
     "name": "stderr",
     "output_type": "stream",
     "text": [
      "W0430 23:24:22.815225 140594404546368 metrics.py:103] DICE score is technically 1.0, but prediction and truth arrays are empty. \n"
     ]
    },
    {
     "name": "stderr",
     "output_type": "stream",
     "text": [
      "W0430 23:24:22.825492 140594404546368 metrics.py:103] DICE score is technically 1.0, but prediction and truth arrays are empty. \n"
     ]
    },
    {
     "name": "stderr",
     "output_type": "stream",
     "text": [
      "W0430 23:24:22.838933 140594404546368 metrics.py:103] DICE score is technically 1.0, but prediction and truth arrays are empty. \n"
     ]
    },
    {
     "name": "stderr",
     "output_type": "stream",
     "text": [
      "W0430 23:24:22.849107 140594404546368 metrics.py:103] DICE score is technically 1.0, but prediction and truth arrays are empty. \n"
     ]
    },
    {
     "name": "stderr",
     "output_type": "stream",
     "text": [
      "W0430 23:24:22.859523 140594404546368 metrics.py:103] DICE score is technically 1.0, but prediction and truth arrays are empty. \n"
     ]
    },
    {
     "name": "stderr",
     "output_type": "stream",
     "text": [
      "W0430 23:24:22.869419 140594404546368 metrics.py:103] DICE score is technically 1.0, but prediction and truth arrays are empty. \n"
     ]
    },
    {
     "name": "stderr",
     "output_type": "stream",
     "text": [
      "W0430 23:24:22.879655 140594404546368 metrics.py:103] DICE score is technically 1.0, but prediction and truth arrays are empty. \n"
     ]
    },
    {
     "name": "stderr",
     "output_type": "stream",
     "text": [
      "W0430 23:24:22.890038 140594404546368 metrics.py:103] DICE score is technically 1.0, but prediction and truth arrays are empty. \n"
     ]
    },
    {
     "name": "stderr",
     "output_type": "stream",
     "text": [
      "W0430 23:24:22.900796 140594404546368 metrics.py:103] DICE score is technically 1.0, but prediction and truth arrays are empty. \n"
     ]
    },
    {
     "name": "stderr",
     "output_type": "stream",
     "text": [
      "W0430 23:24:22.911225 140594404546368 metrics.py:103] DICE score is technically 1.0, but prediction and truth arrays are empty. \n"
     ]
    },
    {
     "name": "stderr",
     "output_type": "stream",
     "text": [
      "W0430 23:25:18.265161 140594404546368 metrics.py:103] DICE score is technically 1.0, but prediction and truth arrays are empty. \n"
     ]
    },
    {
     "name": "stderr",
     "output_type": "stream",
     "text": [
      "W0430 23:25:18.276220 140594404546368 metrics.py:103] DICE score is technically 1.0, but prediction and truth arrays are empty. \n"
     ]
    },
    {
     "name": "stderr",
     "output_type": "stream",
     "text": [
      "W0430 23:25:18.286687 140594404546368 metrics.py:103] DICE score is technically 1.0, but prediction and truth arrays are empty. \n"
     ]
    },
    {
     "name": "stderr",
     "output_type": "stream",
     "text": [
      "W0430 23:25:18.297032 140594404546368 metrics.py:103] DICE score is technically 1.0, but prediction and truth arrays are empty. \n"
     ]
    },
    {
     "name": "stderr",
     "output_type": "stream",
     "text": [
      "W0430 23:25:18.307795 140594404546368 metrics.py:103] DICE score is technically 1.0, but prediction and truth arrays are empty. \n"
     ]
    },
    {
     "name": "stderr",
     "output_type": "stream",
     "text": [
      "W0430 23:25:18.323160 140594404546368 metrics.py:103] DICE score is technically 1.0, but prediction and truth arrays are empty. \n"
     ]
    },
    {
     "name": "stderr",
     "output_type": "stream",
     "text": [
      "W0430 23:25:18.338625 140594404546368 metrics.py:103] DICE score is technically 1.0, but prediction and truth arrays are empty. \n"
     ]
    },
    {
     "name": "stderr",
     "output_type": "stream",
     "text": [
      "W0430 23:25:18.349521 140594404546368 metrics.py:103] DICE score is technically 1.0, but prediction and truth arrays are empty. \n"
     ]
    },
    {
     "name": "stderr",
     "output_type": "stream",
     "text": [
      "W0430 23:25:18.362519 140594404546368 metrics.py:103] DICE score is technically 1.0, but prediction and truth arrays are empty. \n"
     ]
    },
    {
     "name": "stderr",
     "output_type": "stream",
     "text": [
      "W0430 23:25:18.373915 140594404546368 metrics.py:103] DICE score is technically 1.0, but prediction and truth arrays are empty. \n"
     ]
    },
    {
     "name": "stderr",
     "output_type": "stream",
     "text": [
      "W0430 23:25:18.384652 140594404546368 metrics.py:103] DICE score is technically 1.0, but prediction and truth arrays are empty. \n"
     ]
    },
    {
     "name": "stderr",
     "output_type": "stream",
     "text": [
      "W0430 23:25:18.434894 140594404546368 metrics.py:103] DICE score is technically 1.0, but prediction and truth arrays are empty. \n"
     ]
    },
    {
     "name": "stderr",
     "output_type": "stream",
     "text": [
      "W0430 23:25:19.918251 140594404546368 metrics.py:103] DICE score is technically 1.0, but prediction and truth arrays are empty. \n"
     ]
    },
    {
     "name": "stderr",
     "output_type": "stream",
     "text": [
      "W0430 23:25:19.929065 140594404546368 metrics.py:103] DICE score is technically 1.0, but prediction and truth arrays are empty. \n"
     ]
    },
    {
     "name": "stderr",
     "output_type": "stream",
     "text": [
      "W0430 23:25:19.940239 140594404546368 metrics.py:103] DICE score is technically 1.0, but prediction and truth arrays are empty. \n"
     ]
    },
    {
     "name": "stderr",
     "output_type": "stream",
     "text": [
      "W0430 23:25:19.955856 140594404546368 metrics.py:103] DICE score is technically 1.0, but prediction and truth arrays are empty. \n"
     ]
    },
    {
     "name": "stderr",
     "output_type": "stream",
     "text": [
      "W0430 23:25:19.971562 140594404546368 metrics.py:103] DICE score is technically 1.0, but prediction and truth arrays are empty. \n"
     ]
    },
    {
     "name": "stderr",
     "output_type": "stream",
     "text": [
      "W0430 23:25:19.987445 140594404546368 metrics.py:103] DICE score is technically 1.0, but prediction and truth arrays are empty. \n"
     ]
    },
    {
     "name": "stderr",
     "output_type": "stream",
     "text": [
      "W0430 23:25:19.999900 140594404546368 metrics.py:103] DICE score is technically 1.0, but prediction and truth arrays are empty. \n"
     ]
    },
    {
     "name": "stderr",
     "output_type": "stream",
     "text": [
      "W0430 23:25:20.031457 140594404546368 metrics.py:103] DICE score is technically 1.0, but prediction and truth arrays are empty. \n"
     ]
    },
    {
     "name": "stderr",
     "output_type": "stream",
     "text": [
      "W0430 23:25:20.047398 140594404546368 metrics.py:103] DICE score is technically 1.0, but prediction and truth arrays are empty. \n"
     ]
    },
    {
     "name": "stderr",
     "output_type": "stream",
     "text": [
      "W0430 23:25:20.065040 140594404546368 metrics.py:103] DICE score is technically 1.0, but prediction and truth arrays are empty. \n"
     ]
    },
    {
     "name": "stderr",
     "output_type": "stream",
     "text": [
      "W0430 23:25:20.095316 140594404546368 metrics.py:103] DICE score is technically 1.0, but prediction and truth arrays are empty. \n"
     ]
    },
    {
     "name": "stderr",
     "output_type": "stream",
     "text": [
      "W0430 23:25:20.166565 140594404546368 metrics.py:103] DICE score is technically 1.0, but prediction and truth arrays are empty. \n"
     ]
    },
    {
     "name": "stderr",
     "output_type": "stream",
     "text": [
      "W0430 23:25:20.177578 140594404546368 metrics.py:103] DICE score is technically 1.0, but prediction and truth arrays are empty. \n"
     ]
    },
    {
     "name": "stderr",
     "output_type": "stream",
     "text": [
      "W0430 23:25:20.912802 140594404546368 metrics.py:103] DICE score is technically 1.0, but prediction and truth arrays are empty. \n"
     ]
    },
    {
     "name": "stderr",
     "output_type": "stream",
     "text": [
      "W0430 23:25:20.939871 140594404546368 metrics.py:103] DICE score is technically 1.0, but prediction and truth arrays are empty. \n"
     ]
    },
    {
     "name": "stderr",
     "output_type": "stream",
     "text": [
      "W0430 23:25:20.950828 140594404546368 metrics.py:103] DICE score is technically 1.0, but prediction and truth arrays are empty. \n"
     ]
    },
    {
     "name": "stderr",
     "output_type": "stream",
     "text": [
      "W0430 23:25:20.962030 140594404546368 metrics.py:103] DICE score is technically 1.0, but prediction and truth arrays are empty. \n"
     ]
    },
    {
     "name": "stderr",
     "output_type": "stream",
     "text": [
      "W0430 23:25:20.995945 140594404546368 metrics.py:103] DICE score is technically 1.0, but prediction and truth arrays are empty. \n"
     ]
    },
    {
     "name": "stderr",
     "output_type": "stream",
     "text": [
      "W0430 23:25:23.915782 140594404546368 metrics.py:103] DICE score is technically 1.0, but prediction and truth arrays are empty. \n"
     ]
    },
    {
     "name": "stderr",
     "output_type": "stream",
     "text": [
      "W0430 23:25:23.926398 140594404546368 metrics.py:103] DICE score is technically 1.0, but prediction and truth arrays are empty. \n"
     ]
    },
    {
     "name": "stderr",
     "output_type": "stream",
     "text": [
      "W0430 23:25:23.940164 140594404546368 metrics.py:103] DICE score is technically 1.0, but prediction and truth arrays are empty. \n"
     ]
    },
    {
     "name": "stderr",
     "output_type": "stream",
     "text": [
      "W0430 23:25:23.956076 140594404546368 metrics.py:103] DICE score is technically 1.0, but prediction and truth arrays are empty. \n"
     ]
    },
    {
     "name": "stderr",
     "output_type": "stream",
     "text": [
      "W0430 23:25:23.970593 140594404546368 metrics.py:103] DICE score is technically 1.0, but prediction and truth arrays are empty. \n"
     ]
    },
    {
     "name": "stderr",
     "output_type": "stream",
     "text": [
      "W0430 23:25:23.981438 140594404546368 metrics.py:103] DICE score is technically 1.0, but prediction and truth arrays are empty. \n"
     ]
    },
    {
     "name": "stderr",
     "output_type": "stream",
     "text": [
      "W0430 23:25:23.992970 140594404546368 metrics.py:103] DICE score is technically 1.0, but prediction and truth arrays are empty. \n"
     ]
    },
    {
     "name": "stderr",
     "output_type": "stream",
     "text": [
      "W0430 23:25:24.003778 140594404546368 metrics.py:103] DICE score is technically 1.0, but prediction and truth arrays are empty. \n"
     ]
    },
    {
     "name": "stderr",
     "output_type": "stream",
     "text": [
      "W0430 23:25:24.014548 140594404546368 metrics.py:103] DICE score is technically 1.0, but prediction and truth arrays are empty. \n"
     ]
    },
    {
     "name": "stderr",
     "output_type": "stream",
     "text": [
      "W0430 23:25:24.034849 140594404546368 metrics.py:103] DICE score is technically 1.0, but prediction and truth arrays are empty. \n"
     ]
    },
    {
     "name": "stderr",
     "output_type": "stream",
     "text": [
      "W0430 23:25:24.045453 140594404546368 metrics.py:103] DICE score is technically 1.0, but prediction and truth arrays are empty. \n"
     ]
    },
    {
     "name": "stderr",
     "output_type": "stream",
     "text": [
      "W0430 23:25:24.067497 140594404546368 metrics.py:103] DICE score is technically 1.0, but prediction and truth arrays are empty. \n"
     ]
    },
    {
     "name": "stderr",
     "output_type": "stream",
     "text": [
      "W0430 23:25:24.078230 140594404546368 metrics.py:103] DICE score is technically 1.0, but prediction and truth arrays are empty. \n"
     ]
    },
    {
     "name": "stderr",
     "output_type": "stream",
     "text": [
      "W0430 23:25:24.090130 140594404546368 metrics.py:103] DICE score is technically 1.0, but prediction and truth arrays are empty. \n"
     ]
    },
    {
     "name": "stderr",
     "output_type": "stream",
     "text": [
      "W0430 23:25:24.111701 140594404546368 metrics.py:103] DICE score is technically 1.0, but prediction and truth arrays are empty. \n"
     ]
    },
    {
     "name": "stderr",
     "output_type": "stream",
     "text": [
      "W0430 23:25:24.122458 140594404546368 metrics.py:103] DICE score is technically 1.0, but prediction and truth arrays are empty. \n"
     ]
    },
    {
     "name": "stderr",
     "output_type": "stream",
     "text": [
      "W0430 23:25:24.136029 140594404546368 metrics.py:103] DICE score is technically 1.0, but prediction and truth arrays are empty. \n"
     ]
    },
    {
     "name": "stderr",
     "output_type": "stream",
     "text": [
      "W0430 23:25:24.153207 140594404546368 metrics.py:103] DICE score is technically 1.0, but prediction and truth arrays are empty. \n"
     ]
    },
    {
     "name": "stderr",
     "output_type": "stream",
     "text": [
      "W0430 23:25:24.169049 140594404546368 metrics.py:103] DICE score is technically 1.0, but prediction and truth arrays are empty. \n"
     ]
    },
    {
     "name": "stderr",
     "output_type": "stream",
     "text": [
      "W0430 23:25:24.179789 140594404546368 metrics.py:103] DICE score is technically 1.0, but prediction and truth arrays are empty. \n"
     ]
    },
    {
     "name": "stderr",
     "output_type": "stream",
     "text": [
      "W0430 23:25:24.190748 140594404546368 metrics.py:103] DICE score is technically 1.0, but prediction and truth arrays are empty. \n"
     ]
    },
    {
     "name": "stderr",
     "output_type": "stream",
     "text": [
      "W0430 23:25:24.201859 140594404546368 metrics.py:103] DICE score is technically 1.0, but prediction and truth arrays are empty. \n"
     ]
    },
    {
     "name": "stderr",
     "output_type": "stream",
     "text": [
      "W0430 23:25:24.212644 140594404546368 metrics.py:103] DICE score is technically 1.0, but prediction and truth arrays are empty. \n"
     ]
    },
    {
     "name": "stderr",
     "output_type": "stream",
     "text": [
      "W0430 23:25:24.223890 140594404546368 metrics.py:103] DICE score is technically 1.0, but prediction and truth arrays are empty. \n"
     ]
    },
    {
     "name": "stderr",
     "output_type": "stream",
     "text": [
      "W0430 23:25:24.234614 140594404546368 metrics.py:103] DICE score is technically 1.0, but prediction and truth arrays are empty. \n"
     ]
    },
    {
     "name": "stderr",
     "output_type": "stream",
     "text": [
      "W0430 23:25:24.245830 140594404546368 metrics.py:103] DICE score is technically 1.0, but prediction and truth arrays are empty. \n"
     ]
    },
    {
     "name": "stderr",
     "output_type": "stream",
     "text": [
      "W0430 23:25:24.258439 140594404546368 metrics.py:103] DICE score is technically 1.0, but prediction and truth arrays are empty. \n"
     ]
    },
    {
     "name": "stderr",
     "output_type": "stream",
     "text": [
      "W0430 23:25:24.635293 140594404546368 metrics.py:103] DICE score is technically 1.0, but prediction and truth arrays are empty. \n"
     ]
    },
    {
     "name": "stderr",
     "output_type": "stream",
     "text": [
      "W0430 23:25:24.645905 140594404546368 metrics.py:103] DICE score is technically 1.0, but prediction and truth arrays are empty. \n"
     ]
    },
    {
     "name": "stderr",
     "output_type": "stream",
     "text": [
      "W0430 23:25:24.656834 140594404546368 metrics.py:103] DICE score is technically 1.0, but prediction and truth arrays are empty. \n"
     ]
    },
    {
     "name": "stderr",
     "output_type": "stream",
     "text": [
      "W0430 23:25:24.668777 140594404546368 metrics.py:103] DICE score is technically 1.0, but prediction and truth arrays are empty. \n"
     ]
    },
    {
     "name": "stderr",
     "output_type": "stream",
     "text": [
      "W0430 23:25:24.689023 140594404546368 metrics.py:103] DICE score is technically 1.0, but prediction and truth arrays are empty. \n"
     ]
    },
    {
     "name": "stderr",
     "output_type": "stream",
     "text": [
      "W0430 23:25:24.703337 140594404546368 metrics.py:103] DICE score is technically 1.0, but prediction and truth arrays are empty. \n"
     ]
    },
    {
     "name": "stderr",
     "output_type": "stream",
     "text": [
      "W0430 23:25:24.718246 140594404546368 metrics.py:103] DICE score is technically 1.0, but prediction and truth arrays are empty. \n"
     ]
    },
    {
     "name": "stderr",
     "output_type": "stream",
     "text": [
      "W0430 23:25:24.733336 140594404546368 metrics.py:103] DICE score is technically 1.0, but prediction and truth arrays are empty. \n"
     ]
    },
    {
     "name": "stderr",
     "output_type": "stream",
     "text": [
      "W0430 23:25:24.746849 140594404546368 metrics.py:103] DICE score is technically 1.0, but prediction and truth arrays are empty. \n"
     ]
    },
    {
     "name": "stderr",
     "output_type": "stream",
     "text": [
      "W0430 23:25:24.758199 140594404546368 metrics.py:103] DICE score is technically 1.0, but prediction and truth arrays are empty. \n"
     ]
    },
    {
     "name": "stderr",
     "output_type": "stream",
     "text": [
      "W0430 23:25:24.768443 140594404546368 metrics.py:103] DICE score is technically 1.0, but prediction and truth arrays are empty. \n"
     ]
    },
    {
     "name": "stderr",
     "output_type": "stream",
     "text": [
      "W0430 23:25:24.778934 140594404546368 metrics.py:103] DICE score is technically 1.0, but prediction and truth arrays are empty. \n"
     ]
    },
    {
     "name": "stderr",
     "output_type": "stream",
     "text": [
      "W0430 23:25:24.789812 140594404546368 metrics.py:103] DICE score is technically 1.0, but prediction and truth arrays are empty. \n"
     ]
    },
    {
     "name": "stderr",
     "output_type": "stream",
     "text": [
      "W0430 23:25:24.800532 140594404546368 metrics.py:103] DICE score is technically 1.0, but prediction and truth arrays are empty. \n"
     ]
    },
    {
     "name": "stderr",
     "output_type": "stream",
     "text": [
      "W0430 23:25:24.811132 140594404546368 metrics.py:103] DICE score is technically 1.0, but prediction and truth arrays are empty. \n"
     ]
    },
    {
     "name": "stderr",
     "output_type": "stream",
     "text": [
      "W0430 23:25:24.821586 140594404546368 metrics.py:103] DICE score is technically 1.0, but prediction and truth arrays are empty. \n"
     ]
    },
    {
     "name": "stderr",
     "output_type": "stream",
     "text": [
      "W0430 23:25:24.832477 140594404546368 metrics.py:103] DICE score is technically 1.0, but prediction and truth arrays are empty. \n"
     ]
    },
    {
     "name": "stderr",
     "output_type": "stream",
     "text": [
      "W0430 23:25:24.843621 140594404546368 metrics.py:103] DICE score is technically 1.0, but prediction and truth arrays are empty. \n"
     ]
    },
    {
     "name": "stderr",
     "output_type": "stream",
     "text": [
      "W0430 23:25:24.854538 140594404546368 metrics.py:103] DICE score is technically 1.0, but prediction and truth arrays are empty. \n"
     ]
    },
    {
     "name": "stderr",
     "output_type": "stream",
     "text": [
      "W0430 23:25:24.868574 140594404546368 metrics.py:103] DICE score is technically 1.0, but prediction and truth arrays are empty. \n"
     ]
    },
    {
     "name": "stderr",
     "output_type": "stream",
     "text": [
      "W0430 23:25:24.884088 140594404546368 metrics.py:103] DICE score is technically 1.0, but prediction and truth arrays are empty. \n"
     ]
    },
    {
     "name": "stderr",
     "output_type": "stream",
     "text": [
      "W0430 23:25:24.900665 140594404546368 metrics.py:103] DICE score is technically 1.0, but prediction and truth arrays are empty. \n"
     ]
    },
    {
     "name": "stderr",
     "output_type": "stream",
     "text": [
      "W0430 23:25:24.914659 140594404546368 metrics.py:103] DICE score is technically 1.0, but prediction and truth arrays are empty. \n"
     ]
    },
    {
     "name": "stderr",
     "output_type": "stream",
     "text": [
      "W0430 23:25:24.926563 140594404546368 metrics.py:103] DICE score is technically 1.0, but prediction and truth arrays are empty. \n"
     ]
    },
    {
     "name": "stderr",
     "output_type": "stream",
     "text": [
      "W0430 23:25:24.937067 140594404546368 metrics.py:103] DICE score is technically 1.0, but prediction and truth arrays are empty. \n"
     ]
    },
    {
     "name": "stderr",
     "output_type": "stream",
     "text": [
      "W0430 23:25:24.948183 140594404546368 metrics.py:103] DICE score is technically 1.0, but prediction and truth arrays are empty. \n"
     ]
    },
    {
     "name": "stderr",
     "output_type": "stream",
     "text": [
      "W0430 23:25:24.961903 140594404546368 metrics.py:103] DICE score is technically 1.0, but prediction and truth arrays are empty. \n"
     ]
    },
    {
     "name": "stderr",
     "output_type": "stream",
     "text": [
      "W0430 23:25:24.973198 140594404546368 metrics.py:103] DICE score is technically 1.0, but prediction and truth arrays are empty. \n"
     ]
    },
    {
     "name": "stderr",
     "output_type": "stream",
     "text": [
      "W0430 23:25:24.984453 140594404546368 metrics.py:103] DICE score is technically 1.0, but prediction and truth arrays are empty. \n"
     ]
    },
    {
     "name": "stderr",
     "output_type": "stream",
     "text": [
      "W0430 23:25:30.144570 140594404546368 metrics.py:103] DICE score is technically 1.0, but prediction and truth arrays are empty. \n"
     ]
    },
    {
     "name": "stderr",
     "output_type": "stream",
     "text": [
      "W0430 23:25:30.418204 140594404546368 metrics.py:103] DICE score is technically 1.0, but prediction and truth arrays are empty. \n"
     ]
    },
    {
     "name": "stderr",
     "output_type": "stream",
     "text": [
      "W0430 23:25:30.433869 140594404546368 metrics.py:103] DICE score is technically 1.0, but prediction and truth arrays are empty. \n"
     ]
    },
    {
     "name": "stderr",
     "output_type": "stream",
     "text": [
      "W0430 23:25:30.446225 140594404546368 metrics.py:103] DICE score is technically 1.0, but prediction and truth arrays are empty. \n"
     ]
    },
    {
     "name": "stderr",
     "output_type": "stream",
     "text": [
      "W0430 23:25:30.457215 140594404546368 metrics.py:103] DICE score is technically 1.0, but prediction and truth arrays are empty. \n"
     ]
    },
    {
     "name": "stderr",
     "output_type": "stream",
     "text": [
      "W0430 23:25:31.289448 140594404546368 metrics.py:103] DICE score is technically 1.0, but prediction and truth arrays are empty. \n"
     ]
    },
    {
     "name": "stderr",
     "output_type": "stream",
     "text": [
      "W0430 23:25:31.300558 140594404546368 metrics.py:103] DICE score is technically 1.0, but prediction and truth arrays are empty. \n"
     ]
    },
    {
     "name": "stderr",
     "output_type": "stream",
     "text": [
      "W0430 23:25:31.311734 140594404546368 metrics.py:103] DICE score is technically 1.0, but prediction and truth arrays are empty. \n"
     ]
    },
    {
     "name": "stderr",
     "output_type": "stream",
     "text": [
      "W0430 23:25:31.325907 140594404546368 metrics.py:103] DICE score is technically 1.0, but prediction and truth arrays are empty. \n"
     ]
    },
    {
     "name": "stderr",
     "output_type": "stream",
     "text": [
      "W0430 23:25:31.336768 140594404546368 metrics.py:103] DICE score is technically 1.0, but prediction and truth arrays are empty. \n"
     ]
    },
    {
     "name": "stderr",
     "output_type": "stream",
     "text": [
      "W0430 23:25:31.347603 140594404546368 metrics.py:103] DICE score is technically 1.0, but prediction and truth arrays are empty. \n"
     ]
    },
    {
     "name": "stderr",
     "output_type": "stream",
     "text": [
      "W0430 23:25:31.358383 140594404546368 metrics.py:103] DICE score is technically 1.0, but prediction and truth arrays are empty. \n"
     ]
    },
    {
     "name": "stderr",
     "output_type": "stream",
     "text": [
      "W0430 23:25:31.369442 140594404546368 metrics.py:103] DICE score is technically 1.0, but prediction and truth arrays are empty. \n"
     ]
    },
    {
     "name": "stderr",
     "output_type": "stream",
     "text": [
      "W0430 23:25:31.380517 140594404546368 metrics.py:103] DICE score is technically 1.0, but prediction and truth arrays are empty. \n"
     ]
    },
    {
     "name": "stderr",
     "output_type": "stream",
     "text": [
      "W0430 23:25:31.391667 140594404546368 metrics.py:103] DICE score is technically 1.0, but prediction and truth arrays are empty. \n"
     ]
    },
    {
     "name": "stderr",
     "output_type": "stream",
     "text": [
      "W0430 23:25:31.402621 140594404546368 metrics.py:103] DICE score is technically 1.0, but prediction and truth arrays are empty. \n"
     ]
    },
    {
     "name": "stderr",
     "output_type": "stream",
     "text": [
      "W0430 23:25:31.413697 140594404546368 metrics.py:103] DICE score is technically 1.0, but prediction and truth arrays are empty. \n"
     ]
    },
    {
     "name": "stderr",
     "output_type": "stream",
     "text": [
      "W0430 23:25:31.424447 140594404546368 metrics.py:103] DICE score is technically 1.0, but prediction and truth arrays are empty. \n"
     ]
    },
    {
     "name": "stderr",
     "output_type": "stream",
     "text": [
      "W0430 23:25:31.437122 140594404546368 metrics.py:103] DICE score is technically 1.0, but prediction and truth arrays are empty. \n"
     ]
    },
    {
     "name": "stderr",
     "output_type": "stream",
     "text": [
      "W0430 23:25:31.447863 140594404546368 metrics.py:103] DICE score is technically 1.0, but prediction and truth arrays are empty. \n"
     ]
    },
    {
     "name": "stderr",
     "output_type": "stream",
     "text": [
      "W0430 23:25:31.458685 140594404546368 metrics.py:103] DICE score is technically 1.0, but prediction and truth arrays are empty. \n"
     ]
    },
    {
     "name": "stderr",
     "output_type": "stream",
     "text": [
      "W0430 23:25:31.468919 140594404546368 metrics.py:103] DICE score is technically 1.0, but prediction and truth arrays are empty. \n"
     ]
    },
    {
     "name": "stderr",
     "output_type": "stream",
     "text": [
      "W0430 23:25:31.480175 140594404546368 metrics.py:103] DICE score is technically 1.0, but prediction and truth arrays are empty. \n"
     ]
    },
    {
     "name": "stderr",
     "output_type": "stream",
     "text": [
      "W0430 23:25:31.493811 140594404546368 metrics.py:103] DICE score is technically 1.0, but prediction and truth arrays are empty. \n"
     ]
    },
    {
     "name": "stderr",
     "output_type": "stream",
     "text": [
      "W0430 23:25:31.508783 140594404546368 metrics.py:103] DICE score is technically 1.0, but prediction and truth arrays are empty. \n"
     ]
    },
    {
     "name": "stderr",
     "output_type": "stream",
     "text": [
      "W0430 23:25:31.519604 140594404546368 metrics.py:103] DICE score is technically 1.0, but prediction and truth arrays are empty. \n"
     ]
    },
    {
     "name": "stderr",
     "output_type": "stream",
     "text": [
      "W0430 23:25:31.532845 140594404546368 metrics.py:103] DICE score is technically 1.0, but prediction and truth arrays are empty. \n"
     ]
    },
    {
     "name": "stderr",
     "output_type": "stream",
     "text": [
      "W0430 23:25:31.550571 140594404546368 metrics.py:103] DICE score is technically 1.0, but prediction and truth arrays are empty. \n"
     ]
    },
    {
     "name": "stderr",
     "output_type": "stream",
     "text": [
      "W0430 23:25:31.561871 140594404546368 metrics.py:103] DICE score is technically 1.0, but prediction and truth arrays are empty. \n"
     ]
    },
    {
     "name": "stderr",
     "output_type": "stream",
     "text": [
      "W0430 23:25:31.572031 140594404546368 metrics.py:103] DICE score is technically 1.0, but prediction and truth arrays are empty. \n"
     ]
    },
    {
     "name": "stderr",
     "output_type": "stream",
     "text": [
      "W0430 23:25:31.582568 140594404546368 metrics.py:103] DICE score is technically 1.0, but prediction and truth arrays are empty. \n"
     ]
    },
    {
     "name": "stderr",
     "output_type": "stream",
     "text": [
      "W0430 23:25:31.593223 140594404546368 metrics.py:103] DICE score is technically 1.0, but prediction and truth arrays are empty. \n"
     ]
    },
    {
     "name": "stderr",
     "output_type": "stream",
     "text": [
      "W0430 23:25:31.603790 140594404546368 metrics.py:103] DICE score is technically 1.0, but prediction and truth arrays are empty. \n"
     ]
    },
    {
     "name": "stderr",
     "output_type": "stream",
     "text": [
      "W0430 23:25:31.614296 140594404546368 metrics.py:103] DICE score is technically 1.0, but prediction and truth arrays are empty. \n"
     ]
    },
    {
     "name": "stderr",
     "output_type": "stream",
     "text": [
      "W0430 23:25:31.625546 140594404546368 metrics.py:103] DICE score is technically 1.0, but prediction and truth arrays are empty. \n"
     ]
    },
    {
     "name": "stderr",
     "output_type": "stream",
     "text": [
      "W0430 23:25:32.003226 140594404546368 metrics.py:103] DICE score is technically 1.0, but prediction and truth arrays are empty. \n"
     ]
    },
    {
     "name": "stderr",
     "output_type": "stream",
     "text": [
      "W0430 23:25:32.014163 140594404546368 metrics.py:103] DICE score is technically 1.0, but prediction and truth arrays are empty. \n"
     ]
    },
    {
     "name": "stderr",
     "output_type": "stream",
     "text": [
      "W0430 23:25:32.025576 140594404546368 metrics.py:103] DICE score is technically 1.0, but prediction and truth arrays are empty. \n"
     ]
    },
    {
     "name": "stderr",
     "output_type": "stream",
     "text": [
      "W0430 23:25:32.038173 140594404546368 metrics.py:103] DICE score is technically 1.0, but prediction and truth arrays are empty. \n"
     ]
    },
    {
     "name": "stderr",
     "output_type": "stream",
     "text": [
      "W0430 23:25:32.053837 140594404546368 metrics.py:103] DICE score is technically 1.0, but prediction and truth arrays are empty. \n"
     ]
    },
    {
     "name": "stderr",
     "output_type": "stream",
     "text": [
      "W0430 23:25:32.066128 140594404546368 metrics.py:103] DICE score is technically 1.0, but prediction and truth arrays are empty. \n"
     ]
    },
    {
     "name": "stderr",
     "output_type": "stream",
     "text": [
      "W0430 23:25:32.081536 140594404546368 metrics.py:103] DICE score is technically 1.0, but prediction and truth arrays are empty. \n"
     ]
    },
    {
     "name": "stderr",
     "output_type": "stream",
     "text": [
      "W0430 23:25:32.095307 140594404546368 metrics.py:103] DICE score is technically 1.0, but prediction and truth arrays are empty. \n"
     ]
    },
    {
     "name": "stderr",
     "output_type": "stream",
     "text": [
      "W0430 23:25:32.106111 140594404546368 metrics.py:103] DICE score is technically 1.0, but prediction and truth arrays are empty. \n"
     ]
    },
    {
     "name": "stderr",
     "output_type": "stream",
     "text": [
      "W0430 23:25:32.119889 140594404546368 metrics.py:103] DICE score is technically 1.0, but prediction and truth arrays are empty. \n"
     ]
    },
    {
     "name": "stderr",
     "output_type": "stream",
     "text": [
      "W0430 23:25:32.130928 140594404546368 metrics.py:103] DICE score is technically 1.0, but prediction and truth arrays are empty. \n"
     ]
    },
    {
     "name": "stderr",
     "output_type": "stream",
     "text": [
      "W0430 23:25:32.141366 140594404546368 metrics.py:103] DICE score is technically 1.0, but prediction and truth arrays are empty. \n"
     ]
    },
    {
     "name": "stderr",
     "output_type": "stream",
     "text": [
      "W0430 23:25:32.152432 140594404546368 metrics.py:103] DICE score is technically 1.0, but prediction and truth arrays are empty. \n"
     ]
    },
    {
     "name": "stderr",
     "output_type": "stream",
     "text": [
      "W0430 23:25:32.166154 140594404546368 metrics.py:103] DICE score is technically 1.0, but prediction and truth arrays are empty. \n"
     ]
    },
    {
     "name": "stderr",
     "output_type": "stream",
     "text": [
      "W0430 23:25:32.176070 140594404546368 metrics.py:103] DICE score is technically 1.0, but prediction and truth arrays are empty. \n"
     ]
    },
    {
     "name": "stderr",
     "output_type": "stream",
     "text": [
      "W0430 23:25:32.186965 140594404546368 metrics.py:103] DICE score is technically 1.0, but prediction and truth arrays are empty. \n"
     ]
    },
    {
     "name": "stderr",
     "output_type": "stream",
     "text": [
      "W0430 23:25:32.197979 140594404546368 metrics.py:103] DICE score is technically 1.0, but prediction and truth arrays are empty. \n"
     ]
    },
    {
     "name": "stderr",
     "output_type": "stream",
     "text": [
      "W0430 23:25:32.209291 140594404546368 metrics.py:103] DICE score is technically 1.0, but prediction and truth arrays are empty. \n"
     ]
    },
    {
     "name": "stderr",
     "output_type": "stream",
     "text": [
      "W0430 23:25:32.220783 140594404546368 metrics.py:103] DICE score is technically 1.0, but prediction and truth arrays are empty. \n"
     ]
    },
    {
     "name": "stderr",
     "output_type": "stream",
     "text": [
      "W0430 23:25:32.232001 140594404546368 metrics.py:103] DICE score is technically 1.0, but prediction and truth arrays are empty. \n"
     ]
    },
    {
     "name": "stderr",
     "output_type": "stream",
     "text": [
      "W0430 23:25:32.242733 140594404546368 metrics.py:103] DICE score is technically 1.0, but prediction and truth arrays are empty. \n"
     ]
    },
    {
     "name": "stderr",
     "output_type": "stream",
     "text": [
      "W0430 23:25:32.253421 140594404546368 metrics.py:103] DICE score is technically 1.0, but prediction and truth arrays are empty. \n"
     ]
    },
    {
     "name": "stderr",
     "output_type": "stream",
     "text": [
      "W0430 23:25:32.264387 140594404546368 metrics.py:103] DICE score is technically 1.0, but prediction and truth arrays are empty. \n"
     ]
    },
    {
     "name": "stderr",
     "output_type": "stream",
     "text": [
      "W0430 23:25:32.278666 140594404546368 metrics.py:103] DICE score is technically 1.0, but prediction and truth arrays are empty. \n"
     ]
    },
    {
     "name": "stderr",
     "output_type": "stream",
     "text": [
      "W0430 23:25:32.294645 140594404546368 metrics.py:103] DICE score is technically 1.0, but prediction and truth arrays are empty. \n"
     ]
    },
    {
     "name": "stderr",
     "output_type": "stream",
     "text": [
      "W0430 23:25:32.305339 140594404546368 metrics.py:103] DICE score is technically 1.0, but prediction and truth arrays are empty. \n"
     ]
    },
    {
     "name": "stderr",
     "output_type": "stream",
     "text": [
      "W0430 23:25:32.315849 140594404546368 metrics.py:103] DICE score is technically 1.0, but prediction and truth arrays are empty. \n"
     ]
    },
    {
     "name": "stderr",
     "output_type": "stream",
     "text": [
      "W0430 23:25:32.330171 140594404546368 metrics.py:103] DICE score is technically 1.0, but prediction and truth arrays are empty. \n"
     ]
    },
    {
     "name": "stderr",
     "output_type": "stream",
     "text": [
      "W0430 23:25:32.341150 140594404546368 metrics.py:103] DICE score is technically 1.0, but prediction and truth arrays are empty. \n"
     ]
    },
    {
     "name": "stderr",
     "output_type": "stream",
     "text": [
      "W0430 23:25:32.351607 140594404546368 metrics.py:103] DICE score is technically 1.0, but prediction and truth arrays are empty. \n"
     ]
    },
    {
     "name": "stderr",
     "output_type": "stream",
     "text": [
      "W0430 23:25:33.780277 140594404546368 metrics.py:103] DICE score is technically 1.0, but prediction and truth arrays are empty. \n"
     ]
    },
    {
     "name": "stderr",
     "output_type": "stream",
     "text": [
      "W0430 23:25:33.791497 140594404546368 metrics.py:103] DICE score is technically 1.0, but prediction and truth arrays are empty. \n"
     ]
    },
    {
     "name": "stderr",
     "output_type": "stream",
     "text": [
      "W0430 23:25:33.806688 140594404546368 metrics.py:103] DICE score is technically 1.0, but prediction and truth arrays are empty. \n"
     ]
    },
    {
     "name": "stderr",
     "output_type": "stream",
     "text": [
      "W0430 23:25:33.817783 140594404546368 metrics.py:103] DICE score is technically 1.0, but prediction and truth arrays are empty. \n"
     ]
    },
    {
     "name": "stderr",
     "output_type": "stream",
     "text": [
      "W0430 23:25:33.828737 140594404546368 metrics.py:103] DICE score is technically 1.0, but prediction and truth arrays are empty. \n"
     ]
    },
    {
     "name": "stderr",
     "output_type": "stream",
     "text": [
      "W0430 23:25:33.839702 140594404546368 metrics.py:103] DICE score is technically 1.0, but prediction and truth arrays are empty. \n"
     ]
    },
    {
     "name": "stderr",
     "output_type": "stream",
     "text": [
      "W0430 23:25:33.850518 140594404546368 metrics.py:103] DICE score is technically 1.0, but prediction and truth arrays are empty. \n"
     ]
    },
    {
     "name": "stderr",
     "output_type": "stream",
     "text": [
      "W0430 23:25:33.861371 140594404546368 metrics.py:103] DICE score is technically 1.0, but prediction and truth arrays are empty. \n"
     ]
    },
    {
     "name": "stderr",
     "output_type": "stream",
     "text": [
      "W0430 23:25:33.871893 140594404546368 metrics.py:103] DICE score is technically 1.0, but prediction and truth arrays are empty. \n"
     ]
    },
    {
     "name": "stderr",
     "output_type": "stream",
     "text": [
      "W0430 23:25:33.882267 140594404546368 metrics.py:103] DICE score is technically 1.0, but prediction and truth arrays are empty. \n"
     ]
    },
    {
     "name": "stderr",
     "output_type": "stream",
     "text": [
      "W0430 23:25:33.893036 140594404546368 metrics.py:103] DICE score is technically 1.0, but prediction and truth arrays are empty. \n"
     ]
    },
    {
     "name": "stderr",
     "output_type": "stream",
     "text": [
      "W0430 23:25:33.903725 140594404546368 metrics.py:103] DICE score is technically 1.0, but prediction and truth arrays are empty. \n"
     ]
    },
    {
     "name": "stderr",
     "output_type": "stream",
     "text": [
      "W0430 23:25:33.915938 140594404546368 metrics.py:103] DICE score is technically 1.0, but prediction and truth arrays are empty. \n"
     ]
    },
    {
     "name": "stderr",
     "output_type": "stream",
     "text": [
      "W0430 23:25:33.931208 140594404546368 metrics.py:103] DICE score is technically 1.0, but prediction and truth arrays are empty. \n"
     ]
    },
    {
     "name": "stderr",
     "output_type": "stream",
     "text": [
      "W0430 23:25:33.947492 140594404546368 metrics.py:103] DICE score is technically 1.0, but prediction and truth arrays are empty. \n"
     ]
    },
    {
     "name": "stderr",
     "output_type": "stream",
     "text": [
      "W0430 23:25:33.958724 140594404546368 metrics.py:103] DICE score is technically 1.0, but prediction and truth arrays are empty. \n"
     ]
    },
    {
     "name": "stderr",
     "output_type": "stream",
     "text": [
      "W0430 23:25:33.981322 140594404546368 metrics.py:103] DICE score is technically 1.0, but prediction and truth arrays are empty. \n"
     ]
    },
    {
     "name": "stderr",
     "output_type": "stream",
     "text": [
      "W0430 23:25:34.002256 140594404546368 metrics.py:103] DICE score is technically 1.0, but prediction and truth arrays are empty. \n"
     ]
    },
    {
     "name": "stderr",
     "output_type": "stream",
     "text": [
      "W0430 23:25:34.016024 140594404546368 metrics.py:103] DICE score is technically 1.0, but prediction and truth arrays are empty. \n"
     ]
    },
    {
     "name": "stderr",
     "output_type": "stream",
     "text": [
      "W0430 23:25:34.027418 140594404546368 metrics.py:103] DICE score is technically 1.0, but prediction and truth arrays are empty. \n"
     ]
    },
    {
     "name": "stderr",
     "output_type": "stream",
     "text": [
      "W0430 23:25:34.038654 140594404546368 metrics.py:103] DICE score is technically 1.0, but prediction and truth arrays are empty. \n"
     ]
    },
    {
     "name": "stderr",
     "output_type": "stream",
     "text": [
      "W0430 23:25:34.049623 140594404546368 metrics.py:103] DICE score is technically 1.0, but prediction and truth arrays are empty. \n"
     ]
    },
    {
     "name": "stderr",
     "output_type": "stream",
     "text": [
      "W0430 23:25:34.060776 140594404546368 metrics.py:103] DICE score is technically 1.0, but prediction and truth arrays are empty. \n"
     ]
    },
    {
     "name": "stderr",
     "output_type": "stream",
     "text": [
      "W0430 23:25:34.071592 140594404546368 metrics.py:103] DICE score is technically 1.0, but prediction and truth arrays are empty. \n"
     ]
    },
    {
     "name": "stderr",
     "output_type": "stream",
     "text": [
      "W0430 23:25:34.082433 140594404546368 metrics.py:103] DICE score is technically 1.0, but prediction and truth arrays are empty. \n"
     ]
    },
    {
     "name": "stderr",
     "output_type": "stream",
     "text": [
      "W0430 23:25:34.092926 140594404546368 metrics.py:103] DICE score is technically 1.0, but prediction and truth arrays are empty. \n"
     ]
    },
    {
     "name": "stderr",
     "output_type": "stream",
     "text": [
      "W0430 23:25:34.103909 140594404546368 metrics.py:103] DICE score is technically 1.0, but prediction and truth arrays are empty. \n"
     ]
    },
    {
     "name": "stderr",
     "output_type": "stream",
     "text": [
      "W0430 23:25:34.114812 140594404546368 metrics.py:103] DICE score is technically 1.0, but prediction and truth arrays are empty. \n"
     ]
    },
    {
     "name": "stderr",
     "output_type": "stream",
     "text": [
      "W0430 23:25:34.801304 140594404546368 metrics.py:103] DICE score is technically 1.0, but prediction and truth arrays are empty. \n"
     ]
    },
    {
     "name": "stderr",
     "output_type": "stream",
     "text": [
      "W0430 23:25:34.813539 140594404546368 metrics.py:103] DICE score is technically 1.0, but prediction and truth arrays are empty. \n"
     ]
    },
    {
     "name": "stderr",
     "output_type": "stream",
     "text": [
      "W0430 23:25:34.828420 140594404546368 metrics.py:103] DICE score is technically 1.0, but prediction and truth arrays are empty. \n"
     ]
    },
    {
     "name": "stderr",
     "output_type": "stream",
     "text": [
      "W0430 23:25:34.840350 140594404546368 metrics.py:103] DICE score is technically 1.0, but prediction and truth arrays are empty. \n"
     ]
    },
    {
     "name": "stderr",
     "output_type": "stream",
     "text": [
      "W0430 23:25:34.851305 140594404546368 metrics.py:103] DICE score is technically 1.0, but prediction and truth arrays are empty. \n"
     ]
    },
    {
     "name": "stderr",
     "output_type": "stream",
     "text": [
      "W0430 23:25:34.862016 140594404546368 metrics.py:103] DICE score is technically 1.0, but prediction and truth arrays are empty. \n"
     ]
    },
    {
     "name": "stderr",
     "output_type": "stream",
     "text": [
      "W0430 23:25:34.872787 140594404546368 metrics.py:103] DICE score is technically 1.0, but prediction and truth arrays are empty. \n"
     ]
    },
    {
     "name": "stderr",
     "output_type": "stream",
     "text": [
      "W0430 23:25:34.883424 140594404546368 metrics.py:103] DICE score is technically 1.0, but prediction and truth arrays are empty. \n"
     ]
    },
    {
     "name": "stderr",
     "output_type": "stream",
     "text": [
      "W0430 23:25:34.894386 140594404546368 metrics.py:103] DICE score is technically 1.0, but prediction and truth arrays are empty. \n"
     ]
    },
    {
     "name": "stderr",
     "output_type": "stream",
     "text": [
      "W0430 23:25:34.905377 140594404546368 metrics.py:103] DICE score is technically 1.0, but prediction and truth arrays are empty. \n"
     ]
    },
    {
     "name": "stderr",
     "output_type": "stream",
     "text": [
      "W0430 23:25:34.916292 140594404546368 metrics.py:103] DICE score is technically 1.0, but prediction and truth arrays are empty. \n"
     ]
    },
    {
     "name": "stderr",
     "output_type": "stream",
     "text": [
      "W0430 23:25:34.927062 140594404546368 metrics.py:103] DICE score is technically 1.0, but prediction and truth arrays are empty. \n"
     ]
    },
    {
     "name": "stderr",
     "output_type": "stream",
     "text": [
      "W0430 23:25:34.937849 140594404546368 metrics.py:103] DICE score is technically 1.0, but prediction and truth arrays are empty. \n"
     ]
    },
    {
     "name": "stderr",
     "output_type": "stream",
     "text": [
      "W0430 23:25:34.950272 140594404546368 metrics.py:103] DICE score is technically 1.0, but prediction and truth arrays are empty. \n"
     ]
    },
    {
     "name": "stderr",
     "output_type": "stream",
     "text": [
      "W0430 23:25:34.961347 140594404546368 metrics.py:103] DICE score is technically 1.0, but prediction and truth arrays are empty. \n"
     ]
    },
    {
     "name": "stderr",
     "output_type": "stream",
     "text": [
      "W0430 23:25:34.971832 140594404546368 metrics.py:103] DICE score is technically 1.0, but prediction and truth arrays are empty. \n"
     ]
    },
    {
     "name": "stderr",
     "output_type": "stream",
     "text": [
      "W0430 23:25:34.984822 140594404546368 metrics.py:103] DICE score is technically 1.0, but prediction and truth arrays are empty. \n"
     ]
    },
    {
     "name": "stderr",
     "output_type": "stream",
     "text": [
      "W0430 23:25:34.998151 140594404546368 metrics.py:103] DICE score is technically 1.0, but prediction and truth arrays are empty. \n"
     ]
    },
    {
     "name": "stderr",
     "output_type": "stream",
     "text": [
      "W0430 23:25:35.010041 140594404546368 metrics.py:103] DICE score is technically 1.0, but prediction and truth arrays are empty. \n"
     ]
    },
    {
     "name": "stderr",
     "output_type": "stream",
     "text": [
      "W0430 23:25:35.021843 140594404546368 metrics.py:103] DICE score is technically 1.0, but prediction and truth arrays are empty. \n"
     ]
    },
    {
     "name": "stderr",
     "output_type": "stream",
     "text": [
      "W0430 23:25:35.036419 140594404546368 metrics.py:103] DICE score is technically 1.0, but prediction and truth arrays are empty. \n"
     ]
    },
    {
     "name": "stderr",
     "output_type": "stream",
     "text": [
      "W0430 23:25:35.047862 140594404546368 metrics.py:103] DICE score is technically 1.0, but prediction and truth arrays are empty. \n"
     ]
    },
    {
     "name": "stderr",
     "output_type": "stream",
     "text": [
      "W0430 23:25:35.059250 140594404546368 metrics.py:103] DICE score is technically 1.0, but prediction and truth arrays are empty. \n"
     ]
    },
    {
     "name": "stderr",
     "output_type": "stream",
     "text": [
      "W0430 23:25:35.070564 140594404546368 metrics.py:103] DICE score is technically 1.0, but prediction and truth arrays are empty. \n"
     ]
    },
    {
     "name": "stderr",
     "output_type": "stream",
     "text": [
      "W0430 23:25:35.082031 140594404546368 metrics.py:103] DICE score is technically 1.0, but prediction and truth arrays are empty. \n"
     ]
    },
    {
     "name": "stderr",
     "output_type": "stream",
     "text": [
      "W0430 23:25:35.093329 140594404546368 metrics.py:103] DICE score is technically 1.0, but prediction and truth arrays are empty. \n"
     ]
    },
    {
     "name": "stderr",
     "output_type": "stream",
     "text": [
      "W0430 23:25:35.104785 140594404546368 metrics.py:103] DICE score is technically 1.0, but prediction and truth arrays are empty. \n"
     ]
    },
    {
     "name": "stderr",
     "output_type": "stream",
     "text": [
      "W0430 23:25:35.115788 140594404546368 metrics.py:103] DICE score is technically 1.0, but prediction and truth arrays are empty. \n"
     ]
    },
    {
     "name": "stderr",
     "output_type": "stream",
     "text": [
      "W0430 23:25:35.126806 140594404546368 metrics.py:103] DICE score is technically 1.0, but prediction and truth arrays are empty. \n"
     ]
    },
    {
     "name": "stderr",
     "output_type": "stream",
     "text": [
      "W0430 23:25:35.161403 140594404546368 metrics.py:103] DICE score is technically 1.0, but prediction and truth arrays are empty. \n"
     ]
    },
    {
     "name": "stderr",
     "output_type": "stream",
     "text": [
      "W0430 23:25:35.172919 140594404546368 metrics.py:103] DICE score is technically 1.0, but prediction and truth arrays are empty. \n"
     ]
    },
    {
     "name": "stderr",
     "output_type": "stream",
     "text": [
      "W0430 23:25:35.991345 140594404546368 metrics.py:103] DICE score is technically 1.0, but prediction and truth arrays are empty. \n"
     ]
    },
    {
     "name": "stderr",
     "output_type": "stream",
     "text": [
      "W0430 23:25:36.052664 140594404546368 metrics.py:103] DICE score is technically 1.0, but prediction and truth arrays are empty. \n"
     ]
    },
    {
     "name": "stderr",
     "output_type": "stream",
     "text": [
      "W0430 23:25:36.121312 140594404546368 metrics.py:103] DICE score is technically 1.0, but prediction and truth arrays are empty. \n"
     ]
    },
    {
     "name": "stderr",
     "output_type": "stream",
     "text": [
      "W0430 23:25:36.132068 140594404546368 metrics.py:103] DICE score is technically 1.0, but prediction and truth arrays are empty. \n"
     ]
    },
    {
     "name": "stderr",
     "output_type": "stream",
     "text": [
      "W0430 23:25:36.142990 140594404546368 metrics.py:103] DICE score is technically 1.0, but prediction and truth arrays are empty. \n"
     ]
    },
    {
     "name": "stderr",
     "output_type": "stream",
     "text": [
      "W0430 23:25:36.153919 140594404546368 metrics.py:103] DICE score is technically 1.0, but prediction and truth arrays are empty. \n"
     ]
    },
    {
     "name": "stderr",
     "output_type": "stream",
     "text": [
      "W0430 23:25:36.166398 140594404546368 metrics.py:103] DICE score is technically 1.0, but prediction and truth arrays are empty. \n"
     ]
    },
    {
     "name": "stderr",
     "output_type": "stream",
     "text": [
      "W0430 23:25:36.181356 140594404546368 metrics.py:103] DICE score is technically 1.0, but prediction and truth arrays are empty. \n"
     ]
    },
    {
     "name": "stderr",
     "output_type": "stream",
     "text": [
      "W0430 23:25:36.226724 140594404546368 metrics.py:103] DICE score is technically 1.0, but prediction and truth arrays are empty. \n"
     ]
    },
    {
     "name": "stderr",
     "output_type": "stream",
     "text": [
      "W0430 23:25:37.186163 140594404546368 metrics.py:103] DICE score is technically 1.0, but prediction and truth arrays are empty. \n"
     ]
    },
    {
     "name": "stderr",
     "output_type": "stream",
     "text": [
      "W0430 23:25:37.199225 140594404546368 metrics.py:103] DICE score is technically 1.0, but prediction and truth arrays are empty. \n"
     ]
    },
    {
     "name": "stderr",
     "output_type": "stream",
     "text": [
      "W0430 23:25:37.210803 140594404546368 metrics.py:103] DICE score is technically 1.0, but prediction and truth arrays are empty. \n"
     ]
    },
    {
     "name": "stderr",
     "output_type": "stream",
     "text": [
      "W0430 23:25:37.224937 140594404546368 metrics.py:103] DICE score is technically 1.0, but prediction and truth arrays are empty. \n"
     ]
    },
    {
     "name": "stderr",
     "output_type": "stream",
     "text": [
      "W0430 23:25:37.237668 140594404546368 metrics.py:103] DICE score is technically 1.0, but prediction and truth arrays are empty. \n"
     ]
    },
    {
     "name": "stderr",
     "output_type": "stream",
     "text": [
      "W0430 23:25:37.248463 140594404546368 metrics.py:103] DICE score is technically 1.0, but prediction and truth arrays are empty. \n"
     ]
    },
    {
     "name": "stderr",
     "output_type": "stream",
     "text": [
      "W0430 23:25:37.259582 140594404546368 metrics.py:103] DICE score is technically 1.0, but prediction and truth arrays are empty. \n"
     ]
    },
    {
     "name": "stderr",
     "output_type": "stream",
     "text": [
      "W0430 23:25:37.273838 140594404546368 metrics.py:103] DICE score is technically 1.0, but prediction and truth arrays are empty. \n"
     ]
    },
    {
     "name": "stderr",
     "output_type": "stream",
     "text": [
      "W0430 23:25:37.284713 140594404546368 metrics.py:103] DICE score is technically 1.0, but prediction and truth arrays are empty. \n"
     ]
    },
    {
     "name": "stderr",
     "output_type": "stream",
     "text": [
      "W0430 23:25:37.295417 140594404546368 metrics.py:103] DICE score is technically 1.0, but prediction and truth arrays are empty. \n"
     ]
    },
    {
     "name": "stderr",
     "output_type": "stream",
     "text": [
      "W0430 23:25:37.305834 140594404546368 metrics.py:103] DICE score is technically 1.0, but prediction and truth arrays are empty. \n"
     ]
    },
    {
     "name": "stderr",
     "output_type": "stream",
     "text": [
      "W0430 23:25:37.316042 140594404546368 metrics.py:103] DICE score is technically 1.0, but prediction and truth arrays are empty. \n"
     ]
    },
    {
     "name": "stderr",
     "output_type": "stream",
     "text": [
      "W0430 23:25:37.326797 140594404546368 metrics.py:103] DICE score is technically 1.0, but prediction and truth arrays are empty. \n"
     ]
    },
    {
     "name": "stderr",
     "output_type": "stream",
     "text": [
      "W0430 23:25:37.337722 140594404546368 metrics.py:103] DICE score is technically 1.0, but prediction and truth arrays are empty. \n"
     ]
    },
    {
     "name": "stderr",
     "output_type": "stream",
     "text": [
      "W0430 23:25:37.348068 140594404546368 metrics.py:103] DICE score is technically 1.0, but prediction and truth arrays are empty. \n"
     ]
    },
    {
     "name": "stderr",
     "output_type": "stream",
     "text": [
      "W0430 23:25:37.358638 140594404546368 metrics.py:103] DICE score is technically 1.0, but prediction and truth arrays are empty. \n"
     ]
    },
    {
     "name": "stderr",
     "output_type": "stream",
     "text": [
      "W0430 23:25:37.369627 140594404546368 metrics.py:103] DICE score is technically 1.0, but prediction and truth arrays are empty. \n"
     ]
    },
    {
     "name": "stderr",
     "output_type": "stream",
     "text": [
      "W0430 23:25:37.381559 140594404546368 metrics.py:103] DICE score is technically 1.0, but prediction and truth arrays are empty. \n"
     ]
    },
    {
     "name": "stderr",
     "output_type": "stream",
     "text": [
      "W0430 23:25:37.393612 140594404546368 metrics.py:103] DICE score is technically 1.0, but prediction and truth arrays are empty. \n"
     ]
    },
    {
     "name": "stderr",
     "output_type": "stream",
     "text": [
      "W0430 23:25:37.404244 140594404546368 metrics.py:103] DICE score is technically 1.0, but prediction and truth arrays are empty. \n"
     ]
    },
    {
     "name": "stderr",
     "output_type": "stream",
     "text": [
      "W0430 23:25:37.415062 140594404546368 metrics.py:103] DICE score is technically 1.0, but prediction and truth arrays are empty. \n"
     ]
    },
    {
     "name": "stderr",
     "output_type": "stream",
     "text": [
      "W0430 23:25:37.426862 140594404546368 metrics.py:103] DICE score is technically 1.0, but prediction and truth arrays are empty. \n"
     ]
    },
    {
     "name": "stderr",
     "output_type": "stream",
     "text": [
      "W0430 23:25:37.438731 140594404546368 metrics.py:103] DICE score is technically 1.0, but prediction and truth arrays are empty. \n"
     ]
    },
    {
     "name": "stderr",
     "output_type": "stream",
     "text": [
      "W0430 23:25:37.449211 140594404546368 metrics.py:103] DICE score is technically 1.0, but prediction and truth arrays are empty. \n"
     ]
    },
    {
     "name": "stderr",
     "output_type": "stream",
     "text": [
      "W0430 23:25:37.459697 140594404546368 metrics.py:103] DICE score is technically 1.0, but prediction and truth arrays are empty. \n"
     ]
    },
    {
     "name": "stderr",
     "output_type": "stream",
     "text": [
      "W0430 23:25:37.474174 140594404546368 metrics.py:103] DICE score is technically 1.0, but prediction and truth arrays are empty. \n"
     ]
    },
    {
     "name": "stderr",
     "output_type": "stream",
     "text": [
      "W0430 23:25:37.484668 140594404546368 metrics.py:103] DICE score is technically 1.0, but prediction and truth arrays are empty. \n"
     ]
    },
    {
     "name": "stderr",
     "output_type": "stream",
     "text": [
      "W0430 23:25:37.495296 140594404546368 metrics.py:103] DICE score is technically 1.0, but prediction and truth arrays are empty. \n"
     ]
    },
    {
     "name": "stderr",
     "output_type": "stream",
     "text": [
      "W0430 23:25:37.505631 140594404546368 metrics.py:103] DICE score is technically 1.0, but prediction and truth arrays are empty. \n"
     ]
    },
    {
     "name": "stderr",
     "output_type": "stream",
     "text": [
      "W0430 23:25:37.515736 140594404546368 metrics.py:103] DICE score is technically 1.0, but prediction and truth arrays are empty. \n"
     ]
    },
    {
     "name": "stderr",
     "output_type": "stream",
     "text": [
      "W0430 23:25:37.887439 140594404546368 metrics.py:103] DICE score is technically 1.0, but prediction and truth arrays are empty. \n"
     ]
    },
    {
     "name": "stderr",
     "output_type": "stream",
     "text": [
      "W0430 23:25:37.898503 140594404546368 metrics.py:103] DICE score is technically 1.0, but prediction and truth arrays are empty. \n"
     ]
    },
    {
     "name": "stderr",
     "output_type": "stream",
     "text": [
      "W0430 23:25:37.909188 140594404546368 metrics.py:103] DICE score is technically 1.0, but prediction and truth arrays are empty. \n"
     ]
    },
    {
     "name": "stderr",
     "output_type": "stream",
     "text": [
      "W0430 23:25:37.919908 140594404546368 metrics.py:103] DICE score is technically 1.0, but prediction and truth arrays are empty. \n"
     ]
    },
    {
     "name": "stderr",
     "output_type": "stream",
     "text": [
      "W0430 23:25:37.930690 140594404546368 metrics.py:103] DICE score is technically 1.0, but prediction and truth arrays are empty. \n"
     ]
    },
    {
     "name": "stderr",
     "output_type": "stream",
     "text": [
      "W0430 23:25:37.940999 140594404546368 metrics.py:103] DICE score is technically 1.0, but prediction and truth arrays are empty. \n"
     ]
    },
    {
     "name": "stderr",
     "output_type": "stream",
     "text": [
      "W0430 23:25:37.951388 140594404546368 metrics.py:103] DICE score is technically 1.0, but prediction and truth arrays are empty. \n"
     ]
    },
    {
     "name": "stderr",
     "output_type": "stream",
     "text": [
      "W0430 23:25:37.961783 140594404546368 metrics.py:103] DICE score is technically 1.0, but prediction and truth arrays are empty. \n"
     ]
    },
    {
     "name": "stderr",
     "output_type": "stream",
     "text": [
      "W0430 23:25:37.972057 140594404546368 metrics.py:103] DICE score is technically 1.0, but prediction and truth arrays are empty. \n"
     ]
    },
    {
     "name": "stderr",
     "output_type": "stream",
     "text": [
      "W0430 23:25:37.984560 140594404546368 metrics.py:103] DICE score is technically 1.0, but prediction and truth arrays are empty. \n"
     ]
    },
    {
     "name": "stderr",
     "output_type": "stream",
     "text": [
      "W0430 23:25:37.995363 140594404546368 metrics.py:103] DICE score is technically 1.0, but prediction and truth arrays are empty. \n"
     ]
    },
    {
     "name": "stderr",
     "output_type": "stream",
     "text": [
      "W0430 23:25:38.006058 140594404546368 metrics.py:103] DICE score is technically 1.0, but prediction and truth arrays are empty. \n"
     ]
    },
    {
     "name": "stderr",
     "output_type": "stream",
     "text": [
      "W0430 23:25:38.016804 140594404546368 metrics.py:103] DICE score is technically 1.0, but prediction and truth arrays are empty. \n"
     ]
    },
    {
     "name": "stderr",
     "output_type": "stream",
     "text": [
      "W0430 23:25:38.031085 140594404546368 metrics.py:103] DICE score is technically 1.0, but prediction and truth arrays are empty. \n"
     ]
    },
    {
     "name": "stderr",
     "output_type": "stream",
     "text": [
      "W0430 23:25:38.042766 140594404546368 metrics.py:103] DICE score is technically 1.0, but prediction and truth arrays are empty. \n"
     ]
    },
    {
     "name": "stderr",
     "output_type": "stream",
     "text": [
      "W0430 23:25:38.053622 140594404546368 metrics.py:103] DICE score is technically 1.0, but prediction and truth arrays are empty. \n"
     ]
    },
    {
     "name": "stderr",
     "output_type": "stream",
     "text": [
      "W0430 23:25:38.064337 140594404546368 metrics.py:103] DICE score is technically 1.0, but prediction and truth arrays are empty. \n"
     ]
    },
    {
     "name": "stderr",
     "output_type": "stream",
     "text": [
      "W0430 23:25:38.077787 140594404546368 metrics.py:103] DICE score is technically 1.0, but prediction and truth arrays are empty. \n"
     ]
    },
    {
     "name": "stderr",
     "output_type": "stream",
     "text": [
      "W0430 23:25:38.088498 140594404546368 metrics.py:103] DICE score is technically 1.0, but prediction and truth arrays are empty. \n"
     ]
    },
    {
     "name": "stderr",
     "output_type": "stream",
     "text": [
      "W0430 23:25:38.098897 140594404546368 metrics.py:103] DICE score is technically 1.0, but prediction and truth arrays are empty. \n"
     ]
    },
    {
     "name": "stderr",
     "output_type": "stream",
     "text": [
      "W0430 23:25:38.109653 140594404546368 metrics.py:103] DICE score is technically 1.0, but prediction and truth arrays are empty. \n"
     ]
    },
    {
     "name": "stderr",
     "output_type": "stream",
     "text": [
      "W0430 23:25:38.120067 140594404546368 metrics.py:103] DICE score is technically 1.0, but prediction and truth arrays are empty. \n"
     ]
    },
    {
     "name": "stderr",
     "output_type": "stream",
     "text": [
      "W0430 23:25:38.130753 140594404546368 metrics.py:103] DICE score is technically 1.0, but prediction and truth arrays are empty. \n"
     ]
    },
    {
     "name": "stderr",
     "output_type": "stream",
     "text": [
      "W0430 23:25:38.141279 140594404546368 metrics.py:103] DICE score is technically 1.0, but prediction and truth arrays are empty. \n"
     ]
    },
    {
     "name": "stderr",
     "output_type": "stream",
     "text": [
      "W0430 23:25:38.151700 140594404546368 metrics.py:103] DICE score is technically 1.0, but prediction and truth arrays are empty. \n"
     ]
    },
    {
     "name": "stderr",
     "output_type": "stream",
     "text": [
      "W0430 23:25:38.162317 140594404546368 metrics.py:103] DICE score is technically 1.0, but prediction and truth arrays are empty. \n"
     ]
    },
    {
     "name": "stderr",
     "output_type": "stream",
     "text": [
      "W0430 23:25:38.172929 140594404546368 metrics.py:103] DICE score is technically 1.0, but prediction and truth arrays are empty. \n"
     ]
    },
    {
     "name": "stderr",
     "output_type": "stream",
     "text": [
      "W0430 23:25:38.183723 140594404546368 metrics.py:103] DICE score is technically 1.0, but prediction and truth arrays are empty. \n"
     ]
    },
    {
     "name": "stderr",
     "output_type": "stream",
     "text": [
      "W0430 23:25:38.198116 140594404546368 metrics.py:103] DICE score is technically 1.0, but prediction and truth arrays are empty. \n"
     ]
    },
    {
     "name": "stderr",
     "output_type": "stream",
     "text": [
      "W0430 23:25:38.214921 140594404546368 metrics.py:103] DICE score is technically 1.0, but prediction and truth arrays are empty. \n"
     ]
    },
    {
     "name": "stderr",
     "output_type": "stream",
     "text": [
      "W0430 23:25:38.626437 140594404546368 metrics.py:103] DICE score is technically 1.0, but prediction and truth arrays are empty. \n"
     ]
    },
    {
     "name": "stderr",
     "output_type": "stream",
     "text": [
      "W0430 23:25:38.639252 140594404546368 metrics.py:103] DICE score is technically 1.0, but prediction and truth arrays are empty. \n"
     ]
    },
    {
     "name": "stderr",
     "output_type": "stream",
     "text": [
      "W0430 23:25:38.651526 140594404546368 metrics.py:103] DICE score is technically 1.0, but prediction and truth arrays are empty. \n"
     ]
    },
    {
     "name": "stderr",
     "output_type": "stream",
     "text": [
      "W0430 23:25:38.662098 140594404546368 metrics.py:103] DICE score is technically 1.0, but prediction and truth arrays are empty. \n"
     ]
    },
    {
     "name": "stderr",
     "output_type": "stream",
     "text": [
      "W0430 23:25:38.672643 140594404546368 metrics.py:103] DICE score is technically 1.0, but prediction and truth arrays are empty. \n"
     ]
    },
    {
     "name": "stderr",
     "output_type": "stream",
     "text": [
      "W0430 23:25:38.686238 140594404546368 metrics.py:103] DICE score is technically 1.0, but prediction and truth arrays are empty. \n"
     ]
    },
    {
     "name": "stderr",
     "output_type": "stream",
     "text": [
      "W0430 23:25:38.696896 140594404546368 metrics.py:103] DICE score is technically 1.0, but prediction and truth arrays are empty. \n"
     ]
    },
    {
     "name": "stderr",
     "output_type": "stream",
     "text": [
      "W0430 23:25:38.707533 140594404546368 metrics.py:103] DICE score is technically 1.0, but prediction and truth arrays are empty. \n"
     ]
    },
    {
     "name": "stderr",
     "output_type": "stream",
     "text": [
      "W0430 23:25:38.718094 140594404546368 metrics.py:103] DICE score is technically 1.0, but prediction and truth arrays are empty. \n"
     ]
    },
    {
     "name": "stderr",
     "output_type": "stream",
     "text": [
      "W0430 23:25:38.728456 140594404546368 metrics.py:103] DICE score is technically 1.0, but prediction and truth arrays are empty. \n"
     ]
    },
    {
     "name": "stderr",
     "output_type": "stream",
     "text": [
      "W0430 23:25:38.738746 140594404546368 metrics.py:103] DICE score is technically 1.0, but prediction and truth arrays are empty. \n"
     ]
    },
    {
     "name": "stderr",
     "output_type": "stream",
     "text": [
      "W0430 23:25:38.749198 140594404546368 metrics.py:103] DICE score is technically 1.0, but prediction and truth arrays are empty. \n"
     ]
    },
    {
     "name": "stderr",
     "output_type": "stream",
     "text": [
      "W0430 23:25:38.759774 140594404546368 metrics.py:103] DICE score is technically 1.0, but prediction and truth arrays are empty. \n"
     ]
    },
    {
     "name": "stderr",
     "output_type": "stream",
     "text": [
      "W0430 23:25:38.771402 140594404546368 metrics.py:103] DICE score is technically 1.0, but prediction and truth arrays are empty. \n"
     ]
    },
    {
     "name": "stderr",
     "output_type": "stream",
     "text": [
      "W0430 23:25:38.787028 140594404546368 metrics.py:103] DICE score is technically 1.0, but prediction and truth arrays are empty. \n"
     ]
    },
    {
     "name": "stderr",
     "output_type": "stream",
     "text": [
      "W0430 23:25:40.108398 140594404546368 metrics.py:103] DICE score is technically 1.0, but prediction and truth arrays are empty. \n"
     ]
    },
    {
     "name": "stderr",
     "output_type": "stream",
     "text": [
      "W0430 23:25:40.119456 140594404546368 metrics.py:103] DICE score is technically 1.0, but prediction and truth arrays are empty. \n"
     ]
    },
    {
     "name": "stderr",
     "output_type": "stream",
     "text": [
      "W0430 23:25:40.130234 140594404546368 metrics.py:103] DICE score is technically 1.0, but prediction and truth arrays are empty. \n"
     ]
    },
    {
     "name": "stderr",
     "output_type": "stream",
     "text": [
      "W0430 23:25:40.140781 140594404546368 metrics.py:103] DICE score is technically 1.0, but prediction and truth arrays are empty. \n"
     ]
    },
    {
     "name": "stderr",
     "output_type": "stream",
     "text": [
      "W0430 23:25:40.151284 140594404546368 metrics.py:103] DICE score is technically 1.0, but prediction and truth arrays are empty. \n"
     ]
    },
    {
     "name": "stderr",
     "output_type": "stream",
     "text": [
      "W0430 23:25:40.162174 140594404546368 metrics.py:103] DICE score is technically 1.0, but prediction and truth arrays are empty. \n"
     ]
    },
    {
     "name": "stderr",
     "output_type": "stream",
     "text": [
      "W0430 23:25:40.172639 140594404546368 metrics.py:103] DICE score is technically 1.0, but prediction and truth arrays are empty. \n"
     ]
    },
    {
     "name": "stderr",
     "output_type": "stream",
     "text": [
      "W0430 23:25:40.183327 140594404546368 metrics.py:103] DICE score is technically 1.0, but prediction and truth arrays are empty. \n"
     ]
    },
    {
     "name": "stderr",
     "output_type": "stream",
     "text": [
      "W0430 23:25:40.193791 140594404546368 metrics.py:103] DICE score is technically 1.0, but prediction and truth arrays are empty. \n"
     ]
    },
    {
     "name": "stderr",
     "output_type": "stream",
     "text": [
      "W0430 23:25:40.204679 140594404546368 metrics.py:103] DICE score is technically 1.0, but prediction and truth arrays are empty. \n"
     ]
    },
    {
     "name": "stderr",
     "output_type": "stream",
     "text": [
      "W0430 23:25:40.216792 140594404546368 metrics.py:103] DICE score is technically 1.0, but prediction and truth arrays are empty. \n"
     ]
    },
    {
     "name": "stderr",
     "output_type": "stream",
     "text": [
      "W0430 23:25:40.230674 140594404546368 metrics.py:103] DICE score is technically 1.0, but prediction and truth arrays are empty. \n"
     ]
    },
    {
     "name": "stderr",
     "output_type": "stream",
     "text": [
      "W0430 23:25:40.244292 140594404546368 metrics.py:103] DICE score is technically 1.0, but prediction and truth arrays are empty. \n"
     ]
    },
    {
     "name": "stderr",
     "output_type": "stream",
     "text": [
      "W0430 23:25:40.255300 140594404546368 metrics.py:103] DICE score is technically 1.0, but prediction and truth arrays are empty. \n"
     ]
    },
    {
     "name": "stderr",
     "output_type": "stream",
     "text": [
      "W0430 23:25:40.267579 140594404546368 metrics.py:103] DICE score is technically 1.0, but prediction and truth arrays are empty. \n"
     ]
    },
    {
     "name": "stderr",
     "output_type": "stream",
     "text": [
      "W0430 23:25:40.279342 140594404546368 metrics.py:103] DICE score is technically 1.0, but prediction and truth arrays are empty. \n"
     ]
    },
    {
     "name": "stderr",
     "output_type": "stream",
     "text": [
      "W0430 23:25:40.290059 140594404546368 metrics.py:103] DICE score is technically 1.0, but prediction and truth arrays are empty. \n"
     ]
    },
    {
     "name": "stderr",
     "output_type": "stream",
     "text": [
      "W0430 23:25:40.300843 140594404546368 metrics.py:103] DICE score is technically 1.0, but prediction and truth arrays are empty. \n"
     ]
    },
    {
     "name": "stderr",
     "output_type": "stream",
     "text": [
      "W0430 23:25:40.315217 140594404546368 metrics.py:103] DICE score is technically 1.0, but prediction and truth arrays are empty. \n"
     ]
    },
    {
     "name": "stderr",
     "output_type": "stream",
     "text": [
      "W0430 23:25:40.336415 140594404546368 metrics.py:103] DICE score is technically 1.0, but prediction and truth arrays are empty. \n"
     ]
    },
    {
     "name": "stderr",
     "output_type": "stream",
     "text": [
      "W0430 23:25:40.347177 140594404546368 metrics.py:103] DICE score is technically 1.0, but prediction and truth arrays are empty. \n"
     ]
    },
    {
     "name": "stderr",
     "output_type": "stream",
     "text": [
      "W0430 23:25:40.357992 140594404546368 metrics.py:103] DICE score is technically 1.0, but prediction and truth arrays are empty. \n"
     ]
    },
    {
     "name": "stderr",
     "output_type": "stream",
     "text": [
      "W0430 23:25:40.368895 140594404546368 metrics.py:103] DICE score is technically 1.0, but prediction and truth arrays are empty. \n"
     ]
    },
    {
     "name": "stderr",
     "output_type": "stream",
     "text": [
      "W0430 23:25:40.379601 140594404546368 metrics.py:103] DICE score is technically 1.0, but prediction and truth arrays are empty. \n"
     ]
    },
    {
     "name": "stderr",
     "output_type": "stream",
     "text": [
      "W0430 23:25:40.400462 140594404546368 metrics.py:103] DICE score is technically 1.0, but prediction and truth arrays are empty. \n"
     ]
    },
    {
     "name": "stderr",
     "output_type": "stream",
     "text": [
      "W0430 23:25:40.411199 140594404546368 metrics.py:103] DICE score is technically 1.0, but prediction and truth arrays are empty. \n"
     ]
    },
    {
     "name": "stderr",
     "output_type": "stream",
     "text": [
      "W0430 23:25:40.422951 140594404546368 metrics.py:103] DICE score is technically 1.0, but prediction and truth arrays are empty. \n"
     ]
    },
    {
     "name": "stderr",
     "output_type": "stream",
     "text": [
      "W0430 23:25:40.438924 140594404546368 metrics.py:103] DICE score is technically 1.0, but prediction and truth arrays are empty. \n"
     ]
    },
    {
     "name": "stderr",
     "output_type": "stream",
     "text": [
      "W0430 23:25:42.267574 140594404546368 metrics.py:103] DICE score is technically 1.0, but prediction and truth arrays are empty. \n"
     ]
    },
    {
     "name": "stderr",
     "output_type": "stream",
     "text": [
      "W0430 23:25:42.330654 140594404546368 metrics.py:103] DICE score is technically 1.0, but prediction and truth arrays are empty. \n"
     ]
    },
    {
     "name": "stderr",
     "output_type": "stream",
     "text": [
      "W0430 23:25:42.380508 140594404546368 metrics.py:103] DICE score is technically 1.0, but prediction and truth arrays are empty. \n"
     ]
    },
    {
     "name": "stderr",
     "output_type": "stream",
     "text": [
      "W0430 23:25:42.426991 140594404546368 metrics.py:103] DICE score is technically 1.0, but prediction and truth arrays are empty. \n"
     ]
    },
    {
     "name": "stderr",
     "output_type": "stream",
     "text": [
      "W0430 23:25:42.437536 140594404546368 metrics.py:103] DICE score is technically 1.0, but prediction and truth arrays are empty. \n"
     ]
    },
    {
     "name": "stderr",
     "output_type": "stream",
     "text": [
      "W0430 23:25:42.447792 140594404546368 metrics.py:103] DICE score is technically 1.0, but prediction and truth arrays are empty. \n"
     ]
    },
    {
     "name": "stderr",
     "output_type": "stream",
     "text": [
      "W0430 23:25:42.458287 140594404546368 metrics.py:103] DICE score is technically 1.0, but prediction and truth arrays are empty. \n"
     ]
    },
    {
     "name": "stderr",
     "output_type": "stream",
     "text": [
      "W0430 23:25:42.468659 140594404546368 metrics.py:103] DICE score is technically 1.0, but prediction and truth arrays are empty. \n"
     ]
    },
    {
     "name": "stderr",
     "output_type": "stream",
     "text": [
      "W0430 23:25:42.481703 140594404546368 metrics.py:103] DICE score is technically 1.0, but prediction and truth arrays are empty. \n"
     ]
    },
    {
     "name": "stderr",
     "output_type": "stream",
     "text": [
      "W0430 23:25:42.553258 140594404546368 metrics.py:103] DICE score is technically 1.0, but prediction and truth arrays are empty. \n"
     ]
    },
    {
     "name": "stderr",
     "output_type": "stream",
     "text": [
      "W0430 23:25:46.666040 140594404546368 metrics.py:103] DICE score is technically 1.0, but prediction and truth arrays are empty. \n"
     ]
    },
    {
     "name": "stderr",
     "output_type": "stream",
     "text": [
      "W0430 23:25:46.677025 140594404546368 metrics.py:103] DICE score is technically 1.0, but prediction and truth arrays are empty. \n"
     ]
    },
    {
     "name": "stderr",
     "output_type": "stream",
     "text": [
      "W0430 23:25:48.800068 140594404546368 metrics.py:103] DICE score is technically 1.0, but prediction and truth arrays are empty. \n"
     ]
    },
    {
     "name": "stderr",
     "output_type": "stream",
     "text": [
      "W0430 23:25:48.813244 140594404546368 metrics.py:103] DICE score is technically 1.0, but prediction and truth arrays are empty. \n"
     ]
    },
    {
     "name": "stderr",
     "output_type": "stream",
     "text": [
      "W0430 23:25:48.863862 140594404546368 metrics.py:103] DICE score is technically 1.0, but prediction and truth arrays are empty. \n"
     ]
    },
    {
     "name": "stderr",
     "output_type": "stream",
     "text": [
      "W0430 23:25:48.891252 140594404546368 metrics.py:103] DICE score is technically 1.0, but prediction and truth arrays are empty. \n"
     ]
    },
    {
     "name": "stderr",
     "output_type": "stream",
     "text": [
      "W0430 23:25:48.905262 140594404546368 metrics.py:103] DICE score is technically 1.0, but prediction and truth arrays are empty. \n"
     ]
    },
    {
     "name": "stderr",
     "output_type": "stream",
     "text": [
      "W0430 23:25:48.946062 140594404546368 metrics.py:103] DICE score is technically 1.0, but prediction and truth arrays are empty. \n"
     ]
    },
    {
     "name": "stdout",
     "output_type": "stream",
     "text": [
      "\n",
      "____________Object-based statistics____________\n",
      "\n",
      "Number of true cells:\t\t 39608\n",
      "Number of predicted cells:\t 38368\n",
      "\n",
      "Correct detections:  36714\tRecall: 92.6933952736820856443955563008785247802734375%\n",
      "Incorrect detections: 1654\tPrecision: 95.6891159299416216299505322240293025970458984375%\n",
      "\n",
      "Gained detections: 1187\tPerc Error: 31.138509968520462933838643948547542095184326171875%\n",
      "Missed detections: 2278\tPerc Error: 59.75865687303252826723110047169029712677001953125%\n",
      "Merges: 230\t\tPerc Error: 6.03357817418677822018935330561362206935882568359375%\n",
      "Splits: 86\t\tPerc Error: 2.256033578174186704501380518195219337940216064453125%\n",
      "Catastrophes: 31\t\tPerc Error: 0.8132214060860440962841266809846274554729461669921875%\n",
      "\n",
      "Gained detections from splits: 87\n",
      "Missed detections from merges: 237\n",
      "True detections involved in catastrophes: 63\n",
      "Predicted detections involved in catastrophes: 64 \n",
      "\n",
      "Average Pixel IOU (Jaccard Index): 0.827004780133039130163297159015201032161712646484375 \n",
      "\n"
     ]
    }
   ],
   "source": [
    "from deepcell_toolbox import retinamask_postprocess\n",
    "from deepcell_toolbox.deep_watershed import deep_watershed as watershed_postprocess \n",
    "from functools import partial\n",
    "from scipy import ndimage\n",
    "\n",
    "if model_type == 'watershed':\n",
    "    postprocessing_fn = watershed_postprocess\n",
    "elif model_type == 'pixelwise':\n",
    "    def pixelwise(prediction, threshold=.5):\n",
    "        \"\"\"Post-processing for pixelwise transform predictions.\n",
    "        Uses the interior predictions to uniquely label every instance.\n",
    "        Args:\n",
    "            prediction: pixelwise transform prediction\n",
    "            threshold: confidence threshold for interior predictions\n",
    "        Returns:\n",
    "            post-processed data with each cell uniquely annotated\n",
    "        \"\"\"\n",
    "        labeled = []\n",
    "        for b in range(prediction.shape[0]):\n",
    "            pred = prediction[b]\n",
    "            interior = pred[..., 1] > threshold\n",
    "            data = np.expand_dims(interior, axis=-1)\n",
    "            label_image = ndimage.label(data)[0]\n",
    "            labeled.append(label_image)\n",
    "        labeled = np.stack(labeled, axis=0)\n",
    "        return labeled\n",
    "    postprocessing_fn = pixelwise\n",
    "elif model_type == 'retinamask':\n",
    "    postprocessing_fn = partial(retinamask_postprocess, image_shape=(128,128))\n",
    "    \n",
    "model_trainer = ModelTrainer(model,\n",
    "                            model_name,\n",
    "                            model_path,\n",
    "                            train_data,\n",
    "                            val_data,\n",
    "                            benchmarking_data = test_dict,\n",
    "                            postprocessing_fn=postprocessing_fn,\n",
    "                            predict_batch_size=32,\n",
    "                            dataset_metadata=dataset_metadata,\n",
    "                            training_kwargs=training_kwargs)\n",
    "\n",
    "model_trainer.create_model()"
   ]
  },
  {
   "cell_type": "code",
   "execution_count": null,
   "metadata": {
    "papermill": {
     "duration": 0.555862,
     "end_time": "2020-04-30T23:25:55.054441",
     "exception": false,
     "start_time": "2020-04-30T23:25:54.498579",
     "status": "completed"
    },
    "tags": []
   },
   "outputs": [],
   "source": []
  }
 ],
 "metadata": {
  "kernelspec": {
   "display_name": "Python 3",
   "language": "python",
   "name": "python3"
  },
  "language_info": {
   "codemirror_mode": {
    "name": "ipython",
    "version": 3
   },
   "file_extension": ".py",
   "mimetype": "text/x-python",
   "name": "python",
   "nbconvert_exporter": "python",
   "pygments_lexer": "ipython3",
   "version": "3.6.8"
  },
  "papermill": {
   "duration": 16374.254336,
   "end_time": "2020-04-30T23:25:59.013407",
   "environment_variables": {},
   "exception": null,
   "input_path": "/notebooks/papermill/Papermill - Nuclear Accuracy - Proper Split.ipynb",
   "output_path": "/notebooks/04302020/nuclear_2_0.1_mobilenetv2_retinamask_training_notebook.ipynb",
   "parameters": {
    "backbone": "mobilenetv2",
    "batch_size": 4,
    "dataset_fraction": 0.1,
    "date": "04302020",
    "filename": "nuclear_2_0.1_mobilenetv2_retinamask",
    "model_type": "retinamask",
    "n_epochs": 16,
    "train_permutation_seed": 2
   },
   "start_time": "2020-04-30T18:53:04.759071",
   "version": "1.2.1"
  }
 },
 "nbformat": 4,
 "nbformat_minor": 2
}