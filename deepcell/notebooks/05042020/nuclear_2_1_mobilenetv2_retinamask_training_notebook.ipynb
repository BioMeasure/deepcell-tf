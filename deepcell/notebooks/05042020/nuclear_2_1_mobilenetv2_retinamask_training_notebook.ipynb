{
 "cells": [
  {
   "cell_type": "markdown",
   "metadata": {
    "papermill": {
     "duration": 0.01966,
     "end_time": "2020-05-05T19:39:59.424169",
     "exception": false,
     "start_time": "2020-05-05T19:39:59.404509",
     "status": "completed"
    },
    "tags": []
   },
   "source": [
    "# General nuclear segmentation training notebook\n",
    "\n",
    "This notebook trains a model to perform nuclear segmentation of fluorescent microscopy images."
   ]
  },
  {
   "cell_type": "markdown",
   "metadata": {
    "papermill": {
     "duration": 0.013845,
     "end_time": "2020-05-05T19:39:59.453481",
     "exception": false,
     "start_time": "2020-05-05T19:39:59.439636",
     "status": "completed"
    },
    "tags": []
   },
   "source": [
    "## Part 1: Import relevant python packages\n",
    "\n",
    "This section imports python packages that are used throughout the notebook and defines parameters that can be used with papermill"
   ]
  },
  {
   "cell_type": "code",
   "execution_count": 1,
   "metadata": {
    "papermill": {
     "duration": 3.03685,
     "end_time": "2020-05-05T19:40:02.504393",
     "exception": false,
     "start_time": "2020-05-05T19:39:59.467543",
     "status": "completed"
    },
    "tags": []
   },
   "outputs": [],
   "source": [
    "import os\n",
    "import errno\n",
    "\n",
    "import numpy as np\n",
    "\n",
    "import tensorflow as tf\n",
    "gpus = tf.config.experimental.list_physical_devices('GPU')\n",
    "for gpu in gpus:\n",
    "      tf.config.experimental.set_memory_growth(gpu, True)\n",
    "        \n",
    "import deepcell"
   ]
  },
  {
   "cell_type": "code",
   "execution_count": 2,
   "metadata": {
    "papermill": {
     "duration": 0.031444,
     "end_time": "2020-05-05T19:40:02.552239",
     "exception": false,
     "start_time": "2020-05-05T19:40:02.520795",
     "status": "completed"
    },
    "tags": [
     "parameters"
    ]
   },
   "outputs": [],
   "source": [
    "# Define parameters that can be set with papermill\n",
    "backbone = 'resnet50'\n",
    "dataset_name='general_nuclear'\n",
    "n_epochs = 8\n",
    "date = '04242020'\n",
    "dataset_fraction = .01\n",
    "train_test_seed = 0\n",
    "train_permutation_seed = 0\n",
    "train_val_seed=314\n",
    "model_type = 'watershed'\n",
    "batch_size = 4 if model_type == 'retinamask' else 16"
   ]
  },
  {
   "cell_type": "code",
   "execution_count": 3,
   "metadata": {
    "papermill": {
     "duration": 0.029153,
     "end_time": "2020-05-05T19:40:02.599540",
     "exception": false,
     "start_time": "2020-05-05T19:40:02.570387",
     "status": "completed"
    },
    "tags": [
     "injected-parameters"
    ]
   },
   "outputs": [],
   "source": [
    "# Parameters\n",
    "n_epochs = 16\n",
    "batch_size = 4\n",
    "date = \"05042020\"\n",
    "filename = \"nuclear_2_1_mobilenetv2_retinamask\"\n",
    "train_permutation_seed = 2\n",
    "dataset_fraction = 1\n",
    "backbone = \"mobilenetv2\"\n",
    "model_type = \"retinamask\"\n"
   ]
  },
  {
   "cell_type": "markdown",
   "metadata": {
    "papermill": {
     "duration": 0.015746,
     "end_time": "2020-05-05T19:40:02.634223",
     "exception": false,
     "start_time": "2020-05-05T19:40:02.618477",
     "status": "completed"
    },
    "tags": []
   },
   "source": [
    "## Part 2: Load training data and create data generators\n",
    "\n",
    "Data generators augment data and feed it into the model training process. Here, we define the generators that will be used to train our segmentation model."
   ]
  },
  {
   "cell_type": "code",
   "execution_count": 4,
   "metadata": {
    "papermill": {
     "duration": 199.25631,
     "end_time": "2020-05-05T19:43:21.906548",
     "exception": false,
     "start_time": "2020-05-05T19:40:02.650238",
     "status": "completed"
    },
    "scrolled": false,
    "tags": []
   },
   "outputs": [
    {
     "name": "stdout",
     "output_type": "stream",
     "text": [
      "(180, 40, 216, 256, 1) (180, 40, 216, 256, 1)\n"
     ]
    },
    {
     "name": "stdout",
     "output_type": "stream",
     "text": [
      "(259, 30, 135, 160, 1) (259, 30, 135, 160, 1)\n"
     ]
    },
    {
     "name": "stdout",
     "output_type": "stream",
     "text": [
      "(240, 30, 154, 182, 1) (240, 30, 154, 182, 1)\n"
     ]
    },
    {
     "name": "stdout",
     "output_type": "stream",
     "text": [
      "(124, 30, 202, 240, 1) (124, 30, 202, 240, 1)\n"
     ]
    },
    {
     "name": "stdout",
     "output_type": "stream",
     "text": [
      "Reshaped feature data from (127, 40, 216, 256, 1) to (508, 40, 128, 128, 1)\n",
      "Reshaped training data from (127, 40, 216, 256, 1) to (508, 40, 128, 128, 1)\n"
     ]
    },
    {
     "name": "stdout",
     "output_type": "stream",
     "text": [
      "Reshaped feature data from (159, 30, 135, 160, 1) to (636, 30, 128, 128, 1)\n",
      "Reshaped training data from (159, 30, 135, 160, 1) to (636, 30, 128, 128, 1)\n"
     ]
    },
    {
     "name": "stdout",
     "output_type": "stream",
     "text": [
      "Reshaped feature data from (151, 30, 154, 182, 1) to (604, 30, 128, 128, 1)\n",
      "Reshaped training data from (151, 30, 154, 182, 1) to (604, 30, 128, 128, 1)\n"
     ]
    },
    {
     "name": "stdout",
     "output_type": "stream",
     "text": [
      "Reshaped feature data from (77, 30, 202, 240, 1) to (308, 30, 128, 128, 1)\n",
      "Reshaped training data from (77, 30, 202, 240, 1) to (308, 30, 128, 128, 1)\n"
     ]
    },
    {
     "name": "stdout",
     "output_type": "stream",
     "text": [
      "Reshaped feature data from (17, 40, 216, 256, 1) to (68, 40, 128, 128, 1)\n",
      "Reshaped training data from (17, 40, 216, 256, 1) to (68, 40, 128, 128, 1)\n"
     ]
    },
    {
     "name": "stdout",
     "output_type": "stream",
     "text": [
      "Reshaped feature data from (48, 30, 135, 160, 1) to (192, 30, 128, 128, 1)\n",
      "Reshaped training data from (48, 30, 135, 160, 1) to (192, 30, 128, 128, 1)\n"
     ]
    },
    {
     "name": "stdout",
     "output_type": "stream",
     "text": [
      "Reshaped feature data from (41, 30, 154, 182, 1) to (164, 30, 128, 128, 1)\n",
      "Reshaped training data from (41, 30, 154, 182, 1) to (164, 30, 128, 128, 1)\n"
     ]
    },
    {
     "name": "stdout",
     "output_type": "stream",
     "text": [
      "Reshaped feature data from (22, 30, 202, 240, 1) to (88, 30, 128, 128, 1)\n",
      "Reshaped training data from (22, 30, 202, 240, 1) to (88, 30, 128, 128, 1)\n"
     ]
    },
    {
     "name": "stdout",
     "output_type": "stream",
     "text": [
      "Reshaped feature data from (36, 40, 128, 128, 1) to (36, 40, 128, 128, 1)\n",
      "Reshaped training data from (36, 40, 128, 128, 1) to (36, 40, 128, 128, 1)\n"
     ]
    },
    {
     "name": "stdout",
     "output_type": "stream",
     "text": [
      "Reshaped feature data from (52, 30, 128, 128, 1) to (52, 30, 128, 128, 1)\n",
      "Reshaped training data from (52, 30, 128, 128, 1) to (52, 30, 128, 128, 1)\n"
     ]
    },
    {
     "name": "stdout",
     "output_type": "stream",
     "text": [
      "Reshaped feature data from (48, 30, 128, 128, 1) to (48, 30, 128, 128, 1)\n",
      "Reshaped training data from (48, 30, 128, 128, 1) to (48, 30, 128, 128, 1)\n"
     ]
    },
    {
     "name": "stdout",
     "output_type": "stream",
     "text": [
      "Reshaped feature data from (25, 30, 202, 240, 1) to (100, 30, 128, 128, 1)\n",
      "Reshaped training data from (25, 30, 202, 240, 1) to (100, 30, 128, 128, 1)\n"
     ]
    },
    {
     "name": "stdout",
     "output_type": "stream",
     "text": [
      "(66760, 128, 128, 1) (66760, 128, 128, 1) (16040, 128, 128, 1) (16040, 128, 128, 1)\n",
      "Number of training tracks 8032\n",
      "Number of validation tracks 2157\n",
      "Number of testing tracks 1925\n",
      "Number of training cells 192403\n",
      "Number of validation cells 50015\n",
      "Number of testing cells 42731\n"
     ]
    }
   ],
   "source": [
    "from deepcell.utils.data_utils import get_data, reshape_movie\n",
    "from deepcell import image_generators\n",
    "from deepcell.utils import train_utils\n",
    "from sklearn.model_selection import train_test_split\n",
    "from deepcell_tracking.utils import load_trks\n",
    "\n",
    "# Helper function - get unique tracks\n",
    "def get_n_tracks(array):\n",
    "    # array with dims (batch, time, x, y, c)\n",
    "    n_tracks = 0\n",
    "    for b in array:\n",
    "        n_tracks += len(np.unique(b)) - 1\n",
    "    return n_tracks\n",
    "\n",
    "# Helper function - get unique cells\n",
    "def get_n_cells(array):\n",
    "    # array with dims (batch, time, x, y, c)\n",
    "    n_cells = 0\n",
    "    for b in array:\n",
    "        for t in b:\n",
    "            n_cells += len(np.unique(t)) - 1\n",
    "    return n_cells\n",
    "\n",
    "# Helper function - convert indices\n",
    "def convert_indices(indices, X_list):\n",
    "    N_batches = np.array([x.shape[0] for x in X_list])\n",
    "    N_cumsum = np.cumsum(N_batches)\n",
    "    converted_index = []\n",
    "    for i in range(len(X_list)):\n",
    "        if i==0:\n",
    "            i_index = indices[indices < N_cumsum[i]]\n",
    "            converted_index.append(i_index)\n",
    "        else:\n",
    "            i_index = indices[np.logical_and(indices < N_cumsum[i], indices >= N_cumsum[i-1])] - N_cumsum[i-1]\n",
    "            converted_index.append(i_index)    \n",
    "    return converted_index\n",
    "\n",
    "# Helper function - reshape movies\n",
    "def reshape_list_of_movies(X_list, y_list, reshape_size=128, crop=False):\n",
    "    X_reshape = []\n",
    "    y_reshape = []\n",
    "    for Xl, yl in zip(X_list, y_list):\n",
    "        Xr, yr = reshape_movie(Xl, yl, reshape_size=reshape_size)\n",
    "        Xr = Xr.reshape((-1, reshape_size, reshape_size, Xr.shape[-1]))\n",
    "        yr = yr.reshape((-1, reshape_size, reshape_size, yr.shape[-1]))\n",
    "        X_reshape.append(Xr)\n",
    "        y_reshape.append(yr)\n",
    "    X_reshape = np.concatenate(X_reshape, axis=0)\n",
    "    y_reshape = np.concatenate(y_reshape, axis=0)\n",
    "    \n",
    "    return X_reshape, y_reshape\n",
    "\n",
    "# Load datasets \n",
    "dataset_direc = '/data/training_data/'\n",
    "\n",
    "hela_filename = 'HeLa_S3.trks'\n",
    "hek_filename = 'HEK293.trks'\n",
    "nih_filename = '3T3_NIH.trks'\n",
    "raw_filename = 'RAW2647.trks'\n",
    "\n",
    "filenames = [hela_filename, hek_filename, nih_filename, raw_filename]\n",
    "\n",
    "X_train = []\n",
    "y_train = []\n",
    "\n",
    "X_test = []\n",
    "y_test = []\n",
    "\n",
    "for filename in filenames:\n",
    "    path = os.path.join(dataset_direc, filename)\n",
    "    training_data = load_trks(path)\n",
    "    X = training_data['X']\n",
    "    y = training_data['y']\n",
    "    \n",
    "    print(X.shape, y.shape)\n",
    "    \n",
    "    # Split into training and testing dataset\n",
    "    Xt, Xtest, yt, ytest = train_test_split(X, y, test_size=0.2, random_state=train_test_seed)\n",
    "    \n",
    "    # Crop test dataset\n",
    "    X_test = [arr[:,:,0:128,0:128,:] for arr in X_test]\n",
    "    y_test = [arr[:,:,0:128,0:128,:] for arr in y_test]\n",
    "    \n",
    "    X_train.append(Xt)\n",
    "    y_train.append(yt)\n",
    "    X_test.append(Xtest)\n",
    "    y_test.append(ytest)\n",
    "    \n",
    "# Select subset of the training data\n",
    "N_batches = sum([x.shape[0] for x in X_train])\n",
    "index = np.arange(N_batches)\n",
    "dataset_size = int(dataset_fraction * N_batches)\n",
    "permuted_index = np.random.RandomState(seed=train_permutation_seed).permutation(index)\n",
    "reduced_index = permuted_index[0:dataset_size]\n",
    "converted_index = convert_indices(reduced_index, X_train)\n",
    "\n",
    "X_reduced = [x[ci] for x, ci in zip(X_train, converted_index)]\n",
    "y_reduced = [y[ci] for y, ci in zip(y_train, converted_index)]\n",
    "\n",
    "# Split into training and validation datasets\n",
    "N_batches = sum([x.shape[0] for x in X_reduced])\n",
    "index = np.arange(N_batches)\n",
    "val_size = int(0.2 * N_batches)\n",
    "permuted_index = np.random.RandomState(seed=train_val_seed).permutation(index)\n",
    "val_index = permuted_index[0:val_size]\n",
    "train_index = permuted_index[val_size:]\n",
    "\n",
    "val_ci = convert_indices(val_index, X_reduced)\n",
    "train_ci = convert_indices(train_index, X_reduced)\n",
    "\n",
    "X_train = [x[ci] for x, ci in zip(X_reduced, train_ci)]\n",
    "y_train = [y[ci] for y, ci in zip(y_reduced, train_ci)]\n",
    "\n",
    "X_val = [x[ci] for x, ci in zip(X_reduced, val_ci)]\n",
    "y_val = [y[ci] for y, ci in zip(y_reduced, val_ci)]\n",
    "    \n",
    "# Record the number of tracks and cells\n",
    "n_tracks_train = sum([get_n_tracks(y) for y in y_train])\n",
    "n_tracks_val = sum([get_n_tracks(y) for y in y_val])\n",
    "n_tracks_test = sum([get_n_tracks(y) for y in y_test])\n",
    "\n",
    "n_cells_train = sum([get_n_cells(y) for y in y_train])\n",
    "n_cells_val = sum([get_n_cells(y) for y in y_val])\n",
    "n_cells_test = sum([get_n_cells(y) for y in y_test])\n",
    "    \n",
    "# Reshape the datasets\n",
    "X_train, y_train = reshape_list_of_movies(X_train, y_train)\n",
    "X_val, y_val = reshape_list_of_movies(X_val, y_val)\n",
    "X_test, y_test = reshape_list_of_movies(X_test, y_test)\n",
    "\n",
    "train_dict = {'X':X_train, 'y':y_train}\n",
    "val_dict = {'X':X_val, 'y':y_val}\n",
    "test_dict = {'X':X_test, 'y':y_test}\n",
    "\n",
    "print(X_train.shape, y_train.shape, X_val.shape, y_val.shape)\n",
    "print('Number of training tracks {}'.format(n_tracks_train))\n",
    "print('Number of validation tracks {}'.format(n_tracks_val))\n",
    "print('Number of testing tracks {}'.format(n_tracks_test))\n",
    "\n",
    "print('Number of training cells {}'.format(n_cells_train))\n",
    "print('Number of validation cells {}'.format(n_cells_val))\n",
    "print('Number of testing cells {}'.format(n_cells_test))"
   ]
  },
  {
   "cell_type": "code",
   "execution_count": 5,
   "metadata": {
    "papermill": {
     "duration": 22.471163,
     "end_time": "2020-05-05T19:43:44.405675",
     "exception": false,
     "start_time": "2020-05-05T19:43:21.934512",
     "status": "completed"
    },
    "tags": []
   },
   "outputs": [
    {
     "name": "stderr",
     "output_type": "stream",
     "text": [
      "WARNING: Logging before flag parsing goes to stderr.\n",
      "W0505 19:43:36.136480 139885692258112 retinanet.py:357] Removing 15212 of 66760 images with fewer than 3 objects.\n"
     ]
    },
    {
     "name": "stderr",
     "output_type": "stream",
     "text": [
      "W0505 19:43:43.411063 139885692258112 retinanet.py:357] Removing 2464 of 16040 images with fewer than 3 objects.\n"
     ]
    }
   ],
   "source": [
    "from deepcell.utils.retinanet_anchor_utils import generate_anchor_params\n",
    "from tensorflow.python.keras import backend as K\n",
    "\n",
    "# Get anchor settings for RetinaMask models\n",
    "pyramid_levels = ['P3', 'P4']\n",
    "anchor_size_dict = {'P3':16, 'P4':32}\n",
    "anchor_params = generate_anchor_params(pyramid_levels, anchor_size_dict)\n",
    "\n",
    "# Data augmentation parameters\n",
    "generator_kwargs = {}\n",
    "generator_kwargs['rotation_range'] = 180\n",
    "generator_kwargs['shear_range'] = 0\n",
    "generator_kwargs['zoom_range'] = 0.25\n",
    "generator_kwargs['horizontal_flip'] = True\n",
    "generator_kwargs['vertical_flip'] = True\n",
    "\n",
    "generator_val_kwargs = {}\n",
    "generator_val_kwargs['rotation_range'] = 0\n",
    "generator_val_kwargs['shear_range'] = 0\n",
    "generator_val_kwargs['zoom_range'] = 0\n",
    "generator_val_kwargs['horizontal_flip'] = False\n",
    "generator_val_kwargs['vertical_flip'] = False\n",
    "\n",
    "# Minimum number of objects in an image\n",
    "min_objects = 3 if model_type == 'retinamask' else 0\n",
    "\n",
    "# Random seed\n",
    "seed=808\n",
    "\n",
    "if model_type == 'watershed':\n",
    "    datagen = image_generators.SemanticDataGenerator(**generator_kwargs)\n",
    "    datagen_val = image_generators.SemanticDataGenerator(**generator_val_kwargs)\n",
    "    \n",
    "    train_data = datagen.flow(\n",
    "        train_dict,\n",
    "        seed=seed,\n",
    "        transforms=['centroid', 'watershed-cont', 'fgbg'],\n",
    "        transforms_kwargs={'watershed-cont': {'erosion_width': 1}, 'centroid': {'alpha':'auto', 'beta':0.5}},\n",
    "        min_objects=min_objects,\n",
    "        batch_size=batch_size)\n",
    "\n",
    "    val_data = datagen_val.flow(\n",
    "        val_dict,\n",
    "        seed=seed,\n",
    "        transforms=['centroid', 'watershed-cont', 'fgbg'],\n",
    "        transforms_kwargs={'watershed-cont': {'erosion_width': 1}, 'centroid': {'alpha':'auto', 'beta':0.5}},\n",
    "        min_objects=min_objects,\n",
    "        batch_size=batch_size)\n",
    "    \n",
    "elif model_type == 'pixelwise':\n",
    "    datagen = image_generators.SemanticDataGenerator(**generator_kwargs)\n",
    "    datagen_val = image_generators.SemanticDataGenerator(**generator_val_kwargs)\n",
    "    \n",
    "    train_data = datagen.flow(\n",
    "        train_dict,\n",
    "        seed=seed,\n",
    "        transforms=['pixelwise'],\n",
    "        transforms_kwargs={},\n",
    "        min_objects=min_objects,\n",
    "        batch_size=batch_size)\n",
    "\n",
    "    val_data = datagen_val.flow(\n",
    "        val_dict,\n",
    "        seed=seed,\n",
    "        transforms=['pixelwise'],\n",
    "        transforms_kwargs={},\n",
    "        min_objects=min_objects,\n",
    "        batch_size=batch_size)\n",
    "\n",
    "elif model_type == 'retinamask':\n",
    "    datagen = image_generators.RetinaNetGenerator(**generator_kwargs)\n",
    "    datagen_val = image_generators.RetinaNetGenerator(**generator_val_kwargs)\n",
    "    \n",
    "    train_data = datagen.flow(\n",
    "        train_dict=train_dict,\n",
    "        seed=seed,\n",
    "        transforms=[],\n",
    "        transforms_kwargs={},\n",
    "        min_objects=min_objects,\n",
    "        batch_size=batch_size,\n",
    "        anchor_params=anchor_params,\n",
    "        pyramid_levels=pyramid_levels,\n",
    "        include_masks=True)\n",
    "    \n",
    "    val_data = datagen_val.flow(\n",
    "        train_dict=val_dict,\n",
    "        seed=seed,\n",
    "        transforms=[],\n",
    "        transforms_kwargs={},\n",
    "        min_objects=min_objects,\n",
    "        batch_size=batch_size,\n",
    "        anchor_params=anchor_params,\n",
    "        pyramid_levels=pyramid_levels,\n",
    "        include_masks=True)\n",
    "    "
   ]
  },
  {
   "cell_type": "markdown",
   "metadata": {
    "papermill": {
     "duration": 0.025116,
     "end_time": "2020-05-05T19:43:44.461668",
     "exception": false,
     "start_time": "2020-05-05T19:43:44.436552",
     "status": "completed"
    },
    "tags": []
   },
   "source": [
    "## Part 3: Define model\n",
    "\n",
    "Here we define a PanopticNet to perform the image segmentation. This model will predict the inner distance and outer distance transform (as done in ), as well as the foreground-background transform."
   ]
  },
  {
   "cell_type": "code",
   "execution_count": 6,
   "metadata": {
    "papermill": {
     "duration": 15.273163,
     "end_time": "2020-05-05T19:43:59.760168",
     "exception": false,
     "start_time": "2020-05-05T19:43:44.487005",
     "status": "completed"
    },
    "scrolled": true,
    "tags": []
   },
   "outputs": [
    {
     "name": "stderr",
     "output_type": "stream",
     "text": [
      "W0505 19:43:44.544945 139885692258112 deprecation.py:506] From /usr/local/lib/python3.6/dist-packages/tensorflow/python/ops/init_ops.py:1251: calling VarianceScaling.__init__ (from tensorflow.python.ops.init_ops) with dtype is deprecated and will be removed in a future version.\n",
      "Instructions for updating:\n",
      "Call initializer instance with the dtype argument instead of passing it to the constructor\n"
     ]
    },
    {
     "name": "stderr",
     "output_type": "stream",
     "text": [
      "W0505 19:43:49.855439 139885692258112 deprecation.py:506] From /usr/local/lib/python3.6/dist-packages/tensorflow/python/keras/initializers.py:143: calling RandomNormal.__init__ (from tensorflow.python.ops.init_ops) with dtype is deprecated and will be removed in a future version.\n",
      "Instructions for updating:\n",
      "Call initializer instance with the dtype argument instead of passing it to the constructor\n"
     ]
    },
    {
     "name": "stderr",
     "output_type": "stream",
     "text": [
      "W0505 19:43:57.581827 139885692258112 deprecation.py:323] From /usr/local/lib/python3.6/dist-packages/tensorflow/python/autograph/impl/api.py:255: add_dispatch_support.<locals>.wrapper (from tensorflow.python.ops.array_ops) is deprecated and will be removed in a future version.\n",
      "Instructions for updating:\n",
      "Use tf.where in 2.0, which has the same broadcast rule as np.where\n"
     ]
    },
    {
     "name": "stderr",
     "output_type": "stream",
     "text": [
      "W0505 19:43:58.747170 139885692258112 deprecation.py:506] From /usr/local/lib/python3.6/dist-packages/tensorflow/python/autograph/impl/api.py:255: calling crop_and_resize_v1 (from tensorflow.python.ops.image_ops_impl) with box_ind is deprecated and will be removed in a future version.\n",
      "Instructions for updating:\n",
      "box_ind is deprecated, use box_indices instead\n"
     ]
    },
    {
     "name": "stderr",
     "output_type": "stream",
     "text": [
      "W0505 19:43:59.070719 139885692258112 training_utils.py:1101] Output filtered_detections missing from loss dictionary. We assume this was done on purpose. The fit and evaluate APIs will not be expecting any data to be passed to filtered_detections.\n"
     ]
    },
    {
     "name": "stderr",
     "output_type": "stream",
     "text": [
      "W0505 19:43:59.071638 139885692258112 training_utils.py:1101] Output filtered_detections_1 missing from loss dictionary. We assume this was done on purpose. The fit and evaluate APIs will not be expecting any data to be passed to filtered_detections_1.\n"
     ]
    },
    {
     "name": "stderr",
     "output_type": "stream",
     "text": [
      "W0505 19:43:59.072350 139885692258112 training_utils.py:1101] Output filtered_detections_2 missing from loss dictionary. We assume this was done on purpose. The fit and evaluate APIs will not be expecting any data to be passed to filtered_detections_2.\n"
     ]
    },
    {
     "name": "stderr",
     "output_type": "stream",
     "text": [
      "W0505 19:43:59.073086 139885692258112 training_utils.py:1101] Output mask_submodel missing from loss dictionary. We assume this was done on purpose. The fit and evaluate APIs will not be expecting any data to be passed to mask_submodel.\n"
     ]
    },
    {
     "name": "stdout",
     "output_type": "stream",
     "text": [
      "Model: \"mobilenetv2_retinanet_mask\"\n",
      "__________________________________________________________________________________________________\n",
      "Layer (type)                    Output Shape         Param #     Connected to                     \n",
      "==================================================================================================\n",
      "input_1 (InputLayer)            [(None, 128, 128, 1) 0                                            \n",
      "__________________________________________________________________________________________________\n",
      "image_normalization2d (ImageNor (None, 128, 128, 1)  0           input_1[0][0]                    \n",
      "__________________________________________________________________________________________________\n",
      "tensor_product (TensorProduct)  (None, 128, 128, 3)  6           image_normalization2d[0][0]      \n",
      "__________________________________________________________________________________________________\n",
      "Conv1_pad (ZeroPadding2D)       (None, 129, 129, 3)  0           tensor_product[0][0]             \n",
      "__________________________________________________________________________________________________\n",
      "Conv1 (Conv2D)                  (None, 64, 64, 32)   864         Conv1_pad[0][0]                  \n",
      "__________________________________________________________________________________________________\n",
      "bn_Conv1 (BatchNormalization)   (None, 64, 64, 32)   128         Conv1[0][0]                      \n",
      "__________________________________________________________________________________________________\n",
      "Conv1_relu (ReLU)               (None, 64, 64, 32)   0           bn_Conv1[0][0]                   \n",
      "__________________________________________________________________________________________________\n",
      "expanded_conv_depthwise (Depthw (None, 64, 64, 32)   288         Conv1_relu[0][0]                 \n",
      "__________________________________________________________________________________________________\n",
      "expanded_conv_depthwise_BN (Bat (None, 64, 64, 32)   128         expanded_conv_depthwise[0][0]    \n",
      "__________________________________________________________________________________________________\n",
      "expanded_conv_depthwise_relu (R (None, 64, 64, 32)   0           expanded_conv_depthwise_BN[0][0] \n",
      "__________________________________________________________________________________________________\n",
      "expanded_conv_project (Conv2D)  (None, 64, 64, 16)   512         expanded_conv_depthwise_relu[0][0\n",
      "__________________________________________________________________________________________________\n",
      "expanded_conv_project_BN (Batch (None, 64, 64, 16)   64          expanded_conv_project[0][0]      \n",
      "__________________________________________________________________________________________________\n",
      "block_1_expand (Conv2D)         (None, 64, 64, 96)   1536        expanded_conv_project_BN[0][0]   \n",
      "__________________________________________________________________________________________________\n",
      "block_1_expand_BN (BatchNormali (None, 64, 64, 96)   384         block_1_expand[0][0]             \n",
      "__________________________________________________________________________________________________\n",
      "block_1_expand_relu (ReLU)      (None, 64, 64, 96)   0           block_1_expand_BN[0][0]          \n",
      "__________________________________________________________________________________________________\n",
      "block_1_pad (ZeroPadding2D)     (None, 65, 65, 96)   0           block_1_expand_relu[0][0]        \n",
      "__________________________________________________________________________________________________\n",
      "block_1_depthwise (DepthwiseCon (None, 32, 32, 96)   864         block_1_pad[0][0]                \n",
      "__________________________________________________________________________________________________\n",
      "block_1_depthwise_BN (BatchNorm (None, 32, 32, 96)   384         block_1_depthwise[0][0]          \n",
      "__________________________________________________________________________________________________\n",
      "block_1_depthwise_relu (ReLU)   (None, 32, 32, 96)   0           block_1_depthwise_BN[0][0]       \n",
      "__________________________________________________________________________________________________\n",
      "block_1_project (Conv2D)        (None, 32, 32, 24)   2304        block_1_depthwise_relu[0][0]     \n",
      "__________________________________________________________________________________________________\n",
      "block_1_project_BN (BatchNormal (None, 32, 32, 24)   96          block_1_project[0][0]            \n",
      "__________________________________________________________________________________________________\n",
      "block_2_expand (Conv2D)         (None, 32, 32, 144)  3456        block_1_project_BN[0][0]         \n",
      "__________________________________________________________________________________________________\n",
      "block_2_expand_BN (BatchNormali (None, 32, 32, 144)  576         block_2_expand[0][0]             \n",
      "__________________________________________________________________________________________________\n",
      "block_2_expand_relu (ReLU)      (None, 32, 32, 144)  0           block_2_expand_BN[0][0]          \n",
      "__________________________________________________________________________________________________\n",
      "block_2_depthwise (DepthwiseCon (None, 32, 32, 144)  1296        block_2_expand_relu[0][0]        \n",
      "__________________________________________________________________________________________________\n",
      "block_2_depthwise_BN (BatchNorm (None, 32, 32, 144)  576         block_2_depthwise[0][0]          \n",
      "__________________________________________________________________________________________________\n",
      "block_2_depthwise_relu (ReLU)   (None, 32, 32, 144)  0           block_2_depthwise_BN[0][0]       \n",
      "__________________________________________________________________________________________________\n",
      "block_2_project (Conv2D)        (None, 32, 32, 24)   3456        block_2_depthwise_relu[0][0]     \n",
      "__________________________________________________________________________________________________\n",
      "block_2_project_BN (BatchNormal (None, 32, 32, 24)   96          block_2_project[0][0]            \n",
      "__________________________________________________________________________________________________\n",
      "block_2_add (Add)               (None, 32, 32, 24)   0           block_1_project_BN[0][0]         \n",
      "                                                                 block_2_project_BN[0][0]         \n",
      "__________________________________________________________________________________________________\n",
      "block_3_expand (Conv2D)         (None, 32, 32, 144)  3456        block_2_add[0][0]                \n",
      "__________________________________________________________________________________________________\n",
      "block_3_expand_BN (BatchNormali (None, 32, 32, 144)  576         block_3_expand[0][0]             \n",
      "__________________________________________________________________________________________________\n",
      "block_3_expand_relu (ReLU)      (None, 32, 32, 144)  0           block_3_expand_BN[0][0]          \n",
      "__________________________________________________________________________________________________\n",
      "block_3_pad (ZeroPadding2D)     (None, 33, 33, 144)  0           block_3_expand_relu[0][0]        \n",
      "__________________________________________________________________________________________________\n",
      "block_3_depthwise (DepthwiseCon (None, 16, 16, 144)  1296        block_3_pad[0][0]                \n",
      "__________________________________________________________________________________________________\n",
      "block_3_depthwise_BN (BatchNorm (None, 16, 16, 144)  576         block_3_depthwise[0][0]          \n",
      "__________________________________________________________________________________________________\n",
      "block_3_depthwise_relu (ReLU)   (None, 16, 16, 144)  0           block_3_depthwise_BN[0][0]       \n",
      "__________________________________________________________________________________________________\n",
      "block_3_project (Conv2D)        (None, 16, 16, 32)   4608        block_3_depthwise_relu[0][0]     \n",
      "__________________________________________________________________________________________________\n",
      "block_3_project_BN (BatchNormal (None, 16, 16, 32)   128         block_3_project[0][0]            \n",
      "__________________________________________________________________________________________________\n",
      "block_4_expand (Conv2D)         (None, 16, 16, 192)  6144        block_3_project_BN[0][0]         \n",
      "__________________________________________________________________________________________________\n",
      "block_4_expand_BN (BatchNormali (None, 16, 16, 192)  768         block_4_expand[0][0]             \n",
      "__________________________________________________________________________________________________\n",
      "block_4_expand_relu (ReLU)      (None, 16, 16, 192)  0           block_4_expand_BN[0][0]          \n",
      "__________________________________________________________________________________________________\n",
      "block_4_depthwise (DepthwiseCon (None, 16, 16, 192)  1728        block_4_expand_relu[0][0]        \n",
      "__________________________________________________________________________________________________\n",
      "block_4_depthwise_BN (BatchNorm (None, 16, 16, 192)  768         block_4_depthwise[0][0]          \n",
      "__________________________________________________________________________________________________\n",
      "block_4_depthwise_relu (ReLU)   (None, 16, 16, 192)  0           block_4_depthwise_BN[0][0]       \n",
      "__________________________________________________________________________________________________\n",
      "block_4_project (Conv2D)        (None, 16, 16, 32)   6144        block_4_depthwise_relu[0][0]     \n",
      "__________________________________________________________________________________________________\n",
      "block_4_project_BN (BatchNormal (None, 16, 16, 32)   128         block_4_project[0][0]            \n",
      "__________________________________________________________________________________________________\n",
      "block_4_add (Add)               (None, 16, 16, 32)   0           block_3_project_BN[0][0]         \n",
      "                                                                 block_4_project_BN[0][0]         \n",
      "__________________________________________________________________________________________________\n",
      "block_5_expand (Conv2D)         (None, 16, 16, 192)  6144        block_4_add[0][0]                \n",
      "__________________________________________________________________________________________________\n",
      "block_5_expand_BN (BatchNormali (None, 16, 16, 192)  768         block_5_expand[0][0]             \n",
      "__________________________________________________________________________________________________\n",
      "block_5_expand_relu (ReLU)      (None, 16, 16, 192)  0           block_5_expand_BN[0][0]          \n",
      "__________________________________________________________________________________________________\n",
      "block_5_depthwise (DepthwiseCon (None, 16, 16, 192)  1728        block_5_expand_relu[0][0]        \n",
      "__________________________________________________________________________________________________\n",
      "block_5_depthwise_BN (BatchNorm (None, 16, 16, 192)  768         block_5_depthwise[0][0]          \n",
      "__________________________________________________________________________________________________\n",
      "block_5_depthwise_relu (ReLU)   (None, 16, 16, 192)  0           block_5_depthwise_BN[0][0]       \n",
      "__________________________________________________________________________________________________\n",
      "block_5_project (Conv2D)        (None, 16, 16, 32)   6144        block_5_depthwise_relu[0][0]     \n",
      "__________________________________________________________________________________________________\n",
      "block_5_project_BN (BatchNormal (None, 16, 16, 32)   128         block_5_project[0][0]            \n",
      "__________________________________________________________________________________________________\n",
      "block_5_add (Add)               (None, 16, 16, 32)   0           block_4_add[0][0]                \n",
      "                                                                 block_5_project_BN[0][0]         \n",
      "__________________________________________________________________________________________________\n",
      "block_6_expand (Conv2D)         (None, 16, 16, 192)  6144        block_5_add[0][0]                \n",
      "__________________________________________________________________________________________________\n",
      "block_6_expand_BN (BatchNormali (None, 16, 16, 192)  768         block_6_expand[0][0]             \n",
      "__________________________________________________________________________________________________\n",
      "block_6_expand_relu (ReLU)      (None, 16, 16, 192)  0           block_6_expand_BN[0][0]          \n",
      "__________________________________________________________________________________________________\n",
      "block_6_pad (ZeroPadding2D)     (None, 17, 17, 192)  0           block_6_expand_relu[0][0]        \n",
      "__________________________________________________________________________________________________\n",
      "block_6_depthwise (DepthwiseCon (None, 8, 8, 192)    1728        block_6_pad[0][0]                \n",
      "__________________________________________________________________________________________________\n",
      "block_6_depthwise_BN (BatchNorm (None, 8, 8, 192)    768         block_6_depthwise[0][0]          \n",
      "__________________________________________________________________________________________________\n",
      "block_6_depthwise_relu (ReLU)   (None, 8, 8, 192)    0           block_6_depthwise_BN[0][0]       \n",
      "__________________________________________________________________________________________________\n",
      "block_6_project (Conv2D)        (None, 8, 8, 64)     12288       block_6_depthwise_relu[0][0]     \n",
      "__________________________________________________________________________________________________\n",
      "block_6_project_BN (BatchNormal (None, 8, 8, 64)     256         block_6_project[0][0]            \n",
      "__________________________________________________________________________________________________\n",
      "block_7_expand (Conv2D)         (None, 8, 8, 384)    24576       block_6_project_BN[0][0]         \n",
      "__________________________________________________________________________________________________\n",
      "block_7_expand_BN (BatchNormali (None, 8, 8, 384)    1536        block_7_expand[0][0]             \n",
      "__________________________________________________________________________________________________\n",
      "block_7_expand_relu (ReLU)      (None, 8, 8, 384)    0           block_7_expand_BN[0][0]          \n",
      "__________________________________________________________________________________________________\n",
      "block_7_depthwise (DepthwiseCon (None, 8, 8, 384)    3456        block_7_expand_relu[0][0]        \n",
      "__________________________________________________________________________________________________\n",
      "block_7_depthwise_BN (BatchNorm (None, 8, 8, 384)    1536        block_7_depthwise[0][0]          \n",
      "__________________________________________________________________________________________________\n",
      "block_7_depthwise_relu (ReLU)   (None, 8, 8, 384)    0           block_7_depthwise_BN[0][0]       \n",
      "__________________________________________________________________________________________________\n",
      "block_7_project (Conv2D)        (None, 8, 8, 64)     24576       block_7_depthwise_relu[0][0]     \n",
      "__________________________________________________________________________________________________\n",
      "block_7_project_BN (BatchNormal (None, 8, 8, 64)     256         block_7_project[0][0]            \n",
      "__________________________________________________________________________________________________\n",
      "block_7_add (Add)               (None, 8, 8, 64)     0           block_6_project_BN[0][0]         \n",
      "                                                                 block_7_project_BN[0][0]         \n",
      "__________________________________________________________________________________________________\n",
      "block_8_expand (Conv2D)         (None, 8, 8, 384)    24576       block_7_add[0][0]                \n",
      "__________________________________________________________________________________________________\n",
      "block_8_expand_BN (BatchNormali (None, 8, 8, 384)    1536        block_8_expand[0][0]             \n",
      "__________________________________________________________________________________________________\n",
      "block_8_expand_relu (ReLU)      (None, 8, 8, 384)    0           block_8_expand_BN[0][0]          \n",
      "__________________________________________________________________________________________________\n",
      "block_8_depthwise (DepthwiseCon (None, 8, 8, 384)    3456        block_8_expand_relu[0][0]        \n",
      "__________________________________________________________________________________________________\n",
      "block_8_depthwise_BN (BatchNorm (None, 8, 8, 384)    1536        block_8_depthwise[0][0]          \n",
      "__________________________________________________________________________________________________\n",
      "block_8_depthwise_relu (ReLU)   (None, 8, 8, 384)    0           block_8_depthwise_BN[0][0]       \n",
      "__________________________________________________________________________________________________\n",
      "block_8_project (Conv2D)        (None, 8, 8, 64)     24576       block_8_depthwise_relu[0][0]     \n",
      "__________________________________________________________________________________________________\n",
      "block_8_project_BN (BatchNormal (None, 8, 8, 64)     256         block_8_project[0][0]            \n",
      "__________________________________________________________________________________________________\n",
      "block_8_add (Add)               (None, 8, 8, 64)     0           block_7_add[0][0]                \n",
      "                                                                 block_8_project_BN[0][0]         \n",
      "__________________________________________________________________________________________________\n",
      "block_9_expand (Conv2D)         (None, 8, 8, 384)    24576       block_8_add[0][0]                \n",
      "__________________________________________________________________________________________________\n",
      "block_9_expand_BN (BatchNormali (None, 8, 8, 384)    1536        block_9_expand[0][0]             \n",
      "__________________________________________________________________________________________________\n",
      "block_9_expand_relu (ReLU)      (None, 8, 8, 384)    0           block_9_expand_BN[0][0]          \n",
      "__________________________________________________________________________________________________\n",
      "block_9_depthwise (DepthwiseCon (None, 8, 8, 384)    3456        block_9_expand_relu[0][0]        \n",
      "__________________________________________________________________________________________________\n",
      "block_9_depthwise_BN (BatchNorm (None, 8, 8, 384)    1536        block_9_depthwise[0][0]          \n",
      "__________________________________________________________________________________________________\n",
      "block_9_depthwise_relu (ReLU)   (None, 8, 8, 384)    0           block_9_depthwise_BN[0][0]       \n",
      "__________________________________________________________________________________________________\n",
      "block_9_project (Conv2D)        (None, 8, 8, 64)     24576       block_9_depthwise_relu[0][0]     \n",
      "__________________________________________________________________________________________________\n",
      "block_9_project_BN (BatchNormal (None, 8, 8, 64)     256         block_9_project[0][0]            \n",
      "__________________________________________________________________________________________________\n",
      "block_9_add (Add)               (None, 8, 8, 64)     0           block_8_add[0][0]                \n",
      "                                                                 block_9_project_BN[0][0]         \n",
      "__________________________________________________________________________________________________\n",
      "block_10_expand (Conv2D)        (None, 8, 8, 384)    24576       block_9_add[0][0]                \n",
      "__________________________________________________________________________________________________\n",
      "block_10_expand_BN (BatchNormal (None, 8, 8, 384)    1536        block_10_expand[0][0]            \n",
      "__________________________________________________________________________________________________\n",
      "block_10_expand_relu (ReLU)     (None, 8, 8, 384)    0           block_10_expand_BN[0][0]         \n",
      "__________________________________________________________________________________________________\n",
      "block_10_depthwise (DepthwiseCo (None, 8, 8, 384)    3456        block_10_expand_relu[0][0]       \n",
      "__________________________________________________________________________________________________\n",
      "block_10_depthwise_BN (BatchNor (None, 8, 8, 384)    1536        block_10_depthwise[0][0]         \n",
      "__________________________________________________________________________________________________\n",
      "block_10_depthwise_relu (ReLU)  (None, 8, 8, 384)    0           block_10_depthwise_BN[0][0]      \n",
      "__________________________________________________________________________________________________\n",
      "block_10_project (Conv2D)       (None, 8, 8, 96)     36864       block_10_depthwise_relu[0][0]    \n",
      "__________________________________________________________________________________________________\n",
      "block_10_project_BN (BatchNorma (None, 8, 8, 96)     384         block_10_project[0][0]           \n",
      "__________________________________________________________________________________________________\n",
      "block_11_expand (Conv2D)        (None, 8, 8, 576)    55296       block_10_project_BN[0][0]        \n",
      "__________________________________________________________________________________________________\n",
      "block_11_expand_BN (BatchNormal (None, 8, 8, 576)    2304        block_11_expand[0][0]            \n",
      "__________________________________________________________________________________________________\n",
      "block_11_expand_relu (ReLU)     (None, 8, 8, 576)    0           block_11_expand_BN[0][0]         \n",
      "__________________________________________________________________________________________________\n",
      "block_11_depthwise (DepthwiseCo (None, 8, 8, 576)    5184        block_11_expand_relu[0][0]       \n",
      "__________________________________________________________________________________________________\n",
      "block_11_depthwise_BN (BatchNor (None, 8, 8, 576)    2304        block_11_depthwise[0][0]         \n",
      "__________________________________________________________________________________________________\n",
      "block_11_depthwise_relu (ReLU)  (None, 8, 8, 576)    0           block_11_depthwise_BN[0][0]      \n",
      "__________________________________________________________________________________________________\n",
      "block_11_project (Conv2D)       (None, 8, 8, 96)     55296       block_11_depthwise_relu[0][0]    \n",
      "__________________________________________________________________________________________________\n",
      "block_11_project_BN (BatchNorma (None, 8, 8, 96)     384         block_11_project[0][0]           \n",
      "__________________________________________________________________________________________________\n",
      "block_11_add (Add)              (None, 8, 8, 96)     0           block_10_project_BN[0][0]        \n",
      "                                                                 block_11_project_BN[0][0]        \n",
      "__________________________________________________________________________________________________\n",
      "block_12_expand (Conv2D)        (None, 8, 8, 576)    55296       block_11_add[0][0]               \n",
      "__________________________________________________________________________________________________\n",
      "block_12_expand_BN (BatchNormal (None, 8, 8, 576)    2304        block_12_expand[0][0]            \n",
      "__________________________________________________________________________________________________\n",
      "block_12_expand_relu (ReLU)     (None, 8, 8, 576)    0           block_12_expand_BN[0][0]         \n",
      "__________________________________________________________________________________________________\n",
      "block_12_depthwise (DepthwiseCo (None, 8, 8, 576)    5184        block_12_expand_relu[0][0]       \n",
      "__________________________________________________________________________________________________\n",
      "block_12_depthwise_BN (BatchNor (None, 8, 8, 576)    2304        block_12_depthwise[0][0]         \n",
      "__________________________________________________________________________________________________\n",
      "block_12_depthwise_relu (ReLU)  (None, 8, 8, 576)    0           block_12_depthwise_BN[0][0]      \n",
      "__________________________________________________________________________________________________\n",
      "block_12_project (Conv2D)       (None, 8, 8, 96)     55296       block_12_depthwise_relu[0][0]    \n",
      "__________________________________________________________________________________________________\n",
      "block_12_project_BN (BatchNorma (None, 8, 8, 96)     384         block_12_project[0][0]           \n",
      "__________________________________________________________________________________________________\n",
      "block_12_add (Add)              (None, 8, 8, 96)     0           block_11_add[0][0]               \n",
      "                                                                 block_12_project_BN[0][0]        \n",
      "__________________________________________________________________________________________________\n",
      "block_13_expand (Conv2D)        (None, 8, 8, 576)    55296       block_12_add[0][0]               \n",
      "__________________________________________________________________________________________________\n",
      "block_13_expand_BN (BatchNormal (None, 8, 8, 576)    2304        block_13_expand[0][0]            \n",
      "__________________________________________________________________________________________________\n",
      "block_13_expand_relu (ReLU)     (None, 8, 8, 576)    0           block_13_expand_BN[0][0]         \n",
      "__________________________________________________________________________________________________\n",
      "block_13_pad (ZeroPadding2D)    (None, 9, 9, 576)    0           block_13_expand_relu[0][0]       \n",
      "__________________________________________________________________________________________________\n",
      "block_13_depthwise (DepthwiseCo (None, 4, 4, 576)    5184        block_13_pad[0][0]               \n",
      "__________________________________________________________________________________________________\n",
      "block_13_depthwise_BN (BatchNor (None, 4, 4, 576)    2304        block_13_depthwise[0][0]         \n",
      "__________________________________________________________________________________________________\n",
      "block_13_depthwise_relu (ReLU)  (None, 4, 4, 576)    0           block_13_depthwise_BN[0][0]      \n",
      "__________________________________________________________________________________________________\n",
      "block_13_project (Conv2D)       (None, 4, 4, 160)    92160       block_13_depthwise_relu[0][0]    \n",
      "__________________________________________________________________________________________________\n",
      "block_13_project_BN (BatchNorma (None, 4, 4, 160)    640         block_13_project[0][0]           \n",
      "__________________________________________________________________________________________________\n",
      "block_14_expand (Conv2D)        (None, 4, 4, 960)    153600      block_13_project_BN[0][0]        \n",
      "__________________________________________________________________________________________________\n",
      "block_14_expand_BN (BatchNormal (None, 4, 4, 960)    3840        block_14_expand[0][0]            \n",
      "__________________________________________________________________________________________________\n",
      "block_14_expand_relu (ReLU)     (None, 4, 4, 960)    0           block_14_expand_BN[0][0]         \n",
      "__________________________________________________________________________________________________\n",
      "block_14_depthwise (DepthwiseCo (None, 4, 4, 960)    8640        block_14_expand_relu[0][0]       \n",
      "__________________________________________________________________________________________________\n",
      "block_14_depthwise_BN (BatchNor (None, 4, 4, 960)    3840        block_14_depthwise[0][0]         \n",
      "__________________________________________________________________________________________________\n",
      "block_14_depthwise_relu (ReLU)  (None, 4, 4, 960)    0           block_14_depthwise_BN[0][0]      \n",
      "__________________________________________________________________________________________________\n",
      "block_14_project (Conv2D)       (None, 4, 4, 160)    153600      block_14_depthwise_relu[0][0]    \n",
      "__________________________________________________________________________________________________\n",
      "block_14_project_BN (BatchNorma (None, 4, 4, 160)    640         block_14_project[0][0]           \n",
      "__________________________________________________________________________________________________\n",
      "block_14_add (Add)              (None, 4, 4, 160)    0           block_13_project_BN[0][0]        \n",
      "                                                                 block_14_project_BN[0][0]        \n",
      "__________________________________________________________________________________________________\n",
      "block_15_expand (Conv2D)        (None, 4, 4, 960)    153600      block_14_add[0][0]               \n",
      "__________________________________________________________________________________________________\n",
      "block_15_expand_BN (BatchNormal (None, 4, 4, 960)    3840        block_15_expand[0][0]            \n",
      "__________________________________________________________________________________________________\n",
      "block_15_expand_relu (ReLU)     (None, 4, 4, 960)    0           block_15_expand_BN[0][0]         \n",
      "__________________________________________________________________________________________________\n",
      "block_15_depthwise (DepthwiseCo (None, 4, 4, 960)    8640        block_15_expand_relu[0][0]       \n",
      "__________________________________________________________________________________________________\n",
      "block_15_depthwise_BN (BatchNor (None, 4, 4, 960)    3840        block_15_depthwise[0][0]         \n",
      "__________________________________________________________________________________________________\n",
      "block_15_depthwise_relu (ReLU)  (None, 4, 4, 960)    0           block_15_depthwise_BN[0][0]      \n",
      "__________________________________________________________________________________________________\n",
      "block_15_project (Conv2D)       (None, 4, 4, 160)    153600      block_15_depthwise_relu[0][0]    \n",
      "__________________________________________________________________________________________________\n",
      "block_15_project_BN (BatchNorma (None, 4, 4, 160)    640         block_15_project[0][0]           \n",
      "__________________________________________________________________________________________________\n",
      "block_15_add (Add)              (None, 4, 4, 160)    0           block_14_add[0][0]               \n",
      "                                                                 block_15_project_BN[0][0]        \n",
      "__________________________________________________________________________________________________\n",
      "block_16_expand (Conv2D)        (None, 4, 4, 960)    153600      block_15_add[0][0]               \n",
      "__________________________________________________________________________________________________\n",
      "block_16_expand_BN (BatchNormal (None, 4, 4, 960)    3840        block_16_expand[0][0]            \n",
      "__________________________________________________________________________________________________\n",
      "block_16_expand_relu (ReLU)     (None, 4, 4, 960)    0           block_16_expand_BN[0][0]         \n",
      "__________________________________________________________________________________________________\n",
      "block_16_depthwise (DepthwiseCo (None, 4, 4, 960)    8640        block_16_expand_relu[0][0]       \n",
      "__________________________________________________________________________________________________\n",
      "block_16_depthwise_BN (BatchNor (None, 4, 4, 960)    3840        block_16_depthwise[0][0]         \n",
      "__________________________________________________________________________________________________\n",
      "block_16_depthwise_relu (ReLU)  (None, 4, 4, 960)    0           block_16_depthwise_BN[0][0]      \n",
      "__________________________________________________________________________________________________\n",
      "block_16_project (Conv2D)       (None, 4, 4, 320)    307200      block_16_depthwise_relu[0][0]    \n",
      "__________________________________________________________________________________________________\n",
      "block_16_project_BN (BatchNorma (None, 4, 4, 320)    1280        block_16_project[0][0]           \n",
      "__________________________________________________________________________________________________\n",
      "C5_reduced (Conv2D)             (None, 4, 4, 256)    82176       block_16_project_BN[0][0]        \n",
      "__________________________________________________________________________________________________\n",
      "C4_reduced (Conv2D)             (None, 8, 8, 256)    24832       block_12_add[0][0]               \n",
      "__________________________________________________________________________________________________\n",
      "P5_upsampled (UpsampleLike)     (None, None, None, 2 0           C5_reduced[0][0]                 \n",
      "                                                                 block_12_add[0][0]               \n",
      "__________________________________________________________________________________________________\n",
      "P4_merged (Add)                 (None, 8, 8, 256)    0           C4_reduced[0][0]                 \n",
      "                                                                 P5_upsampled[0][0]               \n",
      "__________________________________________________________________________________________________\n",
      "C3_reduced (Conv2D)             (None, 16, 16, 256)  8448        block_5_add[0][0]                \n",
      "__________________________________________________________________________________________________\n",
      "P4_upsampled (UpsampleLike)     (None, None, None, 2 0           P4_merged[0][0]                  \n",
      "                                                                 block_5_add[0][0]                \n",
      "__________________________________________________________________________________________________\n",
      "P3_merged (Add)                 (None, 16, 16, 256)  0           C3_reduced[0][0]                 \n",
      "                                                                 P4_upsampled[0][0]               \n",
      "__________________________________________________________________________________________________\n",
      "P3 (Conv2D)                     (None, 16, 16, 256)  590080      P3_merged[0][0]                  \n",
      "__________________________________________________________________________________________________\n",
      "P4 (Conv2D)                     (None, 8, 8, 256)    590080      P4_merged[0][0]                  \n",
      "__________________________________________________________________________________________________\n",
      "regression_submodel (Model)     (None, None, 4)      2443300     P3[0][0]                         \n",
      "                                                                 P4[0][0]                         \n",
      "__________________________________________________________________________________________________\n",
      "anchors_0 (Anchors)             (None, None, 4)      36          P3[0][0]                         \n",
      "__________________________________________________________________________________________________\n",
      "anchors_1 (Anchors)             (None, None, 4)      36          P4[0][0]                         \n",
      "__________________________________________________________________________________________________\n",
      "regression (Concatenate)        (None, None, 4)      0           regression_submodel[1][0]        \n",
      "                                                                 regression_submodel[2][0]        \n",
      "__________________________________________________________________________________________________\n",
      "anchors (Concatenate)           (None, None, 4)      0           anchors_0[0][0]                  \n",
      "                                                                 anchors_1[0][0]                  \n",
      "__________________________________________________________________________________________________\n",
      "classification_submodel (Model) (None, None, 1)      2381065     P3[0][0]                         \n",
      "                                                                 P4[0][0]                         \n",
      "__________________________________________________________________________________________________\n",
      "boxes (RegressBoxes)            (None, None, 4)      0           anchors[0][0]                    \n",
      "                                                                 regression[0][0]                 \n",
      "__________________________________________________________________________________________________\n",
      "classification (Concatenate)    (None, None, 1)      0           classification_submodel[1][0]    \n",
      "                                                                 classification_submodel[2][0]    \n",
      "__________________________________________________________________________________________________\n",
      "clipped_boxes (ClipBoxes)       (None, None, 4)      0           input_1[0][0]                    \n",
      "                                                                 boxes[0][0]                      \n",
      "__________________________________________________________________________________________________\n",
      "filtered_detections (FilterDete [(None, 100, 4), (No 0           clipped_boxes[0][0]              \n",
      "                                                                 classification[0][0]             \n",
      "__________________________________________________________________________________________________\n",
      "upsample_like (UpsampleLike)    (None, None, None, 2 0           P3[0][0]                         \n",
      "                                                                 input_1[0][0]                    \n",
      "__________________________________________________________________________________________________\n",
      "roi_align (RoiAlign)            (None, 100, 14, 14,  0           filtered_detections[0][0]        \n",
      "                                                                 upsample_like[0][0]              \n",
      "__________________________________________________________________________________________________\n",
      "mask_submodel (Model)           multiple             2950657     roi_align[0][0]                  \n",
      "__________________________________________________________________________________________________\n",
      "masks (ConcatenateBoxes)        (None, 100, None)    0           filtered_detections[0][0]        \n",
      "                                                                 mask_submodel[1][0]              \n",
      "==================================================================================================\n",
      "Total params: 10,913,980\n",
      "Trainable params: 10,882,428\n",
      "Non-trainable params: 31,552\n",
      "__________________________________________________________________________________________________\n"
     ]
    }
   ],
   "source": [
    "from deepcell.model_zoo.panopticnet import PanopticNet\n",
    "from deepcell.model_zoo.retinamask import RetinaMask\n",
    "from deepcell import losses\n",
    "from tensorflow.keras.optimizers import Adam\n",
    "from tensorflow.python.keras.losses import MSE\n",
    "\n",
    "# Define optimizer\n",
    "optimizer = Adam(lr=1e-4, clipnorm=0.001)\n",
    "    \n",
    "if model_type == 'watershed':\n",
    "    model = PanopticNet(backbone,\n",
    "                       input_shape=train_data.x.shape[1:],\n",
    "                       norm_method='whole_image',\n",
    "                       num_semantic_heads=3,\n",
    "                       num_semantic_classes=[1,1,2],\n",
    "                       location=True,\n",
    "                       include_top=True,\n",
    "                       interpolation='bilinear',\n",
    "                       lite=True)\n",
    "\n",
    "    # Define loss\n",
    "    loss_layers = ['semantic_0', 'semantic_1', 'semantic_2']\n",
    "    loss = {}\n",
    "\n",
    "    for layer_name in loss_layers:\n",
    "        n_classes = model.get_layer(layer_name).output_shape[-1]\n",
    "        if n_classes > 1:\n",
    "            def loss_function(y_true, y_pred):\n",
    "                return 0.01 * losses.weighted_categorical_crossentropy(\n",
    "                    y_true, y_pred, n_classes=n_classes)\n",
    "            loss[layer_name] = loss_function\n",
    "        elif n_classes == 1:\n",
    "            loss[layer_name] = MSE\n",
    "\n",
    "    # Compile model\n",
    "    model.compile(loss=loss, optimizer=optimizer)\n",
    "    \n",
    "elif model_type == 'pixelwise':\n",
    "    model = PanopticNet(backbone,\n",
    "                       input_shape=train_data.x.shape[1:],\n",
    "                       norm_method='whole_image',\n",
    "                       num_semantic_heads=1,\n",
    "                       num_semantic_classes=[3],\n",
    "                       location=False,\n",
    "                       include_top=True)\n",
    "\n",
    "    # Define loss\n",
    "    loss = {}\n",
    "    \n",
    "    def loss_function(y_true, y_pred):\n",
    "        return losses.weighted_categorical_crossentropy(\n",
    "                    y_true, y_pred, n_classes=3)\n",
    "    \n",
    "    loss['semantic_0'] = loss_function\n",
    "    \n",
    "    # Compile model\n",
    "    model.compile(loss=loss, optimizer=optimizer)\n",
    "    \n",
    "elif model_type == 'retinamask':\n",
    "    model = RetinaMask(backbone,\n",
    "                      num_classes=1,\n",
    "                      input_shape=train_data.x.shape[1:],\n",
    "                      norm_method='whole_image',\n",
    "                      use_imagenet=False,\n",
    "                      pyramid_levels=pyramid_levels,\n",
    "                      anchor_params=anchor_params)\n",
    "    \n",
    "    # Define loss\n",
    "    retinanet_losses = losses.RetinaNetLosses()\n",
    "    loss = {\n",
    "        'regression': retinanet_losses.regress_loss,\n",
    "        'classification': retinanet_losses.classification_loss,\n",
    "        'masks': retinanet_losses.mask_loss\n",
    "    }\n",
    "    \n",
    "    # Compile model\n",
    "    model.compile(loss=loss, optimizer=optimizer)\n",
    "    \n",
    "model.summary()"
   ]
  },
  {
   "cell_type": "markdown",
   "metadata": {
    "papermill": {
     "duration": 0.030433,
     "end_time": "2020-05-05T19:43:59.823327",
     "exception": false,
     "start_time": "2020-05-05T19:43:59.792894",
     "status": "completed"
    },
    "tags": []
   },
   "source": [
    "## Part 4: Define model training parameters\n",
    "\n",
    "Here, we define all of the parameters needed for training. The model trainer objects will record these metadata after training."
   ]
  },
  {
   "cell_type": "code",
   "execution_count": 7,
   "metadata": {
    "papermill": {
     "duration": 0.051409,
     "end_time": "2020-05-05T19:43:59.905662",
     "exception": false,
     "start_time": "2020-05-05T19:43:59.854253",
     "status": "completed"
    },
    "tags": []
   },
   "outputs": [],
   "source": [
    "model_name = 'nuclear_{}_{}_{}_{}'.format(str(train_permutation_seed), dataset_fraction, backbone, model_type)\n",
    "model_path = os.path.join('/data', 'models', date, model_name)\n",
    "dataset_metadata={'name': dataset_name,\n",
    "                  'other': 'Pooled nuclear data from HEK293, HeLa-S3, NIH-3T3, and RAW264.7 cells.'}\n",
    "training_kwargs = {}\n",
    "training_kwargs['batch_size'] = batch_size\n",
    "training_kwargs['lr'] = 1e-5 if model_type=='retinamask' else 1e-4\n",
    "training_kwargs['lr_decay'] = 0.95\n",
    "training_kwargs['training_seed'] = 0\n",
    "training_kwargs['n_epochs'] = n_epochs\n",
    "training_kwargs['training_steps_per_epoch'] = 82800//16 if model_type == 'retinamask' else 82800 // training_kwargs['batch_size']\n",
    "training_kwargs['validation_steps_per_epoch'] = val_data.y.shape[0] // training_kwargs['batch_size']"
   ]
  },
  {
   "cell_type": "markdown",
   "metadata": {
    "papermill": {
     "duration": 0.030902,
     "end_time": "2020-05-05T19:43:59.969398",
     "exception": false,
     "start_time": "2020-05-05T19:43:59.938496",
     "status": "completed"
    },
    "tags": []
   },
   "source": [
    "## Part 5: Create the model trainer and train the model\n",
    "\n",
    "Here, we create the model trainer, train the model, and export the model - along with the metadata and benchmarks"
   ]
  },
  {
   "cell_type": "code",
   "execution_count": 8,
   "metadata": {
    "papermill": {
     "duration": 0.109752,
     "end_time": "2020-05-05T19:44:00.110066",
     "exception": false,
     "start_time": "2020-05-05T19:44:00.000314",
     "status": "completed"
    },
    "tags": []
   },
   "outputs": [],
   "source": [
    "from __future__ import absolute_import\n",
    "from __future__ import print_function\n",
    "from __future__ import division\n",
    "\n",
    "import os\n",
    "import json\n",
    "import hashlib\n",
    "import numpy as np\n",
    "\n",
    "from skimage.morphology import remove_small_objects\n",
    "\n",
    "from deepcell.utils.export_utils import export_model\n",
    "from deepcell.utils.train_utils import rate_scheduler, get_callbacks\n",
    "from deepcell.metrics import Metrics\n",
    "\n",
    "from tensorflow.python.compiler.tensorrt import trt_convert as trt\n",
    "\n",
    "class ModelTrainer(object):\n",
    "    def __init__(self, \n",
    "                model,\n",
    "                model_name,\n",
    "                model_path,\n",
    "                train_generator,\n",
    "                validation_generator,\n",
    "                benchmarking_data=None,\n",
    "                log_dir=None,\n",
    "                tfserving_path=None,\n",
    "                training_callbacks='default',\n",
    "                max_batch_size=256,\n",
    "                export_precisions = ['fp16'],\n",
    "                postprocessing_fn=None,\n",
    "                postprocessing_kwargs={},\n",
    "                predict_batch_size=4,\n",
    "                model_version=0,\n",
    "                min_size=100,\n",
    "                dataset_metadata={},\n",
    "                training_kwargs={}):\n",
    "    \n",
    "        \"\"\"\n",
    "        Model trainer class for segmentation models. This class eases model development by\n",
    "        linking relevant metadata (dataset, training parameters, benchmarking) to the model\n",
    "        training process.\n",
    "        \"\"\"\n",
    "\n",
    "        # Add model information\n",
    "        self.model = model\n",
    "        self.model_name = model_name\n",
    "        self.model_path = model_path\n",
    "        self.model_version = model_version\n",
    "\n",
    "        # Add dataset information\n",
    "        self.train_generator = train_generator\n",
    "        self.validation_generator = validation_generator\n",
    "        self.benchmarking_data = benchmarking_data\n",
    "        self.dataset_metadata = dataset_metadata\n",
    "        self.postprocessing_fn = postprocessing_fn\n",
    "        self.postprocessing_kwargs = postprocessing_kwargs\n",
    "        self.predict_batch_size = predict_batch_size\n",
    "\n",
    "        # Add benchmarking information\n",
    "        self.min_size = min_size\n",
    "\n",
    "        # Add export information\n",
    "        self.max_batch_size = max_batch_size\n",
    "        self.export_precisions = export_precisions\n",
    "\n",
    "        # Add directories for logging and model export\n",
    "        if log_dir is None:\n",
    "            self.log_dir = os.path.join(model_path, 'logging')\n",
    "        else:\n",
    "            self.log_dir = log_dir\n",
    "        \n",
    "        if tfserving_path is None:\n",
    "            self.tfserving_path = os.path.join(model_path, 'serving')\n",
    "        else:\n",
    "            self.tfserving_path = tfserving_path\n",
    "\n",
    "        # Add training kwargs\n",
    "        self.batch_size = training_kwargs.pop('batch_size', 1)\n",
    "        self.training_steps_per_epoch = training_kwargs.pop('training_steps_per_epoch', \n",
    "                                                self.train_generator.y.shape[0] // self.batch_size)\n",
    "        self.validation_steps_per_epoch = training_kwargs.pop('validation_steps_per_epoch', \n",
    "                                                self.validation_generator.y.shape[0] // self.batch_size)\n",
    "        self.n_epochs = training_kwargs.pop('n_epochs', 8)\n",
    "        self.lr = training_kwargs.pop('lr', 1e-5)\n",
    "        self.lr_decay = training_kwargs.pop('lr_decay', 0.95)\n",
    "        self.lr_sched = training_kwargs.pop('lr_sched', rate_scheduler(lr=self.lr, decay=self.lr_decay))\n",
    "\n",
    "        # Add callbacks\n",
    "        if training_callbacks == 'default':\n",
    "            model_name = os.path.join(model_path, model_name + '.h5')\n",
    "            self.training_callbacks = get_callbacks(model_name, lr_sched=self.lr_sched,\n",
    "                                        tensorboard_log_dir=self.log_dir,\n",
    "                                        save_weights_only=False,\n",
    "                                        monitor='val_loss', verbose=1)\n",
    "        else:\n",
    "            self.training_callbacks = training_callbacks\n",
    "\n",
    "        self.trained = False\n",
    "\n",
    "        return None\n",
    "\n",
    "    def _create_hash(self):\n",
    "        if not self.trained:\n",
    "            raise ValueError('Can only create a hash for a trained model')\n",
    "        else:\n",
    "            weights = []\n",
    "            for layer in self.model.layers:\n",
    "                weights += layer.get_weights()\n",
    "            summed_weights_list = [np.sum(w) for w in weights]\n",
    "            summed_weights = sum(summed_weights_list)\n",
    "            model_hash = hashlib.md5(str(summed_weights).encode())\n",
    "            self.model_hash = model_hash.hexdigest()\n",
    "\n",
    "    def _fit(self):\n",
    "        loss_history = self.model.fit_generator(\n",
    "        self.train_generator,\n",
    "        steps_per_epoch=self.training_steps_per_epoch,\n",
    "        epochs=self.n_epochs,\n",
    "        validation_data=self.validation_generator,\n",
    "        validation_steps=self.validation_steps_per_epoch,\n",
    "        callbacks=self.training_callbacks,\n",
    "        verbose=2)\n",
    "\n",
    "        self.trained = True\n",
    "        self.loss_history = loss_history\n",
    "\n",
    "        return None\n",
    "\n",
    "    def _benchmark(self):\n",
    "        if not self.trained:\n",
    "            raise ValueError('Model training is not complete')\n",
    "        else:\n",
    "            if self.benchmarking_data is None:\n",
    "                x = self.validation_generator.x.copy()\n",
    "                y_true = self.validation_generator.y.copy()\n",
    "            else:\n",
    "                x = self.benchmarking_data['X']\n",
    "                y_true = self.benchmarking_data['y']\n",
    "\n",
    "            outputs = self.model.predict(x, batch_size=self.predict_batch_size)\n",
    "            y_pred = self.postprocessing_fn(outputs, **self.postprocessing_kwargs)\n",
    "\n",
    "            if len(y_pred.shape) == 3:\n",
    "                y_pred = np.expand_dims(y_pred, axis=-1)    #TODO: This is a hack because the postprocessing fn returns\n",
    "                                                            #masks with no channel dimensions. This should be fixed.\n",
    "            \n",
    "            benchmarks = Metrics(self.model_name, seg=False)\n",
    "            benchmarks.calc_object_stats(y_true, y_pred)\n",
    "\n",
    "            # Save benchmarks in dict\n",
    "            self.benchmarks = {}\n",
    "            for key in benchmarks.stats.keys():\n",
    "                self.benchmarks[key] = int(benchmarks.stats[key].sum())\n",
    "\n",
    "            for i in range(y_pred.shape[0]):\n",
    "                y_pred[i] = remove_small_objects(y_pred[i].astype(int), min_size=self.min_size)\n",
    "                y_true[i] = remove_small_objects(y_true[i].astype(int), min_size=self.min_size)\n",
    "\n",
    "            benchmarks = Metrics(self.model_name + ' - Removed objects less than {} pixels'.format(self.min_size), \n",
    "                                    seg=False)\n",
    "            benchmarks.calc_object_stats(y_true, y_pred)\n",
    "\n",
    "            # Save benchmarks in dict\n",
    "            self.benchmarks_remove_small_objects = {}\n",
    "            for key in benchmarks.stats.keys():\n",
    "                self.benchmarks_remove_small_objects[key] = int(benchmarks.stats[key].sum())\n",
    "\n",
    "        return None\n",
    "\n",
    "    def _create_training_metadata(self):\n",
    "        training_metadata = {}\n",
    "        training_metadata['batch_size'] = self.batch_size\n",
    "        training_metadata['lr'] = self.lr\n",
    "        training_metadata['lr_decay'] = self.lr_decay\n",
    "        training_metadata['n_epochs'] = self.n_epochs\n",
    "        training_metadata['training_steps_per_epoch'] = self.training_steps_per_epoch\n",
    "        training_metadata['validation_steps_per_epoch'] = self.validation_steps_per_epoch\n",
    "\n",
    "        self.training_metadata = training_metadata\n",
    "\n",
    "        return None\n",
    "\n",
    "    def _export_tf_serving(self):\n",
    "        export_model(self.model, self.tfserving_path, model_version=self.model_version)\n",
    "\n",
    "        # Convert model to TensorRT with float16\n",
    "        if 'fp16' in self.export_precisions:\n",
    "            export_model_dir = os.path.join(self.tfserving_path, str(self.model_version))\n",
    "            export_model_dir_fp16 = os.path.join(self.tfserving_path + '_fp16', str(self.model_version))\n",
    "\n",
    "            converter = trt.TrtGraphConverter(input_saved_model_dir=export_model_dir,\n",
    "                                            max_batch_size=self.max_batch_size,\n",
    "                                            precision_mode='fp16')\n",
    "            converter.convert()\n",
    "            converter.save(export_model_dir_fp16)\n",
    "\n",
    "        return None\n",
    "\n",
    "    def create_model(self, export_serving=False, export_lite=False):\n",
    "\n",
    "        # Train model\n",
    "        self._fit()\n",
    "\n",
    "        # Load best performing weights\n",
    "        model_name = os.path.join(self.model_path, self.model_name + '.h5')\n",
    "        self.model.load_weights(model_name)\n",
    "\n",
    "        # Create model hash\n",
    "        self._create_hash()\n",
    "\n",
    "        # Create benchmarks\n",
    "        self._benchmark()\n",
    "\n",
    "        # Create model metadata\n",
    "        self._create_training_metadata()\n",
    "\n",
    "        # Save model\n",
    "        model_name = os.path.join(self.model_path, self.model_name + '_' + self.model_hash + '.h5')\n",
    "        self.model.save(model_name)\n",
    "\n",
    "        # Save loss history\n",
    "        loss_name = os.path.join(self.model_path, self.model_name + '_loss_' + self.model_hash + '.npz')\n",
    "        np.savez(loss_name, loss_history=self.loss_history.history)\n",
    "\n",
    "        # Save metadata (training and dataset) and benchmarks\n",
    "        metadata = {}\n",
    "        metadata['model_hash'] = self.model_hash\n",
    "        metadata['training_metadata'] = self.training_metadata\n",
    "        metadata['dataset_metadata'] = self.dataset_metadata\n",
    "        metadata['benchmarks'] = self.benchmarks\n",
    "        metadata['benchmarks_remove_small_objects'] = self.benchmarks_remove_small_objects\n",
    "\n",
    "        # TODO: Saving the benchmarking object in this way saves each individual benchmark.\n",
    "        # This should be refactored to save the sums.\n",
    "\n",
    "        metadata_name = os.path.join(self.model_path, self.model_name + '_' + self.model_hash + '.json')\n",
    "        \n",
    "        with open(metadata_name, 'w') as json_file:\n",
    "            json.dump(metadata, json_file)\n",
    "\n",
    "        # Export tf serving model\n",
    "        if export_serving:\n",
    "            self._export_tf_serving()\n",
    "\n",
    "        return None"
   ]
  },
  {
   "cell_type": "code",
   "execution_count": 9,
   "metadata": {
    "papermill": {
     "duration": 28297.468051,
     "end_time": "2020-05-06T03:35:37.614422",
     "exception": false,
     "start_time": "2020-05-05T19:44:00.146371",
     "status": "completed"
    },
    "scrolled": false,
    "tags": []
   },
   "outputs": [
    {
     "name": "stdout",
     "output_type": "stream",
     "text": [
      "Epoch 1/16\n"
     ]
    },
    {
     "name": "stderr",
     "output_type": "stream",
     "text": [
      "/usr/local/lib/python3.6/dist-packages/tensorflow/python/ops/gradients_util.py:93: UserWarning: Converting sparse IndexedSlices to a dense Tensor of unknown shape. This may consume a large amount of memory.\n",
      "  \"Converting sparse IndexedSlices to a dense Tensor of unknown shape. \"\n"
     ]
    },
    {
     "name": "stderr",
     "output_type": "stream",
     "text": [
      "/usr/local/lib/python3.6/dist-packages/tensorflow/python/ops/gradients_util.py:93: UserWarning: Converting sparse IndexedSlices to a dense Tensor of unknown shape. This may consume a large amount of memory.\n",
      "  \"Converting sparse IndexedSlices to a dense Tensor of unknown shape. \"\n"
     ]
    },
    {
     "name": "stderr",
     "output_type": "stream",
     "text": [
      "W0505 19:44:30.492933 139885692258112 callbacks.py:257] Method (on_train_batch_end) is slow compared to the batch update (0.268218). Check your callbacks.\n"
     ]
    },
    {
     "name": "stdout",
     "output_type": "stream",
     "text": [
      "\n",
      "Epoch 00001: val_loss improved from inf to 2.93591, saving model to /data/models/05042020/nuclear_2_1_mobilenetv2_retinamask/nuclear_2_1_mobilenetv2_retinamask.h5\n"
     ]
    },
    {
     "name": "stdout",
     "output_type": "stream",
     "text": [
      "5175/5175 - 1789s - loss: 2.6171 - regression_loss: 1.8979 - classification_loss: 0.3462 - masks_loss: 0.3730 - val_loss: 2.9359 - val_regression_loss: 1.9648 - val_classification_loss: 0.5611 - val_masks_loss: 0.4100\n"
     ]
    },
    {
     "name": "stdout",
     "output_type": "stream",
     "text": [
      "Epoch 2/16\n"
     ]
    },
    {
     "name": "stdout",
     "output_type": "stream",
     "text": [
      "\n",
      "Epoch 00002: val_loss improved from 2.93591 to 1.54408, saving model to /data/models/05042020/nuclear_2_1_mobilenetv2_retinamask/nuclear_2_1_mobilenetv2_retinamask.h5\n"
     ]
    },
    {
     "name": "stdout",
     "output_type": "stream",
     "text": [
      "5175/5175 - 1740s - loss: 1.7771 - regression_loss: 1.2901 - classification_loss: 0.1942 - masks_loss: 0.2928 - val_loss: 1.5441 - val_regression_loss: 1.1299 - val_classification_loss: 0.1528 - val_masks_loss: 0.2614\n"
     ]
    },
    {
     "name": "stdout",
     "output_type": "stream",
     "text": [
      "Epoch 3/16\n"
     ]
    },
    {
     "name": "stdout",
     "output_type": "stream",
     "text": [
      "\n",
      "Epoch 00003: val_loss improved from 1.54408 to 1.35871, saving model to /data/models/05042020/nuclear_2_1_mobilenetv2_retinamask/nuclear_2_1_mobilenetv2_retinamask.h5\n"
     ]
    },
    {
     "name": "stdout",
     "output_type": "stream",
     "text": [
      "5175/5175 - 1735s - loss: 1.4897 - regression_loss: 1.0718 - classification_loss: 0.1472 - masks_loss: 0.2707 - val_loss: 1.3587 - val_regression_loss: 0.9849 - val_classification_loss: 0.1241 - val_masks_loss: 0.2497\n"
     ]
    },
    {
     "name": "stdout",
     "output_type": "stream",
     "text": [
      "Epoch 4/16\n"
     ]
    },
    {
     "name": "stdout",
     "output_type": "stream",
     "text": [
      "\n",
      "Epoch 00004: val_loss improved from 1.35871 to 1.22743, saving model to /data/models/05042020/nuclear_2_1_mobilenetv2_retinamask/nuclear_2_1_mobilenetv2_retinamask.h5\n"
     ]
    },
    {
     "name": "stdout",
     "output_type": "stream",
     "text": [
      "5175/5175 - 1730s - loss: 1.3366 - regression_loss: 0.9518 - classification_loss: 0.1249 - masks_loss: 0.2599 - val_loss: 1.2274 - val_regression_loss: 0.8760 - val_classification_loss: 0.1004 - val_masks_loss: 0.2510\n"
     ]
    },
    {
     "name": "stdout",
     "output_type": "stream",
     "text": [
      "Epoch 5/16\n"
     ]
    },
    {
     "name": "stdout",
     "output_type": "stream",
     "text": [
      "\n",
      "Epoch 00005: val_loss improved from 1.22743 to 1.15358, saving model to /data/models/05042020/nuclear_2_1_mobilenetv2_retinamask/nuclear_2_1_mobilenetv2_retinamask.h5\n"
     ]
    },
    {
     "name": "stdout",
     "output_type": "stream",
     "text": [
      "5175/5175 - 1743s - loss: 1.2464 - regression_loss: 0.8791 - classification_loss: 0.1135 - masks_loss: 0.2538 - val_loss: 1.1536 - val_regression_loss: 0.8249 - val_classification_loss: 0.0936 - val_masks_loss: 0.2351\n"
     ]
    },
    {
     "name": "stdout",
     "output_type": "stream",
     "text": [
      "Epoch 6/16\n"
     ]
    },
    {
     "name": "stdout",
     "output_type": "stream",
     "text": [
      "\n",
      "Epoch 00006: val_loss improved from 1.15358 to 1.08236, saving model to /data/models/05042020/nuclear_2_1_mobilenetv2_retinamask/nuclear_2_1_mobilenetv2_retinamask.h5\n"
     ]
    },
    {
     "name": "stdout",
     "output_type": "stream",
     "text": [
      "5175/5175 - 1734s - loss: 1.1835 - regression_loss: 0.8272 - classification_loss: 0.1060 - masks_loss: 0.2503 - val_loss: 1.0824 - val_regression_loss: 0.7650 - val_classification_loss: 0.0860 - val_masks_loss: 0.2314\n"
     ]
    },
    {
     "name": "stdout",
     "output_type": "stream",
     "text": [
      "Epoch 7/16\n"
     ]
    },
    {
     "name": "stdout",
     "output_type": "stream",
     "text": [
      "\n",
      "Epoch 00007: val_loss improved from 1.08236 to 1.06573, saving model to /data/models/05042020/nuclear_2_1_mobilenetv2_retinamask/nuclear_2_1_mobilenetv2_retinamask.h5\n"
     ]
    },
    {
     "name": "stdout",
     "output_type": "stream",
     "text": [
      "5175/5175 - 1734s - loss: 1.1379 - regression_loss: 0.7896 - classification_loss: 0.0999 - masks_loss: 0.2484 - val_loss: 1.0657 - val_regression_loss: 0.7506 - val_classification_loss: 0.0836 - val_masks_loss: 0.2316\n"
     ]
    },
    {
     "name": "stdout",
     "output_type": "stream",
     "text": [
      "Epoch 8/16\n"
     ]
    },
    {
     "name": "stdout",
     "output_type": "stream",
     "text": [
      "\n",
      "Epoch 00008: val_loss improved from 1.06573 to 1.01163, saving model to /data/models/05042020/nuclear_2_1_mobilenetv2_retinamask/nuclear_2_1_mobilenetv2_retinamask.h5\n"
     ]
    },
    {
     "name": "stdout",
     "output_type": "stream",
     "text": [
      "5175/5175 - 1734s - loss: 1.1010 - regression_loss: 0.7594 - classification_loss: 0.0959 - masks_loss: 0.2457 - val_loss: 1.0116 - val_regression_loss: 0.7061 - val_classification_loss: 0.0759 - val_masks_loss: 0.2296\n"
     ]
    },
    {
     "name": "stdout",
     "output_type": "stream",
     "text": [
      "Epoch 9/16\n"
     ]
    },
    {
     "name": "stdout",
     "output_type": "stream",
     "text": [
      "\n",
      "Epoch 00009: val_loss improved from 1.01163 to 0.99818, saving model to /data/models/05042020/nuclear_2_1_mobilenetv2_retinamask/nuclear_2_1_mobilenetv2_retinamask.h5\n"
     ]
    },
    {
     "name": "stdout",
     "output_type": "stream",
     "text": [
      "5175/5175 - 1741s - loss: 1.0676 - regression_loss: 0.7330 - classification_loss: 0.0916 - masks_loss: 0.2430 - val_loss: 0.9982 - val_regression_loss: 0.6911 - val_classification_loss: 0.0788 - val_masks_loss: 0.2283\n"
     ]
    },
    {
     "name": "stdout",
     "output_type": "stream",
     "text": [
      "Epoch 10/16\n"
     ]
    },
    {
     "name": "stdout",
     "output_type": "stream",
     "text": [
      "\n",
      "Epoch 00010: val_loss improved from 0.99818 to 0.96129, saving model to /data/models/05042020/nuclear_2_1_mobilenetv2_retinamask/nuclear_2_1_mobilenetv2_retinamask.h5\n"
     ]
    },
    {
     "name": "stdout",
     "output_type": "stream",
     "text": [
      "5175/5175 - 1741s - loss: 1.0615 - regression_loss: 0.7239 - classification_loss: 0.0931 - masks_loss: 0.2445 - val_loss: 0.9613 - val_regression_loss: 0.6639 - val_classification_loss: 0.0708 - val_masks_loss: 0.2266\n"
     ]
    },
    {
     "name": "stdout",
     "output_type": "stream",
     "text": [
      "Epoch 11/16\n"
     ]
    },
    {
     "name": "stdout",
     "output_type": "stream",
     "text": [
      "\n",
      "Epoch 00011: val_loss improved from 0.96129 to 0.94159, saving model to /data/models/05042020/nuclear_2_1_mobilenetv2_retinamask/nuclear_2_1_mobilenetv2_retinamask.h5\n"
     ]
    },
    {
     "name": "stdout",
     "output_type": "stream",
     "text": [
      "5175/5175 - 1743s - loss: 1.0367 - regression_loss: 0.7060 - classification_loss: 0.0883 - masks_loss: 0.2424 - val_loss: 0.9416 - val_regression_loss: 0.6506 - val_classification_loss: 0.0670 - val_masks_loss: 0.2239\n"
     ]
    },
    {
     "name": "stdout",
     "output_type": "stream",
     "text": [
      "Epoch 12/16\n"
     ]
    },
    {
     "name": "stdout",
     "output_type": "stream",
     "text": [
      "\n",
      "Epoch 00012: val_loss did not improve from 0.94159\n",
      "5175/5175 - 1723s - loss: 1.0176 - regression_loss: 0.6898 - classification_loss: 0.0849 - masks_loss: 0.2430 - val_loss: 0.9555 - val_regression_loss: 0.6504 - val_classification_loss: 0.0741 - val_masks_loss: 0.2310\n"
     ]
    },
    {
     "name": "stdout",
     "output_type": "stream",
     "text": [
      "Epoch 13/16\n"
     ]
    },
    {
     "name": "stdout",
     "output_type": "stream",
     "text": [
      "\n",
      "Epoch 00013: val_loss improved from 0.94159 to 0.92458, saving model to /data/models/05042020/nuclear_2_1_mobilenetv2_retinamask/nuclear_2_1_mobilenetv2_retinamask.h5\n"
     ]
    },
    {
     "name": "stdout",
     "output_type": "stream",
     "text": [
      "5175/5175 - 1731s - loss: 1.0050 - regression_loss: 0.6771 - classification_loss: 0.0853 - masks_loss: 0.2426 - val_loss: 0.9246 - val_regression_loss: 0.6345 - val_classification_loss: 0.0648 - val_masks_loss: 0.2253\n"
     ]
    },
    {
     "name": "stdout",
     "output_type": "stream",
     "text": [
      "Epoch 14/16\n"
     ]
    },
    {
     "name": "stdout",
     "output_type": "stream",
     "text": [
      "\n",
      "Epoch 00014: val_loss did not improve from 0.92458\n",
      "5175/5175 - 1722s - loss: 0.9932 - regression_loss: 0.6694 - classification_loss: 0.0824 - masks_loss: 0.2413 - val_loss: 0.9332 - val_regression_loss: 0.6453 - val_classification_loss: 0.0644 - val_masks_loss: 0.2235\n"
     ]
    },
    {
     "name": "stdout",
     "output_type": "stream",
     "text": [
      "Epoch 15/16\n"
     ]
    },
    {
     "name": "stdout",
     "output_type": "stream",
     "text": [
      "\n",
      "Epoch 00015: val_loss improved from 0.92458 to 0.90350, saving model to /data/models/05042020/nuclear_2_1_mobilenetv2_retinamask/nuclear_2_1_mobilenetv2_retinamask.h5\n"
     ]
    },
    {
     "name": "stdout",
     "output_type": "stream",
     "text": [
      "5175/5175 - 1740s - loss: 0.9814 - regression_loss: 0.6590 - classification_loss: 0.0825 - masks_loss: 0.2398 - val_loss: 0.9035 - val_regression_loss: 0.6127 - val_classification_loss: 0.0643 - val_masks_loss: 0.2264\n"
     ]
    },
    {
     "name": "stdout",
     "output_type": "stream",
     "text": [
      "Epoch 16/16\n"
     ]
    },
    {
     "name": "stdout",
     "output_type": "stream",
     "text": [
      "\n",
      "Epoch 00016: val_loss improved from 0.90350 to 0.89904, saving model to /data/models/05042020/nuclear_2_1_mobilenetv2_retinamask/nuclear_2_1_mobilenetv2_retinamask.h5\n"
     ]
    },
    {
     "name": "stdout",
     "output_type": "stream",
     "text": [
      "5175/5175 - 1731s - loss: 0.9758 - regression_loss: 0.6545 - classification_loss: 0.0811 - masks_loss: 0.2401 - val_loss: 0.8990 - val_regression_loss: 0.6112 - val_classification_loss: 0.0637 - val_masks_loss: 0.2242\n"
     ]
    },
    {
     "name": "stderr",
     "output_type": "stream",
     "text": [
      "/usr/local/lib/python3.6/dist-packages/deepcell_toolbox/retinanet.py:295: UserWarning: Random walker only segments unlabeled areas, where labels == 0. No zero valued areas in labels were found. Returning provided labels.\n",
      "  segments = random_walker(foreground, markers)\n"
     ]
    },
    {
     "name": "stderr",
     "output_type": "stream",
     "text": [
      "/usr/local/lib/python3.6/dist-packages/deepcell_toolbox/retinanet.py:295: UserWarning: Random walker only segments unlabeled areas, where labels == 0. No zero valued areas in labels were found. Returning provided labels.\n",
      "  segments = random_walker(foreground, markers)\n",
      "/usr/local/lib/python3.6/dist-packages/deepcell_toolbox/retinanet.py:295: UserWarning: Random walker only segments unlabeled areas, where labels == 0. No zero valued areas in labels were found. Returning provided labels.\n",
      "  segments = random_walker(foreground, markers)\n",
      "/usr/local/lib/python3.6/dist-packages/deepcell_toolbox/retinanet.py:295: UserWarning: Random walker only segments unlabeled areas, where labels == 0. No zero valued areas in labels were found. Returning provided labels.\n",
      "  segments = random_walker(foreground, markers)\n"
     ]
    },
    {
     "name": "stderr",
     "output_type": "stream",
     "text": [
      "/usr/local/lib/python3.6/dist-packages/deepcell_toolbox/retinanet.py:295: UserWarning: Random walker only segments unlabeled areas, where labels == 0. No zero valued areas in labels were found. Returning provided labels.\n",
      "  segments = random_walker(foreground, markers)\n"
     ]
    },
    {
     "name": "stderr",
     "output_type": "stream",
     "text": [
      "/usr/local/lib/python3.6/dist-packages/deepcell_toolbox/retinanet.py:295: UserWarning: Random walker only segments unlabeled areas, where labels == 0. No zero valued areas in labels were found. Returning provided labels.\n",
      "  segments = random_walker(foreground, markers)\n",
      "/usr/local/lib/python3.6/dist-packages/deepcell_toolbox/retinanet.py:295: UserWarning: Random walker only segments unlabeled areas, where labels == 0. No zero valued areas in labels were found. Returning provided labels.\n",
      "  segments = random_walker(foreground, markers)\n"
     ]
    },
    {
     "name": "stderr",
     "output_type": "stream",
     "text": [
      "/usr/local/lib/python3.6/dist-packages/deepcell_toolbox/retinanet.py:295: UserWarning: Random walker only segments unlabeled areas, where labels == 0. No zero valued areas in labels were found. Returning provided labels.\n",
      "  segments = random_walker(foreground, markers)\n"
     ]
    },
    {
     "name": "stderr",
     "output_type": "stream",
     "text": [
      "/usr/local/lib/python3.6/dist-packages/deepcell_toolbox/retinanet.py:295: UserWarning: Random walker only segments unlabeled areas, where labels == 0. No zero valued areas in labels were found. Returning provided labels.\n",
      "  segments = random_walker(foreground, markers)\n"
     ]
    },
    {
     "name": "stderr",
     "output_type": "stream",
     "text": [
      "/usr/local/lib/python3.6/dist-packages/deepcell_toolbox/retinanet.py:295: UserWarning: Random walker only segments unlabeled areas, where labels == 0. No zero valued areas in labels were found. Returning provided labels.\n",
      "  segments = random_walker(foreground, markers)\n"
     ]
    },
    {
     "name": "stderr",
     "output_type": "stream",
     "text": [
      "/usr/local/lib/python3.6/dist-packages/deepcell_toolbox/retinanet.py:295: UserWarning: Random walker only segments unlabeled areas, where labels == 0. No zero valued areas in labels were found. Returning provided labels.\n",
      "  segments = random_walker(foreground, markers)\n"
     ]
    },
    {
     "name": "stderr",
     "output_type": "stream",
     "text": [
      "/usr/local/lib/python3.6/dist-packages/deepcell_toolbox/retinanet.py:295: UserWarning: Random walker only segments unlabeled areas, where labels == 0. No zero valued areas in labels were found. Returning provided labels.\n",
      "  segments = random_walker(foreground, markers)\n"
     ]
    },
    {
     "name": "stderr",
     "output_type": "stream",
     "text": [
      "/usr/local/lib/python3.6/dist-packages/deepcell_toolbox/retinanet.py:295: UserWarning: Random walker only segments unlabeled areas, where labels == 0. No zero valued areas in labels were found. Returning provided labels.\n",
      "  segments = random_walker(foreground, markers)\n"
     ]
    },
    {
     "name": "stderr",
     "output_type": "stream",
     "text": [
      "/usr/local/lib/python3.6/dist-packages/deepcell_toolbox/retinanet.py:295: UserWarning: Random walker only segments unlabeled areas, where labels == 0. No zero valued areas in labels were found. Returning provided labels.\n",
      "  segments = random_walker(foreground, markers)\n"
     ]
    },
    {
     "name": "stderr",
     "output_type": "stream",
     "text": [
      "/usr/local/lib/python3.6/dist-packages/deepcell_toolbox/retinanet.py:295: UserWarning: Random walker only segments unlabeled areas, where labels == 0. No zero valued areas in labels were found. Returning provided labels.\n",
      "  segments = random_walker(foreground, markers)\n"
     ]
    },
    {
     "name": "stderr",
     "output_type": "stream",
     "text": [
      "/usr/local/lib/python3.6/dist-packages/deepcell_toolbox/retinanet.py:295: UserWarning: Random walker only segments unlabeled areas, where labels == 0. No zero valued areas in labels were found. Returning provided labels.\n",
      "  segments = random_walker(foreground, markers)\n"
     ]
    },
    {
     "name": "stderr",
     "output_type": "stream",
     "text": [
      "/usr/local/lib/python3.6/dist-packages/deepcell_toolbox/retinanet.py:295: UserWarning: Random walker only segments unlabeled areas, where labels == 0. No zero valued areas in labels were found. Returning provided labels.\n",
      "  segments = random_walker(foreground, markers)\n"
     ]
    },
    {
     "name": "stderr",
     "output_type": "stream",
     "text": [
      "/usr/local/lib/python3.6/dist-packages/deepcell_toolbox/retinanet.py:295: UserWarning: Random walker only segments unlabeled areas, where labels == 0. No zero valued areas in labels were found. Returning provided labels.\n",
      "  segments = random_walker(foreground, markers)\n"
     ]
    },
    {
     "name": "stderr",
     "output_type": "stream",
     "text": [
      "/usr/local/lib/python3.6/dist-packages/deepcell_toolbox/retinanet.py:295: UserWarning: Random walker only segments unlabeled areas, where labels == 0. No zero valued areas in labels were found. Returning provided labels.\n",
      "  segments = random_walker(foreground, markers)\n"
     ]
    },
    {
     "name": "stderr",
     "output_type": "stream",
     "text": [
      "/usr/local/lib/python3.6/dist-packages/deepcell_toolbox/retinanet.py:295: UserWarning: Random walker only segments unlabeled areas, where labels == 0. No zero valued areas in labels were found. Returning provided labels.\n",
      "  segments = random_walker(foreground, markers)\n"
     ]
    },
    {
     "name": "stderr",
     "output_type": "stream",
     "text": [
      "/usr/local/lib/python3.6/dist-packages/deepcell_toolbox/retinanet.py:295: UserWarning: Random walker only segments unlabeled areas, where labels == 0. No zero valued areas in labels were found. Returning provided labels.\n",
      "  segments = random_walker(foreground, markers)\n"
     ]
    },
    {
     "name": "stderr",
     "output_type": "stream",
     "text": [
      "/usr/local/lib/python3.6/dist-packages/deepcell_toolbox/retinanet.py:295: UserWarning: Random walker only segments unlabeled areas, where labels == 0. No zero valued areas in labels were found. Returning provided labels.\n",
      "  segments = random_walker(foreground, markers)\n"
     ]
    },
    {
     "name": "stderr",
     "output_type": "stream",
     "text": [
      "/usr/local/lib/python3.6/dist-packages/deepcell_toolbox/retinanet.py:295: UserWarning: Random walker only segments unlabeled areas, where labels == 0. No zero valued areas in labels were found. Returning provided labels.\n",
      "  segments = random_walker(foreground, markers)\n",
      "/usr/local/lib/python3.6/dist-packages/deepcell_toolbox/retinanet.py:295: UserWarning: Random walker only segments unlabeled areas, where labels == 0. No zero valued areas in labels were found. Returning provided labels.\n",
      "  segments = random_walker(foreground, markers)\n"
     ]
    },
    {
     "name": "stderr",
     "output_type": "stream",
     "text": [
      "/usr/local/lib/python3.6/dist-packages/deepcell_toolbox/retinanet.py:295: UserWarning: Random walker only segments unlabeled areas, where labels == 0. No zero valued areas in labels were found. Returning provided labels.\n",
      "  segments = random_walker(foreground, markers)\n"
     ]
    },
    {
     "name": "stderr",
     "output_type": "stream",
     "text": [
      "/usr/local/lib/python3.6/dist-packages/deepcell_toolbox/retinanet.py:295: UserWarning: Random walker only segments unlabeled areas, where labels == 0. No zero valued areas in labels were found. Returning provided labels.\n",
      "  segments = random_walker(foreground, markers)\n"
     ]
    },
    {
     "name": "stderr",
     "output_type": "stream",
     "text": [
      "/usr/local/lib/python3.6/dist-packages/deepcell_toolbox/retinanet.py:295: UserWarning: Random walker only segments unlabeled areas, where labels == 0. No zero valued areas in labels were found. Returning provided labels.\n",
      "  segments = random_walker(foreground, markers)\n"
     ]
    },
    {
     "name": "stderr",
     "output_type": "stream",
     "text": [
      "/usr/local/lib/python3.6/dist-packages/deepcell_toolbox/retinanet.py:295: UserWarning: Random walker only segments unlabeled areas, where labels == 0. No zero valued areas in labels were found. Returning provided labels.\n",
      "  segments = random_walker(foreground, markers)\n",
      "/usr/local/lib/python3.6/dist-packages/deepcell_toolbox/retinanet.py:295: UserWarning: Random walker only segments unlabeled areas, where labels == 0. No zero valued areas in labels were found. Returning provided labels.\n",
      "  segments = random_walker(foreground, markers)\n"
     ]
    },
    {
     "name": "stderr",
     "output_type": "stream",
     "text": [
      "/usr/local/lib/python3.6/dist-packages/deepcell_toolbox/retinanet.py:295: UserWarning: Random walker only segments unlabeled areas, where labels == 0. No zero valued areas in labels were found. Returning provided labels.\n",
      "  segments = random_walker(foreground, markers)\n"
     ]
    },
    {
     "name": "stderr",
     "output_type": "stream",
     "text": [
      "/usr/local/lib/python3.6/dist-packages/deepcell_toolbox/retinanet.py:295: UserWarning: Random walker only segments unlabeled areas, where labels == 0. No zero valued areas in labels were found. Returning provided labels.\n",
      "  segments = random_walker(foreground, markers)\n"
     ]
    },
    {
     "name": "stderr",
     "output_type": "stream",
     "text": [
      "/usr/local/lib/python3.6/dist-packages/deepcell_toolbox/retinanet.py:295: UserWarning: Random walker only segments unlabeled areas, where labels == 0. No zero valued areas in labels were found. Returning provided labels.\n",
      "  segments = random_walker(foreground, markers)\n"
     ]
    },
    {
     "name": "stderr",
     "output_type": "stream",
     "text": [
      "/usr/local/lib/python3.6/dist-packages/deepcell_toolbox/retinanet.py:295: UserWarning: Random walker only segments unlabeled areas, where labels == 0. No zero valued areas in labels were found. Returning provided labels.\n",
      "  segments = random_walker(foreground, markers)\n"
     ]
    },
    {
     "name": "stderr",
     "output_type": "stream",
     "text": [
      "/usr/local/lib/python3.6/dist-packages/deepcell_toolbox/retinanet.py:295: UserWarning: Random walker only segments unlabeled areas, where labels == 0. No zero valued areas in labels were found. Returning provided labels.\n",
      "  segments = random_walker(foreground, markers)\n"
     ]
    },
    {
     "name": "stderr",
     "output_type": "stream",
     "text": [
      "/usr/local/lib/python3.6/dist-packages/deepcell_toolbox/retinanet.py:295: UserWarning: Random walker only segments unlabeled areas, where labels == 0. No zero valued areas in labels were found. Returning provided labels.\n",
      "  segments = random_walker(foreground, markers)\n",
      "/usr/local/lib/python3.6/dist-packages/deepcell_toolbox/retinanet.py:295: UserWarning: Random walker only segments unlabeled areas, where labels == 0. No zero valued areas in labels were found. Returning provided labels.\n",
      "  segments = random_walker(foreground, markers)\n",
      "/usr/local/lib/python3.6/dist-packages/deepcell_toolbox/retinanet.py:295: UserWarning: Random walker only segments unlabeled areas, where labels == 0. No zero valued areas in labels were found. Returning provided labels.\n",
      "  segments = random_walker(foreground, markers)\n"
     ]
    },
    {
     "name": "stderr",
     "output_type": "stream",
     "text": [
      "/usr/local/lib/python3.6/dist-packages/deepcell_toolbox/retinanet.py:295: UserWarning: Random walker only segments unlabeled areas, where labels == 0. No zero valued areas in labels were found. Returning provided labels.\n",
      "  segments = random_walker(foreground, markers)\n"
     ]
    },
    {
     "name": "stderr",
     "output_type": "stream",
     "text": [
      "/usr/local/lib/python3.6/dist-packages/deepcell_toolbox/retinanet.py:295: UserWarning: Random walker only segments unlabeled areas, where labels == 0. No zero valued areas in labels were found. Returning provided labels.\n",
      "  segments = random_walker(foreground, markers)\n",
      "/usr/local/lib/python3.6/dist-packages/deepcell_toolbox/retinanet.py:295: UserWarning: Random walker only segments unlabeled areas, where labels == 0. No zero valued areas in labels were found. Returning provided labels.\n",
      "  segments = random_walker(foreground, markers)\n"
     ]
    },
    {
     "name": "stderr",
     "output_type": "stream",
     "text": [
      "/usr/local/lib/python3.6/dist-packages/deepcell_toolbox/retinanet.py:295: UserWarning: Random walker only segments unlabeled areas, where labels == 0. No zero valued areas in labels were found. Returning provided labels.\n",
      "  segments = random_walker(foreground, markers)\n"
     ]
    },
    {
     "name": "stderr",
     "output_type": "stream",
     "text": [
      "/usr/local/lib/python3.6/dist-packages/deepcell_toolbox/retinanet.py:295: UserWarning: Random walker only segments unlabeled areas, where labels == 0. No zero valued areas in labels were found. Returning provided labels.\n",
      "  segments = random_walker(foreground, markers)\n"
     ]
    },
    {
     "name": "stderr",
     "output_type": "stream",
     "text": [
      "W0506 03:31:08.349723 139885692258112 metrics.py:103] DICE score is technically 1.0, but prediction and truth arrays are empty. \n"
     ]
    },
    {
     "name": "stderr",
     "output_type": "stream",
     "text": [
      "/usr/local/lib/python3.6/dist-packages/deepcell/metrics.py:111: RuntimeWarning: invalid value encountered in long_scalars\n",
      "  dice = (2 * intersection.sum() / (pred.sum() + truth.sum()))\n",
      "/usr/local/lib/python3.6/dist-packages/deepcell/metrics.py:112: RuntimeWarning: invalid value encountered in long_scalars\n",
      "  jaccard = intersection.sum() / union.sum()\n",
      "/usr/local/lib/python3.6/dist-packages/deepcell/metrics.py:113: RuntimeWarning: invalid value encountered in long_scalars\n",
      "  precision = intersection.sum() / pred.sum()\n",
      "/usr/local/lib/python3.6/dist-packages/deepcell/metrics.py:114: RuntimeWarning: invalid value encountered in long_scalars\n",
      "  recall = intersection.sum() / truth.sum()\n",
      "W0506 03:31:08.367419 139885692258112 metrics.py:103] DICE score is technically 1.0, but prediction and truth arrays are empty. \n"
     ]
    },
    {
     "name": "stderr",
     "output_type": "stream",
     "text": [
      "W0506 03:31:08.394832 139885692258112 metrics.py:103] DICE score is technically 1.0, but prediction and truth arrays are empty. \n"
     ]
    },
    {
     "name": "stderr",
     "output_type": "stream",
     "text": [
      "W0506 03:31:08.412530 139885692258112 metrics.py:103] DICE score is technically 1.0, but prediction and truth arrays are empty. \n"
     ]
    },
    {
     "name": "stderr",
     "output_type": "stream",
     "text": [
      "W0506 03:31:08.425254 139885692258112 metrics.py:103] DICE score is technically 1.0, but prediction and truth arrays are empty. \n"
     ]
    },
    {
     "name": "stderr",
     "output_type": "stream",
     "text": [
      "W0506 03:31:08.448396 139885692258112 metrics.py:103] DICE score is technically 1.0, but prediction and truth arrays are empty. \n"
     ]
    },
    {
     "name": "stderr",
     "output_type": "stream",
     "text": [
      "W0506 03:31:08.462201 139885692258112 metrics.py:103] DICE score is technically 1.0, but prediction and truth arrays are empty. \n"
     ]
    },
    {
     "name": "stderr",
     "output_type": "stream",
     "text": [
      "W0506 03:31:08.475925 139885692258112 metrics.py:103] DICE score is technically 1.0, but prediction and truth arrays are empty. \n"
     ]
    },
    {
     "name": "stderr",
     "output_type": "stream",
     "text": [
      "W0506 03:31:08.489805 139885692258112 metrics.py:103] DICE score is technically 1.0, but prediction and truth arrays are empty. \n"
     ]
    },
    {
     "name": "stderr",
     "output_type": "stream",
     "text": [
      "W0506 03:31:08.503565 139885692258112 metrics.py:103] DICE score is technically 1.0, but prediction and truth arrays are empty. \n"
     ]
    },
    {
     "name": "stderr",
     "output_type": "stream",
     "text": [
      "W0506 03:31:08.520984 139885692258112 metrics.py:103] DICE score is technically 1.0, but prediction and truth arrays are empty. \n"
     ]
    },
    {
     "name": "stderr",
     "output_type": "stream",
     "text": [
      "W0506 03:31:08.540246 139885692258112 metrics.py:103] DICE score is technically 1.0, but prediction and truth arrays are empty. \n"
     ]
    },
    {
     "name": "stderr",
     "output_type": "stream",
     "text": [
      "W0506 03:31:08.560472 139885692258112 metrics.py:103] DICE score is technically 1.0, but prediction and truth arrays are empty. \n"
     ]
    },
    {
     "name": "stderr",
     "output_type": "stream",
     "text": [
      "W0506 03:31:08.580696 139885692258112 metrics.py:103] DICE score is technically 1.0, but prediction and truth arrays are empty. \n"
     ]
    },
    {
     "name": "stderr",
     "output_type": "stream",
     "text": [
      "W0506 03:31:08.593133 139885692258112 metrics.py:103] DICE score is technically 1.0, but prediction and truth arrays are empty. \n"
     ]
    },
    {
     "name": "stderr",
     "output_type": "stream",
     "text": [
      "W0506 03:31:08.605760 139885692258112 metrics.py:103] DICE score is technically 1.0, but prediction and truth arrays are empty. \n"
     ]
    },
    {
     "name": "stderr",
     "output_type": "stream",
     "text": [
      "W0506 03:31:08.618623 139885692258112 metrics.py:103] DICE score is technically 1.0, but prediction and truth arrays are empty. \n"
     ]
    },
    {
     "name": "stderr",
     "output_type": "stream",
     "text": [
      "W0506 03:31:08.631697 139885692258112 metrics.py:103] DICE score is technically 1.0, but prediction and truth arrays are empty. \n"
     ]
    },
    {
     "name": "stderr",
     "output_type": "stream",
     "text": [
      "W0506 03:31:08.644490 139885692258112 metrics.py:103] DICE score is technically 1.0, but prediction and truth arrays are empty. \n"
     ]
    },
    {
     "name": "stderr",
     "output_type": "stream",
     "text": [
      "W0506 03:31:08.657705 139885692258112 metrics.py:103] DICE score is technically 1.0, but prediction and truth arrays are empty. \n"
     ]
    },
    {
     "name": "stderr",
     "output_type": "stream",
     "text": [
      "W0506 03:31:08.670547 139885692258112 metrics.py:103] DICE score is technically 1.0, but prediction and truth arrays are empty. \n"
     ]
    },
    {
     "name": "stderr",
     "output_type": "stream",
     "text": [
      "W0506 03:31:08.684750 139885692258112 metrics.py:103] DICE score is technically 1.0, but prediction and truth arrays are empty. \n"
     ]
    },
    {
     "name": "stderr",
     "output_type": "stream",
     "text": [
      "W0506 03:31:08.702830 139885692258112 metrics.py:103] DICE score is technically 1.0, but prediction and truth arrays are empty. \n"
     ]
    },
    {
     "name": "stderr",
     "output_type": "stream",
     "text": [
      "W0506 03:31:08.718771 139885692258112 metrics.py:103] DICE score is technically 1.0, but prediction and truth arrays are empty. \n"
     ]
    },
    {
     "name": "stderr",
     "output_type": "stream",
     "text": [
      "W0506 03:31:08.731248 139885692258112 metrics.py:103] DICE score is technically 1.0, but prediction and truth arrays are empty. \n"
     ]
    },
    {
     "name": "stderr",
     "output_type": "stream",
     "text": [
      "W0506 03:31:08.744058 139885692258112 metrics.py:103] DICE score is technically 1.0, but prediction and truth arrays are empty. \n"
     ]
    },
    {
     "name": "stderr",
     "output_type": "stream",
     "text": [
      "W0506 03:31:08.757615 139885692258112 metrics.py:103] DICE score is technically 1.0, but prediction and truth arrays are empty. \n"
     ]
    },
    {
     "name": "stderr",
     "output_type": "stream",
     "text": [
      "W0506 03:31:08.770157 139885692258112 metrics.py:103] DICE score is technically 1.0, but prediction and truth arrays are empty. \n"
     ]
    },
    {
     "name": "stderr",
     "output_type": "stream",
     "text": [
      "W0506 03:31:08.782545 139885692258112 metrics.py:103] DICE score is technically 1.0, but prediction and truth arrays are empty. \n"
     ]
    },
    {
     "name": "stderr",
     "output_type": "stream",
     "text": [
      "W0506 03:31:08.794937 139885692258112 metrics.py:103] DICE score is technically 1.0, but prediction and truth arrays are empty. \n"
     ]
    },
    {
     "name": "stderr",
     "output_type": "stream",
     "text": [
      "W0506 03:31:08.807322 139885692258112 metrics.py:103] DICE score is technically 1.0, but prediction and truth arrays are empty. \n"
     ]
    },
    {
     "name": "stderr",
     "output_type": "stream",
     "text": [
      "W0506 03:31:08.820232 139885692258112 metrics.py:103] DICE score is technically 1.0, but prediction and truth arrays are empty. \n"
     ]
    },
    {
     "name": "stderr",
     "output_type": "stream",
     "text": [
      "W0506 03:31:08.832482 139885692258112 metrics.py:103] DICE score is technically 1.0, but prediction and truth arrays are empty. \n"
     ]
    },
    {
     "name": "stderr",
     "output_type": "stream",
     "text": [
      "W0506 03:31:08.844681 139885692258112 metrics.py:103] DICE score is technically 1.0, but prediction and truth arrays are empty. \n"
     ]
    },
    {
     "name": "stderr",
     "output_type": "stream",
     "text": [
      "W0506 03:31:08.856803 139885692258112 metrics.py:103] DICE score is technically 1.0, but prediction and truth arrays are empty. \n"
     ]
    },
    {
     "name": "stderr",
     "output_type": "stream",
     "text": [
      "W0506 03:31:08.868993 139885692258112 metrics.py:103] DICE score is technically 1.0, but prediction and truth arrays are empty. \n"
     ]
    },
    {
     "name": "stderr",
     "output_type": "stream",
     "text": [
      "W0506 03:31:08.881170 139885692258112 metrics.py:103] DICE score is technically 1.0, but prediction and truth arrays are empty. \n"
     ]
    },
    {
     "name": "stderr",
     "output_type": "stream",
     "text": [
      "W0506 03:31:08.893774 139885692258112 metrics.py:103] DICE score is technically 1.0, but prediction and truth arrays are empty. \n"
     ]
    },
    {
     "name": "stderr",
     "output_type": "stream",
     "text": [
      "/usr/local/lib/python3.6/dist-packages/deepcell/metrics.py:115: RuntimeWarning: invalid value encountered in double_scalars\n",
      "  Fmeasure = (2 * precision * recall) / (precision + recall)\n"
     ]
    },
    {
     "name": "stderr",
     "output_type": "stream",
     "text": [
      "W0506 03:31:11.634579 139885692258112 metrics.py:103] DICE score is technically 1.0, but prediction and truth arrays are empty. \n"
     ]
    },
    {
     "name": "stderr",
     "output_type": "stream",
     "text": [
      "W0506 03:31:11.646895 139885692258112 metrics.py:103] DICE score is technically 1.0, but prediction and truth arrays are empty. \n"
     ]
    },
    {
     "name": "stderr",
     "output_type": "stream",
     "text": [
      "W0506 03:31:11.659020 139885692258112 metrics.py:103] DICE score is technically 1.0, but prediction and truth arrays are empty. \n"
     ]
    },
    {
     "name": "stderr",
     "output_type": "stream",
     "text": [
      "W0506 03:31:11.671419 139885692258112 metrics.py:103] DICE score is technically 1.0, but prediction and truth arrays are empty. \n"
     ]
    },
    {
     "name": "stderr",
     "output_type": "stream",
     "text": [
      "W0506 03:31:11.683513 139885692258112 metrics.py:103] DICE score is technically 1.0, but prediction and truth arrays are empty. \n"
     ]
    },
    {
     "name": "stderr",
     "output_type": "stream",
     "text": [
      "W0506 03:31:11.695727 139885692258112 metrics.py:103] DICE score is technically 1.0, but prediction and truth arrays are empty. \n"
     ]
    },
    {
     "name": "stderr",
     "output_type": "stream",
     "text": [
      "W0506 03:31:11.708103 139885692258112 metrics.py:103] DICE score is technically 1.0, but prediction and truth arrays are empty. \n"
     ]
    },
    {
     "name": "stderr",
     "output_type": "stream",
     "text": [
      "W0506 03:31:11.720577 139885692258112 metrics.py:103] DICE score is technically 1.0, but prediction and truth arrays are empty. \n"
     ]
    },
    {
     "name": "stderr",
     "output_type": "stream",
     "text": [
      "W0506 03:31:11.732894 139885692258112 metrics.py:103] DICE score is technically 1.0, but prediction and truth arrays are empty. \n"
     ]
    },
    {
     "name": "stderr",
     "output_type": "stream",
     "text": [
      "W0506 03:31:11.745200 139885692258112 metrics.py:103] DICE score is technically 1.0, but prediction and truth arrays are empty. \n"
     ]
    },
    {
     "name": "stderr",
     "output_type": "stream",
     "text": [
      "W0506 03:31:11.757434 139885692258112 metrics.py:103] DICE score is technically 1.0, but prediction and truth arrays are empty. \n"
     ]
    },
    {
     "name": "stderr",
     "output_type": "stream",
     "text": [
      "W0506 03:31:11.769851 139885692258112 metrics.py:103] DICE score is technically 1.0, but prediction and truth arrays are empty. \n"
     ]
    },
    {
     "name": "stderr",
     "output_type": "stream",
     "text": [
      "W0506 03:31:11.782230 139885692258112 metrics.py:103] DICE score is technically 1.0, but prediction and truth arrays are empty. \n"
     ]
    },
    {
     "name": "stderr",
     "output_type": "stream",
     "text": [
      "W0506 03:31:11.794621 139885692258112 metrics.py:103] DICE score is technically 1.0, but prediction and truth arrays are empty. \n"
     ]
    },
    {
     "name": "stderr",
     "output_type": "stream",
     "text": [
      "W0506 03:31:11.807008 139885692258112 metrics.py:103] DICE score is technically 1.0, but prediction and truth arrays are empty. \n"
     ]
    },
    {
     "name": "stderr",
     "output_type": "stream",
     "text": [
      "W0506 03:31:11.819532 139885692258112 metrics.py:103] DICE score is technically 1.0, but prediction and truth arrays are empty. \n"
     ]
    },
    {
     "name": "stderr",
     "output_type": "stream",
     "text": [
      "W0506 03:31:11.832123 139885692258112 metrics.py:103] DICE score is technically 1.0, but prediction and truth arrays are empty. \n"
     ]
    },
    {
     "name": "stderr",
     "output_type": "stream",
     "text": [
      "W0506 03:31:11.845190 139885692258112 metrics.py:103] DICE score is technically 1.0, but prediction and truth arrays are empty. \n"
     ]
    },
    {
     "name": "stderr",
     "output_type": "stream",
     "text": [
      "W0506 03:31:11.858054 139885692258112 metrics.py:103] DICE score is technically 1.0, but prediction and truth arrays are empty. \n"
     ]
    },
    {
     "name": "stderr",
     "output_type": "stream",
     "text": [
      "W0506 03:31:11.870648 139885692258112 metrics.py:103] DICE score is technically 1.0, but prediction and truth arrays are empty. \n"
     ]
    },
    {
     "name": "stderr",
     "output_type": "stream",
     "text": [
      "W0506 03:31:11.883195 139885692258112 metrics.py:103] DICE score is technically 1.0, but prediction and truth arrays are empty. \n"
     ]
    },
    {
     "name": "stderr",
     "output_type": "stream",
     "text": [
      "W0506 03:31:11.911617 139885692258112 metrics.py:103] DICE score is technically 1.0, but prediction and truth arrays are empty. \n"
     ]
    },
    {
     "name": "stderr",
     "output_type": "stream",
     "text": [
      "W0506 03:31:11.931262 139885692258112 metrics.py:103] DICE score is technically 1.0, but prediction and truth arrays are empty. \n"
     ]
    },
    {
     "name": "stderr",
     "output_type": "stream",
     "text": [
      "W0506 03:31:11.945573 139885692258112 metrics.py:103] DICE score is technically 1.0, but prediction and truth arrays are empty. \n"
     ]
    },
    {
     "name": "stderr",
     "output_type": "stream",
     "text": [
      "W0506 03:31:11.959799 139885692258112 metrics.py:103] DICE score is technically 1.0, but prediction and truth arrays are empty. \n"
     ]
    },
    {
     "name": "stderr",
     "output_type": "stream",
     "text": [
      "W0506 03:31:11.974300 139885692258112 metrics.py:103] DICE score is technically 1.0, but prediction and truth arrays are empty. \n"
     ]
    },
    {
     "name": "stderr",
     "output_type": "stream",
     "text": [
      "W0506 03:31:11.988636 139885692258112 metrics.py:103] DICE score is technically 1.0, but prediction and truth arrays are empty. \n"
     ]
    },
    {
     "name": "stderr",
     "output_type": "stream",
     "text": [
      "W0506 03:31:12.003265 139885692258112 metrics.py:103] DICE score is technically 1.0, but prediction and truth arrays are empty. \n"
     ]
    },
    {
     "name": "stderr",
     "output_type": "stream",
     "text": [
      "W0506 03:31:12.018497 139885692258112 metrics.py:103] DICE score is technically 1.0, but prediction and truth arrays are empty. \n"
     ]
    },
    {
     "name": "stderr",
     "output_type": "stream",
     "text": [
      "W0506 03:31:12.032906 139885692258112 metrics.py:103] DICE score is technically 1.0, but prediction and truth arrays are empty. \n"
     ]
    },
    {
     "name": "stderr",
     "output_type": "stream",
     "text": [
      "W0506 03:31:12.047204 139885692258112 metrics.py:103] DICE score is technically 1.0, but prediction and truth arrays are empty. \n"
     ]
    },
    {
     "name": "stderr",
     "output_type": "stream",
     "text": [
      "W0506 03:31:12.061578 139885692258112 metrics.py:103] DICE score is technically 1.0, but prediction and truth arrays are empty. \n"
     ]
    },
    {
     "name": "stderr",
     "output_type": "stream",
     "text": [
      "W0506 03:31:12.075885 139885692258112 metrics.py:103] DICE score is technically 1.0, but prediction and truth arrays are empty. \n"
     ]
    },
    {
     "name": "stderr",
     "output_type": "stream",
     "text": [
      "W0506 03:31:12.090253 139885692258112 metrics.py:103] DICE score is technically 1.0, but prediction and truth arrays are empty. \n"
     ]
    },
    {
     "name": "stderr",
     "output_type": "stream",
     "text": [
      "W0506 03:31:12.104750 139885692258112 metrics.py:103] DICE score is technically 1.0, but prediction and truth arrays are empty. \n"
     ]
    },
    {
     "name": "stderr",
     "output_type": "stream",
     "text": [
      "W0506 03:31:12.119365 139885692258112 metrics.py:103] DICE score is technically 1.0, but prediction and truth arrays are empty. \n"
     ]
    },
    {
     "name": "stderr",
     "output_type": "stream",
     "text": [
      "W0506 03:31:12.133512 139885692258112 metrics.py:103] DICE score is technically 1.0, but prediction and truth arrays are empty. \n"
     ]
    },
    {
     "name": "stderr",
     "output_type": "stream",
     "text": [
      "W0506 03:31:12.147643 139885692258112 metrics.py:103] DICE score is technically 1.0, but prediction and truth arrays are empty. \n"
     ]
    },
    {
     "name": "stderr",
     "output_type": "stream",
     "text": [
      "W0506 03:31:12.162088 139885692258112 metrics.py:103] DICE score is technically 1.0, but prediction and truth arrays are empty. \n"
     ]
    },
    {
     "name": "stderr",
     "output_type": "stream",
     "text": [
      "W0506 03:31:18.817321 139885692258112 metrics.py:103] DICE score is technically 1.0, but prediction and truth arrays are empty. \n"
     ]
    },
    {
     "name": "stderr",
     "output_type": "stream",
     "text": [
      "W0506 03:31:18.835436 139885692258112 metrics.py:103] DICE score is technically 1.0, but prediction and truth arrays are empty. \n"
     ]
    },
    {
     "name": "stderr",
     "output_type": "stream",
     "text": [
      "W0506 03:31:18.849168 139885692258112 metrics.py:103] DICE score is technically 1.0, but prediction and truth arrays are empty. \n"
     ]
    },
    {
     "name": "stderr",
     "output_type": "stream",
     "text": [
      "W0506 03:31:18.863086 139885692258112 metrics.py:103] DICE score is technically 1.0, but prediction and truth arrays are empty. \n"
     ]
    },
    {
     "name": "stderr",
     "output_type": "stream",
     "text": [
      "W0506 03:31:18.876862 139885692258112 metrics.py:103] DICE score is technically 1.0, but prediction and truth arrays are empty. \n"
     ]
    },
    {
     "name": "stderr",
     "output_type": "stream",
     "text": [
      "W0506 03:31:18.890531 139885692258112 metrics.py:103] DICE score is technically 1.0, but prediction and truth arrays are empty. \n"
     ]
    },
    {
     "name": "stderr",
     "output_type": "stream",
     "text": [
      "W0506 03:31:18.904207 139885692258112 metrics.py:103] DICE score is technically 1.0, but prediction and truth arrays are empty. \n"
     ]
    },
    {
     "name": "stderr",
     "output_type": "stream",
     "text": [
      "W0506 03:31:18.917933 139885692258112 metrics.py:103] DICE score is technically 1.0, but prediction and truth arrays are empty. \n"
     ]
    },
    {
     "name": "stderr",
     "output_type": "stream",
     "text": [
      "W0506 03:31:18.931870 139885692258112 metrics.py:103] DICE score is technically 1.0, but prediction and truth arrays are empty. \n"
     ]
    },
    {
     "name": "stderr",
     "output_type": "stream",
     "text": [
      "W0506 03:31:18.945699 139885692258112 metrics.py:103] DICE score is technically 1.0, but prediction and truth arrays are empty. \n"
     ]
    },
    {
     "name": "stderr",
     "output_type": "stream",
     "text": [
      "W0506 03:31:18.959530 139885692258112 metrics.py:103] DICE score is technically 1.0, but prediction and truth arrays are empty. \n"
     ]
    },
    {
     "name": "stderr",
     "output_type": "stream",
     "text": [
      "W0506 03:31:18.973359 139885692258112 metrics.py:103] DICE score is technically 1.0, but prediction and truth arrays are empty. \n"
     ]
    },
    {
     "name": "stderr",
     "output_type": "stream",
     "text": [
      "W0506 03:31:18.987362 139885692258112 metrics.py:103] DICE score is technically 1.0, but prediction and truth arrays are empty. \n"
     ]
    },
    {
     "name": "stderr",
     "output_type": "stream",
     "text": [
      "W0506 03:31:19.001341 139885692258112 metrics.py:103] DICE score is technically 1.0, but prediction and truth arrays are empty. \n"
     ]
    },
    {
     "name": "stderr",
     "output_type": "stream",
     "text": [
      "W0506 03:31:19.015335 139885692258112 metrics.py:103] DICE score is technically 1.0, but prediction and truth arrays are empty. \n"
     ]
    },
    {
     "name": "stderr",
     "output_type": "stream",
     "text": [
      "W0506 03:31:19.029928 139885692258112 metrics.py:103] DICE score is technically 1.0, but prediction and truth arrays are empty. \n"
     ]
    },
    {
     "name": "stderr",
     "output_type": "stream",
     "text": [
      "W0506 03:31:19.044418 139885692258112 metrics.py:103] DICE score is technically 1.0, but prediction and truth arrays are empty. \n"
     ]
    },
    {
     "name": "stderr",
     "output_type": "stream",
     "text": [
      "W0506 03:31:19.059028 139885692258112 metrics.py:103] DICE score is technically 1.0, but prediction and truth arrays are empty. \n"
     ]
    },
    {
     "name": "stderr",
     "output_type": "stream",
     "text": [
      "W0506 03:31:19.074746 139885692258112 metrics.py:103] DICE score is technically 1.0, but prediction and truth arrays are empty. \n"
     ]
    },
    {
     "name": "stderr",
     "output_type": "stream",
     "text": [
      "W0506 03:31:19.089526 139885692258112 metrics.py:103] DICE score is technically 1.0, but prediction and truth arrays are empty. \n"
     ]
    },
    {
     "name": "stderr",
     "output_type": "stream",
     "text": [
      "W0506 03:31:19.104666 139885692258112 metrics.py:103] DICE score is technically 1.0, but prediction and truth arrays are empty. \n"
     ]
    },
    {
     "name": "stderr",
     "output_type": "stream",
     "text": [
      "W0506 03:31:19.119996 139885692258112 metrics.py:103] DICE score is technically 1.0, but prediction and truth arrays are empty. \n"
     ]
    },
    {
     "name": "stderr",
     "output_type": "stream",
     "text": [
      "W0506 03:31:19.137347 139885692258112 metrics.py:103] DICE score is technically 1.0, but prediction and truth arrays are empty. \n"
     ]
    },
    {
     "name": "stderr",
     "output_type": "stream",
     "text": [
      "W0506 03:31:19.152604 139885692258112 metrics.py:103] DICE score is technically 1.0, but prediction and truth arrays are empty. \n"
     ]
    },
    {
     "name": "stderr",
     "output_type": "stream",
     "text": [
      "W0506 03:31:19.167072 139885692258112 metrics.py:103] DICE score is technically 1.0, but prediction and truth arrays are empty. \n"
     ]
    },
    {
     "name": "stderr",
     "output_type": "stream",
     "text": [
      "W0506 03:31:19.181465 139885692258112 metrics.py:103] DICE score is technically 1.0, but prediction and truth arrays are empty. \n"
     ]
    },
    {
     "name": "stderr",
     "output_type": "stream",
     "text": [
      "W0506 03:31:19.195658 139885692258112 metrics.py:103] DICE score is technically 1.0, but prediction and truth arrays are empty. \n"
     ]
    },
    {
     "name": "stderr",
     "output_type": "stream",
     "text": [
      "W0506 03:31:19.209958 139885692258112 metrics.py:103] DICE score is technically 1.0, but prediction and truth arrays are empty. \n"
     ]
    },
    {
     "name": "stderr",
     "output_type": "stream",
     "text": [
      "W0506 03:31:19.223961 139885692258112 metrics.py:103] DICE score is technically 1.0, but prediction and truth arrays are empty. \n"
     ]
    },
    {
     "name": "stderr",
     "output_type": "stream",
     "text": [
      "W0506 03:31:19.236972 139885692258112 metrics.py:103] DICE score is technically 1.0, but prediction and truth arrays are empty. \n"
     ]
    },
    {
     "name": "stderr",
     "output_type": "stream",
     "text": [
      "W0506 03:31:19.249791 139885692258112 metrics.py:103] DICE score is technically 1.0, but prediction and truth arrays are empty. \n"
     ]
    },
    {
     "name": "stderr",
     "output_type": "stream",
     "text": [
      "W0506 03:31:19.262379 139885692258112 metrics.py:103] DICE score is technically 1.0, but prediction and truth arrays are empty. \n"
     ]
    },
    {
     "name": "stderr",
     "output_type": "stream",
     "text": [
      "W0506 03:31:19.274926 139885692258112 metrics.py:103] DICE score is technically 1.0, but prediction and truth arrays are empty. \n"
     ]
    },
    {
     "name": "stderr",
     "output_type": "stream",
     "text": [
      "W0506 03:31:19.298787 139885692258112 metrics.py:103] DICE score is technically 1.0, but prediction and truth arrays are empty. \n"
     ]
    },
    {
     "name": "stderr",
     "output_type": "stream",
     "text": [
      "W0506 03:31:19.323067 139885692258112 metrics.py:103] DICE score is technically 1.0, but prediction and truth arrays are empty. \n"
     ]
    },
    {
     "name": "stderr",
     "output_type": "stream",
     "text": [
      "W0506 03:31:19.335720 139885692258112 metrics.py:103] DICE score is technically 1.0, but prediction and truth arrays are empty. \n"
     ]
    },
    {
     "name": "stderr",
     "output_type": "stream",
     "text": [
      "W0506 03:31:19.348737 139885692258112 metrics.py:103] DICE score is technically 1.0, but prediction and truth arrays are empty. \n"
     ]
    },
    {
     "name": "stderr",
     "output_type": "stream",
     "text": [
      "W0506 03:31:19.361793 139885692258112 metrics.py:103] DICE score is technically 1.0, but prediction and truth arrays are empty. \n"
     ]
    },
    {
     "name": "stderr",
     "output_type": "stream",
     "text": [
      "W0506 03:31:20.239066 139885692258112 metrics.py:103] DICE score is technically 1.0, but prediction and truth arrays are empty. \n"
     ]
    },
    {
     "name": "stderr",
     "output_type": "stream",
     "text": [
      "W0506 03:31:20.251483 139885692258112 metrics.py:103] DICE score is technically 1.0, but prediction and truth arrays are empty. \n"
     ]
    },
    {
     "name": "stderr",
     "output_type": "stream",
     "text": [
      "W0506 03:31:20.264253 139885692258112 metrics.py:103] DICE score is technically 1.0, but prediction and truth arrays are empty. \n"
     ]
    },
    {
     "name": "stderr",
     "output_type": "stream",
     "text": [
      "W0506 03:31:20.277052 139885692258112 metrics.py:103] DICE score is technically 1.0, but prediction and truth arrays are empty. \n"
     ]
    },
    {
     "name": "stderr",
     "output_type": "stream",
     "text": [
      "W0506 03:31:20.289599 139885692258112 metrics.py:103] DICE score is technically 1.0, but prediction and truth arrays are empty. \n"
     ]
    },
    {
     "name": "stderr",
     "output_type": "stream",
     "text": [
      "W0506 03:31:20.302227 139885692258112 metrics.py:103] DICE score is technically 1.0, but prediction and truth arrays are empty. \n"
     ]
    },
    {
     "name": "stderr",
     "output_type": "stream",
     "text": [
      "W0506 03:31:20.314941 139885692258112 metrics.py:103] DICE score is technically 1.0, but prediction and truth arrays are empty. \n"
     ]
    },
    {
     "name": "stderr",
     "output_type": "stream",
     "text": [
      "W0506 03:31:20.327491 139885692258112 metrics.py:103] DICE score is technically 1.0, but prediction and truth arrays are empty. \n"
     ]
    },
    {
     "name": "stderr",
     "output_type": "stream",
     "text": [
      "W0506 03:31:20.340119 139885692258112 metrics.py:103] DICE score is technically 1.0, but prediction and truth arrays are empty. \n"
     ]
    },
    {
     "name": "stderr",
     "output_type": "stream",
     "text": [
      "W0506 03:31:20.352726 139885692258112 metrics.py:103] DICE score is technically 1.0, but prediction and truth arrays are empty. \n"
     ]
    },
    {
     "name": "stderr",
     "output_type": "stream",
     "text": [
      "W0506 03:31:20.365391 139885692258112 metrics.py:103] DICE score is technically 1.0, but prediction and truth arrays are empty. \n"
     ]
    },
    {
     "name": "stderr",
     "output_type": "stream",
     "text": [
      "W0506 03:31:20.377931 139885692258112 metrics.py:103] DICE score is technically 1.0, but prediction and truth arrays are empty. \n"
     ]
    },
    {
     "name": "stderr",
     "output_type": "stream",
     "text": [
      "W0506 03:31:20.390563 139885692258112 metrics.py:103] DICE score is technically 1.0, but prediction and truth arrays are empty. \n"
     ]
    },
    {
     "name": "stderr",
     "output_type": "stream",
     "text": [
      "W0506 03:31:20.403142 139885692258112 metrics.py:103] DICE score is technically 1.0, but prediction and truth arrays are empty. \n"
     ]
    },
    {
     "name": "stderr",
     "output_type": "stream",
     "text": [
      "W0506 03:31:20.415742 139885692258112 metrics.py:103] DICE score is technically 1.0, but prediction and truth arrays are empty. \n"
     ]
    },
    {
     "name": "stderr",
     "output_type": "stream",
     "text": [
      "W0506 03:31:20.428564 139885692258112 metrics.py:103] DICE score is technically 1.0, but prediction and truth arrays are empty. \n"
     ]
    },
    {
     "name": "stderr",
     "output_type": "stream",
     "text": [
      "W0506 03:31:20.441575 139885692258112 metrics.py:103] DICE score is technically 1.0, but prediction and truth arrays are empty. \n"
     ]
    },
    {
     "name": "stderr",
     "output_type": "stream",
     "text": [
      "W0506 03:31:20.454855 139885692258112 metrics.py:103] DICE score is technically 1.0, but prediction and truth arrays are empty. \n"
     ]
    },
    {
     "name": "stderr",
     "output_type": "stream",
     "text": [
      "W0506 03:31:20.467650 139885692258112 metrics.py:103] DICE score is technically 1.0, but prediction and truth arrays are empty. \n"
     ]
    },
    {
     "name": "stderr",
     "output_type": "stream",
     "text": [
      "W0506 03:31:20.487182 139885692258112 metrics.py:103] DICE score is technically 1.0, but prediction and truth arrays are empty. \n"
     ]
    },
    {
     "name": "stderr",
     "output_type": "stream",
     "text": [
      "W0506 03:31:20.501525 139885692258112 metrics.py:103] DICE score is technically 1.0, but prediction and truth arrays are empty. \n"
     ]
    },
    {
     "name": "stderr",
     "output_type": "stream",
     "text": [
      "W0506 03:31:20.515959 139885692258112 metrics.py:103] DICE score is technically 1.0, but prediction and truth arrays are empty. \n"
     ]
    },
    {
     "name": "stderr",
     "output_type": "stream",
     "text": [
      "W0506 03:31:20.530143 139885692258112 metrics.py:103] DICE score is technically 1.0, but prediction and truth arrays are empty. \n"
     ]
    },
    {
     "name": "stderr",
     "output_type": "stream",
     "text": [
      "W0506 03:31:20.544206 139885692258112 metrics.py:103] DICE score is technically 1.0, but prediction and truth arrays are empty. \n"
     ]
    },
    {
     "name": "stderr",
     "output_type": "stream",
     "text": [
      "W0506 03:31:20.558922 139885692258112 metrics.py:103] DICE score is technically 1.0, but prediction and truth arrays are empty. \n"
     ]
    },
    {
     "name": "stderr",
     "output_type": "stream",
     "text": [
      "W0506 03:31:20.573200 139885692258112 metrics.py:103] DICE score is technically 1.0, but prediction and truth arrays are empty. \n"
     ]
    },
    {
     "name": "stderr",
     "output_type": "stream",
     "text": [
      "W0506 03:31:20.587356 139885692258112 metrics.py:103] DICE score is technically 1.0, but prediction and truth arrays are empty. \n"
     ]
    },
    {
     "name": "stderr",
     "output_type": "stream",
     "text": [
      "W0506 03:31:20.601782 139885692258112 metrics.py:103] DICE score is technically 1.0, but prediction and truth arrays are empty. \n"
     ]
    },
    {
     "name": "stderr",
     "output_type": "stream",
     "text": [
      "W0506 03:31:20.615994 139885692258112 metrics.py:103] DICE score is technically 1.0, but prediction and truth arrays are empty. \n"
     ]
    },
    {
     "name": "stderr",
     "output_type": "stream",
     "text": [
      "W0506 03:31:20.630369 139885692258112 metrics.py:103] DICE score is technically 1.0, but prediction and truth arrays are empty. \n"
     ]
    },
    {
     "name": "stderr",
     "output_type": "stream",
     "text": [
      "W0506 03:31:20.644675 139885692258112 metrics.py:103] DICE score is technically 1.0, but prediction and truth arrays are empty. \n"
     ]
    },
    {
     "name": "stderr",
     "output_type": "stream",
     "text": [
      "W0506 03:31:20.658974 139885692258112 metrics.py:103] DICE score is technically 1.0, but prediction and truth arrays are empty. \n"
     ]
    },
    {
     "name": "stderr",
     "output_type": "stream",
     "text": [
      "W0506 03:31:20.673875 139885692258112 metrics.py:103] DICE score is technically 1.0, but prediction and truth arrays are empty. \n"
     ]
    },
    {
     "name": "stderr",
     "output_type": "stream",
     "text": [
      "W0506 03:31:20.688455 139885692258112 metrics.py:103] DICE score is technically 1.0, but prediction and truth arrays are empty. \n"
     ]
    },
    {
     "name": "stderr",
     "output_type": "stream",
     "text": [
      "W0506 03:31:20.701947 139885692258112 metrics.py:103] DICE score is technically 1.0, but prediction and truth arrays are empty. \n"
     ]
    },
    {
     "name": "stderr",
     "output_type": "stream",
     "text": [
      "W0506 03:31:20.715052 139885692258112 metrics.py:103] DICE score is technically 1.0, but prediction and truth arrays are empty. \n"
     ]
    },
    {
     "name": "stderr",
     "output_type": "stream",
     "text": [
      "W0506 03:31:20.732748 139885692258112 metrics.py:103] DICE score is technically 1.0, but prediction and truth arrays are empty. \n"
     ]
    },
    {
     "name": "stderr",
     "output_type": "stream",
     "text": [
      "W0506 03:31:20.746802 139885692258112 metrics.py:103] DICE score is technically 1.0, but prediction and truth arrays are empty. \n"
     ]
    },
    {
     "name": "stderr",
     "output_type": "stream",
     "text": [
      "W0506 03:31:21.562486 139885692258112 metrics.py:103] DICE score is technically 1.0, but prediction and truth arrays are empty. \n"
     ]
    },
    {
     "name": "stderr",
     "output_type": "stream",
     "text": [
      "W0506 03:31:21.575015 139885692258112 metrics.py:103] DICE score is technically 1.0, but prediction and truth arrays are empty. \n"
     ]
    },
    {
     "name": "stderr",
     "output_type": "stream",
     "text": [
      "W0506 03:31:21.587300 139885692258112 metrics.py:103] DICE score is technically 1.0, but prediction and truth arrays are empty. \n"
     ]
    },
    {
     "name": "stderr",
     "output_type": "stream",
     "text": [
      "W0506 03:31:21.599600 139885692258112 metrics.py:103] DICE score is technically 1.0, but prediction and truth arrays are empty. \n"
     ]
    },
    {
     "name": "stderr",
     "output_type": "stream",
     "text": [
      "W0506 03:31:21.612088 139885692258112 metrics.py:103] DICE score is technically 1.0, but prediction and truth arrays are empty. \n"
     ]
    },
    {
     "name": "stderr",
     "output_type": "stream",
     "text": [
      "W0506 03:31:21.633260 139885692258112 metrics.py:103] DICE score is technically 1.0, but prediction and truth arrays are empty. \n"
     ]
    },
    {
     "name": "stderr",
     "output_type": "stream",
     "text": [
      "W0506 03:31:21.647913 139885692258112 metrics.py:103] DICE score is technically 1.0, but prediction and truth arrays are empty. \n"
     ]
    },
    {
     "name": "stderr",
     "output_type": "stream",
     "text": [
      "W0506 03:31:21.662456 139885692258112 metrics.py:103] DICE score is technically 1.0, but prediction and truth arrays are empty. \n"
     ]
    },
    {
     "name": "stderr",
     "output_type": "stream",
     "text": [
      "W0506 03:31:21.676372 139885692258112 metrics.py:103] DICE score is technically 1.0, but prediction and truth arrays are empty. \n"
     ]
    },
    {
     "name": "stderr",
     "output_type": "stream",
     "text": [
      "W0506 03:31:21.690863 139885692258112 metrics.py:103] DICE score is technically 1.0, but prediction and truth arrays are empty. \n"
     ]
    },
    {
     "name": "stderr",
     "output_type": "stream",
     "text": [
      "W0506 03:31:21.704603 139885692258112 metrics.py:103] DICE score is technically 1.0, but prediction and truth arrays are empty. \n"
     ]
    },
    {
     "name": "stderr",
     "output_type": "stream",
     "text": [
      "W0506 03:31:21.718986 139885692258112 metrics.py:103] DICE score is technically 1.0, but prediction and truth arrays are empty. \n"
     ]
    },
    {
     "name": "stderr",
     "output_type": "stream",
     "text": [
      "W0506 03:31:21.733454 139885692258112 metrics.py:103] DICE score is technically 1.0, but prediction and truth arrays are empty. \n"
     ]
    },
    {
     "name": "stderr",
     "output_type": "stream",
     "text": [
      "W0506 03:31:21.748775 139885692258112 metrics.py:103] DICE score is technically 1.0, but prediction and truth arrays are empty. \n"
     ]
    },
    {
     "name": "stderr",
     "output_type": "stream",
     "text": [
      "W0506 03:31:21.764504 139885692258112 metrics.py:103] DICE score is technically 1.0, but prediction and truth arrays are empty. \n"
     ]
    },
    {
     "name": "stderr",
     "output_type": "stream",
     "text": [
      "W0506 03:31:21.778464 139885692258112 metrics.py:103] DICE score is technically 1.0, but prediction and truth arrays are empty. \n"
     ]
    },
    {
     "name": "stderr",
     "output_type": "stream",
     "text": [
      "W0506 03:31:21.792210 139885692258112 metrics.py:103] DICE score is technically 1.0, but prediction and truth arrays are empty. \n"
     ]
    },
    {
     "name": "stderr",
     "output_type": "stream",
     "text": [
      "W0506 03:31:21.805002 139885692258112 metrics.py:103] DICE score is technically 1.0, but prediction and truth arrays are empty. \n"
     ]
    },
    {
     "name": "stderr",
     "output_type": "stream",
     "text": [
      "W0506 03:31:21.819149 139885692258112 metrics.py:103] DICE score is technically 1.0, but prediction and truth arrays are empty. \n"
     ]
    },
    {
     "name": "stderr",
     "output_type": "stream",
     "text": [
      "W0506 03:31:21.832785 139885692258112 metrics.py:103] DICE score is technically 1.0, but prediction and truth arrays are empty. \n"
     ]
    },
    {
     "name": "stderr",
     "output_type": "stream",
     "text": [
      "W0506 03:31:21.845274 139885692258112 metrics.py:103] DICE score is technically 1.0, but prediction and truth arrays are empty. \n"
     ]
    },
    {
     "name": "stderr",
     "output_type": "stream",
     "text": [
      "W0506 03:31:21.859104 139885692258112 metrics.py:103] DICE score is technically 1.0, but prediction and truth arrays are empty. \n"
     ]
    },
    {
     "name": "stderr",
     "output_type": "stream",
     "text": [
      "W0506 03:31:21.872465 139885692258112 metrics.py:103] DICE score is technically 1.0, but prediction and truth arrays are empty. \n"
     ]
    },
    {
     "name": "stderr",
     "output_type": "stream",
     "text": [
      "W0506 03:31:21.885874 139885692258112 metrics.py:103] DICE score is technically 1.0, but prediction and truth arrays are empty. \n"
     ]
    },
    {
     "name": "stderr",
     "output_type": "stream",
     "text": [
      "W0506 03:31:21.898877 139885692258112 metrics.py:103] DICE score is technically 1.0, but prediction and truth arrays are empty. \n"
     ]
    },
    {
     "name": "stderr",
     "output_type": "stream",
     "text": [
      "W0506 03:31:21.912198 139885692258112 metrics.py:103] DICE score is technically 1.0, but prediction and truth arrays are empty. \n"
     ]
    },
    {
     "name": "stderr",
     "output_type": "stream",
     "text": [
      "W0506 03:31:21.925183 139885692258112 metrics.py:103] DICE score is technically 1.0, but prediction and truth arrays are empty. \n"
     ]
    },
    {
     "name": "stderr",
     "output_type": "stream",
     "text": [
      "W0506 03:31:21.938742 139885692258112 metrics.py:103] DICE score is technically 1.0, but prediction and truth arrays are empty. \n"
     ]
    },
    {
     "name": "stderr",
     "output_type": "stream",
     "text": [
      "W0506 03:31:21.951406 139885692258112 metrics.py:103] DICE score is technically 1.0, but prediction and truth arrays are empty. \n"
     ]
    },
    {
     "name": "stderr",
     "output_type": "stream",
     "text": [
      "W0506 03:31:21.963361 139885692258112 metrics.py:103] DICE score is technically 1.0, but prediction and truth arrays are empty. \n"
     ]
    },
    {
     "name": "stderr",
     "output_type": "stream",
     "text": [
      "W0506 03:31:21.975378 139885692258112 metrics.py:103] DICE score is technically 1.0, but prediction and truth arrays are empty. \n"
     ]
    },
    {
     "name": "stderr",
     "output_type": "stream",
     "text": [
      "W0506 03:31:21.987937 139885692258112 metrics.py:103] DICE score is technically 1.0, but prediction and truth arrays are empty. \n"
     ]
    },
    {
     "name": "stderr",
     "output_type": "stream",
     "text": [
      "W0506 03:31:22.000506 139885692258112 metrics.py:103] DICE score is technically 1.0, but prediction and truth arrays are empty. \n"
     ]
    },
    {
     "name": "stderr",
     "output_type": "stream",
     "text": [
      "W0506 03:31:22.013296 139885692258112 metrics.py:103] DICE score is technically 1.0, but prediction and truth arrays are empty. \n"
     ]
    },
    {
     "name": "stderr",
     "output_type": "stream",
     "text": [
      "W0506 03:31:22.025981 139885692258112 metrics.py:103] DICE score is technically 1.0, but prediction and truth arrays are empty. \n"
     ]
    },
    {
     "name": "stderr",
     "output_type": "stream",
     "text": [
      "W0506 03:31:22.038398 139885692258112 metrics.py:103] DICE score is technically 1.0, but prediction and truth arrays are empty. \n"
     ]
    },
    {
     "name": "stderr",
     "output_type": "stream",
     "text": [
      "W0506 03:31:22.051128 139885692258112 metrics.py:103] DICE score is technically 1.0, but prediction and truth arrays are empty. \n"
     ]
    },
    {
     "name": "stderr",
     "output_type": "stream",
     "text": [
      "W0506 03:31:22.063692 139885692258112 metrics.py:103] DICE score is technically 1.0, but prediction and truth arrays are empty. \n"
     ]
    },
    {
     "name": "stderr",
     "output_type": "stream",
     "text": [
      "W0506 03:31:22.076221 139885692258112 metrics.py:103] DICE score is technically 1.0, but prediction and truth arrays are empty. \n"
     ]
    },
    {
     "name": "stderr",
     "output_type": "stream",
     "text": [
      "W0506 03:31:22.088761 139885692258112 metrics.py:103] DICE score is technically 1.0, but prediction and truth arrays are empty. \n"
     ]
    },
    {
     "name": "stderr",
     "output_type": "stream",
     "text": [
      "W0506 03:31:22.101164 139885692258112 metrics.py:103] DICE score is technically 1.0, but prediction and truth arrays are empty. \n"
     ]
    },
    {
     "name": "stderr",
     "output_type": "stream",
     "text": [
      "W0506 03:31:22.113617 139885692258112 metrics.py:103] DICE score is technically 1.0, but prediction and truth arrays are empty. \n"
     ]
    },
    {
     "name": "stderr",
     "output_type": "stream",
     "text": [
      "W0506 03:31:22.126134 139885692258112 metrics.py:103] DICE score is technically 1.0, but prediction and truth arrays are empty. \n"
     ]
    },
    {
     "name": "stderr",
     "output_type": "stream",
     "text": [
      "W0506 03:31:22.138645 139885692258112 metrics.py:103] DICE score is technically 1.0, but prediction and truth arrays are empty. \n"
     ]
    },
    {
     "name": "stderr",
     "output_type": "stream",
     "text": [
      "W0506 03:31:22.151082 139885692258112 metrics.py:103] DICE score is technically 1.0, but prediction and truth arrays are empty. \n"
     ]
    },
    {
     "name": "stderr",
     "output_type": "stream",
     "text": [
      "W0506 03:31:22.163648 139885692258112 metrics.py:103] DICE score is technically 1.0, but prediction and truth arrays are empty. \n"
     ]
    },
    {
     "name": "stderr",
     "output_type": "stream",
     "text": [
      "W0506 03:31:22.176500 139885692258112 metrics.py:103] DICE score is technically 1.0, but prediction and truth arrays are empty. \n"
     ]
    },
    {
     "name": "stderr",
     "output_type": "stream",
     "text": [
      "W0506 03:31:22.188980 139885692258112 metrics.py:103] DICE score is technically 1.0, but prediction and truth arrays are empty. \n"
     ]
    },
    {
     "name": "stderr",
     "output_type": "stream",
     "text": [
      "W0506 03:31:22.201895 139885692258112 metrics.py:103] DICE score is technically 1.0, but prediction and truth arrays are empty. \n"
     ]
    },
    {
     "name": "stderr",
     "output_type": "stream",
     "text": [
      "W0506 03:31:22.219014 139885692258112 metrics.py:103] DICE score is technically 1.0, but prediction and truth arrays are empty. \n"
     ]
    },
    {
     "name": "stderr",
     "output_type": "stream",
     "text": [
      "W0506 03:31:22.233154 139885692258112 metrics.py:103] DICE score is technically 1.0, but prediction and truth arrays are empty. \n"
     ]
    },
    {
     "name": "stderr",
     "output_type": "stream",
     "text": [
      "W0506 03:31:22.247212 139885692258112 metrics.py:103] DICE score is technically 1.0, but prediction and truth arrays are empty. \n"
     ]
    },
    {
     "name": "stderr",
     "output_type": "stream",
     "text": [
      "W0506 03:31:22.261407 139885692258112 metrics.py:103] DICE score is technically 1.0, but prediction and truth arrays are empty. \n"
     ]
    },
    {
     "name": "stderr",
     "output_type": "stream",
     "text": [
      "W0506 03:31:22.275310 139885692258112 metrics.py:103] DICE score is technically 1.0, but prediction and truth arrays are empty. \n"
     ]
    },
    {
     "name": "stderr",
     "output_type": "stream",
     "text": [
      "W0506 03:31:22.289324 139885692258112 metrics.py:103] DICE score is technically 1.0, but prediction and truth arrays are empty. \n"
     ]
    },
    {
     "name": "stderr",
     "output_type": "stream",
     "text": [
      "W0506 03:31:22.303263 139885692258112 metrics.py:103] DICE score is technically 1.0, but prediction and truth arrays are empty. \n"
     ]
    },
    {
     "name": "stderr",
     "output_type": "stream",
     "text": [
      "W0506 03:31:22.317270 139885692258112 metrics.py:103] DICE score is technically 1.0, but prediction and truth arrays are empty. \n"
     ]
    },
    {
     "name": "stderr",
     "output_type": "stream",
     "text": [
      "W0506 03:31:22.332363 139885692258112 metrics.py:103] DICE score is technically 1.0, but prediction and truth arrays are empty. \n"
     ]
    },
    {
     "name": "stderr",
     "output_type": "stream",
     "text": [
      "W0506 03:31:22.346426 139885692258112 metrics.py:103] DICE score is technically 1.0, but prediction and truth arrays are empty. \n"
     ]
    },
    {
     "name": "stderr",
     "output_type": "stream",
     "text": [
      "W0506 03:31:22.360440 139885692258112 metrics.py:103] DICE score is technically 1.0, but prediction and truth arrays are empty. \n"
     ]
    },
    {
     "name": "stderr",
     "output_type": "stream",
     "text": [
      "W0506 03:31:22.374443 139885692258112 metrics.py:103] DICE score is technically 1.0, but prediction and truth arrays are empty. \n"
     ]
    },
    {
     "name": "stderr",
     "output_type": "stream",
     "text": [
      "W0506 03:31:22.388440 139885692258112 metrics.py:103] DICE score is technically 1.0, but prediction and truth arrays are empty. \n"
     ]
    },
    {
     "name": "stderr",
     "output_type": "stream",
     "text": [
      "W0506 03:31:22.402376 139885692258112 metrics.py:103] DICE score is technically 1.0, but prediction and truth arrays are empty. \n"
     ]
    },
    {
     "name": "stderr",
     "output_type": "stream",
     "text": [
      "W0506 03:31:22.416166 139885692258112 metrics.py:103] DICE score is technically 1.0, but prediction and truth arrays are empty. \n"
     ]
    },
    {
     "name": "stderr",
     "output_type": "stream",
     "text": [
      "W0506 03:31:22.430177 139885692258112 metrics.py:103] DICE score is technically 1.0, but prediction and truth arrays are empty. \n"
     ]
    },
    {
     "name": "stderr",
     "output_type": "stream",
     "text": [
      "W0506 03:31:22.444193 139885692258112 metrics.py:103] DICE score is technically 1.0, but prediction and truth arrays are empty. \n"
     ]
    },
    {
     "name": "stderr",
     "output_type": "stream",
     "text": [
      "W0506 03:31:22.461049 139885692258112 metrics.py:103] DICE score is technically 1.0, but prediction and truth arrays are empty. \n"
     ]
    },
    {
     "name": "stderr",
     "output_type": "stream",
     "text": [
      "W0506 03:31:22.476044 139885692258112 metrics.py:103] DICE score is technically 1.0, but prediction and truth arrays are empty. \n"
     ]
    },
    {
     "name": "stderr",
     "output_type": "stream",
     "text": [
      "W0506 03:31:22.490042 139885692258112 metrics.py:103] DICE score is technically 1.0, but prediction and truth arrays are empty. \n"
     ]
    },
    {
     "name": "stderr",
     "output_type": "stream",
     "text": [
      "W0506 03:31:22.503376 139885692258112 metrics.py:103] DICE score is technically 1.0, but prediction and truth arrays are empty. \n"
     ]
    },
    {
     "name": "stderr",
     "output_type": "stream",
     "text": [
      "W0506 03:31:22.516124 139885692258112 metrics.py:103] DICE score is technically 1.0, but prediction and truth arrays are empty. \n"
     ]
    },
    {
     "name": "stderr",
     "output_type": "stream",
     "text": [
      "W0506 03:31:22.628954 139885692258112 metrics.py:103] DICE score is technically 1.0, but prediction and truth arrays are empty. \n"
     ]
    },
    {
     "name": "stderr",
     "output_type": "stream",
     "text": [
      "W0506 03:31:22.642139 139885692258112 metrics.py:103] DICE score is technically 1.0, but prediction and truth arrays are empty. \n"
     ]
    },
    {
     "name": "stderr",
     "output_type": "stream",
     "text": [
      "W0506 03:31:22.654688 139885692258112 metrics.py:103] DICE score is technically 1.0, but prediction and truth arrays are empty. \n"
     ]
    },
    {
     "name": "stderr",
     "output_type": "stream",
     "text": [
      "W0506 03:31:22.667375 139885692258112 metrics.py:103] DICE score is technically 1.0, but prediction and truth arrays are empty. \n"
     ]
    },
    {
     "name": "stderr",
     "output_type": "stream",
     "text": [
      "W0506 03:31:22.680073 139885692258112 metrics.py:103] DICE score is technically 1.0, but prediction and truth arrays are empty. \n"
     ]
    },
    {
     "name": "stderr",
     "output_type": "stream",
     "text": [
      "W0506 03:31:22.692602 139885692258112 metrics.py:103] DICE score is technically 1.0, but prediction and truth arrays are empty. \n"
     ]
    },
    {
     "name": "stderr",
     "output_type": "stream",
     "text": [
      "W0506 03:31:22.705055 139885692258112 metrics.py:103] DICE score is technically 1.0, but prediction and truth arrays are empty. \n"
     ]
    },
    {
     "name": "stderr",
     "output_type": "stream",
     "text": [
      "W0506 03:31:22.717429 139885692258112 metrics.py:103] DICE score is technically 1.0, but prediction and truth arrays are empty. \n"
     ]
    },
    {
     "name": "stderr",
     "output_type": "stream",
     "text": [
      "W0506 03:31:22.729935 139885692258112 metrics.py:103] DICE score is technically 1.0, but prediction and truth arrays are empty. \n"
     ]
    },
    {
     "name": "stderr",
     "output_type": "stream",
     "text": [
      "W0506 03:31:22.742461 139885692258112 metrics.py:103] DICE score is technically 1.0, but prediction and truth arrays are empty. \n"
     ]
    },
    {
     "name": "stderr",
     "output_type": "stream",
     "text": [
      "W0506 03:31:22.754866 139885692258112 metrics.py:103] DICE score is technically 1.0, but prediction and truth arrays are empty. \n"
     ]
    },
    {
     "name": "stderr",
     "output_type": "stream",
     "text": [
      "W0506 03:31:22.767813 139885692258112 metrics.py:103] DICE score is technically 1.0, but prediction and truth arrays are empty. \n"
     ]
    },
    {
     "name": "stderr",
     "output_type": "stream",
     "text": [
      "W0506 03:31:22.780265 139885692258112 metrics.py:103] DICE score is technically 1.0, but prediction and truth arrays are empty. \n"
     ]
    },
    {
     "name": "stderr",
     "output_type": "stream",
     "text": [
      "W0506 03:31:22.792440 139885692258112 metrics.py:103] DICE score is technically 1.0, but prediction and truth arrays are empty. \n"
     ]
    },
    {
     "name": "stderr",
     "output_type": "stream",
     "text": [
      "W0506 03:31:22.804422 139885692258112 metrics.py:103] DICE score is technically 1.0, but prediction and truth arrays are empty. \n"
     ]
    },
    {
     "name": "stderr",
     "output_type": "stream",
     "text": [
      "W0506 03:31:22.816370 139885692258112 metrics.py:103] DICE score is technically 1.0, but prediction and truth arrays are empty. \n"
     ]
    },
    {
     "name": "stderr",
     "output_type": "stream",
     "text": [
      "W0506 03:31:22.828366 139885692258112 metrics.py:103] DICE score is technically 1.0, but prediction and truth arrays are empty. \n"
     ]
    },
    {
     "name": "stderr",
     "output_type": "stream",
     "text": [
      "W0506 03:31:22.840567 139885692258112 metrics.py:103] DICE score is technically 1.0, but prediction and truth arrays are empty. \n"
     ]
    },
    {
     "name": "stderr",
     "output_type": "stream",
     "text": [
      "W0506 03:31:22.852962 139885692258112 metrics.py:103] DICE score is technically 1.0, but prediction and truth arrays are empty. \n"
     ]
    },
    {
     "name": "stderr",
     "output_type": "stream",
     "text": [
      "W0506 03:31:22.865314 139885692258112 metrics.py:103] DICE score is technically 1.0, but prediction and truth arrays are empty. \n"
     ]
    },
    {
     "name": "stderr",
     "output_type": "stream",
     "text": [
      "W0506 03:31:22.878273 139885692258112 metrics.py:103] DICE score is technically 1.0, but prediction and truth arrays are empty. \n"
     ]
    },
    {
     "name": "stderr",
     "output_type": "stream",
     "text": [
      "W0506 03:31:22.890870 139885692258112 metrics.py:103] DICE score is technically 1.0, but prediction and truth arrays are empty. \n"
     ]
    },
    {
     "name": "stderr",
     "output_type": "stream",
     "text": [
      "W0506 03:31:22.903626 139885692258112 metrics.py:103] DICE score is technically 1.0, but prediction and truth arrays are empty. \n"
     ]
    },
    {
     "name": "stderr",
     "output_type": "stream",
     "text": [
      "W0506 03:31:22.915972 139885692258112 metrics.py:103] DICE score is technically 1.0, but prediction and truth arrays are empty. \n"
     ]
    },
    {
     "name": "stderr",
     "output_type": "stream",
     "text": [
      "W0506 03:31:22.928210 139885692258112 metrics.py:103] DICE score is technically 1.0, but prediction and truth arrays are empty. \n"
     ]
    },
    {
     "name": "stderr",
     "output_type": "stream",
     "text": [
      "W0506 03:31:22.940574 139885692258112 metrics.py:103] DICE score is technically 1.0, but prediction and truth arrays are empty. \n"
     ]
    },
    {
     "name": "stderr",
     "output_type": "stream",
     "text": [
      "W0506 03:31:22.952891 139885692258112 metrics.py:103] DICE score is technically 1.0, but prediction and truth arrays are empty. \n"
     ]
    },
    {
     "name": "stderr",
     "output_type": "stream",
     "text": [
      "W0506 03:31:22.965043 139885692258112 metrics.py:103] DICE score is technically 1.0, but prediction and truth arrays are empty. \n"
     ]
    },
    {
     "name": "stderr",
     "output_type": "stream",
     "text": [
      "W0506 03:31:22.977210 139885692258112 metrics.py:103] DICE score is technically 1.0, but prediction and truth arrays are empty. \n"
     ]
    },
    {
     "name": "stderr",
     "output_type": "stream",
     "text": [
      "W0506 03:31:22.989794 139885692258112 metrics.py:103] DICE score is technically 1.0, but prediction and truth arrays are empty. \n"
     ]
    },
    {
     "name": "stderr",
     "output_type": "stream",
     "text": [
      "W0506 03:31:23.002117 139885692258112 metrics.py:103] DICE score is technically 1.0, but prediction and truth arrays are empty. \n"
     ]
    },
    {
     "name": "stderr",
     "output_type": "stream",
     "text": [
      "W0506 03:31:23.014480 139885692258112 metrics.py:103] DICE score is technically 1.0, but prediction and truth arrays are empty. \n"
     ]
    },
    {
     "name": "stderr",
     "output_type": "stream",
     "text": [
      "W0506 03:31:23.026722 139885692258112 metrics.py:103] DICE score is technically 1.0, but prediction and truth arrays are empty. \n"
     ]
    },
    {
     "name": "stderr",
     "output_type": "stream",
     "text": [
      "W0506 03:31:23.039538 139885692258112 metrics.py:103] DICE score is technically 1.0, but prediction and truth arrays are empty. \n"
     ]
    },
    {
     "name": "stderr",
     "output_type": "stream",
     "text": [
      "W0506 03:31:23.052313 139885692258112 metrics.py:103] DICE score is technically 1.0, but prediction and truth arrays are empty. \n"
     ]
    },
    {
     "name": "stderr",
     "output_type": "stream",
     "text": [
      "W0506 03:31:23.065605 139885692258112 metrics.py:103] DICE score is technically 1.0, but prediction and truth arrays are empty. "
     ]
    },
    {
     "name": "stderr",
     "output_type": "stream",
     "text": [
      "\n"
     ]
    },
    {
     "name": "stderr",
     "output_type": "stream",
     "text": [
      "W0506 03:31:23.078525 139885692258112 metrics.py:103] DICE score is technically 1.0, but prediction and truth arrays are empty. \n"
     ]
    },
    {
     "name": "stderr",
     "output_type": "stream",
     "text": [
      "W0506 03:31:23.090518 139885692258112 metrics.py:103] DICE score is technically 1.0, but prediction and truth arrays are empty. \n"
     ]
    },
    {
     "name": "stderr",
     "output_type": "stream",
     "text": [
      "W0506 03:31:23.103626 139885692258112 metrics.py:103] DICE score is technically 1.0, but prediction and truth arrays are empty. \n"
     ]
    },
    {
     "name": "stderr",
     "output_type": "stream",
     "text": [
      "W0506 03:31:23.117461 139885692258112 metrics.py:103] DICE score is technically 1.0, but prediction and truth arrays are empty. \n"
     ]
    },
    {
     "name": "stderr",
     "output_type": "stream",
     "text": [
      "W0506 03:31:27.700482 139885692258112 metrics.py:103] DICE score is technically 1.0, but prediction and truth arrays are empty. \n"
     ]
    },
    {
     "name": "stderr",
     "output_type": "stream",
     "text": [
      "W0506 03:31:27.712981 139885692258112 metrics.py:103] DICE score is technically 1.0, but prediction and truth arrays are empty. \n"
     ]
    },
    {
     "name": "stderr",
     "output_type": "stream",
     "text": [
      "W0506 03:31:27.725308 139885692258112 metrics.py:103] DICE score is technically 1.0, but prediction and truth arrays are empty. \n"
     ]
    },
    {
     "name": "stderr",
     "output_type": "stream",
     "text": [
      "W0506 03:31:27.737720 139885692258112 metrics.py:103] DICE score is technically 1.0, but prediction and truth arrays are empty. \n"
     ]
    },
    {
     "name": "stderr",
     "output_type": "stream",
     "text": [
      "W0506 03:31:27.750085 139885692258112 metrics.py:103] DICE score is technically 1.0, but prediction and truth arrays are empty. \n"
     ]
    },
    {
     "name": "stderr",
     "output_type": "stream",
     "text": [
      "W0506 03:31:27.762400 139885692258112 metrics.py:103] DICE score is technically 1.0, but prediction and truth arrays are empty. \n"
     ]
    },
    {
     "name": "stderr",
     "output_type": "stream",
     "text": [
      "W0506 03:31:27.774744 139885692258112 metrics.py:103] DICE score is technically 1.0, but prediction and truth arrays are empty. \n"
     ]
    },
    {
     "name": "stderr",
     "output_type": "stream",
     "text": [
      "W0506 03:31:27.787077 139885692258112 metrics.py:103] DICE score is technically 1.0, but prediction and truth arrays are empty. \n"
     ]
    },
    {
     "name": "stderr",
     "output_type": "stream",
     "text": [
      "W0506 03:31:27.799391 139885692258112 metrics.py:103] DICE score is technically 1.0, but prediction and truth arrays are empty. \n"
     ]
    },
    {
     "name": "stderr",
     "output_type": "stream",
     "text": [
      "W0506 03:31:27.811816 139885692258112 metrics.py:103] DICE score is technically 1.0, but prediction and truth arrays are empty. \n"
     ]
    },
    {
     "name": "stderr",
     "output_type": "stream",
     "text": [
      "W0506 03:31:27.824360 139885692258112 metrics.py:103] DICE score is technically 1.0, but prediction and truth arrays are empty. \n"
     ]
    },
    {
     "name": "stderr",
     "output_type": "stream",
     "text": [
      "W0506 03:31:27.837123 139885692258112 metrics.py:103] DICE score is technically 1.0, but prediction and truth arrays are empty. \n"
     ]
    },
    {
     "name": "stderr",
     "output_type": "stream",
     "text": [
      "W0506 03:31:27.849753 139885692258112 metrics.py:103] DICE score is technically 1.0, but prediction and truth arrays are empty. \n"
     ]
    },
    {
     "name": "stderr",
     "output_type": "stream",
     "text": [
      "W0506 03:31:27.862864 139885692258112 metrics.py:103] DICE score is technically 1.0, but prediction and truth arrays are empty. \n"
     ]
    },
    {
     "name": "stderr",
     "output_type": "stream",
     "text": [
      "W0506 03:31:27.875372 139885692258112 metrics.py:103] DICE score is technically 1.0, but prediction and truth arrays are empty. \n"
     ]
    },
    {
     "name": "stderr",
     "output_type": "stream",
     "text": [
      "W0506 03:31:27.889383 139885692258112 metrics.py:103] DICE score is technically 1.0, but prediction and truth arrays are empty. \n"
     ]
    },
    {
     "name": "stderr",
     "output_type": "stream",
     "text": [
      "W0506 03:31:27.903238 139885692258112 metrics.py:103] DICE score is technically 1.0, but prediction and truth arrays are empty. \n"
     ]
    },
    {
     "name": "stderr",
     "output_type": "stream",
     "text": [
      "W0506 03:31:27.915740 139885692258112 metrics.py:103] DICE score is technically 1.0, but prediction and truth arrays are empty. \n"
     ]
    },
    {
     "name": "stderr",
     "output_type": "stream",
     "text": [
      "W0506 03:31:27.928996 139885692258112 metrics.py:103] DICE score is technically 1.0, but prediction and truth arrays are empty. \n"
     ]
    },
    {
     "name": "stderr",
     "output_type": "stream",
     "text": [
      "W0506 03:31:27.941654 139885692258112 metrics.py:103] DICE score is technically 1.0, but prediction and truth arrays are empty. \n"
     ]
    },
    {
     "name": "stderr",
     "output_type": "stream",
     "text": [
      "W0506 03:31:27.956344 139885692258112 metrics.py:103] DICE score is technically 1.0, but prediction and truth arrays are empty. \n"
     ]
    },
    {
     "name": "stderr",
     "output_type": "stream",
     "text": [
      "W0506 03:31:27.970381 139885692258112 metrics.py:103] DICE score is technically 1.0, but prediction and truth arrays are empty. \n"
     ]
    },
    {
     "name": "stderr",
     "output_type": "stream",
     "text": [
      "W0506 03:31:27.983390 139885692258112 metrics.py:103] DICE score is technically 1.0, but prediction and truth arrays are empty. \n"
     ]
    },
    {
     "name": "stderr",
     "output_type": "stream",
     "text": [
      "W0506 03:31:27.996240 139885692258112 metrics.py:103] DICE score is technically 1.0, but prediction and truth arrays are empty. \n"
     ]
    },
    {
     "name": "stderr",
     "output_type": "stream",
     "text": [
      "W0506 03:31:28.008816 139885692258112 metrics.py:103] DICE score is technically 1.0, but prediction and truth arrays are empty. \n"
     ]
    },
    {
     "name": "stderr",
     "output_type": "stream",
     "text": [
      "W0506 03:31:28.021496 139885692258112 metrics.py:103] DICE score is technically 1.0, but prediction and truth arrays are empty. \n"
     ]
    },
    {
     "name": "stderr",
     "output_type": "stream",
     "text": [
      "W0506 03:31:28.034248 139885692258112 metrics.py:103] DICE score is technically 1.0, but prediction and truth arrays are empty. \n"
     ]
    },
    {
     "name": "stderr",
     "output_type": "stream",
     "text": [
      "W0506 03:31:28.047169 139885692258112 metrics.py:103] DICE score is technically 1.0, but prediction and truth arrays are empty. \n"
     ]
    },
    {
     "name": "stderr",
     "output_type": "stream",
     "text": [
      "W0506 03:31:28.059691 139885692258112 metrics.py:103] DICE score is technically 1.0, but prediction and truth arrays are empty. \n"
     ]
    },
    {
     "name": "stderr",
     "output_type": "stream",
     "text": [
      "W0506 03:31:28.072543 139885692258112 metrics.py:103] DICE score is technically 1.0, but prediction and truth arrays are empty. \n"
     ]
    },
    {
     "name": "stderr",
     "output_type": "stream",
     "text": [
      "W0506 03:31:28.085077 139885692258112 metrics.py:103] DICE score is technically 1.0, but prediction and truth arrays are empty. \n"
     ]
    },
    {
     "name": "stderr",
     "output_type": "stream",
     "text": [
      "W0506 03:31:28.097868 139885692258112 metrics.py:103] DICE score is technically 1.0, but prediction and truth arrays are empty. \n"
     ]
    },
    {
     "name": "stderr",
     "output_type": "stream",
     "text": [
      "W0506 03:31:28.110519 139885692258112 metrics.py:103] DICE score is technically 1.0, but prediction and truth arrays are empty. \n"
     ]
    },
    {
     "name": "stderr",
     "output_type": "stream",
     "text": [
      "W0506 03:31:28.123969 139885692258112 metrics.py:103] DICE score is technically 1.0, but prediction and truth arrays are empty. \n"
     ]
    },
    {
     "name": "stderr",
     "output_type": "stream",
     "text": [
      "W0506 03:31:28.137506 139885692258112 metrics.py:103] DICE score is technically 1.0, but prediction and truth arrays are empty. \n"
     ]
    },
    {
     "name": "stderr",
     "output_type": "stream",
     "text": [
      "W0506 03:31:28.150596 139885692258112 metrics.py:103] DICE score is technically 1.0, but prediction and truth arrays are empty. \n"
     ]
    },
    {
     "name": "stderr",
     "output_type": "stream",
     "text": [
      "W0506 03:31:28.164430 139885692258112 metrics.py:103] DICE score is technically 1.0, but prediction and truth arrays are empty. \n"
     ]
    },
    {
     "name": "stderr",
     "output_type": "stream",
     "text": [
      "W0506 03:31:28.179141 139885692258112 metrics.py:103] DICE score is technically 1.0, but prediction and truth arrays are empty. \n"
     ]
    },
    {
     "name": "stderr",
     "output_type": "stream",
     "text": [
      "W0506 03:31:28.192076 139885692258112 metrics.py:103] DICE score is technically 1.0, but prediction and truth arrays are empty. \n"
     ]
    },
    {
     "name": "stderr",
     "output_type": "stream",
     "text": [
      "W0506 03:31:28.205073 139885692258112 metrics.py:103] DICE score is technically 1.0, but prediction and truth arrays are empty. \n"
     ]
    },
    {
     "name": "stderr",
     "output_type": "stream",
     "text": [
      "W0506 03:32:43.294342 139885692258112 metrics.py:103] DICE score is technically 1.0, but prediction and truth arrays are empty. \n"
     ]
    },
    {
     "name": "stderr",
     "output_type": "stream",
     "text": [
      "W0506 03:32:43.307293 139885692258112 metrics.py:103] DICE score is technically 1.0, but prediction and truth arrays are empty. \n"
     ]
    },
    {
     "name": "stderr",
     "output_type": "stream",
     "text": [
      "W0506 03:32:43.319849 139885692258112 metrics.py:103] DICE score is technically 1.0, but prediction and truth arrays are empty. \n"
     ]
    },
    {
     "name": "stderr",
     "output_type": "stream",
     "text": [
      "W0506 03:32:43.332443 139885692258112 metrics.py:103] DICE score is technically 1.0, but prediction and truth arrays are empty. \n"
     ]
    },
    {
     "name": "stderr",
     "output_type": "stream",
     "text": [
      "W0506 03:32:43.345129 139885692258112 metrics.py:103] DICE score is technically 1.0, but prediction and truth arrays are empty. \n"
     ]
    },
    {
     "name": "stderr",
     "output_type": "stream",
     "text": [
      "W0506 03:32:48.501073 139885692258112 metrics.py:103] DICE score is technically 1.0, but prediction and truth arrays are empty. \n"
     ]
    },
    {
     "name": "stderr",
     "output_type": "stream",
     "text": [
      "W0506 03:32:48.600683 139885692258112 metrics.py:103] DICE score is technically 1.0, but prediction and truth arrays are empty. \n"
     ]
    },
    {
     "name": "stderr",
     "output_type": "stream",
     "text": [
      "W0506 03:32:48.612897 139885692258112 metrics.py:103] DICE score is technically 1.0, but prediction and truth arrays are empty. \n"
     ]
    },
    {
     "name": "stderr",
     "output_type": "stream",
     "text": [
      "W0506 03:32:48.625595 139885692258112 metrics.py:103] DICE score is technically 1.0, but prediction and truth arrays are empty. \n"
     ]
    },
    {
     "name": "stderr",
     "output_type": "stream",
     "text": [
      "W0506 03:32:48.638355 139885692258112 metrics.py:103] DICE score is technically 1.0, but prediction and truth arrays are empty. \n"
     ]
    },
    {
     "name": "stderr",
     "output_type": "stream",
     "text": [
      "W0506 03:32:48.661916 139885692258112 metrics.py:103] DICE score is technically 1.0, but prediction and truth arrays are empty. \n"
     ]
    },
    {
     "name": "stderr",
     "output_type": "stream",
     "text": [
      "W0506 03:32:48.730819 139885692258112 metrics.py:103] DICE score is technically 1.0, but prediction and truth arrays are empty. \n"
     ]
    },
    {
     "name": "stderr",
     "output_type": "stream",
     "text": [
      "W0506 03:32:48.744175 139885692258112 metrics.py:103] DICE score is technically 1.0, but prediction and truth arrays are empty. \n"
     ]
    },
    {
     "name": "stderr",
     "output_type": "stream",
     "text": [
      "W0506 03:32:48.756730 139885692258112 metrics.py:103] DICE score is technically 1.0, but prediction and truth arrays are empty. \n"
     ]
    },
    {
     "name": "stderr",
     "output_type": "stream",
     "text": [
      "W0506 03:32:48.813517 139885692258112 metrics.py:103] DICE score is technically 1.0, but prediction and truth arrays are empty. \n"
     ]
    },
    {
     "name": "stderr",
     "output_type": "stream",
     "text": [
      "W0506 03:32:49.363270 139885692258112 metrics.py:103] DICE score is technically 1.0, but prediction and truth arrays are empty. \n"
     ]
    },
    {
     "name": "stderr",
     "output_type": "stream",
     "text": [
      "W0506 03:32:49.408686 139885692258112 metrics.py:103] DICE score is technically 1.0, but prediction and truth arrays are empty. \n"
     ]
    },
    {
     "name": "stderr",
     "output_type": "stream",
     "text": [
      "W0506 03:32:49.443079 139885692258112 metrics.py:103] DICE score is technically 1.0, but prediction and truth arrays are empty. \n"
     ]
    },
    {
     "name": "stderr",
     "output_type": "stream",
     "text": [
      "W0506 03:32:49.455886 139885692258112 metrics.py:103] DICE score is technically 1.0, but prediction and truth arrays are empty. \n"
     ]
    },
    {
     "name": "stderr",
     "output_type": "stream",
     "text": [
      "W0506 03:32:49.469181 139885692258112 metrics.py:103] DICE score is technically 1.0, but prediction and truth arrays are empty. \n"
     ]
    },
    {
     "name": "stderr",
     "output_type": "stream",
     "text": [
      "W0506 03:32:49.481935 139885692258112 metrics.py:103] DICE score is technically 1.0, but prediction and truth arrays are empty. \n"
     ]
    },
    {
     "name": "stderr",
     "output_type": "stream",
     "text": [
      "W0506 03:32:49.494643 139885692258112 metrics.py:103] DICE score is technically 1.0, but prediction and truth arrays are empty. \n"
     ]
    },
    {
     "name": "stderr",
     "output_type": "stream",
     "text": [
      "W0506 03:32:49.507516 139885692258112 metrics.py:103] DICE score is technically 1.0, but prediction and truth arrays are empty. \n"
     ]
    },
    {
     "name": "stderr",
     "output_type": "stream",
     "text": [
      "W0506 03:32:49.520818 139885692258112 metrics.py:103] DICE score is technically 1.0, but prediction and truth arrays are empty. \n"
     ]
    },
    {
     "name": "stderr",
     "output_type": "stream",
     "text": [
      "W0506 03:32:49.533226 139885692258112 metrics.py:103] DICE score is technically 1.0, but prediction and truth arrays are empty. \n"
     ]
    },
    {
     "name": "stderr",
     "output_type": "stream",
     "text": [
      "W0506 03:32:49.545754 139885692258112 metrics.py:103] DICE score is technically 1.0, but prediction and truth arrays are empty. \n"
     ]
    },
    {
     "name": "stderr",
     "output_type": "stream",
     "text": [
      "W0506 03:32:49.558217 139885692258112 metrics.py:103] DICE score is technically 1.0, but prediction and truth arrays are empty. \n"
     ]
    },
    {
     "name": "stderr",
     "output_type": "stream",
     "text": [
      "W0506 03:32:49.594065 139885692258112 metrics.py:103] DICE score is technically 1.0, but prediction and truth arrays are empty. \n"
     ]
    },
    {
     "name": "stderr",
     "output_type": "stream",
     "text": [
      "W0506 03:32:49.606210 139885692258112 metrics.py:103] DICE score is technically 1.0, but prediction and truth arrays are empty. \n"
     ]
    },
    {
     "name": "stderr",
     "output_type": "stream",
     "text": [
      "W0506 03:32:49.618362 139885692258112 metrics.py:103] DICE score is technically 1.0, but prediction and truth arrays are empty. \n"
     ]
    },
    {
     "name": "stderr",
     "output_type": "stream",
     "text": [
      "W0506 03:32:49.630884 139885692258112 metrics.py:103] DICE score is technically 1.0, but prediction and truth arrays are empty. \n"
     ]
    },
    {
     "name": "stderr",
     "output_type": "stream",
     "text": [
      "W0506 03:32:49.643344 139885692258112 metrics.py:103] DICE score is technically 1.0, but prediction and truth arrays are empty. \n"
     ]
    },
    {
     "name": "stderr",
     "output_type": "stream",
     "text": [
      "W0506 03:32:49.667122 139885692258112 metrics.py:103] DICE score is technically 1.0, but prediction and truth arrays are empty. \n"
     ]
    },
    {
     "name": "stderr",
     "output_type": "stream",
     "text": [
      "W0506 03:32:49.679815 139885692258112 metrics.py:103] DICE score is technically 1.0, but prediction and truth arrays are empty. \n"
     ]
    },
    {
     "name": "stderr",
     "output_type": "stream",
     "text": [
      "W0506 03:32:49.692564 139885692258112 metrics.py:103] DICE score is technically 1.0, but prediction and truth arrays are empty. \n"
     ]
    },
    {
     "name": "stderr",
     "output_type": "stream",
     "text": [
      "W0506 03:32:49.705694 139885692258112 metrics.py:103] DICE score is technically 1.0, but prediction and truth arrays are empty. \n"
     ]
    },
    {
     "name": "stderr",
     "output_type": "stream",
     "text": [
      "W0506 03:32:57.054476 139885692258112 metrics.py:103] DICE score is technically 1.0, but prediction and truth arrays are empty. \n"
     ]
    },
    {
     "name": "stderr",
     "output_type": "stream",
     "text": [
      "W0506 03:32:57.427782 139885692258112 metrics.py:103] DICE score is technically 1.0, but prediction and truth arrays are empty. \n"
     ]
    },
    {
     "name": "stderr",
     "output_type": "stream",
     "text": [
      "W0506 03:32:57.440780 139885692258112 metrics.py:103] DICE score is technically 1.0, but prediction and truth arrays are empty. \n"
     ]
    },
    {
     "name": "stderr",
     "output_type": "stream",
     "text": [
      "W0506 03:32:58.444606 139885692258112 metrics.py:103] DICE score is technically 1.0, but prediction and truth arrays are empty. \n"
     ]
    },
    {
     "name": "stderr",
     "output_type": "stream",
     "text": [
      "W0506 03:32:58.457441 139885692258112 metrics.py:103] DICE score is technically 1.0, but prediction and truth arrays are empty. \n"
     ]
    },
    {
     "name": "stderr",
     "output_type": "stream",
     "text": [
      "W0506 03:32:58.470246 139885692258112 metrics.py:103] DICE score is technically 1.0, but prediction and truth arrays are empty. \n"
     ]
    },
    {
     "name": "stderr",
     "output_type": "stream",
     "text": [
      "W0506 03:32:58.482952 139885692258112 metrics.py:103] DICE score is technically 1.0, but prediction and truth arrays are empty. \n"
     ]
    },
    {
     "name": "stderr",
     "output_type": "stream",
     "text": [
      "W0506 03:32:58.506630 139885692258112 metrics.py:103] DICE score is technically 1.0, but prediction and truth arrays are empty. \n"
     ]
    },
    {
     "name": "stderr",
     "output_type": "stream",
     "text": [
      "W0506 03:32:58.530551 139885692258112 metrics.py:103] DICE score is technically 1.0, but prediction and truth arrays are empty. \n"
     ]
    },
    {
     "name": "stderr",
     "output_type": "stream",
     "text": [
      "W0506 03:32:58.543421 139885692258112 metrics.py:103] DICE score is technically 1.0, but prediction and truth arrays are empty. \n"
     ]
    },
    {
     "name": "stderr",
     "output_type": "stream",
     "text": [
      "W0506 03:32:58.556224 139885692258112 metrics.py:103] DICE score is technically 1.0, but prediction and truth arrays are empty. \n"
     ]
    },
    {
     "name": "stderr",
     "output_type": "stream",
     "text": [
      "W0506 03:32:58.568960 139885692258112 metrics.py:103] DICE score is technically 1.0, but prediction and truth arrays are empty. \n"
     ]
    },
    {
     "name": "stderr",
     "output_type": "stream",
     "text": [
      "W0506 03:32:58.592755 139885692258112 metrics.py:103] DICE score is technically 1.0, but prediction and truth arrays are empty. \n"
     ]
    },
    {
     "name": "stderr",
     "output_type": "stream",
     "text": [
      "W0506 03:32:58.605498 139885692258112 metrics.py:103] DICE score is technically 1.0, but prediction and truth arrays are empty. \n"
     ]
    },
    {
     "name": "stderr",
     "output_type": "stream",
     "text": [
      "W0506 03:32:58.640150 139885692258112 metrics.py:103] DICE score is technically 1.0, but prediction and truth arrays are empty. \n"
     ]
    },
    {
     "name": "stderr",
     "output_type": "stream",
     "text": [
      "W0506 03:32:58.676144 139885692258112 metrics.py:103] DICE score is technically 1.0, but prediction and truth arrays are empty. \n"
     ]
    },
    {
     "name": "stderr",
     "output_type": "stream",
     "text": [
      "W0506 03:32:58.689265 139885692258112 metrics.py:103] DICE score is technically 1.0, but prediction and truth arrays are empty. \n"
     ]
    },
    {
     "name": "stderr",
     "output_type": "stream",
     "text": [
      "W0506 03:32:58.713552 139885692258112 metrics.py:103] DICE score is technically 1.0, but prediction and truth arrays are empty. \n"
     ]
    },
    {
     "name": "stderr",
     "output_type": "stream",
     "text": [
      "W0506 03:32:58.726245 139885692258112 metrics.py:103] DICE score is technically 1.0, but prediction and truth arrays are empty. \n"
     ]
    },
    {
     "name": "stderr",
     "output_type": "stream",
     "text": [
      "W0506 03:32:58.750574 139885692258112 metrics.py:103] DICE score is technically 1.0, but prediction and truth arrays are empty. \n"
     ]
    },
    {
     "name": "stderr",
     "output_type": "stream",
     "text": [
      "W0506 03:32:58.763636 139885692258112 metrics.py:103] DICE score is technically 1.0, but prediction and truth arrays are empty. \n"
     ]
    },
    {
     "name": "stderr",
     "output_type": "stream",
     "text": [
      "W0506 03:32:58.776593 139885692258112 metrics.py:103] DICE score is technically 1.0, but prediction and truth arrays are empty. \n"
     ]
    },
    {
     "name": "stderr",
     "output_type": "stream",
     "text": [
      "W0506 03:32:58.789246 139885692258112 metrics.py:103] DICE score is technically 1.0, but prediction and truth arrays are empty. \n"
     ]
    },
    {
     "name": "stderr",
     "output_type": "stream",
     "text": [
      "W0506 03:32:59.323254 139885692258112 metrics.py:103] DICE score is technically 1.0, but prediction and truth arrays are empty. \n"
     ]
    },
    {
     "name": "stderr",
     "output_type": "stream",
     "text": [
      "W0506 03:32:59.336201 139885692258112 metrics.py:103] DICE score is technically 1.0, but prediction and truth arrays are empty. \n"
     ]
    },
    {
     "name": "stderr",
     "output_type": "stream",
     "text": [
      "W0506 03:32:59.349105 139885692258112 metrics.py:103] DICE score is technically 1.0, but prediction and truth arrays are empty. \n"
     ]
    },
    {
     "name": "stderr",
     "output_type": "stream",
     "text": [
      "W0506 03:32:59.372820 139885692258112 metrics.py:103] DICE score is technically 1.0, but prediction and truth arrays are empty. \n"
     ]
    },
    {
     "name": "stderr",
     "output_type": "stream",
     "text": [
      "W0506 03:32:59.386370 139885692258112 metrics.py:103] DICE score is technically 1.0, but prediction and truth arrays are empty. \n"
     ]
    },
    {
     "name": "stderr",
     "output_type": "stream",
     "text": [
      "W0506 03:32:59.399679 139885692258112 metrics.py:103] DICE score is technically 1.0, but prediction and truth arrays are empty. \n"
     ]
    },
    {
     "name": "stderr",
     "output_type": "stream",
     "text": [
      "W0506 03:32:59.412474 139885692258112 metrics.py:103] DICE score is technically 1.0, but prediction and truth arrays are empty. \n"
     ]
    },
    {
     "name": "stderr",
     "output_type": "stream",
     "text": [
      "W0506 03:32:59.439725 139885692258112 metrics.py:103] DICE score is technically 1.0, but prediction and truth arrays are empty. \n"
     ]
    },
    {
     "name": "stderr",
     "output_type": "stream",
     "text": [
      "W0506 03:32:59.452644 139885692258112 metrics.py:103] DICE score is technically 1.0, but prediction and truth arrays are empty. \n"
     ]
    },
    {
     "name": "stderr",
     "output_type": "stream",
     "text": [
      "W0506 03:32:59.465102 139885692258112 metrics.py:103] DICE score is technically 1.0, but prediction and truth arrays are empty. \n"
     ]
    },
    {
     "name": "stderr",
     "output_type": "stream",
     "text": [
      "W0506 03:32:59.488769 139885692258112 metrics.py:103] DICE score is technically 1.0, but prediction and truth arrays are empty. \n"
     ]
    },
    {
     "name": "stderr",
     "output_type": "stream",
     "text": [
      "W0506 03:32:59.501571 139885692258112 metrics.py:103] DICE score is technically 1.0, but prediction and truth arrays are empty. \n"
     ]
    },
    {
     "name": "stderr",
     "output_type": "stream",
     "text": [
      "W0506 03:32:59.515404 139885692258112 metrics.py:103] DICE score is technically 1.0, but prediction and truth arrays are empty. \n"
     ]
    },
    {
     "name": "stderr",
     "output_type": "stream",
     "text": [
      "W0506 03:32:59.539779 139885692258112 metrics.py:103] DICE score is technically 1.0, but prediction and truth arrays are empty. \n"
     ]
    },
    {
     "name": "stderr",
     "output_type": "stream",
     "text": [
      "W0506 03:32:59.552591 139885692258112 metrics.py:103] DICE score is technically 1.0, but prediction and truth arrays are empty. \n"
     ]
    },
    {
     "name": "stderr",
     "output_type": "stream",
     "text": [
      "W0506 03:32:59.565308 139885692258112 metrics.py:103] DICE score is technically 1.0, but prediction and truth arrays are empty. \n"
     ]
    },
    {
     "name": "stderr",
     "output_type": "stream",
     "text": [
      "W0506 03:32:59.578718 139885692258112 metrics.py:103] DICE score is technically 1.0, but prediction and truth arrays are empty. \n"
     ]
    },
    {
     "name": "stderr",
     "output_type": "stream",
     "text": [
      "W0506 03:32:59.591569 139885692258112 metrics.py:103] DICE score is technically 1.0, but prediction and truth arrays are empty. \n"
     ]
    },
    {
     "name": "stderr",
     "output_type": "stream",
     "text": [
      "W0506 03:32:59.604575 139885692258112 metrics.py:103] DICE score is technically 1.0, but prediction and truth arrays are empty. \n"
     ]
    },
    {
     "name": "stderr",
     "output_type": "stream",
     "text": [
      "W0506 03:32:59.617365 139885692258112 metrics.py:103] DICE score is technically 1.0, but prediction and truth arrays are empty. \n"
     ]
    },
    {
     "name": "stderr",
     "output_type": "stream",
     "text": [
      "W0506 03:32:59.629863 139885692258112 metrics.py:103] DICE score is technically 1.0, but prediction and truth arrays are empty. \n"
     ]
    },
    {
     "name": "stderr",
     "output_type": "stream",
     "text": [
      "W0506 03:32:59.653607 139885692258112 metrics.py:103] DICE score is technically 1.0, but prediction and truth arrays are empty. \n"
     ]
    },
    {
     "name": "stderr",
     "output_type": "stream",
     "text": [
      "W0506 03:32:59.666219 139885692258112 metrics.py:103] DICE score is technically 1.0, but prediction and truth arrays are empty. \n"
     ]
    },
    {
     "name": "stderr",
     "output_type": "stream",
     "text": [
      "W0506 03:32:59.678727 139885692258112 metrics.py:103] DICE score is technically 1.0, but prediction and truth arrays are empty. \n"
     ]
    },
    {
     "name": "stderr",
     "output_type": "stream",
     "text": [
      "W0506 03:32:59.691512 139885692258112 metrics.py:103] DICE score is technically 1.0, but prediction and truth arrays are empty. \n"
     ]
    },
    {
     "name": "stderr",
     "output_type": "stream",
     "text": [
      "W0506 03:33:01.528813 139885692258112 metrics.py:103] DICE score is technically 1.0, but prediction and truth arrays are empty. \n"
     ]
    },
    {
     "name": "stderr",
     "output_type": "stream",
     "text": [
      "W0506 03:33:01.541628 139885692258112 metrics.py:103] DICE score is technically 1.0, but prediction and truth arrays are empty. \n"
     ]
    },
    {
     "name": "stderr",
     "output_type": "stream",
     "text": [
      "W0506 03:33:01.554205 139885692258112 metrics.py:103] DICE score is technically 1.0, but prediction and truth arrays are empty. \n"
     ]
    },
    {
     "name": "stderr",
     "output_type": "stream",
     "text": [
      "W0506 03:33:01.577711 139885692258112 metrics.py:103] DICE score is technically 1.0, but prediction and truth arrays are empty. \n"
     ]
    },
    {
     "name": "stderr",
     "output_type": "stream",
     "text": [
      "W0506 03:33:01.601507 139885692258112 metrics.py:103] DICE score is technically 1.0, but prediction and truth arrays are empty. \n"
     ]
    },
    {
     "name": "stderr",
     "output_type": "stream",
     "text": [
      "W0506 03:33:01.614207 139885692258112 metrics.py:103] DICE score is technically 1.0, but prediction and truth arrays are empty. \n"
     ]
    },
    {
     "name": "stderr",
     "output_type": "stream",
     "text": [
      "W0506 03:33:01.626820 139885692258112 metrics.py:103] DICE score is technically 1.0, but prediction and truth arrays are empty. \n"
     ]
    },
    {
     "name": "stderr",
     "output_type": "stream",
     "text": [
      "W0506 03:33:01.639544 139885692258112 metrics.py:103] DICE score is technically 1.0, but prediction and truth arrays are empty. \n"
     ]
    },
    {
     "name": "stderr",
     "output_type": "stream",
     "text": [
      "W0506 03:33:01.652441 139885692258112 metrics.py:103] DICE score is technically 1.0, but prediction and truth arrays are empty. \n"
     ]
    },
    {
     "name": "stderr",
     "output_type": "stream",
     "text": [
      "W0506 03:33:01.665251 139885692258112 metrics.py:103] DICE score is technically 1.0, but prediction and truth arrays are empty. \n"
     ]
    },
    {
     "name": "stderr",
     "output_type": "stream",
     "text": [
      "W0506 03:33:01.677891 139885692258112 metrics.py:103] DICE score is technically 1.0, but prediction and truth arrays are empty. \n"
     ]
    },
    {
     "name": "stderr",
     "output_type": "stream",
     "text": [
      "W0506 03:33:01.691194 139885692258112 metrics.py:103] DICE score is technically 1.0, but prediction and truth arrays are empty. \n"
     ]
    },
    {
     "name": "stderr",
     "output_type": "stream",
     "text": [
      "W0506 03:33:01.704082 139885692258112 metrics.py:103] DICE score is technically 1.0, but prediction and truth arrays are empty. \n"
     ]
    },
    {
     "name": "stderr",
     "output_type": "stream",
     "text": [
      "W0506 03:33:01.716999 139885692258112 metrics.py:103] DICE score is technically 1.0, but prediction and truth arrays are empty. \n"
     ]
    },
    {
     "name": "stderr",
     "output_type": "stream",
     "text": [
      "W0506 03:33:01.729784 139885692258112 metrics.py:103] DICE score is technically 1.0, but prediction and truth arrays are empty. \n"
     ]
    },
    {
     "name": "stderr",
     "output_type": "stream",
     "text": [
      "W0506 03:33:01.742732 139885692258112 metrics.py:103] DICE score is technically 1.0, but prediction and truth arrays are empty. \n"
     ]
    },
    {
     "name": "stderr",
     "output_type": "stream",
     "text": [
      "W0506 03:33:01.756204 139885692258112 metrics.py:103] DICE score is technically 1.0, but prediction and truth arrays are empty. \n"
     ]
    },
    {
     "name": "stderr",
     "output_type": "stream",
     "text": [
      "W0506 03:33:01.769113 139885692258112 metrics.py:103] DICE score is technically 1.0, but prediction and truth arrays are empty. \n"
     ]
    },
    {
     "name": "stderr",
     "output_type": "stream",
     "text": [
      "W0506 03:33:01.781842 139885692258112 metrics.py:103] DICE score is technically 1.0, but prediction and truth arrays are empty. \n"
     ]
    },
    {
     "name": "stderr",
     "output_type": "stream",
     "text": [
      "W0506 03:33:01.794551 139885692258112 metrics.py:103] DICE score is technically 1.0, but prediction and truth arrays are empty. \n"
     ]
    },
    {
     "name": "stderr",
     "output_type": "stream",
     "text": [
      "W0506 03:33:01.807403 139885692258112 metrics.py:103] DICE score is technically 1.0, but prediction and truth arrays are empty. \n"
     ]
    },
    {
     "name": "stderr",
     "output_type": "stream",
     "text": [
      "W0506 03:33:01.820253 139885692258112 metrics.py:103] DICE score is technically 1.0, but prediction and truth arrays are empty. \n"
     ]
    },
    {
     "name": "stderr",
     "output_type": "stream",
     "text": [
      "W0506 03:33:01.833151 139885692258112 metrics.py:103] DICE score is technically 1.0, but prediction and truth arrays are empty. \n"
     ]
    },
    {
     "name": "stderr",
     "output_type": "stream",
     "text": [
      "W0506 03:33:01.846074 139885692258112 metrics.py:103] DICE score is technically 1.0, but prediction and truth arrays are empty. \n"
     ]
    },
    {
     "name": "stderr",
     "output_type": "stream",
     "text": [
      "W0506 03:33:01.859153 139885692258112 metrics.py:103] DICE score is technically 1.0, but prediction and truth arrays are empty. \n"
     ]
    },
    {
     "name": "stderr",
     "output_type": "stream",
     "text": [
      "W0506 03:33:01.872012 139885692258112 metrics.py:103] DICE score is technically 1.0, but prediction and truth arrays are empty. \n"
     ]
    },
    {
     "name": "stderr",
     "output_type": "stream",
     "text": [
      "W0506 03:33:01.885018 139885692258112 metrics.py:103] DICE score is technically 1.0, but prediction and truth arrays are empty. \n"
     ]
    },
    {
     "name": "stderr",
     "output_type": "stream",
     "text": [
      "W0506 03:33:01.898037 139885692258112 metrics.py:103] DICE score is technically 1.0, but prediction and truth arrays are empty. \n"
     ]
    },
    {
     "name": "stderr",
     "output_type": "stream",
     "text": [
      "W0506 03:33:02.722145 139885692258112 metrics.py:103] DICE score is technically 1.0, but prediction and truth arrays are empty. \n"
     ]
    },
    {
     "name": "stderr",
     "output_type": "stream",
     "text": [
      "W0506 03:33:02.735226 139885692258112 metrics.py:103] DICE score is technically 1.0, but prediction and truth arrays are empty. \n"
     ]
    },
    {
     "name": "stderr",
     "output_type": "stream",
     "text": [
      "W0506 03:33:02.748075 139885692258112 metrics.py:103] DICE score is technically 1.0, but prediction and truth arrays are empty. \n"
     ]
    },
    {
     "name": "stderr",
     "output_type": "stream",
     "text": [
      "W0506 03:33:02.760689 139885692258112 metrics.py:103] DICE score is technically 1.0, but prediction and truth arrays are empty. \n"
     ]
    },
    {
     "name": "stderr",
     "output_type": "stream",
     "text": [
      "W0506 03:33:02.785104 139885692258112 metrics.py:103] DICE score is technically 1.0, but prediction and truth arrays are empty. \n"
     ]
    },
    {
     "name": "stderr",
     "output_type": "stream",
     "text": [
      "W0506 03:33:02.798033 139885692258112 metrics.py:103] DICE score is technically 1.0, but prediction and truth arrays are empty. \n"
     ]
    },
    {
     "name": "stderr",
     "output_type": "stream",
     "text": [
      "W0506 03:33:02.824652 139885692258112 metrics.py:103] DICE score is technically 1.0, but prediction and truth arrays are empty. \n"
     ]
    },
    {
     "name": "stderr",
     "output_type": "stream",
     "text": [
      "W0506 03:33:02.837250 139885692258112 metrics.py:103] DICE score is technically 1.0, but prediction and truth arrays are empty. \n"
     ]
    },
    {
     "name": "stderr",
     "output_type": "stream",
     "text": [
      "W0506 03:33:02.849665 139885692258112 metrics.py:103] DICE score is technically 1.0, but prediction and truth arrays are empty. \n"
     ]
    },
    {
     "name": "stderr",
     "output_type": "stream",
     "text": [
      "W0506 03:33:02.862156 139885692258112 metrics.py:103] DICE score is technically 1.0, but prediction and truth arrays are empty. \n"
     ]
    },
    {
     "name": "stderr",
     "output_type": "stream",
     "text": [
      "W0506 03:33:02.874624 139885692258112 metrics.py:103] DICE score is technically 1.0, but prediction and truth arrays are empty. \n"
     ]
    },
    {
     "name": "stderr",
     "output_type": "stream",
     "text": [
      "W0506 03:33:02.888565 139885692258112 metrics.py:103] DICE score is technically 1.0, but prediction and truth arrays are empty. \n"
     ]
    },
    {
     "name": "stderr",
     "output_type": "stream",
     "text": [
      "W0506 03:33:02.900849 139885692258112 metrics.py:103] DICE score is technically 1.0, but prediction and truth arrays are empty. \n"
     ]
    },
    {
     "name": "stderr",
     "output_type": "stream",
     "text": [
      "W0506 03:33:02.913236 139885692258112 metrics.py:103] DICE score is technically 1.0, but prediction and truth arrays are empty. \n"
     ]
    },
    {
     "name": "stderr",
     "output_type": "stream",
     "text": [
      "W0506 03:33:02.925651 139885692258112 metrics.py:103] DICE score is technically 1.0, but prediction and truth arrays are empty. \n"
     ]
    },
    {
     "name": "stderr",
     "output_type": "stream",
     "text": [
      "W0506 03:33:02.949054 139885692258112 metrics.py:103] DICE score is technically 1.0, but prediction and truth arrays are empty. \n"
     ]
    },
    {
     "name": "stderr",
     "output_type": "stream",
     "text": [
      "W0506 03:33:02.961581 139885692258112 metrics.py:103] DICE score is technically 1.0, but prediction and truth arrays are empty. \n"
     ]
    },
    {
     "name": "stderr",
     "output_type": "stream",
     "text": [
      "W0506 03:33:02.984931 139885692258112 metrics.py:103] DICE score is technically 1.0, but prediction and truth arrays are empty. \n"
     ]
    },
    {
     "name": "stderr",
     "output_type": "stream",
     "text": [
      "W0506 03:33:02.997384 139885692258112 metrics.py:103] DICE score is technically 1.0, but prediction and truth arrays are empty. \n"
     ]
    },
    {
     "name": "stderr",
     "output_type": "stream",
     "text": [
      "W0506 03:33:03.020651 139885692258112 metrics.py:103] DICE score is technically 1.0, but prediction and truth arrays are empty. \n"
     ]
    },
    {
     "name": "stderr",
     "output_type": "stream",
     "text": [
      "W0506 03:33:03.033549 139885692258112 metrics.py:103] DICE score is technically 1.0, but prediction and truth arrays are empty. \n"
     ]
    },
    {
     "name": "stderr",
     "output_type": "stream",
     "text": [
      "W0506 03:33:03.046415 139885692258112 metrics.py:103] DICE score is technically 1.0, but prediction and truth arrays are empty. \n"
     ]
    },
    {
     "name": "stderr",
     "output_type": "stream",
     "text": [
      "W0506 03:33:03.059558 139885692258112 metrics.py:103] DICE score is technically 1.0, but prediction and truth arrays are empty. \n"
     ]
    },
    {
     "name": "stderr",
     "output_type": "stream",
     "text": [
      "W0506 03:33:05.804955 139885692258112 metrics.py:103] DICE score is technically 1.0, but prediction and truth arrays are empty. \n"
     ]
    },
    {
     "name": "stderr",
     "output_type": "stream",
     "text": [
      "W0506 03:33:05.854827 139885692258112 metrics.py:103] DICE score is technically 1.0, but prediction and truth arrays are empty. \n"
     ]
    },
    {
     "name": "stderr",
     "output_type": "stream",
     "text": [
      "W0506 03:33:05.867540 139885692258112 metrics.py:103] DICE score is technically 1.0, but prediction and truth arrays are empty. \n"
     ]
    },
    {
     "name": "stderr",
     "output_type": "stream",
     "text": [
      "W0506 03:33:05.880240 139885692258112 metrics.py:103] DICE score is technically 1.0, but prediction and truth arrays are empty. \n"
     ]
    },
    {
     "name": "stderr",
     "output_type": "stream",
     "text": [
      "W0506 03:33:05.904139 139885692258112 metrics.py:103] DICE score is technically 1.0, but prediction and truth arrays are empty. \n"
     ]
    },
    {
     "name": "stderr",
     "output_type": "stream",
     "text": [
      "W0506 03:33:05.917568 139885692258112 metrics.py:103] DICE score is technically 1.0, but prediction and truth arrays are empty. \n"
     ]
    },
    {
     "name": "stderr",
     "output_type": "stream",
     "text": [
      "W0506 03:33:05.936482 139885692258112 metrics.py:103] DICE score is technically 1.0, but prediction and truth arrays are empty. \n"
     ]
    },
    {
     "name": "stderr",
     "output_type": "stream",
     "text": [
      "W0506 03:33:05.950922 139885692258112 metrics.py:103] DICE score is technically 1.0, but prediction and truth arrays are empty. \n"
     ]
    },
    {
     "name": "stderr",
     "output_type": "stream",
     "text": [
      "W0506 03:33:05.965241 139885692258112 metrics.py:103] DICE score is technically 1.0, but prediction and truth arrays are empty. \n"
     ]
    },
    {
     "name": "stderr",
     "output_type": "stream",
     "text": [
      "W0506 03:33:05.979455 139885692258112 metrics.py:103] DICE score is technically 1.0, but prediction and truth arrays are empty. \n"
     ]
    },
    {
     "name": "stderr",
     "output_type": "stream",
     "text": [
      "W0506 03:33:05.993619 139885692258112 metrics.py:103] DICE score is technically 1.0, but prediction and truth arrays are empty. \n"
     ]
    },
    {
     "name": "stderr",
     "output_type": "stream",
     "text": [
      "W0506 03:33:06.020379 139885692258112 metrics.py:103] DICE score is technically 1.0, but prediction and truth arrays are empty. \n"
     ]
    },
    {
     "name": "stderr",
     "output_type": "stream",
     "text": [
      "W0506 03:33:06.034553 139885692258112 metrics.py:103] DICE score is technically 1.0, but prediction and truth arrays are empty. \n"
     ]
    },
    {
     "name": "stderr",
     "output_type": "stream",
     "text": [
      "W0506 03:33:06.053067 139885692258112 metrics.py:103] DICE score is technically 1.0, but prediction and truth arrays are empty. \n"
     ]
    },
    {
     "name": "stderr",
     "output_type": "stream",
     "text": [
      "W0506 03:33:06.076201 139885692258112 metrics.py:103] DICE score is technically 1.0, but prediction and truth arrays are empty. \n"
     ]
    },
    {
     "name": "stderr",
     "output_type": "stream",
     "text": [
      "W0506 03:33:06.096934 139885692258112 metrics.py:103] DICE score is technically 1.0, but prediction and truth arrays are empty. \n"
     ]
    },
    {
     "name": "stderr",
     "output_type": "stream",
     "text": [
      "W0506 03:33:06.113002 139885692258112 metrics.py:103] DICE score is technically 1.0, but prediction and truth arrays are empty. \n"
     ]
    },
    {
     "name": "stderr",
     "output_type": "stream",
     "text": [
      "W0506 03:33:06.126344 139885692258112 metrics.py:103] DICE score is technically 1.0, but prediction and truth arrays are empty. \n"
     ]
    },
    {
     "name": "stderr",
     "output_type": "stream",
     "text": [
      "W0506 03:33:06.701734 139885692258112 metrics.py:103] DICE score is technically 1.0, but prediction and truth arrays are empty. \n"
     ]
    },
    {
     "name": "stderr",
     "output_type": "stream",
     "text": [
      "W0506 03:33:06.714856 139885692258112 metrics.py:103] DICE score is technically 1.0, but prediction and truth arrays are empty. \n"
     ]
    },
    {
     "name": "stderr",
     "output_type": "stream",
     "text": [
      "W0506 03:33:06.727639 139885692258112 metrics.py:103] DICE score is technically 1.0, but prediction and truth arrays are empty. \n"
     ]
    },
    {
     "name": "stderr",
     "output_type": "stream",
     "text": [
      "W0506 03:33:06.740436 139885692258112 metrics.py:103] DICE score is technically 1.0, but prediction and truth arrays are empty. \n"
     ]
    },
    {
     "name": "stderr",
     "output_type": "stream",
     "text": [
      "W0506 03:33:06.764981 139885692258112 metrics.py:103] DICE score is technically 1.0, but prediction and truth arrays are empty. \n"
     ]
    },
    {
     "name": "stderr",
     "output_type": "stream",
     "text": [
      "W0506 03:33:06.777852 139885692258112 metrics.py:103] DICE score is technically 1.0, but prediction and truth arrays are empty. \n"
     ]
    },
    {
     "name": "stderr",
     "output_type": "stream",
     "text": [
      "W0506 03:33:06.790661 139885692258112 metrics.py:103] DICE score is technically 1.0, but prediction and truth arrays are empty. \n"
     ]
    },
    {
     "name": "stderr",
     "output_type": "stream",
     "text": [
      "W0506 03:33:06.803874 139885692258112 metrics.py:103] DICE score is technically 1.0, but prediction and truth arrays are empty. \n"
     ]
    },
    {
     "name": "stderr",
     "output_type": "stream",
     "text": [
      "W0506 03:33:06.816990 139885692258112 metrics.py:103] DICE score is technically 1.0, but prediction and truth arrays are empty. \n"
     ]
    },
    {
     "name": "stderr",
     "output_type": "stream",
     "text": [
      "W0506 03:33:06.829981 139885692258112 metrics.py:103] DICE score is technically 1.0, but prediction and truth arrays are empty. \n"
     ]
    },
    {
     "name": "stderr",
     "output_type": "stream",
     "text": [
      "W0506 03:33:06.843098 139885692258112 metrics.py:103] DICE score is technically 1.0, but prediction and truth arrays are empty. \n"
     ]
    },
    {
     "name": "stderr",
     "output_type": "stream",
     "text": [
      "W0506 03:33:06.856108 139885692258112 metrics.py:103] DICE score is technically 1.0, but prediction and truth arrays are empty. \n"
     ]
    },
    {
     "name": "stderr",
     "output_type": "stream",
     "text": [
      "W0506 03:33:06.868978 139885692258112 metrics.py:103] DICE score is technically 1.0, but prediction and truth arrays are empty. \n"
     ]
    },
    {
     "name": "stderr",
     "output_type": "stream",
     "text": [
      "W0506 03:33:06.881603 139885692258112 metrics.py:103] DICE score is technically 1.0, but prediction and truth arrays are empty. \n"
     ]
    },
    {
     "name": "stderr",
     "output_type": "stream",
     "text": [
      "W0506 03:33:06.894418 139885692258112 metrics.py:103] DICE score is technically 1.0, but prediction and truth arrays are empty. \n"
     ]
    },
    {
     "name": "stderr",
     "output_type": "stream",
     "text": [
      "W0506 03:33:06.907349 139885692258112 metrics.py:103] DICE score is technically 1.0, but prediction and truth arrays are empty. \n"
     ]
    },
    {
     "name": "stderr",
     "output_type": "stream",
     "text": [
      "W0506 03:33:06.921541 139885692258112 metrics.py:103] DICE score is technically 1.0, but prediction and truth arrays are empty. \n"
     ]
    },
    {
     "name": "stderr",
     "output_type": "stream",
     "text": [
      "W0506 03:33:06.934871 139885692258112 metrics.py:103] DICE score is technically 1.0, but prediction and truth arrays are empty. \n"
     ]
    },
    {
     "name": "stderr",
     "output_type": "stream",
     "text": [
      "W0506 03:33:06.947871 139885692258112 metrics.py:103] DICE score is technically 1.0, but prediction and truth arrays are empty. \n"
     ]
    },
    {
     "name": "stderr",
     "output_type": "stream",
     "text": [
      "W0506 03:33:06.960793 139885692258112 metrics.py:103] DICE score is technically 1.0, but prediction and truth arrays are empty. \n"
     ]
    },
    {
     "name": "stderr",
     "output_type": "stream",
     "text": [
      "W0506 03:33:06.974092 139885692258112 metrics.py:103] DICE score is technically 1.0, but prediction and truth arrays are empty. \n"
     ]
    },
    {
     "name": "stderr",
     "output_type": "stream",
     "text": [
      "W0506 03:33:06.987457 139885692258112 metrics.py:103] DICE score is technically 1.0, but prediction and truth arrays are empty. \n"
     ]
    },
    {
     "name": "stderr",
     "output_type": "stream",
     "text": [
      "W0506 03:33:07.012010 139885692258112 metrics.py:103] DICE score is technically 1.0, but prediction and truth arrays are empty. \n"
     ]
    },
    {
     "name": "stderr",
     "output_type": "stream",
     "text": [
      "W0506 03:33:07.025298 139885692258112 metrics.py:103] DICE score is technically 1.0, but prediction and truth arrays are empty. \n"
     ]
    },
    {
     "name": "stderr",
     "output_type": "stream",
     "text": [
      "W0506 03:33:07.038568 139885692258112 metrics.py:103] DICE score is technically 1.0, but prediction and truth arrays are empty. \n"
     ]
    },
    {
     "name": "stderr",
     "output_type": "stream",
     "text": [
      "W0506 03:33:07.051823 139885692258112 metrics.py:103] DICE score is technically 1.0, but prediction and truth arrays are empty. \n"
     ]
    },
    {
     "name": "stderr",
     "output_type": "stream",
     "text": [
      "W0506 03:33:07.065252 139885692258112 metrics.py:103] DICE score is technically 1.0, but prediction and truth arrays are empty. \n"
     ]
    },
    {
     "name": "stderr",
     "output_type": "stream",
     "text": [
      "W0506 03:33:07.645266 139885692258112 metrics.py:103] DICE score is technically 1.0, but prediction and truth arrays are empty. \n"
     ]
    },
    {
     "name": "stderr",
     "output_type": "stream",
     "text": [
      "W0506 03:33:07.658061 139885692258112 metrics.py:103] DICE score is technically 1.0, but prediction and truth arrays are empty. \n"
     ]
    },
    {
     "name": "stderr",
     "output_type": "stream",
     "text": [
      "W0506 03:33:07.670690 139885692258112 metrics.py:103] DICE score is technically 1.0, but prediction and truth arrays are empty. \n"
     ]
    },
    {
     "name": "stderr",
     "output_type": "stream",
     "text": [
      "W0506 03:33:07.706573 139885692258112 metrics.py:103] DICE score is technically 1.0, but prediction and truth arrays are empty. \n"
     ]
    },
    {
     "name": "stderr",
     "output_type": "stream",
     "text": [
      "W0506 03:33:07.718900 139885692258112 metrics.py:103] DICE score is technically 1.0, but prediction and truth arrays are empty. \n"
     ]
    },
    {
     "name": "stderr",
     "output_type": "stream",
     "text": [
      "W0506 03:33:07.731531 139885692258112 metrics.py:103] DICE score is technically 1.0, but prediction and truth arrays are empty. \n"
     ]
    },
    {
     "name": "stderr",
     "output_type": "stream",
     "text": [
      "W0506 03:33:07.766070 139885692258112 metrics.py:103] DICE score is technically 1.0, but prediction and truth arrays are empty. \n"
     ]
    },
    {
     "name": "stderr",
     "output_type": "stream",
     "text": [
      "W0506 03:33:09.454879 139885692258112 metrics.py:103] DICE score is technically 1.0, but prediction and truth arrays are empty. \n"
     ]
    },
    {
     "name": "stderr",
     "output_type": "stream",
     "text": [
      "W0506 03:33:09.467592 139885692258112 metrics.py:103] DICE score is technically 1.0, but prediction and truth arrays are empty. \n"
     ]
    },
    {
     "name": "stderr",
     "output_type": "stream",
     "text": [
      "W0506 03:33:09.491188 139885692258112 metrics.py:103] DICE score is technically 1.0, but prediction and truth arrays are empty. \n"
     ]
    },
    {
     "name": "stderr",
     "output_type": "stream",
     "text": [
      "W0506 03:33:09.527087 139885692258112 metrics.py:103] DICE score is technically 1.0, but prediction and truth arrays are empty. \n"
     ]
    },
    {
     "name": "stderr",
     "output_type": "stream",
     "text": [
      "W0506 03:33:09.539666 139885692258112 metrics.py:103] DICE score is technically 1.0, but prediction and truth arrays are empty. \n"
     ]
    },
    {
     "name": "stderr",
     "output_type": "stream",
     "text": [
      "W0506 03:33:09.552203 139885692258112 metrics.py:103] DICE score is technically 1.0, but prediction and truth arrays are empty. \n"
     ]
    },
    {
     "name": "stderr",
     "output_type": "stream",
     "text": [
      "W0506 03:33:09.564810 139885692258112 metrics.py:103] DICE score is technically 1.0, but prediction and truth arrays are empty. \n"
     ]
    },
    {
     "name": "stderr",
     "output_type": "stream",
     "text": [
      "W0506 03:33:09.577322 139885692258112 metrics.py:103] DICE score is technically 1.0, but prediction and truth arrays are empty. \n"
     ]
    },
    {
     "name": "stderr",
     "output_type": "stream",
     "text": [
      "W0506 03:33:09.611436 139885692258112 metrics.py:103] DICE score is technically 1.0, but prediction and truth arrays are empty. \n"
     ]
    },
    {
     "name": "stderr",
     "output_type": "stream",
     "text": [
      "W0506 03:33:09.623973 139885692258112 metrics.py:103] DICE score is technically 1.0, but prediction and truth arrays are empty. \n"
     ]
    },
    {
     "name": "stderr",
     "output_type": "stream",
     "text": [
      "W0506 03:33:09.636514 139885692258112 metrics.py:103] DICE score is technically 1.0, but prediction and truth arrays are empty. \n"
     ]
    },
    {
     "name": "stderr",
     "output_type": "stream",
     "text": [
      "W0506 03:33:09.649132 139885692258112 metrics.py:103] DICE score is technically 1.0, but prediction and truth arrays are empty. \n"
     ]
    },
    {
     "name": "stderr",
     "output_type": "stream",
     "text": [
      "W0506 03:33:09.661972 139885692258112 metrics.py:103] DICE score is technically 1.0, but prediction and truth arrays are empty. \n"
     ]
    },
    {
     "name": "stderr",
     "output_type": "stream",
     "text": [
      "W0506 03:33:09.674536 139885692258112 metrics.py:103] DICE score is technically 1.0, but prediction and truth arrays are empty. \n"
     ]
    },
    {
     "name": "stderr",
     "output_type": "stream",
     "text": [
      "W0506 03:33:09.688314 139885692258112 metrics.py:103] DICE score is technically 1.0, but prediction and truth arrays are empty. \n"
     ]
    },
    {
     "name": "stderr",
     "output_type": "stream",
     "text": [
      "W0506 03:33:09.707419 139885692258112 metrics.py:103] DICE score is technically 1.0, but prediction and truth arrays are empty. \n"
     ]
    },
    {
     "name": "stderr",
     "output_type": "stream",
     "text": [
      "W0506 03:33:09.735775 139885692258112 metrics.py:103] DICE score is technically 1.0, but prediction and truth arrays are empty. \n"
     ]
    },
    {
     "name": "stderr",
     "output_type": "stream",
     "text": [
      "W0506 03:33:09.748904 139885692258112 metrics.py:103] DICE score is technically 1.0, but prediction and truth arrays are empty. \n"
     ]
    },
    {
     "name": "stderr",
     "output_type": "stream",
     "text": [
      "W0506 03:33:09.761875 139885692258112 metrics.py:103] DICE score is technically 1.0, but prediction and truth arrays are empty. \n"
     ]
    },
    {
     "name": "stderr",
     "output_type": "stream",
     "text": [
      "W0506 03:33:09.774500 139885692258112 metrics.py:103] DICE score is technically 1.0, but prediction and truth arrays are empty. \n"
     ]
    },
    {
     "name": "stderr",
     "output_type": "stream",
     "text": [
      "W0506 03:33:09.789613 139885692258112 metrics.py:103] DICE score is technically 1.0, but prediction and truth arrays are empty. \n"
     ]
    },
    {
     "name": "stderr",
     "output_type": "stream",
     "text": [
      "W0506 03:33:09.813214 139885692258112 metrics.py:103] DICE score is technically 1.0, but prediction and truth arrays are empty. \n"
     ]
    },
    {
     "name": "stdout",
     "output_type": "stream",
     "text": [
      "\n",
      "____________Object-based statistics____________\n",
      "\n",
      "Number of true cells:\t\t 47124\n",
      "Number of predicted cells:\t 38142\n",
      "\n",
      "Correct detections:  36278\tRecall: 76.984126984126987736090086400508880615234375%\n",
      "Incorrect detections: 1864\tPrecision: 95.1129987939803953622686094604432582855224609375%\n",
      "\n",
      "Gained detections: 1257\tPerc Error: 10.765673175745117617907453677617013454437255859375%\n",
      "Missed detections: 9954\tPerc Error: 85.2517985611510766830178909003734588623046875%\n",
      "Merges: 330\t\tPerc Error: 2.826310380267214927840768723399378359317779541015625%\n",
      "Splits: 79\t\tPerc Error: 0.67660157588215141810650266052107326686382293701171875%\n",
      "Catastrophes: 56\t\tPerc Error: 0.47961630695443646654752001268207095563411712646484375%\n",
      "\n",
      "Gained detections from splits: 80\n",
      "Missed detections from merges: 364\n",
      "True detections involved in catastrophes: 117\n",
      "Predicted detections involved in catastrophes: 116 \n",
      "\n",
      "Average Pixel IOU (Jaccard Index): 0.78905470279446909831477796615217812359333038330078125 \n",
      "\n"
     ]
    },
    {
     "name": "stderr",
     "output_type": "stream",
     "text": [
      "/usr/local/lib/python3.6/dist-packages/ipykernel_launcher.py:157: UserWarning: Only one label was provided to `remove_small_objects`. Did you mean to use a boolean array?\n",
      "/usr/local/lib/python3.6/dist-packages/ipykernel_launcher.py:158: UserWarning: Only one label was provided to `remove_small_objects`. Did you mean to use a boolean array?\n"
     ]
    },
    {
     "name": "stderr",
     "output_type": "stream",
     "text": [
      "W0506 03:33:27.920674 139885692258112 metrics.py:103] DICE score is technically 1.0, but prediction and truth arrays are empty. \n"
     ]
    },
    {
     "name": "stderr",
     "output_type": "stream",
     "text": [
      "W0506 03:33:27.932908 139885692258112 metrics.py:103] DICE score is technically 1.0, but prediction and truth arrays are empty. \n"
     ]
    },
    {
     "name": "stderr",
     "output_type": "stream",
     "text": [
      "W0506 03:33:27.956793 139885692258112 metrics.py:103] DICE score is technically 1.0, but prediction and truth arrays are empty. \n"
     ]
    },
    {
     "name": "stderr",
     "output_type": "stream",
     "text": [
      "W0506 03:33:27.969033 139885692258112 metrics.py:103] DICE score is technically 1.0, but prediction and truth arrays are empty. \n"
     ]
    },
    {
     "name": "stderr",
     "output_type": "stream",
     "text": [
      "W0506 03:33:27.981270 139885692258112 metrics.py:103] DICE score is technically 1.0, but prediction and truth arrays are empty. \n"
     ]
    },
    {
     "name": "stderr",
     "output_type": "stream",
     "text": [
      "W0506 03:33:28.004268 139885692258112 metrics.py:103] DICE score is technically 1.0, but prediction and truth arrays are empty. \n"
     ]
    },
    {
     "name": "stderr",
     "output_type": "stream",
     "text": [
      "W0506 03:33:28.016677 139885692258112 metrics.py:103] DICE score is technically 1.0, but prediction and truth arrays are empty. \n"
     ]
    },
    {
     "name": "stderr",
     "output_type": "stream",
     "text": [
      "W0506 03:33:28.029253 139885692258112 metrics.py:103] DICE score is technically 1.0, but prediction and truth arrays are empty. \n"
     ]
    },
    {
     "name": "stderr",
     "output_type": "stream",
     "text": [
      "W0506 03:33:28.041744 139885692258112 metrics.py:103] DICE score is technically 1.0, but prediction and truth arrays are empty. \n"
     ]
    },
    {
     "name": "stderr",
     "output_type": "stream",
     "text": [
      "W0506 03:33:28.054172 139885692258112 metrics.py:103] DICE score is technically 1.0, but prediction and truth arrays are empty. \n"
     ]
    },
    {
     "name": "stderr",
     "output_type": "stream",
     "text": [
      "W0506 03:33:28.070666 139885692258112 metrics.py:103] DICE score is technically 1.0, but prediction and truth arrays are empty. \n"
     ]
    },
    {
     "name": "stderr",
     "output_type": "stream",
     "text": [
      "W0506 03:33:28.083154 139885692258112 metrics.py:103] DICE score is technically 1.0, but prediction and truth arrays are empty. \n"
     ]
    },
    {
     "name": "stderr",
     "output_type": "stream",
     "text": [
      "W0506 03:33:28.095571 139885692258112 metrics.py:103] DICE score is technically 1.0, but prediction and truth arrays are empty. \n"
     ]
    },
    {
     "name": "stderr",
     "output_type": "stream",
     "text": [
      "W0506 03:33:28.107968 139885692258112 metrics.py:103] DICE score is technically 1.0, but prediction and truth arrays are empty. \n"
     ]
    },
    {
     "name": "stderr",
     "output_type": "stream",
     "text": [
      "W0506 03:33:28.120426 139885692258112 metrics.py:103] DICE score is technically 1.0, but prediction and truth arrays are empty. \n"
     ]
    },
    {
     "name": "stderr",
     "output_type": "stream",
     "text": [
      "W0506 03:33:28.134776 139885692258112 metrics.py:103] DICE score is technically 1.0, but prediction and truth arrays are empty. \n"
     ]
    },
    {
     "name": "stderr",
     "output_type": "stream",
     "text": [
      "W0506 03:33:28.147261 139885692258112 metrics.py:103] DICE score is technically 1.0, but prediction and truth arrays are empty. \n"
     ]
    },
    {
     "name": "stderr",
     "output_type": "stream",
     "text": [
      "W0506 03:33:28.159678 139885692258112 metrics.py:103] DICE score is technically 1.0, but prediction and truth arrays are empty. \n"
     ]
    },
    {
     "name": "stderr",
     "output_type": "stream",
     "text": [
      "W0506 03:33:28.172134 139885692258112 metrics.py:103] DICE score is technically 1.0, but prediction and truth arrays are empty. \n"
     ]
    },
    {
     "name": "stderr",
     "output_type": "stream",
     "text": [
      "W0506 03:33:28.184693 139885692258112 metrics.py:103] DICE score is technically 1.0, but prediction and truth arrays are empty. \n"
     ]
    },
    {
     "name": "stderr",
     "output_type": "stream",
     "text": [
      "W0506 03:33:28.197103 139885692258112 metrics.py:103] DICE score is technically 1.0, but prediction and truth arrays are empty. \n"
     ]
    },
    {
     "name": "stderr",
     "output_type": "stream",
     "text": [
      "W0506 03:33:28.209750 139885692258112 metrics.py:103] DICE score is technically 1.0, but prediction and truth arrays are empty. \n"
     ]
    },
    {
     "name": "stderr",
     "output_type": "stream",
     "text": [
      "W0506 03:33:28.222279 139885692258112 metrics.py:103] DICE score is technically 1.0, but prediction and truth arrays are empty. \n"
     ]
    },
    {
     "name": "stderr",
     "output_type": "stream",
     "text": [
      "W0506 03:33:28.234937 139885692258112 metrics.py:103] DICE score is technically 1.0, but prediction and truth arrays are empty. \n"
     ]
    },
    {
     "name": "stderr",
     "output_type": "stream",
     "text": [
      "W0506 03:33:28.247420 139885692258112 metrics.py:103] DICE score is technically 1.0, but prediction and truth arrays are empty. \n"
     ]
    },
    {
     "name": "stderr",
     "output_type": "stream",
     "text": [
      "W0506 03:33:28.260085 139885692258112 metrics.py:103] DICE score is technically 1.0, but prediction and truth arrays are empty. \n"
     ]
    },
    {
     "name": "stderr",
     "output_type": "stream",
     "text": [
      "W0506 03:33:28.272510 139885692258112 metrics.py:103] DICE score is technically 1.0, but prediction and truth arrays are empty. \n"
     ]
    },
    {
     "name": "stderr",
     "output_type": "stream",
     "text": [
      "W0506 03:33:28.284937 139885692258112 metrics.py:103] DICE score is technically 1.0, but prediction and truth arrays are empty. \n"
     ]
    },
    {
     "name": "stderr",
     "output_type": "stream",
     "text": [
      "W0506 03:33:28.565270 139885692258112 metrics.py:103] DICE score is technically 1.0, but prediction and truth arrays are empty. \n"
     ]
    },
    {
     "name": "stderr",
     "output_type": "stream",
     "text": [
      "W0506 03:33:28.578329 139885692258112 metrics.py:103] DICE score is technically 1.0, but prediction and truth arrays are empty. \n"
     ]
    },
    {
     "name": "stderr",
     "output_type": "stream",
     "text": [
      "W0506 03:33:28.591032 139885692258112 metrics.py:103] DICE score is technically 1.0, but prediction and truth arrays are empty. \n"
     ]
    },
    {
     "name": "stderr",
     "output_type": "stream",
     "text": [
      "W0506 03:33:28.603560 139885692258112 metrics.py:103] DICE score is technically 1.0, but prediction and truth arrays are empty. \n"
     ]
    },
    {
     "name": "stderr",
     "output_type": "stream",
     "text": [
      "W0506 03:33:28.616199 139885692258112 metrics.py:103] DICE score is technically 1.0, but prediction and truth arrays are empty. \n"
     ]
    },
    {
     "name": "stderr",
     "output_type": "stream",
     "text": [
      "W0506 03:33:28.629834 139885692258112 metrics.py:103] DICE score is technically 1.0, but prediction and truth arrays are empty. \n"
     ]
    },
    {
     "name": "stderr",
     "output_type": "stream",
     "text": [
      "W0506 03:33:28.642303 139885692258112 metrics.py:103] DICE score is technically 1.0, but prediction and truth arrays are empty. \n"
     ]
    },
    {
     "name": "stderr",
     "output_type": "stream",
     "text": [
      "W0506 03:33:28.654751 139885692258112 metrics.py:103] DICE score is technically 1.0, but prediction and truth arrays are empty. \n"
     ]
    },
    {
     "name": "stderr",
     "output_type": "stream",
     "text": [
      "W0506 03:33:28.667178 139885692258112 metrics.py:103] DICE score is technically 1.0, but prediction and truth arrays are empty. \n"
     ]
    },
    {
     "name": "stderr",
     "output_type": "stream",
     "text": [
      "W0506 03:33:28.679602 139885692258112 metrics.py:103] DICE score is technically 1.0, but prediction and truth arrays are empty. \n"
     ]
    },
    {
     "name": "stderr",
     "output_type": "stream",
     "text": [
      "W0506 03:33:28.731583 139885692258112 metrics.py:103] DICE score is technically 1.0, but prediction and truth arrays are empty. \n"
     ]
    },
    {
     "name": "stderr",
     "output_type": "stream",
     "text": [
      "W0506 03:33:28.754947 139885692258112 metrics.py:103] DICE score is technically 1.0, but prediction and truth arrays are empty. \n"
     ]
    },
    {
     "name": "stderr",
     "output_type": "stream",
     "text": [
      "W0506 03:33:28.767390 139885692258112 metrics.py:103] DICE score is technically 1.0, but prediction and truth arrays are empty. \n"
     ]
    },
    {
     "name": "stderr",
     "output_type": "stream",
     "text": [
      "W0506 03:33:28.847359 139885692258112 metrics.py:103] DICE score is technically 1.0, but prediction and truth arrays are empty. \n"
     ]
    },
    {
     "name": "stderr",
     "output_type": "stream",
     "text": [
      "W0506 03:33:28.878585 139885692258112 metrics.py:103] DICE score is technically 1.0, but prediction and truth arrays are empty. \n"
     ]
    },
    {
     "name": "stderr",
     "output_type": "stream",
     "text": [
      "W0506 03:33:28.891241 139885692258112 metrics.py:103] DICE score is technically 1.0, but prediction and truth arrays are empty. \n"
     ]
    },
    {
     "name": "stderr",
     "output_type": "stream",
     "text": [
      "W0506 03:33:28.903751 139885692258112 metrics.py:103] DICE score is technically 1.0, but prediction and truth arrays are empty. \n"
     ]
    },
    {
     "name": "stderr",
     "output_type": "stream",
     "text": [
      "W0506 03:33:28.917056 139885692258112 metrics.py:103] DICE score is technically 1.0, but prediction and truth arrays are empty. \n"
     ]
    },
    {
     "name": "stderr",
     "output_type": "stream",
     "text": [
      "W0506 03:33:28.930335 139885692258112 metrics.py:103] DICE score is technically 1.0, but prediction and truth arrays are empty. \n"
     ]
    },
    {
     "name": "stderr",
     "output_type": "stream",
     "text": [
      "W0506 03:33:31.251432 139885692258112 metrics.py:103] DICE score is technically 1.0, but prediction and truth arrays are empty. \n"
     ]
    },
    {
     "name": "stderr",
     "output_type": "stream",
     "text": [
      "W0506 03:33:31.263663 139885692258112 metrics.py:103] DICE score is technically 1.0, but prediction and truth arrays are empty. \n"
     ]
    },
    {
     "name": "stderr",
     "output_type": "stream",
     "text": [
      "W0506 03:33:31.275693 139885692258112 metrics.py:103] DICE score is technically 1.0, but prediction and truth arrays are empty. \n"
     ]
    },
    {
     "name": "stderr",
     "output_type": "stream",
     "text": [
      "W0506 03:33:31.288581 139885692258112 metrics.py:103] DICE score is technically 1.0, but prediction and truth arrays are empty. \n"
     ]
    },
    {
     "name": "stderr",
     "output_type": "stream",
     "text": [
      "W0506 03:33:31.302035 139885692258112 metrics.py:103] DICE score is technically 1.0, but prediction and truth arrays are empty. \n"
     ]
    },
    {
     "name": "stderr",
     "output_type": "stream",
     "text": [
      "W0506 03:33:31.314217 139885692258112 metrics.py:103] DICE score is technically 1.0, but prediction and truth arrays are empty. \n"
     ]
    },
    {
     "name": "stderr",
     "output_type": "stream",
     "text": [
      "W0506 03:33:31.326411 139885692258112 metrics.py:103] DICE score is technically 1.0, but prediction and truth arrays are empty. \n"
     ]
    },
    {
     "name": "stderr",
     "output_type": "stream",
     "text": [
      "W0506 03:33:31.338729 139885692258112 metrics.py:103] DICE score is technically 1.0, but prediction and truth arrays are empty. \n"
     ]
    },
    {
     "name": "stderr",
     "output_type": "stream",
     "text": [
      "W0506 03:33:31.351037 139885692258112 metrics.py:103] DICE score is technically 1.0, but prediction and truth arrays are empty. \n"
     ]
    },
    {
     "name": "stderr",
     "output_type": "stream",
     "text": [
      "W0506 03:33:31.363323 139885692258112 metrics.py:103] DICE score is technically 1.0, but prediction and truth arrays are empty. \n"
     ]
    },
    {
     "name": "stderr",
     "output_type": "stream",
     "text": [
      "W0506 03:33:31.375645 139885692258112 metrics.py:103] DICE score is technically 1.0, but prediction and truth arrays are empty. \n"
     ]
    },
    {
     "name": "stderr",
     "output_type": "stream",
     "text": [
      "W0506 03:33:31.387948 139885692258112 metrics.py:103] DICE score is technically 1.0, but prediction and truth arrays are empty. \n"
     ]
    },
    {
     "name": "stderr",
     "output_type": "stream",
     "text": [
      "W0506 03:33:31.400276 139885692258112 metrics.py:103] DICE score is technically 1.0, but prediction and truth arrays are empty. \n"
     ]
    },
    {
     "name": "stderr",
     "output_type": "stream",
     "text": [
      "W0506 03:33:31.412600 139885692258112 metrics.py:103] DICE score is technically 1.0, but prediction and truth arrays are empty. \n"
     ]
    },
    {
     "name": "stderr",
     "output_type": "stream",
     "text": [
      "W0506 03:33:31.427130 139885692258112 metrics.py:103] DICE score is technically 1.0, but prediction and truth arrays are empty. \n"
     ]
    },
    {
     "name": "stderr",
     "output_type": "stream",
     "text": [
      "W0506 03:33:31.441243 139885692258112 metrics.py:103] DICE score is technically 1.0, but prediction and truth arrays are empty. \n"
     ]
    },
    {
     "name": "stderr",
     "output_type": "stream",
     "text": [
      "W0506 03:33:31.462991 139885692258112 metrics.py:103] DICE score is technically 1.0, but prediction and truth arrays are empty. \n"
     ]
    },
    {
     "name": "stderr",
     "output_type": "stream",
     "text": [
      "W0506 03:33:31.477186 139885692258112 metrics.py:103] DICE score is technically 1.0, but prediction and truth arrays are empty. \n"
     ]
    },
    {
     "name": "stderr",
     "output_type": "stream",
     "text": [
      "W0506 03:33:31.494246 139885692258112 metrics.py:103] DICE score is technically 1.0, but prediction and truth arrays are empty. \n"
     ]
    },
    {
     "name": "stderr",
     "output_type": "stream",
     "text": [
      "W0506 03:33:31.509085 139885692258112 metrics.py:103] DICE score is technically 1.0, but prediction and truth arrays are empty. \n"
     ]
    },
    {
     "name": "stderr",
     "output_type": "stream",
     "text": [
      "W0506 03:33:31.523792 139885692258112 metrics.py:103] DICE score is technically 1.0, but prediction and truth arrays are empty. \n"
     ]
    },
    {
     "name": "stderr",
     "output_type": "stream",
     "text": [
      "W0506 03:33:31.538072 139885692258112 metrics.py:103] DICE score is technically 1.0, but prediction and truth arrays are empty. \n"
     ]
    },
    {
     "name": "stderr",
     "output_type": "stream",
     "text": [
      "W0506 03:33:31.554230 139885692258112 metrics.py:103] DICE score is technically 1.0, but prediction and truth arrays are empty. \n"
     ]
    },
    {
     "name": "stderr",
     "output_type": "stream",
     "text": [
      "W0506 03:33:31.570067 139885692258112 metrics.py:103] DICE score is technically 1.0, but prediction and truth arrays are empty. \n"
     ]
    },
    {
     "name": "stderr",
     "output_type": "stream",
     "text": [
      "W0506 03:33:31.584657 139885692258112 metrics.py:103] DICE score is technically 1.0, but prediction and truth arrays are empty. \n"
     ]
    },
    {
     "name": "stderr",
     "output_type": "stream",
     "text": [
      "W0506 03:33:31.599228 139885692258112 metrics.py:103] DICE score is technically 1.0, but prediction and truth arrays are empty. \n"
     ]
    },
    {
     "name": "stderr",
     "output_type": "stream",
     "text": [
      "W0506 03:33:31.613261 139885692258112 metrics.py:103] DICE score is technically 1.0, but prediction and truth arrays are empty. \n"
     ]
    },
    {
     "name": "stderr",
     "output_type": "stream",
     "text": [
      "W0506 03:33:31.627216 139885692258112 metrics.py:103] DICE score is technically 1.0, but prediction and truth arrays are empty. \n"
     ]
    },
    {
     "name": "stderr",
     "output_type": "stream",
     "text": [
      "W0506 03:33:31.641019 139885692258112 metrics.py:103] DICE score is technically 1.0, but prediction and truth arrays are empty. \n"
     ]
    },
    {
     "name": "stderr",
     "output_type": "stream",
     "text": [
      "W0506 03:33:31.653692 139885692258112 metrics.py:103] DICE score is technically 1.0, but prediction and truth arrays are empty. \n"
     ]
    },
    {
     "name": "stderr",
     "output_type": "stream",
     "text": [
      "W0506 03:33:31.666246 139885692258112 metrics.py:103] DICE score is technically 1.0, but prediction and truth arrays are empty. \n"
     ]
    },
    {
     "name": "stderr",
     "output_type": "stream",
     "text": [
      "W0506 03:33:31.678812 139885692258112 metrics.py:103] DICE score is technically 1.0, but prediction and truth arrays are empty. \n"
     ]
    },
    {
     "name": "stderr",
     "output_type": "stream",
     "text": [
      "W0506 03:33:31.691321 139885692258112 metrics.py:103] DICE score is technically 1.0, but prediction and truth arrays are empty. \n"
     ]
    },
    {
     "name": "stderr",
     "output_type": "stream",
     "text": [
      "W0506 03:33:31.704409 139885692258112 metrics.py:103] DICE score is technically 1.0, but prediction and truth arrays are empty. \n"
     ]
    },
    {
     "name": "stderr",
     "output_type": "stream",
     "text": [
      "W0506 03:33:31.717421 139885692258112 metrics.py:103] DICE score is technically 1.0, but prediction and truth arrays are empty. \n"
     ]
    },
    {
     "name": "stderr",
     "output_type": "stream",
     "text": [
      "W0506 03:33:31.731108 139885692258112 metrics.py:103] DICE score is technically 1.0, but prediction and truth arrays are empty. \n"
     ]
    },
    {
     "name": "stderr",
     "output_type": "stream",
     "text": [
      "W0506 03:33:31.744458 139885692258112 metrics.py:103] DICE score is technically 1.0, but prediction and truth arrays are empty. \n"
     ]
    },
    {
     "name": "stderr",
     "output_type": "stream",
     "text": [
      "W0506 03:33:31.757110 139885692258112 metrics.py:103] DICE score is technically 1.0, but prediction and truth arrays are empty. \n"
     ]
    },
    {
     "name": "stderr",
     "output_type": "stream",
     "text": [
      "W0506 03:33:31.771822 139885692258112 metrics.py:103] DICE score is technically 1.0, but prediction and truth arrays are empty. \n"
     ]
    },
    {
     "name": "stderr",
     "output_type": "stream",
     "text": [
      "W0506 03:33:31.784906 139885692258112 metrics.py:103] DICE score is technically 1.0, but prediction and truth arrays are empty. \n"
     ]
    },
    {
     "name": "stderr",
     "output_type": "stream",
     "text": [
      "W0506 03:33:37.808924 139885692258112 metrics.py:103] DICE score is technically 1.0, but prediction and truth arrays are empty. \n"
     ]
    },
    {
     "name": "stderr",
     "output_type": "stream",
     "text": [
      "W0506 03:33:37.821749 139885692258112 metrics.py:103] DICE score is technically 1.0, but prediction and truth arrays are empty. \n"
     ]
    },
    {
     "name": "stderr",
     "output_type": "stream",
     "text": [
      "W0506 03:33:37.834358 139885692258112 metrics.py:103] DICE score is technically 1.0, but prediction and truth arrays are empty. \n"
     ]
    },
    {
     "name": "stderr",
     "output_type": "stream",
     "text": [
      "W0506 03:33:37.846884 139885692258112 metrics.py:103] DICE score is technically 1.0, but prediction and truth arrays are empty. \n"
     ]
    },
    {
     "name": "stderr",
     "output_type": "stream",
     "text": [
      "W0506 03:33:37.859425 139885692258112 metrics.py:103] DICE score is technically 1.0, but prediction and truth arrays are empty. \n"
     ]
    },
    {
     "name": "stderr",
     "output_type": "stream",
     "text": [
      "W0506 03:33:37.871989 139885692258112 metrics.py:103] DICE score is technically 1.0, but prediction and truth arrays are empty. \n"
     ]
    },
    {
     "name": "stderr",
     "output_type": "stream",
     "text": [
      "W0506 03:33:37.884539 139885692258112 metrics.py:103] DICE score is technically 1.0, but prediction and truth arrays are empty. \n"
     ]
    },
    {
     "name": "stderr",
     "output_type": "stream",
     "text": [
      "W0506 03:33:37.897075 139885692258112 metrics.py:103] DICE score is technically 1.0, but prediction and truth arrays are empty. \n"
     ]
    },
    {
     "name": "stderr",
     "output_type": "stream",
     "text": [
      "W0506 03:33:37.909662 139885692258112 metrics.py:103] DICE score is technically 1.0, but prediction and truth arrays are empty. \n"
     ]
    },
    {
     "name": "stderr",
     "output_type": "stream",
     "text": [
      "W0506 03:33:37.922153 139885692258112 metrics.py:103] DICE score is technically 1.0, but prediction and truth arrays are empty. \n"
     ]
    },
    {
     "name": "stderr",
     "output_type": "stream",
     "text": [
      "W0506 03:33:37.934691 139885692258112 metrics.py:103] DICE score is technically 1.0, but prediction and truth arrays are empty. \n"
     ]
    },
    {
     "name": "stderr",
     "output_type": "stream",
     "text": [
      "W0506 03:33:37.947351 139885692258112 metrics.py:103] DICE score is technically 1.0, but prediction and truth arrays are empty. \n"
     ]
    },
    {
     "name": "stderr",
     "output_type": "stream",
     "text": [
      "W0506 03:33:37.959926 139885692258112 metrics.py:103] DICE score is technically 1.0, but prediction and truth arrays are empty. \n"
     ]
    },
    {
     "name": "stderr",
     "output_type": "stream",
     "text": [
      "W0506 03:33:37.973345 139885692258112 metrics.py:103] DICE score is technically 1.0, but prediction and truth arrays are empty. \n"
     ]
    },
    {
     "name": "stderr",
     "output_type": "stream",
     "text": [
      "W0506 03:33:37.986792 139885692258112 metrics.py:103] DICE score is technically 1.0, but prediction and truth arrays are empty. \n"
     ]
    },
    {
     "name": "stderr",
     "output_type": "stream",
     "text": [
      "W0506 03:33:37.999477 139885692258112 metrics.py:103] DICE score is technically 1.0, but prediction and truth arrays are empty. \n"
     ]
    },
    {
     "name": "stderr",
     "output_type": "stream",
     "text": [
      "W0506 03:33:38.015029 139885692258112 metrics.py:103] DICE score is technically 1.0, but prediction and truth arrays are empty. \n"
     ]
    },
    {
     "name": "stderr",
     "output_type": "stream",
     "text": [
      "W0506 03:33:38.028088 139885692258112 metrics.py:103] DICE score is technically 1.0, but prediction and truth arrays are empty. \n"
     ]
    },
    {
     "name": "stderr",
     "output_type": "stream",
     "text": [
      "W0506 03:33:38.041068 139885692258112 metrics.py:103] DICE score is technically 1.0, but prediction and truth arrays are empty. \n"
     ]
    },
    {
     "name": "stderr",
     "output_type": "stream",
     "text": [
      "W0506 03:33:38.054034 139885692258112 metrics.py:103] DICE score is technically 1.0, but prediction and truth arrays are empty. \n"
     ]
    },
    {
     "name": "stderr",
     "output_type": "stream",
     "text": [
      "W0506 03:33:38.066865 139885692258112 metrics.py:103] DICE score is technically 1.0, but prediction and truth arrays are empty. \n"
     ]
    },
    {
     "name": "stderr",
     "output_type": "stream",
     "text": [
      "W0506 03:33:38.081906 139885692258112 metrics.py:103] DICE score is technically 1.0, but prediction and truth arrays are empty. \n"
     ]
    },
    {
     "name": "stderr",
     "output_type": "stream",
     "text": [
      "W0506 03:33:38.095246 139885692258112 metrics.py:103] DICE score is technically 1.0, but prediction and truth arrays are empty. \n"
     ]
    },
    {
     "name": "stderr",
     "output_type": "stream",
     "text": [
      "W0506 03:33:38.107991 139885692258112 metrics.py:103] DICE score is technically 1.0, but prediction and truth arrays are empty. \n"
     ]
    },
    {
     "name": "stderr",
     "output_type": "stream",
     "text": [
      "W0506 03:33:38.121215 139885692258112 metrics.py:103] DICE score is technically 1.0, but prediction and truth arrays are empty. \n"
     ]
    },
    {
     "name": "stderr",
     "output_type": "stream",
     "text": [
      "W0506 03:33:38.133968 139885692258112 metrics.py:103] DICE score is technically 1.0, but prediction and truth arrays are empty. \n"
     ]
    },
    {
     "name": "stderr",
     "output_type": "stream",
     "text": [
      "W0506 03:33:38.146587 139885692258112 metrics.py:103] DICE score is technically 1.0, but prediction and truth arrays are empty. \n"
     ]
    },
    {
     "name": "stderr",
     "output_type": "stream",
     "text": [
      "W0506 03:33:38.159116 139885692258112 metrics.py:103] DICE score is technically 1.0, but prediction and truth arrays are empty. \n"
     ]
    },
    {
     "name": "stderr",
     "output_type": "stream",
     "text": [
      "W0506 03:33:38.171708 139885692258112 metrics.py:103] DICE score is technically 1.0, but prediction and truth arrays are empty. \n"
     ]
    },
    {
     "name": "stderr",
     "output_type": "stream",
     "text": [
      "W0506 03:33:38.184768 139885692258112 metrics.py:103] DICE score is technically 1.0, but prediction and truth arrays are empty. \n"
     ]
    },
    {
     "name": "stderr",
     "output_type": "stream",
     "text": [
      "W0506 03:33:38.197882 139885692258112 metrics.py:103] DICE score is technically 1.0, but prediction and truth arrays are empty. \n"
     ]
    },
    {
     "name": "stderr",
     "output_type": "stream",
     "text": [
      "W0506 03:33:38.210640 139885692258112 metrics.py:103] DICE score is technically 1.0, but prediction and truth arrays are empty. \n"
     ]
    },
    {
     "name": "stderr",
     "output_type": "stream",
     "text": [
      "W0506 03:33:38.223476 139885692258112 metrics.py:103] DICE score is technically 1.0, but prediction and truth arrays are empty. \n"
     ]
    },
    {
     "name": "stderr",
     "output_type": "stream",
     "text": [
      "W0506 03:33:38.247978 139885692258112 metrics.py:103] DICE score is technically 1.0, but prediction and truth arrays are empty. \n"
     ]
    },
    {
     "name": "stderr",
     "output_type": "stream",
     "text": [
      "W0506 03:33:38.271828 139885692258112 metrics.py:103] DICE score is technically 1.0, but prediction and truth arrays are empty. \n"
     ]
    },
    {
     "name": "stderr",
     "output_type": "stream",
     "text": [
      "W0506 03:33:38.284634 139885692258112 metrics.py:103] DICE score is technically 1.0, but prediction and truth arrays are empty. \n"
     ]
    },
    {
     "name": "stderr",
     "output_type": "stream",
     "text": [
      "W0506 03:33:38.301554 139885692258112 metrics.py:103] DICE score is technically 1.0, but prediction and truth arrays are empty. \n"
     ]
    },
    {
     "name": "stderr",
     "output_type": "stream",
     "text": [
      "W0506 03:33:38.314013 139885692258112 metrics.py:103] DICE score is technically 1.0, but prediction and truth arrays are empty. \n"
     ]
    },
    {
     "name": "stderr",
     "output_type": "stream",
     "text": [
      "W0506 03:33:38.960940 139885692258112 metrics.py:103] DICE score is technically 1.0, but prediction and truth arrays are empty. \n"
     ]
    },
    {
     "name": "stderr",
     "output_type": "stream",
     "text": [
      "W0506 03:33:38.973811 139885692258112 metrics.py:103] DICE score is technically 1.0, but prediction and truth arrays are empty. \n"
     ]
    },
    {
     "name": "stderr",
     "output_type": "stream",
     "text": [
      "W0506 03:33:38.986362 139885692258112 metrics.py:103] DICE score is technically 1.0, but prediction and truth arrays are empty. \n"
     ]
    },
    {
     "name": "stderr",
     "output_type": "stream",
     "text": [
      "W0506 03:33:38.998911 139885692258112 metrics.py:103] DICE score is technically 1.0, but prediction and truth arrays are empty. \n"
     ]
    },
    {
     "name": "stderr",
     "output_type": "stream",
     "text": [
      "W0506 03:33:39.011490 139885692258112 metrics.py:103] DICE score is technically 1.0, but prediction and truth arrays are empty. \n"
     ]
    },
    {
     "name": "stderr",
     "output_type": "stream",
     "text": [
      "W0506 03:33:39.024113 139885692258112 metrics.py:103] DICE score is technically 1.0, but prediction and truth arrays are empty. \n"
     ]
    },
    {
     "name": "stderr",
     "output_type": "stream",
     "text": [
      "W0506 03:33:39.036667 139885692258112 metrics.py:103] DICE score is technically 1.0, but prediction and truth arrays are empty. \n"
     ]
    },
    {
     "name": "stderr",
     "output_type": "stream",
     "text": [
      "W0506 03:33:39.049182 139885692258112 metrics.py:103] DICE score is technically 1.0, but prediction and truth arrays are empty. \n"
     ]
    },
    {
     "name": "stderr",
     "output_type": "stream",
     "text": [
      "W0506 03:33:39.061716 139885692258112 metrics.py:103] DICE score is technically 1.0, but prediction and truth arrays are empty. \n"
     ]
    },
    {
     "name": "stderr",
     "output_type": "stream",
     "text": [
      "W0506 03:33:39.074259 139885692258112 metrics.py:103] DICE score is technically 1.0, but prediction and truth arrays are empty. \n"
     ]
    },
    {
     "name": "stderr",
     "output_type": "stream",
     "text": [
      "W0506 03:33:39.086802 139885692258112 metrics.py:103] DICE score is technically 1.0, but prediction and truth arrays are empty. \n"
     ]
    },
    {
     "name": "stderr",
     "output_type": "stream",
     "text": [
      "W0506 03:33:39.099652 139885692258112 metrics.py:103] DICE score is technically 1.0, but prediction and truth arrays are empty. \n"
     ]
    },
    {
     "name": "stderr",
     "output_type": "stream",
     "text": [
      "W0506 03:33:39.112373 139885692258112 metrics.py:103] DICE score is technically 1.0, but prediction and truth arrays are empty. \n"
     ]
    },
    {
     "name": "stderr",
     "output_type": "stream",
     "text": [
      "W0506 03:33:39.124941 139885692258112 metrics.py:103] DICE score is technically 1.0, but prediction and truth arrays are empty. \n"
     ]
    },
    {
     "name": "stderr",
     "output_type": "stream",
     "text": [
      "W0506 03:33:39.138617 139885692258112 metrics.py:103] DICE score is technically 1.0, but prediction and truth arrays are empty. \n"
     ]
    },
    {
     "name": "stderr",
     "output_type": "stream",
     "text": [
      "W0506 03:33:39.151282 139885692258112 metrics.py:103] DICE score is technically 1.0, but prediction and truth arrays are empty. \n"
     ]
    },
    {
     "name": "stderr",
     "output_type": "stream",
     "text": [
      "W0506 03:33:39.163893 139885692258112 metrics.py:103] DICE score is technically 1.0, but prediction and truth arrays are empty. \n"
     ]
    },
    {
     "name": "stderr",
     "output_type": "stream",
     "text": [
      "W0506 03:33:39.176502 139885692258112 metrics.py:103] DICE score is technically 1.0, but prediction and truth arrays are empty. \n"
     ]
    },
    {
     "name": "stderr",
     "output_type": "stream",
     "text": [
      "W0506 03:33:39.189165 139885692258112 metrics.py:103] DICE score is technically 1.0, but prediction and truth arrays are empty. \n"
     ]
    },
    {
     "name": "stderr",
     "output_type": "stream",
     "text": [
      "W0506 03:33:39.201771 139885692258112 metrics.py:103] DICE score is technically 1.0, but prediction and truth arrays are empty. \n"
     ]
    },
    {
     "name": "stderr",
     "output_type": "stream",
     "text": [
      "W0506 03:33:39.215711 139885692258112 metrics.py:103] DICE score is technically 1.0, but prediction and truth arrays are empty. \n"
     ]
    },
    {
     "name": "stderr",
     "output_type": "stream",
     "text": [
      "W0506 03:33:39.228650 139885692258112 metrics.py:103] DICE score is technically 1.0, but prediction and truth arrays are empty. \n"
     ]
    },
    {
     "name": "stderr",
     "output_type": "stream",
     "text": [
      "W0506 03:33:39.241432 139885692258112 metrics.py:103] DICE score is technically 1.0, but prediction and truth arrays are empty. \n"
     ]
    },
    {
     "name": "stderr",
     "output_type": "stream",
     "text": [
      "W0506 03:33:39.254240 139885692258112 metrics.py:103] DICE score is technically 1.0, but prediction and truth arrays are empty. \n"
     ]
    },
    {
     "name": "stderr",
     "output_type": "stream",
     "text": [
      "W0506 03:33:39.267050 139885692258112 metrics.py:103] DICE score is technically 1.0, but prediction and truth arrays are empty. \n"
     ]
    },
    {
     "name": "stderr",
     "output_type": "stream",
     "text": [
      "W0506 03:33:39.279945 139885692258112 metrics.py:103] DICE score is technically 1.0, but prediction and truth arrays are empty. \n"
     ]
    },
    {
     "name": "stderr",
     "output_type": "stream",
     "text": [
      "W0506 03:33:39.292868 139885692258112 metrics.py:103] DICE score is technically 1.0, but prediction and truth arrays are empty. \n"
     ]
    },
    {
     "name": "stderr",
     "output_type": "stream",
     "text": [
      "W0506 03:33:39.305773 139885692258112 metrics.py:103] DICE score is technically 1.0, but prediction and truth arrays are empty. \n"
     ]
    },
    {
     "name": "stderr",
     "output_type": "stream",
     "text": [
      "W0506 03:33:39.318580 139885692258112 metrics.py:103] DICE score is technically 1.0, but prediction and truth arrays are empty. \n"
     ]
    },
    {
     "name": "stderr",
     "output_type": "stream",
     "text": [
      "W0506 03:33:39.331091 139885692258112 metrics.py:103] DICE score is technically 1.0, but prediction and truth arrays are empty. \n"
     ]
    },
    {
     "name": "stderr",
     "output_type": "stream",
     "text": [
      "W0506 03:33:39.343507 139885692258112 metrics.py:103] DICE score is technically 1.0, but prediction and truth arrays are empty. \n"
     ]
    },
    {
     "name": "stderr",
     "output_type": "stream",
     "text": [
      "W0506 03:33:39.356188 139885692258112 metrics.py:103] DICE score is technically 1.0, but prediction and truth arrays are empty. \n"
     ]
    },
    {
     "name": "stderr",
     "output_type": "stream",
     "text": [
      "W0506 03:33:39.368900 139885692258112 metrics.py:103] DICE score is technically 1.0, but prediction and truth arrays are empty. \n"
     ]
    },
    {
     "name": "stderr",
     "output_type": "stream",
     "text": [
      "W0506 03:33:39.386515 139885692258112 metrics.py:103] DICE score is technically 1.0, but prediction and truth arrays are empty. \n"
     ]
    },
    {
     "name": "stderr",
     "output_type": "stream",
     "text": [
      "W0506 03:33:39.404529 139885692258112 metrics.py:103] DICE score is technically 1.0, but prediction and truth arrays are empty. \n"
     ]
    },
    {
     "name": "stderr",
     "output_type": "stream",
     "text": [
      "W0506 03:33:39.418290 139885692258112 metrics.py:103] DICE score is technically 1.0, but prediction and truth arrays are empty. \n"
     ]
    },
    {
     "name": "stderr",
     "output_type": "stream",
     "text": [
      "W0506 03:33:39.431525 139885692258112 metrics.py:103] DICE score is technically 1.0, but prediction and truth arrays are empty. \n"
     ]
    },
    {
     "name": "stderr",
     "output_type": "stream",
     "text": [
      "W0506 03:33:39.444837 139885692258112 metrics.py:103] DICE score is technically 1.0, but prediction and truth arrays are empty. \n"
     ]
    },
    {
     "name": "stderr",
     "output_type": "stream",
     "text": [
      "W0506 03:33:40.164280 139885692258112 metrics.py:103] DICE score is technically 1.0, but prediction and truth arrays are empty. \n"
     ]
    },
    {
     "name": "stderr",
     "output_type": "stream",
     "text": [
      "W0506 03:33:40.177171 139885692258112 metrics.py:103] DICE score is technically 1.0, but prediction and truth arrays are empty. \n"
     ]
    },
    {
     "name": "stderr",
     "output_type": "stream",
     "text": [
      "W0506 03:33:40.189687 139885692258112 metrics.py:103] DICE score is technically 1.0, but prediction and truth arrays are empty. \n"
     ]
    },
    {
     "name": "stderr",
     "output_type": "stream",
     "text": [
      "W0506 03:33:40.202323 139885692258112 metrics.py:103] DICE score is technically 1.0, but prediction and truth arrays are empty. \n"
     ]
    },
    {
     "name": "stderr",
     "output_type": "stream",
     "text": [
      "W0506 03:33:40.214862 139885692258112 metrics.py:103] DICE score is technically 1.0, but prediction and truth arrays are empty. \n"
     ]
    },
    {
     "name": "stderr",
     "output_type": "stream",
     "text": [
      "W0506 03:33:40.227350 139885692258112 metrics.py:103] DICE score is technically 1.0, but prediction and truth arrays are empty. \n"
     ]
    },
    {
     "name": "stderr",
     "output_type": "stream",
     "text": [
      "W0506 03:33:40.239863 139885692258112 metrics.py:103] DICE score is technically 1.0, but prediction and truth arrays are empty. \n"
     ]
    },
    {
     "name": "stderr",
     "output_type": "stream",
     "text": [
      "W0506 03:33:40.252452 139885692258112 metrics.py:103] DICE score is technically 1.0, but prediction and truth arrays are empty. \n"
     ]
    },
    {
     "name": "stderr",
     "output_type": "stream",
     "text": [
      "W0506 03:33:40.265313 139885692258112 metrics.py:103] DICE score is technically 1.0, but prediction and truth arrays are empty. \n"
     ]
    },
    {
     "name": "stderr",
     "output_type": "stream",
     "text": [
      "W0506 03:33:40.277893 139885692258112 metrics.py:103] DICE score is technically 1.0, but prediction and truth arrays are empty. \n"
     ]
    },
    {
     "name": "stderr",
     "output_type": "stream",
     "text": [
      "W0506 03:33:40.290448 139885692258112 metrics.py:103] DICE score is technically 1.0, but prediction and truth arrays are empty. \n"
     ]
    },
    {
     "name": "stderr",
     "output_type": "stream",
     "text": [
      "W0506 03:33:40.303790 139885692258112 metrics.py:103] DICE score is technically 1.0, but prediction and truth arrays are empty. \n"
     ]
    },
    {
     "name": "stderr",
     "output_type": "stream",
     "text": [
      "W0506 03:33:40.316004 139885692258112 metrics.py:103] DICE score is technically 1.0, but prediction and truth arrays are empty. \n"
     ]
    },
    {
     "name": "stderr",
     "output_type": "stream",
     "text": [
      "W0506 03:33:40.327946 139885692258112 metrics.py:103] DICE score is technically 1.0, but prediction and truth arrays are empty. \n"
     ]
    },
    {
     "name": "stderr",
     "output_type": "stream",
     "text": [
      "W0506 03:33:40.340047 139885692258112 metrics.py:103] DICE score is technically 1.0, but prediction and truth arrays are empty. \n"
     ]
    },
    {
     "name": "stderr",
     "output_type": "stream",
     "text": [
      "W0506 03:33:40.352253 139885692258112 metrics.py:103] DICE score is technically 1.0, but prediction and truth arrays are empty. \n"
     ]
    },
    {
     "name": "stderr",
     "output_type": "stream",
     "text": [
      "W0506 03:33:40.364868 139885692258112 metrics.py:103] DICE score is technically 1.0, but prediction and truth arrays are empty. \n"
     ]
    },
    {
     "name": "stderr",
     "output_type": "stream",
     "text": [
      "W0506 03:33:40.377490 139885692258112 metrics.py:103] DICE score is technically 1.0, but prediction and truth arrays are empty. \n"
     ]
    },
    {
     "name": "stderr",
     "output_type": "stream",
     "text": [
      "W0506 03:33:40.389989 139885692258112 metrics.py:103] DICE score is technically 1.0, but prediction and truth arrays are empty. \n"
     ]
    },
    {
     "name": "stderr",
     "output_type": "stream",
     "text": [
      "W0506 03:33:40.402343 139885692258112 metrics.py:103] DICE score is technically 1.0, but prediction and truth arrays are empty. \n"
     ]
    },
    {
     "name": "stderr",
     "output_type": "stream",
     "text": [
      "W0506 03:33:40.414720 139885692258112 metrics.py:103] DICE score is technically 1.0, but prediction and truth arrays are empty. \n"
     ]
    },
    {
     "name": "stderr",
     "output_type": "stream",
     "text": [
      "W0506 03:33:40.427184 139885692258112 metrics.py:103] DICE score is technically 1.0, but prediction and truth arrays are empty. \n"
     ]
    },
    {
     "name": "stderr",
     "output_type": "stream",
     "text": [
      "W0506 03:33:40.439826 139885692258112 metrics.py:103] DICE score is technically 1.0, but prediction and truth arrays are empty. \n"
     ]
    },
    {
     "name": "stderr",
     "output_type": "stream",
     "text": [
      "W0506 03:33:40.452370 139885692258112 metrics.py:103] DICE score is technically 1.0, but prediction and truth arrays are empty. \n"
     ]
    },
    {
     "name": "stderr",
     "output_type": "stream",
     "text": [
      "W0506 03:33:40.464906 139885692258112 metrics.py:103] DICE score is technically 1.0, but prediction and truth arrays are empty. \n"
     ]
    },
    {
     "name": "stderr",
     "output_type": "stream",
     "text": [
      "W0506 03:33:40.477456 139885692258112 metrics.py:103] DICE score is technically 1.0, but prediction and truth arrays are empty. \n"
     ]
    },
    {
     "name": "stderr",
     "output_type": "stream",
     "text": [
      "W0506 03:33:40.490295 139885692258112 metrics.py:103] DICE score is technically 1.0, but prediction and truth arrays are empty. \n"
     ]
    },
    {
     "name": "stderr",
     "output_type": "stream",
     "text": [
      "W0506 03:33:40.503108 139885692258112 metrics.py:103] DICE score is technically 1.0, but prediction and truth arrays are empty. \n"
     ]
    },
    {
     "name": "stderr",
     "output_type": "stream",
     "text": [
      "W0506 03:33:40.515653 139885692258112 metrics.py:103] DICE score is technically 1.0, but prediction and truth arrays are empty. \n"
     ]
    },
    {
     "name": "stderr",
     "output_type": "stream",
     "text": [
      "W0506 03:33:40.528397 139885692258112 metrics.py:103] DICE score is technically 1.0, but prediction and truth arrays are empty. \n"
     ]
    },
    {
     "name": "stderr",
     "output_type": "stream",
     "text": [
      "W0506 03:33:40.541086 139885692258112 metrics.py:103] DICE score is technically 1.0, but prediction and truth arrays are empty. \n"
     ]
    },
    {
     "name": "stderr",
     "output_type": "stream",
     "text": [
      "W0506 03:33:40.554232 139885692258112 metrics.py:103] DICE score is technically 1.0, but prediction and truth arrays are empty. \n"
     ]
    },
    {
     "name": "stderr",
     "output_type": "stream",
     "text": [
      "W0506 03:33:40.567000 139885692258112 metrics.py:103] DICE score is technically 1.0, but prediction and truth arrays are empty. \n"
     ]
    },
    {
     "name": "stderr",
     "output_type": "stream",
     "text": [
      "W0506 03:33:40.580644 139885692258112 metrics.py:103] DICE score is technically 1.0, but prediction and truth arrays are empty. \n"
     ]
    },
    {
     "name": "stderr",
     "output_type": "stream",
     "text": [
      "W0506 03:33:40.593176 139885692258112 metrics.py:103] DICE score is technically 1.0, but prediction and truth arrays are empty. \n"
     ]
    },
    {
     "name": "stderr",
     "output_type": "stream",
     "text": [
      "W0506 03:33:40.605734 139885692258112 metrics.py:103] DICE score is technically 1.0, but prediction and truth arrays are empty. \n"
     ]
    },
    {
     "name": "stderr",
     "output_type": "stream",
     "text": [
      "W0506 03:33:40.618645 139885692258112 metrics.py:103] DICE score is technically 1.0, but prediction and truth arrays are empty. \n"
     ]
    },
    {
     "name": "stderr",
     "output_type": "stream",
     "text": [
      "W0506 03:33:40.631544 139885692258112 metrics.py:103] DICE score is technically 1.0, but prediction and truth arrays are empty. \n"
     ]
    },
    {
     "name": "stderr",
     "output_type": "stream",
     "text": [
      "W0506 03:33:40.644556 139885692258112 metrics.py:103] DICE score is technically 1.0, but prediction and truth arrays are empty. \n"
     ]
    },
    {
     "name": "stderr",
     "output_type": "stream",
     "text": [
      "W0506 03:33:40.663257 139885692258112 metrics.py:103] DICE score is technically 1.0, but prediction and truth arrays are empty. \n"
     ]
    },
    {
     "name": "stderr",
     "output_type": "stream",
     "text": [
      "W0506 03:33:40.680480 139885692258112 metrics.py:103] DICE score is technically 1.0, but prediction and truth arrays are empty. \n"
     ]
    },
    {
     "name": "stderr",
     "output_type": "stream",
     "text": [
      "W0506 03:33:40.694644 139885692258112 metrics.py:103] DICE score is technically 1.0, but prediction and truth arrays are empty. \n"
     ]
    },
    {
     "name": "stderr",
     "output_type": "stream",
     "text": [
      "W0506 03:33:40.709041 139885692258112 metrics.py:103] DICE score is technically 1.0, but prediction and truth arrays are empty. \n"
     ]
    },
    {
     "name": "stderr",
     "output_type": "stream",
     "text": [
      "W0506 03:33:40.723636 139885692258112 metrics.py:103] DICE score is technically 1.0, but prediction and truth arrays are empty. \n"
     ]
    },
    {
     "name": "stderr",
     "output_type": "stream",
     "text": [
      "W0506 03:33:40.738477 139885692258112 metrics.py:103] DICE score is technically 1.0, but prediction and truth arrays are empty. \n"
     ]
    },
    {
     "name": "stderr",
     "output_type": "stream",
     "text": [
      "W0506 03:33:40.752883 139885692258112 metrics.py:103] DICE score is technically 1.0, but prediction and truth arrays are empty. \n"
     ]
    },
    {
     "name": "stderr",
     "output_type": "stream",
     "text": [
      "W0506 03:33:40.767244 139885692258112 metrics.py:103] DICE score is technically 1.0, but prediction and truth arrays are empty. \n"
     ]
    },
    {
     "name": "stderr",
     "output_type": "stream",
     "text": [
      "W0506 03:33:40.781536 139885692258112 metrics.py:103] DICE score is technically 1.0, but prediction and truth arrays are empty. \n"
     ]
    },
    {
     "name": "stderr",
     "output_type": "stream",
     "text": [
      "W0506 03:33:40.795982 139885692258112 metrics.py:103] DICE score is technically 1.0, but prediction and truth arrays are empty. \n"
     ]
    },
    {
     "name": "stderr",
     "output_type": "stream",
     "text": [
      "W0506 03:33:40.810216 139885692258112 metrics.py:103] DICE score is technically 1.0, but prediction and truth arrays are empty. \n"
     ]
    },
    {
     "name": "stderr",
     "output_type": "stream",
     "text": [
      "W0506 03:33:40.825632 139885692258112 metrics.py:103] DICE score is technically 1.0, but prediction and truth arrays are empty. \n"
     ]
    },
    {
     "name": "stderr",
     "output_type": "stream",
     "text": [
      "W0506 03:33:40.847896 139885692258112 metrics.py:103] DICE score is technically 1.0, but prediction and truth arrays are empty. \n"
     ]
    },
    {
     "name": "stderr",
     "output_type": "stream",
     "text": [
      "W0506 03:33:40.862750 139885692258112 metrics.py:103] DICE score is technically 1.0, but prediction and truth arrays are empty. \n"
     ]
    },
    {
     "name": "stderr",
     "output_type": "stream",
     "text": [
      "W0506 03:33:40.876030 139885692258112 metrics.py:103] DICE score is technically 1.0, but prediction and truth arrays are empty. \n"
     ]
    },
    {
     "name": "stderr",
     "output_type": "stream",
     "text": [
      "W0506 03:33:40.888661 139885692258112 metrics.py:103] DICE score is technically 1.0, but prediction and truth arrays are empty. \n"
     ]
    },
    {
     "name": "stderr",
     "output_type": "stream",
     "text": [
      "W0506 03:33:40.901386 139885692258112 metrics.py:103] DICE score is technically 1.0, but prediction and truth arrays are empty. \n"
     ]
    },
    {
     "name": "stderr",
     "output_type": "stream",
     "text": [
      "W0506 03:33:40.913918 139885692258112 metrics.py:103] DICE score is technically 1.0, but prediction and truth arrays are empty. \n"
     ]
    },
    {
     "name": "stderr",
     "output_type": "stream",
     "text": [
      "W0506 03:33:40.926305 139885692258112 metrics.py:103] DICE score is technically 1.0, but prediction and truth arrays are empty. \n"
     ]
    },
    {
     "name": "stderr",
     "output_type": "stream",
     "text": [
      "W0506 03:33:40.938988 139885692258112 metrics.py:103] DICE score is technically 1.0, but prediction and truth arrays are empty. \n"
     ]
    },
    {
     "name": "stderr",
     "output_type": "stream",
     "text": [
      "W0506 03:33:40.951525 139885692258112 metrics.py:103] DICE score is technically 1.0, but prediction and truth arrays are empty. \n"
     ]
    },
    {
     "name": "stderr",
     "output_type": "stream",
     "text": [
      "W0506 03:33:40.964102 139885692258112 metrics.py:103] DICE score is technically 1.0, but prediction and truth arrays are empty. \n"
     ]
    },
    {
     "name": "stderr",
     "output_type": "stream",
     "text": [
      "W0506 03:33:40.977266 139885692258112 metrics.py:103] DICE score is technically 1.0, but prediction and truth arrays are empty. \n"
     ]
    },
    {
     "name": "stderr",
     "output_type": "stream",
     "text": [
      "W0506 03:33:40.990530 139885692258112 metrics.py:103] DICE score is technically 1.0, but prediction and truth arrays are empty. \n"
     ]
    },
    {
     "name": "stderr",
     "output_type": "stream",
     "text": [
      "W0506 03:33:41.003046 139885692258112 metrics.py:103] DICE score is technically 1.0, but prediction and truth arrays are empty. \n"
     ]
    },
    {
     "name": "stderr",
     "output_type": "stream",
     "text": [
      "W0506 03:33:41.015686 139885692258112 metrics.py:103] DICE score is technically 1.0, but prediction and truth arrays are empty. \n"
     ]
    },
    {
     "name": "stderr",
     "output_type": "stream",
     "text": [
      "W0506 03:33:41.028026 139885692258112 metrics.py:103] DICE score is technically 1.0, but prediction and truth arrays are empty. \n"
     ]
    },
    {
     "name": "stderr",
     "output_type": "stream",
     "text": [
      "W0506 03:33:41.040485 139885692258112 metrics.py:103] DICE score is technically 1.0, but prediction and truth arrays are empty. \n"
     ]
    },
    {
     "name": "stderr",
     "output_type": "stream",
     "text": [
      "W0506 03:33:41.053094 139885692258112 metrics.py:103] DICE score is technically 1.0, but prediction and truth arrays are empty. \n"
     ]
    },
    {
     "name": "stderr",
     "output_type": "stream",
     "text": [
      "W0506 03:33:41.065855 139885692258112 metrics.py:103] DICE score is technically 1.0, but prediction and truth arrays are empty. \n"
     ]
    },
    {
     "name": "stderr",
     "output_type": "stream",
     "text": [
      "W0506 03:33:41.078395 139885692258112 metrics.py:103] DICE score is technically 1.0, but prediction and truth arrays are empty. \n"
     ]
    },
    {
     "name": "stderr",
     "output_type": "stream",
     "text": [
      "W0506 03:33:41.090990 139885692258112 metrics.py:103] DICE score is technically 1.0, but prediction and truth arrays are empty. \n"
     ]
    },
    {
     "name": "stderr",
     "output_type": "stream",
     "text": [
      "W0506 03:33:41.103656 139885692258112 metrics.py:103] DICE score is technically 1.0, but prediction and truth arrays are empty. \n"
     ]
    },
    {
     "name": "stderr",
     "output_type": "stream",
     "text": [
      "W0506 03:33:41.116489 139885692258112 metrics.py:103] DICE score is technically 1.0, but prediction and truth arrays are empty. \n"
     ]
    },
    {
     "name": "stderr",
     "output_type": "stream",
     "text": [
      "W0506 03:33:41.129378 139885692258112 metrics.py:103] DICE score is technically 1.0, but prediction and truth arrays are empty. \n"
     ]
    },
    {
     "name": "stderr",
     "output_type": "stream",
     "text": [
      "W0506 03:33:41.142040 139885692258112 metrics.py:103] DICE score is technically 1.0, but prediction and truth arrays are empty. \n"
     ]
    },
    {
     "name": "stderr",
     "output_type": "stream",
     "text": [
      "W0506 03:33:41.154647 139885692258112 metrics.py:103] DICE score is technically 1.0, but prediction and truth arrays are empty. \n"
     ]
    },
    {
     "name": "stderr",
     "output_type": "stream",
     "text": [
      "W0506 03:33:41.167325 139885692258112 metrics.py:103] DICE score is technically 1.0, but prediction and truth arrays are empty. \n"
     ]
    },
    {
     "name": "stderr",
     "output_type": "stream",
     "text": [
      "W0506 03:33:41.180211 139885692258112 metrics.py:103] DICE score is technically 1.0, but prediction and truth arrays are empty. \n"
     ]
    },
    {
     "name": "stderr",
     "output_type": "stream",
     "text": [
      "W0506 03:33:41.192605 139885692258112 metrics.py:103] DICE score is technically 1.0, but prediction and truth arrays are empty. \n"
     ]
    },
    {
     "name": "stderr",
     "output_type": "stream",
     "text": [
      "W0506 03:33:41.205236 139885692258112 metrics.py:103] DICE score is technically 1.0, but prediction and truth arrays are empty. \n"
     ]
    },
    {
     "name": "stderr",
     "output_type": "stream",
     "text": [
      "W0506 03:33:41.217747 139885692258112 metrics.py:103] DICE score is technically 1.0, but prediction and truth arrays are empty. \n"
     ]
    },
    {
     "name": "stderr",
     "output_type": "stream",
     "text": [
      "W0506 03:33:41.230661 139885692258112 metrics.py:103] DICE score is technically 1.0, but prediction and truth arrays are empty. \n"
     ]
    },
    {
     "name": "stderr",
     "output_type": "stream",
     "text": [
      "W0506 03:33:41.243073 139885692258112 metrics.py:103] DICE score is technically 1.0, but prediction and truth arrays are empty. \n"
     ]
    },
    {
     "name": "stderr",
     "output_type": "stream",
     "text": [
      "W0506 03:33:41.255575 139885692258112 metrics.py:103] DICE score is technically 1.0, but prediction and truth arrays are empty. \n"
     ]
    },
    {
     "name": "stderr",
     "output_type": "stream",
     "text": [
      "W0506 03:33:41.268157 139885692258112 metrics.py:103] DICE score is technically 1.0, but prediction and truth arrays are empty. \n"
     ]
    },
    {
     "name": "stderr",
     "output_type": "stream",
     "text": [
      "W0506 03:33:41.280741 139885692258112 metrics.py:103] DICE score is technically 1.0, but prediction and truth arrays are empty. \n"
     ]
    },
    {
     "name": "stderr",
     "output_type": "stream",
     "text": [
      "W0506 03:33:41.293275 139885692258112 metrics.py:103] DICE score is technically 1.0, but prediction and truth arrays are empty. \n"
     ]
    },
    {
     "name": "stderr",
     "output_type": "stream",
     "text": [
      "W0506 03:33:41.305800 139885692258112 metrics.py:103] DICE score is technically 1.0, but prediction and truth arrays are empty. \n"
     ]
    },
    {
     "name": "stderr",
     "output_type": "stream",
     "text": [
      "W0506 03:33:41.318379 139885692258112 metrics.py:103] DICE score is technically 1.0, but prediction and truth arrays are empty. \n"
     ]
    },
    {
     "name": "stderr",
     "output_type": "stream",
     "text": [
      "W0506 03:33:41.330949 139885692258112 metrics.py:103] DICE score is technically 1.0, but prediction and truth arrays are empty. \n"
     ]
    },
    {
     "name": "stderr",
     "output_type": "stream",
     "text": [
      "W0506 03:33:41.343521 139885692258112 metrics.py:103] DICE score is technically 1.0, but prediction and truth arrays are empty. \n"
     ]
    },
    {
     "name": "stderr",
     "output_type": "stream",
     "text": [
      "W0506 03:33:41.356123 139885692258112 metrics.py:103] DICE score is technically 1.0, but prediction and truth arrays are empty. \n"
     ]
    },
    {
     "name": "stderr",
     "output_type": "stream",
     "text": [
      "W0506 03:33:41.368862 139885692258112 metrics.py:103] DICE score is technically 1.0, but prediction and truth arrays are empty. \n"
     ]
    },
    {
     "name": "stderr",
     "output_type": "stream",
     "text": [
      "W0506 03:33:41.381364 139885692258112 metrics.py:103] DICE score is technically 1.0, but prediction and truth arrays are empty. \n"
     ]
    },
    {
     "name": "stderr",
     "output_type": "stream",
     "text": [
      "W0506 03:33:41.394349 139885692258112 metrics.py:103] DICE score is technically 1.0, but prediction and truth arrays are empty. \n"
     ]
    },
    {
     "name": "stderr",
     "output_type": "stream",
     "text": [
      "W0506 03:33:41.407123 139885692258112 metrics.py:103] DICE score is technically 1.0, but prediction and truth arrays are empty. \n"
     ]
    },
    {
     "name": "stderr",
     "output_type": "stream",
     "text": [
      "W0506 03:33:41.419993 139885692258112 metrics.py:103] DICE score is technically 1.0, but prediction and truth arrays are empty. \n"
     ]
    },
    {
     "name": "stderr",
     "output_type": "stream",
     "text": [
      "W0506 03:33:41.432758 139885692258112 metrics.py:103] DICE score is technically 1.0, but prediction and truth arrays are empty. \n"
     ]
    },
    {
     "name": "stderr",
     "output_type": "stream",
     "text": [
      "W0506 03:33:41.445681 139885692258112 metrics.py:103] DICE score is technically 1.0, but prediction and truth arrays are empty. \n"
     ]
    },
    {
     "name": "stderr",
     "output_type": "stream",
     "text": [
      "W0506 03:33:41.462558 139885692258112 metrics.py:103] DICE score is technically 1.0, but prediction and truth arrays are empty. \n"
     ]
    },
    {
     "name": "stderr",
     "output_type": "stream",
     "text": [
      "W0506 03:33:41.475454 139885692258112 metrics.py:103] DICE score is technically 1.0, but prediction and truth arrays are empty. \n"
     ]
    },
    {
     "name": "stderr",
     "output_type": "stream",
     "text": [
      "W0506 03:33:41.488491 139885692258112 metrics.py:103] DICE score is technically 1.0, but prediction and truth arrays are empty. \n"
     ]
    },
    {
     "name": "stderr",
     "output_type": "stream",
     "text": [
      "W0506 03:33:41.501791 139885692258112 metrics.py:103] DICE score is technically 1.0, but prediction and truth arrays are empty. \n"
     ]
    },
    {
     "name": "stderr",
     "output_type": "stream",
     "text": [
      "W0506 03:33:41.515439 139885692258112 metrics.py:103] DICE score is technically 1.0, but prediction and truth arrays are empty. \n"
     ]
    },
    {
     "name": "stderr",
     "output_type": "stream",
     "text": [
      "W0506 03:33:41.529272 139885692258112 metrics.py:103] DICE score is technically 1.0, but prediction and truth arrays are empty. \n"
     ]
    },
    {
     "name": "stderr",
     "output_type": "stream",
     "text": [
      "W0506 03:33:41.542422 139885692258112 metrics.py:103] DICE score is technically 1.0, but prediction and truth arrays are empty. \n"
     ]
    },
    {
     "name": "stderr",
     "output_type": "stream",
     "text": [
      "W0506 03:33:41.555104 139885692258112 metrics.py:103] DICE score is technically 1.0, but prediction and truth arrays are empty. \n"
     ]
    },
    {
     "name": "stderr",
     "output_type": "stream",
     "text": [
      "W0506 03:33:41.567798 139885692258112 metrics.py:103] DICE score is technically 1.0, but prediction and truth arrays are empty. \n"
     ]
    },
    {
     "name": "stderr",
     "output_type": "stream",
     "text": [
      "W0506 03:33:41.580354 139885692258112 metrics.py:103] DICE score is technically 1.0, but prediction and truth arrays are empty. \n"
     ]
    },
    {
     "name": "stderr",
     "output_type": "stream",
     "text": [
      "W0506 03:33:41.592941 139885692258112 metrics.py:103] DICE score is technically 1.0, but prediction and truth arrays are empty. \n"
     ]
    },
    {
     "name": "stderr",
     "output_type": "stream",
     "text": [
      "W0506 03:33:41.606072 139885692258112 metrics.py:103] DICE score is technically 1.0, but prediction and truth arrays are empty. \n"
     ]
    },
    {
     "name": "stderr",
     "output_type": "stream",
     "text": [
      "W0506 03:33:41.618664 139885692258112 metrics.py:103] DICE score is technically 1.0, but prediction and truth arrays are empty. \n"
     ]
    },
    {
     "name": "stderr",
     "output_type": "stream",
     "text": [
      "W0506 03:33:41.631713 139885692258112 metrics.py:103] DICE score is technically 1.0, but prediction and truth arrays are empty. \n"
     ]
    },
    {
     "name": "stderr",
     "output_type": "stream",
     "text": [
      "W0506 03:33:41.644331 139885692258112 metrics.py:103] DICE score is technically 1.0, but prediction and truth arrays are empty. \n"
     ]
    },
    {
     "name": "stderr",
     "output_type": "stream",
     "text": [
      "W0506 03:33:41.657434 139885692258112 metrics.py:103] DICE score is technically 1.0, but prediction and truth arrays are empty. \n"
     ]
    },
    {
     "name": "stderr",
     "output_type": "stream",
     "text": [
      "W0506 03:33:41.670509 139885692258112 metrics.py:103] DICE score is technically 1.0, but prediction and truth arrays are empty. \n"
     ]
    },
    {
     "name": "stderr",
     "output_type": "stream",
     "text": [
      "W0506 03:33:41.683832 139885692258112 metrics.py:103] DICE score is technically 1.0, but prediction and truth arrays are empty. \n"
     ]
    },
    {
     "name": "stderr",
     "output_type": "stream",
     "text": [
      "W0506 03:33:41.697180 139885692258112 metrics.py:103] DICE score is technically 1.0, but prediction and truth arrays are empty. \n"
     ]
    },
    {
     "name": "stderr",
     "output_type": "stream",
     "text": [
      "W0506 03:33:41.710523 139885692258112 metrics.py:103] DICE score is technically 1.0, but prediction and truth arrays are empty. \n"
     ]
    },
    {
     "name": "stderr",
     "output_type": "stream",
     "text": [
      "W0506 03:33:41.723534 139885692258112 metrics.py:103] DICE score is technically 1.0, but prediction and truth arrays are empty. \n"
     ]
    },
    {
     "name": "stderr",
     "output_type": "stream",
     "text": [
      "W0506 03:33:45.992238 139885692258112 metrics.py:103] DICE score is technically 1.0, but prediction and truth arrays are empty. \n"
     ]
    },
    {
     "name": "stderr",
     "output_type": "stream",
     "text": [
      "W0506 03:33:46.005197 139885692258112 metrics.py:103] DICE score is technically 1.0, but prediction and truth arrays are empty. \n"
     ]
    },
    {
     "name": "stderr",
     "output_type": "stream",
     "text": [
      "W0506 03:33:46.018423 139885692258112 metrics.py:103] DICE score is technically 1.0, but prediction and truth arrays are empty. \n"
     ]
    },
    {
     "name": "stderr",
     "output_type": "stream",
     "text": [
      "W0506 03:33:46.030699 139885692258112 metrics.py:103] DICE score is technically 1.0, but prediction and truth arrays are empty. \n"
     ]
    },
    {
     "name": "stderr",
     "output_type": "stream",
     "text": [
      "W0506 03:33:46.043060 139885692258112 metrics.py:103] DICE score is technically 1.0, but prediction and truth arrays are empty. \n"
     ]
    },
    {
     "name": "stderr",
     "output_type": "stream",
     "text": [
      "W0506 03:33:46.055330 139885692258112 metrics.py:103] DICE score is technically 1.0, but prediction and truth arrays are empty. \n"
     ]
    },
    {
     "name": "stderr",
     "output_type": "stream",
     "text": [
      "W0506 03:33:46.067574 139885692258112 metrics.py:103] DICE score is technically 1.0, but prediction and truth arrays are empty. \n"
     ]
    },
    {
     "name": "stderr",
     "output_type": "stream",
     "text": [
      "W0506 03:33:46.079890 139885692258112 metrics.py:103] DICE score is technically 1.0, but prediction and truth arrays are empty. \n"
     ]
    },
    {
     "name": "stderr",
     "output_type": "stream",
     "text": [
      "W0506 03:33:46.092253 139885692258112 metrics.py:103] DICE score is technically 1.0, but prediction and truth arrays are empty. \n"
     ]
    },
    {
     "name": "stderr",
     "output_type": "stream",
     "text": [
      "W0506 03:33:46.104528 139885692258112 metrics.py:103] DICE score is technically 1.0, but prediction and truth arrays are empty. \n"
     ]
    },
    {
     "name": "stderr",
     "output_type": "stream",
     "text": [
      "W0506 03:33:46.116847 139885692258112 metrics.py:103] DICE score is technically 1.0, but prediction and truth arrays are empty. \n"
     ]
    },
    {
     "name": "stderr",
     "output_type": "stream",
     "text": [
      "W0506 03:33:46.129363 139885692258112 metrics.py:103] DICE score is technically 1.0, but prediction and truth arrays are empty. \n"
     ]
    },
    {
     "name": "stderr",
     "output_type": "stream",
     "text": [
      "W0506 03:33:46.141893 139885692258112 metrics.py:103] DICE score is technically 1.0, but prediction and truth arrays are empty. \n"
     ]
    },
    {
     "name": "stderr",
     "output_type": "stream",
     "text": [
      "W0506 03:33:46.154772 139885692258112 metrics.py:103] DICE score is technically 1.0, but prediction and truth arrays are empty. \n"
     ]
    },
    {
     "name": "stderr",
     "output_type": "stream",
     "text": [
      "W0506 03:33:46.167346 139885692258112 metrics.py:103] DICE score is technically 1.0, but prediction and truth arrays are empty. \n"
     ]
    },
    {
     "name": "stderr",
     "output_type": "stream",
     "text": [
      "W0506 03:33:46.180225 139885692258112 metrics.py:103] DICE score is technically 1.0, but prediction and truth arrays are empty. \n"
     ]
    },
    {
     "name": "stderr",
     "output_type": "stream",
     "text": [
      "W0506 03:33:46.193138 139885692258112 metrics.py:103] DICE score is technically 1.0, but prediction and truth arrays are empty. \n"
     ]
    },
    {
     "name": "stderr",
     "output_type": "stream",
     "text": [
      "W0506 03:33:46.205877 139885692258112 metrics.py:103] DICE score is technically 1.0, but prediction and truth arrays are empty. \n"
     ]
    },
    {
     "name": "stderr",
     "output_type": "stream",
     "text": [
      "W0506 03:33:46.218530 139885692258112 metrics.py:103] DICE score is technically 1.0, but prediction and truth arrays are empty. \n"
     ]
    },
    {
     "name": "stderr",
     "output_type": "stream",
     "text": [
      "W0506 03:33:46.231630 139885692258112 metrics.py:103] DICE score is technically 1.0, but prediction and truth arrays are empty. \n"
     ]
    },
    {
     "name": "stderr",
     "output_type": "stream",
     "text": [
      "W0506 03:33:46.244412 139885692258112 metrics.py:103] DICE score is technically 1.0, but prediction and truth arrays are empty. \n"
     ]
    },
    {
     "name": "stderr",
     "output_type": "stream",
     "text": [
      "W0506 03:33:46.257070 139885692258112 metrics.py:103] DICE score is technically 1.0, but prediction and truth arrays are empty. \n"
     ]
    },
    {
     "name": "stderr",
     "output_type": "stream",
     "text": [
      "W0506 03:33:46.269689 139885692258112 metrics.py:103] DICE score is technically 1.0, but prediction and truth arrays are empty. \n"
     ]
    },
    {
     "name": "stderr",
     "output_type": "stream",
     "text": [
      "W0506 03:33:46.282158 139885692258112 metrics.py:103] DICE score is technically 1.0, but prediction and truth arrays are empty. \n"
     ]
    },
    {
     "name": "stderr",
     "output_type": "stream",
     "text": [
      "W0506 03:33:46.295776 139885692258112 metrics.py:103] DICE score is technically 1.0, but prediction and truth arrays are empty. \n"
     ]
    },
    {
     "name": "stderr",
     "output_type": "stream",
     "text": [
      "W0506 03:33:46.308531 139885692258112 metrics.py:103] DICE score is technically 1.0, but prediction and truth arrays are empty. \n"
     ]
    },
    {
     "name": "stderr",
     "output_type": "stream",
     "text": [
      "W0506 03:33:46.321211 139885692258112 metrics.py:103] DICE score is technically 1.0, but prediction and truth arrays are empty. \n"
     ]
    },
    {
     "name": "stderr",
     "output_type": "stream",
     "text": [
      "W0506 03:33:46.333953 139885692258112 metrics.py:103] DICE score is technically 1.0, but prediction and truth arrays are empty. \n"
     ]
    },
    {
     "name": "stderr",
     "output_type": "stream",
     "text": [
      "W0506 03:33:46.346639 139885692258112 metrics.py:103] DICE score is technically 1.0, but prediction and truth arrays are empty. \n"
     ]
    },
    {
     "name": "stderr",
     "output_type": "stream",
     "text": [
      "W0506 03:33:46.359399 139885692258112 metrics.py:103] DICE score is technically 1.0, but prediction and truth arrays are empty. \n"
     ]
    },
    {
     "name": "stderr",
     "output_type": "stream",
     "text": [
      "W0506 03:33:46.372258 139885692258112 metrics.py:103] DICE score is technically 1.0, but prediction and truth arrays are empty. \n"
     ]
    },
    {
     "name": "stderr",
     "output_type": "stream",
     "text": [
      "W0506 03:33:46.384969 139885692258112 metrics.py:103] DICE score is technically 1.0, but prediction and truth arrays are empty. \n"
     ]
    },
    {
     "name": "stderr",
     "output_type": "stream",
     "text": [
      "W0506 03:33:46.397677 139885692258112 metrics.py:103] DICE score is technically 1.0, but prediction and truth arrays are empty. \n"
     ]
    },
    {
     "name": "stderr",
     "output_type": "stream",
     "text": [
      "W0506 03:33:46.410403 139885692258112 metrics.py:103] DICE score is technically 1.0, but prediction and truth arrays are empty. \n"
     ]
    },
    {
     "name": "stderr",
     "output_type": "stream",
     "text": [
      "W0506 03:33:46.423310 139885692258112 metrics.py:103] DICE score is technically 1.0, but prediction and truth arrays are empty. \n"
     ]
    },
    {
     "name": "stderr",
     "output_type": "stream",
     "text": [
      "W0506 03:33:46.436111 139885692258112 metrics.py:103] DICE score is technically 1.0, but prediction and truth arrays are empty. \n"
     ]
    },
    {
     "name": "stderr",
     "output_type": "stream",
     "text": [
      "W0506 03:33:46.448946 139885692258112 metrics.py:103] DICE score is technically 1.0, but prediction and truth arrays are empty. \n"
     ]
    },
    {
     "name": "stderr",
     "output_type": "stream",
     "text": [
      "W0506 03:33:46.462056 139885692258112 metrics.py:103] DICE score is technically 1.0, but prediction and truth arrays are empty. \n"
     ]
    },
    {
     "name": "stderr",
     "output_type": "stream",
     "text": [
      "W0506 03:33:46.475040 139885692258112 metrics.py:103] DICE score is technically 1.0, but prediction and truth arrays are empty. \n"
     ]
    },
    {
     "name": "stderr",
     "output_type": "stream",
     "text": [
      "W0506 03:33:46.488001 139885692258112 metrics.py:103] DICE score is technically 1.0, but prediction and truth arrays are empty. \n"
     ]
    },
    {
     "name": "stderr",
     "output_type": "stream",
     "text": [
      "W0506 03:34:49.703480 139885692258112 metrics.py:103] DICE score is technically 1.0, but prediction and truth arrays are empty. \n"
     ]
    },
    {
     "name": "stderr",
     "output_type": "stream",
     "text": [
      "W0506 03:34:49.751963 139885692258112 metrics.py:103] DICE score is technically 1.0, but prediction and truth arrays are empty. \n"
     ]
    },
    {
     "name": "stderr",
     "output_type": "stream",
     "text": [
      "W0506 03:34:49.764616 139885692258112 metrics.py:103] DICE score is technically 1.0, but prediction and truth arrays are empty. \n"
     ]
    },
    {
     "name": "stderr",
     "output_type": "stream",
     "text": [
      "W0506 03:34:49.777174 139885692258112 metrics.py:103] DICE score is technically 1.0, but prediction and truth arrays are empty. \n"
     ]
    },
    {
     "name": "stderr",
     "output_type": "stream",
     "text": [
      "W0506 03:34:49.789736 139885692258112 metrics.py:103] DICE score is technically 1.0, but prediction and truth arrays are empty. \n"
     ]
    },
    {
     "name": "stderr",
     "output_type": "stream",
     "text": [
      "W0506 03:34:49.802717 139885692258112 metrics.py:103] DICE score is technically 1.0, but prediction and truth arrays are empty. \n"
     ]
    },
    {
     "name": "stderr",
     "output_type": "stream",
     "text": [
      "W0506 03:34:49.816689 139885692258112 metrics.py:103] DICE score is technically 1.0, but prediction and truth arrays are empty. \n"
     ]
    },
    {
     "name": "stderr",
     "output_type": "stream",
     "text": [
      "W0506 03:34:49.829945 139885692258112 metrics.py:103] DICE score is technically 1.0, but prediction and truth arrays are empty. \n"
     ]
    },
    {
     "name": "stderr",
     "output_type": "stream",
     "text": [
      "W0506 03:34:49.882542 139885692258112 metrics.py:103] DICE score is technically 1.0, but prediction and truth arrays are empty. \n"
     ]
    },
    {
     "name": "stderr",
     "output_type": "stream",
     "text": [
      "W0506 03:34:51.438667 139885692258112 metrics.py:103] DICE score is technically 1.0, but prediction and truth arrays are empty. \n"
     ]
    },
    {
     "name": "stderr",
     "output_type": "stream",
     "text": [
      "W0506 03:34:51.451596 139885692258112 metrics.py:103] DICE score is technically 1.0, but prediction and truth arrays are empty. \n"
     ]
    },
    {
     "name": "stderr",
     "output_type": "stream",
     "text": [
      "W0506 03:34:51.464211 139885692258112 metrics.py:103] DICE score is technically 1.0, but prediction and truth arrays are empty. \n"
     ]
    },
    {
     "name": "stderr",
     "output_type": "stream",
     "text": [
      "W0506 03:34:51.476786 139885692258112 metrics.py:103] DICE score is technically 1.0, but prediction and truth arrays are empty. \n"
     ]
    },
    {
     "name": "stderr",
     "output_type": "stream",
     "text": [
      "W0506 03:34:51.489418 139885692258112 metrics.py:103] DICE score is technically 1.0, but prediction and truth arrays are empty. \n"
     ]
    },
    {
     "name": "stderr",
     "output_type": "stream",
     "text": [
      "W0506 03:34:51.503083 139885692258112 metrics.py:103] DICE score is technically 1.0, but prediction and truth arrays are empty. \n"
     ]
    },
    {
     "name": "stderr",
     "output_type": "stream",
     "text": [
      "W0506 03:34:51.515551 139885692258112 metrics.py:103] DICE score is technically 1.0, but prediction and truth arrays are empty. \n"
     ]
    },
    {
     "name": "stderr",
     "output_type": "stream",
     "text": [
      "W0506 03:34:51.551195 139885692258112 metrics.py:103] DICE score is technically 1.0, but prediction and truth arrays are empty. \n"
     ]
    },
    {
     "name": "stderr",
     "output_type": "stream",
     "text": [
      "W0506 03:34:51.563577 139885692258112 metrics.py:103] DICE score is technically 1.0, but prediction and truth arrays are empty. \n"
     ]
    },
    {
     "name": "stderr",
     "output_type": "stream",
     "text": [
      "W0506 03:34:51.586791 139885692258112 metrics.py:103] DICE score is technically 1.0, but prediction and truth arrays are empty. \n"
     ]
    },
    {
     "name": "stderr",
     "output_type": "stream",
     "text": [
      "W0506 03:34:51.599219 139885692258112 metrics.py:103] DICE score is technically 1.0, but prediction and truth arrays are empty. \n"
     ]
    },
    {
     "name": "stderr",
     "output_type": "stream",
     "text": [
      "W0506 03:34:51.611613 139885692258112 metrics.py:103] DICE score is technically 1.0, but prediction and truth arrays are empty. \n"
     ]
    },
    {
     "name": "stderr",
     "output_type": "stream",
     "text": [
      "W0506 03:34:51.624117 139885692258112 metrics.py:103] DICE score is technically 1.0, but prediction and truth arrays are empty. \n"
     ]
    },
    {
     "name": "stderr",
     "output_type": "stream",
     "text": [
      "W0506 03:34:51.636554 139885692258112 metrics.py:103] DICE score is technically 1.0, but prediction and truth arrays are empty. \n"
     ]
    },
    {
     "name": "stderr",
     "output_type": "stream",
     "text": [
      "W0506 03:34:51.695524 139885692258112 metrics.py:103] DICE score is technically 1.0, but prediction and truth arrays are empty. \n"
     ]
    },
    {
     "name": "stderr",
     "output_type": "stream",
     "text": [
      "W0506 03:34:51.712742 139885692258112 metrics.py:103] DICE score is technically 1.0, but prediction and truth arrays are empty. \n"
     ]
    },
    {
     "name": "stderr",
     "output_type": "stream",
     "text": [
      "W0506 03:34:51.725401 139885692258112 metrics.py:103] DICE score is technically 1.0, but prediction and truth arrays are empty. \n"
     ]
    },
    {
     "name": "stderr",
     "output_type": "stream",
     "text": [
      "W0506 03:34:52.540461 139885692258112 metrics.py:103] DICE score is technically 1.0, but prediction and truth arrays are empty. \n"
     ]
    },
    {
     "name": "stderr",
     "output_type": "stream",
     "text": [
      "W0506 03:34:52.564317 139885692258112 metrics.py:103] DICE score is technically 1.0, but prediction and truth arrays are empty. \n"
     ]
    },
    {
     "name": "stderr",
     "output_type": "stream",
     "text": [
      "W0506 03:34:52.587300 139885692258112 metrics.py:103] DICE score is technically 1.0, but prediction and truth arrays are empty. \n"
     ]
    },
    {
     "name": "stderr",
     "output_type": "stream",
     "text": [
      "W0506 03:34:52.610480 139885692258112 metrics.py:103] DICE score is technically 1.0, but prediction and truth arrays are empty. \n"
     ]
    },
    {
     "name": "stderr",
     "output_type": "stream",
     "text": [
      "W0506 03:34:55.888152 139885692258112 metrics.py:103] DICE score is technically 1.0, but prediction and truth arrays are empty. \n"
     ]
    },
    {
     "name": "stderr",
     "output_type": "stream",
     "text": [
      "W0506 03:34:55.987846 139885692258112 metrics.py:103] DICE score is technically 1.0, but prediction and truth arrays are empty. \n"
     ]
    },
    {
     "name": "stderr",
     "output_type": "stream",
     "text": [
      "W0506 03:34:56.000301 139885692258112 metrics.py:103] DICE score is technically 1.0, but prediction and truth arrays are empty. \n"
     ]
    },
    {
     "name": "stderr",
     "output_type": "stream",
     "text": [
      "W0506 03:34:56.012910 139885692258112 metrics.py:103] DICE score is technically 1.0, but prediction and truth arrays are empty. \n"
     ]
    },
    {
     "name": "stderr",
     "output_type": "stream",
     "text": [
      "W0506 03:34:56.025168 139885692258112 metrics.py:103] DICE score is technically 1.0, but prediction and truth arrays are empty. \n"
     ]
    },
    {
     "name": "stderr",
     "output_type": "stream",
     "text": [
      "W0506 03:34:56.048214 139885692258112 metrics.py:103] DICE score is technically 1.0, but prediction and truth arrays are empty. \n"
     ]
    },
    {
     "name": "stderr",
     "output_type": "stream",
     "text": [
      "W0506 03:34:56.116098 139885692258112 metrics.py:103] DICE score is technically 1.0, but prediction and truth arrays are empty. \n"
     ]
    },
    {
     "name": "stderr",
     "output_type": "stream",
     "text": [
      "W0506 03:34:56.128556 139885692258112 metrics.py:103] DICE score is technically 1.0, but prediction and truth arrays are empty. \n"
     ]
    },
    {
     "name": "stderr",
     "output_type": "stream",
     "text": [
      "W0506 03:34:56.140855 139885692258112 metrics.py:103] DICE score is technically 1.0, but prediction and truth arrays are empty. \n"
     ]
    },
    {
     "name": "stderr",
     "output_type": "stream",
     "text": [
      "W0506 03:34:56.198539 139885692258112 metrics.py:103] DICE score is technically 1.0, but prediction and truth arrays are empty. \n"
     ]
    },
    {
     "name": "stderr",
     "output_type": "stream",
     "text": [
      "W0506 03:34:56.640322 139885692258112 metrics.py:103] DICE score is technically 1.0, but prediction and truth arrays are empty. \n"
     ]
    },
    {
     "name": "stderr",
     "output_type": "stream",
     "text": [
      "W0506 03:34:56.685700 139885692258112 metrics.py:103] DICE score is technically 1.0, but prediction and truth arrays are empty. \n"
     ]
    },
    {
     "name": "stderr",
     "output_type": "stream",
     "text": [
      "W0506 03:34:56.719880 139885692258112 metrics.py:103] DICE score is technically 1.0, but prediction and truth arrays are empty. \n"
     ]
    },
    {
     "name": "stderr",
     "output_type": "stream",
     "text": [
      "W0506 03:34:56.732980 139885692258112 metrics.py:103] DICE score is technically 1.0, but prediction and truth arrays are empty. \n"
     ]
    },
    {
     "name": "stderr",
     "output_type": "stream",
     "text": [
      "W0506 03:34:56.745544 139885692258112 metrics.py:103] DICE score is technically 1.0, but prediction and truth arrays are empty. \n"
     ]
    },
    {
     "name": "stderr",
     "output_type": "stream",
     "text": [
      "W0506 03:34:56.757682 139885692258112 metrics.py:103] DICE score is technically 1.0, but prediction and truth arrays are empty. \n"
     ]
    },
    {
     "name": "stderr",
     "output_type": "stream",
     "text": [
      "W0506 03:34:56.769607 139885692258112 metrics.py:103] DICE score is technically 1.0, but prediction and truth arrays are empty. \n"
     ]
    },
    {
     "name": "stderr",
     "output_type": "stream",
     "text": [
      "W0506 03:34:56.781419 139885692258112 metrics.py:103] DICE score is technically 1.0, but prediction and truth arrays are empty. \n"
     ]
    },
    {
     "name": "stderr",
     "output_type": "stream",
     "text": [
      "W0506 03:34:56.793792 139885692258112 metrics.py:103] DICE score is technically 1.0, but prediction and truth arrays are empty. \n"
     ]
    },
    {
     "name": "stderr",
     "output_type": "stream",
     "text": [
      "W0506 03:34:56.806177 139885692258112 metrics.py:103] DICE score is technically 1.0, but prediction and truth arrays are empty. \n"
     ]
    },
    {
     "name": "stderr",
     "output_type": "stream",
     "text": [
      "W0506 03:34:56.818619 139885692258112 metrics.py:103] DICE score is technically 1.0, but prediction and truth arrays are empty. \n"
     ]
    },
    {
     "name": "stderr",
     "output_type": "stream",
     "text": [
      "W0506 03:34:56.830934 139885692258112 metrics.py:103] DICE score is technically 1.0, but prediction and truth arrays are empty. \n"
     ]
    },
    {
     "name": "stderr",
     "output_type": "stream",
     "text": [
      "W0506 03:34:56.865318 139885692258112 metrics.py:103] DICE score is technically 1.0, but prediction and truth arrays are empty. \n"
     ]
    },
    {
     "name": "stderr",
     "output_type": "stream",
     "text": [
      "W0506 03:34:56.878932 139885692258112 metrics.py:103] DICE score is technically 1.0, but prediction and truth arrays are empty. \n"
     ]
    },
    {
     "name": "stderr",
     "output_type": "stream",
     "text": [
      "W0506 03:34:56.898545 139885692258112 metrics.py:103] DICE score is technically 1.0, but prediction and truth arrays are empty. \n"
     ]
    },
    {
     "name": "stderr",
     "output_type": "stream",
     "text": [
      "W0506 03:34:56.912411 139885692258112 metrics.py:103] DICE score is technically 1.0, but prediction and truth arrays are empty. \n"
     ]
    },
    {
     "name": "stderr",
     "output_type": "stream",
     "text": [
      "W0506 03:34:56.926537 139885692258112 metrics.py:103] DICE score is technically 1.0, but prediction and truth arrays are empty. \n"
     ]
    },
    {
     "name": "stderr",
     "output_type": "stream",
     "text": [
      "W0506 03:34:56.953080 139885692258112 metrics.py:103] DICE score is technically 1.0, but prediction and truth arrays are empty. \n"
     ]
    },
    {
     "name": "stderr",
     "output_type": "stream",
     "text": [
      "W0506 03:34:56.967077 139885692258112 metrics.py:103] DICE score is technically 1.0, but prediction and truth arrays are empty. \n"
     ]
    },
    {
     "name": "stderr",
     "output_type": "stream",
     "text": [
      "W0506 03:34:56.981137 139885692258112 metrics.py:103] DICE score is technically 1.0, but prediction and truth arrays are empty. \n"
     ]
    },
    {
     "name": "stderr",
     "output_type": "stream",
     "text": [
      "W0506 03:34:56.994993 139885692258112 metrics.py:103] DICE score is technically 1.0, but prediction and truth arrays are empty. \n"
     ]
    },
    {
     "name": "stderr",
     "output_type": "stream",
     "text": [
      "W0506 03:35:02.801183 139885692258112 metrics.py:103] DICE score is technically 1.0, but prediction and truth arrays are empty. \n"
     ]
    },
    {
     "name": "stderr",
     "output_type": "stream",
     "text": [
      "W0506 03:35:03.122309 139885692258112 metrics.py:103] DICE score is technically 1.0, but prediction and truth arrays are empty. \n"
     ]
    },
    {
     "name": "stderr",
     "output_type": "stream",
     "text": [
      "W0506 03:35:03.134997 139885692258112 metrics.py:103] DICE score is technically 1.0, but prediction and truth arrays are empty. \n"
     ]
    },
    {
     "name": "stderr",
     "output_type": "stream",
     "text": [
      "W0506 03:35:03.147077 139885692258112 metrics.py:103] DICE score is technically 1.0, but prediction and truth arrays are empty. \n"
     ]
    },
    {
     "name": "stderr",
     "output_type": "stream",
     "text": [
      "W0506 03:35:03.159144 139885692258112 metrics.py:103] DICE score is technically 1.0, but prediction and truth arrays are empty. \n"
     ]
    },
    {
     "name": "stderr",
     "output_type": "stream",
     "text": [
      "W0506 03:35:04.052916 139885692258112 metrics.py:103] DICE score is technically 1.0, but prediction and truth arrays are empty. \n"
     ]
    },
    {
     "name": "stderr",
     "output_type": "stream",
     "text": [
      "W0506 03:35:04.065694 139885692258112 metrics.py:103] DICE score is technically 1.0, but prediction and truth arrays are empty. \n"
     ]
    },
    {
     "name": "stderr",
     "output_type": "stream",
     "text": [
      "W0506 03:35:04.078200 139885692258112 metrics.py:103] DICE score is technically 1.0, but prediction and truth arrays are empty. \n"
     ]
    },
    {
     "name": "stderr",
     "output_type": "stream",
     "text": [
      "W0506 03:35:04.090729 139885692258112 metrics.py:103] DICE score is technically 1.0, but prediction and truth arrays are empty. \n"
     ]
    },
    {
     "name": "stderr",
     "output_type": "stream",
     "text": [
      "W0506 03:35:04.114164 139885692258112 metrics.py:103] DICE score is technically 1.0, but prediction and truth arrays are empty. \n"
     ]
    },
    {
     "name": "stderr",
     "output_type": "stream",
     "text": [
      "W0506 03:35:04.138391 139885692258112 metrics.py:103] DICE score is technically 1.0, but prediction and truth arrays are empty. \n"
     ]
    },
    {
     "name": "stderr",
     "output_type": "stream",
     "text": [
      "W0506 03:35:04.150843 139885692258112 metrics.py:103] DICE score is technically 1.0, but prediction and truth arrays are empty. \n"
     ]
    },
    {
     "name": "stderr",
     "output_type": "stream",
     "text": [
      "W0506 03:35:04.162914 139885692258112 metrics.py:103] DICE score is technically 1.0, but prediction and truth arrays are empty. \n"
     ]
    },
    {
     "name": "stderr",
     "output_type": "stream",
     "text": [
      "W0506 03:35:04.174962 139885692258112 metrics.py:103] DICE score is technically 1.0, but prediction and truth arrays are empty. \n"
     ]
    },
    {
     "name": "stderr",
     "output_type": "stream",
     "text": [
      "W0506 03:35:04.198012 139885692258112 metrics.py:103] DICE score is technically 1.0, but prediction and truth arrays are empty. \n"
     ]
    },
    {
     "name": "stderr",
     "output_type": "stream",
     "text": [
      "W0506 03:35:04.210145 139885692258112 metrics.py:103] DICE score is technically 1.0, but prediction and truth arrays are empty. \n"
     ]
    },
    {
     "name": "stderr",
     "output_type": "stream",
     "text": [
      "W0506 03:35:04.244031 139885692258112 metrics.py:103] DICE score is technically 1.0, but prediction and truth arrays are empty. \n"
     ]
    },
    {
     "name": "stderr",
     "output_type": "stream",
     "text": [
      "W0506 03:35:04.278411 139885692258112 metrics.py:103] DICE score is technically 1.0, but prediction and truth arrays are empty. \n"
     ]
    },
    {
     "name": "stderr",
     "output_type": "stream",
     "text": [
      "W0506 03:35:04.290942 139885692258112 metrics.py:103] DICE score is technically 1.0, but prediction and truth arrays are empty. \n"
     ]
    },
    {
     "name": "stderr",
     "output_type": "stream",
     "text": [
      "W0506 03:35:04.314374 139885692258112 metrics.py:103] DICE score is technically 1.0, but prediction and truth arrays are empty. \n"
     ]
    },
    {
     "name": "stderr",
     "output_type": "stream",
     "text": [
      "W0506 03:35:04.326872 139885692258112 metrics.py:103] DICE score is technically 1.0, but prediction and truth arrays are empty. \n"
     ]
    },
    {
     "name": "stderr",
     "output_type": "stream",
     "text": [
      "W0506 03:35:04.350328 139885692258112 metrics.py:103] DICE score is technically 1.0, but prediction and truth arrays are empty. \n"
     ]
    },
    {
     "name": "stderr",
     "output_type": "stream",
     "text": [
      "W0506 03:35:04.362791 139885692258112 metrics.py:103] DICE score is technically 1.0, but prediction and truth arrays are empty. \n"
     ]
    },
    {
     "name": "stderr",
     "output_type": "stream",
     "text": [
      "W0506 03:35:04.375351 139885692258112 metrics.py:103] DICE score is technically 1.0, but prediction and truth arrays are empty. \n"
     ]
    },
    {
     "name": "stderr",
     "output_type": "stream",
     "text": [
      "W0506 03:35:04.387808 139885692258112 metrics.py:103] DICE score is technically 1.0, but prediction and truth arrays are empty. \n"
     ]
    },
    {
     "name": "stderr",
     "output_type": "stream",
     "text": [
      "W0506 03:35:04.789491 139885692258112 metrics.py:103] DICE score is technically 1.0, but prediction and truth arrays are empty. \n"
     ]
    },
    {
     "name": "stderr",
     "output_type": "stream",
     "text": [
      "W0506 03:35:04.802104 139885692258112 metrics.py:103] DICE score is technically 1.0, but prediction and truth arrays are empty. \n"
     ]
    },
    {
     "name": "stderr",
     "output_type": "stream",
     "text": [
      "W0506 03:35:04.814566 139885692258112 metrics.py:103] DICE score is technically 1.0, but prediction and truth arrays are empty. \n"
     ]
    },
    {
     "name": "stderr",
     "output_type": "stream",
     "text": [
      "W0506 03:35:04.838067 139885692258112 metrics.py:103] DICE score is technically 1.0, but prediction and truth arrays are empty. \n"
     ]
    },
    {
     "name": "stderr",
     "output_type": "stream",
     "text": [
      "W0506 03:35:04.850726 139885692258112 metrics.py:103] DICE score is technically 1.0, but prediction and truth arrays are empty. \n"
     ]
    },
    {
     "name": "stderr",
     "output_type": "stream",
     "text": [
      "W0506 03:35:04.863227 139885692258112 metrics.py:103] DICE score is technically 1.0, but prediction and truth arrays are empty. \n"
     ]
    },
    {
     "name": "stderr",
     "output_type": "stream",
     "text": [
      "W0506 03:35:04.875915 139885692258112 metrics.py:103] DICE score is technically 1.0, but prediction and truth arrays are empty. \n"
     ]
    },
    {
     "name": "stderr",
     "output_type": "stream",
     "text": [
      "W0506 03:35:04.899334 139885692258112 metrics.py:103] DICE score is technically 1.0, but prediction and truth arrays are empty. \n"
     ]
    },
    {
     "name": "stderr",
     "output_type": "stream",
     "text": [
      "W0506 03:35:04.911864 139885692258112 metrics.py:103] DICE score is technically 1.0, but prediction and truth arrays are empty. \n"
     ]
    },
    {
     "name": "stderr",
     "output_type": "stream",
     "text": [
      "W0506 03:35:04.924363 139885692258112 metrics.py:103] DICE score is technically 1.0, but prediction and truth arrays are empty. \n"
     ]
    },
    {
     "name": "stderr",
     "output_type": "stream",
     "text": [
      "W0506 03:35:04.947896 139885692258112 metrics.py:103] DICE score is technically 1.0, but prediction and truth arrays are empty. \n"
     ]
    },
    {
     "name": "stderr",
     "output_type": "stream",
     "text": [
      "W0506 03:35:04.960684 139885692258112 metrics.py:103] DICE score is technically 1.0, but prediction and truth arrays are empty. \n"
     ]
    },
    {
     "name": "stderr",
     "output_type": "stream",
     "text": [
      "W0506 03:35:04.973440 139885692258112 metrics.py:103] DICE score is technically 1.0, but prediction and truth arrays are empty. \n"
     ]
    },
    {
     "name": "stderr",
     "output_type": "stream",
     "text": [
      "W0506 03:35:04.997564 139885692258112 metrics.py:103] DICE score is technically 1.0, but prediction and truth arrays are empty. \n"
     ]
    },
    {
     "name": "stderr",
     "output_type": "stream",
     "text": [
      "W0506 03:35:05.010717 139885692258112 metrics.py:103] DICE score is technically 1.0, but prediction and truth arrays are empty. \n"
     ]
    },
    {
     "name": "stderr",
     "output_type": "stream",
     "text": [
      "W0506 03:35:05.023592 139885692258112 metrics.py:103] DICE score is technically 1.0, but prediction and truth arrays are empty. \n"
     ]
    },
    {
     "name": "stderr",
     "output_type": "stream",
     "text": [
      "W0506 03:35:05.036038 139885692258112 metrics.py:103] DICE score is technically 1.0, but prediction and truth arrays are empty. \n"
     ]
    },
    {
     "name": "stderr",
     "output_type": "stream",
     "text": [
      "W0506 03:35:05.048939 139885692258112 metrics.py:103] DICE score is technically 1.0, but prediction and truth arrays are empty. \n"
     ]
    },
    {
     "name": "stderr",
     "output_type": "stream",
     "text": [
      "W0506 03:35:05.061539 139885692258112 metrics.py:103] DICE score is technically 1.0, but prediction and truth arrays are empty. \n"
     ]
    },
    {
     "name": "stderr",
     "output_type": "stream",
     "text": [
      "W0506 03:35:05.074097 139885692258112 metrics.py:103] DICE score is technically 1.0, but prediction and truth arrays are empty. \n"
     ]
    },
    {
     "name": "stderr",
     "output_type": "stream",
     "text": [
      "W0506 03:35:05.086740 139885692258112 metrics.py:103] DICE score is technically 1.0, but prediction and truth arrays are empty. \n"
     ]
    },
    {
     "name": "stderr",
     "output_type": "stream",
     "text": [
      "W0506 03:35:05.111416 139885692258112 metrics.py:103] DICE score is technically 1.0, but prediction and truth arrays are empty. \n"
     ]
    },
    {
     "name": "stderr",
     "output_type": "stream",
     "text": [
      "W0506 03:35:05.124124 139885692258112 metrics.py:103] DICE score is technically 1.0, but prediction and truth arrays are empty. \n"
     ]
    },
    {
     "name": "stderr",
     "output_type": "stream",
     "text": [
      "W0506 03:35:05.136889 139885692258112 metrics.py:103] DICE score is technically 1.0, but prediction and truth arrays are empty. \n"
     ]
    },
    {
     "name": "stderr",
     "output_type": "stream",
     "text": [
      "W0506 03:35:05.149809 139885692258112 metrics.py:103] DICE score is technically 1.0, but prediction and truth arrays are empty. \n"
     ]
    },
    {
     "name": "stderr",
     "output_type": "stream",
     "text": [
      "W0506 03:35:06.767599 139885692258112 metrics.py:103] DICE score is technically 1.0, but prediction and truth arrays are empty. \n"
     ]
    },
    {
     "name": "stderr",
     "output_type": "stream",
     "text": [
      "W0506 03:35:06.780038 139885692258112 metrics.py:103] DICE score is technically 1.0, but prediction and truth arrays are empty. \n"
     ]
    },
    {
     "name": "stderr",
     "output_type": "stream",
     "text": [
      "W0506 03:35:06.792451 139885692258112 metrics.py:103] DICE score is technically 1.0, but prediction and truth arrays are empty. \n"
     ]
    },
    {
     "name": "stderr",
     "output_type": "stream",
     "text": [
      "W0506 03:35:06.816022 139885692258112 metrics.py:103] DICE score is technically 1.0, but prediction and truth arrays are empty. \n"
     ]
    },
    {
     "name": "stderr",
     "output_type": "stream",
     "text": [
      "W0506 03:35:06.840321 139885692258112 metrics.py:103] DICE score is technically 1.0, but prediction and truth arrays are empty. \n"
     ]
    },
    {
     "name": "stderr",
     "output_type": "stream",
     "text": [
      "W0506 03:35:06.852971 139885692258112 metrics.py:103] DICE score is technically 1.0, but prediction and truth arrays are empty. \n"
     ]
    },
    {
     "name": "stderr",
     "output_type": "stream",
     "text": [
      "W0506 03:35:06.865569 139885692258112 metrics.py:103] DICE score is technically 1.0, but prediction and truth arrays are empty. \n"
     ]
    },
    {
     "name": "stderr",
     "output_type": "stream",
     "text": [
      "W0506 03:35:06.878088 139885692258112 metrics.py:103] DICE score is technically 1.0, but prediction and truth arrays are empty. \n"
     ]
    },
    {
     "name": "stderr",
     "output_type": "stream",
     "text": [
      "W0506 03:35:06.890622 139885692258112 metrics.py:103] DICE score is technically 1.0, but prediction and truth arrays are empty. \n"
     ]
    },
    {
     "name": "stderr",
     "output_type": "stream",
     "text": [
      "W0506 03:35:06.903367 139885692258112 metrics.py:103] DICE score is technically 1.0, but prediction and truth arrays are empty. \n"
     ]
    },
    {
     "name": "stderr",
     "output_type": "stream",
     "text": [
      "W0506 03:35:06.916196 139885692258112 metrics.py:103] DICE score is technically 1.0, but prediction and truth arrays are empty. \n"
     ]
    },
    {
     "name": "stderr",
     "output_type": "stream",
     "text": [
      "W0506 03:35:06.928679 139885692258112 metrics.py:103] DICE score is technically 1.0, but prediction and truth arrays are empty. \n"
     ]
    },
    {
     "name": "stderr",
     "output_type": "stream",
     "text": [
      "W0506 03:35:06.941474 139885692258112 metrics.py:103] DICE score is technically 1.0, but prediction and truth arrays are empty. \n"
     ]
    },
    {
     "name": "stderr",
     "output_type": "stream",
     "text": [
      "W0506 03:35:06.953949 139885692258112 metrics.py:103] DICE score is technically 1.0, but prediction and truth arrays are empty. \n"
     ]
    },
    {
     "name": "stderr",
     "output_type": "stream",
     "text": [
      "W0506 03:35:06.966423 139885692258112 metrics.py:103] DICE score is technically 1.0, but prediction and truth arrays are empty. \n"
     ]
    },
    {
     "name": "stderr",
     "output_type": "stream",
     "text": [
      "W0506 03:35:06.979415 139885692258112 metrics.py:103] DICE score is technically 1.0, but prediction and truth arrays are empty. \n"
     ]
    },
    {
     "name": "stderr",
     "output_type": "stream",
     "text": [
      "W0506 03:35:06.992557 139885692258112 metrics.py:103] DICE score is technically 1.0, but prediction and truth arrays are empty. \n"
     ]
    },
    {
     "name": "stderr",
     "output_type": "stream",
     "text": [
      "W0506 03:35:07.005232 139885692258112 metrics.py:103] DICE score is technically 1.0, but prediction and truth arrays are empty. \n"
     ]
    },
    {
     "name": "stderr",
     "output_type": "stream",
     "text": [
      "W0506 03:35:07.017829 139885692258112 metrics.py:103] DICE score is technically 1.0, but prediction and truth arrays are empty. \n"
     ]
    },
    {
     "name": "stderr",
     "output_type": "stream",
     "text": [
      "W0506 03:35:07.031332 139885692258112 metrics.py:103] DICE score is technically 1.0, but prediction and truth arrays are empty. \n"
     ]
    },
    {
     "name": "stderr",
     "output_type": "stream",
     "text": [
      "W0506 03:35:07.044120 139885692258112 metrics.py:103] DICE score is technically 1.0, but prediction and truth arrays are empty. \n"
     ]
    },
    {
     "name": "stderr",
     "output_type": "stream",
     "text": [
      "W0506 03:35:07.056916 139885692258112 metrics.py:103] DICE score is technically 1.0, but prediction and truth arrays are empty. \n"
     ]
    },
    {
     "name": "stderr",
     "output_type": "stream",
     "text": [
      "W0506 03:35:07.069570 139885692258112 metrics.py:103] DICE score is technically 1.0, but prediction and truth arrays are empty. \n"
     ]
    },
    {
     "name": "stderr",
     "output_type": "stream",
     "text": [
      "W0506 03:35:07.082247 139885692258112 metrics.py:103] DICE score is technically 1.0, but prediction and truth arrays are empty. \n"
     ]
    },
    {
     "name": "stderr",
     "output_type": "stream",
     "text": [
      "W0506 03:35:07.096253 139885692258112 metrics.py:103] DICE score is technically 1.0, but prediction and truth arrays are empty. \n"
     ]
    },
    {
     "name": "stderr",
     "output_type": "stream",
     "text": [
      "W0506 03:35:07.110280 139885692258112 metrics.py:103] DICE score is technically 1.0, but prediction and truth arrays are empty. \n"
     ]
    },
    {
     "name": "stderr",
     "output_type": "stream",
     "text": [
      "W0506 03:35:07.123451 139885692258112 metrics.py:103] DICE score is technically 1.0, but prediction and truth arrays are empty. \n"
     ]
    },
    {
     "name": "stderr",
     "output_type": "stream",
     "text": [
      "W0506 03:35:07.136381 139885692258112 metrics.py:103] DICE score is technically 1.0, but prediction and truth arrays are empty. \n"
     ]
    },
    {
     "name": "stderr",
     "output_type": "stream",
     "text": [
      "W0506 03:35:07.893683 139885692258112 metrics.py:103] DICE score is technically 1.0, but prediction and truth arrays are empty. \n"
     ]
    },
    {
     "name": "stderr",
     "output_type": "stream",
     "text": [
      "W0506 03:35:07.906442 139885692258112 metrics.py:103] DICE score is technically 1.0, but prediction and truth arrays are empty. \n"
     ]
    },
    {
     "name": "stderr",
     "output_type": "stream",
     "text": [
      "W0506 03:35:07.918947 139885692258112 metrics.py:103] DICE score is technically 1.0, but prediction and truth arrays are empty. \n"
     ]
    },
    {
     "name": "stderr",
     "output_type": "stream",
     "text": [
      "W0506 03:35:07.931504 139885692258112 metrics.py:103] DICE score is technically 1.0, but prediction and truth arrays are empty. \n"
     ]
    },
    {
     "name": "stderr",
     "output_type": "stream",
     "text": [
      "W0506 03:35:07.955315 139885692258112 metrics.py:103] DICE score is technically 1.0, but prediction and truth arrays are empty. \n"
     ]
    },
    {
     "name": "stderr",
     "output_type": "stream",
     "text": [
      "W0506 03:35:07.967964 139885692258112 metrics.py:103] DICE score is technically 1.0, but prediction and truth arrays are empty. \n"
     ]
    },
    {
     "name": "stderr",
     "output_type": "stream",
     "text": [
      "W0506 03:35:07.991450 139885692258112 metrics.py:103] DICE score is technically 1.0, but prediction and truth arrays are empty. \n"
     ]
    },
    {
     "name": "stderr",
     "output_type": "stream",
     "text": [
      "W0506 03:35:08.004074 139885692258112 metrics.py:103] DICE score is technically 1.0, but prediction and truth arrays are empty. \n"
     ]
    },
    {
     "name": "stderr",
     "output_type": "stream",
     "text": [
      "W0506 03:35:08.016648 139885692258112 metrics.py:103] DICE score is technically 1.0, but prediction and truth arrays are empty. \n"
     ]
    },
    {
     "name": "stderr",
     "output_type": "stream",
     "text": [
      "W0506 03:35:08.029314 139885692258112 metrics.py:103] DICE score is technically 1.0, but prediction and truth arrays are empty. \n"
     ]
    },
    {
     "name": "stderr",
     "output_type": "stream",
     "text": [
      "W0506 03:35:08.041971 139885692258112 metrics.py:103] DICE score is technically 1.0, but prediction and truth arrays are empty. \n"
     ]
    },
    {
     "name": "stderr",
     "output_type": "stream",
     "text": [
      "W0506 03:35:08.054563 139885692258112 metrics.py:103] DICE score is technically 1.0, but prediction and truth arrays are empty. \n"
     ]
    },
    {
     "name": "stderr",
     "output_type": "stream",
     "text": [
      "W0506 03:35:08.067137 139885692258112 metrics.py:103] DICE score is technically 1.0, but prediction and truth arrays are empty. \n"
     ]
    },
    {
     "name": "stderr",
     "output_type": "stream",
     "text": [
      "W0506 03:35:08.079687 139885692258112 metrics.py:103] DICE score is technically 1.0, but prediction and truth arrays are empty. \n"
     ]
    },
    {
     "name": "stderr",
     "output_type": "stream",
     "text": [
      "W0506 03:35:08.092198 139885692258112 metrics.py:103] DICE score is technically 1.0, but prediction and truth arrays are empty. \n"
     ]
    },
    {
     "name": "stderr",
     "output_type": "stream",
     "text": [
      "W0506 03:35:08.116498 139885692258112 metrics.py:103] DICE score is technically 1.0, but prediction and truth arrays are empty. \n"
     ]
    },
    {
     "name": "stderr",
     "output_type": "stream",
     "text": [
      "W0506 03:35:08.129392 139885692258112 metrics.py:103] DICE score is technically 1.0, but prediction and truth arrays are empty. \n"
     ]
    },
    {
     "name": "stderr",
     "output_type": "stream",
     "text": [
      "W0506 03:35:08.142096 139885692258112 metrics.py:103] DICE score is technically 1.0, but prediction and truth arrays are empty. \n"
     ]
    },
    {
     "name": "stderr",
     "output_type": "stream",
     "text": [
      "W0506 03:35:08.154902 139885692258112 metrics.py:103] DICE score is technically 1.0, but prediction and truth arrays are empty. \n"
     ]
    },
    {
     "name": "stderr",
     "output_type": "stream",
     "text": [
      "W0506 03:35:08.168036 139885692258112 metrics.py:103] DICE score is technically 1.0, but prediction and truth arrays are empty. \n"
     ]
    },
    {
     "name": "stderr",
     "output_type": "stream",
     "text": [
      "W0506 03:35:08.191695 139885692258112 metrics.py:103] DICE score is technically 1.0, but prediction and truth arrays are empty. \n"
     ]
    },
    {
     "name": "stderr",
     "output_type": "stream",
     "text": [
      "W0506 03:35:08.204291 139885692258112 metrics.py:103] DICE score is technically 1.0, but prediction and truth arrays are empty. \n"
     ]
    },
    {
     "name": "stderr",
     "output_type": "stream",
     "text": [
      "W0506 03:35:08.216985 139885692258112 metrics.py:103] DICE score is technically 1.0, but prediction and truth arrays are empty. \n"
     ]
    },
    {
     "name": "stderr",
     "output_type": "stream",
     "text": [
      "W0506 03:35:08.229703 139885692258112 metrics.py:103] DICE score is technically 1.0, but prediction and truth arrays are empty. \n"
     ]
    },
    {
     "name": "stderr",
     "output_type": "stream",
     "text": [
      "W0506 03:35:08.283499 139885692258112 metrics.py:103] DICE score is technically 1.0, but prediction and truth arrays are empty. \n"
     ]
    },
    {
     "name": "stderr",
     "output_type": "stream",
     "text": [
      "W0506 03:35:09.312029 139885692258112 metrics.py:103] DICE score is technically 1.0, but prediction and truth arrays are empty. \n"
     ]
    },
    {
     "name": "stderr",
     "output_type": "stream",
     "text": [
      "W0506 03:35:09.335903 139885692258112 metrics.py:103] DICE score is technically 1.0, but prediction and truth arrays are empty. \n"
     ]
    },
    {
     "name": "stderr",
     "output_type": "stream",
     "text": [
      "W0506 03:35:09.359862 139885692258112 metrics.py:103] DICE score is technically 1.0, but prediction and truth arrays are empty. \n"
     ]
    },
    {
     "name": "stderr",
     "output_type": "stream",
     "text": [
      "W0506 03:35:09.373033 139885692258112 metrics.py:103] DICE score is technically 1.0, but prediction and truth arrays are empty. \n"
     ]
    },
    {
     "name": "stderr",
     "output_type": "stream",
     "text": [
      "W0506 03:35:09.415101 139885692258112 metrics.py:103] DICE score is technically 1.0, but prediction and truth arrays are empty. \n"
     ]
    },
    {
     "name": "stderr",
     "output_type": "stream",
     "text": [
      "W0506 03:35:10.448893 139885692258112 metrics.py:103] DICE score is technically 1.0, but prediction and truth arrays are empty. \n"
     ]
    },
    {
     "name": "stderr",
     "output_type": "stream",
     "text": [
      "W0506 03:35:10.461924 139885692258112 metrics.py:103] DICE score is technically 1.0, but prediction and truth arrays are empty. \n"
     ]
    },
    {
     "name": "stderr",
     "output_type": "stream",
     "text": [
      "W0506 03:35:10.485304 139885692258112 metrics.py:103] DICE score is technically 1.0, but prediction and truth arrays are empty. \n"
     ]
    },
    {
     "name": "stderr",
     "output_type": "stream",
     "text": [
      "W0506 03:35:10.497792 139885692258112 metrics.py:103] DICE score is technically 1.0, but prediction and truth arrays are empty. \n"
     ]
    },
    {
     "name": "stderr",
     "output_type": "stream",
     "text": [
      "W0506 03:35:10.510835 139885692258112 metrics.py:103] DICE score is technically 1.0, but prediction and truth arrays are empty. \n"
     ]
    },
    {
     "name": "stderr",
     "output_type": "stream",
     "text": [
      "W0506 03:35:10.534425 139885692258112 metrics.py:103] DICE score is technically 1.0, but prediction and truth arrays are empty. \n"
     ]
    },
    {
     "name": "stderr",
     "output_type": "stream",
     "text": [
      "W0506 03:35:10.568594 139885692258112 metrics.py:103] DICE score is technically 1.0, but prediction and truth arrays are empty. \n"
     ]
    },
    {
     "name": "stderr",
     "output_type": "stream",
     "text": [
      "W0506 03:35:10.581091 139885692258112 metrics.py:103] DICE score is technically 1.0, but prediction and truth arrays are empty. \n"
     ]
    },
    {
     "name": "stderr",
     "output_type": "stream",
     "text": [
      "W0506 03:35:10.593577 139885692258112 metrics.py:103] DICE score is technically 1.0, but prediction and truth arrays are empty. \n"
     ]
    },
    {
     "name": "stderr",
     "output_type": "stream",
     "text": [
      "W0506 03:35:10.606139 139885692258112 metrics.py:103] DICE score is technically 1.0, but prediction and truth arrays are empty. \n"
     ]
    },
    {
     "name": "stderr",
     "output_type": "stream",
     "text": [
      "W0506 03:35:10.618658 139885692258112 metrics.py:103] DICE score is technically 1.0, but prediction and truth arrays are empty. \n"
     ]
    },
    {
     "name": "stderr",
     "output_type": "stream",
     "text": [
      "W0506 03:35:10.631107 139885692258112 metrics.py:103] DICE score is technically 1.0, but prediction and truth arrays are empty. \n"
     ]
    },
    {
     "name": "stderr",
     "output_type": "stream",
     "text": [
      "W0506 03:35:10.643602 139885692258112 metrics.py:103] DICE score is technically 1.0, but prediction and truth arrays are empty. \n"
     ]
    },
    {
     "name": "stderr",
     "output_type": "stream",
     "text": [
      "W0506 03:35:10.656524 139885692258112 metrics.py:103] DICE score is technically 1.0, but prediction and truth arrays are empty. \n"
     ]
    },
    {
     "name": "stderr",
     "output_type": "stream",
     "text": [
      "W0506 03:35:10.669393 139885692258112 metrics.py:103] DICE score is technically 1.0, but prediction and truth arrays are empty. \n"
     ]
    },
    {
     "name": "stderr",
     "output_type": "stream",
     "text": [
      "W0506 03:35:10.682050 139885692258112 metrics.py:103] DICE score is technically 1.0, but prediction and truth arrays are empty. \n"
     ]
    },
    {
     "name": "stderr",
     "output_type": "stream",
     "text": [
      "W0506 03:35:10.694959 139885692258112 metrics.py:103] DICE score is technically 1.0, but prediction and truth arrays are empty. \n"
     ]
    },
    {
     "name": "stderr",
     "output_type": "stream",
     "text": [
      "W0506 03:35:10.718687 139885692258112 metrics.py:103] DICE score is technically 1.0, but prediction and truth arrays are empty. \n"
     ]
    },
    {
     "name": "stderr",
     "output_type": "stream",
     "text": [
      "W0506 03:35:10.731323 139885692258112 metrics.py:103] DICE score is technically 1.0, but prediction and truth arrays are empty. \n"
     ]
    },
    {
     "name": "stderr",
     "output_type": "stream",
     "text": [
      "W0506 03:35:10.744394 139885692258112 metrics.py:103] DICE score is technically 1.0, but prediction and truth arrays are empty. \n"
     ]
    },
    {
     "name": "stderr",
     "output_type": "stream",
     "text": [
      "W0506 03:35:10.756916 139885692258112 metrics.py:103] DICE score is technically 1.0, but prediction and truth arrays are empty. \n"
     ]
    },
    {
     "name": "stderr",
     "output_type": "stream",
     "text": [
      "W0506 03:35:10.769562 139885692258112 metrics.py:103] DICE score is technically 1.0, but prediction and truth arrays are empty. \n"
     ]
    },
    {
     "name": "stderr",
     "output_type": "stream",
     "text": [
      "W0506 03:35:10.782048 139885692258112 metrics.py:103] DICE score is technically 1.0, but prediction and truth arrays are empty. \n"
     ]
    },
    {
     "name": "stderr",
     "output_type": "stream",
     "text": [
      "W0506 03:35:10.794785 139885692258112 metrics.py:103] DICE score is technically 1.0, but prediction and truth arrays are empty. \n"
     ]
    },
    {
     "name": "stderr",
     "output_type": "stream",
     "text": [
      "W0506 03:35:11.300535 139885692258112 metrics.py:103] DICE score is technically 1.0, but prediction and truth arrays are empty. \n"
     ]
    },
    {
     "name": "stderr",
     "output_type": "stream",
     "text": [
      "W0506 03:35:11.313420 139885692258112 metrics.py:103] DICE score is technically 1.0, but prediction and truth arrays are empty. \n"
     ]
    },
    {
     "name": "stderr",
     "output_type": "stream",
     "text": [
      "W0506 03:35:11.326088 139885692258112 metrics.py:103] DICE score is technically 1.0, but prediction and truth arrays are empty. \n"
     ]
    },
    {
     "name": "stderr",
     "output_type": "stream",
     "text": [
      "W0506 03:35:11.339203 139885692258112 metrics.py:103] DICE score is technically 1.0, but prediction and truth arrays are empty. \n"
     ]
    },
    {
     "name": "stderr",
     "output_type": "stream",
     "text": [
      "W0506 03:35:11.362763 139885692258112 metrics.py:103] DICE score is technically 1.0, but prediction and truth arrays are empty. \n"
     ]
    },
    {
     "name": "stderr",
     "output_type": "stream",
     "text": [
      "W0506 03:35:11.375364 139885692258112 metrics.py:103] DICE score is technically 1.0, but prediction and truth arrays are empty. \n"
     ]
    },
    {
     "name": "stderr",
     "output_type": "stream",
     "text": [
      "W0506 03:35:11.388020 139885692258112 metrics.py:103] DICE score is technically 1.0, but prediction and truth arrays are empty. \n"
     ]
    },
    {
     "name": "stderr",
     "output_type": "stream",
     "text": [
      "W0506 03:35:11.406946 139885692258112 metrics.py:103] DICE score is technically 1.0, but prediction and truth arrays are empty. \n"
     ]
    },
    {
     "name": "stderr",
     "output_type": "stream",
     "text": [
      "W0506 03:35:11.421173 139885692258112 metrics.py:103] DICE score is technically 1.0, but prediction and truth arrays are empty. \n"
     ]
    },
    {
     "name": "stderr",
     "output_type": "stream",
     "text": [
      "W0506 03:35:11.435255 139885692258112 metrics.py:103] DICE score is technically 1.0, but prediction and truth arrays are empty. \n"
     ]
    },
    {
     "name": "stderr",
     "output_type": "stream",
     "text": [
      "W0506 03:35:11.449460 139885692258112 metrics.py:103] DICE score is technically 1.0, but prediction and truth arrays are empty. \n"
     ]
    },
    {
     "name": "stderr",
     "output_type": "stream",
     "text": [
      "W0506 03:35:11.463486 139885692258112 metrics.py:103] DICE score is technically 1.0, but prediction and truth arrays are empty. \n"
     ]
    },
    {
     "name": "stderr",
     "output_type": "stream",
     "text": [
      "W0506 03:35:11.477444 139885692258112 metrics.py:103] DICE score is technically 1.0, but prediction and truth arrays are empty. \n"
     ]
    },
    {
     "name": "stderr",
     "output_type": "stream",
     "text": [
      "W0506 03:35:11.491499 139885692258112 metrics.py:103] DICE score is technically 1.0, but prediction and truth arrays are empty. \n"
     ]
    },
    {
     "name": "stderr",
     "output_type": "stream",
     "text": [
      "W0506 03:35:11.505726 139885692258112 metrics.py:103] DICE score is technically 1.0, but prediction and truth arrays are empty. \n"
     ]
    },
    {
     "name": "stderr",
     "output_type": "stream",
     "text": [
      "W0506 03:35:11.520133 139885692258112 metrics.py:103] DICE score is technically 1.0, but prediction and truth arrays are empty. \n"
     ]
    },
    {
     "name": "stderr",
     "output_type": "stream",
     "text": [
      "W0506 03:35:11.534689 139885692258112 metrics.py:103] DICE score is technically 1.0, but prediction and truth arrays are empty. \n"
     ]
    },
    {
     "name": "stderr",
     "output_type": "stream",
     "text": [
      "W0506 03:35:11.552291 139885692258112 metrics.py:103] DICE score is technically 1.0, but prediction and truth arrays are empty. \n"
     ]
    },
    {
     "name": "stderr",
     "output_type": "stream",
     "text": [
      "W0506 03:35:11.567140 139885692258112 metrics.py:103] DICE score is technically 1.0, but prediction and truth arrays are empty. \n"
     ]
    },
    {
     "name": "stderr",
     "output_type": "stream",
     "text": [
      "W0506 03:35:11.581510 139885692258112 metrics.py:103] DICE score is technically 1.0, but prediction and truth arrays are empty. \n"
     ]
    },
    {
     "name": "stderr",
     "output_type": "stream",
     "text": [
      "W0506 03:35:11.595748 139885692258112 metrics.py:103] DICE score is technically 1.0, but prediction and truth arrays are empty. \n"
     ]
    },
    {
     "name": "stderr",
     "output_type": "stream",
     "text": [
      "W0506 03:35:11.610305 139885692258112 metrics.py:103] DICE score is technically 1.0, but prediction and truth arrays are empty. \n"
     ]
    },
    {
     "name": "stderr",
     "output_type": "stream",
     "text": [
      "W0506 03:35:11.637017 139885692258112 metrics.py:103] DICE score is technically 1.0, but prediction and truth arrays are empty. \n"
     ]
    },
    {
     "name": "stderr",
     "output_type": "stream",
     "text": [
      "W0506 03:35:11.651308 139885692258112 metrics.py:103] DICE score is technically 1.0, but prediction and truth arrays are empty. \n"
     ]
    },
    {
     "name": "stderr",
     "output_type": "stream",
     "text": [
      "W0506 03:35:11.665400 139885692258112 metrics.py:103] DICE score is technically 1.0, but prediction and truth arrays are empty. \n"
     ]
    },
    {
     "name": "stderr",
     "output_type": "stream",
     "text": [
      "W0506 03:35:11.681055 139885692258112 metrics.py:103] DICE score is technically 1.0, but prediction and truth arrays are empty. \n"
     ]
    },
    {
     "name": "stderr",
     "output_type": "stream",
     "text": [
      "W0506 03:35:11.693874 139885692258112 metrics.py:103] DICE score is technically 1.0, but prediction and truth arrays are empty. \n"
     ]
    },
    {
     "name": "stderr",
     "output_type": "stream",
     "text": [
      "W0506 03:35:12.173283 139885692258112 metrics.py:103] DICE score is technically 1.0, but prediction and truth arrays are empty. \n"
     ]
    },
    {
     "name": "stderr",
     "output_type": "stream",
     "text": [
      "W0506 03:35:12.186387 139885692258112 metrics.py:103] DICE score is technically 1.0, but prediction and truth arrays are empty. \n"
     ]
    },
    {
     "name": "stderr",
     "output_type": "stream",
     "text": [
      "W0506 03:35:12.199072 139885692258112 metrics.py:103] DICE score is technically 1.0, but prediction and truth arrays are empty. \n"
     ]
    },
    {
     "name": "stderr",
     "output_type": "stream",
     "text": [
      "W0506 03:35:12.210764 139885692258112 metrics.py:103] DICE score is technically 1.0, but prediction and truth arrays are empty. \n"
     ]
    },
    {
     "name": "stderr",
     "output_type": "stream",
     "text": [
      "W0506 03:35:12.222443 139885692258112 metrics.py:103] DICE score is technically 1.0, but prediction and truth arrays are empty. \n"
     ]
    },
    {
     "name": "stderr",
     "output_type": "stream",
     "text": [
      "W0506 03:35:12.234415 139885692258112 metrics.py:103] DICE score is technically 1.0, but prediction and truth arrays are empty. \n"
     ]
    },
    {
     "name": "stderr",
     "output_type": "stream",
     "text": [
      "W0506 03:35:12.247655 139885692258112 metrics.py:103] DICE score is technically 1.0, but prediction and truth arrays are empty. \n"
     ]
    },
    {
     "name": "stderr",
     "output_type": "stream",
     "text": [
      "W0506 03:35:12.259965 139885692258112 metrics.py:103] DICE score is technically 1.0, but prediction and truth arrays are empty. \n"
     ]
    },
    {
     "name": "stderr",
     "output_type": "stream",
     "text": [
      "W0506 03:35:12.272167 139885692258112 metrics.py:103] DICE score is technically 1.0, but prediction and truth arrays are empty. \n"
     ]
    },
    {
     "name": "stderr",
     "output_type": "stream",
     "text": [
      "W0506 03:35:12.284293 139885692258112 metrics.py:103] DICE score is technically 1.0, but prediction and truth arrays are empty. \n"
     ]
    },
    {
     "name": "stderr",
     "output_type": "stream",
     "text": [
      "W0506 03:35:12.307611 139885692258112 metrics.py:103] DICE score is technically 1.0, but prediction and truth arrays are empty. \n"
     ]
    },
    {
     "name": "stderr",
     "output_type": "stream",
     "text": [
      "W0506 03:35:12.320246 139885692258112 metrics.py:103] DICE score is technically 1.0, but prediction and truth arrays are empty. \n"
     ]
    },
    {
     "name": "stderr",
     "output_type": "stream",
     "text": [
      "W0506 03:35:12.332667 139885692258112 metrics.py:103] DICE score is technically 1.0, but prediction and truth arrays are empty. \n"
     ]
    },
    {
     "name": "stderr",
     "output_type": "stream",
     "text": [
      "W0506 03:35:12.345123 139885692258112 metrics.py:103] DICE score is technically 1.0, but prediction and truth arrays are empty. \n"
     ]
    },
    {
     "name": "stderr",
     "output_type": "stream",
     "text": [
      "W0506 03:35:13.832912 139885692258112 metrics.py:103] DICE score is technically 1.0, but prediction and truth arrays are empty. \n"
     ]
    },
    {
     "name": "stderr",
     "output_type": "stream",
     "text": [
      "W0506 03:35:13.845676 139885692258112 metrics.py:103] DICE score is technically 1.0, but prediction and truth arrays are empty. \n"
     ]
    },
    {
     "name": "stderr",
     "output_type": "stream",
     "text": [
      "W0506 03:35:13.869515 139885692258112 metrics.py:103] DICE score is technically 1.0, but prediction and truth arrays are empty. \n"
     ]
    },
    {
     "name": "stderr",
     "output_type": "stream",
     "text": [
      "W0506 03:35:13.904829 139885692258112 metrics.py:103] DICE score is technically 1.0, but prediction and truth arrays are empty. \n"
     ]
    },
    {
     "name": "stderr",
     "output_type": "stream",
     "text": [
      "W0506 03:35:13.917459 139885692258112 metrics.py:103] DICE score is technically 1.0, but prediction and truth arrays are empty. \n"
     ]
    },
    {
     "name": "stderr",
     "output_type": "stream",
     "text": [
      "W0506 03:35:13.930112 139885692258112 metrics.py:103] DICE score is technically 1.0, but prediction and truth arrays are empty. \n"
     ]
    },
    {
     "name": "stderr",
     "output_type": "stream",
     "text": [
      "W0506 03:35:13.943494 139885692258112 metrics.py:103] DICE score is technically 1.0, but prediction and truth arrays are empty. \n"
     ]
    },
    {
     "name": "stderr",
     "output_type": "stream",
     "text": [
      "W0506 03:35:13.962891 139885692258112 metrics.py:103] DICE score is technically 1.0, but prediction and truth arrays are empty. \n"
     ]
    },
    {
     "name": "stderr",
     "output_type": "stream",
     "text": [
      "W0506 03:35:14.013863 139885692258112 metrics.py:103] DICE score is technically 1.0, but prediction and truth arrays are empty. \n"
     ]
    },
    {
     "name": "stderr",
     "output_type": "stream",
     "text": [
      "W0506 03:35:14.026148 139885692258112 metrics.py:103] DICE score is technically 1.0, but prediction and truth arrays are empty. \n"
     ]
    },
    {
     "name": "stderr",
     "output_type": "stream",
     "text": [
      "W0506 03:35:14.038709 139885692258112 metrics.py:103] DICE score is technically 1.0, but prediction and truth arrays are empty. \n"
     ]
    },
    {
     "name": "stderr",
     "output_type": "stream",
     "text": [
      "W0506 03:35:14.051213 139885692258112 metrics.py:103] DICE score is technically 1.0, but prediction and truth arrays are empty. \n"
     ]
    },
    {
     "name": "stderr",
     "output_type": "stream",
     "text": [
      "W0506 03:35:14.063524 139885692258112 metrics.py:103] DICE score is technically 1.0, but prediction and truth arrays are empty. \n"
     ]
    },
    {
     "name": "stderr",
     "output_type": "stream",
     "text": [
      "W0506 03:35:14.076073 139885692258112 metrics.py:103] DICE score is technically 1.0, but prediction and truth arrays are empty. \n"
     ]
    },
    {
     "name": "stderr",
     "output_type": "stream",
     "text": [
      "W0506 03:35:14.088385 139885692258112 metrics.py:103] DICE score is technically 1.0, but prediction and truth arrays are empty. \n"
     ]
    },
    {
     "name": "stderr",
     "output_type": "stream",
     "text": [
      "W0506 03:35:14.100768 139885692258112 metrics.py:103] DICE score is technically 1.0, but prediction and truth arrays are empty. \n"
     ]
    },
    {
     "name": "stderr",
     "output_type": "stream",
     "text": [
      "W0506 03:35:14.125450 139885692258112 metrics.py:103] DICE score is technically 1.0, but prediction and truth arrays are empty. \n"
     ]
    },
    {
     "name": "stderr",
     "output_type": "stream",
     "text": [
      "W0506 03:35:14.138873 139885692258112 metrics.py:103] DICE score is technically 1.0, but prediction and truth arrays are empty. \n"
     ]
    },
    {
     "name": "stderr",
     "output_type": "stream",
     "text": [
      "W0506 03:35:14.153560 139885692258112 metrics.py:103] DICE score is technically 1.0, but prediction and truth arrays are empty. \n"
     ]
    },
    {
     "name": "stderr",
     "output_type": "stream",
     "text": [
      "W0506 03:35:14.169780 139885692258112 metrics.py:103] DICE score is technically 1.0, but prediction and truth arrays are empty. \n"
     ]
    },
    {
     "name": "stderr",
     "output_type": "stream",
     "text": [
      "W0506 03:35:14.182187 139885692258112 metrics.py:103] DICE score is technically 1.0, but prediction and truth arrays are empty. \n"
     ]
    },
    {
     "name": "stderr",
     "output_type": "stream",
     "text": [
      "W0506 03:35:14.205719 139885692258112 metrics.py:103] DICE score is technically 1.0, but prediction and truth arrays are empty. \n"
     ]
    },
    {
     "name": "stderr",
     "output_type": "stream",
     "text": [
      "W0506 03:35:16.355944 139885692258112 metrics.py:103] DICE score is technically 1.0, but prediction and truth arrays are empty. \n"
     ]
    },
    {
     "name": "stderr",
     "output_type": "stream",
     "text": [
      "W0506 03:35:16.422725 139885692258112 metrics.py:103] DICE score is technically 1.0, but prediction and truth arrays are empty. \n"
     ]
    },
    {
     "name": "stderr",
     "output_type": "stream",
     "text": [
      "W0506 03:35:16.477179 139885692258112 metrics.py:103] DICE score is technically 1.0, but prediction and truth arrays are empty. \n"
     ]
    },
    {
     "name": "stderr",
     "output_type": "stream",
     "text": [
      "W0506 03:35:16.531548 139885692258112 metrics.py:103] DICE score is technically 1.0, but prediction and truth arrays are empty. \n"
     ]
    },
    {
     "name": "stderr",
     "output_type": "stream",
     "text": [
      "W0506 03:35:16.543811 139885692258112 metrics.py:103] DICE score is technically 1.0, but prediction and truth arrays are empty. \n"
     ]
    },
    {
     "name": "stderr",
     "output_type": "stream",
     "text": [
      "W0506 03:35:16.556138 139885692258112 metrics.py:103] DICE score is technically 1.0, but prediction and truth arrays are empty. \n"
     ]
    },
    {
     "name": "stderr",
     "output_type": "stream",
     "text": [
      "W0506 03:35:16.568518 139885692258112 metrics.py:103] DICE score is technically 1.0, but prediction and truth arrays are empty. \n"
     ]
    },
    {
     "name": "stderr",
     "output_type": "stream",
     "text": [
      "W0506 03:35:16.580855 139885692258112 metrics.py:103] DICE score is technically 1.0, but prediction and truth arrays are empty. \n"
     ]
    },
    {
     "name": "stderr",
     "output_type": "stream",
     "text": [
      "W0506 03:35:16.593374 139885692258112 metrics.py:103] DICE score is technically 1.0, but prediction and truth arrays are empty. \n"
     ]
    },
    {
     "name": "stderr",
     "output_type": "stream",
     "text": [
      "W0506 03:35:21.200625 139885692258112 metrics.py:103] DICE score is technically 1.0, but prediction and truth arrays are empty. \n"
     ]
    },
    {
     "name": "stderr",
     "output_type": "stream",
     "text": [
      "W0506 03:35:23.598032 139885692258112 metrics.py:103] DICE score is technically 1.0, but prediction and truth arrays are empty. \n"
     ]
    },
    {
     "name": "stderr",
     "output_type": "stream",
     "text": [
      "W0506 03:35:23.610608 139885692258112 metrics.py:103] DICE score is technically 1.0, but prediction and truth arrays are empty. \n"
     ]
    },
    {
     "name": "stderr",
     "output_type": "stream",
     "text": [
      "W0506 03:35:23.687371 139885692258112 metrics.py:103] DICE score is technically 1.0, but prediction and truth arrays are empty. \n"
     ]
    },
    {
     "name": "stderr",
     "output_type": "stream",
     "text": [
      "W0506 03:35:23.699629 139885692258112 metrics.py:103] DICE score is technically 1.0, but prediction and truth arrays are empty. \n"
     ]
    },
    {
     "name": "stderr",
     "output_type": "stream",
     "text": [
      "W0506 03:35:23.735459 139885692258112 metrics.py:103] DICE score is technically 1.0, but prediction and truth arrays are empty. \n"
     ]
    },
    {
     "name": "stdout",
     "output_type": "stream",
     "text": [
      "\n",
      "____________Object-based statistics____________\n",
      "\n",
      "Number of true cells:\t\t 39608\n",
      "Number of predicted cells:\t 37753\n",
      "\n",
      "Correct detections:  35951\tRecall: 90.767016764290048058683169074356555938720703125%\n",
      "Incorrect detections: 1802\tPrecision: 95.226869387863217752965283580124378204345703125%\n",
      "\n",
      "Gained detections: 1238\tPerc Error: 27.5417130144605124542067642323672771453857421875%\n",
      "Missed detections: 2812\tPerc Error: 62.55839822024471885697494144551455974578857421875%\n",
      "Merges: 330\t\tPerc Error: 7.34149054505005604909229077748022973537445068359375%\n",
      "Splits: 72\t\tPerc Error: 1.60177975528364857638052853872068226337432861328125%\n",
      "Catastrophes: 43\t\tPerc Error: 0.9566184649610678381037587314494885504245758056640625%\n",
      "\n",
      "Gained detections from splits: 72\n",
      "Missed detections from merges: 351\n",
      "True detections involved in catastrophes: 92\n",
      "Predicted detections involved in catastrophes: 90 \n",
      "\n",
      "Average Pixel IOU (Jaccard Index): 0.8073805634496393768273492241860367357730865478515625 \n",
      "\n"
     ]
    }
   ],
   "source": [
    "from deepcell_toolbox import retinamask_postprocess\n",
    "from deepcell_toolbox.deep_watershed import deep_watershed as watershed_postprocess \n",
    "from functools import partial\n",
    "from scipy import ndimage\n",
    "\n",
    "if model_type == 'watershed':\n",
    "    postprocessing_fn = watershed_postprocess\n",
    "elif model_type == 'pixelwise':\n",
    "    def pixelwise(prediction, threshold=.5):\n",
    "        \"\"\"Post-processing for pixelwise transform predictions.\n",
    "        Uses the interior predictions to uniquely label every instance.\n",
    "        Args:\n",
    "            prediction: pixelwise transform prediction\n",
    "            threshold: confidence threshold for interior predictions\n",
    "        Returns:\n",
    "            post-processed data with each cell uniquely annotated\n",
    "        \"\"\"\n",
    "        labeled = []\n",
    "        for b in range(prediction.shape[0]):\n",
    "            pred = prediction[b]\n",
    "            interior = pred[..., 1] > threshold\n",
    "            data = np.expand_dims(interior, axis=-1)\n",
    "            label_image = ndimage.label(data)[0]\n",
    "            labeled.append(label_image)\n",
    "        labeled = np.stack(labeled, axis=0)\n",
    "        return labeled\n",
    "    postprocessing_fn = pixelwise\n",
    "elif model_type == 'retinamask':\n",
    "    postprocessing_fn = partial(retinamask_postprocess, image_shape=(128,128))\n",
    "    \n",
    "model_trainer = ModelTrainer(model,\n",
    "                            model_name,\n",
    "                            model_path,\n",
    "                            train_data,\n",
    "                            val_data,\n",
    "                            benchmarking_data = test_dict,\n",
    "                            postprocessing_fn=postprocessing_fn,\n",
    "                            predict_batch_size=32,\n",
    "                            dataset_metadata=dataset_metadata,\n",
    "                            training_kwargs=training_kwargs)\n",
    "\n",
    "model_trainer.create_model()"
   ]
  },
  {
   "cell_type": "code",
   "execution_count": null,
   "metadata": {
    "papermill": {
     "duration": 0.555814,
     "end_time": "2020-05-06T03:35:38.739679",
     "exception": false,
     "start_time": "2020-05-06T03:35:38.183865",
     "status": "completed"
    },
    "tags": []
   },
   "outputs": [],
   "source": []
  }
 ],
 "metadata": {
  "kernelspec": {
   "display_name": "Python 3",
   "language": "python",
   "name": "python3"
  },
  "language_info": {
   "codemirror_mode": {
    "name": "ipython",
    "version": 3
   },
   "file_extension": ".py",
   "mimetype": "text/x-python",
   "name": "python",
   "nbconvert_exporter": "python",
   "pygments_lexer": "ipython3",
   "version": "3.6.8"
  },
  "papermill": {
   "duration": 28544.680036,
   "end_time": "2020-05-06T03:35:43.198771",
   "environment_variables": {},
   "exception": null,
   "input_path": "/notebooks/papermill/Papermill - Nuclear Accuracy - Proper Split.ipynb",
   "output_path": "/notebooks/05042020/nuclear_2_1_mobilenetv2_retinamask_training_notebook.ipynb",
   "parameters": {
    "backbone": "mobilenetv2",
    "batch_size": 4,
    "dataset_fraction": 1,
    "date": "05042020",
    "filename": "nuclear_2_1_mobilenetv2_retinamask",
    "model_type": "retinamask",
    "n_epochs": 16,
    "train_permutation_seed": 2
   },
   "start_time": "2020-05-05T19:39:58.518735",
   "version": "1.2.1"
  }
 },
 "nbformat": 4,
 "nbformat_minor": 2
}