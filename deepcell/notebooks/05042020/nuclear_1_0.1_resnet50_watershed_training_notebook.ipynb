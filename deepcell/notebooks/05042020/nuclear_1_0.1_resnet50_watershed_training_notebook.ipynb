{
 "cells": [
  {
   "cell_type": "markdown",
   "metadata": {
    "papermill": {
     "duration": 0.014206,
     "end_time": "2020-05-05T09:01:38.185012",
     "exception": false,
     "start_time": "2020-05-05T09:01:38.170806",
     "status": "completed"
    },
    "tags": []
   },
   "source": [
    "# General nuclear segmentation training notebook\n",
    "\n",
    "This notebook trains a model to perform nuclear segmentation of fluorescent microscopy images."
   ]
  },
  {
   "cell_type": "markdown",
   "metadata": {
    "papermill": {
     "duration": 0.012501,
     "end_time": "2020-05-05T09:01:38.214252",
     "exception": false,
     "start_time": "2020-05-05T09:01:38.201751",
     "status": "completed"
    },
    "tags": []
   },
   "source": [
    "## Part 1: Import relevant python packages\n",
    "\n",
    "This section imports python packages that are used throughout the notebook and defines parameters that can be used with papermill"
   ]
  },
  {
   "cell_type": "code",
   "execution_count": 1,
   "metadata": {
    "papermill": {
     "duration": 2.939214,
     "end_time": "2020-05-05T09:01:41.166486",
     "exception": false,
     "start_time": "2020-05-05T09:01:38.227272",
     "status": "completed"
    },
    "tags": []
   },
   "outputs": [],
   "source": [
    "import os\n",
    "import errno\n",
    "\n",
    "import numpy as np\n",
    "\n",
    "import tensorflow as tf\n",
    "gpus = tf.config.experimental.list_physical_devices('GPU')\n",
    "for gpu in gpus:\n",
    "      tf.config.experimental.set_memory_growth(gpu, True)\n",
    "        \n",
    "import deepcell"
   ]
  },
  {
   "cell_type": "code",
   "execution_count": 2,
   "metadata": {
    "papermill": {
     "duration": 0.021742,
     "end_time": "2020-05-05T09:01:41.201418",
     "exception": false,
     "start_time": "2020-05-05T09:01:41.179676",
     "status": "completed"
    },
    "tags": [
     "parameters"
    ]
   },
   "outputs": [],
   "source": [
    "# Define parameters that can be set with papermill\n",
    "backbone = 'resnet50'\n",
    "dataset_name='general_nuclear'\n",
    "n_epochs = 8\n",
    "date = '04242020'\n",
    "dataset_fraction = .01\n",
    "train_test_seed = 0\n",
    "train_permutation_seed = 0\n",
    "train_val_seed=314\n",
    "model_type = 'watershed'\n",
    "batch_size = 4 if model_type == 'retinamask' else 16"
   ]
  },
  {
   "cell_type": "code",
   "execution_count": 3,
   "metadata": {
    "papermill": {
     "duration": 0.021166,
     "end_time": "2020-05-05T09:01:41.235394",
     "exception": false,
     "start_time": "2020-05-05T09:01:41.214228",
     "status": "completed"
    },
    "tags": [
     "injected-parameters"
    ]
   },
   "outputs": [],
   "source": [
    "# Parameters\n",
    "n_epochs = 16\n",
    "batch_size = 16\n",
    "date = \"05042020\"\n",
    "filename = \"nuclear_1_0.1_resnet50_watershed\"\n",
    "train_permutation_seed = 1\n",
    "dataset_fraction = 0.1\n",
    "backbone = \"resnet50\"\n",
    "model_type = \"watershed\"\n"
   ]
  },
  {
   "cell_type": "markdown",
   "metadata": {
    "papermill": {
     "duration": 0.012604,
     "end_time": "2020-05-05T09:01:41.260716",
     "exception": false,
     "start_time": "2020-05-05T09:01:41.248112",
     "status": "completed"
    },
    "tags": []
   },
   "source": [
    "## Part 2: Load training data and create data generators\n",
    "\n",
    "Data generators augment data and feed it into the model training process. Here, we define the generators that will be used to train our segmentation model."
   ]
  },
  {
   "cell_type": "code",
   "execution_count": 4,
   "metadata": {
    "papermill": {
     "duration": 65.576753,
     "end_time": "2020-05-05T09:02:46.850365",
     "exception": false,
     "start_time": "2020-05-05T09:01:41.273612",
     "status": "completed"
    },
    "scrolled": false,
    "tags": []
   },
   "outputs": [
    {
     "name": "stdout",
     "output_type": "stream",
     "text": [
      "(180, 40, 216, 256, 1) (180, 40, 216, 256, 1)\n"
     ]
    },
    {
     "name": "stdout",
     "output_type": "stream",
     "text": [
      "(259, 30, 135, 160, 1) (259, 30, 135, 160, 1)\n"
     ]
    },
    {
     "name": "stdout",
     "output_type": "stream",
     "text": [
      "(240, 30, 154, 182, 1) (240, 30, 154, 182, 1)\n"
     ]
    },
    {
     "name": "stdout",
     "output_type": "stream",
     "text": [
      "(124, 30, 202, 240, 1) (124, 30, 202, 240, 1)\n"
     ]
    },
    {
     "name": "stdout",
     "output_type": "stream",
     "text": [
      "Reshaped feature data from (12, 40, 216, 256, 1) to (48, 40, 128, 128, 1)\n",
      "Reshaped training data from (12, 40, 216, 256, 1) to (48, 40, 128, 128, 1)\n"
     ]
    },
    {
     "name": "stdout",
     "output_type": "stream",
     "text": [
      "Reshaped feature data from (10, 30, 135, 160, 1) to (40, 30, 128, 128, 1)\n",
      "Reshaped training data from (10, 30, 135, 160, 1) to (40, 30, 128, 128, 1)\n"
     ]
    },
    {
     "name": "stdout",
     "output_type": "stream",
     "text": [
      "Reshaped feature data from (20, 30, 154, 182, 1) to (80, 30, 128, 128, 1)\n",
      "Reshaped training data from (20, 30, 154, 182, 1) to (80, 30, 128, 128, 1)\n"
     ]
    },
    {
     "name": "stdout",
     "output_type": "stream",
     "text": [
      "Reshaped feature data from (10, 30, 202, 240, 1) to (40, 30, 128, 128, 1)\n",
      "Reshaped training data from (10, 30, 202, 240, 1) to (40, 30, 128, 128, 1)\n"
     ]
    },
    {
     "name": "stdout",
     "output_type": "stream",
     "text": [
      "Reshaped feature data from (2, 40, 216, 256, 1) to (8, 40, 128, 128, 1)\n",
      "Reshaped training data from (2, 40, 216, 256, 1) to (8, 40, 128, 128, 1)\n"
     ]
    },
    {
     "name": "stdout",
     "output_type": "stream",
     "text": [
      "Reshaped feature data from (6, 30, 135, 160, 1) to (24, 30, 128, 128, 1)\n",
      "Reshaped training data from (6, 30, 135, 160, 1) to (24, 30, 128, 128, 1)\n"
     ]
    },
    {
     "name": "stdout",
     "output_type": "stream",
     "text": [
      "Reshaped feature data from (3, 30, 154, 182, 1) to (12, 30, 128, 128, 1)\n",
      "Reshaped training data from (3, 30, 154, 182, 1) to (12, 30, 128, 128, 1)\n",
      "Reshaped feature data from (1, 30, 202, 240, 1) to (4, 30, 128, 128, 1)\n",
      "Reshaped training data from (1, 30, 202, 240, 1) to (4, 30, 128, 128, 1)\n"
     ]
    },
    {
     "name": "stdout",
     "output_type": "stream",
     "text": [
      "Reshaped feature data from (36, 40, 128, 128, 1) to (36, 40, 128, 128, 1)\n",
      "Reshaped training data from (36, 40, 128, 128, 1) to (36, 40, 128, 128, 1)\n"
     ]
    },
    {
     "name": "stdout",
     "output_type": "stream",
     "text": [
      "Reshaped feature data from (52, 30, 128, 128, 1) to (52, 30, 128, 128, 1)\n",
      "Reshaped training data from (52, 30, 128, 128, 1) to (52, 30, 128, 128, 1)\n"
     ]
    },
    {
     "name": "stdout",
     "output_type": "stream",
     "text": [
      "Reshaped feature data from (48, 30, 128, 128, 1) to (48, 30, 128, 128, 1)\n",
      "Reshaped training data from (48, 30, 128, 128, 1) to (48, 30, 128, 128, 1)\n"
     ]
    },
    {
     "name": "stdout",
     "output_type": "stream",
     "text": [
      "Reshaped feature data from (25, 30, 202, 240, 1) to (100, 30, 128, 128, 1)\n",
      "Reshaped training data from (25, 30, 202, 240, 1) to (100, 30, 128, 128, 1)\n"
     ]
    },
    {
     "name": "stdout",
     "output_type": "stream",
     "text": [
      "(6720, 128, 128, 1) (6720, 128, 128, 1) (1520, 128, 128, 1) (1520, 128, 128, 1)\n",
      "Number of training tracks 740\n",
      "Number of validation tracks 206\n",
      "Number of testing tracks 1925\n",
      "Number of training cells 17610\n",
      "Number of validation cells 4698\n",
      "Number of testing cells 42731\n"
     ]
    }
   ],
   "source": [
    "from deepcell.utils.data_utils import get_data, reshape_movie\n",
    "from deepcell import image_generators\n",
    "from deepcell.utils import train_utils\n",
    "from sklearn.model_selection import train_test_split\n",
    "from deepcell_tracking.utils import load_trks\n",
    "\n",
    "# Helper function - get unique tracks\n",
    "def get_n_tracks(array):\n",
    "    # array with dims (batch, time, x, y, c)\n",
    "    n_tracks = 0\n",
    "    for b in array:\n",
    "        n_tracks += len(np.unique(b)) - 1\n",
    "    return n_tracks\n",
    "\n",
    "# Helper function - get unique cells\n",
    "def get_n_cells(array):\n",
    "    # array with dims (batch, time, x, y, c)\n",
    "    n_cells = 0\n",
    "    for b in array:\n",
    "        for t in b:\n",
    "            n_cells += len(np.unique(t)) - 1\n",
    "    return n_cells\n",
    "\n",
    "# Helper function - convert indices\n",
    "def convert_indices(indices, X_list):\n",
    "    N_batches = np.array([x.shape[0] for x in X_list])\n",
    "    N_cumsum = np.cumsum(N_batches)\n",
    "    converted_index = []\n",
    "    for i in range(len(X_list)):\n",
    "        if i==0:\n",
    "            i_index = indices[indices < N_cumsum[i]]\n",
    "            converted_index.append(i_index)\n",
    "        else:\n",
    "            i_index = indices[np.logical_and(indices < N_cumsum[i], indices >= N_cumsum[i-1])] - N_cumsum[i-1]\n",
    "            converted_index.append(i_index)    \n",
    "    return converted_index\n",
    "\n",
    "# Helper function - reshape movies\n",
    "def reshape_list_of_movies(X_list, y_list, reshape_size=128, crop=False):\n",
    "    X_reshape = []\n",
    "    y_reshape = []\n",
    "    for Xl, yl in zip(X_list, y_list):\n",
    "        Xr, yr = reshape_movie(Xl, yl, reshape_size=reshape_size)\n",
    "        Xr = Xr.reshape((-1, reshape_size, reshape_size, Xr.shape[-1]))\n",
    "        yr = yr.reshape((-1, reshape_size, reshape_size, yr.shape[-1]))\n",
    "        X_reshape.append(Xr)\n",
    "        y_reshape.append(yr)\n",
    "    X_reshape = np.concatenate(X_reshape, axis=0)\n",
    "    y_reshape = np.concatenate(y_reshape, axis=0)\n",
    "    \n",
    "    return X_reshape, y_reshape\n",
    "\n",
    "# Load datasets \n",
    "dataset_direc = '/data/training_data/'\n",
    "\n",
    "hela_filename = 'HeLa_S3.trks'\n",
    "hek_filename = 'HEK293.trks'\n",
    "nih_filename = '3T3_NIH.trks'\n",
    "raw_filename = 'RAW2647.trks'\n",
    "\n",
    "filenames = [hela_filename, hek_filename, nih_filename, raw_filename]\n",
    "\n",
    "X_train = []\n",
    "y_train = []\n",
    "\n",
    "X_test = []\n",
    "y_test = []\n",
    "\n",
    "for filename in filenames:\n",
    "    path = os.path.join(dataset_direc, filename)\n",
    "    training_data = load_trks(path)\n",
    "    X = training_data['X']\n",
    "    y = training_data['y']\n",
    "    \n",
    "    print(X.shape, y.shape)\n",
    "    \n",
    "    # Split into training and testing dataset\n",
    "    Xt, Xtest, yt, ytest = train_test_split(X, y, test_size=0.2, random_state=train_test_seed)\n",
    "    \n",
    "    # Crop test dataset\n",
    "    X_test = [arr[:,:,0:128,0:128,:] for arr in X_test]\n",
    "    y_test = [arr[:,:,0:128,0:128,:] for arr in y_test]\n",
    "    \n",
    "    X_train.append(Xt)\n",
    "    y_train.append(yt)\n",
    "    X_test.append(Xtest)\n",
    "    y_test.append(ytest)\n",
    "    \n",
    "# Select subset of the training data\n",
    "N_batches = sum([x.shape[0] for x in X_train])\n",
    "index = np.arange(N_batches)\n",
    "dataset_size = int(dataset_fraction * N_batches)\n",
    "permuted_index = np.random.RandomState(seed=train_permutation_seed).permutation(index)\n",
    "reduced_index = permuted_index[0:dataset_size]\n",
    "converted_index = convert_indices(reduced_index, X_train)\n",
    "\n",
    "X_reduced = [x[ci] for x, ci in zip(X_train, converted_index)]\n",
    "y_reduced = [y[ci] for y, ci in zip(y_train, converted_index)]\n",
    "\n",
    "# Split into training and validation datasets\n",
    "N_batches = sum([x.shape[0] for x in X_reduced])\n",
    "index = np.arange(N_batches)\n",
    "val_size = int(0.2 * N_batches)\n",
    "permuted_index = np.random.RandomState(seed=train_val_seed).permutation(index)\n",
    "val_index = permuted_index[0:val_size]\n",
    "train_index = permuted_index[val_size:]\n",
    "\n",
    "val_ci = convert_indices(val_index, X_reduced)\n",
    "train_ci = convert_indices(train_index, X_reduced)\n",
    "\n",
    "X_train = [x[ci] for x, ci in zip(X_reduced, train_ci)]\n",
    "y_train = [y[ci] for y, ci in zip(y_reduced, train_ci)]\n",
    "\n",
    "X_val = [x[ci] for x, ci in zip(X_reduced, val_ci)]\n",
    "y_val = [y[ci] for y, ci in zip(y_reduced, val_ci)]\n",
    "    \n",
    "# Record the number of tracks and cells\n",
    "n_tracks_train = sum([get_n_tracks(y) for y in y_train])\n",
    "n_tracks_val = sum([get_n_tracks(y) for y in y_val])\n",
    "n_tracks_test = sum([get_n_tracks(y) for y in y_test])\n",
    "\n",
    "n_cells_train = sum([get_n_cells(y) for y in y_train])\n",
    "n_cells_val = sum([get_n_cells(y) for y in y_val])\n",
    "n_cells_test = sum([get_n_cells(y) for y in y_test])\n",
    "    \n",
    "# Reshape the datasets\n",
    "X_train, y_train = reshape_list_of_movies(X_train, y_train)\n",
    "X_val, y_val = reshape_list_of_movies(X_val, y_val)\n",
    "X_test, y_test = reshape_list_of_movies(X_test, y_test)\n",
    "\n",
    "train_dict = {'X':X_train, 'y':y_train}\n",
    "val_dict = {'X':X_val, 'y':y_val}\n",
    "test_dict = {'X':X_test, 'y':y_test}\n",
    "\n",
    "print(X_train.shape, y_train.shape, X_val.shape, y_val.shape)\n",
    "print('Number of training tracks {}'.format(n_tracks_train))\n",
    "print('Number of validation tracks {}'.format(n_tracks_val))\n",
    "print('Number of testing tracks {}'.format(n_tracks_test))\n",
    "\n",
    "print('Number of training cells {}'.format(n_cells_train))\n",
    "print('Number of validation cells {}'.format(n_cells_val))\n",
    "print('Number of testing cells {}'.format(n_cells_test))"
   ]
  },
  {
   "cell_type": "code",
   "execution_count": 5,
   "metadata": {
    "papermill": {
     "duration": 67.907607,
     "end_time": "2020-05-05T09:03:54.777984",
     "exception": false,
     "start_time": "2020-05-05T09:02:46.870377",
     "status": "completed"
    },
    "tags": []
   },
   "outputs": [],
   "source": [
    "from deepcell.utils.retinanet_anchor_utils import generate_anchor_params\n",
    "from tensorflow.python.keras import backend as K\n",
    "\n",
    "# Get anchor settings for RetinaMask models\n",
    "pyramid_levels = ['P3', 'P4']\n",
    "anchor_size_dict = {'P3':16, 'P4':32}\n",
    "anchor_params = generate_anchor_params(pyramid_levels, anchor_size_dict)\n",
    "\n",
    "# Data augmentation parameters\n",
    "generator_kwargs = {}\n",
    "generator_kwargs['rotation_range'] = 180\n",
    "generator_kwargs['shear_range'] = 0\n",
    "generator_kwargs['zoom_range'] = 0.25\n",
    "generator_kwargs['horizontal_flip'] = True\n",
    "generator_kwargs['vertical_flip'] = True\n",
    "\n",
    "generator_val_kwargs = {}\n",
    "generator_val_kwargs['rotation_range'] = 0\n",
    "generator_val_kwargs['shear_range'] = 0\n",
    "generator_val_kwargs['zoom_range'] = 0\n",
    "generator_val_kwargs['horizontal_flip'] = False\n",
    "generator_val_kwargs['vertical_flip'] = False\n",
    "\n",
    "# Minimum number of objects in an image\n",
    "min_objects = 3 if model_type == 'retinamask' else 0\n",
    "\n",
    "# Random seed\n",
    "seed=808\n",
    "\n",
    "if model_type == 'watershed':\n",
    "    datagen = image_generators.SemanticDataGenerator(**generator_kwargs)\n",
    "    datagen_val = image_generators.SemanticDataGenerator(**generator_val_kwargs)\n",
    "    \n",
    "    train_data = datagen.flow(\n",
    "        train_dict,\n",
    "        seed=seed,\n",
    "        transforms=['centroid', 'watershed-cont', 'fgbg'],\n",
    "        transforms_kwargs={'watershed-cont': {'erosion_width': 1}, 'centroid': {'alpha':'auto', 'beta':0.5}},\n",
    "        min_objects=min_objects,\n",
    "        batch_size=batch_size)\n",
    "\n",
    "    val_data = datagen_val.flow(\n",
    "        val_dict,\n",
    "        seed=seed,\n",
    "        transforms=['centroid', 'watershed-cont', 'fgbg'],\n",
    "        transforms_kwargs={'watershed-cont': {'erosion_width': 1}, 'centroid': {'alpha':'auto', 'beta':0.5}},\n",
    "        min_objects=min_objects,\n",
    "        batch_size=batch_size)\n",
    "    \n",
    "elif model_type == 'pixelwise':\n",
    "    datagen = image_generators.SemanticDataGenerator(**generator_kwargs)\n",
    "    datagen_val = image_generators.SemanticDataGenerator(**generator_val_kwargs)\n",
    "    \n",
    "    train_data = datagen.flow(\n",
    "        train_dict,\n",
    "        seed=seed,\n",
    "        transforms=['pixelwise'],\n",
    "        transforms_kwargs={},\n",
    "        min_objects=min_objects,\n",
    "        batch_size=batch_size)\n",
    "\n",
    "    val_data = datagen_val.flow(\n",
    "        val_dict,\n",
    "        seed=seed,\n",
    "        transforms=['pixelwise'],\n",
    "        transforms_kwargs={},\n",
    "        min_objects=min_objects,\n",
    "        batch_size=batch_size)\n",
    "\n",
    "elif model_type == 'retinamask':\n",
    "    datagen = image_generators.RetinaNetGenerator(**generator_kwargs)\n",
    "    datagen_val = image_generators.RetinaNetGenerator(**generator_val_kwargs)\n",
    "    \n",
    "    train_data = datagen.flow(\n",
    "        train_dict=train_dict,\n",
    "        seed=seed,\n",
    "        transforms=[],\n",
    "        transforms_kwargs={},\n",
    "        min_objects=min_objects,\n",
    "        batch_size=batch_size,\n",
    "        anchor_params=anchor_params,\n",
    "        pyramid_levels=pyramid_levels,\n",
    "        include_masks=True)\n",
    "    \n",
    "    val_data = datagen_val.flow(\n",
    "        train_dict=val_dict,\n",
    "        seed=seed,\n",
    "        transforms=[],\n",
    "        transforms_kwargs={},\n",
    "        min_objects=min_objects,\n",
    "        batch_size=batch_size,\n",
    "        anchor_params=anchor_params,\n",
    "        pyramid_levels=pyramid_levels,\n",
    "        include_masks=True)\n",
    "    "
   ]
  },
  {
   "cell_type": "markdown",
   "metadata": {
    "papermill": {
     "duration": 0.018984,
     "end_time": "2020-05-05T09:03:54.816343",
     "exception": false,
     "start_time": "2020-05-05T09:03:54.797359",
     "status": "completed"
    },
    "tags": []
   },
   "source": [
    "## Part 3: Define model\n",
    "\n",
    "Here we define a PanopticNet to perform the image segmentation. This model will predict the inner distance and outer distance transform (as done in ), as well as the foreground-background transform."
   ]
  },
  {
   "cell_type": "code",
   "execution_count": 6,
   "metadata": {
    "papermill": {
     "duration": 31.268896,
     "end_time": "2020-05-05T09:04:26.125423",
     "exception": false,
     "start_time": "2020-05-05T09:03:54.856527",
     "status": "completed"
    },
    "scrolled": true,
    "tags": []
   },
   "outputs": [
    {
     "name": "stderr",
     "output_type": "stream",
     "text": [
      "WARNING: Logging before flag parsing goes to stderr.\n",
      "W0505 09:03:54.929537 140459842635584 deprecation.py:506] From /usr/local/lib/python3.6/dist-packages/tensorflow/python/ops/init_ops.py:1251: calling VarianceScaling.__init__ (from tensorflow.python.ops.init_ops) with dtype is deprecated and will be removed in a future version.\n",
      "Instructions for updating:\n",
      "Call initializer instance with the dtype argument instead of passing it to the constructor\n"
     ]
    },
    {
     "name": "stdout",
     "output_type": "stream",
     "text": [
      "Model: \"panopticnet\"\n",
      "__________________________________________________________________________________________________\n",
      "Layer (type)                    Output Shape         Param #     Connected to                     \n",
      "==================================================================================================\n",
      "input_0 (InputLayer)            [(None, 128, 128, 1) 0                                            \n",
      "__________________________________________________________________________________________________\n",
      "norm (ImageNormalization2D)     (None, 128, 128, 1)  0           input_0[0][0]                    \n",
      "__________________________________________________________________________________________________\n",
      "conv_channels (Conv2D)          (None, 128, 128, 3)  6           norm[0][0]                       \n",
      "__________________________________________________________________________________________________\n",
      "conv1_pad (ZeroPadding2D)       (None, 134, 134, 3)  0           conv_channels[0][0]              \n",
      "__________________________________________________________________________________________________\n",
      "conv1_conv (Conv2D)             (None, 64, 64, 64)   9472        conv1_pad[0][0]                  \n",
      "__________________________________________________________________________________________________\n",
      "conv1_bn (BatchNormalization)   (None, 64, 64, 64)   256         conv1_conv[0][0]                 \n",
      "__________________________________________________________________________________________________\n",
      "conv1_relu (Activation)         (None, 64, 64, 64)   0           conv1_bn[0][0]                   \n",
      "__________________________________________________________________________________________________\n",
      "pool1_pad (ZeroPadding2D)       (None, 66, 66, 64)   0           conv1_relu[0][0]                 \n",
      "__________________________________________________________________________________________________\n",
      "pool1_pool (MaxPooling2D)       (None, 32, 32, 64)   0           pool1_pad[0][0]                  \n",
      "__________________________________________________________________________________________________\n",
      "conv2_block1_1_conv (Conv2D)    (None, 32, 32, 64)   4160        pool1_pool[0][0]                 \n",
      "__________________________________________________________________________________________________\n",
      "conv2_block1_1_bn (BatchNormali (None, 32, 32, 64)   256         conv2_block1_1_conv[0][0]        \n",
      "__________________________________________________________________________________________________\n",
      "conv2_block1_1_relu (Activation (None, 32, 32, 64)   0           conv2_block1_1_bn[0][0]          \n",
      "__________________________________________________________________________________________________\n",
      "conv2_block1_2_conv (Conv2D)    (None, 32, 32, 64)   36928       conv2_block1_1_relu[0][0]        \n",
      "__________________________________________________________________________________________________\n",
      "conv2_block1_2_bn (BatchNormali (None, 32, 32, 64)   256         conv2_block1_2_conv[0][0]        \n",
      "__________________________________________________________________________________________________\n",
      "conv2_block1_2_relu (Activation (None, 32, 32, 64)   0           conv2_block1_2_bn[0][0]          \n",
      "__________________________________________________________________________________________________\n",
      "conv2_block1_0_conv (Conv2D)    (None, 32, 32, 256)  16640       pool1_pool[0][0]                 \n",
      "__________________________________________________________________________________________________\n",
      "conv2_block1_3_conv (Conv2D)    (None, 32, 32, 256)  16640       conv2_block1_2_relu[0][0]        \n",
      "__________________________________________________________________________________________________\n",
      "conv2_block1_0_bn (BatchNormali (None, 32, 32, 256)  1024        conv2_block1_0_conv[0][0]        \n",
      "__________________________________________________________________________________________________\n",
      "conv2_block1_3_bn (BatchNormali (None, 32, 32, 256)  1024        conv2_block1_3_conv[0][0]        \n",
      "__________________________________________________________________________________________________\n",
      "conv2_block1_add (Add)          (None, 32, 32, 256)  0           conv2_block1_0_bn[0][0]          \n",
      "                                                                 conv2_block1_3_bn[0][0]          \n",
      "__________________________________________________________________________________________________\n",
      "conv2_block1_out (Activation)   (None, 32, 32, 256)  0           conv2_block1_add[0][0]           \n",
      "__________________________________________________________________________________________________\n",
      "conv2_block2_1_conv (Conv2D)    (None, 32, 32, 64)   16448       conv2_block1_out[0][0]           \n",
      "__________________________________________________________________________________________________\n",
      "conv2_block2_1_bn (BatchNormali (None, 32, 32, 64)   256         conv2_block2_1_conv[0][0]        \n",
      "__________________________________________________________________________________________________\n",
      "conv2_block2_1_relu (Activation (None, 32, 32, 64)   0           conv2_block2_1_bn[0][0]          \n",
      "__________________________________________________________________________________________________\n",
      "conv2_block2_2_conv (Conv2D)    (None, 32, 32, 64)   36928       conv2_block2_1_relu[0][0]        \n",
      "__________________________________________________________________________________________________\n",
      "conv2_block2_2_bn (BatchNormali (None, 32, 32, 64)   256         conv2_block2_2_conv[0][0]        \n",
      "__________________________________________________________________________________________________\n",
      "conv2_block2_2_relu (Activation (None, 32, 32, 64)   0           conv2_block2_2_bn[0][0]          \n",
      "__________________________________________________________________________________________________\n",
      "conv2_block2_3_conv (Conv2D)    (None, 32, 32, 256)  16640       conv2_block2_2_relu[0][0]        \n",
      "__________________________________________________________________________________________________\n",
      "conv2_block2_3_bn (BatchNormali (None, 32, 32, 256)  1024        conv2_block2_3_conv[0][0]        \n",
      "__________________________________________________________________________________________________\n",
      "conv2_block2_add (Add)          (None, 32, 32, 256)  0           conv2_block1_out[0][0]           \n",
      "                                                                 conv2_block2_3_bn[0][0]          \n",
      "__________________________________________________________________________________________________\n",
      "conv2_block2_out (Activation)   (None, 32, 32, 256)  0           conv2_block2_add[0][0]           \n",
      "__________________________________________________________________________________________________\n",
      "conv2_block3_1_conv (Conv2D)    (None, 32, 32, 64)   16448       conv2_block2_out[0][0]           \n",
      "__________________________________________________________________________________________________\n",
      "conv2_block3_1_bn (BatchNormali (None, 32, 32, 64)   256         conv2_block3_1_conv[0][0]        \n",
      "__________________________________________________________________________________________________\n",
      "conv2_block3_1_relu (Activation (None, 32, 32, 64)   0           conv2_block3_1_bn[0][0]          \n",
      "__________________________________________________________________________________________________\n",
      "conv2_block3_2_conv (Conv2D)    (None, 32, 32, 64)   36928       conv2_block3_1_relu[0][0]        \n",
      "__________________________________________________________________________________________________\n",
      "conv2_block3_2_bn (BatchNormali (None, 32, 32, 64)   256         conv2_block3_2_conv[0][0]        \n",
      "__________________________________________________________________________________________________\n",
      "conv2_block3_2_relu (Activation (None, 32, 32, 64)   0           conv2_block3_2_bn[0][0]          \n",
      "__________________________________________________________________________________________________\n",
      "conv2_block3_3_conv (Conv2D)    (None, 32, 32, 256)  16640       conv2_block3_2_relu[0][0]        \n",
      "__________________________________________________________________________________________________\n",
      "conv2_block3_3_bn (BatchNormali (None, 32, 32, 256)  1024        conv2_block3_3_conv[0][0]        \n",
      "__________________________________________________________________________________________________\n",
      "conv2_block3_add (Add)          (None, 32, 32, 256)  0           conv2_block2_out[0][0]           \n",
      "                                                                 conv2_block3_3_bn[0][0]          \n",
      "__________________________________________________________________________________________________\n",
      "conv2_block3_out (Activation)   (None, 32, 32, 256)  0           conv2_block3_add[0][0]           \n",
      "__________________________________________________________________________________________________\n",
      "conv3_block1_1_conv (Conv2D)    (None, 16, 16, 128)  32896       conv2_block3_out[0][0]           \n",
      "__________________________________________________________________________________________________\n",
      "conv3_block1_1_bn (BatchNormali (None, 16, 16, 128)  512         conv3_block1_1_conv[0][0]        \n",
      "__________________________________________________________________________________________________\n",
      "conv3_block1_1_relu (Activation (None, 16, 16, 128)  0           conv3_block1_1_bn[0][0]          \n",
      "__________________________________________________________________________________________________\n",
      "conv3_block1_2_conv (Conv2D)    (None, 16, 16, 128)  147584      conv3_block1_1_relu[0][0]        \n",
      "__________________________________________________________________________________________________\n",
      "conv3_block1_2_bn (BatchNormali (None, 16, 16, 128)  512         conv3_block1_2_conv[0][0]        \n",
      "__________________________________________________________________________________________________\n",
      "conv3_block1_2_relu (Activation (None, 16, 16, 128)  0           conv3_block1_2_bn[0][0]          \n",
      "__________________________________________________________________________________________________\n",
      "conv3_block1_0_conv (Conv2D)    (None, 16, 16, 512)  131584      conv2_block3_out[0][0]           \n",
      "__________________________________________________________________________________________________\n",
      "conv3_block1_3_conv (Conv2D)    (None, 16, 16, 512)  66048       conv3_block1_2_relu[0][0]        \n",
      "__________________________________________________________________________________________________\n",
      "conv3_block1_0_bn (BatchNormali (None, 16, 16, 512)  2048        conv3_block1_0_conv[0][0]        \n",
      "__________________________________________________________________________________________________\n",
      "conv3_block1_3_bn (BatchNormali (None, 16, 16, 512)  2048        conv3_block1_3_conv[0][0]        \n",
      "__________________________________________________________________________________________________\n",
      "conv3_block1_add (Add)          (None, 16, 16, 512)  0           conv3_block1_0_bn[0][0]          \n",
      "                                                                 conv3_block1_3_bn[0][0]          \n",
      "__________________________________________________________________________________________________\n",
      "conv3_block1_out (Activation)   (None, 16, 16, 512)  0           conv3_block1_add[0][0]           \n",
      "__________________________________________________________________________________________________\n",
      "conv3_block2_1_conv (Conv2D)    (None, 16, 16, 128)  65664       conv3_block1_out[0][0]           \n",
      "__________________________________________________________________________________________________\n",
      "conv3_block2_1_bn (BatchNormali (None, 16, 16, 128)  512         conv3_block2_1_conv[0][0]        \n",
      "__________________________________________________________________________________________________\n",
      "conv3_block2_1_relu (Activation (None, 16, 16, 128)  0           conv3_block2_1_bn[0][0]          \n",
      "__________________________________________________________________________________________________\n",
      "conv3_block2_2_conv (Conv2D)    (None, 16, 16, 128)  147584      conv3_block2_1_relu[0][0]        \n",
      "__________________________________________________________________________________________________\n",
      "conv3_block2_2_bn (BatchNormali (None, 16, 16, 128)  512         conv3_block2_2_conv[0][0]        \n",
      "__________________________________________________________________________________________________\n",
      "conv3_block2_2_relu (Activation (None, 16, 16, 128)  0           conv3_block2_2_bn[0][0]          \n",
      "__________________________________________________________________________________________________\n",
      "conv3_block2_3_conv (Conv2D)    (None, 16, 16, 512)  66048       conv3_block2_2_relu[0][0]        \n",
      "__________________________________________________________________________________________________\n",
      "conv3_block2_3_bn (BatchNormali (None, 16, 16, 512)  2048        conv3_block2_3_conv[0][0]        \n",
      "__________________________________________________________________________________________________\n",
      "conv3_block2_add (Add)          (None, 16, 16, 512)  0           conv3_block1_out[0][0]           \n",
      "                                                                 conv3_block2_3_bn[0][0]          \n",
      "__________________________________________________________________________________________________\n",
      "conv3_block2_out (Activation)   (None, 16, 16, 512)  0           conv3_block2_add[0][0]           \n",
      "__________________________________________________________________________________________________\n",
      "conv3_block3_1_conv (Conv2D)    (None, 16, 16, 128)  65664       conv3_block2_out[0][0]           \n",
      "__________________________________________________________________________________________________\n",
      "conv3_block3_1_bn (BatchNormali (None, 16, 16, 128)  512         conv3_block3_1_conv[0][0]        \n",
      "__________________________________________________________________________________________________\n",
      "conv3_block3_1_relu (Activation (None, 16, 16, 128)  0           conv3_block3_1_bn[0][0]          \n",
      "__________________________________________________________________________________________________\n",
      "conv3_block3_2_conv (Conv2D)    (None, 16, 16, 128)  147584      conv3_block3_1_relu[0][0]        \n",
      "__________________________________________________________________________________________________\n",
      "conv3_block3_2_bn (BatchNormali (None, 16, 16, 128)  512         conv3_block3_2_conv[0][0]        \n",
      "__________________________________________________________________________________________________\n",
      "conv3_block3_2_relu (Activation (None, 16, 16, 128)  0           conv3_block3_2_bn[0][0]          \n",
      "__________________________________________________________________________________________________\n",
      "conv3_block3_3_conv (Conv2D)    (None, 16, 16, 512)  66048       conv3_block3_2_relu[0][0]        \n",
      "__________________________________________________________________________________________________\n",
      "conv3_block3_3_bn (BatchNormali (None, 16, 16, 512)  2048        conv3_block3_3_conv[0][0]        \n",
      "__________________________________________________________________________________________________\n",
      "conv3_block3_add (Add)          (None, 16, 16, 512)  0           conv3_block2_out[0][0]           \n",
      "                                                                 conv3_block3_3_bn[0][0]          \n",
      "__________________________________________________________________________________________________\n",
      "conv3_block3_out (Activation)   (None, 16, 16, 512)  0           conv3_block3_add[0][0]           \n",
      "__________________________________________________________________________________________________\n",
      "conv3_block4_1_conv (Conv2D)    (None, 16, 16, 128)  65664       conv3_block3_out[0][0]           \n",
      "__________________________________________________________________________________________________\n",
      "conv3_block4_1_bn (BatchNormali (None, 16, 16, 128)  512         conv3_block4_1_conv[0][0]        \n",
      "__________________________________________________________________________________________________\n",
      "conv3_block4_1_relu (Activation (None, 16, 16, 128)  0           conv3_block4_1_bn[0][0]          \n",
      "__________________________________________________________________________________________________\n",
      "conv3_block4_2_conv (Conv2D)    (None, 16, 16, 128)  147584      conv3_block4_1_relu[0][0]        \n",
      "__________________________________________________________________________________________________\n",
      "conv3_block4_2_bn (BatchNormali (None, 16, 16, 128)  512         conv3_block4_2_conv[0][0]        \n",
      "__________________________________________________________________________________________________\n",
      "conv3_block4_2_relu (Activation (None, 16, 16, 128)  0           conv3_block4_2_bn[0][0]          \n",
      "__________________________________________________________________________________________________\n",
      "conv3_block4_3_conv (Conv2D)    (None, 16, 16, 512)  66048       conv3_block4_2_relu[0][0]        \n",
      "__________________________________________________________________________________________________\n",
      "conv3_block4_3_bn (BatchNormali (None, 16, 16, 512)  2048        conv3_block4_3_conv[0][0]        \n",
      "__________________________________________________________________________________________________\n",
      "conv3_block4_add (Add)          (None, 16, 16, 512)  0           conv3_block3_out[0][0]           \n",
      "                                                                 conv3_block4_3_bn[0][0]          \n",
      "__________________________________________________________________________________________________\n",
      "conv3_block4_out (Activation)   (None, 16, 16, 512)  0           conv3_block4_add[0][0]           \n",
      "__________________________________________________________________________________________________\n",
      "conv4_block1_1_conv (Conv2D)    (None, 8, 8, 256)    131328      conv3_block4_out[0][0]           \n",
      "__________________________________________________________________________________________________\n",
      "conv4_block1_1_bn (BatchNormali (None, 8, 8, 256)    1024        conv4_block1_1_conv[0][0]        \n",
      "__________________________________________________________________________________________________\n",
      "conv4_block1_1_relu (Activation (None, 8, 8, 256)    0           conv4_block1_1_bn[0][0]          \n",
      "__________________________________________________________________________________________________\n",
      "conv4_block1_2_conv (Conv2D)    (None, 8, 8, 256)    590080      conv4_block1_1_relu[0][0]        \n",
      "__________________________________________________________________________________________________\n",
      "conv4_block1_2_bn (BatchNormali (None, 8, 8, 256)    1024        conv4_block1_2_conv[0][0]        \n",
      "__________________________________________________________________________________________________\n",
      "conv4_block1_2_relu (Activation (None, 8, 8, 256)    0           conv4_block1_2_bn[0][0]          \n",
      "__________________________________________________________________________________________________\n",
      "conv4_block1_0_conv (Conv2D)    (None, 8, 8, 1024)   525312      conv3_block4_out[0][0]           \n",
      "__________________________________________________________________________________________________\n",
      "conv4_block1_3_conv (Conv2D)    (None, 8, 8, 1024)   263168      conv4_block1_2_relu[0][0]        \n",
      "__________________________________________________________________________________________________\n",
      "conv4_block1_0_bn (BatchNormali (None, 8, 8, 1024)   4096        conv4_block1_0_conv[0][0]        \n",
      "__________________________________________________________________________________________________\n",
      "conv4_block1_3_bn (BatchNormali (None, 8, 8, 1024)   4096        conv4_block1_3_conv[0][0]        \n",
      "__________________________________________________________________________________________________\n",
      "conv4_block1_add (Add)          (None, 8, 8, 1024)   0           conv4_block1_0_bn[0][0]          \n",
      "                                                                 conv4_block1_3_bn[0][0]          \n",
      "__________________________________________________________________________________________________\n",
      "conv4_block1_out (Activation)   (None, 8, 8, 1024)   0           conv4_block1_add[0][0]           \n",
      "__________________________________________________________________________________________________\n",
      "conv4_block2_1_conv (Conv2D)    (None, 8, 8, 256)    262400      conv4_block1_out[0][0]           \n",
      "__________________________________________________________________________________________________\n",
      "conv4_block2_1_bn (BatchNormali (None, 8, 8, 256)    1024        conv4_block2_1_conv[0][0]        \n",
      "__________________________________________________________________________________________________\n",
      "conv4_block2_1_relu (Activation (None, 8, 8, 256)    0           conv4_block2_1_bn[0][0]          \n",
      "__________________________________________________________________________________________________\n",
      "conv4_block2_2_conv (Conv2D)    (None, 8, 8, 256)    590080      conv4_block2_1_relu[0][0]        \n",
      "__________________________________________________________________________________________________\n",
      "conv4_block2_2_bn (BatchNormali (None, 8, 8, 256)    1024        conv4_block2_2_conv[0][0]        \n",
      "__________________________________________________________________________________________________\n",
      "conv4_block2_2_relu (Activation (None, 8, 8, 256)    0           conv4_block2_2_bn[0][0]          \n",
      "__________________________________________________________________________________________________\n",
      "conv4_block2_3_conv (Conv2D)    (None, 8, 8, 1024)   263168      conv4_block2_2_relu[0][0]        \n",
      "__________________________________________________________________________________________________\n",
      "conv4_block2_3_bn (BatchNormali (None, 8, 8, 1024)   4096        conv4_block2_3_conv[0][0]        \n",
      "__________________________________________________________________________________________________\n",
      "conv4_block2_add (Add)          (None, 8, 8, 1024)   0           conv4_block1_out[0][0]           \n",
      "                                                                 conv4_block2_3_bn[0][0]          \n",
      "__________________________________________________________________________________________________\n",
      "conv4_block2_out (Activation)   (None, 8, 8, 1024)   0           conv4_block2_add[0][0]           \n",
      "__________________________________________________________________________________________________\n",
      "conv4_block3_1_conv (Conv2D)    (None, 8, 8, 256)    262400      conv4_block2_out[0][0]           \n",
      "__________________________________________________________________________________________________\n",
      "conv4_block3_1_bn (BatchNormali (None, 8, 8, 256)    1024        conv4_block3_1_conv[0][0]        \n",
      "__________________________________________________________________________________________________\n",
      "conv4_block3_1_relu (Activation (None, 8, 8, 256)    0           conv4_block3_1_bn[0][0]          \n",
      "__________________________________________________________________________________________________\n",
      "conv4_block3_2_conv (Conv2D)    (None, 8, 8, 256)    590080      conv4_block3_1_relu[0][0]        \n",
      "__________________________________________________________________________________________________\n",
      "conv4_block3_2_bn (BatchNormali (None, 8, 8, 256)    1024        conv4_block3_2_conv[0][0]        \n",
      "__________________________________________________________________________________________________\n",
      "conv4_block3_2_relu (Activation (None, 8, 8, 256)    0           conv4_block3_2_bn[0][0]          \n",
      "__________________________________________________________________________________________________\n",
      "conv4_block3_3_conv (Conv2D)    (None, 8, 8, 1024)   263168      conv4_block3_2_relu[0][0]        \n",
      "__________________________________________________________________________________________________\n",
      "conv4_block3_3_bn (BatchNormali (None, 8, 8, 1024)   4096        conv4_block3_3_conv[0][0]        \n",
      "__________________________________________________________________________________________________\n",
      "conv4_block3_add (Add)          (None, 8, 8, 1024)   0           conv4_block2_out[0][0]           \n",
      "                                                                 conv4_block3_3_bn[0][0]          \n",
      "__________________________________________________________________________________________________\n",
      "conv4_block3_out (Activation)   (None, 8, 8, 1024)   0           conv4_block3_add[0][0]           \n",
      "__________________________________________________________________________________________________\n",
      "conv4_block4_1_conv (Conv2D)    (None, 8, 8, 256)    262400      conv4_block3_out[0][0]           \n",
      "__________________________________________________________________________________________________\n",
      "conv4_block4_1_bn (BatchNormali (None, 8, 8, 256)    1024        conv4_block4_1_conv[0][0]        \n",
      "__________________________________________________________________________________________________\n",
      "conv4_block4_1_relu (Activation (None, 8, 8, 256)    0           conv4_block4_1_bn[0][0]          \n",
      "__________________________________________________________________________________________________\n",
      "conv4_block4_2_conv (Conv2D)    (None, 8, 8, 256)    590080      conv4_block4_1_relu[0][0]        \n",
      "__________________________________________________________________________________________________\n",
      "conv4_block4_2_bn (BatchNormali (None, 8, 8, 256)    1024        conv4_block4_2_conv[0][0]        \n",
      "__________________________________________________________________________________________________\n",
      "conv4_block4_2_relu (Activation (None, 8, 8, 256)    0           conv4_block4_2_bn[0][0]          \n",
      "__________________________________________________________________________________________________\n",
      "conv4_block4_3_conv (Conv2D)    (None, 8, 8, 1024)   263168      conv4_block4_2_relu[0][0]        \n",
      "__________________________________________________________________________________________________\n",
      "conv4_block4_3_bn (BatchNormali (None, 8, 8, 1024)   4096        conv4_block4_3_conv[0][0]        \n",
      "__________________________________________________________________________________________________\n",
      "conv4_block4_add (Add)          (None, 8, 8, 1024)   0           conv4_block3_out[0][0]           \n",
      "                                                                 conv4_block4_3_bn[0][0]          \n",
      "__________________________________________________________________________________________________\n",
      "conv4_block4_out (Activation)   (None, 8, 8, 1024)   0           conv4_block4_add[0][0]           \n",
      "__________________________________________________________________________________________________\n",
      "conv4_block5_1_conv (Conv2D)    (None, 8, 8, 256)    262400      conv4_block4_out[0][0]           \n",
      "__________________________________________________________________________________________________\n",
      "conv4_block5_1_bn (BatchNormali (None, 8, 8, 256)    1024        conv4_block5_1_conv[0][0]        \n",
      "__________________________________________________________________________________________________\n",
      "conv4_block5_1_relu (Activation (None, 8, 8, 256)    0           conv4_block5_1_bn[0][0]          \n",
      "__________________________________________________________________________________________________\n",
      "conv4_block5_2_conv (Conv2D)    (None, 8, 8, 256)    590080      conv4_block5_1_relu[0][0]        \n",
      "__________________________________________________________________________________________________\n",
      "conv4_block5_2_bn (BatchNormali (None, 8, 8, 256)    1024        conv4_block5_2_conv[0][0]        \n",
      "__________________________________________________________________________________________________\n",
      "conv4_block5_2_relu (Activation (None, 8, 8, 256)    0           conv4_block5_2_bn[0][0]          \n",
      "__________________________________________________________________________________________________\n",
      "conv4_block5_3_conv (Conv2D)    (None, 8, 8, 1024)   263168      conv4_block5_2_relu[0][0]        \n",
      "__________________________________________________________________________________________________\n",
      "conv4_block5_3_bn (BatchNormali (None, 8, 8, 1024)   4096        conv4_block5_3_conv[0][0]        \n",
      "__________________________________________________________________________________________________\n",
      "conv4_block5_add (Add)          (None, 8, 8, 1024)   0           conv4_block4_out[0][0]           \n",
      "                                                                 conv4_block5_3_bn[0][0]          \n",
      "__________________________________________________________________________________________________\n",
      "conv4_block5_out (Activation)   (None, 8, 8, 1024)   0           conv4_block5_add[0][0]           \n",
      "__________________________________________________________________________________________________\n",
      "conv4_block6_1_conv (Conv2D)    (None, 8, 8, 256)    262400      conv4_block5_out[0][0]           \n",
      "__________________________________________________________________________________________________\n",
      "conv4_block6_1_bn (BatchNormali (None, 8, 8, 256)    1024        conv4_block6_1_conv[0][0]        \n",
      "__________________________________________________________________________________________________\n",
      "conv4_block6_1_relu (Activation (None, 8, 8, 256)    0           conv4_block6_1_bn[0][0]          \n",
      "__________________________________________________________________________________________________\n",
      "conv4_block6_2_conv (Conv2D)    (None, 8, 8, 256)    590080      conv4_block6_1_relu[0][0]        \n",
      "__________________________________________________________________________________________________\n",
      "conv4_block6_2_bn (BatchNormali (None, 8, 8, 256)    1024        conv4_block6_2_conv[0][0]        \n",
      "__________________________________________________________________________________________________\n",
      "conv4_block6_2_relu (Activation (None, 8, 8, 256)    0           conv4_block6_2_bn[0][0]          \n",
      "__________________________________________________________________________________________________\n",
      "conv4_block6_3_conv (Conv2D)    (None, 8, 8, 1024)   263168      conv4_block6_2_relu[0][0]        \n",
      "__________________________________________________________________________________________________\n",
      "conv4_block6_3_bn (BatchNormali (None, 8, 8, 1024)   4096        conv4_block6_3_conv[0][0]        \n",
      "__________________________________________________________________________________________________\n",
      "conv4_block6_add (Add)          (None, 8, 8, 1024)   0           conv4_block5_out[0][0]           \n",
      "                                                                 conv4_block6_3_bn[0][0]          \n",
      "__________________________________________________________________________________________________\n",
      "conv4_block6_out (Activation)   (None, 8, 8, 1024)   0           conv4_block6_add[0][0]           \n",
      "__________________________________________________________________________________________________\n",
      "conv5_block1_1_conv (Conv2D)    (None, 4, 4, 512)    524800      conv4_block6_out[0][0]           \n",
      "__________________________________________________________________________________________________\n",
      "conv5_block1_1_bn (BatchNormali (None, 4, 4, 512)    2048        conv5_block1_1_conv[0][0]        \n",
      "__________________________________________________________________________________________________\n",
      "conv5_block1_1_relu (Activation (None, 4, 4, 512)    0           conv5_block1_1_bn[0][0]          \n",
      "__________________________________________________________________________________________________\n",
      "conv5_block1_2_conv (Conv2D)    (None, 4, 4, 512)    2359808     conv5_block1_1_relu[0][0]        \n",
      "__________________________________________________________________________________________________\n",
      "conv5_block1_2_bn (BatchNormali (None, 4, 4, 512)    2048        conv5_block1_2_conv[0][0]        \n",
      "__________________________________________________________________________________________________\n",
      "conv5_block1_2_relu (Activation (None, 4, 4, 512)    0           conv5_block1_2_bn[0][0]          \n",
      "__________________________________________________________________________________________________\n",
      "conv5_block1_0_conv (Conv2D)    (None, 4, 4, 2048)   2099200     conv4_block6_out[0][0]           \n",
      "__________________________________________________________________________________________________\n",
      "conv5_block1_3_conv (Conv2D)    (None, 4, 4, 2048)   1050624     conv5_block1_2_relu[0][0]        \n",
      "__________________________________________________________________________________________________\n",
      "conv5_block1_0_bn (BatchNormali (None, 4, 4, 2048)   8192        conv5_block1_0_conv[0][0]        \n",
      "__________________________________________________________________________________________________\n",
      "conv5_block1_3_bn (BatchNormali (None, 4, 4, 2048)   8192        conv5_block1_3_conv[0][0]        \n",
      "__________________________________________________________________________________________________\n",
      "conv5_block1_add (Add)          (None, 4, 4, 2048)   0           conv5_block1_0_bn[0][0]          \n",
      "                                                                 conv5_block1_3_bn[0][0]          \n",
      "__________________________________________________________________________________________________\n",
      "conv5_block1_out (Activation)   (None, 4, 4, 2048)   0           conv5_block1_add[0][0]           \n",
      "__________________________________________________________________________________________________\n",
      "conv5_block2_1_conv (Conv2D)    (None, 4, 4, 512)    1049088     conv5_block1_out[0][0]           \n",
      "__________________________________________________________________________________________________\n",
      "conv5_block2_1_bn (BatchNormali (None, 4, 4, 512)    2048        conv5_block2_1_conv[0][0]        \n",
      "__________________________________________________________________________________________________\n",
      "conv5_block2_1_relu (Activation (None, 4, 4, 512)    0           conv5_block2_1_bn[0][0]          \n",
      "__________________________________________________________________________________________________\n",
      "conv5_block2_2_conv (Conv2D)    (None, 4, 4, 512)    2359808     conv5_block2_1_relu[0][0]        \n",
      "__________________________________________________________________________________________________\n",
      "conv5_block2_2_bn (BatchNormali (None, 4, 4, 512)    2048        conv5_block2_2_conv[0][0]        \n",
      "__________________________________________________________________________________________________\n",
      "conv5_block2_2_relu (Activation (None, 4, 4, 512)    0           conv5_block2_2_bn[0][0]          \n",
      "__________________________________________________________________________________________________\n",
      "conv5_block2_3_conv (Conv2D)    (None, 4, 4, 2048)   1050624     conv5_block2_2_relu[0][0]        \n",
      "__________________________________________________________________________________________________\n",
      "conv5_block2_3_bn (BatchNormali (None, 4, 4, 2048)   8192        conv5_block2_3_conv[0][0]        \n",
      "__________________________________________________________________________________________________\n",
      "conv5_block2_add (Add)          (None, 4, 4, 2048)   0           conv5_block1_out[0][0]           \n",
      "                                                                 conv5_block2_3_bn[0][0]          \n",
      "__________________________________________________________________________________________________\n",
      "conv5_block2_out (Activation)   (None, 4, 4, 2048)   0           conv5_block2_add[0][0]           \n",
      "__________________________________________________________________________________________________\n",
      "conv5_block3_1_conv (Conv2D)    (None, 4, 4, 512)    1049088     conv5_block2_out[0][0]           \n",
      "__________________________________________________________________________________________________\n",
      "conv5_block3_1_bn (BatchNormali (None, 4, 4, 512)    2048        conv5_block3_1_conv[0][0]        \n",
      "__________________________________________________________________________________________________\n",
      "conv5_block3_1_relu (Activation (None, 4, 4, 512)    0           conv5_block3_1_bn[0][0]          \n",
      "__________________________________________________________________________________________________\n",
      "conv5_block3_2_conv (Conv2D)    (None, 4, 4, 512)    2359808     conv5_block3_1_relu[0][0]        \n",
      "__________________________________________________________________________________________________\n",
      "conv5_block3_2_bn (BatchNormali (None, 4, 4, 512)    2048        conv5_block3_2_conv[0][0]        \n",
      "__________________________________________________________________________________________________\n",
      "conv5_block3_2_relu (Activation (None, 4, 4, 512)    0           conv5_block3_2_bn[0][0]          \n",
      "__________________________________________________________________________________________________\n",
      "conv5_block3_3_conv (Conv2D)    (None, 4, 4, 2048)   1050624     conv5_block3_2_relu[0][0]        \n",
      "__________________________________________________________________________________________________\n",
      "conv5_block3_3_bn (BatchNormali (None, 4, 4, 2048)   8192        conv5_block3_3_conv[0][0]        \n",
      "__________________________________________________________________________________________________\n",
      "conv5_block3_add (Add)          (None, 4, 4, 2048)   0           conv5_block2_out[0][0]           \n",
      "                                                                 conv5_block3_3_bn[0][0]          \n",
      "__________________________________________________________________________________________________\n",
      "conv5_block3_out (Activation)   (None, 4, 4, 2048)   0           conv5_block3_add[0][0]           \n",
      "__________________________________________________________________________________________________\n",
      "C5_reduced (Conv2D)             (None, 4, 4, 256)    524544      conv5_block3_out[0][0]           \n",
      "__________________________________________________________________________________________________\n",
      "C4_reduced (Conv2D)             (None, 8, 8, 256)    262400      conv4_block6_out[0][0]           \n",
      "__________________________________________________________________________________________________\n",
      "P5_upsampled (UpSampling2D)     (None, 8, 8, 256)    0           C5_reduced[0][0]                 \n",
      "__________________________________________________________________________________________________\n",
      "P4_merged (Add)                 (None, 8, 8, 256)    0           C4_reduced[0][0]                 \n",
      "                                                                 P5_upsampled[0][0]               \n",
      "__________________________________________________________________________________________________\n",
      "C3_reduced (Conv2D)             (None, 16, 16, 256)  131328      conv3_block4_out[0][0]           \n",
      "__________________________________________________________________________________________________\n",
      "P4_upsampled (UpSampling2D)     (None, 16, 16, 256)  0           P4_merged[0][0]                  \n",
      "__________________________________________________________________________________________________\n",
      "P3_merged (Add)                 (None, 16, 16, 256)  0           C3_reduced[0][0]                 \n",
      "                                                                 P4_upsampled[0][0]               \n",
      "__________________________________________________________________________________________________\n",
      "P3 (DepthwiseConv2D)            (None, 16, 16, 256)  2560        P3_merged[0][0]                  \n",
      "__________________________________________________________________________________________________\n",
      "conv_0_semantic_upsample_0 (Con (None, 16, 16, 64)   147520      P3[0][0]                         \n",
      "__________________________________________________________________________________________________\n",
      "conv_0_semantic_upsample_1 (Con (None, 16, 16, 64)   147520      P3[0][0]                         \n",
      "__________________________________________________________________________________________________\n",
      "conv_0_semantic_upsample_2 (Con (None, 16, 16, 64)   147520      P3[0][0]                         \n",
      "__________________________________________________________________________________________________\n",
      "upsampling_0_semantic_upsample_ (None, 32, 32, 64)   0           conv_0_semantic_upsample_0[0][0] \n",
      "__________________________________________________________________________________________________\n",
      "upsampling_0_semantic_upsample_ (None, 32, 32, 64)   0           conv_0_semantic_upsample_1[0][0] \n",
      "__________________________________________________________________________________________________\n",
      "upsampling_0_semantic_upsample_ (None, 32, 32, 64)   0           conv_0_semantic_upsample_2[0][0] \n",
      "__________________________________________________________________________________________________\n",
      "conv_1_semantic_upsample_0 (Con (None, 32, 32, 64)   36928       upsampling_0_semantic_upsample_0[\n",
      "__________________________________________________________________________________________________\n",
      "conv_1_semantic_upsample_1 (Con (None, 32, 32, 64)   36928       upsampling_0_semantic_upsample_1[\n",
      "__________________________________________________________________________________________________\n",
      "conv_1_semantic_upsample_2 (Con (None, 32, 32, 64)   36928       upsampling_0_semantic_upsample_2[\n",
      "__________________________________________________________________________________________________\n",
      "upsampling_1_semantic_upsample_ (None, 64, 64, 64)   0           conv_1_semantic_upsample_0[0][0] \n",
      "__________________________________________________________________________________________________\n",
      "upsampling_1_semantic_upsample_ (None, 64, 64, 64)   0           conv_1_semantic_upsample_1[0][0] \n",
      "__________________________________________________________________________________________________\n",
      "upsampling_1_semantic_upsample_ (None, 64, 64, 64)   0           conv_1_semantic_upsample_2[0][0] \n",
      "__________________________________________________________________________________________________\n",
      "conv_2_semantic_upsample_0 (Con (None, 64, 64, 64)   36928       upsampling_1_semantic_upsample_0[\n",
      "__________________________________________________________________________________________________\n",
      "conv_2_semantic_upsample_1 (Con (None, 64, 64, 64)   36928       upsampling_1_semantic_upsample_1[\n",
      "__________________________________________________________________________________________________\n",
      "conv_2_semantic_upsample_2 (Con (None, 64, 64, 64)   36928       upsampling_1_semantic_upsample_2[\n",
      "__________________________________________________________________________________________________\n",
      "upsampling_2_semantic_upsample_ (None, 128, 128, 64) 0           conv_2_semantic_upsample_0[0][0] \n",
      "__________________________________________________________________________________________________\n",
      "upsampling_2_semantic_upsample_ (None, 128, 128, 64) 0           conv_2_semantic_upsample_1[0][0] \n",
      "__________________________________________________________________________________________________\n",
      "upsampling_2_semantic_upsample_ (None, 128, 128, 64) 0           conv_2_semantic_upsample_2[0][0] \n",
      "__________________________________________________________________________________________________\n",
      "conv_0_semantic_0 (Conv2D)      (None, 128, 128, 128 8320        upsampling_2_semantic_upsample_0[\n",
      "__________________________________________________________________________________________________\n",
      "conv_0_semantic_1 (Conv2D)      (None, 128, 128, 128 8320        upsampling_2_semantic_upsample_1[\n",
      "__________________________________________________________________________________________________\n",
      "conv_0_semantic_2 (Conv2D)      (None, 128, 128, 128 8320        upsampling_2_semantic_upsample_2[\n",
      "__________________________________________________________________________________________________\n",
      "batch_normalization (BatchNorma (None, 128, 128, 128 512         conv_0_semantic_0[0][0]          \n",
      "__________________________________________________________________________________________________\n",
      "batch_normalization_1 (BatchNor (None, 128, 128, 128 512         conv_0_semantic_1[0][0]          \n",
      "__________________________________________________________________________________________________\n",
      "batch_normalization_2 (BatchNor (None, 128, 128, 128 512         conv_0_semantic_2[0][0]          \n",
      "__________________________________________________________________________________________________\n",
      "relu_0_semantic_0 (Activation)  (None, 128, 128, 128 0           batch_normalization[0][0]        \n",
      "__________________________________________________________________________________________________\n",
      "relu_0_semantic_1 (Activation)  (None, 128, 128, 128 0           batch_normalization_1[0][0]      \n",
      "__________________________________________________________________________________________________\n",
      "relu_0_semantic_2 (Activation)  (None, 128, 128, 128 0           batch_normalization_2[0][0]      \n",
      "__________________________________________________________________________________________________\n",
      "conv_1_semantic_0 (Conv2D)      (None, 128, 128, 1)  129         relu_0_semantic_0[0][0]          \n",
      "__________________________________________________________________________________________________\n",
      "conv_1_semantic_1 (Conv2D)      (None, 128, 128, 1)  129         relu_0_semantic_1[0][0]          \n",
      "__________________________________________________________________________________________________\n",
      "conv_1_semantic_2 (Conv2D)      (None, 128, 128, 2)  258         relu_0_semantic_2[0][0]          \n",
      "__________________________________________________________________________________________________\n",
      "semantic_0 (Activation)         (None, 128, 128, 1)  0           conv_1_semantic_0[0][0]          \n",
      "__________________________________________________________________________________________________\n",
      "semantic_1 (Activation)         (None, 128, 128, 1)  0           conv_1_semantic_1[0][0]          \n",
      "__________________________________________________________________________________________________\n",
      "semantic_2 (Softmax)            (None, 128, 128, 2)  0           conv_1_semantic_2[0][0]          \n",
      "==================================================================================================\n",
      "Total params: 25,199,690\n",
      "Trainable params: 25,145,802\n",
      "Non-trainable params: 53,888\n",
      "__________________________________________________________________________________________________\n"
     ]
    }
   ],
   "source": [
    "from deepcell.model_zoo.panopticnet import PanopticNet\n",
    "from deepcell.model_zoo.retinamask import RetinaMask\n",
    "from deepcell import losses\n",
    "from tensorflow.keras.optimizers import Adam\n",
    "from tensorflow.python.keras.losses import MSE\n",
    "\n",
    "# Define optimizer\n",
    "optimizer = Adam(lr=1e-4, clipnorm=0.001)\n",
    "    \n",
    "if model_type == 'watershed':\n",
    "    model = PanopticNet(backbone,\n",
    "                       input_shape=train_data.x.shape[1:],\n",
    "                       norm_method='whole_image',\n",
    "                       num_semantic_heads=3,\n",
    "                       num_semantic_classes=[1,1,2],\n",
    "                       location=False,\n",
    "                       include_top=True,\n",
    "                       interpolation='bilinear',\n",
    "                       lite=True)\n",
    "\n",
    "    # Define loss\n",
    "    loss_layers = ['semantic_0', 'semantic_1', 'semantic_2']\n",
    "    loss = {}\n",
    "\n",
    "    for layer_name in loss_layers:\n",
    "        n_classes = model.get_layer(layer_name).output_shape[-1]\n",
    "        if n_classes > 1:\n",
    "            def loss_function(y_true, y_pred):\n",
    "                return 0.01 * losses.weighted_categorical_crossentropy(\n",
    "                    y_true, y_pred, n_classes=n_classes)\n",
    "            loss[layer_name] = loss_function\n",
    "        elif n_classes == 1:\n",
    "            loss[layer_name] = MSE\n",
    "\n",
    "    # Compile model\n",
    "    model.compile(loss=loss, optimizer=optimizer)\n",
    "    \n",
    "elif model_type == 'pixelwise':\n",
    "    model = PanopticNet(backbone,\n",
    "                       input_shape=train_data.x.shape[1:],\n",
    "                       norm_method='whole_image',\n",
    "                       num_semantic_heads=1,\n",
    "                       num_semantic_classes=[3],\n",
    "                       location=False,\n",
    "                       include_top=True)\n",
    "\n",
    "    # Define loss\n",
    "    loss = {}\n",
    "    \n",
    "    def loss_function(y_true, y_pred):\n",
    "        return losses.weighted_categorical_crossentropy(\n",
    "                    y_true, y_pred, n_classes=3)\n",
    "    \n",
    "    loss['semantic_0'] = loss_function\n",
    "    \n",
    "    # Compile model\n",
    "    model.compile(loss=loss, optimizer=optimizer)\n",
    "    \n",
    "elif model_type == 'retinamask':\n",
    "    model = RetinaMask(backbone,\n",
    "                      num_classes=1,\n",
    "                      input_shape=train_data.x.shape[1:],\n",
    "                      norm_method='whole_image',\n",
    "                      use_imagenet=False,\n",
    "                      pyramid_levels=pyramid_levels,\n",
    "                      anchor_params=anchor_params)\n",
    "    \n",
    "    # Define loss\n",
    "    retinanet_losses = losses.RetinaNetLosses()\n",
    "    loss = {\n",
    "        'regression': retinanet_losses.regress_loss,\n",
    "        'classification': retinanet_losses.classification_loss,\n",
    "        'masks': retinanet_losses.mask_loss\n",
    "    }\n",
    "    \n",
    "    # Compile model\n",
    "    model.compile(loss=loss, optimizer=optimizer)\n",
    "    \n",
    "model.summary()"
   ]
  },
  {
   "cell_type": "markdown",
   "metadata": {
    "papermill": {
     "duration": 0.020681,
     "end_time": "2020-05-05T09:04:26.168306",
     "exception": false,
     "start_time": "2020-05-05T09:04:26.147625",
     "status": "completed"
    },
    "tags": []
   },
   "source": [
    "## Part 4: Define model training parameters\n",
    "\n",
    "Here, we define all of the parameters needed for training. The model trainer objects will record these metadata after training."
   ]
  },
  {
   "cell_type": "code",
   "execution_count": 7,
   "metadata": {
    "papermill": {
     "duration": 0.033338,
     "end_time": "2020-05-05T09:04:26.222361",
     "exception": false,
     "start_time": "2020-05-05T09:04:26.189023",
     "status": "completed"
    },
    "tags": []
   },
   "outputs": [],
   "source": [
    "model_name = 'nuclear_{}_{}_{}_{}'.format(str(train_permutation_seed), dataset_fraction, backbone, model_type)\n",
    "model_path = os.path.join('/data', 'models', date, model_name)\n",
    "dataset_metadata={'name': dataset_name,\n",
    "                  'other': 'Pooled nuclear data from HEK293, HeLa-S3, NIH-3T3, and RAW264.7 cells.'}\n",
    "training_kwargs = {}\n",
    "training_kwargs['batch_size'] = batch_size\n",
    "training_kwargs['lr'] = 1e-5 if model_type=='retinamask' else 1e-4\n",
    "training_kwargs['lr_decay'] = 0.95\n",
    "training_kwargs['training_seed'] = 0\n",
    "training_kwargs['n_epochs'] = n_epochs\n",
    "training_kwargs['training_steps_per_epoch'] = 82800//16 if model_type == 'retinamask' else 82800 // training_kwargs['batch_size']\n",
    "training_kwargs['validation_steps_per_epoch'] = val_data.y.shape[0] // training_kwargs['batch_size']"
   ]
  },
  {
   "cell_type": "markdown",
   "metadata": {
    "papermill": {
     "duration": 0.020903,
     "end_time": "2020-05-05T09:04:26.263726",
     "exception": false,
     "start_time": "2020-05-05T09:04:26.242823",
     "status": "completed"
    },
    "tags": []
   },
   "source": [
    "## Part 5: Create the model trainer and train the model\n",
    "\n",
    "Here, we create the model trainer, train the model, and export the model - along with the metadata and benchmarks"
   ]
  },
  {
   "cell_type": "code",
   "execution_count": 8,
   "metadata": {
    "papermill": {
     "duration": 0.0843,
     "end_time": "2020-05-05T09:04:26.368920",
     "exception": false,
     "start_time": "2020-05-05T09:04:26.284620",
     "status": "completed"
    },
    "tags": []
   },
   "outputs": [],
   "source": [
    "from __future__ import absolute_import\n",
    "from __future__ import print_function\n",
    "from __future__ import division\n",
    "\n",
    "import os\n",
    "import json\n",
    "import hashlib\n",
    "import numpy as np\n",
    "\n",
    "from skimage.morphology import remove_small_objects\n",
    "\n",
    "from deepcell.utils.export_utils import export_model\n",
    "from deepcell.utils.train_utils import rate_scheduler, get_callbacks\n",
    "from deepcell.metrics import Metrics\n",
    "\n",
    "from tensorflow.python.compiler.tensorrt import trt_convert as trt\n",
    "\n",
    "class ModelTrainer(object):\n",
    "    def __init__(self, \n",
    "                model,\n",
    "                model_name,\n",
    "                model_path,\n",
    "                train_generator,\n",
    "                validation_generator,\n",
    "                benchmarking_data=None,\n",
    "                log_dir=None,\n",
    "                tfserving_path=None,\n",
    "                training_callbacks='default',\n",
    "                max_batch_size=256,\n",
    "                export_precisions = ['fp16'],\n",
    "                postprocessing_fn=None,\n",
    "                postprocessing_kwargs={},\n",
    "                predict_batch_size=4,\n",
    "                model_version=0,\n",
    "                min_size=100,\n",
    "                dataset_metadata={},\n",
    "                training_kwargs={}):\n",
    "    \n",
    "        \"\"\"\n",
    "        Model trainer class for segmentation models. This class eases model development by\n",
    "        linking relevant metadata (dataset, training parameters, benchmarking) to the model\n",
    "        training process.\n",
    "        \"\"\"\n",
    "\n",
    "        # Add model information\n",
    "        self.model = model\n",
    "        self.model_name = model_name\n",
    "        self.model_path = model_path\n",
    "        self.model_version = model_version\n",
    "\n",
    "        # Add dataset information\n",
    "        self.train_generator = train_generator\n",
    "        self.validation_generator = validation_generator\n",
    "        self.benchmarking_data = benchmarking_data\n",
    "        self.dataset_metadata = dataset_metadata\n",
    "        self.postprocessing_fn = postprocessing_fn\n",
    "        self.postprocessing_kwargs = postprocessing_kwargs\n",
    "        self.predict_batch_size = predict_batch_size\n",
    "\n",
    "        # Add benchmarking information\n",
    "        self.min_size = min_size\n",
    "\n",
    "        # Add export information\n",
    "        self.max_batch_size = max_batch_size\n",
    "        self.export_precisions = export_precisions\n",
    "\n",
    "        # Add directories for logging and model export\n",
    "        if log_dir is None:\n",
    "            self.log_dir = os.path.join(model_path, 'logging')\n",
    "        else:\n",
    "            self.log_dir = log_dir\n",
    "        \n",
    "        if tfserving_path is None:\n",
    "            self.tfserving_path = os.path.join(model_path, 'serving')\n",
    "        else:\n",
    "            self.tfserving_path = tfserving_path\n",
    "\n",
    "        # Add training kwargs\n",
    "        self.batch_size = training_kwargs.pop('batch_size', 1)\n",
    "        self.training_steps_per_epoch = training_kwargs.pop('training_steps_per_epoch', \n",
    "                                                self.train_generator.y.shape[0] // self.batch_size)\n",
    "        self.validation_steps_per_epoch = training_kwargs.pop('validation_steps_per_epoch', \n",
    "                                                self.validation_generator.y.shape[0] // self.batch_size)\n",
    "        self.n_epochs = training_kwargs.pop('n_epochs', 8)\n",
    "        self.lr = training_kwargs.pop('lr', 1e-5)\n",
    "        self.lr_decay = training_kwargs.pop('lr_decay', 0.95)\n",
    "        self.lr_sched = training_kwargs.pop('lr_sched', rate_scheduler(lr=self.lr, decay=self.lr_decay))\n",
    "\n",
    "        # Add callbacks\n",
    "        if training_callbacks == 'default':\n",
    "            model_name = os.path.join(model_path, model_name + '.h5')\n",
    "            self.training_callbacks = get_callbacks(model_name, lr_sched=self.lr_sched,\n",
    "                                        tensorboard_log_dir=self.log_dir,\n",
    "                                        save_weights_only=False,\n",
    "                                        monitor='val_loss', verbose=1)\n",
    "        else:\n",
    "            self.training_callbacks = training_callbacks\n",
    "\n",
    "        self.trained = False\n",
    "\n",
    "        return None\n",
    "\n",
    "    def _create_hash(self):\n",
    "        if not self.trained:\n",
    "            raise ValueError('Can only create a hash for a trained model')\n",
    "        else:\n",
    "            weights = []\n",
    "            for layer in self.model.layers:\n",
    "                weights += layer.get_weights()\n",
    "            summed_weights_list = [np.sum(w) for w in weights]\n",
    "            summed_weights = sum(summed_weights_list)\n",
    "            model_hash = hashlib.md5(str(summed_weights).encode())\n",
    "            self.model_hash = model_hash.hexdigest()\n",
    "\n",
    "    def _fit(self):\n",
    "        loss_history = self.model.fit_generator(\n",
    "        self.train_generator,\n",
    "        steps_per_epoch=self.training_steps_per_epoch,\n",
    "        epochs=self.n_epochs,\n",
    "        validation_data=self.validation_generator,\n",
    "        validation_steps=self.validation_steps_per_epoch,\n",
    "        callbacks=self.training_callbacks,\n",
    "        verbose=2)\n",
    "\n",
    "        self.trained = True\n",
    "        self.loss_history = loss_history\n",
    "\n",
    "        return None\n",
    "\n",
    "    def _benchmark(self):\n",
    "        if not self.trained:\n",
    "            raise ValueError('Model training is not complete')\n",
    "        else:\n",
    "            if self.benchmarking_data is None:\n",
    "                x = self.validation_generator.x.copy()\n",
    "                y_true = self.validation_generator.y.copy()\n",
    "            else:\n",
    "                x = self.benchmarking_data['X']\n",
    "                y_true = self.benchmarking_data['y']\n",
    "\n",
    "            outputs = self.model.predict(x, batch_size=self.predict_batch_size)\n",
    "            y_pred = self.postprocessing_fn(outputs, **self.postprocessing_kwargs)\n",
    "\n",
    "            if len(y_pred.shape) == 3:\n",
    "                y_pred = np.expand_dims(y_pred, axis=-1)    #TODO: This is a hack because the postprocessing fn returns\n",
    "                                                            #masks with no channel dimensions. This should be fixed.\n",
    "            \n",
    "            benchmarks = Metrics(self.model_name, seg=False)\n",
    "            benchmarks.calc_object_stats(y_true, y_pred)\n",
    "\n",
    "            # Save benchmarks in dict\n",
    "            self.benchmarks = {}\n",
    "            for key in benchmarks.stats.keys():\n",
    "                self.benchmarks[key] = int(benchmarks.stats[key].sum())\n",
    "\n",
    "            for i in range(y_pred.shape[0]):\n",
    "                y_pred[i] = remove_small_objects(y_pred[i].astype(int), min_size=self.min_size)\n",
    "                y_true[i] = remove_small_objects(y_true[i].astype(int), min_size=self.min_size)\n",
    "\n",
    "            benchmarks = Metrics(self.model_name + ' - Removed objects less than {} pixels'.format(self.min_size), \n",
    "                                    seg=False)\n",
    "            benchmarks.calc_object_stats(y_true, y_pred)\n",
    "\n",
    "            # Save benchmarks in dict\n",
    "            self.benchmarks_remove_small_objects = {}\n",
    "            for key in benchmarks.stats.keys():\n",
    "                self.benchmarks_remove_small_objects[key] = int(benchmarks.stats[key].sum())\n",
    "\n",
    "        return None\n",
    "\n",
    "    def _create_training_metadata(self):\n",
    "        training_metadata = {}\n",
    "        training_metadata['batch_size'] = self.batch_size\n",
    "        training_metadata['lr'] = self.lr\n",
    "        training_metadata['lr_decay'] = self.lr_decay\n",
    "        training_metadata['n_epochs'] = self.n_epochs\n",
    "        training_metadata['training_steps_per_epoch'] = self.training_steps_per_epoch\n",
    "        training_metadata['validation_steps_per_epoch'] = self.validation_steps_per_epoch\n",
    "\n",
    "        self.training_metadata = training_metadata\n",
    "\n",
    "        return None\n",
    "\n",
    "    def _export_tf_serving(self):\n",
    "        export_model(self.model, self.tfserving_path, model_version=self.model_version)\n",
    "\n",
    "        # Convert model to TensorRT with float16\n",
    "        if 'fp16' in self.export_precisions:\n",
    "            export_model_dir = os.path.join(self.tfserving_path, str(self.model_version))\n",
    "            export_model_dir_fp16 = os.path.join(self.tfserving_path + '_fp16', str(self.model_version))\n",
    "\n",
    "            converter = trt.TrtGraphConverter(input_saved_model_dir=export_model_dir,\n",
    "                                            max_batch_size=self.max_batch_size,\n",
    "                                            precision_mode='fp16')\n",
    "            converter.convert()\n",
    "            converter.save(export_model_dir_fp16)\n",
    "\n",
    "        return None\n",
    "\n",
    "    def create_model(self, export_serving=False, export_lite=False):\n",
    "\n",
    "        # Train model\n",
    "        self._fit()\n",
    "\n",
    "        # Load best performing weights\n",
    "        model_name = os.path.join(self.model_path, self.model_name + '.h5')\n",
    "        self.model.load_weights(model_name)\n",
    "\n",
    "        # Create model hash\n",
    "        self._create_hash()\n",
    "\n",
    "        # Create benchmarks\n",
    "        self._benchmark()\n",
    "\n",
    "        # Create model metadata\n",
    "        self._create_training_metadata()\n",
    "\n",
    "        # Save model\n",
    "        model_name = os.path.join(self.model_path, self.model_name + '_' + self.model_hash + '.h5')\n",
    "        self.model.save(model_name)\n",
    "\n",
    "        # Save loss history\n",
    "        loss_name = os.path.join(self.model_path, self.model_name + '_loss_' + self.model_hash + '.npz')\n",
    "        np.savez(loss_name, loss_history=self.loss_history.history)\n",
    "\n",
    "        # Save metadata (training and dataset) and benchmarks\n",
    "        metadata = {}\n",
    "        metadata['model_hash'] = self.model_hash\n",
    "        metadata['training_metadata'] = self.training_metadata\n",
    "        metadata['dataset_metadata'] = self.dataset_metadata\n",
    "        metadata['benchmarks'] = self.benchmarks\n",
    "        metadata['benchmarks_remove_small_objects'] = self.benchmarks_remove_small_objects\n",
    "\n",
    "        # TODO: Saving the benchmarking object in this way saves each individual benchmark.\n",
    "        # This should be refactored to save the sums.\n",
    "\n",
    "        metadata_name = os.path.join(self.model_path, self.model_name + '_' + self.model_hash + '.json')\n",
    "        \n",
    "        with open(metadata_name, 'w') as json_file:\n",
    "            json.dump(metadata, json_file)\n",
    "\n",
    "        # Export tf serving model\n",
    "        if export_serving:\n",
    "            self._export_tf_serving()\n",
    "\n",
    "        return None"
   ]
  },
  {
   "cell_type": "code",
   "execution_count": 9,
   "metadata": {
    "papermill": {
     "duration": 10142.476487,
     "end_time": "2020-05-05T11:53:28.866198",
     "exception": false,
     "start_time": "2020-05-05T09:04:26.389711",
     "status": "completed"
    },
    "scrolled": false,
    "tags": []
   },
   "outputs": [
    {
     "name": "stdout",
     "output_type": "stream",
     "text": [
      "Epoch 1/16\n"
     ]
    },
    {
     "name": "stderr",
     "output_type": "stream",
     "text": [
      "W0505 09:04:31.825838 140459842635584 deprecation.py:323] From /usr/local/lib/python3.6/dist-packages/tensorflow/python/ops/math_grad.py:1250: add_dispatch_support.<locals>.wrapper (from tensorflow.python.ops.array_ops) is deprecated and will be removed in a future version.\n",
      "Instructions for updating:\n",
      "Use tf.where in 2.0, which has the same broadcast rule as np.where\n"
     ]
    },
    {
     "name": "stderr",
     "output_type": "stream",
     "text": [
      "W0505 09:04:59.680657 140459842635584 callbacks.py:257] Method (on_train_batch_end) is slow compared to the batch update (0.209672). Check your callbacks.\n"
     ]
    },
    {
     "name": "stdout",
     "output_type": "stream",
     "text": [
      "\n",
      "Epoch 00001: val_loss improved from inf to 0.00632, saving model to /data/models/05042020/nuclear_1_0.1_resnet50_watershed/nuclear_1_0.1_resnet50_watershed.h5\n"
     ]
    },
    {
     "name": "stdout",
     "output_type": "stream",
     "text": [
      "5175/5175 - 684s - loss: 0.0080 - semantic_0_loss: 0.0029 - semantic_1_loss: 0.0044 - semantic_2_loss: 7.1432e-04 - val_loss: 0.0063 - val_semantic_0_loss: 0.0029 - val_semantic_1_loss: 0.0028 - val_semantic_2_loss: 5.7504e-04\n"
     ]
    },
    {
     "name": "stdout",
     "output_type": "stream",
     "text": [
      "Epoch 2/16\n"
     ]
    },
    {
     "name": "stdout",
     "output_type": "stream",
     "text": [
      "\n",
      "Epoch 00002: val_loss did not improve from 0.00632\n",
      "5175/5175 - 614s - loss: 0.0043 - semantic_0_loss: 0.0016 - semantic_1_loss: 0.0021 - semantic_2_loss: 5.5140e-04 - val_loss: 0.0067 - val_semantic_0_loss: 0.0032 - val_semantic_1_loss: 0.0028 - val_semantic_2_loss: 6.8013e-04\n"
     ]
    },
    {
     "name": "stdout",
     "output_type": "stream",
     "text": [
      "Epoch 3/16\n"
     ]
    },
    {
     "name": "stdout",
     "output_type": "stream",
     "text": [
      "\n",
      "Epoch 00003: val_loss improved from 0.00632 to 0.00617, saving model to /data/models/05042020/nuclear_1_0.1_resnet50_watershed/nuclear_1_0.1_resnet50_watershed.h5\n"
     ]
    },
    {
     "name": "stdout",
     "output_type": "stream",
     "text": [
      "5175/5175 - 620s - loss: 0.0038 - semantic_0_loss: 0.0014 - semantic_1_loss: 0.0019 - semantic_2_loss: 5.1129e-04 - val_loss: 0.0062 - val_semantic_0_loss: 0.0028 - val_semantic_1_loss: 0.0027 - val_semantic_2_loss: 6.7948e-04\n"
     ]
    },
    {
     "name": "stdout",
     "output_type": "stream",
     "text": [
      "Epoch 4/16\n"
     ]
    },
    {
     "name": "stdout",
     "output_type": "stream",
     "text": [
      "\n",
      "Epoch 00004: val_loss improved from 0.00617 to 0.00610, saving model to /data/models/05042020/nuclear_1_0.1_resnet50_watershed/nuclear_1_0.1_resnet50_watershed.h5\n"
     ]
    },
    {
     "name": "stdout",
     "output_type": "stream",
     "text": [
      "5175/5175 - 617s - loss: 0.0034 - semantic_0_loss: 0.0012 - semantic_1_loss: 0.0017 - semantic_2_loss: 4.8649e-04 - val_loss: 0.0061 - val_semantic_0_loss: 0.0028 - val_semantic_1_loss: 0.0027 - val_semantic_2_loss: 6.0637e-04\n"
     ]
    },
    {
     "name": "stdout",
     "output_type": "stream",
     "text": [
      "Epoch 5/16\n"
     ]
    },
    {
     "name": "stdout",
     "output_type": "stream",
     "text": [
      "\n",
      "Epoch 00005: val_loss did not improve from 0.00610\n",
      "5175/5175 - 611s - loss: 0.0032 - semantic_0_loss: 0.0012 - semantic_1_loss: 0.0016 - semantic_2_loss: 4.6735e-04 - val_loss: 0.0062 - val_semantic_0_loss: 0.0028 - val_semantic_1_loss: 0.0027 - val_semantic_2_loss: 6.9629e-04\n"
     ]
    },
    {
     "name": "stdout",
     "output_type": "stream",
     "text": [
      "Epoch 6/16\n"
     ]
    },
    {
     "name": "stdout",
     "output_type": "stream",
     "text": [
      "\n",
      "Epoch 00006: val_loss improved from 0.00610 to 0.00563, saving model to /data/models/05042020/nuclear_1_0.1_resnet50_watershed/nuclear_1_0.1_resnet50_watershed.h5\n"
     ]
    },
    {
     "name": "stdout",
     "output_type": "stream",
     "text": [
      "5175/5175 - 613s - loss: 0.0030 - semantic_0_loss: 0.0011 - semantic_1_loss: 0.0015 - semantic_2_loss: 4.5370e-04 - val_loss: 0.0056 - val_semantic_0_loss: 0.0026 - val_semantic_1_loss: 0.0025 - val_semantic_2_loss: 5.9108e-04\n"
     ]
    },
    {
     "name": "stdout",
     "output_type": "stream",
     "text": [
      "Epoch 7/16\n"
     ]
    },
    {
     "name": "stdout",
     "output_type": "stream",
     "text": [
      "\n",
      "Epoch 00007: val_loss did not improve from 0.00563\n",
      "5175/5175 - 610s - loss: 0.0029 - semantic_0_loss: 0.0010 - semantic_1_loss: 0.0015 - semantic_2_loss: 4.4311e-04 - val_loss: 0.0061 - val_semantic_0_loss: 0.0028 - val_semantic_1_loss: 0.0026 - val_semantic_2_loss: 6.5531e-04\n"
     ]
    },
    {
     "name": "stdout",
     "output_type": "stream",
     "text": [
      "Epoch 8/16\n"
     ]
    },
    {
     "name": "stdout",
     "output_type": "stream",
     "text": [
      "\n",
      "Epoch 00008: val_loss improved from 0.00563 to 0.00561, saving model to /data/models/05042020/nuclear_1_0.1_resnet50_watershed/nuclear_1_0.1_resnet50_watershed.h5\n"
     ]
    },
    {
     "name": "stdout",
     "output_type": "stream",
     "text": [
      "5175/5175 - 613s - loss: 0.0028 - semantic_0_loss: 9.7261e-04 - semantic_1_loss: 0.0014 - semantic_2_loss: 4.3287e-04 - val_loss: 0.0056 - val_semantic_0_loss: 0.0025 - val_semantic_1_loss: 0.0025 - val_semantic_2_loss: 6.5061e-04\n"
     ]
    },
    {
     "name": "stdout",
     "output_type": "stream",
     "text": [
      "Epoch 9/16\n"
     ]
    },
    {
     "name": "stdout",
     "output_type": "stream",
     "text": [
      "\n",
      "Epoch 00009: val_loss did not improve from 0.00561\n",
      "5175/5175 - 612s - loss: 0.0027 - semantic_0_loss: 9.4312e-04 - semantic_1_loss: 0.0014 - semantic_2_loss: 4.2687e-04 - val_loss: 0.0060 - val_semantic_0_loss: 0.0027 - val_semantic_1_loss: 0.0026 - val_semantic_2_loss: 6.5600e-04\n"
     ]
    },
    {
     "name": "stdout",
     "output_type": "stream",
     "text": [
      "Epoch 10/16\n"
     ]
    },
    {
     "name": "stdout",
     "output_type": "stream",
     "text": [
      "\n",
      "Epoch 00010: val_loss did not improve from 0.00561\n",
      "5175/5175 - 614s - loss: 0.0027 - semantic_0_loss: 9.0862e-04 - semantic_1_loss: 0.0013 - semantic_2_loss: 4.1930e-04 - val_loss: 0.0060 - val_semantic_0_loss: 0.0027 - val_semantic_1_loss: 0.0026 - val_semantic_2_loss: 6.6686e-04\n"
     ]
    },
    {
     "name": "stdout",
     "output_type": "stream",
     "text": [
      "Epoch 11/16\n"
     ]
    },
    {
     "name": "stdout",
     "output_type": "stream",
     "text": [
      "\n",
      "Epoch 00011: val_loss did not improve from 0.00561\n",
      "5175/5175 - 612s - loss: 0.0026 - semantic_0_loss: 8.8165e-04 - semantic_1_loss: 0.0013 - semantic_2_loss: 4.1379e-04 - val_loss: 0.0060 - val_semantic_0_loss: 0.0027 - val_semantic_1_loss: 0.0027 - val_semantic_2_loss: 6.2729e-04\n"
     ]
    },
    {
     "name": "stdout",
     "output_type": "stream",
     "text": [
      "Epoch 12/16\n"
     ]
    },
    {
     "name": "stdout",
     "output_type": "stream",
     "text": [
      "\n",
      "Epoch 00012: val_loss did not improve from 0.00561\n",
      "5175/5175 - 609s - loss: 0.0025 - semantic_0_loss: 8.5198e-04 - semantic_1_loss: 0.0013 - semantic_2_loss: 4.0810e-04 - val_loss: 0.0059 - val_semantic_0_loss: 0.0025 - val_semantic_1_loss: 0.0026 - val_semantic_2_loss: 6.9051e-04\n"
     ]
    },
    {
     "name": "stdout",
     "output_type": "stream",
     "text": [
      "Epoch 13/16\n"
     ]
    },
    {
     "name": "stdout",
     "output_type": "stream",
     "text": [
      "\n",
      "Epoch 00013: val_loss did not improve from 0.00561\n",
      "5175/5175 - 610s - loss: 0.0025 - semantic_0_loss: 8.3005e-04 - semantic_1_loss: 0.0012 - semantic_2_loss: 4.0380e-04 - val_loss: 0.0059 - val_semantic_0_loss: 0.0026 - val_semantic_1_loss: 0.0026 - val_semantic_2_loss: 6.6016e-04\n"
     ]
    },
    {
     "name": "stdout",
     "output_type": "stream",
     "text": [
      "Epoch 14/16\n"
     ]
    },
    {
     "name": "stdout",
     "output_type": "stream",
     "text": [
      "\n",
      "Epoch 00014: val_loss did not improve from 0.00561\n",
      "5175/5175 - 613s - loss: 0.0024 - semantic_0_loss: 8.1317e-04 - semantic_1_loss: 0.0012 - semantic_2_loss: 3.9946e-04 - val_loss: 0.0060 - val_semantic_0_loss: 0.0027 - val_semantic_1_loss: 0.0026 - val_semantic_2_loss: 6.9331e-04\n"
     ]
    },
    {
     "name": "stdout",
     "output_type": "stream",
     "text": [
      "Epoch 15/16\n"
     ]
    },
    {
     "name": "stdout",
     "output_type": "stream",
     "text": [
      "\n",
      "Epoch 00015: val_loss did not improve from 0.00561\n",
      "5175/5175 - 615s - loss: 0.0024 - semantic_0_loss: 7.9565e-04 - semantic_1_loss: 0.0012 - semantic_2_loss: 3.9662e-04 - val_loss: 0.0059 - val_semantic_0_loss: 0.0026 - val_semantic_1_loss: 0.0026 - val_semantic_2_loss: 6.4728e-04\n"
     ]
    },
    {
     "name": "stdout",
     "output_type": "stream",
     "text": [
      "Epoch 16/16\n"
     ]
    },
    {
     "name": "stdout",
     "output_type": "stream",
     "text": [
      "\n",
      "Epoch 00016: val_loss did not improve from 0.00561\n",
      "5175/5175 - 612s - loss: 0.0023 - semantic_0_loss: 7.7652e-04 - semantic_1_loss: 0.0012 - semantic_2_loss: 3.9201e-04 - val_loss: 0.0058 - val_semantic_0_loss: 0.0025 - val_semantic_1_loss: 0.0026 - val_semantic_2_loss: 6.7899e-04\n"
     ]
    },
    {
     "name": "stderr",
     "output_type": "stream",
     "text": [
      "W0505 11:49:53.503026 140459842635584 metrics.py:103] DICE score is technically 1.0, but prediction and truth arrays are empty. \n"
     ]
    },
    {
     "name": "stderr",
     "output_type": "stream",
     "text": [
      "/usr/local/lib/python3.6/dist-packages/deepcell/metrics.py:111: RuntimeWarning: invalid value encountered in long_scalars\n",
      "  dice = (2 * intersection.sum() / (pred.sum() + truth.sum()))\n",
      "/usr/local/lib/python3.6/dist-packages/deepcell/metrics.py:112: RuntimeWarning: invalid value encountered in long_scalars\n",
      "  jaccard = intersection.sum() / union.sum()\n",
      "/usr/local/lib/python3.6/dist-packages/deepcell/metrics.py:113: RuntimeWarning: invalid value encountered in long_scalars\n",
      "  precision = intersection.sum() / pred.sum()\n",
      "/usr/local/lib/python3.6/dist-packages/deepcell/metrics.py:114: RuntimeWarning: invalid value encountered in long_scalars\n",
      "  recall = intersection.sum() / truth.sum()\n",
      "W0505 11:49:53.521498 140459842635584 metrics.py:103] DICE score is technically 1.0, but prediction and truth arrays are empty. \n"
     ]
    },
    {
     "name": "stderr",
     "output_type": "stream",
     "text": [
      "W0505 11:49:53.532060 140459842635584 metrics.py:103] DICE score is technically 1.0, but prediction and truth arrays are empty. \n"
     ]
    },
    {
     "name": "stderr",
     "output_type": "stream",
     "text": [
      "W0505 11:49:53.542669 140459842635584 metrics.py:103] DICE score is technically 1.0, but prediction and truth arrays are empty. \n"
     ]
    },
    {
     "name": "stderr",
     "output_type": "stream",
     "text": [
      "W0505 11:49:53.552990 140459842635584 metrics.py:103] DICE score is technically 1.0, but prediction and truth arrays are empty. \n"
     ]
    },
    {
     "name": "stderr",
     "output_type": "stream",
     "text": [
      "W0505 11:49:53.563226 140459842635584 metrics.py:103] DICE score is technically 1.0, but prediction and truth arrays are empty. \n"
     ]
    },
    {
     "name": "stderr",
     "output_type": "stream",
     "text": [
      "W0505 11:49:53.573800 140459842635584 metrics.py:103] DICE score is technically 1.0, but prediction and truth arrays are empty. \n"
     ]
    },
    {
     "name": "stderr",
     "output_type": "stream",
     "text": [
      "W0505 11:49:53.584329 140459842635584 metrics.py:103] DICE score is technically 1.0, but prediction and truth arrays are empty. \n"
     ]
    },
    {
     "name": "stderr",
     "output_type": "stream",
     "text": [
      "W0505 11:49:53.594904 140459842635584 metrics.py:103] DICE score is technically 1.0, but prediction and truth arrays are empty. \n"
     ]
    },
    {
     "name": "stderr",
     "output_type": "stream",
     "text": [
      "W0505 11:49:53.605523 140459842635584 metrics.py:103] DICE score is technically 1.0, but prediction and truth arrays are empty. \n"
     ]
    },
    {
     "name": "stderr",
     "output_type": "stream",
     "text": [
      "W0505 11:49:53.615676 140459842635584 metrics.py:103] DICE score is technically 1.0, but prediction and truth arrays are empty. \n"
     ]
    },
    {
     "name": "stderr",
     "output_type": "stream",
     "text": [
      "W0505 11:49:53.626250 140459842635584 metrics.py:103] DICE score is technically 1.0, but prediction and truth arrays are empty. \n"
     ]
    },
    {
     "name": "stderr",
     "output_type": "stream",
     "text": [
      "W0505 11:49:53.636341 140459842635584 metrics.py:103] DICE score is technically 1.0, but prediction and truth arrays are empty. \n"
     ]
    },
    {
     "name": "stderr",
     "output_type": "stream",
     "text": [
      "W0505 11:49:53.647013 140459842635584 metrics.py:103] DICE score is technically 1.0, but prediction and truth arrays are empty. \n"
     ]
    },
    {
     "name": "stderr",
     "output_type": "stream",
     "text": [
      "W0505 11:49:53.657639 140459842635584 metrics.py:103] DICE score is technically 1.0, but prediction and truth arrays are empty. \n"
     ]
    },
    {
     "name": "stderr",
     "output_type": "stream",
     "text": [
      "W0505 11:49:53.668205 140459842635584 metrics.py:103] DICE score is technically 1.0, but prediction and truth arrays are empty. \n"
     ]
    },
    {
     "name": "stderr",
     "output_type": "stream",
     "text": [
      "W0505 11:49:53.678709 140459842635584 metrics.py:103] DICE score is technically 1.0, but prediction and truth arrays are empty. \n"
     ]
    },
    {
     "name": "stderr",
     "output_type": "stream",
     "text": [
      "W0505 11:49:53.688852 140459842635584 metrics.py:103] DICE score is technically 1.0, but prediction and truth arrays are empty. \n"
     ]
    },
    {
     "name": "stderr",
     "output_type": "stream",
     "text": [
      "W0505 11:49:53.699097 140459842635584 metrics.py:103] DICE score is technically 1.0, but prediction and truth arrays are empty. \n"
     ]
    },
    {
     "name": "stderr",
     "output_type": "stream",
     "text": [
      "W0505 11:49:53.710298 140459842635584 metrics.py:103] DICE score is technically 1.0, but prediction and truth arrays are empty. \n"
     ]
    },
    {
     "name": "stderr",
     "output_type": "stream",
     "text": [
      "W0505 11:49:53.720975 140459842635584 metrics.py:103] DICE score is technically 1.0, but prediction and truth arrays are empty. \n"
     ]
    },
    {
     "name": "stderr",
     "output_type": "stream",
     "text": [
      "W0505 11:49:53.731547 140459842635584 metrics.py:103] DICE score is technically 1.0, but prediction and truth arrays are empty. \n"
     ]
    },
    {
     "name": "stderr",
     "output_type": "stream",
     "text": [
      "W0505 11:49:53.742096 140459842635584 metrics.py:103] DICE score is technically 1.0, but prediction and truth arrays are empty. \n"
     ]
    },
    {
     "name": "stderr",
     "output_type": "stream",
     "text": [
      "W0505 11:49:53.752708 140459842635584 metrics.py:103] DICE score is technically 1.0, but prediction and truth arrays are empty. \n"
     ]
    },
    {
     "name": "stderr",
     "output_type": "stream",
     "text": [
      "W0505 11:49:53.763269 140459842635584 metrics.py:103] DICE score is technically 1.0, but prediction and truth arrays are empty. \n"
     ]
    },
    {
     "name": "stderr",
     "output_type": "stream",
     "text": [
      "W0505 11:49:53.773427 140459842635584 metrics.py:103] DICE score is technically 1.0, but prediction and truth arrays are empty. \n"
     ]
    },
    {
     "name": "stderr",
     "output_type": "stream",
     "text": [
      "W0505 11:49:53.783919 140459842635584 metrics.py:103] DICE score is technically 1.0, but prediction and truth arrays are empty. \n"
     ]
    },
    {
     "name": "stderr",
     "output_type": "stream",
     "text": [
      "W0505 11:49:53.793921 140459842635584 metrics.py:103] DICE score is technically 1.0, but prediction and truth arrays are empty. \n"
     ]
    },
    {
     "name": "stderr",
     "output_type": "stream",
     "text": [
      "W0505 11:49:53.804655 140459842635584 metrics.py:103] DICE score is technically 1.0, but prediction and truth arrays are empty. \n"
     ]
    },
    {
     "name": "stderr",
     "output_type": "stream",
     "text": [
      "W0505 11:49:53.815834 140459842635584 metrics.py:103] DICE score is technically 1.0, but prediction and truth arrays are empty. \n"
     ]
    },
    {
     "name": "stderr",
     "output_type": "stream",
     "text": [
      "W0505 11:49:53.825759 140459842635584 metrics.py:103] DICE score is technically 1.0, but prediction and truth arrays are empty. \n"
     ]
    },
    {
     "name": "stderr",
     "output_type": "stream",
     "text": [
      "W0505 11:49:53.836297 140459842635584 metrics.py:103] DICE score is technically 1.0, but prediction and truth arrays are empty. \n"
     ]
    },
    {
     "name": "stderr",
     "output_type": "stream",
     "text": [
      "W0505 11:49:53.846803 140459842635584 metrics.py:103] DICE score is technically 1.0, but prediction and truth arrays are empty. \n"
     ]
    },
    {
     "name": "stderr",
     "output_type": "stream",
     "text": [
      "W0505 11:49:53.857279 140459842635584 metrics.py:103] DICE score is technically 1.0, but prediction and truth arrays are empty. \n"
     ]
    },
    {
     "name": "stderr",
     "output_type": "stream",
     "text": [
      "W0505 11:49:53.867748 140459842635584 metrics.py:103] DICE score is technically 1.0, but prediction and truth arrays are empty. \n"
     ]
    },
    {
     "name": "stderr",
     "output_type": "stream",
     "text": [
      "W0505 11:49:53.878261 140459842635584 metrics.py:103] DICE score is technically 1.0, but prediction and truth arrays are empty. \n"
     ]
    },
    {
     "name": "stderr",
     "output_type": "stream",
     "text": [
      "W0505 11:49:53.888854 140459842635584 metrics.py:103] DICE score is technically 1.0, but prediction and truth arrays are empty. \n"
     ]
    },
    {
     "name": "stderr",
     "output_type": "stream",
     "text": [
      "W0505 11:49:53.899582 140459842635584 metrics.py:103] DICE score is technically 1.0, but prediction and truth arrays are empty. \n"
     ]
    },
    {
     "name": "stderr",
     "output_type": "stream",
     "text": [
      "W0505 11:49:53.910144 140459842635584 metrics.py:103] DICE score is technically 1.0, but prediction and truth arrays are empty. \n"
     ]
    },
    {
     "name": "stderr",
     "output_type": "stream",
     "text": [
      "W0505 11:49:53.920843 140459842635584 metrics.py:103] DICE score is technically 1.0, but prediction and truth arrays are empty. \n"
     ]
    },
    {
     "name": "stderr",
     "output_type": "stream",
     "text": [
      "W0505 11:49:56.406760 140459842635584 metrics.py:103] DICE score is technically 1.0, but prediction and truth arrays are empty. \n"
     ]
    },
    {
     "name": "stderr",
     "output_type": "stream",
     "text": [
      "W0505 11:49:56.417231 140459842635584 metrics.py:103] DICE score is technically 1.0, but prediction and truth arrays are empty. \n"
     ]
    },
    {
     "name": "stderr",
     "output_type": "stream",
     "text": [
      "W0505 11:49:56.427975 140459842635584 metrics.py:103] DICE score is technically 1.0, but prediction and truth arrays are empty. \n"
     ]
    },
    {
     "name": "stderr",
     "output_type": "stream",
     "text": [
      "W0505 11:49:56.438780 140459842635584 metrics.py:103] DICE score is technically 1.0, but prediction and truth arrays are empty. \n"
     ]
    },
    {
     "name": "stderr",
     "output_type": "stream",
     "text": [
      "W0505 11:49:56.449466 140459842635584 metrics.py:103] DICE score is technically 1.0, but prediction and truth arrays are empty. \n"
     ]
    },
    {
     "name": "stderr",
     "output_type": "stream",
     "text": [
      "W0505 11:49:56.460386 140459842635584 metrics.py:103] DICE score is technically 1.0, but prediction and truth arrays are empty. \n"
     ]
    },
    {
     "name": "stderr",
     "output_type": "stream",
     "text": [
      "W0505 11:49:56.470836 140459842635584 metrics.py:103] DICE score is technically 1.0, but prediction and truth arrays are empty. \n"
     ]
    },
    {
     "name": "stderr",
     "output_type": "stream",
     "text": [
      "W0505 11:49:56.481204 140459842635584 metrics.py:103] DICE score is technically 1.0, but prediction and truth arrays are empty. \n"
     ]
    },
    {
     "name": "stderr",
     "output_type": "stream",
     "text": [
      "W0505 11:49:56.491581 140459842635584 metrics.py:103] DICE score is technically 1.0, but prediction and truth arrays are empty. \n"
     ]
    },
    {
     "name": "stderr",
     "output_type": "stream",
     "text": [
      "W0505 11:49:56.502599 140459842635584 metrics.py:103] DICE score is technically 1.0, but prediction and truth arrays are empty. \n"
     ]
    },
    {
     "name": "stderr",
     "output_type": "stream",
     "text": [
      "W0505 11:49:56.513136 140459842635584 metrics.py:103] DICE score is technically 1.0, but prediction and truth arrays are empty. \n"
     ]
    },
    {
     "name": "stderr",
     "output_type": "stream",
     "text": [
      "W0505 11:49:56.524262 140459842635584 metrics.py:103] DICE score is technically 1.0, but prediction and truth arrays are empty. \n"
     ]
    },
    {
     "name": "stderr",
     "output_type": "stream",
     "text": [
      "W0505 11:49:56.534820 140459842635584 metrics.py:103] DICE score is technically 1.0, but prediction and truth arrays are empty. \n"
     ]
    },
    {
     "name": "stderr",
     "output_type": "stream",
     "text": [
      "W0505 11:49:56.545284 140459842635584 metrics.py:103] DICE score is technically 1.0, but prediction and truth arrays are empty. \n"
     ]
    },
    {
     "name": "stderr",
     "output_type": "stream",
     "text": [
      "W0505 11:49:56.556021 140459842635584 metrics.py:103] DICE score is technically 1.0, but prediction and truth arrays are empty. \n"
     ]
    },
    {
     "name": "stderr",
     "output_type": "stream",
     "text": [
      "W0505 11:49:56.566755 140459842635584 metrics.py:103] DICE score is technically 1.0, but prediction and truth arrays are empty. \n"
     ]
    },
    {
     "name": "stderr",
     "output_type": "stream",
     "text": [
      "W0505 11:49:56.577190 140459842635584 metrics.py:103] DICE score is technically 1.0, but prediction and truth arrays are empty. \n"
     ]
    },
    {
     "name": "stderr",
     "output_type": "stream",
     "text": [
      "W0505 11:49:56.587791 140459842635584 metrics.py:103] DICE score is technically 1.0, but prediction and truth arrays are empty. \n"
     ]
    },
    {
     "name": "stderr",
     "output_type": "stream",
     "text": [
      "W0505 11:49:56.598325 140459842635584 metrics.py:103] DICE score is technically 1.0, but prediction and truth arrays are empty. \n"
     ]
    },
    {
     "name": "stderr",
     "output_type": "stream",
     "text": [
      "W0505 11:49:56.609180 140459842635584 metrics.py:103] DICE score is technically 1.0, but prediction and truth arrays are empty. \n"
     ]
    },
    {
     "name": "stderr",
     "output_type": "stream",
     "text": [
      "W0505 11:49:56.620080 140459842635584 metrics.py:103] DICE score is technically 1.0, but prediction and truth arrays are empty. \n"
     ]
    },
    {
     "name": "stderr",
     "output_type": "stream",
     "text": [
      "W0505 11:49:56.639727 140459842635584 metrics.py:103] DICE score is technically 1.0, but prediction and truth arrays are empty. \n"
     ]
    },
    {
     "name": "stderr",
     "output_type": "stream",
     "text": [
      "W0505 11:49:56.650010 140459842635584 metrics.py:103] DICE score is technically 1.0, but prediction and truth arrays are empty. \n"
     ]
    },
    {
     "name": "stderr",
     "output_type": "stream",
     "text": [
      "W0505 11:49:56.660510 140459842635584 metrics.py:103] DICE score is technically 1.0, but prediction and truth arrays are empty. \n"
     ]
    },
    {
     "name": "stderr",
     "output_type": "stream",
     "text": [
      "W0505 11:49:56.670813 140459842635584 metrics.py:103] DICE score is technically 1.0, but prediction and truth arrays are empty. \n"
     ]
    },
    {
     "name": "stderr",
     "output_type": "stream",
     "text": [
      "W0505 11:49:56.681349 140459842635584 metrics.py:103] DICE score is technically 1.0, but prediction and truth arrays are empty. \n"
     ]
    },
    {
     "name": "stderr",
     "output_type": "stream",
     "text": [
      "W0505 11:49:56.691659 140459842635584 metrics.py:103] DICE score is technically 1.0, but prediction and truth arrays are empty. \n"
     ]
    },
    {
     "name": "stderr",
     "output_type": "stream",
     "text": [
      "W0505 11:49:56.702310 140459842635584 metrics.py:103] DICE score is technically 1.0, but prediction and truth arrays are empty. \n"
     ]
    },
    {
     "name": "stderr",
     "output_type": "stream",
     "text": [
      "W0505 11:49:56.713012 140459842635584 metrics.py:103] DICE score is technically 1.0, but prediction and truth arrays are empty. \n"
     ]
    },
    {
     "name": "stderr",
     "output_type": "stream",
     "text": [
      "W0505 11:49:56.723399 140459842635584 metrics.py:103] DICE score is technically 1.0, but prediction and truth arrays are empty. \n"
     ]
    },
    {
     "name": "stderr",
     "output_type": "stream",
     "text": [
      "W0505 11:49:56.733631 140459842635584 metrics.py:103] DICE score is technically 1.0, but prediction and truth arrays are empty. \n"
     ]
    },
    {
     "name": "stderr",
     "output_type": "stream",
     "text": [
      "W0505 11:49:56.744215 140459842635584 metrics.py:103] DICE score is technically 1.0, but prediction and truth arrays are empty. \n"
     ]
    },
    {
     "name": "stderr",
     "output_type": "stream",
     "text": [
      "W0505 11:49:56.754994 140459842635584 metrics.py:103] DICE score is technically 1.0, but prediction and truth arrays are empty. \n"
     ]
    },
    {
     "name": "stderr",
     "output_type": "stream",
     "text": [
      "W0505 11:49:56.765518 140459842635584 metrics.py:103] DICE score is technically 1.0, but prediction and truth arrays are empty. \n"
     ]
    },
    {
     "name": "stderr",
     "output_type": "stream",
     "text": [
      "W0505 11:49:56.775895 140459842635584 metrics.py:103] DICE score is technically 1.0, but prediction and truth arrays are empty. \n"
     ]
    },
    {
     "name": "stderr",
     "output_type": "stream",
     "text": [
      "W0505 11:49:56.786182 140459842635584 metrics.py:103] DICE score is technically 1.0, but prediction and truth arrays are empty. \n"
     ]
    },
    {
     "name": "stderr",
     "output_type": "stream",
     "text": [
      "W0505 11:49:56.796862 140459842635584 metrics.py:103] DICE score is technically 1.0, but prediction and truth arrays are empty. \n"
     ]
    },
    {
     "name": "stderr",
     "output_type": "stream",
     "text": [
      "W0505 11:49:56.807201 140459842635584 metrics.py:103] DICE score is technically 1.0, but prediction and truth arrays are empty. \n"
     ]
    },
    {
     "name": "stderr",
     "output_type": "stream",
     "text": [
      "W0505 11:49:56.817564 140459842635584 metrics.py:103] DICE score is technically 1.0, but prediction and truth arrays are empty. \n"
     ]
    },
    {
     "name": "stderr",
     "output_type": "stream",
     "text": [
      "W0505 11:50:02.318572 140459842635584 metrics.py:103] DICE score is technically 1.0, but prediction and truth arrays are empty. \n"
     ]
    },
    {
     "name": "stderr",
     "output_type": "stream",
     "text": [
      "W0505 11:50:02.329559 140459842635584 metrics.py:103] DICE score is technically 1.0, but prediction and truth arrays are empty. \n"
     ]
    },
    {
     "name": "stderr",
     "output_type": "stream",
     "text": [
      "W0505 11:50:02.340270 140459842635584 metrics.py:103] DICE score is technically 1.0, but prediction and truth arrays are empty. \n"
     ]
    },
    {
     "name": "stderr",
     "output_type": "stream",
     "text": [
      "W0505 11:50:02.351027 140459842635584 metrics.py:103] DICE score is technically 1.0, but prediction and truth arrays are empty. \n"
     ]
    },
    {
     "name": "stderr",
     "output_type": "stream",
     "text": [
      "W0505 11:50:02.361818 140459842635584 metrics.py:103] DICE score is technically 1.0, but prediction and truth arrays are empty. \n"
     ]
    },
    {
     "name": "stderr",
     "output_type": "stream",
     "text": [
      "W0505 11:50:02.372527 140459842635584 metrics.py:103] DICE score is technically 1.0, but prediction and truth arrays are empty. \n"
     ]
    },
    {
     "name": "stderr",
     "output_type": "stream",
     "text": [
      "W0505 11:50:02.383127 140459842635584 metrics.py:103] DICE score is technically 1.0, but prediction and truth arrays are empty. \n"
     ]
    },
    {
     "name": "stderr",
     "output_type": "stream",
     "text": [
      "W0505 11:50:02.393723 140459842635584 metrics.py:103] DICE score is technically 1.0, but prediction and truth arrays are empty. \n"
     ]
    },
    {
     "name": "stderr",
     "output_type": "stream",
     "text": [
      "W0505 11:50:02.404599 140459842635584 metrics.py:103] DICE score is technically 1.0, but prediction and truth arrays are empty. \n"
     ]
    },
    {
     "name": "stderr",
     "output_type": "stream",
     "text": [
      "W0505 11:50:02.415425 140459842635584 metrics.py:103] DICE score is technically 1.0, but prediction and truth arrays are empty. \n"
     ]
    },
    {
     "name": "stderr",
     "output_type": "stream",
     "text": [
      "W0505 11:50:02.426322 140459842635584 metrics.py:103] DICE score is technically 1.0, but prediction and truth arrays are empty. \n"
     ]
    },
    {
     "name": "stderr",
     "output_type": "stream",
     "text": [
      "W0505 11:50:02.437365 140459842635584 metrics.py:103] DICE score is technically 1.0, but prediction and truth arrays are empty. \n"
     ]
    },
    {
     "name": "stderr",
     "output_type": "stream",
     "text": [
      "W0505 11:50:02.448120 140459842635584 metrics.py:103] DICE score is technically 1.0, but prediction and truth arrays are empty. \n"
     ]
    },
    {
     "name": "stderr",
     "output_type": "stream",
     "text": [
      "W0505 11:50:02.458982 140459842635584 metrics.py:103] DICE score is technically 1.0, but prediction and truth arrays are empty. \n"
     ]
    },
    {
     "name": "stderr",
     "output_type": "stream",
     "text": [
      "W0505 11:50:02.469943 140459842635584 metrics.py:103] DICE score is technically 1.0, but prediction and truth arrays are empty. \n"
     ]
    },
    {
     "name": "stderr",
     "output_type": "stream",
     "text": [
      "W0505 11:50:02.480813 140459842635584 metrics.py:103] DICE score is technically 1.0, but prediction and truth arrays are empty. \n"
     ]
    },
    {
     "name": "stderr",
     "output_type": "stream",
     "text": [
      "W0505 11:50:02.491660 140459842635584 metrics.py:103] DICE score is technically 1.0, but prediction and truth arrays are empty. \n"
     ]
    },
    {
     "name": "stderr",
     "output_type": "stream",
     "text": [
      "W0505 11:50:02.502539 140459842635584 metrics.py:103] DICE score is technically 1.0, but prediction and truth arrays are empty. \n"
     ]
    },
    {
     "name": "stderr",
     "output_type": "stream",
     "text": [
      "W0505 11:50:02.513345 140459842635584 metrics.py:103] DICE score is technically 1.0, but prediction and truth arrays are empty. \n"
     ]
    },
    {
     "name": "stderr",
     "output_type": "stream",
     "text": [
      "W0505 11:50:02.524585 140459842635584 metrics.py:103] DICE score is technically 1.0, but prediction and truth arrays are empty. \n"
     ]
    },
    {
     "name": "stderr",
     "output_type": "stream",
     "text": [
      "W0505 11:50:02.535593 140459842635584 metrics.py:103] DICE score is technically 1.0, but prediction and truth arrays are empty. \n"
     ]
    },
    {
     "name": "stderr",
     "output_type": "stream",
     "text": [
      "W0505 11:50:02.546404 140459842635584 metrics.py:103] DICE score is technically 1.0, but prediction and truth arrays are empty. \n"
     ]
    },
    {
     "name": "stderr",
     "output_type": "stream",
     "text": [
      "W0505 11:50:02.557349 140459842635584 metrics.py:103] DICE score is technically 1.0, but prediction and truth arrays are empty. \n"
     ]
    },
    {
     "name": "stderr",
     "output_type": "stream",
     "text": [
      "W0505 11:50:02.568125 140459842635584 metrics.py:103] DICE score is technically 1.0, but prediction and truth arrays are empty. \n"
     ]
    },
    {
     "name": "stderr",
     "output_type": "stream",
     "text": [
      "W0505 11:50:02.578727 140459842635584 metrics.py:103] DICE score is technically 1.0, but prediction and truth arrays are empty. \n"
     ]
    },
    {
     "name": "stderr",
     "output_type": "stream",
     "text": [
      "W0505 11:50:02.589454 140459842635584 metrics.py:103] DICE score is technically 1.0, but prediction and truth arrays are empty. \n"
     ]
    },
    {
     "name": "stderr",
     "output_type": "stream",
     "text": [
      "W0505 11:50:02.600109 140459842635584 metrics.py:103] DICE score is technically 1.0, but prediction and truth arrays are empty. \n"
     ]
    },
    {
     "name": "stderr",
     "output_type": "stream",
     "text": [
      "W0505 11:50:02.610707 140459842635584 metrics.py:103] DICE score is technically 1.0, but prediction and truth arrays are empty. \n"
     ]
    },
    {
     "name": "stderr",
     "output_type": "stream",
     "text": [
      "W0505 11:50:02.621538 140459842635584 metrics.py:103] DICE score is technically 1.0, but prediction and truth arrays are empty. \n"
     ]
    },
    {
     "name": "stderr",
     "output_type": "stream",
     "text": [
      "W0505 11:50:02.632269 140459842635584 metrics.py:103] DICE score is technically 1.0, but prediction and truth arrays are empty. \n"
     ]
    },
    {
     "name": "stderr",
     "output_type": "stream",
     "text": [
      "W0505 11:50:02.643015 140459842635584 metrics.py:103] DICE score is technically 1.0, but prediction and truth arrays are empty. \n"
     ]
    },
    {
     "name": "stderr",
     "output_type": "stream",
     "text": [
      "W0505 11:50:02.653909 140459842635584 metrics.py:103] DICE score is technically 1.0, but prediction and truth arrays are empty. \n"
     ]
    },
    {
     "name": "stderr",
     "output_type": "stream",
     "text": [
      "W0505 11:50:02.664893 140459842635584 metrics.py:103] DICE score is technically 1.0, but prediction and truth arrays are empty. \n"
     ]
    },
    {
     "name": "stderr",
     "output_type": "stream",
     "text": [
      "W0505 11:50:02.675529 140459842635584 metrics.py:103] DICE score is technically 1.0, but prediction and truth arrays are empty. \n"
     ]
    },
    {
     "name": "stderr",
     "output_type": "stream",
     "text": [
      "W0505 11:50:02.686336 140459842635584 metrics.py:103] DICE score is technically 1.0, but prediction and truth arrays are empty. \n"
     ]
    },
    {
     "name": "stderr",
     "output_type": "stream",
     "text": [
      "W0505 11:50:02.697394 140459842635584 metrics.py:103] DICE score is technically 1.0, but prediction and truth arrays are empty. \n"
     ]
    },
    {
     "name": "stderr",
     "output_type": "stream",
     "text": [
      "W0505 11:50:02.708240 140459842635584 metrics.py:103] DICE score is technically 1.0, but prediction and truth arrays are empty. \n"
     ]
    },
    {
     "name": "stderr",
     "output_type": "stream",
     "text": [
      "W0505 11:50:02.719470 140459842635584 metrics.py:103] DICE score is technically 1.0, but prediction and truth arrays are empty. \n"
     ]
    },
    {
     "name": "stderr",
     "output_type": "stream",
     "text": [
      "W0505 11:50:02.730556 140459842635584 metrics.py:103] DICE score is technically 1.0, but prediction and truth arrays are empty. \n"
     ]
    },
    {
     "name": "stderr",
     "output_type": "stream",
     "text": [
      "W0505 11:50:02.741713 140459842635584 metrics.py:103] DICE score is technically 1.0, but prediction and truth arrays are empty. \n"
     ]
    },
    {
     "name": "stderr",
     "output_type": "stream",
     "text": [
      "W0505 11:50:03.334512 140459842635584 metrics.py:103] DICE score is technically 1.0, but prediction and truth arrays are empty. \n"
     ]
    },
    {
     "name": "stderr",
     "output_type": "stream",
     "text": [
      "W0505 11:50:03.345463 140459842635584 metrics.py:103] DICE score is technically 1.0, but prediction and truth arrays are empty. \n"
     ]
    },
    {
     "name": "stderr",
     "output_type": "stream",
     "text": [
      "W0505 11:50:03.356050 140459842635584 metrics.py:103] DICE score is technically 1.0, but prediction and truth arrays are empty. \n"
     ]
    },
    {
     "name": "stderr",
     "output_type": "stream",
     "text": [
      "W0505 11:50:03.366824 140459842635584 metrics.py:103] DICE score is technically 1.0, but prediction and truth arrays are empty. \n"
     ]
    },
    {
     "name": "stderr",
     "output_type": "stream",
     "text": [
      "W0505 11:50:03.377343 140459842635584 metrics.py:103] DICE score is technically 1.0, but prediction and truth arrays are empty. \n"
     ]
    },
    {
     "name": "stderr",
     "output_type": "stream",
     "text": [
      "W0505 11:50:03.388118 140459842635584 metrics.py:103] DICE score is technically 1.0, but prediction and truth arrays are empty. \n"
     ]
    },
    {
     "name": "stderr",
     "output_type": "stream",
     "text": [
      "W0505 11:50:03.398970 140459842635584 metrics.py:103] DICE score is technically 1.0, but prediction and truth arrays are empty. \n"
     ]
    },
    {
     "name": "stderr",
     "output_type": "stream",
     "text": [
      "W0505 11:50:03.409724 140459842635584 metrics.py:103] DICE score is technically 1.0, but prediction and truth arrays are empty. \n"
     ]
    },
    {
     "name": "stderr",
     "output_type": "stream",
     "text": [
      "W0505 11:50:03.420717 140459842635584 metrics.py:103] DICE score is technically 1.0, but prediction and truth arrays are empty. \n"
     ]
    },
    {
     "name": "stderr",
     "output_type": "stream",
     "text": [
      "W0505 11:50:03.431512 140459842635584 metrics.py:103] DICE score is technically 1.0, but prediction and truth arrays are empty. \n"
     ]
    },
    {
     "name": "stderr",
     "output_type": "stream",
     "text": [
      "W0505 11:50:03.442358 140459842635584 metrics.py:103] DICE score is technically 1.0, but prediction and truth arrays are empty. \n"
     ]
    },
    {
     "name": "stderr",
     "output_type": "stream",
     "text": [
      "W0505 11:50:03.452947 140459842635584 metrics.py:103] DICE score is technically 1.0, but prediction and truth arrays are empty. \n"
     ]
    },
    {
     "name": "stderr",
     "output_type": "stream",
     "text": [
      "W0505 11:50:03.463753 140459842635584 metrics.py:103] DICE score is technically 1.0, but prediction and truth arrays are empty. \n"
     ]
    },
    {
     "name": "stderr",
     "output_type": "stream",
     "text": [
      "W0505 11:50:03.474696 140459842635584 metrics.py:103] DICE score is technically 1.0, but prediction and truth arrays are empty. \n"
     ]
    },
    {
     "name": "stderr",
     "output_type": "stream",
     "text": [
      "W0505 11:50:03.485378 140459842635584 metrics.py:103] DICE score is technically 1.0, but prediction and truth arrays are empty. \n"
     ]
    },
    {
     "name": "stderr",
     "output_type": "stream",
     "text": [
      "W0505 11:50:03.495887 140459842635584 metrics.py:103] DICE score is technically 1.0, but prediction and truth arrays are empty. \n"
     ]
    },
    {
     "name": "stderr",
     "output_type": "stream",
     "text": [
      "W0505 11:50:03.506572 140459842635584 metrics.py:103] DICE score is technically 1.0, but prediction and truth arrays are empty. \n"
     ]
    },
    {
     "name": "stderr",
     "output_type": "stream",
     "text": [
      "W0505 11:50:03.516645 140459842635584 metrics.py:103] DICE score is technically 1.0, but prediction and truth arrays are empty. \n"
     ]
    },
    {
     "name": "stderr",
     "output_type": "stream",
     "text": [
      "W0505 11:50:03.527099 140459842635584 metrics.py:103] DICE score is technically 1.0, but prediction and truth arrays are empty. \n"
     ]
    },
    {
     "name": "stderr",
     "output_type": "stream",
     "text": [
      "W0505 11:50:03.538167 140459842635584 metrics.py:103] DICE score is technically 1.0, but prediction and truth arrays are empty. \n"
     ]
    },
    {
     "name": "stderr",
     "output_type": "stream",
     "text": [
      "W0505 11:50:03.549203 140459842635584 metrics.py:103] DICE score is technically 1.0, but prediction and truth arrays are empty. \n"
     ]
    },
    {
     "name": "stderr",
     "output_type": "stream",
     "text": [
      "W0505 11:50:03.559888 140459842635584 metrics.py:103] DICE score is technically 1.0, but prediction and truth arrays are empty. \n"
     ]
    },
    {
     "name": "stderr",
     "output_type": "stream",
     "text": [
      "W0505 11:50:03.570650 140459842635584 metrics.py:103] DICE score is technically 1.0, but prediction and truth arrays are empty. \n"
     ]
    },
    {
     "name": "stderr",
     "output_type": "stream",
     "text": [
      "W0505 11:50:03.581507 140459842635584 metrics.py:103] DICE score is technically 1.0, but prediction and truth arrays are empty. \n"
     ]
    },
    {
     "name": "stderr",
     "output_type": "stream",
     "text": [
      "W0505 11:50:03.592279 140459842635584 metrics.py:103] DICE score is technically 1.0, but prediction and truth arrays are empty. \n"
     ]
    },
    {
     "name": "stderr",
     "output_type": "stream",
     "text": [
      "W0505 11:50:03.603276 140459842635584 metrics.py:103] DICE score is technically 1.0, but prediction and truth arrays are empty. \n"
     ]
    },
    {
     "name": "stderr",
     "output_type": "stream",
     "text": [
      "W0505 11:50:03.613770 140459842635584 metrics.py:103] DICE score is technically 1.0, but prediction and truth arrays are empty. \n"
     ]
    },
    {
     "name": "stderr",
     "output_type": "stream",
     "text": [
      "W0505 11:50:03.624521 140459842635584 metrics.py:103] DICE score is technically 1.0, but prediction and truth arrays are empty. \n"
     ]
    },
    {
     "name": "stderr",
     "output_type": "stream",
     "text": [
      "W0505 11:50:03.635014 140459842635584 metrics.py:103] DICE score is technically 1.0, but prediction and truth arrays are empty. \n"
     ]
    },
    {
     "name": "stderr",
     "output_type": "stream",
     "text": [
      "W0505 11:50:03.645513 140459842635584 metrics.py:103] DICE score is technically 1.0, but prediction and truth arrays are empty. \n"
     ]
    },
    {
     "name": "stderr",
     "output_type": "stream",
     "text": [
      "W0505 11:50:03.655939 140459842635584 metrics.py:103] DICE score is technically 1.0, but prediction and truth arrays are empty. \n"
     ]
    },
    {
     "name": "stderr",
     "output_type": "stream",
     "text": [
      "W0505 11:50:03.666519 140459842635584 metrics.py:103] DICE score is technically 1.0, but prediction and truth arrays are empty. \n"
     ]
    },
    {
     "name": "stderr",
     "output_type": "stream",
     "text": [
      "W0505 11:50:03.677117 140459842635584 metrics.py:103] DICE score is technically 1.0, but prediction and truth arrays are empty. \n"
     ]
    },
    {
     "name": "stderr",
     "output_type": "stream",
     "text": [
      "W0505 11:50:03.687668 140459842635584 metrics.py:103] DICE score is technically 1.0, but prediction and truth arrays are empty. \n"
     ]
    },
    {
     "name": "stderr",
     "output_type": "stream",
     "text": [
      "W0505 11:50:03.698476 140459842635584 metrics.py:103] DICE score is technically 1.0, but prediction and truth arrays are empty. \n"
     ]
    },
    {
     "name": "stderr",
     "output_type": "stream",
     "text": [
      "W0505 11:50:03.709272 140459842635584 metrics.py:103] DICE score is technically 1.0, but prediction and truth arrays are empty. \n"
     ]
    },
    {
     "name": "stderr",
     "output_type": "stream",
     "text": [
      "W0505 11:50:03.720108 140459842635584 metrics.py:103] DICE score is technically 1.0, but prediction and truth arrays are empty. \n"
     ]
    },
    {
     "name": "stderr",
     "output_type": "stream",
     "text": [
      "W0505 11:50:03.731042 140459842635584 metrics.py:103] DICE score is technically 1.0, but prediction and truth arrays are empty. \n"
     ]
    },
    {
     "name": "stderr",
     "output_type": "stream",
     "text": [
      "W0505 11:50:04.424272 140459842635584 metrics.py:103] DICE score is technically 1.0, but prediction and truth arrays are empty. \n"
     ]
    },
    {
     "name": "stderr",
     "output_type": "stream",
     "text": [
      "W0505 11:50:04.434735 140459842635584 metrics.py:103] DICE score is technically 1.0, but prediction and truth arrays are empty. \n"
     ]
    },
    {
     "name": "stderr",
     "output_type": "stream",
     "text": [
      "W0505 11:50:04.445500 140459842635584 metrics.py:103] DICE score is technically 1.0, but prediction and truth arrays are empty. \n"
     ]
    },
    {
     "name": "stderr",
     "output_type": "stream",
     "text": [
      "W0505 11:50:04.501566 140459842635584 metrics.py:103] DICE score is technically 1.0, but prediction and truth arrays are empty. \n"
     ]
    },
    {
     "name": "stderr",
     "output_type": "stream",
     "text": [
      "W0505 11:50:04.512177 140459842635584 metrics.py:103] DICE score is technically 1.0, but prediction and truth arrays are empty. \n"
     ]
    },
    {
     "name": "stderr",
     "output_type": "stream",
     "text": [
      "W0505 11:50:04.522485 140459842635584 metrics.py:103] DICE score is technically 1.0, but prediction and truth arrays are empty. \n"
     ]
    },
    {
     "name": "stderr",
     "output_type": "stream",
     "text": [
      "W0505 11:50:04.532924 140459842635584 metrics.py:103] DICE score is technically 1.0, but prediction and truth arrays are empty. \n"
     ]
    },
    {
     "name": "stderr",
     "output_type": "stream",
     "text": [
      "W0505 11:50:04.543203 140459842635584 metrics.py:103] DICE score is technically 1.0, but prediction and truth arrays are empty. \n"
     ]
    },
    {
     "name": "stderr",
     "output_type": "stream",
     "text": [
      "W0505 11:50:04.553797 140459842635584 metrics.py:103] DICE score is technically 1.0, but prediction and truth arrays are empty. \n"
     ]
    },
    {
     "name": "stderr",
     "output_type": "stream",
     "text": [
      "W0505 11:50:04.564329 140459842635584 metrics.py:103] DICE score is technically 1.0, but prediction and truth arrays are empty. \n"
     ]
    },
    {
     "name": "stderr",
     "output_type": "stream",
     "text": [
      "W0505 11:50:04.574651 140459842635584 metrics.py:103] DICE score is technically 1.0, but prediction and truth arrays are empty. \n"
     ]
    },
    {
     "name": "stderr",
     "output_type": "stream",
     "text": [
      "W0505 11:50:04.585134 140459842635584 metrics.py:103] DICE score is technically 1.0, but prediction and truth arrays are empty. \n"
     ]
    },
    {
     "name": "stderr",
     "output_type": "stream",
     "text": [
      "W0505 11:50:04.595409 140459842635584 metrics.py:103] DICE score is technically 1.0, but prediction and truth arrays are empty. \n"
     ]
    },
    {
     "name": "stderr",
     "output_type": "stream",
     "text": [
      "W0505 11:50:04.605524 140459842635584 metrics.py:103] DICE score is technically 1.0, but prediction and truth arrays are empty. \n"
     ]
    },
    {
     "name": "stderr",
     "output_type": "stream",
     "text": [
      "W0505 11:50:04.615410 140459842635584 metrics.py:103] DICE score is technically 1.0, but prediction and truth arrays are empty. \n"
     ]
    },
    {
     "name": "stderr",
     "output_type": "stream",
     "text": [
      "W0505 11:50:04.625917 140459842635584 metrics.py:103] DICE score is technically 1.0, but prediction and truth arrays are empty. \n"
     ]
    },
    {
     "name": "stderr",
     "output_type": "stream",
     "text": [
      "W0505 11:50:04.636474 140459842635584 metrics.py:103] DICE score is technically 1.0, but prediction and truth arrays are empty. \n"
     ]
    },
    {
     "name": "stderr",
     "output_type": "stream",
     "text": [
      "W0505 11:50:04.646563 140459842635584 metrics.py:103] DICE score is technically 1.0, but prediction and truth arrays are empty. \n"
     ]
    },
    {
     "name": "stderr",
     "output_type": "stream",
     "text": [
      "W0505 11:50:04.657063 140459842635584 metrics.py:103] DICE score is technically 1.0, but prediction and truth arrays are empty. \n"
     ]
    },
    {
     "name": "stderr",
     "output_type": "stream",
     "text": [
      "W0505 11:50:04.667545 140459842635584 metrics.py:103] DICE score is technically 1.0, but prediction and truth arrays are empty. \n"
     ]
    },
    {
     "name": "stderr",
     "output_type": "stream",
     "text": [
      "W0505 11:50:04.678127 140459842635584 metrics.py:103] DICE score is technically 1.0, but prediction and truth arrays are empty. \n"
     ]
    },
    {
     "name": "stderr",
     "output_type": "stream",
     "text": [
      "W0505 11:50:04.688302 140459842635584 metrics.py:103] DICE score is technically 1.0, but prediction and truth arrays are empty. \n"
     ]
    },
    {
     "name": "stderr",
     "output_type": "stream",
     "text": [
      "W0505 11:50:04.698580 140459842635584 metrics.py:103] DICE score is technically 1.0, but prediction and truth arrays are empty. \n"
     ]
    },
    {
     "name": "stderr",
     "output_type": "stream",
     "text": [
      "W0505 11:50:04.709487 140459842635584 metrics.py:103] DICE score is technically 1.0, but prediction and truth arrays are empty. \n"
     ]
    },
    {
     "name": "stderr",
     "output_type": "stream",
     "text": [
      "W0505 11:50:04.720241 140459842635584 metrics.py:103] DICE score is technically 1.0, but prediction and truth arrays are empty. \n"
     ]
    },
    {
     "name": "stderr",
     "output_type": "stream",
     "text": [
      "W0505 11:50:04.730722 140459842635584 metrics.py:103] DICE score is technically 1.0, but prediction and truth arrays are empty. \n"
     ]
    },
    {
     "name": "stderr",
     "output_type": "stream",
     "text": [
      "W0505 11:50:04.741145 140459842635584 metrics.py:103] DICE score is technically 1.0, but prediction and truth arrays are empty. \n"
     ]
    },
    {
     "name": "stderr",
     "output_type": "stream",
     "text": [
      "W0505 11:50:04.751402 140459842635584 metrics.py:103] DICE score is technically 1.0, but prediction and truth arrays are empty. \n"
     ]
    },
    {
     "name": "stderr",
     "output_type": "stream",
     "text": [
      "W0505 11:50:04.762119 140459842635584 metrics.py:103] DICE score is technically 1.0, but prediction and truth arrays are empty. \n"
     ]
    },
    {
     "name": "stderr",
     "output_type": "stream",
     "text": [
      "W0505 11:50:04.772759 140459842635584 metrics.py:103] DICE score is technically 1.0, but prediction and truth arrays are empty. \n"
     ]
    },
    {
     "name": "stderr",
     "output_type": "stream",
     "text": [
      "W0505 11:50:04.783596 140459842635584 metrics.py:103] DICE score is technically 1.0, but prediction and truth arrays are empty. \n"
     ]
    },
    {
     "name": "stderr",
     "output_type": "stream",
     "text": [
      "W0505 11:50:04.794216 140459842635584 metrics.py:103] DICE score is technically 1.0, but prediction and truth arrays are empty. \n"
     ]
    },
    {
     "name": "stderr",
     "output_type": "stream",
     "text": [
      "W0505 11:50:04.805060 140459842635584 metrics.py:103] DICE score is technically 1.0, but prediction and truth arrays are empty. \n"
     ]
    },
    {
     "name": "stderr",
     "output_type": "stream",
     "text": [
      "W0505 11:50:04.815030 140459842635584 metrics.py:103] DICE score is technically 1.0, but prediction and truth arrays are empty. \n"
     ]
    },
    {
     "name": "stderr",
     "output_type": "stream",
     "text": [
      "W0505 11:50:04.825528 140459842635584 metrics.py:103] DICE score is technically 1.0, but prediction and truth arrays are empty. \n"
     ]
    },
    {
     "name": "stderr",
     "output_type": "stream",
     "text": [
      "W0505 11:50:04.835779 140459842635584 metrics.py:103] DICE score is technically 1.0, but prediction and truth arrays are empty. \n"
     ]
    },
    {
     "name": "stderr",
     "output_type": "stream",
     "text": [
      "W0505 11:50:04.846376 140459842635584 metrics.py:103] DICE score is technically 1.0, but prediction and truth arrays are empty. \n"
     ]
    },
    {
     "name": "stderr",
     "output_type": "stream",
     "text": [
      "W0505 11:50:04.856647 140459842635584 metrics.py:103] DICE score is technically 1.0, but prediction and truth arrays are empty. \n"
     ]
    },
    {
     "name": "stderr",
     "output_type": "stream",
     "text": [
      "W0505 11:50:04.866778 140459842635584 metrics.py:103] DICE score is technically 1.0, but prediction and truth arrays are empty. \n"
     ]
    },
    {
     "name": "stderr",
     "output_type": "stream",
     "text": [
      "W0505 11:50:04.877185 140459842635584 metrics.py:103] DICE score is technically 1.0, but prediction and truth arrays are empty. \n"
     ]
    },
    {
     "name": "stderr",
     "output_type": "stream",
     "text": [
      "W0505 11:50:04.887792 140459842635584 metrics.py:103] DICE score is technically 1.0, but prediction and truth arrays are empty. \n"
     ]
    },
    {
     "name": "stderr",
     "output_type": "stream",
     "text": [
      "W0505 11:50:04.898264 140459842635584 metrics.py:103] DICE score is technically 1.0, but prediction and truth arrays are empty. \n"
     ]
    },
    {
     "name": "stderr",
     "output_type": "stream",
     "text": [
      "W0505 11:50:04.908738 140459842635584 metrics.py:103] DICE score is technically 1.0, but prediction and truth arrays are empty. \n"
     ]
    },
    {
     "name": "stderr",
     "output_type": "stream",
     "text": [
      "W0505 11:50:04.918830 140459842635584 metrics.py:103] DICE score is technically 1.0, but prediction and truth arrays are empty. \n"
     ]
    },
    {
     "name": "stderr",
     "output_type": "stream",
     "text": [
      "W0505 11:50:04.929297 140459842635584 metrics.py:103] DICE score is technically 1.0, but prediction and truth arrays are empty. \n"
     ]
    },
    {
     "name": "stderr",
     "output_type": "stream",
     "text": [
      "W0505 11:50:04.939763 140459842635584 metrics.py:103] DICE score is technically 1.0, but prediction and truth arrays are empty. \n"
     ]
    },
    {
     "name": "stderr",
     "output_type": "stream",
     "text": [
      "W0505 11:50:04.950133 140459842635584 metrics.py:103] DICE score is technically 1.0, but prediction and truth arrays are empty. \n"
     ]
    },
    {
     "name": "stderr",
     "output_type": "stream",
     "text": [
      "W0505 11:50:04.960876 140459842635584 metrics.py:103] DICE score is technically 1.0, but prediction and truth arrays are empty. \n"
     ]
    },
    {
     "name": "stderr",
     "output_type": "stream",
     "text": [
      "W0505 11:50:04.980358 140459842635584 metrics.py:103] DICE score is technically 1.0, but prediction and truth arrays are empty. \n"
     ]
    },
    {
     "name": "stderr",
     "output_type": "stream",
     "text": [
      "W0505 11:50:04.990975 140459842635584 metrics.py:103] DICE score is technically 1.0, but prediction and truth arrays are empty. \n"
     ]
    },
    {
     "name": "stderr",
     "output_type": "stream",
     "text": [
      "W0505 11:50:05.001603 140459842635584 metrics.py:103] DICE score is technically 1.0, but prediction and truth arrays are empty. \n"
     ]
    },
    {
     "name": "stderr",
     "output_type": "stream",
     "text": [
      "W0505 11:50:05.041482 140459842635584 metrics.py:103] DICE score is technically 1.0, but prediction and truth arrays are empty. \n"
     ]
    },
    {
     "name": "stderr",
     "output_type": "stream",
     "text": [
      "W0505 11:50:05.061446 140459842635584 metrics.py:103] DICE score is technically 1.0, but prediction and truth arrays are empty. \n"
     ]
    },
    {
     "name": "stderr",
     "output_type": "stream",
     "text": [
      "W0505 11:50:05.071885 140459842635584 metrics.py:103] DICE score is technically 1.0, but prediction and truth arrays are empty. \n"
     ]
    },
    {
     "name": "stderr",
     "output_type": "stream",
     "text": [
      "/usr/local/lib/python3.6/dist-packages/deepcell/metrics.py:115: RuntimeWarning: invalid value encountered in double_scalars\n",
      "  Fmeasure = (2 * precision * recall) / (precision + recall)\n"
     ]
    },
    {
     "name": "stderr",
     "output_type": "stream",
     "text": [
      "W0505 11:50:05.285789 140459842635584 metrics.py:103] DICE score is technically 1.0, but prediction and truth arrays are empty. \n"
     ]
    },
    {
     "name": "stderr",
     "output_type": "stream",
     "text": [
      "W0505 11:50:05.296399 140459842635584 metrics.py:103] DICE score is technically 1.0, but prediction and truth arrays are empty. \n"
     ]
    },
    {
     "name": "stderr",
     "output_type": "stream",
     "text": [
      "W0505 11:50:05.306986 140459842635584 metrics.py:103] DICE score is technically 1.0, but prediction and truth arrays are empty. \n"
     ]
    },
    {
     "name": "stderr",
     "output_type": "stream",
     "text": [
      "W0505 11:50:05.316817 140459842635584 metrics.py:103] DICE score is technically 1.0, but prediction and truth arrays are empty. \n"
     ]
    },
    {
     "name": "stderr",
     "output_type": "stream",
     "text": [
      "W0505 11:50:05.327048 140459842635584 metrics.py:103] DICE score is technically 1.0, but prediction and truth arrays are empty. \n"
     ]
    },
    {
     "name": "stderr",
     "output_type": "stream",
     "text": [
      "W0505 11:50:05.337340 140459842635584 metrics.py:103] DICE score is technically 1.0, but prediction and truth arrays are empty. \n"
     ]
    },
    {
     "name": "stderr",
     "output_type": "stream",
     "text": [
      "W0505 11:50:05.347404 140459842635584 metrics.py:103] DICE score is technically 1.0, but prediction and truth arrays are empty. \n"
     ]
    },
    {
     "name": "stderr",
     "output_type": "stream",
     "text": [
      "W0505 11:50:05.357796 140459842635584 metrics.py:103] DICE score is technically 1.0, but prediction and truth arrays are empty. \n"
     ]
    },
    {
     "name": "stderr",
     "output_type": "stream",
     "text": [
      "W0505 11:50:05.367759 140459842635584 metrics.py:103] DICE score is technically 1.0, but prediction and truth arrays are empty. \n"
     ]
    },
    {
     "name": "stderr",
     "output_type": "stream",
     "text": [
      "W0505 11:50:05.378358 140459842635584 metrics.py:103] DICE score is technically 1.0, but prediction and truth arrays are empty. \n"
     ]
    },
    {
     "name": "stderr",
     "output_type": "stream",
     "text": [
      "W0505 11:50:05.388841 140459842635584 metrics.py:103] DICE score is technically 1.0, but prediction and truth arrays are empty. \n"
     ]
    },
    {
     "name": "stderr",
     "output_type": "stream",
     "text": [
      "W0505 11:50:05.399363 140459842635584 metrics.py:103] DICE score is technically 1.0, but prediction and truth arrays are empty. \n"
     ]
    },
    {
     "name": "stderr",
     "output_type": "stream",
     "text": [
      "W0505 11:50:05.409733 140459842635584 metrics.py:103] DICE score is technically 1.0, but prediction and truth arrays are empty. \n"
     ]
    },
    {
     "name": "stderr",
     "output_type": "stream",
     "text": [
      "W0505 11:50:05.419920 140459842635584 metrics.py:103] DICE score is technically 1.0, but prediction and truth arrays are empty. \n"
     ]
    },
    {
     "name": "stderr",
     "output_type": "stream",
     "text": [
      "W0505 11:50:05.430413 140459842635584 metrics.py:103] DICE score is technically 1.0, but prediction and truth arrays are empty. \n"
     ]
    },
    {
     "name": "stderr",
     "output_type": "stream",
     "text": [
      "W0505 11:50:05.440774 140459842635584 metrics.py:103] DICE score is technically 1.0, but prediction and truth arrays are empty. \n"
     ]
    },
    {
     "name": "stderr",
     "output_type": "stream",
     "text": [
      "W0505 11:50:05.451192 140459842635584 metrics.py:103] DICE score is technically 1.0, but prediction and truth arrays are empty. \n"
     ]
    },
    {
     "name": "stderr",
     "output_type": "stream",
     "text": [
      "W0505 11:50:05.461575 140459842635584 metrics.py:103] DICE score is technically 1.0, but prediction and truth arrays are empty. \n"
     ]
    },
    {
     "name": "stderr",
     "output_type": "stream",
     "text": [
      "W0505 11:50:05.472007 140459842635584 metrics.py:103] DICE score is technically 1.0, but prediction and truth arrays are empty. \n"
     ]
    },
    {
     "name": "stderr",
     "output_type": "stream",
     "text": [
      "W0505 11:50:05.482370 140459842635584 metrics.py:103] DICE score is technically 1.0, but prediction and truth arrays are empty. \n"
     ]
    },
    {
     "name": "stderr",
     "output_type": "stream",
     "text": [
      "W0505 11:50:05.493097 140459842635584 metrics.py:103] DICE score is technically 1.0, but prediction and truth arrays are empty. \n"
     ]
    },
    {
     "name": "stderr",
     "output_type": "stream",
     "text": [
      "W0505 11:50:05.503664 140459842635584 metrics.py:103] DICE score is technically 1.0, but prediction and truth arrays are empty. \n"
     ]
    },
    {
     "name": "stderr",
     "output_type": "stream",
     "text": [
      "W0505 11:50:05.514584 140459842635584 metrics.py:103] DICE score is technically 1.0, but prediction and truth arrays are empty. \n"
     ]
    },
    {
     "name": "stderr",
     "output_type": "stream",
     "text": [
      "W0505 11:50:05.525253 140459842635584 metrics.py:103] DICE score is technically 1.0, but prediction and truth arrays are empty. \n"
     ]
    },
    {
     "name": "stderr",
     "output_type": "stream",
     "text": [
      "W0505 11:50:05.535882 140459842635584 metrics.py:103] DICE score is technically 1.0, but prediction and truth arrays are empty. \n"
     ]
    },
    {
     "name": "stderr",
     "output_type": "stream",
     "text": [
      "W0505 11:50:05.545982 140459842635584 metrics.py:103] DICE score is technically 1.0, but prediction and truth arrays are empty. \n"
     ]
    },
    {
     "name": "stderr",
     "output_type": "stream",
     "text": [
      "W0505 11:50:05.556162 140459842635584 metrics.py:103] DICE score is technically 1.0, but prediction and truth arrays are empty. \n"
     ]
    },
    {
     "name": "stderr",
     "output_type": "stream",
     "text": [
      "W0505 11:50:05.566543 140459842635584 metrics.py:103] DICE score is technically 1.0, but prediction and truth arrays are empty. \n"
     ]
    },
    {
     "name": "stderr",
     "output_type": "stream",
     "text": [
      "W0505 11:50:05.577309 140459842635584 metrics.py:103] DICE score is technically 1.0, but prediction and truth arrays are empty. \n"
     ]
    },
    {
     "name": "stderr",
     "output_type": "stream",
     "text": [
      "W0505 11:50:05.588094 140459842635584 metrics.py:103] DICE score is technically 1.0, but prediction and truth arrays are empty. \n"
     ]
    },
    {
     "name": "stderr",
     "output_type": "stream",
     "text": [
      "W0505 11:50:05.598969 140459842635584 metrics.py:103] DICE score is technically 1.0, but prediction and truth arrays are empty. \n"
     ]
    },
    {
     "name": "stderr",
     "output_type": "stream",
     "text": [
      "W0505 11:50:05.609531 140459842635584 metrics.py:103] DICE score is technically 1.0, but prediction and truth arrays are empty. \n"
     ]
    },
    {
     "name": "stderr",
     "output_type": "stream",
     "text": [
      "W0505 11:50:05.620013 140459842635584 metrics.py:103] DICE score is technically 1.0, but prediction and truth arrays are empty. \n"
     ]
    },
    {
     "name": "stderr",
     "output_type": "stream",
     "text": [
      "W0505 11:50:05.630708 140459842635584 metrics.py:103] DICE score is technically 1.0, but prediction and truth arrays are empty. \n"
     ]
    },
    {
     "name": "stderr",
     "output_type": "stream",
     "text": [
      "W0505 11:50:05.641458 140459842635584 metrics.py:103] DICE score is technically 1.0, but prediction and truth arrays are empty. \n"
     ]
    },
    {
     "name": "stderr",
     "output_type": "stream",
     "text": [
      "W0505 11:50:05.652630 140459842635584 metrics.py:103] DICE score is technically 1.0, but prediction and truth arrays are empty. \n"
     ]
    },
    {
     "name": "stderr",
     "output_type": "stream",
     "text": [
      "W0505 11:50:05.663918 140459842635584 metrics.py:103] DICE score is technically 1.0, but prediction and truth arrays are empty. \n"
     ]
    },
    {
     "name": "stderr",
     "output_type": "stream",
     "text": [
      "W0505 11:50:05.674656 140459842635584 metrics.py:103] DICE score is technically 1.0, but prediction and truth arrays are empty. \n"
     ]
    },
    {
     "name": "stderr",
     "output_type": "stream",
     "text": [
      "W0505 11:50:05.685365 140459842635584 metrics.py:103] DICE score is technically 1.0, but prediction and truth arrays are empty. \n"
     ]
    },
    {
     "name": "stderr",
     "output_type": "stream",
     "text": [
      "W0505 11:50:05.695958 140459842635584 metrics.py:103] DICE score is technically 1.0, but prediction and truth arrays are empty. \n"
     ]
    },
    {
     "name": "stderr",
     "output_type": "stream",
     "text": [
      "W0505 11:50:09.475247 140459842635584 metrics.py:103] DICE score is technically 1.0, but prediction and truth arrays are empty. \n"
     ]
    },
    {
     "name": "stderr",
     "output_type": "stream",
     "text": [
      "W0505 11:50:09.486367 140459842635584 metrics.py:103] DICE score is technically 1.0, but prediction and truth arrays are empty. \n"
     ]
    },
    {
     "name": "stderr",
     "output_type": "stream",
     "text": [
      "W0505 11:50:09.497050 140459842635584 metrics.py:103] DICE score is technically 1.0, but prediction and truth arrays are empty. \n"
     ]
    },
    {
     "name": "stderr",
     "output_type": "stream",
     "text": [
      "W0505 11:50:09.508060 140459842635584 metrics.py:103] DICE score is technically 1.0, but prediction and truth arrays are empty. \n"
     ]
    },
    {
     "name": "stderr",
     "output_type": "stream",
     "text": [
      "W0505 11:50:09.519229 140459842635584 metrics.py:103] DICE score is technically 1.0, but prediction and truth arrays are empty. \n"
     ]
    },
    {
     "name": "stderr",
     "output_type": "stream",
     "text": [
      "W0505 11:50:09.530128 140459842635584 metrics.py:103] DICE score is technically 1.0, but prediction and truth arrays are empty. \n"
     ]
    },
    {
     "name": "stderr",
     "output_type": "stream",
     "text": [
      "W0505 11:50:09.540510 140459842635584 metrics.py:103] DICE score is technically 1.0, but prediction and truth arrays are empty. \n"
     ]
    },
    {
     "name": "stderr",
     "output_type": "stream",
     "text": [
      "W0505 11:50:09.550832 140459842635584 metrics.py:103] DICE score is technically 1.0, but prediction and truth arrays are empty. \n"
     ]
    },
    {
     "name": "stderr",
     "output_type": "stream",
     "text": [
      "W0505 11:50:09.561535 140459842635584 metrics.py:103] DICE score is technically 1.0, but prediction and truth arrays are empty. \n"
     ]
    },
    {
     "name": "stderr",
     "output_type": "stream",
     "text": [
      "W0505 11:50:09.571994 140459842635584 metrics.py:103] DICE score is technically 1.0, but prediction and truth arrays are empty. \n"
     ]
    },
    {
     "name": "stderr",
     "output_type": "stream",
     "text": [
      "W0505 11:50:09.582621 140459842635584 metrics.py:103] DICE score is technically 1.0, but prediction and truth arrays are empty. \n"
     ]
    },
    {
     "name": "stderr",
     "output_type": "stream",
     "text": [
      "W0505 11:50:09.593719 140459842635584 metrics.py:103] DICE score is technically 1.0, but prediction and truth arrays are empty. \n"
     ]
    },
    {
     "name": "stderr",
     "output_type": "stream",
     "text": [
      "W0505 11:50:09.604495 140459842635584 metrics.py:103] DICE score is technically 1.0, but prediction and truth arrays are empty. \n"
     ]
    },
    {
     "name": "stderr",
     "output_type": "stream",
     "text": [
      "W0505 11:50:09.615780 140459842635584 metrics.py:103] DICE score is technically 1.0, but prediction and truth arrays are empty. \n"
     ]
    },
    {
     "name": "stderr",
     "output_type": "stream",
     "text": [
      "W0505 11:50:09.626713 140459842635584 metrics.py:103] DICE score is technically 1.0, but prediction and truth arrays are empty. \n"
     ]
    },
    {
     "name": "stderr",
     "output_type": "stream",
     "text": [
      "W0505 11:50:09.637314 140459842635584 metrics.py:103] DICE score is technically 1.0, but prediction and truth arrays are empty. \n"
     ]
    },
    {
     "name": "stderr",
     "output_type": "stream",
     "text": [
      "W0505 11:50:09.648705 140459842635584 metrics.py:103] DICE score is technically 1.0, but prediction and truth arrays are empty. \n"
     ]
    },
    {
     "name": "stderr",
     "output_type": "stream",
     "text": [
      "W0505 11:50:09.659289 140459842635584 metrics.py:103] DICE score is technically 1.0, but prediction and truth arrays are empty. \n"
     ]
    },
    {
     "name": "stderr",
     "output_type": "stream",
     "text": [
      "W0505 11:50:09.669972 140459842635584 metrics.py:103] DICE score is technically 1.0, but prediction and truth arrays are empty. \n"
     ]
    },
    {
     "name": "stderr",
     "output_type": "stream",
     "text": [
      "W0505 11:50:09.681024 140459842635584 metrics.py:103] DICE score is technically 1.0, but prediction and truth arrays are empty. \n"
     ]
    },
    {
     "name": "stderr",
     "output_type": "stream",
     "text": [
      "W0505 11:50:09.691704 140459842635584 metrics.py:103] DICE score is technically 1.0, but prediction and truth arrays are empty. \n"
     ]
    },
    {
     "name": "stderr",
     "output_type": "stream",
     "text": [
      "W0505 11:50:09.702663 140459842635584 metrics.py:103] DICE score is technically 1.0, but prediction and truth arrays are empty. \n"
     ]
    },
    {
     "name": "stderr",
     "output_type": "stream",
     "text": [
      "W0505 11:50:09.713736 140459842635584 metrics.py:103] DICE score is technically 1.0, but prediction and truth arrays are empty. \n"
     ]
    },
    {
     "name": "stderr",
     "output_type": "stream",
     "text": [
      "W0505 11:50:09.724932 140459842635584 metrics.py:103] DICE score is technically 1.0, but prediction and truth arrays are empty. \n"
     ]
    },
    {
     "name": "stderr",
     "output_type": "stream",
     "text": [
      "W0505 11:50:09.736251 140459842635584 metrics.py:103] DICE score is technically 1.0, but prediction and truth arrays are empty. \n"
     ]
    },
    {
     "name": "stderr",
     "output_type": "stream",
     "text": [
      "W0505 11:50:09.747225 140459842635584 metrics.py:103] DICE score is technically 1.0, but prediction and truth arrays are empty. \n"
     ]
    },
    {
     "name": "stderr",
     "output_type": "stream",
     "text": [
      "W0505 11:50:09.758416 140459842635584 metrics.py:103] DICE score is technically 1.0, but prediction and truth arrays are empty. \n"
     ]
    },
    {
     "name": "stderr",
     "output_type": "stream",
     "text": [
      "W0505 11:50:09.769593 140459842635584 metrics.py:103] DICE score is technically 1.0, but prediction and truth arrays are empty. \n"
     ]
    },
    {
     "name": "stderr",
     "output_type": "stream",
     "text": [
      "W0505 11:50:09.780430 140459842635584 metrics.py:103] DICE score is technically 1.0, but prediction and truth arrays are empty. \n"
     ]
    },
    {
     "name": "stderr",
     "output_type": "stream",
     "text": [
      "W0505 11:50:09.791712 140459842635584 metrics.py:103] DICE score is technically 1.0, but prediction and truth arrays are empty. \n"
     ]
    },
    {
     "name": "stderr",
     "output_type": "stream",
     "text": [
      "W0505 11:50:09.802664 140459842635584 metrics.py:103] DICE score is technically 1.0, but prediction and truth arrays are empty. \n"
     ]
    },
    {
     "name": "stderr",
     "output_type": "stream",
     "text": [
      "W0505 11:50:09.814055 140459842635584 metrics.py:103] DICE score is technically 1.0, but prediction and truth arrays are empty. \n"
     ]
    },
    {
     "name": "stderr",
     "output_type": "stream",
     "text": [
      "W0505 11:50:09.825114 140459842635584 metrics.py:103] DICE score is technically 1.0, but prediction and truth arrays are empty. \n"
     ]
    },
    {
     "name": "stderr",
     "output_type": "stream",
     "text": [
      "W0505 11:50:09.835799 140459842635584 metrics.py:103] DICE score is technically 1.0, but prediction and truth arrays are empty. \n"
     ]
    },
    {
     "name": "stderr",
     "output_type": "stream",
     "text": [
      "W0505 11:50:09.846527 140459842635584 metrics.py:103] DICE score is technically 1.0, but prediction and truth arrays are empty. \n"
     ]
    },
    {
     "name": "stderr",
     "output_type": "stream",
     "text": [
      "W0505 11:50:09.857230 140459842635584 metrics.py:103] DICE score is technically 1.0, but prediction and truth arrays are empty. \n"
     ]
    },
    {
     "name": "stderr",
     "output_type": "stream",
     "text": [
      "W0505 11:50:09.867927 140459842635584 metrics.py:103] DICE score is technically 1.0, but prediction and truth arrays are empty. \n"
     ]
    },
    {
     "name": "stderr",
     "output_type": "stream",
     "text": [
      "W0505 11:50:09.878705 140459842635584 metrics.py:103] DICE score is technically 1.0, but prediction and truth arrays are empty. \n"
     ]
    },
    {
     "name": "stderr",
     "output_type": "stream",
     "text": [
      "W0505 11:51:11.592286 140459842635584 metrics.py:103] DICE score is technically 1.0, but prediction and truth arrays are empty. \n"
     ]
    },
    {
     "name": "stderr",
     "output_type": "stream",
     "text": [
      "W0505 11:51:11.602691 140459842635584 metrics.py:103] DICE score is technically 1.0, but prediction and truth arrays are empty. \n"
     ]
    },
    {
     "name": "stderr",
     "output_type": "stream",
     "text": [
      "W0505 11:51:11.613113 140459842635584 metrics.py:103] DICE score is technically 1.0, but prediction and truth arrays are empty. \n"
     ]
    },
    {
     "name": "stderr",
     "output_type": "stream",
     "text": [
      "W0505 11:51:11.623894 140459842635584 metrics.py:103] DICE score is technically 1.0, but prediction and truth arrays are empty. \n"
     ]
    },
    {
     "name": "stderr",
     "output_type": "stream",
     "text": [
      "W0505 11:51:11.634443 140459842635584 metrics.py:103] DICE score is technically 1.0, but prediction and truth arrays are empty. \n"
     ]
    },
    {
     "name": "stderr",
     "output_type": "stream",
     "text": [
      "W0505 11:51:15.873323 140459842635584 metrics.py:103] DICE score is technically 1.0, but prediction and truth arrays are empty. \n"
     ]
    },
    {
     "name": "stderr",
     "output_type": "stream",
     "text": [
      "W0505 11:51:15.884124 140459842635584 metrics.py:103] DICE score is technically 1.0, but prediction and truth arrays are empty. \n"
     ]
    },
    {
     "name": "stderr",
     "output_type": "stream",
     "text": [
      "W0505 11:51:15.894467 140459842635584 metrics.py:103] DICE score is technically 1.0, but prediction and truth arrays are empty. \n"
     ]
    },
    {
     "name": "stderr",
     "output_type": "stream",
     "text": [
      "W0505 11:51:15.905224 140459842635584 metrics.py:103] DICE score is technically 1.0, but prediction and truth arrays are empty. \n"
     ]
    },
    {
     "name": "stderr",
     "output_type": "stream",
     "text": [
      "W0505 11:51:15.915803 140459842635584 metrics.py:103] DICE score is technically 1.0, but prediction and truth arrays are empty. \n"
     ]
    },
    {
     "name": "stderr",
     "output_type": "stream",
     "text": [
      "W0505 11:51:15.926645 140459842635584 metrics.py:103] DICE score is technically 1.0, but prediction and truth arrays are empty. \n"
     ]
    },
    {
     "name": "stderr",
     "output_type": "stream",
     "text": [
      "W0505 11:51:15.937535 140459842635584 metrics.py:103] DICE score is technically 1.0, but prediction and truth arrays are empty. \n"
     ]
    },
    {
     "name": "stderr",
     "output_type": "stream",
     "text": [
      "W0505 11:51:15.948140 140459842635584 metrics.py:103] DICE score is technically 1.0, but prediction and truth arrays are empty. \n"
     ]
    },
    {
     "name": "stderr",
     "output_type": "stream",
     "text": [
      "W0505 11:51:15.959343 140459842635584 metrics.py:103] DICE score is technically 1.0, but prediction and truth arrays are empty. \n"
     ]
    },
    {
     "name": "stderr",
     "output_type": "stream",
     "text": [
      "W0505 11:51:15.970207 140459842635584 metrics.py:103] DICE score is technically 1.0, but prediction and truth arrays are empty. \n"
     ]
    },
    {
     "name": "stderr",
     "output_type": "stream",
     "text": [
      "W0505 11:51:15.981596 140459842635584 metrics.py:103] DICE score is technically 1.0, but prediction and truth arrays are empty. \n"
     ]
    },
    {
     "name": "stderr",
     "output_type": "stream",
     "text": [
      "W0505 11:51:15.992946 140459842635584 metrics.py:103] DICE score is technically 1.0, but prediction and truth arrays are empty. \n"
     ]
    },
    {
     "name": "stderr",
     "output_type": "stream",
     "text": [
      "W0505 11:51:16.003892 140459842635584 metrics.py:103] DICE score is technically 1.0, but prediction and truth arrays are empty. \n"
     ]
    },
    {
     "name": "stderr",
     "output_type": "stream",
     "text": [
      "W0505 11:51:16.015139 140459842635584 metrics.py:103] DICE score is technically 1.0, but prediction and truth arrays are empty. \n"
     ]
    },
    {
     "name": "stderr",
     "output_type": "stream",
     "text": [
      "W0505 11:51:16.026249 140459842635584 metrics.py:103] DICE score is technically 1.0, but prediction and truth arrays are empty. \n"
     ]
    },
    {
     "name": "stderr",
     "output_type": "stream",
     "text": [
      "W0505 11:51:16.037129 140459842635584 metrics.py:103] DICE score is technically 1.0, but prediction and truth arrays are empty. \n"
     ]
    },
    {
     "name": "stderr",
     "output_type": "stream",
     "text": [
      "W0505 11:51:16.047657 140459842635584 metrics.py:103] DICE score is technically 1.0, but prediction and truth arrays are empty. \n"
     ]
    },
    {
     "name": "stderr",
     "output_type": "stream",
     "text": [
      "W0505 11:51:16.058441 140459842635584 metrics.py:103] DICE score is technically 1.0, but prediction and truth arrays are empty. \n"
     ]
    },
    {
     "name": "stderr",
     "output_type": "stream",
     "text": [
      "W0505 11:51:16.069294 140459842635584 metrics.py:103] DICE score is technically 1.0, but prediction and truth arrays are empty. \n"
     ]
    },
    {
     "name": "stderr",
     "output_type": "stream",
     "text": [
      "W0505 11:51:16.080131 140459842635584 metrics.py:103] DICE score is technically 1.0, but prediction and truth arrays are empty. \n"
     ]
    },
    {
     "name": "stderr",
     "output_type": "stream",
     "text": [
      "W0505 11:51:16.090741 140459842635584 metrics.py:103] DICE score is technically 1.0, but prediction and truth arrays are empty. \n"
     ]
    },
    {
     "name": "stderr",
     "output_type": "stream",
     "text": [
      "W0505 11:51:16.101537 140459842635584 metrics.py:103] DICE score is technically 1.0, but prediction and truth arrays are empty. \n"
     ]
    },
    {
     "name": "stderr",
     "output_type": "stream",
     "text": [
      "W0505 11:51:16.112701 140459842635584 metrics.py:103] DICE score is technically 1.0, but prediction and truth arrays are empty. \n"
     ]
    },
    {
     "name": "stderr",
     "output_type": "stream",
     "text": [
      "W0505 11:51:16.123677 140459842635584 metrics.py:103] DICE score is technically 1.0, but prediction and truth arrays are empty. \n"
     ]
    },
    {
     "name": "stderr",
     "output_type": "stream",
     "text": [
      "W0505 11:51:16.134311 140459842635584 metrics.py:103] DICE score is technically 1.0, but prediction and truth arrays are empty. \n"
     ]
    },
    {
     "name": "stderr",
     "output_type": "stream",
     "text": [
      "W0505 11:51:16.145057 140459842635584 metrics.py:103] DICE score is technically 1.0, but prediction and truth arrays are empty. \n"
     ]
    },
    {
     "name": "stderr",
     "output_type": "stream",
     "text": [
      "W0505 11:51:16.156130 140459842635584 metrics.py:103] DICE score is technically 1.0, but prediction and truth arrays are empty. \n"
     ]
    },
    {
     "name": "stderr",
     "output_type": "stream",
     "text": [
      "W0505 11:51:16.167173 140459842635584 metrics.py:103] DICE score is technically 1.0, but prediction and truth arrays are empty. \n"
     ]
    },
    {
     "name": "stderr",
     "output_type": "stream",
     "text": [
      "W0505 11:51:16.178691 140459842635584 metrics.py:103] DICE score is technically 1.0, but prediction and truth arrays are empty. \n"
     ]
    },
    {
     "name": "stderr",
     "output_type": "stream",
     "text": [
      "W0505 11:51:16.189914 140459842635584 metrics.py:103] DICE score is technically 1.0, but prediction and truth arrays are empty. \n"
     ]
    },
    {
     "name": "stderr",
     "output_type": "stream",
     "text": [
      "W0505 11:51:16.570733 140459842635584 metrics.py:103] DICE score is technically 1.0, but prediction and truth arrays are empty. \n"
     ]
    },
    {
     "name": "stderr",
     "output_type": "stream",
     "text": [
      "W0505 11:51:16.581575 140459842635584 metrics.py:103] DICE score is technically 1.0, but prediction and truth arrays are empty. \n"
     ]
    },
    {
     "name": "stderr",
     "output_type": "stream",
     "text": [
      "W0505 11:51:16.591943 140459842635584 metrics.py:103] DICE score is technically 1.0, but prediction and truth arrays are empty. \n"
     ]
    },
    {
     "name": "stderr",
     "output_type": "stream",
     "text": [
      "W0505 11:51:16.602431 140459842635584 metrics.py:103] DICE score is technically 1.0, but prediction and truth arrays are empty. \n"
     ]
    },
    {
     "name": "stderr",
     "output_type": "stream",
     "text": [
      "W0505 11:51:16.613010 140459842635584 metrics.py:103] DICE score is technically 1.0, but prediction and truth arrays are empty. \n"
     ]
    },
    {
     "name": "stderr",
     "output_type": "stream",
     "text": [
      "W0505 11:51:16.623738 140459842635584 metrics.py:103] DICE score is technically 1.0, but prediction and truth arrays are empty. \n"
     ]
    },
    {
     "name": "stderr",
     "output_type": "stream",
     "text": [
      "W0505 11:51:16.634197 140459842635584 metrics.py:103] DICE score is technically 1.0, but prediction and truth arrays are empty. \n"
     ]
    },
    {
     "name": "stderr",
     "output_type": "stream",
     "text": [
      "W0505 11:51:16.644646 140459842635584 metrics.py:103] DICE score is technically 1.0, but prediction and truth arrays are empty. \n"
     ]
    },
    {
     "name": "stderr",
     "output_type": "stream",
     "text": [
      "W0505 11:51:16.655304 140459842635584 metrics.py:103] DICE score is technically 1.0, but prediction and truth arrays are empty. \n"
     ]
    },
    {
     "name": "stderr",
     "output_type": "stream",
     "text": [
      "W0505 11:51:16.666224 140459842635584 metrics.py:103] DICE score is technically 1.0, but prediction and truth arrays are empty. \n"
     ]
    },
    {
     "name": "stderr",
     "output_type": "stream",
     "text": [
      "W0505 11:51:16.677161 140459842635584 metrics.py:103] DICE score is technically 1.0, but prediction and truth arrays are empty. \n"
     ]
    },
    {
     "name": "stderr",
     "output_type": "stream",
     "text": [
      "W0505 11:51:16.687981 140459842635584 metrics.py:103] DICE score is technically 1.0, but prediction and truth arrays are empty. \n"
     ]
    },
    {
     "name": "stderr",
     "output_type": "stream",
     "text": [
      "W0505 11:51:16.698984 140459842635584 metrics.py:103] DICE score is technically 1.0, but prediction and truth arrays are empty. \n"
     ]
    },
    {
     "name": "stderr",
     "output_type": "stream",
     "text": [
      "W0505 11:51:16.709803 140459842635584 metrics.py:103] DICE score is technically 1.0, but prediction and truth arrays are empty. \n"
     ]
    },
    {
     "name": "stderr",
     "output_type": "stream",
     "text": [
      "W0505 11:51:16.720676 140459842635584 metrics.py:103] DICE score is technically 1.0, but prediction and truth arrays are empty. \n"
     ]
    },
    {
     "name": "stderr",
     "output_type": "stream",
     "text": [
      "W0505 11:51:16.731367 140459842635584 metrics.py:103] DICE score is technically 1.0, but prediction and truth arrays are empty. \n"
     ]
    },
    {
     "name": "stderr",
     "output_type": "stream",
     "text": [
      "W0505 11:51:16.742185 140459842635584 metrics.py:103] DICE score is technically 1.0, but prediction and truth arrays are empty. \n"
     ]
    },
    {
     "name": "stderr",
     "output_type": "stream",
     "text": [
      "W0505 11:51:16.752993 140459842635584 metrics.py:103] DICE score is technically 1.0, but prediction and truth arrays are empty. \n"
     ]
    },
    {
     "name": "stderr",
     "output_type": "stream",
     "text": [
      "W0505 11:51:16.763635 140459842635584 metrics.py:103] DICE score is technically 1.0, but prediction and truth arrays are empty. \n"
     ]
    },
    {
     "name": "stderr",
     "output_type": "stream",
     "text": [
      "W0505 11:51:16.774420 140459842635584 metrics.py:103] DICE score is technically 1.0, but prediction and truth arrays are empty. \n"
     ]
    },
    {
     "name": "stderr",
     "output_type": "stream",
     "text": [
      "W0505 11:51:16.785127 140459842635584 metrics.py:103] DICE score is technically 1.0, but prediction and truth arrays are empty. \n"
     ]
    },
    {
     "name": "stderr",
     "output_type": "stream",
     "text": [
      "W0505 11:51:16.795564 140459842635584 metrics.py:103] DICE score is technically 1.0, but prediction and truth arrays are empty. \n"
     ]
    },
    {
     "name": "stderr",
     "output_type": "stream",
     "text": [
      "W0505 11:51:16.806059 140459842635584 metrics.py:103] DICE score is technically 1.0, but prediction and truth arrays are empty. \n"
     ]
    },
    {
     "name": "stderr",
     "output_type": "stream",
     "text": [
      "W0505 11:51:16.817098 140459842635584 metrics.py:103] DICE score is technically 1.0, but prediction and truth arrays are empty. \n"
     ]
    },
    {
     "name": "stderr",
     "output_type": "stream",
     "text": [
      "W0505 11:51:16.827940 140459842635584 metrics.py:103] DICE score is technically 1.0, but prediction and truth arrays are empty. \n"
     ]
    },
    {
     "name": "stderr",
     "output_type": "stream",
     "text": [
      "W0505 11:51:16.838617 140459842635584 metrics.py:103] DICE score is technically 1.0, but prediction and truth arrays are empty. \n"
     ]
    },
    {
     "name": "stderr",
     "output_type": "stream",
     "text": [
      "W0505 11:51:16.849213 140459842635584 metrics.py:103] DICE score is technically 1.0, but prediction and truth arrays are empty. \n"
     ]
    },
    {
     "name": "stderr",
     "output_type": "stream",
     "text": [
      "W0505 11:51:16.859697 140459842635584 metrics.py:103] DICE score is technically 1.0, but prediction and truth arrays are empty. \n"
     ]
    },
    {
     "name": "stderr",
     "output_type": "stream",
     "text": [
      "W0505 11:51:16.870711 140459842635584 metrics.py:103] DICE score is technically 1.0, but prediction and truth arrays are empty. \n"
     ]
    },
    {
     "name": "stderr",
     "output_type": "stream",
     "text": [
      "W0505 11:51:16.881375 140459842635584 metrics.py:103] DICE score is technically 1.0, but prediction and truth arrays are empty. \n"
     ]
    },
    {
     "name": "stderr",
     "output_type": "stream",
     "text": [
      "W0505 11:51:22.612761 140459842635584 metrics.py:103] DICE score is technically 1.0, but prediction and truth arrays are empty. \n"
     ]
    },
    {
     "name": "stderr",
     "output_type": "stream",
     "text": [
      "W0505 11:51:22.908139 140459842635584 metrics.py:103] DICE score is technically 1.0, but prediction and truth arrays are empty. \n"
     ]
    },
    {
     "name": "stderr",
     "output_type": "stream",
     "text": [
      "W0505 11:51:22.918681 140459842635584 metrics.py:103] DICE score is technically 1.0, but prediction and truth arrays are empty. \n"
     ]
    },
    {
     "name": "stderr",
     "output_type": "stream",
     "text": [
      "W0505 11:51:23.664081 140459842635584 metrics.py:103] DICE score is technically 1.0, but prediction and truth arrays are empty. \n"
     ]
    },
    {
     "name": "stderr",
     "output_type": "stream",
     "text": [
      "W0505 11:51:23.674720 140459842635584 metrics.py:103] DICE score is technically 1.0, but prediction and truth arrays are empty. \n"
     ]
    },
    {
     "name": "stderr",
     "output_type": "stream",
     "text": [
      "W0505 11:51:23.685776 140459842635584 metrics.py:103] DICE score is technically 1.0, but prediction and truth arrays are empty. \n"
     ]
    },
    {
     "name": "stderr",
     "output_type": "stream",
     "text": [
      "W0505 11:51:23.696193 140459842635584 metrics.py:103] DICE score is technically 1.0, but prediction and truth arrays are empty. \n"
     ]
    },
    {
     "name": "stderr",
     "output_type": "stream",
     "text": [
      "W0505 11:51:23.706862 140459842635584 metrics.py:103] DICE score is technically 1.0, but prediction and truth arrays are empty. \n"
     ]
    },
    {
     "name": "stderr",
     "output_type": "stream",
     "text": [
      "W0505 11:51:23.717549 140459842635584 metrics.py:103] DICE score is technically 1.0, but prediction and truth arrays are empty. \n"
     ]
    },
    {
     "name": "stderr",
     "output_type": "stream",
     "text": [
      "W0505 11:51:23.727998 140459842635584 metrics.py:103] DICE score is technically 1.0, but prediction and truth arrays are empty. \n"
     ]
    },
    {
     "name": "stderr",
     "output_type": "stream",
     "text": [
      "W0505 11:51:23.738725 140459842635584 metrics.py:103] DICE score is technically 1.0, but prediction and truth arrays are empty. \n"
     ]
    },
    {
     "name": "stderr",
     "output_type": "stream",
     "text": [
      "W0505 11:51:23.749351 140459842635584 metrics.py:103] DICE score is technically 1.0, but prediction and truth arrays are empty. \n"
     ]
    },
    {
     "name": "stderr",
     "output_type": "stream",
     "text": [
      "W0505 11:51:23.760138 140459842635584 metrics.py:103] DICE score is technically 1.0, but prediction and truth arrays are empty. \n"
     ]
    },
    {
     "name": "stderr",
     "output_type": "stream",
     "text": [
      "W0505 11:51:23.770791 140459842635584 metrics.py:103] DICE score is technically 1.0, but prediction and truth arrays are empty. \n"
     ]
    },
    {
     "name": "stderr",
     "output_type": "stream",
     "text": [
      "W0505 11:51:23.781601 140459842635584 metrics.py:103] DICE score is technically 1.0, but prediction and truth arrays are empty. \n"
     ]
    },
    {
     "name": "stderr",
     "output_type": "stream",
     "text": [
      "W0505 11:51:23.792281 140459842635584 metrics.py:103] DICE score is technically 1.0, but prediction and truth arrays are empty. \n"
     ]
    },
    {
     "name": "stderr",
     "output_type": "stream",
     "text": [
      "W0505 11:51:23.803066 140459842635584 metrics.py:103] DICE score is technically 1.0, but prediction and truth arrays are empty. \n"
     ]
    },
    {
     "name": "stderr",
     "output_type": "stream",
     "text": [
      "W0505 11:51:23.813815 140459842635584 metrics.py:103] DICE score is technically 1.0, but prediction and truth arrays are empty. \n"
     ]
    },
    {
     "name": "stderr",
     "output_type": "stream",
     "text": [
      "W0505 11:51:23.824608 140459842635584 metrics.py:103] DICE score is technically 1.0, but prediction and truth arrays are empty. \n"
     ]
    },
    {
     "name": "stderr",
     "output_type": "stream",
     "text": [
      "W0505 11:51:23.835221 140459842635584 metrics.py:103] DICE score is technically 1.0, but prediction and truth arrays are empty. \n"
     ]
    },
    {
     "name": "stderr",
     "output_type": "stream",
     "text": [
      "W0505 11:51:23.846128 140459842635584 metrics.py:103] DICE score is technically 1.0, but prediction and truth arrays are empty. \n"
     ]
    },
    {
     "name": "stderr",
     "output_type": "stream",
     "text": [
      "W0505 11:51:23.856743 140459842635584 metrics.py:103] DICE score is technically 1.0, but prediction and truth arrays are empty. \n"
     ]
    },
    {
     "name": "stderr",
     "output_type": "stream",
     "text": [
      "W0505 11:51:23.867463 140459842635584 metrics.py:103] DICE score is technically 1.0, but prediction and truth arrays are empty. \n"
     ]
    },
    {
     "name": "stderr",
     "output_type": "stream",
     "text": [
      "W0505 11:51:23.878070 140459842635584 metrics.py:103] DICE score is technically 1.0, but prediction and truth arrays are empty. \n"
     ]
    },
    {
     "name": "stderr",
     "output_type": "stream",
     "text": [
      "W0505 11:51:23.888732 140459842635584 metrics.py:103] DICE score is technically 1.0, but prediction and truth arrays are empty. \n"
     ]
    },
    {
     "name": "stderr",
     "output_type": "stream",
     "text": [
      "W0505 11:51:23.899208 140459842635584 metrics.py:103] DICE score is technically 1.0, but prediction and truth arrays are empty. \n"
     ]
    },
    {
     "name": "stderr",
     "output_type": "stream",
     "text": [
      "W0505 11:51:23.910294 140459842635584 metrics.py:103] DICE score is technically 1.0, but prediction and truth arrays are empty. \n"
     ]
    },
    {
     "name": "stderr",
     "output_type": "stream",
     "text": [
      "W0505 11:51:23.921085 140459842635584 metrics.py:103] DICE score is technically 1.0, but prediction and truth arrays are empty. \n"
     ]
    },
    {
     "name": "stderr",
     "output_type": "stream",
     "text": [
      "W0505 11:51:23.931623 140459842635584 metrics.py:103] DICE score is technically 1.0, but prediction and truth arrays are empty. \n"
     ]
    },
    {
     "name": "stderr",
     "output_type": "stream",
     "text": [
      "W0505 11:51:23.942364 140459842635584 metrics.py:103] DICE score is technically 1.0, but prediction and truth arrays are empty. \n"
     ]
    },
    {
     "name": "stderr",
     "output_type": "stream",
     "text": [
      "W0505 11:51:23.952719 140459842635584 metrics.py:103] DICE score is technically 1.0, but prediction and truth arrays are empty. \n"
     ]
    },
    {
     "name": "stderr",
     "output_type": "stream",
     "text": [
      "W0505 11:51:23.963327 140459842635584 metrics.py:103] DICE score is technically 1.0, but prediction and truth arrays are empty. \n"
     ]
    },
    {
     "name": "stderr",
     "output_type": "stream",
     "text": [
      "W0505 11:51:23.974135 140459842635584 metrics.py:103] DICE score is technically 1.0, but prediction and truth arrays are empty. \n"
     ]
    },
    {
     "name": "stderr",
     "output_type": "stream",
     "text": [
      "W0505 11:51:24.358973 140459842635584 metrics.py:103] DICE score is technically 1.0, but prediction and truth arrays are empty. \n"
     ]
    },
    {
     "name": "stderr",
     "output_type": "stream",
     "text": [
      "W0505 11:51:24.369670 140459842635584 metrics.py:103] DICE score is technically 1.0, but prediction and truth arrays are empty. \n"
     ]
    },
    {
     "name": "stderr",
     "output_type": "stream",
     "text": [
      "W0505 11:51:24.380334 140459842635584 metrics.py:103] DICE score is technically 1.0, but prediction and truth arrays are empty. \n"
     ]
    },
    {
     "name": "stderr",
     "output_type": "stream",
     "text": [
      "W0505 11:51:24.390776 140459842635584 metrics.py:103] DICE score is technically 1.0, but prediction and truth arrays are empty. \n"
     ]
    },
    {
     "name": "stderr",
     "output_type": "stream",
     "text": [
      "W0505 11:51:24.401084 140459842635584 metrics.py:103] DICE score is technically 1.0, but prediction and truth arrays are empty. \n"
     ]
    },
    {
     "name": "stderr",
     "output_type": "stream",
     "text": [
      "W0505 11:51:24.411561 140459842635584 metrics.py:103] DICE score is technically 1.0, but prediction and truth arrays are empty. \n"
     ]
    },
    {
     "name": "stderr",
     "output_type": "stream",
     "text": [
      "W0505 11:51:24.422370 140459842635584 metrics.py:103] DICE score is technically 1.0, but prediction and truth arrays are empty. \n"
     ]
    },
    {
     "name": "stderr",
     "output_type": "stream",
     "text": [
      "W0505 11:51:24.432743 140459842635584 metrics.py:103] DICE score is technically 1.0, but prediction and truth arrays are empty. \n"
     ]
    },
    {
     "name": "stderr",
     "output_type": "stream",
     "text": [
      "W0505 11:51:24.443124 140459842635584 metrics.py:103] DICE score is technically 1.0, but prediction and truth arrays are empty. \n"
     ]
    },
    {
     "name": "stderr",
     "output_type": "stream",
     "text": [
      "W0505 11:51:24.453707 140459842635584 metrics.py:103] DICE score is technically 1.0, but prediction and truth arrays are empty. \n"
     ]
    },
    {
     "name": "stderr",
     "output_type": "stream",
     "text": [
      "W0505 11:51:24.464439 140459842635584 metrics.py:103] DICE score is technically 1.0, but prediction and truth arrays are empty. \n"
     ]
    },
    {
     "name": "stderr",
     "output_type": "stream",
     "text": [
      "W0505 11:51:24.474992 140459842635584 metrics.py:103] DICE score is technically 1.0, but prediction and truth arrays are empty. \n"
     ]
    },
    {
     "name": "stderr",
     "output_type": "stream",
     "text": [
      "W0505 11:51:24.485745 140459842635584 metrics.py:103] DICE score is technically 1.0, but prediction and truth arrays are empty. \n"
     ]
    },
    {
     "name": "stderr",
     "output_type": "stream",
     "text": [
      "W0505 11:51:24.496873 140459842635584 metrics.py:103] DICE score is technically 1.0, but prediction and truth arrays are empty. \n"
     ]
    },
    {
     "name": "stderr",
     "output_type": "stream",
     "text": [
      "W0505 11:51:24.507928 140459842635584 metrics.py:103] DICE score is technically 1.0, but prediction and truth arrays are empty. \n"
     ]
    },
    {
     "name": "stderr",
     "output_type": "stream",
     "text": [
      "W0505 11:51:24.518826 140459842635584 metrics.py:103] DICE score is technically 1.0, but prediction and truth arrays are empty. \n"
     ]
    },
    {
     "name": "stderr",
     "output_type": "stream",
     "text": [
      "W0505 11:51:24.529571 140459842635584 metrics.py:103] DICE score is technically 1.0, but prediction and truth arrays are empty. \n"
     ]
    },
    {
     "name": "stderr",
     "output_type": "stream",
     "text": [
      "W0505 11:51:24.540148 140459842635584 metrics.py:103] DICE score is technically 1.0, but prediction and truth arrays are empty. \n"
     ]
    },
    {
     "name": "stderr",
     "output_type": "stream",
     "text": [
      "W0505 11:51:24.550927 140459842635584 metrics.py:103] DICE score is technically 1.0, but prediction and truth arrays are empty. \n"
     ]
    },
    {
     "name": "stderr",
     "output_type": "stream",
     "text": [
      "W0505 11:51:24.561575 140459842635584 metrics.py:103] DICE score is technically 1.0, but prediction and truth arrays are empty. \n"
     ]
    },
    {
     "name": "stderr",
     "output_type": "stream",
     "text": [
      "W0505 11:51:24.572188 140459842635584 metrics.py:103] DICE score is technically 1.0, but prediction and truth arrays are empty. \n"
     ]
    },
    {
     "name": "stderr",
     "output_type": "stream",
     "text": [
      "W0505 11:51:24.582834 140459842635584 metrics.py:103] DICE score is technically 1.0, but prediction and truth arrays are empty. \n"
     ]
    },
    {
     "name": "stderr",
     "output_type": "stream",
     "text": [
      "W0505 11:51:24.593502 140459842635584 metrics.py:103] DICE score is technically 1.0, but prediction and truth arrays are empty. \n"
     ]
    },
    {
     "name": "stderr",
     "output_type": "stream",
     "text": [
      "W0505 11:51:24.604091 140459842635584 metrics.py:103] DICE score is technically 1.0, but prediction and truth arrays are empty. \n"
     ]
    },
    {
     "name": "stderr",
     "output_type": "stream",
     "text": [
      "W0505 11:51:24.614615 140459842635584 metrics.py:103] DICE score is technically 1.0, but prediction and truth arrays are empty. \n"
     ]
    },
    {
     "name": "stderr",
     "output_type": "stream",
     "text": [
      "W0505 11:51:24.626022 140459842635584 metrics.py:103] DICE score is technically 1.0, but prediction and truth arrays are empty. \n"
     ]
    },
    {
     "name": "stderr",
     "output_type": "stream",
     "text": [
      "W0505 11:51:24.637665 140459842635584 metrics.py:103] DICE score is technically 1.0, but prediction and truth arrays are empty. \n"
     ]
    },
    {
     "name": "stderr",
     "output_type": "stream",
     "text": [
      "W0505 11:51:24.649659 140459842635584 metrics.py:103] DICE score is technically 1.0, but prediction and truth arrays are empty. \n"
     ]
    },
    {
     "name": "stderr",
     "output_type": "stream",
     "text": [
      "W0505 11:51:24.661544 140459842635584 metrics.py:103] DICE score is technically 1.0, but prediction and truth arrays are empty. \n"
     ]
    },
    {
     "name": "stderr",
     "output_type": "stream",
     "text": [
      "W0505 11:51:24.673477 140459842635584 metrics.py:103] DICE score is technically 1.0, but prediction and truth arrays are empty. \n"
     ]
    },
    {
     "name": "stderr",
     "output_type": "stream",
     "text": [
      "W0505 11:51:26.118828 140459842635584 metrics.py:103] DICE score is technically 1.0, but prediction and truth arrays are empty. \n"
     ]
    },
    {
     "name": "stderr",
     "output_type": "stream",
     "text": [
      "W0505 11:51:26.129994 140459842635584 metrics.py:103] DICE score is technically 1.0, but prediction and truth arrays are empty. \n"
     ]
    },
    {
     "name": "stderr",
     "output_type": "stream",
     "text": [
      "W0505 11:51:26.141083 140459842635584 metrics.py:103] DICE score is technically 1.0, but prediction and truth arrays are empty. \n"
     ]
    },
    {
     "name": "stderr",
     "output_type": "stream",
     "text": [
      "W0505 11:51:26.152397 140459842635584 metrics.py:103] DICE score is technically 1.0, but prediction and truth arrays are empty. \n"
     ]
    },
    {
     "name": "stderr",
     "output_type": "stream",
     "text": [
      "W0505 11:51:26.163153 140459842635584 metrics.py:103] DICE score is technically 1.0, but prediction and truth arrays are empty. \n"
     ]
    },
    {
     "name": "stderr",
     "output_type": "stream",
     "text": [
      "W0505 11:51:26.173835 140459842635584 metrics.py:103] DICE score is technically 1.0, but prediction and truth arrays are empty. \n"
     ]
    },
    {
     "name": "stderr",
     "output_type": "stream",
     "text": [
      "W0505 11:51:26.184399 140459842635584 metrics.py:103] DICE score is technically 1.0, but prediction and truth arrays are empty. \n"
     ]
    },
    {
     "name": "stderr",
     "output_type": "stream",
     "text": [
      "W0505 11:51:26.194911 140459842635584 metrics.py:103] DICE score is technically 1.0, but prediction and truth arrays are empty. \n"
     ]
    },
    {
     "name": "stderr",
     "output_type": "stream",
     "text": [
      "W0505 11:51:26.205566 140459842635584 metrics.py:103] DICE score is technically 1.0, but prediction and truth arrays are empty. \n"
     ]
    },
    {
     "name": "stderr",
     "output_type": "stream",
     "text": [
      "W0505 11:51:26.216671 140459842635584 metrics.py:103] DICE score is technically 1.0, but prediction and truth arrays are empty. \n"
     ]
    },
    {
     "name": "stderr",
     "output_type": "stream",
     "text": [
      "W0505 11:51:26.227264 140459842635584 metrics.py:103] DICE score is technically 1.0, but prediction and truth arrays are empty. \n"
     ]
    },
    {
     "name": "stderr",
     "output_type": "stream",
     "text": [
      "W0505 11:51:26.238035 140459842635584 metrics.py:103] DICE score is technically 1.0, but prediction and truth arrays are empty. \n"
     ]
    },
    {
     "name": "stderr",
     "output_type": "stream",
     "text": [
      "W0505 11:51:26.248423 140459842635584 metrics.py:103] DICE score is technically 1.0, but prediction and truth arrays are empty. \n"
     ]
    },
    {
     "name": "stderr",
     "output_type": "stream",
     "text": [
      "W0505 11:51:26.259323 140459842635584 metrics.py:103] DICE score is technically 1.0, but prediction and truth arrays are empty. \n"
     ]
    },
    {
     "name": "stderr",
     "output_type": "stream",
     "text": [
      "W0505 11:51:26.270097 140459842635584 metrics.py:103] DICE score is technically 1.0, but prediction and truth arrays are empty. \n"
     ]
    },
    {
     "name": "stderr",
     "output_type": "stream",
     "text": [
      "W0505 11:51:26.280724 140459842635584 metrics.py:103] DICE score is technically 1.0, but prediction and truth arrays are empty. \n"
     ]
    },
    {
     "name": "stderr",
     "output_type": "stream",
     "text": [
      "W0505 11:51:26.291169 140459842635584 metrics.py:103] DICE score is technically 1.0, but prediction and truth arrays are empty. \n"
     ]
    },
    {
     "name": "stderr",
     "output_type": "stream",
     "text": [
      "W0505 11:51:26.301564 140459842635584 metrics.py:103] DICE score is technically 1.0, but prediction and truth arrays are empty. \n"
     ]
    },
    {
     "name": "stderr",
     "output_type": "stream",
     "text": [
      "W0505 11:51:26.312137 140459842635584 metrics.py:103] DICE score is technically 1.0, but prediction and truth arrays are empty. \n"
     ]
    },
    {
     "name": "stderr",
     "output_type": "stream",
     "text": [
      "W0505 11:51:26.323003 140459842635584 metrics.py:103] DICE score is technically 1.0, but prediction and truth arrays are empty. \n"
     ]
    },
    {
     "name": "stderr",
     "output_type": "stream",
     "text": [
      "W0505 11:51:26.333883 140459842635584 metrics.py:103] DICE score is technically 1.0, but prediction and truth arrays are empty. \n"
     ]
    },
    {
     "name": "stderr",
     "output_type": "stream",
     "text": [
      "W0505 11:51:26.344660 140459842635584 metrics.py:103] DICE score is technically 1.0, but prediction and truth arrays are empty. \n"
     ]
    },
    {
     "name": "stderr",
     "output_type": "stream",
     "text": [
      "W0505 11:51:26.354980 140459842635584 metrics.py:103] DICE score is technically 1.0, but prediction and truth arrays are empty. \n"
     ]
    },
    {
     "name": "stderr",
     "output_type": "stream",
     "text": [
      "W0505 11:51:26.365474 140459842635584 metrics.py:103] DICE score is technically 1.0, but prediction and truth arrays are empty. \n"
     ]
    },
    {
     "name": "stderr",
     "output_type": "stream",
     "text": [
      "W0505 11:51:26.376031 140459842635584 metrics.py:103] DICE score is technically 1.0, but prediction and truth arrays are empty. \n"
     ]
    },
    {
     "name": "stderr",
     "output_type": "stream",
     "text": [
      "W0505 11:51:26.386470 140459842635584 metrics.py:103] DICE score is technically 1.0, but prediction and truth arrays are empty. \n"
     ]
    },
    {
     "name": "stderr",
     "output_type": "stream",
     "text": [
      "W0505 11:51:26.397145 140459842635584 metrics.py:103] DICE score is technically 1.0, but prediction and truth arrays are empty. \n"
     ]
    },
    {
     "name": "stderr",
     "output_type": "stream",
     "text": [
      "W0505 11:51:26.407698 140459842635584 metrics.py:103] DICE score is technically 1.0, but prediction and truth arrays are empty. \n"
     ]
    },
    {
     "name": "stderr",
     "output_type": "stream",
     "text": [
      "W0505 11:51:26.418220 140459842635584 metrics.py:103] DICE score is technically 1.0, but prediction and truth arrays are empty. \n"
     ]
    },
    {
     "name": "stderr",
     "output_type": "stream",
     "text": [
      "W0505 11:51:26.428716 140459842635584 metrics.py:103] DICE score is technically 1.0, but prediction and truth arrays are empty. \n"
     ]
    },
    {
     "name": "stderr",
     "output_type": "stream",
     "text": [
      "W0505 11:51:27.086056 140459842635584 metrics.py:103] DICE score is technically 1.0, but prediction and truth arrays are empty. \n"
     ]
    },
    {
     "name": "stderr",
     "output_type": "stream",
     "text": [
      "W0505 11:51:27.096713 140459842635584 metrics.py:103] DICE score is technically 1.0, but prediction and truth arrays are empty. \n"
     ]
    },
    {
     "name": "stderr",
     "output_type": "stream",
     "text": [
      "W0505 11:51:27.107478 140459842635584 metrics.py:103] DICE score is technically 1.0, but prediction and truth arrays are empty. \n"
     ]
    },
    {
     "name": "stderr",
     "output_type": "stream",
     "text": [
      "W0505 11:51:27.118158 140459842635584 metrics.py:103] DICE score is technically 1.0, but prediction and truth arrays are empty. \n"
     ]
    },
    {
     "name": "stderr",
     "output_type": "stream",
     "text": [
      "W0505 11:51:27.128707 140459842635584 metrics.py:103] DICE score is technically 1.0, but prediction and truth arrays are empty. \n"
     ]
    },
    {
     "name": "stderr",
     "output_type": "stream",
     "text": [
      "W0505 11:51:27.139381 140459842635584 metrics.py:103] DICE score is technically 1.0, but prediction and truth arrays are empty. \n"
     ]
    },
    {
     "name": "stderr",
     "output_type": "stream",
     "text": [
      "W0505 11:51:27.149748 140459842635584 metrics.py:103] DICE score is technically 1.0, but prediction and truth arrays are empty. \n"
     ]
    },
    {
     "name": "stderr",
     "output_type": "stream",
     "text": [
      "W0505 11:51:27.160151 140459842635584 metrics.py:103] DICE score is technically 1.0, but prediction and truth arrays are empty. \n"
     ]
    },
    {
     "name": "stderr",
     "output_type": "stream",
     "text": [
      "W0505 11:51:27.170448 140459842635584 metrics.py:103] DICE score is technically 1.0, but prediction and truth arrays are empty. \n"
     ]
    },
    {
     "name": "stderr",
     "output_type": "stream",
     "text": [
      "W0505 11:51:27.180785 140459842635584 metrics.py:103] DICE score is technically 1.0, but prediction and truth arrays are empty. \n"
     ]
    },
    {
     "name": "stderr",
     "output_type": "stream",
     "text": [
      "W0505 11:51:27.191224 140459842635584 metrics.py:103] DICE score is technically 1.0, but prediction and truth arrays are empty. \n"
     ]
    },
    {
     "name": "stderr",
     "output_type": "stream",
     "text": [
      "W0505 11:51:27.201997 140459842635584 metrics.py:103] DICE score is technically 1.0, but prediction and truth arrays are empty. \n"
     ]
    },
    {
     "name": "stderr",
     "output_type": "stream",
     "text": [
      "W0505 11:51:27.212454 140459842635584 metrics.py:103] DICE score is technically 1.0, but prediction and truth arrays are empty. \n"
     ]
    },
    {
     "name": "stderr",
     "output_type": "stream",
     "text": [
      "W0505 11:51:27.222934 140459842635584 metrics.py:103] DICE score is technically 1.0, but prediction and truth arrays are empty. \n"
     ]
    },
    {
     "name": "stderr",
     "output_type": "stream",
     "text": [
      "W0505 11:51:27.233910 140459842635584 metrics.py:103] DICE score is technically 1.0, but prediction and truth arrays are empty. \n"
     ]
    },
    {
     "name": "stderr",
     "output_type": "stream",
     "text": [
      "W0505 11:51:27.244207 140459842635584 metrics.py:103] DICE score is technically 1.0, but prediction and truth arrays are empty. \n"
     ]
    },
    {
     "name": "stderr",
     "output_type": "stream",
     "text": [
      "W0505 11:51:27.255000 140459842635584 metrics.py:103] DICE score is technically 1.0, but prediction and truth arrays are empty. \n"
     ]
    },
    {
     "name": "stderr",
     "output_type": "stream",
     "text": [
      "W0505 11:51:27.265883 140459842635584 metrics.py:103] DICE score is technically 1.0, but prediction and truth arrays are empty. \n"
     ]
    },
    {
     "name": "stderr",
     "output_type": "stream",
     "text": [
      "W0505 11:51:27.277239 140459842635584 metrics.py:103] DICE score is technically 1.0, but prediction and truth arrays are empty. \n"
     ]
    },
    {
     "name": "stderr",
     "output_type": "stream",
     "text": [
      "W0505 11:51:27.287798 140459842635584 metrics.py:103] DICE score is technically 1.0, but prediction and truth arrays are empty. \n"
     ]
    },
    {
     "name": "stderr",
     "output_type": "stream",
     "text": [
      "W0505 11:51:27.308490 140459842635584 metrics.py:103] DICE score is technically 1.0, but prediction and truth arrays are empty. \n"
     ]
    },
    {
     "name": "stderr",
     "output_type": "stream",
     "text": [
      "W0505 11:51:27.319026 140459842635584 metrics.py:103] DICE score is technically 1.0, but prediction and truth arrays are empty. \n"
     ]
    },
    {
     "name": "stderr",
     "output_type": "stream",
     "text": [
      "W0505 11:51:27.329468 140459842635584 metrics.py:103] DICE score is technically 1.0, but prediction and truth arrays are empty. \n"
     ]
    },
    {
     "name": "stderr",
     "output_type": "stream",
     "text": [
      "W0505 11:51:27.340777 140459842635584 metrics.py:103] DICE score is technically 1.0, but prediction and truth arrays are empty. \n"
     ]
    },
    {
     "name": "stderr",
     "output_type": "stream",
     "text": [
      "W0505 11:51:27.351854 140459842635584 metrics.py:103] DICE score is technically 1.0, but prediction and truth arrays are empty. \n"
     ]
    },
    {
     "name": "stderr",
     "output_type": "stream",
     "text": [
      "W0505 11:51:27.362829 140459842635584 metrics.py:103] DICE score is technically 1.0, but prediction and truth arrays are empty. \n"
     ]
    },
    {
     "name": "stderr",
     "output_type": "stream",
     "text": [
      "W0505 11:51:27.373623 140459842635584 metrics.py:103] DICE score is technically 1.0, but prediction and truth arrays are empty. \n"
     ]
    },
    {
     "name": "stderr",
     "output_type": "stream",
     "text": [
      "W0505 11:51:27.384581 140459842635584 metrics.py:103] DICE score is technically 1.0, but prediction and truth arrays are empty. \n"
     ]
    },
    {
     "name": "stderr",
     "output_type": "stream",
     "text": [
      "W0505 11:51:29.551690 140459842635584 metrics.py:103] DICE score is technically 1.0, but prediction and truth arrays are empty. \n"
     ]
    },
    {
     "name": "stderr",
     "output_type": "stream",
     "text": [
      "W0505 11:51:29.580633 140459842635584 metrics.py:103] DICE score is technically 1.0, but prediction and truth arrays are empty. \n"
     ]
    },
    {
     "name": "stderr",
     "output_type": "stream",
     "text": [
      "W0505 11:51:29.591166 140459842635584 metrics.py:103] DICE score is technically 1.0, but prediction and truth arrays are empty. \n"
     ]
    },
    {
     "name": "stderr",
     "output_type": "stream",
     "text": [
      "W0505 11:51:29.601857 140459842635584 metrics.py:103] DICE score is technically 1.0, but prediction and truth arrays are empty. \n"
     ]
    },
    {
     "name": "stderr",
     "output_type": "stream",
     "text": [
      "W0505 11:51:29.622050 140459842635584 metrics.py:103] DICE score is technically 1.0, but prediction and truth arrays are empty. \n"
     ]
    },
    {
     "name": "stderr",
     "output_type": "stream",
     "text": [
      "W0505 11:51:29.632975 140459842635584 metrics.py:103] DICE score is technically 1.0, but prediction and truth arrays are empty. \n"
     ]
    },
    {
     "name": "stderr",
     "output_type": "stream",
     "text": [
      "W0505 11:51:29.643934 140459842635584 metrics.py:103] DICE score is technically 1.0, but prediction and truth arrays are empty. \n"
     ]
    },
    {
     "name": "stderr",
     "output_type": "stream",
     "text": [
      "W0505 11:51:29.654409 140459842635584 metrics.py:103] DICE score is technically 1.0, but prediction and truth arrays are empty. \n"
     ]
    },
    {
     "name": "stderr",
     "output_type": "stream",
     "text": [
      "W0505 11:51:29.665078 140459842635584 metrics.py:103] DICE score is technically 1.0, but prediction and truth arrays are empty. \n"
     ]
    },
    {
     "name": "stderr",
     "output_type": "stream",
     "text": [
      "W0505 11:51:29.675557 140459842635584 metrics.py:103] DICE score is technically 1.0, but prediction and truth arrays are empty. \n"
     ]
    },
    {
     "name": "stderr",
     "output_type": "stream",
     "text": [
      "W0505 11:51:29.686144 140459842635584 metrics.py:103] DICE score is technically 1.0, but prediction and truth arrays are empty. \n"
     ]
    },
    {
     "name": "stderr",
     "output_type": "stream",
     "text": [
      "W0505 11:51:29.696501 140459842635584 metrics.py:103] DICE score is technically 1.0, but prediction and truth arrays are empty. \n"
     ]
    },
    {
     "name": "stderr",
     "output_type": "stream",
     "text": [
      "W0505 11:51:29.707021 140459842635584 metrics.py:103] DICE score is technically 1.0, but prediction and truth arrays are empty. \n"
     ]
    },
    {
     "name": "stderr",
     "output_type": "stream",
     "text": [
      "W0505 11:51:29.718286 140459842635584 metrics.py:103] DICE score is technically 1.0, but prediction and truth arrays are empty. \n"
     ]
    },
    {
     "name": "stderr",
     "output_type": "stream",
     "text": [
      "W0505 11:51:29.729081 140459842635584 metrics.py:103] DICE score is technically 1.0, but prediction and truth arrays are empty. \n"
     ]
    },
    {
     "name": "stderr",
     "output_type": "stream",
     "text": [
      "W0505 11:51:29.739537 140459842635584 metrics.py:103] DICE score is technically 1.0, but prediction and truth arrays are empty. \n"
     ]
    },
    {
     "name": "stderr",
     "output_type": "stream",
     "text": [
      "W0505 11:51:29.750429 140459842635584 metrics.py:103] DICE score is technically 1.0, but prediction and truth arrays are empty. \n"
     ]
    },
    {
     "name": "stderr",
     "output_type": "stream",
     "text": [
      "W0505 11:51:29.761277 140459842635584 metrics.py:103] DICE score is technically 1.0, but prediction and truth arrays are empty. \n"
     ]
    },
    {
     "name": "stderr",
     "output_type": "stream",
     "text": [
      "W0505 11:51:29.772068 140459842635584 metrics.py:103] DICE score is technically 1.0, but prediction and truth arrays are empty. \n"
     ]
    },
    {
     "name": "stderr",
     "output_type": "stream",
     "text": [
      "W0505 11:51:30.227441 140459842635584 metrics.py:103] DICE score is technically 1.0, but prediction and truth arrays are empty. \n"
     ]
    },
    {
     "name": "stderr",
     "output_type": "stream",
     "text": [
      "W0505 11:51:30.238644 140459842635584 metrics.py:103] DICE score is technically 1.0, but prediction and truth arrays are empty. \n"
     ]
    },
    {
     "name": "stderr",
     "output_type": "stream",
     "text": [
      "W0505 11:51:30.249442 140459842635584 metrics.py:103] DICE score is technically 1.0, but prediction and truth arrays are empty. \n"
     ]
    },
    {
     "name": "stderr",
     "output_type": "stream",
     "text": [
      "W0505 11:51:30.260803 140459842635584 metrics.py:103] DICE score is technically 1.0, but prediction and truth arrays are empty. \n"
     ]
    },
    {
     "name": "stderr",
     "output_type": "stream",
     "text": [
      "W0505 11:51:30.272031 140459842635584 metrics.py:103] DICE score is technically 1.0, but prediction and truth arrays are empty. \n"
     ]
    },
    {
     "name": "stderr",
     "output_type": "stream",
     "text": [
      "W0505 11:51:30.283368 140459842635584 metrics.py:103] DICE score is technically 1.0, but prediction and truth arrays are empty. \n"
     ]
    },
    {
     "name": "stderr",
     "output_type": "stream",
     "text": [
      "W0505 11:51:30.294540 140459842635584 metrics.py:103] DICE score is technically 1.0, but prediction and truth arrays are empty. \n"
     ]
    },
    {
     "name": "stderr",
     "output_type": "stream",
     "text": [
      "W0505 11:51:30.305665 140459842635584 metrics.py:103] DICE score is technically 1.0, but prediction and truth arrays are empty. \n"
     ]
    },
    {
     "name": "stderr",
     "output_type": "stream",
     "text": [
      "W0505 11:51:30.316800 140459842635584 metrics.py:103] DICE score is technically 1.0, but prediction and truth arrays are empty. \n"
     ]
    },
    {
     "name": "stderr",
     "output_type": "stream",
     "text": [
      "W0505 11:51:30.327825 140459842635584 metrics.py:103] DICE score is technically 1.0, but prediction and truth arrays are empty. \n"
     ]
    },
    {
     "name": "stderr",
     "output_type": "stream",
     "text": [
      "W0505 11:51:30.339047 140459842635584 metrics.py:103] DICE score is technically 1.0, but prediction and truth arrays are empty. \n"
     ]
    },
    {
     "name": "stderr",
     "output_type": "stream",
     "text": [
      "W0505 11:51:30.350094 140459842635584 metrics.py:103] DICE score is technically 1.0, but prediction and truth arrays are empty. \n"
     ]
    },
    {
     "name": "stderr",
     "output_type": "stream",
     "text": [
      "W0505 11:51:30.360894 140459842635584 metrics.py:103] DICE score is technically 1.0, but prediction and truth arrays are empty. \n"
     ]
    },
    {
     "name": "stderr",
     "output_type": "stream",
     "text": [
      "W0505 11:51:30.371575 140459842635584 metrics.py:103] DICE score is technically 1.0, but prediction and truth arrays are empty. \n"
     ]
    },
    {
     "name": "stderr",
     "output_type": "stream",
     "text": [
      "W0505 11:51:30.381982 140459842635584 metrics.py:103] DICE score is technically 1.0, but prediction and truth arrays are empty. \n"
     ]
    },
    {
     "name": "stderr",
     "output_type": "stream",
     "text": [
      "W0505 11:51:30.392165 140459842635584 metrics.py:103] DICE score is technically 1.0, but prediction and truth arrays are empty. \n"
     ]
    },
    {
     "name": "stderr",
     "output_type": "stream",
     "text": [
      "W0505 11:51:30.403194 140459842635584 metrics.py:103] DICE score is technically 1.0, but prediction and truth arrays are empty. \n"
     ]
    },
    {
     "name": "stderr",
     "output_type": "stream",
     "text": [
      "W0505 11:51:30.413810 140459842635584 metrics.py:103] DICE score is technically 1.0, but prediction and truth arrays are empty. \n"
     ]
    },
    {
     "name": "stderr",
     "output_type": "stream",
     "text": [
      "W0505 11:51:30.424787 140459842635584 metrics.py:103] DICE score is technically 1.0, but prediction and truth arrays are empty. \n"
     ]
    },
    {
     "name": "stderr",
     "output_type": "stream",
     "text": [
      "W0505 11:51:30.435830 140459842635584 metrics.py:103] DICE score is technically 1.0, but prediction and truth arrays are empty. \n"
     ]
    },
    {
     "name": "stderr",
     "output_type": "stream",
     "text": [
      "W0505 11:51:30.446773 140459842635584 metrics.py:103] DICE score is technically 1.0, but prediction and truth arrays are empty. \n"
     ]
    },
    {
     "name": "stderr",
     "output_type": "stream",
     "text": [
      "W0505 11:51:30.458138 140459842635584 metrics.py:103] DICE score is technically 1.0, but prediction and truth arrays are empty. \n"
     ]
    },
    {
     "name": "stderr",
     "output_type": "stream",
     "text": [
      "W0505 11:51:30.468863 140459842635584 metrics.py:103] DICE score is technically 1.0, but prediction and truth arrays are empty. \n"
     ]
    },
    {
     "name": "stderr",
     "output_type": "stream",
     "text": [
      "W0505 11:51:30.480110 140459842635584 metrics.py:103] DICE score is technically 1.0, but prediction and truth arrays are empty. \n"
     ]
    },
    {
     "name": "stderr",
     "output_type": "stream",
     "text": [
      "W0505 11:51:30.491093 140459842635584 metrics.py:103] DICE score is technically 1.0, but prediction and truth arrays are empty. \n"
     ]
    },
    {
     "name": "stderr",
     "output_type": "stream",
     "text": [
      "W0505 11:51:30.502093 140459842635584 metrics.py:103] DICE score is technically 1.0, but prediction and truth arrays are empty. \n"
     ]
    },
    {
     "name": "stderr",
     "output_type": "stream",
     "text": [
      "W0505 11:51:30.513476 140459842635584 metrics.py:103] DICE score is technically 1.0, but prediction and truth arrays are empty. \n"
     ]
    },
    {
     "name": "stderr",
     "output_type": "stream",
     "text": [
      "W0505 11:51:30.524644 140459842635584 metrics.py:103] DICE score is technically 1.0, but prediction and truth arrays are empty. \n"
     ]
    },
    {
     "name": "stderr",
     "output_type": "stream",
     "text": [
      "W0505 11:51:30.535615 140459842635584 metrics.py:103] DICE score is technically 1.0, but prediction and truth arrays are empty. \n"
     ]
    },
    {
     "name": "stderr",
     "output_type": "stream",
     "text": [
      "W0505 11:51:30.546063 140459842635584 metrics.py:103] DICE score is technically 1.0, but prediction and truth arrays are empty. \n"
     ]
    },
    {
     "name": "stderr",
     "output_type": "stream",
     "text": [
      "W0505 11:51:30.965137 140459842635584 metrics.py:103] DICE score is technically 1.0, but prediction and truth arrays are empty. \n"
     ]
    },
    {
     "name": "stderr",
     "output_type": "stream",
     "text": [
      "W0505 11:51:30.975928 140459842635584 metrics.py:103] DICE score is technically 1.0, but prediction and truth arrays are empty. \n"
     ]
    },
    {
     "name": "stderr",
     "output_type": "stream",
     "text": [
      "W0505 11:51:31.008666 140459842635584 metrics.py:103] DICE score is technically 1.0, but prediction and truth arrays are empty. \n"
     ]
    },
    {
     "name": "stderr",
     "output_type": "stream",
     "text": [
      "W0505 11:51:31.020221 140459842635584 metrics.py:103] DICE score is technically 1.0, but prediction and truth arrays are empty. \n"
     ]
    },
    {
     "name": "stderr",
     "output_type": "stream",
     "text": [
      "W0505 11:51:31.058725 140459842635584 metrics.py:103] DICE score is technically 1.0, but prediction and truth arrays are empty. \n"
     ]
    },
    {
     "name": "stderr",
     "output_type": "stream",
     "text": [
      "W0505 11:51:31.069868 140459842635584 metrics.py:103] DICE score is technically 1.0, but prediction and truth arrays are empty. \n"
     ]
    },
    {
     "name": "stderr",
     "output_type": "stream",
     "text": [
      "W0505 11:51:32.400848 140459842635584 metrics.py:103] DICE score is technically 1.0, but prediction and truth arrays are empty. \n"
     ]
    },
    {
     "name": "stderr",
     "output_type": "stream",
     "text": [
      "W0505 11:51:32.411620 140459842635584 metrics.py:103] DICE score is technically 1.0, but prediction and truth arrays are empty. \n"
     ]
    },
    {
     "name": "stderr",
     "output_type": "stream",
     "text": [
      "W0505 11:51:32.422285 140459842635584 metrics.py:103] DICE score is technically 1.0, but prediction and truth arrays are empty. \n"
     ]
    },
    {
     "name": "stderr",
     "output_type": "stream",
     "text": [
      "W0505 11:51:32.432877 140459842635584 metrics.py:103] DICE score is technically 1.0, but prediction and truth arrays are empty. \n"
     ]
    },
    {
     "name": "stderr",
     "output_type": "stream",
     "text": [
      "W0505 11:51:32.443315 140459842635584 metrics.py:103] DICE score is technically 1.0, but prediction and truth arrays are empty. \n"
     ]
    },
    {
     "name": "stderr",
     "output_type": "stream",
     "text": [
      "W0505 11:51:32.453518 140459842635584 metrics.py:103] DICE score is technically 1.0, but prediction and truth arrays are empty. \n"
     ]
    },
    {
     "name": "stderr",
     "output_type": "stream",
     "text": [
      "W0505 11:51:32.464060 140459842635584 metrics.py:103] DICE score is technically 1.0, but prediction and truth arrays are empty. \n"
     ]
    },
    {
     "name": "stderr",
     "output_type": "stream",
     "text": [
      "W0505 11:51:32.473875 140459842635584 metrics.py:103] DICE score is technically 1.0, but prediction and truth arrays are empty. \n"
     ]
    },
    {
     "name": "stderr",
     "output_type": "stream",
     "text": [
      "W0505 11:51:32.484629 140459842635584 metrics.py:103] DICE score is technically 1.0, but prediction and truth arrays are empty. \n"
     ]
    },
    {
     "name": "stderr",
     "output_type": "stream",
     "text": [
      "W0505 11:51:32.495110 140459842635584 metrics.py:103] DICE score is technically 1.0, but prediction and truth arrays are empty. \n"
     ]
    },
    {
     "name": "stderr",
     "output_type": "stream",
     "text": [
      "W0505 11:51:32.505752 140459842635584 metrics.py:103] DICE score is technically 1.0, but prediction and truth arrays are empty. \n"
     ]
    },
    {
     "name": "stderr",
     "output_type": "stream",
     "text": [
      "W0505 11:51:32.516617 140459842635584 metrics.py:103] DICE score is technically 1.0, but prediction and truth arrays are empty. \n"
     ]
    },
    {
     "name": "stderr",
     "output_type": "stream",
     "text": [
      "W0505 11:51:32.527045 140459842635584 metrics.py:103] DICE score is technically 1.0, but prediction and truth arrays are empty. \n"
     ]
    },
    {
     "name": "stderr",
     "output_type": "stream",
     "text": [
      "W0505 11:51:32.537418 140459842635584 metrics.py:103] DICE score is technically 1.0, but prediction and truth arrays are empty. \n"
     ]
    },
    {
     "name": "stderr",
     "output_type": "stream",
     "text": [
      "W0505 11:51:32.547651 140459842635584 metrics.py:103] DICE score is technically 1.0, but prediction and truth arrays are empty. \n"
     ]
    },
    {
     "name": "stderr",
     "output_type": "stream",
     "text": [
      "W0505 11:51:32.558100 140459842635584 metrics.py:103] DICE score is technically 1.0, but prediction and truth arrays are empty. \n"
     ]
    },
    {
     "name": "stderr",
     "output_type": "stream",
     "text": [
      "W0505 11:51:32.568956 140459842635584 metrics.py:103] DICE score is technically 1.0, but prediction and truth arrays are empty. \n"
     ]
    },
    {
     "name": "stderr",
     "output_type": "stream",
     "text": [
      "W0505 11:51:32.579606 140459842635584 metrics.py:103] DICE score is technically 1.0, but prediction and truth arrays are empty. \n"
     ]
    },
    {
     "name": "stderr",
     "output_type": "stream",
     "text": [
      "W0505 11:51:32.590380 140459842635584 metrics.py:103] DICE score is technically 1.0, but prediction and truth arrays are empty. \n"
     ]
    },
    {
     "name": "stderr",
     "output_type": "stream",
     "text": [
      "W0505 11:51:32.601218 140459842635584 metrics.py:103] DICE score is technically 1.0, but prediction and truth arrays are empty. \n"
     ]
    },
    {
     "name": "stderr",
     "output_type": "stream",
     "text": [
      "W0505 11:51:32.611858 140459842635584 metrics.py:103] DICE score is technically 1.0, but prediction and truth arrays are empty. \n"
     ]
    },
    {
     "name": "stderr",
     "output_type": "stream",
     "text": [
      "W0505 11:51:32.622575 140459842635584 metrics.py:103] DICE score is technically 1.0, but prediction and truth arrays are empty. \n"
     ]
    },
    {
     "name": "stderr",
     "output_type": "stream",
     "text": [
      "W0505 11:51:32.633179 140459842635584 metrics.py:103] DICE score is technically 1.0, but prediction and truth arrays are empty. \n"
     ]
    },
    {
     "name": "stderr",
     "output_type": "stream",
     "text": [
      "W0505 11:51:32.643522 140459842635584 metrics.py:103] DICE score is technically 1.0, but prediction and truth arrays are empty. \n"
     ]
    },
    {
     "name": "stderr",
     "output_type": "stream",
     "text": [
      "W0505 11:51:32.654052 140459842635584 metrics.py:103] DICE score is technically 1.0, but prediction and truth arrays are empty. \n"
     ]
    },
    {
     "name": "stderr",
     "output_type": "stream",
     "text": [
      "W0505 11:51:32.664950 140459842635584 metrics.py:103] DICE score is technically 1.0, but prediction and truth arrays are empty. \n"
     ]
    },
    {
     "name": "stderr",
     "output_type": "stream",
     "text": [
      "W0505 11:51:32.675456 140459842635584 metrics.py:103] DICE score is technically 1.0, but prediction and truth arrays are empty. \n"
     ]
    },
    {
     "name": "stderr",
     "output_type": "stream",
     "text": [
      "W0505 11:51:32.686305 140459842635584 metrics.py:103] DICE score is technically 1.0, but prediction and truth arrays are empty. \n"
     ]
    },
    {
     "name": "stderr",
     "output_type": "stream",
     "text": [
      "W0505 11:51:32.697073 140459842635584 metrics.py:103] DICE score is technically 1.0, but prediction and truth arrays are empty. \n"
     ]
    },
    {
     "name": "stderr",
     "output_type": "stream",
     "text": [
      "W0505 11:51:32.707966 140459842635584 metrics.py:103] DICE score is technically 1.0, but prediction and truth arrays are empty. \n"
     ]
    },
    {
     "name": "stdout",
     "output_type": "stream",
     "text": [
      "\n",
      "____________Object-based statistics____________\n",
      "\n",
      "Number of true cells:\t\t 47124\n",
      "Number of predicted cells:\t 45773\n",
      "\n",
      "Correct detections:  40755\tRecall: 86.484593837535015836692764423787593841552734375%\n",
      "Incorrect detections: 5018\tPrecision: 89.037205339392215819316334091126918792724609375%\n",
      "\n",
      "Gained detections: 4577\tPerc Error: 42.912057003562722456990741193294525146484375%\n",
      "Missed detections: 5742\tPerc Error: 53.83461466341646683986255084164440631866455078125%\n",
      "Merges: 254\t\tPerc Error: 2.381398837427339376660029302001930773258209228515625%\n",
      "Splits: 88\t\tPerc Error: 0.825051565722857649376464905799366533756256103515625%\n",
      "Catastrophes: 5\t\tPerc Error: 0.04687792987061691063477297802819521166384220123291015625%\n",
      "\n",
      "Gained detections from splits: 89\n",
      "Missed detections from merges: 273\n",
      "True detections involved in catastrophes: 12\n",
      "Predicted detections involved in catastrophes: 10 \n",
      "\n",
      "Average Pixel IOU (Jaccard Index): 0.80074104069032869812616581839392893016338348388671875 \n",
      "\n"
     ]
    },
    {
     "name": "stderr",
     "output_type": "stream",
     "text": [
      "/usr/local/lib/python3.6/dist-packages/ipykernel_launcher.py:157: UserWarning: Only one label was provided to `remove_small_objects`. Did you mean to use a boolean array?\n",
      "/usr/local/lib/python3.6/dist-packages/ipykernel_launcher.py:158: UserWarning: Only one label was provided to `remove_small_objects`. Did you mean to use a boolean array?\n"
     ]
    },
    {
     "name": "stderr",
     "output_type": "stream",
     "text": [
      "W0505 11:51:47.547077 140459842635584 metrics.py:103] DICE score is technically 1.0, but prediction and truth arrays are empty. \n"
     ]
    },
    {
     "name": "stderr",
     "output_type": "stream",
     "text": [
      "W0505 11:51:47.558117 140459842635584 metrics.py:103] DICE score is technically 1.0, but prediction and truth arrays are empty. \n"
     ]
    },
    {
     "name": "stderr",
     "output_type": "stream",
     "text": [
      "W0505 11:51:47.568759 140459842635584 metrics.py:103] DICE score is technically 1.0, but prediction and truth arrays are empty. \n"
     ]
    },
    {
     "name": "stderr",
     "output_type": "stream",
     "text": [
      "W0505 11:51:47.579659 140459842635584 metrics.py:103] DICE score is technically 1.0, but prediction and truth arrays are empty. \n"
     ]
    },
    {
     "name": "stderr",
     "output_type": "stream",
     "text": [
      "W0505 11:51:47.589985 140459842635584 metrics.py:103] DICE score is technically 1.0, but prediction and truth arrays are empty. \n"
     ]
    },
    {
     "name": "stderr",
     "output_type": "stream",
     "text": [
      "W0505 11:51:47.600538 140459842635584 metrics.py:103] DICE score is technically 1.0, but prediction and truth arrays are empty. \n"
     ]
    },
    {
     "name": "stderr",
     "output_type": "stream",
     "text": [
      "W0505 11:51:47.611085 140459842635584 metrics.py:103] DICE score is technically 1.0, but prediction and truth arrays are empty. \n"
     ]
    },
    {
     "name": "stderr",
     "output_type": "stream",
     "text": [
      "W0505 11:51:47.621767 140459842635584 metrics.py:103] DICE score is technically 1.0, but prediction and truth arrays are empty. \n"
     ]
    },
    {
     "name": "stderr",
     "output_type": "stream",
     "text": [
      "W0505 11:51:47.632428 140459842635584 metrics.py:103] DICE score is technically 1.0, but prediction and truth arrays are empty. \n"
     ]
    },
    {
     "name": "stderr",
     "output_type": "stream",
     "text": [
      "W0505 11:51:47.642946 140459842635584 metrics.py:103] DICE score is technically 1.0, but prediction and truth arrays are empty. \n"
     ]
    },
    {
     "name": "stderr",
     "output_type": "stream",
     "text": [
      "W0505 11:51:47.653696 140459842635584 metrics.py:103] DICE score is technically 1.0, but prediction and truth arrays are empty. \n"
     ]
    },
    {
     "name": "stderr",
     "output_type": "stream",
     "text": [
      "W0505 11:51:47.664288 140459842635584 metrics.py:103] DICE score is technically 1.0, but prediction and truth arrays are empty. \n"
     ]
    },
    {
     "name": "stderr",
     "output_type": "stream",
     "text": [
      "W0505 11:51:47.675065 140459842635584 metrics.py:103] DICE score is technically 1.0, but prediction and truth arrays are empty. \n"
     ]
    },
    {
     "name": "stderr",
     "output_type": "stream",
     "text": [
      "W0505 11:51:47.685719 140459842635584 metrics.py:103] DICE score is technically 1.0, but prediction and truth arrays are empty. \n"
     ]
    },
    {
     "name": "stderr",
     "output_type": "stream",
     "text": [
      "W0505 11:51:47.696526 140459842635584 metrics.py:103] DICE score is technically 1.0, but prediction and truth arrays are empty. \n"
     ]
    },
    {
     "name": "stderr",
     "output_type": "stream",
     "text": [
      "W0505 11:51:47.707403 140459842635584 metrics.py:103] DICE score is technically 1.0, but prediction and truth arrays are empty. \n"
     ]
    },
    {
     "name": "stderr",
     "output_type": "stream",
     "text": [
      "W0505 11:51:47.718040 140459842635584 metrics.py:103] DICE score is technically 1.0, but prediction and truth arrays are empty. \n"
     ]
    },
    {
     "name": "stderr",
     "output_type": "stream",
     "text": [
      "W0505 11:51:47.728708 140459842635584 metrics.py:103] DICE score is technically 1.0, but prediction and truth arrays are empty. \n"
     ]
    },
    {
     "name": "stderr",
     "output_type": "stream",
     "text": [
      "W0505 11:51:47.739312 140459842635584 metrics.py:103] DICE score is technically 1.0, but prediction and truth arrays are empty. \n"
     ]
    },
    {
     "name": "stderr",
     "output_type": "stream",
     "text": [
      "W0505 11:51:47.750000 140459842635584 metrics.py:103] DICE score is technically 1.0, but prediction and truth arrays are empty. \n"
     ]
    },
    {
     "name": "stderr",
     "output_type": "stream",
     "text": [
      "W0505 11:51:47.760914 140459842635584 metrics.py:103] DICE score is technically 1.0, but prediction and truth arrays are empty. \n"
     ]
    },
    {
     "name": "stderr",
     "output_type": "stream",
     "text": [
      "W0505 11:51:47.771424 140459842635584 metrics.py:103] DICE score is technically 1.0, but prediction and truth arrays are empty. \n"
     ]
    },
    {
     "name": "stderr",
     "output_type": "stream",
     "text": [
      "W0505 11:51:47.781804 140459842635584 metrics.py:103] DICE score is technically 1.0, but prediction and truth arrays are empty. \n"
     ]
    },
    {
     "name": "stderr",
     "output_type": "stream",
     "text": [
      "W0505 11:51:47.792108 140459842635584 metrics.py:103] DICE score is technically 1.0, but prediction and truth arrays are empty. \n"
     ]
    },
    {
     "name": "stderr",
     "output_type": "stream",
     "text": [
      "W0505 11:51:47.802589 140459842635584 metrics.py:103] DICE score is technically 1.0, but prediction and truth arrays are empty. \n"
     ]
    },
    {
     "name": "stderr",
     "output_type": "stream",
     "text": [
      "W0505 11:51:47.812967 140459842635584 metrics.py:103] DICE score is technically 1.0, but prediction and truth arrays are empty. \n"
     ]
    },
    {
     "name": "stderr",
     "output_type": "stream",
     "text": [
      "W0505 11:51:47.823742 140459842635584 metrics.py:103] DICE score is technically 1.0, but prediction and truth arrays are empty. \n"
     ]
    },
    {
     "name": "stderr",
     "output_type": "stream",
     "text": [
      "W0505 11:51:47.834239 140459842635584 metrics.py:103] DICE score is technically 1.0, but prediction and truth arrays are empty. \n"
     ]
    },
    {
     "name": "stderr",
     "output_type": "stream",
     "text": [
      "W0505 11:51:47.844548 140459842635584 metrics.py:103] DICE score is technically 1.0, but prediction and truth arrays are empty. \n"
     ]
    },
    {
     "name": "stderr",
     "output_type": "stream",
     "text": [
      "W0505 11:51:47.855655 140459842635584 metrics.py:103] DICE score is technically 1.0, but prediction and truth arrays are empty. \n"
     ]
    },
    {
     "name": "stderr",
     "output_type": "stream",
     "text": [
      "W0505 11:51:47.866200 140459842635584 metrics.py:103] DICE score is technically 1.0, but prediction and truth arrays are empty. \n"
     ]
    },
    {
     "name": "stderr",
     "output_type": "stream",
     "text": [
      "W0505 11:51:47.876468 140459842635584 metrics.py:103] DICE score is technically 1.0, but prediction and truth arrays are empty. \n"
     ]
    },
    {
     "name": "stderr",
     "output_type": "stream",
     "text": [
      "W0505 11:51:47.887056 140459842635584 metrics.py:103] DICE score is technically 1.0, but prediction and truth arrays are empty. \n"
     ]
    },
    {
     "name": "stderr",
     "output_type": "stream",
     "text": [
      "W0505 11:51:47.897504 140459842635584 metrics.py:103] DICE score is technically 1.0, but prediction and truth arrays are empty. \n"
     ]
    },
    {
     "name": "stderr",
     "output_type": "stream",
     "text": [
      "W0505 11:51:47.908187 140459842635584 metrics.py:103] DICE score is technically 1.0, but prediction and truth arrays are empty. \n"
     ]
    },
    {
     "name": "stderr",
     "output_type": "stream",
     "text": [
      "W0505 11:51:47.919753 140459842635584 metrics.py:103] DICE score is technically 1.0, but prediction and truth arrays are empty. \n"
     ]
    },
    {
     "name": "stderr",
     "output_type": "stream",
     "text": [
      "W0505 11:51:47.930495 140459842635584 metrics.py:103] DICE score is technically 1.0, but prediction and truth arrays are empty. \n"
     ]
    },
    {
     "name": "stderr",
     "output_type": "stream",
     "text": [
      "W0505 11:51:47.941655 140459842635584 metrics.py:103] DICE score is technically 1.0, but prediction and truth arrays are empty. \n"
     ]
    },
    {
     "name": "stderr",
     "output_type": "stream",
     "text": [
      "W0505 11:51:47.952640 140459842635584 metrics.py:103] DICE score is technically 1.0, but prediction and truth arrays are empty. \n"
     ]
    },
    {
     "name": "stderr",
     "output_type": "stream",
     "text": [
      "W0505 11:51:47.963608 140459842635584 metrics.py:103] DICE score is technically 1.0, but prediction and truth arrays are empty. \n"
     ]
    },
    {
     "name": "stderr",
     "output_type": "stream",
     "text": [
      "W0505 11:51:48.008639 140459842635584 metrics.py:103] DICE score is technically 1.0, but prediction and truth arrays are empty. \n"
     ]
    },
    {
     "name": "stderr",
     "output_type": "stream",
     "text": [
      "W0505 11:51:48.029585 140459842635584 metrics.py:103] DICE score is technically 1.0, but prediction and truth arrays are empty. \n"
     ]
    },
    {
     "name": "stderr",
     "output_type": "stream",
     "text": [
      "W0505 11:51:48.040527 140459842635584 metrics.py:103] DICE score is technically 1.0, but prediction and truth arrays are empty. \n"
     ]
    },
    {
     "name": "stderr",
     "output_type": "stream",
     "text": [
      "W0505 11:51:48.107286 140459842635584 metrics.py:103] DICE score is technically 1.0, but prediction and truth arrays are empty. \n"
     ]
    },
    {
     "name": "stderr",
     "output_type": "stream",
     "text": [
      "W0505 11:51:48.127845 140459842635584 metrics.py:103] DICE score is technically 1.0, but prediction and truth arrays are empty. \n"
     ]
    },
    {
     "name": "stderr",
     "output_type": "stream",
     "text": [
      "W0505 11:51:48.138716 140459842635584 metrics.py:103] DICE score is technically 1.0, but prediction and truth arrays are empty. \n"
     ]
    },
    {
     "name": "stderr",
     "output_type": "stream",
     "text": [
      "W0505 11:51:48.149807 140459842635584 metrics.py:103] DICE score is technically 1.0, but prediction and truth arrays are empty. \n"
     ]
    },
    {
     "name": "stderr",
     "output_type": "stream",
     "text": [
      "W0505 11:51:48.160725 140459842635584 metrics.py:103] DICE score is technically 1.0, but prediction and truth arrays are empty. \n"
     ]
    },
    {
     "name": "stderr",
     "output_type": "stream",
     "text": [
      "W0505 11:51:48.171831 140459842635584 metrics.py:103] DICE score is technically 1.0, but prediction and truth arrays are empty. \n"
     ]
    },
    {
     "name": "stderr",
     "output_type": "stream",
     "text": [
      "W0505 11:51:50.268301 140459842635584 metrics.py:103] DICE score is technically 1.0, but prediction and truth arrays are empty. \n"
     ]
    },
    {
     "name": "stderr",
     "output_type": "stream",
     "text": [
      "W0505 11:51:50.279351 140459842635584 metrics.py:103] DICE score is technically 1.0, but prediction and truth arrays are empty. \n"
     ]
    },
    {
     "name": "stderr",
     "output_type": "stream",
     "text": [
      "W0505 11:51:50.289726 140459842635584 metrics.py:103] DICE score is technically 1.0, but prediction and truth arrays are empty. \n"
     ]
    },
    {
     "name": "stderr",
     "output_type": "stream",
     "text": [
      "W0505 11:51:50.300006 140459842635584 metrics.py:103] DICE score is technically 1.0, but prediction and truth arrays are empty. \n"
     ]
    },
    {
     "name": "stderr",
     "output_type": "stream",
     "text": [
      "W0505 11:51:50.310121 140459842635584 metrics.py:103] DICE score is technically 1.0, but prediction and truth arrays are empty. \n"
     ]
    },
    {
     "name": "stderr",
     "output_type": "stream",
     "text": [
      "W0505 11:51:50.320387 140459842635584 metrics.py:103] DICE score is technically 1.0, but prediction and truth arrays are empty. \n"
     ]
    },
    {
     "name": "stderr",
     "output_type": "stream",
     "text": [
      "W0505 11:51:50.330666 140459842635584 metrics.py:103] DICE score is technically 1.0, but prediction and truth arrays are empty. \n"
     ]
    },
    {
     "name": "stderr",
     "output_type": "stream",
     "text": [
      "W0505 11:51:50.341105 140459842635584 metrics.py:103] DICE score is technically 1.0, but prediction and truth arrays are empty. \n"
     ]
    },
    {
     "name": "stderr",
     "output_type": "stream",
     "text": [
      "W0505 11:51:50.351492 140459842635584 metrics.py:103] DICE score is technically 1.0, but prediction and truth arrays are empty. \n"
     ]
    },
    {
     "name": "stderr",
     "output_type": "stream",
     "text": [
      "W0505 11:51:50.362038 140459842635584 metrics.py:103] DICE score is technically 1.0, but prediction and truth arrays are empty. \n"
     ]
    },
    {
     "name": "stderr",
     "output_type": "stream",
     "text": [
      "W0505 11:51:50.372237 140459842635584 metrics.py:103] DICE score is technically 1.0, but prediction and truth arrays are empty. \n"
     ]
    },
    {
     "name": "stderr",
     "output_type": "stream",
     "text": [
      "W0505 11:51:50.382725 140459842635584 metrics.py:103] DICE score is technically 1.0, but prediction and truth arrays are empty. \n"
     ]
    },
    {
     "name": "stderr",
     "output_type": "stream",
     "text": [
      "W0505 11:51:50.393088 140459842635584 metrics.py:103] DICE score is technically 1.0, but prediction and truth arrays are empty. \n"
     ]
    },
    {
     "name": "stderr",
     "output_type": "stream",
     "text": [
      "W0505 11:51:50.403198 140459842635584 metrics.py:103] DICE score is technically 1.0, but prediction and truth arrays are empty. \n"
     ]
    },
    {
     "name": "stderr",
     "output_type": "stream",
     "text": [
      "W0505 11:51:50.413406 140459842635584 metrics.py:103] DICE score is technically 1.0, but prediction and truth arrays are empty. \n"
     ]
    },
    {
     "name": "stderr",
     "output_type": "stream",
     "text": [
      "W0505 11:51:50.424002 140459842635584 metrics.py:103] DICE score is technically 1.0, but prediction and truth arrays are empty. \n"
     ]
    },
    {
     "name": "stderr",
     "output_type": "stream",
     "text": [
      "W0505 11:51:50.434322 140459842635584 metrics.py:103] DICE score is technically 1.0, but prediction and truth arrays are empty. \n"
     ]
    },
    {
     "name": "stderr",
     "output_type": "stream",
     "text": [
      "W0505 11:51:50.444753 140459842635584 metrics.py:103] DICE score is technically 1.0, but prediction and truth arrays are empty. \n"
     ]
    },
    {
     "name": "stderr",
     "output_type": "stream",
     "text": [
      "W0505 11:51:50.455160 140459842635584 metrics.py:103] DICE score is technically 1.0, but prediction and truth arrays are empty. \n"
     ]
    },
    {
     "name": "stderr",
     "output_type": "stream",
     "text": [
      "W0505 11:51:50.465383 140459842635584 metrics.py:103] DICE score is technically 1.0, but prediction and truth arrays are empty. \n"
     ]
    },
    {
     "name": "stderr",
     "output_type": "stream",
     "text": [
      "W0505 11:51:50.476189 140459842635584 metrics.py:103] DICE score is technically 1.0, but prediction and truth arrays are empty. \n"
     ]
    },
    {
     "name": "stderr",
     "output_type": "stream",
     "text": [
      "W0505 11:51:50.486892 140459842635584 metrics.py:103] DICE score is technically 1.0, but prediction and truth arrays are empty. \n"
     ]
    },
    {
     "name": "stderr",
     "output_type": "stream",
     "text": [
      "W0505 11:51:50.497524 140459842635584 metrics.py:103] DICE score is technically 1.0, but prediction and truth arrays are empty. \n"
     ]
    },
    {
     "name": "stderr",
     "output_type": "stream",
     "text": [
      "W0505 11:51:50.508114 140459842635584 metrics.py:103] DICE score is technically 1.0, but prediction and truth arrays are empty. \n"
     ]
    },
    {
     "name": "stderr",
     "output_type": "stream",
     "text": [
      "W0505 11:51:50.518659 140459842635584 metrics.py:103] DICE score is technically 1.0, but prediction and truth arrays are empty. \n"
     ]
    },
    {
     "name": "stderr",
     "output_type": "stream",
     "text": [
      "W0505 11:51:50.529392 140459842635584 metrics.py:103] DICE score is technically 1.0, but prediction and truth arrays are empty. \n"
     ]
    },
    {
     "name": "stderr",
     "output_type": "stream",
     "text": [
      "W0505 11:51:50.540083 140459842635584 metrics.py:103] DICE score is technically 1.0, but prediction and truth arrays are empty. \n"
     ]
    },
    {
     "name": "stderr",
     "output_type": "stream",
     "text": [
      "W0505 11:51:50.550806 140459842635584 metrics.py:103] DICE score is technically 1.0, but prediction and truth arrays are empty. \n"
     ]
    },
    {
     "name": "stderr",
     "output_type": "stream",
     "text": [
      "W0505 11:51:50.561645 140459842635584 metrics.py:103] DICE score is technically 1.0, but prediction and truth arrays are empty. \n"
     ]
    },
    {
     "name": "stderr",
     "output_type": "stream",
     "text": [
      "W0505 11:51:50.571953 140459842635584 metrics.py:103] DICE score is technically 1.0, but prediction and truth arrays are empty. \n"
     ]
    },
    {
     "name": "stderr",
     "output_type": "stream",
     "text": [
      "W0505 11:51:50.582578 140459842635584 metrics.py:103] DICE score is technically 1.0, but prediction and truth arrays are empty. \n"
     ]
    },
    {
     "name": "stderr",
     "output_type": "stream",
     "text": [
      "W0505 11:51:50.592837 140459842635584 metrics.py:103] DICE score is technically 1.0, but prediction and truth arrays are empty. \n"
     ]
    },
    {
     "name": "stderr",
     "output_type": "stream",
     "text": [
      "W0505 11:51:50.603273 140459842635584 metrics.py:103] DICE score is technically 1.0, but prediction and truth arrays are empty. \n"
     ]
    },
    {
     "name": "stderr",
     "output_type": "stream",
     "text": [
      "W0505 11:51:50.614437 140459842635584 metrics.py:103] DICE score is technically 1.0, but prediction and truth arrays are empty. \n"
     ]
    },
    {
     "name": "stderr",
     "output_type": "stream",
     "text": [
      "W0505 11:51:50.625195 140459842635584 metrics.py:103] DICE score is technically 1.0, but prediction and truth arrays are empty. \n"
     ]
    },
    {
     "name": "stderr",
     "output_type": "stream",
     "text": [
      "W0505 11:51:50.636187 140459842635584 metrics.py:103] DICE score is technically 1.0, but prediction and truth arrays are empty. \n"
     ]
    },
    {
     "name": "stderr",
     "output_type": "stream",
     "text": [
      "W0505 11:51:50.646369 140459842635584 metrics.py:103] DICE score is technically 1.0, but prediction and truth arrays are empty. \n"
     ]
    },
    {
     "name": "stderr",
     "output_type": "stream",
     "text": [
      "W0505 11:51:50.656681 140459842635584 metrics.py:103] DICE score is technically 1.0, but prediction and truth arrays are empty. \n"
     ]
    },
    {
     "name": "stderr",
     "output_type": "stream",
     "text": [
      "W0505 11:51:50.667608 140459842635584 metrics.py:103] DICE score is technically 1.0, but prediction and truth arrays are empty. \n"
     ]
    },
    {
     "name": "stderr",
     "output_type": "stream",
     "text": [
      "W0505 11:51:50.678522 140459842635584 metrics.py:103] DICE score is technically 1.0, but prediction and truth arrays are empty. \n"
     ]
    },
    {
     "name": "stderr",
     "output_type": "stream",
     "text": [
      "W0505 11:51:55.534279 140459842635584 metrics.py:103] DICE score is technically 1.0, but prediction and truth arrays are empty. \n"
     ]
    },
    {
     "name": "stderr",
     "output_type": "stream",
     "text": [
      "W0505 11:51:55.544983 140459842635584 metrics.py:103] DICE score is technically 1.0, but prediction and truth arrays are empty. \n"
     ]
    },
    {
     "name": "stderr",
     "output_type": "stream",
     "text": [
      "W0505 11:51:55.555218 140459842635584 metrics.py:103] DICE score is technically 1.0, but prediction and truth arrays are empty. \n"
     ]
    },
    {
     "name": "stderr",
     "output_type": "stream",
     "text": [
      "W0505 11:51:55.565540 140459842635584 metrics.py:103] DICE score is technically 1.0, but prediction and truth arrays are empty. \n"
     ]
    },
    {
     "name": "stderr",
     "output_type": "stream",
     "text": [
      "W0505 11:51:55.575858 140459842635584 metrics.py:103] DICE score is technically 1.0, but prediction and truth arrays are empty. \n"
     ]
    },
    {
     "name": "stderr",
     "output_type": "stream",
     "text": [
      "W0505 11:51:55.586496 140459842635584 metrics.py:103] DICE score is technically 1.0, but prediction and truth arrays are empty. \n"
     ]
    },
    {
     "name": "stderr",
     "output_type": "stream",
     "text": [
      "W0505 11:51:55.597298 140459842635584 metrics.py:103] DICE score is technically 1.0, but prediction and truth arrays are empty. \n"
     ]
    },
    {
     "name": "stderr",
     "output_type": "stream",
     "text": [
      "W0505 11:51:55.607692 140459842635584 metrics.py:103] DICE score is technically 1.0, but prediction and truth arrays are empty. \n"
     ]
    },
    {
     "name": "stderr",
     "output_type": "stream",
     "text": [
      "W0505 11:51:55.618182 140459842635584 metrics.py:103] DICE score is technically 1.0, but prediction and truth arrays are empty. \n"
     ]
    },
    {
     "name": "stderr",
     "output_type": "stream",
     "text": [
      "W0505 11:51:55.628980 140459842635584 metrics.py:103] DICE score is technically 1.0, but prediction and truth arrays are empty. \n"
     ]
    },
    {
     "name": "stderr",
     "output_type": "stream",
     "text": [
      "W0505 11:51:55.639510 140459842635584 metrics.py:103] DICE score is technically 1.0, but prediction and truth arrays are empty. \n"
     ]
    },
    {
     "name": "stderr",
     "output_type": "stream",
     "text": [
      "W0505 11:51:55.650292 140459842635584 metrics.py:103] DICE score is technically 1.0, but prediction and truth arrays are empty. \n"
     ]
    },
    {
     "name": "stderr",
     "output_type": "stream",
     "text": [
      "W0505 11:51:55.660618 140459842635584 metrics.py:103] DICE score is technically 1.0, but prediction and truth arrays are empty. \n"
     ]
    },
    {
     "name": "stderr",
     "output_type": "stream",
     "text": [
      "W0505 11:51:55.670971 140459842635584 metrics.py:103] DICE score is technically 1.0, but prediction and truth arrays are empty. \n"
     ]
    },
    {
     "name": "stderr",
     "output_type": "stream",
     "text": [
      "W0505 11:51:55.681591 140459842635584 metrics.py:103] DICE score is technically 1.0, but prediction and truth arrays are empty. \n"
     ]
    },
    {
     "name": "stderr",
     "output_type": "stream",
     "text": [
      "W0505 11:51:55.692336 140459842635584 metrics.py:103] DICE score is technically 1.0, but prediction and truth arrays are empty. \n"
     ]
    },
    {
     "name": "stderr",
     "output_type": "stream",
     "text": [
      "W0505 11:51:55.703515 140459842635584 metrics.py:103] DICE score is technically 1.0, but prediction and truth arrays are empty. \n"
     ]
    },
    {
     "name": "stderr",
     "output_type": "stream",
     "text": [
      "W0505 11:51:55.714385 140459842635584 metrics.py:103] DICE score is technically 1.0, but prediction and truth arrays are empty. \n"
     ]
    },
    {
     "name": "stderr",
     "output_type": "stream",
     "text": [
      "W0505 11:51:55.725048 140459842635584 metrics.py:103] DICE score is technically 1.0, but prediction and truth arrays are empty. \n"
     ]
    },
    {
     "name": "stderr",
     "output_type": "stream",
     "text": [
      "W0505 11:51:55.735734 140459842635584 metrics.py:103] DICE score is technically 1.0, but prediction and truth arrays are empty. \n"
     ]
    },
    {
     "name": "stderr",
     "output_type": "stream",
     "text": [
      "W0505 11:51:55.746530 140459842635584 metrics.py:103] DICE score is technically 1.0, but prediction and truth arrays are empty. \n"
     ]
    },
    {
     "name": "stderr",
     "output_type": "stream",
     "text": [
      "W0505 11:51:55.756718 140459842635584 metrics.py:103] DICE score is technically 1.0, but prediction and truth arrays are empty. \n"
     ]
    },
    {
     "name": "stderr",
     "output_type": "stream",
     "text": [
      "W0505 11:51:55.766841 140459842635584 metrics.py:103] DICE score is technically 1.0, but prediction and truth arrays are empty. \n"
     ]
    },
    {
     "name": "stderr",
     "output_type": "stream",
     "text": [
      "W0505 11:51:55.777050 140459842635584 metrics.py:103] DICE score is technically 1.0, but prediction and truth arrays are empty. \n"
     ]
    },
    {
     "name": "stderr",
     "output_type": "stream",
     "text": [
      "W0505 11:51:55.787329 140459842635584 metrics.py:103] DICE score is technically 1.0, but prediction and truth arrays are empty. \n"
     ]
    },
    {
     "name": "stderr",
     "output_type": "stream",
     "text": [
      "W0505 11:51:55.798059 140459842635584 metrics.py:103] DICE score is technically 1.0, but prediction and truth arrays are empty. \n"
     ]
    },
    {
     "name": "stderr",
     "output_type": "stream",
     "text": [
      "W0505 11:51:55.808731 140459842635584 metrics.py:103] DICE score is technically 1.0, but prediction and truth arrays are empty. \n"
     ]
    },
    {
     "name": "stderr",
     "output_type": "stream",
     "text": [
      "W0505 11:51:55.819072 140459842635584 metrics.py:103] DICE score is technically 1.0, but prediction and truth arrays are empty. \n"
     ]
    },
    {
     "name": "stderr",
     "output_type": "stream",
     "text": [
      "W0505 11:51:55.829481 140459842635584 metrics.py:103] DICE score is technically 1.0, but prediction and truth arrays are empty. \n"
     ]
    },
    {
     "name": "stderr",
     "output_type": "stream",
     "text": [
      "W0505 11:51:55.840424 140459842635584 metrics.py:103] DICE score is technically 1.0, but prediction and truth arrays are empty. \n"
     ]
    },
    {
     "name": "stderr",
     "output_type": "stream",
     "text": [
      "W0505 11:51:55.851203 140459842635584 metrics.py:103] DICE score is technically 1.0, but prediction and truth arrays are empty. \n"
     ]
    },
    {
     "name": "stderr",
     "output_type": "stream",
     "text": [
      "W0505 11:51:55.862072 140459842635584 metrics.py:103] DICE score is technically 1.0, but prediction and truth arrays are empty. \n"
     ]
    },
    {
     "name": "stderr",
     "output_type": "stream",
     "text": [
      "W0505 11:51:55.872957 140459842635584 metrics.py:103] DICE score is technically 1.0, but prediction and truth arrays are empty. \n"
     ]
    },
    {
     "name": "stderr",
     "output_type": "stream",
     "text": [
      "W0505 11:51:55.883840 140459842635584 metrics.py:103] DICE score is technically 1.0, but prediction and truth arrays are empty. \n"
     ]
    },
    {
     "name": "stderr",
     "output_type": "stream",
     "text": [
      "W0505 11:51:55.894536 140459842635584 metrics.py:103] DICE score is technically 1.0, but prediction and truth arrays are empty. \n"
     ]
    },
    {
     "name": "stderr",
     "output_type": "stream",
     "text": [
      "W0505 11:51:55.905278 140459842635584 metrics.py:103] DICE score is technically 1.0, but prediction and truth arrays are empty. \n"
     ]
    },
    {
     "name": "stderr",
     "output_type": "stream",
     "text": [
      "W0505 11:51:55.915728 140459842635584 metrics.py:103] DICE score is technically 1.0, but prediction and truth arrays are empty. \n"
     ]
    },
    {
     "name": "stderr",
     "output_type": "stream",
     "text": [
      "W0505 11:51:55.926306 140459842635584 metrics.py:103] DICE score is technically 1.0, but prediction and truth arrays are empty. \n"
     ]
    },
    {
     "name": "stderr",
     "output_type": "stream",
     "text": [
      "W0505 11:51:55.936772 140459842635584 metrics.py:103] DICE score is technically 1.0, but prediction and truth arrays are empty. \n"
     ]
    },
    {
     "name": "stderr",
     "output_type": "stream",
     "text": [
      "W0505 11:51:55.947680 140459842635584 metrics.py:103] DICE score is technically 1.0, but prediction and truth arrays are empty. \n"
     ]
    },
    {
     "name": "stderr",
     "output_type": "stream",
     "text": [
      "W0505 11:51:56.504013 140459842635584 metrics.py:103] DICE score is technically 1.0, but prediction and truth arrays are empty. \n"
     ]
    },
    {
     "name": "stderr",
     "output_type": "stream",
     "text": [
      "W0505 11:51:56.514907 140459842635584 metrics.py:103] DICE score is technically 1.0, but prediction and truth arrays are empty. \n"
     ]
    },
    {
     "name": "stderr",
     "output_type": "stream",
     "text": [
      "W0505 11:51:56.525575 140459842635584 metrics.py:103] DICE score is technically 1.0, but prediction and truth arrays are empty. \n"
     ]
    },
    {
     "name": "stderr",
     "output_type": "stream",
     "text": [
      "W0505 11:51:56.535780 140459842635584 metrics.py:103] DICE score is technically 1.0, but prediction and truth arrays are empty. \n"
     ]
    },
    {
     "name": "stderr",
     "output_type": "stream",
     "text": [
      "W0505 11:51:56.546202 140459842635584 metrics.py:103] DICE score is technically 1.0, but prediction and truth arrays are empty. \n"
     ]
    },
    {
     "name": "stderr",
     "output_type": "stream",
     "text": [
      "W0505 11:51:56.556528 140459842635584 metrics.py:103] DICE score is technically 1.0, but prediction and truth arrays are empty. \n"
     ]
    },
    {
     "name": "stderr",
     "output_type": "stream",
     "text": [
      "W0505 11:51:56.566811 140459842635584 metrics.py:103] DICE score is technically 1.0, but prediction and truth arrays are empty. \n"
     ]
    },
    {
     "name": "stderr",
     "output_type": "stream",
     "text": [
      "W0505 11:51:56.577205 140459842635584 metrics.py:103] DICE score is technically 1.0, but prediction and truth arrays are empty. \n"
     ]
    },
    {
     "name": "stderr",
     "output_type": "stream",
     "text": [
      "W0505 11:51:56.587388 140459842635584 metrics.py:103] DICE score is technically 1.0, but prediction and truth arrays are empty. \n"
     ]
    },
    {
     "name": "stderr",
     "output_type": "stream",
     "text": [
      "W0505 11:51:56.597604 140459842635584 metrics.py:103] DICE score is technically 1.0, but prediction and truth arrays are empty. \n"
     ]
    },
    {
     "name": "stderr",
     "output_type": "stream",
     "text": [
      "W0505 11:51:56.607781 140459842635584 metrics.py:103] DICE score is technically 1.0, but prediction and truth arrays are empty. \n"
     ]
    },
    {
     "name": "stderr",
     "output_type": "stream",
     "text": [
      "W0505 11:51:56.618283 140459842635584 metrics.py:103] DICE score is technically 1.0, but prediction and truth arrays are empty. \n"
     ]
    },
    {
     "name": "stderr",
     "output_type": "stream",
     "text": [
      "W0505 11:51:56.628886 140459842635584 metrics.py:103] DICE score is technically 1.0, but prediction and truth arrays are empty. \n"
     ]
    },
    {
     "name": "stderr",
     "output_type": "stream",
     "text": [
      "W0505 11:51:56.639410 140459842635584 metrics.py:103] DICE score is technically 1.0, but prediction and truth arrays are empty. \n"
     ]
    },
    {
     "name": "stderr",
     "output_type": "stream",
     "text": [
      "W0505 11:51:56.649955 140459842635584 metrics.py:103] DICE score is technically 1.0, but prediction and truth arrays are empty. \n"
     ]
    },
    {
     "name": "stderr",
     "output_type": "stream",
     "text": [
      "W0505 11:51:56.660327 140459842635584 metrics.py:103] DICE score is technically 1.0, but prediction and truth arrays are empty. \n"
     ]
    },
    {
     "name": "stderr",
     "output_type": "stream",
     "text": [
      "W0505 11:51:56.670645 140459842635584 metrics.py:103] DICE score is technically 1.0, but prediction and truth arrays are empty. \n"
     ]
    },
    {
     "name": "stderr",
     "output_type": "stream",
     "text": [
      "W0505 11:51:56.681078 140459842635584 metrics.py:103] DICE score is technically 1.0, but prediction and truth arrays are empty. \n"
     ]
    },
    {
     "name": "stderr",
     "output_type": "stream",
     "text": [
      "W0505 11:51:56.691295 140459842635584 metrics.py:103] DICE score is technically 1.0, but prediction and truth arrays are empty. \n"
     ]
    },
    {
     "name": "stderr",
     "output_type": "stream",
     "text": [
      "W0505 11:51:56.701832 140459842635584 metrics.py:103] DICE score is technically 1.0, but prediction and truth arrays are empty. \n"
     ]
    },
    {
     "name": "stderr",
     "output_type": "stream",
     "text": [
      "W0505 11:51:56.712557 140459842635584 metrics.py:103] DICE score is technically 1.0, but prediction and truth arrays are empty. \n"
     ]
    },
    {
     "name": "stderr",
     "output_type": "stream",
     "text": [
      "W0505 11:51:56.723191 140459842635584 metrics.py:103] DICE score is technically 1.0, but prediction and truth arrays are empty. \n"
     ]
    },
    {
     "name": "stderr",
     "output_type": "stream",
     "text": [
      "W0505 11:51:56.734051 140459842635584 metrics.py:103] DICE score is technically 1.0, but prediction and truth arrays are empty. \n"
     ]
    },
    {
     "name": "stderr",
     "output_type": "stream",
     "text": [
      "W0505 11:51:56.744627 140459842635584 metrics.py:103] DICE score is technically 1.0, but prediction and truth arrays are empty. \n"
     ]
    },
    {
     "name": "stderr",
     "output_type": "stream",
     "text": [
      "W0505 11:51:56.755247 140459842635584 metrics.py:103] DICE score is technically 1.0, but prediction and truth arrays are empty. \n"
     ]
    },
    {
     "name": "stderr",
     "output_type": "stream",
     "text": [
      "W0505 11:51:56.765969 140459842635584 metrics.py:103] DICE score is technically 1.0, but prediction and truth arrays are empty. \n"
     ]
    },
    {
     "name": "stderr",
     "output_type": "stream",
     "text": [
      "W0505 11:51:56.776293 140459842635584 metrics.py:103] DICE score is technically 1.0, but prediction and truth arrays are empty. \n"
     ]
    },
    {
     "name": "stderr",
     "output_type": "stream",
     "text": [
      "W0505 11:51:56.787102 140459842635584 metrics.py:103] DICE score is technically 1.0, but prediction and truth arrays are empty. \n"
     ]
    },
    {
     "name": "stderr",
     "output_type": "stream",
     "text": [
      "W0505 11:51:56.797422 140459842635584 metrics.py:103] DICE score is technically 1.0, but prediction and truth arrays are empty. \n"
     ]
    },
    {
     "name": "stderr",
     "output_type": "stream",
     "text": [
      "W0505 11:51:56.807406 140459842635584 metrics.py:103] DICE score is technically 1.0, but prediction and truth arrays are empty. \n"
     ]
    },
    {
     "name": "stderr",
     "output_type": "stream",
     "text": [
      "W0505 11:51:56.818058 140459842635584 metrics.py:103] DICE score is technically 1.0, but prediction and truth arrays are empty. \n"
     ]
    },
    {
     "name": "stderr",
     "output_type": "stream",
     "text": [
      "W0505 11:51:56.827994 140459842635584 metrics.py:103] DICE score is technically 1.0, but prediction and truth arrays are empty. \n"
     ]
    },
    {
     "name": "stderr",
     "output_type": "stream",
     "text": [
      "W0505 11:51:56.838434 140459842635584 metrics.py:103] DICE score is technically 1.0, but prediction and truth arrays are empty. \n"
     ]
    },
    {
     "name": "stderr",
     "output_type": "stream",
     "text": [
      "W0505 11:51:56.848682 140459842635584 metrics.py:103] DICE score is technically 1.0, but prediction and truth arrays are empty. \n"
     ]
    },
    {
     "name": "stderr",
     "output_type": "stream",
     "text": [
      "W0505 11:51:56.859153 140459842635584 metrics.py:103] DICE score is technically 1.0, but prediction and truth arrays are empty. \n"
     ]
    },
    {
     "name": "stderr",
     "output_type": "stream",
     "text": [
      "W0505 11:51:56.870061 140459842635584 metrics.py:103] DICE score is technically 1.0, but prediction and truth arrays are empty. \n"
     ]
    },
    {
     "name": "stderr",
     "output_type": "stream",
     "text": [
      "W0505 11:51:56.880722 140459842635584 metrics.py:103] DICE score is technically 1.0, but prediction and truth arrays are empty. \n"
     ]
    },
    {
     "name": "stderr",
     "output_type": "stream",
     "text": [
      "W0505 11:51:56.891097 140459842635584 metrics.py:103] DICE score is technically 1.0, but prediction and truth arrays are empty. \n"
     ]
    },
    {
     "name": "stderr",
     "output_type": "stream",
     "text": [
      "W0505 11:51:57.474562 140459842635584 metrics.py:103] DICE score is technically 1.0, but prediction and truth arrays are empty. \n"
     ]
    },
    {
     "name": "stderr",
     "output_type": "stream",
     "text": [
      "W0505 11:51:57.485328 140459842635584 metrics.py:103] DICE score is technically 1.0, but prediction and truth arrays are empty. \n"
     ]
    },
    {
     "name": "stderr",
     "output_type": "stream",
     "text": [
      "W0505 11:51:57.496458 140459842635584 metrics.py:103] DICE score is technically 1.0, but prediction and truth arrays are empty. \n"
     ]
    },
    {
     "name": "stderr",
     "output_type": "stream",
     "text": [
      "W0505 11:51:57.507075 140459842635584 metrics.py:103] DICE score is technically 1.0, but prediction and truth arrays are empty. \n"
     ]
    },
    {
     "name": "stderr",
     "output_type": "stream",
     "text": [
      "W0505 11:51:57.518020 140459842635584 metrics.py:103] DICE score is technically 1.0, but prediction and truth arrays are empty. \n"
     ]
    },
    {
     "name": "stderr",
     "output_type": "stream",
     "text": [
      "W0505 11:51:57.529247 140459842635584 metrics.py:103] DICE score is technically 1.0, but prediction and truth arrays are empty. \n"
     ]
    },
    {
     "name": "stderr",
     "output_type": "stream",
     "text": [
      "W0505 11:51:57.539719 140459842635584 metrics.py:103] DICE score is technically 1.0, but prediction and truth arrays are empty. \n"
     ]
    },
    {
     "name": "stderr",
     "output_type": "stream",
     "text": [
      "W0505 11:51:57.551702 140459842635584 metrics.py:103] DICE score is technically 1.0, but prediction and truth arrays are empty. \n"
     ]
    },
    {
     "name": "stderr",
     "output_type": "stream",
     "text": [
      "W0505 11:51:57.562884 140459842635584 metrics.py:103] DICE score is technically 1.0, but prediction and truth arrays are empty. \n"
     ]
    },
    {
     "name": "stderr",
     "output_type": "stream",
     "text": [
      "W0505 11:51:57.573021 140459842635584 metrics.py:103] DICE score is technically 1.0, but prediction and truth arrays are empty. \n"
     ]
    },
    {
     "name": "stderr",
     "output_type": "stream",
     "text": [
      "W0505 11:51:57.584119 140459842635584 metrics.py:103] DICE score is technically 1.0, but prediction and truth arrays are empty. \n"
     ]
    },
    {
     "name": "stderr",
     "output_type": "stream",
     "text": [
      "W0505 11:51:57.594878 140459842635584 metrics.py:103] DICE score is technically 1.0, but prediction and truth arrays are empty. \n"
     ]
    },
    {
     "name": "stderr",
     "output_type": "stream",
     "text": [
      "W0505 11:51:57.605237 140459842635584 metrics.py:103] DICE score is technically 1.0, but prediction and truth arrays are empty. \n"
     ]
    },
    {
     "name": "stderr",
     "output_type": "stream",
     "text": [
      "W0505 11:51:57.616507 140459842635584 metrics.py:103] DICE score is technically 1.0, but prediction and truth arrays are empty. \n"
     ]
    },
    {
     "name": "stderr",
     "output_type": "stream",
     "text": [
      "W0505 11:51:57.627010 140459842635584 metrics.py:103] DICE score is technically 1.0, but prediction and truth arrays are empty. \n"
     ]
    },
    {
     "name": "stderr",
     "output_type": "stream",
     "text": [
      "W0505 11:51:57.637450 140459842635584 metrics.py:103] DICE score is technically 1.0, but prediction and truth arrays are empty. \n"
     ]
    },
    {
     "name": "stderr",
     "output_type": "stream",
     "text": [
      "W0505 11:51:57.648843 140459842635584 metrics.py:103] DICE score is technically 1.0, but prediction and truth arrays are empty. \n"
     ]
    },
    {
     "name": "stderr",
     "output_type": "stream",
     "text": [
      "W0505 11:51:57.659476 140459842635584 metrics.py:103] DICE score is technically 1.0, but prediction and truth arrays are empty. \n"
     ]
    },
    {
     "name": "stderr",
     "output_type": "stream",
     "text": [
      "W0505 11:51:57.670373 140459842635584 metrics.py:103] DICE score is technically 1.0, but prediction and truth arrays are empty. \n"
     ]
    },
    {
     "name": "stderr",
     "output_type": "stream",
     "text": [
      "W0505 11:51:57.681650 140459842635584 metrics.py:103] DICE score is technically 1.0, but prediction and truth arrays are empty. \n"
     ]
    },
    {
     "name": "stderr",
     "output_type": "stream",
     "text": [
      "W0505 11:51:57.692251 140459842635584 metrics.py:103] DICE score is technically 1.0, but prediction and truth arrays are empty. \n"
     ]
    },
    {
     "name": "stderr",
     "output_type": "stream",
     "text": [
      "W0505 11:51:57.703611 140459842635584 metrics.py:103] DICE score is technically 1.0, but prediction and truth arrays are empty. \n"
     ]
    },
    {
     "name": "stderr",
     "output_type": "stream",
     "text": [
      "W0505 11:51:57.714571 140459842635584 metrics.py:103] DICE score is technically 1.0, but prediction and truth arrays are empty. \n"
     ]
    },
    {
     "name": "stderr",
     "output_type": "stream",
     "text": [
      "W0505 11:51:57.725255 140459842635584 metrics.py:103] DICE score is technically 1.0, but prediction and truth arrays are empty. \n"
     ]
    },
    {
     "name": "stderr",
     "output_type": "stream",
     "text": [
      "W0505 11:51:57.736892 140459842635584 metrics.py:103] DICE score is technically 1.0, but prediction and truth arrays are empty. \n"
     ]
    },
    {
     "name": "stderr",
     "output_type": "stream",
     "text": [
      "W0505 11:51:57.748111 140459842635584 metrics.py:103] DICE score is technically 1.0, but prediction and truth arrays are empty. \n"
     ]
    },
    {
     "name": "stderr",
     "output_type": "stream",
     "text": [
      "W0505 11:51:57.758838 140459842635584 metrics.py:103] DICE score is technically 1.0, but prediction and truth arrays are empty. \n"
     ]
    },
    {
     "name": "stderr",
     "output_type": "stream",
     "text": [
      "W0505 11:51:57.769393 140459842635584 metrics.py:103] DICE score is technically 1.0, but prediction and truth arrays are empty. \n"
     ]
    },
    {
     "name": "stderr",
     "output_type": "stream",
     "text": [
      "W0505 11:51:57.780476 140459842635584 metrics.py:103] DICE score is technically 1.0, but prediction and truth arrays are empty. \n"
     ]
    },
    {
     "name": "stderr",
     "output_type": "stream",
     "text": [
      "W0505 11:51:57.791002 140459842635584 metrics.py:103] DICE score is technically 1.0, but prediction and truth arrays are empty. \n"
     ]
    },
    {
     "name": "stderr",
     "output_type": "stream",
     "text": [
      "W0505 11:51:57.801897 140459842635584 metrics.py:103] DICE score is technically 1.0, but prediction and truth arrays are empty. \n"
     ]
    },
    {
     "name": "stderr",
     "output_type": "stream",
     "text": [
      "W0505 11:51:57.812769 140459842635584 metrics.py:103] DICE score is technically 1.0, but prediction and truth arrays are empty. \n"
     ]
    },
    {
     "name": "stderr",
     "output_type": "stream",
     "text": [
      "W0505 11:51:57.824273 140459842635584 metrics.py:103] DICE score is technically 1.0, but prediction and truth arrays are empty. \n"
     ]
    },
    {
     "name": "stderr",
     "output_type": "stream",
     "text": [
      "W0505 11:51:57.835514 140459842635584 metrics.py:103] DICE score is technically 1.0, but prediction and truth arrays are empty. \n"
     ]
    },
    {
     "name": "stderr",
     "output_type": "stream",
     "text": [
      "W0505 11:51:57.846535 140459842635584 metrics.py:103] DICE score is technically 1.0, but prediction and truth arrays are empty. \n"
     ]
    },
    {
     "name": "stderr",
     "output_type": "stream",
     "text": [
      "W0505 11:51:57.857436 140459842635584 metrics.py:103] DICE score is technically 1.0, but prediction and truth arrays are empty. \n"
     ]
    },
    {
     "name": "stderr",
     "output_type": "stream",
     "text": [
      "W0505 11:51:57.868319 140459842635584 metrics.py:103] DICE score is technically 1.0, but prediction and truth arrays are empty. \n"
     ]
    },
    {
     "name": "stderr",
     "output_type": "stream",
     "text": [
      "W0505 11:51:57.879216 140459842635584 metrics.py:103] DICE score is technically 1.0, but prediction and truth arrays are empty. \n"
     ]
    },
    {
     "name": "stderr",
     "output_type": "stream",
     "text": [
      "W0505 11:51:57.889656 140459842635584 metrics.py:103] DICE score is technically 1.0, but prediction and truth arrays are empty. \n"
     ]
    },
    {
     "name": "stderr",
     "output_type": "stream",
     "text": [
      "W0505 11:51:57.900322 140459842635584 metrics.py:103] DICE score is technically 1.0, but prediction and truth arrays are empty. \n"
     ]
    },
    {
     "name": "stderr",
     "output_type": "stream",
     "text": [
      "W0505 11:51:57.911110 140459842635584 metrics.py:103] DICE score is technically 1.0, but prediction and truth arrays are empty. \n"
     ]
    },
    {
     "name": "stderr",
     "output_type": "stream",
     "text": [
      "W0505 11:51:57.922238 140459842635584 metrics.py:103] DICE score is technically 1.0, but prediction and truth arrays are empty. \n"
     ]
    },
    {
     "name": "stderr",
     "output_type": "stream",
     "text": [
      "W0505 11:51:57.933127 140459842635584 metrics.py:103] DICE score is technically 1.0, but prediction and truth arrays are empty. \n"
     ]
    },
    {
     "name": "stderr",
     "output_type": "stream",
     "text": [
      "W0505 11:51:57.943725 140459842635584 metrics.py:103] DICE score is technically 1.0, but prediction and truth arrays are empty. \n"
     ]
    },
    {
     "name": "stderr",
     "output_type": "stream",
     "text": [
      "W0505 11:51:57.954703 140459842635584 metrics.py:103] DICE score is technically 1.0, but prediction and truth arrays are empty. \n"
     ]
    },
    {
     "name": "stderr",
     "output_type": "stream",
     "text": [
      "W0505 11:51:57.965550 140459842635584 metrics.py:103] DICE score is technically 1.0, but prediction and truth arrays are empty. \n"
     ]
    },
    {
     "name": "stderr",
     "output_type": "stream",
     "text": [
      "W0505 11:51:57.976640 140459842635584 metrics.py:103] DICE score is technically 1.0, but prediction and truth arrays are empty. \n"
     ]
    },
    {
     "name": "stderr",
     "output_type": "stream",
     "text": [
      "W0505 11:51:57.987739 140459842635584 metrics.py:103] DICE score is technically 1.0, but prediction and truth arrays are empty. \n"
     ]
    },
    {
     "name": "stderr",
     "output_type": "stream",
     "text": [
      "W0505 11:51:57.998996 140459842635584 metrics.py:103] DICE score is technically 1.0, but prediction and truth arrays are empty. \n"
     ]
    },
    {
     "name": "stderr",
     "output_type": "stream",
     "text": [
      "W0505 11:51:58.010040 140459842635584 metrics.py:103] DICE score is technically 1.0, but prediction and truth arrays are empty. \n"
     ]
    },
    {
     "name": "stderr",
     "output_type": "stream",
     "text": [
      "W0505 11:51:58.020992 140459842635584 metrics.py:103] DICE score is technically 1.0, but prediction and truth arrays are empty. \n"
     ]
    },
    {
     "name": "stderr",
     "output_type": "stream",
     "text": [
      "W0505 11:51:58.032078 140459842635584 metrics.py:103] DICE score is technically 1.0, but prediction and truth arrays are empty. \n"
     ]
    },
    {
     "name": "stderr",
     "output_type": "stream",
     "text": [
      "W0505 11:51:58.042859 140459842635584 metrics.py:103] DICE score is technically 1.0, but prediction and truth arrays are empty. \n"
     ]
    },
    {
     "name": "stderr",
     "output_type": "stream",
     "text": [
      "W0505 11:51:58.053584 140459842635584 metrics.py:103] DICE score is technically 1.0, but prediction and truth arrays are empty. \n"
     ]
    },
    {
     "name": "stderr",
     "output_type": "stream",
     "text": [
      "W0505 11:51:58.064304 140459842635584 metrics.py:103] DICE score is technically 1.0, but prediction and truth arrays are empty. \n"
     ]
    },
    {
     "name": "stderr",
     "output_type": "stream",
     "text": [
      "W0505 11:51:58.075477 140459842635584 metrics.py:103] DICE score is technically 1.0, but prediction and truth arrays are empty. \n"
     ]
    },
    {
     "name": "stderr",
     "output_type": "stream",
     "text": [
      "W0505 11:51:58.085964 140459842635584 metrics.py:103] DICE score is technically 1.0, but prediction and truth arrays are empty. \n"
     ]
    },
    {
     "name": "stderr",
     "output_type": "stream",
     "text": [
      "W0505 11:51:58.097326 140459842635584 metrics.py:103] DICE score is technically 1.0, but prediction and truth arrays are empty. \n"
     ]
    },
    {
     "name": "stderr",
     "output_type": "stream",
     "text": [
      "W0505 11:51:58.109096 140459842635584 metrics.py:103] DICE score is technically 1.0, but prediction and truth arrays are empty. \n"
     ]
    },
    {
     "name": "stderr",
     "output_type": "stream",
     "text": [
      "W0505 11:51:58.120222 140459842635584 metrics.py:103] DICE score is technically 1.0, but prediction and truth arrays are empty. \n"
     ]
    },
    {
     "name": "stderr",
     "output_type": "stream",
     "text": [
      "W0505 11:51:58.131481 140459842635584 metrics.py:103] DICE score is technically 1.0, but prediction and truth arrays are empty. \n"
     ]
    },
    {
     "name": "stderr",
     "output_type": "stream",
     "text": [
      "W0505 11:51:58.142881 140459842635584 metrics.py:103] DICE score is technically 1.0, but prediction and truth arrays are empty. \n"
     ]
    },
    {
     "name": "stderr",
     "output_type": "stream",
     "text": [
      "W0505 11:51:58.153494 140459842635584 metrics.py:103] DICE score is technically 1.0, but prediction and truth arrays are empty. \n"
     ]
    },
    {
     "name": "stderr",
     "output_type": "stream",
     "text": [
      "W0505 11:51:58.165110 140459842635584 metrics.py:103] DICE score is technically 1.0, but prediction and truth arrays are empty. \n"
     ]
    },
    {
     "name": "stderr",
     "output_type": "stream",
     "text": [
      "W0505 11:51:58.175859 140459842635584 metrics.py:103] DICE score is technically 1.0, but prediction and truth arrays are empty. \n"
     ]
    },
    {
     "name": "stderr",
     "output_type": "stream",
     "text": [
      "W0505 11:51:58.187150 140459842635584 metrics.py:103] DICE score is technically 1.0, but prediction and truth arrays are empty. \n"
     ]
    },
    {
     "name": "stderr",
     "output_type": "stream",
     "text": [
      "W0505 11:51:58.198400 140459842635584 metrics.py:103] DICE score is technically 1.0, but prediction and truth arrays are empty. \n"
     ]
    },
    {
     "name": "stderr",
     "output_type": "stream",
     "text": [
      "W0505 11:51:58.208986 140459842635584 metrics.py:103] DICE score is technically 1.0, but prediction and truth arrays are empty. \n"
     ]
    },
    {
     "name": "stderr",
     "output_type": "stream",
     "text": [
      "W0505 11:51:58.220205 140459842635584 metrics.py:103] DICE score is technically 1.0, but prediction and truth arrays are empty. \n"
     ]
    },
    {
     "name": "stderr",
     "output_type": "stream",
     "text": [
      "W0505 11:51:58.230824 140459842635584 metrics.py:103] DICE score is technically 1.0, but prediction and truth arrays are empty. \n"
     ]
    },
    {
     "name": "stderr",
     "output_type": "stream",
     "text": [
      "W0505 11:51:58.241812 140459842635584 metrics.py:103] DICE score is technically 1.0, but prediction and truth arrays are empty. \n"
     ]
    },
    {
     "name": "stderr",
     "output_type": "stream",
     "text": [
      "W0505 11:51:58.252719 140459842635584 metrics.py:103] DICE score is technically 1.0, but prediction and truth arrays are empty. \n"
     ]
    },
    {
     "name": "stderr",
     "output_type": "stream",
     "text": [
      "W0505 11:51:58.263803 140459842635584 metrics.py:103] DICE score is technically 1.0, but prediction and truth arrays are empty. \n"
     ]
    },
    {
     "name": "stderr",
     "output_type": "stream",
     "text": [
      "W0505 11:51:58.274586 140459842635584 metrics.py:103] DICE score is technically 1.0, but prediction and truth arrays are empty. \n"
     ]
    },
    {
     "name": "stderr",
     "output_type": "stream",
     "text": [
      "W0505 11:51:58.285559 140459842635584 metrics.py:103] DICE score is technically 1.0, but prediction and truth arrays are empty. \n"
     ]
    },
    {
     "name": "stderr",
     "output_type": "stream",
     "text": [
      "W0505 11:51:58.296191 140459842635584 metrics.py:103] DICE score is technically 1.0, but prediction and truth arrays are empty. \n"
     ]
    },
    {
     "name": "stderr",
     "output_type": "stream",
     "text": [
      "W0505 11:51:58.306645 140459842635584 metrics.py:103] DICE score is technically 1.0, but prediction and truth arrays are empty. \n"
     ]
    },
    {
     "name": "stderr",
     "output_type": "stream",
     "text": [
      "W0505 11:51:58.317061 140459842635584 metrics.py:103] DICE score is technically 1.0, but prediction and truth arrays are empty. \n"
     ]
    },
    {
     "name": "stderr",
     "output_type": "stream",
     "text": [
      "W0505 11:51:58.327425 140459842635584 metrics.py:103] DICE score is technically 1.0, but prediction and truth arrays are empty. \n"
     ]
    },
    {
     "name": "stderr",
     "output_type": "stream",
     "text": [
      "W0505 11:51:58.338061 140459842635584 metrics.py:103] DICE score is technically 1.0, but prediction and truth arrays are empty. \n"
     ]
    },
    {
     "name": "stderr",
     "output_type": "stream",
     "text": [
      "W0505 11:51:58.348709 140459842635584 metrics.py:103] DICE score is technically 1.0, but prediction and truth arrays are empty. \n"
     ]
    },
    {
     "name": "stderr",
     "output_type": "stream",
     "text": [
      "W0505 11:51:58.359093 140459842635584 metrics.py:103] DICE score is technically 1.0, but prediction and truth arrays are empty. \n"
     ]
    },
    {
     "name": "stderr",
     "output_type": "stream",
     "text": [
      "W0505 11:51:58.369810 140459842635584 metrics.py:103] DICE score is technically 1.0, but prediction and truth arrays are empty. \n"
     ]
    },
    {
     "name": "stderr",
     "output_type": "stream",
     "text": [
      "W0505 11:51:58.380652 140459842635584 metrics.py:103] DICE score is technically 1.0, but prediction and truth arrays are empty. \n"
     ]
    },
    {
     "name": "stderr",
     "output_type": "stream",
     "text": [
      "W0505 11:51:58.391343 140459842635584 metrics.py:103] DICE score is technically 1.0, but prediction and truth arrays are empty. \n"
     ]
    },
    {
     "name": "stderr",
     "output_type": "stream",
     "text": [
      "W0505 11:51:58.402000 140459842635584 metrics.py:103] DICE score is technically 1.0, but prediction and truth arrays are empty. \n"
     ]
    },
    {
     "name": "stderr",
     "output_type": "stream",
     "text": [
      "W0505 11:51:58.412560 140459842635584 metrics.py:103] DICE score is technically 1.0, but prediction and truth arrays are empty. \n"
     ]
    },
    {
     "name": "stderr",
     "output_type": "stream",
     "text": [
      "W0505 11:51:58.423087 140459842635584 metrics.py:103] DICE score is technically 1.0, but prediction and truth arrays are empty. \n"
     ]
    },
    {
     "name": "stderr",
     "output_type": "stream",
     "text": [
      "W0505 11:51:58.433556 140459842635584 metrics.py:103] DICE score is technically 1.0, but prediction and truth arrays are empty. \n"
     ]
    },
    {
     "name": "stderr",
     "output_type": "stream",
     "text": [
      "W0505 11:51:58.444047 140459842635584 metrics.py:103] DICE score is technically 1.0, but prediction and truth arrays are empty. \n"
     ]
    },
    {
     "name": "stderr",
     "output_type": "stream",
     "text": [
      "W0505 11:51:58.454617 140459842635584 metrics.py:103] DICE score is technically 1.0, but prediction and truth arrays are empty. \n"
     ]
    },
    {
     "name": "stderr",
     "output_type": "stream",
     "text": [
      "W0505 11:51:58.465050 140459842635584 metrics.py:103] DICE score is technically 1.0, but prediction and truth arrays are empty. \n"
     ]
    },
    {
     "name": "stderr",
     "output_type": "stream",
     "text": [
      "W0505 11:51:58.475405 140459842635584 metrics.py:103] DICE score is technically 1.0, but prediction and truth arrays are empty. \n"
     ]
    },
    {
     "name": "stderr",
     "output_type": "stream",
     "text": [
      "W0505 11:51:58.485885 140459842635584 metrics.py:103] DICE score is technically 1.0, but prediction and truth arrays are empty. \n"
     ]
    },
    {
     "name": "stderr",
     "output_type": "stream",
     "text": [
      "W0505 11:51:58.496545 140459842635584 metrics.py:103] DICE score is technically 1.0, but prediction and truth arrays are empty. \n"
     ]
    },
    {
     "name": "stderr",
     "output_type": "stream",
     "text": [
      "W0505 11:51:58.506602 140459842635584 metrics.py:103] DICE score is technically 1.0, but prediction and truth arrays are empty. \n"
     ]
    },
    {
     "name": "stderr",
     "output_type": "stream",
     "text": [
      "W0505 11:51:58.517368 140459842635584 metrics.py:103] DICE score is technically 1.0, but prediction and truth arrays are empty. \n"
     ]
    },
    {
     "name": "stderr",
     "output_type": "stream",
     "text": [
      "W0505 11:51:58.528473 140459842635584 metrics.py:103] DICE score is technically 1.0, but prediction and truth arrays are empty. \n"
     ]
    },
    {
     "name": "stderr",
     "output_type": "stream",
     "text": [
      "W0505 11:51:58.539422 140459842635584 metrics.py:103] DICE score is technically 1.0, but prediction and truth arrays are empty. \n"
     ]
    },
    {
     "name": "stderr",
     "output_type": "stream",
     "text": [
      "W0505 11:51:58.549967 140459842635584 metrics.py:103] DICE score is technically 1.0, but prediction and truth arrays are empty. \n"
     ]
    },
    {
     "name": "stderr",
     "output_type": "stream",
     "text": [
      "W0505 11:51:58.561126 140459842635584 metrics.py:103] DICE score is technically 1.0, but prediction and truth arrays are empty. \n"
     ]
    },
    {
     "name": "stderr",
     "output_type": "stream",
     "text": [
      "W0505 11:51:58.571406 140459842635584 metrics.py:103] DICE score is technically 1.0, but prediction and truth arrays are empty. \n"
     ]
    },
    {
     "name": "stderr",
     "output_type": "stream",
     "text": [
      "W0505 11:51:58.582184 140459842635584 metrics.py:103] DICE score is technically 1.0, but prediction and truth arrays are empty. \n"
     ]
    },
    {
     "name": "stderr",
     "output_type": "stream",
     "text": [
      "W0505 11:51:58.592515 140459842635584 metrics.py:103] DICE score is technically 1.0, but prediction and truth arrays are empty. \n"
     ]
    },
    {
     "name": "stderr",
     "output_type": "stream",
     "text": [
      "W0505 11:51:58.602803 140459842635584 metrics.py:103] DICE score is technically 1.0, but prediction and truth arrays are empty. \n"
     ]
    },
    {
     "name": "stderr",
     "output_type": "stream",
     "text": [
      "W0505 11:51:58.613373 140459842635584 metrics.py:103] DICE score is technically 1.0, but prediction and truth arrays are empty. \n"
     ]
    },
    {
     "name": "stderr",
     "output_type": "stream",
     "text": [
      "W0505 11:51:58.624164 140459842635584 metrics.py:103] DICE score is technically 1.0, but prediction and truth arrays are empty. \n"
     ]
    },
    {
     "name": "stderr",
     "output_type": "stream",
     "text": [
      "W0505 11:51:58.634772 140459842635584 metrics.py:103] DICE score is technically 1.0, but prediction and truth arrays are empty. \n"
     ]
    },
    {
     "name": "stderr",
     "output_type": "stream",
     "text": [
      "W0505 11:51:58.645153 140459842635584 metrics.py:103] DICE score is technically 1.0, but prediction and truth arrays are empty. \n"
     ]
    },
    {
     "name": "stderr",
     "output_type": "stream",
     "text": [
      "W0505 11:51:58.655569 140459842635584 metrics.py:103] DICE score is technically 1.0, but prediction and truth arrays are empty. \n"
     ]
    },
    {
     "name": "stderr",
     "output_type": "stream",
     "text": [
      "W0505 11:51:58.665733 140459842635584 metrics.py:103] DICE score is technically 1.0, but prediction and truth arrays are empty. \n"
     ]
    },
    {
     "name": "stderr",
     "output_type": "stream",
     "text": [
      "W0505 11:51:58.676268 140459842635584 metrics.py:103] DICE score is technically 1.0, but prediction and truth arrays are empty. \n"
     ]
    },
    {
     "name": "stderr",
     "output_type": "stream",
     "text": [
      "W0505 11:51:58.686701 140459842635584 metrics.py:103] DICE score is technically 1.0, but prediction and truth arrays are empty. \n"
     ]
    },
    {
     "name": "stderr",
     "output_type": "stream",
     "text": [
      "W0505 11:51:58.697086 140459842635584 metrics.py:103] DICE score is technically 1.0, but prediction and truth arrays are empty. \n"
     ]
    },
    {
     "name": "stderr",
     "output_type": "stream",
     "text": [
      "W0505 11:51:58.707644 140459842635584 metrics.py:103] DICE score is technically 1.0, but prediction and truth arrays are empty. \n"
     ]
    },
    {
     "name": "stderr",
     "output_type": "stream",
     "text": [
      "W0505 11:51:58.718289 140459842635584 metrics.py:103] DICE score is technically 1.0, but prediction and truth arrays are empty. \n"
     ]
    },
    {
     "name": "stderr",
     "output_type": "stream",
     "text": [
      "W0505 11:51:58.728694 140459842635584 metrics.py:103] DICE score is technically 1.0, but prediction and truth arrays are empty. \n"
     ]
    },
    {
     "name": "stderr",
     "output_type": "stream",
     "text": [
      "W0505 11:51:58.739319 140459842635584 metrics.py:103] DICE score is technically 1.0, but prediction and truth arrays are empty. \n"
     ]
    },
    {
     "name": "stderr",
     "output_type": "stream",
     "text": [
      "W0505 11:51:58.749863 140459842635584 metrics.py:103] DICE score is technically 1.0, but prediction and truth arrays are empty. \n"
     ]
    },
    {
     "name": "stderr",
     "output_type": "stream",
     "text": [
      "W0505 11:51:58.760704 140459842635584 metrics.py:103] DICE score is technically 1.0, but prediction and truth arrays are empty. \n"
     ]
    },
    {
     "name": "stderr",
     "output_type": "stream",
     "text": [
      "W0505 11:52:02.355384 140459842635584 metrics.py:103] DICE score is technically 1.0, but prediction and truth arrays are empty. \n"
     ]
    },
    {
     "name": "stderr",
     "output_type": "stream",
     "text": [
      "W0505 11:52:02.366106 140459842635584 metrics.py:103] DICE score is technically 1.0, but prediction and truth arrays are empty. \n"
     ]
    },
    {
     "name": "stderr",
     "output_type": "stream",
     "text": [
      "W0505 11:52:02.376672 140459842635584 metrics.py:103] DICE score is technically 1.0, but prediction and truth arrays are empty. \n"
     ]
    },
    {
     "name": "stderr",
     "output_type": "stream",
     "text": [
      "W0505 11:52:02.387277 140459842635584 metrics.py:103] DICE score is technically 1.0, but prediction and truth arrays are empty. \n"
     ]
    },
    {
     "name": "stderr",
     "output_type": "stream",
     "text": [
      "W0505 11:52:02.398021 140459842635584 metrics.py:103] DICE score is technically 1.0, but prediction and truth arrays are empty. \n"
     ]
    },
    {
     "name": "stderr",
     "output_type": "stream",
     "text": [
      "W0505 11:52:02.408349 140459842635584 metrics.py:103] DICE score is technically 1.0, but prediction and truth arrays are empty. \n"
     ]
    },
    {
     "name": "stderr",
     "output_type": "stream",
     "text": [
      "W0505 11:52:02.418986 140459842635584 metrics.py:103] DICE score is technically 1.0, but prediction and truth arrays are empty. \n"
     ]
    },
    {
     "name": "stderr",
     "output_type": "stream",
     "text": [
      "W0505 11:52:02.429512 140459842635584 metrics.py:103] DICE score is technically 1.0, but prediction and truth arrays are empty. \n"
     ]
    },
    {
     "name": "stderr",
     "output_type": "stream",
     "text": [
      "W0505 11:52:02.440145 140459842635584 metrics.py:103] DICE score is technically 1.0, but prediction and truth arrays are empty. \n"
     ]
    },
    {
     "name": "stderr",
     "output_type": "stream",
     "text": [
      "W0505 11:52:02.450626 140459842635584 metrics.py:103] DICE score is technically 1.0, but prediction and truth arrays are empty. \n"
     ]
    },
    {
     "name": "stderr",
     "output_type": "stream",
     "text": [
      "W0505 11:52:02.461088 140459842635584 metrics.py:103] DICE score is technically 1.0, but prediction and truth arrays are empty. \n"
     ]
    },
    {
     "name": "stderr",
     "output_type": "stream",
     "text": [
      "W0505 11:52:02.471220 140459842635584 metrics.py:103] DICE score is technically 1.0, but prediction and truth arrays are empty. \n"
     ]
    },
    {
     "name": "stderr",
     "output_type": "stream",
     "text": [
      "W0505 11:52:02.481941 140459842635584 metrics.py:103] DICE score is technically 1.0, but prediction and truth arrays are empty. \n"
     ]
    },
    {
     "name": "stderr",
     "output_type": "stream",
     "text": [
      "W0505 11:52:02.492220 140459842635584 metrics.py:103] DICE score is technically 1.0, but prediction and truth arrays are empty. \n"
     ]
    },
    {
     "name": "stderr",
     "output_type": "stream",
     "text": [
      "W0505 11:52:02.502520 140459842635584 metrics.py:103] DICE score is technically 1.0, but prediction and truth arrays are empty. \n"
     ]
    },
    {
     "name": "stderr",
     "output_type": "stream",
     "text": [
      "W0505 11:52:02.512962 140459842635584 metrics.py:103] DICE score is technically 1.0, but prediction and truth arrays are empty. \n"
     ]
    },
    {
     "name": "stderr",
     "output_type": "stream",
     "text": [
      "W0505 11:52:02.523598 140459842635584 metrics.py:103] DICE score is technically 1.0, but prediction and truth arrays are empty. \n"
     ]
    },
    {
     "name": "stderr",
     "output_type": "stream",
     "text": [
      "W0505 11:52:02.533971 140459842635584 metrics.py:103] DICE score is technically 1.0, but prediction and truth arrays are empty. \n"
     ]
    },
    {
     "name": "stderr",
     "output_type": "stream",
     "text": [
      "W0505 11:52:02.544088 140459842635584 metrics.py:103] DICE score is technically 1.0, but prediction and truth arrays are empty. \n"
     ]
    },
    {
     "name": "stderr",
     "output_type": "stream",
     "text": [
      "W0505 11:52:02.554460 140459842635584 metrics.py:103] DICE score is technically 1.0, but prediction and truth arrays are empty. \n"
     ]
    },
    {
     "name": "stderr",
     "output_type": "stream",
     "text": [
      "W0505 11:52:02.565077 140459842635584 metrics.py:103] DICE score is technically 1.0, but prediction and truth arrays are empty. \n"
     ]
    },
    {
     "name": "stderr",
     "output_type": "stream",
     "text": [
      "W0505 11:52:02.575698 140459842635584 metrics.py:103] DICE score is technically 1.0, but prediction and truth arrays are empty. \n"
     ]
    },
    {
     "name": "stderr",
     "output_type": "stream",
     "text": [
      "W0505 11:52:02.586458 140459842635584 metrics.py:103] DICE score is technically 1.0, but prediction and truth arrays are empty. \n"
     ]
    },
    {
     "name": "stderr",
     "output_type": "stream",
     "text": [
      "W0505 11:52:02.597342 140459842635584 metrics.py:103] DICE score is technically 1.0, but prediction and truth arrays are empty. \n"
     ]
    },
    {
     "name": "stderr",
     "output_type": "stream",
     "text": [
      "W0505 11:52:02.607913 140459842635584 metrics.py:103] DICE score is technically 1.0, but prediction and truth arrays are empty. \n"
     ]
    },
    {
     "name": "stderr",
     "output_type": "stream",
     "text": [
      "W0505 11:52:02.618401 140459842635584 metrics.py:103] DICE score is technically 1.0, but prediction and truth arrays are empty. \n"
     ]
    },
    {
     "name": "stderr",
     "output_type": "stream",
     "text": [
      "W0505 11:52:02.628939 140459842635584 metrics.py:103] DICE score is technically 1.0, but prediction and truth arrays are empty. \n"
     ]
    },
    {
     "name": "stderr",
     "output_type": "stream",
     "text": [
      "W0505 11:52:02.639672 140459842635584 metrics.py:103] DICE score is technically 1.0, but prediction and truth arrays are empty. \n"
     ]
    },
    {
     "name": "stderr",
     "output_type": "stream",
     "text": [
      "W0505 11:52:02.650146 140459842635584 metrics.py:103] DICE score is technically 1.0, but prediction and truth arrays are empty. \n"
     ]
    },
    {
     "name": "stderr",
     "output_type": "stream",
     "text": [
      "W0505 11:52:02.660704 140459842635584 metrics.py:103] DICE score is technically 1.0, but prediction and truth arrays are empty. \n"
     ]
    },
    {
     "name": "stderr",
     "output_type": "stream",
     "text": [
      "W0505 11:52:02.671098 140459842635584 metrics.py:103] DICE score is technically 1.0, but prediction and truth arrays are empty. \n"
     ]
    },
    {
     "name": "stderr",
     "output_type": "stream",
     "text": [
      "W0505 11:52:02.681690 140459842635584 metrics.py:103] DICE score is technically 1.0, but prediction and truth arrays are empty. \n"
     ]
    },
    {
     "name": "stderr",
     "output_type": "stream",
     "text": [
      "W0505 11:52:02.692218 140459842635584 metrics.py:103] DICE score is technically 1.0, but prediction and truth arrays are empty. \n"
     ]
    },
    {
     "name": "stderr",
     "output_type": "stream",
     "text": [
      "W0505 11:52:02.702983 140459842635584 metrics.py:103] DICE score is technically 1.0, but prediction and truth arrays are empty. \n"
     ]
    },
    {
     "name": "stderr",
     "output_type": "stream",
     "text": [
      "W0505 11:52:02.713575 140459842635584 metrics.py:103] DICE score is technically 1.0, but prediction and truth arrays are empty. \n"
     ]
    },
    {
     "name": "stderr",
     "output_type": "stream",
     "text": [
      "W0505 11:52:02.724477 140459842635584 metrics.py:103] DICE score is technically 1.0, but prediction and truth arrays are empty. \n"
     ]
    },
    {
     "name": "stderr",
     "output_type": "stream",
     "text": [
      "W0505 11:52:02.735108 140459842635584 metrics.py:103] DICE score is technically 1.0, but prediction and truth arrays are empty. \n"
     ]
    },
    {
     "name": "stderr",
     "output_type": "stream",
     "text": [
      "W0505 11:52:02.745546 140459842635584 metrics.py:103] DICE score is technically 1.0, but prediction and truth arrays are empty. \n"
     ]
    },
    {
     "name": "stderr",
     "output_type": "stream",
     "text": [
      "W0505 11:52:02.756223 140459842635584 metrics.py:103] DICE score is technically 1.0, but prediction and truth arrays are empty. \n"
     ]
    },
    {
     "name": "stderr",
     "output_type": "stream",
     "text": [
      "W0505 11:52:02.766954 140459842635584 metrics.py:103] DICE score is technically 1.0, but prediction and truth arrays are empty. \n"
     ]
    },
    {
     "name": "stderr",
     "output_type": "stream",
     "text": [
      "W0505 11:52:54.874628 140459842635584 metrics.py:103] DICE score is technically 1.0, but prediction and truth arrays are empty. \n"
     ]
    },
    {
     "name": "stderr",
     "output_type": "stream",
     "text": [
      "W0505 11:52:54.886391 140459842635584 metrics.py:103] DICE score is technically 1.0, but prediction and truth arrays are empty. \n"
     ]
    },
    {
     "name": "stderr",
     "output_type": "stream",
     "text": [
      "W0505 11:52:54.897979 140459842635584 metrics.py:103] DICE score is technically 1.0, but prediction and truth arrays are empty. \n"
     ]
    },
    {
     "name": "stderr",
     "output_type": "stream",
     "text": [
      "W0505 11:52:54.908753 140459842635584 metrics.py:103] DICE score is technically 1.0, but prediction and truth arrays are empty. \n"
     ]
    },
    {
     "name": "stderr",
     "output_type": "stream",
     "text": [
      "W0505 11:52:54.920066 140459842635584 metrics.py:103] DICE score is technically 1.0, but prediction and truth arrays are empty. \n"
     ]
    },
    {
     "name": "stderr",
     "output_type": "stream",
     "text": [
      "W0505 11:52:54.931157 140459842635584 metrics.py:103] DICE score is technically 1.0, but prediction and truth arrays are empty. \n"
     ]
    },
    {
     "name": "stderr",
     "output_type": "stream",
     "text": [
      "W0505 11:52:54.942702 140459842635584 metrics.py:103] DICE score is technically 1.0, but prediction and truth arrays are empty. \n"
     ]
    },
    {
     "name": "stderr",
     "output_type": "stream",
     "text": [
      "W0505 11:52:54.954251 140459842635584 metrics.py:103] DICE score is technically 1.0, but prediction and truth arrays are empty. \n"
     ]
    },
    {
     "name": "stderr",
     "output_type": "stream",
     "text": [
      "W0505 11:52:54.965425 140459842635584 metrics.py:103] DICE score is technically 1.0, but prediction and truth arrays are empty. \n"
     ]
    },
    {
     "name": "stderr",
     "output_type": "stream",
     "text": [
      "W0505 11:52:54.976973 140459842635584 metrics.py:103] DICE score is technically 1.0, but prediction and truth arrays are empty. \n"
     ]
    },
    {
     "name": "stderr",
     "output_type": "stream",
     "text": [
      "W0505 11:52:54.987850 140459842635584 metrics.py:103] DICE score is technically 1.0, but prediction and truth arrays are empty. \n"
     ]
    },
    {
     "name": "stderr",
     "output_type": "stream",
     "text": [
      "W0505 11:52:54.999051 140459842635584 metrics.py:103] DICE score is technically 1.0, but prediction and truth arrays are empty. \n"
     ]
    },
    {
     "name": "stderr",
     "output_type": "stream",
     "text": [
      "W0505 11:52:55.010134 140459842635584 metrics.py:103] DICE score is technically 1.0, but prediction and truth arrays are empty. \n"
     ]
    },
    {
     "name": "stderr",
     "output_type": "stream",
     "text": [
      "W0505 11:52:55.032209 140459842635584 metrics.py:103] DICE score is technically 1.0, but prediction and truth arrays are empty. \n"
     ]
    },
    {
     "name": "stderr",
     "output_type": "stream",
     "text": [
      "W0505 11:52:55.043450 140459842635584 metrics.py:103] DICE score is technically 1.0, but prediction and truth arrays are empty. \n"
     ]
    },
    {
     "name": "stderr",
     "output_type": "stream",
     "text": [
      "W0505 11:52:56.518276 140459842635584 metrics.py:103] DICE score is technically 1.0, but prediction and truth arrays are empty. \n"
     ]
    },
    {
     "name": "stderr",
     "output_type": "stream",
     "text": [
      "W0505 11:52:56.529565 140459842635584 metrics.py:103] DICE score is technically 1.0, but prediction and truth arrays are empty. \n"
     ]
    },
    {
     "name": "stderr",
     "output_type": "stream",
     "text": [
      "W0505 11:52:56.541109 140459842635584 metrics.py:103] DICE score is technically 1.0, but prediction and truth arrays are empty. \n"
     ]
    },
    {
     "name": "stderr",
     "output_type": "stream",
     "text": [
      "W0505 11:52:56.552175 140459842635584 metrics.py:103] DICE score is technically 1.0, but prediction and truth arrays are empty. \n"
     ]
    },
    {
     "name": "stderr",
     "output_type": "stream",
     "text": [
      "W0505 11:52:56.563400 140459842635584 metrics.py:103] DICE score is technically 1.0, but prediction and truth arrays are empty. \n"
     ]
    },
    {
     "name": "stderr",
     "output_type": "stream",
     "text": [
      "W0505 11:52:56.574537 140459842635584 metrics.py:103] DICE score is technically 1.0, but prediction and truth arrays are empty. \n"
     ]
    },
    {
     "name": "stderr",
     "output_type": "stream",
     "text": [
      "W0505 11:52:56.585694 140459842635584 metrics.py:103] DICE score is technically 1.0, but prediction and truth arrays are empty. \n"
     ]
    },
    {
     "name": "stderr",
     "output_type": "stream",
     "text": [
      "W0505 11:52:56.616565 140459842635584 metrics.py:103] DICE score is technically 1.0, but prediction and truth arrays are empty. \n"
     ]
    },
    {
     "name": "stderr",
     "output_type": "stream",
     "text": [
      "W0505 11:52:56.627649 140459842635584 metrics.py:103] DICE score is technically 1.0, but prediction and truth arrays are empty. \n"
     ]
    },
    {
     "name": "stderr",
     "output_type": "stream",
     "text": [
      "W0505 11:52:56.638622 140459842635584 metrics.py:103] DICE score is technically 1.0, but prediction and truth arrays are empty. \n"
     ]
    },
    {
     "name": "stderr",
     "output_type": "stream",
     "text": [
      "W0505 11:52:56.649514 140459842635584 metrics.py:103] DICE score is technically 1.0, but prediction and truth arrays are empty. \n"
     ]
    },
    {
     "name": "stderr",
     "output_type": "stream",
     "text": [
      "W0505 11:52:56.660587 140459842635584 metrics.py:103] DICE score is technically 1.0, but prediction and truth arrays are empty. \n"
     ]
    },
    {
     "name": "stderr",
     "output_type": "stream",
     "text": [
      "W0505 11:52:56.671543 140459842635584 metrics.py:103] DICE score is technically 1.0, but prediction and truth arrays are empty. \n"
     ]
    },
    {
     "name": "stderr",
     "output_type": "stream",
     "text": [
      "W0505 11:52:56.682491 140459842635584 metrics.py:103] DICE score is technically 1.0, but prediction and truth arrays are empty. \n"
     ]
    },
    {
     "name": "stderr",
     "output_type": "stream",
     "text": [
      "W0505 11:52:56.693490 140459842635584 metrics.py:103] DICE score is technically 1.0, but prediction and truth arrays are empty. \n"
     ]
    },
    {
     "name": "stderr",
     "output_type": "stream",
     "text": [
      "W0505 11:52:56.704553 140459842635584 metrics.py:103] DICE score is technically 1.0, but prediction and truth arrays are empty. \n"
     ]
    },
    {
     "name": "stderr",
     "output_type": "stream",
     "text": [
      "W0505 11:52:56.735352 140459842635584 metrics.py:103] DICE score is technically 1.0, but prediction and truth arrays are empty. \n"
     ]
    },
    {
     "name": "stderr",
     "output_type": "stream",
     "text": [
      "W0505 11:52:56.746485 140459842635584 metrics.py:103] DICE score is technically 1.0, but prediction and truth arrays are empty. \n"
     ]
    },
    {
     "name": "stderr",
     "output_type": "stream",
     "text": [
      "W0505 11:52:56.757755 140459842635584 metrics.py:103] DICE score is technically 1.0, but prediction and truth arrays are empty. \n"
     ]
    },
    {
     "name": "stderr",
     "output_type": "stream",
     "text": [
      "W0505 11:52:56.768996 140459842635584 metrics.py:103] DICE score is technically 1.0, but prediction and truth arrays are empty. \n"
     ]
    },
    {
     "name": "stderr",
     "output_type": "stream",
     "text": [
      "W0505 11:52:57.499058 140459842635584 metrics.py:103] DICE score is technically 1.0, but prediction and truth arrays are empty. \n"
     ]
    },
    {
     "name": "stderr",
     "output_type": "stream",
     "text": [
      "W0505 11:52:57.510178 140459842635584 metrics.py:103] DICE score is technically 1.0, but prediction and truth arrays are empty. \n"
     ]
    },
    {
     "name": "stderr",
     "output_type": "stream",
     "text": [
      "W0505 11:52:57.520849 140459842635584 metrics.py:103] DICE score is technically 1.0, but prediction and truth arrays are empty. \n"
     ]
    },
    {
     "name": "stderr",
     "output_type": "stream",
     "text": [
      "W0505 11:52:57.547774 140459842635584 metrics.py:103] DICE score is technically 1.0, but prediction and truth arrays are empty. \n"
     ]
    },
    {
     "name": "stderr",
     "output_type": "stream",
     "text": [
      "W0505 11:52:57.558460 140459842635584 metrics.py:103] DICE score is technically 1.0, but prediction and truth arrays are empty. \n"
     ]
    },
    {
     "name": "stderr",
     "output_type": "stream",
     "text": [
      "W0505 11:52:57.569916 140459842635584 metrics.py:103] DICE score is technically 1.0, but prediction and truth arrays are empty. \n"
     ]
    },
    {
     "name": "stderr",
     "output_type": "stream",
     "text": [
      "W0505 11:52:57.591546 140459842635584 metrics.py:103] DICE score is technically 1.0, but prediction and truth arrays are empty. \n"
     ]
    },
    {
     "name": "stderr",
     "output_type": "stream",
     "text": [
      "W0505 11:53:00.370362 140459842635584 metrics.py:103] DICE score is technically 1.0, but prediction and truth arrays are empty. \n"
     ]
    },
    {
     "name": "stderr",
     "output_type": "stream",
     "text": [
      "W0505 11:53:00.381496 140459842635584 metrics.py:103] DICE score is technically 1.0, but prediction and truth arrays are empty. \n"
     ]
    },
    {
     "name": "stderr",
     "output_type": "stream",
     "text": [
      "W0505 11:53:00.392196 140459842635584 metrics.py:103] DICE score is technically 1.0, but prediction and truth arrays are empty. \n"
     ]
    },
    {
     "name": "stderr",
     "output_type": "stream",
     "text": [
      "W0505 11:53:00.403108 140459842635584 metrics.py:103] DICE score is technically 1.0, but prediction and truth arrays are empty. \n"
     ]
    },
    {
     "name": "stderr",
     "output_type": "stream",
     "text": [
      "W0505 11:53:00.413823 140459842635584 metrics.py:103] DICE score is technically 1.0, but prediction and truth arrays are empty. \n"
     ]
    },
    {
     "name": "stderr",
     "output_type": "stream",
     "text": [
      "W0505 11:53:00.424706 140459842635584 metrics.py:103] DICE score is technically 1.0, but prediction and truth arrays are empty. \n"
     ]
    },
    {
     "name": "stderr",
     "output_type": "stream",
     "text": [
      "W0505 11:53:00.435220 140459842635584 metrics.py:103] DICE score is technically 1.0, but prediction and truth arrays are empty. \n"
     ]
    },
    {
     "name": "stderr",
     "output_type": "stream",
     "text": [
      "W0505 11:53:00.445828 140459842635584 metrics.py:103] DICE score is technically 1.0, but prediction and truth arrays are empty. \n"
     ]
    },
    {
     "name": "stderr",
     "output_type": "stream",
     "text": [
      "W0505 11:53:00.456542 140459842635584 metrics.py:103] DICE score is technically 1.0, but prediction and truth arrays are empty. \n"
     ]
    },
    {
     "name": "stderr",
     "output_type": "stream",
     "text": [
      "W0505 11:53:00.467119 140459842635584 metrics.py:103] DICE score is technically 1.0, but prediction and truth arrays are empty. \n"
     ]
    },
    {
     "name": "stderr",
     "output_type": "stream",
     "text": [
      "W0505 11:53:00.477527 140459842635584 metrics.py:103] DICE score is technically 1.0, but prediction and truth arrays are empty. \n"
     ]
    },
    {
     "name": "stderr",
     "output_type": "stream",
     "text": [
      "W0505 11:53:00.488121 140459842635584 metrics.py:103] DICE score is technically 1.0, but prediction and truth arrays are empty. \n"
     ]
    },
    {
     "name": "stderr",
     "output_type": "stream",
     "text": [
      "W0505 11:53:00.499069 140459842635584 metrics.py:103] DICE score is technically 1.0, but prediction and truth arrays are empty. \n"
     ]
    },
    {
     "name": "stderr",
     "output_type": "stream",
     "text": [
      "W0505 11:53:00.509573 140459842635584 metrics.py:103] DICE score is technically 1.0, but prediction and truth arrays are empty. \n"
     ]
    },
    {
     "name": "stderr",
     "output_type": "stream",
     "text": [
      "W0505 11:53:00.520657 140459842635584 metrics.py:103] DICE score is technically 1.0, but prediction and truth arrays are empty. \n"
     ]
    },
    {
     "name": "stderr",
     "output_type": "stream",
     "text": [
      "W0505 11:53:00.531514 140459842635584 metrics.py:103] DICE score is technically 1.0, but prediction and truth arrays are empty. \n"
     ]
    },
    {
     "name": "stderr",
     "output_type": "stream",
     "text": [
      "W0505 11:53:00.542269 140459842635584 metrics.py:103] DICE score is technically 1.0, but prediction and truth arrays are empty. \n"
     ]
    },
    {
     "name": "stderr",
     "output_type": "stream",
     "text": [
      "W0505 11:53:00.552672 140459842635584 metrics.py:103] DICE score is technically 1.0, but prediction and truth arrays are empty. \n"
     ]
    },
    {
     "name": "stderr",
     "output_type": "stream",
     "text": [
      "W0505 11:53:00.563220 140459842635584 metrics.py:103] DICE score is technically 1.0, but prediction and truth arrays are empty. \n"
     ]
    },
    {
     "name": "stderr",
     "output_type": "stream",
     "text": [
      "W0505 11:53:00.573904 140459842635584 metrics.py:103] DICE score is technically 1.0, but prediction and truth arrays are empty. \n"
     ]
    },
    {
     "name": "stderr",
     "output_type": "stream",
     "text": [
      "W0505 11:53:00.584604 140459842635584 metrics.py:103] DICE score is technically 1.0, but prediction and truth arrays are empty. \n"
     ]
    },
    {
     "name": "stderr",
     "output_type": "stream",
     "text": [
      "W0505 11:53:00.595878 140459842635584 metrics.py:103] DICE score is technically 1.0, but prediction and truth arrays are empty. \n"
     ]
    },
    {
     "name": "stderr",
     "output_type": "stream",
     "text": [
      "W0505 11:53:00.606626 140459842635584 metrics.py:103] DICE score is technically 1.0, but prediction and truth arrays are empty. \n"
     ]
    },
    {
     "name": "stderr",
     "output_type": "stream",
     "text": [
      "W0505 11:53:00.617695 140459842635584 metrics.py:103] DICE score is technically 1.0, but prediction and truth arrays are empty. \n"
     ]
    },
    {
     "name": "stderr",
     "output_type": "stream",
     "text": [
      "W0505 11:53:00.628643 140459842635584 metrics.py:103] DICE score is technically 1.0, but prediction and truth arrays are empty. \n"
     ]
    },
    {
     "name": "stderr",
     "output_type": "stream",
     "text": [
      "W0505 11:53:00.639678 140459842635584 metrics.py:103] DICE score is technically 1.0, but prediction and truth arrays are empty. \n"
     ]
    },
    {
     "name": "stderr",
     "output_type": "stream",
     "text": [
      "W0505 11:53:00.650637 140459842635584 metrics.py:103] DICE score is technically 1.0, but prediction and truth arrays are empty. \n"
     ]
    },
    {
     "name": "stderr",
     "output_type": "stream",
     "text": [
      "W0505 11:53:00.661843 140459842635584 metrics.py:103] DICE score is technically 1.0, but prediction and truth arrays are empty. \n"
     ]
    },
    {
     "name": "stderr",
     "output_type": "stream",
     "text": [
      "W0505 11:53:00.672852 140459842635584 metrics.py:103] DICE score is technically 1.0, but prediction and truth arrays are empty. \n"
     ]
    },
    {
     "name": "stderr",
     "output_type": "stream",
     "text": [
      "W0505 11:53:00.683659 140459842635584 metrics.py:103] DICE score is technically 1.0, but prediction and truth arrays are empty. \n"
     ]
    },
    {
     "name": "stderr",
     "output_type": "stream",
     "text": [
      "W0505 11:53:01.053633 140459842635584 metrics.py:103] DICE score is technically 1.0, but prediction and truth arrays are empty. \n"
     ]
    },
    {
     "name": "stderr",
     "output_type": "stream",
     "text": [
      "W0505 11:53:01.064704 140459842635584 metrics.py:103] DICE score is technically 1.0, but prediction and truth arrays are empty. \n"
     ]
    },
    {
     "name": "stderr",
     "output_type": "stream",
     "text": [
      "W0505 11:53:01.075336 140459842635584 metrics.py:103] DICE score is technically 1.0, but prediction and truth arrays are empty. \n"
     ]
    },
    {
     "name": "stderr",
     "output_type": "stream",
     "text": [
      "W0505 11:53:01.086183 140459842635584 metrics.py:103] DICE score is technically 1.0, but prediction and truth arrays are empty. \n"
     ]
    },
    {
     "name": "stderr",
     "output_type": "stream",
     "text": [
      "W0505 11:53:01.096824 140459842635584 metrics.py:103] DICE score is technically 1.0, but prediction and truth arrays are empty. \n"
     ]
    },
    {
     "name": "stderr",
     "output_type": "stream",
     "text": [
      "W0505 11:53:01.107382 140459842635584 metrics.py:103] DICE score is technically 1.0, but prediction and truth arrays are empty. \n"
     ]
    },
    {
     "name": "stderr",
     "output_type": "stream",
     "text": [
      "W0505 11:53:01.118668 140459842635584 metrics.py:103] DICE score is technically 1.0, but prediction and truth arrays are empty. \n"
     ]
    },
    {
     "name": "stderr",
     "output_type": "stream",
     "text": [
      "W0505 11:53:01.129986 140459842635584 metrics.py:103] DICE score is technically 1.0, but prediction and truth arrays are empty. \n"
     ]
    },
    {
     "name": "stderr",
     "output_type": "stream",
     "text": [
      "W0505 11:53:01.140995 140459842635584 metrics.py:103] DICE score is technically 1.0, but prediction and truth arrays are empty. \n"
     ]
    },
    {
     "name": "stderr",
     "output_type": "stream",
     "text": [
      "W0505 11:53:01.152180 140459842635584 metrics.py:103] DICE score is technically 1.0, but prediction and truth arrays are empty. \n"
     ]
    },
    {
     "name": "stderr",
     "output_type": "stream",
     "text": [
      "W0505 11:53:01.163188 140459842635584 metrics.py:103] DICE score is technically 1.0, but prediction and truth arrays are empty. \n"
     ]
    },
    {
     "name": "stderr",
     "output_type": "stream",
     "text": [
      "W0505 11:53:01.174400 140459842635584 metrics.py:103] DICE score is technically 1.0, but prediction and truth arrays are empty. \n"
     ]
    },
    {
     "name": "stderr",
     "output_type": "stream",
     "text": [
      "W0505 11:53:01.185597 140459842635584 metrics.py:103] DICE score is technically 1.0, but prediction and truth arrays are empty. \n"
     ]
    },
    {
     "name": "stderr",
     "output_type": "stream",
     "text": [
      "W0505 11:53:01.196701 140459842635584 metrics.py:103] DICE score is technically 1.0, but prediction and truth arrays are empty. \n"
     ]
    },
    {
     "name": "stderr",
     "output_type": "stream",
     "text": [
      "W0505 11:53:01.207505 140459842635584 metrics.py:103] DICE score is technically 1.0, but prediction and truth arrays are empty. \n"
     ]
    },
    {
     "name": "stderr",
     "output_type": "stream",
     "text": [
      "W0505 11:53:01.219123 140459842635584 metrics.py:103] DICE score is technically 1.0, but prediction and truth arrays are empty. \n"
     ]
    },
    {
     "name": "stderr",
     "output_type": "stream",
     "text": [
      "W0505 11:53:01.229911 140459842635584 metrics.py:103] DICE score is technically 1.0, but prediction and truth arrays are empty. \n"
     ]
    },
    {
     "name": "stderr",
     "output_type": "stream",
     "text": [
      "W0505 11:53:01.241049 140459842635584 metrics.py:103] DICE score is technically 1.0, but prediction and truth arrays are empty. \n"
     ]
    },
    {
     "name": "stderr",
     "output_type": "stream",
     "text": [
      "W0505 11:53:01.251705 140459842635584 metrics.py:103] DICE score is technically 1.0, but prediction and truth arrays are empty. \n"
     ]
    },
    {
     "name": "stderr",
     "output_type": "stream",
     "text": [
      "W0505 11:53:01.263463 140459842635584 metrics.py:103] DICE score is technically 1.0, but prediction and truth arrays are empty. \n"
     ]
    },
    {
     "name": "stderr",
     "output_type": "stream",
     "text": [
      "W0505 11:53:01.274929 140459842635584 metrics.py:103] DICE score is technically 1.0, but prediction and truth arrays are empty. \n"
     ]
    },
    {
     "name": "stderr",
     "output_type": "stream",
     "text": [
      "W0505 11:53:01.286028 140459842635584 metrics.py:103] DICE score is technically 1.0, but prediction and truth arrays are empty. \n"
     ]
    },
    {
     "name": "stderr",
     "output_type": "stream",
     "text": [
      "W0505 11:53:01.297177 140459842635584 metrics.py:103] DICE score is technically 1.0, but prediction and truth arrays are empty. \n"
     ]
    },
    {
     "name": "stderr",
     "output_type": "stream",
     "text": [
      "W0505 11:53:01.308031 140459842635584 metrics.py:103] DICE score is technically 1.0, but prediction and truth arrays are empty. \n"
     ]
    },
    {
     "name": "stderr",
     "output_type": "stream",
     "text": [
      "W0505 11:53:01.318933 140459842635584 metrics.py:103] DICE score is technically 1.0, but prediction and truth arrays are empty. \n"
     ]
    },
    {
     "name": "stderr",
     "output_type": "stream",
     "text": [
      "W0505 11:53:01.329889 140459842635584 metrics.py:103] DICE score is technically 1.0, but prediction and truth arrays are empty. \n"
     ]
    },
    {
     "name": "stderr",
     "output_type": "stream",
     "text": [
      "W0505 11:53:01.340930 140459842635584 metrics.py:103] DICE score is technically 1.0, but prediction and truth arrays are empty. \n"
     ]
    },
    {
     "name": "stderr",
     "output_type": "stream",
     "text": [
      "W0505 11:53:01.351674 140459842635584 metrics.py:103] DICE score is technically 1.0, but prediction and truth arrays are empty. \n"
     ]
    },
    {
     "name": "stderr",
     "output_type": "stream",
     "text": [
      "W0505 11:53:01.362532 140459842635584 metrics.py:103] DICE score is technically 1.0, but prediction and truth arrays are empty. \n"
     ]
    },
    {
     "name": "stderr",
     "output_type": "stream",
     "text": [
      "W0505 11:53:01.373296 140459842635584 metrics.py:103] DICE score is technically 1.0, but prediction and truth arrays are empty. \n"
     ]
    },
    {
     "name": "stderr",
     "output_type": "stream",
     "text": [
      "W0505 11:53:06.332279 140459842635584 metrics.py:103] DICE score is technically 1.0, but prediction and truth arrays are empty. \n"
     ]
    },
    {
     "name": "stderr",
     "output_type": "stream",
     "text": [
      "W0505 11:53:06.343723 140459842635584 metrics.py:103] DICE score is technically 1.0, but prediction and truth arrays are empty. \n"
     ]
    },
    {
     "name": "stderr",
     "output_type": "stream",
     "text": [
      "W0505 11:53:06.585030 140459842635584 metrics.py:103] DICE score is technically 1.0, but prediction and truth arrays are empty. \n"
     ]
    },
    {
     "name": "stderr",
     "output_type": "stream",
     "text": [
      "W0505 11:53:06.596268 140459842635584 metrics.py:103] DICE score is technically 1.0, but prediction and truth arrays are empty. \n"
     ]
    },
    {
     "name": "stderr",
     "output_type": "stream",
     "text": [
      "W0505 11:53:06.607083 140459842635584 metrics.py:103] DICE score is technically 1.0, but prediction and truth arrays are empty. \n"
     ]
    },
    {
     "name": "stderr",
     "output_type": "stream",
     "text": [
      "W0505 11:53:06.618191 140459842635584 metrics.py:103] DICE score is technically 1.0, but prediction and truth arrays are empty. \n"
     ]
    },
    {
     "name": "stderr",
     "output_type": "stream",
     "text": [
      "W0505 11:53:07.354077 140459842635584 metrics.py:103] DICE score is technically 1.0, but prediction and truth arrays are empty. \n"
     ]
    },
    {
     "name": "stderr",
     "output_type": "stream",
     "text": [
      "W0505 11:53:07.365090 140459842635584 metrics.py:103] DICE score is technically 1.0, but prediction and truth arrays are empty. \n"
     ]
    },
    {
     "name": "stderr",
     "output_type": "stream",
     "text": [
      "W0505 11:53:07.375791 140459842635584 metrics.py:103] DICE score is technically 1.0, but prediction and truth arrays are empty. \n"
     ]
    },
    {
     "name": "stderr",
     "output_type": "stream",
     "text": [
      "W0505 11:53:07.386570 140459842635584 metrics.py:103] DICE score is technically 1.0, but prediction and truth arrays are empty. \n"
     ]
    },
    {
     "name": "stderr",
     "output_type": "stream",
     "text": [
      "W0505 11:53:07.397489 140459842635584 metrics.py:103] DICE score is technically 1.0, but prediction and truth arrays are empty. \n"
     ]
    },
    {
     "name": "stderr",
     "output_type": "stream",
     "text": [
      "W0505 11:53:07.408306 140459842635584 metrics.py:103] DICE score is technically 1.0, but prediction and truth arrays are empty. \n"
     ]
    },
    {
     "name": "stderr",
     "output_type": "stream",
     "text": [
      "W0505 11:53:07.419289 140459842635584 metrics.py:103] DICE score is technically 1.0, but prediction and truth arrays are empty. \n"
     ]
    },
    {
     "name": "stderr",
     "output_type": "stream",
     "text": [
      "W0505 11:53:07.430208 140459842635584 metrics.py:103] DICE score is technically 1.0, but prediction and truth arrays are empty. \n"
     ]
    },
    {
     "name": "stderr",
     "output_type": "stream",
     "text": [
      "W0505 11:53:07.440827 140459842635584 metrics.py:103] DICE score is technically 1.0, but prediction and truth arrays are empty. \n"
     ]
    },
    {
     "name": "stderr",
     "output_type": "stream",
     "text": [
      "W0505 11:53:07.451470 140459842635584 metrics.py:103] DICE score is technically 1.0, but prediction and truth arrays are empty. \n"
     ]
    },
    {
     "name": "stderr",
     "output_type": "stream",
     "text": [
      "W0505 11:53:07.462257 140459842635584 metrics.py:103] DICE score is technically 1.0, but prediction and truth arrays are empty. \n"
     ]
    },
    {
     "name": "stderr",
     "output_type": "stream",
     "text": [
      "W0505 11:53:07.472625 140459842635584 metrics.py:103] DICE score is technically 1.0, but prediction and truth arrays are empty. \n"
     ]
    },
    {
     "name": "stderr",
     "output_type": "stream",
     "text": [
      "W0505 11:53:07.483222 140459842635584 metrics.py:103] DICE score is technically 1.0, but prediction and truth arrays are empty. \n"
     ]
    },
    {
     "name": "stderr",
     "output_type": "stream",
     "text": [
      "W0505 11:53:07.494408 140459842635584 metrics.py:103] DICE score is technically 1.0, but prediction and truth arrays are empty. \n"
     ]
    },
    {
     "name": "stderr",
     "output_type": "stream",
     "text": [
      "W0505 11:53:07.505945 140459842635584 metrics.py:103] DICE score is technically 1.0, but prediction and truth arrays are empty. \n"
     ]
    },
    {
     "name": "stderr",
     "output_type": "stream",
     "text": [
      "W0505 11:53:07.517534 140459842635584 metrics.py:103] DICE score is technically 1.0, but prediction and truth arrays are empty. \n"
     ]
    },
    {
     "name": "stderr",
     "output_type": "stream",
     "text": [
      "W0505 11:53:07.528811 140459842635584 metrics.py:103] DICE score is technically 1.0, but prediction and truth arrays are empty. \n"
     ]
    },
    {
     "name": "stderr",
     "output_type": "stream",
     "text": [
      "W0505 11:53:07.540206 140459842635584 metrics.py:103] DICE score is technically 1.0, but prediction and truth arrays are empty. \n"
     ]
    },
    {
     "name": "stderr",
     "output_type": "stream",
     "text": [
      "W0505 11:53:07.551254 140459842635584 metrics.py:103] DICE score is technically 1.0, but prediction and truth arrays are empty. \n"
     ]
    },
    {
     "name": "stderr",
     "output_type": "stream",
     "text": [
      "W0505 11:53:07.563051 140459842635584 metrics.py:103] DICE score is technically 1.0, but prediction and truth arrays are empty. \n"
     ]
    },
    {
     "name": "stderr",
     "output_type": "stream",
     "text": [
      "W0505 11:53:07.573906 140459842635584 metrics.py:103] DICE score is technically 1.0, but prediction and truth arrays are empty. \n"
     ]
    },
    {
     "name": "stderr",
     "output_type": "stream",
     "text": [
      "W0505 11:53:07.585434 140459842635584 metrics.py:103] DICE score is technically 1.0, but prediction and truth arrays are empty. \n"
     ]
    },
    {
     "name": "stderr",
     "output_type": "stream",
     "text": [
      "W0505 11:53:07.596801 140459842635584 metrics.py:103] DICE score is technically 1.0, but prediction and truth arrays are empty. \n"
     ]
    },
    {
     "name": "stderr",
     "output_type": "stream",
     "text": [
      "W0505 11:53:07.607584 140459842635584 metrics.py:103] DICE score is technically 1.0, but prediction and truth arrays are empty. \n"
     ]
    },
    {
     "name": "stderr",
     "output_type": "stream",
     "text": [
      "W0505 11:53:07.618793 140459842635584 metrics.py:103] DICE score is technically 1.0, but prediction and truth arrays are empty. \n"
     ]
    },
    {
     "name": "stderr",
     "output_type": "stream",
     "text": [
      "W0505 11:53:07.629890 140459842635584 metrics.py:103] DICE score is technically 1.0, but prediction and truth arrays are empty. \n"
     ]
    },
    {
     "name": "stderr",
     "output_type": "stream",
     "text": [
      "W0505 11:53:07.641193 140459842635584 metrics.py:103] DICE score is technically 1.0, but prediction and truth arrays are empty. \n"
     ]
    },
    {
     "name": "stderr",
     "output_type": "stream",
     "text": [
      "W0505 11:53:07.651986 140459842635584 metrics.py:103] DICE score is technically 1.0, but prediction and truth arrays are empty. \n"
     ]
    },
    {
     "name": "stderr",
     "output_type": "stream",
     "text": [
      "W0505 11:53:07.662829 140459842635584 metrics.py:103] DICE score is technically 1.0, but prediction and truth arrays are empty. \n"
     ]
    },
    {
     "name": "stderr",
     "output_type": "stream",
     "text": [
      "W0505 11:53:07.673827 140459842635584 metrics.py:103] DICE score is technically 1.0, but prediction and truth arrays are empty. \n"
     ]
    },
    {
     "name": "stderr",
     "output_type": "stream",
     "text": [
      "W0505 11:53:08.030838 140459842635584 metrics.py:103] DICE score is technically 1.0, but prediction and truth arrays are empty. \n"
     ]
    },
    {
     "name": "stderr",
     "output_type": "stream",
     "text": [
      "W0505 11:53:08.042154 140459842635584 metrics.py:103] DICE score is technically 1.0, but prediction and truth arrays are empty. \n"
     ]
    },
    {
     "name": "stderr",
     "output_type": "stream",
     "text": [
      "W0505 11:53:08.052902 140459842635584 metrics.py:103] DICE score is technically 1.0, but prediction and truth arrays are empty. \n"
     ]
    },
    {
     "name": "stderr",
     "output_type": "stream",
     "text": [
      "W0505 11:53:08.063831 140459842635584 metrics.py:103] DICE score is technically 1.0, but prediction and truth arrays are empty. \n"
     ]
    },
    {
     "name": "stderr",
     "output_type": "stream",
     "text": [
      "W0505 11:53:08.074576 140459842635584 metrics.py:103] DICE score is technically 1.0, but prediction and truth arrays are empty. \n"
     ]
    },
    {
     "name": "stderr",
     "output_type": "stream",
     "text": [
      "W0505 11:53:08.085808 140459842635584 metrics.py:103] DICE score is technically 1.0, but prediction and truth arrays are empty. \n"
     ]
    },
    {
     "name": "stderr",
     "output_type": "stream",
     "text": [
      "W0505 11:53:08.096971 140459842635584 metrics.py:103] DICE score is technically 1.0, but prediction and truth arrays are empty. \n"
     ]
    },
    {
     "name": "stderr",
     "output_type": "stream",
     "text": [
      "W0505 11:53:08.108238 140459842635584 metrics.py:103] DICE score is technically 1.0, but prediction and truth arrays are empty. \n"
     ]
    },
    {
     "name": "stderr",
     "output_type": "stream",
     "text": [
      "W0505 11:53:08.119728 140459842635584 metrics.py:103] DICE score is technically 1.0, but prediction and truth arrays are empty. \n"
     ]
    },
    {
     "name": "stderr",
     "output_type": "stream",
     "text": [
      "W0505 11:53:08.131034 140459842635584 metrics.py:103] DICE score is technically 1.0, but prediction and truth arrays are empty. \n"
     ]
    },
    {
     "name": "stderr",
     "output_type": "stream",
     "text": [
      "W0505 11:53:08.141896 140459842635584 metrics.py:103] DICE score is technically 1.0, but prediction and truth arrays are empty. \n"
     ]
    },
    {
     "name": "stderr",
     "output_type": "stream",
     "text": [
      "W0505 11:53:08.153147 140459842635584 metrics.py:103] DICE score is technically 1.0, but prediction and truth arrays are empty. \n"
     ]
    },
    {
     "name": "stderr",
     "output_type": "stream",
     "text": [
      "W0505 11:53:08.164718 140459842635584 metrics.py:103] DICE score is technically 1.0, but prediction and truth arrays are empty. \n"
     ]
    },
    {
     "name": "stderr",
     "output_type": "stream",
     "text": [
      "W0505 11:53:08.176312 140459842635584 metrics.py:103] DICE score is technically 1.0, but prediction and truth arrays are empty. \n"
     ]
    },
    {
     "name": "stderr",
     "output_type": "stream",
     "text": [
      "W0505 11:53:08.188184 140459842635584 metrics.py:103] DICE score is technically 1.0, but prediction and truth arrays are empty. \n"
     ]
    },
    {
     "name": "stderr",
     "output_type": "stream",
     "text": [
      "W0505 11:53:08.199919 140459842635584 metrics.py:103] DICE score is technically 1.0, but prediction and truth arrays are empty. \n"
     ]
    },
    {
     "name": "stderr",
     "output_type": "stream",
     "text": [
      "W0505 11:53:08.212334 140459842635584 metrics.py:103] DICE score is technically 1.0, but prediction and truth arrays are empty. \n"
     ]
    },
    {
     "name": "stderr",
     "output_type": "stream",
     "text": [
      "W0505 11:53:08.224281 140459842635584 metrics.py:103] DICE score is technically 1.0, but prediction and truth arrays are empty. \n"
     ]
    },
    {
     "name": "stderr",
     "output_type": "stream",
     "text": [
      "W0505 11:53:08.235768 140459842635584 metrics.py:103] DICE score is technically 1.0, but prediction and truth arrays are empty. \n"
     ]
    },
    {
     "name": "stderr",
     "output_type": "stream",
     "text": [
      "W0505 11:53:08.247160 140459842635584 metrics.py:103] DICE score is technically 1.0, but prediction and truth arrays are empty. \n"
     ]
    },
    {
     "name": "stderr",
     "output_type": "stream",
     "text": [
      "W0505 11:53:08.258413 140459842635584 metrics.py:103] DICE score is technically 1.0, but prediction and truth arrays are empty. \n"
     ]
    },
    {
     "name": "stderr",
     "output_type": "stream",
     "text": [
      "W0505 11:53:08.269927 140459842635584 metrics.py:103] DICE score is technically 1.0, but prediction and truth arrays are empty. \n"
     ]
    },
    {
     "name": "stderr",
     "output_type": "stream",
     "text": [
      "W0505 11:53:08.281446 140459842635584 metrics.py:103] DICE score is technically 1.0, but prediction and truth arrays are empty. \n"
     ]
    },
    {
     "name": "stderr",
     "output_type": "stream",
     "text": [
      "W0505 11:53:08.292265 140459842635584 metrics.py:103] DICE score is technically 1.0, but prediction and truth arrays are empty. \n"
     ]
    },
    {
     "name": "stderr",
     "output_type": "stream",
     "text": [
      "W0505 11:53:08.304011 140459842635584 metrics.py:103] DICE score is technically 1.0, but prediction and truth arrays are empty. \n"
     ]
    },
    {
     "name": "stderr",
     "output_type": "stream",
     "text": [
      "W0505 11:53:08.315157 140459842635584 metrics.py:103] DICE score is technically 1.0, but prediction and truth arrays are empty. \n"
     ]
    },
    {
     "name": "stderr",
     "output_type": "stream",
     "text": [
      "W0505 11:53:08.326235 140459842635584 metrics.py:103] DICE score is technically 1.0, but prediction and truth arrays are empty. \n"
     ]
    },
    {
     "name": "stderr",
     "output_type": "stream",
     "text": [
      "W0505 11:53:08.337258 140459842635584 metrics.py:103] DICE score is technically 1.0, but prediction and truth arrays are empty. \n"
     ]
    },
    {
     "name": "stderr",
     "output_type": "stream",
     "text": [
      "W0505 11:53:08.347995 140459842635584 metrics.py:103] DICE score is technically 1.0, but prediction and truth arrays are empty. \n"
     ]
    },
    {
     "name": "stderr",
     "output_type": "stream",
     "text": [
      "W0505 11:53:08.358825 140459842635584 metrics.py:103] DICE score is technically 1.0, but prediction and truth arrays are empty. \n"
     ]
    },
    {
     "name": "stderr",
     "output_type": "stream",
     "text": [
      "W0505 11:53:09.724654 140459842635584 metrics.py:103] DICE score is technically 1.0, but prediction and truth arrays are empty. \n"
     ]
    },
    {
     "name": "stderr",
     "output_type": "stream",
     "text": [
      "W0505 11:53:09.735574 140459842635584 metrics.py:103] DICE score is technically 1.0, but prediction and truth arrays are empty. \n"
     ]
    },
    {
     "name": "stderr",
     "output_type": "stream",
     "text": [
      "W0505 11:53:09.746419 140459842635584 metrics.py:103] DICE score is technically 1.0, but prediction and truth arrays are empty. \n"
     ]
    },
    {
     "name": "stderr",
     "output_type": "stream",
     "text": [
      "W0505 11:53:09.757248 140459842635584 metrics.py:103] DICE score is technically 1.0, but prediction and truth arrays are empty. \n"
     ]
    },
    {
     "name": "stderr",
     "output_type": "stream",
     "text": [
      "W0505 11:53:09.767935 140459842635584 metrics.py:103] DICE score is technically 1.0, but prediction and truth arrays are empty. \n"
     ]
    },
    {
     "name": "stderr",
     "output_type": "stream",
     "text": [
      "W0505 11:53:09.779302 140459842635584 metrics.py:103] DICE score is technically 1.0, but prediction and truth arrays are empty. \n"
     ]
    },
    {
     "name": "stderr",
     "output_type": "stream",
     "text": [
      "W0505 11:53:09.789835 140459842635584 metrics.py:103] DICE score is technically 1.0, but prediction and truth arrays are empty. \n"
     ]
    },
    {
     "name": "stderr",
     "output_type": "stream",
     "text": [
      "W0505 11:53:09.800737 140459842635584 metrics.py:103] DICE score is technically 1.0, but prediction and truth arrays are empty. \n"
     ]
    },
    {
     "name": "stderr",
     "output_type": "stream",
     "text": [
      "W0505 11:53:09.811466 140459842635584 metrics.py:103] DICE score is technically 1.0, but prediction and truth arrays are empty. \n"
     ]
    },
    {
     "name": "stderr",
     "output_type": "stream",
     "text": [
      "W0505 11:53:09.822226 140459842635584 metrics.py:103] DICE score is technically 1.0, but prediction and truth arrays are empty. \n"
     ]
    },
    {
     "name": "stderr",
     "output_type": "stream",
     "text": [
      "W0505 11:53:09.833050 140459842635584 metrics.py:103] DICE score is technically 1.0, but prediction and truth arrays are empty. \n"
     ]
    },
    {
     "name": "stderr",
     "output_type": "stream",
     "text": [
      "W0505 11:53:09.843370 140459842635584 metrics.py:103] DICE score is technically 1.0, but prediction and truth arrays are empty. \n"
     ]
    },
    {
     "name": "stderr",
     "output_type": "stream",
     "text": [
      "W0505 11:53:09.853757 140459842635584 metrics.py:103] DICE score is technically 1.0, but prediction and truth arrays are empty. \n"
     ]
    },
    {
     "name": "stderr",
     "output_type": "stream",
     "text": [
      "W0505 11:53:09.864961 140459842635584 metrics.py:103] DICE score is technically 1.0, but prediction and truth arrays are empty. \n"
     ]
    },
    {
     "name": "stderr",
     "output_type": "stream",
     "text": [
      "W0505 11:53:09.875836 140459842635584 metrics.py:103] DICE score is technically 1.0, but prediction and truth arrays are empty. \n"
     ]
    },
    {
     "name": "stderr",
     "output_type": "stream",
     "text": [
      "W0505 11:53:09.887051 140459842635584 metrics.py:103] DICE score is technically 1.0, but prediction and truth arrays are empty. \n"
     ]
    },
    {
     "name": "stderr",
     "output_type": "stream",
     "text": [
      "W0505 11:53:09.898100 140459842635584 metrics.py:103] DICE score is technically 1.0, but prediction and truth arrays are empty. \n"
     ]
    },
    {
     "name": "stderr",
     "output_type": "stream",
     "text": [
      "W0505 11:53:09.908969 140459842635584 metrics.py:103] DICE score is technically 1.0, but prediction and truth arrays are empty. \n"
     ]
    },
    {
     "name": "stderr",
     "output_type": "stream",
     "text": [
      "W0505 11:53:09.919906 140459842635584 metrics.py:103] DICE score is technically 1.0, but prediction and truth arrays are empty. \n"
     ]
    },
    {
     "name": "stderr",
     "output_type": "stream",
     "text": [
      "W0505 11:53:09.931376 140459842635584 metrics.py:103] DICE score is technically 1.0, but prediction and truth arrays are empty. \n"
     ]
    },
    {
     "name": "stderr",
     "output_type": "stream",
     "text": [
      "W0505 11:53:09.942703 140459842635584 metrics.py:103] DICE score is technically 1.0, but prediction and truth arrays are empty. \n"
     ]
    },
    {
     "name": "stderr",
     "output_type": "stream",
     "text": [
      "W0505 11:53:09.954567 140459842635584 metrics.py:103] DICE score is technically 1.0, but prediction and truth arrays are empty. \n"
     ]
    },
    {
     "name": "stderr",
     "output_type": "stream",
     "text": [
      "W0505 11:53:09.966108 140459842635584 metrics.py:103] DICE score is technically 1.0, but prediction and truth arrays are empty. \n"
     ]
    },
    {
     "name": "stderr",
     "output_type": "stream",
     "text": [
      "W0505 11:53:09.977886 140459842635584 metrics.py:103] DICE score is technically 1.0, but prediction and truth arrays are empty. \n"
     ]
    },
    {
     "name": "stderr",
     "output_type": "stream",
     "text": [
      "W0505 11:53:09.989544 140459842635584 metrics.py:103] DICE score is technically 1.0, but prediction and truth arrays are empty. \n"
     ]
    },
    {
     "name": "stderr",
     "output_type": "stream",
     "text": [
      "W0505 11:53:10.000983 140459842635584 metrics.py:103] DICE score is technically 1.0, but prediction and truth arrays are empty. \n"
     ]
    },
    {
     "name": "stderr",
     "output_type": "stream",
     "text": [
      "W0505 11:53:10.011779 140459842635584 metrics.py:103] DICE score is technically 1.0, but prediction and truth arrays are empty. \n"
     ]
    },
    {
     "name": "stderr",
     "output_type": "stream",
     "text": [
      "W0505 11:53:10.022933 140459842635584 metrics.py:103] DICE score is technically 1.0, but prediction and truth arrays are empty. \n"
     ]
    },
    {
     "name": "stderr",
     "output_type": "stream",
     "text": [
      "W0505 11:53:10.033696 140459842635584 metrics.py:103] DICE score is technically 1.0, but prediction and truth arrays are empty. \n"
     ]
    },
    {
     "name": "stderr",
     "output_type": "stream",
     "text": [
      "W0505 11:53:10.044761 140459842635584 metrics.py:103] DICE score is technically 1.0, but prediction and truth arrays are empty. \n"
     ]
    },
    {
     "name": "stderr",
     "output_type": "stream",
     "text": [
      "W0505 11:53:10.688709 140459842635584 metrics.py:103] DICE score is technically 1.0, but prediction and truth arrays are empty. \n"
     ]
    },
    {
     "name": "stderr",
     "output_type": "stream",
     "text": [
      "W0505 11:53:10.700188 140459842635584 metrics.py:103] DICE score is technically 1.0, but prediction and truth arrays are empty. \n"
     ]
    },
    {
     "name": "stderr",
     "output_type": "stream",
     "text": [
      "W0505 11:53:10.711378 140459842635584 metrics.py:103] DICE score is technically 1.0, but prediction and truth arrays are empty. \n"
     ]
    },
    {
     "name": "stderr",
     "output_type": "stream",
     "text": [
      "W0505 11:53:10.722674 140459842635584 metrics.py:103] DICE score is technically 1.0, but prediction and truth arrays are empty. \n"
     ]
    },
    {
     "name": "stderr",
     "output_type": "stream",
     "text": [
      "W0505 11:53:10.733853 140459842635584 metrics.py:103] DICE score is technically 1.0, but prediction and truth arrays are empty. \n"
     ]
    },
    {
     "name": "stderr",
     "output_type": "stream",
     "text": [
      "W0505 11:53:10.744913 140459842635584 metrics.py:103] DICE score is technically 1.0, but prediction and truth arrays are empty. \n"
     ]
    },
    {
     "name": "stderr",
     "output_type": "stream",
     "text": [
      "W0505 11:53:10.755601 140459842635584 metrics.py:103] DICE score is technically 1.0, but prediction and truth arrays are empty. \n"
     ]
    },
    {
     "name": "stderr",
     "output_type": "stream",
     "text": [
      "W0505 11:53:10.766227 140459842635584 metrics.py:103] DICE score is technically 1.0, but prediction and truth arrays are empty. \n"
     ]
    },
    {
     "name": "stderr",
     "output_type": "stream",
     "text": [
      "W0505 11:53:10.776976 140459842635584 metrics.py:103] DICE score is technically 1.0, but prediction and truth arrays are empty. \n"
     ]
    },
    {
     "name": "stderr",
     "output_type": "stream",
     "text": [
      "W0505 11:53:10.787781 140459842635584 metrics.py:103] DICE score is technically 1.0, but prediction and truth arrays are empty. \n"
     ]
    },
    {
     "name": "stderr",
     "output_type": "stream",
     "text": [
      "W0505 11:53:10.798476 140459842635584 metrics.py:103] DICE score is technically 1.0, but prediction and truth arrays are empty. \n"
     ]
    },
    {
     "name": "stderr",
     "output_type": "stream",
     "text": [
      "W0505 11:53:10.809021 140459842635584 metrics.py:103] DICE score is technically 1.0, but prediction and truth arrays are empty. \n"
     ]
    },
    {
     "name": "stderr",
     "output_type": "stream",
     "text": [
      "W0505 11:53:10.820150 140459842635584 metrics.py:103] DICE score is technically 1.0, but prediction and truth arrays are empty. \n"
     ]
    },
    {
     "name": "stderr",
     "output_type": "stream",
     "text": [
      "W0505 11:53:10.830323 140459842635584 metrics.py:103] DICE score is technically 1.0, but prediction and truth arrays are empty. \n"
     ]
    },
    {
     "name": "stderr",
     "output_type": "stream",
     "text": [
      "W0505 11:53:10.841076 140459842635584 metrics.py:103] DICE score is technically 1.0, but prediction and truth arrays are empty. \n"
     ]
    },
    {
     "name": "stderr",
     "output_type": "stream",
     "text": [
      "W0505 11:53:10.852352 140459842635584 metrics.py:103] DICE score is technically 1.0, but prediction and truth arrays are empty. \n"
     ]
    },
    {
     "name": "stderr",
     "output_type": "stream",
     "text": [
      "W0505 11:53:10.863620 140459842635584 metrics.py:103] DICE score is technically 1.0, but prediction and truth arrays are empty. \n"
     ]
    },
    {
     "name": "stderr",
     "output_type": "stream",
     "text": [
      "W0505 11:53:10.874377 140459842635584 metrics.py:103] DICE score is technically 1.0, but prediction and truth arrays are empty. \n"
     ]
    },
    {
     "name": "stderr",
     "output_type": "stream",
     "text": [
      "W0505 11:53:10.884999 140459842635584 metrics.py:103] DICE score is technically 1.0, but prediction and truth arrays are empty. \n"
     ]
    },
    {
     "name": "stderr",
     "output_type": "stream",
     "text": [
      "W0505 11:53:10.895800 140459842635584 metrics.py:103] DICE score is technically 1.0, but prediction and truth arrays are empty. \n"
     ]
    },
    {
     "name": "stderr",
     "output_type": "stream",
     "text": [
      "W0505 11:53:10.906925 140459842635584 metrics.py:103] DICE score is technically 1.0, but prediction and truth arrays are empty. \n"
     ]
    },
    {
     "name": "stderr",
     "output_type": "stream",
     "text": [
      "W0505 11:53:10.917873 140459842635584 metrics.py:103] DICE score is technically 1.0, but prediction and truth arrays are empty. \n"
     ]
    },
    {
     "name": "stderr",
     "output_type": "stream",
     "text": [
      "W0505 11:53:10.928901 140459842635584 metrics.py:103] DICE score is technically 1.0, but prediction and truth arrays are empty. \n"
     ]
    },
    {
     "name": "stderr",
     "output_type": "stream",
     "text": [
      "W0505 11:53:10.939972 140459842635584 metrics.py:103] DICE score is technically 1.0, but prediction and truth arrays are empty. \n"
     ]
    },
    {
     "name": "stderr",
     "output_type": "stream",
     "text": [
      "W0505 11:53:10.950883 140459842635584 metrics.py:103] DICE score is technically 1.0, but prediction and truth arrays are empty. \n"
     ]
    },
    {
     "name": "stderr",
     "output_type": "stream",
     "text": [
      "W0505 11:53:10.962383 140459842635584 metrics.py:103] DICE score is technically 1.0, but prediction and truth arrays are empty. \n"
     ]
    },
    {
     "name": "stderr",
     "output_type": "stream",
     "text": [
      "W0505 11:53:10.973236 140459842635584 metrics.py:103] DICE score is technically 1.0, but prediction and truth arrays are empty. \n"
     ]
    },
    {
     "name": "stderr",
     "output_type": "stream",
     "text": [
      "W0505 11:53:10.984524 140459842635584 metrics.py:103] DICE score is technically 1.0, but prediction and truth arrays are empty. \n"
     ]
    },
    {
     "name": "stderr",
     "output_type": "stream",
     "text": [
      "W0505 11:53:10.995511 140459842635584 metrics.py:103] DICE score is technically 1.0, but prediction and truth arrays are empty. \n"
     ]
    },
    {
     "name": "stderr",
     "output_type": "stream",
     "text": [
      "W0505 11:53:11.027219 140459842635584 metrics.py:103] DICE score is technically 1.0, but prediction and truth arrays are empty. \n"
     ]
    },
    {
     "name": "stderr",
     "output_type": "stream",
     "text": [
      "W0505 11:53:11.038344 140459842635584 metrics.py:103] DICE score is technically 1.0, but prediction and truth arrays are empty. \n"
     ]
    },
    {
     "name": "stderr",
     "output_type": "stream",
     "text": [
      "W0505 11:53:11.771979 140459842635584 metrics.py:103] DICE score is technically 1.0, but prediction and truth arrays are empty. \n"
     ]
    },
    {
     "name": "stderr",
     "output_type": "stream",
     "text": [
      "W0505 11:53:11.783394 140459842635584 metrics.py:103] DICE score is technically 1.0, but prediction and truth arrays are empty. \n"
     ]
    },
    {
     "name": "stderr",
     "output_type": "stream",
     "text": [
      "W0505 11:53:11.826221 140459842635584 metrics.py:103] DICE score is technically 1.0, but prediction and truth arrays are empty. \n"
     ]
    },
    {
     "name": "stderr",
     "output_type": "stream",
     "text": [
      "W0505 11:53:11.887206 140459842635584 metrics.py:103] DICE score is technically 1.0, but prediction and truth arrays are empty. \n"
     ]
    },
    {
     "name": "stderr",
     "output_type": "stream",
     "text": [
      "W0505 11:53:11.898575 140459842635584 metrics.py:103] DICE score is technically 1.0, but prediction and truth arrays are empty. \n"
     ]
    },
    {
     "name": "stderr",
     "output_type": "stream",
     "text": [
      "W0505 11:53:11.909280 140459842635584 metrics.py:103] DICE score is technically 1.0, but prediction and truth arrays are empty. \n"
     ]
    },
    {
     "name": "stderr",
     "output_type": "stream",
     "text": [
      "W0505 11:53:11.920433 140459842635584 metrics.py:103] DICE score is technically 1.0, but prediction and truth arrays are empty. \n"
     ]
    },
    {
     "name": "stderr",
     "output_type": "stream",
     "text": [
      "W0505 11:53:11.931100 140459842635584 metrics.py:103] DICE score is technically 1.0, but prediction and truth arrays are empty. \n"
     ]
    },
    {
     "name": "stderr",
     "output_type": "stream",
     "text": [
      "W0505 11:53:11.942701 140459842635584 metrics.py:103] DICE score is technically 1.0, but prediction and truth arrays are empty. \n"
     ]
    },
    {
     "name": "stderr",
     "output_type": "stream",
     "text": [
      "W0505 11:53:11.972594 140459842635584 metrics.py:103] DICE score is technically 1.0, but prediction and truth arrays are empty. \n"
     ]
    },
    {
     "name": "stderr",
     "output_type": "stream",
     "text": [
      "W0505 11:53:12.865913 140459842635584 metrics.py:103] DICE score is technically 1.0, but prediction and truth arrays are empty. \n"
     ]
    },
    {
     "name": "stderr",
     "output_type": "stream",
     "text": [
      "W0505 11:53:12.877434 140459842635584 metrics.py:103] DICE score is technically 1.0, but prediction and truth arrays are empty. \n"
     ]
    },
    {
     "name": "stderr",
     "output_type": "stream",
     "text": [
      "W0505 11:53:12.888295 140459842635584 metrics.py:103] DICE score is technically 1.0, but prediction and truth arrays are empty. \n"
     ]
    },
    {
     "name": "stderr",
     "output_type": "stream",
     "text": [
      "W0505 11:53:12.899201 140459842635584 metrics.py:103] DICE score is technically 1.0, but prediction and truth arrays are empty. \n"
     ]
    },
    {
     "name": "stderr",
     "output_type": "stream",
     "text": [
      "W0505 11:53:12.909536 140459842635584 metrics.py:103] DICE score is technically 1.0, but prediction and truth arrays are empty. \n"
     ]
    },
    {
     "name": "stderr",
     "output_type": "stream",
     "text": [
      "W0505 11:53:12.920253 140459842635584 metrics.py:103] DICE score is technically 1.0, but prediction and truth arrays are empty. \n"
     ]
    },
    {
     "name": "stderr",
     "output_type": "stream",
     "text": [
      "W0505 11:53:12.931001 140459842635584 metrics.py:103] DICE score is technically 1.0, but prediction and truth arrays are empty. \n"
     ]
    },
    {
     "name": "stderr",
     "output_type": "stream",
     "text": [
      "W0505 11:53:12.941646 140459842635584 metrics.py:103] DICE score is technically 1.0, but prediction and truth arrays are empty. \n"
     ]
    },
    {
     "name": "stderr",
     "output_type": "stream",
     "text": [
      "W0505 11:53:12.952233 140459842635584 metrics.py:103] DICE score is technically 1.0, but prediction and truth arrays are empty. \n"
     ]
    },
    {
     "name": "stderr",
     "output_type": "stream",
     "text": [
      "W0505 11:53:12.963253 140459842635584 metrics.py:103] DICE score is technically 1.0, but prediction and truth arrays are empty. \n"
     ]
    },
    {
     "name": "stderr",
     "output_type": "stream",
     "text": [
      "W0505 11:53:12.973905 140459842635584 metrics.py:103] DICE score is technically 1.0, but prediction and truth arrays are empty. \n"
     ]
    },
    {
     "name": "stderr",
     "output_type": "stream",
     "text": [
      "W0505 11:53:12.984853 140459842635584 metrics.py:103] DICE score is technically 1.0, but prediction and truth arrays are empty. \n"
     ]
    },
    {
     "name": "stderr",
     "output_type": "stream",
     "text": [
      "W0505 11:53:12.995790 140459842635584 metrics.py:103] DICE score is technically 1.0, but prediction and truth arrays are empty. \n"
     ]
    },
    {
     "name": "stderr",
     "output_type": "stream",
     "text": [
      "W0505 11:53:13.006466 140459842635584 metrics.py:103] DICE score is technically 1.0, but prediction and truth arrays are empty. \n"
     ]
    },
    {
     "name": "stderr",
     "output_type": "stream",
     "text": [
      "W0505 11:53:13.017416 140459842635584 metrics.py:103] DICE score is technically 1.0, but prediction and truth arrays are empty. \n"
     ]
    },
    {
     "name": "stderr",
     "output_type": "stream",
     "text": [
      "W0505 11:53:13.028269 140459842635584 metrics.py:103] DICE score is technically 1.0, but prediction and truth arrays are empty. \n"
     ]
    },
    {
     "name": "stderr",
     "output_type": "stream",
     "text": [
      "W0505 11:53:13.038841 140459842635584 metrics.py:103] DICE score is technically 1.0, but prediction and truth arrays are empty. \n"
     ]
    },
    {
     "name": "stderr",
     "output_type": "stream",
     "text": [
      "W0505 11:53:13.049534 140459842635584 metrics.py:103] DICE score is technically 1.0, but prediction and truth arrays are empty. \n"
     ]
    },
    {
     "name": "stderr",
     "output_type": "stream",
     "text": [
      "W0505 11:53:13.060673 140459842635584 metrics.py:103] DICE score is technically 1.0, but prediction and truth arrays are empty. \n"
     ]
    },
    {
     "name": "stderr",
     "output_type": "stream",
     "text": [
      "W0505 11:53:13.071744 140459842635584 metrics.py:103] DICE score is technically 1.0, but prediction and truth arrays are empty. \n"
     ]
    },
    {
     "name": "stderr",
     "output_type": "stream",
     "text": [
      "W0505 11:53:13.082761 140459842635584 metrics.py:103] DICE score is technically 1.0, but prediction and truth arrays are empty. \n"
     ]
    },
    {
     "name": "stderr",
     "output_type": "stream",
     "text": [
      "W0505 11:53:13.093678 140459842635584 metrics.py:103] DICE score is technically 1.0, but prediction and truth arrays are empty. \n"
     ]
    },
    {
     "name": "stderr",
     "output_type": "stream",
     "text": [
      "W0505 11:53:13.104844 140459842635584 metrics.py:103] DICE score is technically 1.0, but prediction and truth arrays are empty. \n"
     ]
    },
    {
     "name": "stderr",
     "output_type": "stream",
     "text": [
      "W0505 11:53:13.116147 140459842635584 metrics.py:103] DICE score is technically 1.0, but prediction and truth arrays are empty. \n"
     ]
    },
    {
     "name": "stderr",
     "output_type": "stream",
     "text": [
      "W0505 11:53:13.127186 140459842635584 metrics.py:103] DICE score is technically 1.0, but prediction and truth arrays are empty. \n"
     ]
    },
    {
     "name": "stderr",
     "output_type": "stream",
     "text": [
      "W0505 11:53:13.138350 140459842635584 metrics.py:103] DICE score is technically 1.0, but prediction and truth arrays are empty. \n"
     ]
    },
    {
     "name": "stderr",
     "output_type": "stream",
     "text": [
      "W0505 11:53:13.149401 140459842635584 metrics.py:103] DICE score is technically 1.0, but prediction and truth arrays are empty. \n"
     ]
    },
    {
     "name": "stderr",
     "output_type": "stream",
     "text": [
      "W0505 11:53:13.160418 140459842635584 metrics.py:103] DICE score is technically 1.0, but prediction and truth arrays are empty. \n"
     ]
    },
    {
     "name": "stderr",
     "output_type": "stream",
     "text": [
      "W0505 11:53:13.171400 140459842635584 metrics.py:103] DICE score is technically 1.0, but prediction and truth arrays are empty. \n"
     ]
    },
    {
     "name": "stderr",
     "output_type": "stream",
     "text": [
      "W0505 11:53:13.182554 140459842635584 metrics.py:103] DICE score is technically 1.0, but prediction and truth arrays are empty. \n"
     ]
    },
    {
     "name": "stderr",
     "output_type": "stream",
     "text": [
      "W0505 11:53:13.607757 140459842635584 metrics.py:103] DICE score is technically 1.0, but prediction and truth arrays are empty. \n"
     ]
    },
    {
     "name": "stderr",
     "output_type": "stream",
     "text": [
      "W0505 11:53:13.619088 140459842635584 metrics.py:103] DICE score is technically 1.0, but prediction and truth arrays are empty. \n"
     ]
    },
    {
     "name": "stderr",
     "output_type": "stream",
     "text": [
      "W0505 11:53:13.629919 140459842635584 metrics.py:103] DICE score is technically 1.0, but prediction and truth arrays are empty. \n"
     ]
    },
    {
     "name": "stderr",
     "output_type": "stream",
     "text": [
      "W0505 11:53:13.641195 140459842635584 metrics.py:103] DICE score is technically 1.0, but prediction and truth arrays are empty. \n"
     ]
    },
    {
     "name": "stderr",
     "output_type": "stream",
     "text": [
      "W0505 11:53:13.652268 140459842635584 metrics.py:103] DICE score is technically 1.0, but prediction and truth arrays are empty. \n"
     ]
    },
    {
     "name": "stderr",
     "output_type": "stream",
     "text": [
      "W0505 11:53:13.663338 140459842635584 metrics.py:103] DICE score is technically 1.0, but prediction and truth arrays are empty. \n"
     ]
    },
    {
     "name": "stderr",
     "output_type": "stream",
     "text": [
      "W0505 11:53:13.674073 140459842635584 metrics.py:103] DICE score is technically 1.0, but prediction and truth arrays are empty. \n"
     ]
    },
    {
     "name": "stderr",
     "output_type": "stream",
     "text": [
      "W0505 11:53:13.685074 140459842635584 metrics.py:103] DICE score is technically 1.0, but prediction and truth arrays are empty. \n"
     ]
    },
    {
     "name": "stderr",
     "output_type": "stream",
     "text": [
      "W0505 11:53:13.695977 140459842635584 metrics.py:103] DICE score is technically 1.0, but prediction and truth arrays are empty. \n"
     ]
    },
    {
     "name": "stderr",
     "output_type": "stream",
     "text": [
      "W0505 11:53:13.706916 140459842635584 metrics.py:103] DICE score is technically 1.0, but prediction and truth arrays are empty. \n"
     ]
    },
    {
     "name": "stderr",
     "output_type": "stream",
     "text": [
      "W0505 11:53:13.717696 140459842635584 metrics.py:103] DICE score is technically 1.0, but prediction and truth arrays are empty. \n"
     ]
    },
    {
     "name": "stderr",
     "output_type": "stream",
     "text": [
      "W0505 11:53:13.728388 140459842635584 metrics.py:103] DICE score is technically 1.0, but prediction and truth arrays are empty. \n"
     ]
    },
    {
     "name": "stderr",
     "output_type": "stream",
     "text": [
      "W0505 11:53:13.739088 140459842635584 metrics.py:103] DICE score is technically 1.0, but prediction and truth arrays are empty. \n"
     ]
    },
    {
     "name": "stderr",
     "output_type": "stream",
     "text": [
      "W0505 11:53:13.749987 140459842635584 metrics.py:103] DICE score is technically 1.0, but prediction and truth arrays are empty. \n"
     ]
    },
    {
     "name": "stderr",
     "output_type": "stream",
     "text": [
      "W0505 11:53:13.761549 140459842635584 metrics.py:103] DICE score is technically 1.0, but prediction and truth arrays are empty. \n"
     ]
    },
    {
     "name": "stderr",
     "output_type": "stream",
     "text": [
      "W0505 11:53:13.771897 140459842635584 metrics.py:103] DICE score is technically 1.0, but prediction and truth arrays are empty. \n"
     ]
    },
    {
     "name": "stderr",
     "output_type": "stream",
     "text": [
      "W0505 11:53:13.782680 140459842635584 metrics.py:103] DICE score is technically 1.0, but prediction and truth arrays are empty. \n"
     ]
    },
    {
     "name": "stderr",
     "output_type": "stream",
     "text": [
      "W0505 11:53:13.793251 140459842635584 metrics.py:103] DICE score is technically 1.0, but prediction and truth arrays are empty. \n"
     ]
    },
    {
     "name": "stderr",
     "output_type": "stream",
     "text": [
      "W0505 11:53:13.804258 140459842635584 metrics.py:103] DICE score is technically 1.0, but prediction and truth arrays are empty. \n"
     ]
    },
    {
     "name": "stderr",
     "output_type": "stream",
     "text": [
      "W0505 11:53:13.815852 140459842635584 metrics.py:103] DICE score is technically 1.0, but prediction and truth arrays are empty. \n"
     ]
    },
    {
     "name": "stderr",
     "output_type": "stream",
     "text": [
      "W0505 11:53:13.827296 140459842635584 metrics.py:103] DICE score is technically 1.0, but prediction and truth arrays are empty. \n"
     ]
    },
    {
     "name": "stderr",
     "output_type": "stream",
     "text": [
      "W0505 11:53:13.838173 140459842635584 metrics.py:103] DICE score is technically 1.0, but prediction and truth arrays are empty. \n"
     ]
    },
    {
     "name": "stderr",
     "output_type": "stream",
     "text": [
      "W0505 11:53:13.849072 140459842635584 metrics.py:103] DICE score is technically 1.0, but prediction and truth arrays are empty. \n"
     ]
    },
    {
     "name": "stderr",
     "output_type": "stream",
     "text": [
      "W0505 11:53:13.860381 140459842635584 metrics.py:103] DICE score is technically 1.0, but prediction and truth arrays are empty. \n"
     ]
    },
    {
     "name": "stderr",
     "output_type": "stream",
     "text": [
      "W0505 11:53:13.871096 140459842635584 metrics.py:103] DICE score is technically 1.0, but prediction and truth arrays are empty. \n"
     ]
    },
    {
     "name": "stderr",
     "output_type": "stream",
     "text": [
      "W0505 11:53:13.882325 140459842635584 metrics.py:103] DICE score is technically 1.0, but prediction and truth arrays are empty. \n"
     ]
    },
    {
     "name": "stderr",
     "output_type": "stream",
     "text": [
      "W0505 11:53:13.892931 140459842635584 metrics.py:103] DICE score is technically 1.0, but prediction and truth arrays are empty. \n"
     ]
    },
    {
     "name": "stderr",
     "output_type": "stream",
     "text": [
      "W0505 11:53:13.904689 140459842635584 metrics.py:103] DICE score is technically 1.0, but prediction and truth arrays are empty. \n"
     ]
    },
    {
     "name": "stderr",
     "output_type": "stream",
     "text": [
      "W0505 11:53:13.916190 140459842635584 metrics.py:103] DICE score is technically 1.0, but prediction and truth arrays are empty. \n"
     ]
    },
    {
     "name": "stderr",
     "output_type": "stream",
     "text": [
      "W0505 11:53:13.928091 140459842635584 metrics.py:103] DICE score is technically 1.0, but prediction and truth arrays are empty. \n"
     ]
    },
    {
     "name": "stderr",
     "output_type": "stream",
     "text": [
      "W0505 11:53:14.302964 140459842635584 metrics.py:103] DICE score is technically 1.0, but prediction and truth arrays are empty. \n"
     ]
    },
    {
     "name": "stderr",
     "output_type": "stream",
     "text": [
      "W0505 11:53:14.313716 140459842635584 metrics.py:103] DICE score is technically 1.0, but prediction and truth arrays are empty. \n"
     ]
    },
    {
     "name": "stderr",
     "output_type": "stream",
     "text": [
      "W0505 11:53:14.324794 140459842635584 metrics.py:103] DICE score is technically 1.0, but prediction and truth arrays are empty. \n"
     ]
    },
    {
     "name": "stderr",
     "output_type": "stream",
     "text": [
      "W0505 11:53:14.335163 140459842635584 metrics.py:103] DICE score is technically 1.0, but prediction and truth arrays are empty. \n"
     ]
    },
    {
     "name": "stderr",
     "output_type": "stream",
     "text": [
      "W0505 11:53:14.345791 140459842635584 metrics.py:103] DICE score is technically 1.0, but prediction and truth arrays are empty. \n"
     ]
    },
    {
     "name": "stderr",
     "output_type": "stream",
     "text": [
      "W0505 11:53:14.356122 140459842635584 metrics.py:103] DICE score is technically 1.0, but prediction and truth arrays are empty. \n"
     ]
    },
    {
     "name": "stderr",
     "output_type": "stream",
     "text": [
      "W0505 11:53:14.366833 140459842635584 metrics.py:103] DICE score is technically 1.0, but prediction and truth arrays are empty. \n"
     ]
    },
    {
     "name": "stderr",
     "output_type": "stream",
     "text": [
      "W0505 11:53:14.377525 140459842635584 metrics.py:103] DICE score is technically 1.0, but prediction and truth arrays are empty. \n"
     ]
    },
    {
     "name": "stderr",
     "output_type": "stream",
     "text": [
      "W0505 11:53:14.388053 140459842635584 metrics.py:103] DICE score is technically 1.0, but prediction and truth arrays are empty. \n"
     ]
    },
    {
     "name": "stderr",
     "output_type": "stream",
     "text": [
      "W0505 11:53:14.398426 140459842635584 metrics.py:103] DICE score is technically 1.0, but prediction and truth arrays are empty. \n"
     ]
    },
    {
     "name": "stderr",
     "output_type": "stream",
     "text": [
      "W0505 11:53:14.408880 140459842635584 metrics.py:103] DICE score is technically 1.0, but prediction and truth arrays are empty. \n"
     ]
    },
    {
     "name": "stderr",
     "output_type": "stream",
     "text": [
      "W0505 11:53:14.419355 140459842635584 metrics.py:103] DICE score is technically 1.0, but prediction and truth arrays are empty. \n"
     ]
    },
    {
     "name": "stderr",
     "output_type": "stream",
     "text": [
      "W0505 11:53:14.430119 140459842635584 metrics.py:103] DICE score is technically 1.0, but prediction and truth arrays are empty. \n"
     ]
    },
    {
     "name": "stderr",
     "output_type": "stream",
     "text": [
      "W0505 11:53:14.440896 140459842635584 metrics.py:103] DICE score is technically 1.0, but prediction and truth arrays are empty. \n"
     ]
    },
    {
     "name": "stderr",
     "output_type": "stream",
     "text": [
      "W0505 11:53:14.451443 140459842635584 metrics.py:103] DICE score is technically 1.0, but prediction and truth arrays are empty. \n"
     ]
    },
    {
     "name": "stderr",
     "output_type": "stream",
     "text": [
      "W0505 11:53:15.668507 140459842635584 metrics.py:103] DICE score is technically 1.0, but prediction and truth arrays are empty. \n"
     ]
    },
    {
     "name": "stderr",
     "output_type": "stream",
     "text": [
      "W0505 11:53:15.680156 140459842635584 metrics.py:103] DICE score is technically 1.0, but prediction and truth arrays are empty. \n"
     ]
    },
    {
     "name": "stderr",
     "output_type": "stream",
     "text": [
      "W0505 11:53:15.690751 140459842635584 metrics.py:103] DICE score is technically 1.0, but prediction and truth arrays are empty. \n"
     ]
    },
    {
     "name": "stderr",
     "output_type": "stream",
     "text": [
      "W0505 11:53:15.701818 140459842635584 metrics.py:103] DICE score is technically 1.0, but prediction and truth arrays are empty. \n"
     ]
    },
    {
     "name": "stderr",
     "output_type": "stream",
     "text": [
      "W0505 11:53:15.712332 140459842635584 metrics.py:103] DICE score is technically 1.0, but prediction and truth arrays are empty. \n"
     ]
    },
    {
     "name": "stderr",
     "output_type": "stream",
     "text": [
      "W0505 11:53:15.723134 140459842635584 metrics.py:103] DICE score is technically 1.0, but prediction and truth arrays are empty. \n"
     ]
    },
    {
     "name": "stderr",
     "output_type": "stream",
     "text": [
      "W0505 11:53:15.733861 140459842635584 metrics.py:103] DICE score is technically 1.0, but prediction and truth arrays are empty. \n"
     ]
    },
    {
     "name": "stderr",
     "output_type": "stream",
     "text": [
      "W0505 11:53:15.744645 140459842635584 metrics.py:103] DICE score is technically 1.0, but prediction and truth arrays are empty. \n"
     ]
    },
    {
     "name": "stderr",
     "output_type": "stream",
     "text": [
      "W0505 11:53:15.755027 140459842635584 metrics.py:103] DICE score is technically 1.0, but prediction and truth arrays are empty. \n"
     ]
    },
    {
     "name": "stderr",
     "output_type": "stream",
     "text": [
      "W0505 11:53:15.765527 140459842635584 metrics.py:103] DICE score is technically 1.0, but prediction and truth arrays are empty. \n"
     ]
    },
    {
     "name": "stderr",
     "output_type": "stream",
     "text": [
      "W0505 11:53:15.775777 140459842635584 metrics.py:103] DICE score is technically 1.0, but prediction and truth arrays are empty. \n"
     ]
    },
    {
     "name": "stderr",
     "output_type": "stream",
     "text": [
      "W0505 11:53:15.786486 140459842635584 metrics.py:103] DICE score is technically 1.0, but prediction and truth arrays are empty. \n"
     ]
    },
    {
     "name": "stderr",
     "output_type": "stream",
     "text": [
      "W0505 11:53:15.797010 140459842635584 metrics.py:103] DICE score is technically 1.0, but prediction and truth arrays are empty. \n"
     ]
    },
    {
     "name": "stderr",
     "output_type": "stream",
     "text": [
      "W0505 11:53:15.807554 140459842635584 metrics.py:103] DICE score is technically 1.0, but prediction and truth arrays are empty. \n"
     ]
    },
    {
     "name": "stderr",
     "output_type": "stream",
     "text": [
      "W0505 11:53:15.818425 140459842635584 metrics.py:103] DICE score is technically 1.0, but prediction and truth arrays are empty. \n"
     ]
    },
    {
     "name": "stderr",
     "output_type": "stream",
     "text": [
      "W0505 11:53:15.829222 140459842635584 metrics.py:103] DICE score is technically 1.0, but prediction and truth arrays are empty. \n"
     ]
    },
    {
     "name": "stderr",
     "output_type": "stream",
     "text": [
      "W0505 11:53:15.840031 140459842635584 metrics.py:103] DICE score is technically 1.0, but prediction and truth arrays are empty. \n"
     ]
    },
    {
     "name": "stderr",
     "output_type": "stream",
     "text": [
      "W0505 11:53:15.850218 140459842635584 metrics.py:103] DICE score is technically 1.0, but prediction and truth arrays are empty. \n"
     ]
    },
    {
     "name": "stderr",
     "output_type": "stream",
     "text": [
      "W0505 11:53:15.861228 140459842635584 metrics.py:103] DICE score is technically 1.0, but prediction and truth arrays are empty. \n"
     ]
    },
    {
     "name": "stderr",
     "output_type": "stream",
     "text": [
      "W0505 11:53:15.871345 140459842635584 metrics.py:103] DICE score is technically 1.0, but prediction and truth arrays are empty. \n"
     ]
    },
    {
     "name": "stderr",
     "output_type": "stream",
     "text": [
      "W0505 11:53:15.882147 140459842635584 metrics.py:103] DICE score is technically 1.0, but prediction and truth arrays are empty. \n"
     ]
    },
    {
     "name": "stderr",
     "output_type": "stream",
     "text": [
      "W0505 11:53:15.893086 140459842635584 metrics.py:103] DICE score is technically 1.0, but prediction and truth arrays are empty. \n"
     ]
    },
    {
     "name": "stderr",
     "output_type": "stream",
     "text": [
      "W0505 11:53:15.903927 140459842635584 metrics.py:103] DICE score is technically 1.0, but prediction and truth arrays are empty. \n"
     ]
    },
    {
     "name": "stderr",
     "output_type": "stream",
     "text": [
      "W0505 11:53:15.914256 140459842635584 metrics.py:103] DICE score is technically 1.0, but prediction and truth arrays are empty. \n"
     ]
    },
    {
     "name": "stderr",
     "output_type": "stream",
     "text": [
      "W0505 11:53:15.925130 140459842635584 metrics.py:103] DICE score is technically 1.0, but prediction and truth arrays are empty. \n"
     ]
    },
    {
     "name": "stderr",
     "output_type": "stream",
     "text": [
      "W0505 11:53:15.935672 140459842635584 metrics.py:103] DICE score is technically 1.0, but prediction and truth arrays are empty. \n"
     ]
    },
    {
     "name": "stderr",
     "output_type": "stream",
     "text": [
      "W0505 11:53:15.946249 140459842635584 metrics.py:103] DICE score is technically 1.0, but prediction and truth arrays are empty. \n"
     ]
    },
    {
     "name": "stderr",
     "output_type": "stream",
     "text": [
      "W0505 11:53:15.956884 140459842635584 metrics.py:103] DICE score is technically 1.0, but prediction and truth arrays are empty. \n"
     ]
    },
    {
     "name": "stderr",
     "output_type": "stream",
     "text": [
      "W0505 11:53:15.967654 140459842635584 metrics.py:103] DICE score is technically 1.0, but prediction and truth arrays are empty. \n"
     ]
    },
    {
     "name": "stderr",
     "output_type": "stream",
     "text": [
      "W0505 11:53:15.978992 140459842635584 metrics.py:103] DICE score is technically 1.0, but prediction and truth arrays are empty. \n"
     ]
    },
    {
     "name": "stderr",
     "output_type": "stream",
     "text": [
      "W0505 11:53:17.728085 140459842635584 metrics.py:103] DICE score is technically 1.0, but prediction and truth arrays are empty. \n"
     ]
    },
    {
     "name": "stderr",
     "output_type": "stream",
     "text": [
      "W0505 11:53:17.779536 140459842635584 metrics.py:103] DICE score is technically 1.0, but prediction and truth arrays are empty. \n"
     ]
    },
    {
     "name": "stderr",
     "output_type": "stream",
     "text": [
      "W0505 11:53:17.820517 140459842635584 metrics.py:103] DICE score is technically 1.0, but prediction and truth arrays are empty. \n"
     ]
    },
    {
     "name": "stderr",
     "output_type": "stream",
     "text": [
      "W0505 11:53:17.862555 140459842635584 metrics.py:103] DICE score is technically 1.0, but prediction and truth arrays are empty. \n"
     ]
    },
    {
     "name": "stderr",
     "output_type": "stream",
     "text": [
      "W0505 11:53:17.873781 140459842635584 metrics.py:103] DICE score is technically 1.0, but prediction and truth arrays are empty. \n"
     ]
    },
    {
     "name": "stderr",
     "output_type": "stream",
     "text": [
      "W0505 11:53:17.884177 140459842635584 metrics.py:103] DICE score is technically 1.0, but prediction and truth arrays are empty. \n"
     ]
    },
    {
     "name": "stderr",
     "output_type": "stream",
     "text": [
      "W0505 11:53:17.894717 140459842635584 metrics.py:103] DICE score is technically 1.0, but prediction and truth arrays are empty. \n"
     ]
    },
    {
     "name": "stderr",
     "output_type": "stream",
     "text": [
      "W0505 11:53:17.905225 140459842635584 metrics.py:103] DICE score is technically 1.0, but prediction and truth arrays are empty. \n"
     ]
    },
    {
     "name": "stderr",
     "output_type": "stream",
     "text": [
      "W0505 11:53:17.915586 140459842635584 metrics.py:103] DICE score is technically 1.0, but prediction and truth arrays are empty. \n"
     ]
    },
    {
     "name": "stderr",
     "output_type": "stream",
     "text": [
      "W0505 11:53:17.975997 140459842635584 metrics.py:103] DICE score is technically 1.0, but prediction and truth arrays are empty. \n"
     ]
    },
    {
     "name": "stderr",
     "output_type": "stream",
     "text": [
      "W0505 11:53:21.933399 140459842635584 metrics.py:103] DICE score is technically 1.0, but prediction and truth arrays are empty. \n"
     ]
    },
    {
     "name": "stderr",
     "output_type": "stream",
     "text": [
      "W0505 11:53:21.944707 140459842635584 metrics.py:103] DICE score is technically 1.0, but prediction and truth arrays are empty. \n"
     ]
    },
    {
     "name": "stderr",
     "output_type": "stream",
     "text": [
      "W0505 11:53:24.048249 140459842635584 metrics.py:103] DICE score is technically 1.0, but prediction and truth arrays are empty. \n"
     ]
    },
    {
     "name": "stderr",
     "output_type": "stream",
     "text": [
      "W0505 11:53:24.059825 140459842635584 metrics.py:103] DICE score is technically 1.0, but prediction and truth arrays are empty. \n"
     ]
    },
    {
     "name": "stderr",
     "output_type": "stream",
     "text": [
      "W0505 11:53:24.070504 140459842635584 metrics.py:103] DICE score is technically 1.0, but prediction and truth arrays are empty. \n"
     ]
    },
    {
     "name": "stderr",
     "output_type": "stream",
     "text": [
      "W0505 11:53:24.107278 140459842635584 metrics.py:103] DICE score is technically 1.0, but prediction and truth arrays are empty. \n"
     ]
    },
    {
     "name": "stderr",
     "output_type": "stream",
     "text": [
      "W0505 11:53:24.128258 140459842635584 metrics.py:103] DICE score is technically 1.0, but prediction and truth arrays are empty. \n"
     ]
    },
    {
     "name": "stderr",
     "output_type": "stream",
     "text": [
      "W0505 11:53:24.139321 140459842635584 metrics.py:103] DICE score is technically 1.0, but prediction and truth arrays are empty. \n"
     ]
    },
    {
     "name": "stderr",
     "output_type": "stream",
     "text": [
      "W0505 11:53:24.170333 140459842635584 metrics.py:103] DICE score is technically 1.0, but prediction and truth arrays are empty. \n"
     ]
    },
    {
     "name": "stdout",
     "output_type": "stream",
     "text": [
      "\n",
      "____________Object-based statistics____________\n",
      "\n",
      "Number of true cells:\t\t 39608\n",
      "Number of predicted cells:\t 38440\n",
      "\n",
      "Correct detections:  36970\tRecall: 93.339729347606549936244846321642398834228515625%\n",
      "Incorrect detections: 1470\tPrecision: 96.175858480749212731097941286861896514892578125%\n",
      "\n",
      "Gained detections: 1142\tPerc Error: 31.704608550805108535541876335628330707550048828125%\n",
      "Missed detections: 2211\tPerc Error: 61.38256524153248250286196707747876644134521484375%\n",
      "Merges: 171\t\tPerc Error: 4.74736257634647440539765739231370389461517333984375%\n",
      "Splits: 75\t\tPerc Error: 2.082176568573014918683838914148509502410888671875%\n",
      "Catastrophes: 3\t\tPerc Error: 0.08328706274292059508201901962820556946098804473876953125%\n",
      "\n",
      "Gained detections from splits: 76\n",
      "Missed detections from merges: 175\n",
      "True detections involved in catastrophes: 6\n",
      "Predicted detections involved in catastrophes: 6 \n",
      "\n",
      "Average Pixel IOU (Jaccard Index): 0.8017242076313813026189336596871726214885711669921875 \n",
      "\n"
     ]
    }
   ],
   "source": [
    "from deepcell_toolbox import retinamask_postprocess\n",
    "from deepcell_toolbox.deep_watershed import deep_watershed as watershed_postprocess \n",
    "from functools import partial\n",
    "from scipy import ndimage\n",
    "\n",
    "if model_type == 'watershed':\n",
    "    postprocessing_fn = watershed_postprocess\n",
    "elif model_type == 'pixelwise':\n",
    "    def pixelwise(prediction, threshold=.5):\n",
    "        \"\"\"Post-processing for pixelwise transform predictions.\n",
    "        Uses the interior predictions to uniquely label every instance.\n",
    "        Args:\n",
    "            prediction: pixelwise transform prediction\n",
    "            threshold: confidence threshold for interior predictions\n",
    "        Returns:\n",
    "            post-processed data with each cell uniquely annotated\n",
    "        \"\"\"\n",
    "        labeled = []\n",
    "        for b in range(prediction.shape[0]):\n",
    "            pred = prediction[b]\n",
    "            interior = pred[..., 1] > threshold\n",
    "            data = np.expand_dims(interior, axis=-1)\n",
    "            label_image = ndimage.label(data)[0]\n",
    "            labeled.append(label_image)\n",
    "        labeled = np.stack(labeled, axis=0)\n",
    "        return labeled\n",
    "    postprocessing_fn = pixelwise\n",
    "elif model_type == 'retinamask':\n",
    "    postprocessing_fn = partial(retinamask_postprocess, image_shape=(128,128))\n",
    "    \n",
    "model_trainer = ModelTrainer(model,\n",
    "                            model_name,\n",
    "                            model_path,\n",
    "                            train_data,\n",
    "                            val_data,\n",
    "                            benchmarking_data = test_dict,\n",
    "                            postprocessing_fn=postprocessing_fn,\n",
    "                            predict_batch_size=32,\n",
    "                            dataset_metadata=dataset_metadata,\n",
    "                            training_kwargs=training_kwargs)\n",
    "\n",
    "model_trainer.create_model()"
   ]
  },
  {
   "cell_type": "code",
   "execution_count": null,
   "metadata": {
    "papermill": {
     "duration": 0.511844,
     "end_time": "2020-05-05T11:53:29.890527",
     "exception": false,
     "start_time": "2020-05-05T11:53:29.378683",
     "status": "completed"
    },
    "tags": []
   },
   "outputs": [],
   "source": []
  }
 ],
 "metadata": {
  "kernelspec": {
   "display_name": "Python 3",
   "language": "python",
   "name": "python3"
  },
  "language_info": {
   "codemirror_mode": {
    "name": "ipython",
    "version": 3
   },
   "file_extension": ".py",
   "mimetype": "text/x-python",
   "name": "python",
   "nbconvert_exporter": "python",
   "pygments_lexer": "ipython3",
   "version": "3.6.8"
  },
  "papermill": {
   "duration": 10316.439495,
   "end_time": "2020-05-05T11:53:33.817528",
   "environment_variables": {},
   "exception": null,
   "input_path": "/notebooks/papermill/Papermill - Nuclear Accuracy - Proper Split.ipynb",
   "output_path": "/notebooks/05042020/nuclear_1_0.1_resnet50_watershed_training_notebook.ipynb",
   "parameters": {
    "backbone": "resnet50",
    "batch_size": 16,
    "dataset_fraction": 0.1,
    "date": "05042020",
    "filename": "nuclear_1_0.1_resnet50_watershed",
    "model_type": "watershed",
    "n_epochs": 16,
    "train_permutation_seed": 1
   },
   "start_time": "2020-05-05T09:01:37.378033",
   "version": "1.2.1"
  }
 },
 "nbformat": 4,
 "nbformat_minor": 2
}