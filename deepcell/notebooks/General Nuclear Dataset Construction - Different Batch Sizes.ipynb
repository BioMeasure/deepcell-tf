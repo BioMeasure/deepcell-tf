{
 "cells": [
  {
   "cell_type": "markdown",
   "metadata": {},
   "source": [
    "# General Nuclear Dataset Construction - Multiple sizes\n",
    "This notebook generates nuclear datasets of different sizes so we can test the effect of dataset size on accuracy."
   ]
  },
  {
   "cell_type": "code",
   "execution_count": 1,
   "metadata": {},
   "outputs": [],
   "source": [
    "import os\n",
    "import errno\n",
    "\n",
    "import numpy as np\n",
    "\n",
    "import deepcell"
   ]
  },
  {
   "cell_type": "code",
   "execution_count": null,
   "metadata": {},
   "outputs": [],
   "source": [
    "training_direc = '/data/training_data/'\n",
    "training_file = 'general_nuclear_train_large.npz'\n",
    "training_data = np.load(os.path.join(training_direc,training_file))\n",
    "X_train = training_data['X']\n",
    "y_train = training_data['y']\n",
    "\n",
    "# batch_sizes = [128, 256, 512, 1024, 2048, 4096, 8192, 16384, 32768, 65536, 82800]\n",
    "# for batch_size in batch_sizes:\n",
    "#     X_t = X_train[0:batch_size]\n",
    "#     y_t = y_train[0:batch_size]\n",
    "#     file_name = os.path.join(training_direc, 'general_nuclear_train_batch_size_' + str(batch_size))\n",
    "#     np.savez(file_name, X=X_t, y=y_t)"
   ]
  },
  {
   "cell_type": "code",
   "execution_count": null,
   "metadata": {},
   "outputs": [],
   "source": [
    "y_train.shape"
   ]
  },
  {
   "cell_type": "code",
   "execution_count": null,
   "metadata": {},
   "outputs": [],
   "source": []
  }
 ],
 "metadata": {
  "kernelspec": {
   "display_name": "Python 3",
   "language": "python",
   "name": "python3"
  },
  "language_info": {
   "codemirror_mode": {
    "name": "ipython",
    "version": 3
   },
   "file_extension": ".py",
   "mimetype": "text/x-python",
   "name": "python",
   "nbconvert_exporter": "python",
   "pygments_lexer": "ipython3",
   "version": "3.6.8"
  }
 },
 "nbformat": 4,
 "nbformat_minor": 2
}
