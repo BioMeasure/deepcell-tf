{
 "cells": [
  {
   "cell_type": "code",
   "execution_count": 2,
   "metadata": {},
   "outputs": [],
   "source": [
    "from __future__ import absolute_import\n",
    "from __future__ import print_function\n",
    "from __future__ import division\n",
    "\n",
    "import datetime\n",
    "import os\n",
    "import sys\n",
    "import getopt\n",
    "import errno\n",
    "\n",
    "sys.path.insert(0,\"/home/sunnycui/deepcell-tf\")\n",
    "\n",
    "MODEL_DIR = os.path.join(sys.path[0], 'scripts/recurr_gru/models/')\n",
    "LOG_DIR = os.path.join(sys.path[0], 'scripts/recurr_gru/logs/')\n",
    "DATA_DIR = os.path.join(sys.path[0], 'scripts/recurr_gru/data/')"
   ]
  },
  {
   "cell_type": "code",
   "execution_count": 4,
   "metadata": {},
   "outputs": [
    {
     "name": "stderr",
     "output_type": "stream",
     "text": [
      "Using TensorFlow backend.\n"
     ]
    }
   ],
   "source": [
    "import math\n",
    "import numpy as np\n",
    "from tensorflow.python.keras import backend as K\n",
    "from tensorflow.python.keras import callbacks\n",
    "from tensorflow.python.keras.optimizers import SGD\n",
    "\n",
    "from tensorflow.python.keras.utils.data_utils import get_file\n",
    "\n",
    "import deepcell\n",
    "from deepcell import losses\n",
    "from scripts.recurr_gru import image_gen\n",
    "from deepcell import image_generators\n",
    "from deepcell import model_zoo\n",
    "\n",
    "from deepcell.utils import train_utils\n",
    "from deepcell.utils.data_utils import get_data\n",
    "from deepcell.utils.train_utils import rate_scheduler\n",
    "from deepcell.training import train_model_conv\n",
    "\n",
    "from sklearn.model_selection import train_test_split\n",
    "\n",
    "from tensorflow.python.client import device_lib"
   ]
  },
  {
   "cell_type": "markdown",
   "metadata": {},
   "source": [
    "# Load Data"
   ]
  },
  {
   "cell_type": "code",
   "execution_count": 34,
   "metadata": {},
   "outputs": [
    {
     "name": "stdout",
     "output_type": "stream",
     "text": [
      "Loading data from combined_is_nuclei.npz\n",
      " -\n",
      "X.shape: (199, 160, 160, 1)\n",
      "y.shape: (199, 160, 160, 1)\n"
     ]
    }
   ],
   "source": [
    "filename = 'combined_is_nuclei.npz'\n",
    "DATA_FILE = os.path.join(DATA_DIR, filename)\n",
    "\n",
    "\n",
    "print(\"Loading data from \" + filename)\n",
    "train_dict, test_dict = get_data(DATA_FILE, mode='conv', test_size=0.1, seed=0)\n",
    "\n",
    "print(' -\\nX.shape: {}\\ny.shape: {}'.format(train_dict['X'].shape, train_dict['y'].shape))"
   ]
  },
  {
   "cell_type": "markdown",
   "metadata": {},
   "source": [
    "### Training params"
   ]
  },
  {
   "cell_type": "code",
   "execution_count": 35,
   "metadata": {},
   "outputs": [],
   "source": [
    "fgbg_model_name = 'nuclei_model'\n",
    "\n",
    "n_epoch = 15  # Number of training epochs\n",
    "test_size = .10  # % of data saved as test\n",
    "norm_method = 'std'  # data normalization\n",
    "receptive_field = 61  # should be adjusted for the scale of the data\n",
    "\n",
    "optimizer = SGD(lr=0.01, decay=1e-6, momentum=0.9, nesterov=True)\n",
    "\n",
    "lr_sched = rate_scheduler(lr=0.01, decay=0.99)\n",
    "\n",
    "# FC training settings\n",
    "n_skips = 0  # number of skip-connections (only for FC training)\n",
    "batch_size = 1  # FC training uses 1 image per batch\n",
    "\n",
    "# Transformation settings\n",
    "transform = 'deepcell'\n",
    "dilation_radius = 1  # change dilation radius for edge dilation"
   ]
  },
  {
   "cell_type": "markdown",
   "metadata": {},
   "source": [
    "# Train"
   ]
  },
  {
   "cell_type": "code",
   "execution_count": 36,
   "metadata": {},
   "outputs": [],
   "source": [
    "fgbg_model = model_zoo.bn_feature_net_skip_2D(\n",
    "    n_features=2,  # segmentation mask (is_cell, is_not_cell)\n",
    "    receptive_field=receptive_field,\n",
    "    n_skips=n_skips,\n",
    "    n_conv_filters=32,\n",
    "    n_dense_filters=128,\n",
    "    input_shape=tuple(train_dict['X'].shape[1:]),\n",
    "    last_only=False)"
   ]
  },
  {
   "cell_type": "code",
   "execution_count": 37,
   "metadata": {},
   "outputs": [
    {
     "name": "stdout",
     "output_type": "stream",
     "text": [
      "X_train shape: (199, 160, 160, 1)\n",
      "y_train shape: (199, 160, 160, 1)\n",
      "X_test shape: (23, 160, 160, 1)\n",
      "y_test shape: (23, 160, 160, 1)\n",
      "Output Shape: (None, 160, 160, 2)\n",
      "Number of Classes: 2\n",
      "Training on 2 GPUs\n",
      "Epoch 1/15\n",
      "97/99 [============================>.] - ETA: 0s - loss: 0.5835 - acc: 0.8914\n",
      "Epoch 00001: val_loss improved from inf to 0.31467, saving model to /home/sunnycui/deepcell-tf/scripts/recurr_gru/models/nuclei_model.h5\n",
      "99/99 [==============================] - 9s 95ms/step - loss: 0.5767 - acc: 0.8920 - val_loss: 0.3147 - val_acc: 0.9354\n",
      "Epoch 2/15\n",
      "97/99 [============================>.] - ETA: 0s - loss: 0.4217 - acc: 0.9273\n",
      "Epoch 00002: val_loss improved from 0.31467 to 0.30310, saving model to /home/sunnycui/deepcell-tf/scripts/recurr_gru/models/nuclei_model.h5\n",
      "99/99 [==============================] - 4s 39ms/step - loss: 0.4219 - acc: 0.9273 - val_loss: 0.3031 - val_acc: 0.9264\n",
      "Epoch 3/15\n",
      "97/99 [============================>.] - ETA: 0s - loss: 0.3854 - acc: 0.9298\n",
      "Epoch 00003: val_loss improved from 0.30310 to 0.29267, saving model to /home/sunnycui/deepcell-tf/scripts/recurr_gru/models/nuclei_model.h5\n",
      "99/99 [==============================] - 4s 39ms/step - loss: 0.3846 - acc: 0.9300 - val_loss: 0.2927 - val_acc: 0.9461\n",
      "Epoch 4/15\n",
      "97/99 [============================>.] - ETA: 0s - loss: 0.3957 - acc: 0.9321\n",
      "Epoch 00004: val_loss did not improve from 0.29267\n",
      "99/99 [==============================] - 4s 38ms/step - loss: 0.3952 - acc: 0.9320 - val_loss: 0.3017 - val_acc: 0.9416\n",
      "Epoch 5/15\n",
      "97/99 [============================>.] - ETA: 0s - loss: 0.3570 - acc: 0.9339\n",
      "Epoch 00005: val_loss did not improve from 0.29267\n",
      "99/99 [==============================] - 4s 39ms/step - loss: 0.3572 - acc: 0.9333 - val_loss: 0.3021 - val_acc: 0.9524\n",
      "Epoch 6/15\n",
      "97/99 [============================>.] - ETA: 0s - loss: 0.3624 - acc: 0.9373\n",
      "Epoch 00006: val_loss improved from 0.29267 to 0.28576, saving model to /home/sunnycui/deepcell-tf/scripts/recurr_gru/models/nuclei_model.h5\n",
      "99/99 [==============================] - 4s 40ms/step - loss: 0.3633 - acc: 0.9370 - val_loss: 0.2858 - val_acc: 0.9339\n",
      "Epoch 7/15\n",
      "97/99 [============================>.] - ETA: 0s - loss: 0.3461 - acc: 0.9341\n",
      "Epoch 00007: val_loss improved from 0.28576 to 0.27860, saving model to /home/sunnycui/deepcell-tf/scripts/recurr_gru/models/nuclei_model.h5\n",
      "99/99 [==============================] - 4s 39ms/step - loss: 0.3444 - acc: 0.9344 - val_loss: 0.2786 - val_acc: 0.9526\n",
      "Epoch 8/15\n",
      "97/99 [============================>.] - ETA: 0s - loss: 0.3392 - acc: 0.9359\n",
      "Epoch 00008: val_loss improved from 0.27860 to 0.27526, saving model to /home/sunnycui/deepcell-tf/scripts/recurr_gru/models/nuclei_model.h5\n",
      "99/99 [==============================] - 4s 38ms/step - loss: 0.3381 - acc: 0.9363 - val_loss: 0.2753 - val_acc: 0.9411\n",
      "Epoch 9/15\n",
      "97/99 [============================>.] - ETA: 0s - loss: 0.3486 - acc: 0.9348\n",
      "Epoch 00009: val_loss did not improve from 0.27526\n",
      "99/99 [==============================] - 4s 39ms/step - loss: 0.3479 - acc: 0.9351 - val_loss: 0.3197 - val_acc: 0.9572\n",
      "Epoch 10/15\n",
      "97/99 [============================>.] - ETA: 0s - loss: 0.3310 - acc: 0.9367\n",
      "Epoch 00010: val_loss improved from 0.27526 to 0.26709, saving model to /home/sunnycui/deepcell-tf/scripts/recurr_gru/models/nuclei_model.h5\n",
      "99/99 [==============================] - 4s 38ms/step - loss: 0.3331 - acc: 0.9361 - val_loss: 0.2671 - val_acc: 0.9434\n",
      "Epoch 11/15\n",
      "97/99 [============================>.] - ETA: 0s - loss: 0.3348 - acc: 0.9369\n",
      "Epoch 00011: val_loss did not improve from 0.26709\n",
      "99/99 [==============================] - 4s 38ms/step - loss: 0.3324 - acc: 0.9374 - val_loss: 0.2870 - val_acc: 0.9517\n",
      "Epoch 12/15\n",
      "97/99 [============================>.] - ETA: 0s - loss: 0.3272 - acc: 0.9375\n",
      "Epoch 00012: val_loss did not improve from 0.26709\n",
      "99/99 [==============================] - 4s 38ms/step - loss: 0.3296 - acc: 0.9374 - val_loss: 0.2751 - val_acc: 0.9502\n",
      "Epoch 13/15\n",
      "97/99 [============================>.] - ETA: 0s - loss: 0.3152 - acc: 0.9392\n",
      "Epoch 00013: val_loss did not improve from 0.26709\n",
      "99/99 [==============================] - 4s 38ms/step - loss: 0.3162 - acc: 0.9393 - val_loss: 0.2920 - val_acc: 0.9438\n",
      "Epoch 14/15\n",
      "97/99 [============================>.] - ETA: 0s - loss: 0.3425 - acc: 0.9383\n",
      "Epoch 00014: val_loss improved from 0.26709 to 0.26112, saving model to /home/sunnycui/deepcell-tf/scripts/recurr_gru/models/nuclei_model.h5\n",
      "99/99 [==============================] - 4s 39ms/step - loss: 0.3420 - acc: 0.9382 - val_loss: 0.2611 - val_acc: 0.9422\n",
      "Epoch 15/15\n",
      "97/99 [============================>.] - ETA: 0s - loss: 0.3206 - acc: 0.9401\n",
      "Epoch 00015: val_loss did not improve from 0.26112\n",
      "99/99 [==============================] - 4s 38ms/step - loss: 0.3241 - acc: 0.9395 - val_loss: 0.2687 - val_acc: 0.9546\n"
     ]
    }
   ],
   "source": [
    "from deepcell.training import train_model_conv\n",
    "\n",
    "fgbg_model = train_model_conv(\n",
    "    model=fgbg_model,\n",
    "    train_dict=train_dict,\n",
    "    test_dict=test_dict,\n",
    "    model_name=fgbg_model_name,\n",
    "    test_size=test_size,\n",
    "    optimizer=optimizer,\n",
    "    n_epoch=n_epoch,\n",
    "    batch_size=batch_size,\n",
    "    transform='fgbg',\n",
    "    model_dir=MODEL_DIR,\n",
    "    log_dir=LOG_DIR,\n",
    "    lr_sched=lr_sched,\n",
    "    rotation_range=180,\n",
    "    flip=True,\n",
    "    shear=False,\n",
    "    zoom_range=(0.8, 1.2))"
   ]
  },
  {
   "cell_type": "markdown",
   "metadata": {},
   "source": [
    "# Test Images"
   ]
  },
  {
   "cell_type": "code",
   "execution_count": 38,
   "metadata": {},
   "outputs": [
    {
     "name": "stdout",
     "output_type": "stream",
     "text": [
      "segmentation mask shape: (23, 160, 160, 2)\n"
     ]
    }
   ],
   "source": [
    "test_images_fgbg = fgbg_model.predict(test_dict['X'])\n",
    "\n",
    "print('segmentation mask shape:', test_images_fgbg.shape)"
   ]
  },
  {
   "cell_type": "markdown",
   "metadata": {},
   "source": [
    "### Post process"
   ]
  },
  {
   "cell_type": "code",
   "execution_count": 44,
   "metadata": {},
   "outputs": [],
   "source": [
    "# threshold the foreground/background\n",
    "# and remove back ground from edge transform\n",
    "threshold = 0.9\n",
    "\n",
    "fg_thresh = test_images_fgbg[..., 1] > threshold\n",
    "fg_thresh = np.expand_dims(fg_thresh, axis=-1)"
   ]
  },
  {
   "cell_type": "code",
   "execution_count": 46,
   "metadata": {},
   "outputs": [
    {
     "name": "stdout",
     "output_type": "stream",
     "text": [
      "Image number: 11\n"
     ]
    },
    {
     "data": {
      "text/plain": [
       "Text(0.5, 1.0, 'Ground truth')"
      ]
     },
     "execution_count": 46,
     "metadata": {},
     "output_type": "execute_result"
    },
    {
     "data": {
      "image/png": "[encoded data removed]",
      "text/plain": [
       "<Figure size 1080x1080 with 4 Axes>"
      ]
     },
     "metadata": {
      "needs_background": "light"
     },
     "output_type": "display_data"
    }
   ],
   "source": [
    "import matplotlib.pyplot as plt\n",
    "\n",
    "index = np.random.randint(low=0, high=test_dict['X'].shape[0])\n",
    "print('Image number:', index)\n",
    "\n",
    "fig, axes = plt.subplots(ncols=2, nrows=2, figsize=(15, 15), sharex=True, sharey=True)\n",
    "ax = axes.ravel()\n",
    "\n",
    "ax[0].imshow(test_dict['X'][index, ..., 0])\n",
    "ax[0].set_title('Source Image')\n",
    "\n",
    "ax[1].imshow(test_images_fgbg[index, ..., 1])\n",
    "ax[1].set_title('Nuclei Prediction')\n",
    "\n",
    "ax[2].imshow(fg_thresh[index, ..., 0], cmap='jet')\n",
    "ax[2].set_title('FGBG Threshold {}%'.format(threshold * 100))\n",
    "\n",
    "ax[3].imshow(test_dict['y'][index,:,:, 0])\n",
    "ax[3].set_title('Ground truth')"
   ]
  },
  {
   "cell_type": "code",
   "execution_count": null,
   "metadata": {},
   "outputs": [],
   "source": []
  }
 ],
 "metadata": {
  "kernelspec": {
   "display_name": "Python 3",
   "language": "python",
   "name": "python3"
  },
  "language_info": {
   "codemirror_mode": {
    "name": "ipython",
    "version": 3
   },
   "file_extension": ".py",
   "mimetype": "text/x-python",
   "name": "python",
   "nbconvert_exporter": "python",
   "pygments_lexer": "ipython3",
   "version": "3.5.2"
  }
 },
 "nbformat": 4,
 "nbformat_minor": 2
}
