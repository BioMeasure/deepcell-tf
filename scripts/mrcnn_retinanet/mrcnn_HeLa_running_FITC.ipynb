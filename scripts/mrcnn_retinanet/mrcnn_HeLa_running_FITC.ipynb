{
 "cells": [
  {
   "cell_type": "code",
   "execution_count": 1,
   "metadata": {},
   "outputs": [
    {
     "name": "stderr",
     "output_type": "stream",
     "text": [
      "Using TensorFlow backend.\n"
     ]
    }
   ],
   "source": [
    "import argparse\n",
    "import os\n",
    "import sys\n",
    "import warnings\n",
    "from fnmatch import fnmatch\n",
    "import keras\n",
    "import keras.preprocessing.image\n",
    "import tensorflow as tf\n",
    "ROOT_DIR = os.path.abspath(\"../\")\n",
    "\n",
    "# Allow relative imports when being executed as script.\n",
    "sys.path.append(ROOT_DIR)\n",
    "\n",
    "# Change these to absolute imports if you copy this script outside the keras_retinanet package.\n",
    "import csv\n",
    "from skimage.external.tifffile import TiffFile\n",
    "from skimage.io import imread\n",
    "import numpy\n",
    "import skimage\n",
    "from matplotlib import pyplot as plt\n",
    "import random\n",
    "import numpy as np\n",
    "from scipy import ndimage\n",
    "from scipy.ndimage.morphology import distance_transform_edt\n",
    "import keras\n",
    "from keras.models import Sequential\n",
    "from keras.layers import Dense, Dropout, Flatten\n",
    "from keras.layers import Conv2D, MaxPooling2D\n",
    "from keras.optimizers import SGD\n",
    "import tensorflow as tf\n",
    "import os\n",
    "import warnings\n",
    "#import cv2\n",
    "import numpy as np\n",
    "from scipy import ndimage as ndi\n",
    "from skimage.measure import label, regionprops\n",
    "from skimage.filters import sobel_h, sobel_v\n",
    "from skimage.measure import regionprops\n",
    "from keras import backend as K\n",
    "from keras.preprocessing.image import random_channel_shift,array_to_img, Iterator,ImageDataGenerator, NumpyArrayIterator\n",
    "import matplotlib.pyplot as plt\n",
    "import matplotlib.patches as patches\n",
    "import os\n",
    "import sys\n",
    "import re\n",
    "\n",
    "\n",
    "# show images inline\n",
    "%matplotlib inline\n",
    "\n",
    "# automatically reload modules when they have changed\n",
    "%load_ext autoreload\n",
    "%autoreload 2\n",
    "\n",
    "# import keras\n",
    "import keras\n",
    "\n",
    "# import keras_retinanet\n",
    "from keras_maskrcnn import models\n",
    "from keras_maskrcnn.utils.visualization import draw_mask\n",
    "from keras_retinanet.utils.visualization import draw_box, draw_caption, draw_annotations\n",
    "from keras_retinanet.utils.image import read_image_bgr, preprocess_image, resize_image\n",
    "from keras_retinanet.utils.colors import label_color\n",
    "\n",
    "# import miscellaneous modules\n",
    "import matplotlib.pyplot as plt\n",
    "import cv2\n",
    "import os\n",
    "import numpy as np\n",
    "import time\n",
    "\n",
    "# set tf backend to allow memory to grow, instead of claiming everything\n",
    "import tensorflow as tf\n",
    "\n",
    "def get_session():\n",
    "    config = tf.ConfigProto()\n",
    "    config.gpu_options.allow_growth = True\n",
    "    return tf.Session(config=config)\n",
    "\n",
    "# use this environment flag to change which GPU to use\n",
    "#os.environ[\"CUDA_VISIBLE_DEVICES\"] = \"1\"\n",
    "\n",
    "# set the modified tf session as backend in keras\n",
    "keras.backend.tensorflow_backend.set_session(get_session())"
   ]
  },
  {
   "cell_type": "code",
   "execution_count": 2,
   "metadata": {},
   "outputs": [
    {
     "name": "stderr",
     "output_type": "stream",
     "text": [
      "/usr/local/lib/python3.5/dist-packages/keras/engine/saving.py:289: UserWarning: Output \"filtered_detections\" missing from loss dictionary. We assume this was done on purpose, and we will not be expecting any data to be passed to \"filtered_detections\" during training.\n",
      "  sample_weight_mode=sample_weight_mode)\n",
      "/usr/local/lib/python3.5/dist-packages/tensorflow/python/ops/gradients_impl.py:100: UserWarning: Converting sparse IndexedSlices to a dense Tensor of unknown shape. This may consume a large amount of memory.\n",
      "  \"Converting sparse IndexedSlices to a dense Tensor of unknown shape. \"\n"
     ]
    }
   ],
   "source": [
    "model_path = os.path.join('snapshots', '2resnet50_train_20.h5')\n",
    "model = models.load_model(model_path, backbone_name='resnet50')\n",
    "labels_to_names = {0: 'cell'}"
   ]
  },
  {
   "cell_type": "code",
   "execution_count": 26,
   "metadata": {},
   "outputs": [],
   "source": [
    "def deepcell_data_load():\n",
    "    def list_file_deepcell(direc_name,training_direcs,raw_image_direc,channel_names):\n",
    "        filelist=[]\n",
    "        for b, direc in enumerate(training_direcs):\n",
    "            imglist = os.listdir(os.path.join(direc_name, direc, raw_image_direc))\n",
    "            #print(imglist)\n",
    "            for c, channel in enumerate(channel_names):\n",
    "                for img in imglist:\n",
    "                    # if channel string is NOT in image file name, skip it.\n",
    "                    if not fnmatch(img, '*{}*'.format(channel)):\n",
    "                        continue\n",
    "                    image_file = os.path.join(direc_name, direc, raw_image_direc, img)\n",
    "                    filelist.append(image_file)\n",
    "        return sorted(filelist)\n",
    "\n",
    "    'Getting the data now'\n",
    "    direc_name = \"/data/data/cells/HeLa/S3\"\n",
    "    training_direcs = ['set0']\n",
    "    raw_image_direc = 'raw'\n",
    "    channel_names = ['FITC']\n",
    "    train_imlist=list_file_deepcell(\n",
    "        direc_name = direc_name,\n",
    "        training_direcs = training_direcs,\n",
    "        raw_image_direc = raw_image_direc,\n",
    "        channel_names = channel_names)\n",
    "    print(len(train_imlist))\n",
    "    print(\"----------------\")\n",
    "    train_anotedlist=list_file_deepcell(\n",
    "        direc_name = direc_name,\n",
    "        training_direcs = training_direcs,\n",
    "        raw_image_direc = 'annotated',\n",
    "        channel_names = ['corrected'])\n",
    "    print(len(train_anotedlist))\n",
    "\n",
    "    import random\n",
    "    def randomcrops(dirpaths,maskpaths,sizeX,sizeY,iteration=1):\n",
    "        \n",
    "        dirpaths[0] = '/data/data/cells/HeLa/S3/set0/raw/img_000000002_FITC_001.png'\n",
    "        \n",
    "        print(dirpaths[0])\n",
    "        img=cv2.imread(dirpaths[0],0) #\n",
    "        imgY=img.shape[0]\n",
    "        imgX=img.shape[1]\n",
    "        actX=imgX-sizeX\n",
    "        actY=imgY-sizeY\n",
    "        if actX<0 or actY<0:\n",
    "            print(\"Image to crop is of a smaller size\")\n",
    "            return ([],[])\n",
    "        outputi=[]\n",
    "        outputm=[]\n",
    "        while iteration>0:\n",
    "            cropindex=[]\n",
    "            for path in dirpaths:\n",
    "                X=random.randint(0,actX)\n",
    "                Y=random.randint(0,actY)\n",
    "                cropindex.append((X,Y))\n",
    "                \n",
    "                print(path)\n",
    "                \n",
    "                image=cv2.imread(path,0)\n",
    "                newimg=image[Y:Y+sizeY,X:X+sizeX]\n",
    "                newimg=np.tile(np.expand_dims(newimg,axis=-1),(1,1,3))\n",
    "                outputi.append(newimg)\n",
    "            cnt=0\n",
    "            for path in maskpaths:\n",
    "                image=cv2.imread(path,0)\n",
    "                X=cropindex[cnt][0]\n",
    "                Y=cropindex[cnt][1]\n",
    "                newimg=image[Y:Y+sizeY,X:X+sizeX]\n",
    "                outputm.append(newimg)\n",
    "                cnt=cnt+1\n",
    "            iteration=iteration-1\n",
    "        return (outputi,outputm)\n",
    "\n",
    "    store=randomcrops(train_imlist,train_anotedlist,200,200,iteration=1)\n",
    "    return store"
   ]
  },
  {
   "cell_type": "code",
   "execution_count": 27,
   "metadata": {
    "scrolled": true
   },
   "outputs": [
    {
     "name": "stdout",
     "output_type": "stream",
     "text": [
      "46\n",
      "----------------\n",
      "45\n",
      "/data/data/cells/HeLa/S3/set0/raw/img_000000002_FITC_001.png\n"
     ]
    },
    {
     "ename": "AttributeError",
     "evalue": "'NoneType' object has no attribute 'shape'",
     "output_type": "error",
     "traceback": [
      "\u001b[0;31m---------------------------------------------------------------------------\u001b[0m",
      "\u001b[0;31mAttributeError\u001b[0m                            Traceback (most recent call last)",
      "\u001b[0;32m<ipython-input-27-62f3db8a6a1a>\u001b[0m in \u001b[0;36m<module>\u001b[0;34m()\u001b[0m\n\u001b[0;32m----> 1\u001b[0;31m \u001b[0mstore\u001b[0m \u001b[0;34m=\u001b[0m \u001b[0mdeepcell_data_load\u001b[0m\u001b[0;34m(\u001b[0m\u001b[0;34m)\u001b[0m\u001b[0;34m\u001b[0m\u001b[0m\n\u001b[0m",
      "\u001b[0;32m<ipython-input-26-0adfdaba0697>\u001b[0m in \u001b[0;36mdeepcell_data_load\u001b[0;34m()\u001b[0m\n\u001b[1;32m     73\u001b[0m         \u001b[0;32mreturn\u001b[0m \u001b[0;34m(\u001b[0m\u001b[0moutputi\u001b[0m\u001b[0;34m,\u001b[0m\u001b[0moutputm\u001b[0m\u001b[0;34m)\u001b[0m\u001b[0;34m\u001b[0m\u001b[0m\n\u001b[1;32m     74\u001b[0m \u001b[0;34m\u001b[0m\u001b[0m\n\u001b[0;32m---> 75\u001b[0;31m     \u001b[0mstore\u001b[0m\u001b[0;34m=\u001b[0m\u001b[0mrandomcrops\u001b[0m\u001b[0;34m(\u001b[0m\u001b[0mtrain_imlist\u001b[0m\u001b[0;34m,\u001b[0m\u001b[0mtrain_anotedlist\u001b[0m\u001b[0;34m,\u001b[0m\u001b[0;36m200\u001b[0m\u001b[0;34m,\u001b[0m\u001b[0;36m200\u001b[0m\u001b[0;34m,\u001b[0m\u001b[0miteration\u001b[0m\u001b[0;34m=\u001b[0m\u001b[0;36m1\u001b[0m\u001b[0;34m)\u001b[0m\u001b[0;34m\u001b[0m\u001b[0m\n\u001b[0m\u001b[1;32m     76\u001b[0m     \u001b[0;32mreturn\u001b[0m \u001b[0mstore\u001b[0m\u001b[0;34m\u001b[0m\u001b[0m\n",
      "\u001b[0;32m<ipython-input-26-0adfdaba0697>\u001b[0m in \u001b[0;36mrandomcrops\u001b[0;34m(dirpaths, maskpaths, sizeX, sizeY, iteration)\u001b[0m\n\u001b[1;32m     40\u001b[0m         \u001b[0mprint\u001b[0m\u001b[0;34m(\u001b[0m\u001b[0mdirpaths\u001b[0m\u001b[0;34m[\u001b[0m\u001b[0;36m0\u001b[0m\u001b[0;34m]\u001b[0m\u001b[0;34m)\u001b[0m\u001b[0;34m\u001b[0m\u001b[0m\n\u001b[1;32m     41\u001b[0m         \u001b[0mimg\u001b[0m\u001b[0;34m=\u001b[0m\u001b[0mcv2\u001b[0m\u001b[0;34m.\u001b[0m\u001b[0mimread\u001b[0m\u001b[0;34m(\u001b[0m\u001b[0mdirpaths\u001b[0m\u001b[0;34m[\u001b[0m\u001b[0;36m0\u001b[0m\u001b[0;34m]\u001b[0m\u001b[0;34m,\u001b[0m\u001b[0;36m0\u001b[0m\u001b[0;34m)\u001b[0m \u001b[0;31m#\u001b[0m\u001b[0;34m\u001b[0m\u001b[0m\n\u001b[0;32m---> 42\u001b[0;31m         \u001b[0mimgY\u001b[0m\u001b[0;34m=\u001b[0m\u001b[0mimg\u001b[0m\u001b[0;34m.\u001b[0m\u001b[0mshape\u001b[0m\u001b[0;34m[\u001b[0m\u001b[0;36m0\u001b[0m\u001b[0;34m]\u001b[0m\u001b[0;34m\u001b[0m\u001b[0m\n\u001b[0m\u001b[1;32m     43\u001b[0m         \u001b[0mimgX\u001b[0m\u001b[0;34m=\u001b[0m\u001b[0mimg\u001b[0m\u001b[0;34m.\u001b[0m\u001b[0mshape\u001b[0m\u001b[0;34m[\u001b[0m\u001b[0;36m1\u001b[0m\u001b[0;34m]\u001b[0m\u001b[0;34m\u001b[0m\u001b[0m\n\u001b[1;32m     44\u001b[0m         \u001b[0mactX\u001b[0m\u001b[0;34m=\u001b[0m\u001b[0mimgX\u001b[0m\u001b[0;34m-\u001b[0m\u001b[0msizeX\u001b[0m\u001b[0;34m\u001b[0m\u001b[0m\n",
      "\u001b[0;31mAttributeError\u001b[0m: 'NoneType' object has no attribute 'shape'"
     ]
    }
   ],
   "source": [
    "store = deepcell_data_load()"
   ]
  },
  {
   "cell_type": "code",
   "execution_count": 5,
   "metadata": {},
   "outputs": [
    {
     "name": "stdout",
     "output_type": "stream",
     "text": [
      "(200, 200, 3)\n",
      "(200, 200)\n"
     ]
    }
   ],
   "source": [
    "print(store[0][1].shape)\n",
    "print(store[1][0].shape)"
   ]
  },
  {
   "cell_type": "code",
   "execution_count": 6,
   "metadata": {},
   "outputs": [
    {
     "name": "stderr",
     "output_type": "stream",
     "text": [
      "Clipping input data to the valid range for imshow with RGB data ([0..1] for floats or [0..255] for integers).\n"
     ]
    },
    {
     "data": {
      "image/png": "[encoded data removed]",
      "text/plain": [
       "<Figure size 432x288 with 1 Axes>"
      ]
     },
     "metadata": {},
     "output_type": "display_data"
    }
   ],
   "source": [
    "add = np.ones(store[0][1].shape)*100\n",
    "img = (store[0][1]+add)/110\n",
    "img3 = store[0][1]/np.max(store[0][1])\n",
    "res = np.where(img>np.min(img),img3,0)\n",
    "plt.imshow(img3)\n",
    "plt.imsave(\"just_see.png\",img)"
   ]
  },
  {
   "cell_type": "code",
   "execution_count": 9,
   "metadata": {},
   "outputs": [
    {
     "data": {
      "text/plain": [
       "<matplotlib.image.AxesImage at 0x7f9ffd30dfd0>"
      ]
     },
     "execution_count": 9,
     "metadata": {},
     "output_type": "execute_result"
    },
    {
     "data": {
      "image/png": "[encoded data removed]",
      "text/plain": [
       "<Figure size 432x288 with 1 Axes>"
      ]
     },
     "metadata": {},
     "output_type": "display_data"
    }
   ],
   "source": [
    "plt.imshow(store[1][0])"
   ]
  },
  {
   "cell_type": "code",
   "execution_count": 10,
   "metadata": {},
   "outputs": [
    {
     "name": "stdout",
     "output_type": "stream",
     "text": [
      "processing time:  1.600527048110962\n"
     ]
    },
    {
     "data": {
      "image/png": "[encoded data removed]",
      "text/plain": [
       "<Figure size 1080x1080 with 1 Axes>"
      ]
     },
     "metadata": {},
     "output_type": "display_data"
    }
   ],
   "source": [
    "# load image\n",
    "image = store[0][1]\n",
    "\n",
    "# copy to draw on\n",
    "draw = image.copy()\n",
    "draw = cv2.cvtColor(draw, cv2.COLOR_BGR2RGB)\n",
    "\n",
    "# preprocess image for network\n",
    "image = preprocess_image(image)\n",
    "image, scale = resize_image(image)\n",
    "\n",
    "# process image\n",
    "start = time.time()\n",
    "outputs = model.predict_on_batch(np.expand_dims(image, axis=0))\n",
    "print(\"processing time: \", time.time() - start)\n",
    "\n",
    "boxes  = outputs[-4][0]\n",
    "scores = outputs[-3][0]\n",
    "labels = outputs[-2][0]\n",
    "masks  = outputs[-1][0]\n",
    "\n",
    "# correct for image scale\n",
    "boxes /= scale\n",
    "\n",
    "# visualize detections\n",
    "for box, score, label, mask in zip(boxes, scores, labels, masks):\n",
    "    if score < 0.9:\n",
    "        break\n",
    "\n",
    "    color = label_color(label)\n",
    "    \n",
    "    b = box.astype(int)\n",
    "    draw_box(draw, b, color=color)\n",
    "    \n",
    "    mask = mask[:, :, label]\n",
    "    draw_mask(draw, b, mask, color=label_color(label))\n",
    "    \n",
    "    caption = \"{} {:.3f}\".format(labels_to_names[label], score)\n",
    "    #draw_caption(draw, b, caption)\n",
    "    \n",
    "plt.figure(figsize=(15, 15))\n",
    "plt.axis('off')\n",
    "plt.imshow(draw)\n",
    "plt.show()"
   ]
  },
  {
   "cell_type": "code",
   "execution_count": null,
   "metadata": {},
   "outputs": [],
   "source": []
  }
 ],
 "metadata": {
  "kernelspec": {
   "display_name": "Python 3",
   "language": "python",
   "name": "python3"
  },
  "language_info": {
   "codemirror_mode": {
    "name": "ipython",
    "version": 3
   },
   "file_extension": ".py",
   "mimetype": "text/x-python",
   "name": "python",
   "nbconvert_exporter": "python",
   "pygments_lexer": "ipython3",
   "version": "3.5.2"
  }
 },
 "nbformat": 4,
 "nbformat_minor": 2
}
