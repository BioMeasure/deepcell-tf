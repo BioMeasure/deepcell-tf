{
 "cells": [
  {
   "cell_type": "code",
   "execution_count": 45,
   "metadata": {},
   "outputs": [
    {
     "name": "stdout",
     "output_type": "stream",
     "text": [
      "2\n",
      "----------------\n",
      "2\n",
      "293.0\n",
      "-----------------Completed /data/data/tissues/mibi/samir/set1/annotated/feature_1.tif-----------\n",
      "248.5\n",
      "-----------------Completed /data/data/tissues/mibi/samir/set2/annotated/feature_1.tif-----------\n",
      "497\n"
     ]
    }
   ],
   "source": [
    "import argparse\n",
    "import os\n",
    "import sys\n",
    "import warnings\n",
    "from fnmatch import fnmatch\n",
    "import keras\n",
    "import keras.preprocessing.image\n",
    "import tensorflow as tf\n",
    "ROOT_DIR = os.path.abspath(\"../\")\n",
    "\n",
    "# Allow relative imports when being executed as script.\n",
    "sys.path.append(ROOT_DIR)\n",
    "\n",
    "# Change these to absolute imports if you copy this script outside the keras_retinanet package.\n",
    "import csv\n",
    "from skimage.external.tifffile import TiffFile\n",
    "from skimage.io import imread\n",
    "import numpy\n",
    "import skimage\n",
    "from matplotlib import pyplot as plt\n",
    "import random\n",
    "import numpy as np\n",
    "from scipy import ndimage\n",
    "from scipy.ndimage.morphology import distance_transform_edt\n",
    "import keras\n",
    "from keras.models import Sequential\n",
    "from keras.layers import Dense, Dropout, Flatten\n",
    "from keras.layers import Conv2D, MaxPooling2D\n",
    "from keras.optimizers import SGD\n",
    "import tensorflow as tf\n",
    "import os\n",
    "import warnings\n",
    "#import cv2\n",
    "import numpy as np\n",
    "from scipy import ndimage as ndi\n",
    "from skimage.measure import label, regionprops\n",
    "from skimage.filters import sobel_h, sobel_v\n",
    "from skimage.measure import regionprops\n",
    "from keras import backend as K\n",
    "from keras.preprocessing.image import random_channel_shift,array_to_img, Iterator,ImageDataGenerator, NumpyArrayIterator\n",
    "import matplotlib.pyplot as plt\n",
    "import matplotlib.patches as patches\n",
    "import os\n",
    "import sys\n",
    "import re\n",
    "\n",
    "def sorted_nicely(l):\n",
    "    convert = lambda text: int(text) if text.isdigit() else text\n",
    "    alphanum_key = lambda key: [convert(c) for c in re.split('([0-9]+)', key)]\n",
    "    return sorted(l, key=alphanum_key)\n",
    "\n",
    "def get_image(file_name):\n",
    "    ext = os.path.splitext(file_name.lower())[-1]\n",
    "    if ext == '.tif' or ext == '.tiff':\n",
    "        return np.float32(TiffFile(file_name).asarray())\n",
    "    return np.float32(imread(file_name))\n",
    "\n",
    "def nikon_getfiles(direc_name, channel_name):\n",
    "\n",
    "    imglist = os.listdir(direc_name)\n",
    "    imgfiles = [i for i in imglist if channel_name in i]\n",
    "    imgfiles = sorted_nicely(imgfiles)\n",
    "    return imgfiles\n",
    "\n",
    "\n",
    "def list_file_deepcell(direc_name,training_direcs,raw_image_direc,channel_names):\n",
    "    filelist=[]\n",
    "    for b, direc in enumerate(training_direcs):\n",
    "        imglist = os.listdir(os.path.join(direc_name, direc, raw_image_direc))\n",
    "        #print(imglist)\n",
    "        for c, channel in enumerate(channel_names):\n",
    "            for img in imglist:\n",
    "                # if channel string is NOT in image file name, skip it.\n",
    "                if not fnmatch(img, '*{}*'.format(channel)):\n",
    "                    continue\n",
    "                image_file = os.path.join(direc_name, direc, raw_image_direc, img)\n",
    "                filelist.append(image_file)\n",
    "    return sorted(filelist)\n",
    "\n",
    "def deepcell_load_images_2d(direc_name, training_direcs, channel_names, image_size,\n",
    "                            raw_image_direc,CHANNELS_FIRST=True):\n",
    "    image_size_x, image_size_y = image_size\n",
    "\n",
    "    # Initialize training data array\n",
    "    if CHANNELS_FIRST:\n",
    "        X_shape = (len(training_direcs), len(channel_names), image_size_x, image_size_y)\n",
    "    else:\n",
    "        X_shape = (len(training_direcs), image_size_x, image_size_y, len(channel_names))\n",
    "\n",
    "    X = np.zeros(X_shape, dtype=K.floatx())\n",
    "\n",
    "    # Load training images\n",
    "    for b, direc in enumerate(training_direcs):\n",
    "        imglist = os.listdir(os.path.join(direc_name, direc, raw_image_direc))\n",
    "\n",
    "        for c, channel in enumerate(channel_names):\n",
    "            for img in imglist:\n",
    "                # if channel string is NOT in image file name, skip it.\n",
    "                if not fnmatch(img, '*{}*'.format(channel)):\n",
    "                    continue\n",
    "\n",
    "                image_file = os.path.join(direc_name, direc, raw_image_direc, img)\n",
    "                image_data = np.asarray(get_image(image_file), dtype=K.floatx())\n",
    "\n",
    "                if CHANNELS_FIRST:\n",
    "                    X[b, c, :, :] = image_data\n",
    "                else:\n",
    "                    X[b, :, :, c] = image_data\n",
    "\n",
    "    return X\n",
    "\n",
    "def deepcell_load_images_3d(direc_name, training_direcs, channel_names, raw_image_direc,\n",
    "                            image_size, num_frames, montage_mode=False,CHANNELS_FIRST=True):\n",
    "    \"\"\"\n",
    "    Iterate over every image in the training directories and load\n",
    "    each into a numpy array.\n",
    "    \"\"\"\n",
    "    image_size_x, image_size_y = image_size\n",
    "\n",
    "    # flatten list of lists\n",
    "    X_dirs = [os.path.join(direc_name, t, raw_image_direc) for t in training_direcs]\n",
    "    if montage_mode:\n",
    "        X_dirs = [os.path.join(t, p) for t in X_dirs for p in os.listdir(t)]\n",
    "        X_dirs = sorted_nicely(X_dirs)\n",
    "\n",
    "    # Initialize training data array\n",
    "    if CHANNELS_FIRST:\n",
    "        X_shape = (len(X_dirs), len(channel_names), num_frames, image_size_x, image_size_y)\n",
    "    else:\n",
    "        X_shape = (len(X_dirs), num_frames, image_size_x, image_size_y, len(channel_names))\n",
    "\n",
    "    X = np.zeros(X_shape, dtype=K.floatx())\n",
    "\n",
    "    # Load 3D training images\n",
    "    for b, direc in enumerate(X_dirs):\n",
    "\n",
    "        for c, channel in enumerate(channel_names):\n",
    "            print('Loading {} channel data from training dir {}: {}'.format(\n",
    "                channel, b + 1, direc))\n",
    "\n",
    "            imglist = nikon_getfiles(direc, channel)\n",
    "\n",
    "            for i, img in enumerate(imglist):\n",
    "                if i >= num_frames:\n",
    "                    print('Skipping final {} frames, as num_frames is {} but '\n",
    "                          'there are {} total frames'.format(\n",
    "                              len(imglist) - num_frames, num_frames, len(imglist)))\n",
    "                    break\n",
    "\n",
    "                image_data = np.asarray(get_image(os.path.join(direc, img)))\n",
    "\n",
    "                if CHANNELS_FIRST:\n",
    "                    X[b, c, i, :, :] = image_data\n",
    "                else:\n",
    "                    X[b, i, :, :, c] = image_data\n",
    "\n",
    "    return X\n",
    "\n",
    "def list_files(dir,imgname):\n",
    "    r = []\n",
    "    s=[]\n",
    "    for root, dirs, files in os.walk(dir):\n",
    "        for name in files:\n",
    "            r.append(os.path.join(root, name))\n",
    "            #print(name)\n",
    "            if(name==imgname):\n",
    "                s.append(os.path.join(root, name))\n",
    "    return s\n",
    "\n",
    "def print_files_onlyname(dir):\n",
    "    for root, dirs, files in os.walk(dir):\n",
    "        for name in files:\n",
    "            print(name)\n",
    "    return\n",
    "\n",
    "def print_files_path(dir):\n",
    "    for root, dirs, files in os.walk(dir):\n",
    "        for name in files:\n",
    "            print(str(os.path.join(root, name)))\n",
    "    return\n",
    "\n",
    "def print_files_withextention(dir,extension):\n",
    "    for root, dirs, files in os.walk(dir):\n",
    "        for name in files:\n",
    "            if name.endswith(extension):\n",
    "                print(str(os.path.join(root, name)))\n",
    "    return\n",
    "\n",
    "\n",
    "def list_file_withextention(dir,extension):\n",
    "    r=[]\n",
    "    for root, dirs, files in os.walk(dir):\n",
    "        for name in files:\n",
    "            if name.endswith(extension):\n",
    "                r.append(os.path.join(root, name))\n",
    "    return sorted(r)\n",
    "\n",
    "def list_file_withcontaining(dir,item):\n",
    "    r=[]\n",
    "    for root, dirs, files in os.walk(dir):\n",
    "        for name in files:\n",
    "            if item in name:\n",
    "                r.append(os.path.join(root, name))\n",
    "    return sorted(r)\n",
    "\n",
    "def remove_files_withextension(dir_name,extension):\n",
    "    for root, dirs, files in os.walk(dir_name):\n",
    "        for name in files:\n",
    "            if name.endswith(extension):\n",
    "                print(str(os.path.join(root, name)))\n",
    "                os.remove(os.path.join(root, name))\n",
    "    return\n",
    "\n",
    "def remove_files(dir_name):\n",
    "    test = os.listdir(dir_name)\n",
    "    for item in test:\n",
    "        if item.endswith(\".png\"):\n",
    "            os.remove(os.path.join(dir_name, item))\n",
    "    return\n",
    "\n",
    "DATA_DIREC = '/data/data/tissues/mibi/samir'\n",
    "TRAIN_DIRS = ['set1', 'set2']\n",
    "RAW_DIR = 'raw'\n",
    "CHANNEL_NAMES = ['dsDNA']\n",
    "ANNOTATION_DIR = 'annotated'\n",
    "ANNOTATION_NAMES = ['feature_1']\n",
    "\n",
    "'Getting the data now'\n",
    "direc_name = DATA_DIREC\n",
    "training_direcs = TRAIN_DIRS\n",
    "raw_image_direc = RAW_DIR\n",
    "channel_names = CHANNEL_NAMES\n",
    "train_imlist=list_file_deepcell(\n",
    "    direc_name = direc_name,\n",
    "    training_direcs = training_direcs,\n",
    "    raw_image_direc = raw_image_direc,\n",
    "    channel_names = channel_names)\n",
    "print(len(train_imlist))\n",
    "print(\"----------------\")\n",
    "train_anotedlist=list_file_deepcell(\n",
    "    direc_name = direc_name,\n",
    "    training_direcs = training_direcs,\n",
    "    raw_image_direc = ANNOTATION_DIR,\n",
    "    channel_names = ANNOTATION_NAMES)\n",
    "print(len(train_anotedlist))\n",
    "\n",
    "'Making the annotations and organising them'\n",
    "cell_data=[]\n",
    "for cnt,file in enumerate(train_anotedlist):\n",
    "    image=get_image(file)\n",
    "    image=image[768:-768, 768:-768]\n",
    "    l=label(image)\n",
    "    p=regionprops(l)\n",
    "    for index in range(len(np.unique(label(image)))-1):\n",
    "        rect = [train_imlist[cnt],p[index].bbox[1],p[index].bbox[0],p[index].bbox[3],p[index].bbox[2],\"cell\",np.where(l==index,1,0)]\n",
    "        cell_data.append(rect)\n",
    "    print(len(cell_data)/(cnt+1))\n",
    "    print(\"-----------------Completed \"+file+\"-----------\")\n",
    "print(len(cell_data))"
   ]
  },
  {
   "cell_type": "code",
   "execution_count": 46,
   "metadata": {},
   "outputs": [
    {
     "data": {
      "text/plain": [
       "array([[0, 0, 0, ..., 0, 0, 0],\n",
       "       [0, 0, 0, ..., 0, 0, 0],\n",
       "       [0, 0, 0, ..., 0, 0, 0],\n",
       "       ...,\n",
       "       [0, 0, 0, ..., 0, 0, 0],\n",
       "       [0, 0, 0, ..., 0, 0, 0],\n",
       "       [0, 0, 0, ..., 0, 0, 0]])"
      ]
     },
     "execution_count": 46,
     "metadata": {},
     "output_type": "execute_result"
    }
   ],
   "source": [
    "cell_data[200][-1]"
   ]
  },
  {
   "cell_type": "code",
   "execution_count": 11,
   "metadata": {},
   "outputs": [],
   "source": [
    "mask=imread('/data/data/tissues/mibi/samir/set1/annotated/feature_1.tif')\n",
    "\n",
    "mask=mask[768:-768, 768:-768]\n",
    "\n",
    "result=[]\n",
    "result2=[]\n",
    "l = label(mask)\n",
    "p=regionprops(l)\n",
    "\n",
    "for index in range(len(np.unique(l))-1):\n",
    "    x1, y1, x2, y2 = p[index].bbox[1],p[index].bbox[0],p[index].bbox[3],p[index].bbox[2]\n",
    "    result2.append((x1, y1, x2, y2))\n",
    "    result.append(np.where(l==index+1,1,0))\n",
    "\n",
    "def check(img):\n",
    "    img=label(img)\n",
    "    plt.imshow(img)\n",
    "    p2=regionprops(img)\n",
    "    print(p2[0].bbox[1],p2[0].bbox[0],p2[0].bbox[3],p2[0].bbox[2])"
   ]
  },
  {
   "cell_type": "code",
   "execution_count": 12,
   "metadata": {},
   "outputs": [
    {
     "data": {
      "text/plain": [
       "<matplotlib.image.AxesImage at 0x7fe75f3f51d0>"
      ]
     },
     "execution_count": 12,
     "metadata": {},
     "output_type": "execute_result"
    },
    {
     "data": {
      "image/png": "[encoded data removed]",
      "text/plain": [
       "<Figure size 432x288 with 1 Axes>"
      ]
     },
     "metadata": {},
     "output_type": "display_data"
    }
   ],
   "source": [
    "plt.imshow(mask)"
   ]
  },
  {
   "cell_type": "code",
   "execution_count": 13,
   "metadata": {},
   "outputs": [
    {
     "data": {
      "text/plain": [
       "<matplotlib.image.AxesImage at 0x7fe75f3aee48>"
      ]
     },
     "execution_count": 13,
     "metadata": {},
     "output_type": "execute_result"
    },
    {
     "data": {
      "image/png": "[encoded data removed]",
      "text/plain": [
       "<Figure size 432x288 with 1 Axes>"
      ]
     },
     "metadata": {},
     "output_type": "display_data"
    }
   ],
   "source": [
    "plt.imshow((result[89]> 0).astype(np.uint8))"
   ]
  },
  {
   "cell_type": "code",
   "execution_count": 14,
   "metadata": {},
   "outputs": [
    {
     "data": {
      "text/plain": [
       "(45, 122, 58, 141)"
      ]
     },
     "execution_count": 14,
     "metadata": {},
     "output_type": "execute_result"
    }
   ],
   "source": [
    "result2[80]"
   ]
  },
  {
   "cell_type": "code",
   "execution_count": 15,
   "metadata": {},
   "outputs": [
    {
     "name": "stdout",
     "output_type": "stream",
     "text": [
      "45 122 58 141\n"
     ]
    },
    {
     "data": {
      "image/png": "[encoded data removed]",
      "text/plain": [
       "<Figure size 432x288 with 1 Axes>"
      ]
     },
     "metadata": {},
     "output_type": "display_data"
    }
   ],
   "source": [
    "check((result[80]> 0).astype(np.uint8))"
   ]
  },
  {
   "cell_type": "code",
   "execution_count": 44,
   "metadata": {},
   "outputs": [
    {
     "name": "stdout",
     "output_type": "stream",
     "text": [
      "The autoreload extension is already loaded. To reload it, use:\n",
      "  %reload_ext autoreload\n"
     ]
    }
   ],
   "source": [
    "# show images inline\n",
    "%matplotlib inline\n",
    "\n",
    "# automatically reload modules when they have changed\n",
    "%load_ext autoreload\n",
    "%autoreload 2\n",
    "\n",
    "# import keras\n",
    "import keras\n",
    "\n",
    "# import keras_retinanet\n",
    "from keras_maskrcnn import models\n",
    "from keras_maskrcnn.utils.visualization import draw_mask\n",
    "from keras_retinanet.utils.visualization import draw_box, draw_caption, draw_annotations\n",
    "from keras_retinanet.utils.image import read_image_bgr, preprocess_image, resize_image\n",
    "from keras_retinanet.utils.colors import label_color\n",
    "\n",
    "# import miscellaneous modules\n",
    "import matplotlib.pyplot as plt\n",
    "import cv2\n",
    "import os\n",
    "import numpy as np\n",
    "import time\n",
    "\n",
    "# set tf backend to allow memory to grow, instead of claiming everything\n",
    "import tensorflow as tf\n",
    "\n",
    "def get_session():\n",
    "    config = tf.ConfigProto()\n",
    "    config.gpu_options.allow_growth = True\n",
    "    return tf.Session(config=config)\n",
    "\n",
    "# use this environment flag to change which GPU to use\n",
    "#os.environ[\"CUDA_VISIBLE_DEVICES\"] = \"1\"\n",
    "\n",
    "# set the modified tf session as backend in keras\n",
    "keras.backend.tensorflow_backend.set_session(get_session())"
   ]
  },
  {
   "cell_type": "code",
   "execution_count": 18,
   "metadata": {},
   "outputs": [
    {
     "name": "stderr",
     "output_type": "stream",
     "text": [
      "/usr/local/lib/python3.5/dist-packages/keras/engine/saving.py:289: UserWarning: Output \"filtered_detections\" missing from loss dictionary. We assume this was done on purpose, and we will not be expecting any data to be passed to \"filtered_detections\" during training.\n",
      "  sample_weight_mode=sample_weight_mode)\n",
      "/usr/local/lib/python3.5/dist-packages/tensorflow/python/ops/gradients_impl.py:100: UserWarning: Converting sparse IndexedSlices to a dense Tensor of unknown shape. This may consume a large amount of memory.\n",
      "  \"Converting sparse IndexedSlices to a dense Tensor of unknown shape. \"\n"
     ]
    }
   ],
   "source": [
    "model_path = os.path.join('snapshots', '2resnet50_train_10.h5')\n",
    "model = models.load_model(model_path, backbone_name='resnet50')\n",
    "labels_to_names = {0: 'cell'}"
   ]
  },
  {
   "cell_type": "code",
   "execution_count": 41,
   "metadata": {},
   "outputs": [],
   "source": [
    "def deepcell_data_load():\n",
    "    def list_file_deepcell(direc_name,training_direcs,raw_image_direc,channel_names):\n",
    "        filelist=[]\n",
    "        for b, direc in enumerate(training_direcs):\n",
    "            imglist = os.listdir(os.path.join(direc_name, direc, raw_image_direc))\n",
    "            #print(imglist)\n",
    "            for c, channel in enumerate(channel_names):\n",
    "                for img in imglist:\n",
    "                    # if channel string is NOT in image file name, skip it.\n",
    "                    if not fnmatch(img, '*{}*'.format(channel)):\n",
    "                        continue\n",
    "                    image_file = os.path.join(direc_name, direc, raw_image_direc, img)\n",
    "                    filelist.append(image_file)\n",
    "        return sorted(filelist)\n",
    "\n",
    "\n",
    "    direc_name = \"/data/data/tissues/mibi/samir/\"\n",
    "    training_direcs = ['set1', 'set2']\n",
    "    raw_image_direc = 'raw'\n",
    "    channel_names = ['dsDNA']\n",
    "    train_imlist=list_file_deepcell(\n",
    "        direc_name = direc_name,\n",
    "        training_direcs = training_direcs,\n",
    "        raw_image_direc = raw_image_direc,\n",
    "        channel_names = channel_names)\n",
    "    print(len(train_imlist))\n",
    "    print(\"----------------\")\n",
    "    train_anotedlist=list_file_deepcell(\n",
    "        direc_name = direc_name,\n",
    "        training_direcs = training_direcs,\n",
    "        raw_image_direc = 'annotated',\n",
    "        channel_names = ['feature_1'])\n",
    "    print(len(train_anotedlist))\n",
    "\n",
    "    import random\n",
    "    def randomcrops(dirpaths,maskpaths,sizeX,sizeY,iteration=1):\n",
    "        img=cv2.imread(dirpaths[0],0)\n",
    "        imgY=img.shape[0]\n",
    "        imgX=img.shape[1]\n",
    "        actX=imgX-sizeX\n",
    "        actY=imgY-sizeY\n",
    "        if actX<0 or actY<0:\n",
    "            print(\"Image to crop is of a smaller size\")\n",
    "            return ([],[])\n",
    "        outputi=[]\n",
    "        outputm=[]\n",
    "        while iteration>0:\n",
    "            cropindex=[]\n",
    "            for path in dirpaths:\n",
    "                X=random.randint(0,actX)\n",
    "                Y=random.randint(0,actY)\n",
    "                cropindex.append((X,Y))\n",
    "                image=cv2.imread(path,0)\n",
    "                newimg=image[Y:Y+sizeY,X:X+sizeX]\n",
    "                newimg=np.tile(np.expand_dims(newimg,axis=-1),(1,1,3))\n",
    "                outputi.append(newimg)\n",
    "            cnt=0\n",
    "            for path in maskpaths:\n",
    "                image=cv2.imread(path,0)\n",
    "                X=cropindex[cnt][0]\n",
    "                Y=cropindex[cnt][1]\n",
    "                newimg=image[Y:Y+sizeY,X:X+sizeX]\n",
    "                outputm.append(newimg)\n",
    "                cnt=cnt+1\n",
    "            iteration=iteration-1\n",
    "        return (outputi,outputm)\n",
    "\n",
    "    store=randomcrops(train_imlist,train_anotedlist,200,200,iteration=1)\n",
    "    return store"
   ]
  },
  {
   "cell_type": "code",
   "execution_count": 42,
   "metadata": {},
   "outputs": [
    {
     "name": "stdout",
     "output_type": "stream",
     "text": [
      "2\n",
      "----------------\n",
      "2\n"
     ]
    }
   ],
   "source": [
    "store = deepcell_data_load()"
   ]
  },
  {
   "cell_type": "code",
   "execution_count": 43,
   "metadata": {},
   "outputs": [
    {
     "name": "stderr",
     "output_type": "stream",
     "text": [
      "/usr/local/lib/python3.5/dist-packages/ipykernel_launcher.py:3: RuntimeWarning: invalid value encountered in true_divide\n",
      "  This is separate from the ipykernel package so we can avoid doing imports until\n",
      "/usr/local/lib/python3.5/dist-packages/numpy/core/_methods.py:29: RuntimeWarning: invalid value encountered in reduce\n",
      "  return umr_minimum(a, axis, None, out, keepdims)\n"
     ]
    },
    {
     "data": {
      "image/png": "[encoded data removed]",
      "text/plain": [
       "<Figure size 432x288 with 1 Axes>"
      ]
     },
     "metadata": {},
     "output_type": "display_data"
    }
   ],
   "source": [
    "add = np.ones(store[0][1].shape)*100\n",
    "img = (store[0][1]+add)/110\n",
    "img3 = store[0][1]/np.max(store[0][1])\n",
    "res = np.where(img>np.min(img),img3,0)\n",
    "plt.imshow(img3, cmap='jet')\n",
    "plt.imsave(\"just_see.png\",img)"
   ]
  },
  {
   "cell_type": "code",
   "execution_count": 35,
   "metadata": {},
   "outputs": [
    {
     "name": "stdout",
     "output_type": "stream",
     "text": [
      "nan\n"
     ]
    },
    {
     "name": "stderr",
     "output_type": "stream",
     "text": [
      "/usr/local/lib/python3.5/dist-packages/numpy/core/_methods.py:26: RuntimeWarning: invalid value encountered in reduce\n",
      "  return umr_maximum(a, axis, None, out, keepdims)\n"
     ]
    }
   ],
   "source": [
    "print(img3.max())"
   ]
  },
  {
   "cell_type": "code",
   "execution_count": 37,
   "metadata": {},
   "outputs": [
    {
     "data": {
      "text/plain": [
       "<matplotlib.image.AxesImage at 0x7fe5f0071630>"
      ]
     },
     "execution_count": 37,
     "metadata": {},
     "output_type": "execute_result"
    },
    {
     "data": {
      "image/png": "[encoded data removed]",
      "text/plain": [
       "<Figure size 432x288 with 1 Axes>"
      ]
     },
     "metadata": {},
     "output_type": "display_data"
    }
   ],
   "source": [
    "plt.imshow(store[1][0])"
   ]
  },
  {
   "cell_type": "code",
   "execution_count": 40,
   "metadata": {},
   "outputs": [
    {
     "name": "stdout",
     "output_type": "stream",
     "text": [
      "processing time:  0.5795714855194092\n"
     ]
    },
    {
     "data": {
      "image/png": "[encoded data removed]",
      "text/plain": [
       "<Figure size 1080x1080 with 1 Axes>"
      ]
     },
     "metadata": {},
     "output_type": "display_data"
    }
   ],
   "source": [
    "# load image\n",
    "image = store[0][1]\n",
    "\n",
    "# copy to draw on\n",
    "draw = image.copy()\n",
    "draw = cv2.cvtColor(draw, cv2.COLOR_BGR2RGB)\n",
    "\n",
    "# preprocess image for network\n",
    "image = preprocess_image(image)\n",
    "image, scale = resize_image(image)\n",
    "\n",
    "# process image\n",
    "start = time.time()\n",
    "outputs = model.predict_on_batch(np.expand_dims(image, axis=0))\n",
    "print(\"processing time: \", time.time() - start)\n",
    "\n",
    "boxes  = outputs[-4][0]\n",
    "scores = outputs[-3][0]\n",
    "labels = outputs[-2][0]\n",
    "masks  = outputs[-1][0]\n",
    "\n",
    "# correct for image scale\n",
    "boxes /= scale\n",
    "\n",
    "# visualize detections\n",
    "for box, score, label, mask in zip(boxes, scores, labels, masks):\n",
    "    if score < 0.01:\n",
    "        break\n",
    "\n",
    "    color = label_color(label)\n",
    "    \n",
    "    b = box.astype(int)\n",
    "    draw_box(draw, b, color=color)\n",
    "    \n",
    "    mask = mask[:, :, label]\n",
    "    draw_mask(draw, b, mask, color=label_color(label))\n",
    "    \n",
    "    caption = \"{} {:.3f}\".format(labels_to_names[label], score)\n",
    "    #draw_caption(draw, b, caption)\n",
    "    \n",
    "plt.figure(figsize=(15, 15))\n",
    "plt.axis('off')\n",
    "plt.imshow(draw)\n",
    "plt.show()"
   ]
  },
  {
   "cell_type": "code",
   "execution_count": null,
   "metadata": {},
   "outputs": [],
   "source": []
  }
 ],
 "metadata": {
  "kernelspec": {
   "display_name": "Python 3",
   "language": "python",
   "name": "python3"
  },
  "language_info": {
   "codemirror_mode": {
    "name": "ipython",
    "version": 3
   },
   "file_extension": ".py",
   "mimetype": "text/x-python",
   "name": "python",
   "nbconvert_exporter": "python",
   "pygments_lexer": "ipython3",
   "version": "3.5.2"
  }
 },
 "nbformat": 4,
 "nbformat_minor": 2
}
